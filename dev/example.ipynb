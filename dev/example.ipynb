{
 "cells": [
  {
   "cell_type": "code",
   "execution_count": 13,
   "id": "b63dab43-0daa-4b1e-8397-f00c453edd69",
   "metadata": {},
   "source": [
    "import torch\n",
    "import torch.nn as nn\n",
    "from torch.optim import AdamW\n",
    "from torch.utils.data import DataLoader\n",
    "from transformers import TimeSeriesTransformerConfig, TimeSeriesTransformerForPrediction\n",
    "import matplotlib.pyplot as plt\n",
    "from scipy import stats\n",
    "\n",
    "from core.dataset import MachoDataset\n",
    "from core.trainer import PredictionTrainer, ClassificationTrainer\n",
    "from core.model import ClassificationModel"
   ],
   "outputs": []
  },
  {
   "cell_type": "markdown",
   "id": "856c2a49-ab93-407e-b3a3-3a5d77ca4109",
   "metadata": {},
   "source": [
    "### Data setup"
   ]
  },
  {
   "cell_type": "code",
   "execution_count": 14,
   "id": "cbc969b9-942f-42a5-b306-86e8e07c59ff",
   "metadata": {},
   "source": [
    "data_root = '/home/mrizhko/AML/AstroML/data/macho/'\n",
    "weights_path = '/home/mrizhko/AML/AstroML/weights/model.ckpt'\n",
    "window_length = 200\n",
    "prediction_length = 50"
   ],
   "outputs": []
  },
  {
   "cell_type": "code",
   "execution_count": 15,
   "id": "5dd46198-2ccf-405d-a67b-e38906f012ef",
   "metadata": {},
   "source": [
    "device = torch.device('cuda' if torch.cuda.is_available() else 'cpu')\n",
    "device"
   ],
   "outputs": []
  },
  {
   "cell_type": "code",
   "execution_count": 35,
   "id": "7db26532-44b2-4865-87ec-943fc91efe05",
   "metadata": {},
   "source": [
    "train_dataset = MachoDataset(data_root, prediction_length, window_length=window_length, mode='train', use_errors=False)\n",
    "val_dataset = MachoDataset(data_root, prediction_length, window_length=window_length, mode='val', use_errors=False)\n",
    "test_dataset = MachoDataset(data_root, prediction_length, window_length=window_length, mode='test', use_errors=False)"
   ],
   "outputs": []
  },
  {
   "cell_type": "code",
   "execution_count": 36,
   "id": "af389bd7-23b2-4301-9d11-ea505b6a95a7",
   "metadata": {},
   "source": [
    "past_times, future_times, past_values, future_values, past_mask, future_mask, aux, labels = train_dataset[0]\n",
    "past_times.shape, future_times.shape, past_values.shape, future_values.shape, past_mask.shape, future_mask.shape, aux.shape, labels.shape"
   ],
   "outputs": []
  },
  {
   "cell_type": "code",
   "execution_count": 37,
   "id": "a04dc7b1-ea06-45b4-afc4-808703ddcd18",
   "metadata": {},
   "source": [
    "if train_dataset.use_errors:\n",
    "    plt.errorbar(past_times, past_values[:, 0], past_values[:,1], fmt='o')\n",
    "    plt.errorbar(future_times, future_values[:, 0], future_values[:,1], fmt='o', c='r')\n",
    "else:\n",
    "    plt.scatter(past_times, past_values, c='b')\n",
    "    plt.scatter(future_times, future_values, c='r')  "
   ],
   "outputs": []
  },
  {
   "cell_type": "code",
   "execution_count": 38,
   "id": "f090303d-c498-49c4-b7e1-90022e51edf2",
   "metadata": {},
   "source": [
    "train_dataloader = DataLoader(train_dataset, batch_size=256, shuffle=True)\n",
    "val_dataloader = DataLoader(val_dataset, batch_size=256, shuffle=False)\n",
    "test_dataloader = DataLoader(test_dataset, batch_size=256, shuffle=False)"
   ],
   "outputs": []
  },
  {
   "cell_type": "markdown",
   "id": "b22b226e-18fb-4d69-9464-3aa24f73fae1",
   "metadata": {},
   "source": [
    "### Train prediction model"
   ]
  },
  {
   "cell_type": "code",
   "execution_count": 39,
   "id": "7715c187-c8a1-4773-b76e-531659fdc4b2",
   "metadata": {},
   "source": [
    "config = TimeSeriesTransformerConfig(\n",
    "    prediction_length=prediction_length,\n",
    "    context_length=window_length - prediction_length - 7,  # 7 is max(lags) for default lags\n",
    "    num_time_features=1,\n",
    "    num_static_real_features=3,\n",
    "    encoder_layers=2,\n",
    "    decoder_layers=2,\n",
    "    d_model=64,\n",
    "    distribution_output='normal',\n",
    "    scaling=None\n",
    ")"
   ],
   "outputs": []
  },
  {
   "cell_type": "code",
   "execution_count": 40,
   "id": "60485086-4a6e-47a2-b62e-7da37902abe7",
   "metadata": {},
   "source": [
    "model = TimeSeriesTransformerForPrediction(config)\n",
    "model = model.to(device)"
   ],
   "outputs": []
  },
  {
   "cell_type": "code",
   "execution_count": 41,
   "id": "f1bbb7bd-718e-4bdb-90a5-4e042d8f2284",
   "metadata": {},
   "source": [
    "optimizer = AdamW(model.parameters(), lr=6e-4, betas=(0.9, 0.95), weight_decay=1e-1)"
   ],
   "outputs": []
  },
  {
   "cell_type": "code",
   "execution_count": 42,
   "id": "0218b7f6-cd84-4bb8-a3ba-213b3d3669dc",
   "metadata": {},
   "source": [
    "prediction_trainer = PredictionTrainer(model=model, optimizer=optimizer, device=device)"
   ],
   "outputs": []
  },
  {
   "cell_type": "code",
   "execution_count": 43,
   "id": "b5912168-fd33-46b6-b306-5b42af07794f",
   "metadata": {},
   "source": [
    "prediction_trainer.train(train_dataloader, val_dataloader, epochs=40)"
   ],
   "outputs": []
  },
  {
   "cell_type": "code",
   "execution_count": 44,
   "id": "ed58a7fb-430e-4694-acfa-88b18a2e557c",
   "metadata": {},
   "source": [
    "model.save_pretrained(weights_path)"
   ],
   "outputs": []
  },
  {
   "cell_type": "markdown",
   "id": "79ef3175-d1fc-42b0-831c-834109d35c83",
   "metadata": {},
   "source": [
    "### Evaluate the pretrained model"
   ]
  },
  {
   "cell_type": "code",
   "execution_count": 45,
   "id": "3e29169f-e893-4d5e-9018-7a5546300300",
   "metadata": {},
   "source": [
    "model = TimeSeriesTransformerForPrediction.from_pretrained(weights_path)\n",
    "model = model.to(device)"
   ],
   "outputs": []
  },
  {
   "cell_type": "code",
   "execution_count": 46,
   "id": "25c7c1d0-8091-4276-9a29-ce34c920b875",
   "metadata": {},
   "source": [
    "model.eval()\n",
    "i = 1\n",
    "past_times, future_times, past_values, future_values, past_mask, future_mask, aux, labels = train_dataset[i:i+1]\n",
    "\n",
    "with torch.no_grad():\n",
    "    outputs = model.generate(\n",
    "        past_time_features=past_times.to(device),\n",
    "        past_values=past_values.to(device),\n",
    "        future_time_features=future_times.to(device),\n",
    "        past_observed_mask=past_mask.to(device),\n",
    "        static_real_features=aux.to(device),\n",
    "    )\n",
    "    \n",
    "    if train_dataset.use_errors:\n",
    "        plt.errorbar(past_times[0,:,0], past_values[:,0], past_values[:,1], fmt=\"o\")\n",
    "        plt.errorbar(future_times, future_values[:,0], future_values[:,1], fmt=\"o\", c=\"r\")\n",
    "    else:\n",
    "        plt.scatter(past_times[0,:,0], past_values[0,:], c=\"b\")\n",
    "        plt.scatter(future_times[0,:,0], future_values[0,:], c=\"r\")  \n",
    "        med = outputs.sequences[0,:,:].median(dim=0).values.cpu()\n",
    "        mad = stats.median_abs_deviation(outputs.sequences[:,:,:].cpu(), axis=1, nan_policy=\"omit\")\n",
    "        plt.scatter(future_times[0,:,0].cpu(), med.cpu(), c=\"g\")\n",
    "    \n",
    "        plt.fill_between(\n",
    "            future_times[0,:,0],\n",
    "            (med - mad)[0,:], \n",
    "            (med + mad)[0,:], \n",
    "            alpha=0.3, \n",
    "            interpolate=True,\n",
    "            label=\"+/- 1-std\",\n",
    "            color=\"g\"\n",
    "        )"
   ],
   "outputs": []
  },
  {
   "cell_type": "code",
   "execution_count": 7,
   "id": "92940c10-01f0-48c2-94de-bcc1c57274e1",
   "metadata": {},
   "source": [
    "prediction_trainer = PredictionTrainer(model=model, optimizer=None, device=device)"
   ],
   "outputs": []
  },
  {
   "cell_type": "code",
   "execution_count": 8,
   "id": "a60e4b7e-6557-4bc3-8b7a-82be35b253f9",
   "metadata": {},
   "source": [
    "val_dataloader = DataLoader(val_dataset, batch_size=124, shuffle=False)"
   ],
   "outputs": []
  },
  {
   "cell_type": "code",
   "execution_count": 9,
   "id": "eef5c187-a212-4f50-a7c1-df151c6e6c9f",
   "metadata": {},
   "source": [
    "prediction_trainer.evaluate(val_dataloader, val_dataset)"
   ],
   "outputs": []
  },
  {
   "cell_type": "markdown",
   "id": "63c8e24c-73f2-46df-bb3b-b683be52f457",
   "metadata": {},
   "source": [
    "### Classification training"
   ]
  },
  {
   "cell_type": "code",
   "execution_count": 47,
   "id": "5a300289-8f93-4470-9226-818833b25360",
   "metadata": {},
   "source": [
    "cl_model = ClassificationModel(pretrained_model_path=weights_path, device=device)\n",
    "cl_optimizer = AdamW(cl_model.parameters(), lr=6e-4, betas=(0.9, 0.95), weight_decay=1e-1)\n",
    "cl_criterion = nn.CrossEntropyLoss()"
   ],
   "outputs": []
  },
  {
   "cell_type": "code",
   "execution_count": 48,
   "id": "54365524-9b08-40dc-af87-da7ecda1c389",
   "metadata": {},
   "source": [
    "cl_trainer = ClassificationTrainer(model=cl_model, optimizer=cl_optimizer, criterion=cl_criterion, device=device)"
   ],
   "outputs": []
  },
  {
   "cell_type": "code",
   "execution_count": 49,
   "id": "00e00100-6473-47d8-a4c9-18c64237cef1",
   "metadata": {},
   "source": [
    "balanced_data_root = '/home/mrizhko/AML/AstroML/data/macho-balanced/'\n",
    "\n",
    "train_dataset = MachoDataset(balanced_data_root, prediction_length, window_length=window_length, \n",
    "                             mode='train', use_errors=False)\n",
    "val_dataset = MachoDataset(balanced_data_root, prediction_length, window_length=window_length, \n",
    "                           mode='val', use_errors=False)\n",
    "test_dataset = MachoDataset(balanced_data_root, prediction_length, window_length=window_length, \n",
    "                            mode='test', use_errors=False)\n",
    "\n",
    "train_dataloader = DataLoader(train_dataset, batch_size=256, shuffle=True)\n",
    "val_dataloader = DataLoader(val_dataset, batch_size=256, shuffle=False)\n",
    "test_dataloader = DataLoader(test_dataset, batch_size=256, shuffle=False)"
   ],
   "outputs": []
  },
  {
   "cell_type": "code",
   "execution_count": 50,
   "id": "eae87fa0-01ec-497d-ac66-4c8697756a31",
   "metadata": {},
   "source": [
    "cl_trainer.train(train_dataloader, val_dataloader, epochs=100)"
   ],
   "outputs": []
  },
  {
   "cell_type": "code",
   "execution_count": 51,
   "id": "e74e8521-b3b3-4c61-98e6-842f56cf056b",
   "metadata": {},
   "source": [
    "cl_trainer.evaluate(test_dataloader)"
   ],
   "outputs": []
  },
  {
   "cell_type": "code",
   "execution_count": null,
   "id": "227bb6dd-c3e3-4a91-a474-d5f5e3e936e0",
   "metadata": {},
   "source": [],
   "outputs": []
  },
  {
   "cell_type": "code",
   "execution_count": null,
   "id": "e7813e4e-df88-499e-982c-60a77c7b9581",
   "metadata": {},
   "source": [],
   "outputs": []
  },
  {
   "cell_type": "code",
   "execution_count": null,
   "id": "3cabd6db-78bf-4f05-8b6b-e5c28562fd5c",
   "metadata": {},
   "source": [],
   "outputs": []
  },
  {
   "cell_type": "code",
   "execution_count": null,
   "id": "1f4ce308-b1dd-402d-be63-ec5012d7a68a",
   "metadata": {},
   "source": [],
   "outputs": []
  },
  {
   "cell_type": "code",
   "execution_count": null,
   "id": "c56527a9-eee5-47af-b797-68888af85a9f",
   "metadata": {},
   "source": [],
   "outputs": []
  },
  {
   "cell_type": "code",
   "execution_count": null,
   "id": "343fb4f9-4c2f-40da-a822-35d2bb5dceb5",
   "metadata": {},
   "source": [],
   "outputs": []
  },
  {
   "cell_type": "code",
   "execution_count": null,
   "id": "d56df2fb-96f1-477a-8936-925737dd82c3",
   "metadata": {},
   "source": [],
   "outputs": []
  }
 ],
 "metadata": {
  "kernelspec": {
   "display_name": "Python 3 (ipykernel)",
   "language": "python",
   "name": "python3"
  },
  "language_info": {
   "codemirror_mode": {
    "name": "ipython",
    "version": 3
   },
   "file_extension": ".py",
   "mimetype": "text/x-python",
   "name": "python",
   "nbconvert_exporter": "python",
   "pygments_lexer": "ipython3",
   "version": "3.10.12"
  }
 },
 "nbformat": 4,
 "nbformat_minor": 5
}

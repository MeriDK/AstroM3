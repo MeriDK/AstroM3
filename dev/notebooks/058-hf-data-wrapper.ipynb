{
 "cells": [
  {
   "cell_type": "code",
   "execution_count": 153,
   "id": "3a99fa36-2fe8-45e6-a931-341956c3b692",
   "metadata": {},
   "source": [
    "import sys\n",
    "sys.path.insert(0, '..')\n",
    "\n",
    "from datasets import load_dataset\n",
    "from torch.utils.data import Dataset\n",
    "import matplotlib.pyplot as plt\n",
    "import numpy as np\n",
    "from scipy import stats\n",
    "import wandb\n",
    "from tqdm import tqdm\n",
    "import pandas as pd\n",
    "import torch\n",
    "\n",
    "from core.dataset import PSMDataset"
   ],
   "outputs": []
  },
  {
   "cell_type": "code",
   "execution_count": 116,
   "id": "3aa624e4-fb17-47f6-9d0f-ef595820c94f",
   "metadata": {},
   "source": [
    "class HFPSMDataset(Dataset):\n",
    "    def __init__(self, ds, classes, seq_len, split='train'):\n",
    "        super(HFPSMDataset, self).__init__()\n",
    "\n",
    "        self.ds = ds[split]\n",
    "        self.ds = self.ds.with_format('numpy')\n",
    "        self.seq_len = seq_len\n",
    "        self.split = split\n",
    "\n",
    "        self.id2label = {i: x for i, x in enumerate(sorted(classes))}\n",
    "        self.label2id = {v: k for k, v in self.id2label.items()}\n",
    "        self.num_classes = len(classes)\n",
    "\n",
    "    def preprocess_lc(self, X, aux_values):\n",
    "        # Remove duplicate entries\n",
    "        X = np.unique(X, axis=0)\n",
    "\n",
    "        # Sort based on HJD\n",
    "        sorted_indices = np.argsort(X[:, 0])\n",
    "        X = X[sorted_indices]\n",
    "\n",
    "        # Normalize\n",
    "        mean = X[:, 1].mean()\n",
    "        mad = stats.median_abs_deviation(X[:, 1])\n",
    "        X[:, 1] = (X[:, 1] - mean) / mad\n",
    "        X[:, 2] = X[:, 2] / mad\n",
    "\n",
    "        # Save delta t before scaling\n",
    "        delta_t = (X[:, 0].max() - X[:, 0].min()) / 365\n",
    "\n",
    "        # Scale time from 0 to 1\n",
    "        X[:, 0] = (X[:, 0] - X[:, 0].min()) / (X[:, 0].max() - X[:, 0].min())\n",
    "\n",
    "        # Trim if longer than seq_len\n",
    "        if X.shape[0] > self.seq_len:\n",
    "            if self.split == 'train':   # random crop\n",
    "                start = np.random.randint(0, len(X) - self.seq_len)\n",
    "            else:  # 'center'\n",
    "                start = (len(X) - self.seq_len) // 2\n",
    "\n",
    "            X = X[start:start + self.seq_len, :]\n",
    "\n",
    "        # Pad if needed and create mask\n",
    "        mask = np.ones(self.seq_len)\n",
    "        if X.shape[0] < self.seq_len:\n",
    "            mask[X.shape[0]:] = 0\n",
    "            X = np.pad(X, ((0, self.seq_len - X.shape[0]), (0, 0)), 'constant', constant_values=(0,))\n",
    "\n",
    "        # Add mad and delta t to aux\n",
    "        aux_values = np.concatenate((aux_values, [np.log10(mad), delta_t]))  \n",
    "\n",
    "        # Add aux to X\n",
    "        aux_values = np.tile(aux_values, (self.seq_len, 1))\n",
    "        X = np.concatenate((X, aux_values), axis=-1)\n",
    "\n",
    "        # Convert X and mask from float64 to float32\n",
    "        X = X.astype(np.float32)\n",
    "        mask = mask.astype(np.float32)\n",
    "\n",
    "        return X, mask\n",
    "\n",
    "    def preprocess_spectra(self, spectra):\n",
    "        wavelengths = spectra[:, 0]\n",
    "        flux = spectra[:, 1]\n",
    "        flux_err = spectra[:, 2]\n",
    "\n",
    "        new_wavelengths = np.arange(3850, 9000, 2)\n",
    "        flux = np.interp(new_wavelengths, wavelengths, flux)\n",
    "        flux_err = np.interp(new_wavelengths, wavelengths, flux_err)\n",
    "\n",
    "        mean = np.mean(flux)\n",
    "        mad = stats.median_abs_deviation(flux[flux != 0])\n",
    "        \n",
    "        flux = (flux - mean) / mad\n",
    "        flux_err = flux_err / mad\n",
    "        aux_values = np.full_like(flux, np.log10(mad))\n",
    "\n",
    "        spectra = np.vstack([flux, flux_err, aux_values]).astype(np.float32)\n",
    "\n",
    "        return spectra\n",
    "\n",
    "    def __len__(self):\n",
    "        return len(self.ds)\n",
    "\n",
    "    def __getitem__(self, idx):\n",
    "        el = self.ds[idx]\n",
    "        \n",
    "        label = self.label2id[el['label']]\n",
    "        metadata = np.array(list(el['metadata']['meta_cols'].values()))\n",
    "\n",
    "        photo_cols = np.array(list(el['metadata']['photo_cols'].values()))\n",
    "        photometry, photometry_mask = self.preprocess_lc(el['photometry'], photo_cols)\n",
    "\n",
    "        spectra = self.preprocess_spectra(el['spectra'])\n",
    "\n",
    "        return photometry, photometry_mask, spectra, metadata, label"
   ],
   "outputs": []
  },
  {
   "cell_type": "code",
   "execution_count": 37,
   "id": "133a2ff5-086e-4b78-8dd2-3bd3aadd740b",
   "metadata": {},
   "source": [
    "CLASSES = ['EW', 'SR', 'EA', 'RRAB', 'EB', 'ROT', 'RRC', 'HADS', 'M', 'DSCT']"
   ],
   "outputs": []
  },
  {
   "cell_type": "code",
   "execution_count": 130,
   "id": "9c23852d-22e7-466f-9e53-7f919c128708",
   "metadata": {},
   "source": [
    "ds = load_dataset('MeriDK/AstroM3Processed', name='full_42')"
   ],
   "outputs": []
  },
  {
   "cell_type": "code",
   "execution_count": 131,
   "id": "1e551e7c-7250-4f99-9132-ce57fe87c482",
   "metadata": {},
   "source": [
    "hf_train_dataset = HFPSMDataset(ds, classes=CLASSES, seq_len=200, split='train')\n",
    "hf_val_dataset = HFPSMDataset(ds, classes=CLASSES, seq_len=200, split='validation')\n",
    "hf_test_dataset = HFPSMDataset(ds, classes=CLASSES, seq_len=200, split='test')"
   ],
   "outputs": []
  },
  {
   "cell_type": "code",
   "execution_count": 114,
   "id": "ea815aa5-40c4-4e45-b190-d01e561bc4bb",
   "metadata": {},
   "source": [
    "for el in tqdm(hf_train_dataset):\n",
    "    pass"
   ],
   "outputs": []
  },
  {
   "cell_type": "code",
   "execution_count": 120,
   "id": "7a653831-8d29-436b-8358-0b45832d80de",
   "metadata": {},
   "source": [
    "len(hf_train_dataset), len(hf_val_dataset), len(hf_test_dataset)"
   ],
   "outputs": []
  },
  {
   "cell_type": "code",
   "execution_count": 121,
   "id": "7a82bf74-2555-42a0-b4dc-f4964cc63797",
   "metadata": {},
   "source": [
    "api = wandb.Api()\n",
    "run = api.run('meridk/AstroCLIPResults3/runs/3c2da15u')\n",
    "config = run.config\n",
    "config['use_wandb'] = False"
   ],
   "outputs": []
  },
  {
   "cell_type": "code",
   "execution_count": 122,
   "id": "d581b27a-5e70-4382-874b-b2fd860881f9",
   "metadata": {},
   "source": [
    "train_dataset = PSMDataset(config, split='train')\n",
    "val_dataset = PSMDataset(config, split='val')\n",
    "test_dataset = PSMDataset(config, split='test')"
   ],
   "outputs": []
  },
  {
   "cell_type": "code",
   "execution_count": 143,
   "id": "9e23ca03-9c09-4af2-a9ee-d318e2a959e7",
   "metadata": {},
   "source": [
    "df = pd.read_csv('/home/mariia/AstroML/data/asassn/preprocessed_data/full_lb/spectra_and_v_train.csv')"
   ],
   "outputs": []
  },
  {
   "cell_type": "code",
   "execution_count": 147,
   "id": "6d133b9a-eca2-4a78-a1b2-3d29eb56e09b",
   "metadata": {},
   "source": [
    "df.iloc[0][train_dataset.meta_cols].values.astype(np.float64)"
   ],
   "outputs": []
  },
  {
   "cell_type": "code",
   "execution_count": 148,
   "id": "4207940b-e83c-4d40-9212-8b3e0476ef14",
   "metadata": {},
   "source": [
    "p, pm, s, m, l = train_dataset[0]\n",
    "hp, hpm, hs, hm, hl = hf_train_dataset[0]"
   ],
   "outputs": []
  },
  {
   "cell_type": "code",
   "execution_count": 150,
   "id": "0f05530d-822a-4614-a9ef-307c472846fa",
   "metadata": {},
   "source": [
    "len(hm)"
   ],
   "outputs": []
  },
  {
   "cell_type": "code",
   "execution_count": 151,
   "id": "820199d5-09d2-4d56-b270-25fa8c72028a",
   "metadata": {},
   "source": [
    "hm.dtype"
   ],
   "outputs": []
  },
  {
   "cell_type": "code",
   "execution_count": 138,
   "id": "7a39501a-4cf8-4b8a-af00-be5e056ea006",
   "metadata": {},
   "source": [
    "hp, hpm, hs, hm, hl = hf_train_dataset[0]\n",
    "hm.dtype"
   ],
   "outputs": []
  },
  {
   "cell_type": "code",
   "execution_count": 159,
   "id": "01a37ed1-c79c-4e80-80fb-5b4ea4856495",
   "metadata": {},
   "source": [
    "hs.shape"
   ],
   "outputs": []
  },
  {
   "cell_type": "code",
   "execution_count": 123,
   "id": "00eab359-e565-49a3-8b14-a7012074f6d9",
   "metadata": {},
   "source": [
    "len(train_dataset), len(val_dataset), len(test_dataset)"
   ],
   "outputs": []
  },
  {
   "cell_type": "code",
   "execution_count": 126,
   "id": "c3ca6aa5-436e-4491-ba0b-c1b98ece6c4c",
   "metadata": {},
   "source": [
    "m"
   ],
   "outputs": []
  },
  {
   "cell_type": "code",
   "execution_count": 129,
   "id": "f191236d-7b09-4fca-a370-ae5f69ef86df",
   "metadata": {},
   "source": [
    "hm"
   ],
   "outputs": []
  },
  {
   "cell_type": "code",
   "execution_count": 60,
   "id": "9ddfba40-c816-4863-8461-0d14ed57ee4b",
   "metadata": {},
   "source": [
    "l == hl"
   ],
   "outputs": []
  },
  {
   "cell_type": "code",
   "execution_count": 66,
   "id": "596a2ae3-14ba-4439-a110-30ae5f5046ef",
   "metadata": {},
   "source": [
    "p.shape == hp.shape, pm.shape == hpm.shape, s.shape == hs.shape, m.shape == hm.shape"
   ],
   "outputs": []
  },
  {
   "cell_type": "code",
   "execution_count": 78,
   "id": "575003a5-756f-452d-beee-5c4be49751ab",
   "metadata": {},
   "source": [
    "np.array_equal(p[:, :3], hp[:, :3]), np.array_equal(pm, hpm), np.array_equal(s, hs)"
   ],
   "outputs": []
  },
  {
   "cell_type": "code",
   "execution_count": 98,
   "id": "6c497e2e-562d-40bf-8530-f0e3a630483e",
   "metadata": {},
   "source": [
    "p[1, :3], hp[1, :3]"
   ],
   "outputs": []
  },
  {
   "cell_type": "code",
   "execution_count": 97,
   "id": "980b0e83-72e9-4837-82df-2ee3bbeeb7bb",
   "metadata": {},
   "source": [
    "np.abs(p[:, :3] - hp[:, :3]) / p[:, :3] > 0.001"
   ],
   "outputs": []
  },
  {
   "cell_type": "code",
   "execution_count": 79,
   "id": "fa40d349-6063-454f-97f6-23a418f2b63a",
   "metadata": {},
   "source": [
    "p[:, :3][1], hp[:, :3][1]"
   ],
   "outputs": []
  },
  {
   "cell_type": "code",
   "execution_count": 105,
   "id": "e78868bf-7362-4c44-8298-18d520eb627b",
   "metadata": {},
   "source": [
    "el = train_dataset.df.iloc[0]\n",
    "p = train_dataset.get_vlc(el['name'])"
   ],
   "outputs": []
  },
  {
   "cell_type": "code",
   "execution_count": 106,
   "id": "35f15354-1500-4621-a123-af1686a0c6ac",
   "metadata": {},
   "source": [
    "hp = ds['train'][0]['photometry']"
   ],
   "outputs": []
  },
  {
   "cell_type": "code",
   "execution_count": 90,
   "id": "c2493d82-32b8-4d81-a8e7-7eaa7bab8924",
   "metadata": {},
   "source": [
    "np.array_equal(p, hp)"
   ],
   "outputs": []
  },
  {
   "cell_type": "code",
   "execution_count": 91,
   "id": "fe7d7a4a-d55e-4531-b0a3-5162218ffa13",
   "metadata": {},
   "source": [
    "p.dtype, hp.dtype"
   ],
   "outputs": []
  },
  {
   "cell_type": "code",
   "execution_count": 108,
   "id": "e8c76c9c-43af-4765-8f56-0cd29b940643",
   "metadata": {},
   "source": [
    "ds2 = load_dataset('MeriDK/AstroM3Dataset', name='sub10_42', trust_remote_code=True)\n",
    "ds2 = ds2.with_format('numpy')"
   ],
   "outputs": []
  },
  {
   "cell_type": "code",
   "execution_count": 109,
   "id": "f93c55d0-b1a8-425e-93af-1677ebb5076e",
   "metadata": {},
   "source": [
    "hp2 = ds2['train'][0]['photometry']"
   ],
   "outputs": []
  },
  {
   "cell_type": "code",
   "execution_count": 110,
   "id": "bc743b64-588b-4b64-bf15-404bc6584b38",
   "metadata": {},
   "source": [
    "p[0], hp[0], hp2[0]"
   ],
   "outputs": []
  },
  {
   "cell_type": "code",
   "execution_count": 112,
   "id": "d7afd130-3cad-4e53-8897-7f91d5aa248b",
   "metadata": {},
   "source": [
    "np.abs(p - hp) > 0.001"
   ],
   "outputs": []
  },
  {
   "cell_type": "code",
   "execution_count": null,
   "id": "5a5937bb-ee36-4dbc-9435-e7341edd8fed",
   "metadata": {},
   "source": [],
   "outputs": []
  },
  {
   "cell_type": "code",
   "execution_count": null,
   "id": "195e78e7-b8aa-4405-a596-3fbe2c92d66b",
   "metadata": {},
   "source": [],
   "outputs": []
  },
  {
   "cell_type": "code",
   "execution_count": 156,
   "id": "15b143a8-1299-43cb-a3dc-05b6752c432e",
   "metadata": {},
   "source": [
    "weights = torch.load(\"/home/mariia/AstroML/weights/2024-09-18-13-37-2wz4ysvn/weights-best.pth\", weights_only=True)"
   ],
   "outputs": []
  },
  {
   "cell_type": "code",
   "execution_count": 158,
   "id": "de9efaae-20fd-42c9-880e-788c19fbf0e6",
   "metadata": {},
   "source": [
    "weights.keys()"
   ],
   "outputs": []
  },
  {
   "cell_type": "code",
   "execution_count": null,
   "id": "dce7599f-d0e3-459b-8125-9790c7f40a50",
   "metadata": {},
   "source": [],
   "outputs": []
  }
 ],
 "metadata": {
  "kernelspec": {
   "display_name": "Python 3 (ipykernel)",
   "language": "python",
   "name": "python3"
  },
  "language_info": {
   "codemirror_mode": {
    "name": "ipython",
    "version": 3
   },
   "file_extension": ".py",
   "mimetype": "text/x-python",
   "name": "python",
   "nbconvert_exporter": "python",
   "pygments_lexer": "ipython3",
   "version": "3.10.14"
  }
 },
 "nbformat": 4,
 "nbformat_minor": 5
}

{
 "cells": [
  {
   "cell_type": "code",
   "execution_count": 1,
   "id": "89a2a881-6074-4593-9e7d-09b228a6d3dd",
   "metadata": {},
   "outputs": [],
   "source": [
    "import sys\n",
    "sys.path.insert(0, '..')\n",
    "\n",
    "import chromadb\n",
    "from chromadb import Client, Settings\n",
    "import torch\n",
    "import os\n",
    "import wandb\n",
    "import random\n",
    "import numpy as np\n",
    "import torch\n",
    "from datetime import datetime\n",
    "import matplotlib.pyplot as plt\n",
    "import pandas as pd\n",
    "from tqdm import tqdm\n",
    "import joblib\n",
    "\n",
    "from core.dataset import PSMDataset\n",
    "from core.model import GalSpecNet, MetaModel, Informer, AstroM3"
   ]
  },
  {
   "cell_type": "code",
   "execution_count": 2,
   "id": "6bdcdb2c-a941-4ae0-af0a-e6d7961e579d",
   "metadata": {},
   "outputs": [],
   "source": [
    "CLASSES = ['EW', 'SR', 'EA', 'RRAB', 'EB', 'ROT', 'RRC', 'HADS', 'M', 'DSCT']\n",
    "\n",
    "METADATA_COLS = [\n",
    "    'mean_vmag',  'phot_g_mean_mag', 'e_phot_g_mean_mag', 'phot_bp_mean_mag', 'e_phot_bp_mean_mag', 'phot_rp_mean_mag', 'e_phot_rp_mean_mag',\n",
    "    'bp_rp', 'parallax', 'parallax_error', 'parallax_over_error', 'pmra', 'pmra_error', 'pmdec',\n",
    "    'pmdec_error', 'j_mag', 'e_j_mag', 'h_mag', 'e_h_mag', 'k_mag', 'e_k_mag', 'w1_mag', 'e_w1_mag',\n",
    "    'w2_mag', 'e_w2_mag', 'w3_mag', 'w4_mag', 'j_k', 'w1_w2', 'w3_w4', 'pm', 'ruwe', 'l', 'b'\n",
    "]\n",
    "\n",
    "PHOTO_COLS = ['amplitude', 'period', 'lksl_statistic', 'rfr_score']\n",
    "\n",
    "METADATA_FUNC = {\n",
    "    \"abs\": [\n",
    "        \"mean_vmag\",\n",
    "        \"phot_g_mean_mag\",\n",
    "        \"phot_bp_mean_mag\",\n",
    "        \"phot_rp_mean_mag\",\n",
    "        \"j_mag\",\n",
    "        \"h_mag\",\n",
    "        \"k_mag\",\n",
    "        \"w1_mag\",\n",
    "        \"w2_mag\",\n",
    "        \"w3_mag\",\n",
    "        \"w4_mag\",\n",
    "    ],\n",
    "    \"cos\": [\"l\"],\n",
    "    \"sin\": [\"b\"],\n",
    "    \"log\": [\"period\"]\n",
    "}\n",
    "\n",
    "BOOK = [\"id\", \"source_id\", \"asassn_name\", \"other_names\", \"raj2000\", \"dej2000\", \"epoch_hjd\", \"gdr2_id\", \"allwise_id\", \"apass_dr9_id\", \"edr3_source_id\", \"galex_id\", \"tic_id\"]\n",
    "\n",
    "LAMOST_DIR = '/home/mariia/AstroML/data/asassn/Spectra/v2'"
   ]
  },
  {
   "cell_type": "code",
   "execution_count": 3,
   "id": "13cc778e-dfcb-4fd2-80ea-e46ad0615063",
   "metadata": {},
   "outputs": [
    {
     "data": {
      "text/plain": [
       "<All keys matched successfully>"
      ]
     },
     "execution_count": 3,
     "metadata": {},
     "output_type": "execute_result"
    }
   ],
   "source": [
    "run_id = 'MeriDK/AstroCLIPOptuna3/nksu4l24'\n",
    "api = wandb.Api()\n",
    "run = api.run(run_id)\n",
    "config = run.config\n",
    "config['use_wandb'] = False\n",
    "\n",
    "model = AstroM3(config)\n",
    "device = torch.device('cuda:1' if torch.cuda.is_available() else 'cpu')\n",
    "model = model.to(device)\n",
    "model.eval()\n",
    "\n",
    "weights_path = os.path.join(config['weights_path'] + '-' + run_id.split('/')[-1], f'weights-best.pth')\n",
    "model.load_state_dict(torch.load(weights_path, weights_only=False))"
   ]
  },
  {
   "cell_type": "code",
   "execution_count": 4,
   "id": "06a22022-a041-4968-99d4-7c2796b2f925",
   "metadata": {},
   "outputs": [],
   "source": [
    "# this functions is from 028-meta-change.ipynb\n",
    "def transform(df):\n",
    "    for transformation_type, value in METADATA_FUNC.items():\n",
    "        if transformation_type == \"abs\":\n",
    "            for col in value:\n",
    "                df[col] = (\n",
    "                    df[col] - 10 + 5 * np.log10(np.where(df[\"parallax\"] <= 0, 1, df[\"parallax\"]))\n",
    "                )\n",
    "        elif transformation_type == \"cos\":\n",
    "            for col in value:\n",
    "                df[col] = np.cos(np.radians(df[col]))\n",
    "        elif transformation_type == \"sin\":\n",
    "            for col in value:\n",
    "                df[col] = np.sin(np.radians(df[col]))\n",
    "        elif transformation_type == \"log\":\n",
    "            for col in value:\n",
    "                df[col] = np.log10(df[col])"
   ]
  },
  {
   "cell_type": "code",
   "execution_count": 5,
   "id": "fe2a04e1-7abd-4894-92c0-60ea2f1b4f1e",
   "metadata": {},
   "outputs": [
    {
     "name": "stderr",
     "output_type": "stream",
     "text": [
      "/tmp/ipykernel_41309/1210167942.py:1: DtypeWarning: Columns (69) have mixed types. Specify dtype option on import or set low_memory=False.\n",
      "  df_org = pd.read_csv('/home/mariia/AstroML/data/asassn/asassn_catalog_full.csv')\n",
      "/global/home/users/mariia/miniforge3/envs/astro/lib/python3.10/site-packages/sklearn/base.py:376: InconsistentVersionWarning: Trying to unpickle estimator StandardScaler from version 1.5.1 when using version 1.5.2. This might lead to breaking code or invalid results. Use at your own risk. For more info please refer to:\n",
      "https://scikit-learn.org/stable/model_persistence.html#security-maintainability-limitations\n",
      "  warnings.warn(\n"
     ]
    }
   ],
   "source": [
    "df_org = pd.read_csv('/home/mariia/AstroML/data/asassn/asassn_catalog_full.csv')\n",
    "df_v = pd.read_csv('/home/mariia/AstroML/data/asassn/preprocessed_data/full_lb/v.csv')\n",
    "df_s = pd.read_csv('/home/mariia/AstroML/data/asassn/Spectra/lamost_spec.csv')\n",
    "scaler = joblib.load('/home/mariia/AstroML/data/asassn/preprocessed_data/full_lb/scaler.pkl')\n",
    "\n",
    "# change the name column in df_org so it matches df_v\n",
    "df_org['asassn_name'] = df_org['asassn_name'].apply(lambda x: x.replace(' ', ''))\n",
    "\n",
    "# drop filename duplicates from spectra df\n",
    "df_s = df_s.drop_duplicates(subset=['spec_filename'])\n",
    "\n",
    "# save the period, it'll be used for plots\n",
    "df_v.loc[:, 'org_period'] = df_v['period']\n",
    "\n",
    "# do the metadata and photo aux transformations\n",
    "transform(df_v)\n",
    "\n",
    "# normalize the metadata and photo aux\n",
    "cols = METADATA_COLS + PHOTO_COLS\n",
    "df_v.loc[:, cols] = scaler.transform(df_v[cols])"
   ]
  },
  {
   "cell_type": "code",
   "execution_count": 6,
   "id": "8df0f77f-a2a1-4610-9a8d-8e95660c4c49",
   "metadata": {},
   "outputs": [],
   "source": [
    "ds = PSMDataset(config)"
   ]
  },
  {
   "cell_type": "code",
   "execution_count": 7,
   "id": "5d1cf21c-02e4-43a7-9a48-77e194114575",
   "metadata": {},
   "outputs": [],
   "source": [
    "chroma_client = chromadb.PersistentClient(path='/home/mariia/AstroML/notebooks/chromadb')\n",
    "photo_collection = chroma_client.get_or_create_collection(name='photo')"
   ]
  },
  {
   "cell_type": "code",
   "execution_count": null,
   "id": "9ac92ac3-ee76-414f-96bd-0d9c48f9d896",
   "metadata": {},
   "outputs": [
    {
     "name": "stderr",
     "output_type": "stream",
     "text": [
      " 14%|████████▉                                                        | 59652/435615 [1:24:26<8:06:10, 12.89it/s]IOPub message rate exceeded.\n",
      "The Jupyter server will temporarily stop sending output\n",
      "to the client in order to avoid crashing it.\n",
      "To change this limit, set the config variable\n",
      "`--ServerApp.iopub_msg_rate_limit`.\n",
      "\n",
      "Current values:\n",
      "ServerApp.iopub_msg_rate_limit=1000.0 (msgs/sec)\n",
      "ServerApp.rate_limit_window=3.0 (secs)\n",
      "\n",
      " 44%|████████████████████████████                                    | 191332/435615 [4:29:23<5:15:19, 12.91it/s]IOPub message rate exceeded.\n",
      "The Jupyter server will temporarily stop sending output\n",
      "to the client in order to avoid crashing it.\n",
      "To change this limit, set the config variable\n",
      "`--ServerApp.iopub_msg_rate_limit`.\n",
      "\n",
      "Current values:\n",
      "ServerApp.iopub_msg_rate_limit=1000.0 (msgs/sec)\n",
      "ServerApp.rate_limit_window=3.0 (secs)\n",
      "\n",
      " 73%|██████████████████████████████████████████████▍                 | 316218/435615 [7:42:45<3:16:52, 10.11it/s]"
     ]
    }
   ],
   "source": [
    "for _, el in tqdm(df_v.iterrows(), total=len(df_v)):\n",
    "    photometry = ds.get_vlc(el['name'])\n",
    "    photometry, photometry_mask = ds.preprocess_lc(photometry, None, list(el[PHOTO_COLS]))\n",
    "    \n",
    "    photometry, photometry_mask = torch.from_numpy(photometry), torch.from_numpy(photometry_mask)\n",
    "    photometry, photometry_mask = photometry.unsqueeze(0), photometry_mask.unsqueeze(0)\n",
    "    photometry, photometry_mask = photometry.to(device), photometry_mask.to(device)\n",
    "    \n",
    "    with torch.no_grad():\n",
    "        p_emb = model.photometry_encoder(photometry, photometry_mask)\n",
    "        p_emb = model.photometry_proj(p_emb)\n",
    "        p_emb = p_emb.squeeze().detach().cpu().numpy()\n",
    "        \n",
    "    photo_collection.add(\n",
    "        embeddings=p_emb,\n",
    "        metadatas={'name': el['name'], 'target': el['target']},\n",
    "        ids=el['id']\n",
    "    )"
   ]
  },
  {
   "cell_type": "code",
   "execution_count": null,
   "id": "89cc2427-3ae5-4a82-815d-c9eb67e98e3a",
   "metadata": {},
   "outputs": [],
   "source": []
  },
  {
   "cell_type": "code",
   "execution_count": null,
   "id": "0d1e0223-c58c-46a4-b335-587c46094046",
   "metadata": {},
   "outputs": [],
   "source": []
  },
  {
   "cell_type": "code",
   "execution_count": null,
   "id": "03067a73-e95d-4d43-9755-6aa539ad6679",
   "metadata": {},
   "outputs": [],
   "source": []
  },
  {
   "cell_type": "code",
   "execution_count": null,
   "id": "7dbf94c2-54dc-4bfc-a941-c814bb7bb072",
   "metadata": {},
   "outputs": [],
   "source": []
  }
 ],
 "metadata": {
  "kernelspec": {
   "display_name": "Python 3 (ipykernel)",
   "language": "python",
   "name": "python3"
  },
  "language_info": {
   "codemirror_mode": {
    "name": "ipython",
    "version": 3
   },
   "file_extension": ".py",
   "mimetype": "text/x-python",
   "name": "python",
   "nbconvert_exporter": "python",
   "pygments_lexer": "ipython3",
   "version": "3.10.14"
  }
 },
 "nbformat": 4,
 "nbformat_minor": 5
}

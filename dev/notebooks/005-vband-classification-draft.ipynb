{
 "cells": [
  {
   "cell_type": "code",
   "execution_count": 1,
   "id": "f43b6596-b2ff-442e-a47c-b8c26b20c4ac",
   "metadata": {},
   "outputs": [],
   "source": [
    "import sys\n",
    "\n",
    "sys.path.insert(0, '..')"
   ]
  },
  {
   "cell_type": "code",
   "execution_count": 2,
   "id": "419e394a-cbd7-4bf5-868f-f0b7411f9749",
   "metadata": {},
   "outputs": [
    {
     "name": "stderr",
     "output_type": "stream",
     "text": [
      "/home/mrizhko/anaconda3/envs/period/lib/python3.10/site-packages/tqdm/auto.py:21: TqdmWarning: IProgress not found. Please update jupyter and ipywidgets. See https://ipywidgets.readthedocs.io/en/stable/user_install.html\n",
      "  from .autonotebook import tqdm as notebook_tqdm\n"
     ]
    }
   ],
   "source": [
    "import os\n",
    "import numpy as np\n",
    "import random\n",
    "import torch\n",
    "import torch.nn as nn\n",
    "from torch.optim import Adam\n",
    "from torch.utils.data import DataLoader\n",
    "import torch.nn.functional as F\n",
    "from transformers import TimeSeriesTransformerConfig, TimeSeriesTransformerForPrediction, TimeSeriesTransformerModel \n",
    "from transformers.models.time_series_transformer.modeling_time_series_transformer import TimeSeriesTransformerEncoder\n",
    "import matplotlib.pyplot as plt\n",
    "from torch.optim.lr_scheduler import ReduceLROnPlateau\n",
    "from scipy import stats\n",
    "import json \n",
    "from tqdm import tqdm\n",
    "from sklearn.metrics import confusion_matrix\n",
    "import seaborn as sns\n",
    "\n",
    "from core.dataset import MachoDataset\n",
    "from core.trainer import PredictionTrainer, ClassificationTrainer\n",
    "from core.model import ClassificationModel\n",
    "\n",
    "from pathlib import Path\n",
    "from core.dataset_multimodal import collate_fn, ASASSNVarStarDataset\n",
    "from functools import partial\n",
    "import matplotlib.pyplot as plt"
   ]
  },
  {
   "cell_type": "code",
   "execution_count": 3,
   "id": "e450f854-706a-4371-b5aa-a727f227ffbb",
   "metadata": {},
   "outputs": [],
   "source": [
    "random_seed = 42\n",
    "torch.manual_seed(random_seed)\n",
    "np.random.seed(random_seed)\n",
    "random.seed(random_seed)\n",
    "torch.backends.cudnn.deterministic = True"
   ]
  },
  {
   "cell_type": "code",
   "execution_count": 4,
   "id": "71d09e5b-1aab-4b76-95cb-0e70ade41741",
   "metadata": {},
   "outputs": [
    {
     "name": "stdout",
     "output_type": "stream",
     "text": [
      "Opening v data files... Found 687695 sources. done.\n",
      "Opening spectra csv... done.\n",
      "Keeping only v band sources with spectra... Left with 26412 sources. done.\n",
      "Removing duplicates for v band... Left with 25961. done.\n",
      "Removed non-periodic sources. Now 22884 sources.\n",
      "Total: 22884, Train: 18307, Val: 2288, Test: 2289\n",
      "Priming tarballs by doing initial scan... done.\n"
     ]
    }
   ],
   "source": [
    "datapath = Path('../data/asaasn')\n",
    "ds_train = ASASSNVarStarDataset(datapath, mode='train', verbose=True, only_periodic=True, recalc_period=False, \n",
    "                                prime=True, use_bands=['v'], only_sources_with_spectra=True, return_phased=True, \n",
    "                                fill_value=0)"
   ]
  },
  {
   "cell_type": "code",
   "execution_count": 5,
   "id": "9a039910-3f82-497f-9103-ba7364435c8a",
   "metadata": {},
   "outputs": [
    {
     "name": "stdout",
     "output_type": "stream",
     "text": [
      "Opening v data files... Found 687695 sources. done.\n",
      "Opening spectra csv... done.\n",
      "Keeping only v band sources with spectra... Left with 26412 sources. done.\n",
      "Removing duplicates for v band... Left with 25961. done.\n",
      "Removed non-periodic sources. Now 22884 sources.\n",
      "Total: 22884, Train: 18307, Val: 2288, Test: 2289\n",
      "Priming tarballs by doing initial scan... done.\n"
     ]
    }
   ],
   "source": [
    "ds_val = ASASSNVarStarDataset(datapath, mode='val', verbose=True, only_periodic=True, recalc_period=False, \n",
    "                              prime=True, use_bands=['v'], only_sources_with_spectra=True, return_phased=True, fill_value=0)"
   ]
  },
  {
   "cell_type": "code",
   "execution_count": 12,
   "id": "8b650a3c-5060-45b2-ab5a-662a49a55294",
   "metadata": {},
   "outputs": [
    {
     "name": "stdout",
     "output_type": "stream",
     "text": [
      "Opening v data files... Found 687695 sources. done.\n",
      "Opening spectra csv... done.\n",
      "Keeping only v band sources with spectra... Left with 26412 sources. done.\n",
      "Removing duplicates for v band... Left with 25961. done.\n",
      "Removed non-periodic sources. Now 22884 sources.\n",
      "Total: 22884, Train: 18307, Val: 2288, Test: 2289\n",
      "Priming tarballs by doing initial scan... done.\n"
     ]
    }
   ],
   "source": [
    "ds_all = ASASSNVarStarDataset(datapath, mode=None, verbose=True, only_periodic=True, recalc_period=False, \n",
    "                              prime=True, use_bands=['v'], only_sources_with_spectra=True, return_phased=True, fill_value=0)"
   ]
  },
  {
   "cell_type": "code",
   "execution_count": 7,
   "id": "d6ff117e-5345-4ddf-a570-1403bc1bf3c6",
   "metadata": {},
   "outputs": [
    {
     "data": {
      "text/plain": [
       "272500    3ac3628a-5a59-5fea-a545-b9790771aabb\n",
       "526437    2e369b9f-288e-5237-92f3-6b4b631b6e2a\n",
       "274018    206137e4-360b-5257-974f-0c856b5777a4\n",
       "480907    17a573c7-243e-52c2-aca3-d9f724f98aad\n",
       "170346    751bb940-22d9-561c-a8bd-02e7b65b3463\n",
       "                          ...                 \n",
       "545251    4846bc38-702e-5257-9a8a-9140ce3ba03a\n",
       "198248    3a675e2e-0ff0-5450-929f-0d3c8364c40f\n",
       "227541    c190e3d5-c14e-5278-82f0-0a0f5d0d7ffe\n",
       "222762    39731442-21fe-5357-8f80-d0f9150674f2\n",
       "560067    5971da6e-2598-578e-9bda-75d0dba242f4\n",
       "Name: id, Length: 18307, dtype: object"
      ]
     },
     "execution_count": 7,
     "metadata": {},
     "output_type": "execute_result"
    }
   ],
   "source": [
    "ds_train.df['id']"
   ]
  },
  {
   "cell_type": "code",
   "execution_count": 10,
   "id": "85375112-38f4-4e88-a01c-3a6a37dbb223",
   "metadata": {},
   "outputs": [
    {
     "data": {
      "text/plain": [
       "0"
      ]
     },
     "execution_count": 10,
     "metadata": {},
     "output_type": "execute_result"
    }
   ],
   "source": [
    "(ds_val.df['id'].isin(ds_train.df['id'])).sum()"
   ]
  },
  {
   "cell_type": "code",
   "execution_count": 11,
   "id": "e8589201-69fb-4415-acb5-6a44be46c520",
   "metadata": {},
   "outputs": [
    {
     "data": {
      "text/plain": [
       "0"
      ]
     },
     "execution_count": 11,
     "metadata": {},
     "output_type": "execute_result"
    }
   ],
   "source": [
    "(ds_train.df['id'].isin(ds_val.df['id'])).sum()"
   ]
  },
  {
   "cell_type": "code",
   "execution_count": 14,
   "id": "1dab825c-23ea-47f8-9bc6-58446b879133",
   "metadata": {},
   "outputs": [
    {
     "data": {
      "text/plain": [
       "2288"
      ]
     },
     "execution_count": 14,
     "metadata": {},
     "output_type": "execute_result"
    }
   ],
   "source": [
    "(ds_val.df['id'].isin(ds_all.df['id'])).sum()"
   ]
  },
  {
   "cell_type": "code",
   "execution_count": 7,
   "id": "13ef1ee0-4410-471a-b9fa-2bac72145e19",
   "metadata": {},
   "outputs": [],
   "source": [
    "no_spectra_data_keys = ['lcs', 'classes']\n",
    "no_spectra_collate_fn = partial(collate_fn, data_keys=no_spectra_data_keys, fill_value=0)\n",
    "\n",
    "train_dataloader = DataLoader(ds_train, batch_size=512, shuffle=True, pin_memory=True, num_workers=8, \n",
    "                              collate_fn=no_spectra_collate_fn)\n",
    "val_dataloader = DataLoader(ds_val, batch_size=512, shuffle=False, pin_memory=True, num_workers=8,\n",
    "                            collate_fn=no_spectra_collate_fn)"
   ]
  },
  {
   "cell_type": "code",
   "execution_count": 8,
   "id": "88ce63e8-1d1e-4598-b5b6-bc158b02d26b",
   "metadata": {},
   "outputs": [],
   "source": [
    "context_length = 200"
   ]
  },
  {
   "cell_type": "code",
   "execution_count": 9,
   "id": "c6f0d261-3319-4436-ac9b-0a5e0b1c344f",
   "metadata": {},
   "outputs": [],
   "source": [
    "def preprocess_batch(batch, masks):\n",
    "    lcs, classes = batch\n",
    "    lcs_mask, classes_mask = masks\n",
    "\n",
    "    # shape now [128, 1, 3, 759], make [128, 3, 759] \n",
    "    X = lcs[:, 0, :, :]\n",
    "    \n",
    "    # change axises, shape now [128, 3, 759], make [128, 759, 3]\n",
    "    X = X.transpose(1, 2)\n",
    "    \n",
    "    # since mask is the same for time flux and flux err we can make it 2D\n",
    "    mask = lcs_mask[:, 0, 0, :]\n",
    "\n",
    "    # context length 200, crop X and MASK if longer, pad if shorter\n",
    "    if X.shape[1] < context_length:\n",
    "        X_padding = (0, 0, 0, context_length - X.shape[1], 0, 0)\n",
    "        mask_padding = (0, context_length - X.shape[1])\n",
    "        X = F.pad(X, X_padding)\n",
    "        mask = F.pad(mask, mask_padding, value=True)\n",
    "    else:\n",
    "        X = X[:, :context_length, :]\n",
    "        mask = mask[:, :context_length]\n",
    "\n",
    "    # the last dimention is (time, flux, flux_err), sort it based on time\n",
    "    sort_indices = torch.argsort(X[:, :, 0], dim=1)\n",
    "    sorted_X = torch.zeros_like(X)\n",
    "    \n",
    "    for i in range(X.shape[0]):\n",
    "        sorted_X[i] = X[i, sort_indices[i]]\n",
    "    \n",
    "    # rearange indexes for masks as well\n",
    "    sorted_mask = torch.zeros_like(mask)\n",
    "    \n",
    "    for i in range(mask.shape[0]):\n",
    "        sorted_mask[i] = mask[i, sort_indices[i]]\n",
    "\n",
    "    # mask should be 1 for values that are observed and 0 for values that are missing\n",
    "    sorted_mask = 1 - sorted_mask.int()\n",
    "\n",
    "    # read scales\n",
    "    with open('scales.json', 'r') as f:\n",
    "        scales = json.load(f)\n",
    "        mean, std = scales['v']['mean'], scales['v']['std']\n",
    "\n",
    "    # scale X\n",
    "    sorted_X[:, :, 1] = (sorted_X[:, :, 1] - mean) / std\n",
    "    sorted_X[:, :, 2] = sorted_X[:, :, 2] / std\n",
    "\n",
    "    # reshape classes to be 1D vector and convert from float to int\n",
    "    classes = classes[:, 0]\n",
    "    classes = classes.long()\n",
    "\n",
    "    return sorted_X, sorted_mask, classes"
   ]
  },
  {
   "cell_type": "code",
   "execution_count": 10,
   "id": "4efc3e1e-6739-49ee-a839-129ac05d7787",
   "metadata": {},
   "outputs": [],
   "source": [
    "batch, masks = next(iter(train_dataloader))"
   ]
  },
  {
   "cell_type": "code",
   "execution_count": 11,
   "id": "3946ba81-4544-457e-bdb5-be5ee2da9e3e",
   "metadata": {},
   "outputs": [],
   "source": [
    "X, m, y = preprocess_batch(batch, masks)"
   ]
  },
  {
   "cell_type": "code",
   "execution_count": 12,
   "id": "94af81d6-037e-40e6-943e-904feb4e6930",
   "metadata": {},
   "outputs": [
    {
     "data": {
      "text/plain": [
       "(torch.Size([512, 200, 3]), torch.Size([512, 200]), torch.Size([512]))"
      ]
     },
     "execution_count": 12,
     "metadata": {},
     "output_type": "execute_result"
    }
   ],
   "source": [
    "X.shape, m.shape, y.shape"
   ]
  },
  {
   "cell_type": "code",
   "execution_count": 13,
   "id": "9b3ba417-b0c8-4ccf-a4d1-45c1da60e1ec",
   "metadata": {},
   "outputs": [
    {
     "data": {
      "text/plain": [
       "torch.int64"
      ]
     },
     "execution_count": 13,
     "metadata": {},
     "output_type": "execute_result"
    }
   ],
   "source": [
    "y.dtype"
   ]
  },
  {
   "cell_type": "code",
   "execution_count": 14,
   "id": "c8f3c47e-b0b4-4681-8af1-d81b683c2584",
   "metadata": {},
   "outputs": [],
   "source": [
    "config = TimeSeriesTransformerConfig(\n",
    "    prediction_length=20,    # doesn't matter but it's required by hf\n",
    "    context_length=context_length,\n",
    "    num_time_features=1,\n",
    "    num_static_real_features=0,\n",
    "    encoder_layers=2,\n",
    "    d_model=64,\n",
    "    distribution_output='normal',\n",
    "    scaling=None,\n",
    "    dropout=0,\n",
    "    encoder_layerdrop=0,\n",
    "    attention_dropout=0,\n",
    "    activation_dropout=0\n",
    ")\n",
    "\n",
    "config.feature_size = 2    # flux and flux err"
   ]
  },
  {
   "cell_type": "code",
   "execution_count": 15,
   "id": "ee2f0db3-be13-45af-b7c7-85587f2ca7c0",
   "metadata": {},
   "outputs": [
    {
     "name": "stdout",
     "output_type": "stream",
     "text": [
      "Using cuda:7\n"
     ]
    }
   ],
   "source": [
    "device = torch.device('cuda:7' if torch.cuda.is_available() else 'cpu')\n",
    "print('Using', device)"
   ]
  },
  {
   "cell_type": "code",
   "execution_count": 16,
   "id": "1d4dbf26-5670-472e-b6f3-3d6173d96551",
   "metadata": {},
   "outputs": [],
   "source": [
    "class CustomModel(nn.Module):\n",
    "    def __init__(self, encoder, num_classes):\n",
    "        super(CustomModel, self).__init__()\n",
    "        \n",
    "        self.encoder = encoder\n",
    "        self.num_classes = num_classes\n",
    "        self.classifier = nn.Linear(self.encoder.config.d_model, num_classes)\n",
    "\n",
    "    def forward(self, values, mask):\n",
    "        encoder_outputs = self.encoder(inputs_embeds=values, attention_mask=mask)\n",
    "        emb = encoder_outputs.last_hidden_state[:, 0, :]     # we will use the 1 element only, analog to CLS?\n",
    "        res = self.classifier(emb)\n",
    "\n",
    "        return res"
   ]
  },
  {
   "cell_type": "code",
   "execution_count": 17,
   "id": "586b40e7-8b15-410d-9c79-598071ddb33d",
   "metadata": {},
   "outputs": [],
   "source": [
    "def train_epoch():\n",
    "    model.train()\n",
    "\n",
    "    total_loss = []\n",
    "    total_correct_predictions = 0\n",
    "    total_predictions = 0\n",
    "    \n",
    "    for batch, masks in tqdm(train_dataloader):\n",
    "        X, m, y = preprocess_batch(batch, masks)\n",
    "        X, m, y = X.to(device), m.to(device), y.to(device)\n",
    "    \n",
    "        optimizer.zero_grad()\n",
    "    \n",
    "        logits = model(X[:, :, 1:], m)\n",
    "        loss = criterion(logits, y)\n",
    "        total_loss.append(loss.item())\n",
    "    \n",
    "        probabilities = torch.nn.functional.softmax(logits, dim=1)\n",
    "        _, predicted_labels = torch.max(probabilities, dim=1)\n",
    "        correct_predictions = (predicted_labels == y).sum().item()\n",
    "    \n",
    "        total_correct_predictions += correct_predictions\n",
    "        total_predictions += y.size(0)\n",
    "    \n",
    "        loss.backward()\n",
    "        optimizer.step()\n",
    "\n",
    "    print(f'Train Total Loss: {round(sum(total_loss) / len(total_loss), 5)} Accuracy: {round(total_correct_predictions / total_predictions, 3)}')"
   ]
  },
  {
   "cell_type": "code",
   "execution_count": 25,
   "id": "b3f43cfb-953b-4a7d-bb2d-14a60b7c2134",
   "metadata": {},
   "outputs": [],
   "source": [
    "def val_epoch():\n",
    "    model.eval()\n",
    "\n",
    "    total_loss = []\n",
    "    total_correct_predictions = 0\n",
    "    total_predictions = 0\n",
    "\n",
    "    with torch.no_grad():\n",
    "        for batch, masks in tqdm(val_dataloader):\n",
    "            X, m, y = preprocess_batch(batch, masks)\n",
    "            X, m, y = X.to(device), m.to(device), y.to(device)\n",
    "\n",
    "            logits = model(X[:, :, 1:], m)\n",
    "            loss = criterion(logits, y)\n",
    "            total_loss.append(loss.item())\n",
    "\n",
    "            probabilities = torch.nn.functional.softmax(logits, dim=1)\n",
    "            _, predicted_labels = torch.max(probabilities, dim=1)\n",
    "            correct_predictions = (predicted_labels == y).sum().item()\n",
    "\n",
    "            total_correct_predictions += correct_predictions\n",
    "            total_predictions += y.size(0)\n",
    "\n",
    "    print(f'Val Total Loss: {round(sum(total_loss) / len(total_loss), 5)} Accuracy: {round(total_correct_predictions / total_predictions, 3)}')"
   ]
  },
  {
   "cell_type": "code",
   "execution_count": 19,
   "id": "07e401c8-49ba-4bad-8060-78c8f01c9b44",
   "metadata": {},
   "outputs": [],
   "source": [
    "def plot_confusion(all_true_labels, all_predicted_labels):\n",
    "    # Calculate confusion matrix\n",
    "    conf_matrix = confusion_matrix(all_true_labels, all_predicted_labels)\n",
    "\n",
    "    # Calculate percentage values for confusion matrix\n",
    "    conf_matrix_percent = 100 * conf_matrix / conf_matrix.sum(axis=1)[:, np.newaxis]\n",
    "\n",
    "    # Plot both confusion matrices side by side\n",
    "    fig, axes = plt.subplots(nrows=2, ncols=1, figsize=(10, 20))\n",
    "\n",
    "    # Plot absolute values confusion matrix\n",
    "    sns.heatmap(conf_matrix, annot=True, fmt='d', cmap='Blues', ax=axes[0])\n",
    "    axes[0].set_xlabel('Predicted')\n",
    "    axes[0].set_ylabel('True')\n",
    "    axes[0].set_title('Confusion Matrix - Absolute Values')\n",
    "\n",
    "    # Plot percentage values confusion matrix\n",
    "    sns.heatmap(conf_matrix_percent, annot=True, fmt='.0f', cmap='Blues', ax=axes[1])\n",
    "    axes[1].set_xlabel('Predicted')\n",
    "    axes[1].set_ylabel('True')\n",
    "    axes[1].set_title('Confusion Matrix - Percentages')"
   ]
  },
  {
   "cell_type": "code",
   "execution_count": 20,
   "id": "81a23246-c585-439a-9944-46017af30e4b",
   "metadata": {},
   "outputs": [],
   "source": [
    "encoder = TimeSeriesTransformerEncoder(config)\n",
    "model = CustomModel(encoder, num_classes=len(ds_train.target_lookup.keys()))\n",
    "model = model.to(device)\n",
    "\n",
    "optimizer = Adam(model.parameters(), lr=1e-4)\n",
    "criterion = nn.CrossEntropyLoss()"
   ]
  },
  {
   "cell_type": "code",
   "execution_count": 21,
   "id": "5a00620c-5b14-4875-9bc9-08775514cbf3",
   "metadata": {},
   "outputs": [
    {
     "data": {
      "text/plain": [
       "<All keys matched successfully>"
      ]
     },
     "execution_count": 21,
     "metadata": {},
     "output_type": "execute_result"
    }
   ],
   "source": [
    "model.load_state_dict(torch.load('/home/mrizhko/AML/AstroML/weights.pth'))"
   ]
  },
  {
   "cell_type": "code",
   "execution_count": 26,
   "id": "29ee8cb9-25fa-434b-9d3a-88525aa39362",
   "metadata": {},
   "outputs": [
    {
     "name": "stderr",
     "output_type": "stream",
     "text": [
      "100%|███████████████████████████████████████████████████████████████████| 5/5 [00:27<00:00,  5.46s/it]"
     ]
    },
    {
     "name": "stdout",
     "output_type": "stream",
     "text": [
      "Val Total Loss: 1.51858 Accuracy: 0.478\n"
     ]
    },
    {
     "name": "stderr",
     "output_type": "stream",
     "text": [
      "\n"
     ]
    }
   ],
   "source": [
    "val_epoch()"
   ]
  },
  {
   "cell_type": "code",
   "execution_count": 23,
   "id": "5f8f91a3-41cf-4432-bc6a-f00dfef60497",
   "metadata": {},
   "outputs": [
    {
     "name": "stderr",
     "output_type": "stream",
     "text": [
      "100%|███████████████████████████████████████████████████████████████████| 5/5 [00:29<00:00,  5.85s/it]\n"
     ]
    }
   ],
   "source": [
    "model.eval()\n",
    "\n",
    "y_pred = []\n",
    "y_true = []\n",
    "\n",
    "with torch.no_grad():\n",
    "\n",
    "    for batch, masks in tqdm(val_dataloader):\n",
    "        X, m, y = preprocess_batch(batch, masks)\n",
    "        X, m = X.to(device), m.to(device)\n",
    "\n",
    "        logits = model(X[:, :, 1:], m)\n",
    "        probabilities = torch.nn.functional.softmax(logits, dim=1)\n",
    "        _, predicted_labels = torch.max(probabilities, dim=1)\n",
    "\n",
    "        y_pred.append(predicted_labels)\n",
    "        y_true.append(y)\n",
    "\n",
    "y_pred = torch.hstack(y_pred).cpu()\n",
    "y_true = torch.hstack(y_true)"
   ]
  },
  {
   "cell_type": "code",
   "execution_count": 24,
   "id": "2c9269cc-7076-47f0-8f1e-6d57e1a22a9c",
   "metadata": {},
   "outputs": [
    {
     "data": {
      "image/png": "[encoded data removed]",
      "text/plain": [
       "<Figure size 1000x2000 with 4 Axes>"
      ]
     },
     "metadata": {},
     "output_type": "display_data"
    }
   ],
   "source": [
    "plot_confusion(y_true, y_pred)"
   ]
  },
  {
   "cell_type": "code",
   "execution_count": null,
   "id": "7ad89076-0d76-42f4-b698-6383ec31adf1",
   "metadata": {},
   "outputs": [],
   "source": []
  },
  {
   "cell_type": "code",
   "execution_count": null,
   "id": "515edf9c-c0a3-4ea9-be94-18ee88843dfc",
   "metadata": {},
   "outputs": [],
   "source": []
  },
  {
   "cell_type": "code",
   "execution_count": null,
   "id": "c4a0835b-7a12-47d9-b2ae-cf5b58ee45b4",
   "metadata": {},
   "outputs": [
    {
     "name": "stdout",
     "output_type": "stream",
     "text": [
      "Epoch 0 "
     ]
    },
    {
     "name": "stderr",
     "output_type": "stream",
     "text": [
      "100%|█████████████████████████████████████████████████████████████████| 36/36 [01:08<00:00,  1.89s/it]\n"
     ]
    },
    {
     "name": "stdout",
     "output_type": "stream",
     "text": [
      "Train Total Loss: 2.13183 Accuracy: 0.283\n"
     ]
    },
    {
     "name": "stderr",
     "output_type": "stream",
     "text": [
      "100%|█████████████████████████████████████████████████████████████████| 36/36 [01:17<00:00,  2.16s/it]\n"
     ]
    },
    {
     "name": "stdout",
     "output_type": "stream",
     "text": [
      "Val Total Loss: 2.11622 Accuracy: 0.283\n",
      "Epoch 1 "
     ]
    },
    {
     "name": "stderr",
     "output_type": "stream",
     "text": [
      "100%|█████████████████████████████████████████████████████████████████| 36/36 [01:15<00:00,  2.10s/it]\n"
     ]
    },
    {
     "name": "stdout",
     "output_type": "stream",
     "text": [
      "Train Total Loss: 2.10461 Accuracy: 0.284\n"
     ]
    },
    {
     "name": "stderr",
     "output_type": "stream",
     "text": [
      "100%|█████████████████████████████████████████████████████████████████| 36/36 [01:15<00:00,  2.11s/it]\n"
     ]
    },
    {
     "name": "stdout",
     "output_type": "stream",
     "text": [
      "Val Total Loss: 2.0936 Accuracy: 0.285\n",
      "Epoch 2 "
     ]
    },
    {
     "name": "stderr",
     "output_type": "stream",
     "text": [
      "100%|█████████████████████████████████████████████████████████████████| 36/36 [01:04<00:00,  1.79s/it]\n"
     ]
    },
    {
     "name": "stdout",
     "output_type": "stream",
     "text": [
      "Train Total Loss: 2.08524 Accuracy: 0.287\n"
     ]
    },
    {
     "name": "stderr",
     "output_type": "stream",
     "text": [
      "100%|█████████████████████████████████████████████████████████████████| 36/36 [01:04<00:00,  1.79s/it]\n"
     ]
    },
    {
     "name": "stdout",
     "output_type": "stream",
     "text": [
      "Val Total Loss: 2.07719 Accuracy: 0.291\n",
      "Epoch 3 "
     ]
    },
    {
     "name": "stderr",
     "output_type": "stream",
     "text": [
      "100%|█████████████████████████████████████████████████████████████████| 36/36 [01:18<00:00,  2.19s/it]\n"
     ]
    },
    {
     "name": "stdout",
     "output_type": "stream",
     "text": [
      "Train Total Loss: 2.07046 Accuracy: 0.288\n"
     ]
    },
    {
     "name": "stderr",
     "output_type": "stream",
     "text": [
      "100%|█████████████████████████████████████████████████████████████████| 36/36 [01:16<00:00,  2.13s/it]\n"
     ]
    },
    {
     "name": "stdout",
     "output_type": "stream",
     "text": [
      "Val Total Loss: 2.06461 Accuracy: 0.291\n",
      "Epoch 4 "
     ]
    },
    {
     "name": "stderr",
     "output_type": "stream",
     "text": [
      "100%|█████████████████████████████████████████████████████████████████| 36/36 [01:07<00:00,  1.87s/it]\n"
     ]
    },
    {
     "name": "stdout",
     "output_type": "stream",
     "text": [
      "Train Total Loss: 2.05914 Accuracy: 0.291\n"
     ]
    },
    {
     "name": "stderr",
     "output_type": "stream",
     "text": [
      "100%|█████████████████████████████████████████████████████████████████| 36/36 [01:07<00:00,  1.86s/it]\n"
     ]
    },
    {
     "name": "stdout",
     "output_type": "stream",
     "text": [
      "Val Total Loss: 2.05341 Accuracy: 0.292\n",
      "Epoch 5 "
     ]
    },
    {
     "name": "stderr",
     "output_type": "stream",
     "text": [
      "100%|█████████████████████████████████████████████████████████████████| 36/36 [01:14<00:00,  2.06s/it]\n"
     ]
    },
    {
     "name": "stdout",
     "output_type": "stream",
     "text": [
      "Train Total Loss: 2.04938 Accuracy: 0.293\n"
     ]
    },
    {
     "name": "stderr",
     "output_type": "stream",
     "text": [
      "100%|█████████████████████████████████████████████████████████████████| 36/36 [01:11<00:00,  1.99s/it]\n"
     ]
    },
    {
     "name": "stdout",
     "output_type": "stream",
     "text": [
      "Val Total Loss: 2.0451 Accuracy: 0.292\n",
      "Epoch 6 "
     ]
    },
    {
     "name": "stderr",
     "output_type": "stream",
     "text": [
      "100%|█████████████████████████████████████████████████████████████████| 36/36 [01:06<00:00,  1.85s/it]\n"
     ]
    },
    {
     "name": "stdout",
     "output_type": "stream",
     "text": [
      "Train Total Loss: 2.04203 Accuracy: 0.293\n"
     ]
    },
    {
     "name": "stderr",
     "output_type": "stream",
     "text": [
      "100%|█████████████████████████████████████████████████████████████████| 36/36 [01:00<00:00,  1.68s/it]\n"
     ]
    },
    {
     "name": "stdout",
     "output_type": "stream",
     "text": [
      "Val Total Loss: 2.03853 Accuracy: 0.293\n",
      "Epoch 7 "
     ]
    },
    {
     "name": "stderr",
     "output_type": "stream",
     "text": [
      "100%|█████████████████████████████████████████████████████████████████| 36/36 [01:03<00:00,  1.77s/it]\n"
     ]
    },
    {
     "name": "stdout",
     "output_type": "stream",
     "text": [
      "Train Total Loss: 2.03546 Accuracy: 0.294\n"
     ]
    },
    {
     "name": "stderr",
     "output_type": "stream",
     "text": [
      "100%|█████████████████████████████████████████████████████████████████| 36/36 [01:08<00:00,  1.90s/it]\n"
     ]
    },
    {
     "name": "stdout",
     "output_type": "stream",
     "text": [
      "Val Total Loss: 2.03221 Accuracy: 0.296\n",
      "Epoch 8 "
     ]
    },
    {
     "name": "stderr",
     "output_type": "stream",
     "text": [
      "100%|█████████████████████████████████████████████████████████████████| 36/36 [01:14<00:00,  2.06s/it]\n"
     ]
    },
    {
     "name": "stdout",
     "output_type": "stream",
     "text": [
      "Train Total Loss: 2.02888 Accuracy: 0.296\n"
     ]
    },
    {
     "name": "stderr",
     "output_type": "stream",
     "text": [
      "100%|█████████████████████████████████████████████████████████████████| 36/36 [01:08<00:00,  1.90s/it]\n"
     ]
    },
    {
     "name": "stdout",
     "output_type": "stream",
     "text": [
      "Val Total Loss: 2.02542 Accuracy: 0.296\n",
      "Epoch 9 "
     ]
    },
    {
     "name": "stderr",
     "output_type": "stream",
     "text": [
      "100%|█████████████████████████████████████████████████████████████████| 36/36 [01:06<00:00,  1.84s/it]\n"
     ]
    },
    {
     "name": "stdout",
     "output_type": "stream",
     "text": [
      "Train Total Loss: 2.02257 Accuracy: 0.297\n"
     ]
    },
    {
     "name": "stderr",
     "output_type": "stream",
     "text": [
      "100%|█████████████████████████████████████████████████████████████████| 36/36 [01:14<00:00,  2.06s/it]\n"
     ]
    },
    {
     "name": "stdout",
     "output_type": "stream",
     "text": [
      "Val Total Loss: 2.01878 Accuracy: 0.297\n",
      "Epoch 10 "
     ]
    },
    {
     "name": "stderr",
     "output_type": "stream",
     "text": [
      "100%|█████████████████████████████████████████████████████████████████| 36/36 [01:10<00:00,  1.95s/it]\n"
     ]
    },
    {
     "name": "stdout",
     "output_type": "stream",
     "text": [
      "Train Total Loss: 2.0144 Accuracy: 0.298\n"
     ]
    },
    {
     "name": "stderr",
     "output_type": "stream",
     "text": [
      "100%|█████████████████████████████████████████████████████████████████| 36/36 [01:04<00:00,  1.80s/it]\n"
     ]
    },
    {
     "name": "stdout",
     "output_type": "stream",
     "text": [
      "Val Total Loss: 2.00788 Accuracy: 0.302\n",
      "Epoch 11 "
     ]
    },
    {
     "name": "stderr",
     "output_type": "stream",
     "text": [
      "100%|█████████████████████████████████████████████████████████████████| 36/36 [01:05<00:00,  1.81s/it]\n"
     ]
    },
    {
     "name": "stdout",
     "output_type": "stream",
     "text": [
      "Train Total Loss: 1.99997 Accuracy: 0.313\n"
     ]
    },
    {
     "name": "stderr",
     "output_type": "stream",
     "text": [
      "100%|█████████████████████████████████████████████████████████████████| 36/36 [01:07<00:00,  1.88s/it]\n"
     ]
    },
    {
     "name": "stdout",
     "output_type": "stream",
     "text": [
      "Val Total Loss: 1.99212 Accuracy: 0.326\n",
      "Epoch 12 "
     ]
    },
    {
     "name": "stderr",
     "output_type": "stream",
     "text": [
      "100%|█████████████████████████████████████████████████████████████████| 36/36 [01:05<00:00,  1.81s/it]\n"
     ]
    },
    {
     "name": "stdout",
     "output_type": "stream",
     "text": [
      "Train Total Loss: 1.98441 Accuracy: 0.322\n"
     ]
    },
    {
     "name": "stderr",
     "output_type": "stream",
     "text": [
      "100%|█████████████████████████████████████████████████████████████████| 36/36 [01:06<00:00,  1.85s/it]\n"
     ]
    },
    {
     "name": "stdout",
     "output_type": "stream",
     "text": [
      "Val Total Loss: 1.97659 Accuracy: 0.317\n",
      "Epoch 13 "
     ]
    },
    {
     "name": "stderr",
     "output_type": "stream",
     "text": [
      "100%|█████████████████████████████████████████████████████████████████| 36/36 [01:02<00:00,  1.74s/it]\n"
     ]
    },
    {
     "name": "stdout",
     "output_type": "stream",
     "text": [
      "Train Total Loss: 1.97163 Accuracy: 0.321\n"
     ]
    },
    {
     "name": "stderr",
     "output_type": "stream",
     "text": [
      "100%|█████████████████████████████████████████████████████████████████| 36/36 [01:11<00:00,  1.99s/it]\n"
     ]
    },
    {
     "name": "stdout",
     "output_type": "stream",
     "text": [
      "Val Total Loss: 1.96531 Accuracy: 0.324\n",
      "Epoch 14 "
     ]
    },
    {
     "name": "stderr",
     "output_type": "stream",
     "text": [
      "100%|█████████████████████████████████████████████████████████████████| 36/36 [01:07<00:00,  1.87s/it]\n"
     ]
    },
    {
     "name": "stdout",
     "output_type": "stream",
     "text": [
      "Train Total Loss: 1.96118 Accuracy: 0.327\n"
     ]
    },
    {
     "name": "stderr",
     "output_type": "stream",
     "text": [
      "100%|█████████████████████████████████████████████████████████████████| 36/36 [01:05<00:00,  1.82s/it]\n"
     ]
    },
    {
     "name": "stdout",
     "output_type": "stream",
     "text": [
      "Val Total Loss: 1.95635 Accuracy: 0.329\n",
      "Epoch 15 "
     ]
    },
    {
     "name": "stderr",
     "output_type": "stream",
     "text": [
      "100%|█████████████████████████████████████████████████████████████████| 36/36 [01:06<00:00,  1.84s/it]\n"
     ]
    },
    {
     "name": "stdout",
     "output_type": "stream",
     "text": [
      "Train Total Loss: 1.95207 Accuracy: 0.33\n"
     ]
    },
    {
     "name": "stderr",
     "output_type": "stream",
     "text": [
      "100%|█████████████████████████████████████████████████████████████████| 36/36 [01:02<00:00,  1.75s/it]\n"
     ]
    },
    {
     "name": "stdout",
     "output_type": "stream",
     "text": [
      "Val Total Loss: 1.94797 Accuracy: 0.332\n",
      "Epoch 16 "
     ]
    },
    {
     "name": "stderr",
     "output_type": "stream",
     "text": [
      "100%|█████████████████████████████████████████████████████████████████| 36/36 [01:04<00:00,  1.80s/it]\n"
     ]
    },
    {
     "name": "stdout",
     "output_type": "stream",
     "text": [
      "Train Total Loss: 1.94384 Accuracy: 0.338\n"
     ]
    },
    {
     "name": "stderr",
     "output_type": "stream",
     "text": [
      "100%|█████████████████████████████████████████████████████████████████| 36/36 [01:16<00:00,  2.12s/it]\n"
     ]
    },
    {
     "name": "stdout",
     "output_type": "stream",
     "text": [
      "Val Total Loss: 1.93979 Accuracy: 0.34\n",
      "Epoch 17 "
     ]
    },
    {
     "name": "stderr",
     "output_type": "stream",
     "text": [
      "100%|█████████████████████████████████████████████████████████████████| 36/36 [01:06<00:00,  1.84s/it]\n"
     ]
    },
    {
     "name": "stdout",
     "output_type": "stream",
     "text": [
      "Train Total Loss: 1.93652 Accuracy: 0.341\n"
     ]
    },
    {
     "name": "stderr",
     "output_type": "stream",
     "text": [
      "100%|█████████████████████████████████████████████████████████████████| 36/36 [01:00<00:00,  1.67s/it]\n"
     ]
    },
    {
     "name": "stdout",
     "output_type": "stream",
     "text": [
      "Val Total Loss: 1.93275 Accuracy: 0.34\n",
      "Epoch 18 "
     ]
    },
    {
     "name": "stderr",
     "output_type": "stream",
     "text": [
      "100%|█████████████████████████████████████████████████████████████████| 36/36 [01:06<00:00,  1.84s/it]\n"
     ]
    },
    {
     "name": "stdout",
     "output_type": "stream",
     "text": [
      "Train Total Loss: 1.93055 Accuracy: 0.342\n"
     ]
    },
    {
     "name": "stderr",
     "output_type": "stream",
     "text": [
      "100%|█████████████████████████████████████████████████████████████████| 36/36 [01:05<00:00,  1.82s/it]\n"
     ]
    },
    {
     "name": "stdout",
     "output_type": "stream",
     "text": [
      "Val Total Loss: 1.92614 Accuracy: 0.341\n",
      "Epoch 19 "
     ]
    },
    {
     "name": "stderr",
     "output_type": "stream",
     "text": [
      "100%|█████████████████████████████████████████████████████████████████| 36/36 [01:16<00:00,  2.11s/it]\n"
     ]
    },
    {
     "name": "stdout",
     "output_type": "stream",
     "text": [
      "Train Total Loss: 1.92376 Accuracy: 0.342\n"
     ]
    },
    {
     "name": "stderr",
     "output_type": "stream",
     "text": [
      "100%|█████████████████████████████████████████████████████████████████| 36/36 [01:02<00:00,  1.74s/it]\n"
     ]
    },
    {
     "name": "stdout",
     "output_type": "stream",
     "text": [
      "Val Total Loss: 1.92 Accuracy: 0.345\n",
      "Epoch 20 "
     ]
    },
    {
     "name": "stderr",
     "output_type": "stream",
     "text": [
      "100%|█████████████████████████████████████████████████████████████████| 36/36 [01:02<00:00,  1.73s/it]\n"
     ]
    },
    {
     "name": "stdout",
     "output_type": "stream",
     "text": [
      "Train Total Loss: 1.91853 Accuracy: 0.342\n"
     ]
    },
    {
     "name": "stderr",
     "output_type": "stream",
     "text": [
      "100%|█████████████████████████████████████████████████████████████████| 36/36 [01:02<00:00,  1.72s/it]\n"
     ]
    },
    {
     "name": "stdout",
     "output_type": "stream",
     "text": [
      "Val Total Loss: 1.91402 Accuracy: 0.344\n",
      "Epoch 21 "
     ]
    },
    {
     "name": "stderr",
     "output_type": "stream",
     "text": [
      "100%|█████████████████████████████████████████████████████████████████| 36/36 [01:06<00:00,  1.84s/it]\n"
     ]
    },
    {
     "name": "stdout",
     "output_type": "stream",
     "text": [
      "Train Total Loss: 1.9135 Accuracy: 0.344\n"
     ]
    },
    {
     "name": "stderr",
     "output_type": "stream",
     "text": [
      "100%|█████████████████████████████████████████████████████████████████| 36/36 [01:08<00:00,  1.91s/it]\n"
     ]
    },
    {
     "name": "stdout",
     "output_type": "stream",
     "text": [
      "Val Total Loss: 1.90968 Accuracy: 0.342\n",
      "Epoch 22 "
     ]
    },
    {
     "name": "stderr",
     "output_type": "stream",
     "text": [
      "100%|█████████████████████████████████████████████████████████████████| 36/36 [01:02<00:00,  1.73s/it]\n"
     ]
    },
    {
     "name": "stdout",
     "output_type": "stream",
     "text": [
      "Train Total Loss: 1.90767 Accuracy: 0.343\n"
     ]
    },
    {
     "name": "stderr",
     "output_type": "stream",
     "text": [
      "100%|█████████████████████████████████████████████████████████████████| 36/36 [01:02<00:00,  1.73s/it]\n"
     ]
    },
    {
     "name": "stdout",
     "output_type": "stream",
     "text": [
      "Val Total Loss: 1.90581 Accuracy: 0.345\n",
      "Epoch 23 "
     ]
    },
    {
     "name": "stderr",
     "output_type": "stream",
     "text": [
      "100%|█████████████████████████████████████████████████████████████████| 36/36 [01:02<00:00,  1.75s/it]\n"
     ]
    },
    {
     "name": "stdout",
     "output_type": "stream",
     "text": [
      "Train Total Loss: 1.90417 Accuracy: 0.343\n"
     ]
    },
    {
     "name": "stderr",
     "output_type": "stream",
     "text": [
      "100%|█████████████████████████████████████████████████████████████████| 36/36 [01:05<00:00,  1.81s/it]\n"
     ]
    },
    {
     "name": "stdout",
     "output_type": "stream",
     "text": [
      "Val Total Loss: 1.90206 Accuracy: 0.342\n",
      "Epoch 24 "
     ]
    },
    {
     "name": "stderr",
     "output_type": "stream",
     "text": [
      "100%|█████████████████████████████████████████████████████████████████| 36/36 [01:04<00:00,  1.81s/it]\n"
     ]
    },
    {
     "name": "stdout",
     "output_type": "stream",
     "text": [
      "Train Total Loss: 1.90039 Accuracy: 0.344\n"
     ]
    },
    {
     "name": "stderr",
     "output_type": "stream",
     "text": [
      "100%|█████████████████████████████████████████████████████████████████| 36/36 [01:03<00:00,  1.77s/it]\n"
     ]
    },
    {
     "name": "stdout",
     "output_type": "stream",
     "text": [
      "Val Total Loss: 1.89794 Accuracy: 0.345\n",
      "Epoch 25 "
     ]
    },
    {
     "name": "stderr",
     "output_type": "stream",
     "text": [
      "100%|█████████████████████████████████████████████████████████████████| 36/36 [01:21<00:00,  2.27s/it]\n"
     ]
    },
    {
     "name": "stdout",
     "output_type": "stream",
     "text": [
      "Train Total Loss: 1.89812 Accuracy: 0.345\n"
     ]
    },
    {
     "name": "stderr",
     "output_type": "stream",
     "text": [
      "100%|█████████████████████████████████████████████████████████████████| 36/36 [01:02<00:00,  1.73s/it]\n"
     ]
    },
    {
     "name": "stdout",
     "output_type": "stream",
     "text": [
      "Val Total Loss: 1.89541 Accuracy: 0.345\n",
      "Epoch 26 "
     ]
    },
    {
     "name": "stderr",
     "output_type": "stream",
     "text": [
      "100%|█████████████████████████████████████████████████████████████████| 36/36 [01:09<00:00,  1.92s/it]\n"
     ]
    },
    {
     "name": "stdout",
     "output_type": "stream",
     "text": [
      "Train Total Loss: 1.89509 Accuracy: 0.346\n"
     ]
    },
    {
     "name": "stderr",
     "output_type": "stream",
     "text": [
      "100%|█████████████████████████████████████████████████████████████████| 36/36 [01:10<00:00,  1.96s/it]\n"
     ]
    },
    {
     "name": "stdout",
     "output_type": "stream",
     "text": [
      "Val Total Loss: 1.8928 Accuracy: 0.345\n",
      "Epoch 27 "
     ]
    },
    {
     "name": "stderr",
     "output_type": "stream",
     "text": [
      "100%|█████████████████████████████████████████████████████████████████| 36/36 [01:10<00:00,  1.95s/it]\n"
     ]
    },
    {
     "name": "stdout",
     "output_type": "stream",
     "text": [
      "Train Total Loss: 1.89219 Accuracy: 0.345\n"
     ]
    },
    {
     "name": "stderr",
     "output_type": "stream",
     "text": [
      "100%|█████████████████████████████████████████████████████████████████| 36/36 [01:09<00:00,  1.93s/it]\n"
     ]
    },
    {
     "name": "stdout",
     "output_type": "stream",
     "text": [
      "Val Total Loss: 1.89089 Accuracy: 0.351\n",
      "Epoch 28 "
     ]
    },
    {
     "name": "stderr",
     "output_type": "stream",
     "text": [
      "100%|█████████████████████████████████████████████████████████████████| 36/36 [01:02<00:00,  1.73s/it]\n"
     ]
    },
    {
     "name": "stdout",
     "output_type": "stream",
     "text": [
      "Train Total Loss: 1.89004 Accuracy: 0.35\n"
     ]
    },
    {
     "name": "stderr",
     "output_type": "stream",
     "text": [
      "100%|█████████████████████████████████████████████████████████████████| 36/36 [01:04<00:00,  1.80s/it]\n"
     ]
    },
    {
     "name": "stdout",
     "output_type": "stream",
     "text": [
      "Val Total Loss: 1.88769 Accuracy: 0.358\n",
      "Epoch 29 "
     ]
    },
    {
     "name": "stderr",
     "output_type": "stream",
     "text": [
      "100%|█████████████████████████████████████████████████████████████████| 36/36 [01:04<00:00,  1.79s/it]\n"
     ]
    },
    {
     "name": "stdout",
     "output_type": "stream",
     "text": [
      "Train Total Loss: 1.88853 Accuracy: 0.353\n"
     ]
    },
    {
     "name": "stderr",
     "output_type": "stream",
     "text": [
      "100%|█████████████████████████████████████████████████████████████████| 36/36 [01:06<00:00,  1.84s/it]\n"
     ]
    },
    {
     "name": "stdout",
     "output_type": "stream",
     "text": [
      "Val Total Loss: 1.88593 Accuracy: 0.356\n",
      "Epoch 30 "
     ]
    },
    {
     "name": "stderr",
     "output_type": "stream",
     "text": [
      "100%|█████████████████████████████████████████████████████████████████| 36/36 [01:06<00:00,  1.86s/it]\n"
     ]
    },
    {
     "name": "stdout",
     "output_type": "stream",
     "text": [
      "Train Total Loss: 1.88605 Accuracy: 0.352\n"
     ]
    },
    {
     "name": "stderr",
     "output_type": "stream",
     "text": [
      "100%|█████████████████████████████████████████████████████████████████| 36/36 [01:07<00:00,  1.88s/it]\n"
     ]
    },
    {
     "name": "stdout",
     "output_type": "stream",
     "text": [
      "Val Total Loss: 1.8863 Accuracy: 0.363\n",
      "Epoch 31 "
     ]
    },
    {
     "name": "stderr",
     "output_type": "stream",
     "text": [
      "100%|█████████████████████████████████████████████████████████████████| 36/36 [01:02<00:00,  1.74s/it]\n"
     ]
    },
    {
     "name": "stdout",
     "output_type": "stream",
     "text": [
      "Train Total Loss: 1.88532 Accuracy: 0.35\n"
     ]
    },
    {
     "name": "stderr",
     "output_type": "stream",
     "text": [
      "100%|█████████████████████████████████████████████████████████████████| 36/36 [01:06<00:00,  1.84s/it]\n"
     ]
    },
    {
     "name": "stdout",
     "output_type": "stream",
     "text": [
      "Val Total Loss: 1.88516 Accuracy: 0.356\n",
      "Epoch 32 "
     ]
    },
    {
     "name": "stderr",
     "output_type": "stream",
     "text": [
      "100%|█████████████████████████████████████████████████████████████████| 36/36 [01:02<00:00,  1.73s/it]\n"
     ]
    },
    {
     "name": "stdout",
     "output_type": "stream",
     "text": [
      "Train Total Loss: 1.88195 Accuracy: 0.353\n"
     ]
    },
    {
     "name": "stderr",
     "output_type": "stream",
     "text": [
      "100%|█████████████████████████████████████████████████████████████████| 36/36 [01:03<00:00,  1.76s/it]\n"
     ]
    },
    {
     "name": "stdout",
     "output_type": "stream",
     "text": [
      "Val Total Loss: 1.88448 Accuracy: 0.345\n",
      "Epoch 33 "
     ]
    },
    {
     "name": "stderr",
     "output_type": "stream",
     "text": [
      "100%|█████████████████████████████████████████████████████████████████| 36/36 [01:03<00:00,  1.75s/it]\n"
     ]
    },
    {
     "name": "stdout",
     "output_type": "stream",
     "text": [
      "Train Total Loss: 1.88162 Accuracy: 0.351\n"
     ]
    },
    {
     "name": "stderr",
     "output_type": "stream",
     "text": [
      "100%|█████████████████████████████████████████████████████████████████| 36/36 [01:01<00:00,  1.71s/it]\n"
     ]
    },
    {
     "name": "stdout",
     "output_type": "stream",
     "text": [
      "Val Total Loss: 1.88228 Accuracy: 0.349\n",
      "Epoch 34 "
     ]
    },
    {
     "name": "stderr",
     "output_type": "stream",
     "text": [
      "100%|█████████████████████████████████████████████████████████████████| 36/36 [01:14<00:00,  2.07s/it]\n"
     ]
    },
    {
     "name": "stdout",
     "output_type": "stream",
     "text": [
      "Train Total Loss: 1.8794 Accuracy: 0.353\n"
     ]
    },
    {
     "name": "stderr",
     "output_type": "stream",
     "text": [
      "100%|█████████████████████████████████████████████████████████████████| 36/36 [01:08<00:00,  1.91s/it]\n"
     ]
    },
    {
     "name": "stdout",
     "output_type": "stream",
     "text": [
      "Val Total Loss: 1.87727 Accuracy: 0.361\n",
      "Epoch 35 "
     ]
    },
    {
     "name": "stderr",
     "output_type": "stream",
     "text": [
      "100%|█████████████████████████████████████████████████████████████████| 36/36 [01:01<00:00,  1.71s/it]\n"
     ]
    },
    {
     "name": "stdout",
     "output_type": "stream",
     "text": [
      "Train Total Loss: 1.87771 Accuracy: 0.354\n"
     ]
    },
    {
     "name": "stderr",
     "output_type": "stream",
     "text": [
      "100%|█████████████████████████████████████████████████████████████████| 36/36 [01:06<00:00,  1.84s/it]\n"
     ]
    },
    {
     "name": "stdout",
     "output_type": "stream",
     "text": [
      "Val Total Loss: 1.87516 Accuracy: 0.362\n",
      "Epoch 36 "
     ]
    },
    {
     "name": "stderr",
     "output_type": "stream",
     "text": [
      "100%|█████████████████████████████████████████████████████████████████| 36/36 [01:06<00:00,  1.84s/it]\n"
     ]
    },
    {
     "name": "stdout",
     "output_type": "stream",
     "text": [
      "Train Total Loss: 1.87623 Accuracy: 0.356\n"
     ]
    },
    {
     "name": "stderr",
     "output_type": "stream",
     "text": [
      "100%|█████████████████████████████████████████████████████████████████| 36/36 [01:09<00:00,  1.94s/it]\n"
     ]
    },
    {
     "name": "stdout",
     "output_type": "stream",
     "text": [
      "Val Total Loss: 1.87612 Accuracy: 0.349\n",
      "Epoch 37 "
     ]
    },
    {
     "name": "stderr",
     "output_type": "stream",
     "text": [
      "100%|█████████████████████████████████████████████████████████████████| 36/36 [01:12<00:00,  2.01s/it]\n"
     ]
    },
    {
     "name": "stdout",
     "output_type": "stream",
     "text": [
      "Train Total Loss: 1.87444 Accuracy: 0.354\n"
     ]
    },
    {
     "name": "stderr",
     "output_type": "stream",
     "text": [
      "100%|█████████████████████████████████████████████████████████████████| 36/36 [01:06<00:00,  1.84s/it]\n"
     ]
    },
    {
     "name": "stdout",
     "output_type": "stream",
     "text": [
      "Val Total Loss: 1.87494 Accuracy: 0.349\n",
      "Epoch 38 "
     ]
    },
    {
     "name": "stderr",
     "output_type": "stream",
     "text": [
      "100%|█████████████████████████████████████████████████████████████████| 36/36 [01:02<00:00,  1.74s/it]\n"
     ]
    },
    {
     "name": "stdout",
     "output_type": "stream",
     "text": [
      "Train Total Loss: 1.87189 Accuracy: 0.357\n"
     ]
    },
    {
     "name": "stderr",
     "output_type": "stream",
     "text": [
      "100%|█████████████████████████████████████████████████████████████████| 36/36 [01:01<00:00,  1.70s/it]\n"
     ]
    },
    {
     "name": "stdout",
     "output_type": "stream",
     "text": [
      "Val Total Loss: 1.87014 Accuracy: 0.361\n",
      "Epoch 39 "
     ]
    },
    {
     "name": "stderr",
     "output_type": "stream",
     "text": [
      "100%|█████████████████████████████████████████████████████████████████| 36/36 [01:10<00:00,  1.95s/it]\n"
     ]
    },
    {
     "name": "stdout",
     "output_type": "stream",
     "text": [
      "Train Total Loss: 1.87111 Accuracy: 0.357\n"
     ]
    },
    {
     "name": "stderr",
     "output_type": "stream",
     "text": [
      "100%|█████████████████████████████████████████████████████████████████| 36/36 [01:24<00:00,  2.35s/it]\n"
     ]
    },
    {
     "name": "stdout",
     "output_type": "stream",
     "text": [
      "Val Total Loss: 1.86899 Accuracy: 0.357\n",
      "Epoch 40 "
     ]
    },
    {
     "name": "stderr",
     "output_type": "stream",
     "text": [
      "100%|█████████████████████████████████████████████████████████████████| 36/36 [01:02<00:00,  1.73s/it]\n"
     ]
    },
    {
     "name": "stdout",
     "output_type": "stream",
     "text": [
      "Train Total Loss: 1.86865 Accuracy: 0.361\n"
     ]
    },
    {
     "name": "stderr",
     "output_type": "stream",
     "text": [
      "100%|█████████████████████████████████████████████████████████████████| 36/36 [01:08<00:00,  1.90s/it]\n"
     ]
    },
    {
     "name": "stdout",
     "output_type": "stream",
     "text": [
      "Val Total Loss: 1.86773 Accuracy: 0.361\n",
      "Epoch 41 "
     ]
    },
    {
     "name": "stderr",
     "output_type": "stream",
     "text": [
      "100%|█████████████████████████████████████████████████████████████████| 36/36 [01:06<00:00,  1.85s/it]\n"
     ]
    },
    {
     "name": "stdout",
     "output_type": "stream",
     "text": [
      "Train Total Loss: 1.86657 Accuracy: 0.361\n"
     ]
    },
    {
     "name": "stderr",
     "output_type": "stream",
     "text": [
      "100%|█████████████████████████████████████████████████████████████████| 36/36 [01:09<00:00,  1.92s/it]\n"
     ]
    },
    {
     "name": "stdout",
     "output_type": "stream",
     "text": [
      "Val Total Loss: 1.86543 Accuracy: 0.362\n",
      "Epoch 42 "
     ]
    },
    {
     "name": "stderr",
     "output_type": "stream",
     "text": [
      "100%|█████████████████████████████████████████████████████████████████| 36/36 [00:58<00:00,  1.62s/it]\n"
     ]
    },
    {
     "name": "stdout",
     "output_type": "stream",
     "text": [
      "Train Total Loss: 1.86551 Accuracy: 0.36\n"
     ]
    },
    {
     "name": "stderr",
     "output_type": "stream",
     "text": [
      "100%|█████████████████████████████████████████████████████████████████| 36/36 [01:13<00:00,  2.05s/it]\n"
     ]
    },
    {
     "name": "stdout",
     "output_type": "stream",
     "text": [
      "Val Total Loss: 1.8656 Accuracy: 0.353\n",
      "Epoch 43 "
     ]
    },
    {
     "name": "stderr",
     "output_type": "stream",
     "text": [
      "100%|█████████████████████████████████████████████████████████████████| 36/36 [01:10<00:00,  1.95s/it]\n"
     ]
    },
    {
     "name": "stdout",
     "output_type": "stream",
     "text": [
      "Train Total Loss: 1.86435 Accuracy: 0.357\n"
     ]
    },
    {
     "name": "stderr",
     "output_type": "stream",
     "text": [
      "100%|█████████████████████████████████████████████████████████████████| 36/36 [01:11<00:00,  1.99s/it]\n"
     ]
    },
    {
     "name": "stdout",
     "output_type": "stream",
     "text": [
      "Val Total Loss: 1.86248 Accuracy: 0.36\n",
      "Epoch 44 "
     ]
    },
    {
     "name": "stderr",
     "output_type": "stream",
     "text": [
      "100%|█████████████████████████████████████████████████████████████████| 36/36 [01:16<00:00,  2.13s/it]\n"
     ]
    },
    {
     "name": "stdout",
     "output_type": "stream",
     "text": [
      "Train Total Loss: 1.86282 Accuracy: 0.357\n"
     ]
    },
    {
     "name": "stderr",
     "output_type": "stream",
     "text": [
      "100%|█████████████████████████████████████████████████████████████████| 36/36 [01:04<00:00,  1.79s/it]\n"
     ]
    },
    {
     "name": "stdout",
     "output_type": "stream",
     "text": [
      "Val Total Loss: 1.86079 Accuracy: 0.359\n",
      "Epoch 45 "
     ]
    },
    {
     "name": "stderr",
     "output_type": "stream",
     "text": [
      "100%|█████████████████████████████████████████████████████████████████| 36/36 [01:02<00:00,  1.74s/it]\n"
     ]
    },
    {
     "name": "stdout",
     "output_type": "stream",
     "text": [
      "Train Total Loss: 1.86197 Accuracy: 0.358\n"
     ]
    },
    {
     "name": "stderr",
     "output_type": "stream",
     "text": [
      "100%|█████████████████████████████████████████████████████████████████| 36/36 [01:08<00:00,  1.90s/it]\n"
     ]
    },
    {
     "name": "stdout",
     "output_type": "stream",
     "text": [
      "Val Total Loss: 1.8599 Accuracy: 0.362\n",
      "Epoch 46 "
     ]
    },
    {
     "name": "stderr",
     "output_type": "stream",
     "text": [
      "100%|█████████████████████████████████████████████████████████████████| 36/36 [01:04<00:00,  1.79s/it]\n"
     ]
    },
    {
     "name": "stdout",
     "output_type": "stream",
     "text": [
      "Train Total Loss: 1.86156 Accuracy: 0.36\n"
     ]
    },
    {
     "name": "stderr",
     "output_type": "stream",
     "text": [
      "100%|█████████████████████████████████████████████████████████████████| 36/36 [01:15<00:00,  2.10s/it]\n"
     ]
    },
    {
     "name": "stdout",
     "output_type": "stream",
     "text": [
      "Val Total Loss: 1.86185 Accuracy: 0.347\n",
      "Epoch 47 "
     ]
    },
    {
     "name": "stderr",
     "output_type": "stream",
     "text": [
      "100%|█████████████████████████████████████████████████████████████████| 36/36 [01:08<00:00,  1.89s/it]\n"
     ]
    },
    {
     "name": "stdout",
     "output_type": "stream",
     "text": [
      "Train Total Loss: 1.86119 Accuracy: 0.355\n"
     ]
    },
    {
     "name": "stderr",
     "output_type": "stream",
     "text": [
      "100%|█████████████████████████████████████████████████████████████████| 36/36 [00:58<00:00,  1.62s/it]\n"
     ]
    },
    {
     "name": "stdout",
     "output_type": "stream",
     "text": [
      "Val Total Loss: 1.86295 Accuracy: 0.346\n",
      "Epoch 48 "
     ]
    },
    {
     "name": "stderr",
     "output_type": "stream",
     "text": [
      "100%|█████████████████████████████████████████████████████████████████| 36/36 [01:08<00:00,  1.91s/it]\n"
     ]
    },
    {
     "name": "stdout",
     "output_type": "stream",
     "text": [
      "Train Total Loss: 1.85772 Accuracy: 0.361\n"
     ]
    },
    {
     "name": "stderr",
     "output_type": "stream",
     "text": [
      "100%|█████████████████████████████████████████████████████████████████| 36/36 [01:04<00:00,  1.80s/it]\n"
     ]
    },
    {
     "name": "stdout",
     "output_type": "stream",
     "text": [
      "Val Total Loss: 1.85701 Accuracy: 0.363\n",
      "Epoch 49 "
     ]
    },
    {
     "name": "stderr",
     "output_type": "stream",
     "text": [
      "100%|█████████████████████████████████████████████████████████████████| 36/36 [01:02<00:00,  1.73s/it]\n"
     ]
    },
    {
     "name": "stdout",
     "output_type": "stream",
     "text": [
      "Train Total Loss: 1.85697 Accuracy: 0.361\n"
     ]
    },
    {
     "name": "stderr",
     "output_type": "stream",
     "text": [
      "100%|█████████████████████████████████████████████████████████████████| 36/36 [01:10<00:00,  1.95s/it]\n"
     ]
    },
    {
     "name": "stdout",
     "output_type": "stream",
     "text": [
      "Val Total Loss: 1.85553 Accuracy: 0.358\n",
      "Epoch 50 "
     ]
    },
    {
     "name": "stderr",
     "output_type": "stream",
     "text": [
      "100%|█████████████████████████████████████████████████████████████████| 36/36 [01:05<00:00,  1.82s/it]\n"
     ]
    },
    {
     "name": "stdout",
     "output_type": "stream",
     "text": [
      "Train Total Loss: 1.85641 Accuracy: 0.359\n"
     ]
    },
    {
     "name": "stderr",
     "output_type": "stream",
     "text": [
      "100%|█████████████████████████████████████████████████████████████████| 36/36 [01:05<00:00,  1.82s/it]\n"
     ]
    },
    {
     "name": "stdout",
     "output_type": "stream",
     "text": [
      "Val Total Loss: 1.8546 Accuracy: 0.363\n",
      "Epoch 51 "
     ]
    },
    {
     "name": "stderr",
     "output_type": "stream",
     "text": [
      "100%|█████████████████████████████████████████████████████████████████| 36/36 [01:20<00:00,  2.23s/it]\n"
     ]
    },
    {
     "name": "stdout",
     "output_type": "stream",
     "text": [
      "Train Total Loss: 1.85452 Accuracy: 0.361\n"
     ]
    },
    {
     "name": "stderr",
     "output_type": "stream",
     "text": [
      "100%|█████████████████████████████████████████████████████████████████| 36/36 [01:00<00:00,  1.67s/it]\n"
     ]
    },
    {
     "name": "stdout",
     "output_type": "stream",
     "text": [
      "Val Total Loss: 1.85633 Accuracy: 0.356\n",
      "Epoch 52 "
     ]
    },
    {
     "name": "stderr",
     "output_type": "stream",
     "text": [
      "100%|█████████████████████████████████████████████████████████████████| 36/36 [01:10<00:00,  1.96s/it]\n"
     ]
    },
    {
     "name": "stdout",
     "output_type": "stream",
     "text": [
      "Train Total Loss: 1.85462 Accuracy: 0.358\n"
     ]
    },
    {
     "name": "stderr",
     "output_type": "stream",
     "text": [
      "100%|█████████████████████████████████████████████████████████████████| 36/36 [01:00<00:00,  1.68s/it]\n"
     ]
    },
    {
     "name": "stdout",
     "output_type": "stream",
     "text": [
      "Val Total Loss: 1.85237 Accuracy: 0.359\n",
      "Epoch 53 "
     ]
    },
    {
     "name": "stderr",
     "output_type": "stream",
     "text": [
      "100%|█████████████████████████████████████████████████████████████████| 36/36 [01:08<00:00,  1.89s/it]\n"
     ]
    },
    {
     "name": "stdout",
     "output_type": "stream",
     "text": [
      "Train Total Loss: 1.85568 Accuracy: 0.359\n"
     ]
    },
    {
     "name": "stderr",
     "output_type": "stream",
     "text": [
      "100%|█████████████████████████████████████████████████████████████████| 36/36 [01:06<00:00,  1.85s/it]\n"
     ]
    },
    {
     "name": "stdout",
     "output_type": "stream",
     "text": [
      "Val Total Loss: 1.85084 Accuracy: 0.362\n",
      "Epoch 54 "
     ]
    },
    {
     "name": "stderr",
     "output_type": "stream",
     "text": [
      "100%|█████████████████████████████████████████████████████████████████| 36/36 [01:05<00:00,  1.82s/it]\n"
     ]
    },
    {
     "name": "stdout",
     "output_type": "stream",
     "text": [
      "Train Total Loss: 1.85255 Accuracy: 0.361\n"
     ]
    },
    {
     "name": "stderr",
     "output_type": "stream",
     "text": [
      "100%|█████████████████████████████████████████████████████████████████| 36/36 [01:12<00:00,  2.00s/it]\n"
     ]
    },
    {
     "name": "stdout",
     "output_type": "stream",
     "text": [
      "Val Total Loss: 1.85121 Accuracy: 0.364\n",
      "Epoch 55 "
     ]
    },
    {
     "name": "stderr",
     "output_type": "stream",
     "text": [
      "100%|█████████████████████████████████████████████████████████████████| 36/36 [01:04<00:00,  1.80s/it]\n"
     ]
    },
    {
     "name": "stdout",
     "output_type": "stream",
     "text": [
      "Train Total Loss: 1.85096 Accuracy: 0.36\n"
     ]
    },
    {
     "name": "stderr",
     "output_type": "stream",
     "text": [
      "100%|█████████████████████████████████████████████████████████████████| 36/36 [01:10<00:00,  1.96s/it]\n"
     ]
    },
    {
     "name": "stdout",
     "output_type": "stream",
     "text": [
      "Val Total Loss: 1.85015 Accuracy: 0.356\n",
      "Epoch 56 "
     ]
    },
    {
     "name": "stderr",
     "output_type": "stream",
     "text": [
      "100%|█████████████████████████████████████████████████████████████████| 36/36 [00:59<00:00,  1.65s/it]\n"
     ]
    },
    {
     "name": "stdout",
     "output_type": "stream",
     "text": [
      "Train Total Loss: 1.85065 Accuracy: 0.361\n"
     ]
    },
    {
     "name": "stderr",
     "output_type": "stream",
     "text": [
      "100%|█████████████████████████████████████████████████████████████████| 36/36 [01:01<00:00,  1.71s/it]\n"
     ]
    },
    {
     "name": "stdout",
     "output_type": "stream",
     "text": [
      "Val Total Loss: 1.85218 Accuracy: 0.36\n",
      "Epoch 57 "
     ]
    },
    {
     "name": "stderr",
     "output_type": "stream",
     "text": [
      "100%|█████████████████████████████████████████████████████████████████| 36/36 [01:02<00:00,  1.73s/it]\n"
     ]
    },
    {
     "name": "stdout",
     "output_type": "stream",
     "text": [
      "Train Total Loss: 1.84979 Accuracy: 0.362\n"
     ]
    },
    {
     "name": "stderr",
     "output_type": "stream",
     "text": [
      "  0%|                                                                          | 0/36 [00:00<?, ?it/s]"
     ]
    }
   ],
   "source": [
    "for i in range(100):\n",
    "    print(f'Epoch {i}', end=' ')\n",
    "    train_epoch()\n",
    "    val_epoch()"
   ]
  },
  {
   "cell_type": "code",
   "execution_count": 46,
   "id": "c7a89d79-e614-4c93-b902-14a6b3423bea",
   "metadata": {},
   "outputs": [
    {
     "name": "stderr",
     "output_type": "stream",
     "text": [
      "100%|█████████████████████████████████████████████████████████████████| 36/36 [01:08<00:00,  1.89s/it]"
     ]
    },
    {
     "name": "stdout",
     "output_type": "stream",
     "text": [
      "Val Total Loss: 1.79751 Accuracy: 0.374\n"
     ]
    },
    {
     "name": "stderr",
     "output_type": "stream",
     "text": [
      "\n"
     ]
    }
   ],
   "source": [
    "val_epoch()"
   ]
  },
  {
   "cell_type": "code",
   "execution_count": 50,
   "id": "f099ebd7-3ad4-4319-9164-15bd470f7814",
   "metadata": {},
   "outputs": [],
   "source": [
    "torch.save(model.state_dict(), 'weight.pth')"
   ]
  },
  {
   "cell_type": "code",
   "execution_count": null,
   "id": "fa927642-c79e-4023-9456-4a4c3f3244af",
   "metadata": {},
   "outputs": [],
   "source": []
  },
  {
   "cell_type": "code",
   "execution_count": null,
   "id": "6d7a96ef-3436-425f-861e-66e0e17e9e45",
   "metadata": {},
   "outputs": [],
   "source": []
  },
  {
   "cell_type": "code",
   "execution_count": null,
   "id": "6d5486b2-04fa-4106-8798-7f2c4dd58f96",
   "metadata": {},
   "outputs": [],
   "source": []
  },
  {
   "cell_type": "code",
   "execution_count": null,
   "id": "50fa41dc-70e4-47af-a232-373e5e6ce85f",
   "metadata": {},
   "outputs": [],
   "source": []
  },
  {
   "cell_type": "code",
   "execution_count": null,
   "id": "a50d3d8a-7a90-4e1a-af00-0283bfeedeac",
   "metadata": {},
   "outputs": [],
   "source": []
  },
  {
   "cell_type": "code",
   "execution_count": null,
   "id": "7e4a8991-fcfa-4b3a-a0bb-eeff6cd98f85",
   "metadata": {},
   "outputs": [],
   "source": []
  },
  {
   "cell_type": "code",
   "execution_count": 19,
   "id": "14afc048-af95-48ec-b938-fcbd155da16e",
   "metadata": {},
   "outputs": [
    {
     "data": {
      "text/plain": [
       "tensor([[[-0.9506, -1.0241, -1.0530,  ...,  0.9812,  1.0417,  0.9451],\n",
       "         [ 0.7102,  0.2792, -0.0825,  ...,  0.9809,  1.0477,  0.9524],\n",
       "         [ 0.8573,  0.9642,  0.7275,  ...,  0.9739,  1.0498,  0.9607],\n",
       "         ...,\n",
       "         [ 0.8280, -0.4950, -1.4916,  ...,  1.1379,  1.1633,  1.1398],\n",
       "         [-0.4524, -1.4348, -1.7933,  ...,  1.1615,  1.1949,  1.1696],\n",
       "         [-1.6544, -1.8386, -1.7175,  ...,  1.1555,  1.1971,  1.1681]],\n",
       "\n",
       "        [[-1.0414, -0.9149, -0.8234,  ...,  1.0566,  1.0201,  1.0146],\n",
       "         [ 0.6124,  0.3958,  0.1637,  ...,  1.0612,  1.0240,  1.0267],\n",
       "         [ 0.7576,  1.0800,  0.9744,  ...,  1.0536,  1.0248,  1.0344],\n",
       "         ...,\n",
       "         [ 0.7786, -0.4324, -1.3649,  ...,  1.1770,  1.1506,  1.1753],\n",
       "         [-0.4901, -1.3836, -1.6932,  ...,  1.1920,  1.1849,  1.1972],\n",
       "         [-1.6989, -1.7630, -1.5743,  ...,  1.1934,  1.1788,  1.2022]],\n",
       "\n",
       "        [[-0.9525, -1.0261, -1.0523,  ...,  0.9826,  1.0414,  0.9448],\n",
       "         [ 0.7082,  0.2771, -0.0820,  ...,  0.9823,  1.0476,  0.9522],\n",
       "         [ 0.8554,  0.9621,  0.7280,  ...,  0.9753,  1.0497,  0.9605],\n",
       "         ...,\n",
       "         [ 0.8213, -0.4919, -1.4796,  ...,  1.1433,  1.1621,  1.1431],\n",
       "         [-0.4591, -1.4314, -1.7808,  ...,  1.1668,  1.1936,  1.1728],\n",
       "         [-1.6611, -1.8334, -1.7022,  ...,  1.1610,  1.1950,  1.1715]],\n",
       "\n",
       "        ...,\n",
       "\n",
       "        [[-0.9505, -1.0234, -1.0528,  ...,  0.9798,  1.0415,  0.9438],\n",
       "         [ 0.7104,  0.2800, -0.0822,  ...,  0.9795,  1.0475,  0.9511],\n",
       "         [ 0.8576,  0.9650,  0.7279,  ...,  0.9724,  1.0496,  0.9593],\n",
       "         ...,\n",
       "         [ 0.8371, -0.5044, -1.5136,  ...,  1.1285,  1.1650,  1.1312],\n",
       "         [-0.4437, -1.4436, -1.8141,  ...,  1.1528,  1.1967,  1.1616],\n",
       "         [-1.6479, -1.8465, -1.7353,  ...,  1.1485,  1.1989,  1.1618]],\n",
       "\n",
       "        [[-0.9590, -1.0312, -1.0657,  ...,  0.9740,  1.0361,  0.9337],\n",
       "         [ 0.7018,  0.2718, -0.0958,  ...,  0.9747,  1.0433,  0.9420],\n",
       "         [ 0.8501,  0.9583,  0.7158,  ...,  0.9690,  1.0467,  0.9515],\n",
       "         ...,\n",
       "         [ 0.7973, -0.4783, -1.4509,  ...,  1.1478,  1.1520,  1.1438],\n",
       "         [-0.4803, -1.4185, -1.7555,  ...,  1.1700,  1.1837,  1.1723],\n",
       "         [-1.6802, -1.8172, -1.6730,  ...,  1.1636,  1.1837,  1.1704]],\n",
       "\n",
       "        [[-0.9618, -1.0129, -1.0292,  ...,  0.9867,  1.0405,  0.9515],\n",
       "         [ 0.6992,  0.2923, -0.0559,  ...,  0.9871,  1.0464,  0.9596],\n",
       "         [ 0.8471,  0.9768,  0.7528,  ...,  0.9793,  1.0485,  0.9671],\n",
       "         ...,\n",
       "         [ 0.8365, -0.5048, -1.5147,  ...,  1.1262,  1.1656,  1.1304],\n",
       "         [-0.4436, -1.4446, -1.8168,  ...,  1.1500,  1.1974,  1.1603],\n",
       "         [-1.6479, -1.8475, -1.7378,  ...,  1.1459,  1.1997,  1.1607]]],\n",
       "       grad_fn=<NativeLayerNormBackward0>)"
      ]
     },
     "execution_count": 19,
     "metadata": {},
     "output_type": "execute_result"
    }
   ],
   "source": [
    "encoder(inputs_embeds=X[:, :, 1:], attention_mask=m).last_hidden_state"
   ]
  },
  {
   "cell_type": "code",
   "execution_count": 151,
   "id": "e1ab18ba-f468-48e6-bcf9-4dab11bdfe8a",
   "metadata": {},
   "outputs": [],
   "source": []
  },
  {
   "cell_type": "code",
   "execution_count": 158,
   "id": "aa3839af-a5d3-4f2a-9a3e-c9749c3f6aa5",
   "metadata": {},
   "outputs": [],
   "source": []
  },
  {
   "cell_type": "code",
   "execution_count": 161,
   "id": "52fc179f-69ac-45a8-b39b-f08e27bc5a04",
   "metadata": {},
   "outputs": [],
   "source": []
  },
  {
   "cell_type": "code",
   "execution_count": 181,
   "id": "68d85582-a3dc-41c0-add3-d44c52c13d75",
   "metadata": {},
   "outputs": [],
   "source": []
  },
  {
   "cell_type": "code",
   "execution_count": 245,
   "id": "21e7f586-9b7a-41f7-9172-93701b1f2331",
   "metadata": {},
   "outputs": [],
   "source": []
  },
  {
   "cell_type": "code",
   "execution_count": 249,
   "id": "8aab056f-8099-449a-b1b2-a1ad03c8dad9",
   "metadata": {},
   "outputs": [],
   "source": [
    "def train_epoch():\n",
    "    model.train()\n",
    "\n",
    "    total_loss = []\n",
    "    total_correct_predictions = 0\n",
    "    total_predictions = 0\n",
    "    \n",
    "    for batch in train_dataloader:\n",
    "        _, times, _, values, _, mask, aux, labels = batch\n",
    "        labels = labels.to(device)\n",
    "        values, mask = values.to(device), mask.to(device)\n",
    "    \n",
    "        optimizer.zero_grad()\n",
    "    \n",
    "        logits = model(values, mask)\n",
    "        loss = criterion(logits, labels)\n",
    "        total_loss.append(loss.item())\n",
    "    \n",
    "        probabilities = torch.nn.functional.softmax(logits, dim=1)\n",
    "        _, predicted_labels = torch.max(probabilities, dim=1)\n",
    "        correct_predictions = (predicted_labels == labels).sum().item()\n",
    "    \n",
    "        total_correct_predictions += correct_predictions\n",
    "        total_predictions += labels.size(0)\n",
    "    \n",
    "        loss.backward()\n",
    "        optimizer.step()\n",
    "\n",
    "    print(f'Total Loss: {round(sum(total_loss) / len(total_loss), 5)} Accuracy: {round(total_correct_predictions / total_predictions, 3)}', end=' ')"
   ]
  },
  {
   "cell_type": "code",
   "execution_count": 250,
   "id": "8b64140a-cd14-4d0c-9791-bee06c78a833",
   "metadata": {},
   "outputs": [],
   "source": [
    "def val_epoch():\n",
    "    model.eval()\n",
    "\n",
    "    total_loss = []\n",
    "    total_correct_predictions = 0\n",
    "    total_predictions = 0\n",
    "\n",
    "    with torch.no_grad():\n",
    "        for batch in val_dataloader:\n",
    "            _, times, _, values, _, mask, aux, labels = batch\n",
    "            labels = labels.to(device)\n",
    "            values, mask = values.to(device), mask.to(device)\n",
    "\n",
    "            logits = model(values, mask)\n",
    "            loss = criterion(logits, labels)\n",
    "            total_loss.append(loss.item())\n",
    "\n",
    "            probabilities = torch.nn.functional.softmax(logits, dim=1)\n",
    "            _, predicted_labels = torch.max(probabilities, dim=1)\n",
    "            correct_predictions = (predicted_labels == labels).sum().item()\n",
    "\n",
    "            total_correct_predictions += correct_predictions\n",
    "            total_predictions += labels.size(0)\n",
    "\n",
    "    print(f'Total Loss: {round(sum(total_loss) / len(total_loss), 5)} Accuracy: {round(total_correct_predictions / total_predictions, 3)}')"
   ]
  },
  {
   "cell_type": "code",
   "execution_count": null,
   "id": "fb0b3dad-925b-45bf-ba1a-9b11da7a3a5e",
   "metadata": {},
   "outputs": [],
   "source": []
  },
  {
   "cell_type": "code",
   "execution_count": null,
   "id": "bed6129b-eb6e-408e-95f3-28b6b73800d6",
   "metadata": {},
   "outputs": [],
   "source": []
  },
  {
   "cell_type": "code",
   "execution_count": 239,
   "id": "f1e8a96c-d1b9-4603-bdc4-6ad7051e01d2",
   "metadata": {},
   "outputs": [
    {
     "data": {
      "text/plain": [
       "[<matplotlib.lines.Line2D at 0x7fd175aec8b0>]"
      ]
     },
     "execution_count": 239,
     "metadata": {},
     "output_type": "execute_result"
    },
    {
     "data": {
      "image/png": "[encoded data removed]",
      "text/plain": [
       "<Figure size 640x480 with 1 Axes>"
      ]
     },
     "metadata": {},
     "output_type": "display_data"
    }
   ],
   "source": [
    "plt.plot(X[0, :, 0], X[0, :, 1])"
   ]
  },
  {
   "cell_type": "code",
   "execution_count": 240,
   "id": "1ba55752-1054-4930-8f14-4518c9fcc358",
   "metadata": {},
   "outputs": [
    {
     "data": {
      "text/plain": [
       "[<matplotlib.lines.Line2D at 0x7fd175aea260>]"
      ]
     },
     "execution_count": 240,
     "metadata": {},
     "output_type": "execute_result"
    },
    {
     "data": {
      "image/png": "[encoded data removed]",
      "text/plain": [
       "<Figure size 640x480 with 1 Axes>"
      ]
     },
     "metadata": {},
     "output_type": "display_data"
    }
   ],
   "source": [
    "plt.plot(X[0, :, 0], X[0, :, 1], '.')"
   ]
  },
  {
   "cell_type": "code",
   "execution_count": 242,
   "id": "b640b761-9ae1-48e5-8bd4-7d23300f9ced",
   "metadata": {},
   "outputs": [
    {
     "data": {
      "text/plain": [
       "[<matplotlib.lines.Line2D at 0x7fd1793c9990>]"
      ]
     },
     "execution_count": 242,
     "metadata": {},
     "output_type": "execute_result"
    },
    {
     "data": {
      "image/png": "[encoded data removed]",
      "text/plain": [
       "<Figure size 640x480 with 1 Axes>"
      ]
     },
     "metadata": {},
     "output_type": "display_data"
    }
   ],
   "source": [
    "plt.plot(sorted_X[0, :, 0], sorted_X[0, :, 1])"
   ]
  },
  {
   "cell_type": "code",
   "execution_count": 243,
   "id": "70dddd26-330c-4a27-ac2d-c45c942676a1",
   "metadata": {},
   "outputs": [
    {
     "data": {
      "text/plain": [
       "[<matplotlib.lines.Line2D at 0x7fd175a19780>]"
      ]
     },
     "execution_count": 243,
     "metadata": {},
     "output_type": "execute_result"
    },
    {
     "data": {
      "image/png": "[encoded data removed]",
      "text/plain": [
       "<Figure size 640x480 with 1 Axes>"
      ]
     },
     "metadata": {},
     "output_type": "display_data"
    }
   ],
   "source": [
    "plt.plot(sorted_X[0, :, 0], sorted_X[0, :, 1], '.')"
   ]
  },
  {
   "cell_type": "code",
   "execution_count": 144,
   "id": "ded3eab9-be71-4e3e-b806-e498409051c8",
   "metadata": {},
   "outputs": [
    {
     "data": {
      "text/plain": [
       "tensor(90.4022)"
      ]
     },
     "execution_count": 144,
     "metadata": {},
     "output_type": "execute_result"
    }
   ],
   "source": [
    "(sorted_X[0, :, 0] * ~sorted_mask[0]).sum()"
   ]
  },
  {
   "cell_type": "code",
   "execution_count": 145,
   "id": "700cab6e-1118-42c8-a7e6-759e62309cd1",
   "metadata": {},
   "outputs": [
    {
     "data": {
      "text/plain": [
       "tensor(90.4022)"
      ]
     },
     "execution_count": 145,
     "metadata": {},
     "output_type": "execute_result"
    }
   ],
   "source": [
    "sorted_X[0, :, 0].sum()"
   ]
  },
  {
   "cell_type": "code",
   "execution_count": 152,
   "id": "3d6a3643-7cff-4e2f-9506-6f3f3f5e2a19",
   "metadata": {},
   "outputs": [
    {
     "data": {
      "text/plain": [
       "tensor([[0, 0, 0,  ..., 1, 1, 1],\n",
       "        [0, 0, 0,  ..., 1, 1, 1],\n",
       "        [0, 0, 0,  ..., 1, 1, 1],\n",
       "        ...,\n",
       "        [0, 0, 0,  ..., 1, 1, 1],\n",
       "        [0, 0, 0,  ..., 1, 1, 1],\n",
       "        [0, 0, 0,  ..., 1, 1, 1]], dtype=torch.int32)"
      ]
     },
     "execution_count": 152,
     "metadata": {},
     "output_type": "execute_result"
    }
   ],
   "source": [
    "m"
   ]
  },
  {
   "cell_type": "code",
   "execution_count": 182,
   "id": "64f7db4f-d585-4057-bbfd-f61899522b80",
   "metadata": {},
   "outputs": [
    {
     "data": {
      "text/plain": [
       "torch.Size([128])"
      ]
     },
     "execution_count": 182,
     "metadata": {},
     "output_type": "execute_result"
    }
   ],
   "source": [
    "classes.shape"
   ]
  },
  {
   "cell_type": "code",
   "execution_count": null,
   "id": "da1601b9-21f5-4ff7-81e8-f124565d7285",
   "metadata": {},
   "outputs": [],
   "source": []
  },
  {
   "cell_type": "code",
   "execution_count": 76,
   "id": "52a927ab-674c-4812-8106-9d53cef9929f",
   "metadata": {},
   "outputs": [],
   "source": []
  },
  {
   "cell_type": "code",
   "execution_count": null,
   "id": "20ab676f-436e-4aba-a312-2c30694e4fd6",
   "metadata": {},
   "outputs": [],
   "source": []
  },
  {
   "cell_type": "code",
   "execution_count": null,
   "id": "6ac976b7-2d81-43dd-8331-54e6e8de15bb",
   "metadata": {},
   "outputs": [],
   "source": []
  },
  {
   "cell_type": "code",
   "execution_count": 77,
   "id": "5c464e59-6201-4f04-b1a1-93bd2b3aea1f",
   "metadata": {},
   "outputs": [],
   "source": []
  },
  {
   "cell_type": "code",
   "execution_count": 78,
   "id": "fad42003-b301-4a23-8cb8-c799547a71f8",
   "metadata": {},
   "outputs": [
    {
     "name": "stdout",
     "output_type": "stream",
     "text": [
      "Using cuda\n"
     ]
    }
   ],
   "source": []
  },
  {
   "cell_type": "code",
   "execution_count": 69,
   "id": "524084f3-2b78-4f5f-843f-062f82f27a98",
   "metadata": {},
   "outputs": [],
   "source": [
    "model = TimeSeriesTransformerModel(config)\n",
    "model = embedder.to(device)"
   ]
  },
  {
   "cell_type": "code",
   "execution_count": null,
   "id": "f0203832-9f2c-4ef1-9416-046f80f45750",
   "metadata": {},
   "outputs": [],
   "source": []
  },
  {
   "cell_type": "code",
   "execution_count": 79,
   "id": "0b068437-a258-46c1-b956-462efc802269",
   "metadata": {},
   "outputs": [],
   "source": [
    "encoder = TimeSeriesTransformerEncoder(config)\n",
    "# encoder = encoder.to(device)"
   ]
  },
  {
   "cell_type": "code",
   "execution_count": 56,
   "id": "3aff20b7-b756-4f17-be3a-3b707e288439",
   "metadata": {},
   "outputs": [
    {
     "data": {
      "text/plain": [
       "torch.Size([128, 1, 3, 570])"
      ]
     },
     "execution_count": 56,
     "metadata": {},
     "output_type": "execute_result"
    }
   ],
   "source": [
    "lcs.shape"
   ]
  },
  {
   "cell_type": "code",
   "execution_count": 60,
   "id": "7bbcd8ed-d1ea-412f-ae2d-3f912bfecbe9",
   "metadata": {},
   "outputs": [
    {
     "data": {
      "text/plain": [
       "torch.Size([128, 570, 3, 1])"
      ]
     },
     "execution_count": 60,
     "metadata": {},
     "output_type": "execute_result"
    }
   ],
   "source": [
    "lcs = lcs.transpose(1, -1)\n",
    "lcs.shape"
   ]
  },
  {
   "cell_type": "code",
   "execution_count": 74,
   "id": "8e8caf6e-de38-4813-9040-abd98a9b127c",
   "metadata": {},
   "outputs": [
    {
     "data": {
      "text/plain": [
       "torch.Size([128, 570, 2])"
      ]
     },
     "execution_count": 74,
     "metadata": {},
     "output_type": "execute_result"
    }
   ],
   "source": [
    "enc_input = lcs[:, :, 1:, 0]\n",
    "# enc_input = enc_input.to(device)\n",
    "enc_input.shape"
   ]
  },
  {
   "cell_type": "code",
   "execution_count": 90,
   "id": "ab03b009-d2cd-473c-a3fb-9f00b479a77e",
   "metadata": {},
   "outputs": [
    {
     "data": {
      "text/plain": [
       "torch.Size([128, 570, 3, 1])"
      ]
     },
     "execution_count": 90,
     "metadata": {},
     "output_type": "execute_result"
    }
   ],
   "source": [
    "lcs_mask = lcs_mask.transpose(1, -1)\n",
    "lcs_mask.shape"
   ]
  },
  {
   "cell_type": "code",
   "execution_count": 93,
   "id": "34264fc1-492e-498e-a4bb-ddf7caaf9bc2",
   "metadata": {},
   "outputs": [
    {
     "data": {
      "text/plain": [
       "tensor(0)"
      ]
     },
     "execution_count": 93,
     "metadata": {},
     "output_type": "execute_result"
    }
   ],
   "source": [
    "(lcs_mask[:, :, 1, 0] != lcs_mask[:, :, 2, 0]).sum()"
   ]
  },
  {
   "cell_type": "code",
   "execution_count": 94,
   "id": "ce03d1b2-4445-4b8b-bdca-ac34349b2b81",
   "metadata": {},
   "outputs": [
    {
     "data": {
      "text/plain": [
       "torch.Size([128, 570])"
      ]
     },
     "execution_count": 94,
     "metadata": {},
     "output_type": "execute_result"
    }
   ],
   "source": [
    "attention_mask = lcs_mask[:, :, 1, 0]\n",
    "attention_mask.shape"
   ]
  },
  {
   "cell_type": "code",
   "execution_count": 95,
   "id": "887a3d6c-5f88-496a-bb52-5058c853ccd6",
   "metadata": {},
   "outputs": [],
   "source": [
    "# inputs_embeds `torch.FloatTensor` of shape `(batch_size, sequence_length, hidden_size) 128 570 2\n",
    "encoder_outputs = encoder(\n",
    "    inputs_embeds=enc_input,\n",
    "    attention_mask=attention_mask,\n",
    "    head_mask=None,\n",
    "    output_attentions=None,\n",
    "    output_hidden_states=None,\n",
    "    return_dict=None,\n",
    ")"
   ]
  },
  {
   "cell_type": "code",
   "execution_count": 104,
   "id": "ddd0150e-5c86-4c51-bb8f-54ee4ad10aad",
   "metadata": {},
   "outputs": [
    {
     "data": {
      "text/plain": [
       "torch.Size([128, 570, 1])"
      ]
     },
     "execution_count": 104,
     "metadata": {},
     "output_type": "execute_result"
    }
   ],
   "source": [
    "past_time_features = lcs[:, :, 0, 0:]\n",
    "past_time_features.shape"
   ]
  },
  {
   "cell_type": "code",
   "execution_count": 96,
   "id": "0a47c087-0fe7-463f-97b6-f59caa18f3d4",
   "metadata": {},
   "outputs": [
    {
     "data": {
      "text/plain": [
       "torch.Size([128, 570, 64])"
      ]
     },
     "execution_count": 96,
     "metadata": {},
     "output_type": "execute_result"
    }
   ],
   "source": [
    "encoder_outputs.last_hidden_state.shape"
   ]
  },
  {
   "cell_type": "code",
   "execution_count": 29,
   "id": "c88bdac2-4b4a-49df-bced-c04c6e646759",
   "metadata": {},
   "outputs": [],
   "source": [
    "model = ClassificationModel(pretrained_model=embedder, device=device)\n",
    "optimizer = AdamW(model.parameters(), lr=1e-4)\n",
    "scheduler = ReduceLROnPlateau(optimizer, mode='min', factor=0.3, patience=10, verbose=True)\n",
    "criterion = nn.CrossEntropyLoss()"
   ]
  },
  {
   "cell_type": "code",
   "execution_count": 35,
   "id": "2dc9902c-47bd-4742-a97b-46801c118f58",
   "metadata": {},
   "outputs": [],
   "source": [
    "values = lcs[:, 0, 1, :]\n",
    "time_features = lcs[:, 0, 0, :]\n",
    "observed_mask = masks[0][:, 0, 0, :]"
   ]
  },
  {
   "cell_type": "code",
   "execution_count": 37,
   "id": "bf03c34a-db43-4300-b7ed-755e473d37de",
   "metadata": {},
   "outputs": [
    {
     "data": {
      "text/plain": [
       "(torch.Size([128, 570]), torch.Size([128, 570]), torch.Size([128, 570]))"
      ]
     },
     "execution_count": 37,
     "metadata": {},
     "output_type": "execute_result"
    }
   ],
   "source": [
    "values.shape, time_features.shape, observed_mask.shape"
   ]
  },
  {
   "cell_type": "code",
   "execution_count": null,
   "id": "097dca4e-1a06-4981-85d7-bb473295ac2a",
   "metadata": {},
   "outputs": [],
   "source": [
    "outputs = self.pretrained_model(\n",
    "    past_time_features=past_times.to(self.device),\n",
    "    past_values=past_values.to(self.device),\n",
    "    future_time_features=future_times.to(self.device),\n",
    "    past_observed_mask=past_mask.to(self.device),\n",
    "    static_real_features=static_real_features\n",
    ")\n",
    "\n",
    "# embedding = torch.mean(outputs.encoder_last_hidden_state, dim=1)\n",
    "embedding = outputs.encoder_last_hidden_state[:, 0, :]\n",
    "logits = self.classifier(embedding)"
   ]
  },
  {
   "cell_type": "code",
   "execution_count": null,
   "id": "97a07c98-3222-4715-9f9f-fd42e3878eb5",
   "metadata": {},
   "outputs": [],
   "source": []
  },
  {
   "cell_type": "code",
   "execution_count": null,
   "id": "73a818de-e1bb-4bac-8bf2-a0cc522602b7",
   "metadata": {},
   "outputs": [],
   "source": []
  }
 ],
 "metadata": {
  "kernelspec": {
   "display_name": "Python 3 (ipykernel)",
   "language": "python",
   "name": "python3"
  },
  "language_info": {
   "codemirror_mode": {
    "name": "ipython",
    "version": 3
   },
   "file_extension": ".py",
   "mimetype": "text/x-python",
   "name": "python",
   "nbconvert_exporter": "python",
   "pygments_lexer": "ipython3",
   "version": "3.10.14"
  }
 },
 "nbformat": 4,
 "nbformat_minor": 5
}

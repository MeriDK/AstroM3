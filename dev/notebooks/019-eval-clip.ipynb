{
 "cells": [
  {
   "cell_type": "code",
   "execution_count": 122,
   "id": "a0f541af-bb5d-443d-85c1-d3281bd21ce1",
   "metadata": {},
   "source": [
    "import sys\n",
    "sys.path.insert(0, '..')\n",
    "\n",
    "import numpy as np\n",
    "import torch\n",
    "import torch.nn.functional as F\n",
    "from datetime import datetime\n",
    "from torch.utils.data import DataLoader\n",
    "import matplotlib.pyplot as plt\n",
    "from tqdm import tqdm\n",
    "import umap\n",
    "from sklearn.manifold import TSNE\n",
    "from sklearn.decomposition import PCA\n",
    "import matplotlib.colors as mcolors\n",
    "\n",
    "from core.multimodal.dataset2 import VPSMDatasetV2\n",
    "from core.multimodal.model import ModelV1"
   ],
   "outputs": []
  },
  {
   "cell_type": "code",
   "execution_count": 2,
   "id": "3648ebef-b42c-4be9-b1b6-88946a4d1002",
   "metadata": {},
   "source": [
    "def get_config(random_seed):\n",
    "    config = {\n",
    "        'project': 'multimodal-contrastive',\n",
    "        'random_seed': random_seed,\n",
    "        'use_wandb': True,\n",
    "        'save_weights': True,\n",
    "        'weights_path': f'/home/mariia/AstroML/weights/{datetime.now().strftime(\"%Y-%m-%d-%H-%M\")}',\n",
    "        'use_pretrain': None,\n",
    "\n",
    "        # Data General\n",
    "        'dataset': 'VPSMDatasetV2',     # 'VPSMDataset' or 'VPSMDatasetV2'\n",
    "        'data_root': '/home/mariia/AstroML/data/asassn/',\n",
    "        'file': 'preprocessed_data/full/spectra_and_v',\n",
    "        'classes': None,\n",
    "        'min_samples': 200,\n",
    "        'max_samples': None,\n",
    "\n",
    "        # Photometry\n",
    "        'v_zip': 'asassnvarlc_vband_complete.zip',\n",
    "        'v_prefix': 'vardb_files',\n",
    "        'seq_len': 200,\n",
    "        'phased': True,\n",
    "        'clip': False,\n",
    "        'aux': True,\n",
    "\n",
    "        # Spectra\n",
    "        'lamost_spec_dir': 'Spectra/v2',\n",
    "        'spectra_v_file': 'spectra_v_merged.csv',\n",
    "        'z_corr': False,\n",
    "\n",
    "        # Photometry Model\n",
    "        'p_encoder_layers': 8,\n",
    "        'p_d_model': 128,\n",
    "        'p_dropout': 0,\n",
    "        'p_feature_size': 3,\n",
    "        'p_n_heads': 4,\n",
    "        'p_d_ff': 512,\n",
    "\n",
    "        # Spectra Model\n",
    "        's_hidden_dim': 512,\n",
    "        's_dropout': 0,\n",
    "\n",
    "        # Metadata Model\n",
    "        'm_hidden_dim': 512,\n",
    "        'm_dropout': 0,\n",
    "\n",
    "        # MultiModal Model\n",
    "        'model': 'ModelV1',     # 'ModelV0' or 'ModelV1'\n",
    "        'hidden_dim': 256,\n",
    "\n",
    "        # Training\n",
    "        'batch_size': 32,\n",
    "        'lr': 1e-3,\n",
    "        'weight_decay': 0,\n",
    "        'epochs': 50,\n",
    "        'optimizer': 'AdamW',\n",
    "        'early_stopping_patience': 100,\n",
    "\n",
    "        # Learning Rate Scheduler\n",
    "        'factor': 0.3,\n",
    "        'patience': 50,\n",
    "    }\n",
    "\n",
    "    config['p_feature_size'] += 4\n",
    "\n",
    "    return config"
   ],
   "outputs": []
  },
  {
   "cell_type": "code",
   "execution_count": 3,
   "id": "70f30539-e60b-4482-be60-398a16b1e503",
   "metadata": {},
   "source": [
    "config = get_config(42)\n",
    "CLASSES = ['EW', 'SR', 'EA', 'RRAB', 'EB', 'ROT', 'RRC', 'HADS', 'M', 'DSCT']"
   ],
   "outputs": []
  },
  {
   "cell_type": "code",
   "execution_count": 4,
   "id": "4c45be84-8685-4bff-a9e0-490064dcea53",
   "metadata": {},
   "source": [
    "train_dataset = VPSMDatasetV2(split='train', classes=CLASSES, seq_len=200, phased=True, clip=False, aux=True, z_corr=False, random_seed=42)\n",
    "val_dataset = VPSMDatasetV2(split='val', classes=CLASSES, seq_len=200, phased=True, clip=False, aux=True, z_corr=False, random_seed=42)\n",
    "test_dataset = VPSMDatasetV2(split='test', classes=CLASSES, seq_len=200, phased=True, clip=False, aux=True, z_corr=False, random_seed=42)"
   ],
   "outputs": []
  },
  {
   "cell_type": "code",
   "execution_count": 5,
   "id": "a45f5dfb-5fba-4f1e-ae65-c97baba340a3",
   "metadata": {},
   "source": [
    "train_dataloader = DataLoader(train_dataset, batch_size=config['batch_size'], shuffle=False)\n",
    "val_dataloader = DataLoader(val_dataset, batch_size=config['batch_size'], shuffle=False)"
   ],
   "outputs": []
  },
  {
   "cell_type": "code",
   "execution_count": 6,
   "id": "ea960d84-4567-4069-af80-54c51afdcd42",
   "metadata": {},
   "source": [
    "device = torch.device('cuda' if torch.cuda.is_available() else 'cpu')\n",
    "model = ModelV1(config)\n",
    "model.load_state_dict(torch.load('/home/mariia/AstroML/weights/2024-06-13-18-41-lwvpa5fm/weights-49.pth'))\n",
    "model = model.to(device)\n",
    "model.eval()"
   ],
   "outputs": []
  },
  {
   "cell_type": "code",
   "execution_count": 138,
   "id": "b401c263-3e22-46e5-9361-82786fd11933",
   "metadata": {},
   "source": [
    "photometry, photometry_mask, spectra, metadata, y = next(iter(val_dataloader))\n",
    "photometry, photometry_mask = photometry.to(device), photometry_mask.to(device)\n",
    "spectra, metadata = spectra.to(device), metadata.to(device)"
   ],
   "outputs": []
  },
  {
   "cell_type": "code",
   "execution_count": 139,
   "id": "6f12f517-a63c-4a48-9a3e-011d28cf2ab0",
   "metadata": {},
   "source": [
    "logits_ps, logits_sm, logits_mp = model(photometry, photometry_mask, spectra, metadata)"
   ],
   "outputs": []
  },
  {
   "cell_type": "code",
   "execution_count": 145,
   "id": "9345acc5-0638-43fa-8c7d-481f8950eac1",
   "metadata": {},
   "source": [
    "labels = torch.arange(logits_ps.shape[0], dtype=torch.int64, device=device)\n",
    "\n",
    "_, pred_labels_ps = torch.max(F.softmax(logits_ps, dim=1), dim=1)\n",
    "_, pred_labels_sp = torch.max(F.softmax(logits_ps.transpose(-1, -2), dim=1), dim=1)\n",
    "\n",
    "_, pred_labels_sm = torch.max(F.softmax(logits_sm, dim=1), dim=1)\n",
    "_, pred_labels_ms = torch.max(F.softmax(logits_sm.transpose(-1, -2), dim=1), dim=1)\n",
    "\n",
    "_, pred_labels_mp = torch.max(F.softmax(logits_mp, dim=1), dim=1)\n",
    "_, pred_labels_pm = torch.max(F.softmax(logits_mp.transpose(-1, -2), dim=1), dim=1)\n",
    "\n",
    "print(f'Correct predictions ps: {(pred_labels_ps == labels).sum().item()}/{len(pred_labels)}')\n",
    "print(f'Correct predictions sp: {(pred_labels_sp == labels).sum().item()}/{len(pred_labels)}')\n",
    "print(f'Correct predictions sm: {(pred_labels_sm == labels).sum().item()}/{len(pred_labels)}')\n",
    "print(f'Correct predictions ms: {(pred_labels_ms == labels).sum().item()}/{len(pred_labels)}')\n",
    "print(f'Correct predictions mp: {(pred_labels_mp == labels).sum().item()}/{len(pred_labels)}')\n",
    "print(f'Correct predictions pm: {(pred_labels_pm == labels).sum().item()}/{len(pred_labels)}')"
   ],
   "outputs": []
  },
  {
   "cell_type": "code",
   "execution_count": 31,
   "id": "adb959ce-e250-4727-9b56-fe8e0e97b845",
   "metadata": {},
   "source": [
    "model.logit_scale_ps, model.logit_scale_sm, model.logit_scale_mp"
   ],
   "outputs": []
  },
  {
   "cell_type": "code",
   "execution_count": 147,
   "id": "d8efd1c4-e6dd-4685-81e9-808fa54f1ac5",
   "metadata": {},
   "source": [
    "prob_ps = (F.softmax(logits_ps, dim=1) + F.softmax(logits_ps.transpose(-1, -2), dim=1)) / 2\n",
    "prob_sm = (F.softmax(logits_sm, dim=1) + F.softmax(logits_sm.transpose(-1, -2), dim=1)) / 2\n",
    "prob_mp = (F.softmax(logits_mp, dim=1) + F.softmax(logits_mp.transpose(-1, -2), dim=1)) / 2\n",
    "\n",
    "prob = (prob_ps + prob_sm + prob_mp) / 3\n",
    "_, pred_labels = torch.max(prob, dim=1)\n",
    "\n",
    "print(f'Correct predictions avg: {(pred_labels == labels).sum().item()}/{len(pred_labels)}')"
   ],
   "outputs": []
  },
  {
   "cell_type": "code",
   "execution_count": 148,
   "id": "7fa028e8-56bb-4fb6-8a96-98928c97586c",
   "metadata": {},
   "source": [
    "prob_ps = prob_ps.cpu().detach().numpy()\n",
    "prob_sm = prob_sm.cpu().detach().numpy()\n",
    "prob_mp = prob_mp.cpu().detach().numpy()\n",
    "prob = prob.cpu().detach().numpy()"
   ],
   "outputs": []
  },
  {
   "cell_type": "code",
   "execution_count": 149,
   "id": "8237a31c-3de5-47cc-a04f-722c37bb3026",
   "metadata": {},
   "source": [
    "y"
   ],
   "outputs": []
  },
  {
   "cell_type": "code",
   "execution_count": 159,
   "id": "698845ab-d4d3-48a8-b78e-e98ef769f7c0",
   "metadata": {},
   "source": [
    "fig, axs = plt.subplots(8, 4, figsize=(12, 25))\n",
    "\n",
    "for i in range(32):\n",
    "    ax = axs[i // 4, i % 4]  # Determine the position of the subplot\n",
    "    ax.set_ylim(-0.05, 1.05)\n",
    "\n",
    "    for data, color, label, y_true in zip((prob_ps, prob_sm, prob_mp, prob), ('r', 'g', 'y', 'b'), ('prob_ps', 'prob_sm', 'prob_mp', 'prob'), y):\n",
    "        ax.plot(data[i], f'{color}.', label=label)\n",
    "\n",
    "        max_idx = np.argmax(data[i])\n",
    "        max_val = data[i][max_idx]\n",
    "        ax.plot(max_idx, max_val, f'{color}o')\n",
    "        ax.text(max_idx, max_val - 0.07, f'{y[max_idx]}', fontsize=9, ha='center')\n",
    "\n",
    "        if label == 'prob':\n",
    "            ax.set_title(f'True label {i}. Predicted: {max_idx}')\n",
    "            ax.legend()\n",
    "    \n",
    "plt.tight_layout()\n",
    "plt.show()"
   ],
   "outputs": []
  },
  {
   "cell_type": "code",
   "execution_count": 160,
   "id": "9cb3062c-287b-433e-8dd1-7f2ac772289c",
   "metadata": {},
   "source": [
    "photometry, photometry_mask, spectra, metadata, label = next(iter(train_dataloader))\n",
    "photometry, photometry_mask = photometry.to(device), photometry_mask.to(device)\n",
    "spectra, metadata = spectra.to(device), metadata.to(device)\n",
    "\n",
    "logits_ps, logits_sm, logits_mp = model(photometry, photometry_mask, spectra, metadata)\n",
    "labels = torch.arange(logits_ps.shape[0], dtype=torch.int64, device=device)\n",
    "\n",
    "_, pred_labels_ps = torch.max(F.softmax(logits_ps, dim=1), dim=1)\n",
    "_, pred_labels_sp = torch.max(F.softmax(logits_ps.transpose(-1, -2), dim=1), dim=1)\n",
    "\n",
    "_, pred_labels_sm = torch.max(F.softmax(logits_sm, dim=1), dim=1)\n",
    "_, pred_labels_ms = torch.max(F.softmax(logits_sm.transpose(-1, -2), dim=1), dim=1)\n",
    "\n",
    "_, pred_labels_mp = torch.max(F.softmax(logits_mp, dim=1), dim=1)\n",
    "_, pred_labels_pm = torch.max(F.softmax(logits_mp.transpose(-1, -2), dim=1), dim=1)\n",
    "\n",
    "print(f'Correct predictions ps: {(pred_labels_ps == labels).sum().item()}/{len(pred_labels)}')\n",
    "print(f'Correct predictions sp: {(pred_labels_sp == labels).sum().item()}/{len(pred_labels)}')\n",
    "print(f'Correct predictions sm: {(pred_labels_sm == labels).sum().item()}/{len(pred_labels)}')\n",
    "print(f'Correct predictions ms: {(pred_labels_ms == labels).sum().item()}/{len(pred_labels)}')\n",
    "print(f'Correct predictions mp: {(pred_labels_mp == labels).sum().item()}/{len(pred_labels)}')\n",
    "print(f'Correct predictions pm: {(pred_labels_pm == labels).sum().item()}/{len(pred_labels)}')\n",
    "\n",
    "prob_ps = (F.softmax(logits_ps, dim=1) + F.softmax(logits_ps.transpose(-1, -2), dim=1)) / 2\n",
    "prob_sm = (F.softmax(logits_sm, dim=1) + F.softmax(logits_sm.transpose(-1, -2), dim=1)) / 2\n",
    "prob_mp = (F.softmax(logits_mp, dim=1) + F.softmax(logits_mp.transpose(-1, -2), dim=1)) / 2\n",
    "\n",
    "prob = (prob_ps + prob_sm + prob_mp) / 3\n",
    "_, pred_labels = torch.max(prob, dim=1)\n",
    "\n",
    "print(f'Correct predictions avg: {(pred_labels == labels).sum().item()}/{len(pred_labels)}')\n",
    "\n",
    "prob_ps = prob_ps.cpu().detach().numpy()\n",
    "prob_sm = prob_sm.cpu().detach().numpy()\n",
    "prob_mp = prob_mp.cpu().detach().numpy()\n",
    "prob = prob.cpu().detach().numpy()\n",
    "\n",
    "fig, axs = plt.subplots(8, 4, figsize=(12, 25))\n",
    "\n",
    "for i in range(32):\n",
    "    ax = axs[i // 4, i % 4]  # Determine the position of the subplot\n",
    "    ax.set_ylim(-0.05, 1.05)\n",
    "\n",
    "    for data, color, label, y_true in zip((prob_ps, prob_sm, prob_mp, prob), ('r', 'g', 'y', 'b'), ('prob_ps', 'prob_sm', 'prob_mp', 'prob'), y):\n",
    "        ax.plot(data[i], f'{color}.', label=label)\n",
    "\n",
    "        max_idx = np.argmax(data[i])\n",
    "        max_val = data[i][max_idx]\n",
    "        ax.plot(max_idx, max_val, f'{color}o')\n",
    "        ax.text(max_idx, max_val - 0.07, f'{y[max_idx]}', fontsize=9, ha='center')\n",
    "\n",
    "        if label == 'prob':\n",
    "            ax.set_title(f'True label {i}. Predicted: {max_idx}')\n",
    "            ax.legend()\n",
    "                \n",
    "plt.tight_layout()\n",
    "plt.show()"
   ],
   "outputs": []
  },
  {
   "cell_type": "code",
   "execution_count": 163,
   "id": "b1a99d33-6fd7-4c39-b2c9-f11b4ff3437d",
   "metadata": {},
   "source": [
    "p_embeddings, s_embeddings, m_embeddings, labels = [], [], [], []\n",
    "\n",
    "for photometry, photometry_mask, spectra, metadata, label in tqdm(train_dataloader):\n",
    "    photometry, photometry_mask = photometry.to(device), photometry_mask.to(device)\n",
    "    spectra, metadata = spectra.to(device), metadata.to(device)\n",
    "    \n",
    "    p_emb, s_emb, m_emb = model.get_embeddings(photometry, photometry_mask, spectra, metadata)\n",
    "    p_embeddings.append(p_emb.cpu().detach().numpy())\n",
    "    s_embeddings.append(s_emb.cpu().detach().numpy())\n",
    "    m_embeddings.append(m_emb.cpu().detach().numpy())\n",
    "    labels.append(label.numpy())"
   ],
   "outputs": []
  },
  {
   "cell_type": "code",
   "execution_count": 164,
   "id": "4bb626ec-9b08-4e3a-ba94-8c5aa51fb76f",
   "metadata": {},
   "source": [
    "p_embeddings = np.vstack(p_embeddings)\n",
    "s_embeddings = np.vstack(s_embeddings)\n",
    "m_embeddings = np.vstack(m_embeddings)\n",
    "labels = np.concatenate(labels)"
   ],
   "outputs": []
  },
  {
   "cell_type": "code",
   "execution_count": 165,
   "id": "ca14be13-ca5f-4a1b-8c8e-b069d003c2eb",
   "metadata": {},
   "source": [
    "umap_p_emb = umap.UMAP(metric='cosine').fit_transform(p_embeddings)"
   ],
   "outputs": []
  },
  {
   "cell_type": "code",
   "execution_count": 166,
   "id": "fa38fbd7-afc4-4900-b68f-d5fd40718972",
   "metadata": {},
   "source": [
    "plt.figure(figsize=(7, 6))\n",
    "scatter = plt.scatter(umap_p_emb[:, 0], umap_p_emb[:, 1], cmap='tab20', c=labels)\n",
    "# scatter = plt.scatter(umap_p_emb[:, 0], umap_p_emb[:, 1], c=numeric_labels, cmap='tab20', s=5)\n",
    "# plt.clim(-0.5, len(le.classes_)-0.5)\n",
    "plt.legend(handles=scatter.legend_elements()[0], labels=train_dataset.id2target.values())\n",
    "plt.title('UMAP projection photometry embeddings')\n",
    "plt.show()"
   ],
   "outputs": []
  },
  {
   "cell_type": "code",
   "execution_count": 167,
   "id": "22e6935d-696e-4345-9111-5f2c16718d1f",
   "metadata": {},
   "source": [
    "umap_s_emb = umap.UMAP(metric='cosine').fit_transform(s_embeddings)"
   ],
   "outputs": []
  },
  {
   "cell_type": "code",
   "execution_count": 168,
   "id": "4cbe9bca-bff6-402a-a5a7-fb8a64ce85c6",
   "metadata": {},
   "source": [
    "plt.figure(figsize=(7, 6))\n",
    "scatter = plt.scatter(umap_s_emb[:, 0], umap_s_emb[:, 1], cmap='tab20', c=labels)\n",
    "plt.legend(handles=scatter.legend_elements()[0], labels=train_dataset.id2target.values())\n",
    "plt.title('UMAP projection spectra embeddings')\n",
    "plt.show()"
   ],
   "outputs": []
  },
  {
   "cell_type": "code",
   "execution_count": 169,
   "id": "478e7ea1-22f3-490a-a0fd-822b6a2ed67e",
   "metadata": {},
   "source": [
    "umap_m_emb = umap.UMAP(metric='cosine').fit_transform(m_embeddings)"
   ],
   "outputs": []
  },
  {
   "cell_type": "code",
   "execution_count": 170,
   "id": "c06f145b-6d72-4261-847f-22fbaab563fc",
   "metadata": {},
   "source": [
    "plt.figure(figsize=(7, 6))\n",
    "scatter = plt.scatter(umap_m_emb[:, 0], umap_m_emb[:, 1], cmap='tab20', c=labels)\n",
    "plt.legend(handles=scatter.legend_elements()[0], labels=train_dataset.id2target.values())\n",
    "plt.title('UMAP projection metadata embeddings')\n",
    "plt.show()"
   ],
   "outputs": []
  },
  {
   "cell_type": "code",
   "execution_count": 171,
   "id": "7fdceded-afc8-479e-9769-1aa50cc4d46e",
   "metadata": {},
   "source": [
    "embeddings = np.concatenate([p_embeddings, s_embeddings, m_embeddings], axis=0)"
   ],
   "outputs": []
  },
  {
   "cell_type": "code",
   "execution_count": 172,
   "id": "2413aa48-fa76-4d61-9f0a-3006e1540664",
   "metadata": {},
   "source": [
    "umap_emb = umap.UMAP(metric='cosine').fit_transform(embeddings)"
   ],
   "outputs": []
  },
  {
   "cell_type": "code",
   "execution_count": 173,
   "id": "e50d337a-483c-4016-a147-6b3c79bffaef",
   "metadata": {},
   "source": [
    "all_labels = np.concatenate([labels, labels, labels], axis=0)"
   ],
   "outputs": []
  },
  {
   "cell_type": "code",
   "execution_count": 174,
   "id": "c1310808-112b-49ce-8de9-419136c41d0d",
   "metadata": {},
   "source": [
    "plt.figure(figsize=(7, 6))\n",
    "scatter = plt.scatter(umap_emb[:, 0], umap_emb[:, 1], cmap='tab20', c=all_labels)\n",
    "plt.legend(handles=scatter.legend_elements()[0], labels=train_dataset.id2target.values())\n",
    "plt.title('UMAP projection all embeddings')\n",
    "plt.show()"
   ],
   "outputs": []
  },
  {
   "cell_type": "code",
   "execution_count": 175,
   "id": "13def11a-eb0f-4acd-bc81-7d3a3f8cd809",
   "metadata": {},
   "source": [
    "tsne_p_emb = TSNE(metric='cosine').fit_transform(p_embeddings)"
   ],
   "outputs": []
  },
  {
   "cell_type": "code",
   "execution_count": 176,
   "id": "2fc78da8-f94e-4e6d-ab4a-4b3f4c6a49c4",
   "metadata": {},
   "source": [
    "plt.figure(figsize=(7, 6))\n",
    "scatter = plt.scatter(tsne_p_emb[:, 0], tsne_p_emb[:, 1], cmap='tab20', c=labels)\n",
    "plt.legend(handles=scatter.legend_elements()[0], labels=train_dataset.id2target.values())\n",
    "plt.title('t-SNE projection photometry embeddings')\n",
    "plt.show()"
   ],
   "outputs": []
  },
  {
   "cell_type": "code",
   "execution_count": 177,
   "id": "20d85c49-815f-4bab-875f-f8b27d083e66",
   "metadata": {},
   "source": [
    "tsne_s_emb = TSNE(metric='cosine').fit_transform(s_embeddings)\n",
    "plt.figure(figsize=(7, 6))\n",
    "scatter = plt.scatter(tsne_s_emb[:, 0], tsne_s_emb[:, 1], cmap='tab20', c=labels)\n",
    "plt.legend(handles=scatter.legend_elements()[0], labels=train_dataset.id2target.values())\n",
    "plt.title('t-SNE projection spectra embeddings')\n",
    "plt.show()"
   ],
   "outputs": []
  },
  {
   "cell_type": "code",
   "execution_count": 178,
   "id": "034d41ca-5c2c-4844-8b1e-757130a43b03",
   "metadata": {},
   "source": [
    "tsne_m_emb = TSNE(metric='cosine').fit_transform(m_embeddings)\n",
    "plt.figure(figsize=(7, 6))\n",
    "scatter = plt.scatter(tsne_m_emb[:, 0], tsne_m_emb[:, 1], cmap='tab20', c=labels)\n",
    "plt.legend(handles=scatter.legend_elements()[0], labels=train_dataset.id2target.values())\n",
    "plt.title('t-SNE projection metadata embeddings')\n",
    "plt.show()"
   ],
   "outputs": []
  },
  {
   "cell_type": "code",
   "execution_count": 179,
   "id": "0b234c89-087b-4529-b305-d9122315e497",
   "metadata": {},
   "source": [
    "all_colors2 = np.concatenate([labels, \n",
    "                              [el + train_dataset.num_classes for el in labels], \n",
    "                              [el + 2 * train_dataset.num_classes for el in labels]])\n",
    "all_labels2 = [f'{el}-p' for el in train_dataset.id2target.values()] + [f'{el}-s' for el in train_dataset.id2target.values()] + [f'{el}-m' for el in train_dataset.id2target.values()]"
   ],
   "outputs": []
  },
  {
   "cell_type": "code",
   "execution_count": 180,
   "id": "45cf035b-ed6d-4a89-8326-7875e5a7656b",
   "metadata": {},
   "source": [
    "tsne_emb = TSNE(metric='cosine').fit_transform(embeddings)"
   ],
   "outputs": []
  },
  {
   "cell_type": "code",
   "execution_count": 181,
   "id": "c9ddb0f8-a409-4090-9b00-9f7f790623db",
   "metadata": {},
   "source": [
    "tsne_emb.shape, all_colors2.shape, np.unique(all_colors2)"
   ],
   "outputs": []
  },
  {
   "cell_type": "code",
   "execution_count": 182,
   "id": "144c4d0c-bae3-4723-9d0d-ff09abae33c6",
   "metadata": {},
   "source": [
    "# Define base colors for each category\n",
    "base_colors = {\n",
    "    'DSCT': 'blue',\n",
    "    'EA': 'green',\n",
    "    'EB': 'red',\n",
    "    'EW': 'purple',\n",
    "    'HADS': 'orange',\n",
    "    'M': 'brown',\n",
    "    'ROT': 'pink',\n",
    "    'RRAB': 'gray',\n",
    "    'RRC': 'olive',\n",
    "    'SR': 'cyan'\n",
    "}\n",
    "\n",
    "# Define brightness variations for '-p', '-s', '-m'\n",
    "brightness = {\n",
    "    'p': 0.7,\n",
    "    's': 0.85,\n",
    "    'm': 1.0\n",
    "}\n",
    "\n",
    "def adjust_brightness(color, brightness):\n",
    "    # Adjust color brightness\n",
    "    c = mcolors.ColorConverter().to_rgb(color)\n",
    "    c = [min(1, i * brightness) for i in c]\n",
    "    return c\n",
    "\n",
    "# Create a color map for the labels\n",
    "color_map = {}\n",
    "for label in all_labels2:\n",
    "    base_label = label.split('-')[0]\n",
    "    variant = label.split('-')[1]\n",
    "    color_map[label] = adjust_brightness(base_colors[base_label], brightness[variant])"
   ],
   "outputs": []
  },
  {
   "cell_type": "code",
   "execution_count": 183,
   "id": "48c64057-e5a0-431f-8267-30e22dd55396",
   "metadata": {},
   "source": [
    "plt.figure(figsize=(12, 8))\n",
    "\n",
    "for label in np.unique(all_colors2):\n",
    "    indices = np.where(all_colors2 == label)\n",
    "    plt.scatter(tsne_emb[indices, 0], tsne_emb[indices, 1], label=f'{all_labels2[label]}', s=10, c=[color_map[all_labels2[label]]])\n",
    "\n",
    "plt.title('t-SNE Embeddings')\n",
    "plt.xlabel('t-SNE Dimension 1')\n",
    "plt.ylabel('t-SNE Dimension 2')\n",
    "\n",
    "# Gather handles and labels, then sort them\n",
    "handles, labels = plt.gca().get_legend_handles_labels()\n",
    "sorted_labels_handles = sorted(zip(labels, handles))\n",
    "sorted_labels, sorted_handles = zip(*sorted_labels_handles)\n",
    "\n",
    "# Add sorted legend\n",
    "plt.legend(sorted_handles, sorted_labels, loc='best', markerscale=2)\n",
    "plt.show()"
   ],
   "outputs": []
  },
  {
   "cell_type": "code",
   "execution_count": null,
   "id": "569b5443-fab1-4ecb-93b7-47398b1a0a4c",
   "metadata": {},
   "source": [],
   "outputs": []
  },
  {
   "cell_type": "code",
   "execution_count": null,
   "id": "f6e695a9-4499-497d-9584-1d1ad9a512d7",
   "metadata": {},
   "source": [],
   "outputs": []
  },
  {
   "cell_type": "code",
   "execution_count": null,
   "id": "dbe34de6-922a-4451-976e-6e9e59395029",
   "metadata": {},
   "source": [],
   "outputs": []
  },
  {
   "cell_type": "code",
   "execution_count": null,
   "id": "1f14a0ad-7a0a-4aaa-8188-e5ba25f6319f",
   "metadata": {},
   "source": [],
   "outputs": []
  },
  {
   "cell_type": "code",
   "execution_count": null,
   "id": "c8badcfc-fc11-4a9b-9a27-19952b579c5b",
   "metadata": {},
   "source": [],
   "outputs": []
  },
  {
   "cell_type": "code",
   "execution_count": null,
   "id": "410abbd4-7ac5-41d8-b82f-2ca792c9ee6b",
   "metadata": {},
   "source": [],
   "outputs": []
  },
  {
   "cell_type": "code",
   "execution_count": null,
   "id": "24e85c0b-7710-4d39-bd7b-4e22918c2078",
   "metadata": {},
   "source": [],
   "outputs": []
  },
  {
   "cell_type": "code",
   "execution_count": null,
   "id": "751881e6-5998-465b-a55b-7071a69b50cf",
   "metadata": {},
   "source": [],
   "outputs": []
  },
  {
   "cell_type": "code",
   "execution_count": null,
   "id": "6659446d-1ad0-4497-a438-154484f4ee64",
   "metadata": {},
   "source": [],
   "outputs": []
  },
  {
   "cell_type": "code",
   "execution_count": null,
   "id": "cedf6b05-dbc9-436e-b57f-153e8931be41",
   "metadata": {},
   "source": [],
   "outputs": []
  },
  {
   "cell_type": "code",
   "execution_count": null,
   "id": "2c6ef347-7fe2-429d-b48b-c88ffef979eb",
   "metadata": {},
   "source": [],
   "outputs": []
  },
  {
   "cell_type": "code",
   "execution_count": null,
   "id": "c9a0ff53-812e-4d1f-990d-1c9cb259bc18",
   "metadata": {},
   "source": [],
   "outputs": []
  },
  {
   "cell_type": "code",
   "execution_count": null,
   "id": "274cb93e-6747-49df-8679-acd9f2868076",
   "metadata": {},
   "source": [],
   "outputs": []
  },
  {
   "cell_type": "code",
   "execution_count": null,
   "id": "6350bc80-f15b-4551-a9d8-3a79220e1dc1",
   "metadata": {},
   "source": [],
   "outputs": []
  },
  {
   "cell_type": "code",
   "execution_count": null,
   "id": "d3e4c383-3802-4db6-a200-ae8de3978b81",
   "metadata": {},
   "source": [],
   "outputs": []
  },
  {
   "cell_type": "code",
   "execution_count": null,
   "id": "918cde5f-d677-41f9-bad0-6c12af1ee5de",
   "metadata": {},
   "source": [],
   "outputs": []
  },
  {
   "cell_type": "code",
   "execution_count": null,
   "id": "fd86cd59-c578-4897-bbe4-45f3f24ae947",
   "metadata": {},
   "source": [],
   "outputs": []
  },
  {
   "cell_type": "code",
   "execution_count": null,
   "id": "bd28cd66-7e64-407a-8ee3-1035ff92ee72",
   "metadata": {},
   "source": [],
   "outputs": []
  },
  {
   "cell_type": "code",
   "execution_count": null,
   "id": "103afef0-fed9-4b6e-8014-8fa67f1977e0",
   "metadata": {},
   "source": [],
   "outputs": []
  },
  {
   "cell_type": "code",
   "execution_count": null,
   "id": "19e87539-53fc-420d-b530-83e9819befa1",
   "metadata": {},
   "source": [],
   "outputs": []
  },
  {
   "cell_type": "code",
   "execution_count": null,
   "id": "62e5fc27-da6a-4889-9be3-2ea5cf6572bd",
   "metadata": {},
   "source": [],
   "outputs": []
  }
 ],
 "metadata": {
  "kernelspec": {
   "display_name": "Python 3 (ipykernel)",
   "language": "python",
   "name": "python3"
  },
  "language_info": {
   "codemirror_mode": {
    "name": "ipython",
    "version": 3
   },
   "file_extension": ".py",
   "mimetype": "text/x-python",
   "name": "python",
   "nbconvert_exporter": "python",
   "pygments_lexer": "ipython3",
   "version": "3.10.14"
  }
 },
 "nbformat": 4,
 "nbformat_minor": 5
}

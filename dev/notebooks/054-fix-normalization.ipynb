{
 "cells": [
  {
   "cell_type": "code",
   "execution_count": 78,
   "id": "99a950ca-181e-4d8e-8661-0cb834c2739c",
   "metadata": {},
   "outputs": [],
   "source": [
    "from pathlib import Path\n",
    "import pandas as pd\n",
    "import numpy as np\n",
    "import json\n",
    "import zipfile\n",
    "from tqdm import tqdm\n",
    "import shutil"
   ]
  },
  {
   "cell_type": "code",
   "execution_count": 23,
   "id": "5d2f5af9-69df-4c64-8111-5f1152558af9",
   "metadata": {},
   "outputs": [],
   "source": [
    "CLASSES = ['EW', 'SR', 'EA', 'RRAB', 'EB', 'ROT', 'RRC', 'HADS', 'M', 'DSCT']"
   ]
  },
  {
   "cell_type": "code",
   "execution_count": 20,
   "id": "384c4034-44eb-4c07-abbe-4a620de18d58",
   "metadata": {},
   "outputs": [],
   "source": [
    "data_in = Path('/home/mariia/AstroML/data/asassn/preprocessed_data/')\n",
    "data_out = Path('/home/mariia/AstroM3/splits/')"
   ]
  },
  {
   "cell_type": "code",
   "execution_count": 24,
   "id": "b902ed79-87d1-4e76-8981-1aa259a77baf",
   "metadata": {},
   "outputs": [],
   "source": [
    "train = pd.read_csv(data_in / 'full_lb' / 'spectra_and_v_train.csv')\n",
    "val = pd.read_csv(data_in / 'full_lb' / 'spectra_and_v_val.csv')\n",
    "test = pd.read_csv(data_in / 'full_lb' / 'spectra_and_v_test.csv')"
   ]
  },
  {
   "cell_type": "code",
   "execution_count": 27,
   "id": "efb52fb4-0876-4f2d-b907-e8b6bb84fec8",
   "metadata": {},
   "outputs": [],
   "source": [
    "train = train[train['target'].isin(CLASSES)]\n",
    "val = val[val['target'].isin(CLASSES)]\n",
    "test = test[test['target'].isin(CLASSES)]"
   ]
  },
  {
   "cell_type": "code",
   "execution_count": 28,
   "id": "8b2877e4-cbec-41d0-b25e-76fcf911e73a",
   "metadata": {},
   "outputs": [],
   "source": [
    "full = pd.concat([train, val, test])"
   ]
  },
  {
   "cell_type": "code",
   "execution_count": 29,
   "id": "f5c2300d-0867-4a58-9c71-4abe719cdf72",
   "metadata": {},
   "outputs": [
    {
     "name": "stdout",
     "output_type": "stream",
     "text": [
      "Saved to: /home/mariia/AstroM3/splits/full/42/train.csv\n",
      "Saved to: /home/mariia/AstroM3/splits/full/42/val.csv\n",
      "Saved to: /home/mariia/AstroM3/splits/full/42/test.csv\n"
     ]
    }
   ],
   "source": [
    "save_path = data_out / 'full' / '42' / 'train.csv'\n",
    "save_path.parent.mkdir(parents=True, exist_ok=True)\n",
    "train.to_csv(save_path, index=False)\n",
    "print(f\"Saved to: {save_path}\")\n",
    "\n",
    "save_path = data_out / 'full' / '42' / 'val.csv'\n",
    "save_path.parent.mkdir(parents=True, exist_ok=True)\n",
    "val.to_csv(save_path, index=False)\n",
    "print(f\"Saved to: {save_path}\")\n",
    "\n",
    "save_path = data_out / 'full' / '42' / 'test.csv'\n",
    "save_path.parent.mkdir(parents=True, exist_ok=True)\n",
    "test.to_csv(save_path, index=False)\n",
    "print(f\"Saved to: {save_path}\")"
   ]
  },
  {
   "cell_type": "code",
   "execution_count": 30,
   "id": "7fec3668-070a-4b39-958b-4d2ff93e1007",
   "metadata": {},
   "outputs": [
    {
     "name": "stdout",
     "output_type": "stream",
     "text": [
      "Saved to: /home/mariia/AstroM3/splits/full/66/train.csv\n",
      "Saved to: /home/mariia/AstroM3/splits/full/66/val.csv\n",
      "Saved to: /home/mariia/AstroM3/splits/full/66/test.csv\n",
      "Saved to: /home/mariia/AstroM3/splits/full/0/train.csv\n",
      "Saved to: /home/mariia/AstroM3/splits/full/0/val.csv\n",
      "Saved to: /home/mariia/AstroM3/splits/full/0/test.csv\n",
      "Saved to: /home/mariia/AstroM3/splits/full/12/train.csv\n",
      "Saved to: /home/mariia/AstroM3/splits/full/12/val.csv\n",
      "Saved to: /home/mariia/AstroM3/splits/full/12/test.csv\n",
      "Saved to: /home/mariia/AstroM3/splits/full/123/train.csv\n",
      "Saved to: /home/mariia/AstroM3/splits/full/123/val.csv\n",
      "Saved to: /home/mariia/AstroM3/splits/full/123/test.csv\n"
     ]
    }
   ],
   "source": [
    "for seed in (66, 0, 12, 123):\n",
    "    train_seed = pd.read_csv(data_in / f'full_lb{seed}' / 'spectra_and_v_train_norm.csv')\n",
    "    val_seed = pd.read_csv(data_in / f'full_lb{seed}' / 'spectra_and_v_val_norm.csv')\n",
    "    test_seed = pd.read_csv(data_in / f'full_lb{seed}' / 'spectra_and_v_test_norm.csv')\n",
    "\n",
    "    train_seed = full[full['name'].isin(train_seed['name'])]\n",
    "    val_seed = full[full['name'].isin(val_seed['name'])]\n",
    "    test_seed = full[full['name'].isin(test_seed['name'])]\n",
    "\n",
    "    save_path = data_out / 'full' / str(seed) / 'train.csv'\n",
    "    save_path.parent.mkdir(parents=True, exist_ok=True)\n",
    "    train_seed.to_csv(save_path, index=False)\n",
    "    print(f\"Saved to: {save_path}\")\n",
    "    \n",
    "    save_path = data_out / 'full' / str(seed) / 'val.csv'\n",
    "    save_path.parent.mkdir(parents=True, exist_ok=True)\n",
    "    val_seed.to_csv(save_path, index=False)\n",
    "    print(f\"Saved to: {save_path}\")\n",
    "    \n",
    "    save_path = data_out / 'full' / str(seed) / 'test.csv'\n",
    "    save_path.parent.mkdir(parents=True, exist_ok=True)\n",
    "    test_seed.to_csv(save_path, index=False)\n",
    "    print(f\"Saved to: {save_path}\")"
   ]
  },
  {
   "cell_type": "code",
   "execution_count": 31,
   "id": "d99a97a1-de30-4c5a-a897-a8706980390e",
   "metadata": {},
   "outputs": [
    {
     "name": "stdout",
     "output_type": "stream",
     "text": [
      "Saved to: /home/mariia/AstroM3/splits/sub10/42/train.csv\n",
      "Saved to: /home/mariia/AstroM3/splits/sub10/42/val.csv\n",
      "Saved to: /home/mariia/AstroM3/splits/sub10/42/test.csv\n",
      "Saved to: /home/mariia/AstroM3/splits/sub25/42/train.csv\n",
      "Saved to: /home/mariia/AstroM3/splits/sub25/42/val.csv\n",
      "Saved to: /home/mariia/AstroM3/splits/sub25/42/test.csv\n",
      "Saved to: /home/mariia/AstroM3/splits/sub50/42/train.csv\n",
      "Saved to: /home/mariia/AstroM3/splits/sub50/42/val.csv\n",
      "Saved to: /home/mariia/AstroM3/splits/sub50/42/test.csv\n"
     ]
    }
   ],
   "source": [
    "for sub in (10, 25, 50):\n",
    "    train_sub = pd.read_csv(data_in / f'sub{sub}_lb' / 'spectra_and_v_train_norm.csv')\n",
    "    val_sub = pd.read_csv(data_in / f'sub{sub}_lb' / 'spectra_and_v_val_norm.csv')\n",
    "    test_sub = pd.read_csv(data_in / f'sub{sub}_lb' / 'spectra_and_v_test_norm.csv')\n",
    "\n",
    "    train_sub = full[full['name'].isin(train_sub['name'])]\n",
    "    val_sub = full[full['name'].isin(val_sub['name'])]\n",
    "    test_sub = full[full['name'].isin(test_sub['name'])]\n",
    "\n",
    "    save_path = data_out / f'sub{sub}' / '42' / 'train.csv'\n",
    "    save_path.parent.mkdir(parents=True, exist_ok=True)\n",
    "    train_sub.to_csv(save_path, index=False)\n",
    "    print(f\"Saved to: {save_path}\")\n",
    "    \n",
    "    save_path = data_out / f'sub{sub}' / '42' / 'val.csv'\n",
    "    save_path.parent.mkdir(parents=True, exist_ok=True)\n",
    "    val_sub.to_csv(save_path, index=False)\n",
    "    print(f\"Saved to: {save_path}\")\n",
    "    \n",
    "    save_path = data_out / f'sub{sub}' / '42' / 'test.csv'\n",
    "    save_path.parent.mkdir(parents=True, exist_ok=True)\n",
    "    test_sub.to_csv(save_path, index=False)\n",
    "    print(f\"Saved to: {save_path}\")"
   ]
  },
  {
   "cell_type": "code",
   "execution_count": 32,
   "id": "629178b3-9e07-45f1-87ff-99f6f067d24c",
   "metadata": {},
   "outputs": [
    {
     "name": "stdout",
     "output_type": "stream",
     "text": [
      "Saved to: /home/mariia/AstroM3/splits/sub10/66/train.csv\n",
      "Saved to: /home/mariia/AstroM3/splits/sub10/66/val.csv\n",
      "Saved to: /home/mariia/AstroM3/splits/sub10/66/test.csv\n",
      "Saved to: /home/mariia/AstroM3/splits/sub25/66/train.csv\n",
      "Saved to: /home/mariia/AstroM3/splits/sub25/66/val.csv\n",
      "Saved to: /home/mariia/AstroM3/splits/sub25/66/test.csv\n",
      "Saved to: /home/mariia/AstroM3/splits/sub50/66/train.csv\n",
      "Saved to: /home/mariia/AstroM3/splits/sub50/66/val.csv\n",
      "Saved to: /home/mariia/AstroM3/splits/sub50/66/test.csv\n",
      "Saved to: /home/mariia/AstroM3/splits/sub10/0/train.csv\n",
      "Saved to: /home/mariia/AstroM3/splits/sub10/0/val.csv\n",
      "Saved to: /home/mariia/AstroM3/splits/sub10/0/test.csv\n",
      "Saved to: /home/mariia/AstroM3/splits/sub25/0/train.csv\n",
      "Saved to: /home/mariia/AstroM3/splits/sub25/0/val.csv\n",
      "Saved to: /home/mariia/AstroM3/splits/sub25/0/test.csv\n",
      "Saved to: /home/mariia/AstroM3/splits/sub50/0/train.csv\n",
      "Saved to: /home/mariia/AstroM3/splits/sub50/0/val.csv\n",
      "Saved to: /home/mariia/AstroM3/splits/sub50/0/test.csv\n",
      "Saved to: /home/mariia/AstroM3/splits/sub10/12/train.csv\n",
      "Saved to: /home/mariia/AstroM3/splits/sub10/12/val.csv\n",
      "Saved to: /home/mariia/AstroM3/splits/sub10/12/test.csv\n",
      "Saved to: /home/mariia/AstroM3/splits/sub25/12/train.csv\n",
      "Saved to: /home/mariia/AstroM3/splits/sub25/12/val.csv\n",
      "Saved to: /home/mariia/AstroM3/splits/sub25/12/test.csv\n",
      "Saved to: /home/mariia/AstroM3/splits/sub50/12/train.csv\n",
      "Saved to: /home/mariia/AstroM3/splits/sub50/12/val.csv\n",
      "Saved to: /home/mariia/AstroM3/splits/sub50/12/test.csv\n",
      "Saved to: /home/mariia/AstroM3/splits/sub10/123/train.csv\n",
      "Saved to: /home/mariia/AstroM3/splits/sub10/123/val.csv\n",
      "Saved to: /home/mariia/AstroM3/splits/sub10/123/test.csv\n",
      "Saved to: /home/mariia/AstroM3/splits/sub25/123/train.csv\n",
      "Saved to: /home/mariia/AstroM3/splits/sub25/123/val.csv\n",
      "Saved to: /home/mariia/AstroM3/splits/sub25/123/test.csv\n",
      "Saved to: /home/mariia/AstroM3/splits/sub50/123/train.csv\n",
      "Saved to: /home/mariia/AstroM3/splits/sub50/123/val.csv\n",
      "Saved to: /home/mariia/AstroM3/splits/sub50/123/test.csv\n"
     ]
    }
   ],
   "source": [
    "for seed in (66, 0, 12, 123):\n",
    "    for sub in (10, 25, 50):\n",
    "        train_sub = pd.read_csv(data_in / f'sub{sub}_lb{seed}' / 'spectra_and_v_train_norm.csv')\n",
    "        val_sub = pd.read_csv(data_in / f'sub{sub}_lb{seed}' / 'spectra_and_v_val_norm.csv')\n",
    "        test_sub = pd.read_csv(data_in / f'sub{sub}_lb{seed}' / 'spectra_and_v_test_norm.csv')\n",
    "    \n",
    "        train_sub = full[full['name'].isin(train_sub['name'])]\n",
    "        val_sub = full[full['name'].isin(val_sub['name'])]\n",
    "        test_sub = full[full['name'].isin(test_sub['name'])]\n",
    "    \n",
    "        save_path = data_out / f'sub{sub}' / str(seed) / 'train.csv'\n",
    "        save_path.parent.mkdir(parents=True, exist_ok=True)\n",
    "        train_sub.to_csv(save_path, index=False)\n",
    "        print(f\"Saved to: {save_path}\")\n",
    "        \n",
    "        save_path = data_out / f'sub{sub}' / str(seed) / 'val.csv'\n",
    "        save_path.parent.mkdir(parents=True, exist_ok=True)\n",
    "        val_sub.to_csv(save_path, index=False)\n",
    "        print(f\"Saved to: {save_path}\")\n",
    "        \n",
    "        save_path = data_out / f'sub{sub}' / str(seed) / 'test.csv'\n",
    "        save_path.parent.mkdir(parents=True, exist_ok=True)\n",
    "        test_sub.to_csv(save_path, index=False)\n",
    "        print(f\"Saved to: {save_path}\")"
   ]
  },
  {
   "cell_type": "code",
   "execution_count": 41,
   "id": "dd823fb6-5065-436e-8068-9b7e46a7128d",
   "metadata": {},
   "outputs": [],
   "source": [
    "CLASSES = ['EW', 'SR', 'EA', 'RRAB', 'EB', 'ROT', 'RRC', 'HADS', 'M', 'DSCT']\n",
    "\n",
    "PHOTO_COLS = ['amplitude', 'period', 'lksl_statistic', 'rfr_score']\n",
    "METADATA_COLS = [\n",
    "    'mean_vmag',  'phot_g_mean_mag', 'e_phot_g_mean_mag', 'phot_bp_mean_mag', 'e_phot_bp_mean_mag', 'phot_rp_mean_mag',\n",
    "    'e_phot_rp_mean_mag', 'bp_rp', 'parallax', 'parallax_error', 'parallax_over_error', 'pmra', 'pmra_error', 'pmdec',\n",
    "    'pmdec_error', 'j_mag', 'e_j_mag', 'h_mag', 'e_h_mag', 'k_mag', 'e_k_mag', 'w1_mag', 'e_w1_mag',\n",
    "    'w2_mag', 'e_w2_mag', 'w3_mag', 'w4_mag', 'j_k', 'w1_w2', 'w3_w4', 'pm', 'ruwe', 'l', 'b'\n",
    "]\n",
    "ALL_COLS = PHOTO_COLS + METADATA_COLS\n",
    "\n",
    "METADATA_FUNC = {\n",
    "    \"abs\": [\n",
    "        \"mean_vmag\",\n",
    "        \"phot_g_mean_mag\",\n",
    "        \"phot_bp_mean_mag\",\n",
    "        \"phot_rp_mean_mag\",\n",
    "        \"j_mag\",\n",
    "        \"h_mag\",\n",
    "        \"k_mag\",\n",
    "        \"w1_mag\",\n",
    "        \"w2_mag\",\n",
    "        \"w3_mag\",\n",
    "        \"w4_mag\",\n",
    "    ],\n",
    "    \"cos\": [\"l\"],\n",
    "    \"sin\": [\"b\"],\n",
    "    \"log\": [\"period\"]\n",
    "}"
   ]
  },
  {
   "cell_type": "code",
   "execution_count": 95,
   "id": "e86462db-8193-40d3-b4cf-72fc0f0a5370",
   "metadata": {},
   "outputs": [
    {
     "data": {
      "text/plain": [
       "38"
      ]
     },
     "execution_count": 95,
     "metadata": {},
     "output_type": "execute_result"
    }
   ],
   "source": [
    "len(ALL_COLS)"
   ]
  },
  {
   "cell_type": "code",
   "execution_count": 35,
   "id": "ec79de7a-b9e8-4fc9-a95d-d00f142c00f7",
   "metadata": {},
   "outputs": [],
   "source": [
    "def transform(df):\n",
    "    for transformation_type, value in METADATA_FUNC.items():\n",
    "        if transformation_type == \"abs\":\n",
    "            for col in value:\n",
    "                df[col] = (\n",
    "                    df[col] - 10 + 5 * np.log10(np.where(df[\"parallax\"] <= 0, 1, df[\"parallax\"]))\n",
    "                )\n",
    "        elif transformation_type == \"cos\":\n",
    "            for col in value:\n",
    "                df[col] = np.cos(np.radians(df[col]))\n",
    "        elif transformation_type == \"sin\":\n",
    "            for col in value:\n",
    "                df[col] = np.sin(np.radians(df[col]))\n",
    "        elif transformation_type == \"log\":\n",
    "            for col in value:\n",
    "                df[col] = np.log10(df[col])"
   ]
  },
  {
   "cell_type": "code",
   "execution_count": 52,
   "id": "0ccce6aa-e185-4cae-bca7-54e76ff3700a",
   "metadata": {},
   "outputs": [
    {
     "name": "stdout",
     "output_type": "stream",
     "text": [
      "Saved: /home/mariia/AstroM3/splits/full/42/info.json\n",
      "Saved: /home/mariia/AstroM3/splits/full/66/info.json\n",
      "Saved: /home/mariia/AstroM3/splits/full/0/info.json\n",
      "Saved: /home/mariia/AstroM3/splits/full/12/info.json\n",
      "Saved: /home/mariia/AstroM3/splits/full/123/info.json\n",
      "Saved: /home/mariia/AstroM3/splits/sub10/42/info.json\n",
      "Saved: /home/mariia/AstroM3/splits/sub10/66/info.json\n",
      "Saved: /home/mariia/AstroM3/splits/sub10/0/info.json\n",
      "Saved: /home/mariia/AstroM3/splits/sub10/12/info.json\n",
      "Saved: /home/mariia/AstroM3/splits/sub10/123/info.json\n",
      "Saved: /home/mariia/AstroM3/splits/sub25/42/info.json\n",
      "Saved: /home/mariia/AstroM3/splits/sub25/66/info.json\n",
      "Saved: /home/mariia/AstroM3/splits/sub25/0/info.json\n",
      "Saved: /home/mariia/AstroM3/splits/sub25/12/info.json\n",
      "Saved: /home/mariia/AstroM3/splits/sub25/123/info.json\n",
      "Saved: /home/mariia/AstroM3/splits/sub50/42/info.json\n",
      "Saved: /home/mariia/AstroM3/splits/sub50/66/info.json\n",
      "Saved: /home/mariia/AstroM3/splits/sub50/0/info.json\n",
      "Saved: /home/mariia/AstroM3/splits/sub50/12/info.json\n",
      "Saved: /home/mariia/AstroM3/splits/sub50/123/info.json\n"
     ]
    }
   ],
   "source": [
    "for sub in ('full', 'sub10', 'sub25', 'sub50'):\n",
    "    for seed in ('42', '66', '0', '12', '123'):\n",
    "        train = pd.read_csv(data_out / sub / seed / 'train.csv')\n",
    "        transform(train)\n",
    "        \n",
    "        mean = np.mean(train[ALL_COLS], axis=0).tolist()\n",
    "        std = np.std(train[ALL_COLS], axis=0).tolist()\n",
    "\n",
    "        info = {\n",
    "            'classes': CLASSES,\n",
    "            'meta_cols': METADATA_COLS,\n",
    "            'photo_cols': PHOTO_COLS,\n",
    "            'all_cols': ALL_COLS,\n",
    "            'metadata_func': METADATA_FUNC,\n",
    "            'mean': mean,\n",
    "            'std': std\n",
    "        }\n",
    "\n",
    "        save_path = data_out / sub / seed / 'info.json'\n",
    "        print('Saved:', save_path)\n",
    "        \n",
    "        with open(save_path, 'w') as file:\n",
    "            json.dump(info, file, indent=4)"
   ]
  },
  {
   "cell_type": "code",
   "execution_count": null,
   "id": "0157adca-4b1e-4e3b-b610-8a5b9131f17c",
   "metadata": {},
   "outputs": [],
   "source": []
  },
  {
   "cell_type": "code",
   "execution_count": null,
   "id": "24bee82d-2611-4ff6-af3b-2dc28975acd1",
   "metadata": {},
   "outputs": [],
   "source": []
  },
  {
   "cell_type": "code",
   "execution_count": null,
   "id": "c400748c-11a4-4d3c-9f71-9af13979c076",
   "metadata": {},
   "outputs": [],
   "source": []
  },
  {
   "cell_type": "markdown",
   "id": "15499664-c8d6-4072-9dc5-f47f8d1750e0",
   "metadata": {},
   "source": [
    "# Checks"
   ]
  },
  {
   "cell_type": "code",
   "execution_count": 55,
   "id": "39bf1018-95cc-43c4-9f0d-fea2c42e4c4e",
   "metadata": {},
   "outputs": [],
   "source": [
    "full = pd.read_csv('/home/mariia/AstroM3Dataset/splits/full/42/train.csv')\n",
    "sub50 = pd.read_csv('/home/mariia/AstroM3Dataset/splits/sub50/42/train.csv')\n",
    "sub25 = pd.read_csv('/home/mariia/AstroM3Dataset/splits/sub25/42/train.csv')\n",
    "sub10 = pd.read_csv('/home/mariia/AstroM3Dataset/splits/sub10/42/train.csv')"
   ]
  },
  {
   "cell_type": "code",
   "execution_count": 59,
   "id": "015e6b35-6c22-4382-9169-c41c22849977",
   "metadata": {},
   "outputs": [
    {
     "data": {
      "text/plain": [
       "(1660, 1660)"
      ]
     },
     "execution_count": 59,
     "metadata": {},
     "output_type": "execute_result"
    }
   ],
   "source": [
    "len(sub10), len(full[full['name'].isin(sub10['name'])])"
   ]
  },
  {
   "cell_type": "code",
   "execution_count": 67,
   "id": "14f3ba40-3a34-41a6-beed-1747cbdf5701",
   "metadata": {},
   "outputs": [
    {
     "name": "stdout",
     "output_type": "stream",
     "text": [
      "0 0\n",
      "0 0\n",
      "0 0\n",
      "0 0\n",
      "0 0\n"
     ]
    }
   ],
   "source": [
    "for seed in (42, 0, 12, 123, 66):\n",
    "    train = pd.read_csv(f'/home/mariia/AstroM3Dataset/splits/full/{seed}/train.csv')\n",
    "    val = pd.read_csv(f'/home/mariia/AstroM3Dataset/splits/full/{seed}/val.csv')\n",
    "    test = pd.read_csv(f'/home/mariia/AstroM3Dataset/splits/full/{seed}/test.csv')\n",
    "    print(len(train[train['name'].isin(val['name'])]), len(train[train['name'].isin(test['name'])]))"
   ]
  },
  {
   "cell_type": "code",
   "execution_count": null,
   "id": "aca1b5f1-43dd-4e7a-a986-ef4332e0ef9c",
   "metadata": {},
   "outputs": [],
   "source": []
  },
  {
   "cell_type": "code",
   "execution_count": null,
   "id": "3b1a0a44-0f39-44bd-8ab1-36aaf5048e80",
   "metadata": {},
   "outputs": [],
   "source": []
  },
  {
   "cell_type": "markdown",
   "id": "034f4adc-7ae1-4cdc-b784-8c4a7db711b0",
   "metadata": {},
   "source": [
    "# Upload spectra to hf"
   ]
  },
  {
   "cell_type": "code",
   "execution_count": 76,
   "id": "b1a7b5fc-6688-4da7-be68-af57d4d133a1",
   "metadata": {},
   "outputs": [
    {
     "name": "stderr",
     "output_type": "stream",
     "text": [
      "Processing class folders: 100%|████████████████████████████████████████████████████| 30/30 [00:10<00:00,  2.75folder/s]"
     ]
    },
    {
     "name": "stdout",
     "output_type": "stream",
     "text": [
      "Folder restructuring completed.\n"
     ]
    },
    {
     "name": "stderr",
     "output_type": "stream",
     "text": [
      "\n"
     ]
    }
   ],
   "source": [
    "# Define the paths\n",
    "spectra_root = Path(\"/home/mariia/AstroM3Dataset/spectra\")  # Original spectra directory\n",
    "output_root = Path(\"/home/mariia/AstroM3Dataset/spectra_combined\")  # New combined directory\n",
    "\n",
    "# Ensure the output root exists\n",
    "output_root.mkdir(exist_ok=True)\n",
    "\n",
    "# Get all class folders inside train/val/test\n",
    "all_class_folders = []\n",
    "for split in [\"train\", \"val\", \"test\"]:\n",
    "    split_path = spectra_root / split\n",
    "    if split_path.exists():\n",
    "        all_class_folders.extend([class_folder for class_folder in split_path.iterdir() if class_folder.is_dir()])\n",
    "\n",
    "# Process each class folder\n",
    "for class_folder in tqdm(all_class_folders, desc=\"Processing class folders\", unit=\"folder\"):\n",
    "    target_class_folder = output_root / class_folder.name\n",
    "    target_class_folder.mkdir(exist_ok=True)  # Create class subdir if not exists\n",
    "\n",
    "    # Get all files inside each class folder (train/val/test)\n",
    "    all_files = list(class_folder.iterdir())\n",
    "\n",
    "    # Move files with tqdm progress bar\n",
    "    for file in all_files:\n",
    "        shutil.move(str(file), str(target_class_folder / file.name))\n",
    "\n",
    "print(\"Folder restructuring completed.\")"
   ]
  },
  {
   "cell_type": "code",
   "execution_count": null,
   "id": "b3d8a8aa-2569-4fa3-b0b0-9d07fbdbb43e",
   "metadata": {},
   "outputs": [],
   "source": []
  },
  {
   "cell_type": "code",
   "execution_count": null,
   "id": "6e5d8e75-4fb2-494f-b39a-7df39f7d2f77",
   "metadata": {},
   "outputs": [],
   "source": []
  },
  {
   "cell_type": "markdown",
   "id": "7d828164-f62d-4546-8c04-4bc3a55e7d52",
   "metadata": {},
   "source": [
    "# Remove unnecesary photometry files"
   ]
  },
  {
   "cell_type": "code",
   "execution_count": 80,
   "id": "a8932a59-0642-4941-b9f8-bbd13af0bbc4",
   "metadata": {},
   "outputs": [
    {
     "name": "stdout",
     "output_type": "stream",
     "text": [
      "Number of files: 687464\n"
     ]
    }
   ],
   "source": [
    "with zipfile.ZipFile('/home/mariia/AstroM3Dataset/asassnvarlc_vband_complete.zip', 'r') as zip_file:\n",
    "    file_list = zip_file.namelist()  # Get the list of files inside the zip\n",
    "    num_files = len(file_list)  # Count the number of files\n",
    "    print(f\"Number of files: {num_files}\")"
   ]
  },
  {
   "cell_type": "code",
   "execution_count": 87,
   "id": "54ea63aa-238d-456a-8769-98f96595d271",
   "metadata": {},
   "outputs": [
    {
     "data": {
      "text/plain": [
       "['vardb_files/',\n",
       " 'vardb_files/ASASSN-VJ150435.21-152925.0.dat',\n",
       " 'vardb_files/ASASSN-VJ185047.14-050912.4.dat',\n",
       " 'vardb_files/ASASSN-VJ182602.98-591435.3.dat',\n",
       " 'vardb_files/ASASSN-VJ074836.15-141251.7.dat',\n",
       " 'vardb_files/ASASSN-VJ170253.54-653731.3.dat',\n",
       " 'vardb_files/ASASSN-VJ064649.69-225854.6.dat',\n",
       " 'vardb_files/ASASSN-VJ123015.30-382416.0.dat',\n",
       " 'vardb_files/ASASSN-VJ175901.15-320603.2.dat',\n",
       " 'vardb_files/ASASSN-VJ000912.41+590503.0.dat']"
      ]
     },
     "execution_count": 87,
     "metadata": {},
     "output_type": "execute_result"
    }
   ],
   "source": [
    "file_list[:10]"
   ]
  },
  {
   "cell_type": "code",
   "execution_count": 83,
   "id": "e9bb15ee-0135-402c-8273-05f62f565244",
   "metadata": {},
   "outputs": [],
   "source": [
    "seed = 42\n",
    "train = pd.read_csv(f'/home/mariia/AstroM3Dataset/splits/full/{seed}/train.csv')\n",
    "val = pd.read_csv(f'/home/mariia/AstroM3Dataset/splits/full/{seed}/val.csv')\n",
    "test = pd.read_csv(f'/home/mariia/AstroM3Dataset/splits/full/{seed}/test.csv')\n",
    "df = pd.concat((train, val, test))"
   ]
  },
  {
   "cell_type": "code",
   "execution_count": 94,
   "id": "9989fd6c-c5db-489a-a6df-12116be0dced",
   "metadata": {},
   "outputs": [
    {
     "data": {
      "text/plain": [
       "21440"
      ]
     },
     "execution_count": 94,
     "metadata": {},
     "output_type": "execute_result"
    }
   ],
   "source": [
    "len(df)"
   ]
  },
  {
   "cell_type": "code",
   "execution_count": 88,
   "id": "998099f0-d3a5-4065-9773-0ef57a3a86d4",
   "metadata": {},
   "outputs": [],
   "source": [
    "keep_files = ['vardb_files/' + el + '.dat' for el in df['name'].replace(' ', '')]"
   ]
  },
  {
   "cell_type": "code",
   "execution_count": 91,
   "id": "45212e23-64be-4342-a8c3-cd193f4b05b1",
   "metadata": {},
   "outputs": [
    {
     "name": "stderr",
     "output_type": "stream",
     "text": [
      "100%|████████████████████████████████████████████████████████████████████████| 687464/687464 [04:35<00:00, 2496.77it/s]\n"
     ]
    }
   ],
   "source": [
    "input_zip = '/home/mariia/AstroM3Dataset/asassnvarlc_vband_complete.zip'\n",
    "output_zip = '/home/mariia/AstroM3Dataset/photometry.zip'\n",
    "\n",
    "with zipfile.ZipFile(input_zip, 'r') as zip_in:\n",
    "    with zipfile.ZipFile(output_zip, 'w', zipfile.ZIP_DEFLATED) as zip_out:\n",
    "        for file in tqdm(zip_in.namelist()):\n",
    "            if file in keep_files:\n",
    "                zip_out.writestr(file, zip_in.read(file))  # Write only selected files"
   ]
  },
  {
   "cell_type": "code",
   "execution_count": 93,
   "id": "c21f89ef-1ff6-4fbc-a4c5-c753e7336d0c",
   "metadata": {},
   "outputs": [
    {
     "name": "stdout",
     "output_type": "stream",
     "text": [
      "Number of files: 21440\n"
     ]
    }
   ],
   "source": [
    "with zipfile.ZipFile(output_zip, 'r') as zip_file:\n",
    "    file_list = zip_file.namelist()  # Get the list of files inside the zip\n",
    "    num_files = len(file_list)  # Count the number of files\n",
    "    print(f\"Number of files: {num_files}\")"
   ]
  },
  {
   "cell_type": "code",
   "execution_count": null,
   "id": "0e1de33d-b084-4f75-b45d-33c2fd71217a",
   "metadata": {},
   "outputs": [],
   "source": []
  },
  {
   "cell_type": "code",
   "execution_count": null,
   "id": "d83c9a82-4739-474d-a9cc-0edb6b033115",
   "metadata": {},
   "outputs": [],
   "source": []
  }
 ],
 "metadata": {
  "kernelspec": {
   "display_name": "Python 3 (ipykernel)",
   "language": "python",
   "name": "python3"
  },
  "language_info": {
   "codemirror_mode": {
    "name": "ipython",
    "version": 3
   },
   "file_extension": ".py",
   "mimetype": "text/x-python",
   "name": "python",
   "nbconvert_exporter": "python",
   "pygments_lexer": "ipython3",
   "version": "3.10.14"
  }
 },
 "nbformat": 4,
 "nbformat_minor": 5
}

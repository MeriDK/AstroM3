{
 "cells": [
  {
   "cell_type": "code",
   "execution_count": 136,
   "id": "7cb447e7-3033-45d3-bd5b-98ff24fb0ff6",
   "metadata": {},
   "source": [
    "import pytorch_warmup as warmup\n",
    "import torch\n",
    "import torch.nn as nn\n",
    "import matplotlib.pyplot as plt"
   ],
   "outputs": []
  },
  {
   "cell_type": "code",
   "execution_count": 150,
   "id": "5acf14ef-b505-4725-858b-be8ce2627bbe",
   "metadata": {},
   "source": [
    "model = nn.Linear(1, 1)\n",
    "optimizer = torch.optim.SGD(model.parameters(), lr=0.001)\n",
    "\n",
    "# factor = 0.6warmup_\n",
    "# scheduler1 = torch.optim.lr_scheduler.LambdaLR(optimizer, lambda epoch: (1 + epoch) * factor ** (warmup_epochs - epoch))\n",
    "scheduler1 = torch.optim.lr_scheduler.LinearLR(optimizer, start_factor=0.01, end_factor=1.0, total_iters=5)\n",
    "scheduler2 = torch.optim.lr_scheduler.ExponentialLR(optimizer, gamma=0.9)\n",
    "scheduler = torch.optim.lr_scheduler.SequentialLR(optimizer, schedulers=[scheduler1, scheduler2], milestones=[warmup_epochs - 1])\n",
    "lrs = []\n",
    "\n",
    "for epoch in range(30):\n",
    "    lrs.append(optimizer.param_groups[0]['lr'])\n",
    "    optimizer.step()\n",
    "    scheduler.step()"
   ],
   "outputs": []
  },
  {
   "cell_type": "code",
   "execution_count": 153,
   "id": "563deebb-97e3-4eba-9e94-57e4d24bc20e",
   "metadata": {},
   "source": [
    "model = nn.Linear(1, 1)\n",
    "optimizer = torch.optim.SGD(model.parameters(), lr=0.001)\n",
    "\n",
    "factor = 0.4\n",
    "scheduler1 = torch.optim.lr_scheduler.LambdaLR(optimizer, lambda epoch: (1 + epoch) * factor ** (warmup_epochs - epoch))\n",
    "# scheduler1 = torch.optim.lr_scheduler.LinearLR(optimizer, start_factor=0.01, end_factor=1.0, total_iters=5)\n",
    "scheduler2 = torch.optim.lr_scheduler.ExponentialLR(optimizer, gamma=0.9)\n",
    "scheduler = torch.optim.lr_scheduler.SequentialLR(optimizer, schedulers=[scheduler1, scheduler2], milestones=[warmup_epochs - 1])\n",
    "lrs2 = []\n",
    "\n",
    "for epoch in range(30):\n",
    "    lrs2.append(optimizer.param_groups[0]['lr'])\n",
    "    optimizer.step()\n",
    "    scheduler.step()"
   ],
   "outputs": []
  },
  {
   "cell_type": "code",
   "execution_count": 162,
   "id": "4dbe7495-d032-4b9e-9457-6ae42e0096f6",
   "metadata": {},
   "source": [
    "model = nn.Linear(1, 1)\n",
    "optimizer = torch.optim.SGD(model.parameters(), lr=1e-5)\n",
    "\n",
    "start = 1e-5\n",
    "end = 1e-3\n",
    "steps = 5\n",
    "factor = (end / start) ** (1 / (steps - 1))\n",
    "\n",
    "scheduler1 = torch.optim.lr_scheduler.ExponentialLR(optimizer, gamma=factor)\n",
    "scheduler2 = torch.optim.lr_scheduler.ExponentialLR(optimizer, gamma=0.9)\n",
    "scheduler = torch.optim.lr_scheduler.SequentialLR(optimizer, schedulers=[scheduler1, scheduler2], milestones=[warmup_epochs])\n",
    "lrs3 = []\n",
    "\n",
    "for epoch in range(30):\n",
    "    lrs3.append(optimizer.param_groups[0]['lr'])\n",
    "    optimizer.step()\n",
    "    scheduler.step()"
   ],
   "outputs": []
  },
  {
   "cell_type": "code",
   "execution_count": 156,
   "id": "aaa238d7-a7de-4653-bdd8-d826baca5b8a",
   "metadata": {},
   "source": [
    "lrs[:5]"
   ],
   "outputs": []
  },
  {
   "cell_type": "code",
   "execution_count": 157,
   "id": "35f9c499-7c03-4191-bde1-1b9e5ca1c560",
   "metadata": {},
   "source": [
    "lrs2[:5]"
   ],
   "outputs": []
  },
  {
   "cell_type": "code",
   "execution_count": 164,
   "id": "92b9deb3-0d6d-42be-9ac8-86368e23550c",
   "metadata": {},
   "source": [
    "lrs3[:7]"
   ],
   "outputs": []
  },
  {
   "cell_type": "code",
   "execution_count": 167,
   "id": "21cf6ab1-c337-48c0-81fa-10dce3bf0710",
   "metadata": {},
   "source": [
    "plt.plot(lrs)\n",
    "plt.plot(lrs2)\n",
    "plt.plot(lrs3)"
   ],
   "outputs": []
  },
  {
   "cell_type": "code",
   "execution_count": 132,
   "id": "6b88df22-79fd-47b5-9e86-1c9ba1b32203",
   "metadata": {},
   "source": [
    "warmup_epochs = 5\n",
    "base_lr = 1e-3\n",
    "warmup_factor = 1e-5\n",
    "lrs = []\n",
    "\n",
    "model = nn.Linear(1, 1)\n",
    "optimizer = torch.optim.SGD(model.parameters(), lr=base_lr)\n",
    "warmup = torch.optim.lr_scheduler.LinearLR(optimizer, start_factor=warmup_factor, end_factor=1, total_iters=warmup_epochs)\n",
    "scheduler = torch.optim.lr_scheduler.ExponentialLR(optimizer, gamma=0.9)"
   ],
   "outputs": []
  },
  {
   "cell_type": "code",
   "execution_count": 133,
   "id": "d28a7f47-0d4b-490b-aa45-64c4cb490b66",
   "metadata": {},
   "source": [
    "for epoch in range(30):\n",
    "    optimizer.step()\n",
    "\n",
    "    if epoch < warmup_epochs:\n",
    "        warmup.step()\n",
    "    else:\n",
    "        scheduler.step()\n",
    "        \n",
    "    lrs.append(optimizer.param_groups[0]['lr'])"
   ],
   "outputs": []
  },
  {
   "cell_type": "code",
   "execution_count": 134,
   "id": "65c90890-0f55-4e67-86af-760427999fbb",
   "metadata": {},
   "source": [
    "lrs"
   ],
   "outputs": []
  },
  {
   "cell_type": "code",
   "execution_count": 135,
   "id": "23c90c67-9393-4601-b1bb-47a2e04c4c5f",
   "metadata": {},
   "source": [
    "plt.plot(lrs)"
   ],
   "outputs": []
  },
  {
   "cell_type": "code",
   "execution_count": null,
   "id": "ff2c063e-3252-4028-8d67-ed40ae7f8ff9",
   "metadata": {},
   "source": [],
   "outputs": []
  },
  {
   "cell_type": "code",
   "execution_count": null,
   "id": "293c1bc0-78b5-4821-9240-87cca9a1757d",
   "metadata": {},
   "source": [],
   "outputs": []
  },
  {
   "cell_type": "code",
   "execution_count": 25,
   "id": "65958fbb-4907-4121-beb3-1cdfeccbf445",
   "metadata": {},
   "source": [
    "model = torch.nn.Linear(10, 32)\n",
    "optimizer = torch.optim.Adam(model.parameters(), lr=0.001)"
   ],
   "outputs": []
  },
  {
   "cell_type": "code",
   "execution_count": 28,
   "id": "92ae2d4e-3d7d-46b8-bf54-68e217c5c086",
   "metadata": {},
   "source": [
    "warmup_period = 5\n",
    "lr_scheduler = torch.optim.lr_scheduler.ExponentialLR(optimizer, gamma=0.9)\n",
    "warmup_scheduler = warmup.LinearWarmup(optimizer, warmup_period)\n",
    "lrs1, lrs2, lrs3 = [], [], []\n",
    "\n",
    "for epoch in range(30):\n",
    "    with warmup_scheduler.dampening():\n",
    "        if warmup_scheduler.last_step + 1 >= warmup_period:\n",
    "            lr_scheduler.step()\n",
    "            \n",
    "        lrs1.append(optimizer.param_groups[0]['lr'])\n",
    "        lrs2.append(lr_scheduler.get_last_lr()[0])\n",
    "        lrs3.append(warmup_scheduler.last_step)"
   ],
   "outputs": []
  },
  {
   "cell_type": "code",
   "execution_count": 29,
   "id": "6e65daea-9131-404d-a94b-ba009fed1870",
   "metadata": {},
   "source": [
    "plt.plot(lrs1)"
   ],
   "outputs": []
  },
  {
   "cell_type": "code",
   "execution_count": 30,
   "id": "dfe49573-5082-4c1f-98a4-3f8e4a122d60",
   "metadata": {},
   "source": [
    "plt.plot(lrs2)"
   ],
   "outputs": []
  },
  {
   "cell_type": "code",
   "execution_count": 31,
   "id": "b27670ce-50a7-473a-9138-71c4f0bd4a4e",
   "metadata": {},
   "source": [
    "plt.plot(lrs3)"
   ],
   "outputs": []
  },
  {
   "cell_type": "code",
   "execution_count": null,
   "id": "a6805dd6-3d82-4898-9422-1ce555576732",
   "metadata": {},
   "source": [],
   "outputs": []
  },
  {
   "cell_type": "code",
   "execution_count": null,
   "id": "66270126-2148-43e9-91a8-a24e4912a60c",
   "metadata": {},
   "source": [],
   "outputs": []
  },
  {
   "cell_type": "code",
   "execution_count": null,
   "id": "a94ca244-eafe-445b-9bb3-7dab358815e4",
   "metadata": {},
   "source": [],
   "outputs": []
  },
  {
   "cell_type": "code",
   "execution_count": null,
   "id": "2f504813-22e6-4175-8c9c-c6c9e51baadd",
   "metadata": {},
   "source": [],
   "outputs": []
  },
  {
   "cell_type": "code",
   "execution_count": null,
   "id": "d2b95a7e-3d38-4a9e-8d3b-6992a2ca1e4b",
   "metadata": {},
   "source": [],
   "outputs": []
  },
  {
   "cell_type": "code",
   "execution_count": null,
   "id": "4d9c9a9d-f782-4b28-a695-04c5f2d9fc36",
   "metadata": {},
   "source": [],
   "outputs": []
  },
  {
   "cell_type": "code",
   "execution_count": null,
   "id": "dd81733d-c36c-4921-9354-c0daabf8cf38",
   "metadata": {},
   "source": [],
   "outputs": []
  },
  {
   "cell_type": "code",
   "execution_count": null,
   "id": "84d3894d-ce97-4c7c-a773-07553f8baa5d",
   "metadata": {},
   "source": [],
   "outputs": []
  },
  {
   "cell_type": "code",
   "execution_count": null,
   "id": "2364ec88-2a7c-4391-9a10-6c1bedfb5173",
   "metadata": {},
   "source": [],
   "outputs": []
  },
  {
   "cell_type": "code",
   "execution_count": null,
   "id": "6614341a-f532-4619-8047-c068c68020c8",
   "metadata": {},
   "source": [],
   "outputs": []
  },
  {
   "cell_type": "code",
   "execution_count": null,
   "id": "406cb243-7770-4c39-9bd3-71c609c0edd4",
   "metadata": {},
   "source": [],
   "outputs": []
  },
  {
   "cell_type": "code",
   "execution_count": null,
   "id": "02ff537d-0448-4fc1-9f95-eb4414f9b4d1",
   "metadata": {},
   "source": [],
   "outputs": []
  },
  {
   "cell_type": "code",
   "execution_count": null,
   "id": "6fa7a19d-f146-4d85-bdd8-29aebb9e089f",
   "metadata": {},
   "source": [],
   "outputs": []
  }
 ],
 "metadata": {
  "kernelspec": {
   "display_name": "Python 3 (ipykernel)",
   "language": "python",
   "name": "python3"
  },
  "language_info": {
   "codemirror_mode": {
    "name": "ipython",
    "version": 3
   },
   "file_extension": ".py",
   "mimetype": "text/x-python",
   "name": "python",
   "nbconvert_exporter": "python",
   "pygments_lexer": "ipython3",
   "version": "3.10.14"
  }
 },
 "nbformat": 4,
 "nbformat_minor": 5
}

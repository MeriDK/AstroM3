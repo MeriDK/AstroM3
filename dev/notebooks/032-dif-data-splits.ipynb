{
 "cells": [
  {
   "cell_type": "code",
   "execution_count": 9,
   "id": "897ea2f5-be4d-4c6d-a54f-9c4f7e3dd853",
   "metadata": {},
   "outputs": [],
   "source": [
    "import pandas as pd\n",
    "import os"
   ]
  },
  {
   "cell_type": "code",
   "execution_count": 2,
   "id": "2d8015f1-cefb-4c74-8d02-cdfdfa20add5",
   "metadata": {},
   "outputs": [],
   "source": [
    "data_root = '/home/mariia/AstroML/data/asassn/preprocessed_data/full_lb'\n",
    "seeds = [66, 0, 12, 123]"
   ]
  },
  {
   "cell_type": "code",
   "execution_count": 3,
   "id": "87c654c9-9348-4f86-bbc9-c5b98f7add6e",
   "metadata": {},
   "outputs": [],
   "source": [
    "train = pd.read_csv(data_root + '/' + 'spectra_and_v_train_norm.csv')\n",
    "val = pd.read_csv(data_root + '/' + 'spectra_and_v_val_norm.csv')\n",
    "test = pd.read_csv(data_root + '/' + 'spectra_and_v_test_norm.csv')"
   ]
  },
  {
   "cell_type": "code",
   "execution_count": 8,
   "id": "c2b3b5a7-0594-4756-bde1-289b757794fe",
   "metadata": {},
   "outputs": [],
   "source": [
    "# Combine all data into one DataFrame\n",
    "full_data = pd.concat([train, val, test], ignore_index=True)\n",
    "\n",
    "# Get the sizes of the original splits\n",
    "n_train = len(train)\n",
    "n_val = len(val)\n",
    "n_test = len(test)"
   ]
  },
  {
   "cell_type": "code",
   "execution_count": 10,
   "id": "70e430a9-6a9b-4a3c-875e-b9fdea22bf52",
   "metadata": {},
   "outputs": [
    {
     "name": "stdout",
     "output_type": "stream",
     "text": [
      "66\n",
      "0\n",
      "12\n",
      "123\n"
     ]
    }
   ],
   "source": [
    "for seed in seeds:\n",
    "    print(seed)\n",
    "    \n",
    "    # Shuffle the data using the current seed\n",
    "    shuffled_data = full_data.sample(frac=1, random_state=seed).reset_index(drop=True)\n",
    "    \n",
    "    # Split the data into train, validation, and test sets\n",
    "    train_data = shuffled_data.iloc[:n_train]\n",
    "    val_data = shuffled_data.iloc[n_train:n_train + n_val]\n",
    "    test_data = shuffled_data.iloc[n_train + n_val:n_train + n_val + n_test]\n",
    "    \n",
    "    # Create a directory for the current seed\n",
    "    seed_folder = data_root + str(seed)\n",
    "    os.makedirs(seed_folder, exist_ok=True)\n",
    "    \n",
    "    # Save the new splits into the corresponding seed folder\n",
    "    train_data.to_csv(os.path.join(seed_folder, 'spectra_and_v_train_norm.csv'), index=False)\n",
    "    val_data.to_csv(os.path.join(seed_folder, 'spectra_and_v_val_norm.csv'), index=False)\n",
    "    test_data.to_csv(os.path.join(seed_folder, 'spectra_and_v_test_norm.csv'), index=False)"
   ]
  },
  {
   "cell_type": "code",
   "execution_count": null,
   "id": "6c9a3cd9-50c7-40c7-b86f-5ccfa650f59b",
   "metadata": {},
   "outputs": [],
   "source": []
  },
  {
   "cell_type": "code",
   "execution_count": null,
   "id": "6862871b-ad28-40d2-8e7b-06cb4ba7fe63",
   "metadata": {},
   "outputs": [],
   "source": []
  },
  {
   "cell_type": "code",
   "execution_count": null,
   "id": "132dcf1f-8696-4944-8671-ea6a46b611d2",
   "metadata": {},
   "outputs": [],
   "source": []
  },
  {
   "cell_type": "code",
   "execution_count": null,
   "id": "ffbb7442-354a-438c-90c9-d16aa6a9370f",
   "metadata": {},
   "outputs": [],
   "source": []
  },
  {
   "cell_type": "code",
   "execution_count": null,
   "id": "8805e03b-eb07-4b69-b06e-596c700b4a0e",
   "metadata": {},
   "outputs": [],
   "source": []
  },
  {
   "cell_type": "code",
   "execution_count": null,
   "id": "e52f0bf8-2f66-41cc-bad0-9136e2b0951b",
   "metadata": {},
   "outputs": [],
   "source": []
  },
  {
   "cell_type": "code",
   "execution_count": null,
   "id": "20572502-cc13-4c7a-ad0a-9ce2c693705b",
   "metadata": {},
   "outputs": [],
   "source": []
  },
  {
   "cell_type": "code",
   "execution_count": null,
   "id": "fce5c0e8-42f0-4234-b14a-17bcb132442d",
   "metadata": {},
   "outputs": [],
   "source": []
  },
  {
   "cell_type": "code",
   "execution_count": null,
   "id": "0a00c5f0-a898-4488-9bd9-f75bfab88455",
   "metadata": {},
   "outputs": [],
   "source": []
  },
  {
   "cell_type": "code",
   "execution_count": null,
   "id": "efc41e9c-482e-4026-8e57-3af9830fd683",
   "metadata": {},
   "outputs": [],
   "source": []
  },
  {
   "cell_type": "code",
   "execution_count": null,
   "id": "a6d204fb-8d7a-499c-b637-f5c0601b2e7b",
   "metadata": {},
   "outputs": [],
   "source": []
  },
  {
   "cell_type": "code",
   "execution_count": null,
   "id": "71ad979f-a385-4d8c-b6d9-40038944c288",
   "metadata": {},
   "outputs": [],
   "source": []
  },
  {
   "cell_type": "code",
   "execution_count": null,
   "id": "60d338ef-428f-4e66-bfde-61527e5bd735",
   "metadata": {},
   "outputs": [],
   "source": []
  },
  {
   "cell_type": "code",
   "execution_count": null,
   "id": "9cb81742-91f3-42e9-bbfc-09356e2be588",
   "metadata": {},
   "outputs": [],
   "source": []
  },
  {
   "cell_type": "code",
   "execution_count": null,
   "id": "0607ed06-eacb-45a0-a71a-e771c947ecac",
   "metadata": {},
   "outputs": [],
   "source": []
  },
  {
   "cell_type": "code",
   "execution_count": null,
   "id": "13e76c24-dcab-401f-955c-c28256e18695",
   "metadata": {},
   "outputs": [],
   "source": []
  },
  {
   "cell_type": "code",
   "execution_count": null,
   "id": "2f1bea5e-bed8-4d34-a8ba-44f6927a744d",
   "metadata": {},
   "outputs": [],
   "source": []
  }
 ],
 "metadata": {
  "kernelspec": {
   "display_name": "Python 3 (ipykernel)",
   "language": "python",
   "name": "python3"
  },
  "language_info": {
   "codemirror_mode": {
    "name": "ipython",
    "version": 3
   },
   "file_extension": ".py",
   "mimetype": "text/x-python",
   "name": "python",
   "nbconvert_exporter": "python",
   "pygments_lexer": "ipython3",
   "version": "3.10.14"
  }
 },
 "nbformat": 4,
 "nbformat_minor": 5
}

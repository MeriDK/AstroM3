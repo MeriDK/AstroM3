{
 "cells": [
  {
   "cell_type": "code",
   "execution_count": 524,
   "id": "bc5725ca-18c5-46fa-9770-afd2b5a85eb2",
   "metadata": {},
   "source": [
    "import sys\n",
    "sys.path.insert(0, '..')\n",
    "\n",
    "import torch\n",
    "import os\n",
    "import wandb\n",
    "import random\n",
    "import numpy as np\n",
    "import torch\n",
    "from torch import nn\n",
    "from torch.optim import Adam\n",
    "from ignite.handlers.param_scheduler import create_lr_scheduler_with_warmup\n",
    "from torch.utils.data import DataLoader\n",
    "from datetime import datetime\n",
    "import matplotlib.pyplot as plt\n",
    "import pandas as pd\n",
    "from scipy import stats\n",
    "from tqdm import tqdm\n",
    "from matplotlib import cm\n",
    "import seaborn as sns\n",
    "import matplotlib.lines as mlines\n",
    "from sklearn.decomposition import PCA\n",
    "from openTSNE import TSNE\n",
    "from PIL import Image\n",
    "import umap\n",
    "import torch.nn.functional as F\n",
    "from scipy.spatial.distance import cdist\n",
    "import umap.plot\n",
    "from sklearn.neighbors import LocalOutlierFactor\n",
    "from sklearn.ensemble import IsolationForest\n",
    "from sklearn.cluster import DBSCAN\n",
    "import random\n",
    "import joblib\n",
    "from scipy.signal import savgol_filter\n",
    "from sklearn.gaussian_process import GaussianProcessRegressor\n",
    "from sklearn.gaussian_process.kernels import RBF, ExpSineSquared, WhiteKernel, Matern, ConstantKernel\n",
    "from astropy.timeseries import LombScargle\n",
    "from scipy.interpolate import UnivariateSpline\n",
    "\n",
    "from util.preprocess_data import clip_outliers\n",
    "from core.final.dataset import PSMDataset\n",
    "from core.final.model import GalSpecNet, MetaModel, Informer, AstroModel\n",
    "from core.final.trainer import Trainer"
   ],
   "outputs": []
  },
  {
   "cell_type": "code",
   "execution_count": 399,
   "id": "be8dd598-428a-428b-bc1d-10ec6770afea",
   "metadata": {},
   "source": [
    "g_df = pd.read_csv('/home/mariia/AstroML/data/asassn/g.csv')"
   ],
   "outputs": []
  },
  {
   "cell_type": "code",
   "execution_count": 401,
   "id": "b14c2173-26b8-414d-9a22-280cb989a985",
   "metadata": {},
   "source": [
    "g_df[g_df['id'].isin(train_dataset.df['id'])]"
   ],
   "outputs": []
  },
  {
   "cell_type": "code",
   "execution_count": 402,
   "id": "204db4d0-bac3-442a-a7f2-b22e68577a0a",
   "metadata": {},
   "source": [
    "v_df = pd.read_csv('/home/mariia/AstroML/data/asassn/v.csv')"
   ],
   "outputs": []
  },
  {
   "cell_type": "code",
   "execution_count": 406,
   "id": "c0b6454b-dd21-4a42-b766-4736d42c9279",
   "metadata": {},
   "source": [
    "# TODO WHY 8519\n",
    "v_df[v_df['id'].isin(train_dataset.df['id'])]"
   ],
   "outputs": []
  },
  {
   "cell_type": "code",
   "execution_count": 405,
   "id": "3b8ad486-dd3d-4421-b62d-7de096f19ef6",
   "metadata": {},
   "source": [
    "len(train_dataset.df['id'])"
   ],
   "outputs": []
  },
  {
   "cell_type": "code",
   "execution_count": 820,
   "id": "67418185-51d7-477f-894a-b172ecdd64ba",
   "metadata": {},
   "source": [
    "plot_both(test_dataset, 120)"
   ],
   "outputs": []
  },
  {
   "cell_type": "code",
   "execution_count": 824,
   "id": "228edee0-f19c-4da0-8b70-2873740310aa",
   "metadata": {},
   "source": [
    "plot_wrong_period(test_dataset, 120)"
   ],
   "outputs": []
  },
  {
   "cell_type": "code",
   "execution_count": 827,
   "id": "6c9e553a-7df6-4369-af00-e1fcd86510b6",
   "metadata": {},
   "source": [
    "plot_both(test_dataset, 120, period=0.19167586062656022)"
   ],
   "outputs": []
  },
  {
   "cell_type": "code",
   "execution_count": 825,
   "id": "edf26b6f-9bad-4412-a505-46f9386d5731",
   "metadata": {},
   "source": [
    "plot_both_no_fit(test_dataset, 120, period=0.19167586062656022)"
   ],
   "outputs": []
  },
  {
   "cell_type": "code",
   "execution_count": 822,
   "id": "350737a6-a3ac-4a95-8202-7c1733ba05a8",
   "metadata": {},
   "source": [
    "plot_both_no_fit(test_dataset, 120)"
   ],
   "outputs": []
  },
  {
   "cell_type": "code",
   "execution_count": null,
   "id": "cd035188-d17b-4fc1-a48b-64b80cb75a5e",
   "metadata": {},
   "source": [],
   "outputs": []
  },
  {
   "cell_type": "code",
   "execution_count": 241,
   "id": "ac289c24-6ba8-4546-aa01-e8ee6acd0d8e",
   "metadata": {},
   "source": [
    "def plot_photometry2(dataset, idx, period=None):\n",
    "    el = dataset.df.iloc[idx]\n",
    "    label = target2id[el['target']]\n",
    "    period = period if period else el['org_period']\n",
    "    \n",
    "    photometry = dataset.get_vlc(el['name'])\n",
    "    photometry = np.vstack(((photometry[:, 0] % period) / period, photometry[:, 1], photometry[:, 2])).T    # fold\n",
    "    \n",
    "    plt.figure(figsize=(6, 5))\n",
    "    plt.plot(photometry[:, 0], photometry[:, 1], '.', label='Photometry')\n",
    "    plt.suptitle(f'period = {period}    label = {id2target[label]}')\n",
    "    plt.tight_layout()\n",
    "    plt.show()\n",
    "\n",
    "\n",
    "def plot_photometry3(dataset, idx, period=None):\n",
    "    el = dataset.df.iloc[idx]\n",
    "    label = target2id[el['target']]\n",
    "    period = period if period else el['org_period']\n",
    "    \n",
    "    photometry = dataset.get_vlc(el['name'])\n",
    "    photometry = np.vstack(((photometry[:, 0] % period) / period, photometry[:, 1], photometry[:, 2])).T    # fold\n",
    "    sorted_indices = np.argsort(photometry[:, 0])\n",
    "    photometry = photometry[sorted_indices]\n",
    "    \n",
    "    phase = photometry[:, 0]\n",
    "    flux = photometry[:, 1]\n",
    "    flux_err = photometry[:, 2]\n",
    "    \n",
    "    spl = UnivariateSpline(phase, flux, s=20)  # s=1 is the smoothing factor    \n",
    "    phase_pred = np.linspace(0, 1, 1000)\n",
    "    flux_pred = spl(phase_pred)\n",
    "    \n",
    "    # Plot the spline fit\n",
    "    plt.figure(figsize=(8, 6))\n",
    "    plt.errorbar(phase, flux, yerr=flux_err, fmt='.', label=\"Photometry\", color='gray', alpha=0.5)\n",
    "    plt.plot(phase_pred, flux_pred, 'g-', label=\"Spline Fit\")\n",
    "    plt.xlabel(\"Phase (folded)\")\n",
    "    plt.ylabel(\"Flux\")\n",
    "    plt.title(f\"period = {period}    label = {id2target[label]}\")\n",
    "    plt.legend()\n",
    "    plt.show()"
   ],
   "outputs": []
  },
  {
   "cell_type": "code",
   "execution_count": 385,
   "id": "696ca886-047c-45d8-9171-7e06ba228dbe",
   "metadata": {},
   "source": [
    "def plot_photometry_flux(dataset, idx, kernel=None):\n",
    "    el = dataset.df.iloc[idx]\n",
    "    label = target2id[el['target']]\n",
    "    period = el['org_period']\n",
    "    \n",
    "    photometry = dataset.get_vlc(el['name'])\n",
    "    time, flux, flux_err = photometry[:, 0], photometry[:, 1], photometry[:, 2]\n",
    "    \n",
    "    phased = (time % period) / period\n",
    "    phased_i = np.argsort(phased)\n",
    "    \n",
    "    phase = phased[phased_i]\n",
    "    flux = flux[phased_i]\n",
    "    flux_err = flux_err[phased_i]\n",
    "    \n",
    "    flux_mean = np.mean(flux)\n",
    "    flux_std = np.std(flux)\n",
    "    \n",
    "    X = phase.reshape(-1, 1)\n",
    "    y = (flux - flux_mean) / flux_std\n",
    "    \n",
    "    kernel = kernel if kernel else 1.0 * RBF(length_scale=1.0)\n",
    "    gp = GaussianProcessRegressor(kernel=kernel, alpha=flux_err**2)\n",
    "    gp.fit(X, y)\n",
    "    \n",
    "    # Generate test points to predict over (a denser time grid)\n",
    "    X_test = np.linspace(0, 1, 1000).reshape(-1, 1)\n",
    "    y_pred, y_std = gp.predict(X_test, return_std=True)\n",
    "    X_test = X_test.ravel()\n",
    "    \n",
    "    # De-normalize the predicted values to original scale\n",
    "    y_pred = y_pred * flux_std + flux_mean\n",
    "    y_std = y_std * flux_std\n",
    "\n",
    "    # Plot original photometry\n",
    "    plt.figure(figsize=(6, 5))\n",
    "    # plt.errorbar(np.hstack([phase - 0.5, phase + 0.5]), np.hstack([mag, mag]), #yerr=np.hstack([dmag, dmag]),\n",
    "    #              fmt='.', label='Photometry', alpha=0.4)\n",
    "    plt.errorbar(np.hstack([phase - 0.5, phase + 0.5]), np.hstack([flux, flux]), yerr=np.hstack([flux_err, flux_err]), \n",
    "                 fmt='.', label='Photometry', alpha=0.4)\n",
    "    \n",
    "    # Plot GP prediction with uncertainty bounds\n",
    "    plt.plot(np.hstack([X_test - 0.5, X_test + 0.5]), np.hstack([y_pred, y_pred]), label='GP Fit', color='blue')\n",
    "    y_minus_std = np.hstack([y_pred - y_std, y_pred - y_std])\n",
    "    y_plus_std = np.hstack([y_pred + y_std, y_pred + y_std])\n",
    "    plt.fill_between(np.hstack([X_test - 0.5, X_test + 0.5]), y_minus_std, y_plus_std, color='blue', alpha=0.2, label='Uncertainty')\n",
    "\n",
    "    # Plot details\n",
    "    plt.xlabel('Phase')\n",
    "    plt.ylabel('Flux')\n",
    "    plt.text(0.99, 0.97, f'$P_{{\\\\rm cat}} = {period:.6f}$', horizontalalignment='right', verticalalignment='top',\n",
    "             transform=plt.gca().transAxes, fontsize=10)\n",
    "    plt.title('Photometry')\n",
    "    plt.legend()\n",
    "    # plt.legend([f'Photometry', f'GP Fit ($P_{{\\\\rm cat}} = {period:.6f}$)', 'Uncertainty'])\n",
    "    plt.tight_layout()\n",
    "    plt.show()"
   ],
   "outputs": []
  },
  {
   "cell_type": "code",
   "execution_count": 625,
   "id": "3880f8eb-5b36-440a-9413-03fda23483a9",
   "metadata": {},
   "source": [
    "def plot_spectra(dataset, idx, window_length=51, polyorder=3):\n",
    "    el = dataset.df.iloc[idx]\n",
    "    label = target2id[el['target']]\n",
    "    period = el['org_period']\n",
    "    \n",
    "    spectra = dataset.readLRSFits(os.path.join(dataset.lamost_spec_dir, el['spec_filename']))\n",
    "    smoothed_spectra = savgol_filter(spectra[:, 1], window_length=window_length, polyorder=polyorder)\n",
    "\n",
    "    plt.figure(figsize=(6, 5))\n",
    "    plt.plot(spectra[:, 0], spectra[:, 1], color='gray', alpha=0.4, label='Original Spectra')\n",
    "    plt.plot(spectra[:, 0], smoothed_spectra, color='blue', linewidth=1.5, label='Smoothed Spectra')\n",
    "    # plt.title(f'period = {period}    label = {id2target[label]}')\n",
    "    plt.xlabel('Wavelength (Å)')\n",
    "    plt.ylabel('Flux')\n",
    "    plt.grid(True, which='both', linestyle='--', linewidth=0.5)\n",
    "    plt.title('Spectra')\n",
    "    plt.tight_layout()\n",
    "    # plt.legend()\n",
    "    plt.show()"
   ],
   "outputs": []
  },
  {
   "cell_type": "code",
   "execution_count": 639,
   "id": "b4b456bc-d828-425d-bc7f-d9fb956b100f",
   "metadata": {},
   "source": [
    "def plot_photometry_flux(dataset, idx):\n",
    "    el = dataset.df.iloc[idx]\n",
    "    label = target2id[el['target']]\n",
    "    period = el['org_period']\n",
    "    \n",
    "    photometry = dataset.get_vlc(el['name'])\n",
    "    flux_time, flux, flux_err = photometry[:, 0], photometry[:, 1], photometry[:, 2]\n",
    "    \n",
    "    phased = (flux_time % period) / period\n",
    "    phased_i = np.argsort(phased)\n",
    "    \n",
    "    phase = phased[phased_i]\n",
    "    flux = flux[phased_i]\n",
    "    flux_err = flux_err[phased_i]\n",
    "    \n",
    "    mag = -2.5 * np.log10(flux)\n",
    "    dmag = (2.5 / np.log(10)) * (flux_err / flux)\n",
    "    time = np.linspace(0, 1, 1000)\n",
    "\n",
    "    phase3 = np.hstack([phase - 1, phase, phase + 1])\n",
    "    mag3 = np.hstack([mag, mag, mag])\n",
    "    dmag3 = np.hstack([dmag, dmag, dmag])\n",
    "    time3 = np.hstack([time - 1, time, time + 1])\n",
    "\n",
    "    kernel = ConstantKernel(1.0, (1e-3, 1e3)) * RBF(0.1, (1e-2, 1e2))\n",
    "    # gp = GaussianProcessRegressor(kernel=kernel, alpha=dmag ** 2, n_restarts_optimizer=10)\n",
    "    # gp.fit(phase.reshape(-1, 1), mag)\n",
    "    gp = GaussianProcessRegressor(kernel=kernel, alpha=dmag3 ** 2, n_restarts_optimizer=10)\n",
    "    gp.fit(phase3.reshape(-1, 1), mag3)\n",
    "\n",
    "    # y_fit, sigma = gp.predict(time.reshape(-1, 1), return_std=True)\n",
    "    y_fit, sigma = gp.predict(time3.reshape(-1, 1), return_std=True)\n",
    "\n",
    "    plt.figure(figsize=(6, 5))\n",
    "    \n",
    "    # y_fit3 = np.hstack([y_fit, y_fit, y_fit])\n",
    "    # sigma3 = np.hstack([sigma, sigma, sigma])\n",
    "\n",
    "    plt.errorbar(phase3, mag3, yerr=dmag3, fmt='.', label='Photometry', alpha=0.4)\n",
    "    plt.plot(time3, y_fit, label='GP Fit', color='blue')\n",
    "    plt.fill_between(time3, y_fit - 3 * sigma, y_fit + 3 * sigma, alpha=0.2, color='blue', label='Uncertainty')\n",
    "    plt.xlim(-0.5, 1.5)\n",
    "\n",
    "    # plt.errorbar(phase, mag, yerr=dmag, fmt='.', label='Photometry', alpha=0.4)\n",
    "    # plt.plot(time, y_fit, label='GP Fit', color='blue')\n",
    "    # plt.fill_between(time, y_fit - 3 * sigma, y_fit + 3 * sigma, alpha=0.2, color='blue', label='Uncertainty')\n",
    "    \n",
    "    plt.xlabel('Phase')\n",
    "    plt.ylabel('Magnitude')\n",
    "    # plt.text(0.24, 0.98, f'$P_{{\\\\rm cat}} = {period:.6f}$', horizontalalignment='right', verticalalignment='top',\n",
    "    #          transform=plt.gca().transAxes, fontsize=10)\n",
    "    plt.title(f'Photometry ($P_{{\\\\rm cat}} = {period:.6f}$)')\n",
    "    plt.grid(True, which='both', linestyle='--', linewidth=0.5)\n",
    "    # plt.legend(loc='upper right')\n",
    "    plt.tight_layout()\n",
    "    plt.show()"
   ],
   "outputs": []
  },
  {
   "cell_type": "code",
   "execution_count": 823,
   "id": "b6275417-a08d-4a88-abd2-f27271f488e1",
   "metadata": {},
   "source": [
    "def plot_both_no_fit(dataset, idx, true_label=None, noise_level=0.0, period=None):\n",
    "    el = dataset.df.iloc[idx]\n",
    "    label = target2id[el['target']]\n",
    "    period = period if period else el['org_period']\n",
    "\n",
    "    # Photometry\n",
    "    photometry = dataset.get_vlc(el['name'])\n",
    "    flux_time, flux, flux_err = photometry[:, 0], photometry[:, 1], photometry[:, 2]\n",
    "    \n",
    "    phased = (flux_time % period) / period\n",
    "    phased_i = np.argsort(phased)\n",
    "    \n",
    "    phase = phased[phased_i]\n",
    "    flux = flux[phased_i]\n",
    "    flux_err = flux_err[phased_i]\n",
    "    \n",
    "    mag = -2.5 * np.log10(flux)\n",
    "    dmag = (2.5 / np.log(10)) * (flux_err / flux)\n",
    "    time = np.linspace(0, 1, 1000)\n",
    "\n",
    "    phase3 = np.hstack([phase - 1, phase, phase + 1])\n",
    "    mag3 = np.hstack([mag, mag, mag])\n",
    "    dmag3 = np.hstack([dmag, dmag, dmag])\n",
    "    time3 = np.hstack([time - 1, time, time + 1])\n",
    "\n",
    "    # kernel = ConstantKernel(1.0, (1e-3, 1e3)) * RBF(0.1, (1e-2, 1e2))\n",
    "    # gp = GaussianProcessRegressor(kernel=kernel, alpha=dmag3 ** 2 + noise_level, n_restarts_optimizer=20)\n",
    "    # gp.fit(phase3.reshape(-1, 1), mag3)\n",
    "\n",
    "    # y_fit, sigma = gp.predict(time3.reshape(-1, 1), return_std=True)\n",
    "    \n",
    "    # Spectra\n",
    "    spectra = dataset.readLRSFits(os.path.join(dataset.lamost_spec_dir, el['spec_filename']))\n",
    "    # smoothed_spectra = savgol_filter(spectra[:, 1], window_length=51, polyorder=3)\n",
    "\n",
    "    # Plots\n",
    "    fig, (ax1, ax2) = plt.subplots(1, 2, figsize=(12, 5))  \n",
    "    \n",
    "    ax1.errorbar(phase3, mag3, yerr=dmag3, fmt='.', label='Photometry')\n",
    "    # ax1.plot(time3, y_fit, label='GP Fit', color='blue')\n",
    "    # ax1.fill_between(time3, y_fit - 3 * sigma, y_fit + 3 * sigma, alpha=0.2, color='blue', label='Uncertainty')\n",
    "    ax1.set_xlim(-0.5, 1.5)    \n",
    "    ax1.set_xlabel('Phase')\n",
    "    ax1.set_ylabel('Magnitude')\n",
    "    ax1.set_title(f'Photometry ($P_{{\\\\rm cat}} = {period:.6f}$)')\n",
    "    ax1.grid(True, which='both', linestyle='--', linewidth=0.5)\n",
    "    ax1.invert_yaxis()\n",
    "\n",
    "    ax2.plot(spectra[:, 0], spectra[:, 1], color='gray', label='Original Spectra')\n",
    "    # ax2.plot(spectra[:, 0], smoothed_spectra, color='blue', linewidth=1.5, label='Smoothed Spectra')\n",
    "    ax2.set_xlabel('Wavelength (Å)')\n",
    "    ax2.set_ylabel('Flux')\n",
    "    ax2.grid(True, which='both', linestyle='--', linewidth=0.5)\n",
    "    ax2.set_title('Spectra')\n",
    "\n",
    "    plt.suptitle(f\"Original Classification: {el['target']}      True Label: {true_label}\")\n",
    "    plt.tight_layout()\n",
    "    plt.show()"
   ],
   "outputs": []
  },
  {
   "cell_type": "code",
   "execution_count": 831,
   "id": "ac3b2918-d804-487c-8859-9608a677a875",
   "metadata": {},
   "source": [
    "def plot_both(dataset, idx, true_label=None, noise_level=0.0, period=None):\n",
    "    el = dataset.df.iloc[idx]\n",
    "    label = target2id[el['target']]\n",
    "    period = period if period else el['org_period']\n",
    "\n",
    "    # Photometry\n",
    "    photometry = dataset.get_vlc(el['name'])\n",
    "    flux_time, flux, flux_err = photometry[:, 0], photometry[:, 1], photometry[:, 2]\n",
    "    \n",
    "    phased = (flux_time % period) / period\n",
    "    phased_i = np.argsort(phased)\n",
    "    \n",
    "    phase = phased[phased_i]\n",
    "    flux = flux[phased_i]\n",
    "    flux_err = flux_err[phased_i]\n",
    "    \n",
    "    mag = -2.5 * np.log10(flux)\n",
    "    dmag = (2.5 / np.log(10)) * (flux_err / flux)\n",
    "    time = np.linspace(0, 1, 1000)\n",
    "\n",
    "    phase3 = np.hstack([phase - 1, phase, phase + 1])\n",
    "    mag3 = np.hstack([mag, mag, mag])\n",
    "    dmag3 = np.hstack([dmag, dmag, dmag])\n",
    "    time3 = np.hstack([time - 1, time, time + 1])\n",
    "\n",
    "    kernel = ConstantKernel(1.0, (1e-3, 1e3)) * RBF(0.1, (1e-2, 1e2))\n",
    "    gp = GaussianProcessRegressor(kernel=kernel, alpha=dmag3 ** 2 + noise_level, n_restarts_optimizer=20)\n",
    "    gp.fit(phase3.reshape(-1, 1), mag3)\n",
    "\n",
    "    y_fit, sigma = gp.predict(time3.reshape(-1, 1), return_std=True)\n",
    "    \n",
    "    # Spectra\n",
    "    spectra = dataset.readLRSFits(os.path.join(dataset.lamost_spec_dir, el['spec_filename']))\n",
    "    smoothed_spectra = savgol_filter(spectra[:, 1], window_length=51, polyorder=3)\n",
    "\n",
    "    # Plots\n",
    "    fig, (ax1, ax2) = plt.subplots(1, 2, figsize=(12, 5))  \n",
    "    \n",
    "    ax1.errorbar(phase3, mag3, yerr=dmag3, fmt='.', label='Photometry', alpha=0.4)\n",
    "    ax1.plot(time3, y_fit, label='GP Fit', color='blue')\n",
    "    ax1.fill_between(time3, y_fit - 3 * sigma, y_fit + 3 * sigma, alpha=0.2, color='blue', label='Uncertainty')\n",
    "    ax1.set_xlim(-0.5, 1.5)    \n",
    "    ax1.set_xlabel('Phase')\n",
    "    ax1.set_ylabel('Magnitude')\n",
    "    ax1.set_title(f'Photometry ($P_{{\\\\rm cat}} = {period:.6f}$)')\n",
    "    ax1.grid(True, which='both', linestyle='--', linewidth=0.5)\n",
    "    ax1.invert_yaxis()\n",
    "\n",
    "    ax2.plot(spectra[:, 0], spectra[:, 1], color='gray', alpha=0.4, label='Original Spectra')\n",
    "    ax2.plot(spectra[:, 0], smoothed_spectra, color='blue', linewidth=1.5, label='Smoothed Spectra')\n",
    "    ax2.set_xlabel('Wavelength (Å)')\n",
    "    ax2.set_ylabel('Flux')\n",
    "    ax2.grid(True, which='both', linestyle='--', linewidth=0.5)\n",
    "    ax2.set_title('Spectra')\n",
    "\n",
    "    if true_label:\n",
    "        plt.suptitle(f\"Original Classification: {el['target']}      True Label: {true_label}\")\n",
    "    else:\n",
    "        plt.suptitle(f\"Original Classification: {el['target']}\")\n",
    "        \n",
    "    plt.tight_layout()\n",
    "    plt.show()"
   ],
   "outputs": []
  },
  {
   "cell_type": "code",
   "execution_count": null,
   "id": "9d9622fc-79cc-458c-b285-ccfab1751b64",
   "metadata": {},
   "source": [],
   "outputs": []
  },
  {
   "cell_type": "code",
   "execution_count": 814,
   "id": "987e7eac-e9cc-42cf-a3f5-9b7f64f6b854",
   "metadata": {},
   "source": [
    "test_dataset.df.iloc[120]"
   ],
   "outputs": []
  },
  {
   "cell_type": "code",
   "execution_count": null,
   "id": "6ce61ce3-6424-40e0-b1f5-e312bbfce668",
   "metadata": {},
   "source": [],
   "outputs": []
  },
  {
   "cell_type": "code",
   "execution_count": null,
   "id": "c86cccf7-e2a5-4e7a-87e1-3a337fbfb2d7",
   "metadata": {},
   "source": [],
   "outputs": []
  },
  {
   "cell_type": "code",
   "execution_count": null,
   "id": "1b5f6409-a62a-4b8e-bc66-fa2d54a0dfb2",
   "metadata": {},
   "source": [],
   "outputs": []
  },
  {
   "cell_type": "code",
   "execution_count": 792,
   "id": "21a53f66-aa0c-43f7-b366-0babb0f06967",
   "metadata": {},
   "source": [
    "train_dataset.df.iloc[472]['name']"
   ],
   "outputs": []
  },
  {
   "cell_type": "code",
   "execution_count": 809,
   "id": "4cd730a7-e2e5-404c-b952-c0ebbf17c533",
   "metadata": {},
   "source": [
    "plot_both(train_dataset, 472, 'M', noise_level=0.01)"
   ],
   "outputs": []
  },
  {
   "cell_type": "code",
   "execution_count": 791,
   "id": "946cb0a6-fd41-40f4-8112-e8f90cc8dd00",
   "metadata": {},
   "source": [
    "train_dataset.df.iloc[403]['name']"
   ],
   "outputs": []
  },
  {
   "cell_type": "code",
   "execution_count": 828,
   "id": "7ad04521-5e9b-4d5c-8154-8ddf8ca0b16c",
   "metadata": {},
   "source": [
    "plot_both(train_dataset, 403, 'EB')"
   ],
   "outputs": []
  },
  {
   "cell_type": "code",
   "execution_count": 790,
   "id": "b691bd1f-0375-4780-8da0-2df17eec04b9",
   "metadata": {},
   "source": [
    "train_dataset.df.iloc[488]['name']"
   ],
   "outputs": []
  },
  {
   "cell_type": "code",
   "execution_count": 810,
   "id": "56426b67-5ce2-4141-b8d3-9e282d0fb587",
   "metadata": {},
   "source": [
    "plot_both(train_dataset, 488, 'EW')"
   ],
   "outputs": []
  },
  {
   "cell_type": "code",
   "execution_count": 789,
   "id": "dc553177-3178-437f-ab2e-1459f126edcb",
   "metadata": {},
   "source": [
    "train_dataset.df.iloc[898]['name']"
   ],
   "outputs": []
  },
  {
   "cell_type": "code",
   "execution_count": 832,
   "id": "ff3074fb-59c1-4a10-aa86-57a6c6f657cc",
   "metadata": {},
   "source": [
    "# https://simbad.cds.unistra.fr/simbad/sim-ref?bibcode=2004ApJS..151..357S\n",
    "# written about by our colaborator\n",
    "plot_both(train_dataset, 898)"
   ],
   "outputs": []
  },
  {
   "cell_type": "code",
   "execution_count": 788,
   "id": "c187d929-989a-4054-a102-ecae6ffb1de5",
   "metadata": {},
   "source": [
    "train_dataset.df.iloc[1093]['name']"
   ],
   "outputs": []
  },
  {
   "cell_type": "code",
   "execution_count": 812,
   "id": "e2b5e110-3afb-45b4-885c-594b9c87af10",
   "metadata": {},
   "source": [
    "plot_both(train_dataset, 1093, 'EW')"
   ],
   "outputs": []
  },
  {
   "cell_type": "code",
   "execution_count": 793,
   "id": "9a6327c2-2bdb-41ec-80ed-26c75fe6dec6",
   "metadata": {},
   "source": [
    "train_dataset.df.iloc[1159]['name']"
   ],
   "outputs": []
  },
  {
   "cell_type": "code",
   "execution_count": 833,
   "id": "0138d58a-ff97-4c20-b0e8-780309740875",
   "metadata": {},
   "source": [
    "plot_both(train_dataset, 1159)"
   ],
   "outputs": []
  },
  {
   "cell_type": "code",
   "execution_count": 795,
   "id": "052a0431-6590-4ac9-97b0-36537d2d7208",
   "metadata": {},
   "source": [
    "train_dataset.df.iloc[1235]['name']"
   ],
   "outputs": []
  },
  {
   "cell_type": "code",
   "execution_count": 834,
   "id": "d51645ed-a0b0-4cc0-9724-0387a6ba7628",
   "metadata": {},
   "source": [
    "# interesting star, nothing written about it\n",
    "# it’s a semi-detacted binary with emission lines\n",
    "plot_both(train_dataset, 1235) #, 'Correctly classified but because of the emission lines was marked as outlier', noise_level=0.001)"
   ],
   "outputs": []
  },
  {
   "cell_type": "code",
   "execution_count": 796,
   "id": "3511d68d-9fd2-4b78-8e4e-6d0bc23688a7",
   "metadata": {},
   "source": [
    "train_dataset.df.iloc[4414]['name']"
   ],
   "outputs": []
  },
  {
   "cell_type": "code",
   "execution_count": 813,
   "id": "61cd6a26-c584-4b2f-bede-b26df665ee95",
   "metadata": {},
   "source": [
    "# interesting\n",
    "plot_both(train_dataset, 4414, 'SR')"
   ],
   "outputs": []
  },
  {
   "cell_type": "code",
   "execution_count": 797,
   "id": "c85c3c67-5a34-4f9b-8ff3-c17b81bbefa9",
   "metadata": {},
   "source": [
    "train_dataset.df.iloc[6265]['name']"
   ],
   "outputs": []
  },
  {
   "cell_type": "code",
   "execution_count": 835,
   "id": "6e84a68e-481d-41e2-b2d6-9a51df01de45",
   "metadata": {},
   "source": [
    "# interesting\n",
    "plot_both(train_dataset, 6265)"
   ],
   "outputs": []
  },
  {
   "cell_type": "code",
   "execution_count": 799,
   "id": "429c98dc-b04c-4ced-a43d-c96c6d50a690",
   "metadata": {},
   "source": [
    "train_dataset.df.iloc[7218]['name']"
   ],
   "outputs": []
  },
  {
   "cell_type": "code",
   "execution_count": 778,
   "id": "4c8f2101-b128-42c9-86e9-ce4dda59ea2f",
   "metadata": {},
   "source": [
    "plot_both(train_dataset, 7218, 'EW?')"
   ],
   "outputs": []
  },
  {
   "cell_type": "code",
   "execution_count": null,
   "id": "1a12ac8c-dec5-4c9c-b2b9-0f1d451da705",
   "metadata": {},
   "source": [],
   "outputs": []
  },
  {
   "cell_type": "code",
   "execution_count": null,
   "id": "5df94567-4bd7-47ec-b95d-4117d88f0336",
   "metadata": {},
   "source": [],
   "outputs": []
  },
  {
   "cell_type": "code",
   "execution_count": null,
   "id": "bbaa36be-9710-4d22-864c-ce1f24117d00",
   "metadata": {},
   "source": [],
   "outputs": []
  },
  {
   "cell_type": "code",
   "execution_count": null,
   "id": "d1b5e150-f8b8-42c6-8f38-91a738003d4f",
   "metadata": {},
   "source": [],
   "outputs": []
  },
  {
   "cell_type": "code",
   "execution_count": null,
   "id": "796ce621-d50c-434e-bff3-4084ee6f8844",
   "metadata": {},
   "source": [],
   "outputs": []
  },
  {
   "cell_type": "code",
   "execution_count": null,
   "id": "60e2c6fe-d2eb-4632-afd9-1ae7e9b23f27",
   "metadata": {},
   "source": [],
   "outputs": []
  },
  {
   "cell_type": "code",
   "execution_count": 643,
   "id": "557c3015-0811-42dc-a6cd-2c9ed7025d24",
   "metadata": {},
   "source": [
    "train_dataset.df.iloc[4396]"
   ],
   "outputs": []
  },
  {
   "cell_type": "code",
   "execution_count": 644,
   "id": "288062d7-764f-4bce-8bea-55d7956f4b87",
   "metadata": {},
   "source": [
    "plot_wrong_period(train_dataset, 4396)"
   ],
   "outputs": []
  },
  {
   "cell_type": "code",
   "execution_count": null,
   "id": "837ef484-329e-4c3d-a4cb-144e340e6b11",
   "metadata": {},
   "source": [],
   "outputs": []
  },
  {
   "cell_type": "code",
   "execution_count": null,
   "id": "44fd50e6-9630-4100-a7c3-92b9101810c7",
   "metadata": {},
   "source": [],
   "outputs": []
  },
  {
   "cell_type": "code",
   "execution_count": null,
   "id": "f0b7141a-9320-47fd-bf71-2fbd06f419af",
   "metadata": {},
   "source": [],
   "outputs": []
  },
  {
   "cell_type": "code",
   "execution_count": null,
   "id": "820c9376-47ca-41db-8ac4-854d0c184fbe",
   "metadata": {},
   "source": [],
   "outputs": []
  },
  {
   "cell_type": "code",
   "execution_count": null,
   "id": "14d1cee8-d140-4045-b61b-6552f2daa0f8",
   "metadata": {},
   "source": [],
   "outputs": []
  },
  {
   "cell_type": "code",
   "execution_count": null,
   "id": "49308731-4123-4b87-89a0-4686491d9130",
   "metadata": {},
   "source": [],
   "outputs": []
  },
  {
   "cell_type": "code",
   "execution_count": null,
   "id": "a66d753b-b983-4088-9b63-1f743c2bf94b",
   "metadata": {},
   "source": [],
   "outputs": []
  },
  {
   "cell_type": "code",
   "execution_count": 576,
   "id": "e7c526a0-1b34-4701-97ed-70453b429885",
   "metadata": {},
   "source": [
    "plot_photometry_flux(val_dataset, 84)"
   ],
   "outputs": []
  },
  {
   "cell_type": "code",
   "execution_count": 440,
   "id": "2de69e45-aea2-4e09-88dd-e36d135eba86",
   "metadata": {},
   "source": [
    "# plt.errorbar(np.hstack([phase - 0.5, phase + 0.5]), np.hstack([flux, flux]), yerr=np.hstack([flux_err, flux_err]), \n",
    "#              fmt='.', label='Photometry', alpha=0.4)\n",
    "plt.errorbar(phase, flux, yerr=flux_err, fmt='.', label='Photometry', alpha=0.4)"
   ],
   "outputs": []
  },
  {
   "cell_type": "code",
   "execution_count": 441,
   "id": "c9dbe760-e7e1-409f-b54e-33c70d579372",
   "metadata": {},
   "source": [
    "# plt.errorbar(np.hstack([phase - 0.5, phase + 0.5]), np.hstack([mag, mag]), yerr=np.hstack([dmag, dmag]),\n",
    "#              fmt='.', label='Photometry', alpha=0.4)\n",
    "plt.errorbar(phase, mag, yerr=dmag, fmt='.', label='Photometry', alpha=0.4)"
   ],
   "outputs": []
  },
  {
   "cell_type": "code",
   "execution_count": 554,
   "id": "23008210-fbd1-4db5-b0fe-61f86bb0b70d",
   "metadata": {},
   "source": [
    "time = np.linspace(0, 1, 1000)\n",
    "\n",
    "# ls = LombScargle(phase, mag, dmag, nterms=8)\n",
    "# y_fit = ls.model(time, 1 / period)\n",
    "\n",
    "# coeffs = np.polyfit(phase, mag, 16)\n",
    "# poly = np.poly1d(coeffs)\n",
    "# y_fit = poly(time)\n",
    "\n",
    "kernel = ConstantKernel(1.0, (1e-3, 1e3)) * RBF(0.1, (1e-2, 1e2))\n",
    "gp = GaussianProcessRegressor(kernel=kernel, alpha=dmag ** 2, n_restarts_optimizer=10)\n",
    "gp.fit(phase.reshape(-1, 1), mag)\n",
    "y_fit, sigma = gp.predict(time.reshape(-1, 1), return_std=True)\n",
    "\n",
    "plt.errorbar(phase, mag, yerr=dmag, fmt='.', label='Photometry', alpha=0.4)\n",
    "plt.plot(time, y_fit)\n",
    "plt.fill_between(time, y_fit - 3 * sigma, y_fit + 3 * sigma, alpha=0.2, color='r', label='Uncertainty')"
   ],
   "outputs": []
  },
  {
   "cell_type": "code",
   "execution_count": 553,
   "id": "2404d9ce-61aa-4ba1-b087-6a6c8e4c400a",
   "metadata": {},
   "source": [
    "time = np.linspace(0, 1, 1000)\n",
    "\n",
    "kernel = ConstantKernel(1.0, (1e-3, 1e4)) * RBF(0.1, (1e-2, 1e2))\n",
    "gp = GaussianProcessRegressor(kernel=kernel, alpha=(0.7 * flux_err) ** 2, n_restarts_optimizer=10)\n",
    "gp.fit(phase.reshape(-1, 1), flux)\n",
    "y_fit, sigma = gp.predict(time.reshape(-1, 1), return_std=True)\n",
    "\n",
    "plt.errorbar(phase, flux, yerr=flux_err, fmt='.', label='Photometry', alpha=0.4)\n",
    "plt.plot(time, y_fit)\n",
    "plt.fill_between(time, y_fit - 3 * sigma, y_fit + 3 * sigma, alpha=0.2, color='r', label='Uncertainty')"
   ],
   "outputs": []
  },
  {
   "cell_type": "code",
   "execution_count": null,
   "id": "75a725ec-9dbc-496a-a652-516e607288fe",
   "metadata": {},
   "source": [],
   "outputs": []
  },
  {
   "cell_type": "code",
   "execution_count": 526,
   "id": "07927f74-8339-48ca-b132-44fd1b81373e",
   "metadata": {},
   "source": [
    "plt.errorbar(phase, mag_norm, yerr=dmag_norm, fmt='.', label='Photometry', alpha=0.4)"
   ],
   "outputs": []
  },
  {
   "cell_type": "code",
   "execution_count": 518,
   "id": "2484d04b-c4fe-44dd-8233-64a42f352cf1",
   "metadata": {},
   "source": [
    "sigma[:10]"
   ],
   "outputs": []
  },
  {
   "cell_type": "code",
   "execution_count": null,
   "id": "6ffbf9e6-1569-4a03-836b-3132778545b2",
   "metadata": {},
   "source": [],
   "outputs": []
  },
  {
   "cell_type": "code",
   "execution_count": 445,
   "id": "0bf4fbe0-1bab-4b6f-9248-dc7e952e1f3d",
   "metadata": {},
   "source": [
    "plt.plot(time, y_fit, '.')\n",
    "# plt.errorbar(np.hstack([time - 0.5, time + 0.5]), np.hstack([y_fit, y_fit]),\n",
    "#              fmt='.', label='Photometry', alpha=0.4)"
   ],
   "outputs": []
  },
  {
   "cell_type": "code",
   "execution_count": null,
   "id": "2ddfa1e3-2f08-4cd5-8580-7c5be2f9eb00",
   "metadata": {},
   "source": [],
   "outputs": []
  },
  {
   "cell_type": "code",
   "execution_count": null,
   "id": "ba5984e2-a4da-4ce1-9c9a-4f7867ad9174",
   "metadata": {},
   "source": [],
   "outputs": []
  },
  {
   "cell_type": "code",
   "execution_count": null,
   "id": "20693531-5ed3-46ef-8b6c-f3ce06decc73",
   "metadata": {},
   "source": [],
   "outputs": []
  },
  {
   "cell_type": "code",
   "execution_count": null,
   "id": "f1d9abd9-89fd-478e-99e3-be93ac9c3901",
   "metadata": {},
   "source": [],
   "outputs": []
  },
  {
   "cell_type": "code",
   "execution_count": null,
   "id": "c5b9df9a-eab1-4038-aede-92813188ed96",
   "metadata": {},
   "source": [],
   "outputs": []
  },
  {
   "cell_type": "code",
   "execution_count": null,
   "id": "a9950397-eed1-4f7f-9921-6234229b4ee6",
   "metadata": {},
   "source": [],
   "outputs": []
  },
  {
   "cell_type": "code",
   "execution_count": null,
   "id": "9be9b699-5459-47e7-b0a5-9618719d8d05",
   "metadata": {},
   "source": [],
   "outputs": []
  },
  {
   "cell_type": "code",
   "execution_count": null,
   "id": "53cc05cd-428c-4d99-bcfc-21bb003030b5",
   "metadata": {},
   "source": [],
   "outputs": []
  },
  {
   "cell_type": "code",
   "execution_count": null,
   "id": "acca2036-6b71-4e05-854f-af13f684462c",
   "metadata": {},
   "source": [],
   "outputs": []
  },
  {
   "cell_type": "code",
   "execution_count": null,
   "id": "0b680eb2-0e4a-4879-ba2e-1629b8126a17",
   "metadata": {},
   "source": [],
   "outputs": []
  },
  {
   "cell_type": "code",
   "execution_count": null,
   "id": "31329c4c-59e5-433c-837f-86414ea69917",
   "metadata": {},
   "source": [],
   "outputs": []
  },
  {
   "cell_type": "code",
   "execution_count": null,
   "id": "3a1c5458-4823-4bc3-9d3b-b4e770f73261",
   "metadata": {},
   "source": [],
   "outputs": []
  },
  {
   "cell_type": "code",
   "execution_count": null,
   "id": "bba18e12-fc0d-4d5a-856f-e21d248ce75e",
   "metadata": {},
   "source": [
    "\n",
    "mag_mean = np.mean(mag)\n",
    "mag_std = np.std(mag)\n",
    "\n",
    "# flux_mean = np.mean(flux)\n",
    "# flux_std = np.std(flux)\n",
    "\n",
    "X = phase.reshape(-1, 1)\n",
    "y = (mag - mag_mean) / mag_std\n",
    "# y = (flux - flux_mean) / flux_std\n",
    "\n",
    "kernel = kernel if kernel else 1.0 * RBF(length_scale=1.0)\n",
    "gp = GaussianProcessRegressor(kernel=kernel, alpha=dmag**2)\n",
    "# gp = GaussianProcessRegressor(kernel=kernel, alpha=flux_err**2)\n",
    "gp.fit(X, y)\n",
    "\n",
    "# Generate test points to predict over (a denser time grid)\n",
    "X_test = np.linspace(0, 1, 1000).reshape(-1, 1)\n",
    "y_pred, y_std = gp.predict(X_test, return_std=True)\n",
    "X_test = X_test.ravel()\n",
    "\n",
    "# De-normalize the predicted values to original scale\n",
    "y_pred = y_pred * mag_std + mag_mean\n",
    "y_std = y_std * mag_std\n",
    "# y_pred = y_pred * flux_std + flux_mean\n",
    "# y_std = y_std * flux_std\n",
    "\n",
    "# Plot original photometry\n",
    "plt.figure(figsize=(6, 5))\n",
    "plt.errorbar(np.hstack([phase - 0.5, phase + 0.5]), np.hstack([mag, mag]), #yerr=np.hstack([dmag, dmag]),\n",
    "             fmt='.', label='Photometry', alpha=0.4)\n",
    "# plt.errorbar(phase, flux, yerr=flux_err, fmt='.', label='Photometry', alpha=0.4)\n",
    "\n",
    "# Plot GP prediction with uncertainty bounds\n",
    "plt.plot(np.hstack([X_test - 0.5, X_test + 0.5]), np.hstack([y_pred, y_pred]), label='GP Fit', color='blue')\n",
    "y_minus_std = np.hstack([y_pred - y_std, y_pred - y_std])\n",
    "y_plus_std = np.hstack([y_pred + y_std, y_pred + y_std])\n",
    "plt.fill_between(np.hstack([X_test - 0.5, X_test + 0.5]), y_minus_std, y_plus_std, color='blue', alpha=0.2, label='Uncertainty')\n",
    "\n",
    "# Plot details\n",
    "plt.xlabel('Phase')\n",
    "plt.ylabel('Magnitude')\n",
    "# plt.ylabel('Flux')\n",
    "plt.text(0.99, 0.04, f'$P_{{\\\\rm cat}} = {period:.6f}$', horizontalalignment='right', verticalalignment='top',\n",
    "         transform=plt.gca().transAxes, fontsize=10)\n",
    "plt.title('Photometry')\n",
    "plt.legend()\n",
    "# plt.legend([f'Photometry', f'GP Fit ($P_{{\\\\rm cat}} = {period:.6f}$)', 'Uncertainty'])\n",
    "plt.tight_layout()\n",
    "plt.gca().invert_yaxis()\n",
    "plt.show()"
   ],
   "outputs": []
  },
  {
   "cell_type": "code",
   "execution_count": null,
   "id": "e4a78c72-369e-4aa9-82db-bb3a710fc0b0",
   "metadata": {},
   "source": [
    "    el = dataset.df.iloc[idx]\n",
    "    label = target2id[el['target']]\n",
    "    period = el['org_period']\n",
    "    \n",
    "    photometry = dataset.get_vlc(el['name'])\n",
    "    time, flux, flux_err = photometry[:, 0], photometry[:, 1], photometry[:, 2]\n",
    "    \n",
    "    phased = (time % period) / period\n",
    "    phased_i = np.argsort(phased)\n",
    "    \n",
    "    phase = phased[phased_i]\n",
    "    flux = flux[phased_i]\n",
    "    flux_err = flux_err[phased_i]\n",
    "    \n",
    "    flux_mean = np.mean(flux)\n",
    "    flux_std = np.std(flux)\n",
    "    \n",
    "    X = phase.reshape(-1, 1)\n",
    "    y = (flux - flux_mean) / flux_std\n",
    "    \n",
    "    kernel = kernel if kernel else 1.0 * RBF(length_scale=1.0)\n",
    "    gp = GaussianProcessRegressor(kernel=kernel, alpha=flux_err**2)\n",
    "    gp.fit(X, y)\n",
    "    \n",
    "    # Generate test points to predict over (a denser time grid)\n",
    "    X_test = np.linspace(0, 1, 1000).reshape(-1, 1)\n",
    "    y_pred, y_std = gp.predict(X_test, return_std=True)\n",
    "    X_test = X_test.ravel()\n",
    "    \n",
    "    # De-normalize the predicted values to original scale\n",
    "    y_pred = y_pred * flux_std + flux_mean\n",
    "    y_std = y_std * flux_std\n",
    "\n",
    "    # Plot original photometry\n",
    "    plt.figure(figsize=(6, 5))\n",
    "    # plt.errorbar(np.hstack([phase - 0.5, phase + 0.5]), np.hstack([mag, mag]), #yerr=np.hstack([dmag, dmag]),\n",
    "    #              fmt='.', label='Photometry', alpha=0.4)\n",
    "    plt.errorbar(np.hstack([phase - 0.5, phase + 0.5]), np.hstack([flux, flux]), yerr=np.hstack([flux_err, flux_err]), \n",
    "                 fmt='.', label='Photometry', alpha=0.4)\n",
    "    \n",
    "    # Plot GP prediction with uncertainty bounds\n",
    "    plt.plot(np.hstack([X_test - 0.5, X_test + 0.5]), np.hstack([y_pred, y_pred]), label='GP Fit', color='blue')\n",
    "    y_minus_std = np.hstack([y_pred - y_std, y_pred - y_std])\n",
    "    y_plus_std = np.hstack([y_pred + y_std, y_pred + y_std])\n",
    "    plt.fill_between(np.hstack([X_test - 0.5, X_test + 0.5]), y_minus_std, y_plus_std, color='blue', alpha=0.2, label='Uncertainty')\n",
    "\n",
    "    # Plot details\n",
    "    plt.xlabel('Phase')\n",
    "    plt.ylabel('Flux')\n",
    "    plt.text(0.99, 0.97, f'$P_{{\\\\rm cat}} = {period:.6f}$', horizontalalignment='right', verticalalignment='top',\n",
    "             transform=plt.gca().transAxes, fontsize=10)\n",
    "    plt.title('Photometry')\n",
    "    plt.legend()\n",
    "    # plt.legend([f'Photometry', f'GP Fit ($P_{{\\\\rm cat}} = {period:.6f}$)', 'Uncertainty'])\n",
    "    plt.tight_layout()\n",
    "    plt.show()"
   ],
   "outputs": []
  },
  {
   "cell_type": "code",
   "execution_count": 409,
   "id": "64c486c0-1327-4743-8d70-5c9517f2a725",
   "metadata": {},
   "source": [
    "plot_photometry_flux(train_dataset, 403)"
   ],
   "outputs": []
  },
  {
   "cell_type": "code",
   "execution_count": null,
   "id": "b1ce8b23-5206-419d-a665-b501753e3db2",
   "metadata": {},
   "source": [],
   "outputs": []
  },
  {
   "cell_type": "code",
   "execution_count": null,
   "id": "96e20c18-7721-46bd-a942-c855a851b80f",
   "metadata": {},
   "source": [],
   "outputs": []
  },
  {
   "cell_type": "code",
   "execution_count": null,
   "id": "2d5f1649-665f-44f4-8522-d6b2e36abae2",
   "metadata": {},
   "source": [],
   "outputs": []
  },
  {
   "cell_type": "code",
   "execution_count": null,
   "id": "83fa88e3-0ed9-4290-95d6-31462fc7a752",
   "metadata": {},
   "source": [],
   "outputs": []
  },
  {
   "cell_type": "code",
   "execution_count": null,
   "id": "da17b875-8731-4943-b0a7-ae168314876a",
   "metadata": {},
   "source": [],
   "outputs": []
  },
  {
   "cell_type": "code",
   "execution_count": null,
   "id": "ae7f4cb3-af4f-46b9-b344-2eccfea7f5a6",
   "metadata": {},
   "source": [],
   "outputs": []
  },
  {
   "cell_type": "code",
   "execution_count": null,
   "id": "bd1919a5-c709-45f6-9d44-371b2b808a4b",
   "metadata": {},
   "source": [
    "    el = dataset.df.iloc[idx]\n",
    "    label = target2id[el['target']]\n",
    "    period = el['org_period']\n",
    "    \n",
    "    photometry = dataset.get_vlc(el['name'])\n",
    "    time, flux, flux_err = photometry[:, 0], photometry[:, 1], photometry[:, 2]\n",
    "    \n",
    "    phased = (time % period) / period\n",
    "    phased_i = np.argsort(phased)\n",
    "    \n",
    "    phase = phased[phased_i]\n",
    "    flux = flux[phased_i]\n",
    "    flux_err = flux_err[phased_i]\n",
    "\n",
    "    mag = -2.5 * np.log10(flux)\n",
    "    # dmag = 2.5 / np.log(10) * flux_err\n",
    "    dmag = 2.5 * np.log10(flux_err)\n",
    "\n",
    "    mag_mean = np.mean(mag)\n",
    "    mag_std = np.std(mag)\n",
    "    \n",
    "    # flux_mean = np.mean(flux)\n",
    "    # flux_std = np.std(flux)\n",
    "    \n",
    "    X = phase.reshape(-1, 1)\n",
    "    y = (mag - mag_mean) / mag_std\n",
    "    # y = (flux - flux_mean) / flux_std\n",
    "    \n",
    "    kernel = kernel if kernel else 1.0 * RBF(length_scale=1.0)\n",
    "    gp = GaussianProcessRegressor(kernel=kernel, alpha=dmag**2)\n",
    "    # gp = GaussianProcessRegressor(kernel=kernel, alpha=flux_err**2)\n",
    "    gp.fit(X, y)\n",
    "    \n",
    "    # Generate test points to predict over (a denser time grid)\n",
    "    X_test = np.linspace(0, 1, 1000).reshape(-1, 1)\n",
    "    y_pred, y_std = gp.predict(X_test, return_std=True)\n",
    "    X_test = X_test.ravel()\n",
    "    \n",
    "    # De-normalize the predicted values to original scale\n",
    "    y_pred = y_pred * mag_std + mag_mean\n",
    "    y_std = y_std * mag_std\n",
    "    # y_pred = y_pred * flux_std + flux_mean\n",
    "    # y_std = y_std * flux_std\n",
    "\n",
    "    # Plot original photometry\n",
    "    plt.figure(figsize=(6, 5))\n",
    "    plt.errorbar(np.hstack([phase - 0.5, phase + 0.5]), np.hstack([mag, mag]), #yerr=np.hstack([dmag, dmag]),\n",
    "                 fmt='.', label='Photometry', alpha=0.4)\n",
    "    # plt.errorbar(phase, flux, yerr=flux_err, fmt='.', label='Photometry', alpha=0.4)\n",
    "    \n",
    "    # Plot GP prediction with uncertainty bounds\n",
    "    plt.plot(np.hstack([X_test - 0.5, X_test + 0.5]), np.hstack([y_pred, y_pred]), label='GP Fit', color='blue')\n",
    "    y_minus_std = np.hstack([y_pred - y_std, y_pred - y_std])\n",
    "    y_plus_std = np.hstack([y_pred + y_std, y_pred + y_std])\n",
    "    plt.fill_between(np.hstack([X_test - 0.5, X_test + 0.5]), y_minus_std, y_plus_std, color='blue', alpha=0.2, label='Uncertainty')\n",
    "\n",
    "    # Plot details\n",
    "    plt.xlabel('Phase')\n",
    "    plt.ylabel('Magnitude')\n",
    "    # plt.ylabel('Flux')\n",
    "    plt.text(0.99, 0.04, f'$P_{{\\\\rm cat}} = {period:.6f}$', horizontalalignment='right', verticalalignment='top',\n",
    "             transform=plt.gca().transAxes, fontsize=10)\n",
    "    plt.title('Photometry')\n",
    "    plt.legend()\n",
    "    # plt.legend([f'Photometry', f'GP Fit ($P_{{\\\\rm cat}} = {period:.6f}$)', 'Uncertainty'])\n",
    "    plt.tight_layout()\n",
    "    plt.gca().invert_yaxis()\n",
    "    plt.show()"
   ],
   "outputs": []
  },
  {
   "cell_type": "code",
   "execution_count": null,
   "id": "8d236c00-e6ed-4027-bd1f-7ec0d1a4adfe",
   "metadata": {},
   "source": [],
   "outputs": []
  },
  {
   "cell_type": "code",
   "execution_count": null,
   "id": "03e4fd5a-d597-4254-805b-af76ea718142",
   "metadata": {},
   "source": [],
   "outputs": []
  },
  {
   "cell_type": "code",
   "execution_count": null,
   "id": "0972c943-d24a-43c5-ac8d-f36ae35ff6bb",
   "metadata": {},
   "source": [],
   "outputs": []
  },
  {
   "cell_type": "code",
   "execution_count": null,
   "id": "04f8b1cb-f774-4a14-9145-6bf7b2f433ee",
   "metadata": {},
   "source": [],
   "outputs": []
  },
  {
   "cell_type": "code",
   "execution_count": null,
   "id": "7b75a115-7555-4d7c-a3cd-c529a9902ec0",
   "metadata": {},
   "source": [],
   "outputs": []
  },
  {
   "cell_type": "code",
   "execution_count": null,
   "id": "4c09c172-c75a-46b6-89f1-9b1421c0e26b",
   "metadata": {},
   "source": [],
   "outputs": []
  },
  {
   "cell_type": "code",
   "execution_count": null,
   "id": "dcba5ac2-7d87-47a2-b72e-cffadc34ebff",
   "metadata": {},
   "source": [],
   "outputs": []
  },
  {
   "cell_type": "code",
   "execution_count": null,
   "id": "44db2190-d02d-491c-86f7-22ddf0a2271d",
   "metadata": {},
   "source": [],
   "outputs": []
  },
  {
   "cell_type": "code",
   "execution_count": null,
   "id": "4088a4c6-0cc4-413b-abef-3c263829683d",
   "metadata": {},
   "source": [],
   "outputs": []
  },
  {
   "cell_type": "code",
   "execution_count": 302,
   "id": "651aa807-f195-45e6-b130-3c851a15781a",
   "metadata": {},
   "source": [
    "idx = 403\n",
    "dataset = train_dataset\n",
    "\n",
    "el = dataset.df.iloc[idx]\n",
    "label = target2id[el['target']]\n",
    "period = el['org_period']\n",
    "\n",
    "photometry = dataset.get_vlc(el['name'])\n",
    "time, flux, flux_err = photometry[:, 0], photometry[:, 1], photometry[:, 2]\n",
    "\n",
    "phased = (time % period) / period\n",
    "phased_i = np.argsort(phased)\n",
    "\n",
    "phase = phased[phased_i]\n",
    "flux = flux[phased_i]\n",
    "flux_err = flux_err[phased_i]\n",
    "\n",
    "mag = -2.5 * np.log10(flux)\n",
    "dmag = 2.5 / np.log(10) * flux_err\n",
    "\n",
    "mag_mean = np.mean(mag)\n",
    "mag_std = np.std(mag)\n",
    "\n",
    "flux_mean = np.mean(flux)\n",
    "flux_std = np.std(flux)\n",
    "\n",
    "X = phase.reshape(-1, 1)\n",
    "y_mag = (mag - mag_mean) / mag_std\n",
    "y_flux = (flux - flux_mean) / flux_std"
   ],
   "outputs": []
  },
  {
   "cell_type": "code",
   "execution_count": 308,
   "id": "a9c8b62d-a8f5-4c97-a043-9dbc8ad7e67a",
   "metadata": {},
   "source": [
    "plt.errorbar(phase, y_mag, fmt='.', label='Photometry', alpha=0.4)"
   ],
   "outputs": []
  },
  {
   "cell_type": "code",
   "execution_count": 300,
   "id": "86deac36-dd76-4f1e-becb-6aedbea347ae",
   "metadata": {},
   "source": [
    "plt.plot(mag)"
   ],
   "outputs": []
  },
  {
   "cell_type": "code",
   "execution_count": null,
   "id": "df735591-9a73-4b31-8ddb-b7fb39350fa1",
   "metadata": {},
   "source": [],
   "outputs": []
  },
  {
   "cell_type": "code",
   "execution_count": 297,
   "id": "89baf126-afbe-4a55-8515-d68af652ae15",
   "metadata": {},
   "source": [
    "plt.plot(flux_err)"
   ],
   "outputs": []
  },
  {
   "cell_type": "code",
   "execution_count": 298,
   "id": "b1a37733-0719-440e-8254-e951a4fafc55",
   "metadata": {},
   "source": [
    "plt.plot(dmag)"
   ],
   "outputs": []
  },
  {
   "cell_type": "code",
   "execution_count": null,
   "id": "506c7f73-0e81-4e66-95b9-3c26672a07d8",
   "metadata": {},
   "source": [],
   "outputs": []
  },
  {
   "cell_type": "code",
   "execution_count": 311,
   "id": "24173a29-c034-4211-aa6f-f0e5c9f81917",
   "metadata": {},
   "source": [],
   "outputs": []
  },
  {
   "cell_type": "code",
   "execution_count": 282,
   "id": "4aadef50-7c66-488b-a644-781fed05feb5",
   "metadata": {},
   "source": [
    "plot_photometry(val_dataset, 135)"
   ],
   "outputs": []
  },
  {
   "cell_type": "code",
   "execution_count": 278,
   "id": "45c63ac3-af90-4aed-b723-46b5fdc5f904",
   "metadata": {},
   "source": [
    "plot_photometry(val_dataset, 135)"
   ],
   "outputs": []
  },
  {
   "cell_type": "code",
   "execution_count": null,
   "id": "50eaff53-905b-4e4d-a760-2c3f46ab92e6",
   "metadata": {},
   "source": [],
   "outputs": []
  },
  {
   "cell_type": "code",
   "execution_count": 264,
   "id": "c2bd69cf-fcaf-470f-9b3e-5cf9d52b1b02",
   "metadata": {},
   "source": [
    "idx = 135\n",
    "dataset = train_dataset\n",
    "\n",
    "el = dataset.df.iloc[idx]\n",
    "label = target2id[el['target']]\n",
    "P = el['org_period']\n",
    "\n",
    "photometry = dataset.get_vlc(el['name'])\n",
    "t, flux, flux_err = photometry[:, 0], photometry[:, 1], photometry[:, 2]\n",
    "\n",
    "mag = -2.5 * np.log10(flux)\n",
    "dmag = 2.5 / np.log(10) * (flux_err / flux)\n",
    "\n",
    "mag_median = np.median(mag)\n",
    "mag = mag / mag_median \n",
    "\n",
    "kernel = 1.0 * RBF(length_scale=1.0)    \n",
    "gp = GaussianProcessRegressor(kernel=kernel, alpha=dmag**2)\n",
    "gp.fit(t.reshape(-1, 1), mag)\n",
    "\n",
    "X_test = np.linspace(0, 1, 1000).reshape(-1, 1)\n",
    "y_pred, y_std = gp.predict(X_test, return_std=True)\n",
    "\n",
    "y_pred = y_pred * mag_median\n",
    "y_std = y_std * mag_median\n",
    "\n",
    "# best_frequency = 1 / P\n",
    "# t_fit = t.copy()\n",
    "\n",
    "# ## change nterms to be higher if its an EA\n",
    "# ls = LombScargle(t, mag, dmag, nterms=8)\n",
    "# y_fit = ls.model(t_fit, best_frequency)\n",
    "\n",
    "phased = (t % P) / P\n",
    "phased_i = np.argsort(phased)\n",
    "\n",
    "ph = phased[phased_i]\n",
    "mag = mag[phased_i]\n",
    "dmag = dmag[phased_i]\n",
    "mag_fit = y_fit[phased_i]"
   ],
   "outputs": []
  },
  {
   "cell_type": "code",
   "execution_count": 258,
   "id": "0a43267e-de13-4681-b38f-d0292bd2adc2",
   "metadata": {},
   "source": [
    "typical_error = np.median(dmag)\n",
    "ymax = np.max(y_fit) + 4*typical_error\n",
    "ymin = np.min(y_fit) - 4*typical_error\n",
    "\n",
    "fig, ax = plt.subplots()\n",
    "\n",
    "ax.errorbar(list(ph - 0.5) + list(ph + 0.5), list(mag) * 2, list(dmag) * 2, fmt='.k', ecolor='gray')\n",
    "ax.plot(list(ph - 0.5) + list(ph + 0.5), list(mag_fit) * 2, linewidth=8, alpha=0.75)\n",
    "\n",
    "ax.set(xlabel='Phase ϕ', ylabel='Magnitude')\n",
    "# ax.set_xlim(-0.5,1.5)\n",
    "# ax.set_ylim(ymax,ymin)\n",
    "ax.invert_yaxis()"
   ],
   "outputs": []
  },
  {
   "cell_type": "code",
   "execution_count": 254,
   "id": "b0b3fe47-d394-4925-b8bf-cf0752dd5537",
   "metadata": {},
   "source": [
    "plt.errorbar(ph, mag, yerr=dmag, fmt='.', label='Photometry', alpha=0.4, color='gray')"
   ],
   "outputs": []
  },
  {
   "cell_type": "code",
   "execution_count": 209,
   "id": "8f766633-87f3-41be-a641-15763ea7a418",
   "metadata": {},
   "source": [
    "len(train_dataset.df)"
   ],
   "outputs": []
  },
  {
   "cell_type": "code",
   "execution_count": 208,
   "id": "e03ddff3-e59d-4061-9bfb-31f578206819",
   "metadata": {},
   "source": [
    "train_dataset.df.iloc[139]['id']"
   ],
   "outputs": []
  },
  {
   "cell_type": "code",
   "execution_count": null,
   "id": "d8d5ab7f-4f9b-48b9-bc6c-d4c1afc11d30",
   "metadata": {},
   "source": [],
   "outputs": []
  },
  {
   "cell_type": "code",
   "execution_count": null,
   "id": "50e80d98-30e7-4968-b234-9696b6c652d5",
   "metadata": {},
   "source": [],
   "outputs": []
  },
  {
   "cell_type": "code",
   "execution_count": null,
   "id": "8ad80cbc-ee93-4ee7-9944-fed38d8032d7",
   "metadata": {},
   "source": [],
   "outputs": []
  },
  {
   "cell_type": "code",
   "execution_count": 240,
   "id": "095ed6b4-71a8-4bd7-a7c8-4a9448d670ad",
   "metadata": {},
   "source": [
    "plot_photometry(val_dataset, 135)"
   ],
   "outputs": []
  },
  {
   "cell_type": "code",
   "execution_count": 205,
   "id": "fc6a0378-ad51-4471-84a6-e4d17d78299a",
   "metadata": {},
   "source": [
    "plot_photometry(val_dataset, 135)"
   ],
   "outputs": []
  },
  {
   "cell_type": "code",
   "execution_count": 220,
   "id": "4ff66f7a-04b4-4079-a926-63e059f7ceea",
   "metadata": {},
   "source": [
    "plot_spectra(test_dataset, 120)"
   ],
   "outputs": []
  },
  {
   "cell_type": "code",
   "execution_count": 218,
   "id": "82338627-42a8-4ae1-a1bf-aefc314adc5c",
   "metadata": {},
   "source": [
    "plot_spectra(train_dataset, 2128)\n",
    "plot_spectra(train_dataset, 1508)\n",
    "plot_spectra(train_dataset, 8386)"
   ],
   "outputs": []
  },
  {
   "cell_type": "code",
   "execution_count": null,
   "id": "e1e40f88-dbfb-466f-9d27-34456e91c813",
   "metadata": {},
   "source": [],
   "outputs": []
  },
  {
   "cell_type": "code",
   "execution_count": 214,
   "id": "208e659a-b607-4adf-b235-91299fbe744f",
   "metadata": {},
   "source": [
    "plot_photometry(test_dataset, 120)"
   ],
   "outputs": []
  },
  {
   "cell_type": "code",
   "execution_count": null,
   "id": "76845832-1ea0-45fa-b2d7-667c338265d9",
   "metadata": {},
   "source": [],
   "outputs": []
  },
  {
   "cell_type": "code",
   "execution_count": null,
   "id": "fc8f2521-1404-4c30-9ce1-9d372907b4c4",
   "metadata": {},
   "source": [],
   "outputs": []
  },
  {
   "cell_type": "code",
   "execution_count": null,
   "id": "c1c429e3-0586-432a-834a-145b35568847",
   "metadata": {},
   "source": [],
   "outputs": []
  },
  {
   "cell_type": "code",
   "execution_count": null,
   "id": "91a53847-89e1-423f-9881-aa2de95e452f",
   "metadata": {},
   "source": [],
   "outputs": []
  },
  {
   "cell_type": "code",
   "execution_count": 204,
   "id": "f20f03b0-31da-4b80-a8ab-a43636ea6992",
   "metadata": {},
   "source": [
    "plot_spectra(val_dataset, 135)"
   ],
   "outputs": []
  },
  {
   "cell_type": "code",
   "execution_count": 181,
   "id": "29c61085-3584-4a94-9ad7-6faf1a39c09f",
   "metadata": {},
   "source": [
    "plot_photometry3(train_dataset, 3)"
   ],
   "outputs": []
  },
  {
   "cell_type": "code",
   "execution_count": 25,
   "id": "4486fe36-50b4-40fc-a6ac-830996bbea02",
   "metadata": {},
   "source": [
    "run_id = 'MeriDK/AstroCLIPResults3/2wz4ysvn'\n",
    "api = wandb.Api()\n",
    "run = api.run(run_id)\n",
    "\n",
    "config = run.config\n",
    "config['use_wandb'] = False\n",
    "config['file'] = 'preprocessed_data/sub50_lb/spectra_and_v'\n",
    "\n",
    "test_dataset = PSMDataset(config, split='test')\n",
    "val_dataset = PSMDataset(config, split='val')\n",
    "train_dataset = PSMDataset(config, split='train')\n",
    "\n",
    "class_freq = test_dataset.df['target'].value_counts()\n",
    "sorted_classes = class_freq.index\n",
    "\n",
    "id2target = test_dataset.id2target\n",
    "target2id = test_dataset.target2id"
   ],
   "outputs": []
  },
  {
   "cell_type": "code",
   "execution_count": 22,
   "id": "d33aca61-430d-4201-9010-b105c5ed9f36",
   "metadata": {},
   "source": [
    "test_idx = joblib.load('test_idx.pkl')\n",
    "val_idx = joblib.load('val_idx.pkl')\n",
    "train_idx = joblib.load('train_idx.pkl')"
   ],
   "outputs": []
  },
  {
   "cell_type": "code",
   "execution_count": 21,
   "id": "d6f8cd46-ad57-41ad-a4a7-176de2281d7d",
   "metadata": {},
   "source": [
    "test_idx"
   ],
   "outputs": []
  },
  {
   "cell_type": "code",
   "execution_count": 55,
   "id": "45aa663d-8527-4f6c-8bbc-41d839cce87e",
   "metadata": {},
   "source": [
    "plot_photometry(train_dataset, 139, period=212.65184252876145)"
   ],
   "outputs": []
  },
  {
   "cell_type": "code",
   "execution_count": 113,
   "id": "691e85b4-3548-49f7-9535-61b78b75aabe",
   "metadata": {},
   "source": [
    "def plot_wrong_period(ds, idx):\n",
    "    photometry = ds.get_vlc(ds.df.iloc[idx]['name'])\n",
    "    period = ds.df.iloc[idx]['org_period']\n",
    "\n",
    "    time = photometry[:, 0]\n",
    "    flux = photometry[:, 1]\n",
    "    flux_err = photometry[:, 2]\n",
    "    \n",
    "    t, y, yerr, rez, P, mean_flux_mag, mean_flux_mag_err, mag0 = clip_outliers(time, flux, flux_err)\n",
    "    photometry1 = np.vstack(((time % period) / period, flux, flux_err)).T    # fold\n",
    "    photometry2 = np.vstack(((time % P) / P, flux, flux_err)).T    # fold\n",
    "\n",
    "    fig, axes = plt.subplots(1, 2, figsize=(12, 5))\n",
    "    axes[0].plot(photometry1[:, 0], photometry1[:, 1], '.')\n",
    "    axes[0].set_title(f'period = {period}')\n",
    "    axes[1].plot(photometry2[:, 0], photometry2[:, 1], '.')\n",
    "    axes[1].set_title(f'period = {P}')\n",
    "    \n",
    "    plt.tight_layout()\n",
    "    plt.show()"
   ],
   "outputs": []
  },
  {
   "cell_type": "code",
   "execution_count": 183,
   "id": "70c783ed-d7cf-46d2-b8d0-a821223c38b9",
   "metadata": {},
   "source": [
    "train_dataset.df.iloc[4396]"
   ],
   "outputs": []
  },
  {
   "cell_type": "code",
   "execution_count": 182,
   "id": "223b3b4d-232a-4755-9336-c5556fbef127",
   "metadata": {},
   "source": [
    "plot_wrong_period(train_dataset, 4396)"
   ],
   "outputs": []
  },
  {
   "cell_type": "code",
   "execution_count": 114,
   "id": "012d0b0e-abae-4745-a79b-e2dfe9d07304",
   "metadata": {},
   "source": [
    "plot_wrong_period(val_dataset, 114)"
   ],
   "outputs": []
  },
  {
   "cell_type": "code",
   "execution_count": 115,
   "id": "63de15b3-2199-490f-8a25-b413a9f44123",
   "metadata": {},
   "source": [
    "plot_wrong_period(val_dataset, 118)"
   ],
   "outputs": []
  },
  {
   "cell_type": "code",
   "execution_count": 116,
   "id": "d95efe21-4f3e-4b23-8f5f-2fc89e75c240",
   "metadata": {},
   "source": [
    "plot_wrong_period(val_dataset, 597)"
   ],
   "outputs": []
  },
  {
   "cell_type": "code",
   "execution_count": 117,
   "id": "4aff066b-5301-499c-b168-faeb2ab7dc87",
   "metadata": {},
   "source": [
    "plot_wrong_period(train_dataset, 510)"
   ],
   "outputs": []
  },
  {
   "cell_type": "code",
   "execution_count": 118,
   "id": "23384b9e-07f9-487b-8e3b-2261c101e962",
   "metadata": {},
   "source": [
    "plot_wrong_period(train_dataset, 446)"
   ],
   "outputs": []
  },
  {
   "cell_type": "code",
   "execution_count": 119,
   "id": "d601ab23-fbbe-4a77-b3d0-79933a347230",
   "metadata": {},
   "source": [
    "plot_wrong_period(train_dataset, 139)"
   ],
   "outputs": []
  },
  {
   "cell_type": "code",
   "execution_count": null,
   "id": "c60f82ea-a553-4f26-a78a-5e58f0181003",
   "metadata": {},
   "source": [],
   "outputs": []
  },
  {
   "cell_type": "code",
   "execution_count": null,
   "id": "eae6d1cc-6459-4f12-8065-61d2db01ff23",
   "metadata": {},
   "source": [],
   "outputs": []
  },
  {
   "cell_type": "code",
   "execution_count": null,
   "id": "052ad17c-7de4-4152-b581-5935d4e29596",
   "metadata": {},
   "source": [],
   "outputs": []
  },
  {
   "cell_type": "code",
   "execution_count": null,
   "id": "3bf05a13-a36a-4a67-a9d1-a0ac41ad9c25",
   "metadata": {},
   "source": [],
   "outputs": []
  },
  {
   "cell_type": "code",
   "execution_count": 93,
   "id": "68babaa4-097f-4114-ad27-d719b9ff7e13",
   "metadata": {},
   "source": [
    "P"
   ],
   "outputs": []
  },
  {
   "cell_type": "code",
   "execution_count": 94,
   "id": "965dc7e0-3cc3-4cb3-8384-0e7688c28311",
   "metadata": {},
   "source": [
    "frequency, power = LombScargle(time, flux).autopower()\n",
    "best_frequency = frequency[np.argmax(power)]\n",
    "best_period = 1 / best_frequency\n",
    "print(best_period)"
   ],
   "outputs": []
  },
  {
   "cell_type": "code",
   "execution_count": 90,
   "id": "82098d95-4fb5-4ec7-a368-8a5fe109aa28",
   "metadata": {},
   "source": [
    "plot_photometry(val_dataset, 597)"
   ],
   "outputs": []
  },
  {
   "cell_type": "code",
   "execution_count": 96,
   "id": "0af37468-37c6-4120-8003-614392eef271",
   "metadata": {},
   "source": [
    "plot_photometry(val_dataset, 597, period=best_period)"
   ],
   "outputs": []
  },
  {
   "cell_type": "code",
   "execution_count": null,
   "id": "f2523ba8-fde8-491a-b63d-7d43ce1a05fc",
   "metadata": {},
   "source": [],
   "outputs": []
  },
  {
   "cell_type": "code",
   "execution_count": 74,
   "id": "91659082-82a9-4fc5-b32d-5d0118208baa",
   "metadata": {},
   "source": [
    "plot_spectra(test_dataset, 114)"
   ],
   "outputs": []
  },
  {
   "cell_type": "code",
   "execution_count": 120,
   "id": "e540aa5d-d374-4c4a-b6ab-7800ee168cea",
   "metadata": {},
   "source": [
    "plot_spectra(train_dataset, 403)"
   ],
   "outputs": []
  },
  {
   "cell_type": "code",
   "execution_count": 161,
   "id": "b7f0cfc8-2c02-447d-bf19-b1bbc90b82bc",
   "metadata": {},
   "source": [
    "plot_photometry3(train_dataset, 403)"
   ],
   "outputs": []
  },
  {
   "cell_type": "code",
   "execution_count": 149,
   "id": "8078be3b-8f3f-48de-ba0b-1387435ceac4",
   "metadata": {},
   "source": [
    "kernel = 1.0 * ExpSineSquared(length_scale=0.5, periodicity=0.4336094) + 1.0 * Matern(length_scale=0.5, nu=1.5) + WhiteKernel(noise_level=0.1)\n",
    "plot_photometry2(train_dataset, 403, kernel=kernel)"
   ],
   "outputs": []
  },
  {
   "cell_type": "code",
   "execution_count": null,
   "id": "be6ae9be-1601-4340-ad76-b53814389d0b",
   "metadata": {},
   "source": [],
   "outputs": []
  },
  {
   "cell_type": "code",
   "execution_count": 131,
   "id": "178e9583-d159-4057-b977-895cf8c671e5",
   "metadata": {},
   "source": [
    "plot_photometry2(train_dataset, 403, length_scale=1.0)"
   ],
   "outputs": []
  },
  {
   "cell_type": "code",
   "execution_count": 210,
   "id": "0b99eda2-87d3-4e6e-8d2c-6859b5b1957f",
   "metadata": {},
   "source": [
    "df1 = pd.read_csv('/home/mariia/AstroML/data/asassn/preprocessed_data/full_lb/spectra_and_v_test.csv')\n",
    "df2 = pd.read_csv('/home/mariia/AstroML/data/asassn/preprocessed_data/full_lb/spectra_and_v_train.csv')\n",
    "df3 = pd.read_csv('/home/mariia/AstroML/data/asassn/preprocessed_data/full_lb/spectra_and_v_val.csv')"
   ],
   "outputs": []
  },
  {
   "cell_type": "code",
   "execution_count": 212,
   "id": "de37d2f6-e7c1-4226-a4fd-ce310d5d504f",
   "metadata": {},
   "source": [
    "len(df1) + len(df2) + len(df3)"
   ],
   "outputs": []
  },
  {
   "cell_type": "code",
   "execution_count": 42,
   "id": "3bec5919-2d4f-4666-bfd6-681141d35db9",
   "metadata": {},
   "source": [
    "df_org = pd.read_csv('/home/mariia/AstroML/data/asassn/preprocessed_data/full_lb/spectra_and_v_test.csv')"
   ],
   "outputs": []
  },
  {
   "cell_type": "code",
   "execution_count": 46,
   "id": "b239987b-5a9f-47e9-8286-edc5988a2ee5",
   "metadata": {},
   "source": [
    "df_org.iloc[243]"
   ],
   "outputs": []
  },
  {
   "cell_type": "code",
   "execution_count": 41,
   "id": "645d3fdf-f16b-4c48-91aa-f8f22f249cb3",
   "metadata": {},
   "source": [
    "test_dataset.df.iloc[120]"
   ],
   "outputs": []
  },
  {
   "cell_type": "code",
   "execution_count": null,
   "id": "def85567-921a-4256-a717-2e7441afec87",
   "metadata": {},
   "source": [],
   "outputs": []
  },
  {
   "cell_type": "code",
   "execution_count": null,
   "id": "79109c10-c93e-4957-9ed0-197c706438b3",
   "metadata": {},
   "source": [],
   "outputs": []
  },
  {
   "cell_type": "code",
   "execution_count": null,
   "id": "ddb26478-9b62-482f-b7bb-8a21a7a1a278",
   "metadata": {},
   "source": [],
   "outputs": []
  },
  {
   "cell_type": "code",
   "execution_count": 32,
   "id": "b501ccd1-f871-494c-b86a-39162d098370",
   "metadata": {},
   "source": [
    "plot_photometry(train_dataset, 403)"
   ],
   "outputs": []
  },
  {
   "cell_type": "code",
   "execution_count": 36,
   "id": "d8f8daa2-8455-4bd6-af60-a4c2a167fdcb",
   "metadata": {},
   "source": [
    "plot_photometry2(train_dataset, 403)"
   ],
   "outputs": []
  },
  {
   "cell_type": "code",
   "execution_count": 38,
   "id": "d8c5d53a-b647-41db-bb8f-25cbe0a49992",
   "metadata": {},
   "source": [
    "for i in range(5):\n",
    "    plot_photometry2(train_dataset, train_idx[i].item())"
   ],
   "outputs": []
  },
  {
   "cell_type": "code",
   "execution_count": 14,
   "id": "23beb389-aad7-422d-b658-a2b3f4780868",
   "metadata": {},
   "source": [
    "for i in range(5):\n",
    "    plot_spectra(test_dataset, test_idx[i].item())"
   ],
   "outputs": []
  },
  {
   "cell_type": "code",
   "execution_count": null,
   "id": "e8413cfd-adbe-4160-b23a-b5fbfdeeee19",
   "metadata": {},
   "source": [],
   "outputs": []
  },
  {
   "cell_type": "code",
   "execution_count": null,
   "id": "088e1271-6117-44a6-89c8-0e6b3faba059",
   "metadata": {},
   "source": [],
   "outputs": []
  },
  {
   "cell_type": "code",
   "execution_count": null,
   "id": "e75be6ba-a378-4fc0-8964-8d4dba46eff0",
   "metadata": {},
   "source": [],
   "outputs": []
  },
  {
   "cell_type": "code",
   "execution_count": null,
   "id": "8d77ef0b-7956-4525-9b94-2e0a4ac8337d",
   "metadata": {},
   "source": [],
   "outputs": []
  },
  {
   "cell_type": "code",
   "execution_count": null,
   "id": "c23f19cb-c5c5-49c0-9111-41eab201550c",
   "metadata": {},
   "source": [],
   "outputs": []
  }
 ],
 "metadata": {
  "kernelspec": {
   "display_name": "Python 3 (ipykernel)",
   "language": "python",
   "name": "python3"
  },
  "language_info": {
   "codemirror_mode": {
    "name": "ipython",
    "version": 3
   },
   "file_extension": ".py",
   "mimetype": "text/x-python",
   "name": "python",
   "nbconvert_exporter": "python",
   "pygments_lexer": "ipython3",
   "version": "3.10.14"
  }
 },
 "nbformat": 4,
 "nbformat_minor": 5
}

{
 "cells": [
  {
   "cell_type": "code",
   "execution_count": 262,
   "id": "1cb770ef-c3bd-45f0-8ab8-d6ad9b16a425",
   "metadata": {},
   "source": [
    "import sys\n",
    "sys.path.insert(0, '..')\n",
    "\n",
    "import torch\n",
    "import os\n",
    "import wandb\n",
    "import random\n",
    "import numpy as np\n",
    "import torch\n",
    "from torch import nn\n",
    "from torch.optim import Adam\n",
    "from ignite.handlers.param_scheduler import create_lr_scheduler_with_warmup\n",
    "from torch.utils.data import DataLoader\n",
    "from datetime import datetime\n",
    "import matplotlib.pyplot as plt\n",
    "import pandas as pd\n",
    "from scipy import stats\n",
    "from tqdm import tqdm\n",
    "from matplotlib import cm\n",
    "import seaborn as sns\n",
    "import matplotlib.lines as mlines\n",
    "from sklearn.decomposition import PCA\n",
    "from openTSNE import TSNE\n",
    "from PIL import Image\n",
    "\n",
    "from core.final.dataset import PSMDataset\n",
    "from core.final.model import GalSpecNet, MetaModel, Informer, AstroModel\n",
    "from core.final.trainer import Trainer"
   ],
   "outputs": []
  },
  {
   "cell_type": "code",
   "execution_count": 2,
   "id": "f26d085a-e986-4448-bbd2-6d7dbc0c0afc",
   "metadata": {},
   "source": [
    "def get_model(config):\n",
    "    if config['mode'] == 'photo':\n",
    "        model = Informer(config)\n",
    "    elif config['mode'] == 'spectra':\n",
    "        model = GalSpecNet(config)\n",
    "    elif config['mode'] == 'meta':\n",
    "        model = MetaModel(config)\n",
    "    else:\n",
    "        model = AstroModel(config)\n",
    "\n",
    "    return model"
   ],
   "outputs": []
  },
  {
   "cell_type": "code",
   "execution_count": 237,
   "id": "c5566101-c0d9-472a-9021-08ba559cba9f",
   "metadata": {},
   "source": [
    "run_id = 'MeriDK/AstroCLIPResults3/2wz4ysvn'\n",
    "api = wandb.Api()\n",
    "run = api.run(run_id)\n",
    "config = run.config\n",
    "config['use_wandb'] = False"
   ],
   "outputs": []
  },
  {
   "cell_type": "code",
   "execution_count": 238,
   "id": "399ac1a2-4846-4b9a-9c30-3afe6367dbe4",
   "metadata": {},
   "source": [
    "test_dataset = PSMDataset(config, split='test')\n",
    "test_dataloader = DataLoader(test_dataset, batch_size=config['batch_size'], shuffle=False)\n",
    "device = torch.device('cuda' if torch.cuda.is_available() else 'cpu')\n",
    "\n",
    "model = get_model(config)\n",
    "model = model.to(device)"
   ],
   "outputs": []
  },
  {
   "cell_type": "code",
   "execution_count": 279,
   "id": "2a5ea07f-87d7-4c04-9c55-7b0dbe99a5d0",
   "metadata": {},
   "source": [
    "weights_path = os.path.join(config['weights_path'] + '-' + run_id.split('/')[-1], f'weights-best.pth')\n",
    "model.load_state_dict(torch.load(weights_path, weights_only=False))\n",
    "\n",
    "model.eval()\n",
    "p_embs, s_embs, m_embs, labels = [], [], [], []\n",
    "\n",
    "with torch.no_grad():\n",
    "    for photometry, photometry_mask, spectra, metadata, label in test_dataloader:\n",
    "        photometry, photometry_mask = photometry.to(device), photometry_mask.to(device)\n",
    "        spectra, metadata = spectra.to(device), metadata.to(device)\n",
    "\n",
    "        p_emb, s_emb, m_emb = model.get_embeddings(photometry, photometry_mask, spectra, metadata)\n",
    "        p_embs.append(p_emb.cpu())\n",
    "        s_embs.append(s_emb.cpu())\n",
    "        m_embs.append(m_emb.cpu())\n",
    "        labels.append(label)\n",
    "\n",
    "p_embs = torch.vstack(p_embs)\n",
    "s_embs = torch.vstack(s_embs)\n",
    "m_embs = torch.vstack(m_embs)\n",
    "labels = torch.hstack(labels)"
   ],
   "outputs": []
  },
  {
   "cell_type": "code",
   "execution_count": 280,
   "id": "cd19bd2b-82c1-47dc-b424-0f40d0dedc6b",
   "metadata": {},
   "source": [
    "p_embs.shape, s_embs.shape, m_embs.shape"
   ],
   "outputs": []
  },
  {
   "cell_type": "code",
   "execution_count": 281,
   "id": "f00d85cd-eb1e-4b9a-8e82-b04eefd00126",
   "metadata": {},
   "source": [
    "combined_embs = torch.vstack([p_embs, s_embs, m_embs])\n",
    "combined_embs.shape"
   ],
   "outputs": []
  },
  {
   "cell_type": "code",
   "execution_count": null,
   "id": "717b8885-8274-4317-aa29-f722b0ec2558",
   "metadata": {},
   "source": [
    "tsne = TSNE(n_components=2, metric='cosine', n_jobs=16, random_state=42, verbose=True)\n",
    "embs_2d = tsne.fit(combined_embs)"
   ],
   "outputs": []
  },
  {
   "cell_type": "code",
   "execution_count": null,
   "id": "897d2430-9dc6-4eed-8180-db8bdc32ca2d",
   "metadata": {},
   "source": [
    "class_freq = test_dataset.df['target'].value_counts()\n",
    "sorted_classes = class_freq.index\n",
    "\n",
    "id2target = test_dataset.id2target\n",
    "target2id = test_dataset.target2id\n",
    "\n",
    "palette = sns.color_palette(\"tab20\", len(id2target))\n",
    "marker_size = 12\n",
    "\n",
    "x_min, x_max = np.min(embs_2d[:, 0]) - 5, np.max(embs_2d[:, 0]) + 5\n",
    "y_min, y_max = np.min(embs_2d[:, 1]) - 5, np.max(embs_2d[:, 1]) + 5"
   ],
   "outputs": []
  },
  {
   "cell_type": "code",
   "execution_count": null,
   "id": "30b8dbb7-ae39-430e-8ffe-8fdd561ddc9b",
   "metadata": {},
   "source": [
    "size = len(test_dataset)\n",
    "p_embs_2d = embs_2d[:size]\n",
    "s_embs_2d = embs_2d[size:size * 2]\n",
    "m_embs_2d = embs_2d[size * 2:]\n",
    "\n",
    "plt.figure(figsize=(10, 8))\n",
    "\n",
    "# Plot P embeddings with triangles\n",
    "for class_name in sorted_classes:\n",
    "    class_id = target2id[class_name]  # Use target2id to get numeric class ID\n",
    "    class_mask = labels == class_id\n",
    "    plt.scatter(p_embs_2d[class_mask, 0], p_embs_2d[class_mask, 1], \n",
    "                color=palette[class_id], label=class_name, alpha=0.7, s=marker_size, marker='^')\n",
    "\n",
    "# Plot S embeddings with squares\n",
    "for class_name in sorted_classes:\n",
    "    class_id = target2id[class_name]\n",
    "    class_mask = labels == class_id\n",
    "    plt.scatter(s_embs_2d[class_mask, 0], s_embs_2d[class_mask, 1], \n",
    "                color=palette[class_id], alpha=0.7, s=marker_size, marker='s')\n",
    "\n",
    "# Plot M embeddings with circles\n",
    "for class_name in sorted_classes:\n",
    "    class_id = target2id[class_name]\n",
    "    class_mask = labels == class_id\n",
    "    plt.scatter(m_embs_2d[class_mask, 0], m_embs_2d[class_mask, 1], \n",
    "                color=palette[class_id], alpha=0.7, s=marker_size, marker='o')\n",
    "\n",
    "# Create legends for colors (classes)\n",
    "handles_colors = [mlines.Line2D([], [], color=palette[i], marker='o', linestyle='None', markersize=8, \n",
    "                  label=id2target[class_id]) for i, class_id in enumerate(np.unique(labels))]\n",
    "color_legend = plt.legend(handles=handles_colors, loc='upper right', fontsize=10, title=\"Classes\")\n",
    "\n",
    "# Create legends for shapes (embeddings)\n",
    "handles_shapes = [\n",
    "    mlines.Line2D([], [], color='black', marker='^', linestyle='None', markersize=8, label='Photometry', markerfacecolor='white'),\n",
    "    mlines.Line2D([], [], color='black', marker='s', linestyle='None', markersize=8, label='Spectra', markerfacecolor='white'),\n",
    "    mlines.Line2D([], [], color='black', marker='o', linestyle='None', markersize=8, label='Metadata', markerfacecolor='white')\n",
    "]\n",
    "\n",
    "plt.legend(handles=handles_shapes, loc='upper left', fontsize=10, title=\"Embeddings\")\n",
    "\n",
    "# Add the color legend back to the plot\n",
    "plt.gca().add_artist(color_legend)\n",
    "plt.title(f\"Epoch Best\")\n",
    "plt.xlabel(\"t-SNE Dimension 1\")\n",
    "plt.ylabel(\"t-SNE Dimension 2\")\n",
    "plt.xlim(x_min, x_max)\n",
    "plt.ylim(y_min, y_max)\n",
    "# plt.savefig(f\"plots/tsne_cos_p500{weights[epoch]}.png\", dpi=300, bbox_inches='tight')\n",
    "plt.show()"
   ],
   "outputs": []
  },
  {
   "cell_type": "code",
   "execution_count": null,
   "id": "797d8821-562d-437d-af72-716056533cd8",
   "metadata": {},
   "source": [],
   "outputs": []
  },
  {
   "cell_type": "code",
   "execution_count": null,
   "id": "5662adea-b769-46c6-9aec-39ef56edf03e",
   "metadata": {},
   "source": [],
   "outputs": []
  },
  {
   "cell_type": "code",
   "execution_count": null,
   "id": "68d7e2bd-573e-488e-a00e-f452087ac2dc",
   "metadata": {},
   "source": [],
   "outputs": []
  },
  {
   "cell_type": "code",
   "execution_count": null,
   "id": "7d71c747-7d13-4803-9cc2-18b084b59b49",
   "metadata": {},
   "source": [],
   "outputs": []
  },
  {
   "cell_type": "code",
   "execution_count": null,
   "id": "d6ce33c7-e637-4925-85be-bf8c45025a71",
   "metadata": {},
   "source": [],
   "outputs": []
  },
  {
   "cell_type": "code",
   "execution_count": null,
   "id": "a7acd3bf-ad30-4119-976e-9b9c7c461740",
   "metadata": {},
   "source": [],
   "outputs": []
  },
  {
   "cell_type": "code",
   "execution_count": null,
   "id": "943012de-d3c1-4f8d-8231-1d558abd672b",
   "metadata": {},
   "source": [],
   "outputs": []
  },
  {
   "cell_type": "code",
   "execution_count": null,
   "id": "eeaa0785-1f39-4e11-bfeb-33d7b3f527d8",
   "metadata": {},
   "source": [],
   "outputs": []
  },
  {
   "cell_type": "code",
   "execution_count": null,
   "id": "8037d646-995f-42c3-9e41-0560de3ef222",
   "metadata": {},
   "source": [],
   "outputs": []
  },
  {
   "cell_type": "code",
   "execution_count": null,
   "id": "faee1c8f-9a7b-4557-a63f-abbc0d31b8dc",
   "metadata": {},
   "source": [],
   "outputs": []
  },
  {
   "cell_type": "code",
   "execution_count": null,
   "id": "d0640af8-0a8a-4b0c-b531-327bf70bc7ef",
   "metadata": {},
   "source": [],
   "outputs": []
  },
  {
   "cell_type": "code",
   "execution_count": null,
   "id": "f3264945-490b-4e6d-8f47-1c0b542a40fc",
   "metadata": {},
   "source": [],
   "outputs": []
  },
  {
   "cell_type": "code",
   "execution_count": null,
   "id": "07441354-4f2e-4499-a3c3-8fb55f468cb1",
   "metadata": {},
   "source": [],
   "outputs": []
  },
  {
   "cell_type": "code",
   "execution_count": null,
   "id": "f51c7f70-4f63-4f28-ac32-823ef84bef7b",
   "metadata": {},
   "source": [],
   "outputs": []
  },
  {
   "cell_type": "code",
   "execution_count": null,
   "id": "21e36d88-77a4-46d6-bd24-616c1b918731",
   "metadata": {},
   "source": [],
   "outputs": []
  },
  {
   "cell_type": "code",
   "execution_count": null,
   "id": "8528a625-0e1c-4a2b-9cf0-24e1e65ea93f",
   "metadata": {},
   "source": [],
   "outputs": []
  },
  {
   "cell_type": "code",
   "execution_count": null,
   "id": "58c744b3-6b7e-4c47-8b12-eb54b3a2ba3a",
   "metadata": {},
   "source": [],
   "outputs": []
  },
  {
   "cell_type": "code",
   "execution_count": null,
   "id": "604fd2fd-7958-4926-aa13-5e814adbad81",
   "metadata": {},
   "source": [],
   "outputs": []
  },
  {
   "cell_type": "code",
   "execution_count": null,
   "id": "a30abb7f-31c6-4e3e-83bc-8bd7a34fd480",
   "metadata": {},
   "source": [],
   "outputs": []
  },
  {
   "cell_type": "code",
   "execution_count": 243,
   "id": "4dd3a999-50dc-47c7-803d-925b53253be6",
   "metadata": {},
   "source": [
    "weights = []\n",
    "\n",
    "for file in os.listdir(config['weights_path'] + '-' + run_id.split('/')[-1]):\n",
    "    epoch = file.split('.')[0].split('-')[-1]\n",
    "\n",
    "    if epoch != 'best':\n",
    "        weights.append(int(epoch))"
   ],
   "outputs": []
  },
  {
   "cell_type": "code",
   "execution_count": 244,
   "id": "968d3ae6-df0f-4afe-8cb2-6e8a0d5b5020",
   "metadata": {},
   "source": [
    "weights.sort()"
   ],
   "outputs": []
  },
  {
   "cell_type": "code",
   "execution_count": 245,
   "id": "e68f443e-4962-40b0-a9ab-0be53d88eaa3",
   "metadata": {},
   "source": [
    "all_embs = {}\n",
    "\n",
    "for w in tqdm(weights):\n",
    "    weights_path = os.path.join(config['weights_path'] + '-' + run_id.split('/')[-1], f'weights-{w}.pth')\n",
    "    model.load_state_dict(torch.load(weights_path, weights_only=False))\n",
    "\n",
    "    model.eval()\n",
    "    p_embs, s_embs, m_embs, labels = [], [], [], []\n",
    "\n",
    "    with torch.no_grad():\n",
    "        for photometry, photometry_mask, spectra, metadata, label in test_dataloader:\n",
    "            photometry, photometry_mask = photometry.to(device), photometry_mask.to(device)\n",
    "            spectra, metadata = spectra.to(device), metadata.to(device)\n",
    "    \n",
    "            p_emb, s_emb, m_emb = model.get_embeddings(photometry, photometry_mask, spectra, metadata)\n",
    "            p_embs.append(p_emb.cpu())\n",
    "            s_embs.append(s_emb.cpu())\n",
    "            m_embs.append(m_emb.cpu())\n",
    "            labels.append(label)\n",
    "    \n",
    "    p_embs = torch.vstack(p_embs)\n",
    "    s_embs = torch.vstack(s_embs)\n",
    "    m_embs = torch.vstack(m_embs)\n",
    "    labels = torch.hstack(labels)\n",
    "\n",
    "    all_embs[w] = (p_embs, s_embs, m_embs, labels)"
   ],
   "outputs": []
  },
  {
   "cell_type": "code",
   "execution_count": 246,
   "id": "b060fcd2-a8aa-422c-b596-b65a27f7624f",
   "metadata": {},
   "source": [
    "all_embs[0][0].shape"
   ],
   "outputs": []
  },
  {
   "cell_type": "code",
   "execution_count": 247,
   "id": "c08c3f5a-8cea-4ddb-8d91-b5bc27186987",
   "metadata": {},
   "source": [
    "combined_embs = [all_embs[i][j] for i in all_embs for j in range(3)]\n",
    "combined_embs = torch.vstack(combined_embs)"
   ],
   "outputs": []
  },
  {
   "cell_type": "code",
   "execution_count": 248,
   "id": "f7464be1-131d-414b-9aaf-0634f0702a07",
   "metadata": {},
   "source": [
    "combined_embs.shape"
   ],
   "outputs": []
  },
  {
   "cell_type": "code",
   "execution_count": 249,
   "id": "31002555-0c06-47de-92bc-37c072c6ea9f",
   "metadata": {},
   "source": [
    "# three times for each modality\n",
    "combined_labels = [all_embs[i][-1] for i in all_embs for j in range(3)]\n",
    "combined_labels = torch.hstack(combined_labels)"
   ],
   "outputs": []
  },
  {
   "cell_type": "code",
   "execution_count": 250,
   "id": "3d6cb5ab-f00a-4f28-9252-2942082615a1",
   "metadata": {},
   "source": [
    "combined_labels.shape"
   ],
   "outputs": []
  },
  {
   "cell_type": "code",
   "execution_count": null,
   "id": "0c4f4fde-7432-432a-b8a7-585baea042e6",
   "metadata": {},
   "source": [],
   "outputs": []
  },
  {
   "cell_type": "code",
   "execution_count": 255,
   "id": "b5313f62-189f-4668-a544-9305992808be",
   "metadata": {},
   "source": [
    "pca = PCA(n_components=128, random_state=42)\n",
    "reduced_embs = pca.fit_transform(combined_embs)"
   ],
   "outputs": []
  },
  {
   "cell_type": "code",
   "execution_count": 256,
   "id": "05bef6d6-b08f-43a5-84fc-aa1cc8dab66e",
   "metadata": {},
   "source": [
    "pca.explained_variance_ratio_.sum()"
   ],
   "outputs": []
  },
  {
   "cell_type": "code",
   "execution_count": 273,
   "id": "5d109762-fdc7-4544-a3b0-e80ebabaf7e5",
   "metadata": {},
   "source": [
    "tsne = TSNE(n_components=2, metric='cosine', perplexity=500, n_jobs=16, random_state=42, verbose=True)\n",
    "embs_2d = tsne.fit(reduced_embs)"
   ],
   "outputs": []
  },
  {
   "cell_type": "code",
   "execution_count": 274,
   "id": "00c47d2c-b6e2-45a4-85f3-c5e96c2dde57",
   "metadata": {},
   "source": [
    "embs_2d.shape"
   ],
   "outputs": []
  },
  {
   "cell_type": "code",
   "execution_count": 275,
   "id": "c9315c88-b52a-4594-aac1-930fc8a3fa3d",
   "metadata": {},
   "source": [
    "class_freq = test_dataset.df['target'].value_counts()\n",
    "sorted_classes = class_freq.index\n",
    "\n",
    "id2target = test_dataset.id2target\n",
    "target2id = test_dataset.target2id\n",
    "\n",
    "palette = sns.color_palette(\"tab20\", len(id2target))\n",
    "marker_size = 12\n",
    "\n",
    "x_min, x_max = np.min(embs_2d[:, 0]) - 5, np.max(embs_2d[:, 0]) + 5\n",
    "y_min, y_max = np.min(embs_2d[:, 1]) - 5, np.max(embs_2d[:, 1]) + 5"
   ],
   "outputs": []
  },
  {
   "cell_type": "code",
   "execution_count": null,
   "id": "ac5be575-3686-4e23-a1f3-147a3e67da64",
   "metadata": {},
   "source": [
    "for epoch in range(len(weights)):\n",
    "    size = len(test_dataset)\n",
    "    embds0 = embs_2d[epoch * size * 3:(epoch + 1) * size * 3]\n",
    "    p_embs0 = embds0[:size]\n",
    "    s_embs0 = embds0[size:size * 2]\n",
    "    m_embs0 = embds0[size * 2:size * 3]\n",
    "    labels0 = combined_labels[:size]\n",
    "    \n",
    "    plt.figure(figsize=(10, 8))\n",
    "    \n",
    "    # Plot P embeddings with triangles\n",
    "    for class_name in sorted_classes:\n",
    "        class_id = target2id[class_name]  # Use target2id to get numeric class ID\n",
    "        class_mask = labels0 == class_id\n",
    "        plt.scatter(p_embs0[class_mask, 0], p_embs0[class_mask, 1], \n",
    "                    color=palette[class_id], label=class_name, alpha=0.7, s=marker_size, marker='^')\n",
    "    \n",
    "    # Plot S embeddings with squares\n",
    "    for class_name in sorted_classes:\n",
    "        class_id = target2id[class_name]\n",
    "        class_mask = labels0 == class_id\n",
    "        plt.scatter(s_embs0[class_mask, 0], s_embs0[class_mask, 1], \n",
    "                    color=palette[class_id], alpha=0.7, s=marker_size, marker='s')\n",
    "    \n",
    "    # Plot M embeddings with circles\n",
    "    for class_name in sorted_classes:\n",
    "        class_id = target2id[class_name]\n",
    "        class_mask = labels0 == class_id\n",
    "        plt.scatter(m_embs0[class_mask, 0], m_embs0[class_mask, 1], \n",
    "                    color=palette[class_id], alpha=0.7, s=marker_size, marker='o')\n",
    "    \n",
    "    # Create legends for colors (classes)\n",
    "    handles_colors = [mlines.Line2D([], [], color=palette[i], marker='o', linestyle='None', markersize=8, \n",
    "                                    label=id2target[class_id]) for i, class_id in enumerate(np.unique(labels))]\n",
    "    color_legend = plt.legend(handles=handles_colors, loc='upper right', fontsize=10, title=\"Classes\")\n",
    "    \n",
    "    # Create legends for shapes (embeddings)\n",
    "    handles_shapes = [\n",
    "        mlines.Line2D([], [], color='black', marker='^', linestyle='None', markersize=8, label='Photometry', markerfacecolor='white'),\n",
    "        mlines.Line2D([], [], color='black', marker='s', linestyle='None', markersize=8, label='Spectra', markerfacecolor='white'),\n",
    "        mlines.Line2D([], [], color='black', marker='o', linestyle='None', markersize=8, label='Metadata', markerfacecolor='white')\n",
    "    ]\n",
    "    \n",
    "    plt.legend(handles=handles_shapes, loc='upper left', fontsize=10, title=\"Embeddings\")\n",
    "    \n",
    "    # Add the color legend back to the plot\n",
    "    plt.gca().add_artist(color_legend)\n",
    "    plt.title(f\"Epoch {weights[epoch]}\")\n",
    "    plt.xlabel(\"t-SNE Dimension 1\")\n",
    "    plt.ylabel(\"t-SNE Dimension 2\")\n",
    "    plt.xlim(x_min, x_max)\n",
    "    plt.ylim(y_min, y_max)\n",
    "    plt.savefig(f\"plots/tsne_cos_p500{weights[epoch]}.png\", dpi=300, bbox_inches='tight')\n",
    "    plt.show()"
   ],
   "outputs": []
  },
  {
   "cell_type": "code",
   "execution_count": 277,
   "id": "725c67b8-2ee5-4c15-8593-00543783a825",
   "metadata": {},
   "source": [
    "image_files = [f\"plots/tsne_cos_p500{weights[epoch]}.png\" for epoch in range(len(weights))]\n",
    "images = [Image.open(img) for img in image_files]"
   ],
   "outputs": []
  },
  {
   "cell_type": "code",
   "execution_count": 278,
   "id": "f72c3c90-0fb8-4344-b25b-6f176f308608",
   "metadata": {},
   "source": [
    "images[0].save(\n",
    "    \"plots/tsne_cos_p500_animation.gif\",\n",
    "    save_all=True,\n",
    "    append_images=images[1:],\n",
    "    duration=200,  # duration between frames in milliseconds\n",
    "    loop=0  # loop forever\n",
    ")"
   ],
   "outputs": []
  },
  {
   "cell_type": "code",
   "execution_count": null,
   "id": "f8f4aa15-897f-437a-aaf6-8b06e6256dfb",
   "metadata": {},
   "source": [],
   "outputs": []
  },
  {
   "cell_type": "code",
   "execution_count": null,
   "id": "15a7dc6c-a270-40b9-8da7-27deb46f0f1d",
   "metadata": {},
   "source": [],
   "outputs": []
  },
  {
   "cell_type": "code",
   "execution_count": null,
   "id": "97736557-d08f-4625-9077-192fc96c8f29",
   "metadata": {},
   "source": [],
   "outputs": []
  },
  {
   "cell_type": "code",
   "execution_count": null,
   "id": "aff7466a-bbf4-4913-b75c-4efa6e9900f6",
   "metadata": {},
   "source": [],
   "outputs": []
  },
  {
   "cell_type": "code",
   "execution_count": null,
   "id": "f50a3d78-75cd-45bc-9a5f-e43728898e65",
   "metadata": {},
   "source": [],
   "outputs": []
  },
  {
   "cell_type": "code",
   "execution_count": null,
   "id": "3460ea95-d0b5-4fac-b7fc-48d36084f2fb",
   "metadata": {},
   "source": [],
   "outputs": []
  },
  {
   "cell_type": "code",
   "execution_count": null,
   "id": "63bf57c4-bc8e-46f4-970c-a4c5f49cce1f",
   "metadata": {},
   "source": [],
   "outputs": []
  },
  {
   "cell_type": "code",
   "execution_count": null,
   "id": "96f19d5f-7209-40ea-9ba3-23a11ddb48b8",
   "metadata": {},
   "source": [],
   "outputs": []
  },
  {
   "cell_type": "code",
   "execution_count": null,
   "id": "7cd20570-1539-44b3-bd6d-6f1ac751b4eb",
   "metadata": {},
   "source": [],
   "outputs": []
  },
  {
   "cell_type": "code",
   "execution_count": null,
   "id": "dbb4a44c-65da-40d6-bbfc-402378340af8",
   "metadata": {},
   "source": [],
   "outputs": []
  },
  {
   "cell_type": "code",
   "execution_count": null,
   "id": "dd1598d1-2f3a-4ae2-8aa1-2f110d3f3d0c",
   "metadata": {},
   "source": [],
   "outputs": []
  },
  {
   "cell_type": "code",
   "execution_count": null,
   "id": "3010cbe7-0d8f-48d8-8497-d503871f8c29",
   "metadata": {},
   "source": [],
   "outputs": []
  },
  {
   "cell_type": "code",
   "execution_count": null,
   "id": "ba4a2df8-66b3-4533-ad1a-8b33223be769",
   "metadata": {},
   "source": [],
   "outputs": []
  },
  {
   "cell_type": "code",
   "execution_count": null,
   "id": "d3b9a3eb-ee49-4679-957e-465d0b9e4af5",
   "metadata": {},
   "source": [],
   "outputs": []
  },
  {
   "cell_type": "code",
   "execution_count": null,
   "id": "1cc402d9-5647-42d1-9d46-2d5dc6bd2721",
   "metadata": {},
   "source": [],
   "outputs": []
  },
  {
   "cell_type": "code",
   "execution_count": null,
   "id": "935fefd2-4ab0-4d6a-995b-c6ad4b730032",
   "metadata": {},
   "source": [],
   "outputs": []
  },
  {
   "cell_type": "code",
   "execution_count": null,
   "id": "e198bfe8-5ad5-40c9-9fb9-071ec14bd21c",
   "metadata": {},
   "source": [],
   "outputs": []
  },
  {
   "cell_type": "code",
   "execution_count": null,
   "id": "eb7a09e3-3e78-4abf-be0c-45052a31c296",
   "metadata": {},
   "source": [],
   "outputs": []
  },
  {
   "cell_type": "code",
   "execution_count": null,
   "id": "e665fbba-4c7b-454c-ac85-64ac7646ee8b",
   "metadata": {},
   "source": [],
   "outputs": []
  },
  {
   "cell_type": "code",
   "execution_count": null,
   "id": "ae6be89e-ee1f-4294-be07-585a9a272f06",
   "metadata": {},
   "source": [],
   "outputs": []
  },
  {
   "cell_type": "code",
   "execution_count": null,
   "id": "8b36da1e-6950-4a51-a3ac-86820c01a0ad",
   "metadata": {},
   "source": [],
   "outputs": []
  },
  {
   "cell_type": "code",
   "execution_count": null,
   "id": "e2abcd51-a9e5-4e36-a729-fc1e0d1a2c91",
   "metadata": {},
   "source": [],
   "outputs": []
  },
  {
   "cell_type": "code",
   "execution_count": null,
   "id": "036418aa-258a-4364-99e2-a766694724e5",
   "metadata": {},
   "source": [],
   "outputs": []
  },
  {
   "cell_type": "code",
   "execution_count": null,
   "id": "763ddb25-28d7-4c6d-8cc6-b4f31dd3adc3",
   "metadata": {},
   "source": [],
   "outputs": []
  },
  {
   "cell_type": "code",
   "execution_count": null,
   "id": "16539b52-22ca-44ad-970f-5fa06aa345e9",
   "metadata": {},
   "source": [],
   "outputs": []
  },
  {
   "cell_type": "code",
   "execution_count": null,
   "id": "a892ed1b-1225-4a97-88c6-ae9a4944ce03",
   "metadata": {},
   "source": [],
   "outputs": []
  },
  {
   "cell_type": "code",
   "execution_count": null,
   "id": "969edf7e-9cf9-4f62-ba8b-132bc4465d99",
   "metadata": {},
   "source": [],
   "outputs": []
  },
  {
   "cell_type": "code",
   "execution_count": null,
   "id": "d73f772c-c564-48b3-abd6-d6681f5fc88a",
   "metadata": {},
   "source": [],
   "outputs": []
  },
  {
   "cell_type": "code",
   "execution_count": null,
   "id": "225da35d-f452-4acb-8f8c-3b9ff4c4ac92",
   "metadata": {},
   "source": [],
   "outputs": []
  },
  {
   "cell_type": "code",
   "execution_count": null,
   "id": "4fad8ebd-5200-4930-be12-e2b9e5793bcc",
   "metadata": {},
   "source": [],
   "outputs": []
  },
  {
   "cell_type": "code",
   "execution_count": null,
   "id": "d40584c1-4290-47db-80aa-6b55e16d3511",
   "metadata": {},
   "source": [],
   "outputs": []
  },
  {
   "cell_type": "code",
   "execution_count": null,
   "id": "f73e599c-98c6-4a0c-970a-49ad3a4b870d",
   "metadata": {},
   "source": [],
   "outputs": []
  },
  {
   "cell_type": "code",
   "execution_count": null,
   "id": "285b3ab9-8b42-4335-8895-3078fe0de99e",
   "metadata": {},
   "source": [],
   "outputs": []
  },
  {
   "cell_type": "code",
   "execution_count": null,
   "id": "cd39e02d-d6cc-4db9-b111-26225da9ab06",
   "metadata": {},
   "source": [],
   "outputs": []
  },
  {
   "cell_type": "code",
   "execution_count": null,
   "id": "e94a3dc9-0875-4ca4-97c8-3dd61ab1a950",
   "metadata": {},
   "source": [],
   "outputs": []
  },
  {
   "cell_type": "code",
   "execution_count": null,
   "id": "597f527a-76fd-4a21-8f81-ca42b440c66a",
   "metadata": {},
   "source": [],
   "outputs": []
  },
  {
   "cell_type": "code",
   "execution_count": null,
   "id": "d5adc385-c89c-4fda-bd9d-0580975f5ad6",
   "metadata": {},
   "source": [],
   "outputs": []
  },
  {
   "cell_type": "code",
   "execution_count": null,
   "id": "bfd5948e-9f32-448e-b57d-e9e805d39c49",
   "metadata": {},
   "source": [],
   "outputs": []
  },
  {
   "cell_type": "code",
   "execution_count": null,
   "id": "ce7aa849-8e63-4062-a76c-c1096dc311be",
   "metadata": {},
   "source": [],
   "outputs": []
  },
  {
   "cell_type": "code",
   "execution_count": null,
   "id": "5fbf1caf-a994-4e28-a4d5-dbabdea6bec8",
   "metadata": {},
   "source": [],
   "outputs": []
  },
  {
   "cell_type": "code",
   "execution_count": null,
   "id": "a1b238f4-eff7-4464-a56c-286d8f1e4dc9",
   "metadata": {},
   "source": [],
   "outputs": []
  },
  {
   "cell_type": "code",
   "execution_count": null,
   "id": "a41bc759-cad1-4159-9738-ce7c27f578fd",
   "metadata": {},
   "source": [],
   "outputs": []
  },
  {
   "cell_type": "code",
   "execution_count": null,
   "id": "30d00427-fe1e-4436-9655-e61c5c73440a",
   "metadata": {},
   "source": [],
   "outputs": []
  },
  {
   "cell_type": "code",
   "execution_count": null,
   "id": "5db47d1f-7654-46d3-b192-8ee785fbd356",
   "metadata": {},
   "source": [],
   "outputs": []
  },
  {
   "cell_type": "code",
   "execution_count": null,
   "id": "f9b6fa75-1578-4a1a-9e0b-29e2724d8c8e",
   "metadata": {},
   "source": [],
   "outputs": []
  },
  {
   "cell_type": "code",
   "execution_count": null,
   "id": "701caebe-d3ec-4c35-a2a7-8fe7a32f62ee",
   "metadata": {},
   "source": [],
   "outputs": []
  },
  {
   "cell_type": "code",
   "execution_count": 150,
   "id": "fc5dac9d-c970-469a-922f-c95948af7a15",
   "metadata": {},
   "source": [
    "for w in tqdm(weights):\n",
    "    weights_path = os.path.join(config['weights_path'] + '-' + run_id.split('/')[-1], f'weights-{w}.pth')\n",
    "    model.load_state_dict(torch.load(weights_path, weights_only=False))\n",
    "\n",
    "    model.eval()\n",
    "    p_embs, s_embs, m_embs, labels = [], [], [], []\n",
    "    \n",
    "    with torch.no_grad():\n",
    "        for photometry, photometry_mask, spectra, metadata, label in test_dataloader:\n",
    "            photometry, photometry_mask = photometry.to(device), photometry_mask.to(device)\n",
    "            spectra, metadata = spectra.to(device), metadata.to(device)\n",
    "    \n",
    "            p_emb, s_emb, m_emb = model.get_embeddings(photometry, photometry_mask, spectra, metadata)\n",
    "            p_embs.append(p_emb.cpu())\n",
    "            s_embs.append(s_emb.cpu())\n",
    "            m_embs.append(m_emb.cpu())\n",
    "            labels.append(label)\n",
    "    \n",
    "    p_embs = torch.vstack(p_embs)\n",
    "    s_embs = torch.vstack(s_embs)\n",
    "    m_embs = torch.vstack(m_embs)\n",
    "    labels = torch.hstack(labels)\n",
    "\n",
    "    combined_embs = np.concatenate([p_embs, s_embs, m_embs], axis=0)\n",
    "    combined_labels = np.concatenate([labels, labels, labels], axis=0)\n",
    "    \n",
    "    tsne = TSNE(n_components=2, random_state=42)\n",
    "    embs_2d = tsne.fit_transform(combined_embs)\n",
    "\n",
    "    p_embs_2d = embs_2d[:p_embs.shape[0]]\n",
    "    s_embs_2d = embs_2d[p_embs.shape[0]:p_embs.shape[0] + s_embs.shape[0]]\n",
    "    m_embs_2d = embs_2d[p_embs.shape[0] + s_embs.shape[0]:]\n",
    "    \n",
    "    # Sort unique labels based on class frequency (most common first)\n",
    "    class_freq = test_dataset.df['target'].value_counts()\n",
    "    sorted_classes = class_freq.index\n",
    "    \n",
    "    # Dictionary for converting numeric labels to actual class names\n",
    "    id2target = test_dataset.id2target\n",
    "    target2id = test_dataset.target2id\n",
    "    \n",
    "    # Use Seaborn color palette to get distinct colors\n",
    "    palette = sns.color_palette(\"tab20\", len(id2target))\n",
    "    marker_size = 12\n",
    "    \n",
    "    plt.figure(figsize=(10, 8))\n",
    "    \n",
    "    # Plot P embeddings with triangles\n",
    "    for class_name in sorted_classes:\n",
    "        class_id = target2id[class_name]  # Use target2id to get numeric class ID\n",
    "        class_mask = labels == class_id\n",
    "        plt.scatter(p_embs_2d[class_mask, 0], p_embs_2d[class_mask, 1], \n",
    "                    c label=class_name, alpha=0.7, s=marker_size, marker='^')\n",
    "    \n",
    "    # Plot S embeddings with squares\n",
    "    for class_name in sorted_classes:\n",
    "        class_id = target2id[class_name]\n",
    "        class_mask = labels == class_id\n",
    "        plt.scatter(s_embs_2d[class_mask, 0], s_embs_2d[class_mask, 1], \n",
    "                    color=palette[class_id], alpha=0.7, s=marker_size, marker='s')\n",
    "    \n",
    "    # Plot M embeddings with circles\n",
    "    for class_name in sorted_classes:\n",
    "        class_id = target2id[class_name]\n",
    "        class_mask = labels == class_id\n",
    "        plt.scatter(m_embs_2d[class_mask, 0], m_embs_2d[class_mask, 1], \n",
    "                    color=palette[class_id], alpha=0.7, s=marker_size, marker='o')\n",
    "    \n",
    "    # Create legends for colors (classes)\n",
    "    handles_colors = [mlines.Line2D([], [], color=palette[i], marker='o', linestyle='None', markersize=8, \n",
    "                                    label=id2target[class_id]) for i, class_id in enumerate(np.unique(labels))]\n",
    "    color_legend = plt.legend(handles=handles_colors, loc='upper right', fontsize=10, title=\"Classes\")\n",
    "    \n",
    "    # Create legends for shapes (embeddings)\n",
    "    handles_shapes = [\n",
    "        mlines.Line2D([], [], color='black', marker='^', linestyle='None', markersize=8, label='Photometry', markerfacecolor='white'),\n",
    "        mlines.Line2D([], [], color='black', marker='s', linestyle='None', markersize=8, label='Spectra', markerfacecolor='white'),\n",
    "        mlines.Line2D([], [], color='black', marker='o', linestyle='None', markersize=8, label='Metadata', markerfacecolor='white')\n",
    "    ]\n",
    "    \n",
    "    plt.legend(handles=handles_shapes, loc='upper left', fontsize=10, title=\"Embeddings\")\n",
    "    \n",
    "    # Add the color legend back to the plot\n",
    "    plt.gca().add_artist(color_legend)\n",
    "    plt.title(f\"Epoch {w}\")\n",
    "    plt.xlabel(\"t-SNE Dimension 1\")\n",
    "    plt.ylabel(\"t-SNE Dimension 2\")\n",
    "    plt.savefig(f\"plots/tsne_{w}.png\", dpi=300, bbox_inches='tight')\n",
    "    # plt.show()"
   ],
   "outputs": []
  },
  {
   "cell_type": "code",
   "execution_count": null,
   "id": "ccf29f1e-887b-4bae-9227-7025f5bf0a8e",
   "metadata": {},
   "source": [],
   "outputs": []
  },
  {
   "cell_type": "code",
   "execution_count": null,
   "id": "c3391145-84b4-4dc5-be0c-9fdc08f63f2d",
   "metadata": {},
   "source": [],
   "outputs": []
  },
  {
   "cell_type": "code",
   "execution_count": null,
   "id": "c003fcc1-a632-4a45-8db8-83b81c2a5ddd",
   "metadata": {},
   "source": [],
   "outputs": []
  },
  {
   "cell_type": "code",
   "execution_count": null,
   "id": "fc068c2c-27d9-4586-bf41-9e249a379a1d",
   "metadata": {},
   "source": [],
   "outputs": []
  },
  {
   "cell_type": "code",
   "execution_count": null,
   "id": "0c31a061-7649-4481-aa44-3831f4308558",
   "metadata": {},
   "source": [],
   "outputs": []
  },
  {
   "cell_type": "code",
   "execution_count": null,
   "id": "0ac27508-d9aa-4903-a251-d222fe5067c1",
   "metadata": {},
   "source": [],
   "outputs": []
  },
  {
   "cell_type": "code",
   "execution_count": null,
   "id": "f13b21b4-5aa1-4846-815f-4f1dd95164a0",
   "metadata": {},
   "source": [],
   "outputs": []
  },
  {
   "cell_type": "code",
   "execution_count": null,
   "id": "fa248b29-70a8-4435-bc68-dccae6ae5651",
   "metadata": {},
   "source": [],
   "outputs": []
  },
  {
   "cell_type": "code",
   "execution_count": null,
   "id": "4a9a5eb6-bc45-4e37-b73f-de52c385f4b1",
   "metadata": {},
   "source": [],
   "outputs": []
  },
  {
   "cell_type": "code",
   "execution_count": null,
   "id": "86e70ec3-0060-498d-af92-55064965e774",
   "metadata": {},
   "source": [],
   "outputs": []
  },
  {
   "cell_type": "code",
   "execution_count": null,
   "id": "5d1fa92d-4222-4af8-8be0-fc72a6588194",
   "metadata": {},
   "source": [],
   "outputs": []
  },
  {
   "cell_type": "code",
   "execution_count": null,
   "id": "0d2a04d7-c235-41fc-a5d0-6945f4e3a51c",
   "metadata": {},
   "source": [],
   "outputs": []
  },
  {
   "cell_type": "code",
   "execution_count": null,
   "id": "04affc94-666b-4242-a85d-08f5a7020d3a",
   "metadata": {},
   "source": [
    "weights_path = os.path.join(config['weights_path'] + '-' + run_id.split('/')[-1], f'weights-best.pth')\n",
    "model.load_state_dict(torch.load(weights_path, weights_only=False))"
   ],
   "outputs": []
  },
  {
   "cell_type": "code",
   "execution_count": 100,
   "id": "3168adb7-1015-4548-974c-65ad832b311f",
   "metadata": {},
   "source": [
    "model.eval()\n",
    "p_embs, s_embs, m_embs, labels = [], [], [], []\n",
    "\n",
    "with torch.no_grad():\n",
    "    for photometry, photometry_mask, spectra, metadata, label in tqdm(test_dataloader):\n",
    "        photometry, photometry_mask = photometry.to(device), photometry_mask.to(device)\n",
    "        spectra, metadata = spectra.to(device), metadata.to(device)\n",
    "\n",
    "        p_emb, s_emb, m_emb = model.get_embeddings(photometry, photometry_mask, spectra, metadata)\n",
    "        p_embs.append(p_emb.cpu())\n",
    "        s_embs.append(s_emb.cpu())\n",
    "        m_embs.append(m_emb.cpu())\n",
    "        labels.append(label)\n",
    "\n",
    "p_embs = torch.vstack(p_embs)\n",
    "s_embs = torch.vstack(s_embs)\n",
    "m_embs = torch.vstack(m_embs)\n",
    "labels = torch.hstack(labels)"
   ],
   "outputs": []
  },
  {
   "cell_type": "code",
   "execution_count": 91,
   "id": "27fa7ec7-df00-4721-901e-ed2c9faeedf9",
   "metadata": {},
   "source": [
    "combined_embs = np.concatenate([p_embs, s_embs, m_embs], axis=0)\n",
    "combined_labels = np.concatenate([labels, labels, labels], axis=0)\n",
    "\n",
    "tsne = TSNE(n_components=2, random_state=42)\n",
    "embs_2d = tsne.fit_transform(combined_embs)"
   ],
   "outputs": []
  },
  {
   "cell_type": "code",
   "execution_count": 134,
   "id": "e014da6a-f9d5-4ee3-bac3-b7f31f928ebb",
   "metadata": {},
   "source": [
    "p_embs_2d = embs_2d[:p_embs.shape[0]]\n",
    "s_embs_2d = embs_2d[p_embs.shape[0]:p_embs.shape[0] + s_embs.shape[0]]\n",
    "m_embs_2d = embs_2d[p_embs.shape[0] + s_embs.shape[0]:]\n",
    "\n",
    "# Sort unique labels based on class frequency (most common first)\n",
    "class_freq = test_dataset.df['target'].value_counts()\n",
    "sorted_classes = class_freq.index\n",
    "\n",
    "# Dictionary for converting numeric labels to actual class names\n",
    "id2target = test_dataset.id2target\n",
    "target2id = test_dataset.target2id\n",
    "\n",
    "# Use Seaborn color palette to get distinct colors\n",
    "palette = sns.color_palette(\"tab20\", len(id2target))\n",
    "marker_size = 12\n",
    "\n",
    "plt.figure(figsize=(10, 8))\n",
    "\n",
    "# Plot P embeddings with triangles\n",
    "for class_name in sorted_classes:\n",
    "    class_id = target2id[class_name]  # Use target2id to get numeric class ID\n",
    "    class_mask = labels == class_id\n",
    "    plt.scatter(p_embs_2d[class_mask, 0], p_embs_2d[class_mask, 1], \n",
    "                color=palette[class_id], label=class_name, alpha=0.7, s=marker_size, marker='^')\n",
    "\n",
    "# Plot S embeddings with squares\n",
    "for class_name in sorted_classes:\n",
    "    class_id = target2id[class_name]\n",
    "    class_mask = labels == class_id\n",
    "    plt.scatter(s_embs_2d[class_mask, 0], s_embs_2d[class_mask, 1], \n",
    "                color=palette[class_id], alpha=0.7, s=marker_size, marker='s')\n",
    "\n",
    "# Plot M embeddings with circles\n",
    "for class_name in sorted_classes:\n",
    "    class_id = target2id[class_name]\n",
    "    class_mask = labels == class_id\n",
    "    plt.scatter(m_embs_2d[class_mask, 0], m_embs_2d[class_mask, 1], \n",
    "                color=palette[class_id], alpha=0.7, s=marker_size, marker='o')\n",
    "\n",
    "# Create legends for colors (classes)\n",
    "handles_colors = [mlines.Line2D([], [], color=palette[i], marker='o', linestyle='None', markersize=8, \n",
    "                                label=id2target[class_id]) for i, class_id in enumerate(np.unique(labels))]\n",
    "color_legend = plt.legend(handles=handles_colors, loc='upper right', fontsize=10, title=\"Classes\")\n",
    "\n",
    "# Create legends for shapes (embeddings)\n",
    "handles_shapes = [\n",
    "    mlines.Line2D([], [], color='black', marker='^', linestyle='None', markersize=8, label='Photometry', markerfacecolor='white'),\n",
    "    mlines.Line2D([], [], color='black', marker='s', linestyle='None', markersize=8, label='Spectra', markerfacecolor='white'),\n",
    "    mlines.Line2D([], [], color='black', marker='o', linestyle='None', markersize=8, label='Metadata', markerfacecolor='white')\n",
    "]\n",
    "\n",
    "plt.legend(handles=handles_shapes, loc='upper left', fontsize=10, title=\"Embeddings\")\n",
    "\n",
    "# Add the color legend back to the plot\n",
    "plt.gca().add_artist(color_legend)\n",
    "plt.title(f\"Epoch {'best'}\")\n",
    "plt.xlabel(\"t-SNE Dimension 1\")\n",
    "plt.ylabel(\"t-SNE Dimension 2\")\n",
    "plt.savefig(\"plots/tsne_plot.png\", dpi=300, bbox_inches='tight')\n",
    "plt.show()"
   ],
   "outputs": []
  },
  {
   "cell_type": "code",
   "execution_count": null,
   "id": "9b21915f-33bc-4312-9a26-ac18a631b69b",
   "metadata": {},
   "source": [],
   "outputs": []
  },
  {
   "cell_type": "code",
   "execution_count": null,
   "id": "fb1a1865-288a-496c-a504-072f24a0e572",
   "metadata": {},
   "source": [],
   "outputs": []
  },
  {
   "cell_type": "code",
   "execution_count": null,
   "id": "e83c879b-f6bc-4bf7-892b-352b73d70624",
   "metadata": {},
   "source": [],
   "outputs": []
  },
  {
   "cell_type": "code",
   "execution_count": null,
   "id": "3a0ad380-8c4f-43d6-9056-5693b2ffaa51",
   "metadata": {},
   "source": [],
   "outputs": []
  },
  {
   "cell_type": "code",
   "execution_count": null,
   "id": "9f4f5be8-50aa-4dfe-97ca-a3c1d388b9ba",
   "metadata": {},
   "source": [],
   "outputs": []
  },
  {
   "cell_type": "code",
   "execution_count": null,
   "id": "1f1a7b60-a64d-4422-8e64-d913541e351d",
   "metadata": {},
   "source": [],
   "outputs": []
  },
  {
   "cell_type": "code",
   "execution_count": null,
   "id": "ca877dba-332c-4787-ba96-922bfcb8e191",
   "metadata": {},
   "source": [],
   "outputs": []
  },
  {
   "cell_type": "code",
   "execution_count": null,
   "id": "04594746-5e50-450b-8896-6287a6c4059b",
   "metadata": {},
   "source": [],
   "outputs": []
  },
  {
   "cell_type": "code",
   "execution_count": null,
   "id": "be0fd3fc-8eb1-4524-9bf6-df6041b430fd",
   "metadata": {},
   "source": [],
   "outputs": []
  },
  {
   "cell_type": "code",
   "execution_count": null,
   "id": "2fd2c7bf-41a0-4807-84fc-c16a7eff3d7f",
   "metadata": {},
   "source": [],
   "outputs": []
  },
  {
   "cell_type": "code",
   "execution_count": null,
   "id": "a4d0206d-cddb-4c28-8c7a-b68ae9ec30c2",
   "metadata": {},
   "source": [],
   "outputs": []
  },
  {
   "cell_type": "code",
   "execution_count": null,
   "id": "e17d4241-2435-4f9a-b2eb-c4901f95ef8a",
   "metadata": {},
   "source": [],
   "outputs": []
  },
  {
   "cell_type": "code",
   "execution_count": null,
   "id": "57922828-0825-4b4f-be28-9d9ee5d1f509",
   "metadata": {},
   "source": [],
   "outputs": []
  },
  {
   "cell_type": "code",
   "execution_count": null,
   "id": "d4fedc89-77bf-4cf3-be38-6e27c5427441",
   "metadata": {},
   "source": [],
   "outputs": []
  },
  {
   "cell_type": "code",
   "execution_count": null,
   "id": "e9f4a57f-f928-4f1f-abf7-4499a7e2608e",
   "metadata": {},
   "source": [],
   "outputs": []
  },
  {
   "cell_type": "code",
   "execution_count": null,
   "id": "0f2e0e85-aee4-4fa7-9f62-11b9ecad31b3",
   "metadata": {},
   "source": [],
   "outputs": []
  },
  {
   "cell_type": "code",
   "execution_count": null,
   "id": "dbdbecb8-9706-4882-a4ad-42fb1ae2d387",
   "metadata": {},
   "source": [],
   "outputs": []
  },
  {
   "cell_type": "code",
   "execution_count": null,
   "id": "ce06fc0e-f39d-498a-9d69-eff9173ab834",
   "metadata": {},
   "source": [],
   "outputs": []
  },
  {
   "cell_type": "code",
   "execution_count": null,
   "id": "d09b6dec-663c-495c-9990-883b9ebedc1c",
   "metadata": {},
   "source": [],
   "outputs": []
  },
  {
   "cell_type": "code",
   "execution_count": null,
   "id": "0eceee40-c842-4eb8-ad5d-0910aa589342",
   "metadata": {},
   "source": [],
   "outputs": []
  },
  {
   "cell_type": "code",
   "execution_count": null,
   "id": "844e6c01-3590-4e87-9d1e-08ad8f92e3e3",
   "metadata": {},
   "source": [],
   "outputs": []
  },
  {
   "cell_type": "code",
   "execution_count": null,
   "id": "69bc3847-0909-4035-b8c2-a97e816fc93c",
   "metadata": {},
   "source": [],
   "outputs": []
  },
  {
   "cell_type": "code",
   "execution_count": null,
   "id": "4834e5c9-297c-492b-8808-7540a2734ef3",
   "metadata": {},
   "source": [],
   "outputs": []
  },
  {
   "cell_type": "code",
   "execution_count": 109,
   "id": "4e7ea62a-ddfa-4d16-aecf-81110f14e1a4",
   "metadata": {},
   "source": [
    "# Create a distinct color for each class\n",
    "unique_classes = np.unique(combined_labels)\n",
    "palette = sns.color_palette(\"tab20\", len(test_dataset.id2target))\n",
    "\n",
    "plt.figure(figsize=(10, 8))\n",
    "\n",
    "# Plot each class with a distinct color\n",
    "for i, class_id in enumerate(np.unique(combined_labels)):\n",
    "    class_mask = combined_labels == class_id\n",
    "    plt.scatter(embs_2d[class_mask, 0], embs_2d[class_mask, 1], \n",
    "                color=palette[i], label=test_dataset.id2target[class_id], alpha=0.7, s=10)\n",
    "\n",
    "# Add legends for distinct classes\n",
    "plt.legend()\n",
    "plt.title(\"t-SNE Plot of Shared Embedding Space with Distinct Class Colors\")\n",
    "plt.xlabel(\"t-SNE Dimension 1\")\n",
    "plt.ylabel(\"t-SNE Dimension 2\")\n",
    "plt.show()"
   ],
   "outputs": []
  },
  {
   "cell_type": "code",
   "execution_count": 94,
   "id": "9c66f74a-40a6-4113-94b7-bc3f58b5d7ea",
   "metadata": {},
   "source": [
    "# Split the t-SNE result back to individual embedding sets\n",
    "p_embs_2d = embs_2d[:p_embs.shape[0]]\n",
    "s_embs_2d = embs_2d[p_embs.shape[0]:p_embs.shape[0] + s_embs.shape[0]]\n",
    "m_embs_2d = embs_2d[p_embs.shape[0] + s_embs.shape[0]:]"
   ],
   "outputs": []
  },
  {
   "cell_type": "code",
   "execution_count": 95,
   "id": "edb61308-d81a-4ab9-a011-d91a6d0d6767",
   "metadata": {},
   "source": [
    "id2target = test_dataset.id2target"
   ],
   "outputs": []
  },
  {
   "cell_type": "code",
   "execution_count": 97,
   "id": "1b264a5e-d704-4e5e-b418-1001528caf21",
   "metadata": {},
   "source": [
    "np.unique(labels)"
   ],
   "outputs": []
  },
  {
   "cell_type": "code",
   "execution_count": null,
   "id": "555ae743-613f-4ea7-9b1b-5f66a88586dc",
   "metadata": {},
   "source": [
    "labels, class_id"
   ],
   "outputs": []
  },
  {
   "cell_type": "code",
   "execution_count": 107,
   "id": "75ba47f1-fe96-4c4f-8f52-a2d59c587285",
   "metadata": {},
   "source": [
    "# Get the axis limits from the combined embeddings\n",
    "x_min, x_max = np.min(embs_2d[:, 0]) - 5, np.max(embs_2d[:, 0]) + 5\n",
    "y_min, y_max = np.min(embs_2d[:, 1]) - 5, np.max(embs_2d[:, 1]) + 5\n",
    "\n",
    "# Function to plot t-SNE for a given embedding set and add legend\n",
    "def plot_tsne(ax, embeddings_2d, labels, title):\n",
    "    for i, class_id in enumerate(np.unique(labels)):\n",
    "        class_mask = labels == class_id\n",
    "        ax.scatter(embeddings_2d[class_mask, 0], embeddings_2d[class_mask, 1], \n",
    "                   color=palette[i], label=id2target[class_id], alpha=0.7, s=10)\n",
    "    \n",
    "    ax.set_title(title)\n",
    "    ax.set_xlabel(\"t-SNE Dimension 1\")\n",
    "    ax.set_ylabel(\"t-SNE Dimension 2\")\n",
    "    \n",
    "    # Set the same limits for all plots\n",
    "    ax.set_xlim(x_min, x_max)\n",
    "    ax.set_ylim(y_min, y_max)\n",
    "\n",
    "# Create subplots for the 4 plots\n",
    "fig, axes = plt.subplots(1, 4, figsize=(22, 6), sharex=True, sharey=True)\n",
    "\n",
    "# Plot for all combined embeddings\n",
    "plot_tsne(axes[0], embs_2d, combined_labels, \"t-SNE for All Combined Embeddings\")\n",
    "\n",
    "# Plot for p_embs\n",
    "plot_tsne(axes[1], p_embs_2d, labels, \"t-SNE for P Embeddings\")\n",
    "\n",
    "# Plot for s_embs\n",
    "plot_tsne(axes[2], s_embs_2d, labels, \"t-SNE for S Embeddings\")\n",
    "\n",
    "# Plot for m_embs\n",
    "plot_tsne(axes[3], m_embs_2d, labels, \"t-SNE for M Embeddings\")\n",
    "\n",
    "# Add a single legend outside the plot\n",
    "handles, legend = axes[0].get_legend_handles_labels()  # Get legend elements\n",
    "fig.legend(handles, legend, loc='upper center', fontsize=10, title=\"Classes\", bbox_to_anchor=(0.5, -0.05), ncol=5)\n",
    "\n",
    "# Adjust layout to make space for the legend and prevent overlap\n",
    "plt.subplots_adjust(left=0.05, right=0.95, top=0.9, bottom=0.05, wspace=0.1)\n",
    "\n",
    "# Show the plots\n",
    "plt.show()"
   ],
   "outputs": []
  },
  {
   "cell_type": "code",
   "execution_count": null,
   "id": "b08d341d-b012-4ff8-b7c4-fe55c75ce66d",
   "metadata": {},
   "source": [],
   "outputs": []
  },
  {
   "cell_type": "code",
   "execution_count": null,
   "id": "ee17d024-d6de-44ae-8bdd-4de9221ea44d",
   "metadata": {},
   "source": [],
   "outputs": []
  },
  {
   "cell_type": "code",
   "execution_count": null,
   "id": "8078d8ac-6bb2-47f0-8e5b-26be807db626",
   "metadata": {},
   "source": [],
   "outputs": []
  },
  {
   "cell_type": "code",
   "execution_count": null,
   "id": "9353d073-1b3b-421c-968d-23028df2c9f4",
   "metadata": {},
   "source": [],
   "outputs": []
  },
  {
   "cell_type": "code",
   "execution_count": null,
   "id": "7633a9b5-a910-4630-809a-e923618fff9d",
   "metadata": {},
   "source": [],
   "outputs": []
  },
  {
   "cell_type": "code",
   "execution_count": null,
   "id": "9d844394-052a-4b63-bc50-aadfb97903a0",
   "metadata": {},
   "source": [],
   "outputs": []
  },
  {
   "cell_type": "code",
   "execution_count": null,
   "id": "8aded801-2ea3-46c8-ac70-d7fc63772258",
   "metadata": {},
   "source": [],
   "outputs": []
  },
  {
   "cell_type": "code",
   "execution_count": null,
   "id": "2604a720-4410-4c68-8941-bdab0e5b1c42",
   "metadata": {},
   "source": [],
   "outputs": []
  },
  {
   "cell_type": "code",
   "execution_count": 55,
   "id": "7e42197f-e721-4cb0-9365-cab8f1e83ce9",
   "metadata": {},
   "source": [
    "# Combine embeddings into one array\n",
    "all_embs = np.vstack([p_embs, s_embs, m_embs])  # Shape: (6675, 512)\n",
    "\n",
    "# Create an array indicating which embedding each row came from\n",
    "embedding_types = np.array(['p'] * 2225 + ['s'] * 2225 + ['m'] * 2225)\n",
    "\n",
    "# Duplicate labels accordingly\n",
    "all_labels = np.tile(labels, 3)  # Shape: (6675,)\n",
    "\n",
    "# Compute TSNE embeddings over all embeddings\n",
    "tsne = TSNE(n_components=2, random_state=42, perplexity=30, n_iter=1000)\n",
    "all_embs_tsne = tsne.fit_transform(all_embs)  # Shape: (6675, 2)\n",
    "\n",
    "# Split TSNE embeddings back into individual embeddings\n",
    "p_embs_tsne = all_embs_tsne[0:2225]\n",
    "s_embs_tsne = all_embs_tsne[2225:4450]\n",
    "m_embs_tsne = all_embs_tsne[4450:]\n",
    "\n",
    "# Define a color map for labels\n",
    "unique_labels = np.unique(labels_np)\n",
    "num_classes = len(unique_labels)\n",
    "cmap = plt.get_cmap('tab10')  # Adjust if you have more than 10 classes\n",
    "\n",
    "# Function to map labels to colors\n",
    "def get_colors(labels):\n",
    "    color_dict = {label: idx for idx, label in enumerate(unique_labels)}\n",
    "    colors = [color_dict[label] for label in labels]\n",
    "    return colors\n",
    "\n",
    "# Plot TSNE embeddings for each embedding type\n",
    "def plot_tsne(embs_tsne, labels, title):\n",
    "    colors = get_colors(labels)\n",
    "    plt.figure(figsize=(8, 8))\n",
    "    scatter = plt.scatter(embs_tsne[:, 0], embs_tsne[:, 1], c=colors, cmap=cmap, alpha=0.6)\n",
    "    # Create a legend with unique labels\n",
    "    handles, _ = scatter.legend_elements()\n",
    "    legend_labels = [str(label) for label in unique_labels]\n",
    "    plt.legend(handles, legend_labels, title=\"Classes\", loc='best')\n",
    "    plt.title(title)\n",
    "    plt.xlabel('TSNE Component 1')\n",
    "    plt.ylabel('TSNE Component 2')\n",
    "    plt.grid(True)\n",
    "    plt.show()"
   ],
   "outputs": []
  },
  {
   "cell_type": "code",
   "execution_count": null,
   "id": "a797e387-e513-4374-9f64-c2d4747b7b6a",
   "metadata": {},
   "source": [
    "# Plot TSNE embeddings for each embedding type\n",
    "plot_tsne(p_embs_tsne, labels_np, 'TSNE of p_embs')\n",
    "plot_tsne(s_embs_tsne, labels_np, 'TSNE of s_embs')\n",
    "plot_tsne(m_embs_tsne, labels_np, 'TSNE of m_embs')"
   ],
   "outputs": []
  },
  {
   "cell_type": "code",
   "execution_count": null,
   "id": "f70424bc-0d6e-43cd-8eb2-34e60887d563",
   "metadata": {},
   "source": [],
   "outputs": []
  },
  {
   "cell_type": "code",
   "execution_count": null,
   "id": "45891e5d-1b4d-4486-a7cf-b175272eacce",
   "metadata": {},
   "source": [],
   "outputs": []
  },
  {
   "cell_type": "code",
   "execution_count": null,
   "id": "7f4a4b29-8fd7-4ac8-be63-9774c4d3ea5e",
   "metadata": {},
   "source": [],
   "outputs": []
  },
  {
   "cell_type": "code",
   "execution_count": null,
   "id": "bba62ba7-a31b-405a-9a4c-5fce7ee04df4",
   "metadata": {},
   "source": [],
   "outputs": []
  },
  {
   "cell_type": "code",
   "execution_count": null,
   "id": "ea84cd4d-6b20-4504-8150-49922ac5074e",
   "metadata": {},
   "source": [],
   "outputs": []
  },
  {
   "cell_type": "code",
   "execution_count": null,
   "id": "09f97102-098a-43c7-916b-2144e5680dd9",
   "metadata": {},
   "source": [],
   "outputs": []
  },
  {
   "cell_type": "code",
   "execution_count": null,
   "id": "b100f4c5-d36b-49ba-a2ee-93919383d53a",
   "metadata": {},
   "source": [],
   "outputs": []
  },
  {
   "cell_type": "code",
   "execution_count": null,
   "id": "a2794917-6319-42d8-98c2-f2d51f4f9800",
   "metadata": {},
   "source": [],
   "outputs": []
  },
  {
   "cell_type": "code",
   "execution_count": null,
   "id": "d810391d-7a88-4f3c-957d-ae5ec739e388",
   "metadata": {},
   "source": [],
   "outputs": []
  },
  {
   "cell_type": "code",
   "execution_count": null,
   "id": "e318dddb-7b6c-497a-884c-8851b1ca0e1c",
   "metadata": {},
   "source": [],
   "outputs": []
  },
  {
   "cell_type": "code",
   "execution_count": null,
   "id": "63aca7d0-11be-4fd3-b9c5-e9588d0ab596",
   "metadata": {},
   "source": [],
   "outputs": []
  },
  {
   "cell_type": "code",
   "execution_count": null,
   "id": "f3090b76-0044-4fea-8e40-88606a3f8aa3",
   "metadata": {},
   "source": [],
   "outputs": []
  },
  {
   "cell_type": "code",
   "execution_count": null,
   "id": "3c262195-51df-4636-b882-903e135e1f98",
   "metadata": {},
   "source": [],
   "outputs": []
  },
  {
   "cell_type": "code",
   "execution_count": null,
   "id": "fbd6a57a-5797-4aee-ba1c-294c43b2f562",
   "metadata": {},
   "source": [],
   "outputs": []
  },
  {
   "cell_type": "code",
   "execution_count": null,
   "id": "4ce2df01-cff3-4045-a912-d680f484094e",
   "metadata": {},
   "source": [],
   "outputs": []
  },
  {
   "cell_type": "code",
   "execution_count": null,
   "id": "90c934ff-26a6-46d5-90c2-869b383d9708",
   "metadata": {},
   "source": [],
   "outputs": []
  },
  {
   "cell_type": "code",
   "execution_count": null,
   "id": "8274a01b-134f-4b80-b363-671f277865fe",
   "metadata": {},
   "source": [],
   "outputs": []
  }
 ],
 "metadata": {
  "kernelspec": {
   "display_name": "Python 3 (ipykernel)",
   "language": "python",
   "name": "python3"
  },
  "language_info": {
   "codemirror_mode": {
    "name": "ipython",
    "version": 3
   },
   "file_extension": ".py",
   "mimetype": "text/x-python",
   "name": "python",
   "nbconvert_exporter": "python",
   "pygments_lexer": "ipython3",
   "version": "3.10.14"
  }
 },
 "nbformat": 4,
 "nbformat_minor": 5
}

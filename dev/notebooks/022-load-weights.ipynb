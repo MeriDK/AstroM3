{
 "cells": [
  {
   "cell_type": "code",
   "execution_count": 4,
   "id": "f448b0e4-4c03-4afa-909c-0e0a7bb30f24",
   "metadata": {},
   "source": [
    "import sys\n",
    "sys.path.insert(0, '..')\n",
    "\n",
    "import torch\n",
    "from torch import nn\n",
    "from datetime import datetime\n",
    "\n",
    "from core.model import MetaModel"
   ],
   "outputs": []
  },
  {
   "cell_type": "code",
   "execution_count": 5,
   "id": "1cfb6e2d-c3b1-45f1-8c95-88388f445962",
   "metadata": {},
   "source": [
    "CLASSES = ['EW', 'SR', 'EA', 'RRAB', 'EB', 'ROT', 'RRC', 'HADS', 'M', 'DSCT']\n",
    "METADATA_COLS = [\n",
    "    'mean_vmag', 'amplitude', 'period', 'phot_g_mean_mag', 'e_phot_g_mean_mag', 'lksl_statistic',\n",
    "    'rfr_score', 'phot_bp_mean_mag', 'e_phot_bp_mean_mag', 'phot_rp_mean_mag', 'e_phot_rp_mean_mag',\n",
    "    'bp_rp', 'parallax', 'parallax_error', 'parallax_over_error', 'pmra', 'pmra_error', 'pmdec',\n",
    "    'pmdec_error', 'j_mag', 'e_j_mag', 'h_mag', 'e_h_mag', 'k_mag', 'e_k_mag', 'w1_mag', 'e_w1_mag',\n",
    "    'w2_mag', 'e_w2_mag', 'w3_mag', 'w4_mag', 'j_k', 'w1_w2', 'w3_w4', 'pm', 'ruwe'\n",
    "]"
   ],
   "outputs": []
  },
  {
   "cell_type": "code",
   "execution_count": 7,
   "id": "1820a1f6-13ca-46f1-ad69-ca9b07bb7ac5",
   "metadata": {},
   "source": [
    "def get_config():\n",
    "    config = {\n",
    "        'project': 'AstroCLIPOptuna',\n",
    "        'random_seed': 42,  # 42, 66, 0, 12, 123\n",
    "        'use_wandb': True,\n",
    "        'use_optuna': True,\n",
    "        'save_weights': False,\n",
    "        'weights_path': f'/home/mariia/AstroML/weights/{datetime.now().strftime(\"%Y-%m-%d-%H-%M\")}',\n",
    "        'freeze': False,\n",
    "\n",
    "        # Data General\n",
    "        'data_root': '/home/mariia/AstroML/data/asassn/',\n",
    "        'file': 'preprocessed_data/full/spectra_and_v',\n",
    "        'classes': CLASSES,\n",
    "        'num_classes': len(CLASSES),\n",
    "        'meta_cols': METADATA_COLS,\n",
    "        'min_samples': None,\n",
    "        'max_samples': None,\n",
    "\n",
    "        # Photometry\n",
    "        'v_zip': 'asassnvarlc_vband_complete.zip',\n",
    "        'v_prefix': 'vardb_files',\n",
    "        'seq_len': 200,\n",
    "        'phased': False,\n",
    "        'aux': True,\n",
    "\n",
    "        # Spectra\n",
    "        'lamost_spec_dir': 'Spectra/v2',\n",
    "        'spectra_v_file': 'spectra_v_merged.csv',\n",
    "\n",
    "        # Photometry Model\n",
    "        'p_enc_in': 3,\n",
    "        'p_d_model': 128,\n",
    "        'p_dropout': 0.2,\n",
    "        'p_factor': 1,\n",
    "        'p_output_attention': False,\n",
    "        'p_n_heads': 4,\n",
    "        'p_d_ff': 512,\n",
    "        'p_activation': 'gelu',\n",
    "        'p_e_layers': 8,\n",
    "\n",
    "        # Spectra Model\n",
    "        's_dropout': 0.2,\n",
    "        's_conv_channels': [1, 64, 64, 32, 32],\n",
    "        's_kernel_size': 3,\n",
    "        's_mp_kernel_size': 4,\n",
    "\n",
    "        # Metadata Model\n",
    "        'm_hidden_dim': 512,\n",
    "        'm_dropout': 0.2,\n",
    "\n",
    "        # MultiModal Model\n",
    "        'hidden_dim': 512,\n",
    "        'fusion': 'avg',  # 'avg', 'concat'\n",
    "\n",
    "        # Training\n",
    "        'batch_size': 512,\n",
    "        'lr': 0.0003,\n",
    "        'beta1': 0.9,\n",
    "        'beta2': 0.999,\n",
    "        'weight_decay': 0.01,\n",
    "        'early_stopping_patience': 6,\n",
    "        'scheduler': 'ReduceLROnPlateau',  # 'ExponentialLR', 'ReduceLROnPlateau'\n",
    "        'gamma': 0.9,  # for ExponentialLR scheduler\n",
    "        'factor': 0.3,  # for ReduceLROnPlateau scheduler\n",
    "        'patience': 3,  # for ReduceLROnPlateau scheduler\n",
    "        'warmup': True,\n",
    "        'warmup_epochs': 10,\n",
    "        'clip_grad': False,\n",
    "        'clip_value': 45\n",
    "    }\n",
    "\n",
    "    config['mode'] = 'meta'\n",
    "    config['epochs'] = 50\n",
    "    config['clip_grad'] = False\n",
    "    config['use_pretrain'] = 'CLIP/home/mariia/AstroML/weights/2024-08-14-14-05-zmjau1cu/weights-51.pth'\n",
    "    \n",
    "    if config['aux']:\n",
    "        config['p_enc_in'] += 4\n",
    "\n",
    "    return config"
   ],
   "outputs": []
  },
  {
   "cell_type": "code",
   "execution_count": 8,
   "id": "407e86e5-2a17-4162-83ee-0e59c99a8be8",
   "metadata": {},
   "source": [
    "config = get_config()"
   ],
   "outputs": []
  },
  {
   "cell_type": "code",
   "execution_count": 9,
   "id": "8f5c609e-4dd2-49b0-bb53-d90d6efefa3e",
   "metadata": {},
   "source": [
    "model = MetaModel(config)"
   ],
   "outputs": []
  },
  {
   "cell_type": "code",
   "execution_count": 10,
   "id": "873a835c-a146-4e90-a853-1861b6bea8a8",
   "metadata": {},
   "source": [
    "model"
   ],
   "outputs": []
  },
  {
   "cell_type": "code",
   "execution_count": 18,
   "id": "6945245b-85a3-4478-9ac0-7a51d3b688e5",
   "metadata": {},
   "source": [
    "weights = torch.load(config['use_pretrain'][4:], weights_only=True)"
   ],
   "outputs": []
  },
  {
   "cell_type": "code",
   "execution_count": 19,
   "id": "257ee880-645a-4b9c-ac9b-23a6e734dc44",
   "metadata": {},
   "source": [
    "weights_prefix = 'metadata_encoder'\n",
    "weights = {k[len(weights_prefix) + 1:]: v for k, v in weights.items() if k.startswith(weights_prefix)}"
   ],
   "outputs": []
  },
  {
   "cell_type": "code",
   "execution_count": 20,
   "id": "3dc48a09-ee55-4d3d-a4ff-fe7cdca4efd2",
   "metadata": {},
   "source": [
    "model.load_state_dict(weights, strict=False)"
   ],
   "outputs": []
  },
  {
   "cell_type": "code",
   "execution_count": null,
   "id": "5ce2ae7d-e548-456d-b674-4122e201278d",
   "metadata": {},
   "source": [],
   "outputs": []
  },
  {
   "cell_type": "code",
   "execution_count": null,
   "id": "023b6856-745b-42b9-a889-174b83a6df22",
   "metadata": {},
   "source": [],
   "outputs": []
  },
  {
   "cell_type": "code",
   "execution_count": null,
   "id": "bcffd8bd-2ee5-43db-92e9-d130bc02a05a",
   "metadata": {},
   "source": [],
   "outputs": []
  },
  {
   "cell_type": "code",
   "execution_count": 13,
   "id": "1e5b4a2b-a17d-4020-b584-3561517a2580",
   "metadata": {},
   "source": [
    "æ"
   ],
   "outputs": []
  },
  {
   "cell_type": "code",
   "execution_count": null,
   "id": "e8a10ca3-bff2-41a3-9247-e2060a1a8c3f",
   "metadata": {},
   "source": [],
   "outputs": []
  },
  {
   "cell_type": "code",
   "execution_count": null,
   "id": "78225f65-e571-4888-ab1e-c02d8b5755cb",
   "metadata": {},
   "source": [],
   "outputs": []
  },
  {
   "cell_type": "code",
   "execution_count": 41,
   "id": "5cb58d42-d4dc-4066-86a1-100489704bd0",
   "metadata": {},
   "source": [
    "CLASSES = ['EW', 'SR', 'EA', 'RRAB', 'EB', 'ROT', 'RRC', 'HADS', 'M', 'DSCT']"
   ],
   "outputs": []
  },
  {
   "cell_type": "code",
   "execution_count": 55,
   "id": "fce04f3a-eede-456f-99dc-07e9f2191c0d",
   "metadata": {},
   "source": [
    "def get_config(random_seed):\n",
    "    config = {\n",
    "        'project': 'AstroCLIPResults',\n",
    "        'random_seed': random_seed,\n",
    "        'use_wandb': True,\n",
    "        'save_weights': True,\n",
    "        'weights_path': f'/home/mariia/AstroML/weights/{datetime.now().strftime(\"%Y-%m-%d-%H-%M\")}',\n",
    "        'use_pretrain': 'CLIP/home/mariia/AstroML/weights/2024-07-25-14-18-es6hl0nb/weights-41.pth',\n",
    "        # 'use_pretrain': None,\n",
    "\n",
    "        # Data General\n",
    "        'dataset': 'VPSMDatasetV2Spectra',     # 'VPSMDataset' or 'VPSMDatasetV2'\n",
    "        'data_root': '/home/mariia/AstroML/data/asassn/',\n",
    "        'file': 'preprocessed_data/full/spectra_and_v',\n",
    "        'classes': CLASSES,\n",
    "        'min_samples': None,\n",
    "        'max_samples': None,\n",
    "        'noise': False,  # for train data only\n",
    "        'noise_coef': 2,\n",
    "\n",
    "        # Photometry\n",
    "        'v_zip': 'asassnvarlc_vband_complete.zip',\n",
    "        'v_prefix': 'vardb_files',\n",
    "        'seq_len': 200,\n",
    "        'phased': True,\n",
    "        'clip': False,\n",
    "        'aux': True,\n",
    "\n",
    "        # Spectra\n",
    "        'lamost_spec_dir': 'Spectra/v2',\n",
    "        'spectra_v_file': 'spectra_v_merged.csv',\n",
    "        'z_corr': False,\n",
    "\n",
    "        # Photometry Model\n",
    "        'p_encoder_layers': 8,\n",
    "        'p_d_model': 128,\n",
    "        'p_dropout': 0.2,\n",
    "        'p_feature_size': 3,\n",
    "        'p_n_heads': 4,\n",
    "        'p_d_ff': 512,\n",
    "\n",
    "        # Spectra Model\n",
    "        's_hidden_dim': 512,\n",
    "        's_dropout': 0.2,\n",
    "\n",
    "        # Metadata Model\n",
    "        'm_hidden_dim': 512,\n",
    "        'm_dropout': 0.2,\n",
    "\n",
    "        # MultiModal Model\n",
    "        'model': 'ModelV1',     # 'ModelV0' or 'ModelV1'\n",
    "        'hidden_dim': 1024,\n",
    "        'ps_coef': 1,\n",
    "        'mp_coef': 1,\n",
    "        'sm_coef': 1,\n",
    "\n",
    "        # Training\n",
    "        'batch_size': 64,\n",
    "        'lr': 1e-3,\n",
    "        'weight_decay': 1e-3,\n",
    "        'epochs': 100,\n",
    "        'optimizer': 'AdamW',\n",
    "        'early_stopping_patience': 10,\n",
    "\n",
    "        # Learning Rate Scheduler\n",
    "        'factor': 0.3,\n",
    "        'patience': 5,\n",
    "    }\n",
    "\n",
    "    if config['aux']:\n",
    "        config['p_feature_size'] += 4\n",
    "\n",
    "    return config"
   ],
   "outputs": []
  },
  {
   "cell_type": "code",
   "execution_count": 56,
   "id": "cbe36a9c-8491-4bf1-b23c-09be88e0867a",
   "metadata": {},
   "source": [
    "config = get_config(42)"
   ],
   "outputs": []
  },
  {
   "cell_type": "code",
   "execution_count": 58,
   "id": "9ae51efd-0b0e-4d33-8bb0-0f32afc65ab4",
   "metadata": {},
   "source": [
    "model = MetaClassifier(hidden_dim=config['m_hidden_dim'], num_classes=10, dropout=config['m_dropout'])"
   ],
   "outputs": []
  },
  {
   "cell_type": "code",
   "execution_count": 59,
   "id": "f2f0d0e2-1c64-458d-ae96-f132ca38d4ad",
   "metadata": {},
   "source": [
    "model"
   ],
   "outputs": []
  },
  {
   "cell_type": "code",
   "execution_count": 72,
   "id": "c89c5a16-f32a-449a-93d7-52da75d8478f",
   "metadata": {},
   "source": [
    "class MetaModel(nn.Module):\n",
    "    def __init__(self, num_classes, input_dim=36, hidden_dim=512, dropout=0.5):\n",
    "        super(MetaModel, self).__init__()\n",
    "\n",
    "        self.model = nn.Sequential(\n",
    "            nn.Linear(input_dim, hidden_dim),\n",
    "            nn.ReLU(),\n",
    "            nn.Dropout(dropout),\n",
    "            nn.Linear(hidden_dim, hidden_dim),\n",
    "            nn.ReLU(),\n",
    "            nn.Dropout(dropout)\n",
    "        )\n",
    "        self.fc = nn.Linear(hidden_dim, num_classes)\n",
    "        \n",
    "    def forward(self, x):\n",
    "        x = self.model(x)\n",
    "        x = self.fc(x)\n",
    "\n",
    "        return x"
   ],
   "outputs": []
  },
  {
   "cell_type": "code",
   "execution_count": 73,
   "id": "98a1363a-ed6b-4285-a938-0b3c203b7b7a",
   "metadata": {},
   "source": [
    "model = MetaModel(10)"
   ],
   "outputs": []
  },
  {
   "cell_type": "code",
   "execution_count": 74,
   "id": "dc12a51e-8a42-48e6-b269-2d24e70111aa",
   "metadata": {},
   "source": [
    "model"
   ],
   "outputs": []
  },
  {
   "cell_type": "code",
   "execution_count": null,
   "id": "a301512f-e946-426e-9801-3a3303238112",
   "metadata": {},
   "source": [],
   "outputs": []
  },
  {
   "cell_type": "code",
   "execution_count": null,
   "id": "fc8b1181-678d-404b-a39a-ccd51df701a6",
   "metadata": {},
   "source": [],
   "outputs": []
  },
  {
   "cell_type": "code",
   "execution_count": 60,
   "id": "4008909a-0baf-4897-851f-cc5146de8365",
   "metadata": {},
   "source": [
    "weights = torch.load('/home/mariia/AstroML/weights/2024-07-25-14-18-es6hl0nb/weights-41.pth', weights_only=True)"
   ],
   "outputs": []
  },
  {
   "cell_type": "code",
   "execution_count": 69,
   "id": "0352f2e7-6735-4561-aa8c-01dcb02217fe",
   "metadata": {},
   "source": [
    "filtered_weights = {k[len('metadata_encoder.'):]: v for k, v in weights.items() if k.startswith('metadata_encoder')}"
   ],
   "outputs": []
  },
  {
   "cell_type": "code",
   "execution_count": 75,
   "id": "d810a409-d1ca-43b2-9793-2f5ebbf8df8d",
   "metadata": {},
   "source": [
    "filtered_weights.keys()"
   ],
   "outputs": []
  },
  {
   "cell_type": "code",
   "execution_count": 76,
   "id": "29d631c3-7cb4-468c-b0ff-cc6a98a4360c",
   "metadata": {},
   "source": [
    "model.load_state_dict(filtered_weights, strict=False)"
   ],
   "outputs": []
  },
  {
   "cell_type": "code",
   "execution_count": null,
   "id": "4bfbca37-2ec7-47e9-bdca-4f5f93d65ad7",
   "metadata": {},
   "source": [],
   "outputs": []
  },
  {
   "cell_type": "code",
   "execution_count": null,
   "id": "2753fc3e-9a82-4826-bab4-1e58c755bcf1",
   "metadata": {},
   "source": [],
   "outputs": []
  },
  {
   "cell_type": "code",
   "execution_count": null,
   "id": "444bd9e5-26bc-4a0b-ae9d-7e7169fec992",
   "metadata": {},
   "source": [],
   "outputs": []
  },
  {
   "cell_type": "code",
   "execution_count": null,
   "id": "70d1b0cb-c9d1-4090-bdb7-3e25aa500800",
   "metadata": {},
   "source": [],
   "outputs": []
  },
  {
   "cell_type": "code",
   "execution_count": null,
   "id": "84738529-d71c-4332-a09b-ba7194638705",
   "metadata": {},
   "source": [],
   "outputs": []
  },
  {
   "cell_type": "code",
   "execution_count": null,
   "id": "47403f69-3a22-4800-8e34-295436665db6",
   "metadata": {},
   "source": [],
   "outputs": []
  },
  {
   "cell_type": "code",
   "execution_count": null,
   "id": "07fdc5d6-1eaf-4d05-a8d4-0d4247659413",
   "metadata": {},
   "source": [],
   "outputs": []
  },
  {
   "cell_type": "code",
   "execution_count": null,
   "id": "4cab7ce8-e54e-4b60-878f-47641acea779",
   "metadata": {},
   "source": [],
   "outputs": []
  },
  {
   "cell_type": "code",
   "execution_count": null,
   "id": "eb7755da-47fb-4bfc-9a21-587327c76d2c",
   "metadata": {},
   "source": [],
   "outputs": []
  },
  {
   "cell_type": "code",
   "execution_count": null,
   "id": "20cc0c00-206a-49b8-8e99-9c10211283a6",
   "metadata": {},
   "source": [],
   "outputs": []
  }
 ],
 "metadata": {
  "kernelspec": {
   "display_name": "Python 3 (ipykernel)",
   "language": "python",
   "name": "python3"
  },
  "language_info": {
   "codemirror_mode": {
    "name": "ipython",
    "version": 3
   },
   "file_extension": ".py",
   "mimetype": "text/x-python",
   "name": "python",
   "nbconvert_exporter": "python",
   "pygments_lexer": "ipython3",
   "version": "3.10.14"
  }
 },
 "nbformat": 4,
 "nbformat_minor": 5
}

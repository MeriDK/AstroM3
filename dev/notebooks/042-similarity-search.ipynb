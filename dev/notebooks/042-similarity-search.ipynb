{
 "cells": [
  {
   "cell_type": "code",
   "execution_count": 2,
   "id": "48dcbca0-fc8e-49de-a71c-518f8aa6c177",
   "metadata": {},
   "source": [
    "# find 5 closest objects or photo or spectra for the objects that were anomolous"
   ],
   "outputs": []
  },
  {
   "cell_type": "code",
   "execution_count": 4,
   "id": "edca6487-b035-4435-93bf-df190a9d9208",
   "metadata": {},
   "source": [
    "import sys\n",
    "sys.path.insert(0, '..')\n",
    "\n",
    "import torch\n",
    "import os\n",
    "import wandb\n",
    "import random\n",
    "import numpy as np\n",
    "import torch\n",
    "from torch import nn\n",
    "from torch.optim import Adam\n",
    "from ignite.handlers.param_scheduler import create_lr_scheduler_with_warmup\n",
    "from torch.utils.data import DataLoader\n",
    "from datetime import datetime\n",
    "import matplotlib.pyplot as plt\n",
    "import pandas as pd\n",
    "from scipy import stats\n",
    "from tqdm import tqdm\n",
    "from matplotlib import cm\n",
    "import seaborn as sns\n",
    "import matplotlib.lines as mlines\n",
    "from sklearn.decomposition import PCA\n",
    "from openTSNE import TSNE\n",
    "from PIL import Image\n",
    "import umap\n",
    "import torch.nn.functional as F\n",
    "from scipy.spatial.distance import cdist\n",
    "import umap.plot\n",
    "import math\n",
    "from scipy.stats import norm\n",
    "import joblib\n",
    "\n",
    "from core.final.dataset import PSMDataset\n",
    "from core.final.model import GalSpecNet, MetaModel, Informer, AstroModel\n",
    "from core.final.trainer import Trainer"
   ],
   "outputs": []
  },
  {
   "cell_type": "code",
   "execution_count": 5,
   "id": "c1f19a75-dd70-44a5-8c96-a2481ecbdd99",
   "metadata": {},
   "source": [
    "def get_model(config):\n",
    "    if config['mode'] == 'photo':\n",
    "        model = Informer(config)\n",
    "    elif config['mode'] == 'spectra':\n",
    "        model = GalSpecNet(config)\n",
    "    elif config['mode'] == 'meta':\n",
    "        model = MetaModel(config)\n",
    "    else:\n",
    "        model = AstroModel(config)\n",
    "\n",
    "    return model\n",
    "\n",
    "def get_embs(dataloader):\n",
    "    all_p_emb, all_s_emb, all_m_emb = [], [], []\n",
    "    all_labels = []\n",
    "    \n",
    "    for photometry, photometry_mask, spectra, metadata, labels in tqdm(dataloader):\n",
    "        photometry, photometry_mask = photometry.to(device), photometry_mask.to(device)\n",
    "        spectra, metadata = spectra.to(device), metadata.to(device)\n",
    "    \n",
    "        with torch.no_grad():\n",
    "            p_emb, s_emb, m_emb = model.get_embeddings(photometry, photometry_mask, spectra, metadata)\n",
    "    \n",
    "            all_p_emb.append(p_emb.cpu())\n",
    "            all_s_emb.append(s_emb.cpu())\n",
    "            all_m_emb.append(m_emb.cpu())\n",
    "            all_labels.append(labels)\n",
    "    \n",
    "    all_p_emb = torch.vstack(all_p_emb)\n",
    "    all_s_emb = torch.vstack(all_s_emb)\n",
    "    all_m_emb = torch.vstack(all_m_emb)\n",
    "    all_labels = torch.hstack(all_labels)\n",
    "\n",
    "    return all_p_emb, all_s_emb, all_m_emb, all_labels\n",
    "\n",
    "def get_centers(p_emb, s_emb, m_emb, train_labels):\n",
    "    p_centers, s_centers, m_centers, all_centers = [], [], [], []\n",
    "\n",
    "    for i in range(10):\n",
    "        ind = train_labels == i\n",
    "    \n",
    "        p_center = p_emb[ind].mean(axis=0)\n",
    "        p_center = p_center / p_center.norm()\n",
    "        p_centers.append(p_center)\n",
    "    \n",
    "        s_center = s_emb[ind].mean(axis=0)\n",
    "        s_center = s_center / s_center.norm()\n",
    "        s_centers.append(s_center)\n",
    "    \n",
    "        m_center = m_emb[ind].mean(axis=0)\n",
    "        m_center = m_center / m_center.norm()\n",
    "        m_centers.append(m_center)\n",
    "\n",
    "        all_emb = (p_emb + s_emb + m_emb) / 3\n",
    "        all_center = all_emb[ind].mean(axis=0)\n",
    "        all_center = all_center / all_center.norm()\n",
    "        all_centers.append(all_center)\n",
    "    \n",
    "    p_centers = torch.stack(p_centers)\n",
    "    s_centers = torch.stack(s_centers)\n",
    "    m_centers = torch.stack(m_centers)\n",
    "    all_centers = torch.stack(all_centers)\n",
    "\n",
    "    return p_centers, s_centers, m_centers, all_centers\n",
    "\n",
    "def plot_obj_umap(dataset, idx, embeddings, targets):\n",
    "    el = dataset.df.iloc[idx]\n",
    "    label = target2id[el['target']]\n",
    "    period = el['org_period']\n",
    "    l, b = id2lb[el['id']]\n",
    "    \n",
    "    photometry = dataset.get_vlc(el['name'])\n",
    "    photometry = np.vstack(((photometry[:, 0] % period) / period, photometry[:, 1], photometry[:, 2])).T    # fold\n",
    "    spectra = dataset.readLRSFits(os.path.join(dataset.lamost_spec_dir, el['spec_filename']))\n",
    "\n",
    "    obj_embedding = embeddings[idx]\n",
    "    \n",
    "    fig, axs = plt.subplots(1, 3, figsize=(24, 8))\n",
    "    axs[0].plot(photometry[:, 0], photometry[:, 1], '.', label='Photometry')\n",
    "    axs[1].plot(spectra[:, 0], spectra[:, 1], label='Spectra')\n",
    "    \n",
    "    for class_name in sorted_classes:\n",
    "        class_id = target2id[class_name]\n",
    "        class_mask = targets == class_id\n",
    "        axs[2].scatter(embeddings[class_mask, 0], embeddings[class_mask, 1], \n",
    "                       color=palette[class_id], label=class_name, alpha=1.0, s=marker_size)\n",
    "\n",
    "    axs[2].scatter(obj_embedding[0], obj_embedding[1], color=palette[targets[idx]], edgecolors='black', alpha=1.0, s=5 * marker_size)\n",
    "    handles_colors = [mlines.Line2D([], [], color=palette[target2id[class_name]], marker='o', linestyle='None', markersize=8, \n",
    "                      label=class_name) for class_name in sorted_classes]\n",
    "    axs[2].legend(handles=handles_colors, loc='upper right', bbox_to_anchor=(1.15, 1), fontsize=10, title=\"Classes\")\n",
    "    \n",
    "    \n",
    "    plt.suptitle(f'period = {period}    label = {id2target[label]}     idx {idx}    L = {l}    B = {b}    id {el[\"id\"]}')\n",
    "    plt.tight_layout()\n",
    "    plt.show()"
   ],
   "outputs": []
  },
  {
   "cell_type": "code",
   "execution_count": 6,
   "id": "4c4b7c96-25c9-4394-b591-d5cd90943c99",
   "metadata": {},
   "source": [
    "org_train = pd.read_csv('/home/mariia/AstroML/data/asassn/preprocessed_data/full_lb/spectra_and_v_train.csv')\n",
    "org_val = pd.read_csv('/home/mariia/AstroML/data/asassn/preprocessed_data/full_lb/spectra_and_v_val.csv')\n",
    "org_test = pd.read_csv('/home/mariia/AstroML/data/asassn/preprocessed_data/full_lb/spectra_and_v_test.csv')\n",
    "\n",
    "org_train = org_train[['id', 'l', 'b']]\n",
    "org_val = org_val[['id', 'l', 'b']]\n",
    "org_test = org_test[['id', 'l', 'b']]\n",
    "\n",
    "combined_df = pd.concat([org_train, org_val, org_test])\n",
    "id2lb = combined_df.set_index('id')[['l', 'b']].T.to_dict('list')"
   ],
   "outputs": []
  },
  {
   "cell_type": "code",
   "execution_count": 8,
   "id": "6ae7343b-903d-4874-840d-bff07ccec018",
   "metadata": {},
   "source": [
    "run_id = 'MeriDK/AstroCLIPResults3/2wz4ysvn'\n",
    "api = wandb.Api()\n",
    "run = api.run(run_id)\n",
    "config = run.config\n",
    "config['use_wandb'] = False\n",
    "\n",
    "model = get_model(config)\n",
    "device = torch.device('cuda:2' if torch.cuda.is_available() else 'cpu')\n",
    "model = model.to(device)\n",
    "model.eval()\n",
    "\n",
    "weights_path = os.path.join(config['weights_path'] + '-' + run_id.split('/')[-1], f'weights-best.pth')\n",
    "model.load_state_dict(torch.load(weights_path, weights_only=False))"
   ],
   "outputs": []
  },
  {
   "cell_type": "code",
   "execution_count": 9,
   "id": "c2b98cf3-b75b-45ca-ad1a-df176121ee24",
   "metadata": {},
   "source": [
    "config['file'] = 'preprocessed_data/sub50_lb/spectra_and_v'\n",
    "\n",
    "train_dataset = PSMDataset(config, split='train')\n",
    "train_dataloader = DataLoader(train_dataset, batch_size=config['batch_size'], shuffle=False)\n",
    "\n",
    "val_dataset = PSMDataset(config, split='val')\n",
    "val_dataloader = DataLoader(val_dataset, batch_size=config['batch_size'], shuffle=False)\n",
    "\n",
    "test_dataset = PSMDataset(config, split='test')\n",
    "test_dataloader = DataLoader(test_dataset, batch_size=config['batch_size'], shuffle=False)\n",
    "\n",
    "train_p_emb, train_s_emb, train_m_emb, train_labels = get_embs(train_dataloader)\n",
    "val_p_emb, val_s_emb, val_m_emb, val_labels = get_embs(val_dataloader)\n",
    "test_p_emb, test_s_emb, test_m_emb, test_labels = get_embs(test_dataloader)\n",
    "\n",
    "p_centers, s_centers, m_centers, all_centers = get_centers(train_p_emb, train_s_emb, train_m_emb, train_labels)"
   ],
   "outputs": []
  },
  {
   "cell_type": "code",
   "execution_count": 10,
   "id": "3a5fcd45-a7a8-4dea-bc42-0fb33fdae7c6",
   "metadata": {},
   "source": [
    "train_emb = (train_p_emb + train_s_emb + train_m_emb) / 3\n",
    "val_emb = (val_p_emb + val_s_emb + val_m_emb) / 3\n",
    "test_emb = (test_p_emb + test_s_emb + test_m_emb) / 3"
   ],
   "outputs": []
  },
  {
   "cell_type": "code",
   "execution_count": 11,
   "id": "cebc659b-4a9e-48f6-9ebc-2c4be95562ef",
   "metadata": {},
   "source": [
    "umap = joblib.load('umap.pkl')\n",
    "train_umap = umap.transform(train_emb)\n",
    "val_umap = umap.transform(val_emb)\n",
    "test_umap = umap.transform(test_emb)"
   ],
   "outputs": []
  },
  {
   "cell_type": "code",
   "execution_count": 13,
   "id": "03f7ff9f-1d62-42b4-85da-58f4c8f7971a",
   "metadata": {},
   "source": [
    "class_freq = test_dataset.df['target'].value_counts()\n",
    "sorted_classes = class_freq.index\n",
    "\n",
    "id2target = test_dataset.id2target\n",
    "target2id = test_dataset.target2id\n",
    "\n",
    "palette = sns.color_palette(\"Spectral\", len(id2target))\n",
    "palette[3], palette[-4] = palette[-4], palette[3] \n",
    "palette[1], palette[-2] = palette[-2], palette[1] \n",
    "marker_size = 12"
   ],
   "outputs": []
  },
  {
   "cell_type": "code",
   "execution_count": 14,
   "id": "e8044de7-1415-441d-8137-2919a7bf740d",
   "metadata": {},
   "source": [
    "plot_obj_umap(test_dataset, 120, test_umap, test_labels)"
   ],
   "outputs": []
  },
  {
   "cell_type": "code",
   "execution_count": 21,
   "id": "a8afff99-a5b0-4317-9bcc-f815cd6460fa",
   "metadata": {},
   "source": [
    "p_emb = torch.vstack([train_p_emb, val_p_emb, test_p_emb])\n",
    "s_emb = torch.vstack([train_s_emb, val_s_emb, test_s_emb])\n",
    "m_emb = torch.vstack([train_m_emb, val_m_emb, test_m_emb])"
   ],
   "outputs": []
  },
  {
   "cell_type": "code",
   "execution_count": 27,
   "id": "e9caa14a-5584-468c-9ef4-162d6e1dd7c6",
   "metadata": {},
   "source": [
    "def get_idx_ds(index):\n",
    "    if index < len(train_dataset):\n",
    "        return 'train', index\n",
    "    elif len(train_dataset) <= index < len(train_dataset) + len(val_dataset):\n",
    "        return 'val', index - len(train_dataset)\n",
    "    else:\n",
    "        return 'test', index - len(train_dataset) - len(val_dataset)"
   ],
   "outputs": []
  },
  {
   "cell_type": "code",
   "execution_count": 33,
   "id": "c6ddcb87-e5a6-4c53-9ccc-9394bd7f9ab1",
   "metadata": {},
   "source": [
    "res = []\n",
    "\n",
    "for el in torch.topk(test_s_emb[120] @ s_emb.T, 6).indices:\n",
    "    split, idx = get_idx_ds(el.item())\n",
    "    res.append((split, idx))\n",
    "    print(el.item(), split, idx)"
   ],
   "outputs": []
  },
  {
   "cell_type": "code",
   "execution_count": 34,
   "id": "94296de3-4299-4cab-881a-9fa008724108",
   "metadata": {},
   "source": [
    "for split, idx in res[1:]:\n",
    "    if split == 'train':\n",
    "        plot_obj_umap(train_dataset, idx, train_umap, train_labels)\n",
    "    elif split == 'val':\n",
    "        plot_obj_umap(val_dataset, idx, val_umap, val_labels)\n",
    "    else:\n",
    "        plot_obj_umap(test_dataset, idx, test_umap, test_labels)"
   ],
   "outputs": []
  },
  {
   "cell_type": "code",
   "execution_count": 35,
   "id": "f878e83c-04f7-4bf3-8e38-e1fa98151bfd",
   "metadata": {},
   "source": [
    "res = []\n",
    "\n",
    "for el in torch.topk(test_p_emb[120] @ p_emb.T, 6).indices:\n",
    "    split, idx = get_idx_ds(el.item())\n",
    "    res.append((split, idx))\n",
    "    print(el.item(), split, idx)"
   ],
   "outputs": []
  },
  {
   "cell_type": "code",
   "execution_count": 36,
   "id": "eec19ca8-a02f-41df-bfba-2fbaf0950f66",
   "metadata": {},
   "source": [
    "for split, idx in res[1:]:\n",
    "    if split == 'train':\n",
    "        plot_obj_umap(train_dataset, idx, train_umap, train_labels)\n",
    "    elif split == 'val':\n",
    "        plot_obj_umap(val_dataset, idx, val_umap, val_labels)\n",
    "    else:\n",
    "        plot_obj_umap(test_dataset, idx, test_umap, test_labels)"
   ],
   "outputs": []
  },
  {
   "cell_type": "code",
   "execution_count": null,
   "id": "0a46f037-7582-4ea7-ae32-5c8b5d02f310",
   "metadata": {},
   "source": [],
   "outputs": []
  },
  {
   "cell_type": "code",
   "execution_count": null,
   "id": "4fa0e394-40ff-46da-969b-9b2e799747b4",
   "metadata": {},
   "source": [],
   "outputs": []
  },
  {
   "cell_type": "code",
   "execution_count": null,
   "id": "8f24e107-20f6-479b-be98-819012a8a8e5",
   "metadata": {},
   "source": [],
   "outputs": []
  },
  {
   "cell_type": "code",
   "execution_count": null,
   "id": "88b47504-99bd-4de3-a2e1-515a1d054c24",
   "metadata": {},
   "source": [],
   "outputs": []
  },
  {
   "cell_type": "code",
   "execution_count": null,
   "id": "11164edb-5640-487b-9755-b4b4a1dd39fd",
   "metadata": {},
   "source": [],
   "outputs": []
  }
 ],
 "metadata": {
  "kernelspec": {
   "display_name": "Python 3 (ipykernel)",
   "language": "python",
   "name": "python3"
  },
  "language_info": {
   "codemirror_mode": {
    "name": "ipython",
    "version": 3
   },
   "file_extension": ".py",
   "mimetype": "text/x-python",
   "name": "python",
   "nbconvert_exporter": "python",
   "pygments_lexer": "ipython3",
   "version": "3.10.14"
  }
 },
 "nbformat": 4,
 "nbformat_minor": 5
}

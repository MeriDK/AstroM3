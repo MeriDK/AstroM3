{
 "cells": [
  {
   "cell_type": "code",
   "execution_count": 7,
   "id": "9cb55bc6-c110-486a-8230-e0140d04ddce",
   "metadata": {},
   "source": [
    "# automatically reloads all modules before executing a new cell\n",
    "%load_ext autoreload\n",
    "%autoreload 2"
   ],
   "outputs": []
  },
  {
   "cell_type": "code",
   "execution_count": 2,
   "id": "73502752-005a-4dc8-b316-08922ca86440",
   "metadata": {},
   "source": [
    "import sys\n",
    "sys.path.insert(0, '..')\n",
    "\n",
    "import torch\n",
    "import os\n",
    "import wandb\n",
    "import random\n",
    "import numpy as np\n",
    "import torch\n",
    "from datetime import datetime\n",
    "import matplotlib.pyplot as plt\n",
    "import pandas as pd\n",
    "from tqdm import tqdm\n",
    "import joblib\n",
    "from torch.utils.data import DataLoader\n",
    "\n",
    "from core.dataset import PSMDataset\n",
    "from core.trainer import Trainer\n",
    "from core.model import GalSpecNet, MetaModel, Informer, AstroM3"
   ],
   "outputs": []
  },
  {
   "cell_type": "code",
   "execution_count": 11,
   "id": "d79e1f2a-718d-4e57-956e-aa6240421f9e",
   "metadata": {},
   "source": [
    "def get_model(config):\n",
    "    if config['mode'] == 'photo':\n",
    "        model = Informer(\n",
    "            classification=True if config['mode'] == 'photo' else False,\n",
    "            num_classes=config['num_classes'],\n",
    "            seq_len=config['seq_len'],\n",
    "            enc_in=config['p_enc_in'],\n",
    "            d_model=config['p_d_model'],\n",
    "            dropout=config['p_dropout'],\n",
    "            factor=config['p_factor'],\n",
    "            output_attention=config['p_output_attention'],\n",
    "            n_heads=config['p_n_heads'],\n",
    "            d_ff=config['p_d_ff'],\n",
    "            activation=config['p_activation'],\n",
    "            e_layers=config['p_e_layers']\n",
    "        )\n",
    "    elif config['mode'] == 'spectra':\n",
    "        model = GalSpecNet(\n",
    "            classification=True if config['mode'] == 'spectra' else False,\n",
    "            num_classes=config['num_classes'],\n",
    "            dropout_rate=config['s_dropout'],\n",
    "            conv_channels=config['s_conv_channels'],\n",
    "            kernel_size=config['s_kernel_size'],\n",
    "            mp_kernel_size=config['s_mp_kernel_size']\n",
    "        )\n",
    "    elif config['mode'] == 'meta':\n",
    "        model = MetaModel(\n",
    "            classification=True if config['mode'] == 'meta' else False,\n",
    "            num_classes=config['num_classes'],\n",
    "            input_dim=len(config['meta_cols']),\n",
    "            hidden_dim=config['m_hidden_dim'],\n",
    "            dropout=config['m_dropout']\n",
    "        )\n",
    "    else:\n",
    "        model = AstroM3(\n",
    "            classification=True if config['mode'] == 'all' else False,\n",
    "            num_classes=config['num_classes'],\n",
    "            hidden_dim=config['hidden_dim'],\n",
    "            fusion=config['fusion'],\n",
    "\n",
    "            # Photometry model params\n",
    "            seq_len=config['seq_len'],\n",
    "            p_enc_in=config['p_enc_in'],\n",
    "            p_d_model=config['p_d_model'],\n",
    "            p_dropout=config['p_dropout'],\n",
    "            p_factor=config['p_factor'],\n",
    "            p_output_attention=config['p_output_attention'],\n",
    "            p_n_heads=config['p_n_heads'],\n",
    "            p_d_ff=config['p_d_ff'],\n",
    "            p_activation=config['p_activation'],\n",
    "            p_e_layers=config['p_e_layers'],\n",
    "\n",
    "            # Spectra model params\n",
    "            s_dropout=config['s_dropout'],\n",
    "            s_conv_channels=config['s_conv_channels'],\n",
    "            s_kernel_size=config['s_kernel_size'],\n",
    "            s_mp_kernel_size=config['s_mp_kernel_size'],\n",
    "\n",
    "            # Metadata model params\n",
    "            m_input_dim=len(config['meta_cols']),\n",
    "            m_hidden_dim=config['m_hidden_dim'],\n",
    "            m_dropout=config['m_dropout']\n",
    "        )\n",
    "    \n",
    "    return model"
   ],
   "outputs": []
  },
  {
   "cell_type": "code",
   "execution_count": 33,
   "id": "dde539a9-f12f-4cd1-b625-eaf702a68db9",
   "metadata": {},
   "source": [
    "api = wandb.Api()\n",
    "run = api.run('meridk/AstroCLIPResults3/runs/3c2da15u')\n",
    "config = run.config\n",
    "config['use_wandb'] = False"
   ],
   "outputs": []
  },
  {
   "cell_type": "code",
   "execution_count": 34,
   "id": "c76a1408-8d95-4dfa-bad3-6b46018d19a9",
   "metadata": {},
   "source": [
    "model = get_model(config)\n",
    "model.load_state_dict(torch.load(config['weights_path'] + '-' + run.id + '/weights-best.pth', weights_only=True))"
   ],
   "outputs": []
  },
  {
   "cell_type": "code",
   "execution_count": 35,
   "id": "3a932994-c1f6-4f38-8ec0-74a6c75fe021",
   "metadata": {},
   "source": [
    "model.push_to_hub('MeriDK/AstroM3-CLIP-all')"
   ],
   "outputs": []
  },
  {
   "cell_type": "code",
   "execution_count": null,
   "id": "28945cb0-5a48-4890-b130-ceea2b356069",
   "metadata": {},
   "source": [],
   "outputs": []
  },
  {
   "cell_type": "code",
   "execution_count": null,
   "id": "4c9651af-40a2-4333-bcb0-c549ac8d97c9",
   "metadata": {},
   "source": [],
   "outputs": []
  },
  {
   "cell_type": "code",
   "execution_count": null,
   "id": "797b04a3-c975-4222-9255-5b3f3da37a94",
   "metadata": {},
   "source": [],
   "outputs": []
  },
  {
   "cell_type": "code",
   "execution_count": null,
   "id": "5ef9f6a0-be57-4873-aab4-435c1272fb8d",
   "metadata": {},
   "source": [],
   "outputs": []
  },
  {
   "cell_type": "code",
   "execution_count": null,
   "id": "8f8a783e-ead7-49a3-8b72-39ed343822d0",
   "metadata": {},
   "source": [],
   "outputs": []
  }
 ],
 "metadata": {
  "kernelspec": {
   "display_name": "Python 3 (ipykernel)",
   "language": "python",
   "name": "python3"
  },
  "language_info": {
   "codemirror_mode": {
    "name": "ipython",
    "version": 3
   },
   "file_extension": ".py",
   "mimetype": "text/x-python",
   "name": "python",
   "nbconvert_exporter": "python",
   "pygments_lexer": "ipython3",
   "version": "3.10.14"
  }
 },
 "nbformat": 4,
 "nbformat_minor": 5
}

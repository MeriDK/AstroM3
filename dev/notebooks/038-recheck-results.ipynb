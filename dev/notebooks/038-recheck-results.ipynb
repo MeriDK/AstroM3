{
 "cells": [
  {
   "cell_type": "code",
   "execution_count": 1,
   "id": "e1789e61-93a6-45ef-b2a0-29bfb3eb1156",
   "metadata": {},
   "outputs": [
    {
     "name": "stderr",
     "output_type": "stream",
     "text": [
      "/global/home/users/mariia/miniforge3/envs/astro/lib/python3.10/site-packages/ignite/handlers/checkpoint.py:16: DeprecationWarning: `TorchScript` support for functional optimizers is deprecated and will be removed in a future PyTorch release. Consider using the `torch.compile` optimizer instead.\n",
      "  from torch.distributed.optim import ZeroRedundancyOptimizer\n"
     ]
    }
   ],
   "source": [
    "import sys\n",
    "sys.path.insert(0, '..')\n",
    "\n",
    "import torch\n",
    "import os\n",
    "import wandb\n",
    "import random\n",
    "import numpy as np\n",
    "import torch\n",
    "from torch import nn\n",
    "from torch.optim import Adam\n",
    "from ignite.handlers.param_scheduler import create_lr_scheduler_with_warmup\n",
    "from torch.utils.data import DataLoader\n",
    "from datetime import datetime\n",
    "import matplotlib.pyplot as plt\n",
    "import pandas as pd\n",
    "from scipy import stats\n",
    "\n",
    "from core.final.dataset import PSMDataset\n",
    "from core.final.model import GalSpecNet, MetaModel, Informer, AstroModel\n",
    "from core.final.trainer import Trainer"
   ]
  },
  {
   "cell_type": "code",
   "execution_count": 9,
   "id": "c6997c6d-2bb3-4669-a451-7fc57267124b",
   "metadata": {},
   "outputs": [
    {
     "data": {
      "text/plain": [
       "<contextlib.ExitStack at 0x7f4ce2e290c0>"
      ]
     },
     "execution_count": 9,
     "metadata": {},
     "output_type": "execute_result"
    }
   ],
   "source": [
    "plt.ioff()"
   ]
  },
  {
   "cell_type": "code",
   "execution_count": 10,
   "id": "358973df-d6c0-4fa9-926a-c0aec5ab7b22",
   "metadata": {},
   "outputs": [],
   "source": [
    "def get_model(config):\n",
    "    if config['mode'] == 'photo':\n",
    "        model = Informer(config)\n",
    "    elif config['mode'] == 'spectra':\n",
    "        model = GalSpecNet(config)\n",
    "    elif config['mode'] == 'meta':\n",
    "        model = MetaModel(config)\n",
    "    else:\n",
    "        model = AstroModel(config)\n",
    "\n",
    "    return model"
   ]
  },
  {
   "cell_type": "code",
   "execution_count": 11,
   "id": "7ad26c22-ef2a-4f3f-83b2-06f88651c392",
   "metadata": {},
   "outputs": [],
   "source": [
    "def calc_results(run_id, last_epoch):\n",
    "    api = wandb.Api()\n",
    "    run = api.run(run_id)\n",
    "    config = run.config\n",
    "    \n",
    "    config['use_wandb'] = False\n",
    "    config['file'] = 'preprocessed_data/full_lb/spectra_and_v'\n",
    "    \n",
    "    test_dataset = PSMDataset(config, split='test')\n",
    "    test_dataloader = DataLoader(test_dataset, batch_size=config['batch_size'], shuffle=False)\n",
    "    device = torch.device('cuda' if torch.cuda.is_available() else 'cpu')\n",
    "    \n",
    "    model = get_model(config)\n",
    "    model = model.to(device)\n",
    "    \n",
    "    weights_path = os.path.join(config['weights_path'] + '-' + run_id.split('/')[-1], f'weights-{last_epoch}.pth')\n",
    "    model.load_state_dict(torch.load(weights_path, weights_only=False))\n",
    "\n",
    "    trainer = Trainer(model=model, optimizer=None, scheduler=None, warmup_scheduler=None, criterion=None, device=device, config=config)\n",
    "    conf_matrix = trainer.evaluate(test_dataloader, test_dataset.id2target)\n",
    "    conf_matrix_percent = 100 * conf_matrix / conf_matrix.sum(axis=1)[:, np.newaxis]\n",
    "    \n",
    "    acc = np.trace(conf_matrix) / np.sum(conf_matrix)\n",
    "    acc_percent = np.trace(conf_matrix_percent) / np.sum(conf_matrix_percent)\n",
    "    \n",
    "    return acc, acc_percent"
   ]
  },
  {
   "cell_type": "code",
   "execution_count": 12,
   "id": "806a41f0-fc8a-41e3-ad8b-aa996fa2dac7",
   "metadata": {},
   "outputs": [],
   "source": [
    "sub50 = {\n",
    "    'photo': ['uwi549ko', 'lasio95e', 'ssjgsf4o', '8pjmji36', 'ey93jptd'],\n",
    "    'spectra': ['9w2iy7if', 'uxdgxzzg', '20jf5fc3', 'apy0hwze', 'l8r1v87z'],\n",
    "    'meta': ['dnql8zxb', 'w4z8mc7g', '872t6r9u', 'pdk8lhmr', 'tiorlnpa'],\n",
    "    'all': ['awnlvghm', 'u7lhipcv', 'ibj38qtl', 'v268pfls', '10k7n8f8'],\n",
    "    'photoclip': ['6cfb67n2', 'u2xrn2es', '7ds9f4j0', 'yoel2uju', 'klhhmrgz'],\n",
    "    'spectraclip': ['jft4o7ll', '2ys1pu74', '0u83wkoo', 'ubyfjbl6', '6mhe95eb'],\n",
    "    'metaclip': ['6afyvxnq', 'f4lt4n3m', '1hlifayz', '30m8j9kv', 'a2pps0vg'],\n",
    "    'allclip': ['52fk0181', 'f4hvk7s9', 'xm2gkm0g', 'sf3f1fn7', '80s6j269']\n",
    "}\n",
    "\n",
    "sub25 = {\n",
    "    'photo': ['i16e091u', 'yq6wrwn8', 'khf2rzs1', '32po6rjv', '3oz9g756'],\n",
    "    'spectra': ['85x94bpe', 'k4pywvjv', 'dy7uliaw', 's66ifk69', 'rn3x84v9'],\n",
    "    'meta': ['5n21zp2m', 'e2jkak5c', '02zpe2gy', 'dado4tth', 'etn9tbcy'],\n",
    "    'all': ['wit0n3w3', 'w3d0xbe2', '96fwt2gx', 'du5zsfz6', '0k73x5qd'],\n",
    "    'photoclip': ['1xgyaljv', '35idhf4w', 'o8n5dti7', 'fhpmo60y', '4at8i8ji'],\n",
    "    'spectraclip': ['x1ec0yff', 'd5c3rhwz', 'kggejkom', '52xgy4wt', 'r5ctmuri'],\n",
    "    'metaclip': ['osxq73a0', 'p2ozjutp', 'sce7zk10', 'bw5lzst5', '8hhqrs6d'],\n",
    "    'allclip': ['a5peiq96', '05o27w72', 'xnbiygd1', '71qz3y5q', 'j8bnyk18']\n",
    "}\n",
    "\n",
    "sub10 = {\n",
    "    'photo': ['nq1bhy0w', 'ogd2l28v', 'yagx8pk7', 'eh9qmriw', 'mk9ckjb4'],\n",
    "    'spectra': ['vvljqb9o', 'bjnix390', 'wwrv3nut', 'pagk0jo5', '2dx7j4sy'],\n",
    "    'meta': ['qqjg8qk3', 'n38nru7q', 'xftkn3gw', 'dtcx3xqk', 'r5mqe2rp'],\n",
    "    'all': ['8hl6cpj7', 'h01wkom5', '5ivkbdrq', '5l9h32ak', 'thf3hzty'],\n",
    "    'photoclip': ['v9hs5mvj', 'vc0tj3ee', '451pr1oc', 'lit1jza0', 'xp3lxwkn'],\n",
    "    'spectraclip': ['x27wg2o5', 'gbp5cbc4', '0t8y55t8', 'hu285ze4', '3xe7g7ac'],\n",
    "    'metaclip': ['0sjxdzrr', 'fm8wkcdn', 'vsku583d', '68n5fsm7', 'plpa1d4x'],\n",
    "    'allclip': ['h4bq7juh', '7l1h5ak1', '6apkn9rt', 'hqwxn9df', 'eeur7zbf']\n",
    "}"
   ]
  },
  {
   "cell_type": "code",
   "execution_count": 13,
   "id": "451e469b-2eaa-4af9-b434-059298beadef",
   "metadata": {},
   "outputs": [
    {
     "name": "stdout",
     "output_type": "stream",
     "text": [
      "meta sub50\n"
     ]
    },
    {
     "name": "stderr",
     "output_type": "stream",
     "text": [
      "100%|████████████████████████████████████████████████████████████████████████████████████| 5/5 [00:01<00:00,  4.96it/s]\n",
      "100%|████████████████████████████████████████████████████████████████████████████████████| 5/5 [00:01<00:00,  4.74it/s]\n",
      "100%|████████████████████████████████████████████████████████████████████████████████████| 5/5 [00:01<00:00,  4.97it/s]\n",
      "100%|████████████████████████████████████████████████████████████████████████████████████| 5/5 [00:00<00:00,  5.00it/s]\n",
      "100%|████████████████████████████████████████████████████████████████████████████████████| 5/5 [00:00<00:00,  5.01it/s]\n"
     ]
    },
    {
     "name": "stdout",
     "output_type": "stream",
     "text": [
      "meta sub25\n"
     ]
    },
    {
     "name": "stderr",
     "output_type": "stream",
     "text": [
      "100%|████████████████████████████████████████████████████████████████████████████████████| 5/5 [00:00<00:00,  5.04it/s]\n",
      "100%|████████████████████████████████████████████████████████████████████████████████████| 5/5 [00:00<00:00,  5.04it/s]\n",
      "100%|████████████████████████████████████████████████████████████████████████████████████| 5/5 [00:01<00:00,  3.51it/s]\n",
      "100%|████████████████████████████████████████████████████████████████████████████████████| 5/5 [00:00<00:00,  5.04it/s]\n",
      "100%|████████████████████████████████████████████████████████████████████████████████████| 5/5 [00:00<00:00,  5.02it/s]\n"
     ]
    },
    {
     "name": "stdout",
     "output_type": "stream",
     "text": [
      "meta sub10\n"
     ]
    },
    {
     "name": "stderr",
     "output_type": "stream",
     "text": [
      "100%|████████████████████████████████████████████████████████████████████████████████████| 5/5 [00:01<00:00,  4.95it/s]\n",
      "100%|████████████████████████████████████████████████████████████████████████████████████| 5/5 [00:01<00:00,  4.94it/s]\n",
      "100%|████████████████████████████████████████████████████████████████████████████████████| 5/5 [00:01<00:00,  4.98it/s]\n",
      "100%|████████████████████████████████████████████████████████████████████████████████████| 5/5 [00:01<00:00,  4.96it/s]\n",
      "100%|████████████████████████████████████████████████████████████████████████████████████| 5/5 [00:01<00:00,  4.93it/s]\n"
     ]
    },
    {
     "name": "stdout",
     "output_type": "stream",
     "text": [
      "metaclip sub50\n"
     ]
    },
    {
     "name": "stderr",
     "output_type": "stream",
     "text": [
      "100%|████████████████████████████████████████████████████████████████████████████████████| 5/5 [00:01<00:00,  4.93it/s]\n",
      "100%|████████████████████████████████████████████████████████████████████████████████████| 5/5 [00:00<00:00,  5.00it/s]\n",
      "100%|████████████████████████████████████████████████████████████████████████████████████| 5/5 [00:00<00:00,  5.01it/s]\n",
      "100%|████████████████████████████████████████████████████████████████████████████████████| 5/5 [00:00<00:00,  5.00it/s]\n",
      "100%|████████████████████████████████████████████████████████████████████████████████████| 5/5 [00:00<00:00,  5.01it/s]\n"
     ]
    },
    {
     "name": "stdout",
     "output_type": "stream",
     "text": [
      "metaclip sub25\n"
     ]
    },
    {
     "name": "stderr",
     "output_type": "stream",
     "text": [
      "100%|████████████████████████████████████████████████████████████████████████████████████| 5/5 [00:00<00:00,  5.02it/s]\n",
      "/global/home/users/mariia/AstroML/notebooks/../core/final/trainer.py:248: RuntimeWarning: More than 20 figures have been opened. Figures created through the pyplot interface (`matplotlib.pyplot.figure`) are retained until explicitly closed and may consume too much memory. (To control this warning, see the rcParam `figure.max_open_warning`). Consider using `matplotlib.pyplot.close()`.\n",
      "  fig, axes = plt.subplots(nrows=1, ncols=2, figsize=(20, 7))\n",
      "100%|████████████████████████████████████████████████████████████████████████████████████| 5/5 [00:00<00:00,  5.02it/s]\n",
      "100%|████████████████████████████████████████████████████████████████████████████████████| 5/5 [00:01<00:00,  4.97it/s]\n",
      "100%|████████████████████████████████████████████████████████████████████████████████████| 5/5 [00:00<00:00,  5.00it/s]\n",
      "100%|████████████████████████████████████████████████████████████████████████████████████| 5/5 [00:01<00:00,  4.92it/s]\n"
     ]
    },
    {
     "name": "stdout",
     "output_type": "stream",
     "text": [
      "metaclip sub10\n"
     ]
    },
    {
     "name": "stderr",
     "output_type": "stream",
     "text": [
      "100%|████████████████████████████████████████████████████████████████████████████████████| 5/5 [00:01<00:00,  4.91it/s]\n",
      "100%|████████████████████████████████████████████████████████████████████████████████████| 5/5 [00:01<00:00,  4.98it/s]\n",
      "100%|████████████████████████████████████████████████████████████████████████████████████| 5/5 [00:01<00:00,  4.98it/s]\n",
      "100%|████████████████████████████████████████████████████████████████████████████████████| 5/5 [00:00<00:00,  5.03it/s]\n",
      "100%|████████████████████████████████████████████████████████████████████████████████████| 5/5 [00:01<00:00,  5.00it/s]\n"
     ]
    }
   ],
   "source": [
    "meta_sub_acc = {\n",
    "    'meta': {\n",
    "        'sub50': [],\n",
    "        'sub25': [],\n",
    "        'sub10': []\n",
    "    },\n",
    "    'metaclip': {\n",
    "        'sub50': [],\n",
    "        'sub25': [],\n",
    "        'sub10': []\n",
    "    }\n",
    "}\n",
    "\n",
    "for mode in meta_sub_acc:\n",
    "    for s in meta_sub_acc[mode]:\n",
    "        print(mode, s)\n",
    "        \n",
    "        if s == 'sub50':\n",
    "            runs = sub50[mode]\n",
    "        elif s == 'sub25':\n",
    "            runs = sub25[mode]\n",
    "        elif s == 'sub10':\n",
    "            runs = sub10[mode]\n",
    "\n",
    "        for r in runs:\n",
    "            acc, acc_percent = calc_results('MeriDK/AstroCLIPResults3/' + r, 'best')\n",
    "            meta_sub_acc[mode][s].append((acc, acc_percent))"
   ]
  },
  {
   "cell_type": "code",
   "execution_count": 14,
   "id": "1acaa2e6-eccd-4959-9016-6a2762b4d268",
   "metadata": {},
   "outputs": [
    {
     "name": "stdout",
     "output_type": "stream",
     "text": [
      "photo sub50\n"
     ]
    },
    {
     "name": "stderr",
     "output_type": "stream",
     "text": [
      "100%|████████████████████████████████████████████████████████████████████████████████████| 5/5 [00:08<00:00,  1.61s/it]\n",
      "100%|████████████████████████████████████████████████████████████████████████████████████| 5/5 [00:08<00:00,  1.61s/it]\n",
      "100%|████████████████████████████████████████████████████████████████████████████████████| 5/5 [00:08<00:00,  1.62s/it]\n",
      "100%|████████████████████████████████████████████████████████████████████████████████████| 5/5 [00:08<00:00,  1.61s/it]\n",
      "100%|████████████████████████████████████████████████████████████████████████████████████| 5/5 [00:08<00:00,  1.61s/it]\n"
     ]
    },
    {
     "name": "stdout",
     "output_type": "stream",
     "text": [
      "photo sub25\n"
     ]
    },
    {
     "name": "stderr",
     "output_type": "stream",
     "text": [
      "100%|████████████████████████████████████████████████████████████████████████████████████| 5/5 [00:08<00:00,  1.61s/it]\n",
      "100%|████████████████████████████████████████████████████████████████████████████████████| 5/5 [00:08<00:00,  1.62s/it]\n",
      "100%|████████████████████████████████████████████████████████████████████████████████████| 5/5 [00:08<00:00,  1.62s/it]\n",
      "100%|████████████████████████████████████████████████████████████████████████████████████| 5/5 [00:08<00:00,  1.63s/it]\n",
      "100%|████████████████████████████████████████████████████████████████████████████████████| 5/5 [00:08<00:00,  1.64s/it]\n"
     ]
    },
    {
     "name": "stdout",
     "output_type": "stream",
     "text": [
      "photo sub10\n"
     ]
    },
    {
     "name": "stderr",
     "output_type": "stream",
     "text": [
      "100%|████████████████████████████████████████████████████████████████████████████████████| 5/5 [00:08<00:00,  1.63s/it]\n",
      "100%|████████████████████████████████████████████████████████████████████████████████████| 5/5 [00:08<00:00,  1.62s/it]\n",
      "100%|████████████████████████████████████████████████████████████████████████████████████| 5/5 [00:08<00:00,  1.60s/it]\n",
      "100%|████████████████████████████████████████████████████████████████████████████████████| 5/5 [00:08<00:00,  1.61s/it]\n",
      "100%|████████████████████████████████████████████████████████████████████████████████████| 5/5 [00:08<00:00,  1.63s/it]\n"
     ]
    },
    {
     "name": "stdout",
     "output_type": "stream",
     "text": [
      "photoclip sub50\n"
     ]
    },
    {
     "name": "stderr",
     "output_type": "stream",
     "text": [
      "100%|████████████████████████████████████████████████████████████████████████████████████| 5/5 [00:08<00:00,  1.61s/it]\n",
      "100%|████████████████████████████████████████████████████████████████████████████████████| 5/5 [00:08<00:00,  1.61s/it]\n",
      "100%|████████████████████████████████████████████████████████████████████████████████████| 5/5 [00:08<00:00,  1.62s/it]\n",
      "100%|████████████████████████████████████████████████████████████████████████████████████| 5/5 [00:08<00:00,  1.60s/it]\n",
      "100%|████████████████████████████████████████████████████████████████████████████████████| 5/5 [00:08<00:00,  1.62s/it]\n"
     ]
    },
    {
     "name": "stdout",
     "output_type": "stream",
     "text": [
      "photoclip sub25\n"
     ]
    },
    {
     "name": "stderr",
     "output_type": "stream",
     "text": [
      "100%|████████████████████████████████████████████████████████████████████████████████████| 5/5 [00:08<00:00,  1.61s/it]\n",
      "100%|████████████████████████████████████████████████████████████████████████████████████| 5/5 [00:08<00:00,  1.61s/it]\n",
      "100%|████████████████████████████████████████████████████████████████████████████████████| 5/5 [00:08<00:00,  1.62s/it]\n",
      "100%|████████████████████████████████████████████████████████████████████████████████████| 5/5 [00:08<00:00,  1.62s/it]\n",
      "100%|████████████████████████████████████████████████████████████████████████████████████| 5/5 [00:08<00:00,  1.79s/it]\n"
     ]
    },
    {
     "name": "stdout",
     "output_type": "stream",
     "text": [
      "photoclip sub10\n"
     ]
    },
    {
     "name": "stderr",
     "output_type": "stream",
     "text": [
      "100%|████████████████████████████████████████████████████████████████████████████████████| 5/5 [00:08<00:00,  1.61s/it]\n",
      "100%|████████████████████████████████████████████████████████████████████████████████████| 5/5 [00:08<00:00,  1.61s/it]\n",
      "100%|████████████████████████████████████████████████████████████████████████████████████| 5/5 [00:07<00:00,  1.59s/it]\n",
      "100%|████████████████████████████████████████████████████████████████████████████████████| 5/5 [00:08<00:00,  1.64s/it]\n",
      "100%|████████████████████████████████████████████████████████████████████████████████████| 5/5 [00:08<00:00,  1.61s/it]\n"
     ]
    }
   ],
   "source": [
    "photo_sub_acc = {\n",
    "    'photo': {\n",
    "        'sub50': [],\n",
    "        'sub25': [],\n",
    "        'sub10': []\n",
    "    },\n",
    "    'photoclip': {\n",
    "        'sub50': [],\n",
    "        'sub25': [],\n",
    "        'sub10': []\n",
    "    }\n",
    "}\n",
    "\n",
    "for mode in photo_sub_acc:\n",
    "    for s in photo_sub_acc[mode]:\n",
    "        print(mode, s)\n",
    "        \n",
    "        if s == 'sub50':\n",
    "            runs = sub50[mode]\n",
    "        elif s == 'sub25':\n",
    "            runs = sub25[mode]\n",
    "        elif s == 'sub10':\n",
    "            runs = sub10[mode]\n",
    "\n",
    "        for r in runs:\n",
    "            acc, acc_percent = calc_results('MeriDK/AstroCLIPResults3/' + r, 'best')\n",
    "            photo_sub_acc[mode][s].append((acc, acc_percent))"
   ]
  },
  {
   "cell_type": "code",
   "execution_count": 21,
   "id": "8d219def-1305-474c-9738-f7a6345fcd03",
   "metadata": {},
   "outputs": [
    {
     "name": "stdout",
     "output_type": "stream",
     "text": [
      "spectra sub50\n"
     ]
    },
    {
     "name": "stderr",
     "output_type": "stream",
     "text": [
      "100%|████████████████████████████████████████████████████████████████████████████████████| 5/5 [00:28<00:00,  5.73s/it]\n",
      "100%|████████████████████████████████████████████████████████████████████████████████████| 5/5 [00:22<00:00,  4.42s/it]\n",
      "100%|████████████████████████████████████████████████████████████████████████████████████| 5/5 [00:23<00:00,  4.74s/it]\n",
      "100%|████████████████████████████████████████████████████████████████████████████████████| 5/5 [00:22<00:00,  4.59s/it]\n",
      "100%|████████████████████████████████████████████████████████████████████████████████████| 5/5 [00:24<00:00,  4.81s/it]\n"
     ]
    },
    {
     "name": "stdout",
     "output_type": "stream",
     "text": [
      "spectra sub25\n"
     ]
    },
    {
     "name": "stderr",
     "output_type": "stream",
     "text": [
      "100%|████████████████████████████████████████████████████████████████████████████████████| 5/5 [00:23<00:00,  4.68s/it]\n",
      "100%|████████████████████████████████████████████████████████████████████████████████████| 5/5 [00:23<00:00,  4.67s/it]\n",
      "100%|████████████████████████████████████████████████████████████████████████████████████| 5/5 [00:21<00:00,  4.39s/it]\n",
      "100%|████████████████████████████████████████████████████████████████████████████████████| 5/5 [00:22<00:00,  4.52s/it]\n",
      "100%|████████████████████████████████████████████████████████████████████████████████████| 5/5 [00:23<00:00,  4.61s/it]\n"
     ]
    },
    {
     "name": "stdout",
     "output_type": "stream",
     "text": [
      "spectra sub10\n"
     ]
    },
    {
     "name": "stderr",
     "output_type": "stream",
     "text": [
      "100%|████████████████████████████████████████████████████████████████████████████████████| 5/5 [00:24<00:00,  4.81s/it]\n",
      "100%|████████████████████████████████████████████████████████████████████████████████████| 5/5 [00:22<00:00,  4.55s/it]\n",
      "100%|████████████████████████████████████████████████████████████████████████████████████| 5/5 [00:23<00:00,  4.63s/it]\n",
      "100%|████████████████████████████████████████████████████████████████████████████████████| 5/5 [00:22<00:00,  4.57s/it]\n",
      "100%|████████████████████████████████████████████████████████████████████████████████████| 5/5 [00:23<00:00,  4.68s/it]\n"
     ]
    },
    {
     "name": "stdout",
     "output_type": "stream",
     "text": [
      "spectraclip sub50\n"
     ]
    },
    {
     "name": "stderr",
     "output_type": "stream",
     "text": [
      "100%|████████████████████████████████████████████████████████████████████████████████████| 5/5 [00:22<00:00,  4.48s/it]\n",
      "100%|████████████████████████████████████████████████████████████████████████████████████| 5/5 [00:23<00:00,  4.65s/it]\n",
      "100%|████████████████████████████████████████████████████████████████████████████████████| 5/5 [00:23<00:00,  4.62s/it]\n",
      "100%|████████████████████████████████████████████████████████████████████████████████████| 5/5 [00:21<00:00,  4.38s/it]\n",
      "100%|████████████████████████████████████████████████████████████████████████████████████| 5/5 [00:22<00:00,  4.46s/it]\n"
     ]
    },
    {
     "name": "stdout",
     "output_type": "stream",
     "text": [
      "spectraclip sub25\n"
     ]
    },
    {
     "name": "stderr",
     "output_type": "stream",
     "text": [
      "100%|████████████████████████████████████████████████████████████████████████████████████| 5/5 [00:24<00:00,  4.88s/it]\n",
      "100%|████████████████████████████████████████████████████████████████████████████████████| 5/5 [00:23<00:00,  4.68s/it]\n",
      "100%|████████████████████████████████████████████████████████████████████████████████████| 5/5 [00:22<00:00,  4.48s/it]\n",
      "100%|████████████████████████████████████████████████████████████████████████████████████| 5/5 [00:22<00:00,  4.55s/it]\n",
      "100%|████████████████████████████████████████████████████████████████████████████████████| 5/5 [00:22<00:00,  4.47s/it]\n"
     ]
    },
    {
     "name": "stdout",
     "output_type": "stream",
     "text": [
      "spectraclip sub10\n"
     ]
    },
    {
     "name": "stderr",
     "output_type": "stream",
     "text": [
      "100%|████████████████████████████████████████████████████████████████████████████████████| 5/5 [00:22<00:00,  4.49s/it]\n",
      "100%|████████████████████████████████████████████████████████████████████████████████████| 5/5 [00:23<00:00,  4.73s/it]\n",
      "100%|████████████████████████████████████████████████████████████████████████████████████| 5/5 [00:23<00:00,  4.78s/it]\n",
      "100%|████████████████████████████████████████████████████████████████████████████████████| 5/5 [00:23<00:00,  4.71s/it]\n",
      "100%|████████████████████████████████████████████████████████████████████████████████████| 5/5 [00:22<00:00,  4.59s/it]\n"
     ]
    }
   ],
   "source": [
    "spectra_sub_acc = {\n",
    "    'spectra': {\n",
    "        'sub50': [],\n",
    "        'sub25': [],\n",
    "        'sub10': []\n",
    "    },\n",
    "    'spectraclip': {\n",
    "        'sub50': [],\n",
    "        'sub25': [],\n",
    "        'sub10': []\n",
    "    }\n",
    "}\n",
    "\n",
    "for mode in spectra_sub_acc:\n",
    "    for s in spectra_sub_acc[mode]:\n",
    "        print(mode, s)\n",
    "        \n",
    "        if s == 'sub50':\n",
    "            runs = sub50[mode]\n",
    "        elif s == 'sub25':\n",
    "            runs = sub25[mode]\n",
    "        elif s == 'sub10':\n",
    "            runs = sub10[mode]\n",
    "\n",
    "        for r in runs:\n",
    "            acc, acc_percent = calc_results('MeriDK/AstroCLIPResults3/' + r, 'best')\n",
    "            spectra_sub_acc[mode][s].append((acc, acc_percent))"
   ]
  },
  {
   "cell_type": "code",
   "execution_count": 25,
   "id": "eb054fc6-f782-4386-bed6-228ae86b49f6",
   "metadata": {},
   "outputs": [
    {
     "name": "stdout",
     "output_type": "stream",
     "text": [
      "all sub50\n"
     ]
    },
    {
     "name": "stderr",
     "output_type": "stream",
     "text": [
      "100%|████████████████████████████████████████████████████████████████████████████████████| 5/5 [00:30<00:00,  6.13s/it]\n",
      "100%|████████████████████████████████████████████████████████████████████████████████████| 5/5 [00:30<00:00,  6.01s/it]\n",
      "100%|████████████████████████████████████████████████████████████████████████████████████| 5/5 [00:30<00:00,  6.10s/it]\n",
      "100%|████████████████████████████████████████████████████████████████████████████████████| 5/5 [00:31<00:00,  6.22s/it]\n",
      "100%|████████████████████████████████████████████████████████████████████████████████████| 5/5 [00:31<00:00,  6.31s/it]\n"
     ]
    },
    {
     "name": "stdout",
     "output_type": "stream",
     "text": [
      "all sub25\n"
     ]
    },
    {
     "name": "stderr",
     "output_type": "stream",
     "text": [
      "100%|████████████████████████████████████████████████████████████████████████████████████| 5/5 [00:30<00:00,  6.14s/it]\n",
      "100%|████████████████████████████████████████████████████████████████████████████████████| 5/5 [00:30<00:00,  6.05s/it]\n",
      "100%|████████████████████████████████████████████████████████████████████████████████████| 5/5 [00:30<00:00,  6.05s/it]\n",
      "100%|████████████████████████████████████████████████████████████████████████████████████| 5/5 [00:30<00:00,  6.10s/it]\n",
      "100%|████████████████████████████████████████████████████████████████████████████████████| 5/5 [00:30<00:00,  6.11s/it]\n"
     ]
    },
    {
     "name": "stdout",
     "output_type": "stream",
     "text": [
      "all sub10\n"
     ]
    },
    {
     "name": "stderr",
     "output_type": "stream",
     "text": [
      "100%|████████████████████████████████████████████████████████████████████████████████████| 5/5 [00:31<00:00,  6.29s/it]\n",
      "100%|████████████████████████████████████████████████████████████████████████████████████| 5/5 [00:30<00:00,  6.09s/it]\n",
      "100%|████████████████████████████████████████████████████████████████████████████████████| 5/5 [00:31<00:00,  6.20s/it]\n",
      "100%|████████████████████████████████████████████████████████████████████████████████████| 5/5 [00:30<00:00,  6.08s/it]\n",
      "100%|████████████████████████████████████████████████████████████████████████████████████| 5/5 [00:30<00:00,  6.09s/it]\n"
     ]
    },
    {
     "name": "stdout",
     "output_type": "stream",
     "text": [
      "allclip sub50\n"
     ]
    },
    {
     "name": "stderr",
     "output_type": "stream",
     "text": [
      "100%|████████████████████████████████████████████████████████████████████████████████████| 5/5 [00:31<00:00,  6.23s/it]\n",
      "100%|████████████████████████████████████████████████████████████████████████████████████| 5/5 [00:30<00:00,  6.18s/it]\n",
      "100%|████████████████████████████████████████████████████████████████████████████████████| 5/5 [00:31<00:00,  6.23s/it]\n",
      "100%|████████████████████████████████████████████████████████████████████████████████████| 5/5 [00:30<00:00,  6.17s/it]\n",
      "100%|████████████████████████████████████████████████████████████████████████████████████| 5/5 [00:30<00:00,  6.11s/it]\n"
     ]
    },
    {
     "name": "stdout",
     "output_type": "stream",
     "text": [
      "allclip sub25\n"
     ]
    },
    {
     "name": "stderr",
     "output_type": "stream",
     "text": [
      "100%|████████████████████████████████████████████████████████████████████████████████████| 5/5 [00:31<00:00,  6.27s/it]\n",
      "100%|████████████████████████████████████████████████████████████████████████████████████| 5/5 [00:31<00:00,  6.27s/it]\n",
      "100%|████████████████████████████████████████████████████████████████████████████████████| 5/5 [00:32<00:00,  6.57s/it]\n",
      "100%|████████████████████████████████████████████████████████████████████████████████████| 5/5 [00:30<00:00,  6.08s/it]\n",
      "100%|████████████████████████████████████████████████████████████████████████████████████| 5/5 [00:30<00:00,  6.06s/it]\n"
     ]
    },
    {
     "name": "stdout",
     "output_type": "stream",
     "text": [
      "allclip sub10\n"
     ]
    },
    {
     "name": "stderr",
     "output_type": "stream",
     "text": [
      "100%|████████████████████████████████████████████████████████████████████████████████████| 5/5 [00:31<00:00,  6.21s/it]\n",
      "100%|████████████████████████████████████████████████████████████████████████████████████| 5/5 [00:30<00:00,  6.09s/it]\n",
      "100%|████████████████████████████████████████████████████████████████████████████████████| 5/5 [00:30<00:00,  6.08s/it]\n",
      "100%|████████████████████████████████████████████████████████████████████████████████████| 5/5 [00:30<00:00,  6.12s/it]\n",
      "100%|████████████████████████████████████████████████████████████████████████████████████| 5/5 [00:30<00:00,  6.14s/it]\n"
     ]
    }
   ],
   "source": [
    "all_sub_acc = {\n",
    "    'all': {\n",
    "        'sub50': [],\n",
    "        'sub25': [],\n",
    "        'sub10': []\n",
    "    },\n",
    "    'allclip': {\n",
    "        'sub50': [],\n",
    "        'sub25': [],\n",
    "        'sub10': []\n",
    "    }\n",
    "}\n",
    "\n",
    "for mode in all_sub_acc:\n",
    "    for s in all_sub_acc[mode]:\n",
    "        print(mode, s)\n",
    "        \n",
    "        if s == 'sub50':\n",
    "            runs = sub50[mode]\n",
    "        elif s == 'sub25':\n",
    "            runs = sub25[mode]\n",
    "        elif s == 'sub10':\n",
    "            runs = sub10[mode]\n",
    "\n",
    "        for r in runs:\n",
    "            acc, acc_percent = calc_results('MeriDK/AstroCLIPResults3/' + r, 'best')\n",
    "            all_sub_acc[mode][s].append((acc, acc_percent))"
   ]
  },
  {
   "cell_type": "code",
   "execution_count": 16,
   "id": "9532ca9c-503b-48ae-97f8-5bc5c1e896dc",
   "metadata": {},
   "outputs": [
    {
     "name": "stdout",
     "output_type": "stream",
     "text": [
      "meta sub50 mean 82.591 std 0.645 min 81.945 max 83.236\n",
      "meta sub25 mean 79.975 std 0.604 min 79.371 max 80.58\n",
      "meta sub10 mean 76.188 std 0.548 min 75.64 max 76.736\n",
      "metaclip sub50 mean 83.511 std 0.399 min 83.112 max 83.91\n",
      "metaclip sub25 mean 83.218 std 0.692 min 82.526 max 83.91\n",
      "metaclip sub10 mean 78.16 std 0.272 min 77.888 max 78.432\n"
     ]
    }
   ],
   "source": [
    "for mode in meta_sub_acc:\n",
    "    for s in meta_sub_acc[mode]:   \n",
    "        acc = meta_sub_acc[mode][s][0]\n",
    "        mean = np.mean(acc)\n",
    "        std = np.std(acc)\n",
    "        print(mode, s, 'mean', round(mean * 100, 3), 'std', round(std * 100, 3), 'min', round((mean - std) * 100, 3), 'max', round((mean + std) * 100, 3))"
   ]
  },
  {
   "cell_type": "code",
   "execution_count": 17,
   "id": "f99d113b-18a8-46ef-b105-b2c670c79c5a",
   "metadata": {},
   "outputs": [
    {
     "name": "stdout",
     "output_type": "stream",
     "text": [
      "meta weighted sub50 mean 82.5 std 1.455 min 81.046 max 83.955\n",
      "meta weighted sub25 mean 79.673 std 0.077 min 79.596 max 79.75\n",
      "meta weighted sub10 mean 75.636 std 1.344 min 74.292 max 76.979\n",
      "metaclip weighted sub50 mean 83.568 std 0.027 min 83.541 max 83.596\n",
      "metaclip weighted sub25 mean 83.087 std 0.075 min 83.011 max 83.162\n",
      "metaclip weighted sub10 mean 78.037 std 2.172 min 75.865 max 80.21\n"
     ]
    }
   ],
   "source": [
    "for mode in meta_sub_acc:\n",
    "    for s in meta_sub_acc[mode]:   \n",
    "        acc = meta_sub_acc[mode][s][1]\n",
    "        mean = np.mean(acc)\n",
    "        std = np.std(acc)\n",
    "        print(mode, 'weighted', s, 'mean', round(mean * 100, 3), 'std', round(std * 100, 3), 'min', round((mean - std) * 100, 3), 'max', round((mean + std) * 100, 3))"
   ]
  },
  {
   "cell_type": "code",
   "execution_count": 18,
   "id": "79551309-214c-4a2c-8862-2a70f5aacdbf",
   "metadata": {},
   "outputs": [
    {
     "name": "stdout",
     "output_type": "stream",
     "text": [
      "photo sub50 mean 87.217 std 0.34 min 86.876 max 87.557\n",
      "photo sub25 mean 71.033 std 0.471 min 70.562 max 71.504\n",
      "photo sub10 mean 68.772 std 3.543 min 65.23 max 72.315\n",
      "photoclip sub50 mean 90.236 std 1.068 min 89.169 max 91.304\n",
      "photoclip sub25 mean 88.331 std 1.095 min 87.236 max 89.426\n",
      "photoclip sub10 mean 88.218 std 1.701 min 86.517 max 89.918\n"
     ]
    }
   ],
   "source": [
    "for mode in photo_sub_acc:\n",
    "    for s in photo_sub_acc[mode]:\n",
    "        acc = photo_sub_acc[mode][s][0]\n",
    "        mean = np.mean(acc)\n",
    "        std = np.std(acc)\n",
    "        print(mode, s, 'mean', round(mean * 100, 3), 'std', round(std * 100, 3), 'min', round((mean - std) * 100, 3), 'max', round((mean + std) * 100, 3))"
   ]
  },
  {
   "cell_type": "code",
   "execution_count": 20,
   "id": "8326b79c-d7c5-42c5-87fe-6bbd8667c90d",
   "metadata": {},
   "outputs": [
    {
     "name": "stdout",
     "output_type": "stream",
     "text": [
      "photo weighted sub50 mean 86.156 std 1.302 min 84.854 max 87.458\n",
      "photo weighted sub25 mean 59.581 std 6.772 min 52.809 max 66.352\n",
      "photo weighted sub10 mean 78.574 std 4.057 min 74.517 max 82.632\n",
      "photoclip weighted sub50 mean 88.811 std 1.305 min 87.506 max 90.116\n",
      "photoclip weighted sub25 mean 89.971 std 0.802 min 89.169 max 90.773\n",
      "photoclip weighted sub10 mean 87.912 std 2.429 min 85.483 max 90.342\n"
     ]
    }
   ],
   "source": [
    "for mode in photo_sub_acc:\n",
    "    for s in photo_sub_acc[mode]:\n",
    "        acc = photo_sub_acc[mode][s][1]\n",
    "        mean = np.mean(acc)\n",
    "        std = np.std(acc)\n",
    "        print(mode, 'weighted', s, 'mean', round(mean * 100, 3), 'std', round(std * 100, 3), 'min', round((mean - std) * 100, 3), 'max', round((mean + std) * 100, 3))"
   ]
  },
  {
   "cell_type": "code",
   "execution_count": 23,
   "id": "1638a30f-d7a0-4049-a722-c032d06db39b",
   "metadata": {},
   "outputs": [
    {
     "name": "stdout",
     "output_type": "stream",
     "text": [
      "spectra sub50 mean 68.046 std 5.572 min 62.474 max 73.618\n",
      "spectra sub25 mean 68.34 std 1.009 min 67.331 max 69.348\n",
      "spectra sub10 mean 45.939 std 0.757 min 45.182 max 46.697\n",
      "spectraclip sub50 mean 70.556 std 4.456 min 66.1 max 75.011\n",
      "spectraclip sub25 mean 68.34 std 3.301 min 65.039 max 71.64\n",
      "spectraclip sub10 mean 63.091 std 0.909 min 62.182 max 64.0\n"
     ]
    }
   ],
   "source": [
    "for mode in spectra_sub_acc:\n",
    "    for s in spectra_sub_acc[mode]:\n",
    "        acc = spectra_sub_acc[mode][s][0]\n",
    "        mean = np.mean(acc)\n",
    "        std = np.std(acc)\n",
    "        print(mode, s, 'mean', round(mean * 100, 3), 'std', round(std * 100, 3), 'min', round((mean - std) * 100, 3), 'max', round((mean + std) * 100, 3))"
   ]
  },
  {
   "cell_type": "code",
   "execution_count": 24,
   "id": "9521d294-90b5-4bd6-891d-4a281449f22f",
   "metadata": {},
   "outputs": [
    {
     "name": "stdout",
     "output_type": "stream",
     "text": [
      "spectra weighted sub50 mean 70.593 std 4.103 min 66.49 max 74.697\n",
      "spectra weighted sub25 mean 68.208 std 2.264 min 65.944 max 70.472\n",
      "spectra weighted sub10 mean 45.948 std 0.105 min 45.843 max 46.053\n",
      "spectraclip weighted sub50 mean 73.385 std 3.829 min 69.556 max 77.213\n",
      "spectraclip weighted sub25 mean 72.901 std 2.11 min 70.791 max 75.011\n",
      "spectraclip weighted sub10 mean 61.994 std 0.703 min 61.291 max 62.697\n"
     ]
    }
   ],
   "source": [
    "for mode in spectra_sub_acc:\n",
    "    for s in spectra_sub_acc[mode]:\n",
    "        acc = spectra_sub_acc[mode][s][1]\n",
    "        mean = np.mean(acc)\n",
    "        std = np.std(acc)\n",
    "        print(mode, 'weighted', s, 'mean', round(mean * 100, 3), 'std', round(std * 100, 3), 'min', round((mean - std) * 100, 3), 'max', round((mean + std) * 100, 3))"
   ]
  },
  {
   "cell_type": "code",
   "execution_count": 26,
   "id": "dfcf1242-be9e-4946-8d32-d86a452283da",
   "metadata": {},
   "outputs": [
    {
     "name": "stdout",
     "output_type": "stream",
     "text": [
      "all sub50 mean 92.152 std 0.063 min 92.09 max 92.215\n",
      "all sub25 mean 91.289 std 0.727 min 90.562 max 92.017\n",
      "all sub10 mean 87.657 std 1.32 min 86.337 max 88.977\n",
      "allclip sub50 mean 90.949 std 0.163 min 90.787 max 91.112\n",
      "allclip sub25 mean 91.374 std 0.048 min 91.326 max 91.422\n",
      "allclip sub10 mean 88.991 std 0.946 min 88.045 max 89.938\n"
     ]
    }
   ],
   "source": [
    "for mode in all_sub_acc:\n",
    "    for s in all_sub_acc[mode]:\n",
    "        acc = all_sub_acc[mode][s][0]\n",
    "        mean = np.mean(acc)\n",
    "        std = np.std(acc)\n",
    "        print(mode, s, 'mean', round(mean * 100, 3), 'std', round(std * 100, 3), 'min', round((mean - std) * 100, 3), 'max', round((mean + std) * 100, 3))"
   ]
  },
  {
   "cell_type": "code",
   "execution_count": 27,
   "id": "fb909b8d-6ec0-41f3-bb45-b80a64878af3",
   "metadata": {},
   "outputs": [
    {
     "name": "stdout",
     "output_type": "stream",
     "text": [
      "all weighted sub50 mean 94.644 std 0.442 min 94.202 max 95.086\n",
      "all weighted sub25 mean 91.846 std 1.06 min 90.787 max 92.906\n",
      "all weighted sub10 mean 87.537 std 0.66 min 86.876 max 88.197\n",
      "allclip weighted sub50 mean 94.44 std 1.137 min 93.303 max 95.577\n",
      "allclip weighted sub25 mean 92.28 std 1.674 min 90.607 max 93.954\n",
      "allclip weighted sub10 mean 89.983 std 0.545 min 89.438 max 90.528\n"
     ]
    }
   ],
   "source": [
    "for mode in all_sub_acc:\n",
    "    for s in all_sub_acc[mode]:\n",
    "        acc = all_sub_acc[mode][s][1]\n",
    "        mean = np.mean(acc)\n",
    "        std = np.std(acc)\n",
    "        print(mode, 'weighted', s, 'mean', round(mean * 100, 3), 'std', round(std * 100, 3), 'min', round((mean - std) * 100, 3), 'max', round((mean + std) * 100, 3))"
   ]
  },
  {
   "cell_type": "code",
   "execution_count": null,
   "id": "1cfc8c36-eef3-4963-9d11-18ff928adeb1",
   "metadata": {},
   "outputs": [],
   "source": []
  },
  {
   "cell_type": "code",
   "execution_count": null,
   "id": "c32547ad-7025-489c-b5e8-5bf7eb642450",
   "metadata": {},
   "outputs": [],
   "source": []
  },
  {
   "cell_type": "code",
   "execution_count": null,
   "id": "18c44fd9-812a-453e-9afc-da68fc03db4a",
   "metadata": {},
   "outputs": [],
   "source": []
  }
 ],
 "metadata": {
  "kernelspec": {
   "display_name": "Python 3 (ipykernel)",
   "language": "python",
   "name": "python3"
  },
  "language_info": {
   "codemirror_mode": {
    "name": "ipython",
    "version": 3
   },
   "file_extension": ".py",
   "mimetype": "text/x-python",
   "name": "python",
   "nbconvert_exporter": "python",
   "pygments_lexer": "ipython3",
   "version": "3.10.14"
  }
 },
 "nbformat": 4,
 "nbformat_minor": 5
}

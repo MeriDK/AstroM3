{
 "cells": [
  {
   "cell_type": "code",
   "execution_count": 28,
   "id": "3011281d-1d23-4ba2-92f5-3c0ee68e7182",
   "metadata": {},
   "source": [
    "import sys\n",
    "sys.path.insert(0, '..')\n",
    "\n",
    "import math\n",
    "import torch\n",
    "from torch.utils.data import DataLoader\n",
    "import matplotlib.pyplot as plt\n",
    "from tqdm import tqdm\n",
    "\n",
    "from models.Informer import Informer\n",
    "from dev.multimodal.dataset2 import VGDataset"
   ],
   "outputs": []
  },
  {
   "cell_type": "code",
   "execution_count": 29,
   "id": "bfd6f786-0b04-4888-9f62-ac05d161b340",
   "metadata": {},
   "source": [
    "train_dataset = VGDataset('/home/mariia/AstroML/data/asassn', 'v.csv')\n",
    "train_dataloader = DataLoader(train_dataset, batch_size=16, shuffle=False)"
   ],
   "outputs": []
  },
  {
   "cell_type": "code",
   "execution_count": 5,
   "id": "dbdb115b-800d-48ac-b483-f5ebbe5c22ee",
   "metadata": {},
   "source": [
    "model = Informer(enc_in=3, d_model=128, dropout=0, n_heads=4, d_ff=512, e_layers=2, seq_len=200, num_class=train_dataset.num_classes)"
   ],
   "outputs": []
  },
  {
   "cell_type": "code",
   "execution_count": 18,
   "id": "bb056966-68cd-4f89-b620-a926eb11ccf3",
   "metadata": {},
   "source": [
    "X, mask, y = next(iter(train_dataloader))\n",
    "out = model(X, mask)\n",
    "out"
   ],
   "outputs": []
  },
  {
   "cell_type": "code",
   "execution_count": 32,
   "id": "6f593565-b9d5-41b9-a64e-80dd72c372c6",
   "metadata": {},
   "source": [
    "X.shape"
   ],
   "outputs": []
  },
  {
   "cell_type": "code",
   "execution_count": 30,
   "id": "747647ed-e3fe-49b9-ab7c-784dad98b5c8",
   "metadata": {},
   "source": [
    "for i in tqdm(range(len(train_dataset))):\n",
    "    try:\n",
    "        train_dataset[i]\n",
    "    except:\n",
    "        print(i)\n",
    "        break"
   ],
   "outputs": []
  },
  {
   "cell_type": "code",
   "execution_count": 31,
   "id": "929a8871-bb7c-4704-9bd9-6e977ba33370",
   "metadata": {},
   "source": [
    "train_dataset[5464]"
   ],
   "outputs": []
  },
  {
   "cell_type": "code",
   "execution_count": 25,
   "id": "49d53af2-e065-4b22-83a5-7c1fe243d0b3",
   "metadata": {},
   "source": [
    "train_dataset.df.iloc[65]"
   ],
   "outputs": []
  },
  {
   "cell_type": "code",
   "execution_count": 27,
   "id": "35ef8b4a-8ea6-4d05-b004-b2476cc59ad1",
   "metadata": {},
   "source": [
    "train_dataset.get_vlc('ASASSN-VJ075659.95-374113.1')"
   ],
   "outputs": []
  },
  {
   "cell_type": "code",
   "execution_count": null,
   "id": "b34a62f9-0a16-4bb1-91a3-4b905b130274",
   "metadata": {},
   "source": [
    "df = pd.open_csv('')"
   ],
   "outputs": []
  },
  {
   "cell_type": "code",
   "execution_count": null,
   "id": "55510286-27b4-4622-bd94-b12bd72ee9ee",
   "metadata": {},
   "source": [],
   "outputs": []
  },
  {
   "cell_type": "code",
   "execution_count": null,
   "id": "1ac7e47f-3e7e-48bc-894b-78b557d7f62f",
   "metadata": {},
   "source": [],
   "outputs": []
  },
  {
   "cell_type": "code",
   "execution_count": 33,
   "id": "c89fa903-f5c2-4e7d-9dcb-54d85b5941ae",
   "metadata": {},
   "source": [
    "max_len = 5000\n",
    "d_model = 128\n",
    "seq_len = 200\n",
    "\n",
    "pe = torch.zeros(max_len, d_model).float()\n",
    "position = torch.arange(0, max_len).float().unsqueeze(1)\n",
    "div_term = (torch.arange(0, d_model, 2).float() * -(math.log(10000.0) / d_model)).exp()"
   ],
   "outputs": []
  },
  {
   "cell_type": "code",
   "execution_count": 10,
   "id": "72737a13-fbe2-4ce8-932f-c587862cee3b",
   "metadata": {},
   "source": [
    "plt.plot(position[:, 0])"
   ],
   "outputs": []
  },
  {
   "cell_type": "code",
   "execution_count": 12,
   "id": "159fb2d4-07d6-4bb6-adb1-7db70a026f0b",
   "metadata": {},
   "source": [
    "plt.plot(div_term)"
   ],
   "outputs": []
  },
  {
   "cell_type": "code",
   "execution_count": 24,
   "id": "e96f971b-1d74-4e04-9933-703b0b7a2550",
   "metadata": {},
   "source": [
    "plt.plot(torch.cos(position * div_term)[5])"
   ],
   "outputs": []
  },
  {
   "cell_type": "code",
   "execution_count": 35,
   "id": "c3876987-85cd-4ee7-a543-c02144897a6a",
   "metadata": {},
   "source": [
    "pe[:, 0::2] = torch.sin(position * div_term)\n",
    "pe[:, 1::2] = torch.cos(position * div_term)"
   ],
   "outputs": []
  },
  {
   "cell_type": "code",
   "execution_count": 37,
   "id": "596d19fd-aa3f-4a95-a630-c3a244e35251",
   "metadata": {},
   "source": [
    "pe = pe[:seq_len]"
   ],
   "outputs": []
  },
  {
   "cell_type": "code",
   "execution_count": 54,
   "id": "bc5fed20-aadd-4333-9e06-b99d0b7ba796",
   "metadata": {},
   "source": [
    "plt.plot(pe[128])"
   ],
   "outputs": []
  },
  {
   "cell_type": "code",
   "execution_count": null,
   "id": "ad0ca5c1-f58c-42cc-b377-0130ea108108",
   "metadata": {},
   "source": [],
   "outputs": []
  }
 ],
 "metadata": {
  "kernelspec": {
   "display_name": "Python 3 (ipykernel)",
   "language": "python",
   "name": "python3"
  },
  "language_info": {
   "codemirror_mode": {
    "name": "ipython",
    "version": 3
   },
   "file_extension": ".py",
   "mimetype": "text/x-python",
   "name": "python",
   "nbconvert_exporter": "python",
   "pygments_lexer": "ipython3",
   "version": "3.10.14"
  }
 },
 "nbformat": 4,
 "nbformat_minor": 5
}

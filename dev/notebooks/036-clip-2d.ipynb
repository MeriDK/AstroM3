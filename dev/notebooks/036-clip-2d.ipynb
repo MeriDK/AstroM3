{
 "cells": [
  {
   "cell_type": "code",
   "execution_count": 24,
   "id": "40529351-3380-4dc4-a7e9-b1fa8a27cf8c",
   "metadata": {},
   "outputs": [],
   "source": [
    "import sys\n",
    "sys.path.insert(0, '..')\n",
    "\n",
    "import torch\n",
    "import os\n",
    "import wandb\n",
    "import random\n",
    "import numpy as np\n",
    "import torch\n",
    "from torch import nn\n",
    "from torch.optim import Adam\n",
    "from ignite.handlers.param_scheduler import create_lr_scheduler_with_warmup\n",
    "from torch.utils.data import DataLoader\n",
    "from datetime import datetime\n",
    "import matplotlib.pyplot as plt\n",
    "import pandas as pd\n",
    "from scipy import stats\n",
    "from tqdm import tqdm\n",
    "from matplotlib import cm\n",
    "import seaborn as sns\n",
    "import matplotlib.lines as mlines\n",
    "from sklearn.decomposition import PCA\n",
    "from openTSNE import TSNE\n",
    "from PIL import Image\n",
    "import umap\n",
    "import torch.nn.functional as F\n",
    "from scipy.spatial.distance import cdist\n",
    "from torch.optim.lr_scheduler import ExponentialLR, ReduceLROnPlateau\n",
    "\n",
    "from core.final.dataset import PSMDataset\n",
    "from core.final.model import GalSpecNet, MetaModel, Informer, AstroModel\n",
    "from core.final.trainer import Trainer\n",
    "from core.final.loss import CLIPLoss"
   ]
  },
  {
   "cell_type": "code",
   "execution_count": 19,
   "id": "083b8d91-c2cd-4f9c-9d51-5bad591cdc7a",
   "metadata": {},
   "outputs": [],
   "source": [
    "def set_random_seeds(random_seed):\n",
    "    torch.manual_seed(random_seed)\n",
    "    torch.cuda.manual_seed(random_seed)\n",
    "    np.random.seed(random_seed)\n",
    "    random.seed(random_seed)\n",
    "    torch.backends.cudnn.deterministic = True\n",
    "    torch.backends.cudnn.benchmark = False\n",
    "\n",
    "set_random_seeds(42)"
   ]
  },
  {
   "cell_type": "code",
   "execution_count": 44,
   "id": "3d2fd609-6ad4-4048-a5ac-9082929e3641",
   "metadata": {},
   "outputs": [],
   "source": [
    "class Model2D(nn.Module):\n",
    "    def __init__(self, encoder):\n",
    "        super(Model2D, self).__init__()\n",
    "\n",
    "        self.encoder = encoder\n",
    "        \n",
    "        for param in self.encoder.parameters():\n",
    "            param.requires_grad = False\n",
    "\n",
    "        self.p_fc = nn.Linear(encoder.photometry_proj.out_features, 2)\n",
    "        self.s_fc = nn.Linear(encoder.spectra_proj.out_features, 2)\n",
    "        self.m_fc = nn.Linear(encoder.metadata_proj.out_features, 2)\n",
    "\n",
    "    def forward(self, photometry, photometry_mask, spectra, metadata):\n",
    "        p_emb, s_emb, m_emb = self.encoder.get_embeddings(photometry, photometry_mask, spectra, metadata)\n",
    "        \n",
    "        p_emb = self.p_fc(p_emb)\n",
    "        s_emb = self.s_fc(s_emb)\n",
    "        m_emb = self.m_fc(m_emb)\n",
    "\n",
    "        logits_ps = p_emb @ s_emb.T\n",
    "        logits_sm = s_emb @ m_emb.T\n",
    "        logits_mp = m_emb @ p_emb.T\n",
    "\n",
    "        return logits_ps, logits_sm, logits_mp"
   ]
  },
  {
   "cell_type": "code",
   "execution_count": 46,
   "id": "6a90e6f6-479b-47e3-9625-d22f6e9b7a92",
   "metadata": {},
   "outputs": [
    {
     "data": {
      "text/plain": [
       "<All keys matched successfully>"
      ]
     },
     "execution_count": 46,
     "metadata": {},
     "output_type": "execute_result"
    }
   ],
   "source": [
    "run_id = 'MeriDK/AstroCLIPResults3/2wz4ysvn'\n",
    "api = wandb.Api()\n",
    "run = api.run(run_id)\n",
    "config = run.config\n",
    "config['use_wandb'] = False\n",
    "config['save_weights'] = False\n",
    "\n",
    "train_dataset = PSMDataset(config, split='train')\n",
    "val_dataset = PSMDataset(config, split='val')\n",
    "\n",
    "train_dataloader = DataLoader(train_dataset, batch_size=config['batch_size'], shuffle=True, drop_last=True,\n",
    "                              num_workers=4)\n",
    "val_dataloader = DataLoader(val_dataset, batch_size=config['batch_size'], shuffle=False)\n",
    "\n",
    "device = torch.device('cuda:1' if torch.cuda.is_available() else 'cpu')\n",
    "\n",
    "encoder = AstroModel(config)\n",
    "encoder = encoder.to(device)\n",
    "\n",
    "weights_path = os.path.join(config['weights_path'] + '-' + run_id.split('/')[-1], f'weights-best.pth')\n",
    "encoder.load_state_dict(torch.load(weights_path, weights_only=False))"
   ]
  },
  {
   "cell_type": "code",
   "execution_count": 51,
   "id": "08484ba9-4208-4d2d-9126-9100c9b80a18",
   "metadata": {},
   "outputs": [],
   "source": [
    "model = Model2D(encoder)\n",
    "model = model.to(device)\n",
    "\n",
    "optimizer = Adam(model.parameters(), lr=0.001)\n",
    "scheduler = ReduceLROnPlateau(optimizer, mode='min', factor=config['factor'], patience=100)\n",
    "criterion = CLIPLoss()"
   ]
  },
  {
   "cell_type": "code",
   "execution_count": 52,
   "id": "7c91c9a3-17c3-48ea-9c12-8cf34cb216ea",
   "metadata": {},
   "outputs": [],
   "source": [
    "trainer = Trainer(model=model, optimizer=optimizer, scheduler=scheduler, warmup_scheduler=None,\n",
    "                  criterion=criterion, device=device, config=config)"
   ]
  },
  {
   "cell_type": "code",
   "execution_count": 49,
   "id": "0252e0a6-971e-4745-866d-3bf6caca0855",
   "metadata": {},
   "outputs": [
    {
     "name": "stderr",
     "output_type": "stream",
     "text": [
      "100%|██████████████████████████████████████████████████████████████████████████████████| 33/33 [01:15<00:00,  2.28s/it]\n"
     ]
    },
    {
     "data": {
      "text/plain": [
       "(37.09469858805338, 0.006865530303030303)"
      ]
     },
     "execution_count": 49,
     "metadata": {},
     "output_type": "execute_result"
    }
   ],
   "source": [
    "trainer.train_epoch(train_dataloader)"
   ]
  },
  {
   "cell_type": "code",
   "execution_count": 53,
   "id": "8d8cad90-81e9-4b64-9ec7-90e69f71f5d0",
   "metadata": {},
   "outputs": [
    {
     "name": "stderr",
     "output_type": "stream",
     "text": [
      "100%|██████████████████████████████████████████████████████████████████████████████████| 33/33 [01:13<00:00,  2.24s/it]\n"
     ]
    },
    {
     "name": "stdout",
     "output_type": "stream",
     "text": [
      "(37.39053645278468, 0.006865530303030303)\n"
     ]
    },
    {
     "name": "stderr",
     "output_type": "stream",
     "text": [
      "100%|██████████████████████████████████████████████████████████████████████████████████| 33/33 [01:06<00:00,  2.02s/it]\n"
     ]
    },
    {
     "name": "stdout",
     "output_type": "stream",
     "text": [
      "(37.12201898748224, 0.006036931818181818)\n"
     ]
    },
    {
     "name": "stderr",
     "output_type": "stream",
     "text": [
      "100%|██████████████████████████████████████████████████████████████████████████████████| 33/33 [01:11<00:00,  2.16s/it]\n"
     ]
    },
    {
     "name": "stdout",
     "output_type": "stream",
     "text": [
      "(36.51737860477332, 0.004853219696969697)\n"
     ]
    },
    {
     "name": "stderr",
     "output_type": "stream",
     "text": [
      "100%|██████████████████████████████████████████████████████████████████████████████████| 33/33 [01:06<00:00,  2.03s/it]\n"
     ]
    },
    {
     "name": "stdout",
     "output_type": "stream",
     "text": [
      "(35.68340116558653, 0.005504261363636364)\n"
     ]
    },
    {
     "name": "stderr",
     "output_type": "stream",
     "text": [
      "100%|██████████████████████████████████████████████████████████████████████████████████| 33/33 [01:14<00:00,  2.27s/it]\n"
     ]
    },
    {
     "name": "stdout",
     "output_type": "stream",
     "text": [
      "(34.80293435761423, 0.006273674242424242)\n"
     ]
    },
    {
     "name": "stderr",
     "output_type": "stream",
     "text": [
      "100%|██████████████████████████████████████████████████████████████████████████████████| 33/33 [01:12<00:00,  2.20s/it]\n"
     ]
    },
    {
     "name": "stdout",
     "output_type": "stream",
     "text": [
      "(33.982115774443656, 0.007990056818181818)\n"
     ]
    },
    {
     "name": "stderr",
     "output_type": "stream",
     "text": [
      "100%|██████████████████████████████████████████████████████████████████████████████████| 33/33 [01:05<00:00,  1.99s/it]\n"
     ]
    },
    {
     "name": "stdout",
     "output_type": "stream",
     "text": [
      "(33.29389109756007, 0.008937026515151516)\n"
     ]
    },
    {
     "name": "stderr",
     "output_type": "stream",
     "text": [
      "100%|██████████████████████████████████████████████████████████████████████████████████| 33/33 [01:11<00:00,  2.17s/it]\n"
     ]
    },
    {
     "name": "stdout",
     "output_type": "stream",
     "text": [
      "(32.77563291607481, 0.00946969696969697)\n"
     ]
    },
    {
     "name": "stderr",
     "output_type": "stream",
     "text": [
      "100%|██████████████████████████████████████████████████████████████████████████████████| 33/33 [01:06<00:00,  2.03s/it]\n"
     ]
    },
    {
     "name": "stdout",
     "output_type": "stream",
     "text": [
      "(32.39620104703036, 0.010179924242424242)\n"
     ]
    },
    {
     "name": "stderr",
     "output_type": "stream",
     "text": [
      "100%|██████████████████████████████████████████████████████████████████████████████████| 33/33 [01:13<00:00,  2.23s/it]"
     ]
    },
    {
     "name": "stdout",
     "output_type": "stream",
     "text": [
      "(32.10403800733162, 0.011955492424242424)\n"
     ]
    },
    {
     "name": "stderr",
     "output_type": "stream",
     "text": [
      "\n"
     ]
    }
   ],
   "source": [
    "for _ in range(10):\n",
    "    print(trainer.train_epoch(train_dataloader))"
   ]
  },
  {
   "cell_type": "code",
   "execution_count": 54,
   "id": "d1b9fe09-9054-4af7-9972-f8da984abda1",
   "metadata": {},
   "outputs": [
    {
     "name": "stderr",
     "output_type": "stream",
     "text": [
      "100%|██████████████████████████████████████████████████████████████████████████████████| 33/33 [01:12<00:00,  2.21s/it]\n"
     ]
    },
    {
     "name": "stdout",
     "output_type": "stream",
     "text": [
      "(31.90328257011645, 0.011541193181818182)\n"
     ]
    },
    {
     "name": "stderr",
     "output_type": "stream",
     "text": [
      "100%|██████████████████████████████████████████████████████████████████████████████████| 33/33 [01:13<00:00,  2.22s/it]\n"
     ]
    },
    {
     "name": "stdout",
     "output_type": "stream",
     "text": [
      "(31.720818664088394, 0.012251420454545454)\n"
     ]
    },
    {
     "name": "stderr",
     "output_type": "stream",
     "text": [
      "100%|██████████████████████████████████████████████████████████████████████████████████| 33/33 [01:07<00:00,  2.04s/it]\n"
     ]
    },
    {
     "name": "stdout",
     "output_type": "stream",
     "text": [
      "(31.579286806511156, 0.011955492424242424)\n"
     ]
    },
    {
     "name": "stderr",
     "output_type": "stream",
     "text": [
      "100%|██████████████████████████████████████████████████████████████████████████████████| 33/33 [01:13<00:00,  2.22s/it]\n"
     ]
    },
    {
     "name": "stdout",
     "output_type": "stream",
     "text": [
      "(31.454520081028793, 0.011541193181818182)\n"
     ]
    },
    {
     "name": "stderr",
     "output_type": "stream",
     "text": [
      "100%|██████████████████████████████████████████████████████████████████████████████████| 33/33 [01:13<00:00,  2.23s/it]\n"
     ]
    },
    {
     "name": "stdout",
     "output_type": "stream",
     "text": [
      "(31.35578658364036, 0.01260653409090909)\n"
     ]
    },
    {
     "name": "stderr",
     "output_type": "stream",
     "text": [
      "100%|██████████████████████████████████████████████████████████████████████████████████| 33/33 [01:13<00:00,  2.24s/it]\n"
     ]
    },
    {
     "name": "stdout",
     "output_type": "stream",
     "text": [
      "(31.263608412309125, 0.01278409090909091)\n"
     ]
    },
    {
     "name": "stderr",
     "output_type": "stream",
     "text": [
      "100%|██████████████████████████████████████████████████████████████████████████████████| 33/33 [01:05<00:00,  1.99s/it]\n"
     ]
    },
    {
     "name": "stdout",
     "output_type": "stream",
     "text": [
      "(31.189086451674953, 0.012133049242424242)\n"
     ]
    },
    {
     "name": "stderr",
     "output_type": "stream",
     "text": [
      "100%|██████████████████████████████████████████████████████████████████████████████████| 33/33 [01:12<00:00,  2.20s/it]\n"
     ]
    },
    {
     "name": "stdout",
     "output_type": "stream",
     "text": [
      "(31.12359717397979, 0.01201467803030303)\n"
     ]
    },
    {
     "name": "stderr",
     "output_type": "stream",
     "text": [
      "100%|██████████████████████████████████████████████████████████████████████████████████| 33/33 [01:07<00:00,  2.04s/it]\n"
     ]
    },
    {
     "name": "stdout",
     "output_type": "stream",
     "text": [
      "(31.062447114424273, 0.012369791666666666)\n"
     ]
    },
    {
     "name": "stderr",
     "output_type": "stream",
     "text": [
      "100%|██████████████████████████████████████████████████████████████████████████████████| 33/33 [01:06<00:00,  2.03s/it]\n"
     ]
    },
    {
     "name": "stdout",
     "output_type": "stream",
     "text": [
      "(31.011917287653144, 0.013139204545454546)\n"
     ]
    },
    {
     "name": "stderr",
     "output_type": "stream",
     "text": [
      "100%|██████████████████████████████████████████████████████████████████████████████████| 33/33 [01:06<00:00,  2.03s/it]\n"
     ]
    },
    {
     "name": "stdout",
     "output_type": "stream",
     "text": [
      "(30.97715123494466, 0.01231060606060606)\n"
     ]
    },
    {
     "name": "stderr",
     "output_type": "stream",
     "text": [
      "100%|██████████████████████████████████████████████████████████████████████████████████| 33/33 [01:12<00:00,  2.21s/it]\n"
     ]
    },
    {
     "name": "stdout",
     "output_type": "stream",
     "text": [
      "(30.920073769309305, 0.012902462121212122)\n"
     ]
    },
    {
     "name": "stderr",
     "output_type": "stream",
     "text": [
      "100%|██████████████████████████████████████████████████████████████████████████████████| 33/33 [01:12<00:00,  2.19s/it]\n"
     ]
    },
    {
     "name": "stdout",
     "output_type": "stream",
     "text": [
      "(30.88878024708141, 0.012488162878787878)\n"
     ]
    },
    {
     "name": "stderr",
     "output_type": "stream",
     "text": [
      "100%|██████████████████████████████████████████████████████████████████████████████████| 33/33 [01:06<00:00,  2.02s/it]\n"
     ]
    },
    {
     "name": "stdout",
     "output_type": "stream",
     "text": [
      "(30.86374230818315, 0.012902462121212122)\n"
     ]
    },
    {
     "name": "stderr",
     "output_type": "stream",
     "text": [
      "100%|██████████████████████████████████████████████████████████████████████████████████| 33/33 [01:06<00:00,  2.02s/it]\n"
     ]
    },
    {
     "name": "stdout",
     "output_type": "stream",
     "text": [
      "(30.818633744210906, 0.01337594696969697)\n"
     ]
    },
    {
     "name": "stderr",
     "output_type": "stream",
     "text": [
      "100%|██████████████████████████████████████████████████████████████████████████████████| 33/33 [01:05<00:00,  2.00s/it]\n"
     ]
    },
    {
     "name": "stdout",
     "output_type": "stream",
     "text": [
      "(30.788153619477242, 0.014382102272727272)\n"
     ]
    },
    {
     "name": "stderr",
     "output_type": "stream",
     "text": [
      "100%|██████████████████████████████████████████████████████████████████████████████████| 33/33 [01:05<00:00,  1.99s/it]\n"
     ]
    },
    {
     "name": "stdout",
     "output_type": "stream",
     "text": [
      "(30.770468162767816, 0.012843276515151516)\n"
     ]
    },
    {
     "name": "stderr",
     "output_type": "stream",
     "text": [
      "100%|██████████████████████████████████████████████████████████████████████████████████| 33/33 [01:07<00:00,  2.05s/it]\n"
     ]
    },
    {
     "name": "stdout",
     "output_type": "stream",
     "text": [
      "(30.758460073760062, 0.014145359848484848)\n"
     ]
    },
    {
     "name": "stderr",
     "output_type": "stream",
     "text": [
      "100%|██████████████████████████████████████████████████████████████████████████████████| 33/33 [01:06<00:00,  2.01s/it]\n"
     ]
    },
    {
     "name": "stdout",
     "output_type": "stream",
     "text": [
      "(30.742785309300277, 0.013671875)\n"
     ]
    },
    {
     "name": "stderr",
     "output_type": "stream",
     "text": [
      "100%|██████████████████████████████████████████████████████████████████████████████████| 33/33 [01:11<00:00,  2.16s/it]"
     ]
    },
    {
     "name": "stdout",
     "output_type": "stream",
     "text": [
      "(30.720117915760387, 0.014026988636363636)\n"
     ]
    },
    {
     "name": "stderr",
     "output_type": "stream",
     "text": [
      "\n"
     ]
    }
   ],
   "source": [
    "for _ in range(20):\n",
    "    print(trainer.train_epoch(train_dataloader))"
   ]
  },
  {
   "cell_type": "code",
   "execution_count": null,
   "id": "cf82a2b9-f306-42f7-a3ec-fb6dc83755c2",
   "metadata": {},
   "outputs": [],
   "source": []
  },
  {
   "cell_type": "code",
   "execution_count": null,
   "id": "71305093-5bae-44ac-a5e8-2d3f38f0c241",
   "metadata": {},
   "outputs": [],
   "source": []
  },
  {
   "cell_type": "code",
   "execution_count": null,
   "id": "e6b0ce30-4ca2-4ad0-8a83-af31d51307bd",
   "metadata": {},
   "outputs": [],
   "source": []
  },
  {
   "cell_type": "code",
   "execution_count": 34,
   "id": "28049741-12f6-4184-8d5b-2bab8df8881d",
   "metadata": {},
   "outputs": [
    {
     "name": "stderr",
     "output_type": "stream",
     "text": [
      "  0%|                                                                                           | 0/33 [00:17<?, ?it/s]\n"
     ]
    },
    {
     "ename": "ValueError",
     "evalue": "too many values to unpack (expected 3)",
     "output_type": "error",
     "traceback": [
      "\u001b[0;31m---------------------------------------------------------------------------\u001b[0m",
      "\u001b[0;31mValueError\u001b[0m                                Traceback (most recent call last)",
      "Cell \u001b[0;32mIn[34], line 12\u001b[0m\n\u001b[1;32m      9\u001b[0m spectra, metadata \u001b[38;5;241m=\u001b[39m spectra\u001b[38;5;241m.\u001b[39mto(device), metadata\u001b[38;5;241m.\u001b[39mto(device)\n\u001b[1;32m     11\u001b[0m optimizer\u001b[38;5;241m.\u001b[39mzero_grad()\n\u001b[0;32m---> 12\u001b[0m logits_ps, logits_sm, logits_mp \u001b[38;5;241m=\u001b[39m model(photometry, photometry_mask, spectra, metadata)\n\u001b[1;32m     13\u001b[0m loss_ps, loss_sm, loss_mp \u001b[38;5;241m=\u001b[39m criterion(logits_ps, logits_sm, logits_mp)\n\u001b[1;32m     14\u001b[0m loss \u001b[38;5;241m=\u001b[39m loss_ps \u001b[38;5;241m+\u001b[39m loss_sm \u001b[38;5;241m+\u001b[39m loss_mp\n",
      "\u001b[0;31mValueError\u001b[0m: too many values to unpack (expected 3)"
     ]
    }
   ],
   "source": [
    "model.train()\n",
    "\n",
    "total_loss = []\n",
    "total_correct_predictions = 0\n",
    "total_predictions = 0\n",
    "\n",
    "for photometry, photometry_mask, spectra, metadata, labels in tqdm(train_dataloader):\n",
    "    photometry, photometry_mask = photometry.to(device), photometry_mask.to(device)\n",
    "    spectra, metadata = spectra.to(device), metadata.to(device)\n",
    "\n",
    "    optimizer.zero_grad()\n",
    "    logits_ps, logits_sm, logits_mp = model(photometry, photometry_mask, spectra, metadata)\n",
    "    loss_ps, loss_sm, loss_mp = criterion(logits_ps, logits_sm, logits_mp)\n",
    "    loss = loss_ps + loss_sm + loss_mp\n",
    "    loss.backward()\n",
    "\n",
    "    labels = torch.arange(logits_ps.shape[0], dtype=torch.int64, device=self.device)\n",
    "\n",
    "    prob_ps = (F.softmax(logits_ps, dim=1) + F.softmax(logits_ps.transpose(-1, -2), dim=1)) / 2\n",
    "    prob_sm = (F.softmax(logits_sm, dim=1) + F.softmax(logits_sm.transpose(-1, -2), dim=1)) / 2\n",
    "    prob_mp = (F.softmax(logits_mp, dim=1) + F.softmax(logits_mp.transpose(-1, -2), dim=1)) / 2\n",
    "    prob = (prob_ps + prob_sm + prob_mp) / 3\n",
    "\n",
    "    _, pred_labels = torch.max(prob, dim=1)\n",
    "    correct_predictions = (pred_labels == labels).sum().item()\n",
    "\n",
    "    total_correct_predictions += correct_predictions\n",
    "    total_predictions += labels.size(0)\n",
    "    total_loss.append(loss.item())"
   ]
  },
  {
   "cell_type": "code",
   "execution_count": 35,
   "id": "bdb91b5a-0786-436e-8725-156c99e14f20",
   "metadata": {},
   "outputs": [
    {
     "data": {
      "text/plain": [
       "(tensor([[[ 9.7725e-02,  2.4619e+00,  8.6901e-01,  ...,  2.4105e-01,\n",
       "           -8.0549e-01,  4.9837e+00],\n",
       "          [ 9.9355e-02,  4.6826e-01,  8.4984e-01,  ...,  2.4105e-01,\n",
       "           -8.0549e-01,  4.9837e+00],\n",
       "          [ 1.0100e-01,  7.1747e-01,  8.4984e-01,  ...,  2.4105e-01,\n",
       "           -8.0549e-01,  4.9837e+00],\n",
       "          ...,\n",
       "          [ 8.2572e-01,  2.0274e+00,  8.6262e-01,  ...,  2.4105e-01,\n",
       "           -8.0549e-01,  4.9837e+00],\n",
       "          [ 8.2628e-01,  5.9319e-02,  8.4345e-01,  ...,  2.4105e-01,\n",
       "           -8.0549e-01,  4.9837e+00],\n",
       "          [ 8.2683e-01,  6.2162e-01,  8.4984e-01,  ...,  2.4105e-01,\n",
       "           -8.0549e-01,  4.9837e+00]],\n",
       " \n",
       "         [[ 3.7081e-01, -1.4809e+00,  4.9433e-01,  ..., -4.8143e-02,\n",
       "           -6.5659e-01,  5.7486e+00],\n",
       "          [ 3.7173e-01, -1.1317e+00,  5.0340e-01,  ..., -4.8143e-02,\n",
       "           -6.5659e-01,  5.7486e+00],\n",
       "          [ 3.7320e-01,  3.4533e+00,  5.7143e-01,  ..., -4.8143e-02,\n",
       "           -6.5659e-01,  5.7486e+00],\n",
       "          ...,\n",
       "          [ 7.2062e-01, -2.5331e+00,  4.6712e-01,  ..., -4.8143e-02,\n",
       "           -6.5659e-01,  5.7486e+00],\n",
       "          [ 7.2063e-01,  8.1385e-01,  5.3968e-01,  ..., -4.8143e-02,\n",
       "           -6.5659e-01,  5.7486e+00],\n",
       "          [ 7.2142e-01, -1.4084e+00,  4.9887e-01,  ..., -4.8143e-02,\n",
       "           -6.5659e-01,  5.7486e+00]],\n",
       " \n",
       "         [[ 0.0000e+00,  1.0005e-01,  7.1978e-01,  ..., -2.6504e-01,\n",
       "           -7.3993e-01,  3.9125e+00],\n",
       "          [ 1.3966e-03,  1.3363e+00,  7.3077e-01,  ..., -2.6504e-01,\n",
       "           -7.3993e-01,  3.9125e+00],\n",
       "          [ 2.0951e-03, -9.8418e-03,  7.1978e-01,  ..., -2.6504e-01,\n",
       "           -7.3993e-01,  3.9125e+00],\n",
       "          ...,\n",
       "          [ 0.0000e+00,  0.0000e+00,  0.0000e+00,  ..., -2.6504e-01,\n",
       "           -7.3993e-01,  3.9125e+00],\n",
       "          [ 0.0000e+00,  0.0000e+00,  0.0000e+00,  ..., -2.6504e-01,\n",
       "           -7.3993e-01,  3.9125e+00],\n",
       "          [ 0.0000e+00,  0.0000e+00,  0.0000e+00,  ..., -2.6504e-01,\n",
       "           -7.3993e-01,  3.9125e+00]],\n",
       " \n",
       "         ...,\n",
       " \n",
       "         [[ 0.0000e+00, -2.4402e+00,  8.8770e-01,  ..., -1.2772e+00,\n",
       "           -5.5207e-01,  3.9480e+00],\n",
       "          [ 2.0909e-03,  2.5046e+00,  9.7326e-01,  ..., -1.2772e+00,\n",
       "           -5.5207e-01,  3.9480e+00],\n",
       "          [ 2.0787e-02, -2.7574e+00,  8.8057e-01,  ..., -1.2772e+00,\n",
       "           -5.5207e-01,  3.9480e+00],\n",
       "          ...,\n",
       "          [ 0.0000e+00,  0.0000e+00,  0.0000e+00,  ..., -1.2772e+00,\n",
       "           -5.5207e-01,  3.9480e+00],\n",
       "          [ 0.0000e+00,  0.0000e+00,  0.0000e+00,  ..., -1.2772e+00,\n",
       "           -5.5207e-01,  3.9480e+00],\n",
       "          [ 0.0000e+00,  0.0000e+00,  0.0000e+00,  ..., -1.2772e+00,\n",
       "           -5.5207e-01,  3.9480e+00]],\n",
       " \n",
       "         [[ 1.0181e-01, -1.3454e+00,  9.9408e-01,  ..., -1.2772e+00,\n",
       "           -7.7211e-01,  4.9973e+00],\n",
       "          [ 1.0564e-01, -1.1857e+00,  9.9408e-01,  ..., -1.2772e+00,\n",
       "           -7.7211e-01,  4.9973e+00],\n",
       "          [ 1.1057e-01, -1.7005e+00,  9.8817e-01,  ..., -1.2772e+00,\n",
       "           -7.7211e-01,  4.9973e+00],\n",
       "          ...,\n",
       "          [ 8.7809e-01,  1.4569e-01,  1.0118e+00,  ..., -1.2772e+00,\n",
       "           -7.7211e-01,  4.9973e+00],\n",
       "          [ 9.1855e-01,  4.2877e+00,  1.0592e+00,  ..., -1.2772e+00,\n",
       "           -7.7211e-01,  4.9973e+00],\n",
       "          [ 9.2128e-01, -1.9253e+00,  9.8817e-01,  ..., -1.2772e+00,\n",
       "           -7.7211e-01,  4.9973e+00]],\n",
       " \n",
       "         [[ 3.9911e-02, -4.1973e-01,  9.0854e-01,  ..., -1.8556e+00,\n",
       "           -7.8516e-01,  5.0714e+00],\n",
       "          [ 4.3699e-02,  1.6839e+00,  9.3293e-01,  ..., -1.8556e+00,\n",
       "           -7.8516e-01,  5.0714e+00],\n",
       "          [ 4.4766e-02, -8.0997e-01,  9.0244e-01,  ..., -1.8556e+00,\n",
       "           -7.8516e-01,  5.0714e+00],\n",
       "          ...,\n",
       "          [ 9.2820e-01,  1.1291e+00,  9.2683e-01,  ..., -1.8556e+00,\n",
       "           -7.8516e-01,  5.0714e+00],\n",
       "          [ 9.3198e-01,  1.5498e+00,  9.3293e-01,  ..., -1.8556e+00,\n",
       "           -7.8516e-01,  5.0714e+00],\n",
       "          [ 9.3902e-01, -1.3770e+00,  9.0244e-01,  ..., -1.8556e+00,\n",
       "           -7.8516e-01,  5.0714e+00]]], device='cuda:1'),\n",
       " tensor([[1., 1., 1.,  ..., 1., 1., 1.],\n",
       "         [1., 1., 1.,  ..., 1., 1., 1.],\n",
       "         [1., 1., 1.,  ..., 0., 0., 0.],\n",
       "         ...,\n",
       "         [1., 1., 1.,  ..., 0., 0., 0.],\n",
       "         [1., 1., 1.,  ..., 1., 1., 1.],\n",
       "         [1., 1., 1.,  ..., 1., 1., 1.]], device='cuda:1'),\n",
       " tensor([[[ 2.2636e+00,  2.5949e+00,  2.8874e+00,  ..., -1.6610e+00,\n",
       "           -1.6839e+00, -1.6718e+00],\n",
       "          [ 1.2143e-04,  1.3587e-04,  1.4264e-04,  ...,  2.9336e-03,\n",
       "            4.3169e-03,  4.0188e-03],\n",
       "          [ 1.5142e+00,  1.5142e+00,  1.5142e+00,  ...,  1.5142e+00,\n",
       "            1.5142e+00,  1.5142e+00]],\n",
       " \n",
       "         [[ 1.9004e+00,  3.1707e+00,  3.2615e+00,  ..., -1.8974e+00,\n",
       "           -1.8357e+00, -1.8539e+00],\n",
       "          [ 4.1167e-05,  4.2731e-05,  3.8571e-05,  ...,  2.1270e-03,\n",
       "            2.2412e-03,  1.5001e-03],\n",
       "          [ 1.5744e+00,  1.5744e+00,  1.5744e+00,  ...,  1.5744e+00,\n",
       "            1.5744e+00,  1.5744e+00]],\n",
       " \n",
       "         [[-2.0201e+00, -1.8385e+00, -9.0544e-01,  ..., -2.1581e+00,\n",
       "           -2.2388e+00, -2.2184e+00],\n",
       "          [ 1.0699e-05,  1.0930e-05,  1.1802e-05,  ...,  3.9201e-04,\n",
       "            3.3875e-04,  1.8354e-04],\n",
       "          [ 1.6390e+00,  1.6390e+00,  1.6390e+00,  ...,  1.6390e+00,\n",
       "            1.6390e+00,  1.6390e+00]],\n",
       " \n",
       "         ...,\n",
       " \n",
       "         [[-9.4909e+00, -9.7499e+00, -9.8507e+00,  ..., -1.3244e+00,\n",
       "           -5.4786e-01,  9.8620e-02],\n",
       "          [ 3.3329e-06,  4.1058e-06,  4.1021e-06,  ...,  4.8117e-05,\n",
       "            4.6488e-05,  4.0253e-05],\n",
       "          [ 2.1037e+00,  2.1037e+00,  2.1037e+00,  ...,  2.1037e+00,\n",
       "            2.1037e+00,  2.1037e+00]],\n",
       " \n",
       "         [[-6.3696e+00, -6.4337e+00, -5.7386e+00,  ..., -2.5439e+00,\n",
       "           -2.0917e+00, -1.6474e+00],\n",
       "          [ 1.2486e-05,  1.2483e-05,  1.3930e-05,  ...,  3.7188e-04,\n",
       "            4.4032e-04,  4.1798e-04],\n",
       "          [ 1.9081e+00,  1.9081e+00,  1.9081e+00,  ...,  1.9081e+00,\n",
       "            1.9081e+00,  1.9081e+00]],\n",
       " \n",
       "         [[-3.5828e+00, -4.7670e+00, -4.1408e+00,  ..., -2.5927e+00,\n",
       "           -2.0204e+00, -1.9071e+00],\n",
       "          [ 2.2479e-05,  2.2971e-05,  2.2718e-05,  ...,  4.6538e-04,\n",
       "            5.0188e-04,  5.0350e-04],\n",
       "          [ 1.6592e+00,  1.6592e+00,  1.6592e+00,  ...,  1.6592e+00,\n",
       "            1.6592e+00,  1.6592e+00]]], device='cuda:1'),\n",
       " tensor([[ 0.1021,  0.2598, -0.6335,  ..., -0.2099,  0.2186,  1.7669],\n",
       "         [-0.7745, -0.5027,  0.5856,  ..., -0.2079,  1.6740,  1.5592],\n",
       "         [ 1.0252,  1.0791, -0.4186,  ..., -0.2068,  0.7544, -0.8253],\n",
       "         ...,\n",
       "         [ 1.2750,  1.1565, -0.7801,  ..., -0.2002, -0.7973, -0.8045],\n",
       "         [ 1.7309,  1.5871, -0.6835,  ..., -0.2161,  0.4294,  1.3667],\n",
       "         [-0.1781, -0.0389, -0.7439,  ..., -0.2052, -0.8513, -0.9461]],\n",
       "        device='cuda:1'))"
      ]
     },
     "execution_count": 35,
     "metadata": {},
     "output_type": "execute_result"
    }
   ],
   "source": [
    "photometry, photometry_mask, spectra, metadata"
   ]
  },
  {
   "cell_type": "code",
   "execution_count": null,
   "id": "8b05e8e5-3c82-4d6d-a3e1-23d2b8548117",
   "metadata": {},
   "outputs": [],
   "source": []
  },
  {
   "cell_type": "code",
   "execution_count": null,
   "id": "6c5027e7-8314-4c2a-ab68-2340a1006669",
   "metadata": {},
   "outputs": [],
   "source": []
  },
  {
   "cell_type": "code",
   "execution_count": 28,
   "id": "57c4a70c-96b7-4078-bdc1-7616f886cb1c",
   "metadata": {},
   "outputs": [
    {
     "name": "stderr",
     "output_type": "stream",
     "text": [
      "  0%|                                                                                           | 0/33 [00:16<?, ?it/s]\n"
     ]
    },
    {
     "ename": "ValueError",
     "evalue": "too many values to unpack (expected 3)",
     "output_type": "error",
     "traceback": [
      "\u001b[0;31m---------------------------------------------------------------------------\u001b[0m",
      "\u001b[0;31mValueError\u001b[0m                                Traceback (most recent call last)",
      "Cell \u001b[0;32mIn[28], line 1\u001b[0m\n\u001b[0;32m----> 1\u001b[0m train_loss, train_acc \u001b[38;5;241m=\u001b[39m \u001b[43mtrainer\u001b[49m\u001b[38;5;241;43m.\u001b[39;49m\u001b[43mtrain_epoch\u001b[49m\u001b[43m(\u001b[49m\u001b[43mtrain_dataloader\u001b[49m\u001b[43m)\u001b[49m\n",
      "File \u001b[0;32m~/AstroML/notebooks/../core/final/trainer.py:128\u001b[0m, in \u001b[0;36mTrainer.train_epoch\u001b[0;34m(self, train_dataloader)\u001b[0m\n\u001b[1;32m    125\u001b[0m \u001b[38;5;28mself\u001b[39m\u001b[38;5;241m.\u001b[39moptimizer\u001b[38;5;241m.\u001b[39mzero_grad()\n\u001b[1;32m    127\u001b[0m \u001b[38;5;28;01mif\u001b[39;00m \u001b[38;5;28mself\u001b[39m\u001b[38;5;241m.\u001b[39mmode \u001b[38;5;241m==\u001b[39m \u001b[38;5;124m'\u001b[39m\u001b[38;5;124mclip\u001b[39m\u001b[38;5;124m'\u001b[39m:\n\u001b[0;32m--> 128\u001b[0m     loss, loss_ps, loss_sm, loss_mp \u001b[38;5;241m=\u001b[39m \u001b[38;5;28;43mself\u001b[39;49m\u001b[38;5;241;43m.\u001b[39;49m\u001b[43mstep_clip\u001b[49m\u001b[43m(\u001b[49m\u001b[43mphotometry\u001b[49m\u001b[43m,\u001b[49m\u001b[43m \u001b[49m\u001b[43mphotometry_mask\u001b[49m\u001b[43m,\u001b[49m\u001b[43m \u001b[49m\u001b[43mspectra\u001b[49m\u001b[43m,\u001b[49m\u001b[43m \u001b[49m\u001b[43mmetadata\u001b[49m\u001b[43m)\u001b[49m\n\u001b[1;32m    130\u001b[0m     \u001b[38;5;28;01mif\u001b[39;00m \u001b[38;5;28mself\u001b[39m\u001b[38;5;241m.\u001b[39muse_wandb:\n\u001b[1;32m    131\u001b[0m         wandb\u001b[38;5;241m.\u001b[39mlog({\u001b[38;5;124m'\u001b[39m\u001b[38;5;124mstep_loss\u001b[39m\u001b[38;5;124m'\u001b[39m: loss\u001b[38;5;241m.\u001b[39mitem(), \u001b[38;5;124m'\u001b[39m\u001b[38;5;124mloss_ps\u001b[39m\u001b[38;5;124m'\u001b[39m: loss_ps\u001b[38;5;241m.\u001b[39mitem(), \u001b[38;5;124m'\u001b[39m\u001b[38;5;124mloss_sm\u001b[39m\u001b[38;5;124m'\u001b[39m: loss_sm\u001b[38;5;241m.\u001b[39mitem(),\n\u001b[1;32m    132\u001b[0m                    \u001b[38;5;124m'\u001b[39m\u001b[38;5;124mloss_mp\u001b[39m\u001b[38;5;124m'\u001b[39m: loss_mp\u001b[38;5;241m.\u001b[39mitem()})\n",
      "File \u001b[0;32m~/AstroML/notebooks/../core/final/trainer.py:89\u001b[0m, in \u001b[0;36mTrainer.step_clip\u001b[0;34m(self, photometry, photometry_mask, spectra, metadata)\u001b[0m\n\u001b[1;32m     86\u001b[0m \u001b[38;5;28;01mdef\u001b[39;00m \u001b[38;5;21mstep_clip\u001b[39m(\u001b[38;5;28mself\u001b[39m, photometry, photometry_mask, spectra, metadata):\n\u001b[1;32m     87\u001b[0m \u001b[38;5;250m    \u001b[39m\u001b[38;5;124;03m\"\"\"Perform a training step for the CLIP pretraining model\"\"\"\u001b[39;00m\n\u001b[0;32m---> 89\u001b[0m     logits_ps, logits_sm, logits_mp \u001b[38;5;241m=\u001b[39m \u001b[38;5;28mself\u001b[39m\u001b[38;5;241m.\u001b[39mmodel(photometry, photometry_mask, spectra, metadata)\n\u001b[1;32m     90\u001b[0m     loss_ps, loss_sm, loss_mp \u001b[38;5;241m=\u001b[39m \u001b[38;5;28mself\u001b[39m\u001b[38;5;241m.\u001b[39mcriterion(logits_ps, logits_sm, logits_mp)\n\u001b[1;32m     91\u001b[0m     loss \u001b[38;5;241m=\u001b[39m loss_ps \u001b[38;5;241m+\u001b[39m loss_sm \u001b[38;5;241m+\u001b[39m loss_mp\n",
      "\u001b[0;31mValueError\u001b[0m: too many values to unpack (expected 3)"
     ]
    }
   ],
   "source": [
    "train_loss, train_acc = trainer.train_epoch(train_dataloader)"
   ]
  },
  {
   "cell_type": "code",
   "execution_count": 32,
   "id": "9be07b1e-6e5f-47f0-a221-155fc7acfc11",
   "metadata": {},
   "outputs": [],
   "source": [
    "photometry, photometry_mask, spectra, metadata, labels = next(iter(train_dataloader))\n",
    "\n",
    "with torch.no_grad():\n",
    "    photometry, photometry_mask = photometry.to(device), photometry_mask.to(device)\n",
    "    spectra, metadata = spectra.to(device), metadata.to(device)\n",
    "\n",
    "    trainer.model(photometry, photometry_mask, spectra, metadata)"
   ]
  },
  {
   "cell_type": "code",
   "execution_count": null,
   "id": "e33a405a-1bf3-47d7-9f58-6069405fd141",
   "metadata": {},
   "outputs": [],
   "source": []
  },
  {
   "cell_type": "code",
   "execution_count": null,
   "id": "c92ea914-e4d6-43dc-82e4-bb220fca9a19",
   "metadata": {},
   "outputs": [],
   "source": []
  },
  {
   "cell_type": "code",
   "execution_count": null,
   "id": "c64b5604-154e-4443-acaa-ab4a9c6b6c62",
   "metadata": {},
   "outputs": [],
   "source": []
  },
  {
   "cell_type": "code",
   "execution_count": null,
   "id": "4e8657ff-977d-4d06-a35b-09f8a198f998",
   "metadata": {},
   "outputs": [],
   "source": []
  },
  {
   "cell_type": "code",
   "execution_count": null,
   "id": "6a2f441c-90b5-43ff-a26f-a990837e058d",
   "metadata": {},
   "outputs": [],
   "source": []
  },
  {
   "cell_type": "code",
   "execution_count": null,
   "id": "7c427d98-114a-4f17-88a3-6cee7e8221ef",
   "metadata": {},
   "outputs": [],
   "source": []
  }
 ],
 "metadata": {
  "kernelspec": {
   "display_name": "Python 3 (ipykernel)",
   "language": "python",
   "name": "python3"
  },
  "language_info": {
   "codemirror_mode": {
    "name": "ipython",
    "version": 3
   },
   "file_extension": ".py",
   "mimetype": "text/x-python",
   "name": "python",
   "nbconvert_exporter": "python",
   "pygments_lexer": "ipython3",
   "version": "3.10.14"
  }
 },
 "nbformat": 4,
 "nbformat_minor": 5
}

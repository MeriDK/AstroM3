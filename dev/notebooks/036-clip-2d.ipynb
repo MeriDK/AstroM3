{
 "cells": [
  {
   "cell_type": "code",
   "execution_count": 24,
   "id": "40529351-3380-4dc4-a7e9-b1fa8a27cf8c",
   "metadata": {},
   "source": [
    "import sys\n",
    "sys.path.insert(0, '..')\n",
    "\n",
    "import torch\n",
    "import os\n",
    "import wandb\n",
    "import random\n",
    "import numpy as np\n",
    "import torch\n",
    "from torch import nn\n",
    "from torch.optim import Adam\n",
    "from ignite.handlers.param_scheduler import create_lr_scheduler_with_warmup\n",
    "from torch.utils.data import DataLoader\n",
    "from datetime import datetime\n",
    "import matplotlib.pyplot as plt\n",
    "import pandas as pd\n",
    "from scipy import stats\n",
    "from tqdm import tqdm\n",
    "from matplotlib import cm\n",
    "import seaborn as sns\n",
    "import matplotlib.lines as mlines\n",
    "from sklearn.decomposition import PCA\n",
    "from openTSNE import TSNE\n",
    "from PIL import Image\n",
    "import umap\n",
    "import torch.nn.functional as F\n",
    "from scipy.spatial.distance import cdist\n",
    "from torch.optim.lr_scheduler import ExponentialLR, ReduceLROnPlateau\n",
    "\n",
    "from core.final.dataset import PSMDataset\n",
    "from core.final.model import GalSpecNet, MetaModel, Informer, AstroModel\n",
    "from core.final.trainer import Trainer\n",
    "from core.final.loss import CLIPLoss"
   ],
   "outputs": []
  },
  {
   "cell_type": "code",
   "execution_count": 19,
   "id": "083b8d91-c2cd-4f9c-9d51-5bad591cdc7a",
   "metadata": {},
   "source": [
    "def set_random_seeds(random_seed):\n",
    "    torch.manual_seed(random_seed)\n",
    "    torch.cuda.manual_seed(random_seed)\n",
    "    np.random.seed(random_seed)\n",
    "    random.seed(random_seed)\n",
    "    torch.backends.cudnn.deterministic = True\n",
    "    torch.backends.cudnn.benchmark = False\n",
    "\n",
    "set_random_seeds(42)"
   ],
   "outputs": []
  },
  {
   "cell_type": "code",
   "execution_count": 44,
   "id": "3d2fd609-6ad4-4048-a5ac-9082929e3641",
   "metadata": {},
   "source": [
    "class Model2D(nn.Module):\n",
    "    def __init__(self, encoder):\n",
    "        super(Model2D, self).__init__()\n",
    "\n",
    "        self.encoder = encoder\n",
    "        \n",
    "        for param in self.encoder.parameters():\n",
    "            param.requires_grad = False\n",
    "\n",
    "        self.p_fc = nn.Linear(encoder.photometry_proj.out_features, 2)\n",
    "        self.s_fc = nn.Linear(encoder.spectra_proj.out_features, 2)\n",
    "        self.m_fc = nn.Linear(encoder.metadata_proj.out_features, 2)\n",
    "\n",
    "    def forward(self, photometry, photometry_mask, spectra, metadata):\n",
    "        p_emb, s_emb, m_emb = self.encoder.get_embeddings(photometry, photometry_mask, spectra, metadata)\n",
    "        \n",
    "        p_emb = self.p_fc(p_emb)\n",
    "        s_emb = self.s_fc(s_emb)\n",
    "        m_emb = self.m_fc(m_emb)\n",
    "\n",
    "        logits_ps = p_emb @ s_emb.T\n",
    "        logits_sm = s_emb @ m_emb.T\n",
    "        logits_mp = m_emb @ p_emb.T\n",
    "\n",
    "        return logits_ps, logits_sm, logits_mp"
   ],
   "outputs": []
  },
  {
   "cell_type": "code",
   "execution_count": 46,
   "id": "6a90e6f6-479b-47e3-9625-d22f6e9b7a92",
   "metadata": {},
   "source": [
    "run_id = 'MeriDK/AstroCLIPResults3/2wz4ysvn'\n",
    "api = wandb.Api()\n",
    "run = api.run(run_id)\n",
    "config = run.config\n",
    "config['use_wandb'] = False\n",
    "config['save_weights'] = False\n",
    "\n",
    "train_dataset = PSMDataset(config, split='train')\n",
    "val_dataset = PSMDataset(config, split='val')\n",
    "\n",
    "train_dataloader = DataLoader(train_dataset, batch_size=config['batch_size'], shuffle=True, drop_last=True,\n",
    "                              num_workers=4)\n",
    "val_dataloader = DataLoader(val_dataset, batch_size=config['batch_size'], shuffle=False)\n",
    "\n",
    "device = torch.device('cuda:1' if torch.cuda.is_available() else 'cpu')\n",
    "\n",
    "encoder = AstroModel(config)\n",
    "encoder = encoder.to(device)\n",
    "\n",
    "weights_path = os.path.join(config['weights_path'] + '-' + run_id.split('/')[-1], f'weights-best.pth')\n",
    "encoder.load_state_dict(torch.load(weights_path, weights_only=False))"
   ],
   "outputs": []
  },
  {
   "cell_type": "code",
   "execution_count": 51,
   "id": "08484ba9-4208-4d2d-9126-9100c9b80a18",
   "metadata": {},
   "source": [
    "model = Model2D(encoder)\n",
    "model = model.to(device)\n",
    "\n",
    "optimizer = Adam(model.parameters(), lr=0.001)\n",
    "scheduler = ReduceLROnPlateau(optimizer, mode='min', factor=config['factor'], patience=100)\n",
    "criterion = CLIPLoss()"
   ],
   "outputs": []
  },
  {
   "cell_type": "code",
   "execution_count": 52,
   "id": "7c91c9a3-17c3-48ea-9c12-8cf34cb216ea",
   "metadata": {},
   "source": [
    "trainer = Trainer(model=model, optimizer=optimizer, scheduler=scheduler, warmup_scheduler=None,\n",
    "                  criterion=criterion, device=device, config=config)"
   ],
   "outputs": []
  },
  {
   "cell_type": "code",
   "execution_count": 49,
   "id": "0252e0a6-971e-4745-866d-3bf6caca0855",
   "metadata": {},
   "source": [
    "trainer.train_epoch(train_dataloader)"
   ],
   "outputs": []
  },
  {
   "cell_type": "code",
   "execution_count": 53,
   "id": "8d8cad90-81e9-4b64-9ec7-90e69f71f5d0",
   "metadata": {},
   "source": [
    "for _ in range(10):\n",
    "    print(trainer.train_epoch(train_dataloader))"
   ],
   "outputs": []
  },
  {
   "cell_type": "code",
   "execution_count": 54,
   "id": "d1b9fe09-9054-4af7-9972-f8da984abda1",
   "metadata": {},
   "source": [
    "for _ in range(20):\n",
    "    print(trainer.train_epoch(train_dataloader))"
   ],
   "outputs": []
  },
  {
   "cell_type": "code",
   "execution_count": null,
   "id": "cf82a2b9-f306-42f7-a3ec-fb6dc83755c2",
   "metadata": {},
   "source": [],
   "outputs": []
  },
  {
   "cell_type": "code",
   "execution_count": null,
   "id": "71305093-5bae-44ac-a5e8-2d3f38f0c241",
   "metadata": {},
   "source": [],
   "outputs": []
  },
  {
   "cell_type": "code",
   "execution_count": null,
   "id": "e6b0ce30-4ca2-4ad0-8a83-af31d51307bd",
   "metadata": {},
   "source": [],
   "outputs": []
  },
  {
   "cell_type": "code",
   "execution_count": 34,
   "id": "28049741-12f6-4184-8d5b-2bab8df8881d",
   "metadata": {},
   "source": [
    "model.train()\n",
    "\n",
    "total_loss = []\n",
    "total_correct_predictions = 0\n",
    "total_predictions = 0\n",
    "\n",
    "for photometry, photometry_mask, spectra, metadata, labels in tqdm(train_dataloader):\n",
    "    photometry, photometry_mask = photometry.to(device), photometry_mask.to(device)\n",
    "    spectra, metadata = spectra.to(device), metadata.to(device)\n",
    "\n",
    "    optimizer.zero_grad()\n",
    "    logits_ps, logits_sm, logits_mp = model(photometry, photometry_mask, spectra, metadata)\n",
    "    loss_ps, loss_sm, loss_mp = criterion(logits_ps, logits_sm, logits_mp)\n",
    "    loss = loss_ps + loss_sm + loss_mp\n",
    "    loss.backward()\n",
    "\n",
    "    labels = torch.arange(logits_ps.shape[0], dtype=torch.int64, device=self.device)\n",
    "\n",
    "    prob_ps = (F.softmax(logits_ps, dim=1) + F.softmax(logits_ps.transpose(-1, -2), dim=1)) / 2\n",
    "    prob_sm = (F.softmax(logits_sm, dim=1) + F.softmax(logits_sm.transpose(-1, -2), dim=1)) / 2\n",
    "    prob_mp = (F.softmax(logits_mp, dim=1) + F.softmax(logits_mp.transpose(-1, -2), dim=1)) / 2\n",
    "    prob = (prob_ps + prob_sm + prob_mp) / 3\n",
    "\n",
    "    _, pred_labels = torch.max(prob, dim=1)\n",
    "    correct_predictions = (pred_labels == labels).sum().item()\n",
    "\n",
    "    total_correct_predictions += correct_predictions\n",
    "    total_predictions += labels.size(0)\n",
    "    total_loss.append(loss.item())"
   ],
   "outputs": []
  },
  {
   "cell_type": "code",
   "execution_count": 35,
   "id": "bdb91b5a-0786-436e-8725-156c99e14f20",
   "metadata": {},
   "source": [
    "photometry, photometry_mask, spectra, metadata"
   ],
   "outputs": []
  },
  {
   "cell_type": "code",
   "execution_count": null,
   "id": "8b05e8e5-3c82-4d6d-a3e1-23d2b8548117",
   "metadata": {},
   "source": [],
   "outputs": []
  },
  {
   "cell_type": "code",
   "execution_count": null,
   "id": "6c5027e7-8314-4c2a-ab68-2340a1006669",
   "metadata": {},
   "source": [],
   "outputs": []
  },
  {
   "cell_type": "code",
   "execution_count": 28,
   "id": "57c4a70c-96b7-4078-bdc1-7616f886cb1c",
   "metadata": {},
   "source": [
    "train_loss, train_acc = trainer.train_epoch(train_dataloader)"
   ],
   "outputs": []
  },
  {
   "cell_type": "code",
   "execution_count": 32,
   "id": "9be07b1e-6e5f-47f0-a221-155fc7acfc11",
   "metadata": {},
   "source": [
    "photometry, photometry_mask, spectra, metadata, labels = next(iter(train_dataloader))\n",
    "\n",
    "with torch.no_grad():\n",
    "    photometry, photometry_mask = photometry.to(device), photometry_mask.to(device)\n",
    "    spectra, metadata = spectra.to(device), metadata.to(device)\n",
    "\n",
    "    trainer.model(photometry, photometry_mask, spectra, metadata)"
   ],
   "outputs": []
  },
  {
   "cell_type": "code",
   "execution_count": null,
   "id": "e33a405a-1bf3-47d7-9f58-6069405fd141",
   "metadata": {},
   "source": [],
   "outputs": []
  },
  {
   "cell_type": "code",
   "execution_count": null,
   "id": "c92ea914-e4d6-43dc-82e4-bb220fca9a19",
   "metadata": {},
   "source": [],
   "outputs": []
  },
  {
   "cell_type": "code",
   "execution_count": null,
   "id": "c64b5604-154e-4443-acaa-ab4a9c6b6c62",
   "metadata": {},
   "source": [],
   "outputs": []
  },
  {
   "cell_type": "code",
   "execution_count": null,
   "id": "4e8657ff-977d-4d06-a35b-09f8a198f998",
   "metadata": {},
   "source": [],
   "outputs": []
  },
  {
   "cell_type": "code",
   "execution_count": null,
   "id": "6a2f441c-90b5-43ff-a26f-a990837e058d",
   "metadata": {},
   "source": [],
   "outputs": []
  },
  {
   "cell_type": "code",
   "execution_count": null,
   "id": "7c427d98-114a-4f17-88a3-6cee7e8221ef",
   "metadata": {},
   "source": [],
   "outputs": []
  }
 ],
 "metadata": {
  "kernelspec": {
   "display_name": "Python 3 (ipykernel)",
   "language": "python",
   "name": "python3"
  },
  "language_info": {
   "codemirror_mode": {
    "name": "ipython",
    "version": 3
   },
   "file_extension": ".py",
   "mimetype": "text/x-python",
   "name": "python",
   "nbconvert_exporter": "python",
   "pygments_lexer": "ipython3",
   "version": "3.10.14"
  }
 },
 "nbformat": 4,
 "nbformat_minor": 5
}

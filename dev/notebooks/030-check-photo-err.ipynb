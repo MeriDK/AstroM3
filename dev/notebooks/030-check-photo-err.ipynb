{
 "cells": [
  {
   "cell_type": "code",
   "execution_count": 2,
   "id": "38f18143-9e51-4e40-a776-e659971579b9",
   "metadata": {},
   "source": [
    "import sys\n",
    "sys.path.insert(0, '..')\n",
    "\n",
    "import pandas as pd\n",
    "import numpy as np\n",
    "from sklearn.preprocessing import StandardScaler\n",
    "import joblib\n",
    "from datetime import datetime\n",
    "import os\n",
    "import matplotlib.pyplot as plt\n",
    "from scipy import stats\n",
    "from tqdm import tqdm\n",
    "\n",
    "from core.final.dataset import PSMDataset"
   ],
   "outputs": []
  },
  {
   "cell_type": "code",
   "execution_count": 3,
   "id": "c0ac1fbc-e746-4ce3-98a7-230f0a1e3635",
   "metadata": {},
   "source": [
    "CLASSES = ['EW', 'SR', 'EA', 'RRAB', 'EB', 'ROT', 'RRC', 'HADS', 'M', 'DSCT']\n",
    "\n",
    "METADATA_COLS = [\n",
    "    'mean_vmag',  'phot_g_mean_mag', 'e_phot_g_mean_mag', 'phot_bp_mean_mag', 'e_phot_bp_mean_mag', 'phot_rp_mean_mag', 'e_phot_rp_mean_mag',\n",
    "    'bp_rp', 'parallax', 'parallax_error', 'parallax_over_error', 'pmra', 'pmra_error', 'pmdec',\n",
    "    'pmdec_error', 'j_mag', 'e_j_mag', 'h_mag', 'e_h_mag', 'k_mag', 'e_k_mag', 'w1_mag', 'e_w1_mag',\n",
    "    'w2_mag', 'e_w2_mag', 'w3_mag', 'w4_mag', 'j_k', 'w1_w2', 'w3_w4', 'pm', 'ruwe', 'l', 'b'\n",
    "]\n",
    "\n",
    "PHOTO_COLS = ['amplitude', 'period', 'lksl_statistic', 'rfr_score']\n",
    "\n",
    "METADATA_FUNC = {\n",
    "    \"abs\": [\n",
    "        \"mean_vmag\",\n",
    "        \"phot_g_mean_mag\",\n",
    "        \"phot_bp_mean_mag\",\n",
    "        \"phot_rp_mean_mag\",\n",
    "        \"j_mag\",\n",
    "        \"h_mag\",\n",
    "        \"k_mag\",\n",
    "        \"w1_mag\",\n",
    "        \"w2_mag\",\n",
    "        \"w3_mag\",\n",
    "        \"w4_mag\",\n",
    "    ],\n",
    "    \"cos\": [\"l\"],\n",
    "    \"sin\": [\"b\"],\n",
    "    \"log\": [\"period\"]\n",
    "}"
   ],
   "outputs": []
  },
  {
   "cell_type": "code",
   "execution_count": 6,
   "id": "4733df98-0bee-44f6-bb3b-237764f3f658",
   "metadata": {},
   "source": [
    "def get_config():\n",
    "    config = {\n",
    "        'project': 'AstroCLIPResults',\n",
    "        'mode': 'meta',    # 'clip' 'photo' 'spectra' 'meta' 'all'\n",
    "        'config_from': None,    # 'meridk/AstroCLIPResults/zgfcm56p',\n",
    "        'random_seed': 42,  # 42, 66, 0, 12, 123\n",
    "        'use_wandb': True,\n",
    "        'save_weights': True,\n",
    "        'weights_path': f'/home/mariia/AstroML/weights/{datetime.now().strftime(\"%Y-%m-%d-%H-%M\")}',\n",
    "        # 'use_pretrain': 'CLIP/home/mariia/AstroML/weights/2024-08-14-14-05-zmjau1cu/weights-51.pth',\n",
    "        'use_pretrain': None,\n",
    "        'freeze': False,\n",
    "\n",
    "        # Data General\n",
    "        'data_root': '/home/mariia/AstroML/data/asassn/',\n",
    "        'file': 'preprocessed_data/full_lb/spectra_and_v',\n",
    "        'classes': None,\n",
    "        'num_classes': None,\n",
    "        'meta_cols': METADATA_COLS,\n",
    "        'photo_cols': PHOTO_COLS,\n",
    "        'min_samples': None,\n",
    "        'max_samples': None,\n",
    "\n",
    "        # Photometry\n",
    "        'v_zip': 'asassnvarlc_vband_complete.zip',\n",
    "        'v_prefix': 'vardb_files',\n",
    "        'seq_len': 200,\n",
    "        'phased': False,\n",
    "        'p_aux': True,\n",
    "\n",
    "        # Spectra\n",
    "        'lamost_spec_dir': 'Spectra/v2',\n",
    "        's_mad': True,\n",
    "        's_aux': True,\n",
    "        's_err': True,\n",
    "        's_err_norm': True,\n",
    "\n",
    "        # Photometry Model\n",
    "        'p_enc_in': 3,\n",
    "        'p_d_model': 128,\n",
    "        'p_dropout': 0.2,\n",
    "        'p_factor': 1,\n",
    "        'p_output_attention': False,\n",
    "        'p_n_heads': 4,\n",
    "        'p_d_ff': 512,\n",
    "        'p_activation': 'gelu',\n",
    "        'p_e_layers': 8,\n",
    "\n",
    "        # Spectra Model\n",
    "        's_dropout': 0.2,\n",
    "        's_conv_channels': [1, 64, 64, 32, 32],\n",
    "        's_kernel_size': 3,\n",
    "        's_mp_kernel_size': 4,\n",
    "\n",
    "        # Metadata Model\n",
    "        'm_hidden_dim': 512,\n",
    "        'm_dropout': 0.2,\n",
    "\n",
    "        # MultiModal Model\n",
    "        'hidden_dim': 512,\n",
    "        'fusion': 'avg',  # 'avg', 'concat'\n",
    "\n",
    "        # Training\n",
    "        'batch_size': 512,\n",
    "        'lr': 0.001,\n",
    "        'beta1': 0.9,\n",
    "        'beta2': 0.999,\n",
    "        'weight_decay': 0.01,\n",
    "        'epochs': 100,\n",
    "        'early_stopping_patience': 6,\n",
    "        'scheduler': 'ReduceLROnPlateau',  # 'ExponentialLR', 'ReduceLROnPlateau'\n",
    "        'gamma': 0.9,  # for ExponentialLR scheduler\n",
    "        'factor': 0.3,  # for ReduceLROnPlateau scheduler\n",
    "        'patience': 3,  # for ReduceLROnPlateau scheduler\n",
    "        'warmup': True,\n",
    "        'warmup_epochs': 10,\n",
    "        'clip_grad': True,\n",
    "        'clip_value': 45\n",
    "    }\n",
    "\n",
    "    if config['p_aux']:\n",
    "        config['p_enc_in'] += len(config['photo_cols']) + 2     # +2 for mad and delta t\n",
    "\n",
    "    if config['s_aux']:\n",
    "        config['s_conv_channels'][0] += 1\n",
    "\n",
    "    if config['s_err']:\n",
    "        config['s_conv_channels'][0] += 1\n",
    "\n",
    "    if config['config_from']:\n",
    "        print(f\"Copying params from the {config['config_from']} run\")\n",
    "        old_config = wandb.Api().run(config['config_from']).config\n",
    "\n",
    "        for el in old_config:\n",
    "            if el in [\n",
    "                'p_dropout', 's_dropout', 'm_dropout', 'lr', 'beta1', 'weight_decay', 'epochs',\n",
    "                'early_stopping_patience', 'factor', 'patience', 'warmup', 'warmup_epochs', 'clip_grad', 'clip_value',\n",
    "                'use_pretrain', 'freeze', 'phased', 'p_aux', 'p_enc_in', 's_aux', 's_err', 's_conv_channels'\n",
    "            ]:\n",
    "                config[el] = old_config[el]\n",
    "\n",
    "    return config"
   ],
   "outputs": []
  },
  {
   "cell_type": "code",
   "execution_count": 7,
   "id": "b4183f1c-c95b-4706-91b5-38403c50e69a",
   "metadata": {},
   "source": [
    "config = get_config()\n",
    "train_dataset = PSMDataset(config, split='train')"
   ],
   "outputs": []
  },
  {
   "cell_type": "code",
   "execution_count": 50,
   "id": "21036020-e524-45c3-a180-92b7a68c47a1",
   "metadata": {},
   "source": [
    "inds = []\n",
    "\n",
    "for i in tqdm(range(len(train_dataset))):\n",
    "    el = train_dataset.df.iloc[i]\n",
    "    p = train_dataset.get_vlc(el['name'])\n",
    "\n",
    "    if (p[:, 2] > 10).any():\n",
    "        inds.append(i)"
   ],
   "outputs": []
  },
  {
   "cell_type": "code",
   "execution_count": 51,
   "id": "cc3e474c-8364-4bf2-af5f-71baaa38c423",
   "metadata": {},
   "source": [
    "inds"
   ],
   "outputs": []
  },
  {
   "cell_type": "code",
   "execution_count": 62,
   "id": "12e4610b-1d8e-4d12-985f-76f2c2ae681a",
   "metadata": {},
   "source": [
    "idx = 1730\n",
    "el = train_dataset.df.iloc[idx]\n",
    "p = train_dataset.get_vlc(el['name'])\n",
    "plt.figure(figsize=(18, 5))\n",
    "plt.errorbar(p[:, 0], p[:, 1], yerr=p[:, 2], fmt='.')"
   ],
   "outputs": []
  },
  {
   "cell_type": "code",
   "execution_count": 63,
   "id": "3a67d961-1c13-4773-9b90-5f02ff469bcf",
   "metadata": {},
   "source": [
    "mean = p[:, 1].mean()\n",
    "std = p[:, 1].std()\n",
    "mad = stats.median_abs_deviation(p[:, 1])\n",
    "p[:, 1] = (p[:, 1] - mean) / mad\n",
    "p[:, 2] = p[:, 2] / mad"
   ],
   "outputs": []
  },
  {
   "cell_type": "code",
   "execution_count": 64,
   "id": "b001ca52-4dd4-437b-aedb-c842815b0199",
   "metadata": {},
   "source": [
    "plt.figure(figsize=(18, 5))\n",
    "plt.errorbar(p[:, 0], p[:, 1], yerr=p[:, 2], fmt='.')"
   ],
   "outputs": []
  },
  {
   "cell_type": "code",
   "execution_count": 65,
   "id": "51863384-0b8c-4b9b-9f5f-8846b3e3cbac",
   "metadata": {},
   "source": [
    "mad, std"
   ],
   "outputs": []
  },
  {
   "cell_type": "code",
   "execution_count": 67,
   "id": "f22c96b7-7a63-4351-8637-db5623dea159",
   "metadata": {},
   "source": [
    "idx = 13297\n",
    "el = train_dataset.df.iloc[idx]\n",
    "p = train_dataset.get_vlc(el['name'])\n",
    "plt.figure(figsize=(18, 5))\n",
    "plt.errorbar(p[:, 0], p[:, 1], yerr=p[:, 2], fmt='.')"
   ],
   "outputs": []
  },
  {
   "cell_type": "code",
   "execution_count": 68,
   "id": "c5d48e66-baee-4e6d-a795-c079b747c058",
   "metadata": {},
   "source": [
    "mean = p[:, 1].mean()\n",
    "std = p[:, 1].std()\n",
    "mad = stats.median_abs_deviation(p[:, 1])\n",
    "p[:, 1] = (p[:, 1] - mean) / mad\n",
    "p[:, 2] = p[:, 2] / mad\n",
    "\n",
    "plt.figure(figsize=(18, 5))\n",
    "plt.errorbar(p[:, 0], p[:, 1], yerr=p[:, 2], fmt='.')"
   ],
   "outputs": []
  },
  {
   "cell_type": "code",
   "execution_count": 69,
   "id": "e5629913-5de3-42af-9455-77a69c0a7475",
   "metadata": {},
   "source": [
    "idx = 15680\n",
    "el = train_dataset.df.iloc[idx]\n",
    "p = train_dataset.get_vlc(el['name'])\n",
    "plt.figure(figsize=(18, 5))\n",
    "plt.errorbar(p[:, 0], p[:, 1], yerr=p[:, 2], fmt='.')"
   ],
   "outputs": []
  },
  {
   "cell_type": "code",
   "execution_count": 70,
   "id": "30f8ddc9-ef73-4635-ab12-a5fa01f65a66",
   "metadata": {},
   "source": [
    "mean = p[:, 1].mean()\n",
    "std = p[:, 1].std()\n",
    "mad = stats.median_abs_deviation(p[:, 1])\n",
    "p[:, 1] = (p[:, 1] - mean) / mad\n",
    "p[:, 2] = p[:, 2] / mad\n",
    "\n",
    "plt.figure(figsize=(18, 5))\n",
    "plt.errorbar(p[:, 0], p[:, 1], yerr=p[:, 2], fmt='.')"
   ],
   "outputs": []
  },
  {
   "cell_type": "code",
   "execution_count": 71,
   "id": "aa06d7ed-e667-4c9c-9be6-16bda7927182",
   "metadata": {},
   "source": [
    "idx = 16114\n",
    "el = train_dataset.df.iloc[idx]\n",
    "p = train_dataset.get_vlc(el['name'])\n",
    "plt.figure(figsize=(18, 5))\n",
    "plt.errorbar(p[:, 0], p[:, 1], yerr=p[:, 2], fmt='.')"
   ],
   "outputs": []
  },
  {
   "cell_type": "code",
   "execution_count": 72,
   "id": "3f415e64-aca8-4086-9c2b-09b054267e7b",
   "metadata": {},
   "source": [
    "mean = p[:, 1].mean()\n",
    "std = p[:, 1].std()\n",
    "mad = stats.median_abs_deviation(p[:, 1])\n",
    "p[:, 1] = (p[:, 1] - mean) / mad\n",
    "p[:, 2] = p[:, 2] / mad\n",
    "\n",
    "plt.figure(figsize=(18, 5))\n",
    "plt.errorbar(p[:, 0], p[:, 1], yerr=p[:, 2], fmt='.')"
   ],
   "outputs": []
  },
  {
   "cell_type": "code",
   "execution_count": 73,
   "id": "f206b6e2-26b1-4586-9e61-f408079fae67",
   "metadata": {},
   "source": [
    "val_dataset = PSMDataset(config, split='val')\n",
    "inds = []\n",
    "\n",
    "for i in tqdm(range(len(val_dataset))):\n",
    "    el = val_dataset.df.iloc[i]\n",
    "    p = val_dataset.get_vlc(el['name'])\n",
    "\n",
    "    if (p[:, 2] > 10).any():\n",
    "        inds.append(i)"
   ],
   "outputs": []
  },
  {
   "cell_type": "code",
   "execution_count": 74,
   "id": "d95483f6-3790-43c0-b128-20762ec0847e",
   "metadata": {},
   "source": [
    "inds"
   ],
   "outputs": []
  },
  {
   "cell_type": "code",
   "execution_count": 75,
   "id": "2016b7d1-f346-41fd-8cd1-98cb18614571",
   "metadata": {},
   "source": [
    "test_dataset = PSMDataset(config, split='test')\n",
    "inds = []\n",
    "\n",
    "for i in tqdm(range(len(test_dataset))):\n",
    "    el = test_dataset.df.iloc[i]\n",
    "    p = test_dataset.get_vlc(el['name'])\n",
    "\n",
    "    if (p[:, 2] > 10).any():\n",
    "        inds.append(i)"
   ],
   "outputs": []
  },
  {
   "cell_type": "code",
   "execution_count": 76,
   "id": "4a8e6965-1cad-4a2c-9f82-3d4f3a09643f",
   "metadata": {},
   "source": [
    "inds"
   ],
   "outputs": []
  },
  {
   "cell_type": "code",
   "execution_count": 83,
   "id": "3bc85231-1e20-4e8f-acde-e27ddacfff73",
   "metadata": {},
   "source": [
    "idx = 1867\n",
    "el = val_dataset.df.iloc[idx]\n",
    "p = val_dataset.get_vlc(el['name'])\n",
    "plt.figure(figsize=(18, 5))\n",
    "plt.errorbar(p[:, 0], p[:, 1], yerr=p[:, 2], fmt='.')"
   ],
   "outputs": []
  },
  {
   "cell_type": "code",
   "execution_count": 85,
   "id": "a5258aa9-0628-4363-a2f9-931660d58ef4",
   "metadata": {},
   "source": [
    "el['target']"
   ],
   "outputs": []
  },
  {
   "cell_type": "code",
   "execution_count": 81,
   "id": "e7436c2c-ddb4-409d-8f73-512a155224ad",
   "metadata": {},
   "source": [
    "mean = p[:, 1].mean()\n",
    "std = p[:, 1].std()\n",
    "mad = stats.median_abs_deviation(p[:, 1])\n",
    "p[:, 1] = (p[:, 1] - mean) / mad\n",
    "p[:, 2] = p[:, 2] / mad\n",
    "\n",
    "plt.figure(figsize=(18, 5))\n",
    "plt.errorbar(p[:, 0], p[:, 1], yerr=p[:, 2], fmt='.')"
   ],
   "outputs": []
  },
  {
   "cell_type": "code",
   "execution_count": 82,
   "id": "e70f9399-9756-45a0-a870-975901ad06bc",
   "metadata": {},
   "source": [
    "idx = 615\n",
    "el = test_dataset.df.iloc[idx]\n",
    "p = test_dataset.get_vlc(el['name'])\n",
    "plt.figure(figsize=(18, 5))\n",
    "plt.errorbar(p[:, 0], p[:, 1], yerr=p[:, 2], fmt='.')"
   ],
   "outputs": []
  },
  {
   "cell_type": "markdown",
   "id": "1c4d4c22-f7bb-47f9-af41-110fc9ce8f09",
   "metadata": {},
   "source": [
    "### Remove 1730 and 13297 from train and 1867 from test"
   ]
  },
  {
   "cell_type": "code",
   "execution_count": 90,
   "id": "3ebd32d9-f109-41dd-bc76-a71ad95e9a5c",
   "metadata": {},
   "source": [
    "train_f = train_dataset.df.drop([1730, 13297])\n",
    "test_f = test_dataset.df.drop([1867])"
   ],
   "outputs": []
  },
  {
   "cell_type": "code",
   "execution_count": 92,
   "id": "2afd4194-41b9-4999-892f-8435130f15ce",
   "metadata": {},
   "source": [
    "train_f.to_csv('/home/mariia/AstroML/data/asassn/preprocessed_data/full_lb/spectra_and_v_train_norm.csv', index=False)\n",
    "test_f.to_csv('/home/mariia/AstroML/data/asassn/preprocessed_data/full_lb/spectra_and_v_test_norm.csv', index=False)"
   ],
   "outputs": []
  },
  {
   "cell_type": "code",
   "execution_count": 93,
   "id": "3b970522-fa68-43eb-84d1-b909e53c060c",
   "metadata": {},
   "source": [
    "train = pd.read_csv('/home/mariia/AstroML/data/asassn/preprocessed_data/full_lb/spectra_and_v_train.csv')\n",
    "test = pd.read_csv('/home/mariia/AstroML/data/asassn/preprocessed_data/full_lb/spectra_and_v_test.csv')\n",
    "\n",
    "train = train[train.index.isin(train_f.index)]\n",
    "test = test[test.index.isin(test_f.index)]\n",
    "\n",
    "train.to_csv('/home/mariia/AstroML/data/asassn/preprocessed_data/full_lb/spectra_and_v_train.csv', index=False)\n",
    "test.to_csv('/home/mariia/AstroML/data/asassn/preprocessed_data/full_lb/spectra_and_v_test.csv', index=False)"
   ],
   "outputs": []
  },
  {
   "cell_type": "code",
   "execution_count": null,
   "id": "e9d7eed1-5760-436d-9521-33acef65da6b",
   "metadata": {},
   "source": [],
   "outputs": []
  },
  {
   "cell_type": "code",
   "execution_count": null,
   "id": "72015ab6-2657-4723-ae60-f15f88bb1637",
   "metadata": {},
   "source": [],
   "outputs": []
  },
  {
   "cell_type": "code",
   "execution_count": null,
   "id": "5a894525-c10d-47bf-ab67-7a5fbc762b96",
   "metadata": {},
   "source": [],
   "outputs": []
  },
  {
   "cell_type": "code",
   "execution_count": null,
   "id": "37c1cd25-8feb-48a3-a112-a74f83b2b67e",
   "metadata": {},
   "source": [],
   "outputs": []
  },
  {
   "cell_type": "code",
   "execution_count": null,
   "id": "bbf4a94c-e3b7-4294-8f23-c29c0b31aeaf",
   "metadata": {},
   "source": [],
   "outputs": []
  },
  {
   "cell_type": "code",
   "execution_count": null,
   "id": "f19269d2-b0dd-4d7b-bef0-2f99f875ef0c",
   "metadata": {},
   "source": [],
   "outputs": []
  },
  {
   "cell_type": "code",
   "execution_count": null,
   "id": "46b7ddc2-f143-418e-95e5-b6b499cb1297",
   "metadata": {},
   "source": [],
   "outputs": []
  },
  {
   "cell_type": "code",
   "execution_count": null,
   "id": "8d4e3153-7421-4f6b-bfc1-46758d5174a2",
   "metadata": {},
   "source": [],
   "outputs": []
  },
  {
   "cell_type": "code",
   "execution_count": null,
   "id": "2a1ffe63-eae3-4abb-8441-8698fb0187d7",
   "metadata": {},
   "source": [],
   "outputs": []
  },
  {
   "cell_type": "code",
   "execution_count": null,
   "id": "73e7e94b-f9d2-432d-9d39-014244284134",
   "metadata": {},
   "source": [],
   "outputs": []
  },
  {
   "cell_type": "code",
   "execution_count": null,
   "id": "839c804f-7204-4f7b-bdd4-1d02f8e6d4a0",
   "metadata": {},
   "source": [],
   "outputs": []
  },
  {
   "cell_type": "code",
   "execution_count": null,
   "id": "96711b38-cd70-4802-936a-faf221a2d538",
   "metadata": {},
   "source": [],
   "outputs": []
  },
  {
   "cell_type": "code",
   "execution_count": null,
   "id": "a68f34d1-50e4-4b84-a70b-f1e7d64f8b3f",
   "metadata": {},
   "source": [],
   "outputs": []
  },
  {
   "cell_type": "code",
   "execution_count": null,
   "id": "fb620cea-9fd1-46fc-a274-1d4a496ce40f",
   "metadata": {},
   "source": [],
   "outputs": []
  }
 ],
 "metadata": {
  "kernelspec": {
   "display_name": "Python 3 (ipykernel)",
   "language": "python",
   "name": "python3"
  },
  "language_info": {
   "codemirror_mode": {
    "name": "ipython",
    "version": 3
   },
   "file_extension": ".py",
   "mimetype": "text/x-python",
   "name": "python",
   "nbconvert_exporter": "python",
   "pygments_lexer": "ipython3",
   "version": "3.10.14"
  }
 },
 "nbformat": 4,
 "nbformat_minor": 5
}

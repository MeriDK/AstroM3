{
 "cells": [
  {
   "cell_type": "code",
   "execution_count": 1,
   "id": "45ada3f8-20d8-4971-8d2f-405be50b5a9a",
   "metadata": {},
   "outputs": [],
   "source": [
    "import sys\n",
    "sys.path.insert(0, '..')\n",
    "\n",
    "import chromadb\n",
    "import torch\n",
    "import os\n",
    "import wandb\n",
    "import random\n",
    "import numpy as np\n",
    "import torch\n",
    "from datetime import datetime\n",
    "import matplotlib.pyplot as plt\n",
    "import pandas as pd\n",
    "from tqdm import tqdm\n",
    "import joblib\n",
    "\n",
    "from core.dataset import PSMDataset\n",
    "from core.model import GalSpecNet, MetaModel, Informer, AstroM3"
   ]
  },
  {
   "cell_type": "code",
   "execution_count": 2,
   "id": "14224e1f-e076-4876-a4e9-88efd33cc1b5",
   "metadata": {},
   "outputs": [
    {
     "name": "stderr",
     "output_type": "stream",
     "text": [
      "/tmp/ipykernel_40721/386440285.py:67: DtypeWarning: Columns (69) have mixed types. Specify dtype option on import or set low_memory=False.\n",
      "  df_org = pd.read_csv('/home/mariia/AstroML/data/asassn/asassn_catalog_full.csv')\n",
      "/global/home/users/mariia/miniforge3/envs/astro/lib/python3.10/site-packages/sklearn/base.py:376: InconsistentVersionWarning: Trying to unpickle estimator StandardScaler from version 1.5.1 when using version 1.5.2. This might lead to breaking code or invalid results. Use at your own risk. For more info please refer to:\n",
      "https://scikit-learn.org/stable/model_persistence.html#security-maintainability-limitations\n",
      "  warnings.warn(\n"
     ]
    }
   ],
   "source": [
    "CLASSES = ['EW', 'SR', 'EA', 'RRAB', 'EB', 'ROT', 'RRC', 'HADS', 'M', 'DSCT']\n",
    "\n",
    "METADATA_COLS = [\n",
    "    'mean_vmag',  'phot_g_mean_mag', 'e_phot_g_mean_mag', 'phot_bp_mean_mag', 'e_phot_bp_mean_mag', 'phot_rp_mean_mag', 'e_phot_rp_mean_mag',\n",
    "    'bp_rp', 'parallax', 'parallax_error', 'parallax_over_error', 'pmra', 'pmra_error', 'pmdec',\n",
    "    'pmdec_error', 'j_mag', 'e_j_mag', 'h_mag', 'e_h_mag', 'k_mag', 'e_k_mag', 'w1_mag', 'e_w1_mag',\n",
    "    'w2_mag', 'e_w2_mag', 'w3_mag', 'w4_mag', 'j_k', 'w1_w2', 'w3_w4', 'pm', 'ruwe', 'l', 'b'\n",
    "]\n",
    "\n",
    "PHOTO_COLS = ['amplitude', 'period', 'lksl_statistic', 'rfr_score']\n",
    "\n",
    "METADATA_FUNC = {\n",
    "    \"abs\": [\n",
    "        \"mean_vmag\",\n",
    "        \"phot_g_mean_mag\",\n",
    "        \"phot_bp_mean_mag\",\n",
    "        \"phot_rp_mean_mag\",\n",
    "        \"j_mag\",\n",
    "        \"h_mag\",\n",
    "        \"k_mag\",\n",
    "        \"w1_mag\",\n",
    "        \"w2_mag\",\n",
    "        \"w3_mag\",\n",
    "        \"w4_mag\",\n",
    "    ],\n",
    "    \"cos\": [\"l\"],\n",
    "    \"sin\": [\"b\"],\n",
    "    \"log\": [\"period\"]\n",
    "}\n",
    "\n",
    "BOOK = [\"id\", \"source_id\", \"asassn_name\", \"other_names\", \"raj2000\", \"dej2000\", \"epoch_hjd\", \"gdr2_id\", \"allwise_id\", \"apass_dr9_id\", \"edr3_source_id\", \"galex_id\", \"tic_id\"]\n",
    "\n",
    "LAMOST_DIR = '/home/mariia/AstroML/data/asassn/Spectra/v2'\n",
    "\n",
    "run_id = 'MeriDK/AstroCLIPOptuna3/nksu4l24'\n",
    "api = wandb.Api()\n",
    "run = api.run(run_id)\n",
    "config = run.config\n",
    "config['use_wandb'] = False\n",
    "\n",
    "model = AstroM3(config)\n",
    "device = torch.device('cuda:1' if torch.cuda.is_available() else 'cpu')\n",
    "model = model.to(device)\n",
    "model.eval()\n",
    "\n",
    "weights_path = os.path.join(config['weights_path'] + '-' + run_id.split('/')[-1], f'weights-best.pth')\n",
    "model.load_state_dict(torch.load(weights_path, weights_only=False))\n",
    "\n",
    "# this functions is from 028-meta-change.ipynb\n",
    "def transform(df):\n",
    "    for transformation_type, value in METADATA_FUNC.items():\n",
    "        if transformation_type == \"abs\":\n",
    "            for col in value:\n",
    "                df[col] = (\n",
    "                    df[col] - 10 + 5 * np.log10(np.where(df[\"parallax\"] <= 0, 1, df[\"parallax\"]))\n",
    "                )\n",
    "        elif transformation_type == \"cos\":\n",
    "            for col in value:\n",
    "                df[col] = np.cos(np.radians(df[col]))\n",
    "        elif transformation_type == \"sin\":\n",
    "            for col in value:\n",
    "                df[col] = np.sin(np.radians(df[col]))\n",
    "        elif transformation_type == \"log\":\n",
    "            for col in value:\n",
    "                df[col] = np.log10(df[col])\n",
    "\n",
    "df_org = pd.read_csv('/home/mariia/AstroML/data/asassn/asassn_catalog_full.csv')\n",
    "df_v = pd.read_csv('/home/mariia/AstroML/data/asassn/preprocessed_data/full_lb/v.csv')\n",
    "df_s = pd.read_csv('/home/mariia/AstroML/data/asassn/Spectra/lamost_spec.csv')\n",
    "scaler = joblib.load('/home/mariia/AstroML/data/asassn/preprocessed_data/full_lb/scaler.pkl')\n",
    "\n",
    "# change the name column in df_org so it matches df_v\n",
    "df_org['asassn_name'] = df_org['asassn_name'].apply(lambda x: x.replace(' ', ''))\n",
    "\n",
    "# drop filename duplicates from spectra df\n",
    "df_s = df_s.drop_duplicates(subset=['spec_filename'])\n",
    "\n",
    "# save the period, it'll be used for plots\n",
    "df_v.loc[:, 'org_period'] = df_v['period']\n",
    "\n",
    "# do the metadata and photo aux transformations\n",
    "transform(df_v)\n",
    "\n",
    "# normalize the metadata and photo aux\n",
    "cols = METADATA_COLS + PHOTO_COLS\n",
    "df_v.loc[:, cols] = scaler.transform(df_v[cols])\n",
    "\n",
    "ds = PSMDataset(config)\n",
    "chroma_client = chromadb.Client()\n",
    "photo_collection = chroma_client.get_or_create_collection(name='photo')"
   ]
  },
  {
   "cell_type": "code",
   "execution_count": 5,
   "id": "b9abf206-7321-449e-bc1f-e984aeb1e9d1",
   "metadata": {},
   "outputs": [],
   "source": [
    "data = photo_collection.get(\n",
    "    where={\"target\": \"SR\"}\n",
    ")"
   ]
  },
  {
   "cell_type": "code",
   "execution_count": 7,
   "id": "cef5c2f2-7f42-46e6-aea0-e6c43601cf53",
   "metadata": {},
   "outputs": [
    {
     "data": {
      "text/plain": [
       "0"
      ]
     },
     "execution_count": 7,
     "metadata": {},
     "output_type": "execute_result"
    }
   ],
   "source": [
    "photo_collection.count()"
   ]
  },
  {
   "cell_type": "code",
   "execution_count": null,
   "id": "bf1bfe7a-8d00-436c-a07b-3f8190369d10",
   "metadata": {},
   "outputs": [],
   "source": []
  },
  {
   "cell_type": "code",
   "execution_count": null,
   "id": "5f5cfe0d-8a09-44ac-ab3d-fb32984030a0",
   "metadata": {},
   "outputs": [],
   "source": []
  }
 ],
 "metadata": {
  "kernelspec": {
   "display_name": "Python 3 (ipykernel)",
   "language": "python",
   "name": "python3"
  },
  "language_info": {
   "codemirror_mode": {
    "name": "ipython",
    "version": 3
   },
   "file_extension": ".py",
   "mimetype": "text/x-python",
   "name": "python",
   "nbconvert_exporter": "python",
   "pygments_lexer": "ipython3",
   "version": "3.10.14"
  }
 },
 "nbformat": 4,
 "nbformat_minor": 5
}

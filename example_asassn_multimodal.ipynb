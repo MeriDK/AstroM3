{
 "cells": [
  {
   "cell_type": "markdown",
   "id": "022ba467-4cbe-48c1-84aa-2d0d929ca78d",
   "metadata": {},
   "source": [
    "# ASASSN Data\n",
    "\n",
    "## Preparation:\n",
    "\n",
    "   - Create a folder to hold the data (`data/asaasn`) \n",
    "   - Download the V-band data (https://drive.google.com/drive/folders/1IAtztpddDeh5XOiuxmLWdLUaT_quXkug)\n",
    "     Make sure you have the files in the data directory `asassn_catalog_full.csv` and `asassnvarlc_vband_complete.zip`\n",
    "     (Do not unzip the light curve file!)\n",
    "   - Download the g-band data (https://drive.google.com/drive/folders/1gxcIokRsw1eyPmbPZ0-C8blfRGItSOAu)\n",
    "     Make sure you have the files `asassn_variables_x.csv` and `g_band_lcs-001.tar.gz`. Unzip but do not untar this file:\n",
    "\n",
    "```bash\n",
    "unzip g_band_lcs-001.tar.gz\n",
    "```"
   ]
  },
  {
   "cell_type": "code",
   "execution_count": 5,
   "id": "d402d32f-3129-469a-bdd0-c674fcac8274",
   "metadata": {},
   "outputs": [],
   "source": [
    "from pathlib import Path\n",
    "import numpy as np\n",
    "from torch.utils.data import DataLoader\n",
    "from core.dataset_multimodal import collate_fn, ASASSNVarStarDataset"
   ]
  },
  {
   "cell_type": "code",
   "execution_count": 14,
   "id": "69fb1ea6-3d17-43e1-b583-1b929d640265",
   "metadata": {},
   "outputs": [
    {
     "name": "stdout",
     "output_type": "stream",
     "text": [
      "Opening v data files... Found 687695 sources. Wrote period cache file.\n",
      "done.\n",
      "Opening g data files... Found 378861 sources. done.\n",
      "Opening spectra csv...done.\n",
      "Keeping only v band sources with spectra... Left with 26412 sources. done.\n",
      "Keeping only g band sources with spectra... Left with 25965 sources. done.\n",
      "Merging bands...done.\n",
      "Opened period cache file\n",
      "Priming tarballs by doing initial scan...done.\n"
     ]
    }
   ],
   "source": [
    "datapath = Path(\"data/data/asaasn\")\n",
    "ds=ASASSNVarStarDataset(datapath,10,verbose=True,only_periodic=True,merge_type=\"inner\",\n",
    "                       recalc_period=True,prime=True,use_bands=[\"v\", \"g\"], only_sources_with_spectra=True)"
   ]
  },
  {
   "cell_type": "code",
   "execution_count": 16,
   "id": "acddcd72-845a-4195-8d26-bf9868c5762c",
   "metadata": {},
   "outputs": [
    {
     "name": "stdout",
     "output_type": "stream",
     "text": [
      " got period from cache \n",
      " got period from cache \n",
      "bookkeeping_data [27]\n",
      "classes (2,)\n",
      "lcs (167, 3), (209, 3)\n",
      "spectra (3879, 3), (3909, 3)\n",
      "phased (167, 3), (209, 3)\n",
      "metadata (89,)\n"
     ]
    }
   ],
   "source": [
    "## what's the structure of what we just made?\n",
    "for k, v in ds[0].items():\n",
    "    s = v[0]\n",
    "    if isinstance(s, (np.int64, int, float)):\n",
    "        rez = (1,)\n",
    "    elif isinstance(s, np.ndarray):\n",
    "        rez = s.shape\n",
    "    elif isinstance(s, list):\n",
    "        if len(s) == 0:\n",
    "            rez = \"None\"\n",
    "        else:\n",
    "            if isinstance(s[0], (tuple)):\n",
    "                rez = \", \".join(str(x.shape) for x in s[0]) \n",
    "            elif isinstance(s[0], (str, float, int)):\n",
    "                rez = f\"[{len(s)}]\"\n",
    "            else:\n",
    "                rez = \", \".join(str(x.shape) for x in s)           \n",
    "    else:\n",
    "        rez = \"?\"\n",
    "    print(k, rez)"
   ]
  },
  {
   "cell_type": "code",
   "execution_count": 17,
   "id": "9f9accc5-ee2a-4b48-b7cc-47b88ac2e641",
   "metadata": {},
   "outputs": [],
   "source": [
    "train_dataloader = DataLoader(ds, batch_size=2, shuffle=True,collate_fn=collate_fn, \n",
    "                              num_workers=4, pin_memory=True, multiprocessing_context=\"fork\")"
   ]
  },
  {
   "cell_type": "code",
   "execution_count": 21,
   "id": "c1022f48-9521-4381-b2a1-d0cb947a56f8",
   "metadata": {},
   "outputs": [],
   "source": [
    "batch = next(iter(train_dataloader))"
   ]
  },
  {
   "cell_type": "code",
   "execution_count": null,
   "id": "16c17970-2599-4bb7-bb26-d69a7942a26a",
   "metadata": {},
   "outputs": [],
   "source": []
  }
 ],
 "metadata": {
  "kernelspec": {
   "display_name": "multi_modal",
   "language": "python",
   "name": "multi_modal"
  },
  "language_info": {
   "codemirror_mode": {
    "name": "ipython",
    "version": 3
   },
   "file_extension": ".py",
   "mimetype": "text/x-python",
   "name": "python",
   "nbconvert_exporter": "python",
   "pygments_lexer": "ipython3",
   "version": "3.10.13"
  }
 },
 "nbformat": 4,
 "nbformat_minor": 5
}

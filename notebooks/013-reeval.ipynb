{
 "cells": [
  {
   "cell_type": "code",
   "execution_count": 36,
   "id": "2eb6c564-878a-448d-99f1-f6d062f98f66",
   "metadata": {},
   "source": [
    "import sys\n",
    "sys.path.insert(0, '..')\n",
    "\n",
    "import random\n",
    "import torch\n",
    "import numpy as np\n",
    "import pandas as pd\n",
    "from torch.utils.data import Dataset, DataLoader\n",
    "import matplotlib.pyplot as plt\n",
    "from scipy import stats\n",
    "from tqdm import tqdm\n",
    "from functools import partial\n",
    "from pathlib import Path\n",
    "from sklearn.metrics import confusion_matrix\n",
    "import seaborn as sns\n",
    "\n",
    "from core.multimodal.dataset import collate_fn, ASASSNVarStarDataset\n",
    "from core.multimodal.dataset2 import VGDataset\n",
    "from models.Informer import Informer"
   ],
   "outputs": []
  },
  {
   "cell_type": "code",
   "execution_count": 2,
   "id": "9e918fb2-4539-4eb2-9085-2e099c5af95a",
   "metadata": {},
   "source": [
    "g_data = VGDataset('/home/mariia/AstroML/data/asassn', 'g.csv', split='all')"
   ],
   "outputs": []
  },
  {
   "cell_type": "code",
   "execution_count": 7,
   "id": "65795b7e-3b69-4a15-9ac7-bfa59e107ec8",
   "metadata": {},
   "source": [
    "g_data.df['target'].value_counts().sort_index().index"
   ],
   "outputs": []
  },
  {
   "cell_type": "code",
   "execution_count": 97,
   "id": "bf3f5e1a-ed41-4d49-b9a3-ca2c54974b05",
   "metadata": {},
   "source": [
    "model"
   ],
   "outputs": []
  },
  {
   "cell_type": "code",
   "execution_count": null,
   "id": "06e8f50a-015b-4a53-8c28-5113233b2a31",
   "metadata": {},
   "source": [],
   "outputs": []
  },
  {
   "cell_type": "code",
   "execution_count": null,
   "id": "db3da136-6c0e-48d9-9671-53a7f0dca810",
   "metadata": {},
   "source": [],
   "outputs": []
  },
  {
   "cell_type": "code",
   "execution_count": null,
   "id": "e8c797f3-f0cb-42f3-9221-f9a45cd1bd92",
   "metadata": {},
   "source": [],
   "outputs": []
  },
  {
   "cell_type": "code",
   "execution_count": 9,
   "id": "6863a27a-33dd-4cd7-a66c-d726ea02a08f",
   "metadata": {},
   "source": [
    "CLASSES = ['CWA', 'CWB', 'DCEP', 'DCEPS', 'DSCT', 'EA', 'EB', 'EW',\n",
    "           'HADS', 'M', 'ROT', 'RRAB', 'RRC', 'RRD', 'RVA', 'SR']"
   ],
   "outputs": []
  },
  {
   "cell_type": "code",
   "execution_count": 95,
   "id": "64a9bf2c-e2f7-4ed6-b6cb-187b14764e28",
   "metadata": {},
   "source": [
    "val_dataset = VGDataset('/home/mariia/AstroML/data/asassn', 'g.csv', split='val', seq_len=200, max_samples=20000, phased=True, periodic=True, \n",
    "                        classes=CLASSES, clip=False, random_seed=66, scales='mean-mad')\n",
    "test_dataset = VGDataset('/home/mariia/AstroML/data/asassn', 'g.csv', split='test', seq_len=200, max_samples=20000, phased=True, periodic=True, \n",
    "                        classes=CLASSES, clip=False, random_seed=66, scales='mean-mad')"
   ],
   "outputs": []
  },
  {
   "cell_type": "code",
   "execution_count": 96,
   "id": "dd767c2a-d531-4a97-968d-f556de2a875c",
   "metadata": {},
   "source": [
    "ls = []\n",
    "\n",
    "for i in tqdm(np.random.randint(0, len(val_dataset), 10000)):\n",
    "    lc = val_dataset.get_glc(val_dataset.df.iloc[i]['name'])\n",
    "    ls.append(len(lc))"
   ],
   "outputs": []
  },
  {
   "cell_type": "code",
   "execution_count": 94,
   "id": "e7233573-af3c-4532-81aa-2d80a4e8c081",
   "metadata": {},
   "source": [
    "min(ls), max(ls), sum(ls) / len(ls)"
   ],
   "outputs": []
  },
  {
   "cell_type": "code",
   "execution_count": null,
   "id": "15117090-e197-429e-b924-d09f5ce9760a",
   "metadata": {},
   "source": [],
   "outputs": []
  },
  {
   "cell_type": "code",
   "execution_count": null,
   "id": "2fd44141-9915-447a-a777-eafc6862524b",
   "metadata": {},
   "source": [],
   "outputs": []
  },
  {
   "cell_type": "code",
   "execution_count": 47,
   "id": "45bc11b7-b2fd-4f8f-9158-6390b1a8bcd9",
   "metadata": {},
   "source": [
    "val_dataloader = DataLoader(val_dataset, batch_size=512, shuffle=False, num_workers=4)\n",
    "test_datalaoder = DataLoader(test_dataset, batch_size=512, shuffle=False, num_workers=4)"
   ],
   "outputs": []
  },
  {
   "cell_type": "code",
   "execution_count": 12,
   "id": "5673a71d-9e2a-45e4-8279-90aeb0ee9e49",
   "metadata": {},
   "source": [
    "mapping = {'CWA': 'CEPH', 'CWB': 'CEPH', 'DCEP': 'CEPH', 'DCEPS': 'CEPH', 'DSCT': 'DSCT', 'EA': 'ECL', 'EB': 'ECL', 'EW': 'ECL', 'HADS': 'DSCT', 'L': 'LPV', \n",
    "           'M': 'LPV', 'ROT': 'ROT', 'RRAB': 'RRAB', 'RRC': 'RRc/RRd', 'RRD': 'RRc/RRd', 'RVA': 'CEPH', 'SR': 'LPV', 'VAR': 'LPV', 'YSO': 'LPV'}"
   ],
   "outputs": []
  },
  {
   "cell_type": "code",
   "execution_count": 21,
   "id": "059d7a19-7d6f-4658-a4c4-351bcffd2c57",
   "metadata": {},
   "source": [
    "model = Informer(enc_in=2, d_model=128, n_heads=4, d_ff=512, e_layers=8, seq_len=200, num_class=v_data.num_classes)\n",
    "model.load_state_dict(torch.load('/home/mariia/AstroML/weights/2024-05-23-08-32-i5buxncs/weights-99.pth'))"
   ],
   "outputs": []
  },
  {
   "cell_type": "code",
   "execution_count": 27,
   "id": "51094af0-12b8-4e8f-a8f1-33d4f1273025",
   "metadata": {},
   "source": [
    "device = torch.device('cuda:3' if torch.cuda.is_available() else 'cpu')\n",
    "model = model.to(device)\n",
    "print('Using', device)"
   ],
   "outputs": []
  },
  {
   "cell_type": "code",
   "execution_count": 48,
   "id": "54da7cfb-5371-4f76-b46c-2c0f181bd28e",
   "metadata": {},
   "source": [
    "model.eval()\n",
    "\n",
    "all_true_labels = []\n",
    "all_predicted_labels = []\n",
    "\n",
    "for el in tqdm(val_dataloader):\n",
    "    with torch.no_grad():\n",
    "        X, mask, y = el\n",
    "        X, mask = X.to(device), mask.to(device)\n",
    "        X = X[:, :, 1:]\n",
    "\n",
    "        logits = model(X, mask)\n",
    "        probabilities = torch.nn.functional.softmax(logits, dim=1)\n",
    "        _, predicted_labels = torch.max(probabilities, dim=1)\n",
    "\n",
    "        all_true_labels.extend(y.numpy())\n",
    "        all_predicted_labels.extend(predicted_labels.cpu().numpy())"
   ],
   "outputs": []
  },
  {
   "cell_type": "code",
   "execution_count": 49,
   "id": "d6c5dc50-09a1-4af0-b432-8ddfd6f305d1",
   "metadata": {},
   "source": [
    "sum([all_true_labels[i] == all_predicted_labels[i] for i in range(len(all_predicted_labels))])/len(all_predicted_labels)"
   ],
   "outputs": []
  },
  {
   "cell_type": "code",
   "execution_count": 60,
   "id": "2f21789a-343e-4025-9386-ee2b2d8bfc3b",
   "metadata": {},
   "source": [
    "# Calculate confusion matrix\n",
    "conf_matrix = confusion_matrix(all_true_labels, all_predicted_labels)\n",
    "\n",
    "# Calculate percentage values for confusion matrix\n",
    "conf_matrix_percent = 100 * conf_matrix / conf_matrix.sum(axis=1)[:, np.newaxis]\n",
    "\n",
    "    # Get the labels from the id2target mapping\n",
    "labels = [val_dataset.id2target[i] for i in range(len(conf_matrix))]\n",
    "labels = [f'{el} [{mapping[el]}]' for el in labels]\n",
    "\n",
    "# Plot both confusion matrices side by side\n",
    "fig, axes = plt.subplots(nrows=1, ncols=2, figsize=(20, 7))\n",
    "\n",
    "# Plot absolute values confusion matrix\n",
    "sns.heatmap(conf_matrix, annot=True, fmt='d', cmap='Blues', xticklabels=labels, yticklabels=labels, ax=axes[0])\n",
    "axes[0].set_xlabel('Predicted')\n",
    "axes[0].set_ylabel('True')\n",
    "axes[0].set_title('Confusion Matrix - Absolute Values')\n",
    "\n",
    "# Plot percentage values confusion matrix\n",
    "sns.heatmap(conf_matrix_percent, annot=True, fmt='.0f', cmap='Blues', xticklabels=labels, yticklabels=labels, ax=axes[1])\n",
    "axes[1].set_xlabel('Predicted')\n",
    "axes[1].set_ylabel('True')\n",
    "axes[1].set_title('Confusion Matrix - Percentages')"
   ],
   "outputs": []
  },
  {
   "cell_type": "code",
   "execution_count": null,
   "id": "5b3f3c03-783a-4fe3-99ed-3fd578ae10a2",
   "metadata": {},
   "source": [],
   "outputs": []
  },
  {
   "cell_type": "code",
   "execution_count": null,
   "id": "9d4d105f-d9cf-488d-8aa4-6a689c88faee",
   "metadata": {},
   "source": [],
   "outputs": []
  },
  {
   "cell_type": "code",
   "execution_count": null,
   "id": "396c8bae-3cb4-45d9-a8a9-8ee11f833c4f",
   "metadata": {},
   "source": [],
   "outputs": []
  },
  {
   "cell_type": "code",
   "execution_count": null,
   "id": "78ec7e75-27aa-49fc-9e4e-06f8164102f7",
   "metadata": {},
   "source": [],
   "outputs": []
  },
  {
   "cell_type": "code",
   "execution_count": null,
   "id": "0f700d9f-2990-441b-b6b3-232123b5b72e",
   "metadata": {},
   "source": [],
   "outputs": []
  },
  {
   "cell_type": "code",
   "execution_count": null,
   "id": "c7a810b3-d4b8-4ecf-82c1-c84dfd6398c3",
   "metadata": {},
   "source": [],
   "outputs": []
  },
  {
   "cell_type": "code",
   "execution_count": null,
   "id": "c09618f3-6783-42c1-86f6-25e2717b70dd",
   "metadata": {},
   "source": [],
   "outputs": []
  },
  {
   "cell_type": "code",
   "execution_count": null,
   "id": "031010f2-6077-4ca7-9dfa-4d5e4abd7374",
   "metadata": {},
   "source": [],
   "outputs": []
  },
  {
   "cell_type": "code",
   "execution_count": null,
   "id": "185476da-de5c-4e4f-b51a-c0b125b220d6",
   "metadata": {},
   "source": [],
   "outputs": []
  },
  {
   "cell_type": "code",
   "execution_count": null,
   "id": "85c600db-9078-402c-91d9-4e9711eecfd6",
   "metadata": {},
   "source": [],
   "outputs": []
  },
  {
   "cell_type": "code",
   "execution_count": null,
   "id": "1b973cde-792a-40bf-9a07-f93b49be0d1b",
   "metadata": {},
   "source": [],
   "outputs": []
  },
  {
   "cell_type": "code",
   "execution_count": null,
   "id": "0951cb6c-90cd-4764-b538-699f69a8c2e2",
   "metadata": {},
   "source": [],
   "outputs": []
  },
  {
   "cell_type": "code",
   "execution_count": null,
   "id": "1ba3d52e-7f6d-4011-b53c-85c6657fa16a",
   "metadata": {},
   "source": [],
   "outputs": []
  },
  {
   "cell_type": "code",
   "execution_count": null,
   "id": "feea9b1c-7d4c-4b96-80a1-24482ef3bd38",
   "metadata": {},
   "source": [],
   "outputs": []
  },
  {
   "cell_type": "code",
   "execution_count": null,
   "id": "6f679cdf-00f7-48b0-b71e-4e92155e3cec",
   "metadata": {},
   "source": [],
   "outputs": []
  },
  {
   "cell_type": "code",
   "execution_count": null,
   "id": "17f583c1-415a-4e02-89ee-49d9782055ab",
   "metadata": {},
   "source": [],
   "outputs": []
  },
  {
   "cell_type": "code",
   "execution_count": null,
   "id": "fb8ae30a-cb8b-4c18-a26d-6d9f836fd4c4",
   "metadata": {},
   "source": [],
   "outputs": []
  },
  {
   "cell_type": "code",
   "execution_count": null,
   "id": "e7d3e9aa-88c9-4d21-ab64-c2e0c54ec3a6",
   "metadata": {},
   "source": [],
   "outputs": []
  },
  {
   "cell_type": "code",
   "execution_count": null,
   "id": "ae91899d-b312-4bab-8068-ce642d39b690",
   "metadata": {},
   "source": [],
   "outputs": []
  },
  {
   "cell_type": "code",
   "execution_count": null,
   "id": "04088453-083e-482d-8356-1d6176c87458",
   "metadata": {},
   "source": [],
   "outputs": []
  }
 ],
 "metadata": {
  "kernelspec": {
   "display_name": "Python 3 (ipykernel)",
   "language": "python",
   "name": "python3"
  },
  "language_info": {
   "codemirror_mode": {
    "name": "ipython",
    "version": 3
   },
   "file_extension": ".py",
   "mimetype": "text/x-python",
   "name": "python",
   "nbconvert_exporter": "python",
   "pygments_lexer": "ipython3",
   "version": "3.10.14"
  }
 },
 "nbformat": 4,
 "nbformat_minor": 5
}

{
 "cells": [
  {
   "cell_type": "code",
   "execution_count": 1,
   "id": "0d8f3d03-1b17-48f5-9000-3c382cea8430",
   "metadata": {},
   "source": [
    "import sys\n",
    "\n",
    "sys.path.insert(0, '..')"
   ],
   "outputs": []
  },
  {
   "cell_type": "code",
   "execution_count": 2,
   "id": "080ddaa4-32f2-4d32-848e-43b87b62900a",
   "metadata": {},
   "source": [
    "import os\n",
    "import numpy as np\n",
    "import random\n",
    "import torch\n",
    "import torch.nn as nn\n",
    "from torch.optim import AdamW\n",
    "from torch.utils.data import DataLoader\n",
    "from transformers import TimeSeriesTransformerConfig, TimeSeriesTransformerForPrediction, TimeSeriesTransformerModel\n",
    "from transformers.models.time_series_transformer.modeling_time_series_transformer import TimeSeriesTransformerEncoder\n",
    "import matplotlib.pyplot as plt\n",
    "from torch.optim.lr_scheduler import ReduceLROnPlateau\n",
    "from scipy import stats\n",
    "import seaborn as sns\n",
    "from sklearn.metrics import confusion_matrix\n",
    "\n",
    "from core.dataset import MachoDataset\n",
    "from core.trainer import PredictionTrainer, ClassificationTrainer\n",
    "from core.model import ClassificationModel"
   ],
   "outputs": []
  },
  {
   "cell_type": "code",
   "execution_count": 3,
   "id": "682dcce7-0d6a-4a14-92df-1f3afeef73fa",
   "metadata": {},
   "source": [
    "random_seed = 42\n",
    "torch.manual_seed(random_seed)\n",
    "np.random.seed(random_seed)\n",
    "random.seed(random_seed)\n",
    "torch.backends.cudnn.deterministic = True"
   ],
   "outputs": []
  },
  {
   "cell_type": "code",
   "execution_count": 4,
   "id": "f6c8bbe8-0bce-4930-858f-8250ae43eb71",
   "metadata": {},
   "source": [
    "class CustomModel(nn.Module):\n",
    "    def __init__(self, encoder, device, num_classes):\n",
    "        super(CustomModel, self).__init__()\n",
    "        \n",
    "        self.device = device\n",
    "        self.encoder = encoder\n",
    "        self.num_classes = num_classes\n",
    "        self.classifier = nn.Linear(self.encoder.config.d_model, num_classes)\n",
    "\n",
    "    def forward(self, values, mask):\n",
    "        encoder_outputs = self.encoder(inputs_embeds=values.unsqueeze(-1), attention_mask=mask)\n",
    "        emb = encoder_outputs.last_hidden_state[:, 0, :]     # we will use the 1 element only, analog to CLS?\n",
    "        res = self.classifier(emb)\n",
    "\n",
    "        return res"
   ],
   "outputs": []
  },
  {
   "cell_type": "code",
   "execution_count": 5,
   "id": "c8e51494-18c5-4b65-9c8b-5c8b6737fb3f",
   "metadata": {},
   "source": [
    "def train_epoch():\n",
    "    model.train()\n",
    "\n",
    "    total_loss = []\n",
    "    total_correct_predictions = 0\n",
    "    total_predictions = 0\n",
    "    \n",
    "    for batch in train_dataloader:\n",
    "        _, times, _, values, _, mask, aux, labels = batch\n",
    "        labels = labels.to(device)\n",
    "        values, mask = values.to(device), mask.to(device)\n",
    "    \n",
    "        optimizer.zero_grad()\n",
    "    \n",
    "        logits = model(values, mask)\n",
    "        loss = criterion(logits, labels)\n",
    "        total_loss.append(loss.item())\n",
    "    \n",
    "        probabilities = torch.nn.functional.softmax(logits, dim=1)\n",
    "        _, predicted_labels = torch.max(probabilities, dim=1)\n",
    "        correct_predictions = (predicted_labels == labels).sum().item()\n",
    "    \n",
    "        total_correct_predictions += correct_predictions\n",
    "        total_predictions += labels.size(0)\n",
    "    \n",
    "        loss.backward()\n",
    "        optimizer.step()\n",
    "\n",
    "    print(f'Total Loss: {round(sum(total_loss) / len(total_loss), 5)} Accuracy: {round(total_correct_predictions / total_predictions, 3)}', end=' ')"
   ],
   "outputs": []
  },
  {
   "cell_type": "code",
   "execution_count": 6,
   "id": "79297d48-e92e-4235-9a36-451b7018eff3",
   "metadata": {},
   "source": [
    "def val_epoch():\n",
    "    model.eval()\n",
    "\n",
    "    total_loss = []\n",
    "    total_correct_predictions = 0\n",
    "    total_predictions = 0\n",
    "\n",
    "    with torch.no_grad():\n",
    "        for batch in val_dataloader:\n",
    "            _, times, _, values, _, mask, aux, labels = batch\n",
    "            labels = labels.to(device)\n",
    "            values, mask = values.to(device), mask.to(device)\n",
    "\n",
    "            logits = model(values, mask)\n",
    "            loss = criterion(logits, labels)\n",
    "            total_loss.append(loss.item())\n",
    "\n",
    "            probabilities = torch.nn.functional.softmax(logits, dim=1)\n",
    "            _, predicted_labels = torch.max(probabilities, dim=1)\n",
    "            correct_predictions = (predicted_labels == labels).sum().item()\n",
    "\n",
    "            total_correct_predictions += correct_predictions\n",
    "            total_predictions += labels.size(0)\n",
    "\n",
    "    print(f'Total Loss: {round(sum(total_loss) / len(total_loss), 5)} Accuracy: {round(total_correct_predictions / total_predictions, 3)}')"
   ],
   "outputs": []
  },
  {
   "cell_type": "code",
   "execution_count": 22,
   "id": "51ace6c5-9aa0-431b-920f-9c70cea37b1f",
   "metadata": {},
   "source": [
    "batch = next(iter(val_dataloader))\n",
    "_, times, _, values, _, mask, aux, labels = batch\n",
    "labels.dtype"
   ],
   "outputs": []
  },
  {
   "cell_type": "code",
   "execution_count": 7,
   "id": "0266de47-436b-4ab4-bb1a-235ff84106b9",
   "metadata": {},
   "source": [
    "def plot_confusion(all_true_labels, all_predicted_labels):\n",
    "    # Calculate confusion matrix\n",
    "    conf_matrix = confusion_matrix(all_true_labels, all_predicted_labels)\n",
    "\n",
    "    # Calculate percentage values for confusion matrix\n",
    "    conf_matrix_percent = conf_matrix / conf_matrix.sum(axis=1)[:, np.newaxis]\n",
    "\n",
    "    # Plot both confusion matrices side by side\n",
    "    fig, axes = plt.subplots(nrows=1, ncols=2, figsize=(20, 7))\n",
    "\n",
    "    # Plot absolute values confusion matrix\n",
    "    sns.heatmap(conf_matrix, annot=True, fmt='d', cmap='Blues', ax=axes[0])\n",
    "    axes[0].set_xlabel('Predicted')\n",
    "    axes[0].set_ylabel('True')\n",
    "    axes[0].set_title('Confusion Matrix - Absolute Values')\n",
    "\n",
    "    # Plot percentage values confusion matrix\n",
    "    sns.heatmap(conf_matrix_percent, annot=True, fmt='.2%', cmap='Blues', ax=axes[1])\n",
    "    axes[1].set_xlabel('Predicted')\n",
    "    axes[1].set_ylabel('True')\n",
    "    axes[1].set_title('Confusion Matrix - Percentages')"
   ],
   "outputs": []
  },
  {
   "cell_type": "code",
   "execution_count": 8,
   "id": "644a1228-d7eb-487c-b8ef-9dc39dd699b1",
   "metadata": {},
   "source": [
    "config = {\n",
    "    'random_seed': random_seed,\n",
    "    'data_root': '/home/mrizhko/AML/contra_periodic/data/macho/',\n",
    "    'balanced_data_root': '/home/mrizhko/AML/AstroML/data/macho-balanced/',\n",
    "    'weights_path': '/home/mrizhko/AML/AstroML/weights/',\n",
    "\n",
    "    # Time Series Transformer\n",
    "    'lags': None,  # ?\n",
    "    'distribution_output': 'normal',\n",
    "    'num_static_real_features': 0,  # if 0 we don't use real features\n",
    "    'num_time_features': 1,\n",
    "    'd_model': 512,\n",
    "    'decoder_layers': 4,\n",
    "    'encoder_layers': 2,\n",
    "    'dropout': 0,\n",
    "    'encoder_layerdrop': 0,\n",
    "    'decoder_layerdrop': 0,\n",
    "    'attention_dropout': 0,\n",
    "    'activation_dropout': 0,\n",
    "\n",
    "    # Data\n",
    "    'window_length': 200,\n",
    "    'prediction_length': 0,  # 1 5 10 25 50\n",
    "\n",
    "    # Training\n",
    "    'batch_size': 256,\n",
    "    'lr': 1e-3,\n",
    "    'weight_decay': 0,\n",
    "    'epochs_pre_training': 1000,\n",
    "    'epochs_fine_tuning': 100,\n",
    "    \n",
    "    # Learning Rate Scheduler\n",
    "    'factor': 0.3,\n",
    "    'patience': 10,\n",
    "\n",
    "    'mode': 'fine-tuning',  # 'pre-training' 'fine-tuning' 'both'\n",
    "    'save_weights': False,\n",
    "    'config_from_run': None,  # 'MeriDK/AstroML/qtun67bq'\n",
    "}"
   ],
   "outputs": []
  },
  {
   "cell_type": "code",
   "execution_count": 9,
   "id": "dbbaa67d-01f0-40f1-8cf4-05d0b16e8d70",
   "metadata": {},
   "source": [
    "device = torch.device('cuda:2' if torch.cuda.is_available() else 'cpu')\n",
    "print('Using', device)"
   ],
   "outputs": []
  },
  {
   "cell_type": "code",
   "execution_count": 10,
   "id": "e617d060-2454-469a-8660-3c405b423909",
   "metadata": {},
   "source": [
    "train_dataset = MachoDataset(config['data_root'], config['window_length'], mode='train')\n",
    "train_dataloader = DataLoader(train_dataset, batch_size=config['batch_size'], shuffle=True)"
   ],
   "outputs": []
  },
  {
   "cell_type": "code",
   "execution_count": 11,
   "id": "1fec62da-bce2-4975-a860-02b44e30d031",
   "metadata": {},
   "source": [
    "val_dataset = MachoDataset(config['data_root'], config['window_length'], mode='val')\n",
    "val_dataloader = DataLoader(val_dataset, batch_size=config['batch_size'], shuffle=False)"
   ],
   "outputs": []
  },
  {
   "cell_type": "code",
   "execution_count": 12,
   "id": "bbb873e9-2c68-4158-9dad-7ed0b9ea3391",
   "metadata": {},
   "source": [
    "len(train_dataset), len(val_dataset)"
   ],
   "outputs": []
  },
  {
   "cell_type": "code",
   "execution_count": 13,
   "id": "0974759c-e2e6-4674-82ee-71b2a07fb28b",
   "metadata": {},
   "source": [
    "transformer_config = TimeSeriesTransformerConfig(\n",
    "    prediction_length=10,\n",
    "    context_length=200,\n",
    "    num_time_features=config['num_time_features'],\n",
    "    num_static_real_features=config['num_static_real_features'],\n",
    "    encoder_layers=config['encoder_layers'],\n",
    "    d_model=config['d_model'],\n",
    "    distribution_output='normal',\n",
    "    scaling=None,\n",
    "    dropout=config['dropout'],\n",
    "    encoder_layerdrop=config['encoder_layerdrop'],\n",
    "    decoder_layerdrop=config['decoder_layerdrop'],\n",
    "    attention_dropout=config['attention_dropout'],\n",
    "    activation_dropout=config['activation_dropout']\n",
    ")\n",
    "transformer_config.feature_size = 1"
   ],
   "outputs": []
  },
  {
   "cell_type": "code",
   "execution_count": 14,
   "id": "5de6df52-ceab-406a-953f-5fc0b41af21f",
   "metadata": {},
   "source": [
    "encoder = TimeSeriesTransformerEncoder(transformer_config)"
   ],
   "outputs": []
  },
  {
   "cell_type": "code",
   "execution_count": 15,
   "id": "939fe407-3454-4ede-b12d-b393a6bcd589",
   "metadata": {},
   "source": [
    "model = CustomModel(encoder, device, 8)"
   ],
   "outputs": []
  },
  {
   "cell_type": "code",
   "execution_count": 16,
   "id": "64688afe-3335-4f3c-8032-65fcf59d1f70",
   "metadata": {},
   "source": [
    "optimizer = AdamW(model.parameters(), lr=config['lr'])\n",
    "scheduler = ReduceLROnPlateau(optimizer, mode='min', factor=config['factor'], patience=config['patience'], verbose=True)\n",
    "criterion = nn.CrossEntropyLoss()\n",
    "model = model.to(device)"
   ],
   "outputs": []
  },
  {
   "cell_type": "code",
   "execution_count": 18,
   "id": "3c30c269-fa70-41d2-a496-393e1146676a",
   "metadata": {},
   "source": [
    "for i in range(10):\n",
    "    print(f'Epoch {i}', end=' ')\n",
    "    train_epoch()\n",
    "    val_epoch()"
   ],
   "outputs": []
  },
  {
   "cell_type": "code",
   "execution_count": 61,
   "id": "40002420-ec9f-47bd-bf10-469292657596",
   "metadata": {},
   "source": [
    "model.eval()\n",
    "\n",
    "y_pred = []\n",
    "y_true = []\n",
    "\n",
    "with torch.no_grad():\n",
    "    for batch in val_dataloader:\n",
    "        _, times, _, values, _, mask, aux, labels = batch\n",
    "        values, mask = values.to(device), mask.to(device)\n",
    "    \n",
    "        logits = model(values, mask)\n",
    "        probabilities = torch.nn.functional.softmax(logits, dim=1)\n",
    "        _, predicted_labels = torch.max(probabilities, dim=1)\n",
    "\n",
    "        y_pred.append(predicted_labels)\n",
    "        y_true.append(labels)\n",
    "\n",
    "y_pred = torch.hstack(y_pred).cpu()\n",
    "y_true = torch.hstack(y_true)"
   ],
   "outputs": []
  },
  {
   "cell_type": "code",
   "execution_count": 62,
   "id": "e3736223-73ab-482b-aaed-6dcbcb24aef4",
   "metadata": {},
   "source": [
    "plot_confusion(y_true, y_pred)"
   ],
   "outputs": []
  },
  {
   "cell_type": "code",
   "execution_count": null,
   "id": "df4899c1-0894-4a02-b424-56565fe53773",
   "metadata": {},
   "source": [],
   "outputs": []
  },
  {
   "cell_type": "code",
   "execution_count": 38,
   "id": "eae7feac-fc52-4fa5-b56a-53b268c7762e",
   "metadata": {},
   "source": [
    "_, times, _, values, _, mask, aux, labels = next(iter(train_dataloader))"
   ],
   "outputs": []
  },
  {
   "cell_type": "code",
   "execution_count": null,
   "id": "caa6674f-7b35-41a4-a60c-6417d4c4ce62",
   "metadata": {},
   "source": [],
   "outputs": []
  },
  {
   "cell_type": "code",
   "execution_count": 39,
   "id": "e5b7fd06-888e-4095-8bc1-d5e6b8bed6f9",
   "metadata": {},
   "source": [
    "times.shape, values.shape, mask.shape"
   ],
   "outputs": []
  },
  {
   "cell_type": "code",
   "execution_count": 40,
   "id": "d4785aa9-493b-4303-8c2c-5eff4ddd18c3",
   "metadata": {},
   "source": [
    "values.unsqueeze(-1).shape"
   ],
   "outputs": []
  },
  {
   "cell_type": "code",
   "execution_count": 45,
   "id": "701d34d5-5766-4f68-8960-d294b6b230b1",
   "metadata": {},
   "source": [
    "encoder_outputs = encoder(\n",
    "    inputs_embeds=values.unsqueeze(-1),\n",
    "    attention_mask=mask,\n",
    ")"
   ],
   "outputs": []
  },
  {
   "cell_type": "code",
   "execution_count": 46,
   "id": "cc0e6f6f-0aa6-43e5-92c9-29b859086cab",
   "metadata": {},
   "source": [
    "encoder_outputs.last_hidden_state.shape"
   ],
   "outputs": []
  },
  {
   "cell_type": "code",
   "execution_count": 58,
   "id": "eaf3745d-0d00-4ebf-a970-7d487b9d5ca0",
   "metadata": {},
   "source": [
    "model(values, mask).shape"
   ],
   "outputs": []
  },
  {
   "cell_type": "code",
   "execution_count": null,
   "id": "a55f6a31-3cf7-4748-ba13-f6284886cdd8",
   "metadata": {},
   "source": [],
   "outputs": []
  },
  {
   "cell_type": "code",
   "execution_count": null,
   "id": "eb442e3c-fc5a-45f7-b791-073b592e4de9",
   "metadata": {},
   "source": [],
   "outputs": []
  },
  {
   "cell_type": "code",
   "execution_count": null,
   "id": "e261da57-b370-49fd-92d6-4c25ae7b29ef",
   "metadata": {},
   "source": [],
   "outputs": []
  },
  {
   "cell_type": "code",
   "execution_count": null,
   "id": "29b50f66-1691-4d41-bb28-1e4e2ef67a1c",
   "metadata": {},
   "source": [],
   "outputs": []
  },
  {
   "cell_type": "code",
   "execution_count": null,
   "id": "f43b10e8-8167-4569-9da3-b82bfbe3e8dc",
   "metadata": {},
   "source": [],
   "outputs": []
  },
  {
   "cell_type": "code",
   "execution_count": 18,
   "id": "faf3d3eb-c684-49a0-9cf1-4c68ebbe75b8",
   "metadata": {},
   "source": [
    "embedder = TimeSeriesTransformerModel(transformer_config)"
   ],
   "outputs": []
  },
  {
   "cell_type": "code",
   "execution_count": 19,
   "id": "1a431e89-e718-4b1a-bc52-b6061b0f336b",
   "metadata": {},
   "source": [
    "model = ClassificationModel(pretrained_model=embedder, device=device)\n"
   ],
   "outputs": []
  },
  {
   "cell_type": "code",
   "execution_count": 20,
   "id": "ebbee950-1bfb-4f3c-97f6-8dfb922d3e44",
   "metadata": {},
   "source": [
    "trainer = ClassificationTrainer(model=model, optimizer=optimizer, scheduler=scheduler, \n",
    "                                criterion=criterion, device=device)"
   ],
   "outputs": []
  },
  {
   "cell_type": "code",
   "execution_count": 21,
   "id": "b271efcb-e702-464b-ae5a-f4583c280649",
   "metadata": {},
   "source": [
    "trainer.train(train_dataloader, train_dataloader, epochs=1000)"
   ],
   "outputs": []
  },
  {
   "cell_type": "code",
   "execution_count": 22,
   "id": "2512d05e-29aa-4310-a319-4a6e27c89301",
   "metadata": {},
   "source": [
    "val_dataset = MachoDataset(config['balanced_data_root'], config['prediction_length'], mode='val')\n",
    "val_dataloader = DataLoader(val_dataset, batch_size=config['batch_size'], shuffle=False)"
   ],
   "outputs": []
  },
  {
   "cell_type": "code",
   "execution_count": 23,
   "id": "e66b5412-7e1b-4678-8403-64a1a8e9671b",
   "metadata": {},
   "source": [
    "print(trainer.val_epoch(val_dataloader))\n",
    "trainer.evaluate(val_dataloader)"
   ],
   "outputs": []
  },
  {
   "cell_type": "code",
   "execution_count": 24,
   "id": "dc8aeaab-00eb-41bd-8e88-f4d70b9f1634",
   "metadata": {},
   "source": [
    "print(trainer.val_epoch(train_dataloader))\n",
    "trainer.evaluate(train_dataloader)"
   ],
   "outputs": []
  },
  {
   "cell_type": "code",
   "execution_count": null,
   "id": "69274e37-3957-46d5-a77d-a0c27a2ebbe8",
   "metadata": {},
   "source": [],
   "outputs": []
  },
  {
   "cell_type": "code",
   "execution_count": null,
   "id": "214a7042-b6db-48a5-88a2-b657b5cf17a0",
   "metadata": {},
   "source": [],
   "outputs": []
  },
  {
   "cell_type": "code",
   "execution_count": null,
   "id": "39a6e19b-7d62-46ae-acee-87557a1add28",
   "metadata": {},
   "source": [],
   "outputs": []
  }
 ],
 "metadata": {
  "kernelspec": {
   "display_name": "Python 3 (ipykernel)",
   "language": "python",
   "name": "python3"
  },
  "language_info": {
   "codemirror_mode": {
    "name": "ipython",
    "version": 3
   },
   "file_extension": ".py",
   "mimetype": "text/x-python",
   "name": "python",
   "nbconvert_exporter": "python",
   "pygments_lexer": "ipython3",
   "version": "3.10.12"
  }
 },
 "nbformat": 4,
 "nbformat_minor": 5
}

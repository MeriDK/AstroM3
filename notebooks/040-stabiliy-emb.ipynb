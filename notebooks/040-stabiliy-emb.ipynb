{
 "cells": [
  {
   "cell_type": "code",
   "execution_count": 1,
   "id": "89377344-46ac-42a8-8947-e442d8beb39c",
   "metadata": {},
   "source": [
    "import sys\n",
    "sys.path.insert(0, '..')\n",
    "\n",
    "import torch\n",
    "import os\n",
    "import wandb\n",
    "import random\n",
    "import numpy as np\n",
    "import torch\n",
    "from torch import nn\n",
    "from torch.optim import Adam\n",
    "from ignite.handlers.param_scheduler import create_lr_scheduler_with_warmup\n",
    "from torch.utils.data import DataLoader\n",
    "from datetime import datetime\n",
    "import matplotlib.pyplot as plt\n",
    "import pandas as pd\n",
    "from scipy import stats\n",
    "from tqdm import tqdm\n",
    "from matplotlib import cm\n",
    "import seaborn as sns\n",
    "import matplotlib.lines as mlines\n",
    "from sklearn.decomposition import PCA\n",
    "from openTSNE import TSNE\n",
    "from PIL import Image\n",
    "import umap\n",
    "import torch.nn.functional as F\n",
    "from scipy.spatial.distance import cdist\n",
    "import umap.plot\n",
    "from sklearn.neighbors import LocalOutlierFactor\n",
    "from sklearn.ensemble import IsolationForest\n",
    "from sklearn.cluster import DBSCAN\n",
    "import random\n",
    "import joblib\n",
    "\n",
    "from core.final.dataset import PSMDataset\n",
    "from core.final.model import GalSpecNet, MetaModel, Informer, AstroModel\n",
    "from core.final.trainer import Trainer"
   ],
   "outputs": []
  },
  {
   "cell_type": "code",
   "execution_count": 4,
   "id": "5064d1a4-0a53-4359-a83f-949759ed7547",
   "metadata": {},
   "source": [
    "def plot_one_embs(embeddings, targets):\n",
    "    plt.figure(figsize=(10, 8))\n",
    "    \n",
    "    for class_name in sorted_classes:\n",
    "        class_id = target2id[class_name]\n",
    "        class_mask = targets == class_id\n",
    "        plt.scatter(embeddings[class_mask, 0], embeddings[class_mask, 1], \n",
    "                    color=palette[class_id], label=class_name, alpha=1.0, s=marker_size)\n",
    "        \n",
    "    handles_colors = [mlines.Line2D([], [], color=palette[target2id[class_name]], marker='o', linestyle='None', markersize=8, \n",
    "                      label=class_name) for class_name in sorted_classes]\n",
    "    plt.legend(handles=handles_colors, loc='upper right', bbox_to_anchor=(1.15, 1), fontsize=10, title=\"Classes\")\n",
    "    plt.xlabel(\"UMAP Dimension 1\")\n",
    "    plt.ylabel(\"UMAP Dimension 2\")\n",
    "    plt.show()"
   ],
   "outputs": []
  },
  {
   "cell_type": "code",
   "execution_count": 5,
   "id": "6423a4ad-d977-419e-b662-b97996c45d1d",
   "metadata": {},
   "source": [
    "def get_embs(dataloader):\n",
    "    all_p_emb, all_s_emb, all_m_emb = [], [], []\n",
    "    all_labels = []\n",
    "    \n",
    "    for photometry, photometry_mask, spectra, metadata, labels in tqdm(dataloader):\n",
    "        photometry, photometry_mask = photometry.to(device), photometry_mask.to(device)\n",
    "        spectra, metadata = spectra.to(device), metadata.to(device)\n",
    "    \n",
    "        with torch.no_grad():\n",
    "            p_emb, s_emb, m_emb = model.get_embeddings(photometry, photometry_mask, spectra, metadata)\n",
    "    \n",
    "            all_p_emb.append(p_emb.cpu())\n",
    "            all_s_emb.append(s_emb.cpu())\n",
    "            all_m_emb.append(m_emb.cpu())\n",
    "            all_labels.append(labels)\n",
    "    \n",
    "    all_p_emb = torch.vstack(all_p_emb)\n",
    "    all_s_emb = torch.vstack(all_s_emb)\n",
    "    all_m_emb = torch.vstack(all_m_emb)\n",
    "    all_labels = torch.hstack(all_labels)\n",
    "\n",
    "    return all_p_emb, all_s_emb, all_m_emb, all_labels"
   ],
   "outputs": []
  },
  {
   "cell_type": "code",
   "execution_count": 14,
   "id": "1b452cb5-7768-49e8-85a0-55bfc5cc52a9",
   "metadata": {},
   "source": [
    "random_seed = 42\n",
    "torch.manual_seed(random_seed)\n",
    "torch.cuda.manual_seed(random_seed)\n",
    "np.random.seed(random_seed)\n",
    "random.seed(random_seed)\n",
    "torch.backends.cudnn.deterministic = True\n",
    "torch.backends.cudnn.benchmark = False"
   ],
   "outputs": []
  },
  {
   "cell_type": "code",
   "execution_count": 111,
   "id": "16c9f2a0-0f04-411b-9a84-eec3edd8c36b",
   "metadata": {},
   "source": [
    "run_id = 'MeriDK/AstroCLIPResults3/2wz4ysvn'\n",
    "api = wandb.Api()\n",
    "run = api.run(run_id)\n",
    "config = run.config\n",
    "config['use_wandb'] = False\n",
    "device = torch.device('cuda:1' if torch.cuda.is_available() else 'cpu')\n",
    "\n",
    "model = AstroModel(config)\n",
    "model = model.to(device)\n",
    "model.eval()\n",
    "\n",
    "weights_path = os.path.join(config['weights_path'] + '-' + run_id.split('/')[-1], f'weights-best.pth')\n",
    "model.load_state_dict(torch.load(weights_path, weights_only=False))"
   ],
   "outputs": []
  },
  {
   "cell_type": "code",
   "execution_count": 112,
   "id": "0b85fd41-37fc-4fce-91a4-e6d86722e8bd",
   "metadata": {},
   "source": [
    "config['file'] = 'preprocessed_data/sub50_lb/spectra_and_v'\n",
    "\n",
    "train_dataset = PSMDataset(config, split='train')\n",
    "train_dataloader = DataLoader(train_dataset, batch_size=config['batch_size'], shuffle=False)\n",
    "\n",
    "test_dataset = PSMDataset(config, split='test')\n",
    "test_dataloader = DataLoader(test_dataset, batch_size=config['batch_size'], shuffle=False)"
   ],
   "outputs": []
  },
  {
   "cell_type": "code",
   "execution_count": 117,
   "id": "b914aca7-d6dc-4580-b383-23db1ecbf041",
   "metadata": {},
   "source": [
    "class_freq = test_dataset.df['target'].value_counts()\n",
    "sorted_classes = class_freq.index\n",
    "\n",
    "id2target = test_dataset.id2target\n",
    "target2id = test_dataset.target2id\n",
    "\n",
    "palette = sns.color_palette(\"Spectral\", len(id2target))\n",
    "palette[3], palette[-4] = palette[-4], palette[3] \n",
    "palette[1], palette[-2] = palette[-2], palette[1] \n",
    "marker_size = 12"
   ],
   "outputs": []
  },
  {
   "cell_type": "code",
   "execution_count": 113,
   "id": "9fec370f-2d8f-48b5-8e97-e72bab3c5ae7",
   "metadata": {},
   "source": [
    "train_p_emb, train_s_emb, train_m_emb, train_labels = get_embs(train_dataloader)\n",
    "test_p_emb, test_s_emb, test_m_emb, test_labels = get_embs(test_dataloader)\n",
    "\n",
    "train_emb = (train_p_emb + train_s_emb + train_m_emb) / 3\n",
    "test_emb = (test_p_emb + test_s_emb + test_m_emb) / 3"
   ],
   "outputs": []
  },
  {
   "cell_type": "code",
   "execution_count": 115,
   "id": "7e3bcac8-cd61-4675-8b66-76468f29ce0c",
   "metadata": {},
   "source": [
    "umap = joblib.load('umap.pkl')\n",
    "train_umap = umap.transform(train_emb)\n",
    "test_umap = umap.transform(test_emb)"
   ],
   "outputs": []
  },
  {
   "cell_type": "code",
   "execution_count": 118,
   "id": "4e303b84-ced2-4d0f-bcd2-744fe8a5c460",
   "metadata": {},
   "source": [
    "plot_one_embs(train_umap, train_labels)"
   ],
   "outputs": []
  },
  {
   "cell_type": "code",
   "execution_count": null,
   "id": "3aa0ec26-b1b5-40c7-b378-fb8ae13f333d",
   "metadata": {},
   "source": [],
   "outputs": []
  },
  {
   "cell_type": "code",
   "execution_count": null,
   "id": "301ac43a-e046-428a-b233-d45f8c14236a",
   "metadata": {},
   "source": [],
   "outputs": []
  },
  {
   "cell_type": "code",
   "execution_count": null,
   "id": "ca0f406c-2f78-4543-b33b-822aeac189e4",
   "metadata": {},
   "source": [],
   "outputs": []
  },
  {
   "cell_type": "code",
   "execution_count": null,
   "id": "50a43460-8776-47a3-8a9c-1f209aa11756",
   "metadata": {},
   "source": [],
   "outputs": []
  },
  {
   "cell_type": "code",
   "execution_count": null,
   "id": "99e86dc0-a650-4468-b5cd-9e779c16c6a7",
   "metadata": {},
   "source": [],
   "outputs": []
  },
  {
   "cell_type": "code",
   "execution_count": null,
   "id": "82a274a0-ee10-4ca1-919f-8633cf9525b3",
   "metadata": {},
   "source": [],
   "outputs": []
  },
  {
   "cell_type": "code",
   "execution_count": null,
   "id": "37dd8971-e0b9-4991-8347-720c957a580a",
   "metadata": {},
   "source": [],
   "outputs": []
  },
  {
   "cell_type": "code",
   "execution_count": null,
   "id": "6e3539ea-3394-4ffd-8f9f-243864ca88eb",
   "metadata": {},
   "source": [],
   "outputs": []
  },
  {
   "cell_type": "code",
   "execution_count": null,
   "id": "7c6c0dee-243d-43bd-b24f-9c4bb23b1b48",
   "metadata": {},
   "source": [],
   "outputs": []
  },
  {
   "cell_type": "code",
   "execution_count": null,
   "id": "16391044-5e22-4f45-9377-0a5128a6cd20",
   "metadata": {},
   "source": [],
   "outputs": []
  },
  {
   "cell_type": "code",
   "execution_count": null,
   "id": "3a132580-69ce-4b10-9efd-2539ee06edc4",
   "metadata": {},
   "source": [],
   "outputs": []
  },
  {
   "cell_type": "code",
   "execution_count": null,
   "id": "b3fb33bc-a1e5-4da2-b648-1dcfc886474b",
   "metadata": {},
   "source": [],
   "outputs": []
  },
  {
   "cell_type": "code",
   "execution_count": null,
   "id": "82cf2a85-45b0-4994-bf2c-7800b2b53c01",
   "metadata": {},
   "source": [],
   "outputs": []
  },
  {
   "cell_type": "code",
   "execution_count": null,
   "id": "80b32e2a-f3fd-4a26-b553-e13294facf25",
   "metadata": {},
   "source": [],
   "outputs": []
  },
  {
   "cell_type": "code",
   "execution_count": null,
   "id": "4541428c-c2b9-4504-a557-4d186f0502d7",
   "metadata": {},
   "source": [],
   "outputs": []
  },
  {
   "cell_type": "code",
   "execution_count": null,
   "id": "e1ad1b3f-34be-41bf-81f7-dc98644303ae",
   "metadata": {},
   "source": [],
   "outputs": []
  },
  {
   "cell_type": "code",
   "execution_count": null,
   "id": "a015de32-73b3-410a-a96f-e1a5ec2d8f47",
   "metadata": {},
   "source": [],
   "outputs": []
  },
  {
   "cell_type": "code",
   "execution_count": null,
   "id": "4d5a339e-a720-4ab6-a087-9c020a66f3cf",
   "metadata": {},
   "source": [],
   "outputs": []
  },
  {
   "cell_type": "code",
   "execution_count": null,
   "id": "18df67c1-5f78-49f1-bc81-00f70fb4a559",
   "metadata": {},
   "source": [],
   "outputs": []
  },
  {
   "cell_type": "code",
   "execution_count": null,
   "id": "336b2bda-7d38-4dae-9056-8f66d9534298",
   "metadata": {},
   "source": [],
   "outputs": []
  },
  {
   "cell_type": "code",
   "execution_count": null,
   "id": "0203ec19-80e6-42d4-a8c2-cc96480f9e4e",
   "metadata": {},
   "source": [],
   "outputs": []
  },
  {
   "cell_type": "code",
   "execution_count": null,
   "id": "777b2a04-fe20-4ca2-af7f-f4209ed912b7",
   "metadata": {},
   "source": [],
   "outputs": []
  },
  {
   "cell_type": "code",
   "execution_count": null,
   "id": "2c7ecf28-3f73-44f7-90e3-ff1d1c876eb0",
   "metadata": {},
   "source": [],
   "outputs": []
  },
  {
   "cell_type": "code",
   "execution_count": null,
   "id": "eb3a28ab-3a3e-46bf-a33f-691570c57597",
   "metadata": {},
   "source": [],
   "outputs": []
  },
  {
   "cell_type": "code",
   "execution_count": null,
   "id": "bfc4b478-921f-432f-9c93-206d6aea6a59",
   "metadata": {},
   "source": [],
   "outputs": []
  },
  {
   "cell_type": "code",
   "execution_count": null,
   "id": "339e7cfc-662b-48d2-8cda-da8691e6e75b",
   "metadata": {},
   "source": [],
   "outputs": []
  },
  {
   "cell_type": "code",
   "execution_count": null,
   "id": "b4a59dbf-2d4d-44cf-9371-09979ac1f403",
   "metadata": {},
   "source": [],
   "outputs": []
  },
  {
   "cell_type": "code",
   "execution_count": null,
   "id": "0b698345-8734-40f1-92df-0d300a79f293",
   "metadata": {},
   "source": [],
   "outputs": []
  },
  {
   "cell_type": "code",
   "execution_count": null,
   "id": "c559245f-40d9-4cce-a88f-15ce18cf1f25",
   "metadata": {},
   "source": [],
   "outputs": []
  },
  {
   "cell_type": "code",
   "execution_count": null,
   "id": "8d6cf7a4-6ea6-4b89-b820-b16699480f31",
   "metadata": {},
   "source": [],
   "outputs": []
  },
  {
   "cell_type": "code",
   "execution_count": null,
   "id": "4fbed35a-83b9-4491-8ecb-2a5c5d9b332a",
   "metadata": {},
   "source": [],
   "outputs": []
  },
  {
   "cell_type": "code",
   "execution_count": null,
   "id": "9c16549f-6739-4c36-bb23-bf4bb509caf0",
   "metadata": {},
   "source": [],
   "outputs": []
  },
  {
   "cell_type": "code",
   "execution_count": null,
   "id": "dc76ab15-5c5a-46e8-af27-95f23d06ce62",
   "metadata": {},
   "source": [],
   "outputs": []
  },
  {
   "cell_type": "code",
   "execution_count": null,
   "id": "48e52ece-86d8-47a4-bb75-bf6e9ed5ee13",
   "metadata": {},
   "source": [],
   "outputs": []
  },
  {
   "cell_type": "code",
   "execution_count": null,
   "id": "3567c6de-e11c-4c55-a3ab-a44ceea2b81c",
   "metadata": {},
   "source": [],
   "outputs": []
  },
  {
   "cell_type": "code",
   "execution_count": null,
   "id": "84c7f491-7032-44f5-825b-33c1f7f84538",
   "metadata": {},
   "source": [],
   "outputs": []
  },
  {
   "cell_type": "code",
   "execution_count": null,
   "id": "a652e093-2de0-40a1-b60d-bc66ad883b57",
   "metadata": {},
   "source": [],
   "outputs": []
  },
  {
   "cell_type": "code",
   "execution_count": null,
   "id": "7859bb61-5971-4f77-afe3-25c0eb437af4",
   "metadata": {},
   "source": [],
   "outputs": []
  },
  {
   "cell_type": "code",
   "execution_count": null,
   "id": "8ad5197c-157b-412b-a472-1bab75a130b9",
   "metadata": {},
   "source": [],
   "outputs": []
  },
  {
   "cell_type": "code",
   "execution_count": null,
   "id": "874bd3aa-a04d-45fb-888d-1baaf50a49f3",
   "metadata": {},
   "source": [],
   "outputs": []
  },
  {
   "cell_type": "code",
   "execution_count": null,
   "id": "d28c3a9e-9d16-4312-9363-31ecf5034c2f",
   "metadata": {},
   "source": [],
   "outputs": []
  },
  {
   "cell_type": "code",
   "execution_count": null,
   "id": "9cf314ed-18ce-4847-a868-c17ed8473851",
   "metadata": {},
   "source": [],
   "outputs": []
  },
  {
   "cell_type": "code",
   "execution_count": null,
   "id": "c6160576-6aee-43b3-abe9-722c6cbe4c27",
   "metadata": {},
   "source": [],
   "outputs": []
  },
  {
   "cell_type": "code",
   "execution_count": null,
   "id": "89f91d66-d4c5-4d15-ac2a-0e782e4ef277",
   "metadata": {},
   "source": [],
   "outputs": []
  },
  {
   "cell_type": "code",
   "execution_count": null,
   "id": "c73aaa04-996b-4c1b-933f-51e1a462635d",
   "metadata": {},
   "source": [
    "config['file'] = 'preprocessed_data/sub50_lb/spectra_and_v'\n",
    "train_dataset = PSMDataset(config, split='train')\n",
    "train_dataloader = DataLoader(train_dataset, batch_size=config['batch_size'], shuffle=False)\n",
    "photometry, photometry_mask, spectra, metadata, labels = next(iter(train_dataloader))"
   ],
   "outputs": []
  },
  {
   "cell_type": "code",
   "execution_count": 79,
   "id": "323dae10-ba30-48e4-ac55-1c9c198df150",
   "metadata": {},
   "source": [
    "with torch.no_grad():\n",
    "    p_emb, s_emb, m_emb = model.get_embeddings(photometry, photometry_mask, spectra, metadata)"
   ],
   "outputs": []
  },
  {
   "cell_type": "code",
   "execution_count": 80,
   "id": "8a5d3ee2-4b00-427b-a337-3dd61a738769",
   "metadata": {},
   "source": [
    "with torch.no_grad():\n",
    "    p_emb2, s_emb2, m_emb2 = model.get_embeddings(photometry, photometry_mask, spectra, metadata)"
   ],
   "outputs": []
  },
  {
   "cell_type": "code",
   "execution_count": 82,
   "id": "d50ed25c-882b-4a96-a0fc-74084853da96",
   "metadata": {},
   "source": [
    "p_emb[0][0].item()"
   ],
   "outputs": []
  },
  {
   "cell_type": "code",
   "execution_count": 83,
   "id": "8ed9b7ca-c967-450e-8c1b-5e57ee6f8413",
   "metadata": {},
   "source": [
    "p_emb2[0][0].item()"
   ],
   "outputs": []
  },
  {
   "cell_type": "code",
   "execution_count": 107,
   "id": "8b20a1b5-5680-4691-9863-b993c26d90f8",
   "metadata": {},
   "source": [
    "with torch.no_grad():\n",
    "    enc_out1 = model.photometry_encoder.enc_embedding(photometry)\n",
    "    enc_out1, attns1 = model.photometry_encoder.encoder(enc_out1, attn_mask=None)\n",
    "    # enc_out1 = model.photometry_encoder.dropout(enc_out1)"
   ],
   "outputs": []
  },
  {
   "cell_type": "code",
   "execution_count": 108,
   "id": "f12507e5-1517-49e9-8249-fc98585f0fbb",
   "metadata": {},
   "source": [
    "with torch.no_grad():\n",
    "    enc_out2 = model.photometry_encoder.enc_embedding(photometry)\n",
    "    enc_out2, attns2 = model.photometry_encoder.encoder(enc_out2, attn_mask=None)\n",
    "    # enc_out2 = model.photometry_encoder.dropout(enc_out2)"
   ],
   "outputs": []
  },
  {
   "cell_type": "code",
   "execution_count": 109,
   "id": "e28418d5-a516-4217-8dea-999d70bb18aa",
   "metadata": {},
   "source": [
    "enc_out1[0][0][0].item()"
   ],
   "outputs": []
  },
  {
   "cell_type": "code",
   "execution_count": 110,
   "id": "555f28af-8b6d-4f6d-b73b-fab482f2f4c3",
   "metadata": {},
   "source": [
    "enc_out2[0][0][0].item()"
   ],
   "outputs": []
  },
  {
   "cell_type": "code",
   "execution_count": null,
   "id": "9e3f44da-5c01-4135-80ef-374b1e4e17f0",
   "metadata": {},
   "source": [],
   "outputs": []
  },
  {
   "cell_type": "code",
   "execution_count": null,
   "id": "96060515-4a02-4b27-99a0-b2e191a23658",
   "metadata": {},
   "source": [],
   "outputs": []
  },
  {
   "cell_type": "code",
   "execution_count": 22,
   "id": "0eecabcc-3b69-411c-a656-886c74b5c359",
   "metadata": {},
   "source": [
    "config['file'] = 'preprocessed_data/sub50_lb/spectra_and_v'\n",
    "train_dataset = PSMDataset(config, split='train')\n",
    "train_dataloader = DataLoader(train_dataset, batch_size=config['batch_size'], shuffle=False)\n",
    "\n",
    "photometry, photometry_mask, spectra, metadata, labels = next(iter(train_dataloader))\n",
    "# photometry, photometry_mask = photometry.to(device), photometry_mask.to(device)\n",
    "# spectra, metadata = spectra.to(device), metadata.to(device)\n",
    "\n",
    "with torch.no_grad():\n",
    "    p_emb, s_emb, m_emb = model.get_embeddings(photometry, photometry_mask, spectra, metadata)"
   ],
   "outputs": []
  },
  {
   "cell_type": "code",
   "execution_count": 23,
   "id": "8a96d99d-1c25-4d9d-bb9c-64b2dce15f75",
   "metadata": {},
   "source": [
    "config['file'] = 'preprocessed_data/sub50_lb/spectra_and_v'\n",
    "train_dataset = PSMDataset(config, split='train')\n",
    "train_dataloader = DataLoader(train_dataset, batch_size=config['batch_size'], shuffle=False)\n",
    "\n",
    "photometry, photometry_mask, spectra, metadata, labels = next(iter(train_dataloader))\n",
    "# photometry, photometry_mask = photometry.to(device), photometry_mask.to(device)\n",
    "# spectra, metadata = spectra.to(device), metadata.to(device)\n",
    "\n",
    "with torch.no_grad():\n",
    "    p_emb2, s_emb2, m_emb2 = model.get_embeddings(photometry, photometry_mask, spectra, metadata)"
   ],
   "outputs": []
  },
  {
   "cell_type": "code",
   "execution_count": 25,
   "id": "33452862-671b-40e8-b20f-7c4e8fd618e3",
   "metadata": {},
   "source": [
    "p_emb[0][0].item(), p_emb2[0][0].item()"
   ],
   "outputs": []
  },
  {
   "cell_type": "code",
   "execution_count": 20,
   "id": "87849a17-d3e2-4122-a377-95fb08df9b7e",
   "metadata": {},
   "source": [
    "p_emb[0][0].item(), p_emb2[0][0].item()"
   ],
   "outputs": []
  },
  {
   "cell_type": "code",
   "execution_count": 35,
   "id": "15477fba-bb31-4f16-ab0c-211752ae89ef",
   "metadata": {},
   "source": [
    "train_dataset[0][0][0][1].item(), train_dataset[0][0][0][1].item()"
   ],
   "outputs": []
  },
  {
   "cell_type": "code",
   "execution_count": 36,
   "id": "f4165a00-fecf-4b26-860a-f1a8178f5f17",
   "metadata": {},
   "source": [
    "train_dataset = PSMDataset(config, split='train')\n",
    "train_dataset[0][0][0][1].item()"
   ],
   "outputs": []
  },
  {
   "cell_type": "code",
   "execution_count": 37,
   "id": "d33065f1-ffa2-49aa-8d8e-b478c8eb51a0",
   "metadata": {},
   "source": [
    "train_dataset = PSMDataset(config, split='train')\n",
    "train_dataset[0][0][0][1].item()"
   ],
   "outputs": []
  },
  {
   "cell_type": "code",
   "execution_count": 38,
   "id": "c839d1c7-e4a4-4000-b43a-1f10023b0038",
   "metadata": {},
   "source": [
    "photometry, photometry_mask, spectra, metadata, labels = train_dataset[0]"
   ],
   "outputs": []
  },
  {
   "cell_type": "code",
   "execution_count": 40,
   "id": "11d6a093-2f96-4e84-b351-9832b316e6c6",
   "metadata": {},
   "source": [
    "photometry"
   ],
   "outputs": []
  },
  {
   "cell_type": "code",
   "execution_count": 48,
   "id": "10a307d9-7d35-4842-9b8b-e006b265929e",
   "metadata": {},
   "source": [
    "train_dataloader = DataLoader(train_dataset, batch_size=config['batch_size'], shuffle=False)\n",
    "photometry, photometry_mask, spectra, metadata, labels = next(iter(train_dataloader))"
   ],
   "outputs": []
  },
  {
   "cell_type": "code",
   "execution_count": 49,
   "id": "8311fd97-8c51-4768-b8e6-367a8aef88b3",
   "metadata": {},
   "source": [
    "photometry[0][0][1].item()"
   ],
   "outputs": []
  },
  {
   "cell_type": "code",
   "execution_count": 50,
   "id": "4c0c4b6d-4b6a-4977-b0cc-6c5eae5b8fb0",
   "metadata": {},
   "source": [
    "train_dataloader = DataLoader(train_dataset, batch_size=config['batch_size'], shuffle=False)\n",
    "photometry2, photometry_mask2, spectra2, metadata2, labels2 = next(iter(train_dataloader))"
   ],
   "outputs": []
  },
  {
   "cell_type": "code",
   "execution_count": 51,
   "id": "419302ce-58c6-44d8-a252-48977f602cc6",
   "metadata": {},
   "source": [
    "photometry2[0][0][1].item()"
   ],
   "outputs": []
  },
  {
   "cell_type": "code",
   "execution_count": 65,
   "id": "0aeb0606-7704-4d3c-aa72-aa3c6ecb4ee8",
   "metadata": {},
   "source": [
    "with torch.no_grad():\n",
    "    p_emb, s_emb, m_emb = model.get_embeddings(photometry, photometry_mask, spectra, metadata)"
   ],
   "outputs": []
  },
  {
   "cell_type": "code",
   "execution_count": 67,
   "id": "4394c594-c6b9-4137-ac80-209d9ff6d5a9",
   "metadata": {},
   "source": [
    "p_emb[0][0].item(), s_emb[0][0].item(), m_emb[0][0].item()"
   ],
   "outputs": []
  },
  {
   "cell_type": "code",
   "execution_count": 68,
   "id": "d7d19d27-01ba-4500-b1a2-f69778a29a82",
   "metadata": {},
   "source": [
    "with torch.no_grad():\n",
    "    p_emb2, s_emb2, m_emb2 = model.get_embeddings(photometry, photometry_mask, spectra, metadata)"
   ],
   "outputs": []
  },
  {
   "cell_type": "code",
   "execution_count": 69,
   "id": "81c51e7f-ed39-4a2a-8ada-233972ece1f0",
   "metadata": {},
   "source": [
    "p_emb2[0][0].item(), s_emb2[0][0].item(), m_emb2[0][0].item()"
   ],
   "outputs": []
  },
  {
   "cell_type": "code",
   "execution_count": 59,
   "id": "b4621e9d-3d9c-4288-a3cc-340858a09dde",
   "metadata": {},
   "source": [
    "p_emb = model.photometry_proj(model.photometry_encoder(photometry, photometry_mask))\n",
    "p_emb2 = model.photometry_proj(model.photometry_encoder(photometry, photometry_mask))"
   ],
   "outputs": []
  },
  {
   "cell_type": "code",
   "execution_count": 60,
   "id": "7391ff8b-97ea-446e-8286-88e694e53526",
   "metadata": {},
   "source": [
    "p_emb[0][0].item()"
   ],
   "outputs": []
  },
  {
   "cell_type": "code",
   "execution_count": 61,
   "id": "b8b9f3f0-8d15-4ada-bd76-86601599457e",
   "metadata": {},
   "source": [
    "p_emb2[0][0].item()"
   ],
   "outputs": []
  },
  {
   "cell_type": "code",
   "execution_count": 62,
   "id": "ab992e40-4967-410e-9c8a-5e461c6aff9a",
   "metadata": {},
   "source": [
    "p_emb = model.photometry_encoder(photometry, photometry_mask)\n",
    "p_emb2 = model.photometry_encoder(photometry, photometry_mask)"
   ],
   "outputs": []
  },
  {
   "cell_type": "code",
   "execution_count": 63,
   "id": "883b5bbb-d244-4992-b1ad-5555f9a7bb65",
   "metadata": {},
   "source": [
    "p_emb[0][0].item()"
   ],
   "outputs": []
  },
  {
   "cell_type": "code",
   "execution_count": 64,
   "id": "5f7906cb-e491-496c-a53e-a927dc02dccc",
   "metadata": {},
   "source": [
    "p_emb2[0][0].item()"
   ],
   "outputs": []
  },
  {
   "cell_type": "code",
   "execution_count": null,
   "id": "91f5ea50-7c15-4178-b149-f3cfa4c9c895",
   "metadata": {},
   "source": [],
   "outputs": []
  },
  {
   "cell_type": "code",
   "execution_count": null,
   "id": "c855e440-9a66-424b-a9f0-882ba3fedcdd",
   "metadata": {},
   "source": [],
   "outputs": []
  },
  {
   "cell_type": "code",
   "execution_count": null,
   "id": "0e42934e-44ad-42b6-b168-13259571ce3f",
   "metadata": {},
   "source": [],
   "outputs": []
  },
  {
   "cell_type": "code",
   "execution_count": 8,
   "id": "6132d37a-b82d-4eab-84a7-6c6c21dce9a8",
   "metadata": {},
   "source": [
    "config['file'] = 'preprocessed_data/sub50_lb/spectra_and_v'\n",
    "test_dataset = PSMDataset(config, split='test')\n",
    "test_dataloader = DataLoader(test_dataset, batch_size=config['batch_size'], shuffle=False)\n",
    "\n",
    "train_dataset = PSMDataset(config, split='train')\n",
    "train_dataloader = DataLoader(train_dataset, batch_size=config['batch_size'], shuffle=False)\n",
    "\n",
    "class_freq = test_dataset.df['target'].value_counts()\n",
    "sorted_classes = class_freq.index\n",
    "\n",
    "id2target = test_dataset.id2target\n",
    "target2id = test_dataset.target2id\n",
    "\n",
    "palette = sns.color_palette(\"Spectral\", len(id2target))\n",
    "palette[3], palette[-4] = palette[-4], palette[3] \n",
    "palette[1], palette[-2] = palette[-2], palette[1] \n",
    "# palette = sns.color_palette(\"tab20\", len(id2target))\n",
    "marker_size = 12"
   ],
   "outputs": []
  },
  {
   "cell_type": "code",
   "execution_count": 10,
   "id": "66fe5f10-5cba-40fd-bc22-e7fdaf093f87",
   "metadata": {},
   "source": [
    "photometry, photometry_mask, spectra, metadata, labels = next(iter(train_dataloader))\n",
    "photometry, photometry_mask = photometry.to(device), photometry_mask.to(device)\n",
    "spectra, metadata = spectra.to(device), metadata.to(device)\n",
    "\n",
    "with torch.no_grad():\n",
    "    p_emb, s_emb, m_emb = model.get_embeddings(photometry, photometry_mask, spectra, metadata)"
   ],
   "outputs": []
  },
  {
   "cell_type": "code",
   "execution_count": 13,
   "id": "740a4bd3-070d-4385-859c-b6101e6636ed",
   "metadata": {},
   "source": [
    "p_emb[0][0].item(), p_emb2[0][0].item()"
   ],
   "outputs": []
  },
  {
   "cell_type": "code",
   "execution_count": 71,
   "id": "79ea5291-0d0f-4e26-9b95-f141a3493336",
   "metadata": {},
   "source": [
    "weights = torch.load(weights_path, weights_only=False)"
   ],
   "outputs": []
  },
  {
   "cell_type": "code",
   "execution_count": 77,
   "id": "155e7880-7419-4df7-ab41-9d780bfff05f",
   "metadata": {},
   "source": [
    "weights['photometry_encoder.enc_embedding.value_embedding.tokenConv.weight'].dtype == torch.float32"
   ],
   "outputs": []
  },
  {
   "cell_type": "code",
   "execution_count": 78,
   "id": "636b1c89-c5fa-4edb-b7ca-791cecbb36d8",
   "metadata": {},
   "source": [
    "for key, value in weights.items():\n",
    "    if value.dtype != torch.float32:\n",
    "        print(f\"Weight: {key}, dtype: {value.dtype}\")"
   ],
   "outputs": []
  },
  {
   "cell_type": "code",
   "execution_count": null,
   "id": "362d047e-6920-4b9a-b1f4-df15cb98949d",
   "metadata": {},
   "source": [],
   "outputs": []
  },
  {
   "cell_type": "code",
   "execution_count": null,
   "id": "345bc330-5169-447a-b1e5-279b4bce5f07",
   "metadata": {},
   "source": [],
   "outputs": []
  },
  {
   "cell_type": "code",
   "execution_count": null,
   "id": "bb5f7a0b-035c-4201-890c-98fec0812f93",
   "metadata": {},
   "source": [],
   "outputs": []
  },
  {
   "cell_type": "code",
   "execution_count": 51,
   "id": "5392ae05-10ad-4b4e-8234-db20b2f9afae",
   "metadata": {},
   "source": [
    "train_p_emb, train_s_emb, train_m_emb, train_labels = get_embs(train_dataloader)\n",
    "# test_p_emb, test_s_emb, test_m_emb, test_labels = get_embs(test_dataloader)"
   ],
   "outputs": []
  },
  {
   "cell_type": "code",
   "execution_count": null,
   "id": "6f7de88f-5071-4e72-bf8b-b595d5405182",
   "metadata": {},
   "source": [
    "train_emb = (train_p_emb + train_s_emb + train_m_emb) / 3\n",
    "# test_emb = (test_p_emb + test_s_emb + test_m_emb) / 3"
   ],
   "outputs": []
  },
  {
   "cell_type": "code",
   "execution_count": null,
   "id": "fb467da6-1069-4132-991f-9e9430d1990f",
   "metadata": {},
   "source": [
    "train_p_emb2, train_s_emb2, train_m_emb2, train_labels2 = get_embs(train_dataloader)"
   ],
   "outputs": []
  },
  {
   "cell_type": "code",
   "execution_count": null,
   "id": "60fdedf6-2df2-42ad-947d-53666e787e3d",
   "metadata": {},
   "source": [
    "train_emb2 = (train_p_emb2 + train_s_emb2 + train_m_emb2) / 3"
   ],
   "outputs": []
  },
  {
   "cell_type": "code",
   "execution_count": null,
   "id": "108228e5-4057-42b7-a33c-3f2421c3b2b6",
   "metadata": {},
   "source": [
    "train_emb2[0][0].item(), train_emb[0][0].item()"
   ],
   "outputs": []
  },
  {
   "cell_type": "code",
   "execution_count": null,
   "id": "36419a77-26a9-43d8-928e-2935c542ffec",
   "metadata": {},
   "source": [
    "train_p_emb2[0][0].item(), train_p_emb[0][0].item()"
   ],
   "outputs": []
  },
  {
   "cell_type": "code",
   "execution_count": 57,
   "id": "0c9a27d3-5785-4aa6-bc01-4ff5d023719f",
   "metadata": {},
   "source": [
    "a = torch.tensor(0.0003784261643886566, device='cuda')\n",
    "b = torch.tensor(0.0003784261643886566, device='cuda')"
   ],
   "outputs": []
  },
  {
   "cell_type": "code",
   "execution_count": 61,
   "id": "fa7e0cda-ecd4-49fa-8436-5ebdf02a6c13",
   "metadata": {},
   "source": [
    "a.item() == b.item()"
   ],
   "outputs": []
  },
  {
   "cell_type": "code",
   "execution_count": 65,
   "id": "f26b113a-42ca-46ae-8f88-97a40c975b66",
   "metadata": {},
   "source": [
    "a.cpu().item() == b.cpu().item()"
   ],
   "outputs": []
  },
  {
   "cell_type": "code",
   "execution_count": null,
   "id": "03613446-e23b-436f-a7f0-f3f1c7e17310",
   "metadata": {},
   "source": [],
   "outputs": []
  },
  {
   "cell_type": "code",
   "execution_count": 60,
   "id": "69f0fa1e-ae97-4b54-b3b8-612ed6d6e5e4",
   "metadata": {},
   "source": [
    "b.item()"
   ],
   "outputs": []
  },
  {
   "cell_type": "code",
   "execution_count": 55,
   "id": "f38c7742-47fa-44fc-8360-d37223fa4400",
   "metadata": {},
   "source": [
    "a"
   ],
   "outputs": []
  },
  {
   "cell_type": "code",
   "execution_count": null,
   "id": "c54ae518-c847-4066-bca0-d5774382cf5d",
   "metadata": {},
   "source": [],
   "outputs": []
  },
  {
   "cell_type": "code",
   "execution_count": null,
   "id": "ce57f695-6cfb-4552-adc9-1b924a2530f7",
   "metadata": {},
   "source": [],
   "outputs": []
  },
  {
   "cell_type": "code",
   "execution_count": 35,
   "id": "02fda064-7964-4159-91aa-3a66c977ebad",
   "metadata": {},
   "source": [
    "train_emb[0][0].item()"
   ],
   "outputs": []
  },
  {
   "cell_type": "code",
   "execution_count": 32,
   "id": "f69434d3-d37e-4038-b6db-9a106dad8251",
   "metadata": {},
   "source": [
    "train_emb[0][0].item()"
   ],
   "outputs": []
  },
  {
   "cell_type": "code",
   "execution_count": 39,
   "id": "a24a7665-e97d-48f0-a2b6-fca3770261f7",
   "metadata": {},
   "source": [
    "train_m_emb[0][0].item() == train_m_emb[0][0].item()"
   ],
   "outputs": []
  },
  {
   "cell_type": "code",
   "execution_count": 40,
   "id": "29db1c3e-67e1-4425-80c8-500371dba640",
   "metadata": {},
   "source": [
    "train_s_emb[0][0].item() == train_s_emb[0][0].item()"
   ],
   "outputs": []
  },
  {
   "cell_type": "code",
   "execution_count": 41,
   "id": "874fc280-ee5b-4a91-bc96-8ea92bc8ee4a",
   "metadata": {},
   "source": [
    "train_p_emb[0][0].item() == train_p_emb[0][0].item()"
   ],
   "outputs": []
  },
  {
   "cell_type": "code",
   "execution_count": 43,
   "id": "51885c2f-2e05-4a77-9a54-788cfb49d4bb",
   "metadata": {},
   "source": [
    "((train_m_emb + train_s_emb + train_p_emb) / 3)[0][0].item() == ((train_m_emb + train_s_emb + train_p_emb) / 3)[0][0].item()"
   ],
   "outputs": []
  },
  {
   "cell_type": "code",
   "execution_count": null,
   "id": "285c2396-8b6a-44e0-9a97-11ced416eedf",
   "metadata": {},
   "source": [],
   "outputs": []
  },
  {
   "cell_type": "code",
   "execution_count": null,
   "id": "5345290b-011e-436d-81e5-3cd9de1567e1",
   "metadata": {},
   "source": [],
   "outputs": []
  },
  {
   "cell_type": "code",
   "execution_count": null,
   "id": "12a62616-42ea-4f93-8a3e-96b94c3a999f",
   "metadata": {},
   "source": [],
   "outputs": []
  },
  {
   "cell_type": "code",
   "execution_count": null,
   "id": "cb4b7cd4-c7ef-411f-813d-8591587e7901",
   "metadata": {},
   "source": [],
   "outputs": []
  },
  {
   "cell_type": "code",
   "execution_count": 9,
   "id": "fe2e12a9-8766-42bb-8810-830f00494869",
   "metadata": {},
   "source": [
    "# joblib.dump(train_emb, 'train_emb1.pkl')\n",
    "train_emb_prev = joblib.load('train_emb1.pkl')"
   ],
   "outputs": []
  },
  {
   "cell_type": "code",
   "execution_count": 10,
   "id": "dc4b4abe-8349-4416-bee7-6157d5f2df63",
   "metadata": {},
   "source": [
    "train_emb"
   ],
   "outputs": []
  },
  {
   "cell_type": "code",
   "execution_count": 14,
   "id": "f191b191-19f2-451c-9c7e-c305429233eb",
   "metadata": {},
   "source": [
    "train_emb_prev"
   ],
   "outputs": []
  },
  {
   "cell_type": "code",
   "execution_count": 17,
   "id": "c6d35ac4-fb08-4f4f-ad80-407351b3c390",
   "metadata": {},
   "source": [
    "train_emb_prev[0][0], train_emb[0][0]"
   ],
   "outputs": []
  },
  {
   "cell_type": "code",
   "execution_count": 18,
   "id": "ccf05da7-1b7f-4bb7-81e5-67d67bf60a92",
   "metadata": {},
   "source": [
    "torch.equal(train_emb_prev[0][0], train_emb[0][0])"
   ],
   "outputs": []
  },
  {
   "cell_type": "code",
   "execution_count": 22,
   "id": "32a3a713-a750-4556-8315-d10725d66261",
   "metadata": {},
   "source": [
    "train_emb_prev[0][0].item()"
   ],
   "outputs": []
  },
  {
   "cell_type": "code",
   "execution_count": 23,
   "id": "b3ddeee1-0cba-4d10-8844-dd7c345d9120",
   "metadata": {},
   "source": [
    "train_emb[0][0].item()"
   ],
   "outputs": []
  },
  {
   "cell_type": "code",
   "execution_count": 24,
   "id": "27adc52e-b2c9-44ae-809d-707e9ad25d94",
   "metadata": {},
   "source": [
    "len(train_labels), len(train_dataset)"
   ],
   "outputs": []
  },
  {
   "cell_type": "code",
   "execution_count": null,
   "id": "9d097c9c-d8ab-4c84-8d67-f30fe233a338",
   "metadata": {},
   "source": [],
   "outputs": []
  },
  {
   "cell_type": "code",
   "execution_count": null,
   "id": "60adae33-7bb2-491a-bfc9-ebdf1aab0d75",
   "metadata": {},
   "source": [],
   "outputs": []
  },
  {
   "cell_type": "code",
   "execution_count": null,
   "id": "798fcb9a-49ee-43a0-9bf7-5cdf2f1fe5cb",
   "metadata": {},
   "source": [],
   "outputs": []
  },
  {
   "cell_type": "code",
   "execution_count": 9,
   "id": "86051f9f-a155-4e5b-9a65-cf5c471e157a",
   "metadata": {},
   "source": [
    "train_emb = (train_p_emb + train_s_emb + train_m_emb) / 3\n",
    "test_emb = (test_p_emb + test_s_emb + test_m_emb) / 3\n",
    "\n",
    "umap_model = umap.UMAP(n_neighbors=45, min_dist=0.7, n_components=2, metric='cosine', n_jobs=1, random_state=42)\n",
    "trans = umap_model.fit(train_emb)\n",
    "\n",
    "train_umap = trans.transform(train_emb)\n",
    "test_umap = trans.transform(test_emb)\n",
    "\n",
    "plot_one_embs(train_umap, train_labels)"
   ],
   "outputs": []
  },
  {
   "cell_type": "code",
   "execution_count": null,
   "id": "9331cda5-c662-498f-a885-e302072255c7",
   "metadata": {},
   "source": [],
   "outputs": []
  },
  {
   "cell_type": "code",
   "execution_count": null,
   "id": "c4755261-8890-430c-9728-4013f9621e35",
   "metadata": {},
   "source": [],
   "outputs": []
  },
  {
   "cell_type": "code",
   "execution_count": null,
   "id": "52ea4e92-2542-48cb-9055-87a16c4badaf",
   "metadata": {},
   "source": [],
   "outputs": []
  },
  {
   "cell_type": "code",
   "execution_count": 10,
   "id": "3615910f-527e-4a71-b764-81789b553732",
   "metadata": {},
   "source": [
    "train_emb = (train_p_emb + train_s_emb + train_m_emb) / 3\n",
    "test_emb = (test_p_emb + test_s_emb + test_m_emb) / 3\n",
    "\n",
    "umap_model = umap.UMAP(n_neighbors=45, min_dist=0.7, n_components=2, metric='cosine', n_jobs=1, random_state=42, force_approximation_algorithm=False)\n",
    "trans = umap_model.fit(train_emb)\n",
    "\n",
    "train_umap = trans.transform(train_emb)\n",
    "test_umap = trans.transform(test_emb)"
   ],
   "outputs": []
  },
  {
   "cell_type": "code",
   "execution_count": 11,
   "id": "8b7270d4-a1bc-4aaf-b25f-aa85c5183bff",
   "metadata": {},
   "source": [
    "plot_one_embs(train_umap, train_labels)"
   ],
   "outputs": []
  },
  {
   "cell_type": "code",
   "execution_count": null,
   "id": "6c4a0b86-d899-4b94-9378-423f6d210310",
   "metadata": {},
   "source": [],
   "outputs": []
  },
  {
   "cell_type": "code",
   "execution_count": null,
   "id": "95af78b8-a474-4719-94e9-7d1271cfb3d3",
   "metadata": {},
   "source": [],
   "outputs": []
  },
  {
   "cell_type": "code",
   "execution_count": 9,
   "id": "0f4cb6f9-e249-4dd8-b721-7e23ac48b9fc",
   "metadata": {},
   "source": [
    "plot_one_embs(train_umap, train_labels)"
   ],
   "outputs": []
  },
  {
   "cell_type": "code",
   "execution_count": 8,
   "id": "e4133bf6-54f7-4d73-a0a7-19573c5db4cb",
   "metadata": {},
   "source": [
    "train_emb = (train_p_emb + train_s_emb + train_m_emb) / 3\n",
    "test_emb = (test_p_emb + test_s_emb + test_m_emb) / 3\n",
    "\n",
    "umap_model = umap.UMAP(n_neighbors=45, min_dist=0.7, n_components=2, metric='cosine', n_jobs=1, random_state=42)\n",
    "trans = umap_model.fit(train_emb)\n",
    "\n",
    "train_umap = trans.transform(train_emb)\n",
    "test_umap = trans.transform(test_emb)\n",
    "\n",
    "plot_one_embs(train_umap, train_labels)"
   ],
   "outputs": []
  },
  {
   "cell_type": "code",
   "execution_count": null,
   "id": "6c1ad547-e971-458c-b53a-9b672e8a10a8",
   "metadata": {},
   "source": [],
   "outputs": []
  },
  {
   "cell_type": "code",
   "execution_count": null,
   "id": "0ed9adeb-8fb0-4c1a-b6ec-599e5c4cf791",
   "metadata": {},
   "source": [],
   "outputs": []
  },
  {
   "cell_type": "code",
   "execution_count": null,
   "id": "08e8f267-1561-4d03-b34e-6e1d0551eabf",
   "metadata": {},
   "source": [],
   "outputs": []
  },
  {
   "cell_type": "code",
   "execution_count": null,
   "id": "2dcbbc31-0448-4a14-b043-594a6fa2ac37",
   "metadata": {},
   "source": [],
   "outputs": []
  },
  {
   "cell_type": "code",
   "execution_count": null,
   "id": "18da77cd-b8ee-4b75-ab61-ad069deb2ec7",
   "metadata": {},
   "source": [],
   "outputs": []
  },
  {
   "cell_type": "code",
   "execution_count": null,
   "id": "b04cee0e-52f9-4ed1-bff9-1e5b8a132170",
   "metadata": {},
   "source": [],
   "outputs": []
  },
  {
   "cell_type": "code",
   "execution_count": null,
   "id": "a79fe83b-6a44-4e4f-9b04-db7f0efbc869",
   "metadata": {},
   "source": [],
   "outputs": []
  },
  {
   "cell_type": "code",
   "execution_count": null,
   "id": "19c74771-7349-49c6-82d0-439c35633614",
   "metadata": {},
   "source": [],
   "outputs": []
  },
  {
   "cell_type": "code",
   "execution_count": null,
   "id": "89f5f0de-9836-4d39-9837-cb88524884b1",
   "metadata": {},
   "source": [],
   "outputs": []
  },
  {
   "cell_type": "code",
   "execution_count": null,
   "id": "0f0cbf4f-1397-46e0-8490-60f9032351a8",
   "metadata": {},
   "source": [],
   "outputs": []
  },
  {
   "cell_type": "code",
   "execution_count": null,
   "id": "55441901-53b4-498c-9d54-7a327647de1d",
   "metadata": {},
   "source": [],
   "outputs": []
  },
  {
   "cell_type": "code",
   "execution_count": 10,
   "id": "9b599ebb-925f-401a-a9eb-999983860d4d",
   "metadata": {},
   "source": [
    "idx = 0\n",
    "\n",
    "el = test_dataset.df.iloc[idx]\n",
    "label = target2id[el['target']]\n",
    "period = el['org_period']\n",
    "\n",
    "photometry = test_dataset.get_vlc(el['name'])\n",
    "spectra = test_dataset.readLRSFits(os.path.join(test_dataset.lamost_spec_dir, el['spec_filename']))\n",
    "metadata = el[test_dataset.meta_cols].values.astype(np.float32)"
   ],
   "outputs": []
  },
  {
   "cell_type": "code",
   "execution_count": 11,
   "id": "222a2431-0141-4ff3-932a-db628c0a6c6e",
   "metadata": {},
   "source": [
    "fig, axs = plt.subplots(1, 2, figsize=(24, 8))\n",
    "axs[0].plot(photometry[:, 0], photometry[:, 1], '.', label='Photometry')\n",
    "axs[1].plot(spectra[:, 0], spectra[:, 1], label='Spectra')"
   ],
   "outputs": []
  },
  {
   "cell_type": "code",
   "execution_count": null,
   "id": "8fe03035-3c21-4b1f-8052-78d62004557a",
   "metadata": {},
   "source": [],
   "outputs": []
  },
  {
   "cell_type": "code",
   "execution_count": null,
   "id": "f14c7d3e-5140-4ba8-a6e7-99090d00036a",
   "metadata": {},
   "source": [],
   "outputs": []
  },
  {
   "cell_type": "code",
   "execution_count": null,
   "id": "e51a2f0a-c513-4eac-b048-89def8c6f044",
   "metadata": {},
   "source": [],
   "outputs": []
  },
  {
   "cell_type": "code",
   "execution_count": null,
   "id": "2145eafe-9e34-4eb3-a22c-7ca75cb6be08",
   "metadata": {},
   "source": [],
   "outputs": []
  },
  {
   "cell_type": "code",
   "execution_count": null,
   "id": "54dd0e36-c98c-464e-85f6-d0a3e217e9cb",
   "metadata": {},
   "source": [],
   "outputs": []
  },
  {
   "cell_type": "code",
   "execution_count": null,
   "id": "8c8a7981-7886-4897-ad38-77f8d7c6a808",
   "metadata": {},
   "source": [],
   "outputs": []
  },
  {
   "cell_type": "code",
   "execution_count": null,
   "id": "dcc8de82-4baa-485e-8afe-082706b4654e",
   "metadata": {},
   "source": [],
   "outputs": []
  },
  {
   "cell_type": "code",
   "execution_count": null,
   "id": "6d2f6a54-f7bb-4158-b300-c826a58e1a21",
   "metadata": {},
   "source": [],
   "outputs": []
  },
  {
   "cell_type": "code",
   "execution_count": null,
   "id": "ea872db1-c304-4917-b721-dfe4004dc3ca",
   "metadata": {},
   "source": [],
   "outputs": []
  },
  {
   "cell_type": "code",
   "execution_count": null,
   "id": "fceffd57-82f8-499d-9736-62262470863b",
   "metadata": {},
   "source": [],
   "outputs": []
  },
  {
   "cell_type": "code",
   "execution_count": null,
   "id": "cf33de0a-e9b6-44b3-90ab-10a8ae33e274",
   "metadata": {},
   "source": [],
   "outputs": []
  },
  {
   "cell_type": "code",
   "execution_count": null,
   "id": "7e0e2bff-4c5f-45b2-b680-ff07d5112916",
   "metadata": {},
   "source": [],
   "outputs": []
  },
  {
   "cell_type": "code",
   "execution_count": null,
   "id": "a775faa0-b882-4278-a24c-c71d442b91ec",
   "metadata": {},
   "source": [],
   "outputs": []
  },
  {
   "cell_type": "code",
   "execution_count": null,
   "id": "19850d3e-0eed-440b-af20-6e825255629f",
   "metadata": {},
   "source": [],
   "outputs": []
  },
  {
   "cell_type": "code",
   "execution_count": null,
   "id": "210a9fa2-d464-4e96-b683-b38ea3140c44",
   "metadata": {},
   "source": [],
   "outputs": []
  }
 ],
 "metadata": {
  "kernelspec": {
   "display_name": "Python 3 (ipykernel)",
   "language": "python",
   "name": "python3"
  },
  "language_info": {
   "codemirror_mode": {
    "name": "ipython",
    "version": 3
   },
   "file_extension": ".py",
   "mimetype": "text/x-python",
   "name": "python",
   "nbconvert_exporter": "python",
   "pygments_lexer": "ipython3",
   "version": "3.10.14"
  }
 },
 "nbformat": 4,
 "nbformat_minor": 5
}

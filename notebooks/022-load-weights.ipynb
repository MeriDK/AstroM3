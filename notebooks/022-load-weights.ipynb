{
 "cells": [
  {
   "cell_type": "code",
   "execution_count": 53,
   "id": "f448b0e4-4c03-4afa-909c-0e0a7bb30f24",
   "metadata": {},
   "outputs": [],
   "source": [
    "import sys\n",
    "sys.path.insert(0, '..')\n",
    "\n",
    "import torch\n",
    "import os\n",
    "import wandb\n",
    "import random\n",
    "import numpy as np\n",
    "import torch\n",
    "from torch import nn\n",
    "from torch.optim import AdamW\n",
    "from torch.optim.lr_scheduler import ReduceLROnPlateau\n",
    "from torch.utils.data import DataLoader\n",
    "from datetime import datetime\n",
    "\n",
    "from core.spectra.model import GalSpecNet\n",
    "from core.metadata.model import MetaClassifier\n",
    "from models.Informer import Informer"
   ]
  },
  {
   "cell_type": "code",
   "execution_count": 41,
   "id": "5cb58d42-d4dc-4066-86a1-100489704bd0",
   "metadata": {},
   "outputs": [],
   "source": [
    "CLASSES = ['EW', 'SR', 'EA', 'RRAB', 'EB', 'ROT', 'RRC', 'HADS', 'M', 'DSCT']"
   ]
  },
  {
   "cell_type": "code",
   "execution_count": 55,
   "id": "fce04f3a-eede-456f-99dc-07e9f2191c0d",
   "metadata": {},
   "outputs": [],
   "source": [
    "def get_config(random_seed):\n",
    "    config = {\n",
    "        'project': 'AstroCLIPResults',\n",
    "        'random_seed': random_seed,\n",
    "        'use_wandb': True,\n",
    "        'save_weights': True,\n",
    "        'weights_path': f'/home/mariia/AstroML/weights/{datetime.now().strftime(\"%Y-%m-%d-%H-%M\")}',\n",
    "        'use_pretrain': 'CLIP/home/mariia/AstroML/weights/2024-07-25-14-18-es6hl0nb/weights-41.pth',\n",
    "        # 'use_pretrain': None,\n",
    "\n",
    "        # Data General\n",
    "        'dataset': 'VPSMDatasetV2Spectra',     # 'VPSMDataset' or 'VPSMDatasetV2'\n",
    "        'data_root': '/home/mariia/AstroML/data/asassn/',\n",
    "        'file': 'preprocessed_data/full/spectra_and_v',\n",
    "        'classes': CLASSES,\n",
    "        'min_samples': None,\n",
    "        'max_samples': None,\n",
    "        'noise': False,  # for train data only\n",
    "        'noise_coef': 2,\n",
    "\n",
    "        # Photometry\n",
    "        'v_zip': 'asassnvarlc_vband_complete.zip',\n",
    "        'v_prefix': 'vardb_files',\n",
    "        'seq_len': 200,\n",
    "        'phased': True,\n",
    "        'clip': False,\n",
    "        'aux': True,\n",
    "\n",
    "        # Spectra\n",
    "        'lamost_spec_dir': 'Spectra/v2',\n",
    "        'spectra_v_file': 'spectra_v_merged.csv',\n",
    "        'z_corr': False,\n",
    "\n",
    "        # Photometry Model\n",
    "        'p_encoder_layers': 8,\n",
    "        'p_d_model': 128,\n",
    "        'p_dropout': 0.2,\n",
    "        'p_feature_size': 3,\n",
    "        'p_n_heads': 4,\n",
    "        'p_d_ff': 512,\n",
    "\n",
    "        # Spectra Model\n",
    "        's_hidden_dim': 512,\n",
    "        's_dropout': 0.2,\n",
    "\n",
    "        # Metadata Model\n",
    "        'm_hidden_dim': 512,\n",
    "        'm_dropout': 0.2,\n",
    "\n",
    "        # MultiModal Model\n",
    "        'model': 'ModelV1',     # 'ModelV0' or 'ModelV1'\n",
    "        'hidden_dim': 1024,\n",
    "        'ps_coef': 1,\n",
    "        'mp_coef': 1,\n",
    "        'sm_coef': 1,\n",
    "\n",
    "        # Training\n",
    "        'batch_size': 64,\n",
    "        'lr': 1e-3,\n",
    "        'weight_decay': 1e-3,\n",
    "        'epochs': 100,\n",
    "        'optimizer': 'AdamW',\n",
    "        'early_stopping_patience': 10,\n",
    "\n",
    "        # Learning Rate Scheduler\n",
    "        'factor': 0.3,\n",
    "        'patience': 5,\n",
    "    }\n",
    "\n",
    "    if config['aux']:\n",
    "        config['p_feature_size'] += 4\n",
    "\n",
    "    return config"
   ]
  },
  {
   "cell_type": "code",
   "execution_count": 56,
   "id": "cbe36a9c-8491-4bf1-b23c-09be88e0867a",
   "metadata": {},
   "outputs": [],
   "source": [
    "config = get_config(42)"
   ]
  },
  {
   "cell_type": "code",
   "execution_count": 58,
   "id": "9ae51efd-0b0e-4d33-8bb0-0f32afc65ab4",
   "metadata": {},
   "outputs": [],
   "source": [
    "model = MetaClassifier(hidden_dim=config['m_hidden_dim'], num_classes=10, dropout=config['m_dropout'])"
   ]
  },
  {
   "cell_type": "code",
   "execution_count": 59,
   "id": "f2f0d0e2-1c64-458d-ae96-f132ca38d4ad",
   "metadata": {},
   "outputs": [
    {
     "data": {
      "text/plain": [
       "MetaClassifier(\n",
       "  (layer1): Sequential(\n",
       "    (0): Linear(in_features=36, out_features=512, bias=True)\n",
       "    (1): ReLU()\n",
       "    (2): Dropout(p=0.2, inplace=False)\n",
       "  )\n",
       "  (layer2): Sequential(\n",
       "    (0): Linear(in_features=512, out_features=512, bias=True)\n",
       "    (1): ReLU()\n",
       "    (2): Dropout(p=0.2, inplace=False)\n",
       "  )\n",
       "  (fc): Linear(in_features=512, out_features=10, bias=True)\n",
       ")"
      ]
     },
     "execution_count": 59,
     "metadata": {},
     "output_type": "execute_result"
    }
   ],
   "source": [
    "model"
   ]
  },
  {
   "cell_type": "code",
   "execution_count": 72,
   "id": "c89c5a16-f32a-449a-93d7-52da75d8478f",
   "metadata": {},
   "outputs": [],
   "source": [
    "class MetaModel(nn.Module):\n",
    "    def __init__(self, num_classes, input_dim=36, hidden_dim=512, dropout=0.5):\n",
    "        super(MetaModel, self).__init__()\n",
    "\n",
    "        self.model = nn.Sequential(\n",
    "            nn.Linear(input_dim, hidden_dim),\n",
    "            nn.ReLU(),\n",
    "            nn.Dropout(dropout),\n",
    "            nn.Linear(hidden_dim, hidden_dim),\n",
    "            nn.ReLU(),\n",
    "            nn.Dropout(dropout)\n",
    "        )\n",
    "        self.fc = nn.Linear(hidden_dim, num_classes)\n",
    "        \n",
    "    def forward(self, x):\n",
    "        x = self.model(x)\n",
    "        x = self.fc(x)\n",
    "\n",
    "        return x"
   ]
  },
  {
   "cell_type": "code",
   "execution_count": 73,
   "id": "98a1363a-ed6b-4285-a938-0b3c203b7b7a",
   "metadata": {},
   "outputs": [],
   "source": [
    "model = MetaModel(10)"
   ]
  },
  {
   "cell_type": "code",
   "execution_count": 74,
   "id": "dc12a51e-8a42-48e6-b269-2d24e70111aa",
   "metadata": {},
   "outputs": [
    {
     "data": {
      "text/plain": [
       "MetaModel(\n",
       "  (model): Sequential(\n",
       "    (0): Linear(in_features=36, out_features=512, bias=True)\n",
       "    (1): ReLU()\n",
       "    (2): Dropout(p=0.5, inplace=False)\n",
       "    (3): Linear(in_features=512, out_features=512, bias=True)\n",
       "    (4): ReLU()\n",
       "    (5): Dropout(p=0.5, inplace=False)\n",
       "  )\n",
       "  (fc): Linear(in_features=512, out_features=10, bias=True)\n",
       ")"
      ]
     },
     "execution_count": 74,
     "metadata": {},
     "output_type": "execute_result"
    }
   ],
   "source": [
    "model"
   ]
  },
  {
   "cell_type": "code",
   "execution_count": null,
   "id": "a301512f-e946-426e-9801-3a3303238112",
   "metadata": {},
   "outputs": [],
   "source": []
  },
  {
   "cell_type": "code",
   "execution_count": null,
   "id": "fc8b1181-678d-404b-a39a-ccd51df701a6",
   "metadata": {},
   "outputs": [],
   "source": []
  },
  {
   "cell_type": "code",
   "execution_count": 60,
   "id": "4008909a-0baf-4897-851f-cc5146de8365",
   "metadata": {},
   "outputs": [],
   "source": [
    "weights = torch.load('/home/mariia/AstroML/weights/2024-07-25-14-18-es6hl0nb/weights-41.pth', weights_only=True)"
   ]
  },
  {
   "cell_type": "code",
   "execution_count": 69,
   "id": "0352f2e7-6735-4561-aa8c-01dcb02217fe",
   "metadata": {},
   "outputs": [],
   "source": [
    "filtered_weights = {k[len('metadata_encoder.'):]: v for k, v in weights.items() if k.startswith('metadata_encoder')}"
   ]
  },
  {
   "cell_type": "code",
   "execution_count": 75,
   "id": "d810a409-d1ca-43b2-9793-2f5ebbf8df8d",
   "metadata": {},
   "outputs": [
    {
     "data": {
      "text/plain": [
       "dict_keys(['model.0.weight', 'model.0.bias', 'model.3.weight', 'model.3.bias'])"
      ]
     },
     "execution_count": 75,
     "metadata": {},
     "output_type": "execute_result"
    }
   ],
   "source": [
    "filtered_weights.keys()"
   ]
  },
  {
   "cell_type": "code",
   "execution_count": 76,
   "id": "29d631c3-7cb4-468c-b0ff-cc6a98a4360c",
   "metadata": {},
   "outputs": [
    {
     "data": {
      "text/plain": [
       "_IncompatibleKeys(missing_keys=['fc.weight', 'fc.bias'], unexpected_keys=[])"
      ]
     },
     "execution_count": 76,
     "metadata": {},
     "output_type": "execute_result"
    }
   ],
   "source": [
    "model.load_state_dict(filtered_weights, strict=False)"
   ]
  },
  {
   "cell_type": "code",
   "execution_count": null,
   "id": "4bfbca37-2ec7-47e9-bdca-4f5f93d65ad7",
   "metadata": {},
   "outputs": [],
   "source": []
  },
  {
   "cell_type": "code",
   "execution_count": null,
   "id": "2753fc3e-9a82-4826-bab4-1e58c755bcf1",
   "metadata": {},
   "outputs": [],
   "source": []
  },
  {
   "cell_type": "code",
   "execution_count": null,
   "id": "444bd9e5-26bc-4a0b-ae9d-7e7169fec992",
   "metadata": {},
   "outputs": [],
   "source": []
  },
  {
   "cell_type": "code",
   "execution_count": null,
   "id": "70d1b0cb-c9d1-4090-bdb7-3e25aa500800",
   "metadata": {},
   "outputs": [],
   "source": []
  },
  {
   "cell_type": "code",
   "execution_count": null,
   "id": "84738529-d71c-4332-a09b-ba7194638705",
   "metadata": {},
   "outputs": [],
   "source": []
  },
  {
   "cell_type": "code",
   "execution_count": null,
   "id": "47403f69-3a22-4800-8e34-295436665db6",
   "metadata": {},
   "outputs": [],
   "source": []
  },
  {
   "cell_type": "code",
   "execution_count": null,
   "id": "07fdc5d6-1eaf-4d05-a8d4-0d4247659413",
   "metadata": {},
   "outputs": [],
   "source": []
  },
  {
   "cell_type": "code",
   "execution_count": null,
   "id": "4cab7ce8-e54e-4b60-878f-47641acea779",
   "metadata": {},
   "outputs": [],
   "source": []
  },
  {
   "cell_type": "code",
   "execution_count": null,
   "id": "eb7755da-47fb-4bfc-9a21-587327c76d2c",
   "metadata": {},
   "outputs": [],
   "source": []
  },
  {
   "cell_type": "code",
   "execution_count": null,
   "id": "20cc0c00-206a-49b8-8e99-9c10211283a6",
   "metadata": {},
   "outputs": [],
   "source": []
  }
 ],
 "metadata": {
  "kernelspec": {
   "display_name": "Python 3 (ipykernel)",
   "language": "python",
   "name": "python3"
  },
  "language_info": {
   "codemirror_mode": {
    "name": "ipython",
    "version": 3
   },
   "file_extension": ".py",
   "mimetype": "text/x-python",
   "name": "python",
   "nbconvert_exporter": "python",
   "pygments_lexer": "ipython3",
   "version": "3.10.14"
  }
 },
 "nbformat": 4,
 "nbformat_minor": 5
}

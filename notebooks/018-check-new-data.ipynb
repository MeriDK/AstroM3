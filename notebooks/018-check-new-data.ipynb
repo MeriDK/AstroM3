{
 "cells": [
  {
   "cell_type": "code",
   "execution_count": 50,
   "id": "1d1d77df-e500-4bc0-903d-cdd225776c5d",
   "metadata": {},
   "outputs": [],
   "source": [
    "import sys\n",
    "sys.path.insert(0, '..')\n",
    "\n",
    "import numpy as np\n",
    "import torch\n",
    "import torch.nn.functional as F\n",
    "from datetime import datetime\n",
    "from torch.utils.data import DataLoader\n",
    "\n",
    "from core.multimodal.dataset2 import VPSMDatasetV2\n",
    "from core.multimodal.model import ModelV1"
   ]
  },
  {
   "cell_type": "code",
   "execution_count": 51,
   "id": "bd370bfa-8d59-4d9a-afa2-3ff93d64fd43",
   "metadata": {},
   "outputs": [],
   "source": [
    "def get_config(random_seed):\n",
    "    config = {\n",
    "        'project': 'multimodal-contrastive',\n",
    "        'random_seed': random_seed,\n",
    "        'use_wandb': True,\n",
    "        'save_weights': True,\n",
    "        'weights_path': f'/home/mariia/AstroML/weights/{datetime.now().strftime(\"%Y-%m-%d-%H-%M\")}',\n",
    "        'use_pretrain': None,\n",
    "\n",
    "        # Data General\n",
    "        'dataset': 'VPSMDatasetV2',     # 'VPSMDataset' or 'VPSMDatasetV2'\n",
    "        'data_root': '/home/mariia/AstroML/data/asassn/',\n",
    "        'file': 'preprocessed_data/full/spectra_and_v',\n",
    "        'classes': None,\n",
    "        'min_samples': 200,\n",
    "        'max_samples': None,\n",
    "\n",
    "        # Photometry\n",
    "        'v_zip': 'asassnvarlc_vband_complete.zip',\n",
    "        'v_prefix': 'vardb_files',\n",
    "        'seq_len': 200,\n",
    "        'phased': True,\n",
    "        'clip': False,\n",
    "        'aux': True,\n",
    "\n",
    "        # Spectra\n",
    "        'lamost_spec_dir': 'Spectra/v2',\n",
    "        'spectra_v_file': 'spectra_v_merged.csv',\n",
    "        'z_corr': False,\n",
    "\n",
    "        # Photometry Model\n",
    "        'p_encoder_layers': 8,\n",
    "        'p_d_model': 128,\n",
    "        'p_dropout': 0,\n",
    "        'p_feature_size': 3,\n",
    "        'p_n_heads': 4,\n",
    "        'p_d_ff': 512,\n",
    "\n",
    "        # Spectra Model\n",
    "        's_hidden_dim': 512,\n",
    "        's_dropout': 0,\n",
    "\n",
    "        # Metadata Model\n",
    "        'm_hidden_dim': 512,\n",
    "        'm_dropout': 0,\n",
    "\n",
    "        # MultiModal Model\n",
    "        'model': 'ModelV1',     # 'ModelV0' or 'ModelV1'\n",
    "        'hidden_dim': 256,\n",
    "\n",
    "        # Training\n",
    "        'batch_size': 32,\n",
    "        'lr': 1e-3,\n",
    "        'weight_decay': 0,\n",
    "        'epochs': 50,\n",
    "        'optimizer': 'AdamW',\n",
    "        'early_stopping_patience': 100,\n",
    "\n",
    "        # Learning Rate Scheduler\n",
    "        'factor': 0.3,\n",
    "        'patience': 50,\n",
    "    }\n",
    "\n",
    "    config['p_feature_size'] += 4\n",
    "\n",
    "    return config"
   ]
  },
  {
   "cell_type": "code",
   "execution_count": 9,
   "id": "7b87afe7-ddea-430e-bfe5-729fffc91b49",
   "metadata": {},
   "outputs": [],
   "source": [
    "config = get_config(42)"
   ]
  },
  {
   "cell_type": "code",
   "execution_count": 2,
   "id": "a1a09d3a-00db-4170-9cdf-2d0d4da60c4e",
   "metadata": {},
   "outputs": [],
   "source": [
    "CLASSES = ['EW', 'SR', 'EA', 'RRAB', 'EB', 'ROT', 'RRC', 'HADS', 'M', 'DSCT']"
   ]
  },
  {
   "cell_type": "code",
   "execution_count": 3,
   "id": "ebf1ea56-af99-49e4-9014-82ef303d479e",
   "metadata": {},
   "outputs": [],
   "source": [
    "train_dataset = VPSMDatasetV2(split='train', classes=CLASSES, seq_len=200, phased=True, clip=False, aux=True, z_corr=False, random_seed=42)\n",
    "val_dataset = VPSMDatasetV2(split='val', classes=CLASSES, seq_len=200, phased=True, clip=False, aux=True, z_corr=False, random_seed=42)\n",
    "test_dataset = VPSMDatasetV2(split='test', classes=CLASSES, seq_len=200, phased=True, clip=False, aux=True, z_corr=False, random_seed=42)"
   ]
  },
  {
   "cell_type": "code",
   "execution_count": 4,
   "id": "284946c1-d816-41b0-baca-84d573568235",
   "metadata": {},
   "outputs": [
    {
     "data": {
      "text/plain": [
       "(17282, 2175, 2247)"
      ]
     },
     "execution_count": 4,
     "metadata": {},
     "output_type": "execute_result"
    }
   ],
   "source": [
    "len(train_dataset), len(val_dataset), len(test_dataset)"
   ]
  },
  {
   "cell_type": "code",
   "execution_count": 15,
   "id": "feba8d48-d3e2-40c9-8201-13a7ed9d457b",
   "metadata": {},
   "outputs": [],
   "source": [
    "model = ModelV1(config)"
   ]
  },
  {
   "cell_type": "code",
   "execution_count": 13,
   "id": "f067c7e6-c635-429e-af68-520c20c4cf87",
   "metadata": {},
   "outputs": [],
   "source": [
    "train_dataloader = DataLoader(train_dataset, batch_size=config['batch_size'], shuffle=False)"
   ]
  },
  {
   "cell_type": "code",
   "execution_count": 14,
   "id": "3bc746f8-a493-40ab-b2aa-899e4a5c60b3",
   "metadata": {},
   "outputs": [],
   "source": [
    "photometry, photometry_mask, spectra, metadata, y = next(iter(train_dataloader))"
   ]
  },
  {
   "cell_type": "code",
   "execution_count": 17,
   "id": "75614ed7-719a-49f9-b71b-5ab929d92662",
   "metadata": {},
   "outputs": [
    {
     "data": {
      "text/plain": [
       "(torch.Size([32, 200, 7]),\n",
       " torch.Size([32, 200]),\n",
       " torch.Size([32, 1, 2575]),\n",
       " torch.Size([32, 36]),\n",
       " torch.Size([32]))"
      ]
     },
     "execution_count": 17,
     "metadata": {},
     "output_type": "execute_result"
    }
   ],
   "source": [
    "photometry.shape, photometry_mask.shape, spectra.shape, metadata.shape, y.shape"
   ]
  },
  {
   "cell_type": "code",
   "execution_count": 16,
   "id": "16ac77d0-675b-40c5-bfff-bef583bf0582",
   "metadata": {},
   "outputs": [],
   "source": [
    "p_emb, s_emb, m_emb = model.get_embeddings(photometry, photometry_mask, spectra, metadata)"
   ]
  },
  {
   "cell_type": "code",
   "execution_count": 18,
   "id": "6f377f34-0d3f-471a-bf5a-7677ec9b3d60",
   "metadata": {},
   "outputs": [
    {
     "data": {
      "text/plain": [
       "(torch.Size([32, 256]), torch.Size([32, 256]), torch.Size([32, 256]))"
      ]
     },
     "execution_count": 18,
     "metadata": {},
     "output_type": "execute_result"
    }
   ],
   "source": [
    "p_emb.shape, s_emb.shape, m_emb.shape"
   ]
  },
  {
   "cell_type": "code",
   "execution_count": 22,
   "id": "828f4ab9-02e6-449d-8420-2bda7792891f",
   "metadata": {},
   "outputs": [],
   "source": [
    "p_emb = p_emb / p_emb.norm(dim=-1, keepdim=True)\n",
    "s_emb = s_emb / s_emb.norm(dim=-1, keepdim=True)\n",
    "m_emb = m_emb / m_emb.norm(dim=-1, keepdim=True)"
   ]
  },
  {
   "cell_type": "code",
   "execution_count": 38,
   "id": "54b95795-ca0f-4905-a7e6-418de5e3c6f6",
   "metadata": {},
   "outputs": [
    {
     "data": {
      "text/plain": [
       "tensor(100., grad_fn=<ClampBackward1>)"
      ]
     },
     "execution_count": 38,
     "metadata": {},
     "output_type": "execute_result"
    }
   ],
   "source": [
    "torch.clamp(model.logit_scale_ps.exp(), min=1, max=100)"
   ]
  },
  {
   "cell_type": "code",
   "execution_count": 43,
   "id": "b6e8db26-b16e-4278-8a98-0d8d283e3308",
   "metadata": {},
   "outputs": [
    {
     "data": {
      "text/plain": [
       "torch.Size([32, 32])"
      ]
     },
     "execution_count": 43,
     "metadata": {},
     "output_type": "execute_result"
    }
   ],
   "source": [
    "(model.logit_scale_ps * p_emb @ s_emb.T).shape"
   ]
  },
  {
   "cell_type": "code",
   "execution_count": 45,
   "id": "5caf495c-05ba-4a2f-ba72-7e489af76c0d",
   "metadata": {},
   "outputs": [],
   "source": [
    "logit_scale_ps = torch.clamp(model.logit_scale_ps.exp(), min=1, max=100)\n",
    "logit_scale_sm = torch.clamp(model.logit_scale_sm.exp(), min=1, max=100)\n",
    "logit_scale_mp = torch.clamp(model.logit_scale_mp.exp(), min=1, max=100)"
   ]
  },
  {
   "cell_type": "code",
   "execution_count": 46,
   "id": "dd9f9972-281f-490d-b3fc-95372dffb55b",
   "metadata": {},
   "outputs": [],
   "source": [
    "logits_ps = logit_scale_ps * p_emb @ s_emb.T\n",
    "logits_sm = logit_scale_sm * s_emb @ m_emb.T\n",
    "logits_mp = logit_scale_mp * m_emb @ p_emb.T"
   ]
  },
  {
   "cell_type": "code",
   "execution_count": 47,
   "id": "e3146bb3-21a3-4d55-9033-702961d952d3",
   "metadata": {},
   "outputs": [],
   "source": [
    "labels = torch.arange(logits_ps.shape[0], dtype=torch.int64, device=logits_ps.device)"
   ]
  },
  {
   "cell_type": "code",
   "execution_count": 48,
   "id": "a1d01d0a-c3bd-42c6-92b1-94377d4e1345",
   "metadata": {},
   "outputs": [
    {
     "data": {
      "text/plain": [
       "tensor([ 0,  1,  2,  3,  4,  5,  6,  7,  8,  9, 10, 11, 12, 13, 14, 15, 16, 17,\n",
       "        18, 19, 20, 21, 22, 23, 24, 25, 26, 27, 28, 29, 30, 31])"
      ]
     },
     "execution_count": 48,
     "metadata": {},
     "output_type": "execute_result"
    }
   ],
   "source": [
    "labels"
   ]
  },
  {
   "cell_type": "code",
   "execution_count": 54,
   "id": "dcb47a35-ec00-4c1e-932a-1a8e13f9b20b",
   "metadata": {},
   "outputs": [
    {
     "data": {
      "text/plain": [
       "tensor(4.0040, grad_fn=<NllLossBackward0>)"
      ]
     },
     "execution_count": 54,
     "metadata": {},
     "output_type": "execute_result"
    }
   ],
   "source": [
    "F.cross_entropy(logits_ps, labels)"
   ]
  },
  {
   "cell_type": "code",
   "execution_count": 55,
   "id": "b478239d-f778-4fe3-ae24-78117e0c0bb6",
   "metadata": {},
   "outputs": [
    {
     "data": {
      "text/plain": [
       "tensor(5.3719, grad_fn=<NllLossBackward0>)"
      ]
     },
     "execution_count": 55,
     "metadata": {},
     "output_type": "execute_result"
    }
   ],
   "source": [
    "F.cross_entropy(logits_ps.transpose(-1, -2), labels)"
   ]
  },
  {
   "cell_type": "code",
   "execution_count": 60,
   "id": "518cffbb-c459-451f-a079-fadf898b9896",
   "metadata": {},
   "outputs": [],
   "source": [
    "probabilities = torch.nn.functional.softmax(logits_ps, dim=1)\n",
    "_, predicted_labels = torch.max(probabilities, dim=1)"
   ]
  },
  {
   "cell_type": "code",
   "execution_count": 61,
   "id": "8b95ee0e-f4d8-4e5b-81d2-74ce6ff19a0d",
   "metadata": {},
   "outputs": [
    {
     "data": {
      "text/plain": [
       "tensor([31,  5, 31, 21,  3, 28, 31,  5, 28,  5, 31, 28,  3, 27,  3,  5,  7,  5,\n",
       "         3, 31,  3, 27,  3, 21, 27,  3,  4, 31,  3,  7, 31,  5])"
      ]
     },
     "execution_count": 61,
     "metadata": {},
     "output_type": "execute_result"
    }
   ],
   "source": [
    "predicted_labels"
   ]
  },
  {
   "cell_type": "code",
   "execution_count": null,
   "id": "fd8c5ed5-706a-4aca-83ac-e1691fc42958",
   "metadata": {},
   "outputs": [],
   "source": []
  },
  {
   "cell_type": "code",
   "execution_count": null,
   "id": "eb72f5de-0d47-4ae3-a83a-6c0d5fe95eb9",
   "metadata": {},
   "outputs": [],
   "source": []
  }
 ],
 "metadata": {
  "kernelspec": {
   "display_name": "Python 3 (ipykernel)",
   "language": "python",
   "name": "python3"
  },
  "language_info": {
   "codemirror_mode": {
    "name": "ipython",
    "version": 3
   },
   "file_extension": ".py",
   "mimetype": "text/x-python",
   "name": "python",
   "nbconvert_exporter": "python",
   "pygments_lexer": "ipython3",
   "version": "3.10.14"
  }
 },
 "nbformat": 4,
 "nbformat_minor": 5
}

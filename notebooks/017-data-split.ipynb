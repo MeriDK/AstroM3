{
 "cells": [
  {
   "cell_type": "code",
   "execution_count": 2,
   "id": "62e07738-03d4-49bd-ae0f-378f98d4e1ab",
   "metadata": {},
   "source": [
    "import sys\n",
    "sys.path.insert(0, '..')\n",
    "\n",
    "from astropy.io import fits\n",
    "import json\n",
    "import os\n",
    "from io import BytesIO\n",
    "from scipy import stats\n",
    "import joblib\n",
    "import numpy as np\n",
    "import pandas as pd\n",
    "from sklearn.model_selection import train_test_split\n",
    "from sklearn.preprocessing import StandardScaler\n",
    "from torch.utils.data import Dataset\n",
    "from tqdm import tqdm\n",
    "\n",
    "from util.parallelzipfile import ParallelZipFile as ZipFile\n",
    "from util.preprocess_data import clip_outliers"
   ],
   "outputs": []
  },
  {
   "cell_type": "code",
   "execution_count": 3,
   "id": "5c50f6ba-6808-42cd-a82b-21e5978a5f86",
   "metadata": {},
   "source": [
    "random_seed = 42"
   ],
   "outputs": []
  },
  {
   "cell_type": "code",
   "execution_count": 4,
   "id": "4af41259-9ed9-45a5-b4ae-92e6f941ab62",
   "metadata": {},
   "source": [
    "METADATA_COLS = [\n",
    "    'mean_vmag', 'amplitude', 'period', 'phot_g_mean_mag', 'e_phot_g_mean_mag', 'lksl_statistic',\n",
    "    'rfr_score', 'phot_bp_mean_mag', 'e_phot_bp_mean_mag', 'phot_rp_mean_mag', 'e_phot_rp_mean_mag',\n",
    "    'bp_rp', 'parallax', 'parallax_error', 'parallax_over_error', 'pmra', 'pmra_error', 'pmdec',\n",
    "    'pmdec_error', 'j_mag', 'e_j_mag', 'h_mag', 'e_h_mag', 'k_mag', 'e_k_mag', 'w1_mag', 'e_w1_mag',\n",
    "    'w2_mag', 'e_w2_mag', 'w3_mag', 'w4_mag', 'j_k', 'w1_w2', 'w3_w4', 'pm', 'ruwe'\n",
    "]\n",
    "\n",
    "CLASSES = ['CWA', 'CWB', 'DCEP', 'DCEPS', 'DSCT', 'EA', 'EB', 'EW',\n",
    "           'HADS', 'M', 'ROT', 'RRAB', 'RRC', 'RRD', 'RVA', 'SR']\n",
    "\n",
    "DATA_ROOT = '/home/mariia/AstroML/data/asassn/'"
   ],
   "outputs": []
  },
  {
   "cell_type": "code",
   "execution_count": 5,
   "id": "de613fd9-6af3-49a1-846c-809d8c81ec85",
   "metadata": {},
   "source": [
    "def drop_nan(df):\n",
    "    df = df.dropna(axis=0, how='any')\n",
    "    return df"
   ],
   "outputs": []
  },
  {
   "cell_type": "code",
   "execution_count": 6,
   "id": "43b18acc-3c2f-4c32-8e3a-4b1057044f7b",
   "metadata": {},
   "source": [
    "def filter_classes(df, classes):\n",
    "    df = df[df['variable_type'].isin(classes)]\n",
    "    return df"
   ],
   "outputs": []
  },
  {
   "cell_type": "code",
   "execution_count": 7,
   "id": "aac9f51c-4c22-4e5a-8817-75b746f543e7",
   "metadata": {},
   "source": [
    "def limit_samples(df, min_samples=None, max_samples=None):\n",
    "    value_counts = df['variable_type'].value_counts()\n",
    "\n",
    "    if min_samples:\n",
    "        classes_to_remove = value_counts[value_counts < min_samples].index\n",
    "        df = df[~df['variable_type'].isin(classes_to_remove)]\n",
    "\n",
    "    if max_samples:\n",
    "        classes_to_limit = value_counts[value_counts > max_samples].index\n",
    "        for class_type in classes_to_limit:\n",
    "            class_indices = df[df['variable_type'] == class_type].index\n",
    "            indices_to_keep = np.random.choice(class_indices, size=max_samples, replace=False)\n",
    "            df = df.drop(index=set(class_indices) - set(indices_to_keep))\n",
    "\n",
    "    return df"
   ],
   "outputs": []
  },
  {
   "cell_type": "code",
   "execution_count": 8,
   "id": "e488e4ef-da47-42b5-b111-d33e25817788",
   "metadata": {},
   "source": [
    "def split(df):\n",
    "    unique_ids = df['id'].unique()\n",
    "    train_ids, temp_ids = train_test_split(unique_ids, test_size=0.2, random_state=random_seed)\n",
    "    val_ids, test_ids = train_test_split(temp_ids, test_size=0.5, random_state=random_seed)\n",
    "\n",
    "    df_train = df[df['id'].isin(train_ids)]\n",
    "    df_val = df[df['id'].isin(val_ids)]\n",
    "    df_test = df[df['id'].isin(test_ids)]\n",
    "    \n",
    "    return df_train, df_val, df_test"
   ],
   "outputs": []
  },
  {
   "cell_type": "code",
   "execution_count": 9,
   "id": "344204fb-6cf1-4133-b05c-4f124b1e2280",
   "metadata": {},
   "source": [
    "def normalize_metadata(df_train, df_val, df_test):\n",
    "    scaler = StandardScaler()\n",
    "    scaler.fit(df_train[METADATA_COLS])\n",
    "    joblib.dump(scaler, os.path.join(DATA_ROOT, 'preprocessed_data/full/scaler.pkl'))\n",
    "    \n",
    "    df_train.loc[:, METADATA_COLS] = scaler.transform(df_train[METADATA_COLS])\n",
    "    df_val.loc[:, METADATA_COLS] = scaler.transform(df_val[METADATA_COLS])\n",
    "    df_test.loc[:, METADATA_COLS] = scaler.transform(df_test[METADATA_COLS])"
   ],
   "outputs": []
  },
  {
   "cell_type": "code",
   "execution_count": 10,
   "id": "b30fc761-f0d6-40c8-beff-5df24544f73b",
   "metadata": {},
   "source": [
    "def drop_duplicates(df):    \n",
    "    df = df.drop_duplicates(subset=['edr3_source_id'], keep='last')\n",
    "    return df"
   ],
   "outputs": []
  },
  {
   "cell_type": "code",
   "execution_count": 11,
   "id": "430868de-3616-43d7-bbc8-4c5bfc90f6cf",
   "metadata": {},
   "source": [
    "def get_vlc(file_name):\n",
    "    csv = BytesIO()\n",
    "    data_path = f'vardb_files/{file_name}.dat'\n",
    "\n",
    "    csv.write(reader_v.read(data_path))\n",
    "    csv.seek(0)\n",
    "\n",
    "    lc = pd.read_csv(csv, sep='\\s+', skiprows=2, names=['HJD', 'MAG', 'MAG_ERR', 'FLUX', 'FLUX_ERR'],\n",
    "                     dtype={'HJD': float, 'MAG': float, 'MAG_ERR': float, 'FLUX': float, 'FLUX_ERR': float})\n",
    "\n",
    "    return lc[['HJD', 'FLUX', 'FLUX_ERR']].values"
   ],
   "outputs": []
  },
  {
   "cell_type": "markdown",
   "id": "6eece765-9657-471e-b0c0-af279908bf50",
   "metadata": {},
   "source": [
    "# Preprocessing Photometry Data"
   ]
  },
  {
   "cell_type": "code",
   "execution_count": 56,
   "id": "99690c28-84d1-48cf-80f8-ec1512a531dc",
   "metadata": {},
   "source": [
    "v_df = pd.read_csv(os.path.join(DATA_ROOT, 'asassn_catalog_full.csv'))\n",
    "v_df = v_df[METADATA_COLS + ['edr3_source_id', 'variable_type', 'asassn_name']]"
   ],
   "outputs": []
  },
  {
   "cell_type": "code",
   "execution_count": 57,
   "id": "42e07890-7ad7-48a2-9583-f52715091ad6",
   "metadata": {},
   "source": [
    "print('Dropping NaN... Before:', len(v_df), end=' ')\n",
    "v_df = drop_nan(v_df)\n",
    "print('After:', len(v_df))"
   ],
   "outputs": []
  },
  {
   "cell_type": "code",
   "execution_count": 58,
   "id": "77767f12-2802-4f1a-a292-09b840691c0a",
   "metadata": {},
   "source": [
    "print('Dropping duplicates... Before:', len(v_df), end=' ')\n",
    "v_df = drop_duplicates(v_df)\n",
    "print('After:', len(v_df))"
   ],
   "outputs": []
  },
  {
   "cell_type": "code",
   "execution_count": 69,
   "id": "74bbadf1-e1c6-4568-abf8-fb92c6f0b538",
   "metadata": {},
   "source": [
    "v_df['asassn_name'] = v_df['asassn_name'].apply(lambda x: x.replace(' ', ''))"
   ],
   "outputs": []
  },
  {
   "cell_type": "code",
   "execution_count": 70,
   "id": "74fcfbe6-bd68-4223-8e9e-2f5530d55bc4",
   "metadata": {},
   "source": [
    "reader_v = ZipFile('/home/mariia/AstroML/data/asassn/asassnvarlc_vband_complete.zip')\n",
    "v_empty_sources = []\n",
    "\n",
    "for el in tqdm(v_df['asassn_name']):\n",
    "    if len(get_vlc(el)) == 0:\n",
    "        v_empty_sources.append(el)"
   ],
   "outputs": []
  },
  {
   "cell_type": "code",
   "execution_count": 71,
   "id": "2835f1cc-b184-491b-b80b-8915954aa6e1",
   "metadata": {},
   "source": [
    "v_df = v_df[~v_df['asassn_name'].isin(v_empty_sources)]"
   ],
   "outputs": []
  },
  {
   "cell_type": "code",
   "execution_count": 82,
   "id": "06564dc8-350d-490f-929d-8b1f97d9eacd",
   "metadata": {},
   "source": [
    "print('After dropping empty sources:', len(v_df))"
   ],
   "outputs": []
  },
  {
   "cell_type": "code",
   "execution_count": 83,
   "id": "88721e10-ed28-487f-baaf-3230f5aad9f8",
   "metadata": {},
   "source": [
    "v_df = v_df.rename(columns={'edr3_source_id': 'id', 'variable_type': 'target', 'asassn_name': 'name'})"
   ],
   "outputs": []
  },
  {
   "cell_type": "code",
   "execution_count": 84,
   "id": "5505d6a8-9fa4-43ba-b5cf-cfe24c5c7cf4",
   "metadata": {},
   "source": [
    "v_df.to_csv(os.path.join(DATA_ROOT, 'preprocessed_data/full/v.csv'), index=False)"
   ],
   "outputs": []
  },
  {
   "cell_type": "markdown",
   "id": "14843aa1-a1a9-427f-91b4-db5f438694be",
   "metadata": {},
   "source": [
    "# Preprocessing Spectra Data"
   ]
  },
  {
   "cell_type": "code",
   "execution_count": 192,
   "id": "8085d0ff-65a0-420e-ab2c-6159763b63bb",
   "metadata": {},
   "source": [
    "spec_df = pd.read_csv(os.path.join(DATA_ROOT, 'Spectra/lamost_spec.csv'), index_col=0)\n",
    "spec_df = spec_df[['edr3_source_id', 'spec_filename']]"
   ],
   "outputs": []
  },
  {
   "cell_type": "code",
   "execution_count": 193,
   "id": "241de49d-47d9-4563-aef3-ddc7451cca2f",
   "metadata": {},
   "source": [
    "print('Dropping duplicates. Before:', len(spec_df), end=' ')\n",
    "spec_df = drop_duplicates(spec_df)\n",
    "print('After:', len(spec_df))"
   ],
   "outputs": []
  },
  {
   "cell_type": "code",
   "execution_count": 196,
   "id": "44c3e439-f345-4445-afed-8c9a026702fd",
   "metadata": {},
   "source": [
    "spec_sources404 = []\n",
    "\n",
    "for el in tqdm(spec_df['spec_filename']):\n",
    "    if not os.path.exists(f'/home/mariia/AstroML/data/asassn/Spectra/v2/{el}'):\n",
    "        spec_sources404.append(el)"
   ],
   "outputs": []
  },
  {
   "cell_type": "code",
   "execution_count": 197,
   "id": "c3ffd990-38f2-4da2-84f9-52e5d8566110",
   "metadata": {},
   "source": [
    "len(spec_sources404)"
   ],
   "outputs": []
  },
  {
   "cell_type": "code",
   "execution_count": 198,
   "id": "7f92d940-413d-4048-9f6c-eead9279dadc",
   "metadata": {},
   "source": [
    "spec_weird_sources = ['EDR3 3714273187707121920', 'EDR3 3222213829875076096', 'EDR3 601653935246445696']"
   ],
   "outputs": []
  },
  {
   "cell_type": "code",
   "execution_count": 199,
   "id": "2223b4bf-0bf1-4535-af22-8fa84decb5ff",
   "metadata": {},
   "source": [
    "print('Dropping sources that do not exist and weird sources. Before:', len(spec_df), end=' ')\n",
    "spec_df = spec_df[~spec_df['spec_filename'].isin(spec_sources404)]\n",
    "spec_df = spec_df[~spec_df['edr3_source_id'].isin(spec_weird_sources)]\n",
    "print('After:', len(spec_df))"
   ],
   "outputs": []
  },
  {
   "cell_type": "code",
   "execution_count": 200,
   "id": "bbd9d5b0-a6ac-47cc-9f40-3d5e044509cc",
   "metadata": {},
   "source": [
    "spec_df = spec_df.rename(columns={'edr3_source_id': 'id'})\n",
    "df = pd.merge(v_df, spec_df, on='id', how='inner')\n",
    "print('After v_df and spec_df merge', len(df))"
   ],
   "outputs": []
  },
  {
   "cell_type": "code",
   "execution_count": 201,
   "id": "0b19dd93-e11d-4d0e-9106-3566e367ce0f",
   "metadata": {},
   "source": [
    "df.to_csv(os.path.join(DATA_ROOT, 'preprocessed_data/full/spectra_and_v.csv'), index=False)"
   ],
   "outputs": []
  },
  {
   "cell_type": "markdown",
   "id": "a2f7b7df-8dcf-473d-b471-2b497a0d5443",
   "metadata": {},
   "source": [
    "# Split"
   ]
  },
  {
   "cell_type": "code",
   "execution_count": 171,
   "id": "2d8b4645-4c98-4774-9882-d7032645023e",
   "metadata": {},
   "source": [
    "df_train, df_val, df_test = split(v_df)"
   ],
   "outputs": []
  },
  {
   "cell_type": "code",
   "execution_count": 172,
   "id": "941e13ba-cfbb-4312-bed9-77e6df21740b",
   "metadata": {},
   "source": [
    "len(df_train), len(df_val), len(df_test)"
   ],
   "outputs": []
  },
  {
   "cell_type": "code",
   "execution_count": 173,
   "id": "f071e151-4914-443a-85c3-17e9e8bff5ed",
   "metadata": {},
   "source": [
    "df_train.to_csv(os.path.join(DATA_ROOT, 'preprocessed_data/full/v_train.csv'), index=False)\n",
    "df_val.to_csv(os.path.join(DATA_ROOT, 'preprocessed_data/full/v_val.csv'), index=False)\n",
    "df_test.to_csv(os.path.join(DATA_ROOT, 'preprocessed_data/full/v_test.csv'), index=False)"
   ],
   "outputs": []
  },
  {
   "cell_type": "code",
   "execution_count": 202,
   "id": "a50e43fc-9f5d-4ae4-98f4-804dc235d2dc",
   "metadata": {},
   "source": [
    "train = df[df['id'].isin(df_train['id'])]\n",
    "val = df[df['id'].isin(df_val['id'])]\n",
    "test = df[df['id'].isin(df_test['id'])]"
   ],
   "outputs": []
  },
  {
   "cell_type": "code",
   "execution_count": 203,
   "id": "98a09d67-1123-4f99-95dd-1e4d148501df",
   "metadata": {},
   "source": [
    "len(train), len(val), len(test)"
   ],
   "outputs": []
  },
  {
   "cell_type": "code",
   "execution_count": 204,
   "id": "6436b396-0f54-4337-9e71-2d8c7a9029fd",
   "metadata": {},
   "source": [
    "train.to_csv(os.path.join(DATA_ROOT, 'preprocessed_data/full/spectra_and_v_train.csv'), index=False)\n",
    "val.to_csv(os.path.join(DATA_ROOT, 'preprocessed_data/full/spectra_and_v_val.csv'), index=False)\n",
    "test.to_csv(os.path.join(DATA_ROOT, 'preprocessed_data/full/spectra_and_v_test.csv'), index=False)"
   ],
   "outputs": []
  },
  {
   "cell_type": "markdown",
   "id": "72f68de7-a857-41b5-8e5a-c8ffe6ee8950",
   "metadata": {},
   "source": [
    "# Log period + Normalize metadata"
   ]
  },
  {
   "cell_type": "code",
   "execution_count": 12,
   "id": "e2d8847d-25ab-4c72-9405-250a3946a68f",
   "metadata": {},
   "source": [
    "df_train = pd.read_csv(os.path.join(DATA_ROOT, 'preprocessed_data/full/v_train.csv'))\n",
    "df_val = pd.read_csv(os.path.join(DATA_ROOT, 'preprocessed_data/full/v_val.csv'))\n",
    "df_test = pd.read_csv(os.path.join(DATA_ROOT, 'preprocessed_data/full/v_test.csv'))"
   ],
   "outputs": []
  },
  {
   "cell_type": "code",
   "execution_count": 13,
   "id": "cc34ead5-b362-4021-bf6e-5fbb7a23f037",
   "metadata": {},
   "source": [
    "train = pd.read_csv(os.path.join(DATA_ROOT, 'preprocessed_data/full/spectra_and_v_train.csv'))\n",
    "val = pd.read_csv(os.path.join(DATA_ROOT, 'preprocessed_data/full/spectra_and_v_val.csv'))\n",
    "test = pd.read_csv(os.path.join(DATA_ROOT, 'preprocessed_data/full/spectra_and_v_test.csv'))"
   ],
   "outputs": []
  },
  {
   "cell_type": "code",
   "execution_count": 14,
   "id": "35e77c09-9836-49a1-a711-655c69cb8876",
   "metadata": {},
   "source": [
    "df_train.loc[:, 'org_period'] = df_train['period']\n",
    "df_val.loc[:, 'org_period'] = df_val['period']\n",
    "df_test.loc[:, 'org_period'] = df_test['period']"
   ],
   "outputs": []
  },
  {
   "cell_type": "code",
   "execution_count": 15,
   "id": "21381b10-5a01-487f-9db0-d3952f68915f",
   "metadata": {},
   "source": [
    "train.loc[:, 'org_period'] = train['period']\n",
    "val.loc[:, 'org_period'] = val['period']\n",
    "test.loc[:, 'org_period'] = test['period']"
   ],
   "outputs": []
  },
  {
   "cell_type": "code",
   "execution_count": 16,
   "id": "52893fdf-0c35-4d76-b759-e7217a44d32d",
   "metadata": {},
   "source": [
    "df_train.loc[:, 'period'] = np.log(df_train['period'])\n",
    "df_val.loc[:, 'period'] = np.log(df_val['period'])\n",
    "df_test.loc[:, 'period'] = np.log(df_test['period'])"
   ],
   "outputs": []
  },
  {
   "cell_type": "code",
   "execution_count": 17,
   "id": "2d0cc4e0-926a-484c-9ca1-e15dc69dfdad",
   "metadata": {},
   "source": [
    "normalize_metadata(df_train, df_val, df_test)"
   ],
   "outputs": []
  },
  {
   "cell_type": "code",
   "execution_count": 18,
   "id": "2ae39eff-1ea1-4eae-94b4-3ae1ab034b49",
   "metadata": {},
   "source": [
    "df_train.to_csv(os.path.join(DATA_ROOT, 'preprocessed_data/full/v_train_norm.csv'), index=False)\n",
    "df_val.to_csv(os.path.join(DATA_ROOT, 'preprocessed_data/full/v_val_norm.csv'), index=False)\n",
    "df_test.to_csv(os.path.join(DATA_ROOT, 'preprocessed_data/full/v_test_norm.csv'), index=False)"
   ],
   "outputs": []
  },
  {
   "cell_type": "code",
   "execution_count": 19,
   "id": "45c9245f-775c-4a0b-a694-165a6ec4b2cd",
   "metadata": {},
   "source": [
    "train.loc[:, 'period'] = np.log(train['period'])\n",
    "val.loc[:, 'period'] = np.log(val['period'])\n",
    "test.loc[:, 'period'] = np.log(test['period'])"
   ],
   "outputs": []
  },
  {
   "cell_type": "code",
   "execution_count": 20,
   "id": "2cc5f8fe-29f3-4769-a3b3-311f195f8dcb",
   "metadata": {},
   "source": [
    "scaler = joblib.load(os.path.join(DATA_ROOT, 'preprocessed_data/full/scaler.pkl'))"
   ],
   "outputs": []
  },
  {
   "cell_type": "code",
   "execution_count": 21,
   "id": "d9d09952-6eb2-4363-9226-ec6e8d0cf4fb",
   "metadata": {},
   "source": [
    "train.loc[:, METADATA_COLS] = scaler.transform(train[METADATA_COLS])\n",
    "val.loc[:, METADATA_COLS] = scaler.transform(val[METADATA_COLS])\n",
    "test.loc[:, METADATA_COLS] = scaler.transform(test[METADATA_COLS])"
   ],
   "outputs": []
  },
  {
   "cell_type": "code",
   "execution_count": 22,
   "id": "8a13eb8d-954d-47c4-9b59-6e18064b89d6",
   "metadata": {},
   "source": [
    "train.to_csv(os.path.join(DATA_ROOT, 'preprocessed_data/full/spectra_and_v_train_norm.csv'), index=False)\n",
    "val.to_csv(os.path.join(DATA_ROOT, 'preprocessed_data/full/spectra_and_v_val_norm.csv'), index=False)\n",
    "test.to_csv(os.path.join(DATA_ROOT, 'preprocessed_data/full/spectra_and_v_test_norm.csv'), index=False)"
   ],
   "outputs": []
  },
  {
   "cell_type": "markdown",
   "id": "6e9801d1-f8b7-4add-aeec-5c443c58251d",
   "metadata": {},
   "source": [
    "# Limit samples"
   ]
  },
  {
   "cell_type": "code",
   "execution_count": 185,
   "id": "f59dced0-7d09-4167-96c8-afb2387b341a",
   "metadata": {},
   "source": [
    "train['target'].value_counts()"
   ],
   "outputs": []
  },
  {
   "cell_type": "code",
   "execution_count": null,
   "id": "4a21e1f0-6b44-42b7-98fe-16613fa51ad4",
   "metadata": {},
   "source": [],
   "outputs": []
  },
  {
   "cell_type": "code",
   "execution_count": null,
   "id": "d4112939-9252-441d-9c28-47f322354abf",
   "metadata": {},
   "source": [],
   "outputs": []
  },
  {
   "cell_type": "code",
   "execution_count": null,
   "id": "1e9134ce-bff1-4a30-8e5f-3189c4cd6016",
   "metadata": {},
   "source": [],
   "outputs": []
  },
  {
   "cell_type": "code",
   "execution_count": null,
   "id": "6f410915-88ee-4ea7-82ee-7597e8f7d270",
   "metadata": {},
   "source": [],
   "outputs": []
  },
  {
   "cell_type": "code",
   "execution_count": null,
   "id": "e5beed0e-ae59-4517-8ec4-6539094a98fb",
   "metadata": {},
   "source": [],
   "outputs": []
  }
 ],
 "metadata": {
  "kernelspec": {
   "display_name": "Python 3 (ipykernel)",
   "language": "python",
   "name": "python3"
  },
  "language_info": {
   "codemirror_mode": {
    "name": "ipython",
    "version": 3
   },
   "file_extension": ".py",
   "mimetype": "text/x-python",
   "name": "python",
   "nbconvert_exporter": "python",
   "pygments_lexer": "ipython3",
   "version": "3.10.14"
  }
 },
 "nbformat": 4,
 "nbformat_minor": 5
}

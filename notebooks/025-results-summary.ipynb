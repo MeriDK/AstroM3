{
 "cells": [
  {
   "cell_type": "code",
   "execution_count": 1,
   "id": "8fefdecc-de78-4757-b8b8-4dbc64292782",
   "metadata": {},
   "source": [
    "import sys\n",
    "sys.path.insert(0, '..')\n",
    "\n",
    "import torch\n",
    "import os\n",
    "import wandb\n",
    "import random\n",
    "import numpy as np\n",
    "import torch\n",
    "from torch import nn\n",
    "from torch.optim import Adam\n",
    "from ignite.handlers.param_scheduler import create_lr_scheduler_with_warmup\n",
    "from torch.utils.data import DataLoader\n",
    "from datetime import datetime\n",
    "import matplotlib.pyplot as plt\n",
    "import pandas as pd\n",
    "from scipy import stats\n",
    "\n",
    "from core.final.dataset import PSMDataset\n",
    "from core.final.model import GalSpecNet, MetaModel, Informer\n",
    "from core.final.trainer import Trainer"
   ],
   "outputs": []
  },
  {
   "cell_type": "code",
   "execution_count": 16,
   "id": "f407e2f9-e7d6-4585-aaa9-6dece2c46876",
   "metadata": {},
   "source": [
    "def get_model(config):\n",
    "    if config['mode'] == 'photo':\n",
    "        model = Informer(config)\n",
    "    elif config['mode'] == 'spectra':\n",
    "        model = GalSpecNet(config)\n",
    "    elif config['mode'] == 'meta':\n",
    "        model = MetaModel(config)\n",
    "    else:\n",
    "        model = AstroModel(config)\n",
    "\n",
    "    return model"
   ],
   "outputs": []
  },
  {
   "cell_type": "code",
   "execution_count": 26,
   "id": "9b661b27-2fc5-4550-906f-768751d994ce",
   "metadata": {},
   "source": [
    "def calc_results(run_id, last_epoch):\n",
    "    api = wandb.Api()\n",
    "    run = api.run(run_id)\n",
    "    config = run.config\n",
    "    config['use_wandb'] = False\n",
    "\n",
    "    test_dataset = PSMDataset(config, split='test')\n",
    "    test_dataloader = DataLoader(test_dataset, batch_size=config['batch_size'], shuffle=False)\n",
    "    config['num_classes'] = test_dataset.num_classes\n",
    "    device = torch.device('cuda' if torch.cuda.is_available() else 'cpu')\n",
    "    \n",
    "    model = get_model(config)\n",
    "    model = model.to(device)\n",
    "    \n",
    "    weights_path = os.path.join(config['weights_path'] + '-' + run_id.split('/')[-1], f'weights-{last_epoch}.pth')\n",
    "    model.load_state_dict(torch.load(weights_path, weights_only=False))\n",
    "\n",
    "    trainer = Trainer(model=model, optimizer=None, scheduler=None, warmup_scheduler=None, criterion=criterion, device=device, config=config)\n",
    "    conf_matrix = trainer.evaluate(test_dataloader, test_dataset.id2target)\n",
    "    acc = np.trace(conf_matrix) / np.sum(conf_matrix)\n",
    "    \n",
    "    return acc"
   ],
   "outputs": []
  },
  {
   "cell_type": "code",
   "execution_count": 27,
   "id": "7ccdc2de-89cb-4f70-8e74-d567984fea49",
   "metadata": {},
   "source": [
    "meta_acc = []"
   ],
   "outputs": []
  },
  {
   "cell_type": "code",
   "execution_count": 28,
   "id": "aea12a3b-87e0-4027-af99-927874918b64",
   "metadata": {},
   "source": [
    "acc = calc_results('MeriDK/AstroCLIPResults/ie1v6sml', 49)\n",
    "meta_acc.append(acc)"
   ],
   "outputs": []
  },
  {
   "cell_type": "code",
   "execution_count": 29,
   "id": "85fbfe13-42db-4232-a13e-5eaa716b5236",
   "metadata": {},
   "source": [
    "acc = calc_results('MeriDK/AstroCLIPResults/40ni87kv', 49)\n",
    "meta_acc.append(acc)"
   ],
   "outputs": []
  },
  {
   "cell_type": "code",
   "execution_count": 32,
   "id": "91e40ab4-f18c-4b7a-929a-9bc14df3630c",
   "metadata": {},
   "source": [
    "acc = calc_results('MeriDK/AstroCLIPResults/nhudyhng', 49)\n",
    "meta_acc.append(acc)"
   ],
   "outputs": []
  },
  {
   "cell_type": "code",
   "execution_count": 30,
   "id": "3997cf95-ce2a-4633-93e4-a9cb8250f5c1",
   "metadata": {},
   "source": [
    "acc = calc_results('MeriDK/AstroCLIPResults/uz3p73ct', 49)\n",
    "meta_acc.append(acc)"
   ],
   "outputs": []
  },
  {
   "cell_type": "code",
   "execution_count": 31,
   "id": "e06e07d2-def2-4d6f-a605-758484cf4aaf",
   "metadata": {},
   "source": [
    "acc = calc_results('MeriDK/AstroCLIPResults/tebkmndy', 49)\n",
    "meta_acc.append(acc)"
   ],
   "outputs": []
  },
  {
   "cell_type": "code",
   "execution_count": 34,
   "id": "3b700dac-0604-4605-919b-00c354745f0b",
   "metadata": {},
   "source": [
    "np.mean(meta_acc), np.std(meta_acc)"
   ],
   "outputs": []
  },
  {
   "cell_type": "code",
   "execution_count": 33,
   "id": "ef2e4780-e618-4b11-ad06-8cd6ed2cb781",
   "metadata": {},
   "source": [
    "spectra_acc = []"
   ],
   "outputs": []
  },
  {
   "cell_type": "code",
   "execution_count": 35,
   "id": "5c394c39-0739-48b3-a0fa-5457649c0aec",
   "metadata": {},
   "source": [
    "acc = calc_results('MeriDK/AstroCLIPResults/hwp28499', 49)\n",
    "spectra_acc.append(acc)"
   ],
   "outputs": []
  },
  {
   "cell_type": "code",
   "execution_count": 37,
   "id": "77a27b44-735e-4300-9e5a-537fe7fcb6a1",
   "metadata": {},
   "source": [
    "acc = calc_results('MeriDK/AstroCLIPResults/aqhru5yp', 49)\n",
    "spectra_acc.append(acc)"
   ],
   "outputs": []
  },
  {
   "cell_type": "code",
   "execution_count": 36,
   "id": "5fd89981-8a68-467c-b6d7-680a79f02d8d",
   "metadata": {},
   "source": [
    "acc = calc_results('MeriDK/AstroCLIPResults/cd3bc24b', 49)\n",
    "spectra_acc.append(acc)"
   ],
   "outputs": []
  },
  {
   "cell_type": "code",
   "execution_count": 38,
   "id": "8ca00fb8-619c-4f0c-b68f-bc9e5145100c",
   "metadata": {},
   "source": [
    "acc = calc_results('MeriDK/AstroCLIPResults/ugq8p42f', 49)\n",
    "spectra_acc.append(acc)"
   ],
   "outputs": []
  },
  {
   "cell_type": "code",
   "execution_count": 39,
   "id": "af2ae29d-d2dc-4efd-8153-0d1577d224a0",
   "metadata": {},
   "source": [
    "acc = calc_results('MeriDK/AstroCLIPResults/5bn5e4ym', 49)\n",
    "spectra_acc.append(acc)"
   ],
   "outputs": []
  },
  {
   "cell_type": "code",
   "execution_count": 40,
   "id": "3cd71fc6-c2b6-4ce5-8921-0cee2b3dfbef",
   "metadata": {},
   "source": [
    "np.mean(spectra_acc), np.std(spectra_acc)"
   ],
   "outputs": []
  },
  {
   "cell_type": "code",
   "execution_count": null,
   "id": "2eeabde7-037f-4787-9174-f5d0596b4b10",
   "metadata": {},
   "source": [],
   "outputs": []
  },
  {
   "cell_type": "code",
   "execution_count": null,
   "id": "5b3c9cba-cf8d-4544-8549-30023c993ecf",
   "metadata": {},
   "source": [],
   "outputs": []
  },
  {
   "cell_type": "code",
   "execution_count": null,
   "id": "1dc650bc-4261-4bb1-b641-096bdd352bb5",
   "metadata": {},
   "source": [],
   "outputs": []
  },
  {
   "cell_type": "code",
   "execution_count": null,
   "id": "16c3719f-3c95-4a77-b950-0044cb025de0",
   "metadata": {},
   "source": [],
   "outputs": []
  },
  {
   "cell_type": "code",
   "execution_count": null,
   "id": "c068846c-8a94-49f0-aa5d-90c5c7aed56e",
   "metadata": {},
   "source": [],
   "outputs": []
  },
  {
   "cell_type": "code",
   "execution_count": null,
   "id": "08a12190-071c-4055-b923-e95028cf92b3",
   "metadata": {},
   "source": [],
   "outputs": []
  },
  {
   "cell_type": "code",
   "execution_count": null,
   "id": "5caf35c9-1ff3-47e5-8c1e-e5f9ae83b81a",
   "metadata": {},
   "source": [],
   "outputs": []
  },
  {
   "cell_type": "code",
   "execution_count": null,
   "id": "05b29651-e6d4-4107-a5aa-c595b946339f",
   "metadata": {},
   "source": [],
   "outputs": []
  },
  {
   "cell_type": "code",
   "execution_count": null,
   "id": "170f30dd-670a-4d07-a4ce-f954d3d1bed2",
   "metadata": {},
   "source": [],
   "outputs": []
  }
 ],
 "metadata": {
  "kernelspec": {
   "display_name": "Python 3 (ipykernel)",
   "language": "python",
   "name": "python3"
  },
  "language_info": {
   "codemirror_mode": {
    "name": "ipython",
    "version": 3
   },
   "file_extension": ".py",
   "mimetype": "text/x-python",
   "name": "python",
   "nbconvert_exporter": "python",
   "pygments_lexer": "ipython3",
   "version": "3.10.14"
  }
 },
 "nbformat": 4,
 "nbformat_minor": 5
}

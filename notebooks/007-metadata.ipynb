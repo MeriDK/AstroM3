{
 "cells": [
  {
   "cell_type": "code",
   "execution_count": 1,
   "id": "3aaaeb1c-ae3f-4805-bcda-fe50882b0d96",
   "metadata": {},
   "outputs": [],
   "source": [
    "import sys\n",
    "\n",
    "sys.path.insert(0, '..')"
   ]
  },
  {
   "cell_type": "code",
   "execution_count": 34,
   "id": "3c5cce77-627a-48ff-a7f3-1fb6d936a691",
   "metadata": {},
   "outputs": [],
   "source": [
    "import os\n",
    "import numpy as np\n",
    "import pandas as pd\n",
    "import matplotlib.pyplot as plt\n",
    "import joblib\n",
    "from sklearn.model_selection import train_test_split\n",
    "from sklearn.preprocessing import StandardScaler\n",
    "from torch.utils.data import Dataset"
   ]
  },
  {
   "cell_type": "code",
   "execution_count": null,
   "id": "0af3fab9-27ea-4b8d-beb9-8c7393d2f0d9",
   "metadata": {},
   "outputs": [],
   "source": [
    "\"\"\"\n",
    "We used 16 features from Gaia EDR3, 2MASS and AllWISE. These\n",
    "include the EDR3 G, BP, RP magnitudes and the associated uncertainties, the 𝐵𝑃−𝑅𝑃 color, the 𝐵𝑃−𝑅𝑃 excess factor, signal-to-noise\n",
    "ratios in G and BP, the renormalized unit weight error (RUWE), the\n",
    "𝐽 − 𝐾𝑠 color, the absolute 𝑊𝑅𝑃 magnitude and the absolute 𝑊𝐽 𝐾\n",
    "magnitude. The EDR3 signal-to-noise ratios are essentially the ratio of the observed flux divided by the error in the flux. As noted\n",
    "earlier, the EDR3 photometric uncertainties and flux errors encode\n",
    "information about the photometric variability of stars. We also used\n",
    "the absolute, “reddening-free” Wesenheit magnitudes (Madore 1982;\n",
    "Lebzelter et al. 2018)\n",
    "𝑊𝑅𝑃 = 𝑀RP − 1.3(𝐵𝑃 − 𝑅𝑃) , (1)\n",
    "and\n",
    "𝑊𝐽 𝐾 = 𝑀Ks − 0.686(𝐽 − 𝐾𝑠) (2)\n",
    "and the probabilistic EDR3 distances from Bailer-Jones et al. (2021)\n",
    "\"\"\""
   ]
  },
  {
   "cell_type": "code",
   "execution_count": 70,
   "id": "ac94e67e-f150-4d23-9dac-fef5b5d58e08",
   "metadata": {},
   "outputs": [],
   "source": [
    "def train_epoch():\n",
    "    model.train()\n",
    "    total_loss = []\n",
    "    total_correct_predictions = 0\n",
    "    total_predictions = 0\n",
    "\n",
    "    for X, y in tqdm(train_dataloader):\n",
    "        X, y = X.to(device), y.to(device)\n",
    "\n",
    "        optimizer.zero_grad()\n",
    "\n",
    "        logits = model(X)\n",
    "        loss = criterion(logits, y)\n",
    "        total_loss.append(loss.item())\n",
    "\n",
    "        probabilities = torch.nn.functional.softmax(logits, dim=1)\n",
    "        _, predicted_labels = torch.max(probabilities, dim=1)\n",
    "        correct_predictions = (predicted_labels == y).sum().item()\n",
    "\n",
    "        total_correct_predictions += correct_predictions\n",
    "        total_predictions += y.size(0)\n",
    "\n",
    "        loss.backward()\n",
    "        optimizer.step()\n",
    "\n",
    "    return sum(total_loss) / len(total_loss), total_correct_predictions / total_predictions\n",
    "    \n",
    "def val_epoch():\n",
    "    model.eval()\n",
    "    total_loss = []\n",
    "    total_correct_predictions = 0\n",
    "    total_predictions = 0\n",
    "\n",
    "    with torch.no_grad():\n",
    "        for X, y in tqdm(val_dataloader):\n",
    "            X, y = X.to(device), y.to(device)\n",
    "\n",
    "            logits = model(X)\n",
    "            loss = criterion(logits, y)\n",
    "            total_loss.append(loss.item())\n",
    "\n",
    "            probabilities = torch.nn.functional.softmax(logits, dim=1)\n",
    "            _, predicted_labels = torch.max(probabilities, dim=1)\n",
    "            correct_predictions = (predicted_labels == y).sum().item()\n",
    "    \n",
    "            total_correct_predictions += correct_predictions\n",
    "            total_predictions += y.size(0)\n",
    "\n",
    "    return sum(total_loss) / len(total_loss), total_correct_predictions / total_predictions"
   ]
  },
  {
   "cell_type": "code",
   "execution_count": 41,
   "id": "327d590d-5215-486f-852a-5787ab6d5e11",
   "metadata": {},
   "outputs": [],
   "source": [
    "METADATA_COLS = [\n",
    "    'mean_vmag', 'amplitude', 'period', 'phot_g_mean_mag', 'e_phot_g_mean_mag', 'lksl_statistic',\n",
    "    'rfr_score', 'phot_bp_mean_mag', 'e_phot_bp_mean_mag', 'phot_rp_mean_mag', 'e_phot_rp_mean_mag',\n",
    "    'bp_rp', 'parallax', 'parallax_error', 'parallax_over_error', 'pmra', 'pmra_error', 'pmdec',\n",
    "    'pmdec_error', 'j_mag', 'e_j_mag', 'h_mag', 'e_h_mag', 'k_mag', 'e_k_mag', 'w1_mag', 'e_w1_mag',\n",
    "    'w2_mag', 'e_w2_mag', 'w3_mag', 'w4_mag', 'j_k', 'w1_w2', 'w3_w4', 'pm', 'ruwe'\n",
    "]"
   ]
  },
  {
   "cell_type": "code",
   "execution_count": 80,
   "id": "59951ca8-e978-4b07-8212-2431dd2365c4",
   "metadata": {},
   "outputs": [],
   "source": [
    "class MetaVDataset(Dataset):\n",
    "    def __init__(self, file, split='train', classes=None, min_samples=None, max_samples=None,\n",
    "                 random_seed=42, verbose=True):\n",
    "        self.df = pd.read_csv(file)\n",
    "        self.metadata_cols = METADATA_COLS\n",
    "        self.df = self.df[self.metadata_cols + ['edr3_source_id', 'variable_type']]\n",
    "\n",
    "        self.split = split\n",
    "        self.verbose = verbose\n",
    "        self.classes = classes\n",
    "        self.min_samples = min_samples\n",
    "        self.max_samples = max_samples\n",
    "\n",
    "        self.random_seed = random_seed\n",
    "        np.random.seed(random_seed)\n",
    "\n",
    "        self._drop_nan()\n",
    "        self._drop_duplicates()\n",
    "        self._filter_classes()\n",
    "        self._limit_samples()\n",
    "        self._split()\n",
    "        self._normalize()\n",
    "\n",
    "        self.id2target = {i: x for i, x in enumerate(sorted(self.df['variable_type'].unique()))}\n",
    "        self.target2id = {v: k for k, v in self.id2target.items()}\n",
    "        self.num_classes = len(self.id2target)\n",
    "\n",
    "    def _drop_nan(self):\n",
    "        if self.verbose:\n",
    "            print('Dropping nan values...', end=' ')\n",
    "\n",
    "        self.df.dropna(axis=0, how='any', inplace=True)\n",
    "\n",
    "        if self.verbose:\n",
    "            print(f'Done. Left with {len(self.df)} rows.')\n",
    "\n",
    "    def _drop_duplicates(self):\n",
    "        if self.verbose:\n",
    "            print('Dropping duplicated values...', end=' ')\n",
    "\n",
    "        self.df.drop_duplicates(subset=['edr3_source_id'], keep='last', inplace=True)\n",
    "\n",
    "        if self.verbose:\n",
    "            print(f'Done. Left with {len(self.df)} rows.')\n",
    "\n",
    "    def _filter_classes(self):\n",
    "        if self.classes:\n",
    "            if self.verbose:\n",
    "                print(f'Leaving only classes: {self.classes}... ', end='')\n",
    "\n",
    "            self.df = self.df[self.df['variable_type'].isin(self.classes)]\n",
    "\n",
    "            if self.verbose:\n",
    "                print(f'{len(self.df)} objects left.')\n",
    "\n",
    "    def _limit_samples(self):\n",
    "        if self.max_samples or self.min_samples:\n",
    "            if self.verbose:\n",
    "                print(f'Removing objects that have more than {self.max_samples} or less than {self.min_samples} '\n",
    "                      f'samples... ', end='')\n",
    "\n",
    "            value_counts = self.df['variable_type'].value_counts()\n",
    "\n",
    "            if self.min_samples:\n",
    "                classes_to_remove = value_counts[value_counts < self.min_samples].index\n",
    "                self.df = self.df[~self.df['variable_type'].isin(classes_to_remove)]\n",
    "\n",
    "            if self.max_samples:\n",
    "                classes_to_limit = value_counts[value_counts > self.max_samples].index\n",
    "                for class_type in classes_to_limit:\n",
    "                    class_indices = self.df[self.df['variable_type'] == class_type].index\n",
    "                    indices_to_keep = np.random.choice(class_indices, size=self.max_samples, replace=False)\n",
    "                    self.df = self.df.drop(index=set(class_indices) - set(indices_to_keep))\n",
    "\n",
    "            if self.verbose:\n",
    "                print(f'{len(self.df)} objects left.')\n",
    "\n",
    "    def _split(self):\n",
    "        unique_ids = self.df['edr3_source_id'].unique()\n",
    "        train_ids, temp_ids = train_test_split(unique_ids, test_size=0.2, random_state=self.random_seed)\n",
    "        val_ids, test_ids = train_test_split(temp_ids, test_size=0.5, random_state=self.random_seed)\n",
    "\n",
    "        if self.split == 'train':\n",
    "            self.df = self.df[self.df['edr3_source_id'].isin(train_ids)]\n",
    "        elif self.split == 'val':\n",
    "            self.df = self.df[self.df['edr3_source_id'].isin(val_ids)]\n",
    "        elif self.split == 'test':\n",
    "            self.df = self.df[self.df['edr3_source_id'].isin(test_ids)]\n",
    "        else:\n",
    "            print('Split is not train, val, or test. Keeping the whole dataset')\n",
    "\n",
    "        if self.verbose:\n",
    "            print(f'{self.split} split is selected: {len(self.df)} objects left.')\n",
    "\n",
    "    def _normalize(self):\n",
    "        if self.split == 'train':\n",
    "            self.scaler = StandardScaler()\n",
    "            self.scaler.fit(self.df[self.metadata_cols])\n",
    "            joblib.dump(self.scaler, 'scaler.pkl')\n",
    "        else:\n",
    "            self.scaler = joblib.load('scaler.pkl')\n",
    "\n",
    "        self.df[self.metadata_cols] = self.scaler.transform(self.df[self.metadata_cols])\n",
    "\n",
    "    def __len__(self):\n",
    "        return len(self.df)\n",
    "\n",
    "    def __getitem__(self, idx):\n",
    "        el = self.df.iloc[idx]\n",
    "        X = el[self.metadata_cols].values.astype(np.float32)\n",
    "        y = self.target2id[el['variable_type']]\n",
    "\n",
    "        return X, y"
   ]
  },
  {
   "cell_type": "code",
   "execution_count": 65,
   "id": "ecd4b210-6235-4ec8-b69f-0dc3b39beda4",
   "metadata": {},
   "outputs": [],
   "source": [
    "class MetaClassifier(nn.Module):\n",
    "    def __init__(self, input_dim=36, hidden_dim=128, num_classes=15):\n",
    "        super(MetaClassifier, self).__init__()\n",
    "        \n",
    "        self.fc1 = nn.Linear(input_dim, hidden_dim)\n",
    "        self.fc2 = nn.Linear(hidden_dim, hidden_dim)\n",
    "        self.fc3 = nn.Linear(hidden_dim, num_classes)\n",
    "        self.dropout = nn.Dropout(p=0.5)\n",
    "        \n",
    "    def forward(self, x):\n",
    "        x = F.relu(self.fc1(x))\n",
    "        x = self.dropout(x)\n",
    "        x = F.relu(self.fc2(x))\n",
    "        x = self.dropout(x)\n",
    "        x = self.fc3(x)\n",
    "\n",
    "        return x"
   ]
  },
  {
   "cell_type": "code",
   "execution_count": 81,
   "id": "e6dac67d-f727-4527-b857-b3adc86a1f55",
   "metadata": {},
   "outputs": [
    {
     "name": "stdout",
     "output_type": "stream",
     "text": [
      "Dropping nan values... Done. Left with 452456 rows.\n",
      "Dropping duplicated values... Done. Left with 448995 rows.\n",
      "Removing objects that have more than 20000 or less than 5000 samples... 147435 objects left.\n",
      "train split is selected: 117948 objects left.\n",
      "Dropping nan values... Done. Left with 452456 rows.\n",
      "Dropping duplicated values... Done. Left with 448995 rows.\n",
      "Removing objects that have more than 20000 or less than 5000 samples... 147435 objects left.\n",
      "val split is selected: 14743 objects left.\n"
     ]
    }
   ],
   "source": [
    "file = '/home/mariia/AstroML/data/asassn/asassn_catalog_full.csv'\n",
    "train_dataset = MetaVDataset(file, split='train', classes=None, min_samples=5000, max_samples=20000, random_seed=42, verbose=True)\n",
    "val_dataset = MetaVDataset(file, split='val', classes=None, min_samples=5000, max_samples=20000, random_seed=42, verbose=True)"
   ]
  },
  {
   "cell_type": "code",
   "execution_count": 95,
   "id": "7d3781b7-7c2a-4707-a81f-81fa80198dc9",
   "metadata": {},
   "outputs": [
    {
     "data": {
      "text/plain": [
       "(array([ 0.56179976,  0.2129925 , -0.43258795,  0.6385682 ,  0.2219096 ,\n",
       "        -0.8019077 ,  0.76432294,  0.3823347 , -0.01179562,  0.7440708 ,\n",
       "         0.13428305, -0.54766864, -0.3642406 , -0.18289573, -0.36045888,\n",
       "         0.06274398, -0.18897781, -0.22072479, -0.20897777,  0.9286148 ,\n",
       "         0.06963129,  0.89413244,  0.09064825,  0.9109438 ,  0.04780296,\n",
       "         0.91482997, -0.2702152 ,  0.9344173 ,  0.02068826,  0.46345294,\n",
       "         0.5244172 , -0.5494919 , -0.75290334,  0.26712453, -0.25207636,\n",
       "        -0.18005288], dtype=float32),\n",
       " 5)"
      ]
     },
     "execution_count": 95,
     "metadata": {},
     "output_type": "execute_result"
    }
   ],
   "source": [
    "train_dataset[4]"
   ]
  },
  {
   "cell_type": "code",
   "execution_count": 82,
   "id": "9854ac52-ebcd-4b04-b711-98c6e5bbd895",
   "metadata": {},
   "outputs": [],
   "source": [
    "train_dataloader = DataLoader(train_dataset, batch_size=128, shuffle=True)\n",
    "val_dataloader = DataLoader(val_dataset, batch_size=128, shuffle=False)"
   ]
  },
  {
   "cell_type": "code",
   "execution_count": 83,
   "id": "5219b9e2-de02-41ef-9635-b83f000a73c9",
   "metadata": {},
   "outputs": [
    {
     "name": "stdout",
     "output_type": "stream",
     "text": [
      "Using cuda:1\n"
     ]
    }
   ],
   "source": [
    "device = torch.device('cuda:1' if torch.cuda.is_available() else 'cpu')\n",
    "print('Using', device)\n",
    "\n",
    "model = MetaClassifier(num_classes=train_dataset.num_classes)\n",
    "model = model.to(device)\n",
    "optimizer = Adam(model.parameters(), lr=1e-3)\n",
    "criterion = nn.CrossEntropyLoss()\n",
    "\n",
    "train_losses, val_losses = [], []\n",
    "train_accs, val_accs = [], []"
   ]
  },
  {
   "cell_type": "code",
   "execution_count": 85,
   "id": "62377af0-fdba-424e-957b-be084609c032",
   "metadata": {},
   "outputs": [
    {
     "name": "stdout",
     "output_type": "stream",
     "text": [
      "Epoch 0\n"
     ]
    },
    {
     "name": "stderr",
     "output_type": "stream",
     "text": [
      "100%|███████████████████████████████████████████████████████████████████████████████| 922/922 [00:54<00:00, 16.99it/s]\n"
     ]
    },
    {
     "name": "stdout",
     "output_type": "stream",
     "text": [
      "Train Loss: 1.022 Acc: 0.63\n"
     ]
    },
    {
     "name": "stderr",
     "output_type": "stream",
     "text": [
      "100%|███████████████████████████████████████████████████████████████████████████████| 116/116 [00:06<00:00, 17.86it/s]\n"
     ]
    },
    {
     "name": "stdout",
     "output_type": "stream",
     "text": [
      "Val Loss: 0.728 Acc: 0.75\n",
      "Epoch 1\n"
     ]
    },
    {
     "name": "stderr",
     "output_type": "stream",
     "text": [
      "100%|███████████████████████████████████████████████████████████████████████████████| 922/922 [00:52<00:00, 17.54it/s]\n"
     ]
    },
    {
     "name": "stdout",
     "output_type": "stream",
     "text": [
      "Train Loss: 0.793 Acc: 0.72\n"
     ]
    },
    {
     "name": "stderr",
     "output_type": "stream",
     "text": [
      "100%|███████████████████████████████████████████████████████████████████████████████| 116/116 [00:06<00:00, 17.72it/s]\n"
     ]
    },
    {
     "name": "stdout",
     "output_type": "stream",
     "text": [
      "Val Loss: 0.661 Acc: 0.77\n",
      "Epoch 2\n"
     ]
    },
    {
     "name": "stderr",
     "output_type": "stream",
     "text": [
      "100%|███████████████████████████████████████████████████████████████████████████████| 922/922 [00:53<00:00, 17.32it/s]\n"
     ]
    },
    {
     "name": "stdout",
     "output_type": "stream",
     "text": [
      "Train Loss: 0.739 Acc: 0.74\n"
     ]
    },
    {
     "name": "stderr",
     "output_type": "stream",
     "text": [
      "100%|███████████████████████████████████████████████████████████████████████████████| 116/116 [00:06<00:00, 17.72it/s]\n"
     ]
    },
    {
     "name": "stdout",
     "output_type": "stream",
     "text": [
      "Val Loss: 0.624 Acc: 0.78\n",
      "Epoch 3\n"
     ]
    },
    {
     "name": "stderr",
     "output_type": "stream",
     "text": [
      "100%|███████████████████████████████████████████████████████████████████████████████| 922/922 [00:54<00:00, 17.04it/s]\n"
     ]
    },
    {
     "name": "stdout",
     "output_type": "stream",
     "text": [
      "Train Loss: 0.711 Acc: 0.75\n"
     ]
    },
    {
     "name": "stderr",
     "output_type": "stream",
     "text": [
      "100%|███████████████████████████████████████████████████████████████████████████████| 116/116 [00:06<00:00, 17.75it/s]\n"
     ]
    },
    {
     "name": "stdout",
     "output_type": "stream",
     "text": [
      "Val Loss: 0.61 Acc: 0.78\n",
      "Epoch 4\n"
     ]
    },
    {
     "name": "stderr",
     "output_type": "stream",
     "text": [
      "100%|███████████████████████████████████████████████████████████████████████████████| 922/922 [00:55<00:00, 16.56it/s]\n"
     ]
    },
    {
     "name": "stdout",
     "output_type": "stream",
     "text": [
      "Train Loss: 0.69 Acc: 0.76\n"
     ]
    },
    {
     "name": "stderr",
     "output_type": "stream",
     "text": [
      "100%|███████████████████████████████████████████████████████████████████████████████| 116/116 [00:06<00:00, 17.47it/s]\n"
     ]
    },
    {
     "name": "stdout",
     "output_type": "stream",
     "text": [
      "Val Loss: 0.594 Acc: 0.79\n",
      "Epoch 5\n"
     ]
    },
    {
     "name": "stderr",
     "output_type": "stream",
     "text": [
      "100%|███████████████████████████████████████████████████████████████████████████████| 922/922 [00:53<00:00, 17.27it/s]\n"
     ]
    },
    {
     "name": "stdout",
     "output_type": "stream",
     "text": [
      "Train Loss: 0.675 Acc: 0.76\n"
     ]
    },
    {
     "name": "stderr",
     "output_type": "stream",
     "text": [
      "100%|███████████████████████████████████████████████████████████████████████████████| 116/116 [00:06<00:00, 18.17it/s]\n"
     ]
    },
    {
     "name": "stdout",
     "output_type": "stream",
     "text": [
      "Val Loss: 0.588 Acc: 0.79\n",
      "Epoch 6\n"
     ]
    },
    {
     "name": "stderr",
     "output_type": "stream",
     "text": [
      "100%|███████████████████████████████████████████████████████████████████████████████| 922/922 [00:55<00:00, 16.74it/s]\n"
     ]
    },
    {
     "name": "stdout",
     "output_type": "stream",
     "text": [
      "Train Loss: 0.665 Acc: 0.77\n"
     ]
    },
    {
     "name": "stderr",
     "output_type": "stream",
     "text": [
      "100%|███████████████████████████████████████████████████████████████████████████████| 116/116 [00:06<00:00, 17.95it/s]\n"
     ]
    },
    {
     "name": "stdout",
     "output_type": "stream",
     "text": [
      "Val Loss: 0.575 Acc: 0.8\n",
      "Epoch 7\n"
     ]
    },
    {
     "name": "stderr",
     "output_type": "stream",
     "text": [
      "100%|███████████████████████████████████████████████████████████████████████████████| 922/922 [00:54<00:00, 16.78it/s]\n"
     ]
    },
    {
     "name": "stdout",
     "output_type": "stream",
     "text": [
      "Train Loss: 0.657 Acc: 0.77\n"
     ]
    },
    {
     "name": "stderr",
     "output_type": "stream",
     "text": [
      "100%|███████████████████████████████████████████████████████████████████████████████| 116/116 [00:06<00:00, 17.85it/s]\n"
     ]
    },
    {
     "name": "stdout",
     "output_type": "stream",
     "text": [
      "Val Loss: 0.567 Acc: 0.79\n",
      "Epoch 8\n"
     ]
    },
    {
     "name": "stderr",
     "output_type": "stream",
     "text": [
      "100%|███████████████████████████████████████████████████████████████████████████████| 922/922 [00:54<00:00, 17.00it/s]\n"
     ]
    },
    {
     "name": "stdout",
     "output_type": "stream",
     "text": [
      "Train Loss: 0.648 Acc: 0.77\n"
     ]
    },
    {
     "name": "stderr",
     "output_type": "stream",
     "text": [
      "100%|███████████████████████████████████████████████████████████████████████████████| 116/116 [00:06<00:00, 18.58it/s]\n"
     ]
    },
    {
     "name": "stdout",
     "output_type": "stream",
     "text": [
      "Val Loss: 0.564 Acc: 0.79\n",
      "Epoch 9\n"
     ]
    },
    {
     "name": "stderr",
     "output_type": "stream",
     "text": [
      "100%|███████████████████████████████████████████████████████████████████████████████| 922/922 [00:53<00:00, 17.34it/s]\n"
     ]
    },
    {
     "name": "stdout",
     "output_type": "stream",
     "text": [
      "Train Loss: 0.642 Acc: 0.77\n"
     ]
    },
    {
     "name": "stderr",
     "output_type": "stream",
     "text": [
      "100%|███████████████████████████████████████████████████████████████████████████████| 116/116 [00:06<00:00, 17.77it/s]\n"
     ]
    },
    {
     "name": "stdout",
     "output_type": "stream",
     "text": [
      "Val Loss: 0.563 Acc: 0.79\n",
      "Epoch 10\n"
     ]
    },
    {
     "name": "stderr",
     "output_type": "stream",
     "text": [
      "100%|███████████████████████████████████████████████████████████████████████████████| 922/922 [00:53<00:00, 17.18it/s]\n"
     ]
    },
    {
     "name": "stdout",
     "output_type": "stream",
     "text": [
      "Train Loss: 0.638 Acc: 0.78\n"
     ]
    },
    {
     "name": "stderr",
     "output_type": "stream",
     "text": [
      "100%|███████████████████████████████████████████████████████████████████████████████| 116/116 [00:06<00:00, 17.55it/s]\n"
     ]
    },
    {
     "name": "stdout",
     "output_type": "stream",
     "text": [
      "Val Loss: 0.553 Acc: 0.8\n",
      "Epoch 11\n"
     ]
    },
    {
     "name": "stderr",
     "output_type": "stream",
     "text": [
      "100%|███████████████████████████████████████████████████████████████████████████████| 922/922 [00:54<00:00, 17.07it/s]\n"
     ]
    },
    {
     "name": "stdout",
     "output_type": "stream",
     "text": [
      "Train Loss: 0.635 Acc: 0.78\n"
     ]
    },
    {
     "name": "stderr",
     "output_type": "stream",
     "text": [
      "100%|███████████████████████████████████████████████████████████████████████████████| 116/116 [00:06<00:00, 18.52it/s]\n"
     ]
    },
    {
     "name": "stdout",
     "output_type": "stream",
     "text": [
      "Val Loss: 0.557 Acc: 0.8\n",
      "Epoch 12\n"
     ]
    },
    {
     "name": "stderr",
     "output_type": "stream",
     "text": [
      "100%|███████████████████████████████████████████████████████████████████████████████| 922/922 [00:53<00:00, 17.30it/s]\n"
     ]
    },
    {
     "name": "stdout",
     "output_type": "stream",
     "text": [
      "Train Loss: 0.634 Acc: 0.78\n"
     ]
    },
    {
     "name": "stderr",
     "output_type": "stream",
     "text": [
      "100%|███████████████████████████████████████████████████████████████████████████████| 116/116 [00:06<00:00, 18.36it/s]\n"
     ]
    },
    {
     "name": "stdout",
     "output_type": "stream",
     "text": [
      "Val Loss: 0.551 Acc: 0.8\n",
      "Epoch 13\n"
     ]
    },
    {
     "name": "stderr",
     "output_type": "stream",
     "text": [
      "100%|███████████████████████████████████████████████████████████████████████████████| 922/922 [00:54<00:00, 17.05it/s]\n"
     ]
    },
    {
     "name": "stdout",
     "output_type": "stream",
     "text": [
      "Train Loss: 0.628 Acc: 0.78\n"
     ]
    },
    {
     "name": "stderr",
     "output_type": "stream",
     "text": [
      "100%|███████████████████████████████████████████████████████████████████████████████| 116/116 [00:06<00:00, 18.46it/s]\n"
     ]
    },
    {
     "name": "stdout",
     "output_type": "stream",
     "text": [
      "Val Loss: 0.545 Acc: 0.8\n",
      "Epoch 14\n"
     ]
    },
    {
     "name": "stderr",
     "output_type": "stream",
     "text": [
      "100%|███████████████████████████████████████████████████████████████████████████████| 922/922 [00:53<00:00, 17.29it/s]\n"
     ]
    },
    {
     "name": "stdout",
     "output_type": "stream",
     "text": [
      "Train Loss: 0.626 Acc: 0.78\n"
     ]
    },
    {
     "name": "stderr",
     "output_type": "stream",
     "text": [
      "100%|███████████████████████████████████████████████████████████████████████████████| 116/116 [00:06<00:00, 18.68it/s]\n"
     ]
    },
    {
     "name": "stdout",
     "output_type": "stream",
     "text": [
      "Val Loss: 0.546 Acc: 0.8\n",
      "Epoch 15\n"
     ]
    },
    {
     "name": "stderr",
     "output_type": "stream",
     "text": [
      "100%|███████████████████████████████████████████████████████████████████████████████| 922/922 [00:55<00:00, 16.72it/s]\n"
     ]
    },
    {
     "name": "stdout",
     "output_type": "stream",
     "text": [
      "Train Loss: 0.624 Acc: 0.78\n"
     ]
    },
    {
     "name": "stderr",
     "output_type": "stream",
     "text": [
      "100%|███████████████████████████████████████████████████████████████████████████████| 116/116 [00:06<00:00, 18.33it/s]\n"
     ]
    },
    {
     "name": "stdout",
     "output_type": "stream",
     "text": [
      "Val Loss: 0.542 Acc: 0.81\n",
      "Epoch 16\n"
     ]
    },
    {
     "name": "stderr",
     "output_type": "stream",
     "text": [
      "100%|███████████████████████████████████████████████████████████████████████████████| 922/922 [00:54<00:00, 16.86it/s]\n"
     ]
    },
    {
     "name": "stdout",
     "output_type": "stream",
     "text": [
      "Train Loss: 0.623 Acc: 0.78\n"
     ]
    },
    {
     "name": "stderr",
     "output_type": "stream",
     "text": [
      "100%|███████████████████████████████████████████████████████████████████████████████| 116/116 [00:06<00:00, 18.04it/s]\n"
     ]
    },
    {
     "name": "stdout",
     "output_type": "stream",
     "text": [
      "Val Loss: 0.542 Acc: 0.8\n",
      "Epoch 17\n"
     ]
    },
    {
     "name": "stderr",
     "output_type": "stream",
     "text": [
      "100%|███████████████████████████████████████████████████████████████████████████████| 922/922 [00:54<00:00, 16.94it/s]\n"
     ]
    },
    {
     "name": "stdout",
     "output_type": "stream",
     "text": [
      "Train Loss: 0.618 Acc: 0.78\n"
     ]
    },
    {
     "name": "stderr",
     "output_type": "stream",
     "text": [
      "100%|███████████████████████████████████████████████████████████████████████████████| 116/116 [00:06<00:00, 18.25it/s]\n"
     ]
    },
    {
     "name": "stdout",
     "output_type": "stream",
     "text": [
      "Val Loss: 0.537 Acc: 0.81\n",
      "Epoch 18\n"
     ]
    },
    {
     "name": "stderr",
     "output_type": "stream",
     "text": [
      "100%|███████████████████████████████████████████████████████████████████████████████| 922/922 [00:54<00:00, 16.96it/s]\n"
     ]
    },
    {
     "name": "stdout",
     "output_type": "stream",
     "text": [
      "Train Loss: 0.618 Acc: 0.78\n"
     ]
    },
    {
     "name": "stderr",
     "output_type": "stream",
     "text": [
      "100%|███████████████████████████████████████████████████████████████████████████████| 116/116 [00:06<00:00, 18.67it/s]\n"
     ]
    },
    {
     "name": "stdout",
     "output_type": "stream",
     "text": [
      "Val Loss: 0.539 Acc: 0.81\n",
      "Epoch 19\n"
     ]
    },
    {
     "name": "stderr",
     "output_type": "stream",
     "text": [
      "100%|███████████████████████████████████████████████████████████████████████████████| 922/922 [00:55<00:00, 16.56it/s]\n"
     ]
    },
    {
     "name": "stdout",
     "output_type": "stream",
     "text": [
      "Train Loss: 0.615 Acc: 0.78\n"
     ]
    },
    {
     "name": "stderr",
     "output_type": "stream",
     "text": [
      "100%|███████████████████████████████████████████████████████████████████████████████| 116/116 [00:06<00:00, 17.79it/s]"
     ]
    },
    {
     "name": "stdout",
     "output_type": "stream",
     "text": [
      "Val Loss: 0.536 Acc: 0.81\n"
     ]
    },
    {
     "name": "stderr",
     "output_type": "stream",
     "text": [
      "\n"
     ]
    }
   ],
   "source": [
    "for i in range(20):\n",
    "    print(f'Epoch {i}')\n",
    "    \n",
    "    train_loss, train_acc = train_epoch()\n",
    "    print(f'Train Loss: {round(train_loss, 3)} Acc: {round(train_acc, 2)}')\n",
    "    \n",
    "    val_loss, val_acc = val_epoch()\n",
    "    print(f'Val Loss: {round(val_loss, 3)} Acc: {round(val_acc, 2)}')\n",
    "\n",
    "    train_losses.append(train_loss)\n",
    "    val_losses.append(val_loss)\n",
    "    train_accs.append(train_acc)\n",
    "    val_accs.append(val_acc)"
   ]
  },
  {
   "cell_type": "code",
   "execution_count": 86,
   "id": "06bf5c1f-92ef-4175-b399-2789db5a05fa",
   "metadata": {},
   "outputs": [
    {
     "data": {
      "image/png": "[encoded data removed]",
      "text/plain": [
       "<Figure size 1200x500 with 2 Axes>"
      ]
     },
     "metadata": {},
     "output_type": "display_data"
    }
   ],
   "source": [
    "fig, (ax1, ax2) = plt.subplots(1, 2, figsize=(12, 5))\n",
    "\n",
    "# Plot training and validation losses on the left side\n",
    "ax1.plot(train_losses, label='Train Loss')\n",
    "ax1.plot(val_losses, label='Validation Loss')\n",
    "ax1.set_title('Training and Validation Loss')\n",
    "ax1.set_xlabel('Epochs')\n",
    "ax1.set_ylabel('Loss')\n",
    "ax1.legend()\n",
    "\n",
    "# Plot training and validation accuracies on the right side\n",
    "ax2.plot(train_accs, label='Train Accuracy')\n",
    "ax2.plot(val_accs, label='Validation Accuracy')\n",
    "ax2.set_title('Training and Validation Accuracy')\n",
    "ax2.set_xlabel('Epochs')\n",
    "ax2.set_ylabel('Accuracy')\n",
    "ax2.legend()\n",
    "\n",
    "plt.show()"
   ]
  },
  {
   "cell_type": "code",
   "execution_count": 87,
   "id": "56356cb9-0d23-42eb-a015-7efd70c633d0",
   "metadata": {},
   "outputs": [
    {
     "name": "stderr",
     "output_type": "stream",
     "text": [
      "100%|███████████████████████████████████████████████████████████████████████████████| 116/116 [00:06<00:00, 17.80it/s]\n"
     ]
    }
   ],
   "source": [
    "model.eval()\n",
    "\n",
    "all_true_labels = []\n",
    "all_predicted_labels = []\n",
    "\n",
    "for X, y in tqdm(val_dataloader):\n",
    "    with torch.no_grad():\n",
    "        X = X.to(device)\n",
    "\n",
    "        logits = model(X)\n",
    "        probabilities = torch.nn.functional.softmax(logits, dim=1)\n",
    "        _, predicted_labels = torch.max(probabilities, dim=1)\n",
    "\n",
    "        all_true_labels.extend(y.numpy())\n",
    "        all_predicted_labels.extend(predicted_labels.cpu().numpy())"
   ]
  },
  {
   "cell_type": "code",
   "execution_count": 88,
   "id": "80d9888b-f421-4fab-b24d-09750d7bb715",
   "metadata": {},
   "outputs": [
    {
     "data": {
      "text/plain": [
       "0.8064844332903751"
      ]
     },
     "execution_count": 88,
     "metadata": {},
     "output_type": "execute_result"
    }
   ],
   "source": [
    "sum([all_true_labels[i] == all_predicted_labels[i] for i in range(len(all_predicted_labels))])/len(all_predicted_labels)"
   ]
  },
  {
   "cell_type": "code",
   "execution_count": 90,
   "id": "a5b58e97-c2d0-4a2e-abdb-6cf137ea6079",
   "metadata": {},
   "outputs": [
    {
     "data": {
      "text/plain": [
       "Text(0.5, 1.0, 'Confusion Matrix - Percentages')"
      ]
     },
     "execution_count": 90,
     "metadata": {},
     "output_type": "execute_result"
    },
    {
     "data": {
      "image/png": "[encoded data removed]",
      "text/plain": [
       "<Figure size 2000x700 with 4 Axes>"
      ]
     },
     "metadata": {},
     "output_type": "display_data"
    }
   ],
   "source": [
    "# Calculate confusion matrix\n",
    "conf_matrix = confusion_matrix(all_true_labels, all_predicted_labels)\n",
    "\n",
    "# Calculate percentage values for confusion matrix\n",
    "conf_matrix_percent = 100 * conf_matrix / conf_matrix.sum(axis=1)[:, np.newaxis]\n",
    "\n",
    "    # Get the labels from the id2target mapping\n",
    "labels = [val_dataset.id2target[i] for i in range(len(conf_matrix))]\n",
    "\n",
    "# Plot both confusion matrices side by side\n",
    "fig, axes = plt.subplots(nrows=1, ncols=2, figsize=(20, 7))\n",
    "\n",
    "# Plot absolute values confusion matrix\n",
    "sns.heatmap(conf_matrix, annot=True, fmt='d', cmap='Blues', xticklabels=labels, yticklabels=labels, ax=axes[0])\n",
    "axes[0].set_xlabel('Predicted')\n",
    "axes[0].set_ylabel('True')\n",
    "axes[0].set_title('Confusion Matrix - Absolute Values')\n",
    "\n",
    "# Plot percentage values confusion matrix\n",
    "sns.heatmap(conf_matrix_percent, annot=True, fmt='.0f', cmap='Blues', xticklabels=labels, yticklabels=labels, ax=axes[1])\n",
    "axes[1].set_xlabel('Predicted')\n",
    "axes[1].set_ylabel('True')\n",
    "axes[1].set_title('Confusion Matrix - Percentages')"
   ]
  },
  {
   "cell_type": "code",
   "execution_count": null,
   "id": "054b56a2-8645-4967-8ac4-4c39d3115586",
   "metadata": {},
   "outputs": [],
   "source": []
  },
  {
   "cell_type": "code",
   "execution_count": null,
   "id": "18e91e36-8a18-4ec7-9841-f3df7aafab55",
   "metadata": {},
   "outputs": [],
   "source": []
  },
  {
   "cell_type": "code",
   "execution_count": null,
   "id": "d21446de-688e-4dc4-91f9-1ba33ffa888a",
   "metadata": {},
   "outputs": [],
   "source": []
  },
  {
   "cell_type": "code",
   "execution_count": null,
   "id": "719207da-9398-4987-892b-6c9f01857b08",
   "metadata": {},
   "outputs": [],
   "source": []
  },
  {
   "cell_type": "code",
   "execution_count": null,
   "id": "e23f3e5c-d75c-4a98-9f41-98b55c80b8e5",
   "metadata": {},
   "outputs": [],
   "source": []
  },
  {
   "cell_type": "code",
   "execution_count": null,
   "id": "fa7caf8e-9a83-4783-9caa-d00d834e6062",
   "metadata": {},
   "outputs": [],
   "source": []
  },
  {
   "cell_type": "code",
   "execution_count": null,
   "id": "a0204ec6-73b5-42de-b084-a0e63bb19202",
   "metadata": {},
   "outputs": [],
   "source": []
  },
  {
   "cell_type": "code",
   "execution_count": null,
   "id": "e1ed5650-d97f-4747-ab4b-bb3d09c5f4fa",
   "metadata": {},
   "outputs": [],
   "source": []
  },
  {
   "cell_type": "code",
   "execution_count": null,
   "id": "d9da6c31-3376-4844-a1da-d56d5ade05ec",
   "metadata": {},
   "outputs": [],
   "source": []
  },
  {
   "cell_type": "code",
   "execution_count": 26,
   "id": "ad54ac9c-78ad-46b5-b1ea-526ba044e139",
   "metadata": {},
   "outputs": [],
   "source": [
    "METADATA_COLS = [\n",
    "    'mean_vmag', 'amplitude', 'period', 'phot_g_mean_mag', 'e_phot_g_mean_mag', 'lksl_statistic',\n",
    "    'rfr_score', 'phot_bp_mean_mag', 'e_phot_bp_mean_mag', 'phot_rp_mean_mag', 'e_phot_rp_mean_mag',\n",
    "    'bp_rp', 'parallax', 'parallax_error', 'parallax_over_error', 'pmra', 'pmra_error', 'pmdec',\n",
    "    'pmdec_error', 'j_mag', 'e_j_mag', 'h_mag', 'e_h_mag', 'k_mag', 'e_k_mag', 'w1_mag', 'e_w1_mag',\n",
    "    'w2_mag', 'e_w2_mag', 'w3_mag', 'w4_mag', 'j_k', 'w1_w2', 'w3_w4', 'pm', 'ruwe'\n",
    "]"
   ]
  },
  {
   "cell_type": "code",
   "execution_count": 5,
   "id": "715745a8-06b3-47c7-ac1d-77807616bbc9",
   "metadata": {},
   "outputs": [],
   "source": [
    "df = pd.read_csv('/home/mariia/AstroML/data/asassn/asassn_catalog_full.csv')"
   ]
  },
  {
   "cell_type": "code",
   "execution_count": 16,
   "id": "e048b061-91b0-491b-880d-e793bfc1822b",
   "metadata": {},
   "outputs": [],
   "source": [
    "metadata_cols = ['mean_vmag', 'amplitude', 'period', 'phot_g_mean_mag', 'e_phot_g_mean_mag', 'lksl_statistic', 'rfr_score', 'phot_bp_mean_mag', 'e_phot_bp_mean_mag', \n",
    "                 'phot_rp_mean_mag', 'e_phot_rp_mean_mag', 'bp_rp', 'parallax', 'parallax_error', 'parallax_over_error', 'pmra', 'pmra_error', 'pmdec', 'pmdec_error', \n",
    "                 'j_mag', 'e_j_mag', 'h_mag', 'e_h_mag', 'k_mag', 'e_k_mag', 'w1_mag', 'e_w1_mag', 'w2_mag', 'e_w2_mag', 'w3_mag', 'e_w3_mag', 'w4_mag', 'e_w4_mag', \n",
    "                 'j_k', 'w1_w2', 'w3_w4', 'apass_vmag', 'e_apass_vmag', 'apass_bmag', 'e_apass_bmag', 'apass_gpmag', 'e_apass_gpmag', 'apass_rpmag', 'e_apass_rpmag', \n",
    "                 'apass_ipmag', 'e_apass_ipmag', 'FUVmag', 'e_FUVmag', 'NUVmag', 'e_NUVmag', 'pm', 'ruwe']"
   ]
  },
  {
   "cell_type": "code",
   "execution_count": 17,
   "id": "9dde7d8d-2140-4985-ace3-9278d3b1ba58",
   "metadata": {},
   "outputs": [],
   "source": [
    "df = df[metadata_cols + ['edr3_source_id', 'variable_type']]"
   ]
  },
  {
   "cell_type": "code",
   "execution_count": 22,
   "id": "884a1e8d-4584-4997-b786-f60627598832",
   "metadata": {},
   "outputs": [
    {
     "data": {
      "text/plain": [
       "variable_type\n",
       "SR       204932\n",
       "L         84019\n",
       "EW        78503\n",
       "VAR       63711\n",
       "ROT:      55723\n",
       "EA        50095\n",
       "ROT       37012\n",
       "RRAB      33165\n",
       "EB        25932\n",
       "RRC       11249\n",
       "M         10329\n",
       "YSO       10147\n",
       "DSCT       4584\n",
       "HADS       4428\n",
       "GCAS       2021\n",
       "GCAS:      1778\n",
       "DCEP       1621\n",
       "UG         1365\n",
       "M:          922\n",
       "UV          812\n",
       "CWB         736\n",
       "CWA         640\n",
       "RRD         597\n",
       "DCEPS       583\n",
       "DSCT:       430\n",
       "UGSU        313\n",
       "SRD         229\n",
       "LSP         185\n",
       "RVA         152\n",
       "HB          143\n",
       "Name: count, dtype: int64"
      ]
     },
     "execution_count": 22,
     "metadata": {},
     "output_type": "execute_result"
    }
   ],
   "source": [
    "df['variable_type'].value_counts().head(30)"
   ]
  },
  {
   "cell_type": "code",
   "execution_count": 28,
   "id": "ab1fd963-a3e7-4301-8633-4c2211de70d0",
   "metadata": {},
   "outputs": [],
   "source": [
    "df = df[METADATA_COLS]"
   ]
  },
  {
   "cell_type": "code",
   "execution_count": 29,
   "id": "663970fd-c60f-446b-9ee8-21746aca8b3b",
   "metadata": {},
   "outputs": [
    {
     "data": {
      "text/plain": [
       "mean_vmag               0.000000\n",
       "amplitude               0.000000\n",
       "period                 28.847963\n",
       "phot_g_mean_mag         1.105868\n",
       "e_phot_g_mean_mag       1.105868\n",
       "lksl_statistic          0.000000\n",
       "rfr_score               0.000000\n",
       "phot_bp_mean_mag        2.983154\n",
       "e_phot_bp_mean_mag      2.983154\n",
       "phot_rp_mean_mag        2.946655\n",
       "e_phot_rp_mean_mag      2.946655\n",
       "bp_rp                   2.992897\n",
       "parallax                2.403100\n",
       "parallax_error          2.403100\n",
       "parallax_over_error     2.403100\n",
       "pmra                    2.403100\n",
       "pmra_error              2.403100\n",
       "pmdec                   2.403100\n",
       "pmdec_error             2.403100\n",
       "j_mag                   4.838337\n",
       "e_j_mag                 5.423044\n",
       "h_mag                   4.842118\n",
       "e_h_mag                 5.580090\n",
       "k_mag                   4.854623\n",
       "e_k_mag                 6.806360\n",
       "w1_mag                  3.772457\n",
       "e_w1_mag                5.030573\n",
       "w2_mag                  3.743811\n",
       "e_w2_mag                4.985786\n",
       "w3_mag                  3.849090\n",
       "w4_mag                  3.796741\n",
       "j_k                     4.854768\n",
       "w1_w2                   3.780019\n",
       "w3_w4                   3.882099\n",
       "pm                      3.500244\n",
       "ruwe                    3.500244\n",
       "dtype: float64"
      ]
     },
     "execution_count": 29,
     "metadata": {},
     "output_type": "execute_result"
    }
   ],
   "source": [
    "df.isna().sum() / len(df) * 100"
   ]
  },
  {
   "cell_type": "code",
   "execution_count": 31,
   "id": "fbb8cb7a-21eb-44a9-b0be-ec861b10efc3",
   "metadata": {},
   "outputs": [
    {
     "data": {
      "text/html": [
       "<div>\n",
       "<style scoped>\n",
       "    .dataframe tbody tr th:only-of-type {\n",
       "        vertical-align: middle;\n",
       "    }\n",
       "\n",
       "    .dataframe tbody tr th {\n",
       "        vertical-align: top;\n",
       "    }\n",
       "\n",
       "    .dataframe thead th {\n",
       "        text-align: right;\n",
       "    }\n",
       "</style>\n",
       "<table border=\"1\" class=\"dataframe\">\n",
       "  <thead>\n",
       "    <tr style=\"text-align: right;\">\n",
       "      <th></th>\n",
       "      <th>mean_vmag</th>\n",
       "      <th>amplitude</th>\n",
       "      <th>period</th>\n",
       "      <th>phot_g_mean_mag</th>\n",
       "      <th>e_phot_g_mean_mag</th>\n",
       "      <th>lksl_statistic</th>\n",
       "      <th>rfr_score</th>\n",
       "      <th>phot_bp_mean_mag</th>\n",
       "      <th>e_phot_bp_mean_mag</th>\n",
       "      <th>phot_rp_mean_mag</th>\n",
       "      <th>...</th>\n",
       "      <th>e_w1_mag</th>\n",
       "      <th>w2_mag</th>\n",
       "      <th>e_w2_mag</th>\n",
       "      <th>w3_mag</th>\n",
       "      <th>w4_mag</th>\n",
       "      <th>j_k</th>\n",
       "      <th>w1_w2</th>\n",
       "      <th>w3_w4</th>\n",
       "      <th>pm</th>\n",
       "      <th>ruwe</th>\n",
       "    </tr>\n",
       "  </thead>\n",
       "  <tbody>\n",
       "    <tr>\n",
       "      <th>0</th>\n",
       "      <td>15.99</td>\n",
       "      <td>0.55</td>\n",
       "      <td>0.418185</td>\n",
       "      <td>15.935090</td>\n",
       "      <td>0.007574</td>\n",
       "      <td>0.48</td>\n",
       "      <td>0.75</td>\n",
       "      <td>16.152810</td>\n",
       "      <td>0.026184</td>\n",
       "      <td>15.583463</td>\n",
       "      <td>...</td>\n",
       "      <td>0.031</td>\n",
       "      <td>14.865</td>\n",
       "      <td>0.053</td>\n",
       "      <td>12.943</td>\n",
       "      <td>9.068</td>\n",
       "      <td>0.289</td>\n",
       "      <td>0.008</td>\n",
       "      <td>3.875</td>\n",
       "      <td>4.554</td>\n",
       "      <td>1.018</td>\n",
       "    </tr>\n",
       "    <tr>\n",
       "      <th>1</th>\n",
       "      <td>16.22</td>\n",
       "      <td>0.35</td>\n",
       "      <td>46.014660</td>\n",
       "      <td>16.127365</td>\n",
       "      <td>0.002822</td>\n",
       "      <td>0.90</td>\n",
       "      <td>0.54</td>\n",
       "      <td>17.515635</td>\n",
       "      <td>0.009061</td>\n",
       "      <td>14.967140</td>\n",
       "      <td>...</td>\n",
       "      <td>0.029</td>\n",
       "      <td>11.015</td>\n",
       "      <td>0.032</td>\n",
       "      <td>11.694</td>\n",
       "      <td>8.988</td>\n",
       "      <td>1.219</td>\n",
       "      <td>-0.331</td>\n",
       "      <td>2.706</td>\n",
       "      <td>3.727</td>\n",
       "      <td>1.015</td>\n",
       "    </tr>\n",
       "    <tr>\n",
       "      <th>2</th>\n",
       "      <td>14.76</td>\n",
       "      <td>0.44</td>\n",
       "      <td>284.777566</td>\n",
       "      <td>14.753926</td>\n",
       "      <td>0.007790</td>\n",
       "      <td>0.48</td>\n",
       "      <td>0.77</td>\n",
       "      <td>14.729215</td>\n",
       "      <td>0.010188</td>\n",
       "      <td>14.903267</td>\n",
       "      <td>...</td>\n",
       "      <td>0.027</td>\n",
       "      <td>14.229</td>\n",
       "      <td>0.035</td>\n",
       "      <td>13.028</td>\n",
       "      <td>9.317</td>\n",
       "      <td>0.104</td>\n",
       "      <td>0.348</td>\n",
       "      <td>3.711</td>\n",
       "      <td>1.467</td>\n",
       "      <td>0.985</td>\n",
       "    </tr>\n",
       "    <tr>\n",
       "      <th>3</th>\n",
       "      <td>15.30</td>\n",
       "      <td>0.43</td>\n",
       "      <td>NaN</td>\n",
       "      <td>15.531889</td>\n",
       "      <td>0.004982</td>\n",
       "      <td>0.42</td>\n",
       "      <td>0.92</td>\n",
       "      <td>15.722785</td>\n",
       "      <td>0.013881</td>\n",
       "      <td>14.882802</td>\n",
       "      <td>...</td>\n",
       "      <td>0.023</td>\n",
       "      <td>10.164</td>\n",
       "      <td>0.021</td>\n",
       "      <td>7.149</td>\n",
       "      <td>4.859</td>\n",
       "      <td>1.581</td>\n",
       "      <td>0.960</td>\n",
       "      <td>2.290</td>\n",
       "      <td>0.149</td>\n",
       "      <td>1.241</td>\n",
       "    </tr>\n",
       "    <tr>\n",
       "      <th>4</th>\n",
       "      <td>15.26</td>\n",
       "      <td>0.58</td>\n",
       "      <td>1.036848</td>\n",
       "      <td>14.948193</td>\n",
       "      <td>0.002848</td>\n",
       "      <td>0.47</td>\n",
       "      <td>0.76</td>\n",
       "      <td>15.473999</td>\n",
       "      <td>0.003909</td>\n",
       "      <td>14.241084</td>\n",
       "      <td>...</td>\n",
       "      <td>0.023</td>\n",
       "      <td>12.658</td>\n",
       "      <td>0.025</td>\n",
       "      <td>11.956</td>\n",
       "      <td>8.364</td>\n",
       "      <td>0.592</td>\n",
       "      <td>0.003</td>\n",
       "      <td>3.592</td>\n",
       "      <td>2.131</td>\n",
       "      <td>1.113</td>\n",
       "    </tr>\n",
       "    <tr>\n",
       "      <th>...</th>\n",
       "      <td>...</td>\n",
       "      <td>...</td>\n",
       "      <td>...</td>\n",
       "      <td>...</td>\n",
       "      <td>...</td>\n",
       "      <td>...</td>\n",
       "      <td>...</td>\n",
       "      <td>...</td>\n",
       "      <td>...</td>\n",
       "      <td>...</td>\n",
       "      <td>...</td>\n",
       "      <td>...</td>\n",
       "      <td>...</td>\n",
       "      <td>...</td>\n",
       "      <td>...</td>\n",
       "      <td>...</td>\n",
       "      <td>...</td>\n",
       "      <td>...</td>\n",
       "      <td>...</td>\n",
       "      <td>...</td>\n",
       "      <td>...</td>\n",
       "    </tr>\n",
       "    <tr>\n",
       "      <th>687690</th>\n",
       "      <td>13.67</td>\n",
       "      <td>0.09</td>\n",
       "      <td>1.297698</td>\n",
       "      <td>13.593359</td>\n",
       "      <td>0.003224</td>\n",
       "      <td>0.56</td>\n",
       "      <td>0.71</td>\n",
       "      <td>13.789040</td>\n",
       "      <td>0.006996</td>\n",
       "      <td>13.277124</td>\n",
       "      <td>...</td>\n",
       "      <td>0.023</td>\n",
       "      <td>12.652</td>\n",
       "      <td>0.026</td>\n",
       "      <td>11.877</td>\n",
       "      <td>8.488</td>\n",
       "      <td>0.203</td>\n",
       "      <td>0.011</td>\n",
       "      <td>3.389</td>\n",
       "      <td>4.605</td>\n",
       "      <td>1.144</td>\n",
       "    </tr>\n",
       "    <tr>\n",
       "      <th>687691</th>\n",
       "      <td>15.20</td>\n",
       "      <td>0.49</td>\n",
       "      <td>0.382581</td>\n",
       "      <td>15.129374</td>\n",
       "      <td>0.008256</td>\n",
       "      <td>0.21</td>\n",
       "      <td>0.91</td>\n",
       "      <td>15.683613</td>\n",
       "      <td>0.025891</td>\n",
       "      <td>14.407563</td>\n",
       "      <td>...</td>\n",
       "      <td>0.024</td>\n",
       "      <td>12.980</td>\n",
       "      <td>0.028</td>\n",
       "      <td>12.300</td>\n",
       "      <td>8.739</td>\n",
       "      <td>0.499</td>\n",
       "      <td>-0.004</td>\n",
       "      <td>3.561</td>\n",
       "      <td>6.157</td>\n",
       "      <td>0.950</td>\n",
       "    </tr>\n",
       "    <tr>\n",
       "      <th>687692</th>\n",
       "      <td>14.67</td>\n",
       "      <td>0.79</td>\n",
       "      <td>NaN</td>\n",
       "      <td>14.378052</td>\n",
       "      <td>0.007608</td>\n",
       "      <td>0.33</td>\n",
       "      <td>0.96</td>\n",
       "      <td>14.902502</td>\n",
       "      <td>0.020716</td>\n",
       "      <td>13.662197</td>\n",
       "      <td>...</td>\n",
       "      <td>0.022</td>\n",
       "      <td>10.501</td>\n",
       "      <td>0.019</td>\n",
       "      <td>8.029</td>\n",
       "      <td>5.508</td>\n",
       "      <td>0.989</td>\n",
       "      <td>0.428</td>\n",
       "      <td>2.521</td>\n",
       "      <td>6.739</td>\n",
       "      <td>0.990</td>\n",
       "    </tr>\n",
       "    <tr>\n",
       "      <th>687693</th>\n",
       "      <td>14.51</td>\n",
       "      <td>0.58</td>\n",
       "      <td>0.530474</td>\n",
       "      <td>14.364926</td>\n",
       "      <td>0.008592</td>\n",
       "      <td>0.04</td>\n",
       "      <td>0.98</td>\n",
       "      <td>14.683683</td>\n",
       "      <td>0.025055</td>\n",
       "      <td>13.869823</td>\n",
       "      <td>...</td>\n",
       "      <td>0.024</td>\n",
       "      <td>12.881</td>\n",
       "      <td>0.026</td>\n",
       "      <td>12.369</td>\n",
       "      <td>8.925</td>\n",
       "      <td>0.424</td>\n",
       "      <td>0.000</td>\n",
       "      <td>3.444</td>\n",
       "      <td>4.543</td>\n",
       "      <td>1.638</td>\n",
       "    </tr>\n",
       "    <tr>\n",
       "      <th>687694</th>\n",
       "      <td>13.15</td>\n",
       "      <td>0.47</td>\n",
       "      <td>NaN</td>\n",
       "      <td>10.690619</td>\n",
       "      <td>0.004571</td>\n",
       "      <td>0.35</td>\n",
       "      <td>0.95</td>\n",
       "      <td>13.321654</td>\n",
       "      <td>0.018094</td>\n",
       "      <td>9.275900</td>\n",
       "      <td>...</td>\n",
       "      <td>0.196</td>\n",
       "      <td>5.193</td>\n",
       "      <td>0.052</td>\n",
       "      <td>5.034</td>\n",
       "      <td>4.826</td>\n",
       "      <td>1.382</td>\n",
       "      <td>-0.017</td>\n",
       "      <td>0.208</td>\n",
       "      <td>8.983</td>\n",
       "      <td>1.001</td>\n",
       "    </tr>\n",
       "  </tbody>\n",
       "</table>\n",
       "<p>687695 rows × 36 columns</p>\n",
       "</div>"
      ],
      "text/plain": [
       "        mean_vmag  amplitude      period  phot_g_mean_mag  e_phot_g_mean_mag  \\\n",
       "0           15.99       0.55    0.418185        15.935090           0.007574   \n",
       "1           16.22       0.35   46.014660        16.127365           0.002822   \n",
       "2           14.76       0.44  284.777566        14.753926           0.007790   \n",
       "3           15.30       0.43         NaN        15.531889           0.004982   \n",
       "4           15.26       0.58    1.036848        14.948193           0.002848   \n",
       "...           ...        ...         ...              ...                ...   \n",
       "687690      13.67       0.09    1.297698        13.593359           0.003224   \n",
       "687691      15.20       0.49    0.382581        15.129374           0.008256   \n",
       "687692      14.67       0.79         NaN        14.378052           0.007608   \n",
       "687693      14.51       0.58    0.530474        14.364926           0.008592   \n",
       "687694      13.15       0.47         NaN        10.690619           0.004571   \n",
       "\n",
       "        lksl_statistic  rfr_score  phot_bp_mean_mag  e_phot_bp_mean_mag  \\\n",
       "0                 0.48       0.75         16.152810            0.026184   \n",
       "1                 0.90       0.54         17.515635            0.009061   \n",
       "2                 0.48       0.77         14.729215            0.010188   \n",
       "3                 0.42       0.92         15.722785            0.013881   \n",
       "4                 0.47       0.76         15.473999            0.003909   \n",
       "...                ...        ...               ...                 ...   \n",
       "687690            0.56       0.71         13.789040            0.006996   \n",
       "687691            0.21       0.91         15.683613            0.025891   \n",
       "687692            0.33       0.96         14.902502            0.020716   \n",
       "687693            0.04       0.98         14.683683            0.025055   \n",
       "687694            0.35       0.95         13.321654            0.018094   \n",
       "\n",
       "        phot_rp_mean_mag  ...  e_w1_mag  w2_mag  e_w2_mag  w3_mag  w4_mag  \\\n",
       "0              15.583463  ...     0.031  14.865     0.053  12.943   9.068   \n",
       "1              14.967140  ...     0.029  11.015     0.032  11.694   8.988   \n",
       "2              14.903267  ...     0.027  14.229     0.035  13.028   9.317   \n",
       "3              14.882802  ...     0.023  10.164     0.021   7.149   4.859   \n",
       "4              14.241084  ...     0.023  12.658     0.025  11.956   8.364   \n",
       "...                  ...  ...       ...     ...       ...     ...     ...   \n",
       "687690         13.277124  ...     0.023  12.652     0.026  11.877   8.488   \n",
       "687691         14.407563  ...     0.024  12.980     0.028  12.300   8.739   \n",
       "687692         13.662197  ...     0.022  10.501     0.019   8.029   5.508   \n",
       "687693         13.869823  ...     0.024  12.881     0.026  12.369   8.925   \n",
       "687694          9.275900  ...     0.196   5.193     0.052   5.034   4.826   \n",
       "\n",
       "          j_k  w1_w2  w3_w4     pm   ruwe  \n",
       "0       0.289  0.008  3.875  4.554  1.018  \n",
       "1       1.219 -0.331  2.706  3.727  1.015  \n",
       "2       0.104  0.348  3.711  1.467  0.985  \n",
       "3       1.581  0.960  2.290  0.149  1.241  \n",
       "4       0.592  0.003  3.592  2.131  1.113  \n",
       "...       ...    ...    ...    ...    ...  \n",
       "687690  0.203  0.011  3.389  4.605  1.144  \n",
       "687691  0.499 -0.004  3.561  6.157  0.950  \n",
       "687692  0.989  0.428  2.521  6.739  0.990  \n",
       "687693  0.424  0.000  3.444  4.543  1.638  \n",
       "687694  1.382 -0.017  0.208  8.983  1.001  \n",
       "\n",
       "[687695 rows x 36 columns]"
      ]
     },
     "execution_count": 31,
     "metadata": {},
     "output_type": "execute_result"
    }
   ],
   "source": [
    "df"
   ]
  },
  {
   "cell_type": "code",
   "execution_count": 32,
   "id": "087801a7-33ff-4dce-a026-03add1e81e3b",
   "metadata": {},
   "outputs": [
    {
     "data": {
      "text/plain": [
       "mean_vmag              0\n",
       "amplitude              0\n",
       "period                 0\n",
       "phot_g_mean_mag        0\n",
       "e_phot_g_mean_mag      0\n",
       "lksl_statistic         0\n",
       "rfr_score              0\n",
       "phot_bp_mean_mag       0\n",
       "e_phot_bp_mean_mag     0\n",
       "phot_rp_mean_mag       0\n",
       "e_phot_rp_mean_mag     0\n",
       "bp_rp                  0\n",
       "parallax               0\n",
       "parallax_error         0\n",
       "parallax_over_error    0\n",
       "pmra                   0\n",
       "pmra_error             0\n",
       "pmdec                  0\n",
       "pmdec_error            0\n",
       "j_mag                  0\n",
       "e_j_mag                0\n",
       "h_mag                  0\n",
       "e_h_mag                0\n",
       "k_mag                  0\n",
       "e_k_mag                0\n",
       "w1_mag                 0\n",
       "e_w1_mag               0\n",
       "w2_mag                 0\n",
       "e_w2_mag               0\n",
       "w3_mag                 0\n",
       "w4_mag                 0\n",
       "j_k                    0\n",
       "w1_w2                  0\n",
       "w3_w4                  0\n",
       "pm                     0\n",
       "ruwe                   0\n",
       "dtype: int64"
      ]
     },
     "execution_count": 32,
     "metadata": {},
     "output_type": "execute_result"
    }
   ],
   "source": [
    "df.dropna(axis=0, how='any', inplace=False)"
   ]
  },
  {
   "cell_type": "code",
   "execution_count": null,
   "id": "81b00829-dd88-4abe-a9c3-a183e74dd237",
   "metadata": {},
   "outputs": [],
   "source": [
    "class MetaVDataset(Dataset):\n",
    "    def __init__(self, file, split='train', scales=None, classes=None, min_samples=None, max_samples=None, random_seed=42, verbose=True):\n",
    "        self.df = pd.read_csv(file)\n",
    "        self.split = split\n",
    "        self.random_sample = random_sample\n",
    "        self.verbose = verbose\n",
    "        self.scales = scales\n",
    "        self.classes = classes\n",
    "        self.min_samples = min_samples\n",
    "        self.max_samples = max_samples\n",
    "\n",
    "        self._filter_classes()\n",
    "        self._limit_samples()\n",
    "        self._split()\n",
    "        self._normalize()\n",
    "\n",
    "        self.id2target = {i: x for i, x in enumerate(sorted(self.df['variable_type'].unique()))}\n",
    "        self.target2id = {v: k for k, v in self.id2target.items()}\n",
    "        self.num_classes = len(self.id2target)\n",
    "        \n",
    "    def _filter_classes(self):\n",
    "        if self.classes:\n",
    "            if self.verbose:\n",
    "                print(f'Leaving only classes: {self.classes}... ', end='')\n",
    "\n",
    "            self.df = self.df[self.df['variable_type'].isin(self.classes)]\n",
    "\n",
    "            if self.verbose:\n",
    "                print(f'{len(self.df)} objects left.')\n",
    "\n",
    "    def _limit_samples(self):\n",
    "        if self.max_samples or self.min_samples:\n",
    "            if self.verbose:\n",
    "                print(f'Removing objects that have more than {self.max_samples} or less than {self.min_samples} samples... ', end='')\n",
    "\n",
    "            value_counts = self.df['variable_type'].value_counts()\n",
    "\n",
    "            if self.min_samples:\n",
    "                classes_to_remove = value_counts[value_counts < self.min_samples].index\n",
    "                self.df = self.df[~self.df['variable_type'].isin(classes_to_remove)]\n",
    "\n",
    "            if self.max_samples:\n",
    "                classes_to_limit = value_counts[value_counts > self.max_samples].index\n",
    "                for class_type in classes_to_limit:\n",
    "                    class_indices = self.df[self.df['variable_type'] == class_type].index\n",
    "                    indices_to_keep = np.random.choice(class_indices, size=self.max_samples, replace=False)\n",
    "                    self.df = self.df.drop(index=set(class_indices) - set(indices_to_keep))\n",
    "\n",
    "            if self.verbose:\n",
    "                print(f'{len(self.df)} objects left.')\n",
    "\n",
    "    def _split(self):\n",
    "        unique_ids = self.df['edr3_source_id'].unique()\n",
    "        train_ids, temp_ids = train_test_split(unique_ids, test_size=0.2, random_state=self.random_seed)\n",
    "        val_ids, test_ids = train_test_split(temp_ids, test_size=0.5, random_state=self.random_seed)\n",
    "\n",
    "        if self.split == 'train':\n",
    "            self.df = self.df[self.df['edr3_source_id'].isin(train_ids)]\n",
    "        elif self.split == 'val':\n",
    "            self.df = self.df[self.df['edr3_source_id'].isin(val_ids)]\n",
    "        elif self.split == 'test':\n",
    "            self.df = self.df[self.df['edr3_source_id'].isin(test_ids)]\n",
    "        else:\n",
    "            print('Split is not train, val, or test. Keeping the whole dataset')\n",
    "\n",
    "        if self.verbose:\n",
    "            print(f'{self.split} split is selected: {len(self.df)} objects left.')\n",
    "\n",
    "    def _normalize(self):\n",
    "        if self.split in ('val', 'test') and self.scales is None:\n",
    "            raise Error('Scales must be provided for val/test splits')\n",
    "\n",
    "        pass\n",
    "        \n",
    "    def __len__(self):\n",
    "        return len(self.df)\n",
    "\n",
    "    def __getitem__(self, idx):\n",
    "        el = self.df.iloc[idx]\n",
    "\n",
    "        X = self.get_vlc(el['name']) if el['band'] == 'v' else self.get_glc(el['name'])\n",
    "        X, mask = self.preprocess(X, el['period'], el['band'])\n",
    "        y = self.target2id[el['target']]\n",
    "\n",
    "        return X, mask, y"
   ]
  },
  {
   "cell_type": "code",
   "execution_count": null,
   "id": "14800fcd-4233-457c-9fb0-b45269fece3c",
   "metadata": {},
   "outputs": [],
   "source": []
  },
  {
   "cell_type": "code",
   "execution_count": null,
   "id": "4e6a6769-0c3e-4fb9-98cf-a091e68b1d57",
   "metadata": {},
   "outputs": [],
   "source": []
  },
  {
   "cell_type": "code",
   "execution_count": null,
   "id": "4d50acfc-bf08-40d8-ba87-c7a7da90753d",
   "metadata": {},
   "outputs": [],
   "source": []
  },
  {
   "cell_type": "code",
   "execution_count": null,
   "id": "07839deb-2bd7-47c7-8d5f-89b262871dfb",
   "metadata": {},
   "outputs": [],
   "source": []
  },
  {
   "cell_type": "code",
   "execution_count": null,
   "id": "0dcb00c2-f122-4445-be21-d1de1c848bb8",
   "metadata": {},
   "outputs": [],
   "source": []
  },
  {
   "cell_type": "code",
   "execution_count": null,
   "id": "dd8513ec-0d0b-479c-bf99-9c2bc078cbe0",
   "metadata": {},
   "outputs": [],
   "source": []
  },
  {
   "cell_type": "code",
   "execution_count": null,
   "id": "853cd7d0-fa01-4141-8f65-e9dec7713645",
   "metadata": {},
   "outputs": [],
   "source": []
  },
  {
   "cell_type": "code",
   "execution_count": null,
   "id": "5b064b4f-0660-4a97-b5d3-b55e877c16d6",
   "metadata": {},
   "outputs": [],
   "source": []
  },
  {
   "cell_type": "code",
   "execution_count": null,
   "id": "00492ab8-1c71-4eae-919a-5f96b2407612",
   "metadata": {},
   "outputs": [],
   "source": []
  },
  {
   "cell_type": "code",
   "execution_count": null,
   "id": "8e53975c-ea09-490d-a533-4df9af7f0301",
   "metadata": {},
   "outputs": [],
   "source": []
  },
  {
   "cell_type": "code",
   "execution_count": null,
   "id": "2d164354-71bd-4199-9e14-841241813fe7",
   "metadata": {},
   "outputs": [],
   "source": []
  },
  {
   "cell_type": "code",
   "execution_count": null,
   "id": "fbd5f09f-fc56-4e08-b586-55fe06614bb8",
   "metadata": {},
   "outputs": [],
   "source": []
  },
  {
   "cell_type": "code",
   "execution_count": null,
   "id": "fc02f433-7aab-4cb2-9753-cb64221d865e",
   "metadata": {},
   "outputs": [],
   "source": []
  },
  {
   "cell_type": "code",
   "execution_count": null,
   "id": "2d95a464-3209-4e8d-be45-c12e608516d4",
   "metadata": {},
   "outputs": [],
   "source": []
  },
  {
   "cell_type": "code",
   "execution_count": null,
   "id": "283e4f25-2ec7-46d5-88b6-7ed46c1261c1",
   "metadata": {},
   "outputs": [],
   "source": []
  },
  {
   "cell_type": "code",
   "execution_count": null,
   "id": "31c296b1-2610-4ddb-83fc-b23e948b25fb",
   "metadata": {},
   "outputs": [],
   "source": []
  },
  {
   "cell_type": "code",
   "execution_count": null,
   "id": "fdf4d5cb-09ff-4158-9f7f-076fafe824a5",
   "metadata": {},
   "outputs": [],
   "source": []
  },
  {
   "cell_type": "code",
   "execution_count": null,
   "id": "6aa4bc3c-cdbe-481a-85e3-9bf71f3ae75c",
   "metadata": {},
   "outputs": [],
   "source": []
  }
 ],
 "metadata": {
  "kernelspec": {
   "display_name": "Python 3 (ipykernel)",
   "language": "python",
   "name": "python3"
  },
  "language_info": {
   "codemirror_mode": {
    "name": "ipython",
    "version": 3
   },
   "file_extension": ".py",
   "mimetype": "text/x-python",
   "name": "python",
   "nbconvert_exporter": "python",
   "pygments_lexer": "ipython3",
   "version": "3.10.14"
  }
 },
 "nbformat": 4,
 "nbformat_minor": 5
}

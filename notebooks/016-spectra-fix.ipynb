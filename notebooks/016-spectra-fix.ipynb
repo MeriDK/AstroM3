{
 "cells": [
  {
   "cell_type": "code",
   "execution_count": 1,
   "id": "0d4efb13-20a9-4599-b48b-0744f72c92c6",
   "metadata": {},
   "outputs": [],
   "source": [
    "import pandas as pd"
   ]
  },
  {
   "cell_type": "code",
   "execution_count": 2,
   "id": "7ec0c5f2-72e4-4b76-b99e-1ebd754c355d",
   "metadata": {},
   "outputs": [
    {
     "name": "stderr",
     "output_type": "stream",
     "text": [
      "/tmp/ipykernel_116930/4068342760.py:3: DtypeWarning: Columns (69) have mixed types. Specify dtype option on import or set low_memory=False.\n",
      "  df_old = pd.read_csv('/home/mariia/AstroML/data/asassn/asassn_catalog_full.csv')\n"
     ]
    }
   ],
   "source": [
    "spectra = pd.read_csv('/home/mariia/AstroML/data/asassn/spectra_v_merged.csv')\n",
    "df_new = pd.read_csv('/home/mariia/AstroML/data/asassn/v.csv')\n",
    "df_old = pd.read_csv('/home/mariia/AstroML/data/asassn/asassn_catalog_full.csv')"
   ]
  },
  {
   "cell_type": "code",
   "execution_count": 7,
   "id": "6137608a-e0dd-4a31-bcda-3342df05003a",
   "metadata": {},
   "outputs": [
    {
     "data": {
      "text/plain": [
       "(25704, 25943)"
      ]
     },
     "execution_count": 7,
     "metadata": {},
     "output_type": "execute_result"
    }
   ],
   "source": [
    "len(spectra[spectra['edr3_source_id'].isin(df_new['id'])]), len(spectra)"
   ]
  },
  {
   "cell_type": "code",
   "execution_count": 8,
   "id": "02286daf-c54c-4d04-8399-d7aa868eb0d1",
   "metadata": {},
   "outputs": [],
   "source": [
    "spectra = spectra[spectra['edr3_source_id'].isin(df_new['id'])]"
   ]
  },
  {
   "cell_type": "code",
   "execution_count": 9,
   "id": "f77f2c37-1112-4621-a2d9-926c4e9506f5",
   "metadata": {},
   "outputs": [],
   "source": [
    "spectra.to_csv('/home/mariia/AstroML/data/asassn/spectra_v_merged_fixed.csv', index=False)"
   ]
  },
  {
   "cell_type": "code",
   "execution_count": 14,
   "id": "36d16ed5-d666-4d6b-b8d6-179550f45879",
   "metadata": {},
   "outputs": [
    {
     "data": {
      "text/html": [
       "<div>\n",
       "<style scoped>\n",
       "    .dataframe tbody tr th:only-of-type {\n",
       "        vertical-align: middle;\n",
       "    }\n",
       "\n",
       "    .dataframe tbody tr th {\n",
       "        vertical-align: top;\n",
       "    }\n",
       "\n",
       "    .dataframe thead th {\n",
       "        text-align: right;\n",
       "    }\n",
       "</style>\n",
       "<table border=\"1\" class=\"dataframe\">\n",
       "  <thead>\n",
       "    <tr style=\"text-align: right;\">\n",
       "      <th></th>\n",
       "      <th>id</th>\n",
       "      <th>source_id</th>\n",
       "      <th>asassn_name</th>\n",
       "      <th>other_names</th>\n",
       "      <th>raj2000_x</th>\n",
       "      <th>dej2000_x</th>\n",
       "      <th>l</th>\n",
       "      <th>b</th>\n",
       "      <th>mean_vmag</th>\n",
       "      <th>amplitude</th>\n",
       "      <th>...</th>\n",
       "      <th>combined_ra</th>\n",
       "      <th>combined_dec</th>\n",
       "      <th>combined_feh</th>\n",
       "      <th>combined_logg</th>\n",
       "      <th>combined_rv</th>\n",
       "      <th>combined_teff</th>\n",
       "      <th>raj2000_y</th>\n",
       "      <th>dej2000_y</th>\n",
       "      <th>index</th>\n",
       "      <th>spec_filename</th>\n",
       "    </tr>\n",
       "  </thead>\n",
       "  <tbody>\n",
       "  </tbody>\n",
       "</table>\n",
       "<p>0 rows × 106 columns</p>\n",
       "</div>"
      ],
      "text/plain": [
       "Empty DataFrame\n",
       "Columns: [id, source_id, asassn_name, other_names, raj2000_x, dej2000_x, l, b, mean_vmag, amplitude, period, variable_type, class_probability, lksl_statistic, rfr_score, epoch_hjd, gdr2_id, phot_g_mean_mag, e_phot_g_mean_mag, phot_bp_mean_mag, e_phot_bp_mean_mag, phot_rp_mean_mag, e_phot_rp_mean_mag, bp_rp, parallax, parallax_error, parallax_over_error, pmra, pmra_error, pmdec, pmdec_error, vt, dist, allwise_id, j_mag, e_j_mag, h_mag, e_h_mag, k_mag, e_k_mag, w1_mag, e_w1_mag, w2_mag, e_w2_mag, w3_mag, e_w3_mag, w4_mag, e_w4_mag, j_k, w1_w2, w3_w4, apass_dr9_id, apass_vmag, e_apass_vmag, apass_bmag, e_apass_bmag, apass_gpmag, e_apass_gpmag, apass_rpmag, e_apass_rpmag, apass_ipmag, e_apass_ipmag, b_v, e_b_v, vector_x, vector_y, vector_z, reference, periodic, classified, asassn_discovery, created_at, updated_at, edr3_source_id, galex_id, FUVmag, e_FUVmag, NUVmag, e_NUVmag, tic_id, pm, ruwe, inputobjs_input_id, inputobjs_input_ra, inputobjs_input_dec, inputobjs_dist, combined_obsid, combined_obsdate, combined_lmjd, combined_mjd, combined_planid, combined_spid, combined_fiberid, combined_class, combined_subclass, combined_z, combined_ra, combined_dec, combined_feh, combined_logg, ...]\n",
       "Index: []\n",
       "\n",
       "[0 rows x 106 columns]"
      ]
     },
     "execution_count": 14,
     "metadata": {},
     "output_type": "execute_result"
    }
   ],
   "source": [
    "spectra[spectra['asassn_name'] == 'ASASSN-V J004355.37+350540.8']"
   ]
  },
  {
   "cell_type": "code",
   "execution_count": 16,
   "id": "5e56c5b9-26e5-44b7-b6ac-1ee919d15315",
   "metadata": {},
   "outputs": [
    {
     "data": {
      "text/html": [
       "<div>\n",
       "<style scoped>\n",
       "    .dataframe tbody tr th:only-of-type {\n",
       "        vertical-align: middle;\n",
       "    }\n",
       "\n",
       "    .dataframe tbody tr th {\n",
       "        vertical-align: top;\n",
       "    }\n",
       "\n",
       "    .dataframe thead th {\n",
       "        text-align: right;\n",
       "    }\n",
       "</style>\n",
       "<table border=\"1\" class=\"dataframe\">\n",
       "  <thead>\n",
       "    <tr style=\"text-align: right;\">\n",
       "      <th></th>\n",
       "      <th>id</th>\n",
       "      <th>source_id</th>\n",
       "      <th>asassn_name</th>\n",
       "      <th>other_names</th>\n",
       "      <th>raj2000_x</th>\n",
       "      <th>dej2000_x</th>\n",
       "      <th>l</th>\n",
       "      <th>b</th>\n",
       "      <th>mean_vmag</th>\n",
       "      <th>amplitude</th>\n",
       "      <th>...</th>\n",
       "      <th>combined_ra</th>\n",
       "      <th>combined_dec</th>\n",
       "      <th>combined_feh</th>\n",
       "      <th>combined_logg</th>\n",
       "      <th>combined_rv</th>\n",
       "      <th>combined_teff</th>\n",
       "      <th>raj2000_y</th>\n",
       "      <th>dej2000_y</th>\n",
       "      <th>index</th>\n",
       "      <th>spec_filename</th>\n",
       "    </tr>\n",
       "  </thead>\n",
       "  <tbody>\n",
       "    <tr>\n",
       "      <th>0</th>\n",
       "      <td>b7d458ba-dd0e-5507-bafa-c82f949b8320</td>\n",
       "      <td>78719</td>\n",
       "      <td>ASASSN-V J184120.05+445439.3</td>\n",
       "      <td>CSS_J184120.2+445440</td>\n",
       "      <td>280.33355</td>\n",
       "      <td>44.91092</td>\n",
       "      <td>73.889</td>\n",
       "      <td>20.46931</td>\n",
       "      <td>14.25</td>\n",
       "      <td>0.43</td>\n",
       "      <td>...</td>\n",
       "      <td>280.334164</td>\n",
       "      <td>44.911079</td>\n",
       "      <td>-0.221</td>\n",
       "      <td>4.223</td>\n",
       "      <td>4.33</td>\n",
       "      <td>6113.43</td>\n",
       "      <td>280.33355</td>\n",
       "      <td>44.91092</td>\n",
       "      <td>8</td>\n",
       "      <td>spec-57516-HD184435N434959B01_sp15-016.fits.gz</td>\n",
       "    </tr>\n",
       "  </tbody>\n",
       "</table>\n",
       "<p>1 rows × 106 columns</p>\n",
       "</div>"
      ],
      "text/plain": [
       "                                     id source_id  \\\n",
       "0  b7d458ba-dd0e-5507-bafa-c82f949b8320     78719   \n",
       "\n",
       "                    asassn_name           other_names  raj2000_x  dej2000_x  \\\n",
       "0  ASASSN-V J184120.05+445439.3  CSS_J184120.2+445440  280.33355   44.91092   \n",
       "\n",
       "        l         b  mean_vmag  amplitude  ...  combined_ra combined_dec  \\\n",
       "0  73.889  20.46931      14.25       0.43  ...   280.334164    44.911079   \n",
       "\n",
       "   combined_feh  combined_logg  combined_rv  combined_teff  raj2000_y  \\\n",
       "0        -0.221          4.223         4.33        6113.43  280.33355   \n",
       "\n",
       "   dej2000_y  index                                   spec_filename  \n",
       "0   44.91092      8  spec-57516-HD184435N434959B01_sp15-016.fits.gz  \n",
       "\n",
       "[1 rows x 106 columns]"
      ]
     },
     "execution_count": 16,
     "metadata": {},
     "output_type": "execute_result"
    }
   ],
   "source": [
    "spectra[spectra['asassn_name'] == 'ASASSN-V J184120.05+445439.3']"
   ]
  },
  {
   "cell_type": "code",
   "execution_count": null,
   "id": "7a43f55d-40c4-4528-b6a0-49b06601b780",
   "metadata": {},
   "outputs": [],
   "source": []
  }
 ],
 "metadata": {
  "kernelspec": {
   "display_name": "Python 3 (ipykernel)",
   "language": "python",
   "name": "python3"
  },
  "language_info": {
   "codemirror_mode": {
    "name": "ipython",
    "version": 3
   },
   "file_extension": ".py",
   "mimetype": "text/x-python",
   "name": "python",
   "nbconvert_exporter": "python",
   "pygments_lexer": "ipython3",
   "version": "3.10.14"
  }
 },
 "nbformat": 4,
 "nbformat_minor": 5
}

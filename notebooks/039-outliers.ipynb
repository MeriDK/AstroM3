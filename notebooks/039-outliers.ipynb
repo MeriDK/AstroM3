{
 "cells": [
  {
   "cell_type": "code",
   "execution_count": 67,
   "id": "5ebe85b3-4e5c-4d06-99bd-4e10ef071461",
   "metadata": {},
   "source": [
    "import sys\n",
    "sys.path.insert(0, '..')\n",
    "\n",
    "import torch\n",
    "import os\n",
    "import wandb\n",
    "import random\n",
    "import numpy as np\n",
    "import torch\n",
    "from torch import nn\n",
    "from torch.optim import Adam\n",
    "from ignite.handlers.param_scheduler import create_lr_scheduler_with_warmup\n",
    "from torch.utils.data import DataLoader\n",
    "from datetime import datetime\n",
    "import matplotlib.pyplot as plt\n",
    "import pandas as pd\n",
    "from scipy import stats\n",
    "from tqdm import tqdm\n",
    "from matplotlib import cm\n",
    "import seaborn as sns\n",
    "import matplotlib.lines as mlines\n",
    "from sklearn.decomposition import PCA\n",
    "from openTSNE import TSNE\n",
    "from PIL import Image\n",
    "import umap\n",
    "import torch.nn.functional as F\n",
    "from scipy.spatial.distance import cdist\n",
    "import umap.plot\n",
    "import math\n",
    "\n",
    "from core.final.dataset import PSMDataset\n",
    "from core.final.model import GalSpecNet, MetaModel, Informer, AstroModel\n",
    "from core.final.trainer import Trainer"
   ],
   "outputs": []
  },
  {
   "cell_type": "code",
   "execution_count": 2,
   "id": "dfb1698b-ae2d-419d-b668-7f3c4e6b999b",
   "metadata": {},
   "source": [
    "def get_model(config):\n",
    "    if config['mode'] == 'photo':\n",
    "        model = Informer(config)\n",
    "    elif config['mode'] == 'spectra':\n",
    "        model = GalSpecNet(config)\n",
    "    elif config['mode'] == 'meta':\n",
    "        model = MetaModel(config)\n",
    "    else:\n",
    "        model = AstroModel(config)\n",
    "\n",
    "    return model\n",
    "\n",
    "def get_embs(dataloader):\n",
    "    all_p_emb, all_s_emb, all_m_emb = [], [], []\n",
    "    all_labels = []\n",
    "    \n",
    "    for photometry, photometry_mask, spectra, metadata, labels in tqdm(dataloader):\n",
    "        photometry, photometry_mask = photometry.to(device), photometry_mask.to(device)\n",
    "        spectra, metadata = spectra.to(device), metadata.to(device)\n",
    "    \n",
    "        with torch.no_grad():\n",
    "            p_emb, s_emb, m_emb = model.get_embeddings(photometry, photometry_mask, spectra, metadata)\n",
    "    \n",
    "            all_p_emb.append(p_emb.cpu())\n",
    "            all_s_emb.append(s_emb.cpu())\n",
    "            all_m_emb.append(m_emb.cpu())\n",
    "            all_labels.append(labels)\n",
    "    \n",
    "    all_p_emb = torch.vstack(all_p_emb)\n",
    "    all_s_emb = torch.vstack(all_s_emb)\n",
    "    all_m_emb = torch.vstack(all_m_emb)\n",
    "    all_labels = torch.hstack(all_labels)\n",
    "\n",
    "    return all_p_emb, all_s_emb, all_m_emb, all_labels\n",
    "\n",
    "def get_centers(p_emb, s_emb, m_emb, train_labels):\n",
    "    p_centers, s_centers, m_centers, all_centers = [], [], [], []\n",
    "\n",
    "    for i in range(10):\n",
    "        ind = train_labels == i\n",
    "    \n",
    "        p_center = p_emb[ind].mean(axis=0)\n",
    "        p_center = p_center / p_center.norm()\n",
    "        p_centers.append(p_center)\n",
    "    \n",
    "        s_center = s_emb[ind].mean(axis=0)\n",
    "        s_center = s_center / s_center.norm()\n",
    "        s_centers.append(s_center)\n",
    "    \n",
    "        m_center = m_emb[ind].mean(axis=0)\n",
    "        m_center = m_center / m_center.norm()\n",
    "        m_centers.append(m_center)\n",
    "\n",
    "        all_emb = (p_emb + s_emb + m_emb) / 3\n",
    "        all_center = all_emb[ind].mean(axis=0)\n",
    "        all_center = all_center / all_center.norm()\n",
    "        all_centers.append(all_center)\n",
    "    \n",
    "    p_centers = torch.stack(p_centers)\n",
    "    s_centers = torch.stack(s_centers)\n",
    "    m_centers = torch.stack(m_centers)\n",
    "    all_centers = torch.stack(all_centers)\n",
    "\n",
    "    return p_centers, s_centers, m_centers, all_centers"
   ],
   "outputs": []
  },
  {
   "cell_type": "code",
   "execution_count": 3,
   "id": "531a7030-fce5-4080-bc8b-fa13a3db478a",
   "metadata": {},
   "source": [
    "run_id = 'MeriDK/AstroCLIPResults3/2wz4ysvn'\n",
    "api = wandb.Api()\n",
    "run = api.run(run_id)\n",
    "config = run.config\n",
    "config['use_wandb'] = False\n",
    "\n",
    "model = get_model(config)\n",
    "device = torch.device('cuda:1' if torch.cuda.is_available() else 'cpu')\n",
    "model = model.to(device)\n",
    "model.eval()\n",
    "\n",
    "weights_path = os.path.join(config['weights_path'] + '-' + run_id.split('/')[-1], f'weights-best.pth')\n",
    "model.load_state_dict(torch.load(weights_path, weights_only=False))"
   ],
   "outputs": []
  },
  {
   "cell_type": "code",
   "execution_count": 49,
   "id": "3174be86-48fe-4771-8849-7b13c64ad0b4",
   "metadata": {},
   "source": [
    "train_dataset = PSMDataset(config, split='train')\n",
    "train_dataloader = DataLoader(train_dataset, batch_size=config['batch_size'], shuffle=False)\n",
    "\n",
    "test_dataset = PSMDataset(config, split='test')\n",
    "test_dataloader = DataLoader(test_dataset, batch_size=config['batch_size'], shuffle=False)\n",
    "\n",
    "train_p_emb, train_s_emb, train_m_emb, train_labels = get_embs(train_dataloader)\n",
    "test_p_emb, test_s_emb, test_m_emb, test_labels = get_embs(test_dataloader)\n",
    "\n",
    "p_centers, s_centers, m_centers, all_centers = get_centers(train_p_emb, train_s_emb, train_m_emb, train_labels)"
   ],
   "outputs": []
  },
  {
   "cell_type": "markdown",
   "id": "2432f2cd-0736-442a-b9a4-4ad919b78283",
   "metadata": {},
   "source": [
    "# Photometry"
   ]
  },
  {
   "cell_type": "code",
   "execution_count": 144,
   "id": "cdfafd3f-f325-4325-b858-53b9f16bf3ec",
   "metadata": {},
   "source": [
    "distances_p = torch.zeros(test_labels.shape)\n",
    "\n",
    "for i in range(10):\n",
    "    ind = test_labels == i\n",
    "    dist = 1 - test_p_emb[ind] @ p_centers[i]\n",
    "    distances_p[ind] = dist"
   ],
   "outputs": []
  },
  {
   "cell_type": "code",
   "execution_count": 145,
   "id": "3a6c78f5-b89a-45ae-8ca5-fa9d08f4a8b7",
   "metadata": {},
   "source": [
    "plt.hist(distances_p)"
   ],
   "outputs": []
  },
  {
   "cell_type": "code",
   "execution_count": 151,
   "id": "25d692ab-e23a-4e35-bc02-924d395a6360",
   "metadata": {},
   "source": [
    "topk_values_p, topk_indices_p = torch.topk(distances_p, k=20, largest=True)\n",
    "pred_labels_p = torch.argmax(test_p_emb[topk_indices_p] @ p_centers.T, axis=1)\n",
    "true_labels_p = test_labels[topk_indices_p]\n",
    "\n",
    "topk_values_p, topk_indices_p, pred_labels_p, true_labels_p"
   ],
   "outputs": []
  },
  {
   "cell_type": "markdown",
   "id": "4c832db6-fed7-4665-a4b2-7e5b3edf7546",
   "metadata": {},
   "source": [
    "# ADD PERIOD"
   ]
  },
  {
   "cell_type": "code",
   "execution_count": 165,
   "id": "ac5e7e8e-4117-4a38-8a36-9f8e1b898b20",
   "metadata": {},
   "source": [
    "test_dataset.phased = True\n",
    "\n",
    "# Define number of rows and columns (3 columns)\n",
    "num_cols = 3\n",
    "num_rows = math.ceil(len(topk_indices_p) / num_cols)\n",
    "\n",
    "# Create subplots with the calculated number of rows and 3 columns\n",
    "fig, axs = plt.subplots(num_rows, num_cols, figsize=(15, 5 * num_rows), constrained_layout=True)\n",
    "\n",
    "# Flatten the axs array if there are multiple rows\n",
    "axs = axs.flatten()\n",
    "\n",
    "# Loop over top-k indices to plot each object in its own subplot\n",
    "for i, idx in enumerate(topk_indices_p):\n",
    "    # Fetch the photometry data for the object from the test dataset\n",
    "    photometry, photometry_mask, spectra, metadata, label = test_dataset[idx.item()]\n",
    "    \n",
    "    # Plot the photometry data for this object in its respective subplot\n",
    "    axs[i].plot(photometry[:, 0], photometry[:, 1], '.')\n",
    "    \n",
    "    # Add title and labels to each subplot\n",
    "    axs[i].set_title(f'Label: {test_dataset.id2target[true_labels_p[i].item()]}\\nPred: {test_dataset.id2target[pred_labels_p[i].item()]}', fontsize=10)\n",
    "\n",
    "# Remove any unused subplots\n",
    "for j in range(i + 1, len(axs)):\n",
    "    fig.delaxes(axs[j])\n",
    "\n",
    "# Display the plot\n",
    "plt.show()"
   ],
   "outputs": []
  },
  {
   "cell_type": "markdown",
   "id": "e50447aa-2b00-442f-9faf-d0c6155ae7a5",
   "metadata": {},
   "source": [
    "# Spectra"
   ]
  },
  {
   "cell_type": "code",
   "execution_count": 74,
   "id": "32f06c98-3ae8-491b-9652-9dfd3ffb90b8",
   "metadata": {},
   "source": [
    "distances_s = torch.zeros(test_labels.shape)\n",
    "\n",
    "for i in range(10):\n",
    "    ind = test_labels == i\n",
    "    dist = 1 - test_s_emb[ind] @ s_centers[i]\n",
    "    distances_s[ind] = dist"
   ],
   "outputs": []
  },
  {
   "cell_type": "code",
   "execution_count": 75,
   "id": "e45c7ad0-7c5b-47ae-a40b-16813a45f611",
   "metadata": {},
   "source": [
    "plt.hist(distances_s)"
   ],
   "outputs": []
  },
  {
   "cell_type": "code",
   "execution_count": 77,
   "id": "96ae5c82-6170-4e0f-b914-2671df878cd8",
   "metadata": {},
   "source": [
    "topk_values_s, topk_indices_s = torch.topk(distances_s, k=20, largest=True)\n",
    "pred_labels_s = torch.argmax(test_s_emb[topk_indices_s] @ s_centers.T, axis=1)\n",
    "true_labels_s = test_labels[topk_indices_s]\n",
    "\n",
    "topk_values_s, topk_indices_s, pred_labels_s, true_labels_s"
   ],
   "outputs": []
  },
  {
   "cell_type": "code",
   "execution_count": 86,
   "id": "52a47ea7-7775-4bdf-938c-f60b9d03a196",
   "metadata": {},
   "source": [
    "# Define number of rows and columns (3 columns)\n",
    "num_cols = 3\n",
    "num_rows = math.ceil(len(topk_indices_p) / num_cols)\n",
    "\n",
    "# Create subplots with the calculated number of rows and 3 columns\n",
    "fig, axs = plt.subplots(num_rows, num_cols, figsize=(15, 5 * num_rows), constrained_layout=True)\n",
    "\n",
    "# Flatten the axs array if there are multiple rows\n",
    "axs = axs.flatten()\n",
    "\n",
    "# Loop over top-k indices to plot each object in its own subplot\n",
    "for i, idx in enumerate(topk_indices_s):\n",
    "    # Fetch the photometry data for the object from the test dataset\n",
    "    photometry, photometry_mask, spectra, metadata, label = test_dataset[idx.item()]\n",
    "    \n",
    "    # Plot the photometry data for this object in its respective subplot\n",
    "    axs[i].plot(spectra[0, :])\n",
    "    \n",
    "    # Add title and labels to each subplot\n",
    "    axs[i].set_title(f'Label: {test_dataset.id2target[true_labels_s[i].item()]}\\nPred: {test_dataset.id2target[pred_labels_s[i].item()]}', fontsize=10)\n",
    "\n",
    "# Remove any unused subplots\n",
    "for j in range(i + 1, len(axs)):\n",
    "    fig.delaxes(axs[j])\n",
    "\n",
    "# Display the plot\n",
    "plt.show()"
   ],
   "outputs": []
  },
  {
   "cell_type": "markdown",
   "id": "f20f764d-959c-4986-9198-46d751d3cb5c",
   "metadata": {},
   "source": [
    "# Metadata"
   ]
  },
  {
   "cell_type": "code",
   "execution_count": 87,
   "id": "1d7a954c-a460-4e08-a437-5907467ac96d",
   "metadata": {},
   "source": [
    "distances_m = torch.zeros(test_labels.shape)\n",
    "\n",
    "for i in range(10):\n",
    "    ind = test_labels == i\n",
    "    dist = 1 - test_m_emb[ind] @ m_centers[i]\n",
    "    distances_m[ind] = dist\n",
    "\n",
    "plt.hist(distances_m)"
   ],
   "outputs": []
  },
  {
   "cell_type": "code",
   "execution_count": 88,
   "id": "77defd9e-adea-4503-823a-3ec83f7beee8",
   "metadata": {},
   "source": [
    "topk_values_m, topk_indices_m = torch.topk(distances_m, k=20, largest=True)\n",
    "pred_labels_m = torch.argmax(test_m_emb[topk_indices_m] @ m_centers.T, axis=1)\n",
    "true_labels_m = test_labels[topk_indices_m]\n",
    "\n",
    "topk_values_m, topk_indices_m, pred_labels_m, true_labels_m"
   ],
   "outputs": []
  },
  {
   "cell_type": "code",
   "execution_count": 89,
   "id": "db78423c-4d09-4e33-a0a5-52eb72c62fcd",
   "metadata": {},
   "source": [
    "topk_indices_p, topk_indices_s, topk_indices_m"
   ],
   "outputs": []
  },
  {
   "cell_type": "code",
   "execution_count": 100,
   "id": "aec80370-801f-413b-a52a-49e968fabcf3",
   "metadata": {},
   "source": [
    "ps = topk_indices_p[torch.isin(topk_indices_p, topk_indices_s)]\n",
    "ps"
   ],
   "outputs": []
  },
  {
   "cell_type": "code",
   "execution_count": 101,
   "id": "d4ff3fef-f1b8-4052-9b5e-ca6c3609e9bd",
   "metadata": {},
   "source": [
    "sm = topk_indices_s[torch.isin(topk_indices_s, topk_indices_m)]\n",
    "sm"
   ],
   "outputs": []
  },
  {
   "cell_type": "code",
   "execution_count": 102,
   "id": "a4f98748-405d-4540-956b-666429795073",
   "metadata": {},
   "source": [
    "mp = topk_indices_m[torch.isin(topk_indices_m, topk_indices_p)]\n",
    "mp"
   ],
   "outputs": []
  },
  {
   "cell_type": "code",
   "execution_count": 106,
   "id": "fdcb22a0-0f8d-42f9-8261-593be45f3e43",
   "metadata": {},
   "source": [
    "w = ps[torch.isin(ps, sm)]\n",
    "w"
   ],
   "outputs": []
  },
  {
   "cell_type": "code",
   "execution_count": 108,
   "id": "9160b27a-c28f-442a-99e1-e589b90f48bc",
   "metadata": {},
   "source": [
    "pred_labels_p = torch.argmax(test_p_emb[w] @ p_centers.T, axis=1)\n",
    "pred_labels_s = torch.argmax(test_s_emb[w] @ s_centers.T, axis=1)\n",
    "pred_labels_m = torch.argmax(test_m_emb[w] @ m_centers.T, axis=1)\n",
    "true_labels = test_labels[w]\n",
    "\n",
    "pred_labels_p, pred_labels_s, pred_labels_m, true_labels"
   ],
   "outputs": []
  },
  {
   "cell_type": "markdown",
   "id": "e7e074ff-2580-4edc-b109-5a19b8cf31bf",
   "metadata": {},
   "source": [
    "# Plot misclassifications on UMAP"
   ]
  },
  {
   "cell_type": "code",
   "execution_count": 116,
   "id": "e0ccc9a4-44e3-4c02-8c69-9440dda34ebe",
   "metadata": {},
   "source": [
    "class_freq = test_dataset.df['target'].value_counts()\n",
    "sorted_classes = class_freq.index\n",
    "\n",
    "id2target = test_dataset.id2target\n",
    "target2id = test_dataset.target2id\n",
    "\n",
    "palette = sns.color_palette(\"tab20\", len(id2target))\n",
    "marker_size = 12"
   ],
   "outputs": []
  },
  {
   "cell_type": "code",
   "execution_count": 136,
   "id": "daf9728f-1b70-4a4a-b16e-e542c59390d6",
   "metadata": {},
   "source": [
    "def plot_one_embs_outliers(embeddings, targets, outliers=None):\n",
    "    plt.figure(figsize=(10, 8))\n",
    "    \n",
    "    for class_name in sorted_classes:\n",
    "        class_id = target2id[class_name]\n",
    "        class_mask = targets == class_id\n",
    "        plt.scatter(embeddings[class_mask, 0], embeddings[class_mask, 1], \n",
    "                    color=palette[class_id], label=class_name, alpha=0.7, s=marker_size)\n",
    "\n",
    "    if outliers is not None:\n",
    "        plt.scatter(embeddings[outliers, 0], embeddings[outliers, 1], \n",
    "                    facecolor='none', edgecolor='black', s=marker_size, label='Outliers')\n",
    "\n",
    "    handles_colors = [mlines.Line2D([], [], color=palette[target2id[class_name]], marker='o', linestyle='None', markersize=8, \n",
    "                      label=class_name) for class_name in sorted_classes]\n",
    "    plt.legend(handles=handles_colors, loc='upper right', bbox_to_anchor=(1.15, 1), fontsize=10, title=\"Classes\")\n",
    "    plt.xlabel(\"UMAP Dimension 1\")\n",
    "    plt.ylabel(\"UMAP Dimension 2\")\n",
    "    plt.show()"
   ],
   "outputs": []
  },
  {
   "cell_type": "code",
   "execution_count": 138,
   "id": "ce42d7a0-c096-4190-ab70-f10d59a05d56",
   "metadata": {},
   "source": [
    "umap_model = umap.UMAP(n_neighbors=22, n_components=2, metric='cosine', n_jobs=1, random_state=42)\n",
    "p_emb_umap = umap_model.fit_transform(test_p_emb)\n",
    "plot_one_embs_outliers(p_emb_umap, test_labels, topk_indices_p)"
   ],
   "outputs": []
  },
  {
   "cell_type": "code",
   "execution_count": 139,
   "id": "dcbfdfee-d48f-4eda-ab00-c1ccf3c088ce",
   "metadata": {},
   "source": [
    "umap_model = umap.UMAP(n_neighbors=22, n_components=2, metric='cosine', n_jobs=1, random_state=42)\n",
    "s_emb_umap = umap_model.fit_transform(test_s_emb)\n",
    "plot_one_embs_outliers(s_emb_umap, test_labels, topk_indices_s)"
   ],
   "outputs": []
  },
  {
   "cell_type": "code",
   "execution_count": 140,
   "id": "83ee0c8e-00be-4c49-bb43-bec1b57cfc80",
   "metadata": {},
   "source": [
    "umap_model = umap.UMAP(n_neighbors=22, n_components=2, metric='cosine', n_jobs=1, random_state=42)\n",
    "m_emb_umap = umap_model.fit_transform(test_m_emb)\n",
    "plot_one_embs_outliers(m_emb_umap, test_labels, topk_indices_m)"
   ],
   "outputs": []
  },
  {
   "cell_type": "markdown",
   "id": "38fea1b8-a9f7-4e73-a170-ee3df5e1bf40",
   "metadata": {},
   "source": [
    "# k = 50"
   ]
  },
  {
   "cell_type": "code",
   "execution_count": 153,
   "id": "bbe989c2-1228-4c32-abd3-79cf251fef30",
   "metadata": {},
   "source": [
    "topk_values_p, topk_indices_p = torch.topk(distances_p, k=50, largest=True)\n",
    "pred_labels_p = torch.argmax(test_p_emb[topk_indices_p] @ p_centers.T, axis=1)\n",
    "true_labels_p = test_labels[topk_indices_p]\n",
    "\n",
    "topk_values_p, topk_indices_p, pred_labels_p, true_labels_p"
   ],
   "outputs": []
  },
  {
   "cell_type": "code",
   "execution_count": 156,
   "id": "5a097ba5-890d-46d2-a30a-235bd68ee34a",
   "metadata": {},
   "source": [
    "topk_indices_p[pred_labels_p == true_labels_p]"
   ],
   "outputs": []
  },
  {
   "cell_type": "code",
   "execution_count": 163,
   "id": "26b6f030-a302-46d4-be05-3afaa164bca7",
   "metadata": {},
   "source": [
    "test_p_emb[530] @ p_centers.T, test_p_emb[713] @ p_centers.T, test_p_emb[962] @ p_centers.T, test_p_emb[426] @ p_centers.T"
   ],
   "outputs": []
  },
  {
   "cell_type": "code",
   "execution_count": 164,
   "id": "5452b057-91c4-4dd9-ad54-d9fbded319a2",
   "metadata": {},
   "source": [
    "test_labels[topk_indices_p[pred_labels_p == true_labels_p]]"
   ],
   "outputs": []
  },
  {
   "cell_type": "code",
   "execution_count": null,
   "id": "1d79432d-a153-4e79-88db-a6b693b52ca1",
   "metadata": {},
   "source": [],
   "outputs": []
  },
  {
   "cell_type": "code",
   "execution_count": null,
   "id": "262b4709-b6d2-4e76-952c-0e67bdd3b743",
   "metadata": {},
   "source": [],
   "outputs": []
  },
  {
   "cell_type": "code",
   "execution_count": null,
   "id": "25aad3a6-fc4b-4215-893b-da602657ec11",
   "metadata": {},
   "source": [],
   "outputs": []
  },
  {
   "cell_type": "code",
   "execution_count": null,
   "id": "4ad6d694-06fd-4be6-9541-aa61873491df",
   "metadata": {},
   "source": [],
   "outputs": []
  },
  {
   "cell_type": "code",
   "execution_count": null,
   "id": "5eb2e811-8915-483d-8750-93b36d4fc459",
   "metadata": {},
   "source": [],
   "outputs": []
  },
  {
   "cell_type": "code",
   "execution_count": null,
   "id": "de63eec4-4ada-441f-85fe-cef3943da031",
   "metadata": {},
   "source": [],
   "outputs": []
  }
 ],
 "metadata": {
  "kernelspec": {
   "display_name": "Python 3 (ipykernel)",
   "language": "python",
   "name": "python3"
  },
  "language_info": {
   "codemirror_mode": {
    "name": "ipython",
    "version": 3
   },
   "file_extension": ".py",
   "mimetype": "text/x-python",
   "name": "python",
   "nbconvert_exporter": "python",
   "pygments_lexer": "ipython3",
   "version": "3.10.14"
  }
 },
 "nbformat": 4,
 "nbformat_minor": 5
}

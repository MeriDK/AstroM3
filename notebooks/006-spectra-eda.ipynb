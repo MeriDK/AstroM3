{
 "cells": [
  {
   "cell_type": "code",
   "execution_count": 7,
   "id": "4898eedf-33b0-42cb-87f4-69e8a43d50e4",
   "metadata": {},
   "outputs": [],
   "source": [
    "import sys\n",
    "\n",
    "sys.path.insert(0, '..')"
   ]
  },
  {
   "cell_type": "code",
   "execution_count": 123,
   "id": "55b5a4e4-f87b-488f-822c-cf59cd1e0b35",
   "metadata": {},
   "outputs": [],
   "source": [
    "import os\n",
    "import numpy as np\n",
    "import random\n",
    "import torch\n",
    "import torch.nn as nn\n",
    "from torch.optim import Adam\n",
    "from torch.utils.data import DataLoader\n",
    "import torch.nn.functional as F\n",
    "from transformers import TimeSeriesTransformerConfig, TimeSeriesTransformerForPrediction, TimeSeriesTransformerModel \n",
    "from transformers.models.time_series_transformer.modeling_time_series_transformer import TimeSeriesTransformerEncoder\n",
    "import matplotlib.pyplot as plt\n",
    "from torch.optim.lr_scheduler import ReduceLROnPlateau\n",
    "from scipy import stats\n",
    "import json \n",
    "from tqdm import tqdm\n",
    "from sklearn.metrics import confusion_matrix\n",
    "import seaborn as sns\n",
    "from datetime import datetime\n",
    "from torch.utils.data import Dataset, DataLoader\n",
    "\n",
    "from pathlib import Path\n",
    "from core.multimodal.dataset import collate_fn, ASASSNVarStarDataset\n",
    "from functools import partial\n",
    "import matplotlib.pyplot as plt"
   ]
  },
  {
   "cell_type": "code",
   "execution_count": 9,
   "id": "a5dd2a9a-f099-41a2-a512-6e02efdc1dd9",
   "metadata": {},
   "outputs": [],
   "source": [
    "random_seed = 42\n",
    "torch.manual_seed(random_seed)\n",
    "np.random.seed(random_seed)\n",
    "random.seed(random_seed)\n",
    "torch.backends.cudnn.deterministic = True"
   ]
  },
  {
   "cell_type": "code",
   "execution_count": 10,
   "id": "40cdd513-aae2-432a-aea4-facc7f70da98",
   "metadata": {},
   "outputs": [
    {
     "name": "stdout",
     "output_type": "stream",
     "text": [
      "Opening v data files... Found 687695 sources. done.\n",
      "Opening g data files... Found 378861 sources. done.\n",
      "Opening spectra csv... done.\n",
      "Keeping only v band sources with spectra... Left with 26401 sources. done.\n",
      "Keeping only g band sources with spectra... Left with 25954 sources. done.\n",
      "Removing duplicates for v band... Left with 25950. done.\n",
      "Removing duplicates for g band... Left with 25950. done.\n",
      "Removing objects that have class different from ['CWA', 'CWB', 'DCEP', 'DCEPS', 'DSCT', 'EA', 'EB', 'EW', 'HADS', 'M', 'ROT', 'RRAB', 'RRC', 'RRD', 'RVA', 'SR'] for v band... Left with 22680. done.\n",
      "Removing objects that have class different from ['CWA', 'CWB', 'DCEP', 'DCEPS', 'DSCT', 'EA', 'EB', 'EW', 'HADS', 'M', 'ROT', 'RRAB', 'RRC', 'RRD', 'RVA', 'SR'] for g band... Left with 25536. done.\n",
      "Merging bands... done. Now 22447 sources.\n",
      "Removed non-periodic sources. Now 22447 sources.\n",
      "Total: 22447, Train: 17957, Val: 2244, Test: 2246\n",
      "Priming tarballs by doing initial scan... done.\n"
     ]
    }
   ],
   "source": [
    "datapath = Path('/home/mrizhko/AML/AstroML/data/asaasn')\n",
    "ds_train = ASASSNVarStarDataset(datapath, mode='train', verbose=True, only_periodic=True, recalc_period=False, \n",
    "                                prime=True, use_bands=['v', 'g'], only_sources_with_spectra=True, return_phased=True, \n",
    "                                fill_value=0)"
   ]
  },
  {
   "cell_type": "code",
   "execution_count": 203,
   "id": "2e44e36c-4279-43f9-96cf-1382d405ec77",
   "metadata": {},
   "outputs": [],
   "source": [
    "idx = [1]\n",
    "sources = ds_train.df.iloc[idx]\n",
    "lcs = ds_train.get_light_curves(sources)"
   ]
  },
  {
   "cell_type": "code",
   "execution_count": 209,
   "id": "ceaa204d-b49d-4db9-9b24-629f7018de6a",
   "metadata": {},
   "outputs": [
    {
     "data": {
      "text/plain": [
       "True"
      ]
     },
     "execution_count": 209,
     "metadata": {},
     "output_type": "execute_result"
    }
   ],
   "source": [
    "lcs[0][0].dtype == float"
   ]
  },
  {
   "cell_type": "code",
   "execution_count": 214,
   "id": "c992f071-86b5-487d-bf57-637fd01fa64a",
   "metadata": {},
   "outputs": [
    {
     "name": "stderr",
     "output_type": "stream",
     "text": [
      "100%|███████████████████████████████████████████████████████████| 17957/17957 [07:14<00:00, 41.33it/s]\n"
     ]
    }
   ],
   "source": [
    "bad_ids = []\n",
    "\n",
    "for i in tqdm(range(len(ds_train))):\n",
    "    idx = [i]\n",
    "    sources = ds_train.df.iloc[idx]\n",
    "    lcs = ds_train.get_light_curves(sources)\n",
    "\n",
    "    if lcs[0][0].dtype != float or lcs[0][1].dtype != float:\n",
    "        bad_ids.append(i)"
   ]
  },
  {
   "cell_type": "code",
   "execution_count": 215,
   "id": "4bc2383b-2cd5-4f63-a59f-c53beeba44fd",
   "metadata": {},
   "outputs": [
    {
     "data": {
      "text/plain": [
       "181"
      ]
     },
     "execution_count": 215,
     "metadata": {},
     "output_type": "execute_result"
    }
   ],
   "source": [
    "len(bad_ids)"
   ]
  },
  {
   "cell_type": "code",
   "execution_count": null,
   "id": "2eab2b30-e8d8-45c8-ba61-7ba057368594",
   "metadata": {},
   "outputs": [],
   "source": []
  },
  {
   "cell_type": "code",
   "execution_count": 11,
   "id": "f51f2586-ad83-4b9c-b986-89f000a984e1",
   "metadata": {},
   "outputs": [
    {
     "name": "stdout",
     "output_type": "stream",
     "text": [
      "Opening v data files... Found 687695 sources. done.\n",
      "Opening g data files... Found 378861 sources. done.\n",
      "Opening spectra csv... done.\n",
      "Keeping only v band sources with spectra... Left with 26401 sources. done.\n",
      "Keeping only g band sources with spectra... Left with 25954 sources. done.\n",
      "Removing duplicates for v band... Left with 25950. done.\n",
      "Removing duplicates for g band... Left with 25950. done.\n",
      "Removing objects that have class different from ['CWA', 'CWB', 'DCEP', 'DCEPS', 'DSCT', 'EA', 'EB', 'EW', 'HADS', 'M', 'ROT', 'RRAB', 'RRC', 'RRD', 'RVA', 'SR'] for v band... Left with 22680. done.\n",
      "Removing objects that have class different from ['CWA', 'CWB', 'DCEP', 'DCEPS', 'DSCT', 'EA', 'EB', 'EW', 'HADS', 'M', 'ROT', 'RRAB', 'RRC', 'RRD', 'RVA', 'SR'] for g band... Left with 25536. done.\n",
      "Merging bands... done. Now 22447 sources.\n",
      "Removed non-periodic sources. Now 22447 sources.\n",
      "Total: 22447, Train: 17957, Val: 2244, Test: 2246\n",
      "Priming tarballs by doing initial scan... done.\n"
     ]
    }
   ],
   "source": [
    "ds_val = ASASSNVarStarDataset(datapath, mode='val', verbose=True, only_periodic=True, recalc_period=False, \n",
    "                              prime=True, use_bands=['v', 'g'], only_sources_with_spectra=True, return_phased=True, \n",
    "                              fill_value=0)"
   ]
  },
  {
   "cell_type": "code",
   "execution_count": 139,
   "id": "16cb4297-9efe-48c5-acc8-819ffcf9edcc",
   "metadata": {},
   "outputs": [],
   "source": [
    "class SpectraDataset(Dataset):\n",
    "    def __init__(self, asassn_dataset):\n",
    "        self.asassn_dataset = asassn_dataset\n",
    "\n",
    "    def __len__(self):\n",
    "        return len(self.asassn_dataset)\n",
    "\n",
    "    def __getitem__(self, idx):\n",
    "        el = self.asassn_dataset[idx]\n",
    "        spectra = el['spectra'][0][0]\n",
    "        label = el['classes'][0][0].astype(np.int64)\n",
    "\n",
    "        wavelengths, fluxes = spectra[:, 0], spectra[:, 1]\n",
    "        fluxes = fluxes / fluxes.std()\n",
    "        \n",
    "        regular_wavelengths = np.arange(3800, 9000)\n",
    "        interpolated_fluxes = np.interp(regular_wavelengths, wavelengths, fluxes)\n",
    "        interpolated_fluxes = interpolated_fluxes.reshape(1, -1).astype(np.float32)\n",
    "        \n",
    "        return interpolated_fluxes, label"
   ]
  },
  {
   "cell_type": "code",
   "execution_count": 140,
   "id": "ac51fd2f-c6bd-47b8-9815-0519726536ec",
   "metadata": {},
   "outputs": [],
   "source": [
    "train_dataset = SpectraDataset(ds_train)\n",
    "val_dataset = SpectraDataset(ds_val)"
   ]
  },
  {
   "cell_type": "code",
   "execution_count": 169,
   "id": "035b5649-5bce-4f7a-9b15-aafa64282e07",
   "metadata": {},
   "outputs": [],
   "source": [
    "train_dataloader = DataLoader(train_dataset, batch_size=512, shuffle=True, num_workers=8)\n",
    "val_dataloader = DataLoader(val_dataset, batch_size=512, shuffle=False)"
   ]
  },
  {
   "cell_type": "code",
   "execution_count": 191,
   "id": "fe5199eb-5ac6-4031-8d7a-62187f3f74da",
   "metadata": {},
   "outputs": [],
   "source": [
    "class GalSpecNet(nn.Module):\n",
    "    \"\"\"https://academic.oup.com/mnras/article/527/1/1163/7283157\"\"\"\n",
    "    \n",
    "    def __init__(self, num_classes):\n",
    "        super(GalSpecNet, self).__init__()\n",
    "        \n",
    "        self.conv1 = nn.Conv1d(in_channels=1, out_channels=64, kernel_size=3, padding=0)\n",
    "        self.conv2 = nn.Conv1d(in_channels=64, out_channels=64, kernel_size=3, padding=0)\n",
    "        self.conv3 = nn.Conv1d(in_channels=64, out_channels=32, kernel_size=3, padding=0)\n",
    "        self.conv4 = nn.Conv1d(in_channels=32, out_channels=32, kernel_size=3, padding=0)\n",
    "\n",
    "        self.mp1 = nn.MaxPool1d(kernel_size=4)\n",
    "        self.mp2 = nn.MaxPool1d(kernel_size=4)\n",
    "        self.mp3 = nn.MaxPool1d(kernel_size=4)\n",
    "\n",
    "        self.fc1 = nn.Linear(2496, 512)\n",
    "        self.fc2 = nn.Linear(512, 64)\n",
    "        self.fc3 = nn.Linear(64, 32)\n",
    "        self.fc4 = nn.Linear(32, num_classes)\n",
    "        \n",
    "        self.dropout = nn.Dropout(0.2)\n",
    "\n",
    "    def forward(self, x):\n",
    "        x = F.relu(self.mp1(self.conv1(x)))\n",
    "        x = F.relu(self.mp2(self.conv2(x)))\n",
    "        x = F.relu(self.mp3(self.conv3(x)))\n",
    "        x = F.relu(self.conv4(x))        \n",
    "        x = x.view(x.shape[0], -1)\n",
    "        x = F.relu(self.fc1(self.dropout(x)))\n",
    "        x = F.relu(self.fc2(x))\n",
    "        x = F.relu(self.fc3(x))\n",
    "        x = self.fc4(x)\n",
    "        \n",
    "        return x"
   ]
  },
  {
   "cell_type": "code",
   "execution_count": 192,
   "id": "a5910210-5c58-4419-923d-66680fa0e77e",
   "metadata": {},
   "outputs": [
    {
     "name": "stdout",
     "output_type": "stream",
     "text": [
      "Using cuda:7\n"
     ]
    }
   ],
   "source": [
    "device = torch.device('cuda:7' if torch.cuda.is_available() else 'cpu')\n",
    "print('Using', device)"
   ]
  },
  {
   "cell_type": "code",
   "execution_count": 193,
   "id": "ea722ce5-ac5b-4d55-9cb9-21509cb02199",
   "metadata": {},
   "outputs": [],
   "source": [
    "model = GalSpecNet(len(ds_train.target_lookup))\n",
    "model = model.to(device)"
   ]
  },
  {
   "cell_type": "code",
   "execution_count": 194,
   "id": "bf981bf5-4666-4dd6-82a7-613c44c3f31b",
   "metadata": {},
   "outputs": [],
   "source": [
    "optimizer = Adam(model.parameters(), lr=1e-3)\n",
    "criterion = nn.CrossEntropyLoss()"
   ]
  },
  {
   "cell_type": "code",
   "execution_count": 195,
   "id": "b0fc5d9b-7330-4e76-a6b4-d64b15c58aeb",
   "metadata": {},
   "outputs": [],
   "source": [
    "def train_epoch():\n",
    "    model.train()\n",
    "    total_loss = []\n",
    "    total_correct_predictions = 0\n",
    "    total_predictions = 0\n",
    "\n",
    "    for fluxes, label in tqdm(train_dataloader):\n",
    "        fluxes, label = fluxes.to(device), label.to(device)\n",
    "\n",
    "        optimizer.zero_grad()\n",
    "\n",
    "        logits = model(fluxes)\n",
    "        loss = criterion(logits, label)\n",
    "        total_loss.append(loss.item())\n",
    "\n",
    "        probabilities = torch.nn.functional.softmax(logits, dim=1)\n",
    "        _, predicted_labels = torch.max(probabilities, dim=1)\n",
    "        correct_predictions = (predicted_labels == label).sum().item()\n",
    "\n",
    "        total_correct_predictions += correct_predictions\n",
    "        total_predictions += label.size(0)\n",
    "\n",
    "        loss.backward()\n",
    "        optimizer.step()\n",
    "\n",
    "    return sum(total_loss) / len(total_loss), total_correct_predictions / total_predictions"
   ]
  },
  {
   "cell_type": "code",
   "execution_count": 196,
   "id": "9b4de5ef-156a-48ed-950d-6fedfb58b204",
   "metadata": {},
   "outputs": [],
   "source": [
    "def val_epoch():\n",
    "    model.eval()\n",
    "    total_loss = []\n",
    "    total_correct_predictions = 0\n",
    "    total_predictions = 0\n",
    "\n",
    "    with torch.no_grad():\n",
    "        for fluxes, label in tqdm(val_dataloader):\n",
    "            fluxes, label = fluxes.to(device), label.to(device)\n",
    "\n",
    "            logits = model(fluxes)\n",
    "            loss = criterion(logits, label)\n",
    "            total_loss.append(loss.item())\n",
    "\n",
    "            probabilities = torch.nn.functional.softmax(logits, dim=1)\n",
    "            _, predicted_labels = torch.max(probabilities, dim=1)\n",
    "            correct_predictions = (predicted_labels == label).sum().item()\n",
    "    \n",
    "            total_correct_predictions += correct_predictions\n",
    "            total_predictions += label.size(0)\n",
    "\n",
    "    return sum(total_loss) / len(total_loss), total_correct_predictions / total_predictions"
   ]
  },
  {
   "cell_type": "code",
   "execution_count": 197,
   "id": "c42747ed-cc7b-4fb9-b376-c28576fa9d40",
   "metadata": {},
   "outputs": [
    {
     "name": "stdout",
     "output_type": "stream",
     "text": [
      "Epoch 0\n"
     ]
    },
    {
     "name": "stderr",
     "output_type": "stream",
     "text": [
      " 42%|███████████████████████████                                      | 15/36 [01:51<01:32,  4.42s/it]Exception ignored in: <function _MultiProcessingDataLoaderIter.__del__ at 0x7f37fd905d80>\n",
      "Traceback (most recent call last):\n",
      "  File \"/home/mrizhko/anaconda3/envs/period/lib/python3.10/site-packages/torch/utils/data/dataloader.py\", line 1510, in __del__\n",
      "    self._shutdown_workers()\n",
      "  File \"/home/mrizhko/anaconda3/envs/period/lib/python3.10/site-packages/torch/utils/data/dataloader.py\", line 1493, in _shutdown_workers\n",
      "    if w.is_alive():\n",
      "  File \"/home/mrizhko/anaconda3/envs/period/lib/python3.10/multiprocessing/process.py\", line 160, in is_alive\n",
      "    assert self._parent_pid == os.getpid(), 'can only test a child process'\n",
      "AssertionError: can only test a child process\n",
      "Exception ignored in: <function _MultiProcessingDataLoaderIter.__del__ at 0x7f37fd905d80>\n",
      "Traceback (most recent call last):\n",
      "  File \"/home/mrizhko/anaconda3/envs/period/lib/python3.10/site-packages/torch/utils/data/dataloader.py\", line 1510, in __del__\n",
      "    self._shutdown_workers()\n",
      "  File \"/home/mrizhko/anaconda3/envs/period/lib/python3.10/site-packages/torch/utils/data/dataloader.py\", line 1493, in _shutdown_workers\n",
      "    if w.is_alive():\n",
      "  File \"/home/mrizhko/anaconda3/envs/period/lib/python3.10/multiprocessing/process.py\", line 160, in is_alive\n",
      "    assert self._parent_pid == os.getpid(), 'can only test a child process'\n",
      "AssertionError: can only test a child process\n",
      "Exception ignored in: <function _MultiProcessingDataLoaderIter.__del__ at 0x7f37fd905d80>\n",
      "Traceback (most recent call last):\n",
      "  File \"/home/mrizhko/anaconda3/envs/period/lib/python3.10/site-packages/torch/utils/data/dataloader.py\", line 1510, in __del__\n",
      "    self._shutdown_workers()\n",
      "  File \"/home/mrizhko/anaconda3/envs/period/lib/python3.10/site-packages/torch/utils/data/dataloader.py\", line 1493, in _shutdown_workers\n",
      "    if w.is_alive():\n",
      "  File \"/home/mrizhko/anaconda3/envs/period/lib/python3.10/multiprocessing/process.py\", line 160, in is_alive\n",
      "    assert self._parent_pid == os.getpid(), 'can only test a child process'\n",
      "AssertionError: can only test a child process\n",
      "Exception ignored in: <function _MultiProcessingDataLoaderIter.__del__ at 0x7f37fd905d80>\n",
      "Traceback (most recent call last):\n",
      "  File \"/home/mrizhko/anaconda3/envs/period/lib/python3.10/site-packages/torch/utils/data/dataloader.py\", line 1510, in __del__\n",
      "    self._shutdown_workers()\n",
      "  File \"/home/mrizhko/anaconda3/envs/period/lib/python3.10/site-packages/torch/utils/data/dataloader.py\", line 1493, in _shutdown_workers\n",
      "    if w.is_alive():\n",
      "  File \"/home/mrizhko/anaconda3/envs/period/lib/python3.10/multiprocessing/process.py\", line 160, in is_alive\n",
      "    assert self._parent_pid == os.getpid(), 'can only test a child process'\n",
      "AssertionError: can only test a child process\n",
      " 42%|███████████████████████████                                      | 15/36 [02:05<01:32,  4.42s/it]Exception ignored in: <function _MultiProcessingDataLoaderIter.__del__ at 0x7f37fd905d80>\n",
      "Traceback (most recent call last):\n",
      "  File \"/home/mrizhko/anaconda3/envs/period/lib/python3.10/site-packages/torch/utils/data/dataloader.py\", line 1510, in __del__\n",
      "    self._shutdown_workers()\n",
      "  File \"/home/mrizhko/anaconda3/envs/period/lib/python3.10/site-packages/torch/utils/data/dataloader.py\", line 1493, in _shutdown_workers\n",
      "    if w.is_alive():\n",
      "  File \"/home/mrizhko/anaconda3/envs/period/lib/python3.10/multiprocessing/process.py\", line 160, in is_alive\n",
      "    assert self._parent_pid == os.getpid(), 'can only test a child process'\n",
      "AssertionError: can only test a child process\n",
      "Exception ignored in: <function _MultiProcessingDataLoaderIter.__del__ at 0x7f37fd905d80>\n",
      "Traceback (most recent call last):\n",
      "  File \"/home/mrizhko/anaconda3/envs/period/lib/python3.10/site-packages/torch/utils/data/dataloader.py\", line 1510, in __del__\n",
      "    self._shutdown_workers()\n",
      "  File \"/home/mrizhko/anaconda3/envs/period/lib/python3.10/site-packages/torch/utils/data/dataloader.py\", line 1493, in _shutdown_workers\n",
      "    if w.is_alive():\n",
      "  File \"/home/mrizhko/anaconda3/envs/period/lib/python3.10/multiprocessing/process.py\", line 160, in is_alive\n",
      "    assert self._parent_pid == os.getpid(), 'can only test a child process'\n",
      "AssertionError: can only test a child process\n",
      "Exception ignored in: <function _MultiProcessingDataLoaderIter.__del__ at 0x7f37fd905d80>\n",
      "Traceback (most recent call last):\n",
      "  File \"/home/mrizhko/anaconda3/envs/period/lib/python3.10/site-packages/torch/utils/data/dataloader.py\", line 1510, in __del__\n",
      "    self._shutdown_workers()\n",
      "  File \"/home/mrizhko/anaconda3/envs/period/lib/python3.10/site-packages/torch/utils/data/dataloader.py\", line 1493, in _shutdown_workers\n",
      "    if w.is_alive():\n",
      "  File \"/home/mrizhko/anaconda3/envs/period/lib/python3.10/multiprocessing/process.py\", line 160, in is_alive\n",
      "    assert self._parent_pid == os.getpid(), 'can only test a child process'\n",
      "AssertionError: can only test a child process\n",
      "Exception ignored in: <function _MultiProcessingDataLoaderIter.__del__ at 0x7f37fd905d80>\n",
      "Traceback (most recent call last):\n",
      "  File \"/home/mrizhko/anaconda3/envs/period/lib/python3.10/site-packages/torch/utils/data/dataloader.py\", line 1510, in __del__\n",
      "    self._shutdown_workers()\n",
      "  File \"/home/mrizhko/anaconda3/envs/period/lib/python3.10/site-packages/torch/utils/data/dataloader.py\", line 1493, in _shutdown_workers\n",
      "    if w.is_alive():\n",
      "  File \"/home/mrizhko/anaconda3/envs/period/lib/python3.10/multiprocessing/process.py\", line 160, in is_alive\n",
      "    assert self._parent_pid == os.getpid(), 'can only test a child process'\n",
      "AssertionError: can only test a child process\n",
      "Exception ignored in: <function _MultiProcessingDataLoaderIter.__del__ at 0x7f37fd905d80>\n",
      "Traceback (most recent call last):\n",
      "  File \"/home/mrizhko/anaconda3/envs/period/lib/python3.10/site-packages/torch/utils/data/dataloader.py\", line 1510, in __del__\n",
      "    self._shutdown_workers()\n",
      "  File \"/home/mrizhko/anaconda3/envs/period/lib/python3.10/site-packages/torch/utils/data/dataloader.py\", line 1493, in _shutdown_workers\n",
      "    if w.is_alive():\n",
      "  File \"/home/mrizhko/anaconda3/envs/period/lib/python3.10/multiprocessing/process.py\", line 160, in is_alive\n",
      "    assert self._parent_pid == os.getpid(), 'can only test a child process'\n",
      "AssertionError: can only test a child process\n",
      "Exception ignored in: <function _MultiProcessingDataLoaderIter.__del__ at 0x7f37fd905d80>\n",
      "Traceback (most recent call last):\n",
      "  File \"/home/mrizhko/anaconda3/envs/period/lib/python3.10/site-packages/torch/utils/data/dataloader.py\", line 1510, in __del__\n",
      "    self._shutdown_workers()\n",
      "Exception ignored in:   File \"/home/mrizhko/anaconda3/envs/period/lib/python3.10/site-packages/torch/utils/data/dataloader.py\", line 1493, in _shutdown_workers\n",
      "<function _MultiProcessingDataLoaderIter.__del__ at 0x7f37fd905d80>\n",
      "Traceback (most recent call last):\n",
      "      File \"/home/mrizhko/anaconda3/envs/period/lib/python3.10/site-packages/torch/utils/data/dataloader.py\", line 1510, in __del__\n",
      "if w.is_alive():\n",
      "  File \"/home/mrizhko/anaconda3/envs/period/lib/python3.10/multiprocessing/process.py\", line 160, in is_alive\n",
      "        self._shutdown_workers()assert self._parent_pid == os.getpid(), 'can only test a child process'\n",
      "\n",
      "AssertionError:   File \"/home/mrizhko/anaconda3/envs/period/lib/python3.10/site-packages/torch/utils/data/dataloader.py\", line 1493, in _shutdown_workers\n",
      "can only test a child process\n",
      "    if w.is_alive():\n",
      "  File \"/home/mrizhko/anaconda3/envs/period/lib/python3.10/multiprocessing/process.py\", line 160, in is_alive\n",
      "    assert self._parent_pid == os.getpid(), 'can only test a child process'\n",
      "AssertionError: can only test a child process\n",
      "Exception ignored in: <function _MultiProcessingDataLoaderIter.__del__ at 0x7f37fd905d80>\n",
      "Traceback (most recent call last):\n",
      "  File \"/home/mrizhko/anaconda3/envs/period/lib/python3.10/site-packages/torch/utils/data/dataloader.py\", line 1510, in __del__\n",
      "    self._shutdown_workers()\n",
      "  File \"/home/mrizhko/anaconda3/envs/period/lib/python3.10/site-packages/torch/utils/data/dataloader.py\", line 1493, in _shutdown_workers\n",
      "    if w.is_alive():\n",
      "  File \"/home/mrizhko/anaconda3/envs/period/lib/python3.10/multiprocessing/process.py\", line 160, in is_alive\n",
      "    assert self._parent_pid == os.getpid(), 'can only test a child process'\n",
      "AssertionError: can only test a child process\n",
      "Exception ignored in: <function _MultiProcessingDataLoaderIter.__del__ at 0x7f37fd905d80>\n",
      "Traceback (most recent call last):\n",
      "  File \"/home/mrizhko/anaconda3/envs/period/lib/python3.10/site-packages/torch/utils/data/dataloader.py\", line 1510, in __del__\n",
      "    self._shutdown_workers()\n",
      "  File \"/home/mrizhko/anaconda3/envs/period/lib/python3.10/site-packages/torch/utils/data/dataloader.py\", line 1493, in _shutdown_workers\n",
      "    if w.is_alive():\n",
      "  File \"/home/mrizhko/anaconda3/envs/period/lib/python3.10/multiprocessing/process.py\", line 160, in is_alive\n",
      "    assert self._parent_pid == os.getpid(), 'can only test a child process'\n",
      "AssertionError: can only test a child process\n",
      "Exception ignored in: <function _MultiProcessingDataLoaderIter.__del__ at 0x7f37fd905d80>\n",
      "Traceback (most recent call last):\n",
      "  File \"/home/mrizhko/anaconda3/envs/period/lib/python3.10/site-packages/torch/utils/data/dataloader.py\", line 1510, in __del__\n",
      "    self._shutdown_workers()\n",
      "  File \"/home/mrizhko/anaconda3/envs/period/lib/python3.10/site-packages/torch/utils/data/dataloader.py\", line 1493, in _shutdown_workers\n",
      "    if w.is_alive():\n",
      "  File \"/home/mrizhko/anaconda3/envs/period/lib/python3.10/multiprocessing/process.py\", line 160, in is_alive\n",
      "    assert self._parent_pid == os.getpid(), 'can only test a child process'\n",
      "AssertionError: can only test a child process\n",
      "Exception ignored in: <function _MultiProcessingDataLoaderIter.__del__ at 0x7f37fd905d80>\n",
      "Traceback (most recent call last):\n",
      "  File \"/home/mrizhko/anaconda3/envs/period/lib/python3.10/site-packages/torch/utils/data/dataloader.py\", line 1510, in __del__\n",
      "    self._shutdown_workers()\n",
      "  File \"/home/mrizhko/anaconda3/envs/period/lib/python3.10/site-packages/torch/utils/data/dataloader.py\", line 1493, in _shutdown_workers\n",
      "    if w.is_alive():\n",
      "  File \"/home/mrizhko/anaconda3/envs/period/lib/python3.10/multiprocessing/process.py\", line 160, in is_alive\n",
      "    assert self._parent_pid == os.getpid(), 'can only test a child process'\n",
      "AssertionError: can only test a child process\n",
      "Exception ignored in: <function _MultiProcessingDataLoaderIter.__del__ at 0x7f37fd905d80>\n",
      "Traceback (most recent call last):\n",
      "  File \"/home/mrizhko/anaconda3/envs/period/lib/python3.10/site-packages/torch/utils/data/dataloader.py\", line 1510, in __del__\n",
      "    self._shutdown_workers()\n",
      "  File \"/home/mrizhko/anaconda3/envs/period/lib/python3.10/site-packages/torch/utils/data/dataloader.py\", line 1493, in _shutdown_workers\n",
      "    if w.is_alive():\n",
      "  File \"/home/mrizhko/anaconda3/envs/period/lib/python3.10/multiprocessing/process.py\", line 160, in is_alive\n",
      "    assert self._parent_pid == os.getpid(), 'can only test a child process'\n",
      "AssertionError: can only test a child process\n",
      "100%|█████████████████████████████████████████████████████████████████| 36/36 [03:52<00:00,  6.46s/it]\n"
     ]
    },
    {
     "name": "stdout",
     "output_type": "stream",
     "text": [
      "Train Loss: 1.816 Acc: 0.41\n"
     ]
    },
    {
     "name": "stderr",
     "output_type": "stream",
     "text": [
      "100%|███████████████████████████████████████████████████████████████████| 5/5 [01:39<00:00, 19.81s/it]\n"
     ]
    },
    {
     "name": "stdout",
     "output_type": "stream",
     "text": [
      "Val Loss: 1.338 Acc: 0.52\n",
      "Epoch 1\n"
     ]
    },
    {
     "name": "stderr",
     "output_type": "stream",
     "text": [
      "100%|█████████████████████████████████████████████████████████████████| 36/36 [03:51<00:00,  6.44s/it]\n"
     ]
    },
    {
     "name": "stdout",
     "output_type": "stream",
     "text": [
      "Train Loss: 1.31 Acc: 0.53\n"
     ]
    },
    {
     "name": "stderr",
     "output_type": "stream",
     "text": [
      "100%|███████████████████████████████████████████████████████████████████| 5/5 [01:38<00:00, 19.74s/it]\n"
     ]
    },
    {
     "name": "stdout",
     "output_type": "stream",
     "text": [
      "Val Loss: 1.287 Acc: 0.52\n",
      "Epoch 2\n"
     ]
    },
    {
     "name": "stderr",
     "output_type": "stream",
     "text": [
      "100%|█████████████████████████████████████████████████████████████████| 36/36 [03:55<00:00,  6.53s/it]\n"
     ]
    },
    {
     "name": "stdout",
     "output_type": "stream",
     "text": [
      "Train Loss: 1.259 Acc: 0.55\n"
     ]
    },
    {
     "name": "stderr",
     "output_type": "stream",
     "text": [
      "100%|███████████████████████████████████████████████████████████████████| 5/5 [01:49<00:00, 21.95s/it]\n"
     ]
    },
    {
     "name": "stdout",
     "output_type": "stream",
     "text": [
      "Val Loss: 1.228 Acc: 0.56\n",
      "Epoch 3\n"
     ]
    },
    {
     "name": "stderr",
     "output_type": "stream",
     "text": [
      "100%|█████████████████████████████████████████████████████████████████| 36/36 [03:51<00:00,  6.43s/it]\n"
     ]
    },
    {
     "name": "stdout",
     "output_type": "stream",
     "text": [
      "Train Loss: 1.225 Acc: 0.56\n"
     ]
    },
    {
     "name": "stderr",
     "output_type": "stream",
     "text": [
      "100%|███████████████████████████████████████████████████████████████████| 5/5 [01:38<00:00, 19.69s/it]\n"
     ]
    },
    {
     "name": "stdout",
     "output_type": "stream",
     "text": [
      "Val Loss: 1.238 Acc: 0.52\n",
      "Epoch 4\n"
     ]
    },
    {
     "name": "stderr",
     "output_type": "stream",
     "text": [
      "100%|█████████████████████████████████████████████████████████████████| 36/36 [04:02<00:00,  6.74s/it]\n"
     ]
    },
    {
     "name": "stdout",
     "output_type": "stream",
     "text": [
      "Train Loss: 1.201 Acc: 0.56\n"
     ]
    },
    {
     "name": "stderr",
     "output_type": "stream",
     "text": [
      "100%|███████████████████████████████████████████████████████████████████| 5/5 [01:37<00:00, 19.51s/it]\n"
     ]
    },
    {
     "name": "stdout",
     "output_type": "stream",
     "text": [
      "Val Loss: 1.215 Acc: 0.56\n",
      "Epoch 5\n"
     ]
    },
    {
     "name": "stderr",
     "output_type": "stream",
     "text": [
      "100%|█████████████████████████████████████████████████████████████████| 36/36 [03:48<00:00,  6.36s/it]\n"
     ]
    },
    {
     "name": "stdout",
     "output_type": "stream",
     "text": [
      "Train Loss: 1.172 Acc: 0.58\n"
     ]
    },
    {
     "name": "stderr",
     "output_type": "stream",
     "text": [
      "100%|███████████████████████████████████████████████████████████████████| 5/5 [01:38<00:00, 19.66s/it]\n"
     ]
    },
    {
     "name": "stdout",
     "output_type": "stream",
     "text": [
      "Val Loss: 1.252 Acc: 0.53\n",
      "Epoch 6\n"
     ]
    },
    {
     "name": "stderr",
     "output_type": "stream",
     "text": [
      "100%|█████████████████████████████████████████████████████████████████| 36/36 [03:49<00:00,  6.37s/it]\n"
     ]
    },
    {
     "name": "stdout",
     "output_type": "stream",
     "text": [
      "Train Loss: 1.149 Acc: 0.59\n"
     ]
    },
    {
     "name": "stderr",
     "output_type": "stream",
     "text": [
      "100%|███████████████████████████████████████████████████████████████████| 5/5 [01:38<00:00, 19.78s/it]\n"
     ]
    },
    {
     "name": "stdout",
     "output_type": "stream",
     "text": [
      "Val Loss: 1.154 Acc: 0.58\n",
      "Epoch 7\n"
     ]
    },
    {
     "name": "stderr",
     "output_type": "stream",
     "text": [
      "100%|█████████████████████████████████████████████████████████████████| 36/36 [03:46<00:00,  6.29s/it]\n"
     ]
    },
    {
     "name": "stdout",
     "output_type": "stream",
     "text": [
      "Train Loss: 1.118 Acc: 0.6\n"
     ]
    },
    {
     "name": "stderr",
     "output_type": "stream",
     "text": [
      "100%|███████████████████████████████████████████████████████████████████| 5/5 [01:39<00:00, 19.81s/it]\n"
     ]
    },
    {
     "name": "stdout",
     "output_type": "stream",
     "text": [
      "Val Loss: 1.125 Acc: 0.6\n",
      "Epoch 8\n"
     ]
    },
    {
     "name": "stderr",
     "output_type": "stream",
     "text": [
      "100%|█████████████████████████████████████████████████████████████████| 36/36 [03:50<00:00,  6.41s/it]\n"
     ]
    },
    {
     "name": "stdout",
     "output_type": "stream",
     "text": [
      "Train Loss: 1.082 Acc: 0.61\n"
     ]
    },
    {
     "name": "stderr",
     "output_type": "stream",
     "text": [
      "100%|███████████████████████████████████████████████████████████████████| 5/5 [01:41<00:00, 20.35s/it]\n"
     ]
    },
    {
     "name": "stdout",
     "output_type": "stream",
     "text": [
      "Val Loss: 1.037 Acc: 0.63\n",
      "Epoch 9\n"
     ]
    },
    {
     "name": "stderr",
     "output_type": "stream",
     "text": [
      "100%|█████████████████████████████████████████████████████████████████| 36/36 [03:49<00:00,  6.38s/it]\n"
     ]
    },
    {
     "name": "stdout",
     "output_type": "stream",
     "text": [
      "Train Loss: 1.015 Acc: 0.64\n"
     ]
    },
    {
     "name": "stderr",
     "output_type": "stream",
     "text": [
      "100%|███████████████████████████████████████████████████████████████████| 5/5 [01:37<00:00, 19.44s/it]"
     ]
    },
    {
     "name": "stdout",
     "output_type": "stream",
     "text": [
      "Val Loss: 1.003 Acc: 0.64\n"
     ]
    },
    {
     "name": "stderr",
     "output_type": "stream",
     "text": [
      "\n"
     ]
    }
   ],
   "source": [
    "for i in range(10):\n",
    "    print(f'Epoch {i}')\n",
    "    \n",
    "    train_loss, train_acc = train_epoch()\n",
    "    print(f'Train Loss: {round(train_loss, 3)} Acc: {round(train_acc, 2)}')\n",
    "    \n",
    "    val_loss, val_acc = val_epoch()\n",
    "    print(f'Val Loss: {round(val_loss, 3)} Acc: {round(val_acc, 2)}')"
   ]
  },
  {
   "cell_type": "code",
   "execution_count": 198,
   "id": "37479735-6047-4675-b956-765a0f71dd45",
   "metadata": {},
   "outputs": [
    {
     "name": "stdout",
     "output_type": "stream",
     "text": [
      "Epoch 10\n"
     ]
    },
    {
     "name": "stderr",
     "output_type": "stream",
     "text": [
      "100%|█████████████████████████████████████████████████████████████████| 36/36 [03:47<00:00,  6.32s/it]\n"
     ]
    },
    {
     "name": "stdout",
     "output_type": "stream",
     "text": [
      "Train Loss: 0.985 Acc: 0.64\n"
     ]
    },
    {
     "name": "stderr",
     "output_type": "stream",
     "text": [
      "100%|███████████████████████████████████████████████████████████████████| 5/5 [01:38<00:00, 19.69s/it]\n"
     ]
    },
    {
     "name": "stdout",
     "output_type": "stream",
     "text": [
      "Val Loss: 1.099 Acc: 0.61\n",
      "Epoch 11\n"
     ]
    },
    {
     "name": "stderr",
     "output_type": "stream",
     "text": [
      "100%|█████████████████████████████████████████████████████████████████| 36/36 [03:50<00:00,  6.41s/it]\n"
     ]
    },
    {
     "name": "stdout",
     "output_type": "stream",
     "text": [
      "Train Loss: 0.966 Acc: 0.65\n"
     ]
    },
    {
     "name": "stderr",
     "output_type": "stream",
     "text": [
      "100%|███████████████████████████████████████████████████████████████████| 5/5 [01:41<00:00, 20.22s/it]\n"
     ]
    },
    {
     "name": "stdout",
     "output_type": "stream",
     "text": [
      "Val Loss: 0.947 Acc: 0.64\n",
      "Epoch 12\n"
     ]
    },
    {
     "name": "stderr",
     "output_type": "stream",
     "text": [
      "100%|█████████████████████████████████████████████████████████████████| 36/36 [03:56<00:00,  6.57s/it]\n"
     ]
    },
    {
     "name": "stdout",
     "output_type": "stream",
     "text": [
      "Train Loss: 0.917 Acc: 0.67\n"
     ]
    },
    {
     "name": "stderr",
     "output_type": "stream",
     "text": [
      "100%|███████████████████████████████████████████████████████████████████| 5/5 [01:35<00:00, 19.03s/it]\n"
     ]
    },
    {
     "name": "stdout",
     "output_type": "stream",
     "text": [
      "Val Loss: 0.908 Acc: 0.67\n",
      "Epoch 13\n"
     ]
    },
    {
     "name": "stderr",
     "output_type": "stream",
     "text": [
      "100%|█████████████████████████████████████████████████████████████████| 36/36 [04:03<00:00,  6.76s/it]\n"
     ]
    },
    {
     "name": "stdout",
     "output_type": "stream",
     "text": [
      "Train Loss: 0.879 Acc: 0.68\n"
     ]
    },
    {
     "name": "stderr",
     "output_type": "stream",
     "text": [
      "100%|███████████████████████████████████████████████████████████████████| 5/5 [01:36<00:00, 19.24s/it]\n"
     ]
    },
    {
     "name": "stdout",
     "output_type": "stream",
     "text": [
      "Val Loss: 0.869 Acc: 0.68\n",
      "Epoch 14\n"
     ]
    },
    {
     "name": "stderr",
     "output_type": "stream",
     "text": [
      "100%|█████████████████████████████████████████████████████████████████| 36/36 [03:54<00:00,  6.52s/it]\n"
     ]
    },
    {
     "name": "stdout",
     "output_type": "stream",
     "text": [
      "Train Loss: 0.832 Acc: 0.69\n"
     ]
    },
    {
     "name": "stderr",
     "output_type": "stream",
     "text": [
      "100%|███████████████████████████████████████████████████████████████████| 5/5 [01:43<00:00, 20.61s/it]\n"
     ]
    },
    {
     "name": "stdout",
     "output_type": "stream",
     "text": [
      "Val Loss: 0.908 Acc: 0.67\n",
      "Epoch 15\n"
     ]
    },
    {
     "name": "stderr",
     "output_type": "stream",
     "text": [
      "100%|█████████████████████████████████████████████████████████████████| 36/36 [03:59<00:00,  6.67s/it]\n"
     ]
    },
    {
     "name": "stdout",
     "output_type": "stream",
     "text": [
      "Train Loss: 0.82 Acc: 0.71\n"
     ]
    },
    {
     "name": "stderr",
     "output_type": "stream",
     "text": [
      "100%|███████████████████████████████████████████████████████████████████| 5/5 [01:39<00:00, 19.84s/it]\n"
     ]
    },
    {
     "name": "stdout",
     "output_type": "stream",
     "text": [
      "Val Loss: 0.887 Acc: 0.68\n",
      "Epoch 16\n"
     ]
    },
    {
     "name": "stderr",
     "output_type": "stream",
     "text": [
      "100%|█████████████████████████████████████████████████████████████████| 36/36 [03:52<00:00,  6.45s/it]\n"
     ]
    },
    {
     "name": "stdout",
     "output_type": "stream",
     "text": [
      "Train Loss: 0.792 Acc: 0.71\n"
     ]
    },
    {
     "name": "stderr",
     "output_type": "stream",
     "text": [
      "100%|███████████████████████████████████████████████████████████████████| 5/5 [01:39<00:00, 19.81s/it]\n"
     ]
    },
    {
     "name": "stdout",
     "output_type": "stream",
     "text": [
      "Val Loss: 0.918 Acc: 0.69\n",
      "Epoch 17\n"
     ]
    },
    {
     "name": "stderr",
     "output_type": "stream",
     "text": [
      "100%|█████████████████████████████████████████████████████████████████| 36/36 [03:49<00:00,  6.38s/it]\n"
     ]
    },
    {
     "name": "stdout",
     "output_type": "stream",
     "text": [
      "Train Loss: 0.789 Acc: 0.72\n"
     ]
    },
    {
     "name": "stderr",
     "output_type": "stream",
     "text": [
      "100%|███████████████████████████████████████████████████████████████████| 5/5 [01:39<00:00, 19.97s/it]\n"
     ]
    },
    {
     "name": "stdout",
     "output_type": "stream",
     "text": [
      "Val Loss: 0.795 Acc: 0.72\n",
      "Epoch 18\n"
     ]
    },
    {
     "name": "stderr",
     "output_type": "stream",
     "text": [
      "100%|█████████████████████████████████████████████████████████████████| 36/36 [03:50<00:00,  6.39s/it]\n"
     ]
    },
    {
     "name": "stdout",
     "output_type": "stream",
     "text": [
      "Train Loss: 0.755 Acc: 0.73\n"
     ]
    },
    {
     "name": "stderr",
     "output_type": "stream",
     "text": [
      "100%|███████████████████████████████████████████████████████████████████| 5/5 [01:41<00:00, 20.24s/it]\n"
     ]
    },
    {
     "name": "stdout",
     "output_type": "stream",
     "text": [
      "Val Loss: 0.872 Acc: 0.7\n",
      "Epoch 19\n"
     ]
    },
    {
     "name": "stderr",
     "output_type": "stream",
     "text": [
      "100%|█████████████████████████████████████████████████████████████████| 36/36 [03:53<00:00,  6.48s/it]\n"
     ]
    },
    {
     "name": "stdout",
     "output_type": "stream",
     "text": [
      "Train Loss: 0.769 Acc: 0.73\n"
     ]
    },
    {
     "name": "stderr",
     "output_type": "stream",
     "text": [
      "100%|███████████████████████████████████████████████████████████████████| 5/5 [01:42<00:00, 20.42s/it]\n"
     ]
    },
    {
     "name": "stdout",
     "output_type": "stream",
     "text": [
      "Val Loss: 0.794 Acc: 0.72\n",
      "Epoch 20\n"
     ]
    },
    {
     "name": "stderr",
     "output_type": "stream",
     "text": [
      "100%|█████████████████████████████████████████████████████████████████| 36/36 [03:58<00:00,  6.61s/it]\n"
     ]
    },
    {
     "name": "stdout",
     "output_type": "stream",
     "text": [
      "Train Loss: 0.755 Acc: 0.73\n"
     ]
    },
    {
     "name": "stderr",
     "output_type": "stream",
     "text": [
      "100%|███████████████████████████████████████████████████████████████████| 5/5 [01:37<00:00, 19.56s/it]\n"
     ]
    },
    {
     "name": "stdout",
     "output_type": "stream",
     "text": [
      "Val Loss: 0.814 Acc: 0.7\n",
      "Epoch 21\n"
     ]
    },
    {
     "name": "stderr",
     "output_type": "stream",
     "text": [
      "100%|█████████████████████████████████████████████████████████████████| 36/36 [03:49<00:00,  6.38s/it]\n"
     ]
    },
    {
     "name": "stdout",
     "output_type": "stream",
     "text": [
      "Train Loss: 0.733 Acc: 0.73\n"
     ]
    },
    {
     "name": "stderr",
     "output_type": "stream",
     "text": [
      "100%|███████████████████████████████████████████████████████████████████| 5/5 [01:35<00:00, 19.02s/it]\n"
     ]
    },
    {
     "name": "stdout",
     "output_type": "stream",
     "text": [
      "Val Loss: 0.769 Acc: 0.73\n",
      "Epoch 22\n"
     ]
    },
    {
     "name": "stderr",
     "output_type": "stream",
     "text": [
      "100%|█████████████████████████████████████████████████████████████████| 36/36 [03:47<00:00,  6.33s/it]\n"
     ]
    },
    {
     "name": "stdout",
     "output_type": "stream",
     "text": [
      "Train Loss: 0.726 Acc: 0.74\n"
     ]
    },
    {
     "name": "stderr",
     "output_type": "stream",
     "text": [
      "100%|███████████████████████████████████████████████████████████████████| 5/5 [01:38<00:00, 19.64s/it]\n"
     ]
    },
    {
     "name": "stdout",
     "output_type": "stream",
     "text": [
      "Val Loss: 0.772 Acc: 0.73\n",
      "Epoch 23\n"
     ]
    },
    {
     "name": "stderr",
     "output_type": "stream",
     "text": [
      "100%|█████████████████████████████████████████████████████████████████| 36/36 [03:50<00:00,  6.40s/it]\n"
     ]
    },
    {
     "name": "stdout",
     "output_type": "stream",
     "text": [
      "Train Loss: 0.715 Acc: 0.74\n"
     ]
    },
    {
     "name": "stderr",
     "output_type": "stream",
     "text": [
      "100%|███████████████████████████████████████████████████████████████████| 5/5 [01:36<00:00, 19.36s/it]\n"
     ]
    },
    {
     "name": "stdout",
     "output_type": "stream",
     "text": [
      "Val Loss: 0.783 Acc: 0.72\n",
      "Epoch 24\n"
     ]
    },
    {
     "name": "stderr",
     "output_type": "stream",
     "text": [
      "100%|█████████████████████████████████████████████████████████████████| 36/36 [03:51<00:00,  6.43s/it]\n"
     ]
    },
    {
     "name": "stdout",
     "output_type": "stream",
     "text": [
      "Train Loss: 0.697 Acc: 0.75\n"
     ]
    },
    {
     "name": "stderr",
     "output_type": "stream",
     "text": [
      "100%|███████████████████████████████████████████████████████████████████| 5/5 [01:36<00:00, 19.39s/it]\n"
     ]
    },
    {
     "name": "stdout",
     "output_type": "stream",
     "text": [
      "Val Loss: 0.752 Acc: 0.72\n",
      "Epoch 25\n"
     ]
    },
    {
     "name": "stderr",
     "output_type": "stream",
     "text": [
      "100%|█████████████████████████████████████████████████████████████████| 36/36 [03:59<00:00,  6.64s/it]\n"
     ]
    },
    {
     "name": "stdout",
     "output_type": "stream",
     "text": [
      "Train Loss: 0.69 Acc: 0.75\n"
     ]
    },
    {
     "name": "stderr",
     "output_type": "stream",
     "text": [
      "100%|███████████████████████████████████████████████████████████████████| 5/5 [01:35<00:00, 19.16s/it]\n"
     ]
    },
    {
     "name": "stdout",
     "output_type": "stream",
     "text": [
      "Val Loss: 0.811 Acc: 0.72\n",
      "Epoch 26\n"
     ]
    },
    {
     "name": "stderr",
     "output_type": "stream",
     "text": [
      "100%|█████████████████████████████████████████████████████████████████| 36/36 [03:48<00:00,  6.34s/it]\n"
     ]
    },
    {
     "name": "stdout",
     "output_type": "stream",
     "text": [
      "Train Loss: 0.697 Acc: 0.75\n"
     ]
    },
    {
     "name": "stderr",
     "output_type": "stream",
     "text": [
      "100%|███████████████████████████████████████████████████████████████████| 5/5 [01:36<00:00, 19.34s/it]\n"
     ]
    },
    {
     "name": "stdout",
     "output_type": "stream",
     "text": [
      "Val Loss: 0.94 Acc: 0.67\n",
      "Epoch 27\n"
     ]
    },
    {
     "name": "stderr",
     "output_type": "stream",
     "text": [
      "100%|█████████████████████████████████████████████████████████████████| 36/36 [03:49<00:00,  6.38s/it]\n"
     ]
    },
    {
     "name": "stdout",
     "output_type": "stream",
     "text": [
      "Train Loss: 0.685 Acc: 0.75\n"
     ]
    },
    {
     "name": "stderr",
     "output_type": "stream",
     "text": [
      "100%|███████████████████████████████████████████████████████████████████| 5/5 [01:34<00:00, 18.94s/it]\n"
     ]
    },
    {
     "name": "stdout",
     "output_type": "stream",
     "text": [
      "Val Loss: 0.743 Acc: 0.73\n",
      "Epoch 28\n"
     ]
    },
    {
     "name": "stderr",
     "output_type": "stream",
     "text": [
      "100%|█████████████████████████████████████████████████████████████████| 36/36 [03:52<00:00,  6.45s/it]\n"
     ]
    },
    {
     "name": "stdout",
     "output_type": "stream",
     "text": [
      "Train Loss: 0.658 Acc: 0.76\n"
     ]
    },
    {
     "name": "stderr",
     "output_type": "stream",
     "text": [
      "100%|███████████████████████████████████████████████████████████████████| 5/5 [01:38<00:00, 19.74s/it]\n"
     ]
    },
    {
     "name": "stdout",
     "output_type": "stream",
     "text": [
      "Val Loss: 0.762 Acc: 0.72\n",
      "Epoch 29\n"
     ]
    },
    {
     "name": "stderr",
     "output_type": "stream",
     "text": [
      "100%|█████████████████████████████████████████████████████████████████| 36/36 [03:56<00:00,  6.58s/it]\n"
     ]
    },
    {
     "name": "stdout",
     "output_type": "stream",
     "text": [
      "Train Loss: 0.652 Acc: 0.76\n"
     ]
    },
    {
     "name": "stderr",
     "output_type": "stream",
     "text": [
      "100%|███████████████████████████████████████████████████████████████████| 5/5 [01:35<00:00, 19.04s/it]\n"
     ]
    },
    {
     "name": "stdout",
     "output_type": "stream",
     "text": [
      "Val Loss: 0.783 Acc: 0.72\n",
      "Epoch 30\n"
     ]
    },
    {
     "name": "stderr",
     "output_type": "stream",
     "text": [
      "100%|█████████████████████████████████████████████████████████████████| 36/36 [03:51<00:00,  6.44s/it]\n"
     ]
    },
    {
     "name": "stdout",
     "output_type": "stream",
     "text": [
      "Train Loss: 0.652 Acc: 0.76\n"
     ]
    },
    {
     "name": "stderr",
     "output_type": "stream",
     "text": [
      "100%|███████████████████████████████████████████████████████████████████| 5/5 [01:36<00:00, 19.37s/it]\n"
     ]
    },
    {
     "name": "stdout",
     "output_type": "stream",
     "text": [
      "Val Loss: 0.794 Acc: 0.71\n",
      "Epoch 31\n"
     ]
    },
    {
     "name": "stderr",
     "output_type": "stream",
     "text": [
      "100%|█████████████████████████████████████████████████████████████████| 36/36 [03:48<00:00,  6.34s/it]\n"
     ]
    },
    {
     "name": "stdout",
     "output_type": "stream",
     "text": [
      "Train Loss: 0.637 Acc: 0.77\n"
     ]
    },
    {
     "name": "stderr",
     "output_type": "stream",
     "text": [
      "100%|███████████████████████████████████████████████████████████████████| 5/5 [01:40<00:00, 20.11s/it]\n"
     ]
    },
    {
     "name": "stdout",
     "output_type": "stream",
     "text": [
      "Val Loss: 0.738 Acc: 0.74\n",
      "Epoch 32\n"
     ]
    },
    {
     "name": "stderr",
     "output_type": "stream",
     "text": [
      "100%|█████████████████████████████████████████████████████████████████| 36/36 [03:55<00:00,  6.56s/it]\n"
     ]
    },
    {
     "name": "stdout",
     "output_type": "stream",
     "text": [
      "Train Loss: 0.62 Acc: 0.77\n"
     ]
    },
    {
     "name": "stderr",
     "output_type": "stream",
     "text": [
      "100%|███████████████████████████████████████████████████████████████████| 5/5 [01:38<00:00, 19.79s/it]\n"
     ]
    },
    {
     "name": "stdout",
     "output_type": "stream",
     "text": [
      "Val Loss: 0.736 Acc: 0.74\n",
      "Epoch 33\n"
     ]
    },
    {
     "name": "stderr",
     "output_type": "stream",
     "text": [
      " 44%|████████████████████████████▉                                    | 16/36 [01:44<01:03,  3.19s/it]Skipping line 145: expected 8 fields, saw 13\n",
      "\n",
      "100%|█████████████████████████████████████████████████████████████████| 36/36 [03:50<00:00,  6.39s/it]\n"
     ]
    },
    {
     "name": "stdout",
     "output_type": "stream",
     "text": [
      "Train Loss: 0.618 Acc: 0.77\n"
     ]
    },
    {
     "name": "stderr",
     "output_type": "stream",
     "text": [
      "100%|███████████████████████████████████████████████████████████████████| 5/5 [01:36<00:00, 19.30s/it]\n"
     ]
    },
    {
     "name": "stdout",
     "output_type": "stream",
     "text": [
      "Val Loss: 0.763 Acc: 0.72\n",
      "Epoch 34\n"
     ]
    },
    {
     "name": "stderr",
     "output_type": "stream",
     "text": [
      "100%|█████████████████████████████████████████████████████████████████| 36/36 [03:49<00:00,  6.39s/it]\n"
     ]
    },
    {
     "name": "stdout",
     "output_type": "stream",
     "text": [
      "Train Loss: 0.623 Acc: 0.77\n"
     ]
    },
    {
     "name": "stderr",
     "output_type": "stream",
     "text": [
      "100%|███████████████████████████████████████████████████████████████████| 5/5 [01:38<00:00, 19.69s/it]\n"
     ]
    },
    {
     "name": "stdout",
     "output_type": "stream",
     "text": [
      "Val Loss: 0.731 Acc: 0.74\n",
      "Epoch 35\n"
     ]
    },
    {
     "name": "stderr",
     "output_type": "stream",
     "text": [
      "100%|█████████████████████████████████████████████████████████████████| 36/36 [03:51<00:00,  6.42s/it]\n"
     ]
    },
    {
     "name": "stdout",
     "output_type": "stream",
     "text": [
      "Train Loss: 0.617 Acc: 0.78\n"
     ]
    },
    {
     "name": "stderr",
     "output_type": "stream",
     "text": [
      "100%|███████████████████████████████████████████████████████████████████| 5/5 [01:37<00:00, 19.57s/it]\n"
     ]
    },
    {
     "name": "stdout",
     "output_type": "stream",
     "text": [
      "Val Loss: 0.728 Acc: 0.74\n",
      "Epoch 36\n"
     ]
    },
    {
     "name": "stderr",
     "output_type": "stream",
     "text": [
      "100%|█████████████████████████████████████████████████████████████████| 36/36 [03:51<00:00,  6.43s/it]\n"
     ]
    },
    {
     "name": "stdout",
     "output_type": "stream",
     "text": [
      "Train Loss: 0.603 Acc: 0.78\n"
     ]
    },
    {
     "name": "stderr",
     "output_type": "stream",
     "text": [
      "100%|███████████████████████████████████████████████████████████████████| 5/5 [01:38<00:00, 19.64s/it]\n"
     ]
    },
    {
     "name": "stdout",
     "output_type": "stream",
     "text": [
      "Val Loss: 0.731 Acc: 0.74\n",
      "Epoch 37\n"
     ]
    },
    {
     "name": "stderr",
     "output_type": "stream",
     "text": [
      "100%|█████████████████████████████████████████████████████████████████| 36/36 [03:51<00:00,  6.43s/it]\n"
     ]
    },
    {
     "name": "stdout",
     "output_type": "stream",
     "text": [
      "Train Loss: 0.587 Acc: 0.78\n"
     ]
    },
    {
     "name": "stderr",
     "output_type": "stream",
     "text": [
      "100%|███████████████████████████████████████████████████████████████████| 5/5 [01:36<00:00, 19.38s/it]\n"
     ]
    },
    {
     "name": "stdout",
     "output_type": "stream",
     "text": [
      "Val Loss: 0.764 Acc: 0.73\n",
      "Epoch 38\n"
     ]
    },
    {
     "name": "stderr",
     "output_type": "stream",
     "text": [
      "100%|█████████████████████████████████████████████████████████████████| 36/36 [03:50<00:00,  6.40s/it]\n"
     ]
    },
    {
     "name": "stdout",
     "output_type": "stream",
     "text": [
      "Train Loss: 0.592 Acc: 0.78\n"
     ]
    },
    {
     "name": "stderr",
     "output_type": "stream",
     "text": [
      "100%|███████████████████████████████████████████████████████████████████| 5/5 [01:37<00:00, 19.54s/it]\n"
     ]
    },
    {
     "name": "stdout",
     "output_type": "stream",
     "text": [
      "Val Loss: 0.727 Acc: 0.74\n",
      "Epoch 39\n"
     ]
    },
    {
     "name": "stderr",
     "output_type": "stream",
     "text": [
      "100%|█████████████████████████████████████████████████████████████████| 36/36 [03:46<00:00,  6.29s/it]\n"
     ]
    },
    {
     "name": "stdout",
     "output_type": "stream",
     "text": [
      "Train Loss: 0.579 Acc: 0.79\n"
     ]
    },
    {
     "name": "stderr",
     "output_type": "stream",
     "text": [
      "100%|███████████████████████████████████████████████████████████████████| 5/5 [01:36<00:00, 19.30s/it]\n"
     ]
    },
    {
     "name": "stdout",
     "output_type": "stream",
     "text": [
      "Val Loss: 0.717 Acc: 0.74\n",
      "Epoch 40\n"
     ]
    },
    {
     "name": "stderr",
     "output_type": "stream",
     "text": [
      "100%|█████████████████████████████████████████████████████████████████| 36/36 [03:49<00:00,  6.39s/it]\n"
     ]
    },
    {
     "name": "stdout",
     "output_type": "stream",
     "text": [
      "Train Loss: 0.56 Acc: 0.8\n"
     ]
    },
    {
     "name": "stderr",
     "output_type": "stream",
     "text": [
      "100%|███████████████████████████████████████████████████████████████████| 5/5 [01:37<00:00, 19.54s/it]\n"
     ]
    },
    {
     "name": "stdout",
     "output_type": "stream",
     "text": [
      "Val Loss: 0.75 Acc: 0.74\n",
      "Epoch 41\n"
     ]
    },
    {
     "name": "stderr",
     "output_type": "stream",
     "text": [
      "100%|█████████████████████████████████████████████████████████████████| 36/36 [03:50<00:00,  6.40s/it]\n"
     ]
    },
    {
     "name": "stdout",
     "output_type": "stream",
     "text": [
      "Train Loss: 0.559 Acc: 0.79\n"
     ]
    },
    {
     "name": "stderr",
     "output_type": "stream",
     "text": [
      "100%|███████████████████████████████████████████████████████████████████| 5/5 [02:00<00:00, 24.15s/it]\n"
     ]
    },
    {
     "name": "stdout",
     "output_type": "stream",
     "text": [
      "Val Loss: 0.767 Acc: 0.73\n",
      "Epoch 42\n"
     ]
    },
    {
     "name": "stderr",
     "output_type": "stream",
     "text": [
      "100%|█████████████████████████████████████████████████████████████████| 36/36 [03:52<00:00,  6.46s/it]\n"
     ]
    },
    {
     "name": "stdout",
     "output_type": "stream",
     "text": [
      "Train Loss: 0.553 Acc: 0.8\n"
     ]
    },
    {
     "name": "stderr",
     "output_type": "stream",
     "text": [
      "100%|███████████████████████████████████████████████████████████████████| 5/5 [01:36<00:00, 19.32s/it]\n"
     ]
    },
    {
     "name": "stdout",
     "output_type": "stream",
     "text": [
      "Val Loss: 0.871 Acc: 0.69\n",
      "Epoch 43\n"
     ]
    },
    {
     "name": "stderr",
     "output_type": "stream",
     "text": [
      "100%|█████████████████████████████████████████████████████████████████| 36/36 [03:49<00:00,  6.36s/it]\n"
     ]
    },
    {
     "name": "stdout",
     "output_type": "stream",
     "text": [
      "Train Loss: 0.568 Acc: 0.79\n"
     ]
    },
    {
     "name": "stderr",
     "output_type": "stream",
     "text": [
      "100%|███████████████████████████████████████████████████████████████████| 5/5 [01:38<00:00, 19.61s/it]\n"
     ]
    },
    {
     "name": "stdout",
     "output_type": "stream",
     "text": [
      "Val Loss: 0.838 Acc: 0.7\n",
      "Epoch 44\n"
     ]
    },
    {
     "name": "stderr",
     "output_type": "stream",
     "text": [
      "100%|█████████████████████████████████████████████████████████████████| 36/36 [03:51<00:00,  6.44s/it]\n"
     ]
    },
    {
     "name": "stdout",
     "output_type": "stream",
     "text": [
      "Train Loss: 0.559 Acc: 0.79\n"
     ]
    },
    {
     "name": "stderr",
     "output_type": "stream",
     "text": [
      "100%|███████████████████████████████████████████████████████████████████| 5/5 [01:40<00:00, 20.11s/it]\n"
     ]
    },
    {
     "name": "stdout",
     "output_type": "stream",
     "text": [
      "Val Loss: 0.727 Acc: 0.75\n",
      "Epoch 45\n"
     ]
    },
    {
     "name": "stderr",
     "output_type": "stream",
     "text": [
      "100%|█████████████████████████████████████████████████████████████████| 36/36 [03:48<00:00,  6.35s/it]\n"
     ]
    },
    {
     "name": "stdout",
     "output_type": "stream",
     "text": [
      "Train Loss: 0.548 Acc: 0.8\n"
     ]
    },
    {
     "name": "stderr",
     "output_type": "stream",
     "text": [
      "100%|███████████████████████████████████████████████████████████████████| 5/5 [01:40<00:00, 20.05s/it]\n"
     ]
    },
    {
     "name": "stdout",
     "output_type": "stream",
     "text": [
      "Val Loss: 0.763 Acc: 0.73\n",
      "Epoch 46\n"
     ]
    },
    {
     "name": "stderr",
     "output_type": "stream",
     "text": [
      "100%|█████████████████████████████████████████████████████████████████| 36/36 [03:56<00:00,  6.57s/it]\n"
     ]
    },
    {
     "name": "stdout",
     "output_type": "stream",
     "text": [
      "Train Loss: 0.535 Acc: 0.8\n"
     ]
    },
    {
     "name": "stderr",
     "output_type": "stream",
     "text": [
      "100%|███████████████████████████████████████████████████████████████████| 5/5 [01:38<00:00, 19.73s/it]\n"
     ]
    },
    {
     "name": "stdout",
     "output_type": "stream",
     "text": [
      "Val Loss: 0.762 Acc: 0.74\n",
      "Epoch 47\n"
     ]
    },
    {
     "name": "stderr",
     "output_type": "stream",
     "text": [
      "100%|█████████████████████████████████████████████████████████████████| 36/36 [03:50<00:00,  6.40s/it]\n"
     ]
    },
    {
     "name": "stdout",
     "output_type": "stream",
     "text": [
      "Train Loss: 0.535 Acc: 0.8\n"
     ]
    },
    {
     "name": "stderr",
     "output_type": "stream",
     "text": [
      "100%|███████████████████████████████████████████████████████████████████| 5/5 [01:43<00:00, 20.78s/it]\n"
     ]
    },
    {
     "name": "stdout",
     "output_type": "stream",
     "text": [
      "Val Loss: 0.748 Acc: 0.75\n",
      "Epoch 48\n"
     ]
    },
    {
     "name": "stderr",
     "output_type": "stream",
     "text": [
      "100%|█████████████████████████████████████████████████████████████████| 36/36 [03:51<00:00,  6.43s/it]\n"
     ]
    },
    {
     "name": "stdout",
     "output_type": "stream",
     "text": [
      "Train Loss: 0.511 Acc: 0.81\n"
     ]
    },
    {
     "name": "stderr",
     "output_type": "stream",
     "text": [
      "100%|███████████████████████████████████████████████████████████████████| 5/5 [01:45<00:00, 21.17s/it]\n"
     ]
    },
    {
     "name": "stdout",
     "output_type": "stream",
     "text": [
      "Val Loss: 0.746 Acc: 0.75\n",
      "Epoch 49\n"
     ]
    },
    {
     "name": "stderr",
     "output_type": "stream",
     "text": [
      "100%|█████████████████████████████████████████████████████████████████| 36/36 [03:49<00:00,  6.38s/it]\n"
     ]
    },
    {
     "name": "stdout",
     "output_type": "stream",
     "text": [
      "Train Loss: 0.5 Acc: 0.82\n"
     ]
    },
    {
     "name": "stderr",
     "output_type": "stream",
     "text": [
      "100%|███████████████████████████████████████████████████████████████████| 5/5 [01:40<00:00, 20.16s/it]\n"
     ]
    },
    {
     "name": "stdout",
     "output_type": "stream",
     "text": [
      "Val Loss: 0.764 Acc: 0.75\n",
      "Epoch 50\n"
     ]
    },
    {
     "name": "stderr",
     "output_type": "stream",
     "text": [
      "100%|█████████████████████████████████████████████████████████████████| 36/36 [03:53<00:00,  6.49s/it]\n"
     ]
    },
    {
     "name": "stdout",
     "output_type": "stream",
     "text": [
      "Train Loss: 0.496 Acc: 0.82\n"
     ]
    },
    {
     "name": "stderr",
     "output_type": "stream",
     "text": [
      "100%|███████████████████████████████████████████████████████████████████| 5/5 [01:36<00:00, 19.27s/it]\n"
     ]
    },
    {
     "name": "stdout",
     "output_type": "stream",
     "text": [
      "Val Loss: 0.807 Acc: 0.74\n",
      "Epoch 51\n"
     ]
    },
    {
     "name": "stderr",
     "output_type": "stream",
     "text": [
      "100%|█████████████████████████████████████████████████████████████████| 36/36 [03:51<00:00,  6.43s/it]\n"
     ]
    },
    {
     "name": "stdout",
     "output_type": "stream",
     "text": [
      "Train Loss: 0.5 Acc: 0.81\n"
     ]
    },
    {
     "name": "stderr",
     "output_type": "stream",
     "text": [
      "100%|███████████████████████████████████████████████████████████████████| 5/5 [01:36<00:00, 19.30s/it]\n"
     ]
    },
    {
     "name": "stdout",
     "output_type": "stream",
     "text": [
      "Val Loss: 0.776 Acc: 0.75\n",
      "Epoch 52\n"
     ]
    },
    {
     "name": "stderr",
     "output_type": "stream",
     "text": [
      "100%|█████████████████████████████████████████████████████████████████| 36/36 [03:53<00:00,  6.49s/it]\n"
     ]
    },
    {
     "name": "stdout",
     "output_type": "stream",
     "text": [
      "Train Loss: 0.486 Acc: 0.82\n"
     ]
    },
    {
     "name": "stderr",
     "output_type": "stream",
     "text": [
      "100%|███████████████████████████████████████████████████████████████████| 5/5 [01:37<00:00, 19.41s/it]\n"
     ]
    },
    {
     "name": "stdout",
     "output_type": "stream",
     "text": [
      "Val Loss: 0.845 Acc: 0.72\n",
      "Epoch 53\n"
     ]
    },
    {
     "name": "stderr",
     "output_type": "stream",
     "text": [
      "100%|█████████████████████████████████████████████████████████████████| 36/36 [03:47<00:00,  6.33s/it]\n"
     ]
    },
    {
     "name": "stdout",
     "output_type": "stream",
     "text": [
      "Train Loss: 0.487 Acc: 0.82\n"
     ]
    },
    {
     "name": "stderr",
     "output_type": "stream",
     "text": [
      "100%|███████████████████████████████████████████████████████████████████| 5/5 [01:36<00:00, 19.26s/it]\n"
     ]
    },
    {
     "name": "stdout",
     "output_type": "stream",
     "text": [
      "Val Loss: 0.795 Acc: 0.73\n",
      "Epoch 54\n"
     ]
    },
    {
     "name": "stderr",
     "output_type": "stream",
     "text": [
      "100%|█████████████████████████████████████████████████████████████████| 36/36 [03:54<00:00,  6.52s/it]\n"
     ]
    },
    {
     "name": "stdout",
     "output_type": "stream",
     "text": [
      "Train Loss: 0.477 Acc: 0.82\n"
     ]
    },
    {
     "name": "stderr",
     "output_type": "stream",
     "text": [
      "100%|███████████████████████████████████████████████████████████████████| 5/5 [01:40<00:00, 20.07s/it]\n"
     ]
    },
    {
     "name": "stdout",
     "output_type": "stream",
     "text": [
      "Val Loss: 0.823 Acc: 0.74\n",
      "Epoch 55\n"
     ]
    },
    {
     "name": "stderr",
     "output_type": "stream",
     "text": [
      "100%|█████████████████████████████████████████████████████████████████| 36/36 [03:52<00:00,  6.47s/it]\n"
     ]
    },
    {
     "name": "stdout",
     "output_type": "stream",
     "text": [
      "Train Loss: 0.469 Acc: 0.82\n"
     ]
    },
    {
     "name": "stderr",
     "output_type": "stream",
     "text": [
      "100%|███████████████████████████████████████████████████████████████████| 5/5 [01:39<00:00, 19.89s/it]\n"
     ]
    },
    {
     "name": "stdout",
     "output_type": "stream",
     "text": [
      "Val Loss: 0.79 Acc: 0.74\n",
      "Epoch 56\n"
     ]
    },
    {
     "name": "stderr",
     "output_type": "stream",
     "text": [
      "100%|█████████████████████████████████████████████████████████████████| 36/36 [03:52<00:00,  6.47s/it]\n"
     ]
    },
    {
     "name": "stdout",
     "output_type": "stream",
     "text": [
      "Train Loss: 0.453 Acc: 0.83\n"
     ]
    },
    {
     "name": "stderr",
     "output_type": "stream",
     "text": [
      "100%|███████████████████████████████████████████████████████████████████| 5/5 [01:38<00:00, 19.61s/it]\n"
     ]
    },
    {
     "name": "stdout",
     "output_type": "stream",
     "text": [
      "Val Loss: 0.8 Acc: 0.74\n",
      "Epoch 57\n"
     ]
    },
    {
     "name": "stderr",
     "output_type": "stream",
     "text": [
      "100%|█████████████████████████████████████████████████████████████████| 36/36 [03:53<00:00,  6.49s/it]\n"
     ]
    },
    {
     "name": "stdout",
     "output_type": "stream",
     "text": [
      "Train Loss: 0.452 Acc: 0.83\n"
     ]
    },
    {
     "name": "stderr",
     "output_type": "stream",
     "text": [
      "100%|███████████████████████████████████████████████████████████████████| 5/5 [01:40<00:00, 20.03s/it]\n"
     ]
    },
    {
     "name": "stdout",
     "output_type": "stream",
     "text": [
      "Val Loss: 0.834 Acc: 0.74\n",
      "Epoch 58\n"
     ]
    },
    {
     "name": "stderr",
     "output_type": "stream",
     "text": [
      "100%|█████████████████████████████████████████████████████████████████| 36/36 [03:53<00:00,  6.48s/it]\n"
     ]
    },
    {
     "name": "stdout",
     "output_type": "stream",
     "text": [
      "Train Loss: 0.456 Acc: 0.83\n"
     ]
    },
    {
     "name": "stderr",
     "output_type": "stream",
     "text": [
      "100%|███████████████████████████████████████████████████████████████████| 5/5 [01:37<00:00, 19.49s/it]\n"
     ]
    },
    {
     "name": "stdout",
     "output_type": "stream",
     "text": [
      "Val Loss: 0.839 Acc: 0.74\n",
      "Epoch 59\n"
     ]
    },
    {
     "name": "stderr",
     "output_type": "stream",
     "text": [
      "100%|█████████████████████████████████████████████████████████████████| 36/36 [03:51<00:00,  6.44s/it]\n"
     ]
    },
    {
     "name": "stdout",
     "output_type": "stream",
     "text": [
      "Train Loss: 0.441 Acc: 0.84\n"
     ]
    },
    {
     "name": "stderr",
     "output_type": "stream",
     "text": [
      "100%|███████████████████████████████████████████████████████████████████| 5/5 [01:37<00:00, 19.55s/it]\n"
     ]
    },
    {
     "name": "stdout",
     "output_type": "stream",
     "text": [
      "Val Loss: 0.888 Acc: 0.72\n",
      "Epoch 60\n"
     ]
    },
    {
     "name": "stderr",
     "output_type": "stream",
     "text": [
      "100%|█████████████████████████████████████████████████████████████████| 36/36 [03:52<00:00,  6.46s/it]\n"
     ]
    },
    {
     "name": "stdout",
     "output_type": "stream",
     "text": [
      "Train Loss: 0.455 Acc: 0.83\n"
     ]
    },
    {
     "name": "stderr",
     "output_type": "stream",
     "text": [
      "100%|███████████████████████████████████████████████████████████████████| 5/5 [01:40<00:00, 20.19s/it]\n"
     ]
    },
    {
     "name": "stdout",
     "output_type": "stream",
     "text": [
      "Val Loss: 0.848 Acc: 0.74\n",
      "Epoch 61\n"
     ]
    },
    {
     "name": "stderr",
     "output_type": "stream",
     "text": [
      "100%|█████████████████████████████████████████████████████████████████| 36/36 [03:49<00:00,  6.37s/it]\n"
     ]
    },
    {
     "name": "stdout",
     "output_type": "stream",
     "text": [
      "Train Loss: 0.444 Acc: 0.83\n"
     ]
    },
    {
     "name": "stderr",
     "output_type": "stream",
     "text": [
      "100%|███████████████████████████████████████████████████████████████████| 5/5 [01:43<00:00, 20.64s/it]\n"
     ]
    },
    {
     "name": "stdout",
     "output_type": "stream",
     "text": [
      "Val Loss: 0.851 Acc: 0.74\n",
      "Epoch 62\n"
     ]
    },
    {
     "name": "stderr",
     "output_type": "stream",
     "text": [
      "100%|█████████████████████████████████████████████████████████████████| 36/36 [03:54<00:00,  6.52s/it]\n"
     ]
    },
    {
     "name": "stdout",
     "output_type": "stream",
     "text": [
      "Train Loss: 0.419 Acc: 0.84\n"
     ]
    },
    {
     "name": "stderr",
     "output_type": "stream",
     "text": [
      "100%|███████████████████████████████████████████████████████████████████| 5/5 [01:38<00:00, 19.67s/it]\n"
     ]
    },
    {
     "name": "stdout",
     "output_type": "stream",
     "text": [
      "Val Loss: 0.837 Acc: 0.75\n",
      "Epoch 63\n"
     ]
    },
    {
     "name": "stderr",
     "output_type": "stream",
     "text": [
      "100%|█████████████████████████████████████████████████████████████████| 36/36 [03:51<00:00,  6.44s/it]\n"
     ]
    },
    {
     "name": "stdout",
     "output_type": "stream",
     "text": [
      "Train Loss: 0.422 Acc: 0.84\n"
     ]
    },
    {
     "name": "stderr",
     "output_type": "stream",
     "text": [
      "100%|███████████████████████████████████████████████████████████████████| 5/5 [01:40<00:00, 20.03s/it]\n"
     ]
    },
    {
     "name": "stdout",
     "output_type": "stream",
     "text": [
      "Val Loss: 0.864 Acc: 0.74\n",
      "Epoch 64\n"
     ]
    },
    {
     "name": "stderr",
     "output_type": "stream",
     "text": [
      "100%|█████████████████████████████████████████████████████████████████| 36/36 [03:54<00:00,  6.52s/it]\n"
     ]
    },
    {
     "name": "stdout",
     "output_type": "stream",
     "text": [
      "Train Loss: 0.428 Acc: 0.84\n"
     ]
    },
    {
     "name": "stderr",
     "output_type": "stream",
     "text": [
      "100%|███████████████████████████████████████████████████████████████████| 5/5 [01:38<00:00, 19.72s/it]\n"
     ]
    },
    {
     "name": "stdout",
     "output_type": "stream",
     "text": [
      "Val Loss: 0.884 Acc: 0.74\n",
      "Epoch 65\n"
     ]
    },
    {
     "name": "stderr",
     "output_type": "stream",
     "text": [
      "100%|█████████████████████████████████████████████████████████████████| 36/36 [03:57<00:00,  6.59s/it]\n"
     ]
    },
    {
     "name": "stdout",
     "output_type": "stream",
     "text": [
      "Train Loss: 0.412 Acc: 0.85\n"
     ]
    },
    {
     "name": "stderr",
     "output_type": "stream",
     "text": [
      "100%|███████████████████████████████████████████████████████████████████| 5/5 [01:36<00:00, 19.38s/it]\n"
     ]
    },
    {
     "name": "stdout",
     "output_type": "stream",
     "text": [
      "Val Loss: 0.886 Acc: 0.74\n",
      "Epoch 66\n"
     ]
    },
    {
     "name": "stderr",
     "output_type": "stream",
     "text": [
      "100%|█████████████████████████████████████████████████████████████████| 36/36 [03:51<00:00,  6.44s/it]\n"
     ]
    },
    {
     "name": "stdout",
     "output_type": "stream",
     "text": [
      "Train Loss: 0.395 Acc: 0.85\n"
     ]
    },
    {
     "name": "stderr",
     "output_type": "stream",
     "text": [
      "100%|███████████████████████████████████████████████████████████████████| 5/5 [01:40<00:00, 20.08s/it]\n"
     ]
    },
    {
     "name": "stdout",
     "output_type": "stream",
     "text": [
      "Val Loss: 0.937 Acc: 0.71\n",
      "Epoch 67\n"
     ]
    },
    {
     "name": "stderr",
     "output_type": "stream",
     "text": [
      " 22%|██████████████▋                                                   | 8/36 [00:54<01:29,  3.21s/it]"
     ]
    },
    {
     "name": "stdout",
     "output_type": "stream",
     "text": [
      "['2.85000' '2.79500' '2.81200' '2.69100' '2.64400' '2.62600' '2.59900'\n",
      " '2.53800' '2.50700' '2.63900' '2.89600' '2.59700' '2.62700' '2.61900'\n",
      " '2.60900' '2.52300' '2.51000' '2.58800' '2.55200' '2.56300' '2.61300'\n",
      " '2.62800' '2.67900' '2.69500' '2.61900' '2.59600' '2.76600' '2.82500'\n",
      " '2.80100' '2.74500' '2.70700' '2.85700' '2.72000' '2.60400' '2.93800'\n",
      " '2.60200' '2.85700' '2.82900' '2.64200' '2.73700' '3.04200' '2.99100'\n",
      " '3.06300' '2.87800' '2.91500' '2.86400' '2.89600' '2.59900' '2.57800'\n",
      " '3.43700' '3.21300' '3.11500' '2.93000' '3.05200' '2.92300' '2.61700'\n",
      " '2.73500' '2.89500' '2.92100' '3.05700' '2.82700' '2.91100' '2.69800'\n",
      " '2.88900' '2.71100' '2.89600' '2.99300' '2.91600' '2.83000' '2.86900'\n",
      " '2.75500' '2.82100' '2.77200' '2.87200' '2.85300' '2.82700' '2.88700'\n",
      " '2.78700' '2.76200' '2.74600' '2.78500' '2.62600' '2.70000' '2.64800'\n",
      " '2.63900' '2.81000' '2.45100' '2.63700' '3.00400' '2.67900' '2.70300'\n",
      " '2.72900' '2.80700' '2.69300' '2.94300' '2.76900' '2.82300' '3.00000'\n",
      " '2.82800' '2.86000' '2.73900' '2.54800' '2.66200' '2.78400' '2.68800'\n",
      " '2.81500' '3.10500' '3.07600' '3.01700' '2.91000' '3.04000' '2.86600'\n",
      " '2.90000' '2.85900' '2.77600' '2.77300' '2.87100' '2.66200' '2.58500'\n",
      " '2.99700' '2.94300' '2.93800' '2.78000' '2.75400' '2.85800' '2.80300'\n",
      " '2.81800' '3.11800' '3.02000' '3.04400' '2.84400' '3.04700' '3.09800'\n",
      " '2.88600' '2.84800' '2.62400' '2.60400' '2.74700' '2.55700' '2.92000'\n",
      " '3.01000' '3.07100' '3.12200' '3.08800' '2.91800' '2.84900' '2.89900'\n",
      " '2.79200' '2.70400' '2.87500' '3.06600' '3.02800' '3.29300' '3.34700'\n",
      " '2.90500' '3.06900' '2.99000' '2.91100' '2.88100' '2.95200' '2.79400'\n",
      " '2.92900' '3.23200' '2.95600' '2.88600' '2.66500' '2.97900' '2.83500'\n",
      " '3.06200' '3.19400' '3.32600' '2.78900' '2.93500' '2.75800' '2.96800'\n",
      " '3.13700' '3.19000' '3.08300' '2.82900' '2.80500' '7.61400' '7.74900'\n",
      " '8.13200' '8.01000' '8.06900' '8.08000' '7.65600' '7.75800' '8.63000'\n",
      " '8.23200' '8.11900' '8.44500' '8.10100' '8.36100' '7.56600' '8.29900'\n",
      " '7.87900' '7.91700' '8.41400' '7.94100' '8.39700' '8.25100' '7.67600'\n",
      " '8.11000' '7.88000' '7.84600' '7.75000' '7.39000' '7.41100' '7.69100'\n",
      " '7.23100' '7.47000' '7.46200' '7.48500' '7.32800' '7.65500' '7.12500'\n",
      " '7.25600' '7.25900' '7.43800' '7.34300' '7.28100' '7.39200' '7.56400'\n",
      " '7.20700' '7.79000' '6.98000' '7.34100' '7.36400' '7.50000' '7.55400'\n",
      " '7.38300' '7.28700' '7.27500' '7.69500' '7.43900' '7.27400' '7.09700'\n",
      " '7.49400' '7.61200' '7.71600' '7.63300' '7.49600' '7.63600' '8.21800'\n",
      " '8.03700' '7.59800' '7.90200' '7.93500' '7.90700' '7.89900' '7.53100'\n",
      " '7.83100' '7.54300' '7.89200' '7.70700' '7.37700' '7.91600' '7.38700'\n",
      " '7.48100' '7.24100' '7.49800' '7.47400' '7.21700' '7.91000' '7.13600'\n",
      " '7.42100' '7.40300' '7.58400' '7.55200' '7.38100' '6.92100' '6.69300'\n",
      " '7.56100' '6.68100' '7.68600' '7.74400' '7.79700' '7.40400' '7.27400'\n",
      " '7.18200' '7.95200' '7.42100' '7.28200' '7.61900' '7.22300' '7.57800'\n",
      " '7.55200' '7.38200' '8.01700' '7.40400' '7.77600' '8.07700' '8.10200'\n",
      " '7.88200' '8.11000' '8.44600' '8.88000' '9.82200' '8.70000' '8.36900'\n",
      " '8.63300' '8.64700' '8.65600' '8.66100' '8.10700' '7.87400' '8.38400'\n",
      " '7.77700' '7.98700' '7.06100' '7.36400' '7.26200' '7.17900' '7.40600'\n",
      " '7.48600' '7.74500' '7.40200' '7.41100' '7.67800' '7.62500' '7.81700'\n",
      " '7.85000' '8.68900' '8.51900' '7.18700' 'flux' '6.61700' '6.64800'\n",
      " '6.66500' '6.97600' '7.23700' '6.75100' '6.58400' '7.08900' '7.08700'\n",
      " '7.04100' '7.04400' '7.13400' '7.02600' '7.01700' '7.13800' '6.93200'\n",
      " '7.10700' '7.15600' '7.24900' '6.87100' '6.89700' '6.62500' '6.42500'\n",
      " '6.62100' '6.60500' '6.67400' '6.66300' '7.14900' '6.98700' '7.11400'\n",
      " '7.34100' '6.89000' '7.03500' '6.91500' '6.73000' '6.57200' '6.34000'\n",
      " '6.45200' '6.19700' '6.62700' '6.55000' '6.57100' '6.58700' '6.59500'\n",
      " '6.03400' '6.73200' '6.24500' '6.15400' '6.02200' '5.63800' '5.63700'\n",
      " '5.83500' '5.99800' '6.00900' '6.26000' '6.02700' '5.90000' '5.83800'\n",
      " '5.49900' '5.85200' '6.10800' '5.98900' '6.39200' '6.39200' '6.50800'\n",
      " '6.49600' '5.97500' '6.43700' '6.19900' '6.61400' '6.57900' '6.53400'\n",
      " '6.50700' '6.69400' '6.82900' '6.59800' '6.50000' '6.99900' '7.00800'\n",
      " '6.96500' '7.15100' '6.63800' '6.65800' '6.94200' '6.99800' '6.97900'\n",
      " '6.92200' '6.78600' '6.91300' '6.70500' '6.51600' '6.59600' '6.52000'\n",
      " '6.38300' '6.59800' '6.12700' '6.09300' '6.36400' '6.88900' '6.69600'\n",
      " '7.07400' '6.95300' '6.97100' '7.05300' '6.80600' '7.03300' '6.15800'\n",
      " '6.40600' '6.51800' '6.56600' '6.48400' '6.27400' '6.35300' '6.46900'\n",
      " '6.58500' '6.22100' '6.40000' '6.42600' '6.84100' '6.51100' '6.56600'\n",
      " '6.94800' '6.31500' '6.87600' '6.66600' '6.89800' '6.85100' '6.89800'\n",
      " '6.89400' '6.85700' '6.95400' '6.25900' '6.23400' '6.58700' '6.55900'\n",
      " '6.39200' '6.43600' '6.82300' '6.57900' '6.86800' '7.01500' '6.95700'\n",
      " '6.93900' '7.11200' '7.06500' '6.97500' '6.97100' '7.11000' '7.08000'\n",
      " '7.30900' '6.96100' '6.87300' '6.71400' '6.71700' '6.79000' '6.47700'\n",
      " '6.39200' '5.90600' '5.80700' '6.20700' '6.14600' '6.11300' '5.77800'\n",
      " '6.16100' '6.14900' '6.28700' '5.95900' '6.30500' '6.25200' '6.66900'\n",
      " '6.92700' '7.07400' '7.04500' '6.96300' '6.78500' '6.99600' '6.81900'\n",
      " '6.23900' '6.52100' '6.31500' '6.10200' '5.91600' '6.17500' '6.06900'\n",
      " '6.07200' '5.76200' '6.07300' '5.81200' '5.72500' '6.15500' '6.02900'\n",
      " '6.03900' '6.11400' '5.59800' '5.20700' '5.21700' '5.83400' '6.06700'\n",
      " '6.29000' '6.19600' '7.24500' '7.12600' '6.84100' '6.42200' '6.30400'\n",
      " '6.27900' '6.44000' '6.86300' '7.42400' '7.08000' '6.95300' '6.24000'\n",
      " '6.36900' '6.42200' '6.09200' '6.92500' '6.62800' '7.45000' '6.59000'\n",
      " '6.53600' '6.74500' '6.41000' '6.13800' '6.24300' '5.70900' '5.66100'\n",
      " '6.39100' '6.60000' '6.83400' '6.50500' '6.64300' '6.73800' '6.94900'\n",
      " '6.93100' '7.05400' '7.08500' '6.69200' '6.74700' '6.62300' '6.72500'\n",
      " '6.19600' '6.43100' '6.44200' '6.10700' '6.42100' '6.46500' '6.53500'\n",
      " '6.66800' '6.46400' '6.06700' '6.83100' '6.61600' '6.73000' '6.94900'\n",
      " '6.98300' '6.76000' '6.19100' '6.53500' '6.47700' '6.14200' '6.33100'\n",
      " '6.38100' '6.30000' '5.97900' '6.50500' '6.36600' '6.04600' '6.42800'\n",
      " '6.40000' '6.70900' '6.21100' '6.53000' '6.53300' '6.63500' '6.60800'] <class 'numpy.ndarray'> ['0.12668' '0.12611' '0.12633' '0.12503' '0.12453' '0.12439' '0.12409'\n",
      " '0.12347' '0.12312' '0.12447' '0.12709' '0.12409' '0.12435' '0.12433'\n",
      " '0.12421' '0.12328' '0.12318' '0.12393' '0.12362' '0.12371' '0.12423'\n",
      " '0.12440' '0.12492' '0.12512' '0.12433' '0.12404' '0.12587' '0.12647'\n",
      " '0.12620' '0.12563' '0.12523' '0.12672' '0.12538' '0.12415' '0.12758'\n",
      " '0.12415' '0.12672' '0.12647' '0.12452' '0.12554' '0.12860' '0.12815'\n",
      " '0.12886' '0.12693' '0.12739' '0.12685' '0.12718' '0.12409' '0.12389'\n",
      " '0.13261' '0.13035' '0.12940' '0.12750' '0.12875' '0.12746' '0.12424'\n",
      " '0.12553' '0.12714' '0.12738' '0.12878' '0.12647' '0.12730' '0.12517'\n",
      " '0.12706' '0.12524' '0.12718' '0.12814' '0.12734' '0.12651' '0.12689'\n",
      " '0.12573' '0.12638' '0.12588' '0.12694' '0.12673' '0.12647' '0.12706'\n",
      " '0.12602' '0.12578' '0.12559' '0.12602' '0.12439' '0.12518' '0.12463'\n",
      " '0.12447' '0.12624' '0.12256' '0.12447' '0.12825' '0.12492' '0.12522'\n",
      " '0.12544' '0.12629' '0.12512' '0.12761' '0.12583' '0.12638' '0.12817'\n",
      " '0.12642' '0.12677' '0.12554' '0.12360' '0.12475' '0.12597' '0.12498'\n",
      " '0.12629' '0.12926' '0.12895' '0.12836' '0.12726' '0.12861' '0.12685'\n",
      " '0.12718' '0.12681' '0.12588' '0.12592' '0.12689' '0.12475' '0.12396'\n",
      " '0.12813' '0.12761' '0.12758' '0.12597' '0.12569' '0.12677' '0.12620'\n",
      " '0.12633' '0.12935' '0.12839' '0.12869' '0.12660' '0.12863' '0.12915'\n",
      " '0.12701' '0.12668' '0.12439' '0.12415' '0.12563' '0.12368' '0.12742'\n",
      " '0.12833' '0.12892' '0.12942' '0.12909' '0.12734' '0.12664' '0.12723'\n",
      " '0.12606' '0.12518' '0.12689' '0.12889' '0.12846' '0.13113' '0.13164'\n",
      " '0.12722' '0.12893' '0.12810' '0.12730' '0.12697' '0.12773' '0.12606'\n",
      " '0.12745' '0.13049' '0.12772' '0.12701' '0.12480' '0.12799' '0.12655'\n",
      " '0.12881' '0.13012' '0.13144' '0.12611' '0.12754' '0.12578' '0.12788'\n",
      " '0.12959' '0.13014' '0.12906' '0.12647' '0.12620' '0.17998' '0.18175'\n",
      " '0.18688' '0.18521' '0.18600' '0.18611' '0.18053' '0.18189' '0.19367'\n",
      " '0.18818' '0.18665' '0.19114' '0.18645' '0.18993' '0.17936' '0.18908'\n",
      " '0.18347' '0.18399' '0.19072' '0.18426' '0.19047' '0.18847' '0.18077'\n",
      " '0.18659' '0.18350' '0.18300' '0.18178' '0.17705' '0.17733' '0.18098'\n",
      " '0.17505' '0.17813' '0.17802' '0.17834' '0.17632' '0.18050' '0.17371'\n",
      " '0.17535' '0.17542' '0.17767' '0.17645' '0.17572' '0.17710' '0.17932'\n",
      " '0.17477' '0.18227' '0.17186' '0.17648' '0.17673' '0.17847' '0.17923'\n",
      " '0.17703' '0.17579' '0.17558' '0.18107' '0.17769' '0.17563' '0.17333'\n",
      " '0.17840' '0.17993' '0.18135' '0.18020' '0.17845' '0.18028' '0.18800'\n",
      " '0.18555' '0.17975' '0.18379' '0.18419' '0.18383' '0.18372' '0.17891'\n",
      " '0.18286' '0.17904' '0.18363' '0.18121' '0.17689' '0.18397' '0.17705'\n",
      " '0.17824' '0.17521' '0.17850' '0.17815' '0.17486' '0.18390' '0.17382'\n",
      " '0.17749' '0.17729' '0.17957' '0.17918' '0.17699' '0.17119' '0.16834'\n",
      " '0.17932' '0.16820' '0.18094' '0.18171' '0.18236' '0.17723' '0.17563'\n",
      " '0.17448' '0.18444' '0.17749' '0.17567' '0.18002' '0.17493' '0.17950'\n",
      " '0.17918' '0.17701' '0.18530' '0.17723' '0.18209' '0.18611' '0.18647'\n",
      " '0.18354' '0.18652' '0.19109' '0.19718' '0.21093' '0.19463' '0.19004'\n",
      " '0.19374' '0.19392' '0.19405' '0.19409' '0.18652' '0.18343' '0.19024'\n",
      " '0.18211' '0.18489' '0.17292' '0.17673' '0.17542' '0.17440' '0.17728'\n",
      " '0.17829' '0.18173' '0.17726' '0.17733' '0.18082' '0.18009' '0.18261'\n",
      " '0.18309' '0.19452' '0.19213' '0.17452' 'flux_err' '0.16738' '0.16777'\n",
      " '0.16804' '0.17184' '0.17512' '0.16909' '0.16703' '0.17329' '0.17324'\n",
      " '0.17266' '0.17273' '0.17385' '0.17245' '0.17238' '0.17387' '0.17130'\n",
      " '0.17350' '0.17407' '0.17525' '0.17058' '0.17083' '0.16751' '0.16506'\n",
      " '0.16749' '0.16724' '0.16811' '0.16799' '0.17398' '0.17195' '0.17359'\n",
      " '0.17648' '0.17081' '0.17259' '0.17112' '0.16880' '0.16689' '0.16409'\n",
      " '0.16543' '0.16241' '0.16756' '0.16657' '0.16686' '0.16703' '0.16715'\n",
      " '0.16050' '0.16885' '0.16293' '0.16186' '0.16034' '0.15587' '0.15585'\n",
      " '0.15815' '0.16004' '0.16016' '0.16315' '0.16039' '0.15891' '0.15815'\n",
      " '0.15429' '0.15836' '0.16130' '0.15996' '0.16470' '0.16470' '0.16606'\n",
      " '0.16591' '0.15975' '0.16521' '0.16238' '0.16739' '0.16698' '0.16640'\n",
      " '0.16611' '0.16837' '0.17000' '0.16714' '0.16602' '0.17209' '0.17224'\n",
      " '0.17173' '0.17403' '0.16768' '0.16794' '0.17139' '0.17215' '0.17191'\n",
      " '0.17113' '0.16949' '0.17107' '0.16849' '0.16618' '0.16717' '0.16629'\n",
      " '0.16455' '0.16722' '0.16156' '0.16115' '0.16439' '0.17079' '0.16842'\n",
      " '0.17308' '0.17159' '0.17179' '0.17280' '0.16975' '0.17254' '0.16188'\n",
      " '0.16490' '0.16623' '0.16681' '0.16585' '0.16327' '0.16426' '0.16563'\n",
      " '0.16705' '0.16263' '0.16483' '0.16509' '0.17015' '0.16614' '0.16681'\n",
      " '0.17146' '0.16377' '0.17062' '0.16798' '0.17085' '0.17032' '0.17085'\n",
      " '0.17083' '0.17039' '0.17161' '0.16313' '0.16280' '0.16703' '0.16672'\n",
      " '0.16470' '0.16527' '0.16993' '0.16698' '0.17050' '0.17233' '0.17161'\n",
      " '0.17140' '0.17354' '0.17294' '0.17182' '0.17179' '0.17349' '0.17315'\n",
      " '0.17602' '0.17163' '0.17055' '0.16863' '0.16863' '0.16951' '0.16575'\n",
      " '0.16470' '0.15899' '0.15781' '0.16251' '0.16181' '0.16135' '0.15753'\n",
      " '0.16196' '0.16181' '0.16345' '0.15958' '0.16367' '0.16303' '0.16806'\n",
      " '0.17126' '0.17308' '0.17268' '0.17168' '0.16946' '0.17210' '0.16991'\n",
      " '0.16285' '0.16623' '0.16377' '0.16123' '0.15909' '0.16208' '0.16085'\n",
      " '0.16093' '0.15734' '0.16095' '0.15786' '0.15692' '0.16188' '0.16045'\n",
      " '0.16055' '0.16138' '0.15544' '0.15110' '0.15113' '0.15813' '0.16088'\n",
      " '0.16345' '0.16238' '0.17523' '0.17373' '0.17015' '0.16507' '0.16365'\n",
      " '0.16332' '0.16529' '0.17046' '0.17756' '0.17315' '0.17159' '0.16288'\n",
      " '0.16443' '0.16507' '0.16113' '0.17121' '0.16758' '0.17788' '0.16710'\n",
      " '0.16645' '0.16901' '0.16492' '0.16168' '0.16296' '0.15673' '0.15617'\n",
      " '0.16468' '0.16719' '0.17005' '0.16606' '0.16772' '0.16892' '0.17149'\n",
      " '0.17128' '0.17282' '0.17319' '0.16832' '0.16899' '0.16746' '0.16875'\n",
      " '0.16238' '0.16514' '0.16534' '0.16128' '0.16504' '0.16561' '0.16643'\n",
      " '0.16803' '0.16558' '0.16088' '0.17005' '0.16744' '0.16880' '0.17149'\n",
      " '0.17193' '0.16915' '0.16233' '0.16643' '0.16575' '0.16170' '0.16394'\n",
      " '0.16458' '0.16362' '0.15986' '0.16606' '0.16436' '0.16057' '0.16514'\n",
      " '0.16483' '0.16851' '0.16253' '0.16638' '0.16638' '0.16768' '0.1673'] <class 'numpy.ndarray'>\n"
     ]
    },
    {
     "name": "stderr",
     "output_type": "stream",
     "text": [
      " 28%|██████████████████                                               | 10/36 [01:47<04:38, 10.73s/it]\n"
     ]
    },
    {
     "ename": "TypeError",
     "evalue": "Caught TypeError in DataLoader worker process 2.\nOriginal Traceback (most recent call last):\n  File \"/home/mrizhko/anaconda3/envs/period/lib/python3.10/site-packages/torch/utils/data/_utils/worker.py\", line 302, in _worker_loop\n    data = fetcher.fetch(index)\n  File \"/home/mrizhko/anaconda3/envs/period/lib/python3.10/site-packages/torch/utils/data/_utils/fetch.py\", line 49, in fetch\n    data = [self.dataset[idx] for idx in possibly_batched_index]\n  File \"/home/mrizhko/anaconda3/envs/period/lib/python3.10/site-packages/torch/utils/data/_utils/fetch.py\", line 49, in <listcomp>\n    data = [self.dataset[idx] for idx in possibly_batched_index]\n  File \"/tmp/ipykernel_3700739/2415286343.py\", line 9, in __getitem__\n    el = self.asassn_dataset[idx]\n  File \"/home/mrizhko/AML/AstroML/notebooks/../core/multimodal/dataset.py\", line 455, in __getitem__\n    return_dict[\"lcs\"] = self.get_light_curves(sources)\n  File \"/home/mrizhko/AML/AstroML/notebooks/../core/multimodal/dataset.py\", line 676, in get_light_curves\n    t, y, yerr, _, _, _, _, _ = clip_outliers(\n  File \"/home/mrizhko/AML/AstroML/notebooks/../util/preprocess_data.py\", line 47, in clip_outliers\n    mag0 = np.average(m, weights=1/merr)\nTypeError: unsupported operand type(s) for /: 'int' and 'str'\n",
     "output_type": "error",
     "traceback": [
      "\u001b[0;31m---------------------------------------------------------------------------\u001b[0m",
      "\u001b[0;31mTypeError\u001b[0m                                 Traceback (most recent call last)",
      "Cell \u001b[0;32mIn[198], line 4\u001b[0m\n\u001b[1;32m      1\u001b[0m \u001b[38;5;28;01mfor\u001b[39;00m i \u001b[38;5;129;01min\u001b[39;00m \u001b[38;5;28mrange\u001b[39m(\u001b[38;5;241m10\u001b[39m, \u001b[38;5;241m100\u001b[39m):\n\u001b[1;32m      2\u001b[0m     \u001b[38;5;28mprint\u001b[39m(\u001b[38;5;124mf\u001b[39m\u001b[38;5;124m'\u001b[39m\u001b[38;5;124mEpoch \u001b[39m\u001b[38;5;132;01m{\u001b[39;00mi\u001b[38;5;132;01m}\u001b[39;00m\u001b[38;5;124m'\u001b[39m)\n\u001b[0;32m----> 4\u001b[0m     train_loss, train_acc \u001b[38;5;241m=\u001b[39m \u001b[43mtrain_epoch\u001b[49m\u001b[43m(\u001b[49m\u001b[43m)\u001b[49m\n\u001b[1;32m      5\u001b[0m     \u001b[38;5;28mprint\u001b[39m(\u001b[38;5;124mf\u001b[39m\u001b[38;5;124m'\u001b[39m\u001b[38;5;124mTrain Loss: \u001b[39m\u001b[38;5;132;01m{\u001b[39;00m\u001b[38;5;28mround\u001b[39m(train_loss,\u001b[38;5;250m \u001b[39m\u001b[38;5;241m3\u001b[39m)\u001b[38;5;132;01m}\u001b[39;00m\u001b[38;5;124m Acc: \u001b[39m\u001b[38;5;132;01m{\u001b[39;00m\u001b[38;5;28mround\u001b[39m(train_acc,\u001b[38;5;250m \u001b[39m\u001b[38;5;241m2\u001b[39m)\u001b[38;5;132;01m}\u001b[39;00m\u001b[38;5;124m'\u001b[39m)\n\u001b[1;32m      7\u001b[0m     val_loss, val_acc \u001b[38;5;241m=\u001b[39m val_epoch()\n",
      "Cell \u001b[0;32mIn[195], line 7\u001b[0m, in \u001b[0;36mtrain_epoch\u001b[0;34m()\u001b[0m\n\u001b[1;32m      4\u001b[0m total_correct_predictions \u001b[38;5;241m=\u001b[39m \u001b[38;5;241m0\u001b[39m\n\u001b[1;32m      5\u001b[0m total_predictions \u001b[38;5;241m=\u001b[39m \u001b[38;5;241m0\u001b[39m\n\u001b[0;32m----> 7\u001b[0m \u001b[38;5;28;01mfor\u001b[39;00m fluxes, label \u001b[38;5;129;01min\u001b[39;00m tqdm(train_dataloader):\n\u001b[1;32m      8\u001b[0m     fluxes, label \u001b[38;5;241m=\u001b[39m fluxes\u001b[38;5;241m.\u001b[39mto(device), label\u001b[38;5;241m.\u001b[39mto(device)\n\u001b[1;32m     10\u001b[0m     optimizer\u001b[38;5;241m.\u001b[39mzero_grad()\n",
      "File \u001b[0;32m~/anaconda3/envs/period/lib/python3.10/site-packages/tqdm/std.py:1178\u001b[0m, in \u001b[0;36mtqdm.__iter__\u001b[0;34m(self)\u001b[0m\n\u001b[1;32m   1175\u001b[0m time \u001b[38;5;241m=\u001b[39m \u001b[38;5;28mself\u001b[39m\u001b[38;5;241m.\u001b[39m_time\n\u001b[1;32m   1177\u001b[0m \u001b[38;5;28;01mtry\u001b[39;00m:\n\u001b[0;32m-> 1178\u001b[0m     \u001b[38;5;28;01mfor\u001b[39;00m obj \u001b[38;5;129;01min\u001b[39;00m iterable:\n\u001b[1;32m   1179\u001b[0m         \u001b[38;5;28;01myield\u001b[39;00m obj\n\u001b[1;32m   1180\u001b[0m         \u001b[38;5;66;03m# Update and possibly print the progressbar.\u001b[39;00m\n\u001b[1;32m   1181\u001b[0m         \u001b[38;5;66;03m# Note: does not call self.update(1) for speed optimisation.\u001b[39;00m\n",
      "File \u001b[0;32m~/anaconda3/envs/period/lib/python3.10/site-packages/torch/utils/data/dataloader.py:681\u001b[0m, in \u001b[0;36m_BaseDataLoaderIter.__next__\u001b[0;34m(self)\u001b[0m\n\u001b[1;32m    678\u001b[0m \u001b[38;5;28;01mif\u001b[39;00m \u001b[38;5;28mself\u001b[39m\u001b[38;5;241m.\u001b[39m_sampler_iter \u001b[38;5;129;01mis\u001b[39;00m \u001b[38;5;28;01mNone\u001b[39;00m:\n\u001b[1;32m    679\u001b[0m     \u001b[38;5;66;03m# TODO(https://github.com/pytorch/pytorch/issues/76750)\u001b[39;00m\n\u001b[1;32m    680\u001b[0m     \u001b[38;5;28mself\u001b[39m\u001b[38;5;241m.\u001b[39m_reset()  \u001b[38;5;66;03m# type: ignore[call-arg]\u001b[39;00m\n\u001b[0;32m--> 681\u001b[0m data \u001b[38;5;241m=\u001b[39m \u001b[38;5;28;43mself\u001b[39;49m\u001b[38;5;241;43m.\u001b[39;49m\u001b[43m_next_data\u001b[49m\u001b[43m(\u001b[49m\u001b[43m)\u001b[49m\n\u001b[1;32m    682\u001b[0m \u001b[38;5;28mself\u001b[39m\u001b[38;5;241m.\u001b[39m_num_yielded \u001b[38;5;241m+\u001b[39m\u001b[38;5;241m=\u001b[39m \u001b[38;5;241m1\u001b[39m\n\u001b[1;32m    683\u001b[0m \u001b[38;5;28;01mif\u001b[39;00m \u001b[38;5;28mself\u001b[39m\u001b[38;5;241m.\u001b[39m_dataset_kind \u001b[38;5;241m==\u001b[39m _DatasetKind\u001b[38;5;241m.\u001b[39mIterable \u001b[38;5;129;01mand\u001b[39;00m \\\n\u001b[1;32m    684\u001b[0m         \u001b[38;5;28mself\u001b[39m\u001b[38;5;241m.\u001b[39m_IterableDataset_len_called \u001b[38;5;129;01mis\u001b[39;00m \u001b[38;5;129;01mnot\u001b[39;00m \u001b[38;5;28;01mNone\u001b[39;00m \u001b[38;5;129;01mand\u001b[39;00m \\\n\u001b[1;32m    685\u001b[0m         \u001b[38;5;28mself\u001b[39m\u001b[38;5;241m.\u001b[39m_num_yielded \u001b[38;5;241m>\u001b[39m \u001b[38;5;28mself\u001b[39m\u001b[38;5;241m.\u001b[39m_IterableDataset_len_called:\n",
      "File \u001b[0;32m~/anaconda3/envs/period/lib/python3.10/site-packages/torch/utils/data/dataloader.py:1356\u001b[0m, in \u001b[0;36m_MultiProcessingDataLoaderIter._next_data\u001b[0;34m(self)\u001b[0m\n\u001b[1;32m   1354\u001b[0m \u001b[38;5;28;01mif\u001b[39;00m \u001b[38;5;28mlen\u001b[39m(\u001b[38;5;28mself\u001b[39m\u001b[38;5;241m.\u001b[39m_task_info[\u001b[38;5;28mself\u001b[39m\u001b[38;5;241m.\u001b[39m_rcvd_idx]) \u001b[38;5;241m==\u001b[39m \u001b[38;5;241m2\u001b[39m:\n\u001b[1;32m   1355\u001b[0m     data \u001b[38;5;241m=\u001b[39m \u001b[38;5;28mself\u001b[39m\u001b[38;5;241m.\u001b[39m_task_info\u001b[38;5;241m.\u001b[39mpop(\u001b[38;5;28mself\u001b[39m\u001b[38;5;241m.\u001b[39m_rcvd_idx)[\u001b[38;5;241m1\u001b[39m]\n\u001b[0;32m-> 1356\u001b[0m     \u001b[38;5;28;01mreturn\u001b[39;00m \u001b[38;5;28;43mself\u001b[39;49m\u001b[38;5;241;43m.\u001b[39;49m\u001b[43m_process_data\u001b[49m\u001b[43m(\u001b[49m\u001b[43mdata\u001b[49m\u001b[43m)\u001b[49m\n\u001b[1;32m   1358\u001b[0m \u001b[38;5;28;01massert\u001b[39;00m \u001b[38;5;129;01mnot\u001b[39;00m \u001b[38;5;28mself\u001b[39m\u001b[38;5;241m.\u001b[39m_shutdown \u001b[38;5;129;01mand\u001b[39;00m \u001b[38;5;28mself\u001b[39m\u001b[38;5;241m.\u001b[39m_tasks_outstanding \u001b[38;5;241m>\u001b[39m \u001b[38;5;241m0\u001b[39m\n\u001b[1;32m   1359\u001b[0m idx, data \u001b[38;5;241m=\u001b[39m \u001b[38;5;28mself\u001b[39m\u001b[38;5;241m.\u001b[39m_get_data()\n",
      "File \u001b[0;32m~/anaconda3/envs/period/lib/python3.10/site-packages/torch/utils/data/dataloader.py:1402\u001b[0m, in \u001b[0;36m_MultiProcessingDataLoaderIter._process_data\u001b[0;34m(self, data)\u001b[0m\n\u001b[1;32m   1400\u001b[0m \u001b[38;5;28mself\u001b[39m\u001b[38;5;241m.\u001b[39m_try_put_index()\n\u001b[1;32m   1401\u001b[0m \u001b[38;5;28;01mif\u001b[39;00m \u001b[38;5;28misinstance\u001b[39m(data, ExceptionWrapper):\n\u001b[0;32m-> 1402\u001b[0m     \u001b[43mdata\u001b[49m\u001b[38;5;241;43m.\u001b[39;49m\u001b[43mreraise\u001b[49m\u001b[43m(\u001b[49m\u001b[43m)\u001b[49m\n\u001b[1;32m   1403\u001b[0m \u001b[38;5;28;01mreturn\u001b[39;00m data\n",
      "File \u001b[0;32m~/anaconda3/envs/period/lib/python3.10/site-packages/torch/_utils.py:461\u001b[0m, in \u001b[0;36mExceptionWrapper.reraise\u001b[0;34m(self)\u001b[0m\n\u001b[1;32m    457\u001b[0m \u001b[38;5;28;01mexcept\u001b[39;00m \u001b[38;5;167;01mTypeError\u001b[39;00m:\n\u001b[1;32m    458\u001b[0m     \u001b[38;5;66;03m# If the exception takes multiple arguments, don't try to\u001b[39;00m\n\u001b[1;32m    459\u001b[0m     \u001b[38;5;66;03m# instantiate since we don't know how to\u001b[39;00m\n\u001b[1;32m    460\u001b[0m     \u001b[38;5;28;01mraise\u001b[39;00m \u001b[38;5;167;01mRuntimeError\u001b[39;00m(msg) \u001b[38;5;28;01mfrom\u001b[39;00m \u001b[38;5;28;01mNone\u001b[39;00m\n\u001b[0;32m--> 461\u001b[0m \u001b[38;5;28;01mraise\u001b[39;00m exception\n",
      "\u001b[0;31mTypeError\u001b[0m: Caught TypeError in DataLoader worker process 2.\nOriginal Traceback (most recent call last):\n  File \"/home/mrizhko/anaconda3/envs/period/lib/python3.10/site-packages/torch/utils/data/_utils/worker.py\", line 302, in _worker_loop\n    data = fetcher.fetch(index)\n  File \"/home/mrizhko/anaconda3/envs/period/lib/python3.10/site-packages/torch/utils/data/_utils/fetch.py\", line 49, in fetch\n    data = [self.dataset[idx] for idx in possibly_batched_index]\n  File \"/home/mrizhko/anaconda3/envs/period/lib/python3.10/site-packages/torch/utils/data/_utils/fetch.py\", line 49, in <listcomp>\n    data = [self.dataset[idx] for idx in possibly_batched_index]\n  File \"/tmp/ipykernel_3700739/2415286343.py\", line 9, in __getitem__\n    el = self.asassn_dataset[idx]\n  File \"/home/mrizhko/AML/AstroML/notebooks/../core/multimodal/dataset.py\", line 455, in __getitem__\n    return_dict[\"lcs\"] = self.get_light_curves(sources)\n  File \"/home/mrizhko/AML/AstroML/notebooks/../core/multimodal/dataset.py\", line 676, in get_light_curves\n    t, y, yerr, _, _, _, _, _ = clip_outliers(\n  File \"/home/mrizhko/AML/AstroML/notebooks/../util/preprocess_data.py\", line 47, in clip_outliers\n    mag0 = np.average(m, weights=1/merr)\nTypeError: unsupported operand type(s) for /: 'int' and 'str'\n"
     ]
    }
   ],
   "source": [
    "for i in range(10, 100):\n",
    "    print(f'Epoch {i}')\n",
    "    \n",
    "    train_loss, train_acc = train_epoch()\n",
    "    print(f'Train Loss: {round(train_loss, 3)} Acc: {round(train_acc, 2)}')\n",
    "    \n",
    "    val_loss, val_acc = val_epoch()\n",
    "    print(f'Val Loss: {round(val_loss, 3)} Acc: {round(val_acc, 2)}')"
   ]
  },
  {
   "cell_type": "code",
   "execution_count": null,
   "id": "918cf0c9-4756-4351-8089-51e1ee71112d",
   "metadata": {},
   "outputs": [],
   "source": []
  },
  {
   "cell_type": "code",
   "execution_count": null,
   "id": "23fd2204-ac4c-4f44-a175-f278b80e1e13",
   "metadata": {},
   "outputs": [],
   "source": []
  },
  {
   "cell_type": "code",
   "execution_count": null,
   "id": "031db3ec-c964-4000-b730-7b1eb137ac50",
   "metadata": {},
   "outputs": [],
   "source": []
  },
  {
   "cell_type": "code",
   "execution_count": null,
   "id": "d01f53d4-3e99-4516-b14f-e43e28d1a917",
   "metadata": {},
   "outputs": [],
   "source": []
  },
  {
   "cell_type": "code",
   "execution_count": 111,
   "id": "c734dc98-4360-4e1b-885e-2a3c2ac17504",
   "metadata": {},
   "outputs": [],
   "source": [
    "torch.save(model.state_dict(), f'weights-10.pth')"
   ]
  },
  {
   "cell_type": "code",
   "execution_count": 112,
   "id": "19179328-b00b-4fb7-940c-32eb05fc04d6",
   "metadata": {},
   "outputs": [
    {
     "name": "stdout",
     "output_type": "stream",
     "text": [
      "Epoch 10\n"
     ]
    },
    {
     "name": "stderr",
     "output_type": "stream",
     "text": [
      "100%|███████████████████████████████████████████████████████████████| 281/281 [03:50<00:00,  1.22it/s]\n"
     ]
    },
    {
     "name": "stdout",
     "output_type": "stream",
     "text": [
      "Train (0.8395245591728713, 0.6986690427131481)\n"
     ]
    },
    {
     "name": "stderr",
     "output_type": "stream",
     "text": [
      "100%|█████████████████████████████████████████████████████████████████| 36/36 [01:35<00:00,  2.66s/it]\n"
     ]
    },
    {
     "name": "stdout",
     "output_type": "stream",
     "text": [
      "Val (0.8491414371463988, 0.6893939393939394)\n",
      "Epoch 11\n"
     ]
    },
    {
     "name": "stderr",
     "output_type": "stream",
     "text": [
      "100%|███████████████████████████████████████████████████████████████| 281/281 [03:44<00:00,  1.25it/s]\n"
     ]
    },
    {
     "name": "stdout",
     "output_type": "stream",
     "text": [
      "Train (0.8193049763869561, 0.7043492788327672)\n"
     ]
    },
    {
     "name": "stderr",
     "output_type": "stream",
     "text": [
      "100%|█████████████████████████████████████████████████████████████████| 36/36 [01:38<00:00,  2.73s/it]\n"
     ]
    },
    {
     "name": "stdout",
     "output_type": "stream",
     "text": [
      "Val (0.864031594660547, 0.6773618538324421)\n",
      "Epoch 12\n"
     ]
    },
    {
     "name": "stderr",
     "output_type": "stream",
     "text": [
      "100%|███████████████████████████████████████████████████████████████| 281/281 [03:41<00:00,  1.27it/s]\n"
     ]
    },
    {
     "name": "stdout",
     "output_type": "stream",
     "text": [
      "Train (0.794019596856684, 0.7130923873698279)\n"
     ]
    },
    {
     "name": "stderr",
     "output_type": "stream",
     "text": [
      "100%|█████████████████████████████████████████████████████████████████| 36/36 [01:42<00:00,  2.84s/it]\n"
     ]
    },
    {
     "name": "stdout",
     "output_type": "stream",
     "text": [
      "Val (0.7939012861914105, 0.7170231729055259)\n",
      "Epoch 13\n"
     ]
    },
    {
     "name": "stderr",
     "output_type": "stream",
     "text": [
      "100%|███████████████████████████████████████████████████████████████| 281/281 [03:42<00:00,  1.26it/s]\n"
     ]
    },
    {
     "name": "stdout",
     "output_type": "stream",
     "text": [
      "Train (0.7806561073798726, 0.7163223255554937)\n"
     ]
    },
    {
     "name": "stderr",
     "output_type": "stream",
     "text": [
      "100%|█████████████████████████████████████████████████████████████████| 36/36 [01:39<00:00,  2.76s/it]\n"
     ]
    },
    {
     "name": "stdout",
     "output_type": "stream",
     "text": [
      "Val (0.8309967368841171, 0.6978609625668449)\n",
      "Epoch 14\n"
     ]
    },
    {
     "name": "stderr",
     "output_type": "stream",
     "text": [
      " 94%|██████████████████████████████████████████████████████████▉    | 263/281 [03:34<00:15,  1.18it/s]Skipping line 272: expected 8 fields, saw 10\n",
      "\n"
     ]
    },
    {
     "name": "stdout",
     "output_type": "stream",
     "text": [
      "['19.34800' '16.66800' '17.69100' '17.85400' '13.76500' '13.79300'\n",
      " '15.83500' '14.78500' '14.77700' '16.71500' '14.28300' '16.59800'\n",
      " '14.87800' '17.01100' '18.24800' '16.44200' '15.01000' '17.05100'\n",
      " '18.42200' '19.07700' '15.62300' '18.46500' '15.58900' '14.43700'\n",
      " '16.12100' '14.06100' '14.42600' '14.37800' '14.64300' '14.51500'\n",
      " '13.80200' '14.57500' '14.44100' '14.17900' '15.04200' '14.00700'\n",
      " '14.83800' '14.36000' '15.24100' '13.91200' '17.83300' '14.42800'\n",
      " '13.39800' '20.51700' '19.03000' '17.84200' '16.39000' '18.06800'\n",
      " '19.94100' '18.81400' '18.68800' '18.50800' '20.09400' '18.19700'\n",
      " '19.85200' '18.14500' '13.66100' '17.42100' '19.59200' '16.59200'\n",
      " '19.75600' '16.79800' '14.26300' '19.34100' '19.64200' '18.20700'\n",
      " '19.69100' '18.47800' '19.93100' '18.44400' '16.75100' '20.08900'\n",
      " '18.60500' '15.56300' '17.95700' '18.96500' '14.97300' '14.52700'\n",
      " '15.08800' '13.75900' '15.50400' '13.37500' '18.44000' '19.11600'\n",
      " '18.22900' '17.84900' '19.83300' '14.66600' '17.02300' '18.67500'\n",
      " '15.72300' '16.32200' '19.95000' '19.38600' '18.49600' '18.63600'\n",
      " '18.81700' '17.97300' '17.50500' '19.48800' '17.69700' '14.70900'\n",
      " '17.76300' '15.12400' '19.24100' '17.18400' '16.43600' '15.26300'\n",
      " '19.07600' '17.38500' '13.97500' '16.51300' '18.84800' '18.22700'\n",
      " '18.67500' '14.03200' '16.66000' '16.98400' '14.54000' '16.54600'\n",
      " '17.09800' '18.93700' '18.80100' '18.65000' '19.77500' '19.19200'\n",
      " '18.31700' '16.04900' '17.46700' '17.12100' '13.68100' '16.37100'\n",
      " '17.57400' '16.61800' '18.58300' '14.11300' '18.03900' '16.64200'\n",
      " '18.41000' '13.72900' '18.30200' '18.65000' '18.70800' '17.66400'\n",
      " '19.65100' '19.30600' '18.67300' '16.27500' '19.03200' '19.71900'\n",
      " '15.00700' '15.85300' '14.96400' '19.90900' '19.55800' '16.35800'\n",
      " '20.05600' '19.09800' '18.25900' '19.29800' '15.84000' '18.96400'\n",
      " '18.32800' '17.44900' '14.55100' '16.76300' '17.51200' '18.21400'\n",
      " '16.28800' '15.86800' '15.75800' '17.03500' '15.59000' '18.11200'\n",
      " '19.03000' '18.89300' '18.25200' '14.76700' '16.24800' '18.67400'\n",
      " '18.65100' '19.70800' '15.24600' '15.42900' '18.58300' '20.04900'\n",
      " '19.15300' '15.48700' '19.61100' '14.35300' '14.82400' '18.38700'\n",
      " '20.25800' '18.97200' '20.56200' '18.82400' '20.70500' '18.51500'\n",
      " '20.16200' '18.05500' '20.35800' '18.44200' '19.92500' '17.74300'\n",
      " '20.23100' '16.74700' '19.45200' '16.49300' '19.35400' '18.09700'\n",
      " '17.85600' '19.39100' '15.57200' '16.90300' '14.80400' '16.39500'\n",
      " '14.68800' '15.27000' '18.49200' '15.17100' '15.66700' '16.72100'\n",
      " '15.49600' '15.82400' '16.83000' '16.83500' '17.33600' '17.33100'\n",
      " '18.31900' '19.43100' '18.83000' '19.87800' '19.00000' '20.08200'\n",
      " '18.33600' '20.18000' '18.70200' '20.10100' '18.63000' '20.29100'\n",
      " '18.65200' '20.44400' '18.26000' '20.32400' '17.39000' '18.27400'\n",
      " '20.18300' '17.30700' '17.57800' '20.41300' '19.42000' '19.08100'\n",
      " '14.11800' '16.86800' '17.20600' '15.15800' '14.53600' '18.98300'\n",
      " '18.16500' '15.18900' '16.24200' '17.21400' '17.20300' '15.96200'\n",
      " '16.71900' '16.75400' '15.67300' '13.94500' '17.46800' '14.20400'\n",
      " '6.91000' '7.26600' '8.62500' '8.12000' '7.89100' '7.97600' '8.00000'\n",
      " '7.95400' '7.90500' '7.72900' '7.54300' '7.14600' '7.17100' '6.54800'\n",
      " '6.73000' '7.27600' '6.82300' '7.13400' '6.87900' '7.08200' '6.80100'\n",
      " '6.94100' '6.90000' '6.44000' '6.00400' '5.94100' '7.31000' '6.25000'\n",
      " '6.71500' '6.40200' '6.26200' '6.25000' '6.37800' '6.53400' '6.63700'\n",
      " '6.38700' '6.51200' '6.14800' '6.78300' '6.42000' '6.34300' '6.60700'\n",
      " '6.98200' '6.53200' '6.14800' '6.67800' '6.20800' '6.73900' '6.61400'\n",
      " '6.52900' '6.05300' '6.47000' '6.65300' '6.43400' '5.86700' '6.04400'\n",
      " '6.82100' '6.81700' '7.16900' '6.98500' '6.36600' '6.29500' '6.39300'\n",
      " '7.42500' '7.18800' '6.92200' '6.35800' '6.44800' '6.52600' '6.68800'\n",
      " '7.36200' '6.84000' '6.97300' '7.24500' '7.18400' '7.79000' '6.85900'\n",
      " '6.34200' '7.17400' '6.47300' '6.19900' '6.10200' '6.05100' '6.41400'\n",
      " '6.02200' '7.07100' '7.21700' '7.01900' '6.92400' '6.31900' '6.40000'\n",
      " '6.34800' '6.45700' '6.77700' '7.14200' '7.10400' '6.57500' '7.04300'\n",
      " '7.44300' '6.97500' '7.31300' '6.65600' '6.69300' '6.69500' '6.66800'\n",
      " '7.31900' '7.63000' '7.90100' '7.32800' '7.82500' '7.08200' '6.28400'\n",
      " '6.55800' 'flux' '2.36900' '2.34200' '2.46100' '2.28400' '2.51500'\n",
      " '2.12600' '2.28700' '2.47300' '2.26200' '2.40600' '2.09800' '2.40200'\n",
      " '2.20900' '2.56000' '2.36800' '2.30300' '2.20700' '2.24100' '2.53800'\n",
      " '2.58900' '2.51900' '2.47300' '2.44800' '2.24100' '2.55500' '2.71500'\n",
      " '2.16900' '2.62800' '2.27300' '2.13600' '2.60100' '2.16800' '2.39400'\n",
      " '3.10300' '2.24100' '2.45400' '1.97800' '2.06300' '2.58000' '2.50900'\n",
      " '2.24300' '2.34700' '2.44300' '2.18900' '2.47900' '2.33500' '2.34700'\n",
      " '2.16000' '2.50300' '1.78500' '2.65100' '2.47300' '2.25500' '2.56600'\n",
      " '2.58600' '2.44600' '2.38900' '2.09300' '2.38800' '2.44000' '2.08800'\n",
      " '2.28300' '2.50800' '2.37300' '2.07500' '2.16200' '2.36000' '2.11700'\n",
      " '2.33100' '2.12100' '2.49900' '2.13600' '2.30800' '2.52000' '2.50000'\n",
      " '2.44200' '2.33200' '2.37700' '2.28600' '2.30100' '2.25400' '2.17000'\n",
      " '2.41000' '1.99000' '2.31600' '1.71600' '2.31800' '1.97200' '2.07400'\n",
      " '2.46200' '2.44900' '2.32800' '2.03900' '2.46300' '2.24500' '2.26800'\n",
      " '2.42800' '2.59200' '2.11300' '2.38600' '2.43500' '2.45300' '2.06000'\n",
      " '2.18200' '2.48000' '2.45100' '2.49900' '2.16300' '2.15400' '2.38400'\n",
      " '2.46000' '2.53500' '2.05700' '2.45000' '2.17700' '2.44800' '2.44800'\n",
      " '2.48500' '2.26300' '2.44600' '2.44200' '2.37900' '2.23700' '2.59800'\n",
      " '2.27900' '2.40800' '2.20400' '2.06600' '2.54200' '2.67000' '2.49800'\n",
      " '2.21100' '2.48900' '2.40000' '2.30600' '2.00200' '2.53300' '2.22500'\n",
      " '2.21100' '2.52500' '2.37700' '2.40300' '2.09700' '2.10200' '2.17600'\n",
      " '2.45300' '2.48200' '2.23000' '2.51800' '2.30900' '2.08900' '2.53600'\n",
      " '1.96900' '2.48600' '2.18400' '2.19400' '2.29300' '1.91700' '2.49100'\n",
      " '2.87600' '2.42700' '2.70100' '2.27600' '2.45500' '2.48900' '2.43800'\n",
      " '2.14400' '2.39400' '2.22300' '2.35300' '2.51900' '1.98900' '2.33400'\n",
      " '2.51400' '2.36200' '2.53200' '2.32000' '2.18300' '2.22600' '2.39900'\n",
      " '2.28100' '2.23500' '2.37000' '2.18700' '2.12100' '2.50300' '2.66500'\n",
      " '2.07800' '2.63700' '2.45600' '2.31200' '2.30300' '2.28500' '2.34300'\n",
      " '2.51400' '2.62000' '2.13700' '2.10100' '2.18900' '2.21000' '2.51800'\n",
      " '2.28600' '2.09600' '2.29100' '2.40700' '2.61900' '2.15300' '2.69100'\n",
      " '2.50900' '2.17800' '2.69800' '2.49600' '2.28400' '2.38700' '2.40800'\n",
      " '2.61700' '1.97500' '2.65600' '2.94400' '2.56500' '2.27600' '2.29900'\n",
      " '2.49900' '2.27400' '2.52000' '2.11400' '2.75600' '2.45800' '2.39100'\n",
      " '2.34300' '2.05000' '2.42600' '2.40400' '2.26000' '2.62300' '2.05800'\n",
      " '2.53000' '2.25900' '2.64200' '2.40200' '2.44900' '2.59200' '2.33100'\n",
      " '2.56800' '2.44700' '2.75500' '2.46200' '2.56600' '1.99900' '2.14700'\n",
      " '2.41800' '2.26500' '2.46400' '2.21800' '2.55000' '2.44900' '2.32600'\n",
      " '2.33400' '2.33400' '2.43200' '2.37500' '2.18700' '2.33300' '2.41500'\n",
      " '2.54200' '2.50200' '2.38900' '2.19200' '2.17700' '2.19200' '2.12200'\n",
      " '2.31000' '2.44100' '2.51000' '2.82700' '2.29000' '2.12400' '1.83400'\n",
      " '2.12900' '2.44200' '2.12500' '2.31100' '2.38100' '2.02400' '2.51600'\n",
      " '2.40000' '2.50200' '2.23600' '2.25400' '-0.18100' '2.30400' '2.27300'\n",
      " '2.38400' '2.26000' '2.40600' '2.84200' '2.46000' '3.01200' '2.37800'\n",
      " '2.43100' '2.52700' '2.06000' '2.31800' '2.45900' '2.04600' '2.44000'\n",
      " '2.16400' '2.69900' '2.44200' '1.97400' '2.15800' '2.49400' '2.48400'\n",
      " '2.39500' '2.47100' '2.35400' 'flux' '2.16100' '0.20900' '2.08200'\n",
      " '2.07800' '1.94900' '1.83100' '1.97800' '2.26600' '2.00600' '1.74100'\n",
      " '2.25100' '2.08200' '2.16400' '0.31700' '2.22700' '2.12800' '2.14400'\n",
      " '2.12700' '0.70600' '2.12100' '2.24400' '2.11200' '2.12600' '2.10700'\n",
      " '0.43300' '2.05600' '2.06900' '1.94700' '2.65100' '2.30000' '2.11800'\n",
      " '1.72000' '2.16800' '2.02500' '2.02900' '2.13100' '2.05600' '1.94600'\n",
      " '0.80800' '1.94700' '2.15000' '0.32700' '2.40000' '1.97800' '2.03200'\n",
      " '1.75700' '1.96000' '1.85600' '1.45000' '2.13800' '2.12600' '2.04200'\n",
      " '2.04100' '2.24400' '2.17200' '2.08500' '2.07600' '2.03700' '2.17200'\n",
      " '2.06100' '0.42500' '2.14500' '2.10400' '2.06100' '2.15400' '1.19600'\n",
      " '2.12100' '2.02800' '1.94600' '1.98200' '1.92500' '2.08800' '1.32400'\n",
      " '2.04400' '2.12900' '2.12300' '2.04800' '2.01800' '2.03100' '1.99800'\n",
      " '2.22500' '0.65400' '2.01900' '1.95700' '2.10200' '2.15500' '2.08900'\n",
      " '0.26900' '2.15000' '0.48500' '1.96400' '2.04900' '2.13400' '2.23000'\n",
      " '1.66200' '2.01300' '2.20000' '2.25300' '1.30600' '1.96300' '1.89100'\n",
      " '2.00700' '2.09000' '2.05900' '2.05400' '2.16000' '0.82000' '2.23600'\n",
      " '2.05100' '2.11800' '1.98300' '2.06000' '1.98800' '2.04200' '0.41400'\n",
      " '2.07100' '1.98600' '1.98100' '1.86000' '1.90900' '2.12900' '0.22300'\n",
      " '1.98800' '2.00300' '1.11600' '1.97300' '2.03000' '0.71300' '2.19100'\n",
      " '0.58400' '1.72100' '1.69800' '2.07200' '1.96000' '0.34100' '2.11300'\n",
      " '2.14800' '2.07000' '2.09000' '2.17200' '2.06600' '1.99800' '1.95400'\n",
      " '1.77700' '2.04400' '2.05700' '2.14100' '0.61900' '2.04900' '2.02000'\n",
      " '1.57100' '2.20300' '1.96400' '2.00900' '0.26100' '2.02300' '2.11200'\n",
      " '2.09700' '2.03700' '2.12600' '2.05000' '2.09600' '2.08100' '2.20400'\n",
      " '0.77600' '2.11600' '2.02200' '1.23600' '1.43600' '2.08100' '2.07300'\n",
      " '1.98500' '2.12900' '2.05200' '2.07400' '2.06500' '2.17800' '2.06100'\n",
      " '2.06400' '2.03500' '2.07200' '2.16300' '0.22100' '2.12400' '2.20300'\n",
      " '2.11900' '2.04200' '2.10100' '2.03600' '2.06900' '2.09800' '2.13100'\n",
      " '2.24200' '2.02000' '2.04000' '2.01700' '2.07300' '1.98700' '2.07800'\n",
      " '2.14400'] <class 'numpy.ndarray'> ['0.39972' '0.33660' '0.35965' '0.36344' '0.27744' '0.27797' '0.31867'\n",
      " '0.29719' '0.29703' '0.33763' '0.28733' '0.33505' '0.29904' '0.34420'\n",
      " '0.37275' '0.33165' '0.30169' '0.34507' '0.37689' '0.39290' '0.31424'\n",
      " '0.37796' '0.31353' '0.29033' '0.32473' '0.28306' '0.29011' '0.28918'\n",
      " '0.29437' '0.29186' '0.27814' '0.29303' '0.29041' '0.28533' '0.30234'\n",
      " '0.28203' '0.29824' '0.28883' '0.30637' '0.28023' '0.36297' '0.29015'\n",
      " '0.27059' '0.42995' '0.39178' '0.36320' '0.33051' '0.36847' '0.41480'\n",
      " '0.38641' '0.38336' '0.37896' '0.41885' '0.37154' '0.41249' '0.37031'\n",
      " '0.27548' '0.35347' '0.40585' '0.33493' '0.41004' '0.33945' '0.28695'\n",
      " '0.39950' '0.40715' '0.37180' '0.40843' '0.37828' '0.41459' '0.37747'\n",
      " '0.33841' '0.41865' '0.38133' '0.31299' '0.36589' '0.39015' '0.30095'\n",
      " '0.29209' '0.30326' '0.27734' '0.31177' '0.27017' '0.37732' '0.39385'\n",
      " '0.37230' '0.36334' '0.41200' '0.29483' '0.34447' '0.38302' '0.31632'\n",
      " '0.32905' '0.41508' '0.40067' '0.37871' '0.38209' '0.38648' '0.36627'\n",
      " '0.35539' '0.40319' '0.35982' '0.29568' '0.36135' '0.30399' '0.39704'\n",
      " '0.34808' '0.33151' '0.30682' '0.39287' '0.35262' '0.28142' '0.33321'\n",
      " '0.38725' '0.37226' '0.38302' '0.28250' '0.33641' '0.34358' '0.29235'\n",
      " '0.33392' '0.34613' '0.38943' '0.38608' '0.38244' '0.41053' '0.39579'\n",
      " '0.37439' '0.32321' '0.35449' '0.34666' '0.27587' '0.33011' '0.35696'\n",
      " '0.33548' '0.38081' '0.28406' '0.36777' '0.33602' '0.37665' '0.27677'\n",
      " '0.37402' '0.38244' '0.38383' '0.35906' '0.40733' '0.39862' '0.38298'\n",
      " '0.32804' '0.39182' '0.40910' '0.30163' '0.31905' '0.30077' '0.41404'\n",
      " '0.40498' '0.32982' '0.41786' '0.39340' '0.37303' '0.39845' '0.31878'\n",
      " '0.39013' '0.37467' '0.35408' '0.29256' '0.33868' '0.35553' '0.37194'\n",
      " '0.32833' '0.31937' '0.31706' '0.34472' '0.31355' '0.36953' '0.39178'\n",
      " '0.38838' '0.37283' '0.29683' '0.32746' '0.38300' '0.38247' '0.40887'\n",
      " '0.30647' '0.31023' '0.38081' '0.41762' '0.39484' '0.31142' '0.40633'\n",
      " '0.28869' '0.29797' '0.37606' '0.42307' '0.39029' '0.43122' '0.38669'\n",
      " '0.43499' '0.37917' '0.42056' '0.36815' '0.42577' '0.37736' '0.41438'\n",
      " '0.36089' '0.42240' '0.33833' '0.40228' '0.33275' '0.39985' '0.36917'\n",
      " '0.36348' '0.40077' '0.31318' '0.34179' '0.29757' '0.33064' '0.29526'\n",
      " '0.30697' '0.37857' '0.30495' '0.31515' '0.33775' '0.31161' '0.31844'\n",
      " '0.34016' '0.34026' '0.35151' '0.35141' '0.37443' '0.40176' '0.38681'\n",
      " '0.41321' '0.39102' '0.41850' '0.37484' '0.42104' '0.38371' '0.41900'\n",
      " '0.38190' '0.42396' '0.38249' '0.42799' '0.37305' '0.42485' '0.35276'\n",
      " '0.37334' '0.42110' '0.35088' '0.35704' '0.42724' '0.40154' '0.39298'\n",
      " '0.28416' '0.34102' '0.34857' '0.30469' '0.29227' '0.39059' '0.37077'\n",
      " '0.30531' '0.32734' '0.34877' '0.34851' '0.32136' '0.33771' '0.33847'\n",
      " '0.31528' '0.28085' '0.35455' '0.28581' '0.17099' '0.17551' '0.19362'\n",
      " '0.18667' '0.18361' '0.18478' '0.18505' '0.18449' '0.18379' '0.18150'\n",
      " '0.17904' '0.17399' '0.17428' '0.16660' '0.16880' '0.17560' '0.16993'\n",
      " '0.17385' '0.17062' '0.17320' '0.16970' '0.17137' '0.17090' '0.16529'\n",
      " '0.16011' '0.15934' '0.17604' '0.16298' '0.16858' '0.16480' '0.16312'\n",
      " '0.16298' '0.16450' '0.16640' '0.16765' '0.16465' '0.16616' '0.16178'\n",
      " '0.16949' '0.16502' '0.16409' '0.16729' '0.17191' '0.16635' '0.16178'\n",
      " '0.16821' '0.16253' '0.16894' '0.16739' '0.16635' '0.16067' '0.16565'\n",
      " '0.16789' '0.16521' '0.15852' '0.16060' '0.16988' '0.16986' '0.17424'\n",
      " '0.17198' '0.16436' '0.16358' '0.16473' '0.17751' '0.17454' '0.17121'\n",
      " '0.16431' '0.16533' '0.16628' '0.16830' '0.17676' '0.17012' '0.17177'\n",
      " '0.17523' '0.17445' '0.18227' '0.17036' '0.16414' '0.17436' '0.16565'\n",
      " '0.16238' '0.16123' '0.16070' '0.16494' '0.16034' '0.17301' '0.17486'\n",
      " '0.17235' '0.17118' '0.16379' '0.16483' '0.16413' '0.16548' '0.16934'\n",
      " '0.17396' '0.17342' '0.16688' '0.17271' '0.17779' '0.17182' '0.17611'\n",
      " '0.16789' '0.16834' '0.16839' '0.16803' '0.17618' '0.18021' '0.18377'\n",
      " '0.17632' '0.18272' '0.17320' '0.16337' '0.16669' 'flux_err' '0.12169'\n",
      " '0.12135' '0.12262' '0.12078' '0.12324' '0.11892' '0.12076' '0.12277'\n",
      " '0.12049' '0.12207' '0.11856' '0.12204' '0.11983' '0.12374' '0.12163'\n",
      " '0.12099' '0.11981' '0.12025' '0.12347' '0.12397' '0.12326' '0.12277'\n",
      " '0.12250' '0.12025' '0.12368' '0.12533' '0.11939' '0.12440' '0.12055'\n",
      " '0.11904' '0.12410' '0.11942' '0.12190' '0.12927' '0.12025' '0.12254'\n",
      " '0.11712' '0.11821' '0.12390' '0.12322' '0.12027' '0.12143' '0.12243'\n",
      " '0.11962' '0.12280' '0.12125' '0.12143' '0.11933' '0.12310' '0.11467'\n",
      " '0.12459' '0.12277' '0.12038' '0.12376' '0.12401' '0.12249' '0.12183'\n",
      " '0.11853' '0.12186' '0.12237' '0.11851' '0.12073' '0.12317' '0.12171'\n",
      " '0.11837' '0.11935' '0.12158' '0.11885' '0.12122' '0.11890' '0.12299'\n",
      " '0.11904' '0.12099' '0.12331' '0.12304' '0.12238' '0.12127' '0.12174'\n",
      " '0.12071' '0.12089' '0.12042' '0.11945' '0.12210' '0.11731' '0.12106'\n",
      " '0.11364' '0.12107' '0.11710' '0.11832' '0.12267' '0.12255' '0.12124'\n",
      " '0.11794' '0.12263' '0.12029' '0.12055' '0.12230' '0.12403' '0.11879'\n",
      " '0.12185' '0.12238' '0.12258' '0.11812' '0.11958' '0.12285' '0.12256'\n",
      " '0.12308' '0.11941' '0.11926' '0.12184' '0.12266' '0.12342' '0.11812'\n",
      " '0.12251' '0.11948' '0.12250' '0.12250' '0.12292' '0.12046' '0.12249'\n",
      " '0.12247' '0.12176' '0.12021' '0.12405' '0.12061' '0.12208' '0.11982'\n",
      " '0.11820' '0.12349' '0.12485' '0.12303' '0.11994' '0.12294' '0.12194'\n",
      " '0.12097' '0.11742' '0.12341' '0.12009' '0.11985' '0.12329' '0.12174'\n",
      " '0.12201' '0.11859' '0.11869' '0.11951' '0.12258' '0.12286' '0.12009'\n",
      " '0.12321' '0.12104' '0.11848' '0.12347' '0.11710' '0.12288' '0.11960'\n",
      " '0.11971' '0.12082' '0.11635' '0.12295' '0.12693' '0.12234' '0.12513'\n",
      " '0.12062' '0.12259' '0.12294' '0.12236' '0.11914' '0.12190' '0.12007'\n",
      " '0.12148' '0.12326' '0.11734' '0.12129' '0.12319' '0.12159' '0.12336'\n",
      " '0.12109' '0.11955' '0.12005' '0.12198' '0.12071' '0.12019' '0.12165'\n",
      " '0.11968' '0.11890' '0.12310' '0.12480' '0.11837' '0.12447' '0.12255'\n",
      " '0.12102' '0.12090' '0.12075' '0.12140' '0.12319' '0.12429' '0.11901'\n",
      " '0.11864' '0.11970' '0.11989' '0.12321' '0.12080' '0.11862' '0.12080'\n",
      " '0.12203' '0.12433' '0.11920' '0.12503' '0.12313' '0.11954' '0.12517'\n",
      " '0.12302' '0.12069' '0.12190' '0.12208' '0.12433' '0.11711' '0.12474'\n",
      " '0.12766' '0.12371' '0.12062' '0.12087' '0.12308' '0.12060' '0.12322'\n",
      " '0.11876' '0.12569' '0.12265' '0.12193' '0.12140' '0.11806' '0.12228'\n",
      " '0.12206' '0.12047' '0.12434' '0.11818' '0.12335' '0.12042' '0.12452'\n",
      " '0.12204' '0.12255' '0.12403' '0.12122' '0.12377' '0.12254' '0.12573'\n",
      " '0.12267' '0.12376' '0.11742' '0.11922' '0.12215' '0.12048' '0.12268'\n",
      " '0.11997' '0.12361' '0.12255' '0.12123' '0.12129' '0.12129' '0.12232'\n",
      " '0.12173' '0.11959' '0.12124' '0.12217' '0.12349' '0.12305' '0.12191'\n",
      " '0.11969' '0.11948' '0.11969' '0.11887' '0.12101' '0.12242' '0.12318'\n",
      " '0.12647' '0.12084' '0.11889' '0.11536' '0.11900' '0.12247' '0.11886'\n",
      " '0.12106' '0.12177' '0.11776' '0.12320' '0.12194' '0.12305' '0.12015'\n",
      " '0.12042' '0.27200' '0.12096' '0.12064' '0.12184' '0.12047' '0.12207'\n",
      " '0.12660' '0.12266' '0.12832' '0.12179' '0.12227' '0.12338' '0.11812'\n",
      " '0.12107' '0.12261' '0.11800' '0.12246' '0.11938' '0.12513' '0.12247'\n",
      " '0.11714' '0.11931' '0.12301' '0.12287' '0.12195' '0.12276' '0.12144'\n",
      " 'flux_err' '0.11930' '0.07200' '0.11843' '0.11837' '0.11675' '0.11534'\n",
      " '0.11712' '0.12053' '0.11748' '0.11405' '0.12034' '0.11843' '0.11938'\n",
      " '0.05138' '0.12011' '0.11894' '0.11914' '0.11897' '0.08701' '0.11890'\n",
      " '0.12032' '0.11874' '0.11892' '0.11872' '0.06606' '0.11815' '0.11829'\n",
      " '0.11681' '0.12468' '0.12092' '0.11882' '0.11374' '0.11942' '0.11773'\n",
      " '0.11779' '0.11902' '0.11815' '0.11675' '0.09202' '0.11672' '0.11921'\n",
      " '0.09900' '0.12203' '0.11712' '0.11780' '0.11427' '0.11690' '0.11564'\n",
      " '0.10946' '0.11907' '0.11892' '0.11794' '0.11797' '0.12032' '0.11947'\n",
      " '0.11842' '0.11834' '0.11791' '0.11947' '0.11818' '0.11100' '0.11911'\n",
      " '0.11863' '0.11818' '0.11926' '0.10440' '0.11890' '0.11774' '0.11675'\n",
      " '0.11718' '0.11650' '0.11851' '0.10712' '0.11797' '0.11900' '0.11892'\n",
      " '0.11803' '0.11767' '0.11782' '0.11744' '0.12009' '0.08406' '0.11764'\n",
      " '0.11689' '0.11861' '0.11923' '0.11848' '0.07200' '0.11921' '0.07127'\n",
      " '0.11697' '0.11800' '0.11902' '0.12009' '0.11288' '0.11755' '0.11978'\n",
      " '0.12036' '0.10677' '0.11699' '0.11604' '0.11746' '0.11854' '0.11815'\n",
      " '0.11812' '0.11933' '0.09255' '0.12015' '0.11803' '0.11882' '0.11724'\n",
      " '0.11812' '0.11728' '0.11794' '0.06398' '0.11832' '0.11725' '0.11721'\n",
      " '0.11564' '0.11629' '0.11900' '0.08500' '0.11728' '0.11748' '0.10241'\n",
      " '0.11708' '0.11777' '0.08742' '0.11964' '0.07937' '0.11372' '0.11343'\n",
      " '0.11829' '0.11699' '0.05484' '0.11879' '0.11919' '0.11826' '0.11845'\n",
      " '0.11947' '0.11820' '0.11736' '0.11688' '0.11457' '0.11797' '0.11812'\n",
      " '0.11915' '0.15800' '0.11800' '0.11770' '0.11148' '0.11977' '0.11697'\n",
      " '0.11757' '0.07400' '0.11770' '0.11874' '0.11859' '0.11783' '0.11892'\n",
      " '0.11806' '0.11853' '0.11846' '0.11982' '0.09053' '0.11879' '0.11773'\n",
      " '0.10529' '0.10925' '0.11837' '0.11835' '0.11728' '0.11900' '0.11800'\n",
      " '0.11832' '0.11823' '0.11954' '0.11818' '0.11818' '0.11788' '0.11829'\n",
      " '0.11941' '0.05600' '0.11889' '0.11986' '0.11878' '0.11794' '0.11864'\n",
      " '0.11786' '0.11829' '0.11864' '0.11902' '0.12030' '0.11770' '0.11792'\n",
      " '0.11761' '0.11826' '0.11722' '0.11837' '0.11914'] <class 'numpy.ndarray'>\n"
     ]
    },
    {
     "name": "stderr",
     "output_type": "stream",
     "text": [
      " 97%|████████████████████████████████████████████████████████████▉  | 272/281 [03:39<00:07,  1.24it/s]\n"
     ]
    },
    {
     "ename": "TypeError",
     "evalue": "Caught TypeError in DataLoader worker process 0.\nOriginal Traceback (most recent call last):\n  File \"/home/mrizhko/anaconda3/envs/period/lib/python3.10/site-packages/torch/utils/data/_utils/worker.py\", line 302, in _worker_loop\n    data = fetcher.fetch(index)\n  File \"/home/mrizhko/anaconda3/envs/period/lib/python3.10/site-packages/torch/utils/data/_utils/fetch.py\", line 49, in fetch\n    data = [self.dataset[idx] for idx in possibly_batched_index]\n  File \"/home/mrizhko/anaconda3/envs/period/lib/python3.10/site-packages/torch/utils/data/_utils/fetch.py\", line 49, in <listcomp>\n    data = [self.dataset[idx] for idx in possibly_batched_index]\n  File \"/tmp/ipykernel_3700739/95341730.py\", line 9, in __getitem__\n    el = self.asassn_dataset[idx]\n  File \"/home/mrizhko/AML/AstroML/notebooks/../core/multimodal/dataset.py\", line 455, in __getitem__\n    return_dict[\"lcs\"] = self.get_light_curves(sources)\n  File \"/home/mrizhko/AML/AstroML/notebooks/../core/multimodal/dataset.py\", line 676, in get_light_curves\n    t, y, yerr, _, _, _, _, _ = clip_outliers(\n  File \"/home/mrizhko/AML/AstroML/notebooks/../util/preprocess_data.py\", line 47, in clip_outliers\n    mag0 = np.average(m, weights=1/merr)\nTypeError: unsupported operand type(s) for /: 'int' and 'str'\n",
     "output_type": "error",
     "traceback": [
      "\u001b[0;31m---------------------------------------------------------------------------\u001b[0m",
      "\u001b[0;31mTypeError\u001b[0m                                 Traceback (most recent call last)",
      "Cell \u001b[0;32mIn[112], line 3\u001b[0m\n\u001b[1;32m      1\u001b[0m \u001b[38;5;28;01mfor\u001b[39;00m i \u001b[38;5;129;01min\u001b[39;00m \u001b[38;5;28mrange\u001b[39m(\u001b[38;5;241m10\u001b[39m, \u001b[38;5;241m100\u001b[39m):\n\u001b[1;32m      2\u001b[0m     \u001b[38;5;28mprint\u001b[39m(\u001b[38;5;124mf\u001b[39m\u001b[38;5;124m'\u001b[39m\u001b[38;5;124mEpoch \u001b[39m\u001b[38;5;132;01m{\u001b[39;00mi\u001b[38;5;132;01m}\u001b[39;00m\u001b[38;5;124m'\u001b[39m)\n\u001b[0;32m----> 3\u001b[0m     \u001b[38;5;28mprint\u001b[39m(\u001b[38;5;124m'\u001b[39m\u001b[38;5;124mTrain\u001b[39m\u001b[38;5;124m'\u001b[39m, \u001b[43mtrain_epoch\u001b[49m\u001b[43m(\u001b[49m\u001b[43m)\u001b[49m)\n\u001b[1;32m      4\u001b[0m     \u001b[38;5;28mprint\u001b[39m(\u001b[38;5;124m'\u001b[39m\u001b[38;5;124mVal\u001b[39m\u001b[38;5;124m'\u001b[39m, val_epoch())\n\u001b[1;32m      6\u001b[0m     \u001b[38;5;28;01mif\u001b[39;00m i \u001b[38;5;241m%\u001b[39m \u001b[38;5;241m10\u001b[39m \u001b[38;5;241m==\u001b[39m \u001b[38;5;241m0\u001b[39m:\n",
      "Cell \u001b[0;32mIn[106], line 7\u001b[0m, in \u001b[0;36mtrain_epoch\u001b[0;34m()\u001b[0m\n\u001b[1;32m      4\u001b[0m total_correct_predictions \u001b[38;5;241m=\u001b[39m \u001b[38;5;241m0\u001b[39m\n\u001b[1;32m      5\u001b[0m total_predictions \u001b[38;5;241m=\u001b[39m \u001b[38;5;241m0\u001b[39m\n\u001b[0;32m----> 7\u001b[0m \u001b[38;5;28;01mfor\u001b[39;00m fluxes, label \u001b[38;5;129;01min\u001b[39;00m tqdm(train_dataloader):\n\u001b[1;32m      8\u001b[0m     fluxes, label \u001b[38;5;241m=\u001b[39m fluxes\u001b[38;5;241m.\u001b[39mto(device), label\u001b[38;5;241m.\u001b[39mto(device)\n\u001b[1;32m     10\u001b[0m     optimizer\u001b[38;5;241m.\u001b[39mzero_grad()\n",
      "File \u001b[0;32m~/anaconda3/envs/period/lib/python3.10/site-packages/tqdm/std.py:1178\u001b[0m, in \u001b[0;36mtqdm.__iter__\u001b[0;34m(self)\u001b[0m\n\u001b[1;32m   1175\u001b[0m time \u001b[38;5;241m=\u001b[39m \u001b[38;5;28mself\u001b[39m\u001b[38;5;241m.\u001b[39m_time\n\u001b[1;32m   1177\u001b[0m \u001b[38;5;28;01mtry\u001b[39;00m:\n\u001b[0;32m-> 1178\u001b[0m     \u001b[38;5;28;01mfor\u001b[39;00m obj \u001b[38;5;129;01min\u001b[39;00m iterable:\n\u001b[1;32m   1179\u001b[0m         \u001b[38;5;28;01myield\u001b[39;00m obj\n\u001b[1;32m   1180\u001b[0m         \u001b[38;5;66;03m# Update and possibly print the progressbar.\u001b[39;00m\n\u001b[1;32m   1181\u001b[0m         \u001b[38;5;66;03m# Note: does not call self.update(1) for speed optimisation.\u001b[39;00m\n",
      "File \u001b[0;32m~/anaconda3/envs/period/lib/python3.10/site-packages/torch/utils/data/dataloader.py:681\u001b[0m, in \u001b[0;36m_BaseDataLoaderIter.__next__\u001b[0;34m(self)\u001b[0m\n\u001b[1;32m    678\u001b[0m \u001b[38;5;28;01mif\u001b[39;00m \u001b[38;5;28mself\u001b[39m\u001b[38;5;241m.\u001b[39m_sampler_iter \u001b[38;5;129;01mis\u001b[39;00m \u001b[38;5;28;01mNone\u001b[39;00m:\n\u001b[1;32m    679\u001b[0m     \u001b[38;5;66;03m# TODO(https://github.com/pytorch/pytorch/issues/76750)\u001b[39;00m\n\u001b[1;32m    680\u001b[0m     \u001b[38;5;28mself\u001b[39m\u001b[38;5;241m.\u001b[39m_reset()  \u001b[38;5;66;03m# type: ignore[call-arg]\u001b[39;00m\n\u001b[0;32m--> 681\u001b[0m data \u001b[38;5;241m=\u001b[39m \u001b[38;5;28;43mself\u001b[39;49m\u001b[38;5;241;43m.\u001b[39;49m\u001b[43m_next_data\u001b[49m\u001b[43m(\u001b[49m\u001b[43m)\u001b[49m\n\u001b[1;32m    682\u001b[0m \u001b[38;5;28mself\u001b[39m\u001b[38;5;241m.\u001b[39m_num_yielded \u001b[38;5;241m+\u001b[39m\u001b[38;5;241m=\u001b[39m \u001b[38;5;241m1\u001b[39m\n\u001b[1;32m    683\u001b[0m \u001b[38;5;28;01mif\u001b[39;00m \u001b[38;5;28mself\u001b[39m\u001b[38;5;241m.\u001b[39m_dataset_kind \u001b[38;5;241m==\u001b[39m _DatasetKind\u001b[38;5;241m.\u001b[39mIterable \u001b[38;5;129;01mand\u001b[39;00m \\\n\u001b[1;32m    684\u001b[0m         \u001b[38;5;28mself\u001b[39m\u001b[38;5;241m.\u001b[39m_IterableDataset_len_called \u001b[38;5;129;01mis\u001b[39;00m \u001b[38;5;129;01mnot\u001b[39;00m \u001b[38;5;28;01mNone\u001b[39;00m \u001b[38;5;129;01mand\u001b[39;00m \\\n\u001b[1;32m    685\u001b[0m         \u001b[38;5;28mself\u001b[39m\u001b[38;5;241m.\u001b[39m_num_yielded \u001b[38;5;241m>\u001b[39m \u001b[38;5;28mself\u001b[39m\u001b[38;5;241m.\u001b[39m_IterableDataset_len_called:\n",
      "File \u001b[0;32m~/anaconda3/envs/period/lib/python3.10/site-packages/torch/utils/data/dataloader.py:1356\u001b[0m, in \u001b[0;36m_MultiProcessingDataLoaderIter._next_data\u001b[0;34m(self)\u001b[0m\n\u001b[1;32m   1354\u001b[0m \u001b[38;5;28;01mif\u001b[39;00m \u001b[38;5;28mlen\u001b[39m(\u001b[38;5;28mself\u001b[39m\u001b[38;5;241m.\u001b[39m_task_info[\u001b[38;5;28mself\u001b[39m\u001b[38;5;241m.\u001b[39m_rcvd_idx]) \u001b[38;5;241m==\u001b[39m \u001b[38;5;241m2\u001b[39m:\n\u001b[1;32m   1355\u001b[0m     data \u001b[38;5;241m=\u001b[39m \u001b[38;5;28mself\u001b[39m\u001b[38;5;241m.\u001b[39m_task_info\u001b[38;5;241m.\u001b[39mpop(\u001b[38;5;28mself\u001b[39m\u001b[38;5;241m.\u001b[39m_rcvd_idx)[\u001b[38;5;241m1\u001b[39m]\n\u001b[0;32m-> 1356\u001b[0m     \u001b[38;5;28;01mreturn\u001b[39;00m \u001b[38;5;28;43mself\u001b[39;49m\u001b[38;5;241;43m.\u001b[39;49m\u001b[43m_process_data\u001b[49m\u001b[43m(\u001b[49m\u001b[43mdata\u001b[49m\u001b[43m)\u001b[49m\n\u001b[1;32m   1358\u001b[0m \u001b[38;5;28;01massert\u001b[39;00m \u001b[38;5;129;01mnot\u001b[39;00m \u001b[38;5;28mself\u001b[39m\u001b[38;5;241m.\u001b[39m_shutdown \u001b[38;5;129;01mand\u001b[39;00m \u001b[38;5;28mself\u001b[39m\u001b[38;5;241m.\u001b[39m_tasks_outstanding \u001b[38;5;241m>\u001b[39m \u001b[38;5;241m0\u001b[39m\n\u001b[1;32m   1359\u001b[0m idx, data \u001b[38;5;241m=\u001b[39m \u001b[38;5;28mself\u001b[39m\u001b[38;5;241m.\u001b[39m_get_data()\n",
      "File \u001b[0;32m~/anaconda3/envs/period/lib/python3.10/site-packages/torch/utils/data/dataloader.py:1402\u001b[0m, in \u001b[0;36m_MultiProcessingDataLoaderIter._process_data\u001b[0;34m(self, data)\u001b[0m\n\u001b[1;32m   1400\u001b[0m \u001b[38;5;28mself\u001b[39m\u001b[38;5;241m.\u001b[39m_try_put_index()\n\u001b[1;32m   1401\u001b[0m \u001b[38;5;28;01mif\u001b[39;00m \u001b[38;5;28misinstance\u001b[39m(data, ExceptionWrapper):\n\u001b[0;32m-> 1402\u001b[0m     \u001b[43mdata\u001b[49m\u001b[38;5;241;43m.\u001b[39;49m\u001b[43mreraise\u001b[49m\u001b[43m(\u001b[49m\u001b[43m)\u001b[49m\n\u001b[1;32m   1403\u001b[0m \u001b[38;5;28;01mreturn\u001b[39;00m data\n",
      "File \u001b[0;32m~/anaconda3/envs/period/lib/python3.10/site-packages/torch/_utils.py:461\u001b[0m, in \u001b[0;36mExceptionWrapper.reraise\u001b[0;34m(self)\u001b[0m\n\u001b[1;32m    457\u001b[0m \u001b[38;5;28;01mexcept\u001b[39;00m \u001b[38;5;167;01mTypeError\u001b[39;00m:\n\u001b[1;32m    458\u001b[0m     \u001b[38;5;66;03m# If the exception takes multiple arguments, don't try to\u001b[39;00m\n\u001b[1;32m    459\u001b[0m     \u001b[38;5;66;03m# instantiate since we don't know how to\u001b[39;00m\n\u001b[1;32m    460\u001b[0m     \u001b[38;5;28;01mraise\u001b[39;00m \u001b[38;5;167;01mRuntimeError\u001b[39;00m(msg) \u001b[38;5;28;01mfrom\u001b[39;00m \u001b[38;5;28;01mNone\u001b[39;00m\n\u001b[0;32m--> 461\u001b[0m \u001b[38;5;28;01mraise\u001b[39;00m exception\n",
      "\u001b[0;31mTypeError\u001b[0m: Caught TypeError in DataLoader worker process 0.\nOriginal Traceback (most recent call last):\n  File \"/home/mrizhko/anaconda3/envs/period/lib/python3.10/site-packages/torch/utils/data/_utils/worker.py\", line 302, in _worker_loop\n    data = fetcher.fetch(index)\n  File \"/home/mrizhko/anaconda3/envs/period/lib/python3.10/site-packages/torch/utils/data/_utils/fetch.py\", line 49, in fetch\n    data = [self.dataset[idx] for idx in possibly_batched_index]\n  File \"/home/mrizhko/anaconda3/envs/period/lib/python3.10/site-packages/torch/utils/data/_utils/fetch.py\", line 49, in <listcomp>\n    data = [self.dataset[idx] for idx in possibly_batched_index]\n  File \"/tmp/ipykernel_3700739/95341730.py\", line 9, in __getitem__\n    el = self.asassn_dataset[idx]\n  File \"/home/mrizhko/AML/AstroML/notebooks/../core/multimodal/dataset.py\", line 455, in __getitem__\n    return_dict[\"lcs\"] = self.get_light_curves(sources)\n  File \"/home/mrizhko/AML/AstroML/notebooks/../core/multimodal/dataset.py\", line 676, in get_light_curves\n    t, y, yerr, _, _, _, _, _ = clip_outliers(\n  File \"/home/mrizhko/AML/AstroML/notebooks/../util/preprocess_data.py\", line 47, in clip_outliers\n    mag0 = np.average(m, weights=1/merr)\nTypeError: unsupported operand type(s) for /: 'int' and 'str'\n"
     ]
    }
   ],
   "source": [
    "for i in range(10, 100):\n",
    "    print(f'Epoch {i}')\n",
    "    print('Train', train_epoch())\n",
    "    print('Val', val_epoch())\n",
    "\n",
    "    if i % 10 == 0:\n",
    "        torch.save(model.state_dict(), f'weights-{i}.pth')"
   ]
  },
  {
   "cell_type": "code",
   "execution_count": 122,
   "id": "d03380f8-b46f-40ef-a146-5fd15828d8c2",
   "metadata": {},
   "outputs": [
    {
     "name": "stderr",
     "output_type": "stream",
     "text": [
      "100%|███████████████████████████████████████████████████████████| 17957/17957 [13:14<00:00, 22.59it/s]\n"
     ]
    }
   ],
   "source": [
    "for i in tqdm(range(len(ds_train))):\n",
    "    if ds_train[i]['spectra'][0][0][:, 1].dtype != np.float32:\n",
    "        print(i)"
   ]
  },
  {
   "cell_type": "code",
   "execution_count": null,
   "id": "a65b5650-7848-4447-a236-7715ec20ad30",
   "metadata": {},
   "outputs": [],
   "source": []
  },
  {
   "cell_type": "code",
   "execution_count": null,
   "id": "db2d4603-36f1-4acd-a68d-58488212bb2c",
   "metadata": {},
   "outputs": [],
   "source": []
  },
  {
   "cell_type": "code",
   "execution_count": null,
   "id": "ecc3f302-9bb9-4703-8398-4d4f7f974128",
   "metadata": {},
   "outputs": [],
   "source": []
  },
  {
   "cell_type": "code",
   "execution_count": null,
   "id": "f65927a0-3d5c-4574-9006-953652cbd673",
   "metadata": {},
   "outputs": [],
   "source": []
  },
  {
   "cell_type": "code",
   "execution_count": null,
   "id": "75b68ddc-a9f2-4add-b9b1-28d4fab3c484",
   "metadata": {},
   "outputs": [],
   "source": []
  },
  {
   "cell_type": "code",
   "execution_count": null,
   "id": "876fb40f-0a5c-4681-ba33-f44d72eb6805",
   "metadata": {},
   "outputs": [],
   "source": []
  },
  {
   "cell_type": "code",
   "execution_count": null,
   "id": "38dfc54a-a4f4-44da-a176-27c82d706721",
   "metadata": {},
   "outputs": [],
   "source": []
  },
  {
   "cell_type": "code",
   "execution_count": null,
   "id": "153644f6-3666-44ef-afbe-f9237de14ca8",
   "metadata": {},
   "outputs": [],
   "source": []
  },
  {
   "cell_type": "code",
   "execution_count": null,
   "id": "f1c3c317-e2bb-499a-956a-dbf2c82d3822",
   "metadata": {},
   "outputs": [],
   "source": []
  },
  {
   "cell_type": "code",
   "execution_count": null,
   "id": "9e09b088-0531-464a-b27e-2680b38943b3",
   "metadata": {},
   "outputs": [],
   "source": []
  },
  {
   "cell_type": "code",
   "execution_count": null,
   "id": "7cbbf56e-0608-470c-ad07-f3cf9d306d61",
   "metadata": {},
   "outputs": [],
   "source": []
  },
  {
   "cell_type": "code",
   "execution_count": null,
   "id": "a71f28e3-8fca-494d-bb72-e6287c984593",
   "metadata": {},
   "outputs": [],
   "source": []
  },
  {
   "cell_type": "code",
   "execution_count": null,
   "id": "351af772-83a5-4d85-a2df-5ded66c593a8",
   "metadata": {},
   "outputs": [
    {
     "name": "stderr",
     "output_type": "stream",
     "text": [
      " 46%|███████████████████████████▋                                | 8285/17957 [06:20<07:00, 22.99it/s]"
     ]
    }
   ],
   "source": [
    "for i in tqdm(range(len(ds_train))):\n",
    "    try:\n",
    "        spectra = ds_train[i]['spectra'][0][0]\n",
    "    except:\n",
    "        print(i)\n",
    "        break"
   ]
  },
  {
   "cell_type": "code",
   "execution_count": 176,
   "id": "868382fe-c729-49ea-90d9-8f8c74a72305",
   "metadata": {},
   "outputs": [],
   "source": [
    "spec_filename = ds_train.spec_df[ds_train.spec_df['edr3_source_id'] == 'EDR3 1314026659889734400']['spec_filename'].iloc[0]"
   ]
  },
  {
   "cell_type": "code",
   "execution_count": 185,
   "id": "415b2050-dd4e-4ba8-b7f1-291845e4dfae",
   "metadata": {},
   "outputs": [],
   "source": [
    "remove_filenames = []\n",
    "\n",
    "for el in ds_train.spec_df['spec_filename']:\n",
    "    filename = (ds_train.data_root / ds_train.lamost_spec_dir / el)\n",
    "\n",
    "    if not os.path.exists(filename):\n",
    "        remove_filenames.append(str(filename).split('/')[-1])"
   ]
  },
  {
   "cell_type": "code",
   "execution_count": 187,
   "id": "d43993ac-6180-405f-97bc-3df0556c6d19",
   "metadata": {},
   "outputs": [
    {
     "data": {
      "text/plain": [
       "Index([ 1588,  1693,  1887,  3321,  3845,  4761,  5430,  8515,  9660, 11276,\n",
       "       12231, 14104, 17493, 17716, 18451, 18900, 19074, 20292, 24786, 26316,\n",
       "       26759, 30479, 30652, 30736, 31215, 33612, 39155, 40778, 41346],\n",
       "      dtype='int64')"
      ]
     },
     "execution_count": 187,
     "metadata": {},
     "output_type": "execute_result"
    }
   ],
   "source": [
    "ds_train.spec_df[ds_train.spec_df['spec_filename'].isin(remove_filenames)].index"
   ]
  },
  {
   "cell_type": "code",
   "execution_count": null,
   "id": "f49ef483-2864-4bc0-967f-c5a4264d2c85",
   "metadata": {},
   "outputs": [],
   "source": []
  },
  {
   "cell_type": "code",
   "execution_count": 177,
   "id": "e9c4f3ac-f1c3-406e-87f0-386e8d533ea4",
   "metadata": {},
   "outputs": [],
   "source": [
    "filename = (ds_train.data_root / ds_train.lamost_spec_dir / spec_filename)\n",
    "\n",
    "if os.path.exists(filename):\n",
    "    row_spectra.append(self._readLRSFits(filename))"
   ]
  },
  {
   "cell_type": "code",
   "execution_count": 178,
   "id": "ce8fa24a-0d4e-4270-8682-d51a11168638",
   "metadata": {},
   "outputs": [
    {
     "data": {
      "text/plain": [
       "False"
      ]
     },
     "execution_count": 178,
     "metadata": {},
     "output_type": "execute_result"
    }
   ],
   "source": [
    "os.path.exists(filename)"
   ]
  },
  {
   "cell_type": "code",
   "execution_count": null,
   "id": "4feb8594-859f-448b-9a53-bfe44b12f7b9",
   "metadata": {},
   "outputs": [],
   "source": []
  },
  {
   "cell_type": "code",
   "execution_count": null,
   "id": "dbf7dc4e-afbd-41c6-9f2e-8b459bc619b6",
   "metadata": {},
   "outputs": [],
   "source": []
  },
  {
   "cell_type": "code",
   "execution_count": null,
   "id": "863034e7-4574-45c1-b740-654d458eb721",
   "metadata": {},
   "outputs": [],
   "source": []
  },
  {
   "cell_type": "code",
   "execution_count": null,
   "id": "504fe6a0-07b0-450f-8fe9-fda10b4ce559",
   "metadata": {},
   "outputs": [],
   "source": []
  },
  {
   "cell_type": "code",
   "execution_count": 94,
   "id": "07cc5505-72a0-4419-9a25-e413ecf021f4",
   "metadata": {},
   "outputs": [
    {
     "data": {
      "image/png": "[encoded data removed]",
      "text/plain": [
       "<Figure size 1500x2000 with 10 Axes>"
      ]
     },
     "metadata": {},
     "output_type": "display_data"
    }
   ],
   "source": [
    "fig, axs = plt.subplots(nrows=5, ncols=2, figsize=(15, 20))\n",
    "\n",
    "for i in range(5):\n",
    "    spectra = ds_train[i]['spectra'][0][0]\n",
    "    y = ds_train[i]['classes'][0][0]\n",
    "\n",
    "    wavelengths, fluxes = spectra[:, 0], spectra[:, 1]\n",
    "    regular_wavelengths = np.arange(3850, 9002, 2)\n",
    "    interpolated_fluxes = np.interp(regular_wavelengths, wavelengths, fluxes)\n",
    "\n",
    "    axs[i, 0].plot(wavelengths, fluxes)\n",
    "    axs[i, 0].set_title(f'Class {ds_train.target_lookup[y]} Before Interpolation')\n",
    "    axs[i, 1].plot(regular_wavelengths, interpolated_fluxes)\n",
    "    axs[i, 1].set_title(f'Class {ds_train.target_lookup[y]} After Interpolation')\n",
    "\n",
    "plt.show()"
   ]
  },
  {
   "cell_type": "code",
   "execution_count": null,
   "id": "24c5e7ab-da1c-48a1-a44e-17d2c5c88937",
   "metadata": {},
   "outputs": [],
   "source": []
  },
  {
   "cell_type": "code",
   "execution_count": null,
   "id": "cfa3cc70-1b0f-4532-a3fe-aa569d5c97d9",
   "metadata": {},
   "outputs": [],
   "source": []
  },
  {
   "cell_type": "code",
   "execution_count": null,
   "id": "587cefd8-faa2-4bc9-8f7d-08d1bf2b5ed7",
   "metadata": {},
   "outputs": [],
   "source": []
  },
  {
   "cell_type": "code",
   "execution_count": null,
   "id": "4cfad693-5748-4394-a869-49b0b0978d51",
   "metadata": {},
   "outputs": [],
   "source": []
  },
  {
   "cell_type": "code",
   "execution_count": null,
   "id": "46548185-f59e-470b-a99a-b8649365b45a",
   "metadata": {},
   "outputs": [],
   "source": []
  },
  {
   "cell_type": "code",
   "execution_count": null,
   "id": "2832a53d-8d88-41a4-b614-fd15d5a640b5",
   "metadata": {},
   "outputs": [],
   "source": []
  },
  {
   "cell_type": "code",
   "execution_count": 28,
   "id": "4deb050c-9015-46b3-8fca-7b7ebfd103d8",
   "metadata": {},
   "outputs": [
    {
     "data": {
      "text/plain": [
       "(3699.6958, 9083.768)"
      ]
     },
     "execution_count": 28,
     "metadata": {},
     "output_type": "execute_result"
    }
   ],
   "source": [
    "ds_train[i]['spectra'][0][0][:, 0].min(), ds_train[i]['spectra'][0][0][:, 0].max()"
   ]
  },
  {
   "cell_type": "code",
   "execution_count": 30,
   "id": "df47434c-3dd7-43ae-a080-57af72e7cde2",
   "metadata": {},
   "outputs": [
    {
     "data": {
      "text/plain": [
       "variable_type\n",
       "EW       5109\n",
       "SR       3846\n",
       "EA       2428\n",
       "RRAB     2070\n",
       "EB       1656\n",
       "ROT      1537\n",
       "RRC       692\n",
       "M         272\n",
       "HADS      238\n",
       "DSCT      214\n",
       "DCEP       36\n",
       "DCEPS      18\n",
       "RRD        12\n",
       "CWB        11\n",
       "CWA        11\n",
       "Name: count, dtype: int64"
      ]
     },
     "execution_count": 30,
     "metadata": {},
     "output_type": "execute_result"
    }
   ],
   "source": [
    "ds_train.df['variable_type'].value_counts()"
   ]
  },
  {
   "cell_type": "code",
   "execution_count": null,
   "id": "863042bf-2238-4c18-9d62-fe56cb108a2c",
   "metadata": {},
   "outputs": [],
   "source": []
  },
  {
   "cell_type": "code",
   "execution_count": null,
   "id": "7d032920-8207-4355-a199-e591bf406156",
   "metadata": {},
   "outputs": [],
   "source": []
  },
  {
   "cell_type": "code",
   "execution_count": null,
   "id": "f72257ac-3f81-48ea-905b-3f17c6c991a8",
   "metadata": {},
   "outputs": [],
   "source": []
  }
 ],
 "metadata": {
  "kernelspec": {
   "display_name": "Python 3 (ipykernel)",
   "language": "python",
   "name": "python3"
  },
  "language_info": {
   "codemirror_mode": {
    "name": "ipython",
    "version": 3
   },
   "file_extension": ".py",
   "mimetype": "text/x-python",
   "name": "python",
   "nbconvert_exporter": "python",
   "pygments_lexer": "ipython3",
   "version": "3.10.12"
  }
 },
 "nbformat": 4,
 "nbformat_minor": 5
}

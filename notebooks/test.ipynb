{
 "cells": [
  {
   "cell_type": "code",
   "execution_count": 1,
   "id": "87c2e820-10dc-4939-bd2f-626baa08554a",
   "metadata": {},
   "source": [
    "import sys\n",
    "\n",
    "sys.path.insert(0, '..')"
   ],
   "outputs": []
  },
  {
   "cell_type": "code",
   "execution_count": 2,
   "id": "bc92c485-23a4-482e-a943-a8a0c53df2ab",
   "metadata": {},
   "source": [
    "import os\n",
    "import numpy as np\n",
    "import random\n",
    "import torch\n",
    "import torch.nn as nn\n",
    "from torch.optim import AdamW\n",
    "from torch.utils.data import DataLoader\n",
    "from transformers import TimeSeriesTransformerConfig, TimeSeriesTransformerForPrediction, TimeSeriesTransformerModel\n",
    "import matplotlib.pyplot as plt\n",
    "from torch.optim.lr_scheduler import ReduceLROnPlateau\n",
    "from scipy import stats\n",
    "\n",
    "from core.dataset import MachoDataset\n",
    "from core.trainer import PredictionTrainer, ClassificationTrainer\n",
    "from core.model import ClassificationModel"
   ],
   "outputs": []
  },
  {
   "cell_type": "code",
   "execution_count": 4,
   "id": "5fdaa9dc-c689-4a46-a0e1-92169f4e01a0",
   "metadata": {},
   "source": [
    "random_seed = 42\n",
    "torch.manual_seed(random_seed)\n",
    "np.random.seed(random_seed)\n",
    "random.seed(random_seed)\n",
    "torch.backends.cudnn.deterministic = True"
   ],
   "outputs": []
  },
  {
   "cell_type": "code",
   "execution_count": 5,
   "id": "c690401c-9949-4ac9-8daa-01437ffd40fd",
   "metadata": {},
   "source": [
    "config = {\n",
    "    'random_seed': random_seed,\n",
    "    'data_root': '/home/mrizhko/AML/contra_periodic/data/macho/',\n",
    "    'balanced_data_root': '/home/mrizhko/AML/AstroML/data/macho-balanced/',\n",
    "    'weights_path': '/home/mrizhko/AML/AstroML/weights/',\n",
    "\n",
    "    # Time Series Transformer\n",
    "    'lags': None,  # ?\n",
    "    'distribution_output': 'normal',\n",
    "    'num_static_real_features': 0,  # if 0 we don't use real features\n",
    "    'num_time_features': 1,\n",
    "    'd_model': 256,\n",
    "    'decoder_layers': 4,\n",
    "    'encoder_layers': 4,\n",
    "    'dropout': 0,\n",
    "    'encoder_layerdrop': 0,\n",
    "    'decoder_layerdrop': 0,\n",
    "    'attention_dropout': 0,\n",
    "    'activation_dropout': 0,\n",
    "\n",
    "    # Data\n",
    "    'window_length': 200,\n",
    "    'prediction_length': 10,  # 1 5 10 25 50\n",
    "\n",
    "    # Training\n",
    "    'batch_size': 512,\n",
    "    'lr': 0.0001,\n",
    "    'weight_decay': 0,\n",
    "    'epochs_pre_training': 1000,\n",
    "    'epochs_fine_tuning': 100,\n",
    "    \n",
    "    # Learning Rate Scheduler\n",
    "    'factor': 0.3,\n",
    "    'patience': 10,\n",
    "\n",
    "    'mode': 'fine-tuning',  # 'pre-training' 'fine-tuning' 'both'\n",
    "    'save_weights': False,\n",
    "    'config_from_run': None,  # 'MeriDK/AstroML/qtun67bq'\n",
    "}"
   ],
   "outputs": []
  },
  {
   "cell_type": "code",
   "execution_count": 6,
   "id": "29d215ad-50a9-48ca-99f0-c031c5cdfb64",
   "metadata": {},
   "source": [
    "device = torch.device('cuda' if torch.cuda.is_available() else 'cpu')\n",
    "print('Using', device)"
   ],
   "outputs": []
  },
  {
   "cell_type": "code",
   "execution_count": 7,
   "id": "ebe6dc9b-6316-4849-b5b3-02c9c114aad3",
   "metadata": {},
   "source": [
    "train_dataset = MachoDataset(config['balanced_data_root'], config['prediction_length'], mode='train')\n",
    "val_dataset = MachoDataset(config['balanced_data_root'], config['prediction_length'], mode='val')\n",
    "test_dataset = MachoDataset(config['balanced_data_root'], config['prediction_length'], mode='test')"
   ],
   "outputs": []
  },
  {
   "cell_type": "code",
   "execution_count": 8,
   "id": "c9e2125d-b6b3-45b9-9a68-58397b39abf9",
   "metadata": {},
   "source": [
    "len(train_dataset), len(val_dataset), len(test_dataset)"
   ],
   "outputs": []
  },
  {
   "cell_type": "code",
   "execution_count": 10,
   "id": "348dc561-0421-4daf-b823-f78cd4a7d510",
   "metadata": {},
   "source": [
    "len(train_dataset) // 8, len(val_dataset) // 8, len(test_dataset) // 8"
   ],
   "outputs": []
  },
  {
   "cell_type": "code",
   "execution_count": 11,
   "id": "24f4478e-7a6e-404b-a326-ec5491ff2dae",
   "metadata": {},
   "source": [
    "train_dataset = MachoDataset(config['data_root'], config['prediction_length'], mode='train')\n",
    "val_dataset = MachoDataset(config['data_root'], config['prediction_length'], mode='val')\n",
    "test_dataset = MachoDataset(config['data_root'], config['prediction_length'], mode='test')"
   ],
   "outputs": []
  },
  {
   "cell_type": "code",
   "execution_count": 12,
   "id": "5e7e3c52-0a22-4054-baca-2f0a760a3023",
   "metadata": {},
   "source": [
    "len(train_dataset), len(val_dataset), len(test_dataset)"
   ],
   "outputs": []
  },
  {
   "cell_type": "code",
   "execution_count": 13,
   "id": "8a2e4dc4-c208-4185-bc4e-be3fca358421",
   "metadata": {},
   "source": [
    "len(train_dataset) + len(val_dataset) + len(test_dataset)"
   ],
   "outputs": []
  },
  {
   "cell_type": "code",
   "execution_count": 18,
   "id": "c9be1727-9636-40cb-be3a-31b5fdb0f295",
   "metadata": {},
   "source": [
    "classes = {}\n",
    "\n",
    "for el in train_dataset:\n",
    "    cl = el[-1].item()\n",
    "    classes[cl] = classes.get(cl, 0) + 1\n",
    "\n",
    "print(classes)"
   ],
   "outputs": []
  },
  {
   "cell_type": "code",
   "execution_count": 19,
   "id": "33e52d91-a448-4a56-a1d7-232d87b8a704",
   "metadata": {},
   "source": [
    "classes = {}\n",
    "\n",
    "for el in val_dataset:\n",
    "    cl = el[-1].item()\n",
    "    classes[cl] = classes.get(cl, 0) + 1\n",
    "\n",
    "print(classes)"
   ],
   "outputs": []
  },
  {
   "cell_type": "code",
   "execution_count": 20,
   "id": "a81fca5f-3cda-4b69-8526-931a36d22368",
   "metadata": {},
   "source": [
    "classes = {}\n",
    "\n",
    "for el in test_dataset:\n",
    "    cl = el[-1].item()\n",
    "    classes[cl] = classes.get(cl, 0) + 1\n",
    "\n",
    "print(classes)"
   ],
   "outputs": []
  },
  {
   "cell_type": "code",
   "execution_count": null,
   "id": "e18e3391-3dc7-4afb-bf8a-d5335c2da1be",
   "metadata": {},
   "source": [],
   "outputs": []
  },
  {
   "cell_type": "code",
   "execution_count": null,
   "id": "a5cbf40b-ea9b-491c-9522-7fd1a530435c",
   "metadata": {},
   "source": [],
   "outputs": []
  },
  {
   "cell_type": "code",
   "execution_count": null,
   "id": "6ec92ab8-2db1-4b66-a0da-d5e7c6070ae9",
   "metadata": {},
   "source": [],
   "outputs": []
  },
  {
   "cell_type": "code",
   "execution_count": null,
   "id": "52146309-a76e-426b-a475-60e814ee39dc",
   "metadata": {},
   "source": [],
   "outputs": []
  }
 ],
 "metadata": {
  "kernelspec": {
   "display_name": "Python 3 (ipykernel)",
   "language": "python",
   "name": "python3"
  },
  "language_info": {
   "codemirror_mode": {
    "name": "ipython",
    "version": 3
   },
   "file_extension": ".py",
   "mimetype": "text/x-python",
   "name": "python",
   "nbconvert_exporter": "python",
   "pygments_lexer": "ipython3",
   "version": "3.10.14"
  }
 },
 "nbformat": 4,
 "nbformat_minor": 5
}

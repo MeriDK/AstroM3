{
 "cells": [
  {
   "cell_type": "code",
   "execution_count": 1,
   "id": "2d261ed3-83a3-4a4e-a3a0-0109a65addd4",
   "metadata": {},
   "outputs": [],
   "source": [
    "import pandas as pd\n",
    "import numpy as np\n",
    "import random\n",
    "import os"
   ]
  },
  {
   "cell_type": "code",
   "execution_count": 2,
   "id": "4e3eacd4-2ce6-41ac-9aa0-456606f9ae5a",
   "metadata": {},
   "outputs": [],
   "source": [
    "random_seed = 42\n",
    "np.random.seed(random_seed)\n",
    "random.seed(random_seed)"
   ]
  },
  {
   "cell_type": "code",
   "execution_count": 3,
   "id": "3cd7bfdf-5f81-4113-9cc6-955ca64ea62f",
   "metadata": {},
   "outputs": [],
   "source": [
    "CLASSES = ['EW', 'SR', 'EA', 'RRAB', 'EB', 'ROT', 'RRC', 'HADS', 'M', 'DSCT']"
   ]
  },
  {
   "cell_type": "code",
   "execution_count": 4,
   "id": "0c7675b5-15d5-48d0-9e48-9a4f3a2bfead",
   "metadata": {},
   "outputs": [],
   "source": [
    "def calc_threshold(df, goal):\n",
    "    counts = df['target'].value_counts(ascending=True)\n",
    "    num_classes = len(counts)\n",
    "    \n",
    "    i = 1\n",
    "    diff = (num_classes - i) * (counts.iloc[i] - counts.iloc[i - 1])\n",
    "    count = num_classes * counts.iloc[i - 1]\n",
    "    \n",
    "    while count + diff < goal:\n",
    "        count += diff\n",
    "        i += 1\n",
    "        diff = (num_classes - i) * (counts.iloc[i] - counts.iloc[i - 1])\n",
    "    \n",
    "    threshold = (goal - count) // (num_classes - i) + counts.iloc[i - 1]\n",
    "\n",
    "    return threshold"
   ]
  },
  {
   "cell_type": "code",
   "execution_count": 5,
   "id": "ab04cf7c-39bc-4732-b979-53f85b774c43",
   "metadata": {},
   "outputs": [],
   "source": [
    "def limit(df, threshold):\n",
    "    value_counts = df['target'].value_counts()\n",
    "    classes_to_limit = value_counts[value_counts > threshold].index\n",
    "    \n",
    "    for class_type in classes_to_limit:\n",
    "        class_indices = df[df['target'] == class_type].index\n",
    "        indices_to_keep = np.random.choice(class_indices, size=threshold, replace=False)\n",
    "        df = df.drop(index=set(class_indices) - set(indices_to_keep))\n",
    "\n",
    "    return df"
   ]
  },
  {
   "cell_type": "markdown",
   "id": "74a46a6f-26d3-4146-baf8-2c0294b9f7b4",
   "metadata": {},
   "source": [
    "# SUB50 SUB25 SUB 10 LB"
   ]
  },
  {
   "cell_type": "code",
   "execution_count": 10,
   "id": "0d9f03b7-a37d-4ace-b993-893012b1640c",
   "metadata": {},
   "outputs": [],
   "source": [
    "def create_subsets(data_root, data_out, factor):\n",
    "    train = pd.read_csv(os.path.join(data_root, 'spectra_and_v_train_norm.csv'))\n",
    "    val = pd.read_csv(os.path.join(data_root, 'spectra_and_v_val_norm.csv'))\n",
    "    test = pd.read_csv(os.path.join(data_root, 'spectra_and_v_test_norm.csv'))\n",
    "    \n",
    "    train = train[train['target'].isin(CLASSES)]\n",
    "    val = val[val['target'].isin(CLASSES)]\n",
    "    test = test[test['target'].isin(CLASSES)]\n",
    "    \n",
    "    train_threshold = calc_threshold(train, len(train) // factor)\n",
    "    train = limit(train, train_threshold)\n",
    "        \n",
    "    val_threshold = calc_threshold(val, len(val) // factor)\n",
    "    val = limit(val, val_threshold)\n",
    "\n",
    "    test_threshold = calc_threshold(test, len(test) // factor)\n",
    "    test = limit(test, test_threshold)\n",
    "\n",
    "    os.makedirs(data_out, exist_ok=True)\n",
    "    train.to_csv(os.path.join(data_out, 'spectra_and_v_train_norm.csv'), index=False)\n",
    "    val.to_csv(os.path.join(data_out, 'spectra_and_v_val_norm.csv'), index=False)\n",
    "    test.to_csv(os.path.join(data_out, 'spectra_and_v_test_norm.csv'), index=False)"
   ]
  },
  {
   "cell_type": "code",
   "execution_count": 14,
   "id": "b5877c18-09ca-4586-a18c-0408a7e2e397",
   "metadata": {},
   "outputs": [],
   "source": [
    "data_root = '/home/mariia/AstroML/data/asassn/preprocessed_data/full_lb'\n",
    "data_out50 = '/home/mariia/AstroML/data/asassn/preprocessed_data/sub50_lb'\n",
    "\n",
    "create_subsets(data_root, data_out50, factor=2)"
   ]
  },
  {
   "cell_type": "code",
   "execution_count": 15,
   "id": "af722864-2b66-4ebc-81f6-25851709b046",
   "metadata": {},
   "outputs": [],
   "source": [
    "data_out25 = '/home/mariia/AstroML/data/asassn/preprocessed_data/sub25_lb'\n",
    "create_subsets(data_root, data_out25, factor=4)"
   ]
  },
  {
   "cell_type": "code",
   "execution_count": 16,
   "id": "41631a8a-aea4-40bc-afbc-b27654087d50",
   "metadata": {},
   "outputs": [],
   "source": [
    "data_out10 = '/home/mariia/AstroML/data/asassn/preprocessed_data/sub10_lb'\n",
    "create_subsets(data_root, data_out10, factor=10)"
   ]
  },
  {
   "cell_type": "markdown",
   "id": "9d8f4b4e-ba8e-4a62-ad38-8bdf242663d6",
   "metadata": {},
   "source": [
    "# STATS"
   ]
  },
  {
   "cell_type": "code",
   "execution_count": 17,
   "id": "019a1f8b-9f5f-4769-be32-3dd591ec0266",
   "metadata": {},
   "outputs": [],
   "source": [
    "full = []\n",
    "sub50 = []\n",
    "sub25 = []\n",
    "sub10 = []\n",
    "\n",
    "for el in ('train', 'val', 'test'):\n",
    "    full.append(pd.read_csv(os.path.join(data_root, f'spectra_and_v_{el}_norm.csv')))\n",
    "    sub50.append(pd.read_csv(os.path.join(data_out50, f'spectra_and_v_{el}_norm.csv')))\n",
    "    sub25.append(pd.read_csv(os.path.join(data_out25, f'spectra_and_v_{el}_norm.csv')))\n",
    "    sub10.append(pd.read_csv(os.path.join(data_out10, f'spectra_and_v_{el}_norm.csv')))"
   ]
  },
  {
   "cell_type": "code",
   "execution_count": 23,
   "id": "89343a2b-b29b-4a25-9a6b-aab0b81cd3bc",
   "metadata": {},
   "outputs": [
    {
     "data": {
      "text/plain": [
       "target\n",
       "EW       6168\n",
       "SR       4590\n",
       "EA       2916\n",
       "RRAB     2351\n",
       "EB       1976\n",
       "ROT      1839\n",
       "RRC       796\n",
       "HADS      281\n",
       "M         268\n",
       "DSCT      255\n",
       "ROT:       67\n",
       "LSP        61\n",
       "DCEP       43\n",
       "VAR        24\n",
       "SRD        20\n",
       "DCEPS      19\n",
       "CWB        17\n",
       "RRD        16\n",
       "CWA        14\n",
       "DSCT:       9\n",
       "SXPHE       6\n",
       "YSO         5\n",
       "ELL         4\n",
       "M:          1\n",
       "ZAND        1\n",
       "GCAS:       1\n",
       "UG          1\n",
       "UV          1\n",
       "Name: count, dtype: int64"
      ]
     },
     "execution_count": 23,
     "metadata": {},
     "output_type": "execute_result"
    }
   ],
   "source": [
    "pd.concat(full)['target'].value_counts()"
   ]
  },
  {
   "cell_type": "code",
   "execution_count": 24,
   "id": "38c81666-4c08-4830-8a75-d2dc09143b0b",
   "metadata": {},
   "outputs": [
    {
     "data": {
      "text/plain": [
       "target\n",
       "EW      1518\n",
       "ROT     1518\n",
       "SR      1518\n",
       "EA      1518\n",
       "RRAB    1518\n",
       "EB      1518\n",
       "RRC      796\n",
       "HADS     281\n",
       "M        268\n",
       "DSCT     255\n",
       "Name: count, dtype: int64"
      ]
     },
     "execution_count": 24,
     "metadata": {},
     "output_type": "execute_result"
    }
   ],
   "source": [
    "pd.concat(sub50)['target'].value_counts()"
   ]
  },
  {
   "cell_type": "code",
   "execution_count": 25,
   "id": "77ec6c1d-10a9-4d0d-b8db-c88702813687",
   "metadata": {},
   "outputs": [
    {
     "data": {
      "text/plain": [
       "target\n",
       "ROT     649\n",
       "EW      649\n",
       "EA      649\n",
       "SR      649\n",
       "RRAB    649\n",
       "RRC     649\n",
       "EB      649\n",
       "HADS    281\n",
       "M       268\n",
       "DSCT    255\n",
       "Name: count, dtype: int64"
      ]
     },
     "execution_count": 25,
     "metadata": {},
     "output_type": "execute_result"
    }
   ],
   "source": [
    "pd.concat(sub25)['target'].value_counts()"
   ]
  },
  {
   "cell_type": "code",
   "execution_count": 26,
   "id": "852be8fd-8ca2-463a-bd50-36117a5c68f8",
   "metadata": {},
   "outputs": [
    {
     "data": {
      "text/plain": [
       "target\n",
       "EA      209\n",
       "HADS    209\n",
       "SR      209\n",
       "RRC     209\n",
       "DSCT    209\n",
       "RRAB    209\n",
       "EW      209\n",
       "ROT     209\n",
       "EB      209\n",
       "M       209\n",
       "Name: count, dtype: int64"
      ]
     },
     "execution_count": 26,
     "metadata": {},
     "output_type": "execute_result"
    }
   ],
   "source": [
    "pd.concat(sub10)['target'].value_counts()"
   ]
  },
  {
   "cell_type": "code",
   "execution_count": null,
   "id": "debcd060-dfcd-484f-912c-8e133d40ad96",
   "metadata": {},
   "outputs": [],
   "source": []
  },
  {
   "cell_type": "code",
   "execution_count": null,
   "id": "e2d326ad-34ae-4feb-8c5c-c0bc44a1ee52",
   "metadata": {},
   "outputs": [],
   "source": []
  },
  {
   "cell_type": "code",
   "execution_count": 32,
   "id": "c9e683e2-852c-4d96-81a9-a65166d114f0",
   "metadata": {},
   "outputs": [
    {
     "name": "stdout",
     "output_type": "stream",
     "text": [
      "target\n",
      "EW       4890\n",
      "SR       3647\n",
      "EA       2343\n",
      "RRAB     1886\n",
      "EB       1571\n",
      "ROT      1454\n",
      "RRC       624\n",
      "HADS      226\n",
      "M         216\n",
      "DSCT      206\n",
      "LSP        47\n",
      "ROT:       46\n",
      "DCEP       32\n",
      "VAR        18\n",
      "SRD        17\n",
      "DCEPS      16\n",
      "RRD        14\n",
      "CWA        12\n",
      "CWB        12\n",
      "DSCT:       6\n",
      "SXPHE       5\n",
      "YSO         4\n",
      "ELL         4\n",
      "M:          1\n",
      "ZAND        1\n",
      "GCAS:       1\n",
      "Name: count, dtype: int64\n",
      "target\n",
      "EW      1209\n",
      "ROT     1209\n",
      "SR      1209\n",
      "EA      1209\n",
      "RRAB    1209\n",
      "EB      1209\n",
      "RRC      624\n",
      "HADS     226\n",
      "M        216\n",
      "DSCT     206\n",
      "Name: count, dtype: int64\n",
      "target\n",
      "ROT     516\n",
      "EW      516\n",
      "EA      516\n",
      "SR      516\n",
      "RRAB    516\n",
      "RRC     516\n",
      "EB      516\n",
      "HADS    226\n",
      "M       216\n",
      "DSCT    206\n",
      "Name: count, dtype: int64\n",
      "target\n",
      "EA      166\n",
      "HADS    166\n",
      "SR      166\n",
      "RRC     166\n",
      "DSCT    166\n",
      "RRAB    166\n",
      "EW      166\n",
      "ROT     166\n",
      "EB      166\n",
      "M       166\n",
      "Name: count, dtype: int64\n",
      "target\n",
      "EW       597\n",
      "SR       479\n",
      "EA       272\n",
      "RRAB     231\n",
      "EB       207\n",
      "ROT      189\n",
      "RRC       93\n",
      "M         30\n",
      "HADS      29\n",
      "DSCT      25\n",
      "ROT:       9\n",
      "LSP        6\n",
      "DCEP       4\n",
      "CWB        2\n",
      "DSCT:      2\n",
      "CWA        2\n",
      "SRD        1\n",
      "RRD        1\n",
      "YSO        1\n",
      "SXPHE      1\n",
      "UG         1\n",
      "UV         1\n",
      "VAR        1\n",
      "Name: count, dtype: int64\n",
      "target\n",
      "RRAB    149\n",
      "SR      149\n",
      "EA      149\n",
      "EB      149\n",
      "ROT     149\n",
      "EW      149\n",
      "RRC      93\n",
      "M        30\n",
      "HADS     29\n",
      "DSCT     25\n",
      "Name: count, dtype: int64\n",
      "target\n",
      "RRC     64\n",
      "RRAB    64\n",
      "EA      64\n",
      "SR      64\n",
      "EW      64\n",
      "ROT     64\n",
      "EB      64\n",
      "M       30\n",
      "HADS    29\n",
      "DSCT    25\n",
      "Name: count, dtype: int64\n",
      "target\n",
      "EA      21\n",
      "RRAB    21\n",
      "HADS    21\n",
      "ROT     21\n",
      "EW      21\n",
      "SR      21\n",
      "DSCT    21\n",
      "RRC     21\n",
      "EB      21\n",
      "M       21\n",
      "Name: count, dtype: int64\n",
      "target\n",
      "EW       681\n",
      "SR       464\n",
      "EA       301\n",
      "RRAB     234\n",
      "EB       198\n",
      "ROT      196\n",
      "RRC       79\n",
      "HADS      26\n",
      "DSCT      24\n",
      "M         22\n",
      "ROT:      12\n",
      "LSP        8\n",
      "DCEP       7\n",
      "VAR        5\n",
      "CWB        3\n",
      "DCEPS      3\n",
      "SRD        2\n",
      "RRD        1\n",
      "DSCT:      1\n",
      "Name: count, dtype: int64\n",
      "target\n",
      "EB      160\n",
      "ROT     160\n",
      "SR      160\n",
      "RRAB    160\n",
      "EW      160\n",
      "EA      160\n",
      "RRC      79\n",
      "HADS     26\n",
      "DSCT     24\n",
      "M        22\n",
      "Name: count, dtype: int64\n",
      "target\n",
      "EB      69\n",
      "ROT     69\n",
      "RRC     69\n",
      "SR      69\n",
      "RRAB    69\n",
      "EW      69\n",
      "EA      69\n",
      "HADS    26\n",
      "DSCT    24\n",
      "M       22\n",
      "Name: count, dtype: int64\n",
      "target\n",
      "RRAB    22\n",
      "RRC     22\n",
      "EA      22\n",
      "EB      22\n",
      "M       22\n",
      "ROT     22\n",
      "EW      22\n",
      "HADS    22\n",
      "DSCT    22\n",
      "SR      22\n",
      "Name: count, dtype: int64\n"
     ]
    }
   ],
   "source": [
    "for i in range(3):\n",
    "    for ds in (full, sub50, sub25, sub10):\n",
    "        print(ds[i]['target'].value_counts())"
   ]
  },
  {
   "cell_type": "markdown",
   "id": "cd338376-908b-4c3e-a2f7-0bf863e125b2",
   "metadata": {},
   "source": [
    "# SUB 50 25 10 diff random seeds"
   ]
  },
  {
   "cell_type": "code",
   "execution_count": 28,
   "id": "cc7b10cf-c222-48b5-acdf-0a0647118361",
   "metadata": {},
   "outputs": [
    {
     "name": "stdout",
     "output_type": "stream",
     "text": [
      "seed 66 splits 50 factor 2\n",
      "seed 66 splits 25 factor 4\n",
      "seed 66 splits 10 factor 10\n",
      "seed 0 splits 50 factor 2\n",
      "seed 0 splits 25 factor 4\n",
      "seed 0 splits 10 factor 10\n",
      "seed 12 splits 50 factor 2\n",
      "seed 12 splits 25 factor 4\n",
      "seed 12 splits 10 factor 10\n",
      "seed 123 splits 50 factor 2\n",
      "seed 123 splits 25 factor 4\n",
      "seed 123 splits 10 factor 10\n"
     ]
    }
   ],
   "source": [
    "random_seeds = [66, 0, 12, 123]\n",
    "splits = ['50', '25', '10']\n",
    "factors = [2, 4, 10]\n",
    "\n",
    "for random_seed in random_seeds:\n",
    "    data_root = f'/home/mariia/AstroML/data/asassn/preprocessed_data/full_lb{random_seed}'\n",
    "\n",
    "    for s, f in zip(splits, factors):\n",
    "        print(f'seed {random_seed} splits {s} factor {f}')\n",
    "        data_out = f'/home/mariia/AstroML/data/asassn/preprocessed_data/sub{s}_lb{random_seed}'\n",
    "        create_subsets(data_root, data_out, factor=f)"
   ]
  },
  {
   "cell_type": "code",
   "execution_count": null,
   "id": "b92e1e2e-9ec3-4f7c-9b41-575385029ef9",
   "metadata": {},
   "outputs": [],
   "source": []
  },
  {
   "cell_type": "code",
   "execution_count": null,
   "id": "ec72402c-d0cd-4c2b-a5ed-226c1b37367b",
   "metadata": {},
   "outputs": [],
   "source": []
  },
  {
   "cell_type": "code",
   "execution_count": null,
   "id": "e75d74ea-e81e-41a7-abfb-e40525b34eca",
   "metadata": {},
   "outputs": [],
   "source": []
  },
  {
   "cell_type": "code",
   "execution_count": null,
   "id": "39690422-f963-449e-b4af-249ecae4b141",
   "metadata": {},
   "outputs": [],
   "source": []
  },
  {
   "cell_type": "code",
   "execution_count": null,
   "id": "5038f6aa-7ff5-4670-9c95-0a42691fa3be",
   "metadata": {},
   "outputs": [],
   "source": []
  },
  {
   "cell_type": "code",
   "execution_count": null,
   "id": "b16219b8-b02e-4c99-828e-ed986aac298d",
   "metadata": {},
   "outputs": [],
   "source": [
    "\n",
    "train['target'].value_counts()"
   ]
  },
  {
   "cell_type": "code",
   "execution_count": null,
   "id": "6131506f-aa01-4f9b-aecc-83fedf4cfdc1",
   "metadata": {},
   "outputs": [],
   "source": []
  },
  {
   "cell_type": "code",
   "execution_count": null,
   "id": "7becc440-f15f-4efa-aae9-feb84fb9690c",
   "metadata": {},
   "outputs": [],
   "source": []
  },
  {
   "cell_type": "code",
   "execution_count": null,
   "id": "c09ef5e6-b4b0-4a12-a2bc-26a5027e37b7",
   "metadata": {},
   "outputs": [],
   "source": []
  },
  {
   "cell_type": "markdown",
   "id": "be8eecb5-2755-47d0-bd91-be3d2caddd27",
   "metadata": {},
   "source": [
    "## SUB50"
   ]
  },
  {
   "cell_type": "code",
   "execution_count": 6,
   "id": "aeae14d3-5f52-4cb3-92ab-3d893362d3e9",
   "metadata": {},
   "outputs": [],
   "source": [
    "train = pd.read_csv('/home/mariia/AstroML/data/asassn/preprocessed_data/full/spectra_and_v_train_norm.csv')\n",
    "val = pd.read_csv('/home/mariia/AstroML/data/asassn/preprocessed_data/full/spectra_and_v_val_norm.csv')\n",
    "test = pd.read_csv('/home/mariia/AstroML/data/asassn/preprocessed_data/full/spectra_and_v_test_norm.csv')"
   ]
  },
  {
   "cell_type": "code",
   "execution_count": 7,
   "id": "dff6e062-60cd-41f8-ac51-1c3fa9a65e62",
   "metadata": {},
   "outputs": [],
   "source": [
    "train = train[train['target'].isin(CLASSES)]\n",
    "val = val[val['target'].isin(CLASSES)]\n",
    "test = test[test['target'].isin(CLASSES)]"
   ]
  },
  {
   "cell_type": "code",
   "execution_count": 8,
   "id": "03b56e68-0b0e-4693-936d-1b7935269060",
   "metadata": {},
   "outputs": [
    {
     "data": {
      "text/plain": [
       "(target\n",
       " EW      4969\n",
       " SR      3652\n",
       " EA      2367\n",
       " RRAB    1947\n",
       " EB      1585\n",
       " ROT     1464\n",
       " RRC      640\n",
       " HADS     229\n",
       " M        216\n",
       " DSCT     206\n",
       " Name: count, dtype: int64,\n",
       " 17275)"
      ]
     },
     "execution_count": 8,
     "metadata": {},
     "output_type": "execute_result"
    }
   ],
   "source": [
    "train['target'].value_counts(), len(train)"
   ]
  },
  {
   "cell_type": "code",
   "execution_count": 9,
   "id": "dc88b36e-bc23-40c0-944b-4a057860ac6e",
   "metadata": {},
   "outputs": [],
   "source": [
    "train_threshold = calc_threshold(train, len(train) // 2)\n",
    "train = limit(train, train_threshold)"
   ]
  },
  {
   "cell_type": "code",
   "execution_count": 10,
   "id": "c1d25ec6-6c79-4886-9140-c76304d25dfb",
   "metadata": {},
   "outputs": [
    {
     "data": {
      "text/plain": [
       "(target\n",
       " ROT     1224\n",
       " SR      1224\n",
       " EW      1224\n",
       " EA      1224\n",
       " RRAB    1224\n",
       " EB      1224\n",
       " RRC      640\n",
       " HADS     229\n",
       " M        216\n",
       " DSCT     206\n",
       " Name: count, dtype: int64,\n",
       " 8635)"
      ]
     },
     "execution_count": 10,
     "metadata": {},
     "output_type": "execute_result"
    }
   ],
   "source": [
    "train['target'].value_counts(), len(train)"
   ]
  },
  {
   "cell_type": "code",
   "execution_count": 11,
   "id": "8cc0df64-d92d-4a14-a483-d0d23f9cd9b2",
   "metadata": {},
   "outputs": [
    {
     "data": {
      "text/plain": [
       "(target\n",
       " EW      604\n",
       " SR      480\n",
       " EA      275\n",
       " RRAB    238\n",
       " EB      210\n",
       " ROT     189\n",
       " RRC      95\n",
       " M        30\n",
       " HADS     29\n",
       " DSCT     25\n",
       " Name: count, dtype: int64,\n",
       " 2175)"
      ]
     },
     "execution_count": 11,
     "metadata": {},
     "output_type": "execute_result"
    }
   ],
   "source": [
    "val['target'].value_counts(), len(val)"
   ]
  },
  {
   "cell_type": "code",
   "execution_count": 12,
   "id": "d9961e31-429d-4488-bec3-70866c95f59e",
   "metadata": {},
   "outputs": [],
   "source": [
    "val_threshold = calc_threshold(val, len(val) // 2)\n",
    "val = limit(val, val_threshold)"
   ]
  },
  {
   "cell_type": "code",
   "execution_count": 13,
   "id": "339e6166-2c99-4664-993d-aba80873cf92",
   "metadata": {},
   "outputs": [
    {
     "data": {
      "text/plain": [
       "(target\n",
       " RRAB    151\n",
       " SR      151\n",
       " EB      151\n",
       " EW      151\n",
       " ROT     151\n",
       " EA      151\n",
       " RRC      95\n",
       " M        30\n",
       " HADS     29\n",
       " DSCT     25\n",
       " Name: count, dtype: int64,\n",
       " 1085)"
      ]
     },
     "execution_count": 13,
     "metadata": {},
     "output_type": "execute_result"
    }
   ],
   "source": [
    "val['target'].value_counts(), len(val)"
   ]
  },
  {
   "cell_type": "code",
   "execution_count": 14,
   "id": "d496b35a-7c3e-486c-8c2d-2d158d9fd4d7",
   "metadata": {},
   "outputs": [
    {
     "data": {
      "text/plain": [
       "(target\n",
       " EW      693\n",
       " SR      465\n",
       " EA      301\n",
       " RRAB    239\n",
       " ROT     198\n",
       " EB      198\n",
       " RRC      81\n",
       " HADS     26\n",
       " DSCT     24\n",
       " M        22\n",
       " Name: count, dtype: int64,\n",
       " 2247)"
      ]
     },
     "execution_count": 14,
     "metadata": {},
     "output_type": "execute_result"
    }
   ],
   "source": [
    "test['target'].value_counts(), len(test)"
   ]
  },
  {
   "cell_type": "code",
   "execution_count": 15,
   "id": "68c75c2f-9dbf-4dbe-90ed-9082b3033c70",
   "metadata": {},
   "outputs": [],
   "source": [
    "test_threshold = calc_threshold(test, len(test) // 2)\n",
    "test = limit(test, test_threshold)"
   ]
  },
  {
   "cell_type": "code",
   "execution_count": 16,
   "id": "3d34b664-9ea8-4263-9d51-36ca77b6f27d",
   "metadata": {},
   "outputs": [
    {
     "data": {
      "text/plain": [
       "(target\n",
       " EB      161\n",
       " ROT     161\n",
       " EW      161\n",
       " EA      161\n",
       " SR      161\n",
       " RRAB    161\n",
       " RRC      81\n",
       " HADS     26\n",
       " DSCT     24\n",
       " M        22\n",
       " Name: count, dtype: int64,\n",
       " 1119)"
      ]
     },
     "execution_count": 16,
     "metadata": {},
     "output_type": "execute_result"
    }
   ],
   "source": [
    "test['target'].value_counts(), len(test)"
   ]
  },
  {
   "cell_type": "code",
   "execution_count": 17,
   "id": "483bc6a9-d381-439c-ae16-0c0c2a76baf8",
   "metadata": {},
   "outputs": [],
   "source": [
    "train.to_csv('/home/mariia/AstroML/data/asassn/preprocessed_data/sub50/spectra_and_v_train_norm.csv', index=False)\n",
    "val.to_csv('/home/mariia/AstroML/data/asassn/preprocessed_data/sub50/spectra_and_v_val_norm.csv', index=False)\n",
    "test.to_csv('/home/mariia/AstroML/data/asassn/preprocessed_data/sub50/spectra_and_v_test_norm.csv', index=False)"
   ]
  },
  {
   "cell_type": "markdown",
   "id": "83abdada-0d81-4eee-b792-8bb7151fa307",
   "metadata": {},
   "source": [
    "## SUB25"
   ]
  },
  {
   "cell_type": "code",
   "execution_count": 18,
   "id": "c705072b-4b02-41e2-9007-d43550e6c1de",
   "metadata": {},
   "outputs": [],
   "source": [
    "train = pd.read_csv('/home/mariia/AstroML/data/asassn/preprocessed_data/full/spectra_and_v_train_norm.csv')\n",
    "val = pd.read_csv('/home/mariia/AstroML/data/asassn/preprocessed_data/full/spectra_and_v_val_norm.csv')\n",
    "test = pd.read_csv('/home/mariia/AstroML/data/asassn/preprocessed_data/full/spectra_and_v_test_norm.csv')\n",
    "\n",
    "train = train[train['target'].isin(CLASSES)]\n",
    "val = val[val['target'].isin(CLASSES)]\n",
    "test = test[test['target'].isin(CLASSES)]"
   ]
  },
  {
   "cell_type": "code",
   "execution_count": 19,
   "id": "f96066ae-9027-4a35-817e-174e130816ee",
   "metadata": {},
   "outputs": [
    {
     "name": "stdout",
     "output_type": "stream",
     "text": [
      "target\n",
      "EW      4969\n",
      "SR      3652\n",
      "EA      2367\n",
      "RRAB    1947\n",
      "EB      1585\n",
      "ROT     1464\n",
      "RRC      640\n",
      "HADS     229\n",
      "M        216\n",
      "DSCT     206\n",
      "Name: count, dtype: int64 17275\n",
      "target\n",
      "EW      523\n",
      "ROT     523\n",
      "RRAB    523\n",
      "SR      523\n",
      "RRC     523\n",
      "EB      523\n",
      "EA      523\n",
      "HADS    229\n",
      "M       216\n",
      "DSCT    206\n",
      "Name: count, dtype: int64 4312\n"
     ]
    }
   ],
   "source": [
    "print(train['target'].value_counts(), len(train))\n",
    "\n",
    "train_threshold = calc_threshold(train, len(train) // 4)\n",
    "train = limit(train, train_threshold)\n",
    "\n",
    "print(train['target'].value_counts(), len(train))"
   ]
  },
  {
   "cell_type": "code",
   "execution_count": 20,
   "id": "1bcaeda1-ca65-4264-a361-5120e5203fba",
   "metadata": {},
   "outputs": [
    {
     "name": "stdout",
     "output_type": "stream",
     "text": [
      "target\n",
      "EW      604\n",
      "SR      480\n",
      "EA      275\n",
      "RRAB    238\n",
      "EB      210\n",
      "ROT     189\n",
      "RRC      95\n",
      "M        30\n",
      "HADS     29\n",
      "DSCT     25\n",
      "Name: count, dtype: int64 2175\n",
      "target\n",
      "SR      65\n",
      "RRC     65\n",
      "RRAB    65\n",
      "EB      65\n",
      "ROT     65\n",
      "EW      65\n",
      "EA      65\n",
      "M       30\n",
      "HADS    29\n",
      "DSCT    25\n",
      "Name: count, dtype: int64 539\n"
     ]
    }
   ],
   "source": [
    "print(val['target'].value_counts(), len(val))\n",
    "\n",
    "val_threshold = calc_threshold(val, len(val) // 4)\n",
    "val = limit(val, val_threshold)\n",
    "\n",
    "print(val['target'].value_counts(), len(val))"
   ]
  },
  {
   "cell_type": "code",
   "execution_count": 21,
   "id": "42a65e5f-75c5-4660-a078-9196d808ad0a",
   "metadata": {},
   "outputs": [
    {
     "name": "stdout",
     "output_type": "stream",
     "text": [
      "target\n",
      "EW      693\n",
      "SR      465\n",
      "EA      301\n",
      "RRAB    239\n",
      "ROT     198\n",
      "EB      198\n",
      "RRC      81\n",
      "HADS     26\n",
      "DSCT     24\n",
      "M        22\n",
      "Name: count, dtype: int64 2247\n",
      "target\n",
      "EB      69\n",
      "EA      69\n",
      "RRC     69\n",
      "ROT     69\n",
      "SR      69\n",
      "EW      69\n",
      "RRAB    69\n",
      "HADS    26\n",
      "DSCT    24\n",
      "M       22\n",
      "Name: count, dtype: int64 555\n"
     ]
    }
   ],
   "source": [
    "print(test['target'].value_counts(), len(test))\n",
    "\n",
    "test_threshold = calc_threshold(test, len(test) // 4)\n",
    "test = limit(test, test_threshold)\n",
    "\n",
    "print(test['target'].value_counts(), len(test))"
   ]
  },
  {
   "cell_type": "code",
   "execution_count": 22,
   "id": "92cd2164-2a11-4a19-937b-f41c32f0f80d",
   "metadata": {},
   "outputs": [],
   "source": [
    "train.to_csv('/home/mariia/AstroML/data/asassn/preprocessed_data/sub25/spectra_and_v_train_norm.csv', index=False)\n",
    "val.to_csv('/home/mariia/AstroML/data/asassn/preprocessed_data/sub25/spectra_and_v_val_norm.csv', index=False)\n",
    "test.to_csv('/home/mariia/AstroML/data/asassn/preprocessed_data/sub25/spectra_and_v_test_norm.csv', index=False)"
   ]
  },
  {
   "cell_type": "markdown",
   "id": "a0ecea85-80e1-4597-a793-42b6b9c5058c",
   "metadata": {},
   "source": [
    "## SUB10"
   ]
  },
  {
   "cell_type": "code",
   "execution_count": 23,
   "id": "dde12a3a-1384-44b3-bf10-71dd342703fb",
   "metadata": {},
   "outputs": [],
   "source": [
    "train = pd.read_csv('/home/mariia/AstroML/data/asassn/preprocessed_data/full/spectra_and_v_train_norm.csv')\n",
    "val = pd.read_csv('/home/mariia/AstroML/data/asassn/preprocessed_data/full/spectra_and_v_val_norm.csv')\n",
    "test = pd.read_csv('/home/mariia/AstroML/data/asassn/preprocessed_data/full/spectra_and_v_test_norm.csv')\n",
    "\n",
    "train = train[train['target'].isin(CLASSES)]\n",
    "val = val[val['target'].isin(CLASSES)]\n",
    "test = test[test['target'].isin(CLASSES)]"
   ]
  },
  {
   "cell_type": "code",
   "execution_count": 24,
   "id": "c0494ef3-9ab6-4ce0-bcb3-cfc09b244dfd",
   "metadata": {},
   "outputs": [
    {
     "name": "stdout",
     "output_type": "stream",
     "text": [
      "target\n",
      "EW      4969\n",
      "SR      3652\n",
      "EA      2367\n",
      "RRAB    1947\n",
      "EB      1585\n",
      "ROT     1464\n",
      "RRC      640\n",
      "HADS     229\n",
      "M        216\n",
      "DSCT     206\n",
      "Name: count, dtype: int64 17275\n",
      "target\n",
      "RRC     169\n",
      "EB      169\n",
      "DSCT    169\n",
      "RRAB    169\n",
      "EW      169\n",
      "EA      169\n",
      "HADS    169\n",
      "ROT     169\n",
      "M       169\n",
      "SR      169\n",
      "Name: count, dtype: int64 1690\n"
     ]
    }
   ],
   "source": [
    "print(train['target'].value_counts(), len(train))\n",
    "\n",
    "train_threshold = calc_threshold(train, len(train) // 10)\n",
    "train = limit(train, train_threshold)\n",
    "\n",
    "print(train['target'].value_counts(), len(train))"
   ]
  },
  {
   "cell_type": "code",
   "execution_count": 25,
   "id": "f1ac3e67-dbda-400a-a1e7-fc1653d22bcf",
   "metadata": {},
   "outputs": [
    {
     "name": "stdout",
     "output_type": "stream",
     "text": [
      "target\n",
      "EW      604\n",
      "SR      480\n",
      "EA      275\n",
      "RRAB    238\n",
      "EB      210\n",
      "ROT     189\n",
      "RRC      95\n",
      "M        30\n",
      "HADS     29\n",
      "DSCT     25\n",
      "Name: count, dtype: int64 2175\n",
      "target\n",
      "RRC     21\n",
      "ROT     21\n",
      "HADS    21\n",
      "EB      21\n",
      "EA      21\n",
      "EW      21\n",
      "SR      21\n",
      "DSCT    21\n",
      "RRAB    21\n",
      "M       21\n",
      "Name: count, dtype: int64 210\n"
     ]
    }
   ],
   "source": [
    "print(val['target'].value_counts(), len(val))\n",
    "\n",
    "val_threshold = calc_threshold(val, len(val) // 10)\n",
    "val = limit(val, val_threshold)\n",
    "\n",
    "print(val['target'].value_counts(), len(val))"
   ]
  },
  {
   "cell_type": "code",
   "execution_count": 26,
   "id": "c135ea1c-f13d-45cc-a820-326fc419572c",
   "metadata": {},
   "outputs": [
    {
     "name": "stdout",
     "output_type": "stream",
     "text": [
      "target\n",
      "EW      693\n",
      "SR      465\n",
      "EA      301\n",
      "RRAB    239\n",
      "ROT     198\n",
      "EB      198\n",
      "RRC      81\n",
      "HADS     26\n",
      "DSCT     24\n",
      "M        22\n",
      "Name: count, dtype: int64 2247\n",
      "target\n",
      "RRAB    22\n",
      "SR      22\n",
      "RRC     22\n",
      "EW      22\n",
      "M       22\n",
      "HADS    22\n",
      "DSCT    22\n",
      "EB      22\n",
      "EA      22\n",
      "ROT     22\n",
      "Name: count, dtype: int64 220\n"
     ]
    }
   ],
   "source": [
    "print(test['target'].value_counts(), len(test))\n",
    "\n",
    "test_threshold = calc_threshold(test, len(test) // 10)\n",
    "test = limit(test, test_threshold)\n",
    "\n",
    "print(test['target'].value_counts(), len(test))"
   ]
  },
  {
   "cell_type": "code",
   "execution_count": 27,
   "id": "6b962a26-af41-48d9-bf1b-e7faaac8bf95",
   "metadata": {},
   "outputs": [],
   "source": [
    "train.to_csv('/home/mariia/AstroML/data/asassn/preprocessed_data/sub10/spectra_and_v_train_norm.csv', index=False)\n",
    "val.to_csv('/home/mariia/AstroML/data/asassn/preprocessed_data/sub10/spectra_and_v_val_norm.csv', index=False)\n",
    "test.to_csv('/home/mariia/AstroML/data/asassn/preprocessed_data/sub10/spectra_and_v_test_norm.csv', index=False)"
   ]
  },
  {
   "cell_type": "code",
   "execution_count": null,
   "id": "d3782010-933c-46e1-95eb-ae8d7fc6b42d",
   "metadata": {},
   "outputs": [],
   "source": []
  },
  {
   "cell_type": "code",
   "execution_count": null,
   "id": "9c6ee397-b6ad-4e32-88e1-7af35ea808ac",
   "metadata": {},
   "outputs": [],
   "source": []
  },
  {
   "cell_type": "code",
   "execution_count": null,
   "id": "a058b963-fbac-4ae8-9f58-c76ca6c66c6d",
   "metadata": {},
   "outputs": [],
   "source": []
  },
  {
   "cell_type": "code",
   "execution_count": null,
   "id": "4d02282b-650b-4468-8a16-0b3f089117dd",
   "metadata": {},
   "outputs": [],
   "source": []
  },
  {
   "cell_type": "code",
   "execution_count": null,
   "id": "3b151593-ba1d-457a-ad29-5a9360c00392",
   "metadata": {},
   "outputs": [],
   "source": []
  },
  {
   "cell_type": "code",
   "execution_count": null,
   "id": "5bd4eb60-e20d-4d60-bb34-70283f37ea56",
   "metadata": {},
   "outputs": [],
   "source": []
  },
  {
   "cell_type": "code",
   "execution_count": null,
   "id": "a07ed578-4f04-42cd-9722-728e0e522db2",
   "metadata": {},
   "outputs": [],
   "source": []
  },
  {
   "cell_type": "code",
   "execution_count": null,
   "id": "04c8f7ab-7cbc-46b9-abd3-37f446c3ea22",
   "metadata": {},
   "outputs": [],
   "source": []
  },
  {
   "cell_type": "code",
   "execution_count": null,
   "id": "3e6a40e4-3750-453d-ad62-735cc61f74e9",
   "metadata": {},
   "outputs": [],
   "source": []
  },
  {
   "cell_type": "code",
   "execution_count": null,
   "id": "0dd8d9d3-0698-4061-9172-062ec83707f5",
   "metadata": {},
   "outputs": [],
   "source": []
  },
  {
   "cell_type": "code",
   "execution_count": null,
   "id": "f08f00b6-b499-4529-9e6b-cbabce74deea",
   "metadata": {},
   "outputs": [],
   "source": []
  },
  {
   "cell_type": "code",
   "execution_count": null,
   "id": "ed036634-4db4-4e64-a883-4e893eb45b1a",
   "metadata": {},
   "outputs": [],
   "source": []
  },
  {
   "cell_type": "code",
   "execution_count": null,
   "id": "3e5fa4f5-4b57-4d45-816d-44abbd85ec62",
   "metadata": {},
   "outputs": [],
   "source": []
  },
  {
   "cell_type": "code",
   "execution_count": null,
   "id": "a3a9a81c-73b8-431f-9d63-bdaf64743372",
   "metadata": {},
   "outputs": [],
   "source": []
  },
  {
   "cell_type": "code",
   "execution_count": null,
   "id": "5ef25382-7770-48d3-af88-f4467712c79e",
   "metadata": {},
   "outputs": [],
   "source": []
  },
  {
   "cell_type": "code",
   "execution_count": null,
   "id": "fa261114-21c1-466d-83a5-9db450fe1d48",
   "metadata": {},
   "outputs": [],
   "source": []
  },
  {
   "cell_type": "code",
   "execution_count": null,
   "id": "2ae7279e-6631-4e29-b8aa-0dd0986d0ba1",
   "metadata": {},
   "outputs": [],
   "source": []
  },
  {
   "cell_type": "code",
   "execution_count": null,
   "id": "9aadfb48-dbe0-43c7-b9e6-de27fd126caa",
   "metadata": {},
   "outputs": [],
   "source": []
  },
  {
   "cell_type": "code",
   "execution_count": null,
   "id": "bebc9afd-49b4-4d20-9851-d573fa6ff550",
   "metadata": {},
   "outputs": [],
   "source": []
  },
  {
   "cell_type": "code",
   "execution_count": null,
   "id": "43c3315e-e2b8-4245-8c23-72d29927f975",
   "metadata": {},
   "outputs": [],
   "source": []
  },
  {
   "cell_type": "code",
   "execution_count": null,
   "id": "e9990d9b-63f0-4966-90d7-152a42409825",
   "metadata": {},
   "outputs": [],
   "source": []
  },
  {
   "cell_type": "code",
   "execution_count": null,
   "id": "938bae80-b036-4486-9d9a-91c1c8b4a9c2",
   "metadata": {},
   "outputs": [],
   "source": []
  },
  {
   "cell_type": "code",
   "execution_count": null,
   "id": "9bd3a3b0-57bf-4127-9d79-9e5d05ce4894",
   "metadata": {},
   "outputs": [],
   "source": []
  },
  {
   "cell_type": "code",
   "execution_count": null,
   "id": "6fe0f87c-d642-432a-8936-faa8e45b7506",
   "metadata": {},
   "outputs": [],
   "source": []
  },
  {
   "cell_type": "code",
   "execution_count": null,
   "id": "e2b968af-daa3-40e1-9900-3a1870db883d",
   "metadata": {},
   "outputs": [],
   "source": []
  }
 ],
 "metadata": {
  "kernelspec": {
   "display_name": "Python 3 (ipykernel)",
   "language": "python",
   "name": "python3"
  },
  "language_info": {
   "codemirror_mode": {
    "name": "ipython",
    "version": 3
   },
   "file_extension": ".py",
   "mimetype": "text/x-python",
   "name": "python",
   "nbconvert_exporter": "python",
   "pygments_lexer": "ipython3",
   "version": "3.10.14"
  }
 },
 "nbformat": 4,
 "nbformat_minor": 5
}

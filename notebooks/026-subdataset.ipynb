{
 "cells": [
  {
   "cell_type": "code",
   "execution_count": 1,
   "id": "2d261ed3-83a3-4a4e-a3a0-0109a65addd4",
   "metadata": {},
   "outputs": [],
   "source": [
    "import pandas as pd\n",
    "import numpy as np\n",
    "import random"
   ]
  },
  {
   "cell_type": "code",
   "execution_count": 2,
   "id": "4e3eacd4-2ce6-41ac-9aa0-456606f9ae5a",
   "metadata": {},
   "outputs": [],
   "source": [
    "random_seed = 42\n",
    "np.random.seed(random_seed)\n",
    "random.seed(random_seed)"
   ]
  },
  {
   "cell_type": "code",
   "execution_count": 3,
   "id": "3cd7bfdf-5f81-4113-9cc6-955ca64ea62f",
   "metadata": {},
   "outputs": [],
   "source": [
    "CLASSES = ['EW', 'SR', 'EA', 'RRAB', 'EB', 'ROT', 'RRC', 'HADS', 'M', 'DSCT']"
   ]
  },
  {
   "cell_type": "code",
   "execution_count": 4,
   "id": "0c7675b5-15d5-48d0-9e48-9a4f3a2bfead",
   "metadata": {},
   "outputs": [],
   "source": [
    "def calc_threshold(df, goal):\n",
    "    counts = df['target'].value_counts(ascending=True)\n",
    "    num_classes = len(counts)\n",
    "    \n",
    "    i = 1\n",
    "    diff = (num_classes - i) * (counts.iloc[i] - counts.iloc[i - 1])\n",
    "    count = num_classes * counts.iloc[i - 1]\n",
    "    \n",
    "    while count + diff < goal:\n",
    "        count += diff\n",
    "        i += 1\n",
    "        diff = (num_classes - i) * (counts.iloc[i] - counts.iloc[i - 1])\n",
    "    \n",
    "    threshold = (goal - count) // (num_classes - i) + counts.iloc[i - 1]\n",
    "\n",
    "    return threshold"
   ]
  },
  {
   "cell_type": "code",
   "execution_count": 5,
   "id": "ab04cf7c-39bc-4732-b979-53f85b774c43",
   "metadata": {},
   "outputs": [],
   "source": [
    "def limit(df, threshold):\n",
    "    value_counts = df['target'].value_counts()\n",
    "    classes_to_limit = value_counts[value_counts > threshold].index\n",
    "    \n",
    "    for class_type in classes_to_limit:\n",
    "        class_indices = df[df['target'] == class_type].index\n",
    "        indices_to_keep = np.random.choice(class_indices, size=threshold, replace=False)\n",
    "        df = df.drop(index=set(class_indices) - set(indices_to_keep))\n",
    "\n",
    "    return df"
   ]
  },
  {
   "cell_type": "markdown",
   "id": "be8eecb5-2755-47d0-bd91-be3d2caddd27",
   "metadata": {},
   "source": [
    "## SUB50"
   ]
  },
  {
   "cell_type": "code",
   "execution_count": 6,
   "id": "aeae14d3-5f52-4cb3-92ab-3d893362d3e9",
   "metadata": {},
   "outputs": [],
   "source": [
    "train = pd.read_csv('/home/mariia/AstroML/data/asassn/preprocessed_data/full/spectra_and_v_train_norm.csv')\n",
    "val = pd.read_csv('/home/mariia/AstroML/data/asassn/preprocessed_data/full/spectra_and_v_val_norm.csv')\n",
    "test = pd.read_csv('/home/mariia/AstroML/data/asassn/preprocessed_data/full/spectra_and_v_test_norm.csv')"
   ]
  },
  {
   "cell_type": "code",
   "execution_count": 7,
   "id": "dff6e062-60cd-41f8-ac51-1c3fa9a65e62",
   "metadata": {},
   "outputs": [],
   "source": [
    "train = train[train['target'].isin(CLASSES)]\n",
    "val = val[val['target'].isin(CLASSES)]\n",
    "test = test[test['target'].isin(CLASSES)]"
   ]
  },
  {
   "cell_type": "code",
   "execution_count": 8,
   "id": "03b56e68-0b0e-4693-936d-1b7935269060",
   "metadata": {},
   "outputs": [
    {
     "data": {
      "text/plain": [
       "(target\n",
       " EW      4969\n",
       " SR      3652\n",
       " EA      2367\n",
       " RRAB    1947\n",
       " EB      1585\n",
       " ROT     1464\n",
       " RRC      640\n",
       " HADS     229\n",
       " M        216\n",
       " DSCT     206\n",
       " Name: count, dtype: int64,\n",
       " 17275)"
      ]
     },
     "execution_count": 8,
     "metadata": {},
     "output_type": "execute_result"
    }
   ],
   "source": [
    "train['target'].value_counts(), len(train)"
   ]
  },
  {
   "cell_type": "code",
   "execution_count": 9,
   "id": "dc88b36e-bc23-40c0-944b-4a057860ac6e",
   "metadata": {},
   "outputs": [],
   "source": [
    "train_threshold = calc_threshold(train, len(train) // 2)\n",
    "train = limit(train, train_threshold)"
   ]
  },
  {
   "cell_type": "code",
   "execution_count": 10,
   "id": "c1d25ec6-6c79-4886-9140-c76304d25dfb",
   "metadata": {},
   "outputs": [
    {
     "data": {
      "text/plain": [
       "(target\n",
       " ROT     1224\n",
       " SR      1224\n",
       " EW      1224\n",
       " EA      1224\n",
       " RRAB    1224\n",
       " EB      1224\n",
       " RRC      640\n",
       " HADS     229\n",
       " M        216\n",
       " DSCT     206\n",
       " Name: count, dtype: int64,\n",
       " 8635)"
      ]
     },
     "execution_count": 10,
     "metadata": {},
     "output_type": "execute_result"
    }
   ],
   "source": [
    "train['target'].value_counts(), len(train)"
   ]
  },
  {
   "cell_type": "code",
   "execution_count": 11,
   "id": "8cc0df64-d92d-4a14-a483-d0d23f9cd9b2",
   "metadata": {},
   "outputs": [
    {
     "data": {
      "text/plain": [
       "(target\n",
       " EW      604\n",
       " SR      480\n",
       " EA      275\n",
       " RRAB    238\n",
       " EB      210\n",
       " ROT     189\n",
       " RRC      95\n",
       " M        30\n",
       " HADS     29\n",
       " DSCT     25\n",
       " Name: count, dtype: int64,\n",
       " 2175)"
      ]
     },
     "execution_count": 11,
     "metadata": {},
     "output_type": "execute_result"
    }
   ],
   "source": [
    "val['target'].value_counts(), len(val)"
   ]
  },
  {
   "cell_type": "code",
   "execution_count": 12,
   "id": "d9961e31-429d-4488-bec3-70866c95f59e",
   "metadata": {},
   "outputs": [],
   "source": [
    "val_threshold = calc_threshold(val, len(val) // 2)\n",
    "val = limit(val, val_threshold)"
   ]
  },
  {
   "cell_type": "code",
   "execution_count": 13,
   "id": "339e6166-2c99-4664-993d-aba80873cf92",
   "metadata": {},
   "outputs": [
    {
     "data": {
      "text/plain": [
       "(target\n",
       " RRAB    151\n",
       " SR      151\n",
       " EB      151\n",
       " EW      151\n",
       " ROT     151\n",
       " EA      151\n",
       " RRC      95\n",
       " M        30\n",
       " HADS     29\n",
       " DSCT     25\n",
       " Name: count, dtype: int64,\n",
       " 1085)"
      ]
     },
     "execution_count": 13,
     "metadata": {},
     "output_type": "execute_result"
    }
   ],
   "source": [
    "val['target'].value_counts(), len(val)"
   ]
  },
  {
   "cell_type": "code",
   "execution_count": 14,
   "id": "d496b35a-7c3e-486c-8c2d-2d158d9fd4d7",
   "metadata": {},
   "outputs": [
    {
     "data": {
      "text/plain": [
       "(target\n",
       " EW      693\n",
       " SR      465\n",
       " EA      301\n",
       " RRAB    239\n",
       " ROT     198\n",
       " EB      198\n",
       " RRC      81\n",
       " HADS     26\n",
       " DSCT     24\n",
       " M        22\n",
       " Name: count, dtype: int64,\n",
       " 2247)"
      ]
     },
     "execution_count": 14,
     "metadata": {},
     "output_type": "execute_result"
    }
   ],
   "source": [
    "test['target'].value_counts(), len(test)"
   ]
  },
  {
   "cell_type": "code",
   "execution_count": 15,
   "id": "68c75c2f-9dbf-4dbe-90ed-9082b3033c70",
   "metadata": {},
   "outputs": [],
   "source": [
    "test_threshold = calc_threshold(test, len(test) // 2)\n",
    "test = limit(test, test_threshold)"
   ]
  },
  {
   "cell_type": "code",
   "execution_count": 16,
   "id": "3d34b664-9ea8-4263-9d51-36ca77b6f27d",
   "metadata": {},
   "outputs": [
    {
     "data": {
      "text/plain": [
       "(target\n",
       " EB      161\n",
       " ROT     161\n",
       " EW      161\n",
       " EA      161\n",
       " SR      161\n",
       " RRAB    161\n",
       " RRC      81\n",
       " HADS     26\n",
       " DSCT     24\n",
       " M        22\n",
       " Name: count, dtype: int64,\n",
       " 1119)"
      ]
     },
     "execution_count": 16,
     "metadata": {},
     "output_type": "execute_result"
    }
   ],
   "source": [
    "test['target'].value_counts(), len(test)"
   ]
  },
  {
   "cell_type": "code",
   "execution_count": 17,
   "id": "483bc6a9-d381-439c-ae16-0c0c2a76baf8",
   "metadata": {},
   "outputs": [],
   "source": [
    "train.to_csv('/home/mariia/AstroML/data/asassn/preprocessed_data/sub50/spectra_and_v_train_norm.csv', index=False)\n",
    "val.to_csv('/home/mariia/AstroML/data/asassn/preprocessed_data/sub50/spectra_and_v_val_norm.csv', index=False)\n",
    "test.to_csv('/home/mariia/AstroML/data/asassn/preprocessed_data/sub50/spectra_and_v_test_norm.csv', index=False)"
   ]
  },
  {
   "cell_type": "markdown",
   "id": "83abdada-0d81-4eee-b792-8bb7151fa307",
   "metadata": {},
   "source": [
    "## SUB25"
   ]
  },
  {
   "cell_type": "code",
   "execution_count": 18,
   "id": "c705072b-4b02-41e2-9007-d43550e6c1de",
   "metadata": {},
   "outputs": [],
   "source": [
    "train = pd.read_csv('/home/mariia/AstroML/data/asassn/preprocessed_data/full/spectra_and_v_train_norm.csv')\n",
    "val = pd.read_csv('/home/mariia/AstroML/data/asassn/preprocessed_data/full/spectra_and_v_val_norm.csv')\n",
    "test = pd.read_csv('/home/mariia/AstroML/data/asassn/preprocessed_data/full/spectra_and_v_test_norm.csv')\n",
    "\n",
    "train = train[train['target'].isin(CLASSES)]\n",
    "val = val[val['target'].isin(CLASSES)]\n",
    "test = test[test['target'].isin(CLASSES)]"
   ]
  },
  {
   "cell_type": "code",
   "execution_count": 19,
   "id": "f96066ae-9027-4a35-817e-174e130816ee",
   "metadata": {},
   "outputs": [
    {
     "name": "stdout",
     "output_type": "stream",
     "text": [
      "target\n",
      "EW      4969\n",
      "SR      3652\n",
      "EA      2367\n",
      "RRAB    1947\n",
      "EB      1585\n",
      "ROT     1464\n",
      "RRC      640\n",
      "HADS     229\n",
      "M        216\n",
      "DSCT     206\n",
      "Name: count, dtype: int64 17275\n",
      "target\n",
      "EW      523\n",
      "ROT     523\n",
      "RRAB    523\n",
      "SR      523\n",
      "RRC     523\n",
      "EB      523\n",
      "EA      523\n",
      "HADS    229\n",
      "M       216\n",
      "DSCT    206\n",
      "Name: count, dtype: int64 4312\n"
     ]
    }
   ],
   "source": [
    "print(train['target'].value_counts(), len(train))\n",
    "\n",
    "train_threshold = calc_threshold(train, len(train) // 4)\n",
    "train = limit(train, train_threshold)\n",
    "\n",
    "print(train['target'].value_counts(), len(train))"
   ]
  },
  {
   "cell_type": "code",
   "execution_count": 20,
   "id": "1bcaeda1-ca65-4264-a361-5120e5203fba",
   "metadata": {},
   "outputs": [
    {
     "name": "stdout",
     "output_type": "stream",
     "text": [
      "target\n",
      "EW      604\n",
      "SR      480\n",
      "EA      275\n",
      "RRAB    238\n",
      "EB      210\n",
      "ROT     189\n",
      "RRC      95\n",
      "M        30\n",
      "HADS     29\n",
      "DSCT     25\n",
      "Name: count, dtype: int64 2175\n",
      "target\n",
      "SR      65\n",
      "RRC     65\n",
      "RRAB    65\n",
      "EB      65\n",
      "ROT     65\n",
      "EW      65\n",
      "EA      65\n",
      "M       30\n",
      "HADS    29\n",
      "DSCT    25\n",
      "Name: count, dtype: int64 539\n"
     ]
    }
   ],
   "source": [
    "print(val['target'].value_counts(), len(val))\n",
    "\n",
    "val_threshold = calc_threshold(val, len(val) // 4)\n",
    "val = limit(val, val_threshold)\n",
    "\n",
    "print(val['target'].value_counts(), len(val))"
   ]
  },
  {
   "cell_type": "code",
   "execution_count": 21,
   "id": "42a65e5f-75c5-4660-a078-9196d808ad0a",
   "metadata": {},
   "outputs": [
    {
     "name": "stdout",
     "output_type": "stream",
     "text": [
      "target\n",
      "EW      693\n",
      "SR      465\n",
      "EA      301\n",
      "RRAB    239\n",
      "ROT     198\n",
      "EB      198\n",
      "RRC      81\n",
      "HADS     26\n",
      "DSCT     24\n",
      "M        22\n",
      "Name: count, dtype: int64 2247\n",
      "target\n",
      "EB      69\n",
      "EA      69\n",
      "RRC     69\n",
      "ROT     69\n",
      "SR      69\n",
      "EW      69\n",
      "RRAB    69\n",
      "HADS    26\n",
      "DSCT    24\n",
      "M       22\n",
      "Name: count, dtype: int64 555\n"
     ]
    }
   ],
   "source": [
    "print(test['target'].value_counts(), len(test))\n",
    "\n",
    "test_threshold = calc_threshold(test, len(test) // 4)\n",
    "test = limit(test, test_threshold)\n",
    "\n",
    "print(test['target'].value_counts(), len(test))"
   ]
  },
  {
   "cell_type": "code",
   "execution_count": 22,
   "id": "92cd2164-2a11-4a19-937b-f41c32f0f80d",
   "metadata": {},
   "outputs": [],
   "source": [
    "train.to_csv('/home/mariia/AstroML/data/asassn/preprocessed_data/sub25/spectra_and_v_train_norm.csv', index=False)\n",
    "val.to_csv('/home/mariia/AstroML/data/asassn/preprocessed_data/sub25/spectra_and_v_val_norm.csv', index=False)\n",
    "test.to_csv('/home/mariia/AstroML/data/asassn/preprocessed_data/sub25/spectra_and_v_test_norm.csv', index=False)"
   ]
  },
  {
   "cell_type": "markdown",
   "id": "a0ecea85-80e1-4597-a793-42b6b9c5058c",
   "metadata": {},
   "source": [
    "## SUB10"
   ]
  },
  {
   "cell_type": "code",
   "execution_count": 23,
   "id": "dde12a3a-1384-44b3-bf10-71dd342703fb",
   "metadata": {},
   "outputs": [],
   "source": [
    "train = pd.read_csv('/home/mariia/AstroML/data/asassn/preprocessed_data/full/spectra_and_v_train_norm.csv')\n",
    "val = pd.read_csv('/home/mariia/AstroML/data/asassn/preprocessed_data/full/spectra_and_v_val_norm.csv')\n",
    "test = pd.read_csv('/home/mariia/AstroML/data/asassn/preprocessed_data/full/spectra_and_v_test_norm.csv')\n",
    "\n",
    "train = train[train['target'].isin(CLASSES)]\n",
    "val = val[val['target'].isin(CLASSES)]\n",
    "test = test[test['target'].isin(CLASSES)]"
   ]
  },
  {
   "cell_type": "code",
   "execution_count": 24,
   "id": "c0494ef3-9ab6-4ce0-bcb3-cfc09b244dfd",
   "metadata": {},
   "outputs": [
    {
     "name": "stdout",
     "output_type": "stream",
     "text": [
      "target\n",
      "EW      4969\n",
      "SR      3652\n",
      "EA      2367\n",
      "RRAB    1947\n",
      "EB      1585\n",
      "ROT     1464\n",
      "RRC      640\n",
      "HADS     229\n",
      "M        216\n",
      "DSCT     206\n",
      "Name: count, dtype: int64 17275\n",
      "target\n",
      "RRC     169\n",
      "EB      169\n",
      "DSCT    169\n",
      "RRAB    169\n",
      "EW      169\n",
      "EA      169\n",
      "HADS    169\n",
      "ROT     169\n",
      "M       169\n",
      "SR      169\n",
      "Name: count, dtype: int64 1690\n"
     ]
    }
   ],
   "source": [
    "print(train['target'].value_counts(), len(train))\n",
    "\n",
    "train_threshold = calc_threshold(train, len(train) // 10)\n",
    "train = limit(train, train_threshold)\n",
    "\n",
    "print(train['target'].value_counts(), len(train))"
   ]
  },
  {
   "cell_type": "code",
   "execution_count": 25,
   "id": "f1ac3e67-dbda-400a-a1e7-fc1653d22bcf",
   "metadata": {},
   "outputs": [
    {
     "name": "stdout",
     "output_type": "stream",
     "text": [
      "target\n",
      "EW      604\n",
      "SR      480\n",
      "EA      275\n",
      "RRAB    238\n",
      "EB      210\n",
      "ROT     189\n",
      "RRC      95\n",
      "M        30\n",
      "HADS     29\n",
      "DSCT     25\n",
      "Name: count, dtype: int64 2175\n",
      "target\n",
      "RRC     21\n",
      "ROT     21\n",
      "HADS    21\n",
      "EB      21\n",
      "EA      21\n",
      "EW      21\n",
      "SR      21\n",
      "DSCT    21\n",
      "RRAB    21\n",
      "M       21\n",
      "Name: count, dtype: int64 210\n"
     ]
    }
   ],
   "source": [
    "print(val['target'].value_counts(), len(val))\n",
    "\n",
    "val_threshold = calc_threshold(val, len(val) // 10)\n",
    "val = limit(val, val_threshold)\n",
    "\n",
    "print(val['target'].value_counts(), len(val))"
   ]
  },
  {
   "cell_type": "code",
   "execution_count": 26,
   "id": "c135ea1c-f13d-45cc-a820-326fc419572c",
   "metadata": {},
   "outputs": [
    {
     "name": "stdout",
     "output_type": "stream",
     "text": [
      "target\n",
      "EW      693\n",
      "SR      465\n",
      "EA      301\n",
      "RRAB    239\n",
      "ROT     198\n",
      "EB      198\n",
      "RRC      81\n",
      "HADS     26\n",
      "DSCT     24\n",
      "M        22\n",
      "Name: count, dtype: int64 2247\n",
      "target\n",
      "RRAB    22\n",
      "SR      22\n",
      "RRC     22\n",
      "EW      22\n",
      "M       22\n",
      "HADS    22\n",
      "DSCT    22\n",
      "EB      22\n",
      "EA      22\n",
      "ROT     22\n",
      "Name: count, dtype: int64 220\n"
     ]
    }
   ],
   "source": [
    "print(test['target'].value_counts(), len(test))\n",
    "\n",
    "test_threshold = calc_threshold(test, len(test) // 10)\n",
    "test = limit(test, test_threshold)\n",
    "\n",
    "print(test['target'].value_counts(), len(test))"
   ]
  },
  {
   "cell_type": "code",
   "execution_count": 27,
   "id": "6b962a26-af41-48d9-bf1b-e7faaac8bf95",
   "metadata": {},
   "outputs": [],
   "source": [
    "train.to_csv('/home/mariia/AstroML/data/asassn/preprocessed_data/sub10/spectra_and_v_train_norm.csv', index=False)\n",
    "val.to_csv('/home/mariia/AstroML/data/asassn/preprocessed_data/sub10/spectra_and_v_val_norm.csv', index=False)\n",
    "test.to_csv('/home/mariia/AstroML/data/asassn/preprocessed_data/sub10/spectra_and_v_test_norm.csv', index=False)"
   ]
  },
  {
   "cell_type": "code",
   "execution_count": null,
   "id": "d3782010-933c-46e1-95eb-ae8d7fc6b42d",
   "metadata": {},
   "outputs": [],
   "source": []
  },
  {
   "cell_type": "code",
   "execution_count": null,
   "id": "9c6ee397-b6ad-4e32-88e1-7af35ea808ac",
   "metadata": {},
   "outputs": [],
   "source": []
  },
  {
   "cell_type": "code",
   "execution_count": null,
   "id": "a058b963-fbac-4ae8-9f58-c76ca6c66c6d",
   "metadata": {},
   "outputs": [],
   "source": []
  },
  {
   "cell_type": "code",
   "execution_count": null,
   "id": "4d02282b-650b-4468-8a16-0b3f089117dd",
   "metadata": {},
   "outputs": [],
   "source": []
  },
  {
   "cell_type": "code",
   "execution_count": null,
   "id": "3b151593-ba1d-457a-ad29-5a9360c00392",
   "metadata": {},
   "outputs": [],
   "source": []
  },
  {
   "cell_type": "code",
   "execution_count": null,
   "id": "5bd4eb60-e20d-4d60-bb34-70283f37ea56",
   "metadata": {},
   "outputs": [],
   "source": []
  },
  {
   "cell_type": "code",
   "execution_count": null,
   "id": "a07ed578-4f04-42cd-9722-728e0e522db2",
   "metadata": {},
   "outputs": [],
   "source": []
  },
  {
   "cell_type": "code",
   "execution_count": null,
   "id": "04c8f7ab-7cbc-46b9-abd3-37f446c3ea22",
   "metadata": {},
   "outputs": [],
   "source": []
  },
  {
   "cell_type": "code",
   "execution_count": null,
   "id": "3e6a40e4-3750-453d-ad62-735cc61f74e9",
   "metadata": {},
   "outputs": [],
   "source": []
  },
  {
   "cell_type": "code",
   "execution_count": null,
   "id": "0dd8d9d3-0698-4061-9172-062ec83707f5",
   "metadata": {},
   "outputs": [],
   "source": []
  },
  {
   "cell_type": "code",
   "execution_count": null,
   "id": "f08f00b6-b499-4529-9e6b-cbabce74deea",
   "metadata": {},
   "outputs": [],
   "source": []
  },
  {
   "cell_type": "code",
   "execution_count": null,
   "id": "ed036634-4db4-4e64-a883-4e893eb45b1a",
   "metadata": {},
   "outputs": [],
   "source": []
  },
  {
   "cell_type": "code",
   "execution_count": null,
   "id": "3e5fa4f5-4b57-4d45-816d-44abbd85ec62",
   "metadata": {},
   "outputs": [],
   "source": []
  },
  {
   "cell_type": "code",
   "execution_count": null,
   "id": "a3a9a81c-73b8-431f-9d63-bdaf64743372",
   "metadata": {},
   "outputs": [],
   "source": []
  },
  {
   "cell_type": "code",
   "execution_count": null,
   "id": "5ef25382-7770-48d3-af88-f4467712c79e",
   "metadata": {},
   "outputs": [],
   "source": []
  },
  {
   "cell_type": "code",
   "execution_count": null,
   "id": "fa261114-21c1-466d-83a5-9db450fe1d48",
   "metadata": {},
   "outputs": [],
   "source": []
  },
  {
   "cell_type": "code",
   "execution_count": null,
   "id": "2ae7279e-6631-4e29-b8aa-0dd0986d0ba1",
   "metadata": {},
   "outputs": [],
   "source": []
  },
  {
   "cell_type": "code",
   "execution_count": null,
   "id": "9aadfb48-dbe0-43c7-b9e6-de27fd126caa",
   "metadata": {},
   "outputs": [],
   "source": []
  },
  {
   "cell_type": "code",
   "execution_count": null,
   "id": "bebc9afd-49b4-4d20-9851-d573fa6ff550",
   "metadata": {},
   "outputs": [],
   "source": []
  },
  {
   "cell_type": "code",
   "execution_count": null,
   "id": "43c3315e-e2b8-4245-8c23-72d29927f975",
   "metadata": {},
   "outputs": [],
   "source": []
  },
  {
   "cell_type": "code",
   "execution_count": null,
   "id": "e9990d9b-63f0-4966-90d7-152a42409825",
   "metadata": {},
   "outputs": [],
   "source": []
  },
  {
   "cell_type": "code",
   "execution_count": null,
   "id": "938bae80-b036-4486-9d9a-91c1c8b4a9c2",
   "metadata": {},
   "outputs": [],
   "source": []
  },
  {
   "cell_type": "code",
   "execution_count": null,
   "id": "9bd3a3b0-57bf-4127-9d79-9e5d05ce4894",
   "metadata": {},
   "outputs": [],
   "source": []
  },
  {
   "cell_type": "code",
   "execution_count": null,
   "id": "6fe0f87c-d642-432a-8936-faa8e45b7506",
   "metadata": {},
   "outputs": [],
   "source": []
  },
  {
   "cell_type": "code",
   "execution_count": null,
   "id": "e2b968af-daa3-40e1-9900-3a1870db883d",
   "metadata": {},
   "outputs": [],
   "source": []
  }
 ],
 "metadata": {
  "kernelspec": {
   "display_name": "Python 3 (ipykernel)",
   "language": "python",
   "name": "python3"
  },
  "language_info": {
   "codemirror_mode": {
    "name": "ipython",
    "version": 3
   },
   "file_extension": ".py",
   "mimetype": "text/x-python",
   "name": "python",
   "nbconvert_exporter": "python",
   "pygments_lexer": "ipython3",
   "version": "3.10.14"
  }
 },
 "nbformat": 4,
 "nbformat_minor": 5
}

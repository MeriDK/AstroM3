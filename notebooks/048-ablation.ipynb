{
 "cells": [
  {
   "cell_type": "code",
   "execution_count": 10,
   "id": "9b4cde24-5104-466b-873f-608a1cd44d00",
   "metadata": {},
   "source": [
    "import sys\n",
    "sys.path.insert(0, '..')\n",
    "\n",
    "import torch\n",
    "import os\n",
    "import wandb\n",
    "import random\n",
    "import numpy as np\n",
    "import torch\n",
    "from torch import nn\n",
    "from torch.utils.data import DataLoader\n",
    "from datetime import datetime\n",
    "import matplotlib.pyplot as plt\n",
    "import pandas as pd\n",
    "from scipy import stats\n",
    "from tqdm import tqdm\n",
    "from matplotlib import cm\n",
    "import seaborn as sns\n",
    "from PIL import Image\n",
    "import umap\n",
    "import torch.nn.functional as F\n",
    "import math\n",
    "from scipy.stats import norm\n",
    "import joblib\n",
    "from sklearn.metrics import confusion_matrix\n",
    "\n",
    "from core.final.dataset import PSMDataset\n",
    "from core.final.model import GalSpecNet, MetaModel, Informer, AstroModel\n",
    "from core.final.trainer import Trainer"
   ],
   "outputs": []
  },
  {
   "cell_type": "code",
   "execution_count": 3,
   "id": "00d38329-8222-42f5-a09c-f583e3a30054",
   "metadata": {},
   "source": [
    "random_seed = 42\n",
    "torch.manual_seed(random_seed)\n",
    "torch.cuda.manual_seed(random_seed)\n",
    "np.random.seed(random_seed)\n",
    "random.seed(random_seed)\n",
    "torch.backends.cudnn.deterministic = True\n",
    "torch.backends.cudnn.benchmark = False"
   ],
   "outputs": []
  },
  {
   "cell_type": "code",
   "execution_count": 4,
   "id": "2721a9b2-0689-40f7-86fc-ae325a39ad86",
   "metadata": {},
   "source": [
    "def get_embs(dataloader):\n",
    "    all_p_emb, all_s_emb, all_m_emb = [], [], []\n",
    "    all_labels = []\n",
    "    \n",
    "    for photometry, photometry_mask, spectra, metadata, labels in tqdm(dataloader):\n",
    "        photometry, photometry_mask = photometry.to(device), photometry_mask.to(device)\n",
    "        spectra, metadata = spectra.to(device), metadata.to(device)\n",
    "    \n",
    "        with torch.no_grad():\n",
    "            p_emb, s_emb, m_emb = model.get_embeddings(photometry, photometry_mask, spectra, metadata)\n",
    "    \n",
    "            all_p_emb.append(p_emb.cpu())\n",
    "            all_s_emb.append(s_emb.cpu())\n",
    "            all_m_emb.append(m_emb.cpu())\n",
    "            all_labels.append(labels)\n",
    "    \n",
    "    all_p_emb = torch.vstack(all_p_emb)\n",
    "    all_s_emb = torch.vstack(all_s_emb)\n",
    "    all_m_emb = torch.vstack(all_m_emb)\n",
    "    all_labels = torch.hstack(all_labels)\n",
    "\n",
    "    return all_p_emb, all_s_emb, all_m_emb, all_labels"
   ],
   "outputs": []
  },
  {
   "cell_type": "code",
   "execution_count": 34,
   "id": "e643586d-ecff-45fe-8b5e-df8cee744d3f",
   "metadata": {},
   "source": [
    "run_id = 'MeriDK/AstroCLIPResults3/dw71clqy'\n",
    "api = wandb.Api()\n",
    "run = api.run(run_id)\n",
    "config = run.config\n",
    "config['use_wandb'] = False\n",
    "\n",
    "model = AstroModel(config)\n",
    "device = torch.device('cuda:2' if torch.cuda.is_available() else 'cpu')\n",
    "model = model.to(device)\n",
    "model.eval()\n",
    "\n",
    "weights_path = os.path.join(config['weights_path'] + '-' + run_id.split('/')[-1], f'weights-best.pth')\n",
    "model.load_state_dict(torch.load(weights_path, weights_only=False))"
   ],
   "outputs": []
  },
  {
   "cell_type": "code",
   "execution_count": 35,
   "id": "5723e71b-486c-44db-abc5-67ebc4b7fca3",
   "metadata": {},
   "source": [
    "train_dataset = PSMDataset(config, split='train')\n",
    "train_dataloader = DataLoader(train_dataset, batch_size=config['batch_size'], shuffle=False)\n",
    "\n",
    "val_dataset = PSMDataset(config, split='val')\n",
    "val_dataloader = DataLoader(val_dataset, batch_size=config['batch_size'], shuffle=False)\n",
    "\n",
    "test_dataset = PSMDataset(config, split='test')\n",
    "test_dataloader = DataLoader(test_dataset, batch_size=config['batch_size'], shuffle=False)"
   ],
   "outputs": []
  },
  {
   "cell_type": "code",
   "execution_count": 36,
   "id": "2b2c91fa-e593-4204-b669-3af3d7b72e5a",
   "metadata": {},
   "source": [
    "train_p_emb, train_s_emb, train_m_emb, train_labels = get_embs(train_dataloader)\n",
    "val_p_emb, val_s_emb, val_m_emb, val_labels = get_embs(val_dataloader)\n",
    "test_p_emb, test_s_emb, test_m_emb, test_labels = get_embs(test_dataloader)"
   ],
   "outputs": []
  },
  {
   "cell_type": "code",
   "execution_count": 37,
   "id": "ce2704d6-a8bd-4f3f-9a70-653d1d3fc080",
   "metadata": {},
   "source": [
    "test_emb = (test_p_emb + test_s_emb + test_m_emb) / 3\n",
    "test_logits = model.fc(test_emb.to(device))\n",
    "probabilities = torch.nn.functional.softmax(test_logits, dim=1)\n",
    "_, predicted_labels = torch.max(probabilities, dim=1)"
   ],
   "outputs": []
  },
  {
   "cell_type": "code",
   "execution_count": 38,
   "id": "de553d7b-0cb7-4a59-ab9c-55bafff7ee84",
   "metadata": {},
   "source": [
    "p_logits = model.fc(test_p_emb.to(device))\n",
    "p_prob = torch.nn.functional.softmax(p_logits, dim=1)\n",
    "_, p_pred = torch.max(p_prob, dim=1)"
   ],
   "outputs": []
  },
  {
   "cell_type": "code",
   "execution_count": 39,
   "id": "e4028181-1613-4329-bac7-07b9958c438f",
   "metadata": {},
   "source": [
    "s_logits = model.fc(test_s_emb.to(device))\n",
    "s_prob = torch.nn.functional.softmax(s_logits, dim=1)\n",
    "_, s_pred = torch.max(s_prob, dim=1)"
   ],
   "outputs": []
  },
  {
   "cell_type": "code",
   "execution_count": 40,
   "id": "5ceec5af-528e-4c16-bfd0-027b134a07dc",
   "metadata": {},
   "source": [
    "m_logits = model.fc(test_m_emb.to(device))\n",
    "m_prob = torch.nn.functional.softmax(m_logits, dim=1)\n",
    "_, m_pred = torch.max(m_prob, dim=1)"
   ],
   "outputs": []
  },
  {
   "cell_type": "code",
   "execution_count": 41,
   "id": "e467e0e9-a09d-479b-8eec-cb5a2161f189",
   "metadata": {},
   "source": [
    "avg = confusion_matrix(test_labels, predicted_labels.cpu())\n",
    "p = confusion_matrix(test_labels, p_pred.cpu())\n",
    "s = confusion_matrix(test_labels, s_pred.cpu())\n",
    "m = confusion_matrix(test_labels, m_pred.cpu())"
   ],
   "outputs": []
  },
  {
   "cell_type": "code",
   "execution_count": 42,
   "id": "6168bab1-737e-46c2-9a09-d5869ec5b553",
   "metadata": {},
   "source": [
    "avg_percent = 100 * avg / avg.sum(axis=1)[:, np.newaxis]\n",
    "p_percent = 100 * p / p.sum(axis=1)[:, np.newaxis]\n",
    "s_percent = 100 * s / s.sum(axis=1)[:, np.newaxis]\n",
    "m_percent = 100 * m / m.sum(axis=1)[:, np.newaxis]"
   ],
   "outputs": []
  },
  {
   "cell_type": "code",
   "execution_count": 43,
   "id": "baedeb7b-aad3-4204-bb9a-5bbf6e7f4cb3",
   "metadata": {},
   "source": [
    "def plot_matrices(matrix, matrix_percent):\n",
    "    labels = [test_dataset.id2target[i] for i in range(len(avg_percent))]\n",
    "    fig, axes = plt.subplots(nrows=1, ncols=2, figsize=(20, 7))\n",
    "    \n",
    "    # Plot absolute values confusion matrix\n",
    "    sns.heatmap(matrix, annot=True, fmt='d', cmap='Blues', xticklabels=labels, yticklabels=labels, ax=axes[0])\n",
    "    axes[0].set_xlabel('Predicted')\n",
    "    axes[0].set_ylabel('True')\n",
    "    axes[0].set_title('Confusion Matrix - Absolute Values')\n",
    "    \n",
    "    # Plot percentage values confusion matrix\n",
    "    sns.heatmap(matrix_percent, annot=True, fmt='.0f', cmap='Blues', xticklabels=labels, yticklabels=labels,\n",
    "                ax=axes[1])\n",
    "    axes[1].set_xlabel('Predicted')\n",
    "    axes[1].set_ylabel('True')\n",
    "    axes[1].set_title('Confusion Matrix - Percentages')"
   ],
   "outputs": []
  },
  {
   "cell_type": "code",
   "execution_count": 44,
   "id": "c001a63b-73ed-4b58-8779-98015770e68b",
   "metadata": {},
   "source": [
    "plot_matrices(avg, avg_percent)"
   ],
   "outputs": []
  },
  {
   "cell_type": "code",
   "execution_count": 45,
   "id": "4a77c15b-992e-4854-a306-d2891e4af1e4",
   "metadata": {},
   "source": [
    "plot_matrices(p, p_percent)"
   ],
   "outputs": []
  },
  {
   "cell_type": "code",
   "execution_count": 46,
   "id": "fc9dd1a8-f951-4619-b5ff-ecc3aa6116c4",
   "metadata": {},
   "source": [
    "plot_matrices(s, s_percent)"
   ],
   "outputs": []
  },
  {
   "cell_type": "code",
   "execution_count": 47,
   "id": "c381e307-9099-44f3-94c3-692173f37707",
   "metadata": {},
   "source": [
    "plot_matrices(m, m_percent)"
   ],
   "outputs": []
  },
  {
   "cell_type": "code",
   "execution_count": 48,
   "id": "bc4f3e63-af92-4310-8f5c-974fea0e1832",
   "metadata": {},
   "source": [
    "classes = [test_dataset.id2target[i] for i in range(10)]\n",
    "modalities = [\"Photometry\", \"Spectra\", \"Metadata\", \"Combined\"]\n",
    "accuracy_data = {classes[i]: [p_percent[i][i], s_percent[i][i], m_percent[i][i], avg_percent[i][i]] for i in range(10)}"
   ],
   "outputs": []
  },
  {
   "cell_type": "code",
   "execution_count": 49,
   "id": "1ea0abf5-391f-48b5-b0fb-5992e861da10",
   "metadata": {},
   "source": [
    "print(f'Class \\t Photo \\t Spectra \\t Meta \\t Avg')\n",
    "\n",
    "for k, v in accuracy_data.items():\n",
    "    print(f'{k} \\t {round(v[0], 2)} \\t {round(v[1], 2)} \\t\\t {round(v[2], 2)} \\t {round(v[3], 2)}')"
   ],
   "outputs": []
  },
  {
   "cell_type": "code",
   "execution_count": 50,
   "id": "2b7b0416-374c-4a52-adbb-db24c3107d45",
   "metadata": {},
   "source": [
    "ps_emb = (test_p_emb + test_s_emb) / 2\n",
    "ps_logits = model.fc(ps_emb.to(device))\n",
    "ps_prob = torch.nn.functional.softmax(ps_logits, dim=1)\n",
    "_, ps_pred = torch.max(ps_prob, dim=1)\n",
    "\n",
    "sm_emb = (test_s_emb + test_m_emb) / 2\n",
    "sm_logits = model.fc(sm_emb.to(device))\n",
    "sm_prob = torch.nn.functional.softmax(sm_logits, dim=1)\n",
    "_, sm_pred = torch.max(sm_prob, dim=1)\n",
    "\n",
    "mp_emb = (test_m_emb + test_p_emb) / 2\n",
    "mp_logits = model.fc(mp_emb.to(device))\n",
    "mp_prob = torch.nn.functional.softmax(mp_logits, dim=1)\n",
    "_, mp_pred = torch.max(mp_prob, dim=1)"
   ],
   "outputs": []
  },
  {
   "cell_type": "code",
   "execution_count": 51,
   "id": "61d9db56-9c85-4f9b-8782-28b0f92f67eb",
   "metadata": {},
   "source": [
    "ps = confusion_matrix(test_labels, ps_pred.cpu())\n",
    "sm = confusion_matrix(test_labels, sm_pred.cpu())\n",
    "mp = confusion_matrix(test_labels, mp_pred.cpu())\n",
    "\n",
    "ps_percent = 100 * ps / ps.sum(axis=1)[:, np.newaxis]\n",
    "sm_percent = 100 * sm / sm.sum(axis=1)[:, np.newaxis]\n",
    "mp_percent = 100 * mp / mp.sum(axis=1)[:, np.newaxis]"
   ],
   "outputs": []
  },
  {
   "cell_type": "code",
   "execution_count": 52,
   "id": "49f2b6ec-575b-4bd1-a765-c8caf1ee8ef2",
   "metadata": {},
   "source": [
    "plot_matrices(ps, ps_percent)"
   ],
   "outputs": []
  },
  {
   "cell_type": "code",
   "execution_count": 53,
   "id": "879b50a4-95f0-4aa9-8b2a-b7f632daabb4",
   "metadata": {},
   "source": [
    "plot_matrices(sm, sm_percent)"
   ],
   "outputs": []
  },
  {
   "cell_type": "code",
   "execution_count": 54,
   "id": "4ace989c-4510-4f01-b3ef-7868591e955c",
   "metadata": {},
   "source": [
    "plot_matrices(mp, mp_percent)"
   ],
   "outputs": []
  },
  {
   "cell_type": "code",
   "execution_count": 55,
   "id": "e65d45c6-f7e4-4ca8-915c-61e12bd5e92b",
   "metadata": {},
   "source": [
    "# Column headers\n",
    "print(f'{\"Class\":<15} {\"Photo\":^10} {\"Spectra\":^10} {\"Meta\":^10} {\"Photo + Spectra\":^15} {\"Spectra + Meta\":^15} {\"Meta + Photo\":^15} {\"All\":^10}')\n",
    "\n",
    "# Data rows\n",
    "for i in range(10):    \n",
    "    print(f'{test_dataset.id2target[i]:<15} {round(p_percent[i][i], 2):^10} {round(s_percent[i][i], 2):^10} {round(m_percent[i][i], 2):^10} '\n",
    "          f'{round(ps_percent[i][i], 2):^15} {round(sm_percent[i][i], 2):^15} {round(mp_percent[i][i], 2):^15} {round(avg_percent[i][i], 2):^10}')"
   ],
   "outputs": []
  },
  {
   "cell_type": "code",
   "execution_count": 58,
   "id": "485c359e-d75c-4e38-9370-1b0191e9dfd0",
   "metadata": {},
   "source": [
    "for i in range(10):    \n",
    "    print(f'{test_dataset.id2target[i]} & {round(p_percent[i][i], 2)} & {round(s_percent[i][i], 2)} & {round(m_percent[i][i], 2)} & '\n",
    "          f'{round(ps_percent[i][i], 2)} & {round(sm_percent[i][i], 2)} & {round(mp_percent[i][i], 2)} & {round(avg_percent[i][i], 2)}\\\\\\\\')"
   ],
   "outputs": []
  },
  {
   "cell_type": "code",
   "execution_count": 59,
   "id": "887c90cc-5457-4da8-9c98-4d59c7aae592",
   "metadata": {},
   "source": [
    "np.trace(p_percent) / 10"
   ],
   "outputs": []
  },
  {
   "cell_type": "code",
   "execution_count": 60,
   "id": "9f2be049-28d8-4909-a914-1c57fb2fc372",
   "metadata": {},
   "source": [
    "np.trace(s_percent) / 10"
   ],
   "outputs": []
  },
  {
   "cell_type": "code",
   "execution_count": 61,
   "id": "acf6d75f-de3c-452d-b1a4-1f80bb008a78",
   "metadata": {},
   "source": [
    "np.trace(m_percent) / 10"
   ],
   "outputs": []
  },
  {
   "cell_type": "code",
   "execution_count": 62,
   "id": "72da78d2-c56e-4430-b5cd-b5d1e5e90d13",
   "metadata": {},
   "source": [
    "np.trace(ps_percent) / 10"
   ],
   "outputs": []
  },
  {
   "cell_type": "code",
   "execution_count": 63,
   "id": "d0d52b31-bf26-45e8-bb01-0b7a2bb48bca",
   "metadata": {},
   "source": [
    "np.trace(sm_percent) / 10"
   ],
   "outputs": []
  },
  {
   "cell_type": "code",
   "execution_count": 64,
   "id": "ff1787fb-53df-4eb6-8b29-828481c22962",
   "metadata": {},
   "source": [
    "np.trace(mp_percent) / 10"
   ],
   "outputs": []
  },
  {
   "cell_type": "code",
   "execution_count": 65,
   "id": "29ac1769-b384-471a-ab39-ea3c7e7f2225",
   "metadata": {},
   "source": [
    "np.trace(avg_percent) / 10"
   ],
   "outputs": []
  },
  {
   "cell_type": "code",
   "execution_count": 224,
   "id": "e30a2920-7ea7-4cae-bdc9-601e4c7e2048",
   "metadata": {},
   "source": [
    "87.34 - 79.75"
   ],
   "outputs": []
  },
  {
   "cell_type": "code",
   "execution_count": null,
   "id": "7f14c408-1350-4a74-92d3-8fb41969e0da",
   "metadata": {},
   "source": [],
   "outputs": []
  },
  {
   "cell_type": "code",
   "execution_count": null,
   "id": "090e0612-9ec4-48f0-97c7-bf0a47a77886",
   "metadata": {},
   "source": [],
   "outputs": []
  },
  {
   "cell_type": "code",
   "execution_count": null,
   "id": "a279c828-2c31-412c-8c9c-d3ba13d1cbfa",
   "metadata": {},
   "source": [],
   "outputs": []
  },
  {
   "cell_type": "code",
   "execution_count": null,
   "id": "16d153f3-0196-4c7b-8e12-f917b3f27008",
   "metadata": {},
   "source": [],
   "outputs": []
  },
  {
   "cell_type": "code",
   "execution_count": null,
   "id": "dce30ad9-35ef-4fdf-8605-7f8084baf9dd",
   "metadata": {},
   "source": [],
   "outputs": []
  },
  {
   "cell_type": "code",
   "execution_count": null,
   "id": "eeb402b2-6ec6-4ddf-821d-5dc3827a942b",
   "metadata": {},
   "source": [],
   "outputs": []
  },
  {
   "cell_type": "code",
   "execution_count": null,
   "id": "d68609d0-3efc-4be6-9182-7017f03d7017",
   "metadata": {},
   "source": [],
   "outputs": []
  },
  {
   "cell_type": "code",
   "execution_count": null,
   "id": "e8d8b6af-50aa-46e5-9e75-b742d4fa1e77",
   "metadata": {},
   "source": [],
   "outputs": []
  },
  {
   "cell_type": "code",
   "execution_count": null,
   "id": "d9dbdb3a-3ce2-435f-b974-aa23fcd3da76",
   "metadata": {},
   "source": [],
   "outputs": []
  },
  {
   "cell_type": "code",
   "execution_count": null,
   "id": "2494eed3-08ad-4090-aeaf-b2fc5ce146c8",
   "metadata": {},
   "source": [],
   "outputs": []
  },
  {
   "cell_type": "code",
   "execution_count": null,
   "id": "24ecdcd1-4eaa-4964-bc3e-6c3beca37676",
   "metadata": {},
   "source": [],
   "outputs": []
  },
  {
   "cell_type": "code",
   "execution_count": null,
   "id": "c38a4bc9-d59e-4829-920e-1132e9d4fbdf",
   "metadata": {},
   "source": [],
   "outputs": []
  },
  {
   "cell_type": "code",
   "execution_count": null,
   "id": "6b09f322-7d59-4db0-938e-cb3f8456a2d4",
   "metadata": {},
   "source": [],
   "outputs": []
  },
  {
   "cell_type": "code",
   "execution_count": null,
   "id": "bd9c9d2e-a736-4c0e-b790-f2b21ed4f8c7",
   "metadata": {},
   "source": [],
   "outputs": []
  },
  {
   "cell_type": "code",
   "execution_count": null,
   "id": "26e4cd08-a309-4b5b-a355-4492dc1b3b10",
   "metadata": {},
   "source": [],
   "outputs": []
  },
  {
   "cell_type": "code",
   "execution_count": null,
   "id": "ed4e3f4b-4858-4088-a254-8d3f77413eac",
   "metadata": {},
   "source": [],
   "outputs": []
  },
  {
   "cell_type": "code",
   "execution_count": 225,
   "id": "5ff1d72b-3749-49c9-9e15-107e52e69da5",
   "metadata": {},
   "source": [
    "test_dataset.meta_cols"
   ],
   "outputs": []
  },
  {
   "cell_type": "code",
   "execution_count": null,
   "id": "ec46aa6b-5f6a-4940-b87b-b8cd0381d256",
   "metadata": {},
   "source": [],
   "outputs": []
  }
 ],
 "metadata": {
  "kernelspec": {
   "display_name": "Python 3 (ipykernel)",
   "language": "python",
   "name": "python3"
  },
  "language_info": {
   "codemirror_mode": {
    "name": "ipython",
    "version": 3
   },
   "file_extension": ".py",
   "mimetype": "text/x-python",
   "name": "python",
   "nbconvert_exporter": "python",
   "pygments_lexer": "ipython3",
   "version": "3.10.14"
  }
 },
 "nbformat": 4,
 "nbformat_minor": 5
}

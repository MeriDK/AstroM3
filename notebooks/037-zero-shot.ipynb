{
 "cells": [
  {
   "cell_type": "code",
   "execution_count": 1,
   "id": "6de9524d-0b8c-419b-b9f4-90c3d99e4206",
   "metadata": {},
   "outputs": [
    {
     "name": "stderr",
     "output_type": "stream",
     "text": [
      "/global/home/users/mariia/miniforge3/envs/astro/lib/python3.10/site-packages/ignite/handlers/checkpoint.py:16: DeprecationWarning: `TorchScript` support for functional optimizers is deprecated and will be removed in a future PyTorch release. Consider using the `torch.compile` optimizer instead.\n",
      "  from torch.distributed.optim import ZeroRedundancyOptimizer\n",
      "/global/home/users/mariia/miniforge3/envs/astro/lib/python3.10/site-packages/numba/np/ufunc/dufunc.py:343: NumbaWarning: \u001b[1mCompilation requested for previously compiled argument types ((uint32,)). This has no effect and perhaps indicates a bug in the calling code (compiling a ufunc more than once for the same signature\u001b[0m\n",
      "  warnings.warn(msg, errors.NumbaWarning)\n",
      "/global/home/users/mariia/miniforge3/envs/astro/lib/python3.10/site-packages/numba/np/ufunc/dufunc.py:343: NumbaWarning: \u001b[1mCompilation requested for previously compiled argument types ((uint32,)). This has no effect and perhaps indicates a bug in the calling code (compiling a ufunc more than once for the same signature\u001b[0m\n",
      "  warnings.warn(msg, errors.NumbaWarning)\n",
      "/global/home/users/mariia/miniforge3/envs/astro/lib/python3.10/site-packages/numba/np/ufunc/dufunc.py:343: NumbaWarning: \u001b[1mCompilation requested for previously compiled argument types ((uint32,)). This has no effect and perhaps indicates a bug in the calling code (compiling a ufunc more than once for the same signature\u001b[0m\n",
      "  warnings.warn(msg, errors.NumbaWarning)\n"
     ]
    }
   ],
   "source": [
    "import sys\n",
    "sys.path.insert(0, '..')\n",
    "\n",
    "import torch\n",
    "import os\n",
    "import wandb\n",
    "import random\n",
    "import numpy as np\n",
    "import torch\n",
    "from torch import nn\n",
    "from torch.optim import Adam\n",
    "from ignite.handlers.param_scheduler import create_lr_scheduler_with_warmup\n",
    "from torch.utils.data import DataLoader\n",
    "from datetime import datetime\n",
    "import matplotlib.pyplot as plt\n",
    "import pandas as pd\n",
    "from scipy import stats\n",
    "from tqdm import tqdm\n",
    "from matplotlib import cm\n",
    "import seaborn as sns\n",
    "import matplotlib.lines as mlines\n",
    "from sklearn.decomposition import PCA\n",
    "from openTSNE import TSNE\n",
    "from PIL import Image\n",
    "import umap\n",
    "import torch.nn.functional as F\n",
    "from scipy.spatial.distance import cdist\n",
    "import umap.plot\n",
    "\n",
    "from core.final.dataset import PSMDataset\n",
    "from core.final.model import GalSpecNet, MetaModel, Informer, AstroModel\n",
    "from core.final.trainer import Trainer"
   ]
  },
  {
   "cell_type": "code",
   "execution_count": 2,
   "id": "1ace0175-6b9a-4bcd-a6f4-e272009a7771",
   "metadata": {},
   "outputs": [],
   "source": [
    "def get_model(config):\n",
    "    if config['mode'] == 'photo':\n",
    "        model = Informer(config)\n",
    "    elif config['mode'] == 'spectra':\n",
    "        model = GalSpecNet(config)\n",
    "    elif config['mode'] == 'meta':\n",
    "        model = MetaModel(config)\n",
    "    else:\n",
    "        model = AstroModel(config)\n",
    "\n",
    "    return model"
   ]
  },
  {
   "cell_type": "code",
   "execution_count": 3,
   "id": "bd56804a-3f14-488b-baa2-3cfe7972a125",
   "metadata": {},
   "outputs": [],
   "source": [
    "def get_embs(dataloader):\n",
    "    all_p_emb, all_s_emb, all_m_emb = [], [], []\n",
    "    all_labels = []\n",
    "    \n",
    "    for photometry, photometry_mask, spectra, metadata, labels in tqdm(dataloader):\n",
    "        photometry, photometry_mask = photometry.to(device), photometry_mask.to(device)\n",
    "        spectra, metadata = spectra.to(device), metadata.to(device)\n",
    "    \n",
    "        with torch.no_grad():\n",
    "            p_emb, s_emb, m_emb = model.get_embeddings(photometry, photometry_mask, spectra, metadata)\n",
    "    \n",
    "            all_p_emb.append(p_emb.cpu())\n",
    "            all_s_emb.append(s_emb.cpu())\n",
    "            all_m_emb.append(m_emb.cpu())\n",
    "            all_labels.append(labels)\n",
    "    \n",
    "    all_p_emb = torch.vstack(all_p_emb)\n",
    "    all_s_emb = torch.vstack(all_s_emb)\n",
    "    all_m_emb = torch.vstack(all_m_emb)\n",
    "    all_labels = torch.hstack(all_labels)\n",
    "\n",
    "    return all_p_emb, all_s_emb, all_m_emb, all_labels"
   ]
  },
  {
   "cell_type": "code",
   "execution_count": 4,
   "id": "94243184-a69c-4258-9933-7f983ab6e526",
   "metadata": {},
   "outputs": [],
   "source": [
    "def get_centers(p_emb, s_emb, m_emb, train_labels):\n",
    "    p_centers, s_centers, m_centers, all_centers = [], [], [], []\n",
    "\n",
    "    for i in range(10):\n",
    "        ind = train_labels == i\n",
    "    \n",
    "        p_center = p_emb[ind].mean(axis=0)\n",
    "        p_center = p_center / p_center.norm()\n",
    "        p_centers.append(p_center)\n",
    "    \n",
    "        s_center = s_emb[ind].mean(axis=0)\n",
    "        s_center = s_center / s_center.norm()\n",
    "        s_centers.append(s_center)\n",
    "    \n",
    "        m_center = m_emb[ind].mean(axis=0)\n",
    "        m_center = m_center / m_center.norm()\n",
    "        m_centers.append(m_center)\n",
    "\n",
    "        all_emb = (p_emb + s_emb + m_emb) / 3\n",
    "        all_center = all_emb[ind].mean(axis=0)\n",
    "        all_center = all_center / all_center.norm()\n",
    "        all_centers.append(all_center)\n",
    "    \n",
    "    p_centers = torch.stack(p_centers)\n",
    "    s_centers = torch.stack(s_centers)\n",
    "    m_centers = torch.stack(m_centers)\n",
    "    all_centers = torch.stack(all_centers)\n",
    "\n",
    "    return p_centers, s_centers, m_centers, all_centers"
   ]
  },
  {
   "cell_type": "code",
   "execution_count": 5,
   "id": "e7b66b72-6577-42f0-8d5d-d48e0b322f74",
   "metadata": {},
   "outputs": [],
   "source": [
    "def get_pred_center(p_emb, s_emb, m_emb, p_centers, s_centers, m_centers, all_centers):\n",
    "    p_pred, s_pred, m_pred, all_pred = [], [], [], []\n",
    "    all_emb = (p_emb + s_emb + m_emb) / 3\n",
    "    \n",
    "    for i in range(len(p_emb)):\n",
    "        p_pred.append(torch.argmax(p_emb[i] @ p_centers.T))\n",
    "        s_pred.append(torch.argmax(s_emb[i] @ s_centers.T))\n",
    "        m_pred.append(torch.argmax(m_emb[i] @ m_centers.T))\n",
    "        all_pred.append(torch.argmax(all_emb[i] @ all_centers.T))\n",
    "    \n",
    "    p_pred = torch.stack(p_pred)\n",
    "    s_pred = torch.stack(s_pred)\n",
    "    m_pred = torch.stack(m_pred)\n",
    "    all_pred = torch.stack(all_pred)\n",
    "\n",
    "    return p_pred, s_pred, m_pred, all_pred"
   ]
  },
  {
   "cell_type": "code",
   "execution_count": 6,
   "id": "1f250580-a8c9-412e-ae81-d92a6728c509",
   "metadata": {},
   "outputs": [],
   "source": [
    "def get_pred_closest(test_p_emb, train_p_emb, test_s_emb, train_s_emb, test_m_emb, train_m_emb, train_labels):\n",
    "    indeces = torch.argmax(test_p_emb @ train_p_emb.T, axis=1)\n",
    "    p_pred = train_labels[indeces]\n",
    "\n",
    "    indeces = torch.argmax(test_s_emb @ train_s_emb.T, axis=1)\n",
    "    s_pred = train_labels[indeces]\n",
    "    \n",
    "    indeces = torch.argmax(test_m_emb @ train_m_emb.T, axis=1)\n",
    "    m_pred = train_labels[indeces]\n",
    "\n",
    "    train_all_emb = (train_p_emb + train_s_emb + train_m_emb) / 3\n",
    "    test_all_emb = (test_p_emb + test_s_emb + test_m_emb) / 3\n",
    "    indeces = torch.argmax(test_all_emb @ train_all_emb.T, axis=1)\n",
    "    all_pred = train_labels[indeces]\n",
    "\n",
    "    return p_pred, s_pred, m_pred, all_pred"
   ]
  },
  {
   "cell_type": "code",
   "execution_count": null,
   "id": "1cf5ce05-d3a7-4152-bfef-5ef8ab2bfcc6",
   "metadata": {},
   "outputs": [],
   "source": [
    "def get_zero_shot_metrics(random_files):\n",
    "    res_center = {'photometry': [], 'spectra': [], 'meta': [], 'all': []}\n",
    "    res_closest = {'photometry': [], 'spectra': [], 'meta': [], 'all': []}\n",
    "    \n",
    "    for el in random_files:\n",
    "        config['file'] = f'preprocessed_data/{el}/spectra_and_v'\n",
    "        \n",
    "        train_dataset = PSMDataset(config, split='train')\n",
    "        train_dataloader = DataLoader(train_dataset, batch_size=config['batch_size'])\n",
    "        \n",
    "        test_dataset = PSMDataset(config, split='test')\n",
    "        test_dataloader = DataLoader(test_dataset, batch_size=config['batch_size'])\n",
    "        \n",
    "        train_p_emb, train_s_emb, train_m_emb, train_labels = get_embs(train_dataloader)\n",
    "        test_p_emb, test_s_emb, test_m_emb, test_labels = get_embs(test_dataloader)\n",
    "        \n",
    "        p_centers, s_centers, m_centers, all_centers = get_centers(train_p_emb, train_s_emb, train_m_emb, train_labels)\n",
    "        p_pred, s_pred, m_pred, all_pred = get_pred_center(test_p_emb, test_s_emb, test_m_emb, p_centers, s_centers, m_centers, all_centers)\n",
    "    \n",
    "        p_acc = (p_pred == test_labels).sum().item() / len(test_labels)\n",
    "        s_acc = (s_pred == test_labels).sum().item() / len(test_labels)\n",
    "        m_acc = (m_pred == test_labels).sum().item() / len(test_labels)\n",
    "        all_acc = (all_pred == test_labels).sum().item() / len(test_labels)\n",
    "        \n",
    "        print(f'Center {el}')\n",
    "        res_center['photometry'].append(p_acc)\n",
    "        res_center['spectra'].append(s_acc)\n",
    "        res_center['meta'].append(m_acc)\n",
    "        res_center['all'].append(all_acc)\n",
    "        \n",
    "        p_pred, s_pred, m_pred, all_pred = get_pred_closest(test_p_emb, train_p_emb, test_s_emb, train_s_emb, test_m_emb, train_m_emb, train_labels)\n",
    "    \n",
    "        p_acc = (p_pred == test_labels).sum().item() / len(test_labels)\n",
    "        s_acc = (s_pred == test_labels).sum().item() / len(test_labels)\n",
    "        m_acc = (m_pred == test_labels).sum().item() / len(test_labels)\n",
    "        all_acc = (all_pred == test_labels).sum().item() / len(test_labels)\n",
    "    \n",
    "        print(f'Closest {el}')\n",
    "        res_closest['photometry'].append(p_acc)\n",
    "        res_closest['spectra'].append(s_acc)\n",
    "        res_closest['meta'].append(m_acc)\n",
    "        res_closest['all'].append(all_acc)\n",
    "\n",
    "    return res_center, res_closest"
   ]
  },
  {
   "cell_type": "code",
   "execution_count": 8,
   "id": "3aaa7a58-e496-4fb2-a1b0-8e8fbf9497f8",
   "metadata": {},
   "outputs": [],
   "source": [
    "def print_metrics(files, center, closest):\n",
    "    for i in range(5):\n",
    "        print(f\"{files[i]}\\tPhotometry\\tSpectra\\t\\tMeta\\t\\tAll\")\n",
    "        print(f\"Center:\\t\\t {round(center['photometry'][i], 4)}\\t\\t{round(center['spectra'][i], 4)}\\t\\t{round(center['meta'][i], 4)}\\t\\t{round(center['all'][i], 4)}\")\n",
    "        print(f\"Closest:\\t {round(closest['photometry'][i], 4)}\\t\\t{round(closest['spectra'][i], 4)}\\t\\t{round(closest['meta'][i], 4)}\\t\\t{round(closest['all'][i], 4)}\\n\")"
   ]
  },
  {
   "cell_type": "code",
   "execution_count": 9,
   "id": "dcb8d75c-1c78-49ba-8765-8370d142e9e3",
   "metadata": {},
   "outputs": [],
   "source": [
    "def print_metrics_avg(files, center, closest):\n",
    "    avg_center = {key: (np.mean(val) * 100, np.std(val) * 100) for key, val in center.items()}\n",
    "    avg_closest = {key: (np.mean(val) * 100, np.std(val) * 100) for key, val in closest.items()}\n",
    "    \n",
    "    for key in avg_center:\n",
    "        print(key)\n",
    "        print(f'Center:\\t\\t {round(avg_center[key][0], 3)}\\t ± {round(avg_center[key][1], 3)}')\n",
    "        print(f'Closest:\\t {round(avg_closest[key][0], 3)}\\t ± {round(avg_closest[key][1], 3)}\\n')"
   ]
  },
  {
   "cell_type": "code",
   "execution_count": 11,
   "id": "5d44bcd6-ee45-4fe7-8f24-2742b46405c5",
   "metadata": {},
   "outputs": [
    {
     "data": {
      "text/plain": [
       "<All keys matched successfully>"
      ]
     },
     "execution_count": 11,
     "metadata": {},
     "output_type": "execute_result"
    }
   ],
   "source": [
    "run_id = 'MeriDK/AstroCLIPResults3/2wz4ysvn'\n",
    "api = wandb.Api()\n",
    "run = api.run(run_id)\n",
    "config = run.config\n",
    "config['use_wandb'] = False\n",
    "\n",
    "model = get_model(config)\n",
    "device = torch.device('cuda:1' if torch.cuda.is_available() else 'cpu')\n",
    "model = model.to(device)\n",
    "model.eval()\n",
    "\n",
    "weights_path = os.path.join(config['weights_path'] + '-' + run_id.split('/')[-1], f'weights-best.pth')\n",
    "model.load_state_dict(torch.load(weights_path, weights_only=False))"
   ]
  },
  {
   "cell_type": "code",
   "execution_count": 12,
   "id": "d12cbd77-3d75-47b0-9e14-d0554b32f746",
   "metadata": {},
   "outputs": [
    {
     "name": "stderr",
     "output_type": "stream",
     "text": [
      "100%|██████████████████████████████████████████████████████████████████████████████████| 34/34 [04:17<00:00,  7.59s/it]\n",
      "100%|████████████████████████████████████████████████████████████████████████████████████| 5/5 [00:32<00:00,  6.59s/it]\n"
     ]
    },
    {
     "name": "stdout",
     "output_type": "stream",
     "text": [
      "Center full_lb\n",
      "Closest full_lb\n"
     ]
    },
    {
     "name": "stderr",
     "output_type": "stream",
     "text": [
      "100%|██████████████████████████████████████████████████████████████████████████████████| 34/34 [04:17<00:00,  7.57s/it]\n",
      "100%|████████████████████████████████████████████████████████████████████████████████████| 5/5 [00:35<00:00,  7.08s/it]\n"
     ]
    },
    {
     "name": "stdout",
     "output_type": "stream",
     "text": [
      "Center full_lb0\n",
      "Closest full_lb0\n"
     ]
    },
    {
     "name": "stderr",
     "output_type": "stream",
     "text": [
      "100%|██████████████████████████████████████████████████████████████████████████████████| 34/34 [04:20<00:00,  7.66s/it]\n",
      "100%|████████████████████████████████████████████████████████████████████████████████████| 5/5 [00:33<00:00,  6.72s/it]\n"
     ]
    },
    {
     "name": "stdout",
     "output_type": "stream",
     "text": [
      "Center full_lb12\n",
      "Closest full_lb12\n"
     ]
    },
    {
     "name": "stderr",
     "output_type": "stream",
     "text": [
      "100%|██████████████████████████████████████████████████████████████████████████████████| 34/34 [04:19<00:00,  7.62s/it]\n",
      "100%|████████████████████████████████████████████████████████████████████████████████████| 5/5 [00:34<00:00,  6.81s/it]\n"
     ]
    },
    {
     "name": "stdout",
     "output_type": "stream",
     "text": [
      "Center full_lb123\n",
      "Closest full_lb123\n"
     ]
    },
    {
     "name": "stderr",
     "output_type": "stream",
     "text": [
      "100%|██████████████████████████████████████████████████████████████████████████████████| 34/34 [04:19<00:00,  7.64s/it]\n",
      "100%|████████████████████████████████████████████████████████████████████████████████████| 5/5 [00:34<00:00,  6.97s/it]\n"
     ]
    },
    {
     "name": "stdout",
     "output_type": "stream",
     "text": [
      "Center full_lb66\n",
      "Closest full_lb66\n"
     ]
    },
    {
     "name": "stderr",
     "output_type": "stream",
     "text": [
      "100%|██████████████████████████████████████████████████████████████████████████████████| 17/17 [02:06<00:00,  7.45s/it]\n",
      "100%|████████████████████████████████████████████████████████████████████████████████████| 3/3 [00:16<00:00,  5.52s/it]\n"
     ]
    },
    {
     "name": "stdout",
     "output_type": "stream",
     "text": [
      "Center sub50_lb\n",
      "Closest sub50_lb\n"
     ]
    },
    {
     "name": "stderr",
     "output_type": "stream",
     "text": [
      "100%|██████████████████████████████████████████████████████████████████████████████████| 17/17 [02:04<00:00,  7.33s/it]\n",
      "100%|████████████████████████████████████████████████████████████████████████████████████| 3/3 [00:17<00:00,  5.95s/it]\n"
     ]
    },
    {
     "name": "stdout",
     "output_type": "stream",
     "text": [
      "Center sub50_lb0\n",
      "Closest sub50_lb0\n"
     ]
    },
    {
     "name": "stderr",
     "output_type": "stream",
     "text": [
      "100%|██████████████████████████████████████████████████████████████████████████████████| 17/17 [02:08<00:00,  7.54s/it]\n",
      "100%|████████████████████████████████████████████████████████████████████████████████████| 3/3 [00:17<00:00,  5.69s/it]\n"
     ]
    },
    {
     "name": "stdout",
     "output_type": "stream",
     "text": [
      "Center sub50_lb12\n",
      "Closest sub50_lb12\n"
     ]
    },
    {
     "name": "stderr",
     "output_type": "stream",
     "text": [
      "100%|██████████████████████████████████████████████████████████████████████████████████| 17/17 [02:07<00:00,  7.50s/it]\n",
      "100%|████████████████████████████████████████████████████████████████████████████████████| 3/3 [00:15<00:00,  5.19s/it]\n"
     ]
    },
    {
     "name": "stdout",
     "output_type": "stream",
     "text": [
      "Center sub50_lb123\n",
      "Closest sub50_lb123\n"
     ]
    },
    {
     "name": "stderr",
     "output_type": "stream",
     "text": [
      "100%|██████████████████████████████████████████████████████████████████████████████████| 17/17 [02:07<00:00,  7.50s/it]\n",
      "100%|████████████████████████████████████████████████████████████████████████████████████| 3/3 [00:16<00:00,  5.51s/it]\n"
     ]
    },
    {
     "name": "stdout",
     "output_type": "stream",
     "text": [
      "Center sub50_lb66\n",
      "Closest sub50_lb66\n"
     ]
    },
    {
     "name": "stderr",
     "output_type": "stream",
     "text": [
      "100%|████████████████████████████████████████████████████████████████████████████████████| 9/9 [01:02<00:00,  6.90s/it]\n",
      "100%|████████████████████████████████████████████████████████████████████████████████████| 2/2 [00:07<00:00,  3.90s/it]\n"
     ]
    },
    {
     "name": "stdout",
     "output_type": "stream",
     "text": [
      "Center sub25_lb\n",
      "Closest sub25_lb\n"
     ]
    },
    {
     "name": "stderr",
     "output_type": "stream",
     "text": [
      "100%|████████████████████████████████████████████████████████████████████████████████████| 9/9 [01:03<00:00,  7.05s/it]\n",
      "100%|████████████████████████████████████████████████████████████████████████████████████| 2/2 [00:10<00:00,  5.31s/it]\n"
     ]
    },
    {
     "name": "stdout",
     "output_type": "stream",
     "text": [
      "Center sub25_lb0\n",
      "Closest sub25_lb0\n"
     ]
    },
    {
     "name": "stderr",
     "output_type": "stream",
     "text": [
      "100%|████████████████████████████████████████████████████████████████████████████████████| 9/9 [01:11<00:00,  7.96s/it]\n",
      "100%|████████████████████████████████████████████████████████████████████████████████████| 2/2 [00:09<00:00,  4.86s/it]\n"
     ]
    },
    {
     "name": "stdout",
     "output_type": "stream",
     "text": [
      "Center sub25_lb12\n",
      "Closest sub25_lb12\n"
     ]
    },
    {
     "name": "stderr",
     "output_type": "stream",
     "text": [
      "100%|████████████████████████████████████████████████████████████████████████████████████| 9/9 [01:13<00:00,  8.13s/it]\n",
      "100%|████████████████████████████████████████████████████████████████████████████████████| 2/2 [00:09<00:00,  4.68s/it]\n"
     ]
    },
    {
     "name": "stdout",
     "output_type": "stream",
     "text": [
      "Center sub25_lb123\n",
      "Closest sub25_lb123\n"
     ]
    },
    {
     "name": "stderr",
     "output_type": "stream",
     "text": [
      "100%|████████████████████████████████████████████████████████████████████████████████████| 9/9 [01:11<00:00,  7.96s/it]\n",
      "100%|████████████████████████████████████████████████████████████████████████████████████| 2/2 [00:09<00:00,  4.74s/it]\n"
     ]
    },
    {
     "name": "stdout",
     "output_type": "stream",
     "text": [
      "Center sub25_lb66\n",
      "Closest sub25_lb66\n"
     ]
    },
    {
     "name": "stderr",
     "output_type": "stream",
     "text": [
      "100%|████████████████████████████████████████████████████████████████████████████████████| 4/4 [00:28<00:00,  7.06s/it]\n",
      "100%|████████████████████████████████████████████████████████████████████████████████████| 1/1 [00:03<00:00,  3.43s/it]\n"
     ]
    },
    {
     "name": "stdout",
     "output_type": "stream",
     "text": [
      "Center sub10_lb\n",
      "Closest sub10_lb\n"
     ]
    },
    {
     "name": "stderr",
     "output_type": "stream",
     "text": [
      "100%|████████████████████████████████████████████████████████████████████████████████████| 4/4 [00:26<00:00,  6.61s/it]\n",
      "100%|████████████████████████████████████████████████████████████████████████████████████| 1/1 [00:03<00:00,  3.49s/it]\n"
     ]
    },
    {
     "name": "stdout",
     "output_type": "stream",
     "text": [
      "Center sub10_lb0\n",
      "Closest sub10_lb0\n"
     ]
    },
    {
     "name": "stderr",
     "output_type": "stream",
     "text": [
      "100%|████████████████████████████████████████████████████████████████████████████████████| 4/4 [00:26<00:00,  6.65s/it]\n",
      "100%|████████████████████████████████████████████████████████████████████████████████████| 1/1 [00:03<00:00,  3.66s/it]\n"
     ]
    },
    {
     "name": "stdout",
     "output_type": "stream",
     "text": [
      "Center sub10_lb12\n",
      "Closest sub10_lb12\n"
     ]
    },
    {
     "name": "stderr",
     "output_type": "stream",
     "text": [
      "100%|████████████████████████████████████████████████████████████████████████████████████| 4/4 [00:26<00:00,  6.67s/it]\n",
      "100%|████████████████████████████████████████████████████████████████████████████████████| 1/1 [00:03<00:00,  3.55s/it]\n"
     ]
    },
    {
     "name": "stdout",
     "output_type": "stream",
     "text": [
      "Center sub10_lb123\n",
      "Closest sub10_lb123\n"
     ]
    },
    {
     "name": "stderr",
     "output_type": "stream",
     "text": [
      "100%|████████████████████████████████████████████████████████████████████████████████████| 4/4 [00:26<00:00,  6.67s/it]\n",
      "100%|████████████████████████████████████████████████████████████████████████████████████| 1/1 [00:03<00:00,  3.65s/it]\n"
     ]
    },
    {
     "name": "stdout",
     "output_type": "stream",
     "text": [
      "Center sub10_lb66\n",
      "Closest sub10_lb66\n"
     ]
    }
   ],
   "source": [
    "files_full = ['full_lb', 'full_lb0', 'full_lb12', 'full_lb123', 'full_lb66']\n",
    "center_full, closest_full = get_zero_shot_metrics(files_full)\n",
    "\n",
    "files50 = ['sub50_lb', 'sub50_lb0', 'sub50_lb12', 'sub50_lb123', 'sub50_lb66']\n",
    "center50, closest50 = get_zero_shot_metrics(files50)\n",
    "\n",
    "files25 = ['sub25_lb', 'sub25_lb0', 'sub25_lb12', 'sub25_lb123', 'sub25_lb66']\n",
    "center25, closest25 = get_zero_shot_metrics(files25)\n",
    "\n",
    "files10 = ['sub10_lb', 'sub10_lb0', 'sub10_lb12', 'sub10_lb123', 'sub10_lb66']\n",
    "center10, closest10 = get_zero_shot_metrics(files10)"
   ]
  },
  {
   "cell_type": "code",
   "execution_count": 13,
   "id": "7a6ab6e1-3f6d-4b5c-888a-e50c59fe178a",
   "metadata": {},
   "outputs": [
    {
     "name": "stdout",
     "output_type": "stream",
     "text": [
      "photometry\n",
      "Center:\t\t 81.86\t ± 0.865\n",
      "Closest:\t 87.018\t ± 0.346\n",
      "\n",
      "spectra\n",
      "Center:\t\t 67.439\t ± 0.688\n",
      "Closest:\t 72.631\t ± 0.526\n",
      "\n",
      "meta\n",
      "Center:\t\t 74.136\t ± 0.712\n",
      "Closest:\t 81.459\t ± 0.613\n",
      "\n",
      "all\n",
      "Center:\t\t 80.035\t ± 0.532\n",
      "Closest:\t 88.791\t ± 0.254\n",
      "\n",
      "photometry\n",
      "Center:\t\t 83.793\t ± 0.792\n",
      "Closest:\t 84.53\t ± 0.512\n",
      "\n",
      "spectra\n",
      "Center:\t\t 65.595\t ± 0.677\n",
      "Closest:\t 67.57\t ± 1.351\n",
      "\n",
      "meta\n",
      "Center:\t\t 74.211\t ± 0.576\n",
      "Closest:\t 78.445\t ± 1.561\n",
      "\n",
      "all\n",
      "Center:\t\t 80.779\t ± 0.564\n",
      "Closest:\t 86.791\t ± 0.543\n",
      "\n",
      "photometry\n",
      "Center:\t\t 83.605\t ± 1.339\n",
      "Closest:\t 84.508\t ± 0.937\n",
      "\n",
      "spectra\n",
      "Center:\t\t 65.989\t ± 1.727\n",
      "Closest:\t 65.131\t ± 1.339\n",
      "\n",
      "meta\n",
      "Center:\t\t 74.672\t ± 1.559\n",
      "Closest:\t 76.944\t ± 1.066\n",
      "\n",
      "all\n",
      "Center:\t\t 80.399\t ± 1.563\n",
      "Closest:\t 87.03\t ± 0.64\n",
      "\n",
      "photometry\n",
      "Center:\t\t 84.895\t ± 1.334\n",
      "Closest:\t 86.442\t ± 1.054\n",
      "\n",
      "spectra\n",
      "Center:\t\t 64.237\t ± 1.655\n",
      "Closest:\t 62.604\t ± 1.388\n",
      "\n",
      "meta\n",
      "Center:\t\t 75.702\t ± 1.895\n",
      "Closest:\t 76.978\t ± 0.93\n",
      "\n",
      "all\n",
      "Center:\t\t 80.616\t ± 2.461\n",
      "Closest:\t 85.804\t ± 1.597\n",
      "\n"
     ]
    }
   ],
   "source": [
    "print_metrics_avg(files_full, center_full, closest_full)\n",
    "print_metrics_avg(files50, center50, closest50)\n",
    "print_metrics_avg(files25, center25, closest25)\n",
    "print_metrics_avg(files10, center10, closest10)"
   ]
  },
  {
   "cell_type": "code",
   "execution_count": null,
   "id": "7f01c1bb-120d-40df-8cc1-a0a07e161e66",
   "metadata": {},
   "outputs": [],
   "source": []
  },
  {
   "cell_type": "code",
   "execution_count": null,
   "id": "84431e77-2e21-42d1-ab79-086a14ff1574",
   "metadata": {},
   "outputs": [],
   "source": []
  },
  {
   "cell_type": "code",
   "execution_count": null,
   "id": "2106fc18-b13b-4f80-89ef-f8abb18d4bdc",
   "metadata": {},
   "outputs": [],
   "source": []
  },
  {
   "cell_type": "code",
   "execution_count": null,
   "id": "8ff212e5-d3d2-4249-a38f-4757b8d4318f",
   "metadata": {},
   "outputs": [],
   "source": []
  },
  {
   "cell_type": "code",
   "execution_count": null,
   "id": "c2c679a2-3d85-4dfd-8543-1b64ec3a22e7",
   "metadata": {},
   "outputs": [],
   "source": []
  },
  {
   "cell_type": "code",
   "execution_count": 43,
   "id": "382bcec8-83be-499d-a0a6-747482cb71c7",
   "metadata": {},
   "outputs": [],
   "source": [
    "train_dataset = PSMDataset(config, split='train')\n",
    "train_dataloader = DataLoader(train_dataset, batch_size=config['batch_size'], shuffle=True)\n",
    "\n",
    "test_dataset = PSMDataset(config, split='test')\n",
    "test_dataloader = DataLoader(test_dataset, batch_size=config['batch_size'], shuffle=True)"
   ]
  },
  {
   "cell_type": "code",
   "execution_count": 44,
   "id": "921edbcd-1134-4926-a301-cf0aca633e32",
   "metadata": {},
   "outputs": [
    {
     "name": "stderr",
     "output_type": "stream",
     "text": [
      "100%|██████████████████████████████████████████████████████████████████████████████████| 34/34 [04:12<00:00,  7.42s/it]\n",
      "100%|████████████████████████████████████████████████████████████████████████████████████| 5/5 [00:32<00:00,  6.49s/it]\n"
     ]
    }
   ],
   "source": [
    "train_p_emb, train_s_emb, train_m_emb, train_labels = get_embs(train_dataloader)\n",
    "test_p_emb, test_s_emb, test_m_emb, test_labels = get_embs(test_dataloader)"
   ]
  },
  {
   "cell_type": "code",
   "execution_count": 52,
   "id": "7d66b654-e8d1-4931-ae4d-646b4c482056",
   "metadata": {},
   "outputs": [
    {
     "name": "stdout",
     "output_type": "stream",
     "text": [
      "Photometry Acc 0.8085393258426966\n",
      "Spectra Acc    0.6719101123595506\n",
      "Meta Acc       0.7492134831460674\n",
      "All Acc        0.762247191011236\n"
     ]
    }
   ],
   "source": [
    "p_centers, s_centers, m_centers, all_centers = get_centers(train_p_emb, train_s_emb, train_m_emb, train_labels)\n",
    "p_pred, s_pred, m_pred, all_pred = get_pred_center(test_p_emb, test_s_emb, test_m_emb, p_centers, s_centers, m_centers, all_centers)\n",
    "\n",
    "print('Photometry Acc', (p_pred == test_labels).sum().item() / len(test_labels))\n",
    "print('Spectra Acc   ', (s_pred == test_labels).sum().item() / len(test_labels))\n",
    "print('Meta Acc      ', (m_pred == test_labels).sum().item() / len(test_labels))\n",
    "print('All Acc       ', (all_pred == test_labels).sum().item() / len(test_labels))"
   ]
  },
  {
   "cell_type": "code",
   "execution_count": 150,
   "id": "4aab0ee4-8fd8-4957-8c39-4f57d293ff16",
   "metadata": {},
   "outputs": [
    {
     "data": {
      "text/plain": [
       "'\\nData Type     No CLIP           CLIP\\nPhotometry    84.642 ± 6.317    91.468 ± 0.446\\nSpectra       76.278 ± 0.931    77.396 ± 0.614\\nMetadata      85.623 ± 0.628    85.855 ± 0.856\\nAll           94.065 ± 0.390    94.153 ± 0.577\\n'"
      ]
     },
     "execution_count": 150,
     "metadata": {},
     "output_type": "execute_result"
    }
   ],
   "source": [
    "\"\"\"\n",
    "Data Type     No CLIP           CLIP\n",
    "Photometry    84.642 ± 6.317    91.468 ± 0.446\n",
    "Spectra       76.278 ± 0.931    77.396 ± 0.614\n",
    "Metadata      85.623 ± 0.628    85.855 ± 0.856\n",
    "All           94.065 ± 0.390    94.153 ± 0.577\n",
    "\"\"\""
   ]
  },
  {
   "cell_type": "code",
   "execution_count": 51,
   "id": "9d079acb-909e-4f43-910d-513666a0e31e",
   "metadata": {},
   "outputs": [
    {
     "name": "stdout",
     "output_type": "stream",
     "text": [
      "Photometry Acc 0.8692134831460674\n",
      "Spectra Acc    0.7164044943820225\n",
      "Meta Acc       0.8116853932584269\n",
      "All Acc        0.8831460674157303\n"
     ]
    }
   ],
   "source": [
    "p_pred, s_pred, m_pred, all_pred = get_pred_closest(test_p_emb, train_p_emb, test_s_emb, train_s_emb, test_m_emb, train_m_emb, train_labels)\n",
    "\n",
    "print('Photometry Acc', (p_pred == test_labels).sum().item() / len(test_labels))\n",
    "print('Spectra Acc   ', (s_pred == test_labels).sum().item() / len(test_labels))\n",
    "print('Meta Acc      ', (m_pred == test_labels).sum().item() / len(test_labels))\n",
    "print('All Acc       ', (all_pred == test_labels).sum().item() / len(test_labels))"
   ]
  },
  {
   "cell_type": "code",
   "execution_count": 19,
   "id": "c62ee001-1746-4ff0-aba0-4ed12ef941bd",
   "metadata": {},
   "outputs": [
    {
     "name": "stderr",
     "output_type": "stream",
     "text": [
      "100%|██████████████████████████████████████████████████████████████████████████████████| 17/17 [02:03<00:00,  7.28s/it]\n",
      "100%|████████████████████████████████████████████████████████████████████████████████████| 3/3 [00:16<00:00,  5.47s/it]\n"
     ]
    },
    {
     "name": "stdout",
     "output_type": "stream",
     "text": [
      "Center 50% Data\n",
      "Photometry Acc 0.828082808280828\n",
      "Spectra Acc    0.648064806480648\n",
      "Meta Acc       0.7407740774077408\n",
      "All Acc        0.7911791179117912\n",
      "Closest 50% Data\n",
      "Photometry Acc 0.8568856885688569\n",
      "Spectra Acc    0.666966696669667\n",
      "Meta Acc       0.7704770477047704\n",
      "All Acc        0.8487848784878488\n"
     ]
    }
   ],
   "source": [
    "config['file'] = 'preprocessed_data/sub50_lb/spectra_and_v'\n",
    "\n",
    "train_dataset = PSMDataset(config, split='train')\n",
    "train_dataloader = DataLoader(train_dataset, batch_size=config['batch_size'], shuffle=True)\n",
    "\n",
    "test_dataset = PSMDataset(config, split='test')\n",
    "test_dataloader = DataLoader(test_dataset, batch_size=config['batch_size'], shuffle=True)\n",
    "\n",
    "train_p_emb, train_s_emb, train_m_emb, train_labels = get_embs(train_dataloader)\n",
    "test_p_emb, test_s_emb, test_m_emb, test_labels = get_embs(test_dataloader)\n",
    "\n",
    "p_centers, s_centers, m_centers = get_centers(train_p_emb, train_s_emb, train_m_emb)\n",
    "p_pred, s_pred, m_pred = get_pred_center(test_p_emb, test_s_emb, test_m_emb, p_centers, s_centers, m_centers)\n",
    "pred, _ = torch.mode(torch.stack([p_pred, s_pred, m_pred]), axis=0)\n",
    "\n",
    "print('Center 50% Data')\n",
    "print('Photometry Acc', (p_pred == test_labels).sum().item() / len(test_labels))\n",
    "print('Spectra Acc   ', (s_pred == test_labels).sum().item() / len(test_labels))\n",
    "print('Meta Acc      ', (m_pred == test_labels).sum().item() / len(test_labels))\n",
    "print('All Acc       ', (pred == test_labels).sum().item() / len(test_labels))\n",
    "\n",
    "p_pred, s_pred, m_pred = get_pred_closest(test_p_emb, train_p_emb, test_s_emb, train_s_emb, test_m_emb, train_m_emb, train_labels)\n",
    "pred, _ = torch.mode(torch.stack([p_pred, s_pred, m_pred]), axis=0)\n",
    "\n",
    "print('Closest 50% Data')\n",
    "print('Photometry Acc', (p_pred == test_labels).sum().item() / len(test_labels))\n",
    "print('Spectra Acc   ', (s_pred == test_labels).sum().item() / len(test_labels))\n",
    "print('Meta Acc      ', (m_pred == test_labels).sum().item() / len(test_labels))\n",
    "print('All Acc       ', (pred == test_labels).sum().item() / len(test_labels))"
   ]
  },
  {
   "cell_type": "code",
   "execution_count": 20,
   "id": "7421cf7b-6b71-48dd-87aa-8b446d433c34",
   "metadata": {},
   "outputs": [
    {
     "name": "stderr",
     "output_type": "stream",
     "text": [
      "100%|████████████████████████████████████████████████████████████████████████████████████| 9/9 [01:01<00:00,  6.83s/it]\n",
      "100%|████████████████████████████████████████████████████████████████████████████████████| 2/2 [00:07<00:00,  3.91s/it]"
     ]
    },
    {
     "name": "stdout",
     "output_type": "stream",
     "text": [
      "Center 25% Data\n",
      "Photometry Acc 0.827027027027027\n",
      "Spectra Acc    0.6558558558558558\n",
      "Meta Acc       0.7279279279279279\n",
      "All Acc        0.790990990990991\n",
      "Closest 25% Data\n",
      "Photometry Acc 0.8450450450450451\n",
      "Spectra Acc    0.6324324324324324\n",
      "Meta Acc       0.7621621621621621\n",
      "All Acc        0.8324324324324325\n"
     ]
    },
    {
     "name": "stderr",
     "output_type": "stream",
     "text": [
      "\n"
     ]
    }
   ],
   "source": [
    "config['file'] = 'preprocessed_data/sub25_lb/spectra_and_v'\n",
    "\n",
    "train_dataset = PSMDataset(config, split='train')\n",
    "train_dataloader = DataLoader(train_dataset, batch_size=config['batch_size'], shuffle=True)\n",
    "\n",
    "test_dataset = PSMDataset(config, split='test')\n",
    "test_dataloader = DataLoader(test_dataset, batch_size=config['batch_size'], shuffle=True)\n",
    "\n",
    "train_p_emb, train_s_emb, train_m_emb, train_labels = get_embs(train_dataloader)\n",
    "test_p_emb, test_s_emb, test_m_emb, test_labels = get_embs(test_dataloader)\n",
    "\n",
    "p_centers, s_centers, m_centers = get_centers(train_p_emb, train_s_emb, train_m_emb)\n",
    "p_pred, s_pred, m_pred = get_pred_center(test_p_emb, test_s_emb, test_m_emb, p_centers, s_centers, m_centers)\n",
    "pred, _ = torch.mode(torch.stack([p_pred, s_pred, m_pred]), axis=0)\n",
    "\n",
    "print('Center 25% Data')\n",
    "print('Photometry Acc', (p_pred == test_labels).sum().item() / len(test_labels))\n",
    "print('Spectra Acc   ', (s_pred == test_labels).sum().item() / len(test_labels))\n",
    "print('Meta Acc      ', (m_pred == test_labels).sum().item() / len(test_labels))\n",
    "print('All Acc       ', (pred == test_labels).sum().item() / len(test_labels))\n",
    "\n",
    "p_pred, s_pred, m_pred = get_pred_closest(test_p_emb, train_p_emb, test_s_emb, train_s_emb, test_m_emb, train_m_emb, train_labels)\n",
    "pred, _ = torch.mode(torch.stack([p_pred, s_pred, m_pred]), axis=0)\n",
    "\n",
    "print('Closest 25% Data')\n",
    "print('Photometry Acc', (p_pred == test_labels).sum().item() / len(test_labels))\n",
    "print('Spectra Acc   ', (s_pred == test_labels).sum().item() / len(test_labels))\n",
    "print('Meta Acc      ', (m_pred == test_labels).sum().item() / len(test_labels))\n",
    "print('All Acc       ', (pred == test_labels).sum().item() / len(test_labels))"
   ]
  },
  {
   "cell_type": "code",
   "execution_count": 21,
   "id": "cae259be-af49-4b68-84e4-e2f40590066a",
   "metadata": {},
   "outputs": [
    {
     "name": "stderr",
     "output_type": "stream",
     "text": [
      "100%|████████████████████████████████████████████████████████████████████████████████████| 4/4 [00:24<00:00,  6.10s/it]\n",
      "100%|████████████████████████████████████████████████████████████████████████████████████| 1/1 [00:02<00:00,  2.95s/it]"
     ]
    },
    {
     "name": "stdout",
     "output_type": "stream",
     "text": [
      "Center 10% Data\n",
      "Photometry Acc 0.85\n",
      "Spectra Acc    0.6409090909090909\n",
      "Meta Acc       0.7772727272727272\n",
      "All Acc        0.8227272727272728\n",
      "Closest 10% Data\n",
      "Photometry Acc 0.8590909090909091\n",
      "Spectra Acc    0.6\n",
      "Meta Acc       0.7818181818181819\n",
      "All Acc        0.8318181818181818\n"
     ]
    },
    {
     "name": "stderr",
     "output_type": "stream",
     "text": [
      "\n"
     ]
    }
   ],
   "source": [
    "config['file'] = 'preprocessed_data/sub10_lb/spectra_and_v'\n",
    "\n",
    "train_dataset = PSMDataset(config, split='train')\n",
    "train_dataloader = DataLoader(train_dataset, batch_size=config['batch_size'], shuffle=True)\n",
    "\n",
    "test_dataset = PSMDataset(config, split='test')\n",
    "test_dataloader = DataLoader(test_dataset, batch_size=config['batch_size'], shuffle=True)\n",
    "\n",
    "train_p_emb, train_s_emb, train_m_emb, train_labels = get_embs(train_dataloader)\n",
    "test_p_emb, test_s_emb, test_m_emb, test_labels = get_embs(test_dataloader)\n",
    "\n",
    "p_centers, s_centers, m_centers = get_centers(train_p_emb, train_s_emb, train_m_emb)\n",
    "p_pred, s_pred, m_pred = get_pred_center(test_p_emb, test_s_emb, test_m_emb, p_centers, s_centers, m_centers)\n",
    "pred, _ = torch.mode(torch.stack([p_pred, s_pred, m_pred]), axis=0)\n",
    "\n",
    "print('Center 10% Data')\n",
    "print('Photometry Acc', (p_pred == test_labels).sum().item() / len(test_labels))\n",
    "print('Spectra Acc   ', (s_pred == test_labels).sum().item() / len(test_labels))\n",
    "print('Meta Acc      ', (m_pred == test_labels).sum().item() / len(test_labels))\n",
    "print('All Acc       ', (pred == test_labels).sum().item() / len(test_labels))\n",
    "\n",
    "p_pred, s_pred, m_pred = get_pred_closest(test_p_emb, train_p_emb, test_s_emb, train_s_emb, test_m_emb, train_m_emb, train_labels)\n",
    "pred, _ = torch.mode(torch.stack([p_pred, s_pred, m_pred]), axis=0)\n",
    "\n",
    "print('Closest 10% Data')\n",
    "print('Photometry Acc', (p_pred == test_labels).sum().item() / len(test_labels))\n",
    "print('Spectra Acc   ', (s_pred == test_labels).sum().item() / len(test_labels))\n",
    "print('Meta Acc      ', (m_pred == test_labels).sum().item() / len(test_labels))\n",
    "print('All Acc       ', (pred == test_labels).sum().item() / len(test_labels))"
   ]
  },
  {
   "cell_type": "markdown",
   "id": "17ee15f6-4640-48d7-86b5-786aad5380a2",
   "metadata": {},
   "source": [
    "## Results Across Diff Random Seeds"
   ]
  },
  {
   "cell_type": "code",
   "execution_count": null,
   "id": "6b7e4849-8bda-4e6b-8346-906610a33768",
   "metadata": {},
   "outputs": [
    {
     "name": "stderr",
     "output_type": "stream",
     "text": [
      "100%|██████████████████████████████████████████████████████████████████████████████████| 34/34 [04:54<00:00,  8.67s/it]\n",
      "100%|████████████████████████████████████████████████████████████████████████████████████| 5/5 [00:38<00:00,  7.67s/it]\n"
     ]
    },
    {
     "name": "stdout",
     "output_type": "stream",
     "text": [
      "Center full_lb\n",
      "Closest full_lb\n"
     ]
    },
    {
     "name": "stderr",
     "output_type": "stream",
     "text": [
      "100%|██████████████████████████████████████████████████████████████████████████████████| 34/34 [04:56<00:00,  8.71s/it]\n",
      "100%|████████████████████████████████████████████████████████████████████████████████████| 5/5 [00:39<00:00,  7.93s/it]\n"
     ]
    },
    {
     "name": "stdout",
     "output_type": "stream",
     "text": [
      "Center full_lb0\n",
      "Closest full_lb0\n"
     ]
    },
    {
     "name": "stderr",
     "output_type": "stream",
     "text": [
      "100%|██████████████████████████████████████████████████████████████████████████████████| 34/34 [04:57<00:00,  8.74s/it]\n",
      "100%|████████████████████████████████████████████████████████████████████████████████████| 5/5 [00:38<00:00,  7.60s/it]\n"
     ]
    },
    {
     "name": "stdout",
     "output_type": "stream",
     "text": [
      "Center full_lb12\n",
      "Closest full_lb12\n"
     ]
    },
    {
     "name": "stderr",
     "output_type": "stream",
     "text": [
      "100%|██████████████████████████████████████████████████████████████████████████████████| 34/34 [04:51<00:00,  8.58s/it]\n",
      "100%|████████████████████████████████████████████████████████████████████████████████████| 5/5 [00:39<00:00,  7.83s/it]\n"
     ]
    },
    {
     "name": "stdout",
     "output_type": "stream",
     "text": [
      "Center full_lb123\n",
      "Closest full_lb123\n"
     ]
    },
    {
     "name": "stderr",
     "output_type": "stream",
     "text": [
      " 76%|██████████████████████████████████████████████████████████████▋                   | 26/34 [03:50<01:11,  8.88s/it]"
     ]
    }
   ],
   "source": [
    "files_full = ['full_lb', 'full_lb0', 'full_lb12', 'full_lb123', 'full_lb66']\n",
    "center_full, closest_full = get_zero_shot_metrics(files_full)"
   ]
  },
  {
   "cell_type": "code",
   "execution_count": null,
   "id": "e511eb0e-6323-4fc6-8704-56b2ab42b2f5",
   "metadata": {},
   "outputs": [],
   "source": [
    "files50 = ['sub50_lb', 'sub50_lb0', 'sub50_lb12', 'sub50_lb123', 'sub50_lb66']\n",
    "center50, closest50 = get_zero_shot_metrics(files50)"
   ]
  },
  {
   "cell_type": "code",
   "execution_count": null,
   "id": "4a56d9b1-f2f9-4e3e-9773-74d2e844942c",
   "metadata": {},
   "outputs": [],
   "source": [
    "files25 = ['sub25_lb', 'sub25_lb0', 'sub25_lb12', 'sub25_lb123', 'sub25_lb66']\n",
    "center25, closest25 = get_zero_shot_metrics(files25)"
   ]
  },
  {
   "cell_type": "code",
   "execution_count": null,
   "id": "90718d20-8bfb-4128-93d8-ff39f54ff156",
   "metadata": {},
   "outputs": [],
   "source": [
    "files10 = ['sub10_lb', 'sub10_lb0', 'sub10_lb12', 'sub10_lb123', 'sub10_lb66']\n",
    "center10, closest10 = get_zero_shot_metrics(files10)"
   ]
  },
  {
   "cell_type": "code",
   "execution_count": null,
   "id": "097fc973-7e16-42a6-908d-14bc899904f1",
   "metadata": {},
   "outputs": [],
   "source": [
    "print_metrics_avg(files10, center10, closest10)"
   ]
  },
  {
   "cell_type": "code",
   "execution_count": null,
   "id": "4f9e8459-a764-4ce2-b6b4-16df5396d97f",
   "metadata": {},
   "outputs": [],
   "source": []
  },
  {
   "cell_type": "code",
   "execution_count": 100,
   "id": "99ae188c-9c70-46a4-abe7-f2043a5eaa38",
   "metadata": {},
   "outputs": [
    {
     "name": "stdout",
     "output_type": "stream",
     "text": [
      "photometry\n",
      "Center:\t\t 84.895\t ± 1.334\n",
      "Closest:\t 86.442\t ± 1.054\n",
      "\n",
      "spectra\n",
      "Center:\t\t 64.237\t ± 1.655\n",
      "Closest:\t 62.604\t ± 1.388\n",
      "\n",
      "meta\n",
      "Center:\t\t 75.702\t ± 1.895\n",
      "Closest:\t 76.978\t ± 0.93\n",
      "\n",
      "all\n",
      "Center:\t\t 80.524\t ± 2.593\n",
      "Closest:\t 85.804\t ± 1.597\n",
      "\n"
     ]
    }
   ],
   "source": [
    "print_metrics_avg(files10, center10, closest10)"
   ]
  },
  {
   "cell_type": "code",
   "execution_count": 101,
   "id": "58aa591d-0929-47f3-9967-e752a5f99be1",
   "metadata": {},
   "outputs": [
    {
     "name": "stderr",
     "output_type": "stream",
     "text": [
      "100%|████████████████████████████████████████████████████████████████████████████████████| 4/4 [00:28<00:00,  7.11s/it]\n",
      "100%|████████████████████████████████████████████████████████████████████████████████████| 1/1 [00:03<00:00,  3.90s/it]\n"
     ]
    },
    {
     "name": "stdout",
     "output_type": "stream",
     "text": [
      "Center sub10_lb\n",
      "Closest sub10_lb\n"
     ]
    },
    {
     "name": "stderr",
     "output_type": "stream",
     "text": [
      "100%|████████████████████████████████████████████████████████████████████████████████████| 4/4 [00:26<00:00,  6.68s/it]\n",
      "100%|████████████████████████████████████████████████████████████████████████████████████| 1/1 [00:03<00:00,  3.43s/it]\n"
     ]
    },
    {
     "name": "stdout",
     "output_type": "stream",
     "text": [
      "Center sub10_lb0\n",
      "Closest sub10_lb0\n"
     ]
    },
    {
     "name": "stderr",
     "output_type": "stream",
     "text": [
      "100%|████████████████████████████████████████████████████████████████████████████████████| 4/4 [00:25<00:00,  6.50s/it]\n",
      "100%|████████████████████████████████████████████████████████████████████████████████████| 1/1 [00:03<00:00,  3.71s/it]\n"
     ]
    },
    {
     "name": "stdout",
     "output_type": "stream",
     "text": [
      "Center sub10_lb12\n",
      "Closest sub10_lb12\n"
     ]
    },
    {
     "name": "stderr",
     "output_type": "stream",
     "text": [
      "100%|████████████████████████████████████████████████████████████████████████████████████| 4/4 [00:25<00:00,  6.44s/it]\n",
      "100%|████████████████████████████████████████████████████████████████████████████████████| 1/1 [00:03<00:00,  3.49s/it]\n"
     ]
    },
    {
     "name": "stdout",
     "output_type": "stream",
     "text": [
      "Center sub10_lb123\n",
      "Closest sub10_lb123\n"
     ]
    },
    {
     "name": "stderr",
     "output_type": "stream",
     "text": [
      "100%|████████████████████████████████████████████████████████████████████████████████████| 4/4 [00:26<00:00,  6.59s/it]\n",
      "100%|████████████████████████████████████████████████████████████████████████████████████| 1/1 [00:03<00:00,  3.57s/it]\n"
     ]
    },
    {
     "name": "stdout",
     "output_type": "stream",
     "text": [
      "Center sub10_lb66\n",
      "Closest sub10_lb66\n",
      "photometry\n",
      "Center:\t\t 84.895\t ± 1.334\n",
      "Closest:\t 86.442\t ± 1.054\n",
      "\n",
      "spectra\n",
      "Center:\t\t 64.237\t ± 1.655\n",
      "Closest:\t 62.604\t ± 1.388\n",
      "\n",
      "meta\n",
      "Center:\t\t 75.702\t ± 1.895\n",
      "Closest:\t 76.978\t ± 0.93\n",
      "\n",
      "all\n",
      "Center:\t\t 80.524\t ± 2.593\n",
      "Closest:\t 85.804\t ± 1.597\n",
      "\n"
     ]
    }
   ],
   "source": [
    "files10 = ['sub10_lb', 'sub10_lb0', 'sub10_lb12', 'sub10_lb123', 'sub10_lb66']\n",
    "center10, closest10 = get_zero_shot_metrics(files10)\n",
    "print_metrics_avg(files10, center10, closest10)"
   ]
  },
  {
   "cell_type": "code",
   "execution_count": null,
   "id": "1702d247-0bd6-4d9c-a4a1-7034b74e3c77",
   "metadata": {},
   "outputs": [],
   "source": []
  },
  {
   "cell_type": "code",
   "execution_count": null,
   "id": "fa0a13cf-1e48-4cc3-a9f8-8028ce5b0ba2",
   "metadata": {},
   "outputs": [],
   "source": []
  },
  {
   "cell_type": "code",
   "execution_count": null,
   "id": "785d1be7-7abd-4769-9a90-004d48dda3f8",
   "metadata": {},
   "outputs": [],
   "source": []
  },
  {
   "cell_type": "code",
   "execution_count": 72,
   "id": "51c6a5fc-84c1-422b-ad6f-648f16e26205",
   "metadata": {},
   "outputs": [
    {
     "name": "stdout",
     "output_type": "stream",
     "text": [
      "photometry\n",
      "Center:\t\t 83.605\t ± 1.339\n",
      "Closest:\t 84.327\t ± 1.787\n",
      "\n",
      "spectra\n",
      "Center:\t\t 65.989\t ± 1.727\n",
      "Closest:\t 65.131\t ± 1.339\n",
      "\n",
      "meta\n",
      "Center:\t\t 74.672\t ± 1.559\n",
      "Closest:\t 76.944\t ± 1.066\n",
      "\n",
      "all\n",
      "Center:\t\t 80.399\t ± 1.563\n",
      "Closest:\t 86.957\t ± 0.728\n",
      "\n"
     ]
    }
   ],
   "source": [
    "print_metrics_avg(files25, center25, closest25)"
   ]
  },
  {
   "cell_type": "code",
   "execution_count": 73,
   "id": "5ae961b3-5fd6-4369-8965-49c2b686c209",
   "metadata": {},
   "outputs": [
    {
     "name": "stdout",
     "output_type": "stream",
     "text": [
      "photometry\n",
      "Center:\t\t 83.722\t ± 0.748\n",
      "Closest:\t 84.8\t ± 0.545\n",
      "\n",
      "spectra\n",
      "Center:\t\t 65.595\t ± 0.677\n",
      "Closest:\t 67.57\t ± 1.351\n",
      "\n",
      "meta\n",
      "Center:\t\t 74.211\t ± 0.576\n",
      "Closest:\t 78.445\t ± 1.561\n",
      "\n",
      "all\n",
      "Center:\t\t 80.761\t ± 0.589\n",
      "Closest:\t 86.737\t ± 0.712\n",
      "\n"
     ]
    }
   ],
   "source": [
    "print_metrics_avg(files50, center50, closest50)"
   ]
  },
  {
   "cell_type": "code",
   "execution_count": 74,
   "id": "15bdaac5-b51b-4080-b3ce-368693f35965",
   "metadata": {},
   "outputs": [
    {
     "name": "stdout",
     "output_type": "stream",
     "text": [
      "photometry\n",
      "Center:\t\t 81.851\t ± 0.867\n",
      "Closest:\t 86.732\t ± 0.485\n",
      "\n",
      "spectra\n",
      "Center:\t\t 67.439\t ± 0.688\n",
      "Closest:\t 72.64\t ± 0.531\n",
      "\n",
      "meta\n",
      "Center:\t\t 74.136\t ± 0.712\n",
      "Closest:\t 81.459\t ± 0.613\n",
      "\n",
      "all\n",
      "Center:\t\t 80.018\t ± 0.544\n",
      "Closest:\t 88.603\t ± 0.358\n",
      "\n"
     ]
    }
   ],
   "source": [
    "print_metrics_avg(files_full, center_full, closest_full)"
   ]
  },
  {
   "cell_type": "markdown",
   "id": "c8536669-360d-4cc3-905b-1d100cdc39fb",
   "metadata": {},
   "source": [
    "# Single example prediction"
   ]
  },
  {
   "cell_type": "code",
   "execution_count": 76,
   "id": "6621a3c6-c2ae-4134-9ed0-4d9cf2b17543",
   "metadata": {},
   "outputs": [
    {
     "name": "stderr",
     "output_type": "stream",
     "text": [
      "100%|████████████████████████████████████████████████████████████████████████████████████| 4/4 [00:28<00:00,  7.20s/it]\n"
     ]
    }
   ],
   "source": [
    "config['file'] = 'preprocessed_data/sub10_lb/spectra_and_v'\n",
    "train_dataset = PSMDataset(config, split='train')\n",
    "train_dataloader = DataLoader(train_dataset, batch_size=config['batch_size'], shuffle=True)\n",
    "train_p_emb, train_s_emb, train_m_emb, train_labels = get_embs(train_dataloader)"
   ]
  },
  {
   "cell_type": "code",
   "execution_count": 105,
   "id": "5d572efe-7b7a-46f5-b437-2e8745f0d9cb",
   "metadata": {},
   "outputs": [],
   "source": [
    "one_p_emb = []\n",
    "one_s_emb = []\n",
    "one_m_emb = []\n",
    "\n",
    "for i in range(10):\n",
    "    one_p_emb.append(train_p_emb[train_labels == i][2])\n",
    "    one_s_emb.append(train_s_emb[train_labels == i][2])\n",
    "    one_m_emb.append(train_m_emb[train_labels == i][2])\n",
    "\n",
    "one_p_emb = torch.vstack(one_p_emb)\n",
    "one_s_emb = torch.vstack(one_s_emb)\n",
    "one_m_emb = torch.vstack(one_m_emb)\n",
    "one_all_emb = (one_p_emb + one_s_emb + one_m_emb) / 3"
   ]
  },
  {
   "cell_type": "code",
   "execution_count": 106,
   "id": "d893166a-43a0-4088-89e9-acdc01b603b8",
   "metadata": {},
   "outputs": [
    {
     "name": "stderr",
     "output_type": "stream",
     "text": [
      "100%|████████████████████████████████████████████████████████████████████████████████████| 1/1 [00:04<00:00,  4.26s/it]\n"
     ]
    }
   ],
   "source": [
    "test_dataset = PSMDataset(config, split='test')\n",
    "test_dataloader = DataLoader(test_dataset, batch_size=config['batch_size'], shuffle=True)\n",
    "test_p_emb, test_s_emb, test_m_emb, test_labels = get_embs(test_dataloader)"
   ]
  },
  {
   "cell_type": "code",
   "execution_count": 107,
   "id": "42b56f21-c17c-485a-8c19-1196cd93dd24",
   "metadata": {},
   "outputs": [],
   "source": [
    "p_pred, s_pred, m_pred, all_pred = get_pred_center(test_p_emb, test_s_emb, test_m_emb, one_p_emb, one_s_emb, one_m_emb, one_all_emb)"
   ]
  },
  {
   "cell_type": "code",
   "execution_count": 108,
   "id": "ad1c3a55-b301-430b-846d-a2f9a745f055",
   "metadata": {},
   "outputs": [
    {
     "name": "stdout",
     "output_type": "stream",
     "text": [
      "One \t photo 0.4954545454545455 spectra 0.4590909090909091 meta 0.41818181818181815 all 0.4863636363636364\n"
     ]
    }
   ],
   "source": [
    "p_acc = (p_pred == test_labels).sum().item() / len(test_labels)\n",
    "s_acc = (s_pred == test_labels).sum().item() / len(test_labels)\n",
    "m_acc = (m_pred == test_labels).sum().item() / len(test_labels)\n",
    "all_acc = (all_pred == test_labels).sum().item() / len(test_labels)\n",
    "\n",
    "print(f'One \\t photo {p_acc} spectra {s_acc} meta {m_acc} all {all_acc}')"
   ]
  },
  {
   "cell_type": "code",
   "execution_count": 95,
   "id": "da0861a7-5758-474b-9c00-5aa3254f423c",
   "metadata": {},
   "outputs": [
    {
     "name": "stderr",
     "output_type": "stream",
     "text": [
      "100%|████████████████████████████████████████████████████████████████████████████████████| 2/2 [00:09<00:00,  4.61s/it]"
     ]
    },
    {
     "name": "stdout",
     "output_type": "stream",
     "text": [
      "One \t photo 0.5369369369369369 spectra 0.4972972972972973 meta 0.4828828828828829 all 0.5513513513513514\n"
     ]
    },
    {
     "name": "stderr",
     "output_type": "stream",
     "text": [
      "\n"
     ]
    }
   ],
   "source": [
    "config['file'] = 'preprocessed_data/sub25_lb/spectra_and_v'\n",
    "test_dataset = PSMDataset(config, split='test')\n",
    "test_dataloader = DataLoader(test_dataset, batch_size=config['batch_size'], shuffle=True)\n",
    "\n",
    "test_p_emb, test_s_emb, test_m_emb, test_labels = get_embs(test_dataloader)\n",
    "p_pred, s_pred, m_pred, all_pred = get_pred_center(test_p_emb, test_s_emb, test_m_emb, one_p_emb, one_s_emb, one_m_emb, one_all_emb)\n",
    "\n",
    "p_acc = (p_pred == test_labels).sum().item() / len(test_labels)\n",
    "s_acc = (s_pred == test_labels).sum().item() / len(test_labels)\n",
    "m_acc = (m_pred == test_labels).sum().item() / len(test_labels)\n",
    "all_acc = (all_pred == test_labels).sum().item() / len(test_labels)\n",
    "\n",
    "print(f'One \\t photo {p_acc} spectra {s_acc} meta {m_acc} all {all_acc}')"
   ]
  },
  {
   "cell_type": "code",
   "execution_count": 96,
   "id": "0f200d75-ae90-459a-bc06-760860afdf05",
   "metadata": {},
   "outputs": [
    {
     "name": "stderr",
     "output_type": "stream",
     "text": [
      "100%|████████████████████████████████████████████████████████████████████████████████████| 3/3 [00:17<00:00,  5.97s/it]"
     ]
    },
    {
     "name": "stdout",
     "output_type": "stream",
     "text": [
      "One \t photo 0.5427542754275427 spectra 0.5184518451845185 meta 0.49954995499549953 all 0.585958595859586\n"
     ]
    },
    {
     "name": "stderr",
     "output_type": "stream",
     "text": [
      "\n"
     ]
    }
   ],
   "source": [
    "config['file'] = 'preprocessed_data/sub50_lb/spectra_and_v'\n",
    "test_dataset = PSMDataset(config, split='test')\n",
    "test_dataloader = DataLoader(test_dataset, batch_size=config['batch_size'], shuffle=True)\n",
    "\n",
    "test_p_emb, test_s_emb, test_m_emb, test_labels = get_embs(test_dataloader)\n",
    "p_pred, s_pred, m_pred, all_pred = get_pred_center(test_p_emb, test_s_emb, test_m_emb, one_p_emb, one_s_emb, one_m_emb, one_all_emb)\n",
    "\n",
    "p_acc = (p_pred == test_labels).sum().item() / len(test_labels)\n",
    "s_acc = (s_pred == test_labels).sum().item() / len(test_labels)\n",
    "m_acc = (m_pred == test_labels).sum().item() / len(test_labels)\n",
    "all_acc = (all_pred == test_labels).sum().item() / len(test_labels)\n",
    "\n",
    "print(f'One \\t photo {p_acc} spectra {s_acc} meta {m_acc} all {all_acc}')"
   ]
  },
  {
   "cell_type": "code",
   "execution_count": 97,
   "id": "eaf05e96-93d1-4e58-92dc-2f6f90902ffa",
   "metadata": {},
   "outputs": [
    {
     "name": "stderr",
     "output_type": "stream",
     "text": [
      "100%|████████████████████████████████████████████████████████████████████████████████████| 5/5 [00:33<00:00,  6.79s/it]\n"
     ]
    },
    {
     "name": "stdout",
     "output_type": "stream",
     "text": [
      "One \t photo 0.5177528089887641 spectra 0.529438202247191 meta 0.4732584269662921 all 0.5716853932584269\n"
     ]
    }
   ],
   "source": [
    "config['file'] = 'preprocessed_data/full_lb/spectra_and_v'\n",
    "test_dataset = PSMDataset(config, split='test')\n",
    "test_dataloader = DataLoader(test_dataset, batch_size=config['batch_size'], shuffle=True)\n",
    "\n",
    "test_p_emb, test_s_emb, test_m_emb, test_labels = get_embs(test_dataloader)\n",
    "p_pred, s_pred, m_pred, all_pred = get_pred_center(test_p_emb, test_s_emb, test_m_emb, one_p_emb, one_s_emb, one_m_emb, one_all_emb)\n",
    "\n",
    "p_acc = (p_pred == test_labels).sum().item() / len(test_labels)\n",
    "s_acc = (s_pred == test_labels).sum().item() / len(test_labels)\n",
    "m_acc = (m_pred == test_labels).sum().item() / len(test_labels)\n",
    "all_acc = (all_pred == test_labels).sum().item() / len(test_labels)\n",
    "\n",
    "print(f'One \\t photo {p_acc} spectra {s_acc} meta {m_acc} all {all_acc}')"
   ]
  },
  {
   "cell_type": "code",
   "execution_count": null,
   "id": "698ea68d-fc46-49a7-8198-12329b356803",
   "metadata": {},
   "outputs": [],
   "source": []
  },
  {
   "cell_type": "code",
   "execution_count": null,
   "id": "e9fec348-e0a1-40e9-8e9a-1f6cb2df294a",
   "metadata": {},
   "outputs": [],
   "source": []
  },
  {
   "cell_type": "code",
   "execution_count": null,
   "id": "223443bb-eba5-4e82-8b43-7d7b083e9871",
   "metadata": {},
   "outputs": [],
   "source": []
  },
  {
   "cell_type": "code",
   "execution_count": null,
   "id": "7f94dd54-2c0f-4aad-ad6e-8b7b5ccd6ec3",
   "metadata": {},
   "outputs": [],
   "source": []
  },
  {
   "cell_type": "code",
   "execution_count": null,
   "id": "cbadf8cd-173c-4d7d-b40f-22a2279e489d",
   "metadata": {},
   "outputs": [],
   "source": []
  },
  {
   "cell_type": "code",
   "execution_count": null,
   "id": "3b7c2f66-f5be-49cc-9fb1-3e25819ee3f5",
   "metadata": {},
   "outputs": [],
   "source": []
  },
  {
   "cell_type": "code",
   "execution_count": null,
   "id": "3653eb69-2cba-4cea-acf7-d488a4fa005e",
   "metadata": {},
   "outputs": [],
   "source": []
  },
  {
   "cell_type": "code",
   "execution_count": null,
   "id": "c1fb3d59-c67b-4170-8fa8-21d1c4c370d6",
   "metadata": {},
   "outputs": [],
   "source": []
  },
  {
   "cell_type": "code",
   "execution_count": null,
   "id": "d11affae-e30e-400d-8bbd-01eac3c7ce47",
   "metadata": {},
   "outputs": [],
   "source": []
  },
  {
   "cell_type": "code",
   "execution_count": null,
   "id": "478c5385-b71d-42f4-b453-0a7ce564387e",
   "metadata": {},
   "outputs": [],
   "source": []
  },
  {
   "cell_type": "code",
   "execution_count": null,
   "id": "bcbdc8b0-d3f7-447e-9bb5-ec9fe59791a3",
   "metadata": {},
   "outputs": [],
   "source": []
  },
  {
   "cell_type": "code",
   "execution_count": null,
   "id": "0a176bb3-2a10-4888-9b51-1a713ab2f0a2",
   "metadata": {},
   "outputs": [],
   "source": []
  },
  {
   "cell_type": "code",
   "execution_count": null,
   "id": "3cde3072-e66b-4d70-aeea-927d7cf6544a",
   "metadata": {},
   "outputs": [],
   "source": []
  },
  {
   "cell_type": "code",
   "execution_count": null,
   "id": "9272936f-8c8c-48fd-a1a5-0e6dfa9245ad",
   "metadata": {},
   "outputs": [],
   "source": []
  },
  {
   "cell_type": "code",
   "execution_count": null,
   "id": "2509da09-d464-4ed7-bd16-c1385c35fd6b",
   "metadata": {},
   "outputs": [],
   "source": []
  },
  {
   "cell_type": "code",
   "execution_count": null,
   "id": "986a6deb-1c17-479a-b3c8-5d5a8c80275f",
   "metadata": {},
   "outputs": [],
   "source": []
  },
  {
   "cell_type": "code",
   "execution_count": null,
   "id": "aaa994a2-2666-40e0-a0ec-202cad2adfe0",
   "metadata": {},
   "outputs": [],
   "source": []
  },
  {
   "cell_type": "code",
   "execution_count": null,
   "id": "5dd9534f-0508-4ff1-87ff-ce5a675a4390",
   "metadata": {},
   "outputs": [],
   "source": []
  },
  {
   "cell_type": "code",
   "execution_count": null,
   "id": "805c30b0-105d-4f9d-b0d4-893da9baafb2",
   "metadata": {},
   "outputs": [],
   "source": []
  },
  {
   "cell_type": "code",
   "execution_count": 27,
   "id": "620730ea-4930-4bc7-aac1-aa92ddb45bc1",
   "metadata": {},
   "outputs": [
    {
     "data": {
      "text/plain": [
       "tensor([-0.1157,  0.0946,  0.2835,  0.3743,  0.2619,  0.3575, -0.0509,  0.8764,\n",
       "         0.7402,  0.1351])"
      ]
     },
     "execution_count": 27,
     "metadata": {},
     "output_type": "execute_result"
    }
   ],
   "source": [
    "val_m_emb[0] @ m_centers.T"
   ]
  },
  {
   "cell_type": "code",
   "execution_count": 12,
   "id": "b6f7afad-7e2d-4547-9100-9f090aaab027",
   "metadata": {},
   "outputs": [
    {
     "name": "stdout",
     "output_type": "stream",
     "text": [
      "0 tensor(-0.1157)\n",
      "1 tensor(0.0946)\n",
      "2 tensor(0.2835)\n",
      "3 tensor(0.3743)\n",
      "4 tensor(0.2619)\n",
      "5 tensor(0.3575)\n",
      "6 tensor(-0.0509)\n",
      "7 tensor(0.8764)\n",
      "8 tensor(0.7402)\n",
      "9 tensor(0.1351)\n",
      "tensor(7)\n"
     ]
    }
   ],
   "source": [
    "\n",
    "for i in range(10):\n",
    "    print(i, val_m_emb[0] @ m_centers[i].cpu())\n",
    "\n",
    "print(val_labels[0])"
   ]
  },
  {
   "cell_type": "code",
   "execution_count": 10,
   "id": "b13ffc6b-524b-4764-ade4-eb96509a7cd4",
   "metadata": {},
   "outputs": [
    {
     "data": {
      "text/plain": [
       "[tensor([ 2.1247e-02,  3.7952e-03, -1.4793e-02, -1.0881e-01, -2.7797e-03,\n",
       "          2.1860e-02,  1.1879e-02, -1.1445e-02, -3.9842e-03,  2.9460e-02,\n",
       "         -1.6177e-02,  1.1165e-02,  3.9058e-03, -2.7822e-02, -2.4768e-02,\n",
       "         -9.7808e-03,  2.7336e-02, -3.7336e-03,  2.4106e-04, -1.9938e-02,\n",
       "         -1.0377e-02,  6.5937e-03, -2.3949e-02,  4.3492e-02,  1.0484e-02,\n",
       "          1.3267e-02, -8.8545e-03,  1.0652e-02,  9.4356e-03,  8.6364e-03,\n",
       "         -5.6013e-02, -1.1076e-02,  2.0148e-02, -7.8863e-03, -1.9276e-04,\n",
       "          3.9877e-02,  1.5867e-01,  6.6636e-03, -1.5462e-02, -1.0152e-02,\n",
       "          9.9161e-03, -1.3483e-02,  8.0748e-03,  2.6081e-03,  3.0227e-03,\n",
       "         -3.6729e-05,  7.0379e-03, -1.8633e-02, -9.6590e-03, -1.2463e-02,\n",
       "         -2.1684e-02, -2.3899e-02,  1.8698e-01, -2.6397e-02, -1.3501e-02,\n",
       "          2.0383e-03, -1.6449e-02, -9.4272e-03,  2.2986e-03, -9.4092e-03,\n",
       "          4.2974e-03,  2.0360e-02,  2.7541e-02, -2.3124e-02,  3.8132e-02,\n",
       "          1.5180e-02, -1.5430e-05, -6.2699e-02,  4.3347e-03,  5.1061e-03,\n",
       "         -8.4273e-04,  1.2491e-02, -9.3002e-04,  7.2826e-03, -2.0564e-03,\n",
       "         -3.5909e-03,  9.1626e-03, -2.4267e-03, -2.7276e-03,  5.0571e-03,\n",
       "         -1.1414e-02, -3.7353e-02, -3.8749e-02,  2.3794e-02, -8.6314e-04,\n",
       "         -1.2145e-02,  1.1213e-02, -4.6163e-03, -8.1547e-02,  5.4495e-03,\n",
       "          5.9913e-02,  1.2430e-02, -9.9496e-03, -6.3224e-03, -7.6793e-03,\n",
       "          2.4723e-02,  1.4046e-02, -6.3972e-02, -5.5551e-03,  1.8105e-03,\n",
       "         -9.3837e-03, -7.8514e-03, -1.8626e-03,  2.4529e-02, -2.2013e-02,\n",
       "          3.9459e-03,  1.7823e-03,  3.6850e-03, -1.8061e-05,  1.6165e-02,\n",
       "         -6.7981e-02, -1.3160e-03, -8.7266e-03,  2.4699e-02, -1.1411e-02,\n",
       "          6.1460e-02,  1.0459e-02,  1.8304e-03, -1.9103e-03,  4.9823e-03,\n",
       "          5.7275e-03, -2.2867e-01,  1.3719e-02, -5.2865e-03,  8.4626e-03,\n",
       "         -1.5392e-03,  9.5834e-03, -1.3530e-02,  6.5008e-03, -4.3231e-03,\n",
       "         -4.2427e-03, -1.8954e-03,  6.1472e-03,  6.9862e-03, -1.7522e-02,\n",
       "          2.0704e-02,  9.4414e-03,  1.7769e-03,  3.2211e-02, -3.4725e-02,\n",
       "          1.0372e-02, -1.4967e-02,  2.1483e-02, -1.7144e-03, -3.0854e-03,\n",
       "          3.0658e-03,  5.6792e-05,  1.1025e-03, -8.4882e-03,  2.5582e-03,\n",
       "          1.5921e-03, -8.7816e-03,  1.2818e-03,  9.4583e-03, -1.2780e-02,\n",
       "         -2.7274e-03, -1.1204e-02,  8.4602e-04,  1.5193e-02, -1.1322e-02,\n",
       "         -1.7319e-02,  5.4044e-03,  5.1738e-02,  4.1446e-03, -3.4108e-03,\n",
       "         -6.1651e-03, -3.3623e-02,  5.0259e-03, -2.4094e-03, -4.9175e-03,\n",
       "         -2.4452e-02, -9.0954e-03,  1.4246e-02, -4.8809e-02,  3.5569e-03,\n",
       "         -1.0259e-02, -2.5042e-01,  2.1755e-02, -9.2070e-03, -6.9071e-02,\n",
       "         -2.9758e-01, -6.7749e-03, -7.9615e-03, -8.0183e-03,  9.7155e-03,\n",
       "         -8.6166e-04, -5.0395e-03,  6.9459e-03,  7.7533e-03,  5.5081e-03,\n",
       "         -7.7309e-03, -3.9655e-02,  8.1640e-03, -5.3353e-03,  7.0710e-03,\n",
       "          2.9882e-03, -2.0873e-02,  1.5472e-02,  2.2916e-02, -3.9269e-03,\n",
       "          4.5834e-03, -1.1056e-03, -5.5243e-03, -2.3703e-02, -1.4374e-01,\n",
       "          1.6065e-02, -1.0985e-03,  8.0934e-02,  6.2030e-03, -7.1353e-03,\n",
       "          3.0758e-02, -5.9054e-03,  6.1974e-02,  2.6944e-01,  4.9022e-03,\n",
       "         -6.4879e-05,  1.8541e-02, -1.3952e-02, -2.2600e-03,  2.0124e-02,\n",
       "          1.0197e-02, -1.1681e-02, -9.6932e-02, -1.6266e-02, -2.6860e-02,\n",
       "         -1.3622e-02,  2.6735e-02, -1.2043e-03,  1.2817e-02, -2.3116e-02,\n",
       "         -2.9401e-03,  1.9596e-03, -6.5008e-03, -1.1585e-02, -4.1436e-04,\n",
       "         -5.1386e-03,  4.6191e-03, -1.3442e-01,  1.0694e-03, -1.5811e-02,\n",
       "         -7.6917e-03, -8.9998e-03, -2.0142e-02, -2.3806e-02, -8.4384e-05,\n",
       "          2.0944e-02,  2.4710e-03, -5.3862e-03,  8.1079e-03,  1.4143e-03,\n",
       "          9.1015e-03, -1.5366e-02,  1.1687e-02, -5.1924e-03, -6.9919e-03,\n",
       "         -8.6647e-02,  5.0820e-03,  3.1253e-02, -7.8139e-03, -6.9810e-03,\n",
       "         -7.0312e-03, -7.3183e-03,  1.1749e-02, -9.2430e-04,  2.0377e-02,\n",
       "          1.2895e-03,  3.1773e-04,  1.2786e-02,  6.9193e-03,  9.3191e-03,\n",
       "          6.9748e-02,  8.9104e-02, -4.4409e-03, -7.5738e-03,  5.9410e-03,\n",
       "         -8.7170e-03, -7.7095e-03, -1.2697e-02, -1.5313e-02, -2.0882e-03,\n",
       "          5.7137e-03,  3.4051e-02,  6.9243e-03, -9.5878e-04, -1.1162e-03,\n",
       "          1.7797e-02,  2.2759e-02,  6.2412e-03, -1.9324e-02, -1.2557e-02,\n",
       "         -8.0858e-03,  2.5828e-02,  7.1133e-03,  1.7811e-02,  3.3754e-03,\n",
       "         -9.2536e-03, -5.2837e-03, -5.7560e-03,  5.1865e-03, -3.1729e-02,\n",
       "          2.6270e-02, -6.2126e-03, -5.9822e-04, -1.3964e-03,  8.7309e-03,\n",
       "          1.8103e-02, -6.6331e-04,  1.5748e-03,  9.6832e-05,  3.4858e-03,\n",
       "         -2.4193e-03,  8.4099e-03,  7.7047e-03,  9.6396e-02, -6.2528e-03,\n",
       "         -1.3858e-04, -3.7612e-03,  1.6477e-02, -1.9183e-03, -3.9464e-02,\n",
       "         -1.4092e-03, -6.6377e-03, -2.3557e-03,  1.8162e-02,  8.4662e-03,\n",
       "          2.1295e-02, -3.3134e-03,  9.4209e-04,  1.5884e-01, -6.3469e-03,\n",
       "          2.5019e-02,  4.5305e-03,  1.0793e-02, -5.1753e-03, -8.4474e-03,\n",
       "         -3.4843e-02, -6.1715e-03, -2.2231e-02, -1.1142e-02,  1.7324e-02,\n",
       "          9.3685e-02,  1.6083e-03,  8.5870e-04,  1.9903e-02,  3.7631e-03,\n",
       "          3.7075e-04,  1.6153e-02,  4.1247e-03,  1.5443e-02,  9.6697e-03,\n",
       "          4.7905e-03, -3.1754e-03,  2.3543e-02,  7.8062e-03, -1.6444e-01,\n",
       "          9.8744e-03,  1.5205e-03, -1.7053e-02,  1.3908e-02, -1.3501e-02,\n",
       "          1.4919e-02, -3.2379e-02, -6.0673e-03,  6.1621e-03, -4.1429e-02,\n",
       "         -7.5450e-03,  9.2827e-03, -9.2915e-02, -4.7577e-02,  1.2280e-01,\n",
       "         -5.8657e-04,  3.1022e-02,  7.1144e-03, -3.5163e-02,  4.5904e-03,\n",
       "         -2.7566e-03,  3.3868e-02,  1.5541e-02, -2.6178e-03, -1.0876e-02,\n",
       "         -6.4535e-02, -1.4821e-02,  4.5442e-03,  2.5121e-03,  1.5196e-03,\n",
       "          1.5555e-02, -4.3479e-03, -5.7376e-03, -1.5889e-02, -1.9311e-02,\n",
       "          5.5598e-03,  2.2749e-02, -2.1119e-02, -1.6180e-02,  6.2081e-03,\n",
       "         -3.4561e-03,  1.2734e-02, -2.2414e-02,  1.1470e-02, -4.5580e-02,\n",
       "         -2.3005e-02,  3.0349e-02, -2.6895e-02,  6.5165e-03,  1.0612e-02,\n",
       "          1.6494e-02, -1.8554e-02,  1.9150e-03,  2.2245e-02,  8.7870e-03,\n",
       "         -2.8482e-02, -5.7952e-02,  6.3780e-03, -1.4502e-02, -1.1557e-02,\n",
       "         -6.6784e-03,  2.2041e-03,  6.7674e-03,  2.2841e-02, -2.6043e-02,\n",
       "         -9.4380e-03, -6.3117e-03, -6.2144e-03,  1.8435e-04, -2.1602e-02,\n",
       "          8.3610e-03, -1.0576e-02,  5.6879e-03, -1.3248e-02, -9.7831e-03,\n",
       "          7.1243e-04, -2.2120e-02,  2.9026e-03, -4.2271e-01,  1.2466e-01,\n",
       "          1.9214e-02, -2.6163e-03, -1.5874e-02, -9.9635e-03, -2.2007e-02,\n",
       "         -1.1168e-02, -1.5398e-02, -4.7173e-03, -1.6219e-02, -1.3364e-02,\n",
       "          5.1593e-03,  7.8084e-03, -9.2515e-03,  5.4892e-03, -6.7500e-03,\n",
       "         -2.8740e-02, -6.4660e-03, -1.4518e-01, -2.3902e-02,  1.1005e-02,\n",
       "         -1.7872e-02,  7.0192e-03, -1.5768e-02,  1.1411e-02, -1.2591e-02,\n",
       "         -1.7003e-02,  4.8881e-02,  3.2906e-02,  8.4125e-03, -8.7657e-03,\n",
       "          6.2465e-02,  7.1499e-03, -1.0338e-02,  1.5659e-03, -3.3981e-03,\n",
       "          3.2610e-02, -1.4536e-03, -2.5482e-02,  3.1550e-01, -8.8716e-03,\n",
       "          4.2633e-02, -4.6317e-02,  1.6509e-02, -1.4224e-02, -9.6330e-03,\n",
       "          1.8269e-02,  6.4090e-03, -7.3049e-02, -1.3871e-02,  1.4701e-03,\n",
       "          9.4744e-03, -8.5483e-03, -1.7785e-03,  6.3957e-03,  2.0961e-02,\n",
       "          5.4702e-03, -6.8533e-04,  3.7890e-02,  2.1185e-02, -1.3500e-02,\n",
       "         -1.0689e-02,  1.4383e-02,  7.0911e-03, -4.1777e-03, -4.0273e-02,\n",
       "         -6.2281e-03,  7.3595e-03, -2.4985e-03,  4.1358e-03, -8.7899e-04,\n",
       "         -2.1600e-02,  1.8876e-02,  1.4459e-02, -9.2795e-04, -8.2537e-03,\n",
       "          3.9901e-03,  8.4065e-04], device='cuda:1'),\n",
       " tensor([ 2.3170e-02,  9.4317e-03, -1.3373e-02, -3.6995e-02,  1.8108e-03,\n",
       "         -1.5804e-03,  3.5537e-05, -7.8581e-03,  5.3196e-03, -1.1775e-02,\n",
       "         -1.5163e-02, -6.1089e-03,  1.2719e-02, -5.4567e-03, -1.2890e-02,\n",
       "         -1.8435e-03,  4.1690e-02, -4.0243e-03, -1.9273e-03, -1.0886e-02,\n",
       "         -3.3411e-03, -8.5504e-03, -1.9587e-02, -2.6072e-02, -1.0023e-03,\n",
       "          8.3833e-04,  1.0364e-03, -3.0330e-02,  1.3738e-02,  9.3876e-03,\n",
       "         -9.4912e-04,  3.9352e-04,  2.2822e-02, -2.9983e-03, -2.2401e-02,\n",
       "          6.4392e-03,  7.8256e-02, -1.7869e-03, -9.3421e-03,  2.1859e-03,\n",
       "          1.9714e-02, -1.8180e-02, -5.3391e-03, -1.0315e-03,  3.0398e-02,\n",
       "         -3.9359e-03, -6.9851e-03, -3.0271e-03, -8.4542e-04, -1.6279e-02,\n",
       "         -2.8874e-03,  4.6582e-02,  2.4200e-01,  8.0399e-03, -6.8194e-03,\n",
       "          9.4860e-03,  8.0950e-03, -9.5318e-03, -3.5509e-03, -2.4056e-03,\n",
       "          1.1294e-02,  1.4438e-02,  8.4768e-03,  1.4924e-02, -3.0965e-02,\n",
       "         -2.6359e-04,  1.0518e-01, -2.3095e-02, -7.0526e-03, -1.1829e-02,\n",
       "         -2.7103e-03,  6.4585e-03, -4.5991e-04,  7.8970e-03,  7.2462e-03,\n",
       "          4.0749e-02, -8.5649e-04,  7.9120e-04, -7.6733e-03,  5.9376e-03,\n",
       "         -9.3353e-03, -1.4760e-02, -4.1714e-02,  1.0076e-02,  4.4862e-03,\n",
       "          3.9945e-03,  4.3096e-04, -2.1429e-02, -5.1612e-02, -2.0982e-02,\n",
       "          6.8879e-03,  9.0801e-03, -3.8431e-03,  1.6706e-03, -2.1241e-03,\n",
       "          1.3167e-02,  1.1829e-02,  1.0458e-02, -3.1922e-03, -1.3555e-03,\n",
       "          1.4366e-02, -3.7773e-03, -8.5157e-04, -5.1118e-03, -2.9767e-02,\n",
       "          4.9997e-03,  1.4488e-03, -2.7663e-03,  4.0602e-03,  1.8564e-03,\n",
       "         -4.0268e-02,  2.4649e-03,  9.6626e-03,  8.4156e-03, -4.7833e-03,\n",
       "          2.1742e-02,  1.2343e-03, -2.1307e-02,  1.7175e-02, -6.2038e-02,\n",
       "         -1.6441e-03, -3.2051e-01,  3.8333e-03, -1.3153e-03,  2.5238e-03,\n",
       "         -1.2242e-02,  6.4032e-04,  1.4561e-03,  3.6183e-03, -4.5560e-03,\n",
       "          6.3600e-03,  1.3316e-02, -4.3569e-03,  1.7898e-02, -3.9030e-02,\n",
       "          8.0840e-03,  7.3690e-03,  1.0028e-02,  1.2758e-02, -3.5871e-02,\n",
       "          1.1495e-02, -8.1313e-03,  1.5310e-02, -1.2384e-02, -2.0023e-03,\n",
       "         -4.4655e-03,  6.2524e-04, -1.4021e-02, -9.0991e-03,  1.3715e-02,\n",
       "          9.7945e-03, -2.4673e-04, -2.3960e-02,  5.1531e-03, -3.1503e-02,\n",
       "          1.1304e-03, -9.9253e-03, -8.2350e-03, -3.6024e-03, -9.0620e-02,\n",
       "         -1.1716e-02,  9.2817e-03,  2.6795e-02,  2.9986e-03,  4.6374e-03,\n",
       "          1.6041e-03, -1.5121e-02, -1.2886e-02, -2.8759e-03, -6.1219e-03,\n",
       "          1.1418e-02,  6.5158e-05,  3.8082e-03,  8.1316e-03, -2.0059e-03,\n",
       "          3.3071e-03, -3.4098e-01,  8.7309e-03,  9.2504e-03, -5.3819e-03,\n",
       "         -3.2877e-01,  1.8922e-02, -4.8426e-03, -1.2060e-02,  5.4406e-03,\n",
       "         -1.1680e-02,  3.7790e-03,  3.9924e-03, -1.2836e-04, -2.1786e-03,\n",
       "         -8.9280e-03, -8.4840e-05,  6.5899e-03,  5.0395e-03,  1.2435e-03,\n",
       "          2.8743e-03, -2.6887e-03,  4.4184e-03,  7.9057e-02, -4.0860e-03,\n",
       "          6.1443e-03,  4.2970e-03,  5.9259e-03, -1.6334e-02, -2.7305e-01,\n",
       "         -6.1453e-02,  2.4114e-03,  5.3623e-02,  1.4464e-03, -6.4025e-03,\n",
       "          3.8388e-03,  1.3462e-02,  1.7100e-02,  7.6039e-02,  7.9216e-03,\n",
       "         -1.0574e-02, -2.7813e-03, -4.5242e-03,  5.1139e-03, -1.3427e-02,\n",
       "         -1.1226e-02, -4.2292e-03,  6.6273e-03,  1.1082e-02, -1.2907e-02,\n",
       "          7.8132e-03, -4.5621e-02, -6.9622e-04,  1.3306e-02, -5.1810e-03,\n",
       "         -6.6041e-04,  8.5665e-03, -3.9917e-03, -5.1649e-03, -1.8439e-03,\n",
       "         -5.9595e-03,  1.2052e-02, -1.2311e-01, -9.5765e-04,  2.1709e-03,\n",
       "         -2.1359e-04, -7.1806e-03, -2.6467e-02, -1.9832e-04,  3.8455e-03,\n",
       "          5.5044e-03,  1.7869e-03, -6.2319e-03,  3.3618e-03,  3.8801e-03,\n",
       "          1.1024e-02, -4.9302e-02, -6.5904e-02,  3.6573e-03, -4.7009e-03,\n",
       "         -9.9874e-02,  2.8802e-03,  1.3830e-02,  3.6836e-03,  2.6144e-03,\n",
       "          7.2040e-06, -3.2131e-03,  6.9577e-03, -6.7932e-03,  5.0805e-02,\n",
       "          5.6886e-03, -6.9638e-03,  2.5611e-03,  5.5055e-03,  1.4071e-03,\n",
       "         -4.0941e-02,  4.2684e-02, -4.8028e-03, -1.7077e-03, -3.0402e-03,\n",
       "          9.8626e-03, -7.0027e-03,  1.1073e-02, -1.7916e-02, -1.3908e-02,\n",
       "         -3.2811e-02,  4.4501e-02,  6.6117e-03, -7.8491e-03, -4.1521e-03,\n",
       "          1.4294e-02,  1.4772e-02,  5.8149e-03, -8.0906e-03, -2.9357e-04,\n",
       "         -7.9201e-03,  1.3153e-02,  2.2563e-03,  5.0582e-03,  6.7433e-03,\n",
       "         -5.2253e-03,  5.3773e-05, -4.7437e-03, -3.4647e-03, -4.2141e-03,\n",
       "          5.6836e-02, -6.4970e-03,  1.8365e-03, -1.1306e-03,  4.3895e-03,\n",
       "          1.1303e-02, -5.3733e-03,  9.7783e-04, -2.5630e-03,  2.9217e-03,\n",
       "         -2.3125e-03, -8.7458e-03,  1.4246e-02, -3.6223e-03,  3.5498e-03,\n",
       "          3.4930e-04,  1.6919e-03,  1.0529e-02, -1.2071e-02,  5.3220e-03,\n",
       "          5.1466e-03, -9.3278e-03,  1.6687e-03, -5.3071e-03,  1.2272e-03,\n",
       "          1.9733e-02, -9.5673e-03, -1.2906e-03,  4.9814e-01,  9.0046e-03,\n",
       "          1.8338e-04,  1.3656e-02,  3.9467e-03, -5.8606e-03, -5.7671e-03,\n",
       "          2.7563e-02, -1.9138e-01,  2.3806e-03, -8.3287e-03, -2.6854e-03,\n",
       "         -5.9523e-02,  1.5629e-03,  2.7391e-03,  1.8902e-02, -1.0099e-02,\n",
       "          5.6516e-04, -3.0506e-04,  3.9219e-03,  8.2891e-03,  2.7219e-03,\n",
       "         -2.3399e-03, -4.6558e-03,  5.7049e-03,  4.3387e-03, -7.4222e-02,\n",
       "         -5.7643e-04,  2.0934e-03, -5.8016e-03, -9.7025e-03, -1.3960e-02,\n",
       "          2.0830e-03,  3.9226e-03, -6.3601e-03, -7.0545e-03, -7.6754e-03,\n",
       "          2.0903e-03, -3.3947e-03, -7.4161e-02,  2.9234e-03, -7.8054e-03,\n",
       "         -8.1848e-03,  2.3737e-02,  3.7124e-03, -1.9190e-02,  1.5228e-02,\n",
       "         -1.7858e-03,  1.1110e-02, -2.5965e-02, -6.2601e-03, -1.2205e-02,\n",
       "         -9.1651e-02, -7.4793e-03, -3.2556e-03, -2.9797e-03, -9.4134e-03,\n",
       "          1.5391e-02, -7.8307e-03,  5.2007e-03, -4.1060e-03,  8.4429e-03,\n",
       "          5.3965e-04,  2.3939e-02, -8.9342e-03, -6.0918e-03, -1.9259e-03,\n",
       "         -3.4371e-03,  9.0832e-03, -1.0258e-02,  1.1020e-02, -3.6209e-03,\n",
       "         -1.4684e-02, -1.6702e-02, -1.2236e-02,  2.1604e-02,  3.6242e-02,\n",
       "          1.0243e-03, -2.0952e-02,  4.6108e-03,  8.1192e-03,  4.1970e-03,\n",
       "         -1.6157e-02, -3.8723e-03,  4.6169e-03,  1.6568e-03, -3.9746e-02,\n",
       "         -3.1409e-03, -1.0210e-03,  1.0669e-02,  7.1044e-03, -1.2162e-04,\n",
       "          1.8824e-02, -3.0217e-03, -1.2116e-03, -1.0415e-03,  4.1805e-03,\n",
       "          5.6550e-03, -1.7243e-02,  5.1581e-04, -1.2014e-02,  6.8295e-04,\n",
       "         -4.3407e-03, -1.3924e-02, -1.3626e-03, -1.3897e-01,  9.1832e-02,\n",
       "          2.0484e-04,  3.2579e-03,  3.9606e-03, -2.5285e-03, -4.5762e-03,\n",
       "         -4.0862e-03, -9.7345e-03, -4.1839e-03,  2.4555e-03, -3.2812e-03,\n",
       "          3.8712e-04,  4.8035e-03, -3.8515e-03,  3.9411e-03, -5.6078e-03,\n",
       "         -2.7588e-02,  1.5705e-03, -5.3240e-02, -3.9742e-03, -2.3245e-03,\n",
       "         -1.3058e-03, -2.5265e-03, -8.6399e-03, -1.0998e-04, -7.4861e-03,\n",
       "          7.7276e-03,  1.3660e-01,  1.1766e-02, -9.3447e-03,  7.1993e-03,\n",
       "          2.2849e-02, -2.1478e-03, -4.9482e-03,  8.5133e-03, -8.7760e-04,\n",
       "          2.4229e-02, -1.6121e-03, -8.8579e-03,  1.5515e-01, -5.2971e-03,\n",
       "          2.2001e-02, -8.3118e-03,  1.7055e-02, -4.6628e-03,  8.0445e-03,\n",
       "          1.7848e-02,  1.7711e-03, -7.5497e-03, -1.5181e-02, -4.4363e-03,\n",
       "          1.6333e-02, -1.4893e-02,  4.4983e-03,  1.3026e-03,  5.8357e-03,\n",
       "         -1.2937e-03, -5.6242e-03,  2.1306e-02, -7.2786e-03, -1.1007e-02,\n",
       "          4.9035e-04, -4.5081e-03,  8.1674e-03,  3.2780e-02, -3.5512e-03,\n",
       "          6.1439e-03, -1.2397e-02, -3.5213e-03,  1.9271e-03, -1.2544e-03,\n",
       "         -1.1754e-02, -3.9231e-04,  1.6922e-02, -2.9755e-03, -5.0764e-03,\n",
       "          7.6004e-03, -2.0679e-03], device='cuda:1'),\n",
       " tensor([ 1.7150e-02,  8.7020e-03, -1.9353e-02, -5.1598e-03, -7.7919e-03,\n",
       "         -1.1833e-02,  9.2900e-04, -1.7064e-03, -3.9375e-03,  3.3596e-03,\n",
       "          9.7393e-05, -7.5771e-03,  2.1058e-02, -1.5815e-02, -2.9415e-02,\n",
       "          1.4287e-03, -7.5102e-03,  9.8988e-03, -2.0845e-03, -1.8157e-02,\n",
       "         -1.3847e-02,  8.3390e-04,  9.3353e-03, -3.7760e-02, -1.8497e-03,\n",
       "          1.2977e-03,  4.1452e-04, -3.2525e-03,  2.8787e-03,  1.1092e-03,\n",
       "         -3.0682e-02,  5.2645e-03,  1.3350e-02,  4.1723e-03, -2.3161e-02,\n",
       "          1.3205e-02,  5.2036e-02, -4.6067e-04, -1.5304e-02, -1.0240e-02,\n",
       "          1.4305e-02, -6.4693e-03, -8.0911e-03,  7.0414e-03,  4.2570e-02,\n",
       "         -3.6472e-03, -8.7399e-03,  4.8519e-03, -9.3435e-04, -1.1830e-02,\n",
       "         -2.6851e-02,  6.7904e-02,  1.6034e-01,  3.5360e-03, -9.1362e-03,\n",
       "          1.5721e-02,  4.6176e-02, -2.3119e-02,  6.2862e-04, -5.8259e-04,\n",
       "         -3.9279e-03,  5.8501e-03,  8.2109e-03, -1.6282e-02, -1.5370e-03,\n",
       "          8.7229e-03,  8.3591e-03, -1.1468e-01,  9.9750e-04, -6.1110e-03,\n",
       "          6.0730e-03,  1.0564e-02, -3.1765e-03,  5.5417e-03, -3.1506e-03,\n",
       "          4.6223e-02,  1.1322e-02,  2.7356e-03,  2.7255e-03, -4.6256e-04,\n",
       "         -1.5697e-03, -2.5417e-02, -4.3366e-03, -5.7546e-03,  5.4440e-05,\n",
       "          1.2912e-03,  6.9339e-03, -3.6786e-02, -6.3856e-02, -4.4831e-03,\n",
       "          8.1047e-03,  1.3124e-03,  2.3354e-05,  7.7158e-04, -2.1786e-03,\n",
       "          6.3202e-03,  2.8885e-03,  4.7225e-02, -4.4207e-03,  6.5073e-03,\n",
       "          1.2309e-02, -1.0104e-02, -4.6072e-03,  3.9941e-04, -9.3994e-03,\n",
       "          6.3103e-04, -3.9264e-03,  7.1637e-03,  5.7786e-03, -2.8714e-03,\n",
       "         -2.3693e-02,  1.3362e-02, -2.6762e-02,  3.2028e-03, -1.0829e-02,\n",
       "          1.0457e-02, -1.1067e-03, -9.9057e-03,  1.5978e-02, -8.0100e-02,\n",
       "         -2.4139e-03, -1.4883e-01,  8.0965e-03, -2.5562e-03,  5.1089e-03,\n",
       "         -1.1228e-02,  2.4774e-03, -8.1438e-03,  9.3211e-03, -1.1665e-03,\n",
       "         -4.6164e-04, -1.3607e-03,  3.3622e-03,  9.1278e-03,  2.5260e-02,\n",
       "          8.9521e-03,  3.2352e-03,  3.7203e-03,  6.0885e-03, -2.2393e-02,\n",
       "          1.1208e-02, -5.1092e-04,  1.8714e-02, -1.3776e-03, -1.0566e-02,\n",
       "         -8.6607e-03,  4.0542e-03, -4.2606e-03,  2.1218e-02, -6.7040e-03,\n",
       "         -6.8141e-04, -1.7221e-02, -1.3198e-03,  6.3484e-03, -2.4991e-02,\n",
       "         -5.7712e-03, -1.5581e-02, -3.5878e-03, -1.5716e-02, -1.4818e-01,\n",
       "         -1.0274e-02,  4.8690e-03,  9.8603e-02,  6.1994e-03,  1.6146e-03,\n",
       "         -8.8111e-03, -8.4681e-03,  3.9550e-03, -1.0665e-03,  5.8291e-04,\n",
       "          6.9650e-03,  6.5606e-03, -9.0701e-03,  9.3352e-03, -1.5696e-03,\n",
       "         -3.5149e-03, -2.5918e-01, -9.7880e-03,  1.9380e-03, -2.0313e-02,\n",
       "          2.7531e-01, -8.7168e-04, -3.1261e-04,  2.7113e-03,  1.1841e-02,\n",
       "         -1.1821e-02,  3.8209e-03,  5.5539e-03, -1.8424e-03, -9.2855e-03,\n",
       "         -4.3072e-03, -3.3602e-03,  1.5726e-04,  1.0180e-02,  1.0271e-02,\n",
       "          7.6629e-04, -1.2048e-02,  1.4648e-02,  1.2612e-01, -7.5934e-03,\n",
       "         -5.3744e-03,  7.3947e-03,  7.4157e-04,  1.9918e-02, -2.0903e-01,\n",
       "         -8.4335e-02,  1.2722e-02,  1.0244e-01,  2.8411e-03, -8.9905e-03,\n",
       "         -8.2326e-03,  5.6558e-03,  1.1247e-01,  2.0388e-01,  8.3305e-04,\n",
       "          1.5000e-02, -5.2045e-03,  5.8087e-03,  1.1640e-03,  3.5526e-03,\n",
       "         -1.2223e-02, -6.3576e-03,  7.6382e-02,  1.9953e-02, -8.5895e-03,\n",
       "          1.1431e-02, -6.8068e-02, -3.9601e-04,  1.1036e-02, -1.1944e-02,\n",
       "          7.4754e-03, -9.2283e-03, -5.3963e-03, -1.4986e-02,  4.6343e-03,\n",
       "          1.8328e-02,  1.2653e-02, -1.6943e-01,  9.6392e-03, -9.6628e-03,\n",
       "         -1.0979e-02, -6.8630e-03, -1.3135e-02, -8.9349e-04, -5.2641e-03,\n",
       "          2.1249e-02, -4.2891e-03,  5.2274e-03,  4.4934e-05, -2.2983e-03,\n",
       "         -6.7852e-03, -2.4231e-02, -8.9103e-02, -2.7226e-03, -2.2554e-03,\n",
       "         -6.6591e-02,  2.2748e-03,  2.4431e-02, -5.1571e-03,  1.1040e-03,\n",
       "         -1.0429e-02, -2.2414e-04, -2.5549e-04, -6.1787e-03,  1.0469e-02,\n",
       "          4.0826e-03, -8.0449e-03,  7.3527e-03, -4.5771e-03, -5.8991e-03,\n",
       "         -3.8460e-02,  2.8233e-02, -5.0477e-03, -9.2132e-03, -2.0741e-04,\n",
       "         -5.6129e-03, -8.8072e-04, -4.3250e-02, -9.9900e-03, -8.1711e-03,\n",
       "         -6.4430e-02,  5.0300e-02,  1.6909e-02,  3.6331e-03,  4.5711e-03,\n",
       "          1.3507e-02,  1.8076e-02, -4.0170e-04, -7.8590e-03, -1.0498e-02,\n",
       "         -2.9490e-03,  5.4012e-03, -1.4529e-03,  8.5254e-03,  8.9082e-03,\n",
       "         -2.7476e-03,  7.3414e-04,  3.4372e-03,  8.2963e-03, -1.0427e-02,\n",
       "          7.7944e-02, -5.5155e-03,  9.3642e-03, -1.5213e-02,  5.5861e-03,\n",
       "          1.2104e-02, -6.1401e-03,  3.4665e-03, -1.4600e-02,  1.0459e-02,\n",
       "         -3.5866e-03, -8.2197e-04,  1.2175e-02,  5.9528e-02,  3.9910e-03,\n",
       "          2.3990e-03,  2.0359e-03,  4.2118e-03, -1.1127e-02, -1.4127e-04,\n",
       "          2.9012e-03,  4.6430e-03, -3.0164e-03,  5.1519e-03,  6.5164e-03,\n",
       "         -1.7084e-03, -1.1311e-02, -1.4739e-04,  4.5554e-01,  2.4589e-03,\n",
       "          1.1854e-02,  1.9851e-02,  9.2236e-04, -1.3314e-03,  6.0105e-03,\n",
       "          5.5385e-03, -1.8751e-01,  9.0131e-05, -6.9371e-03, -6.2603e-02,\n",
       "          6.5700e-02, -4.1120e-03,  1.9979e-03, -3.0119e-03, -5.3382e-04,\n",
       "          2.3719e-03, -2.5090e-03,  1.6050e-02, -5.0696e-03,  2.4320e-03,\n",
       "          4.4606e-03, -8.7676e-03,  5.6584e-03,  6.7212e-03, -5.2676e-02,\n",
       "          6.5937e-03,  3.8042e-03, -5.5031e-03, -6.1055e-03, -9.2644e-03,\n",
       "          1.6412e-02, -2.7294e-02, -1.0562e-02,  4.2285e-03, -8.1956e-02,\n",
       "          5.5994e-04, -1.0218e-02, -1.2305e-02, -4.1055e-02,  1.1221e-02,\n",
       "          5.2519e-03,  1.2852e-02,  8.1394e-03, -2.0526e-02,  1.9193e-02,\n",
       "         -2.5592e-03,  1.3583e-02, -7.1787e-02, -3.5291e-03, -3.3519e-03,\n",
       "          4.8044e-02, -1.2976e-02,  1.4160e-02, -6.0505e-03, -2.7958e-03,\n",
       "          3.5650e-02, -7.6772e-04, -7.2884e-03, -1.4635e-02,  4.3687e-03,\n",
       "          8.9248e-03,  1.2694e-02, -6.5919e-03, -3.1528e-03, -8.0422e-04,\n",
       "         -2.5170e-03, -4.1151e-03, -7.0336e-04,  7.1738e-03, -1.5406e-02,\n",
       "          1.5481e-03, -7.0091e-03, -7.9531e-03, -1.2849e-03,  5.3471e-03,\n",
       "         -1.4586e-02, -7.2765e-03,  3.4648e-03,  3.8408e-04,  7.4366e-02,\n",
       "          5.5460e-02, -2.9912e-02,  7.8349e-03, -7.7006e-04, -2.2116e-02,\n",
       "         -1.6886e-02,  7.1548e-03, -7.5940e-03,  1.2847e-02, -8.3791e-03,\n",
       "          3.8714e-02, -7.6278e-03, -3.4101e-03, -4.1077e-03, -5.8040e-03,\n",
       "          5.4380e-03, -2.1368e-03,  6.9886e-04, -1.9932e-05,  4.0695e-04,\n",
       "         -4.7919e-03,  5.3002e-04,  6.0081e-03, -3.0535e-01,  1.3732e-01,\n",
       "          4.4467e-03,  8.9307e-03, -5.9710e-03, -3.5191e-03, -2.4144e-02,\n",
       "          8.0506e-03, -9.9956e-03,  1.1485e-04, -2.8583e-03,  2.5625e-03,\n",
       "          6.1751e-04,  4.8533e-03, -1.9770e-03,  8.3460e-03,  5.8529e-04,\n",
       "         -5.0656e-02, -4.5281e-03, -8.7340e-02, -8.4561e-03, -2.4511e-03,\n",
       "         -1.5688e-03,  7.9599e-03, -1.4962e-02,  7.2440e-03, -1.1017e-02,\n",
       "         -4.5785e-04,  1.1366e-01,  1.1389e-02, -2.3499e-02, -1.2993e-03,\n",
       "          5.6131e-02,  2.1156e-03, -3.3999e-03,  1.8850e-03,  9.4114e-03,\n",
       "          1.9185e-02,  9.0851e-03, -2.3873e-02,  2.5970e-01, -9.9404e-05,\n",
       "          2.7745e-02, -8.2894e-03,  9.8745e-03,  1.1736e-02,  9.8382e-03,\n",
       "          1.5668e-02, -5.5921e-03, -2.4556e-02, -3.1873e-03,  1.0550e-02,\n",
       "          7.5984e-03, -5.6160e-03,  9.4877e-03, -1.5395e-03, -2.5870e-03,\n",
       "          2.6514e-03, -3.5201e-03,  1.2508e-02, -2.5022e-02, -6.2879e-03,\n",
       "         -1.4399e-02,  2.7217e-03, -1.3275e-03, -2.9362e-02, -1.5368e-02,\n",
       "         -3.7811e-03, -5.8068e-03,  2.4265e-03, -7.6374e-03,  8.2683e-03,\n",
       "         -1.0373e-02, -5.9077e-03,  2.5739e-02, -1.2207e-02, -4.8722e-03,\n",
       "          9.2742e-03,  4.0106e-03], device='cuda:1'),\n",
       " tensor([ 1.2347e-02,  9.6175e-04,  4.5822e-03,  3.1071e-03, -1.7887e-03,\n",
       "          3.3660e-03, -3.3733e-03,  7.2035e-03, -4.5120e-03,  3.0753e-03,\n",
       "          7.1955e-03, -5.0585e-04,  1.3794e-02, -9.4664e-03, -1.7229e-02,\n",
       "         -2.3045e-03, -3.0567e-03, -8.6151e-04,  1.5511e-03, -7.6993e-03,\n",
       "         -4.2440e-03, -6.3741e-03,  1.2114e-02, -2.1421e-02,  3.2110e-03,\n",
       "         -2.2050e-03, -1.0353e-03, -6.0542e-03, -4.1061e-03,  1.3119e-02,\n",
       "         -1.9381e-02, -7.9322e-04, -3.4929e-02, -2.6749e-03, -1.2802e-02,\n",
       "          1.0469e-03,  6.8278e-02,  6.6388e-03,  2.3243e-03, -9.1783e-03,\n",
       "          7.5773e-03,  6.4155e-03, -4.9759e-03, -3.5687e-03,  1.8815e-02,\n",
       "         -8.1964e-03, -9.7715e-03,  2.9816e-02,  5.2250e-03, -7.5014e-03,\n",
       "         -1.9797e-02,  7.0792e-02,  1.3241e-01,  1.6270e-03,  1.2321e-03,\n",
       "          6.0991e-03, -1.3007e-02, -3.4542e-02, -1.3999e-03,  1.0272e-02,\n",
       "          6.7515e-03, -1.0730e-02, -9.7598e-03, -9.1623e-03,  1.5851e-03,\n",
       "         -4.1658e-03,  3.1619e-02, -2.1068e-02, -2.4584e-02, -1.5741e-02,\n",
       "          6.0595e-03,  8.5263e-03, -7.8365e-03,  6.7564e-04, -2.4489e-03,\n",
       "          1.9413e-02,  1.1447e-02, -4.0932e-03,  1.1624e-02, -2.1850e-03,\n",
       "          4.7271e-03, -1.2760e-03,  5.1853e-04,  3.3488e-02,  5.6110e-03,\n",
       "          2.8595e-04,  8.7994e-03, -5.1827e-02, -3.6866e-02,  1.7879e-02,\n",
       "         -3.4075e-02, -5.2611e-04,  2.3062e-03, -4.7518e-03,  2.0930e-02,\n",
       "          1.0312e-02, -1.9294e-03,  3.5869e-02,  3.7827e-03,  8.2025e-04,\n",
       "          6.1710e-03, -6.2167e-03, -1.1114e-02, -2.0401e-02, -5.1045e-03,\n",
       "         -6.7120e-03,  3.2621e-03, -1.3037e-03,  8.9039e-03, -9.5560e-03,\n",
       "         -6.3447e-03,  1.1976e-02,  3.8232e-02, -6.2795e-03, -5.1779e-03,\n",
       "          3.3796e-03, -7.3278e-03, -7.3439e-03,  1.4436e-02, -6.7126e-02,\n",
       "          1.3736e-03, -1.8383e-01, -7.2689e-03, -1.3665e-03,  4.3732e-04,\n",
       "         -2.1469e-03, -8.2674e-03, -3.8302e-03,  2.7534e-03,  2.9901e-04,\n",
       "          3.9465e-03,  1.7065e-04,  5.3172e-03,  6.8085e-03,  8.5628e-03,\n",
       "         -3.8659e-03,  4.6465e-03, -5.2074e-03, -1.2276e-02,  2.2127e-03,\n",
       "         -5.9482e-03,  3.1011e-03, -1.3561e-02,  4.3450e-03, -1.9519e-03,\n",
       "         -9.2367e-03,  7.0355e-04, -3.0387e-03, -3.8655e-03,  2.6746e-03,\n",
       "         -1.8576e-02, -7.6009e-03,  1.0139e-02,  4.4019e-04, -6.5390e-02,\n",
       "         -7.8128e-03, -8.9485e-04, -1.0506e-02, -8.0016e-03, -1.2167e-01,\n",
       "          1.3992e-03, -3.0657e-03,  1.0207e-01,  7.6245e-03, -5.9016e-03,\n",
       "         -5.3018e-03,  5.3320e-03,  4.8369e-03,  4.7776e-03, -7.4626e-04,\n",
       "          3.5623e-02,  9.1712e-03,  2.7051e-02,  2.1362e-02,  1.4265e-02,\n",
       "         -1.4473e-03, -2.4391e-01, -1.1294e-02,  1.5735e-02, -5.5395e-03,\n",
       "          5.6128e-01,  1.0947e-02,  8.5197e-03, -1.4814e-04, -9.8441e-04,\n",
       "         -1.3411e-02,  1.7311e-02, -4.9384e-03, -7.7857e-03, -1.4155e-03,\n",
       "         -4.3012e-03,  2.2565e-02,  1.7639e-03,  9.0129e-03,  1.8136e-02,\n",
       "         -1.0183e-02,  1.1511e-02,  1.0156e-02,  6.9576e-02, -5.3436e-03,\n",
       "         -3.7613e-04,  2.3841e-03,  1.0448e-02,  1.8356e-02, -1.3335e-01,\n",
       "         -3.2112e-02,  1.1590e-02,  3.7584e-02,  4.4401e-03, -2.5788e-03,\n",
       "         -1.9684e-02,  9.5568e-03,  5.0660e-02,  1.4479e-01,  2.2910e-05,\n",
       "          1.2292e-02, -6.2706e-03,  2.0712e-03,  6.5686e-03,  1.9409e-02,\n",
       "         -1.1047e-02,  1.2311e-03,  3.3996e-02, -6.7006e-03, -6.3321e-04,\n",
       "          1.9130e-02,  1.3620e-02, -2.0240e-03,  1.1868e-03, -5.8580e-03,\n",
       "          5.7505e-03, -6.1010e-04, -6.0295e-03, -9.2038e-03,  1.9804e-03,\n",
       "         -8.2478e-03,  6.2910e-03, -4.9555e-02, -8.1128e-04,  7.2795e-03,\n",
       "         -3.3178e-03, -4.9469e-03, -4.2315e-02,  8.2001e-03, -2.6701e-03,\n",
       "          1.2548e-02, -1.3395e-02, -4.7794e-04, -4.7497e-03,  4.5260e-03,\n",
       "         -2.3614e-03,  7.6268e-03, -3.4202e-02,  6.5319e-03, -1.7831e-03,\n",
       "          6.2463e-02, -2.8703e-03,  4.9828e-03, -8.2294e-03,  6.5528e-03,\n",
       "         -7.8313e-03,  7.6282e-03, -2.1066e-04, -1.6924e-03,  1.2151e-04,\n",
       "          2.1875e-03,  5.1963e-04,  7.4577e-03, -3.2733e-03, -3.2698e-03,\n",
       "          8.1020e-03, -5.0959e-02, -3.4256e-03,  8.1449e-03, -3.8958e-03,\n",
       "         -4.4507e-03,  4.2956e-03, -1.0262e-02, -7.4699e-03, -3.6001e-03,\n",
       "         -2.5555e-02,  5.7452e-02,  7.4016e-03, -1.8740e-03, -1.2708e-02,\n",
       "          3.2341e-03,  3.6547e-03,  5.6016e-03,  1.2617e-02, -8.0877e-03,\n",
       "          6.3906e-03, -9.6730e-03, -1.4112e-02, -6.0646e-03,  1.0673e-02,\n",
       "          4.1185e-03, -3.4742e-03,  4.2184e-03,  3.2959e-03, -7.7320e-03,\n",
       "          4.9587e-04,  2.2429e-04,  8.3647e-04, -1.0696e-02, -1.2531e-03,\n",
       "         -4.3157e-03,  8.3192e-03,  2.3776e-03, -4.2922e-03,  1.0497e-02,\n",
       "         -8.0471e-03,  1.0710e-02,  8.4871e-03,  7.3386e-03, -9.5566e-04,\n",
       "          4.4502e-03,  2.0116e-03, -1.5097e-02, -8.5784e-03,  1.4003e-02,\n",
       "          4.1755e-03,  5.3243e-03, -2.9351e-03, -1.3656e-03,  1.8254e-03,\n",
       "         -1.4120e-03, -3.0983e-03,  5.3206e-04,  3.9991e-01, -3.5148e-03,\n",
       "         -1.1611e-02,  2.2377e-02,  1.9077e-03, -5.7270e-04,  1.6935e-03,\n",
       "          2.5288e-02, -3.9985e-01,  6.6644e-03,  1.3560e-02,  5.9789e-03,\n",
       "         -1.6617e-01, -1.3203e-04,  5.4353e-03,  6.5870e-03, -6.7843e-04,\n",
       "          1.0994e-02, -7.9178e-03,  3.0999e-03, -8.8279e-03, -1.8630e-03,\n",
       "          1.1029e-02, -7.8840e-03,  2.4786e-03,  8.8043e-04, -4.8081e-02,\n",
       "          3.2567e-03,  9.3132e-03,  1.3156e-03, -9.0503e-03,  8.6854e-04,\n",
       "          4.0314e-03, -2.3808e-02, -6.8436e-03,  5.2777e-03,  9.2241e-02,\n",
       "          2.3557e-03, -1.0345e-02,  5.0557e-02, -2.5036e-02, -2.5125e-03,\n",
       "          5.4300e-03, -6.7016e-03,  4.0513e-03, -9.6387e-03, -3.5885e-03,\n",
       "          2.2984e-03, -3.5433e-03, -5.6394e-02, -6.9448e-04, -6.6467e-03,\n",
       "         -8.1911e-03, -9.4683e-03,  1.1816e-02, -1.0951e-02,  3.2392e-04,\n",
       "          1.0085e-02, -6.4386e-03, -1.1893e-02, -3.6512e-04,  9.9697e-03,\n",
       "          3.9584e-03, -1.8718e-02, -6.1410e-03,  8.2465e-05, -3.4035e-03,\n",
       "         -4.6066e-03,  7.7999e-03,  2.1271e-02,  1.6254e-02, -5.0876e-03,\n",
       "          2.3750e-02, -7.3901e-04,  2.0706e-03, -8.3072e-03,  2.4907e-02,\n",
       "         -2.8870e-02,  1.2284e-02,  3.3029e-03, -9.1695e-03,  3.4296e-02,\n",
       "         -8.3310e-02, -1.4147e-02,  8.6029e-04, -2.1151e-07, -2.7975e-02,\n",
       "         -1.2043e-02,  9.4049e-03,  4.2026e-02,  6.0572e-03, -1.7858e-02,\n",
       "          1.5731e-03, -3.7765e-03, -2.1966e-04, -6.1065e-03,  6.3279e-04,\n",
       "         -3.2939e-03, -3.4376e-03, -7.1137e-04,  5.1469e-03, -1.2865e-03,\n",
       "         -5.8823e-04,  1.8715e-02,  8.2991e-03,  2.4278e-02,  8.1362e-02,\n",
       "         -6.4581e-03,  8.6869e-03, -1.4305e-02,  2.1541e-03, -2.1942e-04,\n",
       "          5.5489e-03, -8.0042e-03,  3.1543e-03,  6.7359e-03,  1.0309e-02,\n",
       "          1.9398e-03,  7.3160e-04,  3.1141e-03,  6.2091e-05,  7.8060e-03,\n",
       "         -8.3586e-03,  7.9953e-04, -1.4746e-01,  6.3526e-04, -4.2454e-03,\n",
       "          8.5225e-03, -2.7830e-03, -1.2740e-02,  2.2125e-03,  5.3640e-03,\n",
       "          1.9092e-02,  2.9785e-02, -6.2235e-03, -3.2152e-02,  3.3354e-03,\n",
       "          4.8260e-02, -6.1990e-04, -1.9676e-03,  1.9940e-03,  5.3148e-03,\n",
       "          1.3691e-03,  6.5394e-03, -9.5626e-04, -6.4127e-02,  4.2042e-03,\n",
       "          2.2368e-03,  5.5017e-03,  4.9450e-03,  1.4661e-03,  2.1685e-03,\n",
       "         -1.4225e-02, -1.0115e-02,  7.6799e-03,  1.5708e-02, -1.3467e-03,\n",
       "          1.6341e-02, -5.7354e-03,  3.0566e-03, -5.8500e-03, -3.9558e-03,\n",
       "         -9.1915e-03, -4.5213e-03, -5.7349e-03, -5.3409e-02, -2.6102e-03,\n",
       "         -7.6221e-03, -4.3579e-04, -5.9483e-03,  1.5894e-02,  3.0807e-03,\n",
       "          4.2394e-03, -9.9589e-03,  1.2980e-02, -1.1399e-02,  8.1981e-03,\n",
       "         -3.3730e-03, -8.9667e-04,  1.9719e-02, -5.9697e-03, -1.8651e-02,\n",
       "          8.6441e-03,  8.1985e-03], device='cuda:1'),\n",
       " tensor([ 2.3118e-02,  1.6251e-03, -1.5730e-02, -1.3573e-02,  4.2232e-03,\n",
       "         -2.0093e-03,  8.9979e-03, -8.2738e-03,  6.8756e-03,  2.5957e-02,\n",
       "          9.1729e-03,  1.4021e-02,  1.5181e-02, -2.4878e-02, -4.9464e-02,\n",
       "         -7.1261e-03, -1.5745e-02,  5.1586e-03, -1.2209e-02, -1.4119e-02,\n",
       "         -4.9969e-03,  1.2624e-02, -8.1384e-03, -4.6461e-02,  8.6069e-03,\n",
       "          1.4437e-02, -6.5121e-03, -6.7838e-03,  7.0328e-03, -1.2159e-02,\n",
       "         -3.7171e-02, -2.1486e-02, -6.6476e-02, -6.9832e-03,  2.1785e-02,\n",
       "          4.9379e-02,  1.9066e-01,  7.8253e-03, -3.4258e-02, -8.8544e-03,\n",
       "          1.0230e-02,  9.1206e-03,  1.0307e-02,  1.0195e-02,  4.1573e-02,\n",
       "         -3.5603e-03, -1.3721e-03,  1.4251e-02, -1.1395e-02, -1.7712e-02,\n",
       "         -1.4373e-02,  2.9477e-02,  7.0728e-02, -2.5014e-02, -1.8064e-02,\n",
       "          1.0808e-04, -2.3734e-02, -9.9322e-03,  2.9179e-03, -1.2598e-02,\n",
       "          1.0102e-02,  3.1400e-03,  4.0856e-02, -3.0608e-02,  1.8408e-02,\n",
       "          6.7138e-03,  5.5215e-02, -1.4834e-01,  5.9951e-03,  1.5938e-03,\n",
       "          1.7446e-02, -2.6444e-03, -9.1744e-03,  8.4414e-03, -8.7474e-03,\n",
       "          1.0095e-02,  1.2044e-02, -6.9640e-03, -1.0603e-02,  1.1707e-02,\n",
       "         -1.2026e-03, -3.6166e-02, -6.5395e-02,  2.1318e-02, -1.8350e-02,\n",
       "         -1.9078e-02,  7.6670e-03, -1.9320e-02, -6.9905e-02,  8.5406e-03,\n",
       "          6.3677e-02,  5.6855e-03, -9.4386e-04, -4.0534e-03,  2.3427e-02,\n",
       "          9.8895e-03, -5.2895e-03, -6.2797e-02,  2.0750e-03,  2.0590e-03,\n",
       "          1.9653e-04, -1.0928e-02,  1.1279e-02, -2.8419e-03,  2.3701e-03,\n",
       "         -1.9709e-03, -1.2903e-02,  1.8628e-04,  4.6210e-03,  7.8160e-03,\n",
       "         -4.5639e-02,  4.5412e-03,  3.1916e-02,  1.2176e-02, -2.7493e-03,\n",
       "          1.9662e-02,  7.2963e-03, -1.5674e-02, -3.7328e-03,  8.1043e-02,\n",
       "          9.8432e-03, -2.9485e-01, -2.4248e-03, -1.0717e-02,  3.2563e-03,\n",
       "         -5.2964e-03, -1.7722e-02, -1.7819e-03,  3.4852e-03, -1.7746e-03,\n",
       "         -6.4248e-03, -1.9623e-03,  1.4531e-02, -4.7226e-03, -2.9440e-02,\n",
       "          9.4218e-04,  4.5042e-03, -1.2221e-02,  1.6864e-02, -2.0866e-02,\n",
       "         -5.7250e-03, -8.0242e-03,  3.2203e-02,  1.0424e-02,  2.5511e-03,\n",
       "          1.5333e-02,  7.8605e-03, -1.1674e-03, -7.1284e-03,  5.2021e-03,\n",
       "         -4.1826e-03, -7.9649e-03, -4.1417e-03,  1.1420e-02,  3.6668e-02,\n",
       "          6.5733e-03, -3.3622e-02,  1.9139e-03,  4.9665e-03, -1.5878e-01,\n",
       "         -8.1667e-04,  3.4532e-03,  1.0613e-01,  1.6260e-02,  6.3308e-03,\n",
       "         -1.2556e-02, -2.8611e-02,  1.8273e-02, -9.4922e-03,  7.6873e-04,\n",
       "         -3.7190e-02, -1.0880e-03,  1.5237e-02, -5.4914e-02,  7.2309e-03,\n",
       "          5.7613e-04, -1.2668e-01,  3.2299e-02, -2.5147e-02, -3.4366e-02,\n",
       "          1.1219e-01, -2.6522e-02,  2.4141e-04, -5.8699e-03,  1.1307e-02,\n",
       "         -3.8734e-03, -1.5695e-03,  9.1732e-04,  1.3041e-02, -3.5752e-03,\n",
       "          2.3260e-03, -4.7018e-02,  8.4969e-03, -9.8909e-05, -2.3430e-03,\n",
       "          1.1057e-02, -2.0911e-02,  1.9572e-02,  6.1986e-03, -1.4214e-02,\n",
       "          1.7605e-02, -1.1028e-02,  3.7990e-03, -1.7494e-02, -2.1296e-01,\n",
       "          2.2785e-02,  5.1070e-03,  9.6886e-02,  8.0594e-03, -4.1308e-04,\n",
       "          3.2995e-02, -2.7101e-03,  8.9414e-02,  1.6362e-01,  2.2013e-03,\n",
       "          4.6149e-03,  1.9224e-02, -2.4890e-02, -3.9239e-03,  7.5508e-03,\n",
       "          2.8783e-02, -8.6936e-03, -4.8520e-02, -2.4329e-02, -2.1951e-02,\n",
       "         -1.1378e-02, -2.6204e-02,  7.5352e-03, -4.3654e-03, -1.1961e-02,\n",
       "         -3.5722e-03,  1.6049e-02, -1.3975e-03, -1.2491e-02,  4.9485e-03,\n",
       "         -7.1314e-03,  5.7533e-03, -1.7897e-01, -9.6430e-03, -4.5315e-03,\n",
       "         -1.2133e-03, -2.1781e-03, -7.7789e-03, -3.1822e-02, -1.0736e-02,\n",
       "          2.1338e-02,  1.1027e-02, -5.2369e-03,  7.0185e-03, -3.2994e-04,\n",
       "         -7.4720e-03, -2.3384e-02, -3.3648e-03,  3.2259e-03,  3.0527e-03,\n",
       "         -1.2346e-01, -2.3826e-03,  2.8317e-02,  3.2456e-04,  8.7047e-03,\n",
       "         -2.0140e-03, -3.7169e-03, -6.0972e-03, -1.9283e-03,  3.0511e-02,\n",
       "          5.2951e-03, -5.5226e-03,  6.2481e-03,  6.4920e-03,  1.1786e-02,\n",
       "          8.6432e-02,  1.3598e-01, -1.3927e-02, -1.5755e-02,  3.5700e-03,\n",
       "         -1.0185e-02, -8.9625e-03, -1.4446e-02, -1.1251e-02, -1.2933e-03,\n",
       "          1.5404e-02,  1.8368e-02,  1.5511e-02,  5.2950e-03,  6.2867e-03,\n",
       "          5.1829e-03, -1.5455e-02,  1.7685e-03, -2.1110e-02, -1.6809e-02,\n",
       "         -8.0813e-03,  2.2984e-02,  1.3734e-02,  2.1046e-02, -1.0535e-02,\n",
       "         -6.0627e-03,  1.3513e-02,  5.5815e-03,  1.2986e-02, -9.5762e-03,\n",
       "          4.9122e-02, -4.6616e-03,  6.2543e-03,  3.5160e-03, -6.1411e-03,\n",
       "          1.3890e-02, -1.0372e-03,  4.1343e-03,  1.9343e-03,  1.2262e-03,\n",
       "         -1.5341e-02,  7.6010e-03,  9.7080e-03,  9.9538e-02, -6.9618e-03,\n",
       "          9.4605e-03, -1.1375e-02,  1.9519e-02, -5.9940e-04, -3.9501e-02,\n",
       "          3.6229e-03, -3.7823e-04, -1.8640e-02,  1.7012e-02,  2.6375e-02,\n",
       "          1.8502e-02, -1.6425e-03, -6.0637e-03,  2.6511e-01,  2.3673e-03,\n",
       "          2.2467e-02, -1.2688e-02,  1.7255e-03, -1.2654e-03, -4.1524e-03,\n",
       "         -1.5258e-02,  7.2440e-02,  2.9810e-03, -1.8748e-02, -1.2836e-03,\n",
       "          3.4859e-02, -9.3894e-03,  2.9310e-03,  4.1286e-02,  8.7233e-04,\n",
       "          1.2543e-03,  1.4530e-02,  3.1808e-03,  1.6219e-03,  3.9082e-03,\n",
       "          1.1130e-02, -7.8589e-03,  1.4562e-02,  6.9253e-03, -9.1715e-02,\n",
       "          2.7127e-02,  2.2157e-04, -1.1467e-02, -6.1250e-03, -1.2470e-02,\n",
       "          1.4314e-02,  7.1121e-03, -1.5413e-02, -1.1386e-02, -7.0103e-02,\n",
       "         -7.6287e-03,  1.2965e-02, -1.2933e-01, -2.7080e-02,  1.1095e-01,\n",
       "         -6.4321e-03,  1.4462e-02,  1.7706e-02, -2.1498e-02,  1.8662e-02,\n",
       "         -8.5680e-03,  2.2596e-02, -5.6132e-02, -2.7235e-03, -1.2786e-02,\n",
       "          7.3905e-02, -8.4873e-03, -1.5487e-02, -9.1404e-03,  6.1885e-03,\n",
       "          4.9902e-02,  7.5818e-03,  2.2499e-03, -2.0752e-02,  1.2451e-02,\n",
       "         -1.6174e-02,  1.5349e-02, -1.9476e-02, -1.2531e-02,  1.5908e-02,\n",
       "         -4.8889e-03,  2.2717e-02, -7.5516e-03, -1.9648e-03, -3.8760e-02,\n",
       "         -2.7753e-02,  1.1208e-02, -1.1536e-02,  6.9131e-03, -2.5245e-02,\n",
       "          2.8694e-02, -3.0209e-02, -1.3523e-02,  2.2539e-02, -1.7805e-02,\n",
       "          1.2805e-01, -3.9258e-02,  1.1641e-03, -7.5423e-03,  1.7130e-02,\n",
       "         -1.4095e-02,  4.5017e-03, -3.5156e-02,  1.5862e-02,  1.6627e-02,\n",
       "          5.4526e-02, -5.5467e-03, -8.0680e-03,  6.9780e-03, -1.5638e-02,\n",
       "          1.9751e-02, -1.1607e-02,  6.4893e-03,  9.3130e-03, -1.2716e-02,\n",
       "          2.0676e-03, -2.7718e-02,  2.0529e-02, -1.9944e-01,  8.0295e-02,\n",
       "          1.6106e-02, -1.6119e-03,  2.5740e-02, -5.7565e-03, -2.4789e-02,\n",
       "         -6.4382e-03, -1.5024e-02,  5.9370e-03, -1.6581e-02, -2.5669e-03,\n",
       "          6.9187e-03, -8.2886e-03, -1.0754e-02,  1.1432e-02, -2.2557e-03,\n",
       "         -6.5140e-03,  5.3935e-03, -2.1066e-01, -7.9317e-03, -1.3419e-03,\n",
       "         -1.1544e-02,  2.2396e-02, -1.7216e-02,  2.3958e-03, -1.9810e-02,\n",
       "         -1.6846e-02,  2.4416e-02,  1.3660e-02,  4.1860e-02, -2.0375e-02,\n",
       "          9.5495e-02,  1.0505e-02, -2.1469e-03,  2.1515e-03, -1.4722e-02,\n",
       "          5.1897e-02, -1.1397e-02, -8.6650e-03,  4.5063e-01, -1.9638e-03,\n",
       "          1.4072e-02, -1.6229e-02,  1.4189e-02, -9.2089e-03, -1.7249e-02,\n",
       "          1.2718e-02, -8.1991e-03, -6.6762e-02, -2.7076e-02, -1.3478e-03,\n",
       "          7.6423e-03, -3.2280e-03, -9.0047e-03, -2.4066e-02,  1.4981e-02,\n",
       "          7.3290e-03, -4.0977e-03,  3.6927e-02,  4.8892e-02, -8.2601e-03,\n",
       "         -1.1600e-02,  1.2411e-02, -1.7749e-03, -1.5015e-02, -2.5748e-02,\n",
       "         -7.4902e-03,  1.3355e-02,  1.4524e-03,  3.4602e-05, -6.5749e-03,\n",
       "         -2.9189e-02,  1.5934e-02,  7.9181e-03, -4.8895e-03,  1.0796e-02,\n",
       "          1.5147e-03,  4.0964e-03], device='cuda:1'),\n",
       " tensor([ 6.0540e-03,  1.4535e-02,  2.1254e-03, -1.2390e-02, -1.5773e-03,\n",
       "         -5.1488e-03,  2.4446e-03, -1.2748e-02, -2.9446e-02,  6.1739e-04,\n",
       "         -4.5437e-03,  7.6659e-03,  8.7257e-03,  1.7545e-02, -5.8389e-02,\n",
       "          5.0399e-03, -8.3366e-02, -8.1688e-03,  7.6829e-03,  2.4641e-02,\n",
       "          1.6003e-03,  3.3315e-03,  6.1268e-02, -2.6374e-02, -1.5189e-03,\n",
       "          3.1241e-03, -9.8833e-04,  3.3901e-02,  9.7713e-03,  1.2619e-02,\n",
       "         -2.1655e-02,  1.3774e-02,  2.3339e-01, -1.7242e-02,  7.8438e-03,\n",
       "          1.5322e-02, -1.7232e-01, -1.0183e-03,  1.6497e-02,  1.6332e-02,\n",
       "          9.3168e-03, -1.1321e-03,  4.3172e-03, -2.2724e-03,  1.6147e-02,\n",
       "         -1.5095e-02, -1.5328e-03,  2.2083e-02,  1.6425e-03,  3.4397e-02,\n",
       "          3.0606e-02,  1.9166e-02,  8.4684e-02,  3.7031e-02, -3.9319e-03,\n",
       "          8.6331e-03,  6.1069e-02, -5.7053e-02,  4.3120e-03,  4.1521e-03,\n",
       "         -1.3518e-02,  3.6161e-02,  1.1474e-02, -1.0330e-02, -6.2181e-03,\n",
       "          5.1431e-03,  1.8833e-02, -2.1217e-02,  6.9522e-03,  4.5362e-03,\n",
       "          1.4762e-02, -1.2827e-02, -2.8582e-03,  6.8245e-03, -7.8796e-03,\n",
       "         -1.1473e-03,  4.7956e-03, -5.3301e-03,  1.5068e-02,  1.2648e-04,\n",
       "         -8.4016e-03, -1.6040e-02,  4.6551e-02, -1.7979e-02, -1.4784e-03,\n",
       "         -3.7743e-02,  3.7710e-03,  3.1342e-02, -2.0302e-02,  5.4839e-03,\n",
       "          5.5168e-02,  2.7576e-03, -1.5953e-02, -7.1987e-02, -7.4590e-03,\n",
       "         -3.5143e-02, -2.2794e-02, -3.8816e-02,  1.1228e-03, -1.2319e-02,\n",
       "          4.9902e-03, -9.0860e-03,  6.3780e-03,  2.0934e-02,  2.6242e-02,\n",
       "          5.4967e-03,  2.0705e-02, -1.2423e-02,  9.9722e-03, -9.7504e-03,\n",
       "          3.5989e-02,  1.4480e-02,  1.0014e-01,  7.1695e-03,  3.5844e-03,\n",
       "         -2.9998e-02,  5.6153e-03, -1.7894e-03, -1.9538e-02, -3.9612e-02,\n",
       "          5.3477e-03, -9.0085e-02,  7.6603e-03,  1.0952e-02,  9.1446e-03,\n",
       "          9.3161e-03,  4.4481e-03,  2.2859e-02,  1.0902e-02, -6.4188e-03,\n",
       "          2.2694e-03, -1.1369e-02,  3.5908e-03, -1.1021e-02,  4.8339e-02,\n",
       "         -1.3102e-02,  1.0935e-02, -9.5582e-03, -4.5228e-03,  1.5076e-02,\n",
       "          5.7335e-03, -2.6929e-02, -9.4932e-03,  1.0416e-04, -2.0256e-02,\n",
       "         -1.3740e-02,  4.7458e-03, -1.3217e-02, -7.7351e-02, -1.6464e-02,\n",
       "          7.6212e-03,  2.6991e-02,  1.0052e-02,  1.9229e-02, -2.5094e-02,\n",
       "         -4.1917e-04, -2.3625e-02, -3.5680e-03, -2.1098e-03, -1.1238e-01,\n",
       "         -6.9973e-03, -8.9303e-03, -2.9834e-02, -1.6299e-02, -1.4953e-02,\n",
       "         -1.8366e-03, -3.4059e-02, -3.0093e-03,  6.3064e-03,  1.4409e-02,\n",
       "          3.1789e-02,  1.8011e-02, -4.2935e-02, -6.3468e-02, -1.9677e-02,\n",
       "          6.6456e-04,  4.0403e-01,  2.0309e-02,  2.5754e-02,  5.2731e-03,\n",
       "          2.7549e-02, -1.1901e-02,  1.2882e-02,  5.5769e-03,  1.6868e-02,\n",
       "          2.2977e-02, -1.1123e-02, -5.9823e-03, -3.6308e-03, -7.0038e-03,\n",
       "          1.3983e-02, -3.8464e-03, -2.8003e-02,  2.1882e-03, -4.1161e-03,\n",
       "         -4.0617e-03,  5.1980e-03, -6.3146e-04,  2.2229e-02,  4.0546e-03,\n",
       "          6.6230e-03,  8.7562e-03,  1.7234e-02,  3.7905e-04, -2.4339e-01,\n",
       "          8.4593e-02,  5.3878e-04, -8.8698e-02, -5.0273e-03, -2.5963e-03,\n",
       "          5.6447e-03,  1.7733e-02,  9.8447e-02, -2.9622e-01, -5.2371e-03,\n",
       "         -1.6905e-02, -9.1726e-03,  3.8350e-04,  1.7026e-02,  4.6573e-03,\n",
       "          7.7699e-03,  3.1080e-03, -3.8330e-02,  4.6700e-02,  2.0473e-02,\n",
       "         -2.0910e-02, -1.1759e-02,  1.6104e-03, -1.1949e-02, -1.2276e-02,\n",
       "          7.0316e-03, -1.5524e-02, -9.4589e-03, -1.3850e-02,  7.5972e-03,\n",
       "          1.4458e-02,  7.8385e-04,  4.7140e-02, -2.6234e-03, -6.6570e-03,\n",
       "         -3.3679e-04,  6.4919e-04, -1.7245e-02,  5.5335e-03, -8.3638e-03,\n",
       "          1.1672e-02,  1.0661e-02,  5.6321e-03,  1.9135e-02,  1.1077e-03,\n",
       "         -1.4514e-03, -1.0359e-02,  9.7165e-03, -9.0309e-03,  7.8047e-03,\n",
       "         -6.6630e-03,  4.0047e-04, -2.0066e-02, -7.0353e-03, -1.7786e-03,\n",
       "         -1.9592e-02,  2.9081e-03, -7.2324e-04,  2.0122e-03, -5.7034e-03,\n",
       "         -1.3909e-03,  1.9091e-03,  6.4726e-03,  3.2667e-03,  5.4384e-03,\n",
       "          9.6136e-02,  2.0427e-01, -1.1518e-02, -3.8680e-03,  8.6626e-03,\n",
       "         -1.5996e-02, -1.5007e-03, -3.7190e-02,  1.5723e-02, -3.7596e-03,\n",
       "          8.7369e-05,  2.7836e-02,  9.4938e-04,  1.2205e-02,  4.8980e-03,\n",
       "          1.5938e-02, -2.1851e-02, -1.2753e-02,  1.5577e-02, -2.6948e-03,\n",
       "         -7.7999e-03,  8.6033e-03, -1.1510e-02,  1.4667e-03,  7.3733e-03,\n",
       "          4.1434e-04, -1.8863e-02, -7.0013e-03,  2.8739e-03, -1.9601e-02,\n",
       "         -4.8430e-02,  5.5214e-03, -2.7220e-03, -1.0433e-02,  1.0282e-03,\n",
       "         -1.6597e-02,  5.1226e-03,  8.4683e-03, -1.6140e-03,  7.3713e-03,\n",
       "          4.9576e-03, -2.7324e-02, -5.0181e-03, -2.7142e-02, -7.1638e-03,\n",
       "          8.6282e-04,  9.1515e-04, -4.3091e-04,  1.2975e-02, -2.2978e-04,\n",
       "         -1.0556e-02,  1.0565e-03,  1.5306e-02, -1.3063e-02, -7.4157e-03,\n",
       "         -1.7585e-02,  2.8377e-04, -1.0622e-02,  2.0005e-01, -6.4579e-04,\n",
       "          2.2183e-02, -6.1556e-03, -1.3837e-02, -2.2993e-03, -4.7412e-03,\n",
       "         -2.8269e-02,  8.2236e-02,  4.3445e-04,  1.5777e-02, -6.3873e-02,\n",
       "          1.5073e-01, -2.9186e-03, -3.1175e-03,  3.7402e-02, -1.2485e-03,\n",
       "          6.2850e-03, -1.6428e-02,  2.2255e-02, -6.3135e-03,  1.0666e-02,\n",
       "          1.3247e-02,  1.2552e-02,  3.7764e-02, -8.9358e-05, -2.2621e-01,\n",
       "          4.3379e-03, -4.9554e-03, -1.4753e-03, -2.5770e-02, -3.8730e-03,\n",
       "          9.3445e-03, -2.2005e-02,  5.0964e-03,  1.5977e-02,  2.0357e-01,\n",
       "          6.0635e-03, -6.6814e-03,  7.5435e-02, -4.1289e-02,  4.8923e-02,\n",
       "          4.8762e-03, -6.5427e-04, -2.7504e-03, -1.3321e-02,  1.4356e-03,\n",
       "          1.0019e-02,  3.3573e-03, -1.3255e-02, -4.3535e-03,  1.1894e-02,\n",
       "         -1.4388e-02, -1.1901e-03,  1.6033e-02, -5.6590e-03, -6.5653e-03,\n",
       "          3.7846e-02,  3.6900e-03, -1.3354e-02,  2.3805e-03,  1.4841e-01,\n",
       "          1.1835e-02, -3.1260e-02, -1.4314e-02,  3.5815e-03,  8.6362e-03,\n",
       "          1.0793e-03,  6.3506e-03, -1.0219e-02, -8.3157e-03,  1.0964e-02,\n",
       "          2.1757e-04, -9.1132e-03,  3.3674e-03, -2.9129e-02, -4.7903e-02,\n",
       "         -1.8189e-02,  1.2221e-02,  1.7029e-02, -4.5460e-03, -1.3177e-01,\n",
       "          1.2232e-01, -1.2709e-02,  1.6491e-02, -1.0034e-02,  5.1143e-02,\n",
       "          1.6179e-03,  7.6978e-03,  4.8925e-02, -6.3411e-03,  4.6291e-02,\n",
       "          8.8802e-02, -1.4619e-02, -1.1932e-02, -1.5503e-02, -3.6849e-03,\n",
       "         -2.8060e-02, -3.8696e-03,  9.5899e-03, -6.8685e-03, -1.4112e-02,\n",
       "          1.7598e-03,  2.7994e-02,  8.4074e-03, -1.4287e-01,  6.6251e-02,\n",
       "          3.3111e-03,  1.0322e-02, -3.7117e-02,  1.6469e-03,  1.8103e-02,\n",
       "          3.4636e-03, -9.2800e-03,  4.8844e-03, -2.3463e-02, -5.7555e-03,\n",
       "         -2.1619e-02,  4.7153e-03, -1.0088e-02, -6.8225e-03, -1.6831e-03,\n",
       "          6.0476e-02,  6.5128e-04,  1.3814e-01,  1.1200e-02,  1.1081e-02,\n",
       "          7.5639e-03,  1.3546e-02,  1.7762e-03,  6.1455e-03, -1.2147e-02,\n",
       "          1.4814e-02,  8.0258e-02, -1.7786e-02, -2.7851e-02,  7.4423e-03,\n",
       "          2.4271e-02, -1.8899e-03, -2.4125e-03, -1.0446e-03,  1.5571e-02,\n",
       "         -4.5859e-02,  2.1849e-02,  9.9562e-03,  2.0446e-01,  4.2212e-03,\n",
       "         -5.3878e-03,  3.3692e-02, -2.8007e-02,  3.1428e-02,  1.8692e-02,\n",
       "         -6.0441e-03, -1.0963e-02, -1.7172e-02, -3.8253e-03, -3.1756e-03,\n",
       "         -7.8810e-03, -6.3384e-03, -1.1055e-02,  4.1838e-02,  1.1268e-03,\n",
       "         -2.5393e-04, -7.4696e-03, -3.9886e-03, -1.4289e-02,  4.8684e-03,\n",
       "         -6.9464e-03, -1.8963e-03,  1.5782e-02,  6.0240e-04, -3.6281e-02,\n",
       "          9.5496e-03,  1.4894e-02,  1.0026e-02,  5.6649e-03, -7.2763e-03,\n",
       "         -1.2747e-02, -1.6213e-02,  1.6277e-02, -4.8161e-03, -1.3860e-02,\n",
       "          3.0600e-03,  9.8287e-03], device='cuda:1'),\n",
       " tensor([ 2.2309e-02, -6.6776e-03,  1.2607e-03, -7.6437e-02, -5.0393e-03,\n",
       "         -3.5014e-02, -2.3908e-03, -2.6207e-03, -1.0374e-02,  3.4388e-02,\n",
       "          8.5806e-03, -6.2724e-03,  5.4626e-03,  2.3206e-03, -4.7137e-02,\n",
       "          1.4313e-02, -6.4740e-03, -1.7315e-03,  5.8386e-03, -3.4476e-02,\n",
       "         -1.4638e-02, -6.8746e-03,  2.7458e-02, -1.8890e-02, -6.4079e-03,\n",
       "         -8.6220e-03,  9.9671e-03, -1.2374e-03,  6.4493e-03,  1.0980e-02,\n",
       "          2.3946e-02,  8.6678e-03,  2.1577e-01,  2.2528e-03, -9.2151e-03,\n",
       "         -6.0924e-03,  7.0176e-02,  4.1586e-03, -4.9887e-03, -1.1312e-02,\n",
       "          1.1355e-02, -1.2507e-02, -1.1898e-02,  5.2703e-04,  5.3137e-02,\n",
       "          5.6244e-04, -3.4544e-03, -1.6457e-02,  5.2898e-03,  3.5403e-02,\n",
       "         -1.3282e-02, -2.1430e-03,  8.7743e-02,  7.0584e-03, -7.8063e-03,\n",
       "          8.7812e-03, -2.2450e-02,  1.5501e-03, -6.3466e-03,  3.1506e-03,\n",
       "          2.0505e-03, -2.0174e-02, -7.2765e-03, -4.6942e-02,  1.5968e-02,\n",
       "         -2.4335e-03,  3.9221e-01,  1.8956e-02,  3.5535e-02,  5.5976e-03,\n",
       "          8.2402e-03,  1.0006e-02,  1.3593e-02,  6.5184e-03,  8.8627e-03,\n",
       "          2.3832e-02, -5.0853e-03,  4.9444e-03,  6.3809e-03, -5.6347e-04,\n",
       "          2.7181e-03, -1.5609e-02, -1.4814e-02, -1.3516e-02,  2.8856e-02,\n",
       "          1.4825e-02,  1.0590e-02,  3.9415e-02,  4.0873e-02, -3.5207e-03,\n",
       "         -2.3738e-02,  4.1464e-03, -9.8016e-03, -1.9173e-02,  1.3717e-02,\n",
       "         -2.8864e-03, -1.4175e-02,  9.3748e-02, -1.2092e-02, -4.1116e-04,\n",
       "          4.5563e-03,  9.4763e-03, -1.4870e-02, -3.1075e-03, -5.3027e-02,\n",
       "          1.7429e-02,  2.1040e-03, -8.3001e-03,  9.5781e-03, -9.5660e-04,\n",
       "          6.9241e-02,  2.9081e-03, -4.2043e-02, -3.6972e-04,  1.2371e-03,\n",
       "          1.8052e-02, -1.2856e-02, -2.4402e-02,  2.2798e-02, -8.5503e-04,\n",
       "         -8.7841e-03, -1.3124e-01, -1.4879e-04,  8.3403e-03,  4.3620e-03,\n",
       "          4.1712e-03,  5.5367e-03,  1.3169e-03,  1.4405e-02, -4.6754e-03,\n",
       "          2.7537e-03,  6.8121e-03,  2.0556e-03,  1.0761e-02,  7.7949e-02,\n",
       "         -1.8302e-02, -4.2164e-03,  1.8137e-02,  5.4447e-03, -1.4596e-02,\n",
       "          1.9064e-02,  4.6656e-03,  8.0372e-03, -1.1624e-02, -4.7469e-03,\n",
       "         -1.5772e-03, -5.6173e-03, -1.7529e-02, -5.5594e-02,  5.4666e-03,\n",
       "         -8.2676e-03,  1.1973e-03,  3.3685e-04,  1.8950e-03,  1.4243e-02,\n",
       "          1.2448e-03, -8.6949e-03, -1.0992e-02, -3.9547e-03, -9.4294e-02,\n",
       "         -2.1023e-02, -4.9859e-03,  7.9262e-02, -1.3744e-02, -4.9200e-03,\n",
       "          5.9759e-04, -2.5999e-02, -1.2628e-02,  3.9591e-03, -1.3723e-03,\n",
       "          3.2912e-02,  3.9936e-03, -2.8822e-03, -3.4871e-02, -2.7234e-02,\n",
       "         -1.2380e-03, -2.5007e-01, -2.0963e-02,  1.4225e-02, -4.2724e-02,\n",
       "         -2.1564e-01, -4.0963e-02, -1.2048e-02, -8.4361e-03, -5.4083e-03,\n",
       "         -7.8507e-03,  6.0428e-03,  8.9070e-03,  1.7331e-03, -4.7614e-03,\n",
       "         -2.7584e-02, -2.0907e-02, -6.7058e-03, -5.0572e-03,  1.0489e-02,\n",
       "         -1.9765e-03,  4.6973e-03, -1.4501e-02,  8.0980e-02,  7.3666e-03,\n",
       "         -1.1480e-02, -1.0062e-02,  1.5833e-02, -1.9181e-03, -1.8951e-01,\n",
       "         -4.4762e-02, -1.2158e-03,  4.0677e-02,  9.5972e-03, -2.1285e-03,\n",
       "         -1.9478e-02,  1.8929e-03, -1.2062e-01,  1.6503e-01, -6.0798e-04,\n",
       "         -4.4301e-03, -2.0550e-02,  7.8310e-03,  6.5847e-03,  3.0020e-03,\n",
       "         -1.8391e-02,  6.4162e-03, -2.4274e-03,  4.9981e-02,  1.2802e-02,\n",
       "          3.2549e-02, -1.4530e-01, -1.3680e-02,  5.6253e-03, -8.6769e-03,\n",
       "         -5.9916e-03,  7.9520e-03, -2.9806e-03,  2.0465e-03, -1.6664e-03,\n",
       "         -1.2668e-02,  6.8329e-03, -1.0664e-01,  7.7428e-03,  4.4959e-03,\n",
       "         -1.8532e-02, -9.3616e-03,  6.0233e-03,  1.1556e-02,  3.1556e-03,\n",
       "         -3.0550e-03, -6.2997e-03, -2.6601e-03,  1.4243e-02, -2.2552e-03,\n",
       "         -1.5926e-03, -4.4468e-02, -2.3195e-02,  4.6500e-03, -6.5787e-03,\n",
       "         -1.0535e-01,  1.1937e-02, -3.0906e-03, -4.6419e-04, -5.2130e-03,\n",
       "         -7.2779e-03,  5.9975e-03, -8.5622e-03,  2.8475e-03, -1.0601e-02,\n",
       "         -5.6280e-03,  3.1708e-03,  3.8252e-03,  2.6282e-03, -8.4958e-03,\n",
       "         -5.2763e-02,  1.9480e-02,  4.9956e-03, -4.6548e-03,  6.6481e-03,\n",
       "         -6.9775e-04,  7.2499e-03, -1.3831e-02, -4.0791e-03, -1.9245e-03,\n",
       "         -6.1157e-02,  6.8720e-02,  4.8256e-03, -2.1803e-03,  1.8940e-02,\n",
       "          6.4713e-03, -5.9836e-02, -1.6269e-03,  2.9006e-03, -4.9500e-03,\n",
       "          2.5716e-03, -5.5409e-03,  1.0828e-02, -5.8632e-03,  2.3265e-02,\n",
       "          1.8939e-03, -1.3664e-02, -2.9228e-03,  3.5643e-04,  2.2225e-03,\n",
       "          1.3259e-01,  3.4385e-03,  8.7853e-04, -8.0207e-03,  1.4792e-02,\n",
       "          2.4402e-03, -2.3991e-02, -2.4495e-03,  2.2232e-03,  6.8189e-03,\n",
       "          7.1035e-03, -1.5740e-02,  4.9819e-03, -2.1828e-02,  2.2601e-03,\n",
       "         -2.8719e-03,  1.3490e-02,  2.8906e-03,  4.6161e-03,  5.3048e-03,\n",
       "          4.7798e-03, -6.0466e-03,  2.1916e-03,  1.6234e-03, -1.1275e-02,\n",
       "          8.2726e-03, -6.0712e-03,  6.6771e-03,  2.6580e-01,  1.1582e-03,\n",
       "         -1.7967e-03,  2.0828e-02, -1.9589e-03, -4.7095e-04,  9.0094e-03,\n",
       "          2.9781e-02, -3.3247e-01, -6.8108e-03, -4.3752e-03, -1.6903e-02,\n",
       "          2.4218e-02,  1.2538e-02,  9.4463e-03,  1.7264e-02,  3.9424e-03,\n",
       "          1.0468e-02,  1.2433e-03,  4.8715e-03,  1.2201e-02,  7.6508e-04,\n",
       "         -1.5572e-02,  4.1734e-04,  6.2824e-03,  7.9680e-03,  5.6719e-02,\n",
       "         -4.4999e-03, -8.3342e-03,  5.1923e-03, -1.4732e-02,  4.6920e-04,\n",
       "          1.2564e-03, -2.1428e-02, -2.3437e-04,  2.0871e-02,  1.1409e-01,\n",
       "          1.3049e-03,  4.9121e-03, -8.7995e-02,  5.1141e-03, -1.2799e-01,\n",
       "         -7.5343e-03,  2.5089e-02,  6.6752e-03,  1.8982e-02,  2.1599e-02,\n",
       "          1.0400e-02, -4.6986e-04, -2.4000e-02,  4.4436e-04,  1.9411e-02,\n",
       "         -3.6885e-02, -1.5236e-03,  2.1763e-02, -6.6752e-03, -2.7903e-03,\n",
       "          8.7797e-03, -2.3181e-02, -1.8243e-02,  6.3730e-03, -1.2794e-01,\n",
       "          2.7894e-02, -1.8470e-02,  3.3074e-04, -2.3651e-03, -1.2077e-02,\n",
       "          4.9725e-03,  1.3552e-02, -1.8656e-02,  5.3912e-04, -1.2483e-02,\n",
       "          3.5426e-02, -2.4306e-02,  1.6169e-03, -8.8223e-03,  1.0942e-02,\n",
       "         -1.0211e-02,  8.3085e-03,  1.3672e-02,  1.7462e-02, -5.2667e-02,\n",
       "         -1.3015e-01,  2.8580e-02,  1.0584e-02,  2.6354e-03,  4.2520e-02,\n",
       "         -7.1529e-03, -1.3141e-03, -1.0759e-01,  2.3699e-03,  4.8297e-02,\n",
       "          2.6021e-02, -1.0394e-02,  9.8857e-04, -1.2597e-02,  1.9896e-03,\n",
       "         -1.5155e-02, -2.3606e-03, -2.1676e-02,  2.9841e-03,  7.1386e-03,\n",
       "         -1.0308e-02,  5.4498e-04, -1.6346e-02,  9.0969e-02, -1.4226e-01,\n",
       "         -7.3432e-03,  8.4210e-03,  2.1214e-02, -3.9741e-03, -1.6949e-02,\n",
       "          1.4185e-02, -8.6453e-03, -3.0840e-03,  1.3042e-03,  5.5057e-03,\n",
       "          1.1870e-02,  6.9358e-03,  2.8298e-03,  8.5239e-03, -3.9784e-03,\n",
       "         -1.3829e-02,  2.0616e-02,  7.5109e-02, -6.4906e-04,  1.7659e-03,\n",
       "          5.3355e-03, -1.6046e-02, -2.2630e-02,  7.1772e-03, -6.4149e-03,\n",
       "         -1.1911e-02,  2.0777e-01,  3.9464e-03,  4.9148e-02,  3.3050e-03,\n",
       "          3.0685e-02, -2.3009e-03,  9.6811e-03,  6.3349e-03,  2.7300e-02,\n",
       "          1.3582e-02,  4.5309e-03, -1.1530e-02, -3.7591e-03, -1.0740e-02,\n",
       "         -2.8627e-03,  9.2202e-03, -2.2476e-02,  1.8750e-02, -1.0672e-03,\n",
       "         -1.7303e-02,  1.6014e-02,  9.7159e-03, -2.7715e-02,  2.3486e-03,\n",
       "          7.0317e-03, -1.1243e-02,  4.3909e-03, -3.8059e-02, -5.3939e-03,\n",
       "         -2.5740e-04,  4.1995e-04,  1.2755e-02,  7.6380e-02, -2.6505e-03,\n",
       "         -7.0741e-04, -1.0155e-02, -4.9614e-03, -3.9848e-02, -1.9426e-02,\n",
       "         -7.6178e-04,  1.6226e-03,  3.0891e-03, -1.5624e-02,  3.6196e-03,\n",
       "         -1.3119e-03, -9.5059e-04,  1.7424e-02, -1.0894e-02, -7.2796e-03,\n",
       "         -8.9595e-03, -7.4289e-04], device='cuda:1'),\n",
       " tensor([ 5.1968e-03, -4.9317e-03,  1.2412e-02,  7.1034e-03,  2.3963e-03,\n",
       "         -1.1485e-02,  1.0424e-02, -3.9045e-03, -7.2152e-03, -2.0101e-02,\n",
       "          1.3602e-02,  9.3083e-03,  5.3173e-03, -1.9143e-02,  9.7966e-03,\n",
       "          2.6296e-03,  5.3333e-02, -1.4034e-02, -5.7747e-03, -2.1749e-02,\n",
       "          4.7066e-04, -6.5139e-05,  3.8884e-03, -1.1895e-02,  5.6319e-03,\n",
       "          1.0683e-03, -3.9924e-03, -1.7294e-02, -2.3364e-03,  4.5654e-03,\n",
       "         -6.2259e-02,  3.7715e-03,  1.1988e-01, -3.5476e-03, -2.2884e-02,\n",
       "         -1.7102e-02, -1.7877e-01, -4.5347e-03, -3.4765e-03,  4.5538e-03,\n",
       "          1.7379e-04,  8.5652e-03, -7.3203e-03,  6.6706e-04, -5.2068e-02,\n",
       "         -4.6310e-03, -9.6169e-04, -7.5908e-03,  6.7138e-03,  2.6921e-03,\n",
       "         -1.3624e-02, -1.4273e-02,  1.9128e-01, -6.7042e-04, -9.3972e-03,\n",
       "          1.9164e-02, -6.6327e-03, -1.4318e-03, -3.1947e-03, -1.2502e-03,\n",
       "         -3.3404e-03,  8.4512e-03, -5.5663e-03,  4.0862e-02,  3.1136e-02,\n",
       "          1.0717e-04, -5.1079e-02, -4.1004e-03, -1.4023e-02, -8.9364e-03,\n",
       "          9.7528e-03, -9.4687e-03,  5.1947e-03,  8.5446e-03, -6.7400e-03,\n",
       "          3.4525e-02, -8.8030e-03,  1.4731e-03,  1.0491e-03, -1.3287e-02,\n",
       "         -1.8131e-02,  1.2376e-02, -2.9604e-02,  1.0276e-02, -3.8633e-03,\n",
       "         -9.3900e-03, -1.1500e-02, -2.2298e-02,  1.2337e-01,  2.8576e-03,\n",
       "          1.8650e-02,  5.4375e-03, -2.5265e-03,  8.1151e-03, -1.2835e-02,\n",
       "          1.1157e-02,  2.0078e-03, -2.2087e-02, -2.5157e-03, -4.6391e-03,\n",
       "         -8.6721e-04, -1.1157e-02, -1.5257e-03,  6.0125e-02, -1.5693e-02,\n",
       "         -4.2478e-03, -1.4950e-04, -1.4058e-03, -7.5575e-03,  3.0868e-03,\n",
       "          3.6534e-03,  1.7558e-03,  4.2699e-02,  1.8433e-03,  1.1671e-02,\n",
       "         -3.8535e-02, -2.5269e-03, -1.9985e-03, -4.9347e-03, -4.7187e-03,\n",
       "         -4.4647e-03, -6.1269e-03, -7.7706e-03,  7.4800e-03, -1.8757e-03,\n",
       "          5.1391e-03, -5.7465e-03, -6.8651e-04,  4.0643e-05,  3.7093e-03,\n",
       "          7.0560e-04, -6.5928e-03,  8.0429e-03, -4.3090e-04, -3.9309e-02,\n",
       "         -1.2673e-02, -9.0476e-04,  4.7164e-03, -8.2575e-03,  2.1607e-02,\n",
       "         -4.6462e-03, -9.2112e-04, -4.8225e-03,  4.2715e-03, -5.9595e-03,\n",
       "         -9.0141e-03, -2.2226e-03, -8.8473e-06,  1.8862e-03,  1.2845e-02,\n",
       "          5.2466e-03, -5.7518e-03, -3.3729e-03,  4.7693e-03, -1.1581e-01,\n",
       "         -2.3527e-03,  1.5731e-02, -9.3656e-04, -1.3001e-02, -9.2371e-02,\n",
       "         -2.6962e-03, -9.6115e-04,  5.4583e-02, -1.3933e-03, -3.5603e-03,\n",
       "         -6.7825e-03, -1.2372e-02,  1.3502e-02,  4.8177e-03,  2.5393e-03,\n",
       "          6.4653e-03,  4.4703e-03,  2.1038e-02, -4.4340e-02,  3.0899e-02,\n",
       "          3.3701e-03,  2.7806e-01, -3.4328e-02,  2.9349e-02, -5.0746e-03,\n",
       "          3.1183e-01, -1.4377e-02, -6.1255e-03,  6.5998e-03,  6.5424e-03,\n",
       "         -1.1917e-02,  7.2076e-04, -1.2015e-02, -4.1998e-03, -4.2477e-03,\n",
       "          1.2237e-02, -8.0163e-03,  2.5352e-03, -1.5309e-04, -1.1416e-03,\n",
       "          3.8238e-03, -5.3813e-03, -4.1141e-03, -9.8418e-03, -1.9057e-02,\n",
       "          4.9136e-03, -5.8898e-03,  7.0645e-03,  1.1132e-02, -2.4425e-01,\n",
       "         -2.9903e-04,  6.1045e-03,  8.0142e-02, -1.9527e-03,  8.6388e-03,\n",
       "         -4.3785e-03, -6.1405e-04, -4.9450e-02, -6.0870e-02, -4.6119e-03,\n",
       "         -7.8905e-03,  1.5760e-03, -1.5969e-03,  1.3769e-02, -4.0179e-03,\n",
       "         -3.5357e-02, -1.3448e-03, -1.4176e-02,  1.7208e-02,  2.6125e-02,\n",
       "          2.1800e-02,  1.9217e-01, -2.2119e-03, -4.2855e-03,  7.9105e-03,\n",
       "          5.2236e-03,  2.0030e-02, -7.9511e-03,  4.3479e-03,  3.5165e-03,\n",
       "          1.7446e-02, -5.2213e-03, -1.5871e-02, -2.7561e-03, -1.9769e-03,\n",
       "         -2.2374e-03, -5.3774e-04,  6.9684e-03,  3.2384e-06, -9.4947e-03,\n",
       "          3.1283e-03, -1.0175e-03,  7.4071e-03,  7.4819e-03,  7.0470e-03,\n",
       "         -1.1757e-02,  1.2472e-02,  6.2754e-02, -8.7290e-03,  5.4018e-03,\n",
       "         -6.3008e-02, -5.5259e-03, -1.8972e-03, -2.9318e-03, -4.9918e-03,\n",
       "         -4.3118e-03,  1.5906e-02,  3.4761e-03, -8.1139e-03, -4.4073e-02,\n",
       "          3.7420e-03,  5.8051e-03,  5.3456e-03, -3.1587e-03,  3.9502e-03,\n",
       "         -6.7635e-02, -2.6427e-02, -3.1581e-03, -2.1782e-03,  1.2367e-03,\n",
       "          1.7797e-03, -7.6058e-03, -8.8465e-03,  6.4815e-03,  3.1671e-03,\n",
       "         -2.1348e-02,  7.2809e-02,  1.5450e-02, -3.9123e-03,  1.2514e-02,\n",
       "          8.1826e-04,  2.5866e-02,  3.7467e-03,  3.0126e-03, -1.3293e-02,\n",
       "          1.0041e-03, -1.7417e-02, -2.1211e-03, -3.1216e-03, -3.7217e-03,\n",
       "         -8.8957e-03, -9.0586e-03, -1.3709e-02,  2.7389e-03,  2.6324e-02,\n",
       "          3.5212e-02, -3.3326e-03,  1.3261e-03, -2.3545e-04, -9.3609e-04,\n",
       "          9.6177e-03, -3.6667e-03,  1.1617e-02,  6.3784e-03,  4.2421e-03,\n",
       "          5.0041e-03, -1.0699e-02,  9.7506e-03,  3.4552e-02, -6.2230e-03,\n",
       "         -2.2936e-03, -8.4367e-03,  7.9804e-03,  8.6549e-03, -1.0807e-03,\n",
       "          1.2496e-02,  9.1868e-03,  2.4710e-03,  1.4253e-02,  1.9086e-02,\n",
       "         -1.8423e-02,  1.4399e-03,  2.0940e-03,  3.8427e-01, -1.2646e-03,\n",
       "         -1.0021e-02,  5.3946e-04,  1.2886e-02,  6.5352e-03,  1.1666e-03,\n",
       "          3.2032e-02, -9.8014e-02, -8.7887e-03,  2.7306e-03, -1.7439e-02,\n",
       "         -8.9512e-02, -3.7723e-03, -7.6469e-03, -3.1034e-02,  4.9218e-03,\n",
       "          6.7258e-03,  2.8251e-03,  2.7446e-03,  1.3640e-02,  8.9446e-03,\n",
       "          1.0231e-02, -9.7331e-03,  1.0349e-02, -1.6180e-03, -7.1837e-02,\n",
       "          1.1474e-02, -8.2629e-03, -5.8585e-03,  2.1075e-02, -2.4248e-03,\n",
       "          2.7871e-03,  2.8105e-03, -5.7222e-03, -1.2215e-03,  2.1863e-01,\n",
       "          1.2106e-02, -1.3897e-02,  1.2090e-01,  9.9991e-03,  1.4166e-02,\n",
       "         -2.1683e-03,  6.0705e-03, -2.4937e-03,  1.2978e-01, -2.0855e-02,\n",
       "          8.5131e-03, -2.1004e-03, -8.1134e-02,  2.0033e-03,  1.6743e-03,\n",
       "         -2.3372e-02, -1.6501e-02,  1.3108e-03, -1.4773e-02, -1.1220e-02,\n",
       "         -3.4440e-02,  1.7822e-02, -2.3321e-02, -6.7910e-03,  4.0918e-02,\n",
       "          5.6305e-03, -4.2144e-02, -1.6972e-02, -4.5284e-03,  5.6559e-03,\n",
       "         -4.1304e-03, -1.6999e-02,  7.7498e-03,  9.1233e-03, -1.7129e-03,\n",
       "         -1.2196e-02, -1.3727e-02, -1.4742e-03, -3.9781e-02, -1.9480e-02,\n",
       "         -1.2606e-02, -1.5010e-02,  1.2332e-02,  5.0264e-03,  6.6861e-02,\n",
       "          2.8917e-01, -4.6387e-02, -8.0725e-03, -4.4191e-03,  9.3133e-02,\n",
       "          2.4521e-03,  1.1312e-03, -8.2710e-02, -8.3842e-05, -5.5278e-03,\n",
       "         -1.0259e-02, -7.5742e-03,  4.7796e-03, -1.5297e-03, -1.3075e-03,\n",
       "         -1.9853e-02,  1.4350e-02,  8.9617e-03,  3.2797e-03,  5.9087e-04,\n",
       "         -5.5724e-03, -5.1697e-03,  4.6504e-03,  6.6178e-02,  3.0853e-02,\n",
       "          3.0802e-03, -1.2361e-02, -5.2380e-02,  1.1390e-03, -6.5719e-04,\n",
       "         -7.6693e-04,  1.1863e-02,  9.8473e-03,  5.6576e-03,  8.5119e-05,\n",
       "          8.6478e-03, -6.0463e-03, -1.0343e-02, -6.0713e-03,  4.7695e-03,\n",
       "         -2.1659e-02, -7.1021e-03, -6.2409e-03,  9.5133e-03, -4.1779e-03,\n",
       "          8.1487e-03,  1.8569e-02,  2.0359e-03, -3.7881e-05,  6.8729e-03,\n",
       "          3.8684e-03, -2.8080e-02,  3.1183e-03, -1.2761e-02,  1.7876e-03,\n",
       "          6.2248e-02,  2.2957e-03, -4.5691e-04, -5.9720e-03,  2.6557e-02,\n",
       "          3.9708e-02, -3.7721e-03,  3.2638e-02,  3.2985e-01, -9.5795e-04,\n",
       "         -6.1623e-04,  1.1127e-02, -7.1277e-03, -2.8133e-03, -1.3421e-03,\n",
       "          1.5661e-02, -1.6291e-02, -3.0461e-03, -2.6522e-02, -1.2565e-02,\n",
       "          7.5339e-03, -3.4736e-05, -1.0923e-02,  3.2266e-02, -5.9207e-03,\n",
       "         -7.4085e-03, -6.7252e-03, -1.3256e-02, -6.4839e-02, -2.5590e-03,\n",
       "          7.1608e-04,  4.9829e-03, -2.0931e-03, -2.5705e-02, -1.4393e-02,\n",
       "         -1.4685e-03, -4.3218e-03,  1.6525e-02,  7.7690e-03,  2.0553e-02,\n",
       "          6.6130e-03, -7.5673e-03,  1.2533e-02, -3.5382e-03,  7.8727e-03,\n",
       "         -1.0246e-02, -2.9602e-03], device='cuda:1'),\n",
       " tensor([-3.9498e-03, -2.6791e-03,  7.9563e-03,  8.8205e-02,  1.2949e-03,\n",
       "          1.5470e-02, -3.4650e-03,  3.6226e-03,  6.0850e-03, -2.0327e-02,\n",
       "          6.2386e-03,  1.5167e-02,  3.9354e-04,  1.2674e-03,  7.1750e-03,\n",
       "          6.5966e-03,  5.9012e-02, -1.5669e-03, -1.0693e-02, -1.7624e-03,\n",
       "          8.1539e-03, -6.3391e-03, -2.1839e-02, -5.4199e-02,  6.0792e-03,\n",
       "          5.7132e-03, -7.4172e-03, -4.1081e-02,  1.6600e-07, -7.6356e-03,\n",
       "          5.9507e-03, -8.2390e-03, -4.3182e-02,  2.5512e-03,  4.6344e-04,\n",
       "         -4.0560e-03,  2.3570e-02,  9.9148e-05, -2.3082e-03,  1.0569e-02,\n",
       "         -6.8362e-03,  1.7162e-02, -1.2658e-02,  1.2017e-02, -4.0786e-02,\n",
       "          1.5112e-03, -6.1616e-03,  2.0107e-02,  7.4273e-03, -9.1596e-03,\n",
       "          2.3278e-02,  1.5873e-02,  7.6806e-02, -1.5701e-02, -1.7694e-02,\n",
       "          1.0014e-02, -3.6624e-03,  3.6574e-04,  5.9254e-03, -2.7222e-03,\n",
       "         -7.2854e-03,  7.8611e-03, -4.2210e-03,  5.3405e-02,  1.5754e-02,\n",
       "         -5.4921e-03,  1.1971e-01, -4.9311e-02, -2.7510e-02, -4.1978e-03,\n",
       "          2.3455e-02, -1.8615e-02,  1.3528e-03,  2.8882e-03, -6.6006e-03,\n",
       "          1.5700e-02,  7.5387e-03, -4.4785e-03, -6.6285e-03,  2.2944e-03,\n",
       "         -1.8271e-02,  3.9869e-03, -4.9838e-02,  2.6275e-02, -2.6264e-02,\n",
       "         -2.7342e-02, -6.8926e-03, -5.1637e-02,  6.7642e-02,  9.7873e-03,\n",
       "          5.6851e-03,  6.4112e-03, -5.3937e-03,  1.4405e-02, -1.0582e-02,\n",
       "         -1.3854e-02, -1.3738e-02, -4.9999e-03,  1.3256e-02, -1.0166e-02,\n",
       "         -1.3900e-02,  9.0116e-03, -3.9920e-03,  1.7348e-02, -3.1763e-02,\n",
       "         -5.6381e-04, -4.2610e-03,  4.1600e-04, -4.4796e-03, -2.2999e-03,\n",
       "         -5.3798e-03,  1.4226e-03,  2.4139e-02,  1.6450e-02,  1.1677e-02,\n",
       "         -2.6542e-02, -9.7725e-03,  7.2930e-03, -1.0827e-02,  9.2446e-02,\n",
       "         -7.9252e-03, -3.9283e-02, -3.1108e-03,  3.8345e-03, -1.1549e-02,\n",
       "          1.6985e-02, -1.4653e-02,  1.1761e-02,  3.9179e-03,  5.8664e-03,\n",
       "          2.8550e-04,  5.9799e-03, -3.0316e-03, -2.5920e-03, -5.7453e-02,\n",
       "         -7.4606e-03,  2.6020e-03, -8.6133e-03, -2.6141e-02, -7.8284e-04,\n",
       "         -1.2165e-02,  1.0998e-02,  1.1261e-02, -7.5742e-03,  7.7643e-03,\n",
       "          8.2993e-03,  1.0663e-02, -4.7772e-03, -8.2488e-03,  4.4629e-04,\n",
       "          2.4139e-03, -5.8427e-03, -3.6052e-02, -1.1138e-02, -6.7195e-02,\n",
       "          9.0898e-04, -3.7476e-03,  5.4718e-03, -1.2035e-02, -1.2737e-01,\n",
       "          4.4198e-03, -7.5792e-03,  6.3643e-02,  1.0554e-02, -6.3847e-03,\n",
       "          1.4092e-04,  5.1272e-03,  1.6692e-02,  1.0779e-02,  1.6459e-02,\n",
       "         -2.3784e-02,  5.3833e-03,  3.4572e-02, -5.0407e-03,  1.1322e-02,\n",
       "          9.4203e-03,  6.2431e-02, -2.6885e-02,  2.4151e-02,  1.6055e-02,\n",
       "          4.9630e-01, -1.4665e-02,  1.2148e-02,  9.7463e-03, -6.0225e-04,\n",
       "         -1.2622e-02,  3.1852e-03, -1.0993e-02,  1.4701e-02, -1.5482e-03,\n",
       "          4.9548e-03,  2.6782e-02, -5.5075e-03,  5.3202e-03, -3.0057e-03,\n",
       "          3.7630e-03, -8.6983e-03, -3.8775e-03, -4.9662e-02, -1.9019e-02,\n",
       "         -3.9883e-03,  1.5408e-02,  3.3179e-03,  9.5257e-03, -1.4732e-01,\n",
       "         -2.6641e-02,  5.7069e-03,  7.4044e-02,  5.6654e-03,  8.2675e-03,\n",
       "          1.4621e-02, -3.2971e-03, -3.3919e-02,  4.8947e-02, -8.8019e-03,\n",
       "          1.3521e-02,  3.0296e-03, -1.1068e-02,  6.5093e-03,  6.4098e-03,\n",
       "         -6.7668e-03, -3.1034e-03,  3.6117e-02,  6.8854e-04,  1.6847e-03,\n",
       "          2.1764e-03,  1.7215e-01, -5.2906e-03, -1.7755e-04,  2.5877e-02,\n",
       "          5.0183e-03, -7.7670e-03, -5.7653e-03,  2.3381e-03,  7.1303e-03,\n",
       "         -6.7798e-03,  2.2694e-03, -1.1103e-01, -1.2994e-02,  4.2486e-03,\n",
       "         -1.2250e-02,  3.1127e-03, -3.3732e-02, -3.4242e-03, -1.0980e-02,\n",
       "         -1.2780e-02,  1.0445e-03, -2.6195e-03,  1.6334e-02, -1.0332e-03,\n",
       "         -1.1065e-02, -1.3988e-02,  2.2794e-02, -1.2462e-03,  1.1263e-02,\n",
       "         -3.3789e-02,  9.7256e-04,  1.8301e-03, -1.6895e-05, -5.8397e-03,\n",
       "         -1.0914e-02,  9.0824e-03,  1.2433e-02, -4.0112e-03, -3.2136e-02,\n",
       "         -8.5814e-03, -2.4154e-02, -2.0429e-02,  3.9442e-03, -5.3107e-03,\n",
       "         -2.5108e-02, -4.5234e-02,  8.5583e-03, -2.6518e-03, -2.8230e-03,\n",
       "         -5.3821e-03, -4.3933e-03,  1.3865e-02,  1.2640e-02,  9.4089e-03,\n",
       "         -2.1982e-02,  3.9170e-02,  1.5191e-02, -7.7319e-03, -7.2488e-03,\n",
       "         -5.6582e-03,  2.2697e-02,  2.5605e-03,  1.6971e-03,  8.1334e-04,\n",
       "         -2.9782e-03, -2.4373e-02,  1.9441e-02,  1.2951e-03, -8.7005e-03,\n",
       "         -1.9895e-04,  1.2619e-02, -5.1875e-04,  1.1998e-02,  2.7666e-02,\n",
       "          1.0212e-02, -3.9405e-04, -2.2898e-02,  7.6322e-03, -1.2735e-04,\n",
       "          1.2768e-03,  2.3069e-02,  4.5894e-03, -6.6362e-04, -6.0992e-03,\n",
       "         -4.4111e-03, -3.6465e-03, -5.3954e-03,  3.0676e-02,  3.6130e-03,\n",
       "          6.8934e-03, -3.0829e-03,  7.0631e-03,  2.0952e-03, -3.3372e-04,\n",
       "          1.5670e-02,  1.3857e-02, -1.8045e-02,  4.5946e-04,  2.4048e-02,\n",
       "          2.6196e-03,  7.1266e-04,  1.3727e-03,  4.2203e-01,  1.7611e-02,\n",
       "          1.9482e-02, -7.6501e-03, -1.0419e-02,  4.7358e-03,  4.7354e-03,\n",
       "          3.7815e-02,  1.3189e-02,  2.5711e-03, -1.4019e-02, -9.4638e-03,\n",
       "         -1.5820e-01, -3.7052e-03, -1.7667e-02, -1.3443e-02, -9.0715e-03,\n",
       "          7.3150e-03, -4.4285e-03, -1.5652e-03,  1.7256e-02,  8.4483e-03,\n",
       "         -1.1322e-03, -7.6788e-04,  8.1920e-03, -9.3926e-03,  7.0302e-04,\n",
       "          1.4627e-02, -5.9530e-03,  1.0395e-02, -2.1904e-03,  5.5586e-03,\n",
       "         -3.9127e-03,  3.4515e-02, -1.1461e-02,  3.8079e-03,  1.3712e-01,\n",
       "          6.9943e-03, -2.1565e-03, -1.2200e-02,  2.8847e-02,  1.2310e-02,\n",
       "          3.1561e-03, -5.4614e-03,  9.7062e-04,  7.0424e-02, -5.8147e-03,\n",
       "         -9.1176e-03, -4.5760e-03, -9.3554e-02,  2.9338e-03, -2.4792e-02,\n",
       "         -1.4817e-02, -1.0747e-02,  9.0887e-03,  7.6486e-04, -3.8286e-03,\n",
       "         -4.2721e-02,  2.5197e-02, -1.1804e-03,  4.8122e-03,  2.7801e-03,\n",
       "         -1.5018e-02, -1.6995e-02, -9.5701e-03,  2.4373e-03,  4.9291e-03,\n",
       "         -4.9085e-03,  3.6705e-03,  1.2354e-02,  9.6978e-03, -4.2333e-03,\n",
       "         -1.3896e-02, -3.7151e-02,  1.6357e-03, -1.6305e-02, -3.9257e-02,\n",
       "         -2.6224e-02, -3.0081e-02,  6.7256e-03,  9.8207e-03,  4.8297e-02,\n",
       "          7.8393e-02, -1.4159e-02, -5.1423e-04,  5.4911e-04,  5.3015e-03,\n",
       "         -5.3526e-03, -5.7164e-03, -8.1984e-02, -1.2955e-03,  4.1819e-02,\n",
       "         -4.8290e-02,  1.0458e-03,  1.5066e-03,  4.1518e-03, -9.4827e-05,\n",
       "          1.0136e-03,  1.2649e-02,  3.2936e-03,  1.5105e-02,  1.5320e-04,\n",
       "          1.2675e-02,  4.1766e-04,  8.4187e-03,  1.5427e-01,  5.5657e-03,\n",
       "          1.4105e-03, -4.0581e-03, -1.3088e-02,  8.1322e-03,  1.1924e-03,\n",
       "         -4.5870e-03,  2.4294e-03,  1.2493e-02, -2.0232e-03,  5.1268e-03,\n",
       "         -3.6341e-02, -3.2770e-03, -1.4184e-02,  2.8450e-03,  1.2438e-02,\n",
       "          3.6412e-03,  9.6529e-03, -1.1531e-01, -6.3692e-03, -6.7855e-03,\n",
       "         -1.5192e-03,  9.2690e-03, -1.5183e-02, -5.6239e-03, -3.7198e-03,\n",
       "          1.8601e-02, -2.2520e-02, -1.1835e-02,  3.1616e-02, -5.3950e-03,\n",
       "          1.6645e-02,  4.9203e-03,  1.0702e-02, -7.2666e-04, -1.1748e-02,\n",
       "          4.4602e-02, -2.8941e-03,  3.2505e-02,  4.5832e-01,  2.9822e-03,\n",
       "         -1.2407e-03,  1.7720e-02,  1.1529e-02, -2.1467e-02,  1.0075e-02,\n",
       "         -9.5726e-03,  3.8066e-03,  5.7493e-03, -1.3794e-02, -1.4276e-02,\n",
       "          3.3029e-03, -1.9970e-03,  3.2082e-03, -1.0698e-02, -1.3663e-02,\n",
       "         -1.3970e-03, -4.3937e-03, -1.5097e-02,  2.8730e-02,  2.2945e-03,\n",
       "         -2.5092e-03, -1.6066e-02, -1.3423e-02, -5.8496e-03,  1.2303e-03,\n",
       "         -5.1323e-03,  2.8280e-03,  1.8655e-02, -7.9289e-03,  7.8251e-03,\n",
       "         -1.9583e-03,  4.6055e-03,  6.7344e-03, -1.0985e-02, -2.9234e-03,\n",
       "         -6.2827e-03,  8.3108e-03], device='cuda:1'),\n",
       " tensor([-6.6303e-03,  7.6463e-03, -4.7736e-03,  1.8986e-02,  2.3172e-03,\n",
       "          2.2878e-02,  1.3453e-03, -4.8835e-03,  7.2340e-03,  7.1534e-02,\n",
       "         -2.2008e-02, -6.2979e-05, -1.4089e-02,  1.3942e-02, -9.3101e-03,\n",
       "         -4.4232e-04, -1.7037e-02, -2.5054e-03, -1.8476e-03,  2.1796e-02,\n",
       "         -8.5732e-03, -1.8321e-03,  2.5283e-02, -1.9827e-02,  2.1297e-03,\n",
       "          2.5985e-03, -5.4950e-04,  7.1455e-03,  1.2530e-03, -4.8717e-03,\n",
       "          5.4473e-03,  3.5192e-03,  4.8144e-01,  2.5741e-03, -2.7833e-02,\n",
       "          5.7210e-03,  1.7205e-02,  3.7178e-03,  1.2123e-02,  2.5031e-04,\n",
       "         -2.3691e-04, -1.1787e-02,  2.7382e-03, -3.2055e-04,  3.0063e-02,\n",
       "          5.6925e-03,  9.5135e-03,  3.7872e-02,  3.2687e-05, -1.9232e-02,\n",
       "          1.2992e-02, -2.1839e-02, -5.6589e-02, -8.7914e-03,  1.1360e-03,\n",
       "          6.2844e-03, -4.5042e-02, -5.4634e-02, -5.7063e-03,  3.0486e-03,\n",
       "         -2.4630e-03, -3.0218e-03,  1.6899e-02, -4.7082e-02, -1.8098e-02,\n",
       "         -5.5063e-03,  1.6555e-01,  1.2014e-02,  7.5639e-04,  1.1814e-02,\n",
       "         -1.5858e-03,  1.3600e-02,  5.7928e-06,  6.5073e-03, -8.6303e-04,\n",
       "         -3.9249e-02,  5.1417e-03, -8.1458e-03,  4.1840e-03,  8.5668e-03,\n",
       "          2.3533e-02, -7.2036e-03,  6.9711e-02,  4.3635e-03, -1.0604e-02,\n",
       "         -8.3727e-03,  4.5495e-03,  2.3832e-02, -5.8191e-03,  1.7842e-02,\n",
       "          2.9002e-02, -5.8728e-04, -4.9988e-03, -2.0893e-02, -3.2749e-03,\n",
       "         -6.5307e-03, -4.2502e-03,  8.7475e-03,  8.6864e-03,  1.1387e-03,\n",
       "         -3.9639e-03,  2.0644e-02, -8.1724e-03,  9.6973e-03,  2.3027e-02,\n",
       "          4.2683e-03, -3.0961e-03, -4.3940e-03,  1.7935e-03,  5.3578e-03,\n",
       "          4.0031e-03,  1.3481e-03, -2.7648e-02,  5.4629e-03, -1.4830e-03,\n",
       "         -1.4606e-02,  9.7530e-03,  5.7329e-03,  5.0107e-03,  7.9930e-02,\n",
       "          2.4898e-03, -5.4894e-02, -4.6863e-03,  2.4147e-03, -2.1099e-03,\n",
       "          2.4991e-03, -2.1094e-02,  1.0715e-02, -4.1983e-03,  1.2243e-03,\n",
       "          6.9073e-07, -1.6656e-03, -4.7805e-03, -1.7454e-03,  2.9080e-02,\n",
       "          1.3997e-02,  8.4352e-03, -9.8814e-03,  1.3295e-02,  8.8086e-04,\n",
       "         -7.3903e-03, -2.4375e-06,  1.3225e-02, -1.0060e-03,  5.0600e-03,\n",
       "          1.1421e-02, -5.0816e-04,  1.4746e-04, -3.5617e-02, -1.8008e-02,\n",
       "         -8.1177e-03,  1.5210e-02,  4.8787e-03, -4.7859e-03,  5.9713e-02,\n",
       "         -6.6781e-03, -1.6279e-02, -1.6755e-03,  5.2951e-03, -5.6665e-02,\n",
       "          2.3872e-03, -8.6929e-04, -4.6588e-02,  2.3122e-03, -5.6022e-03,\n",
       "          9.6915e-03, -5.2373e-03,  3.1275e-03, -1.3224e-02, -4.0872e-04,\n",
       "         -7.6255e-03, -6.7168e-03,  1.4753e-02,  3.5131e-02,  6.4555e-03,\n",
       "         -1.0269e-03,  1.1909e-01, -1.1615e-02, -1.4666e-02,  2.5081e-02,\n",
       "          4.3629e-02,  2.2865e-02,  7.1208e-03,  5.1193e-03, -3.1974e-04,\n",
       "          2.0462e-02, -2.4484e-03,  8.1719e-04,  1.0097e-02,  8.2355e-03,\n",
       "          3.3522e-03,  2.6585e-03, -9.7317e-03,  1.9515e-03,  9.6963e-03,\n",
       "         -3.9436e-03,  9.3951e-03, -1.6194e-03, -2.2691e-02,  3.0579e-03,\n",
       "          6.3493e-03, -2.2638e-03,  1.6350e-02, -8.8824e-03, -6.1689e-02,\n",
       "         -7.1330e-03,  8.2654e-04, -3.6559e-02, -6.4018e-03, -1.5689e-02,\n",
       "         -8.0588e-04, -4.2942e-03, -4.2067e-02,  3.4886e-01, -2.3282e-03,\n",
       "         -1.5042e-02,  5.6423e-03,  1.0014e-02,  8.9794e-03,  2.4122e-02,\n",
       "          2.4910e-02, -3.9949e-03, -5.0662e-02, -5.3461e-04,  3.7451e-03,\n",
       "          2.6274e-03, -4.3844e-02,  2.9820e-03,  1.5252e-02, -3.1681e-05,\n",
       "         -2.1998e-03, -7.2139e-03,  2.3553e-04, -1.0760e-03,  2.3876e-03,\n",
       "          3.0623e-04,  1.8756e-03, -4.5274e-02,  5.0634e-04, -1.1800e-03,\n",
       "         -3.2552e-03, -7.4558e-03,  2.6039e-02, -5.4374e-03,  1.6278e-03,\n",
       "          1.9645e-03, -4.5157e-03, -6.4512e-03, -9.7072e-04, -2.6779e-03,\n",
       "          1.2829e-02,  5.2918e-03, -4.0791e-02,  2.7719e-03, -9.0790e-04,\n",
       "         -1.7569e-01, -4.3704e-03,  9.1550e-03,  4.7844e-03, -2.3027e-03,\n",
       "         -4.2390e-03,  1.0691e-03,  5.0073e-03,  7.7383e-03, -2.7932e-04,\n",
       "         -2.1419e-03, -9.5280e-03, -5.8797e-03, -1.2657e-03, -1.2103e-03,\n",
       "          4.8113e-02,  9.7038e-02,  5.4467e-03, -2.5069e-03, -3.5389e-05,\n",
       "         -5.6311e-03,  3.2735e-03, -2.0895e-03, -1.0068e-02, -2.9769e-03,\n",
       "         -1.2976e-02,  7.7130e-03, -1.3393e-02,  1.8608e-02, -9.1023e-03,\n",
       "          6.5666e-03,  6.3729e-03, -4.7665e-03, -6.5445e-04,  1.6616e-02,\n",
       "         -3.0379e-03,  1.9767e-02, -8.7432e-03, -7.0028e-04, -2.6915e-03,\n",
       "          7.6586e-03,  3.0554e-03,  8.0611e-03,  5.3333e-03, -3.9916e-02,\n",
       "         -5.6278e-02,  9.3514e-03, -1.1331e-02, -5.7735e-03,  1.0418e-03,\n",
       "         -2.3454e-04,  1.9235e-02,  2.1439e-03, -3.4478e-03, -3.5077e-03,\n",
       "         -1.1854e-03, -1.9179e-03,  2.1758e-03, -9.5472e-03, -3.9013e-03,\n",
       "         -6.7681e-03, -2.8486e-03, -1.3220e-02, -1.4199e-02,  1.1031e-02,\n",
       "         -1.3516e-02, -3.0653e-03,  4.7990e-03, -1.0113e-02,  1.6374e-02,\n",
       "         -2.2992e-02, -3.8230e-03, -2.6289e-03,  4.9903e-01,  6.8873e-03,\n",
       "          1.7868e-02, -5.2201e-03, -2.4413e-03, -2.0165e-03,  6.5502e-03,\n",
       "         -5.7924e-02, -1.5729e-01, -1.3378e-03,  4.1365e-03,  8.7895e-02,\n",
       "          1.2731e-01,  6.3038e-03,  2.4298e-03,  1.5525e-02,  1.3905e-03,\n",
       "         -1.1338e-02, -5.2517e-03,  8.9078e-03,  1.0975e-02, -4.1586e-03,\n",
       "          9.4327e-03,  5.0530e-03, -5.9245e-03, -1.7959e-03,  1.5551e-02,\n",
       "          2.8149e-04, -9.7831e-03, -6.2932e-03, -2.1885e-02,  6.3248e-04,\n",
       "         -2.7810e-03, -8.2509e-03, -5.0556e-03,  1.1501e-04,  1.5731e-01,\n",
       "         -3.4217e-03, -9.3171e-03, -4.7180e-02, -3.7663e-02, -1.6200e-01,\n",
       "         -1.7581e-03, -1.6747e-02,  2.4960e-03, -1.7434e-02, -1.0071e-02,\n",
       "          3.7073e-04,  1.0929e-02, -1.9876e-02, -2.7318e-03, -3.2457e-02,\n",
       "          1.3178e-03,  4.2946e-03,  1.5904e-02,  2.4340e-03,  7.2718e-03,\n",
       "          4.7904e-02, -2.3997e-03,  5.0093e-03,  3.7729e-03, -5.6445e-02,\n",
       "          3.2819e-03,  5.8358e-02,  2.6459e-02, -1.3454e-03,  3.3907e-03,\n",
       "         -1.3450e-03, -4.5130e-03,  6.2042e-03, -5.7842e-03, -1.6618e-02,\n",
       "          9.5543e-03, -3.7507e-03, -5.3681e-03,  1.2862e-02,  8.9630e-03,\n",
       "         -1.6754e-02, -5.5055e-04, -1.0520e-02,  5.5667e-03, -1.0550e-01,\n",
       "         -9.6030e-03,  9.3232e-03, -7.3837e-05, -5.0021e-03,  2.8917e-02,\n",
       "         -8.7179e-03,  5.2100e-03,  2.8415e-03,  4.4182e-03,  3.8257e-02,\n",
       "          2.8238e-02, -1.8922e-03, -7.4106e-03, -1.0189e-02, -7.0851e-03,\n",
       "          1.2000e-02, -3.5898e-03,  2.9238e-03, -1.4959e-02, -5.3247e-03,\n",
       "          9.7184e-03,  5.7472e-03,  2.0106e-03, -7.0902e-02, -2.2043e-02,\n",
       "          2.9465e-03,  1.4041e-02,  2.2325e-02, -3.0211e-03,  2.7051e-03,\n",
       "         -6.4163e-03,  4.1589e-03, -3.8676e-03, -6.7930e-03,  5.3147e-03,\n",
       "         -1.1161e-02, -3.2534e-03, -1.8703e-03,  2.4118e-05, -9.2392e-03,\n",
       "          2.6328e-02, -8.2179e-03,  2.0120e-01, -1.1871e-02, -1.1683e-02,\n",
       "         -6.9290e-03, -3.9038e-03, -1.1777e-02, -8.7565e-03, -4.0207e-03,\n",
       "          1.6913e-03,  7.6217e-02,  8.8120e-03, -8.1158e-03, -1.0226e-02,\n",
       "         -5.7760e-05, -5.5350e-03, -4.1799e-03,  1.2930e-02, -3.1141e-02,\n",
       "         -8.8073e-03, -2.1567e-03, -1.2885e-02,  1.0942e-01, -3.1957e-04,\n",
       "          2.3551e-02, -6.7632e-03,  2.0500e-02,  7.1136e-03, -1.4919e-03,\n",
       "         -9.7937e-03,  2.6898e-03,  8.1562e-02, -3.5170e-03,  6.0360e-04,\n",
       "          5.7157e-03, -7.7028e-04,  2.2445e-04,  3.5918e-03,  6.9002e-03,\n",
       "          7.0297e-03, -5.2255e-04, -6.1676e-03,  8.2099e-03, -2.6824e-03,\n",
       "         -1.0381e-03,  8.0959e-04, -2.0281e-03, -2.8707e-03, -4.4737e-02,\n",
       "         -4.6423e-03, -1.2632e-02, -2.7692e-03, -8.7055e-04, -1.0095e-02,\n",
       "         -5.4118e-03,  8.4535e-03,  5.7219e-03,  2.0123e-03, -2.3256e-02,\n",
       "          6.1704e-04,  7.1787e-04], device='cuda:1')]"
      ]
     },
     "execution_count": 10,
     "metadata": {},
     "output_type": "execute_result"
    }
   ],
   "source": [
    "m_centers"
   ]
  },
  {
   "cell_type": "code",
   "execution_count": null,
   "id": "b3953820-eaba-4e3e-81df-dd34a8b342f6",
   "metadata": {},
   "outputs": [],
   "source": []
  },
  {
   "cell_type": "code",
   "execution_count": null,
   "id": "74e8022b-5662-4369-b40a-d51a2daa0dde",
   "metadata": {},
   "outputs": [],
   "source": []
  }
 ],
 "metadata": {
  "kernelspec": {
   "display_name": "Python 3 (ipykernel)",
   "language": "python",
   "name": "python3"
  },
  "language_info": {
   "codemirror_mode": {
    "name": "ipython",
    "version": 3
   },
   "file_extension": ".py",
   "mimetype": "text/x-python",
   "name": "python",
   "nbconvert_exporter": "python",
   "pygments_lexer": "ipython3",
   "version": "3.10.14"
  }
 },
 "nbformat": 4,
 "nbformat_minor": 5
}

{
 "cells": [
  {
   "cell_type": "code",
   "execution_count": 1,
   "id": "6de9524d-0b8c-419b-b9f4-90c3d99e4206",
   "metadata": {},
   "source": [
    "import sys\n",
    "sys.path.insert(0, '..')\n",
    "\n",
    "import torch\n",
    "import os\n",
    "import wandb\n",
    "import random\n",
    "import numpy as np\n",
    "import torch\n",
    "from torch import nn\n",
    "from torch.optim import Adam\n",
    "from ignite.handlers.param_scheduler import create_lr_scheduler_with_warmup\n",
    "from torch.utils.data import DataLoader\n",
    "from datetime import datetime\n",
    "import matplotlib.pyplot as plt\n",
    "import pandas as pd\n",
    "from scipy import stats\n",
    "from tqdm import tqdm\n",
    "from matplotlib import cm\n",
    "import seaborn as sns\n",
    "import matplotlib.lines as mlines\n",
    "from sklearn.decomposition import PCA\n",
    "from openTSNE import TSNE\n",
    "from PIL import Image\n",
    "import umap\n",
    "import torch.nn.functional as F\n",
    "from scipy.spatial.distance import cdist\n",
    "import umap.plot\n",
    "\n",
    "from core.final.dataset import PSMDataset\n",
    "from core.final.model import GalSpecNet, MetaModel, Informer, AstroModel\n",
    "from core.final.trainer import Trainer"
   ],
   "outputs": []
  },
  {
   "cell_type": "code",
   "execution_count": 2,
   "id": "1ace0175-6b9a-4bcd-a6f4-e272009a7771",
   "metadata": {},
   "source": [
    "def get_model(config):\n",
    "    if config['mode'] == 'photo':\n",
    "        model = Informer(config)\n",
    "    elif config['mode'] == 'spectra':\n",
    "        model = GalSpecNet(config)\n",
    "    elif config['mode'] == 'meta':\n",
    "        model = MetaModel(config)\n",
    "    else:\n",
    "        model = AstroModel(config)\n",
    "\n",
    "    return model"
   ],
   "outputs": []
  },
  {
   "cell_type": "code",
   "execution_count": 3,
   "id": "bd56804a-3f14-488b-baa2-3cfe7972a125",
   "metadata": {},
   "source": [
    "def get_embs(dataloader):\n",
    "    all_p_emb, all_s_emb, all_m_emb = [], [], []\n",
    "    all_labels = []\n",
    "    \n",
    "    for photometry, photometry_mask, spectra, metadata, labels in tqdm(dataloader):\n",
    "        photometry, photometry_mask = photometry.to(device), photometry_mask.to(device)\n",
    "        spectra, metadata = spectra.to(device), metadata.to(device)\n",
    "    \n",
    "        with torch.no_grad():\n",
    "            p_emb, s_emb, m_emb = model.get_embeddings(photometry, photometry_mask, spectra, metadata)\n",
    "    \n",
    "            all_p_emb.append(p_emb.cpu())\n",
    "            all_s_emb.append(s_emb.cpu())\n",
    "            all_m_emb.append(m_emb.cpu())\n",
    "            all_labels.append(labels)\n",
    "    \n",
    "    all_p_emb = torch.vstack(all_p_emb)\n",
    "    all_s_emb = torch.vstack(all_s_emb)\n",
    "    all_m_emb = torch.vstack(all_m_emb)\n",
    "    all_labels = torch.hstack(all_labels)\n",
    "\n",
    "    return all_p_emb, all_s_emb, all_m_emb, all_labels"
   ],
   "outputs": []
  },
  {
   "cell_type": "code",
   "execution_count": 4,
   "id": "94243184-a69c-4258-9933-7f983ab6e526",
   "metadata": {},
   "source": [
    "def get_centers(p_emb, s_emb, m_emb, train_labels):\n",
    "    p_centers, s_centers, m_centers, all_centers = [], [], [], []\n",
    "\n",
    "    for i in range(10):\n",
    "        ind = train_labels == i\n",
    "    \n",
    "        p_center = p_emb[ind].mean(axis=0)\n",
    "        p_center = p_center / p_center.norm()\n",
    "        p_centers.append(p_center)\n",
    "    \n",
    "        s_center = s_emb[ind].mean(axis=0)\n",
    "        s_center = s_center / s_center.norm()\n",
    "        s_centers.append(s_center)\n",
    "    \n",
    "        m_center = m_emb[ind].mean(axis=0)\n",
    "        m_center = m_center / m_center.norm()\n",
    "        m_centers.append(m_center)\n",
    "\n",
    "        all_emb = (p_emb + s_emb + m_emb) / 3\n",
    "        all_center = all_emb[ind].mean(axis=0)\n",
    "        all_center = all_center / all_center.norm()\n",
    "        all_centers.append(all_center)\n",
    "    \n",
    "    p_centers = torch.stack(p_centers)\n",
    "    s_centers = torch.stack(s_centers)\n",
    "    m_centers = torch.stack(m_centers)\n",
    "    all_centers = torch.stack(all_centers)\n",
    "\n",
    "    return p_centers, s_centers, m_centers, all_centers"
   ],
   "outputs": []
  },
  {
   "cell_type": "code",
   "execution_count": 5,
   "id": "e7b66b72-6577-42f0-8d5d-d48e0b322f74",
   "metadata": {},
   "source": [
    "def get_pred_center(p_emb, s_emb, m_emb, p_centers, s_centers, m_centers, all_centers):\n",
    "    p_pred, s_pred, m_pred, all_pred = [], [], [], []\n",
    "    all_emb = (p_emb + s_emb + m_emb) / 3\n",
    "    \n",
    "    for i in range(len(p_emb)):\n",
    "        p_pred.append(torch.argmax(p_emb[i] @ p_centers.T))\n",
    "        s_pred.append(torch.argmax(s_emb[i] @ s_centers.T))\n",
    "        m_pred.append(torch.argmax(m_emb[i] @ m_centers.T))\n",
    "        all_pred.append(torch.argmax(all_emb[i] @ all_centers.T))\n",
    "    \n",
    "    p_pred = torch.stack(p_pred)\n",
    "    s_pred = torch.stack(s_pred)\n",
    "    m_pred = torch.stack(m_pred)\n",
    "    all_pred = torch.stack(all_pred)\n",
    "\n",
    "    return p_pred, s_pred, m_pred, all_pred"
   ],
   "outputs": []
  },
  {
   "cell_type": "code",
   "execution_count": 6,
   "id": "1f250580-a8c9-412e-ae81-d92a6728c509",
   "metadata": {},
   "source": [
    "def get_pred_closest(test_p_emb, train_p_emb, test_s_emb, train_s_emb, test_m_emb, train_m_emb, train_labels):\n",
    "    indeces = torch.argmax(test_p_emb @ train_p_emb.T, axis=1)\n",
    "    p_pred = train_labels[indeces]\n",
    "\n",
    "    indeces = torch.argmax(test_s_emb @ train_s_emb.T, axis=1)\n",
    "    s_pred = train_labels[indeces]\n",
    "    \n",
    "    indeces = torch.argmax(test_m_emb @ train_m_emb.T, axis=1)\n",
    "    m_pred = train_labels[indeces]\n",
    "\n",
    "    train_all_emb = (train_p_emb + train_s_emb + train_m_emb) / 3\n",
    "    test_all_emb = (test_p_emb + test_s_emb + test_m_emb) / 3\n",
    "    indeces = torch.argmax(test_all_emb @ train_all_emb.T, axis=1)\n",
    "    all_pred = train_labels[indeces]\n",
    "\n",
    "    return p_pred, s_pred, m_pred, all_pred"
   ],
   "outputs": []
  },
  {
   "cell_type": "code",
   "execution_count": null,
   "id": "1cf5ce05-d3a7-4152-bfef-5ef8ab2bfcc6",
   "metadata": {},
   "source": [
    "def get_zero_shot_metrics(random_files):\n",
    "    res_center = {'photometry': [], 'spectra': [], 'meta': [], 'all': []}\n",
    "    res_closest = {'photometry': [], 'spectra': [], 'meta': [], 'all': []}\n",
    "    \n",
    "    for el in random_files:\n",
    "        config['file'] = f'preprocessed_data/{el}/spectra_and_v'\n",
    "        \n",
    "        train_dataset = PSMDataset(config, split='train')\n",
    "        train_dataloader = DataLoader(train_dataset, batch_size=config['batch_size'])\n",
    "        \n",
    "        test_dataset = PSMDataset(config, split='test')\n",
    "        test_dataloader = DataLoader(test_dataset, batch_size=config['batch_size'])\n",
    "        \n",
    "        train_p_emb, train_s_emb, train_m_emb, train_labels = get_embs(train_dataloader)\n",
    "        test_p_emb, test_s_emb, test_m_emb, test_labels = get_embs(test_dataloader)\n",
    "        \n",
    "        p_centers, s_centers, m_centers, all_centers = get_centers(train_p_emb, train_s_emb, train_m_emb, train_labels)\n",
    "        p_pred, s_pred, m_pred, all_pred = get_pred_center(test_p_emb, test_s_emb, test_m_emb, p_centers, s_centers, m_centers, all_centers)\n",
    "    \n",
    "        p_acc = (p_pred == test_labels).sum().item() / len(test_labels)\n",
    "        s_acc = (s_pred == test_labels).sum().item() / len(test_labels)\n",
    "        m_acc = (m_pred == test_labels).sum().item() / len(test_labels)\n",
    "        all_acc = (all_pred == test_labels).sum().item() / len(test_labels)\n",
    "        \n",
    "        print(f'Center {el}')\n",
    "        res_center['photometry'].append(p_acc)\n",
    "        res_center['spectra'].append(s_acc)\n",
    "        res_center['meta'].append(m_acc)\n",
    "        res_center['all'].append(all_acc)\n",
    "        \n",
    "        p_pred, s_pred, m_pred, all_pred = get_pred_closest(test_p_emb, train_p_emb, test_s_emb, train_s_emb, test_m_emb, train_m_emb, train_labels)\n",
    "    \n",
    "        p_acc = (p_pred == test_labels).sum().item() / len(test_labels)\n",
    "        s_acc = (s_pred == test_labels).sum().item() / len(test_labels)\n",
    "        m_acc = (m_pred == test_labels).sum().item() / len(test_labels)\n",
    "        all_acc = (all_pred == test_labels).sum().item() / len(test_labels)\n",
    "    \n",
    "        print(f'Closest {el}')\n",
    "        res_closest['photometry'].append(p_acc)\n",
    "        res_closest['spectra'].append(s_acc)\n",
    "        res_closest['meta'].append(m_acc)\n",
    "        res_closest['all'].append(all_acc)\n",
    "\n",
    "    return res_center, res_closest"
   ],
   "outputs": []
  },
  {
   "cell_type": "code",
   "execution_count": 8,
   "id": "3aaa7a58-e496-4fb2-a1b0-8e8fbf9497f8",
   "metadata": {},
   "source": [
    "def print_metrics(files, center, closest):\n",
    "    for i in range(5):\n",
    "        print(f\"{files[i]}\\tPhotometry\\tSpectra\\t\\tMeta\\t\\tAll\")\n",
    "        print(f\"Center:\\t\\t {round(center['photometry'][i], 4)}\\t\\t{round(center['spectra'][i], 4)}\\t\\t{round(center['meta'][i], 4)}\\t\\t{round(center['all'][i], 4)}\")\n",
    "        print(f\"Closest:\\t {round(closest['photometry'][i], 4)}\\t\\t{round(closest['spectra'][i], 4)}\\t\\t{round(closest['meta'][i], 4)}\\t\\t{round(closest['all'][i], 4)}\\n\")"
   ],
   "outputs": []
  },
  {
   "cell_type": "code",
   "execution_count": 9,
   "id": "dcb8d75c-1c78-49ba-8765-8370d142e9e3",
   "metadata": {},
   "source": [
    "def print_metrics_avg(files, center, closest):\n",
    "    avg_center = {key: (np.mean(val) * 100, np.std(val) * 100) for key, val in center.items()}\n",
    "    avg_closest = {key: (np.mean(val) * 100, np.std(val) * 100) for key, val in closest.items()}\n",
    "    \n",
    "    for key in avg_center:\n",
    "        print(key)\n",
    "        print(f'Center:\\t\\t {round(avg_center[key][0], 3)}\\t ± {round(avg_center[key][1], 3)}')\n",
    "        print(f'Closest:\\t {round(avg_closest[key][0], 3)}\\t ± {round(avg_closest[key][1], 3)}\\n')"
   ],
   "outputs": []
  },
  {
   "cell_type": "code",
   "execution_count": 11,
   "id": "5d44bcd6-ee45-4fe7-8f24-2742b46405c5",
   "metadata": {},
   "source": [
    "run_id = 'MeriDK/AstroCLIPResults3/2wz4ysvn'\n",
    "api = wandb.Api()\n",
    "run = api.run(run_id)\n",
    "config = run.config\n",
    "config['use_wandb'] = False\n",
    "\n",
    "model = get_model(config)\n",
    "device = torch.device('cuda:1' if torch.cuda.is_available() else 'cpu')\n",
    "model = model.to(device)\n",
    "model.eval()\n",
    "\n",
    "weights_path = os.path.join(config['weights_path'] + '-' + run_id.split('/')[-1], f'weights-best.pth')\n",
    "model.load_state_dict(torch.load(weights_path, weights_only=False))"
   ],
   "outputs": []
  },
  {
   "cell_type": "code",
   "execution_count": 12,
   "id": "d12cbd77-3d75-47b0-9e14-d0554b32f746",
   "metadata": {},
   "source": [
    "files_full = ['full_lb', 'full_lb0', 'full_lb12', 'full_lb123', 'full_lb66']\n",
    "center_full, closest_full = get_zero_shot_metrics(files_full)\n",
    "\n",
    "files50 = ['sub50_lb', 'sub50_lb0', 'sub50_lb12', 'sub50_lb123', 'sub50_lb66']\n",
    "center50, closest50 = get_zero_shot_metrics(files50)\n",
    "\n",
    "files25 = ['sub25_lb', 'sub25_lb0', 'sub25_lb12', 'sub25_lb123', 'sub25_lb66']\n",
    "center25, closest25 = get_zero_shot_metrics(files25)\n",
    "\n",
    "files10 = ['sub10_lb', 'sub10_lb0', 'sub10_lb12', 'sub10_lb123', 'sub10_lb66']\n",
    "center10, closest10 = get_zero_shot_metrics(files10)"
   ],
   "outputs": []
  },
  {
   "cell_type": "code",
   "execution_count": 13,
   "id": "7a6ab6e1-3f6d-4b5c-888a-e50c59fe178a",
   "metadata": {},
   "source": [
    "print_metrics_avg(files_full, center_full, closest_full)\n",
    "print_metrics_avg(files50, center50, closest50)\n",
    "print_metrics_avg(files25, center25, closest25)\n",
    "print_metrics_avg(files10, center10, closest10)"
   ],
   "outputs": []
  },
  {
   "cell_type": "code",
   "execution_count": null,
   "id": "7f01c1bb-120d-40df-8cc1-a0a07e161e66",
   "metadata": {},
   "source": [],
   "outputs": []
  },
  {
   "cell_type": "code",
   "execution_count": null,
   "id": "84431e77-2e21-42d1-ab79-086a14ff1574",
   "metadata": {},
   "source": [],
   "outputs": []
  },
  {
   "cell_type": "code",
   "execution_count": null,
   "id": "2106fc18-b13b-4f80-89ef-f8abb18d4bdc",
   "metadata": {},
   "source": [],
   "outputs": []
  },
  {
   "cell_type": "code",
   "execution_count": null,
   "id": "8ff212e5-d3d2-4249-a38f-4757b8d4318f",
   "metadata": {},
   "source": [],
   "outputs": []
  },
  {
   "cell_type": "code",
   "execution_count": null,
   "id": "c2c679a2-3d85-4dfd-8543-1b64ec3a22e7",
   "metadata": {},
   "source": [],
   "outputs": []
  },
  {
   "cell_type": "code",
   "execution_count": 43,
   "id": "382bcec8-83be-499d-a0a6-747482cb71c7",
   "metadata": {},
   "source": [
    "train_dataset = PSMDataset(config, split='train')\n",
    "train_dataloader = DataLoader(train_dataset, batch_size=config['batch_size'], shuffle=True)\n",
    "\n",
    "test_dataset = PSMDataset(config, split='test')\n",
    "test_dataloader = DataLoader(test_dataset, batch_size=config['batch_size'], shuffle=True)"
   ],
   "outputs": []
  },
  {
   "cell_type": "code",
   "execution_count": 44,
   "id": "921edbcd-1134-4926-a301-cf0aca633e32",
   "metadata": {},
   "source": [
    "train_p_emb, train_s_emb, train_m_emb, train_labels = get_embs(train_dataloader)\n",
    "test_p_emb, test_s_emb, test_m_emb, test_labels = get_embs(test_dataloader)"
   ],
   "outputs": []
  },
  {
   "cell_type": "code",
   "execution_count": 52,
   "id": "7d66b654-e8d1-4931-ae4d-646b4c482056",
   "metadata": {},
   "source": [
    "p_centers, s_centers, m_centers, all_centers = get_centers(train_p_emb, train_s_emb, train_m_emb, train_labels)\n",
    "p_pred, s_pred, m_pred, all_pred = get_pred_center(test_p_emb, test_s_emb, test_m_emb, p_centers, s_centers, m_centers, all_centers)\n",
    "\n",
    "print('Photometry Acc', (p_pred == test_labels).sum().item() / len(test_labels))\n",
    "print('Spectra Acc   ', (s_pred == test_labels).sum().item() / len(test_labels))\n",
    "print('Meta Acc      ', (m_pred == test_labels).sum().item() / len(test_labels))\n",
    "print('All Acc       ', (all_pred == test_labels).sum().item() / len(test_labels))"
   ],
   "outputs": []
  },
  {
   "cell_type": "code",
   "execution_count": 150,
   "id": "4aab0ee4-8fd8-4957-8c39-4f57d293ff16",
   "metadata": {},
   "source": [
    "\"\"\"\n",
    "Data Type     No CLIP           CLIP\n",
    "Photometry    84.642 ± 6.317    91.468 ± 0.446\n",
    "Spectra       76.278 ± 0.931    77.396 ± 0.614\n",
    "Metadata      85.623 ± 0.628    85.855 ± 0.856\n",
    "All           94.065 ± 0.390    94.153 ± 0.577\n",
    "\"\"\""
   ],
   "outputs": []
  },
  {
   "cell_type": "code",
   "execution_count": 51,
   "id": "9d079acb-909e-4f43-910d-513666a0e31e",
   "metadata": {},
   "source": [
    "p_pred, s_pred, m_pred, all_pred = get_pred_closest(test_p_emb, train_p_emb, test_s_emb, train_s_emb, test_m_emb, train_m_emb, train_labels)\n",
    "\n",
    "print('Photometry Acc', (p_pred == test_labels).sum().item() / len(test_labels))\n",
    "print('Spectra Acc   ', (s_pred == test_labels).sum().item() / len(test_labels))\n",
    "print('Meta Acc      ', (m_pred == test_labels).sum().item() / len(test_labels))\n",
    "print('All Acc       ', (all_pred == test_labels).sum().item() / len(test_labels))"
   ],
   "outputs": []
  },
  {
   "cell_type": "code",
   "execution_count": 19,
   "id": "c62ee001-1746-4ff0-aba0-4ed12ef941bd",
   "metadata": {},
   "source": [
    "config['file'] = 'preprocessed_data/sub50_lb/spectra_and_v'\n",
    "\n",
    "train_dataset = PSMDataset(config, split='train')\n",
    "train_dataloader = DataLoader(train_dataset, batch_size=config['batch_size'], shuffle=True)\n",
    "\n",
    "test_dataset = PSMDataset(config, split='test')\n",
    "test_dataloader = DataLoader(test_dataset, batch_size=config['batch_size'], shuffle=True)\n",
    "\n",
    "train_p_emb, train_s_emb, train_m_emb, train_labels = get_embs(train_dataloader)\n",
    "test_p_emb, test_s_emb, test_m_emb, test_labels = get_embs(test_dataloader)\n",
    "\n",
    "p_centers, s_centers, m_centers = get_centers(train_p_emb, train_s_emb, train_m_emb)\n",
    "p_pred, s_pred, m_pred = get_pred_center(test_p_emb, test_s_emb, test_m_emb, p_centers, s_centers, m_centers)\n",
    "pred, _ = torch.mode(torch.stack([p_pred, s_pred, m_pred]), axis=0)\n",
    "\n",
    "print('Center 50% Data')\n",
    "print('Photometry Acc', (p_pred == test_labels).sum().item() / len(test_labels))\n",
    "print('Spectra Acc   ', (s_pred == test_labels).sum().item() / len(test_labels))\n",
    "print('Meta Acc      ', (m_pred == test_labels).sum().item() / len(test_labels))\n",
    "print('All Acc       ', (pred == test_labels).sum().item() / len(test_labels))\n",
    "\n",
    "p_pred, s_pred, m_pred = get_pred_closest(test_p_emb, train_p_emb, test_s_emb, train_s_emb, test_m_emb, train_m_emb, train_labels)\n",
    "pred, _ = torch.mode(torch.stack([p_pred, s_pred, m_pred]), axis=0)\n",
    "\n",
    "print('Closest 50% Data')\n",
    "print('Photometry Acc', (p_pred == test_labels).sum().item() / len(test_labels))\n",
    "print('Spectra Acc   ', (s_pred == test_labels).sum().item() / len(test_labels))\n",
    "print('Meta Acc      ', (m_pred == test_labels).sum().item() / len(test_labels))\n",
    "print('All Acc       ', (pred == test_labels).sum().item() / len(test_labels))"
   ],
   "outputs": []
  },
  {
   "cell_type": "code",
   "execution_count": 20,
   "id": "7421cf7b-6b71-48dd-87aa-8b446d433c34",
   "metadata": {},
   "source": [
    "config['file'] = 'preprocessed_data/sub25_lb/spectra_and_v'\n",
    "\n",
    "train_dataset = PSMDataset(config, split='train')\n",
    "train_dataloader = DataLoader(train_dataset, batch_size=config['batch_size'], shuffle=True)\n",
    "\n",
    "test_dataset = PSMDataset(config, split='test')\n",
    "test_dataloader = DataLoader(test_dataset, batch_size=config['batch_size'], shuffle=True)\n",
    "\n",
    "train_p_emb, train_s_emb, train_m_emb, train_labels = get_embs(train_dataloader)\n",
    "test_p_emb, test_s_emb, test_m_emb, test_labels = get_embs(test_dataloader)\n",
    "\n",
    "p_centers, s_centers, m_centers = get_centers(train_p_emb, train_s_emb, train_m_emb)\n",
    "p_pred, s_pred, m_pred = get_pred_center(test_p_emb, test_s_emb, test_m_emb, p_centers, s_centers, m_centers)\n",
    "pred, _ = torch.mode(torch.stack([p_pred, s_pred, m_pred]), axis=0)\n",
    "\n",
    "print('Center 25% Data')\n",
    "print('Photometry Acc', (p_pred == test_labels).sum().item() / len(test_labels))\n",
    "print('Spectra Acc   ', (s_pred == test_labels).sum().item() / len(test_labels))\n",
    "print('Meta Acc      ', (m_pred == test_labels).sum().item() / len(test_labels))\n",
    "print('All Acc       ', (pred == test_labels).sum().item() / len(test_labels))\n",
    "\n",
    "p_pred, s_pred, m_pred = get_pred_closest(test_p_emb, train_p_emb, test_s_emb, train_s_emb, test_m_emb, train_m_emb, train_labels)\n",
    "pred, _ = torch.mode(torch.stack([p_pred, s_pred, m_pred]), axis=0)\n",
    "\n",
    "print('Closest 25% Data')\n",
    "print('Photometry Acc', (p_pred == test_labels).sum().item() / len(test_labels))\n",
    "print('Spectra Acc   ', (s_pred == test_labels).sum().item() / len(test_labels))\n",
    "print('Meta Acc      ', (m_pred == test_labels).sum().item() / len(test_labels))\n",
    "print('All Acc       ', (pred == test_labels).sum().item() / len(test_labels))"
   ],
   "outputs": []
  },
  {
   "cell_type": "code",
   "execution_count": 21,
   "id": "cae259be-af49-4b68-84e4-e2f40590066a",
   "metadata": {},
   "source": [
    "config['file'] = 'preprocessed_data/sub10_lb/spectra_and_v'\n",
    "\n",
    "train_dataset = PSMDataset(config, split='train')\n",
    "train_dataloader = DataLoader(train_dataset, batch_size=config['batch_size'], shuffle=True)\n",
    "\n",
    "test_dataset = PSMDataset(config, split='test')\n",
    "test_dataloader = DataLoader(test_dataset, batch_size=config['batch_size'], shuffle=True)\n",
    "\n",
    "train_p_emb, train_s_emb, train_m_emb, train_labels = get_embs(train_dataloader)\n",
    "test_p_emb, test_s_emb, test_m_emb, test_labels = get_embs(test_dataloader)\n",
    "\n",
    "p_centers, s_centers, m_centers = get_centers(train_p_emb, train_s_emb, train_m_emb)\n",
    "p_pred, s_pred, m_pred = get_pred_center(test_p_emb, test_s_emb, test_m_emb, p_centers, s_centers, m_centers)\n",
    "pred, _ = torch.mode(torch.stack([p_pred, s_pred, m_pred]), axis=0)\n",
    "\n",
    "print('Center 10% Data')\n",
    "print('Photometry Acc', (p_pred == test_labels).sum().item() / len(test_labels))\n",
    "print('Spectra Acc   ', (s_pred == test_labels).sum().item() / len(test_labels))\n",
    "print('Meta Acc      ', (m_pred == test_labels).sum().item() / len(test_labels))\n",
    "print('All Acc       ', (pred == test_labels).sum().item() / len(test_labels))\n",
    "\n",
    "p_pred, s_pred, m_pred = get_pred_closest(test_p_emb, train_p_emb, test_s_emb, train_s_emb, test_m_emb, train_m_emb, train_labels)\n",
    "pred, _ = torch.mode(torch.stack([p_pred, s_pred, m_pred]), axis=0)\n",
    "\n",
    "print('Closest 10% Data')\n",
    "print('Photometry Acc', (p_pred == test_labels).sum().item() / len(test_labels))\n",
    "print('Spectra Acc   ', (s_pred == test_labels).sum().item() / len(test_labels))\n",
    "print('Meta Acc      ', (m_pred == test_labels).sum().item() / len(test_labels))\n",
    "print('All Acc       ', (pred == test_labels).sum().item() / len(test_labels))"
   ],
   "outputs": []
  },
  {
   "cell_type": "markdown",
   "id": "17ee15f6-4640-48d7-86b5-786aad5380a2",
   "metadata": {},
   "source": [
    "## Results Across Diff Random Seeds"
   ]
  },
  {
   "cell_type": "code",
   "execution_count": null,
   "id": "6b7e4849-8bda-4e6b-8346-906610a33768",
   "metadata": {},
   "source": [
    "files_full = ['full_lb', 'full_lb0', 'full_lb12', 'full_lb123', 'full_lb66']\n",
    "center_full, closest_full = get_zero_shot_metrics(files_full)"
   ],
   "outputs": []
  },
  {
   "cell_type": "code",
   "execution_count": null,
   "id": "e511eb0e-6323-4fc6-8704-56b2ab42b2f5",
   "metadata": {},
   "source": [
    "files50 = ['sub50_lb', 'sub50_lb0', 'sub50_lb12', 'sub50_lb123', 'sub50_lb66']\n",
    "center50, closest50 = get_zero_shot_metrics(files50)"
   ],
   "outputs": []
  },
  {
   "cell_type": "code",
   "execution_count": null,
   "id": "4a56d9b1-f2f9-4e3e-9773-74d2e844942c",
   "metadata": {},
   "source": [
    "files25 = ['sub25_lb', 'sub25_lb0', 'sub25_lb12', 'sub25_lb123', 'sub25_lb66']\n",
    "center25, closest25 = get_zero_shot_metrics(files25)"
   ],
   "outputs": []
  },
  {
   "cell_type": "code",
   "execution_count": null,
   "id": "90718d20-8bfb-4128-93d8-ff39f54ff156",
   "metadata": {},
   "source": [
    "files10 = ['sub10_lb', 'sub10_lb0', 'sub10_lb12', 'sub10_lb123', 'sub10_lb66']\n",
    "center10, closest10 = get_zero_shot_metrics(files10)"
   ],
   "outputs": []
  },
  {
   "cell_type": "code",
   "execution_count": null,
   "id": "097fc973-7e16-42a6-908d-14bc899904f1",
   "metadata": {},
   "source": [
    "print_metrics_avg(files10, center10, closest10)"
   ],
   "outputs": []
  },
  {
   "cell_type": "code",
   "execution_count": null,
   "id": "4f9e8459-a764-4ce2-b6b4-16df5396d97f",
   "metadata": {},
   "source": [],
   "outputs": []
  },
  {
   "cell_type": "code",
   "execution_count": 100,
   "id": "99ae188c-9c70-46a4-abe7-f2043a5eaa38",
   "metadata": {},
   "source": [
    "print_metrics_avg(files10, center10, closest10)"
   ],
   "outputs": []
  },
  {
   "cell_type": "code",
   "execution_count": 101,
   "id": "58aa591d-0929-47f3-9967-e752a5f99be1",
   "metadata": {},
   "source": [
    "files10 = ['sub10_lb', 'sub10_lb0', 'sub10_lb12', 'sub10_lb123', 'sub10_lb66']\n",
    "center10, closest10 = get_zero_shot_metrics(files10)\n",
    "print_metrics_avg(files10, center10, closest10)"
   ],
   "outputs": []
  },
  {
   "cell_type": "code",
   "execution_count": null,
   "id": "1702d247-0bd6-4d9c-a4a1-7034b74e3c77",
   "metadata": {},
   "source": [],
   "outputs": []
  },
  {
   "cell_type": "code",
   "execution_count": null,
   "id": "fa0a13cf-1e48-4cc3-a9f8-8028ce5b0ba2",
   "metadata": {},
   "source": [],
   "outputs": []
  },
  {
   "cell_type": "code",
   "execution_count": null,
   "id": "785d1be7-7abd-4769-9a90-004d48dda3f8",
   "metadata": {},
   "source": [],
   "outputs": []
  },
  {
   "cell_type": "code",
   "execution_count": 72,
   "id": "51c6a5fc-84c1-422b-ad6f-648f16e26205",
   "metadata": {},
   "source": [
    "print_metrics_avg(files25, center25, closest25)"
   ],
   "outputs": []
  },
  {
   "cell_type": "code",
   "execution_count": 73,
   "id": "5ae961b3-5fd6-4369-8965-49c2b686c209",
   "metadata": {},
   "source": [
    "print_metrics_avg(files50, center50, closest50)"
   ],
   "outputs": []
  },
  {
   "cell_type": "code",
   "execution_count": 74,
   "id": "15bdaac5-b51b-4080-b3ce-368693f35965",
   "metadata": {},
   "source": [
    "print_metrics_avg(files_full, center_full, closest_full)"
   ],
   "outputs": []
  },
  {
   "cell_type": "markdown",
   "id": "c8536669-360d-4cc3-905b-1d100cdc39fb",
   "metadata": {},
   "source": [
    "# Single example prediction"
   ]
  },
  {
   "cell_type": "code",
   "execution_count": 76,
   "id": "6621a3c6-c2ae-4134-9ed0-4d9cf2b17543",
   "metadata": {},
   "source": [
    "config['file'] = 'preprocessed_data/sub10_lb/spectra_and_v'\n",
    "train_dataset = PSMDataset(config, split='train')\n",
    "train_dataloader = DataLoader(train_dataset, batch_size=config['batch_size'], shuffle=True)\n",
    "train_p_emb, train_s_emb, train_m_emb, train_labels = get_embs(train_dataloader)"
   ],
   "outputs": []
  },
  {
   "cell_type": "code",
   "execution_count": 105,
   "id": "5d572efe-7b7a-46f5-b437-2e8745f0d9cb",
   "metadata": {},
   "source": [
    "one_p_emb = []\n",
    "one_s_emb = []\n",
    "one_m_emb = []\n",
    "\n",
    "for i in range(10):\n",
    "    one_p_emb.append(train_p_emb[train_labels == i][2])\n",
    "    one_s_emb.append(train_s_emb[train_labels == i][2])\n",
    "    one_m_emb.append(train_m_emb[train_labels == i][2])\n",
    "\n",
    "one_p_emb = torch.vstack(one_p_emb)\n",
    "one_s_emb = torch.vstack(one_s_emb)\n",
    "one_m_emb = torch.vstack(one_m_emb)\n",
    "one_all_emb = (one_p_emb + one_s_emb + one_m_emb) / 3"
   ],
   "outputs": []
  },
  {
   "cell_type": "code",
   "execution_count": 106,
   "id": "d893166a-43a0-4088-89e9-acdc01b603b8",
   "metadata": {},
   "source": [
    "test_dataset = PSMDataset(config, split='test')\n",
    "test_dataloader = DataLoader(test_dataset, batch_size=config['batch_size'], shuffle=True)\n",
    "test_p_emb, test_s_emb, test_m_emb, test_labels = get_embs(test_dataloader)"
   ],
   "outputs": []
  },
  {
   "cell_type": "code",
   "execution_count": 107,
   "id": "42b56f21-c17c-485a-8c19-1196cd93dd24",
   "metadata": {},
   "source": [
    "p_pred, s_pred, m_pred, all_pred = get_pred_center(test_p_emb, test_s_emb, test_m_emb, one_p_emb, one_s_emb, one_m_emb, one_all_emb)"
   ],
   "outputs": []
  },
  {
   "cell_type": "code",
   "execution_count": 108,
   "id": "ad1c3a55-b301-430b-846d-a2f9a745f055",
   "metadata": {},
   "source": [
    "p_acc = (p_pred == test_labels).sum().item() / len(test_labels)\n",
    "s_acc = (s_pred == test_labels).sum().item() / len(test_labels)\n",
    "m_acc = (m_pred == test_labels).sum().item() / len(test_labels)\n",
    "all_acc = (all_pred == test_labels).sum().item() / len(test_labels)\n",
    "\n",
    "print(f'One \\t photo {p_acc} spectra {s_acc} meta {m_acc} all {all_acc}')"
   ],
   "outputs": []
  },
  {
   "cell_type": "code",
   "execution_count": 95,
   "id": "da0861a7-5758-474b-9c00-5aa3254f423c",
   "metadata": {},
   "source": [
    "config['file'] = 'preprocessed_data/sub25_lb/spectra_and_v'\n",
    "test_dataset = PSMDataset(config, split='test')\n",
    "test_dataloader = DataLoader(test_dataset, batch_size=config['batch_size'], shuffle=True)\n",
    "\n",
    "test_p_emb, test_s_emb, test_m_emb, test_labels = get_embs(test_dataloader)\n",
    "p_pred, s_pred, m_pred, all_pred = get_pred_center(test_p_emb, test_s_emb, test_m_emb, one_p_emb, one_s_emb, one_m_emb, one_all_emb)\n",
    "\n",
    "p_acc = (p_pred == test_labels).sum().item() / len(test_labels)\n",
    "s_acc = (s_pred == test_labels).sum().item() / len(test_labels)\n",
    "m_acc = (m_pred == test_labels).sum().item() / len(test_labels)\n",
    "all_acc = (all_pred == test_labels).sum().item() / len(test_labels)\n",
    "\n",
    "print(f'One \\t photo {p_acc} spectra {s_acc} meta {m_acc} all {all_acc}')"
   ],
   "outputs": []
  },
  {
   "cell_type": "code",
   "execution_count": 96,
   "id": "0f200d75-ae90-459a-bc06-760860afdf05",
   "metadata": {},
   "source": [
    "config['file'] = 'preprocessed_data/sub50_lb/spectra_and_v'\n",
    "test_dataset = PSMDataset(config, split='test')\n",
    "test_dataloader = DataLoader(test_dataset, batch_size=config['batch_size'], shuffle=True)\n",
    "\n",
    "test_p_emb, test_s_emb, test_m_emb, test_labels = get_embs(test_dataloader)\n",
    "p_pred, s_pred, m_pred, all_pred = get_pred_center(test_p_emb, test_s_emb, test_m_emb, one_p_emb, one_s_emb, one_m_emb, one_all_emb)\n",
    "\n",
    "p_acc = (p_pred == test_labels).sum().item() / len(test_labels)\n",
    "s_acc = (s_pred == test_labels).sum().item() / len(test_labels)\n",
    "m_acc = (m_pred == test_labels).sum().item() / len(test_labels)\n",
    "all_acc = (all_pred == test_labels).sum().item() / len(test_labels)\n",
    "\n",
    "print(f'One \\t photo {p_acc} spectra {s_acc} meta {m_acc} all {all_acc}')"
   ],
   "outputs": []
  },
  {
   "cell_type": "code",
   "execution_count": 97,
   "id": "eaf05e96-93d1-4e58-92dc-2f6f90902ffa",
   "metadata": {},
   "source": [
    "config['file'] = 'preprocessed_data/full_lb/spectra_and_v'\n",
    "test_dataset = PSMDataset(config, split='test')\n",
    "test_dataloader = DataLoader(test_dataset, batch_size=config['batch_size'], shuffle=True)\n",
    "\n",
    "test_p_emb, test_s_emb, test_m_emb, test_labels = get_embs(test_dataloader)\n",
    "p_pred, s_pred, m_pred, all_pred = get_pred_center(test_p_emb, test_s_emb, test_m_emb, one_p_emb, one_s_emb, one_m_emb, one_all_emb)\n",
    "\n",
    "p_acc = (p_pred == test_labels).sum().item() / len(test_labels)\n",
    "s_acc = (s_pred == test_labels).sum().item() / len(test_labels)\n",
    "m_acc = (m_pred == test_labels).sum().item() / len(test_labels)\n",
    "all_acc = (all_pred == test_labels).sum().item() / len(test_labels)\n",
    "\n",
    "print(f'One \\t photo {p_acc} spectra {s_acc} meta {m_acc} all {all_acc}')"
   ],
   "outputs": []
  },
  {
   "cell_type": "code",
   "execution_count": null,
   "id": "698ea68d-fc46-49a7-8198-12329b356803",
   "metadata": {},
   "source": [],
   "outputs": []
  },
  {
   "cell_type": "code",
   "execution_count": null,
   "id": "e9fec348-e0a1-40e9-8e9a-1f6cb2df294a",
   "metadata": {},
   "source": [],
   "outputs": []
  },
  {
   "cell_type": "code",
   "execution_count": null,
   "id": "223443bb-eba5-4e82-8b43-7d7b083e9871",
   "metadata": {},
   "source": [],
   "outputs": []
  },
  {
   "cell_type": "code",
   "execution_count": null,
   "id": "7f94dd54-2c0f-4aad-ad6e-8b7b5ccd6ec3",
   "metadata": {},
   "source": [],
   "outputs": []
  },
  {
   "cell_type": "code",
   "execution_count": null,
   "id": "cbadf8cd-173c-4d7d-b40f-22a2279e489d",
   "metadata": {},
   "source": [],
   "outputs": []
  },
  {
   "cell_type": "code",
   "execution_count": null,
   "id": "3b7c2f66-f5be-49cc-9fb1-3e25819ee3f5",
   "metadata": {},
   "source": [],
   "outputs": []
  },
  {
   "cell_type": "code",
   "execution_count": null,
   "id": "3653eb69-2cba-4cea-acf7-d488a4fa005e",
   "metadata": {},
   "source": [],
   "outputs": []
  },
  {
   "cell_type": "code",
   "execution_count": null,
   "id": "c1fb3d59-c67b-4170-8fa8-21d1c4c370d6",
   "metadata": {},
   "source": [],
   "outputs": []
  },
  {
   "cell_type": "code",
   "execution_count": null,
   "id": "d11affae-e30e-400d-8bbd-01eac3c7ce47",
   "metadata": {},
   "source": [],
   "outputs": []
  },
  {
   "cell_type": "code",
   "execution_count": null,
   "id": "478c5385-b71d-42f4-b453-0a7ce564387e",
   "metadata": {},
   "source": [],
   "outputs": []
  },
  {
   "cell_type": "code",
   "execution_count": null,
   "id": "bcbdc8b0-d3f7-447e-9bb5-ec9fe59791a3",
   "metadata": {},
   "source": [],
   "outputs": []
  },
  {
   "cell_type": "code",
   "execution_count": null,
   "id": "0a176bb3-2a10-4888-9b51-1a713ab2f0a2",
   "metadata": {},
   "source": [],
   "outputs": []
  },
  {
   "cell_type": "code",
   "execution_count": null,
   "id": "3cde3072-e66b-4d70-aeea-927d7cf6544a",
   "metadata": {},
   "source": [],
   "outputs": []
  },
  {
   "cell_type": "code",
   "execution_count": null,
   "id": "9272936f-8c8c-48fd-a1a5-0e6dfa9245ad",
   "metadata": {},
   "source": [],
   "outputs": []
  },
  {
   "cell_type": "code",
   "execution_count": null,
   "id": "2509da09-d464-4ed7-bd16-c1385c35fd6b",
   "metadata": {},
   "source": [],
   "outputs": []
  },
  {
   "cell_type": "code",
   "execution_count": null,
   "id": "986a6deb-1c17-479a-b3c8-5d5a8c80275f",
   "metadata": {},
   "source": [],
   "outputs": []
  },
  {
   "cell_type": "code",
   "execution_count": null,
   "id": "aaa994a2-2666-40e0-a0ec-202cad2adfe0",
   "metadata": {},
   "source": [],
   "outputs": []
  },
  {
   "cell_type": "code",
   "execution_count": null,
   "id": "5dd9534f-0508-4ff1-87ff-ce5a675a4390",
   "metadata": {},
   "source": [],
   "outputs": []
  },
  {
   "cell_type": "code",
   "execution_count": null,
   "id": "805c30b0-105d-4f9d-b0d4-893da9baafb2",
   "metadata": {},
   "source": [],
   "outputs": []
  },
  {
   "cell_type": "code",
   "execution_count": 27,
   "id": "620730ea-4930-4bc7-aac1-aa92ddb45bc1",
   "metadata": {},
   "source": [
    "val_m_emb[0] @ m_centers.T"
   ],
   "outputs": []
  },
  {
   "cell_type": "code",
   "execution_count": 12,
   "id": "b6f7afad-7e2d-4547-9100-9f090aaab027",
   "metadata": {},
   "source": [
    "\n",
    "for i in range(10):\n",
    "    print(i, val_m_emb[0] @ m_centers[i].cpu())\n",
    "\n",
    "print(val_labels[0])"
   ],
   "outputs": []
  },
  {
   "cell_type": "code",
   "execution_count": 10,
   "id": "b13ffc6b-524b-4764-ade4-eb96509a7cd4",
   "metadata": {},
   "source": [
    "m_centers"
   ],
   "outputs": []
  },
  {
   "cell_type": "code",
   "execution_count": null,
   "id": "b3953820-eaba-4e3e-81df-dd34a8b342f6",
   "metadata": {},
   "source": [],
   "outputs": []
  },
  {
   "cell_type": "code",
   "execution_count": null,
   "id": "74e8022b-5662-4369-b40a-d51a2daa0dde",
   "metadata": {},
   "source": [],
   "outputs": []
  }
 ],
 "metadata": {
  "kernelspec": {
   "display_name": "Python 3 (ipykernel)",
   "language": "python",
   "name": "python3"
  },
  "language_info": {
   "codemirror_mode": {
    "name": "ipython",
    "version": 3
   },
   "file_extension": ".py",
   "mimetype": "text/x-python",
   "name": "python",
   "nbconvert_exporter": "python",
   "pygments_lexer": "ipython3",
   "version": "3.10.14"
  }
 },
 "nbformat": 4,
 "nbformat_minor": 5
}

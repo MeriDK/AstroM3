{
 "cells": [
  {
   "cell_type": "code",
   "execution_count": 1,
   "id": "85544663-9500-444a-ac55-0ae2f7faf32e",
   "metadata": {},
   "source": [
    "import sys\n",
    "\n",
    "sys.path.insert(0, '..')"
   ],
   "outputs": []
  },
  {
   "cell_type": "code",
   "execution_count": 3,
   "id": "37fdf2d5-10f0-4d03-be00-1af5c3d0c1bc",
   "metadata": {},
   "source": [
    "from pathlib import Path\n",
    "import numpy as np\n",
    "from torch.utils.data import DataLoader\n",
    "from core.multimodal.dataset import collate_fn, ASASSNVarStarDataset\n",
    "from functools import partial\n",
    "import matplotlib.pyplot as plt\n",
    "import time\n",
    "from tqdm import tqdm\n",
    "import random\n",
    "import numpy as np\n",
    "import json\n",
    "import os"
   ],
   "outputs": []
  },
  {
   "cell_type": "code",
   "execution_count": 4,
   "id": "a26dbdb0-0863-4443-ad83-5ffe7384c2fd",
   "metadata": {},
   "source": [
    "random.seed(42)"
   ],
   "outputs": []
  },
  {
   "cell_type": "code",
   "execution_count": 14,
   "id": "b956a80f-e6b7-4c23-a23d-74bd28b1194a",
   "metadata": {},
   "source": [
    "datapath = Path('../data/asassn/')\n",
    "ds = ASASSNVarStarDataset(datapath, mode='train', verbose=True, only_periodic=True,\n",
    "                          merge_type='inner', recalc_period=False, prime=True, use_bands=['v', 'g'],\n",
    "                          only_sources_with_spectra=False)"
   ],
   "outputs": []
  },
  {
   "cell_type": "code",
   "execution_count": 15,
   "id": "6db964de-c740-48c9-9fbd-a719bf1add54",
   "metadata": {},
   "source": [
    "total_flux_v = ds[0]['lcs'][0][0][:, 1]\n",
    "total_flux_g = ds[0]['lcs'][0][1][:, 1]"
   ],
   "outputs": []
  },
  {
   "cell_type": "code",
   "execution_count": 16,
   "id": "efebeaef-15da-4755-a0f7-253b3c81c61c",
   "metadata": {},
   "source": [
    "indx = random.sample(range(1, len(ds)), 999)"
   ],
   "outputs": []
  },
  {
   "cell_type": "code",
   "execution_count": 17,
   "id": "60210469-ceca-4748-9b7c-33ce84639f2c",
   "metadata": {},
   "source": [
    "for i in tqdm(indx):\n",
    "    flux_v = ds[i]['lcs'][0][0][:, 1]\n",
    "    flux_g = ds[i]['lcs'][0][1][:, 1]\n",
    "\n",
    "    total_flux_v = np.concatenate((total_flux_v, flux_v))\n",
    "    total_flux_g = np.concatenate((total_flux_g, flux_g))"
   ],
   "outputs": []
  },
  {
   "cell_type": "code",
   "execution_count": 18,
   "id": "cbd43161-1a56-4db4-aead-a244bca0b171",
   "metadata": {},
   "source": [
    "len(total_flux_v), len(total_flux_g)"
   ],
   "outputs": []
  },
  {
   "cell_type": "code",
   "execution_count": 19,
   "id": "47864799-25e0-485a-84ec-859d550c956e",
   "metadata": {},
   "source": [
    "total_flux_v.mean(), total_flux_v.std()"
   ],
   "outputs": []
  },
  {
   "cell_type": "code",
   "execution_count": 20,
   "id": "02c5fec8-98ad-4d9c-b81a-fd6d6fc5de9e",
   "metadata": {},
   "source": [
    "total_flux_g.mean(), total_flux_g.std()"
   ],
   "outputs": []
  },
  {
   "cell_type": "code",
   "execution_count": 21,
   "id": "a1d3fb52-4ee4-4f21-876f-e02901b13a1c",
   "metadata": {},
   "source": [
    "res = {\n",
    "    'v': {'mean': total_flux_v.mean(), 'std': total_flux_v.std()},\n",
    "    'g': {'mean': total_flux_g.mean(), 'std': total_flux_g.std()}\n",
    "}"
   ],
   "outputs": []
  },
  {
   "cell_type": "code",
   "execution_count": 22,
   "id": "6d78dbd3-940d-4034-b036-df74e42a7658",
   "metadata": {},
   "source": [
    "with open(os.path.join(datapath, 'scales.json'), 'w') as file:\n",
    "    json.dump(res, file)"
   ],
   "outputs": []
  },
  {
   "cell_type": "code",
   "execution_count": 23,
   "id": "4ed17c94-537e-484b-9de6-9ad3948f96a3",
   "metadata": {},
   "source": [
    "ds.data_root / 'scales.json'"
   ],
   "outputs": []
  },
  {
   "cell_type": "code",
   "execution_count": null,
   "id": "d10d2930-e64f-4c21-95c3-89a43c2b1b34",
   "metadata": {},
   "source": [],
   "outputs": []
  }
 ],
 "metadata": {
  "kernelspec": {
   "display_name": "Python 3 (ipykernel)",
   "language": "python",
   "name": "python3"
  },
  "language_info": {
   "codemirror_mode": {
    "name": "ipython",
    "version": 3
   },
   "file_extension": ".py",
   "mimetype": "text/x-python",
   "name": "python",
   "nbconvert_exporter": "python",
   "pygments_lexer": "ipython3",
   "version": "3.10.14"
  }
 },
 "nbformat": 4,
 "nbformat_minor": 5
}

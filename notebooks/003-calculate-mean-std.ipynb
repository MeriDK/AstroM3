{
 "cells": [
  {
   "cell_type": "code",
   "execution_count": 21,
   "id": "85544663-9500-444a-ac55-0ae2f7faf32e",
   "metadata": {},
   "outputs": [],
   "source": [
    "import sys\n",
    "\n",
    "sys.path.insert(0, '..')"
   ]
  },
  {
   "cell_type": "code",
   "execution_count": 17,
   "id": "37fdf2d5-10f0-4d03-be00-1af5c3d0c1bc",
   "metadata": {},
   "outputs": [],
   "source": [
    "from pathlib import Path\n",
    "import numpy as np\n",
    "from torch.utils.data import DataLoader\n",
    "from core.dataset_multimodal import collate_fn, ASASSNVarStarDataset\n",
    "from functools import partial\n",
    "import matplotlib.pyplot as plt\n",
    "import time\n",
    "from tqdm import tqdm\n",
    "import random\n",
    "import numpy as np\n",
    "import json\n",
    "import os"
   ]
  },
  {
   "cell_type": "code",
   "execution_count": 3,
   "id": "a26dbdb0-0863-4443-ad83-5ffe7384c2fd",
   "metadata": {},
   "outputs": [],
   "source": [
    "random.seed(42)"
   ]
  },
  {
   "cell_type": "code",
   "execution_count": 4,
   "id": "b956a80f-e6b7-4c23-a23d-74bd28b1194a",
   "metadata": {},
   "outputs": [
    {
     "name": "stdout",
     "output_type": "stream",
     "text": [
      "Opening v data files... Found 687695 sources. done.\n",
      "Opening g data files... Found 378861 sources. done.\n",
      "Opening spectra csv... done.\n",
      "Removing duplicates for v band... Left with 675811. done.\n",
      "Removing duplicates for g band... Left with 378823. done.\n",
      "Merging bands... done. Now 268730 sources.\n",
      "Removed non-periodic sources. Now 219897 sources.\n",
      "Total: 219897, Train: 175917, Val: 21989, Test: 21991\n",
      "Priming tarballs by doing initial scan... done.\n"
     ]
    }
   ],
   "source": [
    "datapath = Path('../data/asaasn')\n",
    "ds = ASASSNVarStarDataset(datapath, mode='train', verbose=True, only_periodic=True,\n",
    "                          merge_type='inner', recalc_period=False, prime=True, use_bands=['v', 'g'],\n",
    "                          only_sources_with_spectra=False)"
   ]
  },
  {
   "cell_type": "code",
   "execution_count": 8,
   "id": "6db964de-c740-48c9-9fbd-a719bf1add54",
   "metadata": {},
   "outputs": [],
   "source": [
    "total_flux_v = ds[0]['lcs'][0][0][:, 1]\n",
    "total_flux_g = ds[0]['lcs'][0][1][:, 1]"
   ]
  },
  {
   "cell_type": "code",
   "execution_count": 6,
   "id": "efebeaef-15da-4755-a0f7-253b3c81c61c",
   "metadata": {},
   "outputs": [],
   "source": [
    "indx = random.sample(range(1, len(ds)), 999)"
   ]
  },
  {
   "cell_type": "code",
   "execution_count": 9,
   "id": "60210469-ceca-4748-9b7c-33ce84639f2c",
   "metadata": {},
   "outputs": [
    {
     "name": "stderr",
     "output_type": "stream",
     "text": [
      "100%|███████████████████████████████████████████████████████████████| 999/999 [01:26<00:00, 11.56it/s]\n"
     ]
    }
   ],
   "source": [
    "for i in tqdm(indx):\n",
    "    flux_v = ds[i]['lcs'][0][0][:, 1]\n",
    "    flux_g = ds[i]['lcs'][0][1][:, 1]\n",
    "\n",
    "    total_flux_v = np.concatenate((total_flux_v, flux_v))\n",
    "    total_flux_g = np.concatenate((total_flux_g, flux_g))"
   ]
  },
  {
   "cell_type": "code",
   "execution_count": 10,
   "id": "cbd43161-1a56-4db4-aead-a244bca0b171",
   "metadata": {},
   "outputs": [
    {
     "data": {
      "text/plain": [
       "(946850, 519599)"
      ]
     },
     "execution_count": 10,
     "metadata": {},
     "output_type": "execute_result"
    }
   ],
   "source": [
    "len(total_flux_v), len(total_flux_g)"
   ]
  },
  {
   "cell_type": "code",
   "execution_count": 11,
   "id": "47864799-25e0-485a-84ec-859d550c956e",
   "metadata": {},
   "outputs": [
    {
     "data": {
      "text/plain": [
       "(19.19374651317585, 18.637131647187786)"
      ]
     },
     "execution_count": 11,
     "metadata": {},
     "output_type": "execute_result"
    }
   ],
   "source": [
    "total_flux_v.mean(), total_flux_v.std()"
   ]
  },
  {
   "cell_type": "code",
   "execution_count": 12,
   "id": "02c5fec8-98ad-4d9c-b81a-fd6d6fc5de9e",
   "metadata": {},
   "outputs": [
    {
     "data": {
      "text/plain": [
       "(9.255897176476472, 13.29101329113628)"
      ]
     },
     "execution_count": 12,
     "metadata": {},
     "output_type": "execute_result"
    }
   ],
   "source": [
    "total_flux_g.mean(), total_flux_g.std()"
   ]
  },
  {
   "cell_type": "code",
   "execution_count": 14,
   "id": "a1d3fb52-4ee4-4f21-876f-e02901b13a1c",
   "metadata": {},
   "outputs": [],
   "source": [
    "res = {\n",
    "    'v': {'mean': total_flux_v.mean(), 'std': total_flux_v.std()},\n",
    "    'g': {'mean': total_flux_g.mean(), 'std': total_flux_g.std()}\n",
    "}"
   ]
  },
  {
   "cell_type": "code",
   "execution_count": 18,
   "id": "6d78dbd3-940d-4034-b036-df74e42a7658",
   "metadata": {},
   "outputs": [],
   "source": [
    "with open(os.path.join(datapath, 'scales.json'), 'w') as file:\n",
    "    json.dump(res, file)"
   ]
  },
  {
   "cell_type": "code",
   "execution_count": 20,
   "id": "4ed17c94-537e-484b-9de6-9ad3948f96a3",
   "metadata": {},
   "outputs": [
    {
     "data": {
      "text/plain": [
       "PosixPath('../data/asaasn/scales.json')"
      ]
     },
     "execution_count": 20,
     "metadata": {},
     "output_type": "execute_result"
    }
   ],
   "source": [
    "ds.data_root / 'scales.json'"
   ]
  },
  {
   "cell_type": "code",
   "execution_count": null,
   "id": "d10d2930-e64f-4c21-95c3-89a43c2b1b34",
   "metadata": {},
   "outputs": [],
   "source": []
  }
 ],
 "metadata": {
  "kernelspec": {
   "display_name": "Python 3 (ipykernel)",
   "language": "python",
   "name": "python3"
  },
  "language_info": {
   "codemirror_mode": {
    "name": "ipython",
    "version": 3
   },
   "file_extension": ".py",
   "mimetype": "text/x-python",
   "name": "python",
   "nbconvert_exporter": "python",
   "pygments_lexer": "ipython3",
   "version": "3.10.12"
  }
 },
 "nbformat": 4,
 "nbformat_minor": 5
}

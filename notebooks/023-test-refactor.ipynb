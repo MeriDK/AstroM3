{
 "cells": [
  {
   "cell_type": "code",
   "execution_count": 191,
   "id": "512bc775-0b28-4503-aeb2-17f7e7c07ed1",
   "metadata": {},
   "source": [
    "import sys\n",
    "sys.path.insert(0, '..')\n",
    "\n",
    "import torch\n",
    "import os\n",
    "import wandb\n",
    "import random\n",
    "import numpy as np\n",
    "import torch\n",
    "from torch import nn\n",
    "from torch.optim import Adam\n",
    "from torch.optim.lr_scheduler import ExponentialLR, CosineAnnealingLR, StepLR, SequentialLR, LinearLR\n",
    "from ignite.handlers.param_scheduler import create_lr_scheduler_with_warmup\n",
    "from torch.utils.data import DataLoader\n",
    "from datetime import datetime\n",
    "import matplotlib.pyplot as plt\n",
    "import pandas as pd\n",
    "from scipy import stats\n",
    "\n",
    "from core.final.dataset import PSMDataset\n",
    "from core.final.model import GalSpecNet, MetaModel, Informer\n",
    "\n",
    "from core.multimodal.dataset2 import VPSMDatasetV2\n",
    "from core.multimodal.model import ModelV1\n",
    "\n",
    "from core.data.utils import preprocess_spectra, readLRSFits, preprocess_lc, get_vlc, add_noise, aug_metadata\n",
    "\n",
    "# from core.metadata.model import MetaClassifier\n",
    "# from models.Informer import Informer"
   ],
   "outputs": []
  },
  {
   "cell_type": "code",
   "execution_count": null,
   "id": "328f86f5-330e-430c-9557-53eaf14bb4eb",
   "metadata": {},
   "source": [],
   "outputs": []
  },
  {
   "cell_type": "code",
   "execution_count": null,
   "id": "509d5241-2b00-4456-8cbf-8f279b537894",
   "metadata": {},
   "source": [],
   "outputs": []
  },
  {
   "cell_type": "code",
   "execution_count": null,
   "id": "ccb4e566-0cfd-4bb0-b589-ad16b9c202e7",
   "metadata": {},
   "source": [],
   "outputs": []
  },
  {
   "cell_type": "code",
   "execution_count": null,
   "id": "43fc0b3b-cc30-4475-9b7f-e264e045e37a",
   "metadata": {},
   "source": [],
   "outputs": []
  },
  {
   "cell_type": "code",
   "execution_count": null,
   "id": "aa4716df-b62f-4b28-89b6-0cde1d65a360",
   "metadata": {},
   "source": [],
   "outputs": []
  },
  {
   "cell_type": "code",
   "execution_count": null,
   "id": "3eb726fa-f2f6-4ed8-afb2-180c9c0b79cb",
   "metadata": {},
   "source": [],
   "outputs": []
  },
  {
   "cell_type": "code",
   "execution_count": 17,
   "id": "8cd43320-9f94-4371-8772-019ec56d34ad",
   "metadata": {},
   "source": [
    "df1 = pd.read_csv('/home/mariia/AstroML/data/asassn/preprocessed_data/full/spectra_and_v_train.csv')\n",
    "df2 = pd.read_csv('/home/mariia/AstroML/data/asassn/preprocessed_data/full/spectra_and_v_train_norm.csv')"
   ],
   "outputs": []
  },
  {
   "cell_type": "code",
   "execution_count": 18,
   "id": "6b3486ea-a1b0-4283-9a22-4067657852df",
   "metadata": {},
   "source": [
    "df1['period']"
   ],
   "outputs": []
  },
  {
   "cell_type": "code",
   "execution_count": 19,
   "id": "618e8bfb-240f-4cf7-8ac6-787eff2f06f3",
   "metadata": {},
   "source": [
    "df2['period']"
   ],
   "outputs": []
  },
  {
   "cell_type": "code",
   "execution_count": null,
   "id": "8fdc6652-7e61-4bdc-8cdd-5bd68201b9cd",
   "metadata": {},
   "source": [],
   "outputs": []
  },
  {
   "cell_type": "code",
   "execution_count": null,
   "id": "52690e78-d6d8-4efe-ae9a-bc31eaae1687",
   "metadata": {},
   "source": [],
   "outputs": []
  },
  {
   "cell_type": "code",
   "execution_count": null,
   "id": "aa898649-08f9-4e6e-9332-31a9d2a33275",
   "metadata": {},
   "source": [],
   "outputs": []
  },
  {
   "cell_type": "code",
   "execution_count": null,
   "id": "548a75ee-b5b3-45dc-b3f9-15531d675297",
   "metadata": {},
   "source": [],
   "outputs": []
  },
  {
   "cell_type": "code",
   "execution_count": null,
   "id": "93f0b60b-98fa-48f2-b936-6a7f26b999d1",
   "metadata": {},
   "source": [],
   "outputs": []
  },
  {
   "cell_type": "code",
   "execution_count": null,
   "id": "1a69c7d2-17c8-4ffa-97bb-5837e96fa579",
   "metadata": {},
   "source": [],
   "outputs": []
  },
  {
   "cell_type": "code",
   "execution_count": 2,
   "id": "d7160330-5503-43e9-a2fb-922fcdcde683",
   "metadata": {},
   "source": [
    "CLASSES = ['EW', 'SR', 'EA', 'RRAB', 'EB', 'ROT', 'RRC', 'HADS', 'M', 'DSCT']\n",
    "METADATA_COLS = [\n",
    "    'mean_vmag', 'amplitude', 'period', 'phot_g_mean_mag', 'e_phot_g_mean_mag', 'lksl_statistic',\n",
    "    'rfr_score', 'phot_bp_mean_mag', 'e_phot_bp_mean_mag', 'phot_rp_mean_mag', 'e_phot_rp_mean_mag',\n",
    "    'bp_rp', 'parallax', 'parallax_error', 'parallax_over_error', 'pmra', 'pmra_error', 'pmdec',\n",
    "    'pmdec_error', 'j_mag', 'e_j_mag', 'h_mag', 'e_h_mag', 'k_mag', 'e_k_mag', 'w1_mag', 'e_w1_mag',\n",
    "    'w2_mag', 'e_w2_mag', 'w3_mag', 'w4_mag', 'j_k', 'w1_w2', 'w3_w4', 'pm', 'ruwe'\n",
    "]"
   ],
   "outputs": []
  },
  {
   "cell_type": "code",
   "execution_count": 192,
   "id": "cde51737-8542-4670-b350-438203e57819",
   "metadata": {},
   "source": [
    "def get_config(random_seed):\n",
    "    config = {\n",
    "        'project': 'AstroCLIP',     # 'AstroCLIP', 'AstroCLIPResults'\n",
    "        'training_mode': 'clip',      # 'clip', 'classification'\n",
    "        'model': 'ModelV1',  # 'ModelV0' or 'ModelV1'\n",
    "        'random_seed': random_seed,\n",
    "        'use_wandb': True,\n",
    "        'save_weights': True,\n",
    "        'weights_path': f'/home/mariia/AstroML/weights/{datetime.now().strftime(\"%Y-%m-%d-%H-%M\")}',\n",
    "        # 'use_pretrain': '/home/mariia/AstroML/weights/2024-07-25-14-18-es6hl0nb/weights-41.pth',\n",
    "        'use_pretrain': None,\n",
    "        'freeze': False,\n",
    "        'fusion': 'avg',    # 'avg', 'concat'\n",
    "\n",
    "        # Data General\n",
    "        'dataset': 'VPSMDatasetV2',     # 'VPSMDataset' or 'VPSMDatasetV2'\n",
    "        'data_root': '/home/mariia/AstroML/data/asassn/',\n",
    "        'file': 'preprocessed_data/full/spectra_and_v',\n",
    "        'classes': CLASSES,\n",
    "        'min_samples': None,\n",
    "        'max_samples': None,\n",
    "        'noise': False,  # for train data only\n",
    "        'noise_coef': 2,\n",
    "\n",
    "        # Photometry\n",
    "        'v_zip': 'asassnvarlc_vband_complete.zip',\n",
    "        'v_prefix': 'vardb_files',\n",
    "        'seq_len': 200,\n",
    "        'phased': True,\n",
    "        'clip': False,\n",
    "        'aux': True,\n",
    "\n",
    "        # Spectra\n",
    "        'lamost_spec_dir': 'Spectra/v2',\n",
    "        'spectra_v_file': 'spectra_v_merged.csv',\n",
    "        'z_corr': False,\n",
    "\n",
    "        # Photometry Model\n",
    "        'p_encoder_layers': 8,\n",
    "        'p_d_model': 128,\n",
    "        'p_dropout': 0.2,\n",
    "        'p_feature_size': 3,\n",
    "        'p_n_heads': 4,\n",
    "        'p_d_ff': 512,\n",
    "\n",
    "        # Spectra Model\n",
    "        's_hidden_dim': 512,\n",
    "        's_dropout': 0.2,\n",
    "\n",
    "        # Metadata Model\n",
    "        'm_hidden_dim': 512,\n",
    "        'm_dropout': 0.2,\n",
    "\n",
    "        # MultiModal Model\n",
    "        'hidden_dim': 1024,\n",
    "        'ps_coef': 1,\n",
    "        'mp_coef': 1,\n",
    "        'sm_coef': 1,\n",
    "\n",
    "        # Training\n",
    "        'batch_size': 64,\n",
    "        'lr': 1e-3,\n",
    "        'weight_decay': 1e-3,\n",
    "        'epochs': 100,\n",
    "        'optimizer': 'AdamW',\n",
    "        'early_stopping_patience': 10,\n",
    "\n",
    "        # Learning Rate Scheduler\n",
    "        'factor': 0.3,\n",
    "        'patience': 5,\n",
    "    }\n",
    "\n",
    "    if config['aux']:\n",
    "        config['p_feature_size'] += 4\n",
    "\n",
    "    return config"
   ],
   "outputs": []
  },
  {
   "cell_type": "code",
   "execution_count": 193,
   "id": "eaaae55c-9836-43fc-9a38-fafdf569e211",
   "metadata": {},
   "source": [
    "config = get_config(42)"
   ],
   "outputs": []
  },
  {
   "cell_type": "code",
   "execution_count": 5,
   "id": "a186abee-ade3-4aa3-bbec-fff97a8a2b8a",
   "metadata": {},
   "source": [
    "train1 = VPSMDatasetV2(\n",
    "    split='train', data_root=config['data_root'], file=config['file'], v_zip=config['v_zip'],\n",
    "    v_prefix=config['v_prefix'], lamost_spec_dir=config['lamost_spec_dir'], min_samples=config['min_samples'],\n",
    "    max_samples=config['max_samples'], classes=config['classes'], seq_len=config['seq_len'],\n",
    "    phased=config['phased'], clip=config['clip'], aux=config['aux'], z_corr=config['z_corr'],\n",
    "    random_seed=config['random_seed'], noise=config['noise'], noise_coef=config['noise_coef'],\n",
    ")\n",
    "val1 = VPSMDatasetV2(\n",
    "    split='val', data_root=config['data_root'], file=config['file'], v_zip=config['v_zip'],\n",
    "    v_prefix=config['v_prefix'], lamost_spec_dir=config['lamost_spec_dir'], min_samples=config['min_samples'],\n",
    "    max_samples=config['max_samples'], classes=config['classes'], seq_len=config['seq_len'],\n",
    "    phased=config['phased'], clip=config['clip'], aux=config['aux'], z_corr=config['z_corr'],\n",
    "    random_seed=config['random_seed'], noise=False,\n",
    ")"
   ],
   "outputs": []
  },
  {
   "cell_type": "code",
   "execution_count": 194,
   "id": "37e70988-2e72-45f5-9f77-b3d5ffd29f78",
   "metadata": {},
   "source": [
    "config['meta_cols'] = METADATA_COLS\n",
    "config['mode'] = 'all'"
   ],
   "outputs": []
  },
  {
   "cell_type": "code",
   "execution_count": 195,
   "id": "3af90e1d-de19-447d-94f0-f2f068d538ce",
   "metadata": {},
   "source": [
    "train2 = PSMDataset(config, split='train')\n",
    "val2 = PSMDataset(config, split='val')"
   ],
   "outputs": []
  },
  {
   "cell_type": "code",
   "execution_count": 8,
   "id": "949f60bd-bed4-4107-b887-93173ec765e7",
   "metadata": {},
   "source": [
    "len(train1) == len(train2), len(val1) == len(val2)"
   ],
   "outputs": []
  },
  {
   "cell_type": "code",
   "execution_count": null,
   "id": "f45c9767-f3df-450f-8fce-6bf16a248004",
   "metadata": {},
   "source": [],
   "outputs": []
  },
  {
   "cell_type": "code",
   "execution_count": 9,
   "id": "9e73e49b-e851-4655-a503-9c3f8abb88b6",
   "metadata": {},
   "source": [
    "idx = 100\n",
    "photometry1, photometry_mask1, spectra1, metadata1, label1 = val1[idx]\n",
    "photometry2, photometry_mask2, spectra2, metadata2, label2 = val2[idx]"
   ],
   "outputs": []
  },
  {
   "cell_type": "code",
   "execution_count": 10,
   "id": "06795fa8-6b2d-4b0b-a63d-053d60d70eea",
   "metadata": {},
   "source": [
    "np.array_equal(photometry1, photometry2)"
   ],
   "outputs": []
  },
  {
   "cell_type": "code",
   "execution_count": 11,
   "id": "52f9e457-ae82-4508-9e9b-3746f7a5d72f",
   "metadata": {},
   "source": [
    "np.array_equal(photometry_mask1, photometry_mask2)"
   ],
   "outputs": []
  },
  {
   "cell_type": "code",
   "execution_count": 12,
   "id": "bf1cf03d-7a34-4098-bbfb-6b49aa1b42a3",
   "metadata": {},
   "source": [
    "np.array_equal(spectra1, spectra2)"
   ],
   "outputs": []
  },
  {
   "cell_type": "code",
   "execution_count": 13,
   "id": "4ba07a6b-feb1-4291-b2d0-deb8f140d89a",
   "metadata": {},
   "source": [
    "np.array_equal(metadata1, metadata2)"
   ],
   "outputs": []
  },
  {
   "cell_type": "code",
   "execution_count": 14,
   "id": "793d8246-a713-4593-9ad1-0907ceb3d7c1",
   "metadata": {},
   "source": [
    "np.array_equal(label1, label2)"
   ],
   "outputs": []
  },
  {
   "cell_type": "code",
   "execution_count": null,
   "id": "9285d9fe-4ee0-42e9-9c17-2a003880260c",
   "metadata": {},
   "source": [],
   "outputs": []
  },
  {
   "cell_type": "code",
   "execution_count": null,
   "id": "7dcf3c71-1687-42c0-99f7-97731a2d1fe9",
   "metadata": {},
   "source": [],
   "outputs": []
  },
  {
   "cell_type": "code",
   "execution_count": null,
   "id": "5965e8ff-fe2c-4413-8bfb-c45bb3e5518f",
   "metadata": {},
   "source": [],
   "outputs": []
  },
  {
   "cell_type": "code",
   "execution_count": 190,
   "id": "805ed7a1-51f4-41d3-bdf4-9497e0d7e95d",
   "metadata": {},
   "source": [
    "photometry.shape"
   ],
   "outputs": []
  },
  {
   "cell_type": "code",
   "execution_count": 38,
   "id": "f1d7b1f5-6c64-459f-a7b2-94db548466eb",
   "metadata": {},
   "source": [
    "metadata"
   ],
   "outputs": []
  },
  {
   "cell_type": "code",
   "execution_count": 37,
   "id": "426bef86-d98a-41b7-9cc1-c2a266fe90a9",
   "metadata": {},
   "source": [
    "photometry, photometry_mask, spectra, metadata, label = train2[1]\n",
    "plt.plot(spectra[0])"
   ],
   "outputs": []
  },
  {
   "cell_type": "code",
   "execution_count": 34,
   "id": "6e2e470c-679d-40d0-972f-300bcae2cb78",
   "metadata": {},
   "source": [
    "plt.plot(spectra[0])"
   ],
   "outputs": []
  },
  {
   "cell_type": "code",
   "execution_count": 8,
   "id": "f07dee93-dd28-4154-865d-30db2bf5a347",
   "metadata": {},
   "source": [
    "plt.plot(photometry[:, 0], photometry[:, 1])"
   ],
   "outputs": []
  },
  {
   "cell_type": "code",
   "execution_count": 10,
   "id": "bf82e16e-fd4c-4bd0-b99b-cb8ef93fddd6",
   "metadata": {},
   "source": [
    "i = 1\n",
    "el = train2.df.iloc[i]\n",
    "photometry = train2.get_vlc(el['name'])\n",
    "spectra = train2.readLRSFits(os.path.join(train2.lamost_spec_dir, el['spec_filename']))\n",
    "metadata = el[train2.meta_cols].values.astype(np.float32)"
   ],
   "outputs": []
  },
  {
   "cell_type": "code",
   "execution_count": 11,
   "id": "dab6f650-c390-4945-a580-5dcd56697887",
   "metadata": {},
   "source": [
    "plt.plot(photometry[:, 0], photometry[:, 1])"
   ],
   "outputs": []
  },
  {
   "cell_type": "code",
   "execution_count": 12,
   "id": "ab869fbf-61be-4a0b-ab89-4e789db860ca",
   "metadata": {},
   "source": [
    "sorted_indices = np.argsort(photometry[:, 0])\n",
    "X = photometry[sorted_indices]"
   ],
   "outputs": []
  },
  {
   "cell_type": "code",
   "execution_count": 13,
   "id": "9cc70bc7-0f0b-4cce-a3b2-711f279561ea",
   "metadata": {},
   "source": [
    "plt.plot(X[:, 0], X[:, 1])"
   ],
   "outputs": []
  },
  {
   "cell_type": "code",
   "execution_count": 14,
   "id": "d665332c-40dc-4b97-ba91-632d9a4c909a",
   "metadata": {},
   "source": [
    "# Normalize\n",
    "mean = X[:, 1].mean()\n",
    "std = stats.median_abs_deviation(X[:, 1])\n",
    "# X[:, 0] = (X[:, 0] - X[:, 0].min()) / (X[:, 0].max() - X[:, 0].min())\n",
    "X[:, 1] = (X[:, 1] - mean) / std\n",
    "X[:, 2] = X[:, 2] / std"
   ],
   "outputs": []
  },
  {
   "cell_type": "code",
   "execution_count": 15,
   "id": "11645c38-8061-43fd-9581-7646c3f6b083",
   "metadata": {},
   "source": [
    "plt.plot(X[:, 0], X[:, 1])"
   ],
   "outputs": []
  },
  {
   "cell_type": "code",
   "execution_count": 17,
   "id": "0050a5e9-24a6-4fa1-a35a-268be1dbe8e4",
   "metadata": {},
   "source": [
    "# Trim if longer than seq_len\n",
    "seq_len = 200\n",
    "\n",
    "if X.shape[0] > seq_len:\n",
    "    start = np.random.randint(0, len(X) - seq_len)\n",
    "    X = X[start:start + seq_len, :]"
   ],
   "outputs": []
  },
  {
   "cell_type": "code",
   "execution_count": 18,
   "id": "570e1183-bfd6-471a-96a7-04624dc6c2f5",
   "metadata": {},
   "source": [
    "plt.plot(X[:, 0], X[:, 1])"
   ],
   "outputs": []
  },
  {
   "cell_type": "code",
   "execution_count": 21,
   "id": "af85a20c-18c0-46dc-b243-d9a9b504669c",
   "metadata": {},
   "source": [
    "real_period = 0.412779\n",
    "X = np.vstack(((X[:, 0] % real_period) / real_period, X[:, 1], X[:, 2])).T"
   ],
   "outputs": []
  },
  {
   "cell_type": "code",
   "execution_count": 22,
   "id": "c9a13fb2-ee7d-4bea-bc99-a6e2574696b0",
   "metadata": {},
   "source": [
    "plt.plot(X[:, 0], X[:, 1])"
   ],
   "outputs": []
  },
  {
   "cell_type": "code",
   "execution_count": 23,
   "id": "39772dd1-cc6f-474d-83c9-f28cb7915721",
   "metadata": {},
   "source": [
    "sorted_indices = np.argsort(X[:, 0])\n",
    "X = X[sorted_indices]"
   ],
   "outputs": []
  },
  {
   "cell_type": "code",
   "execution_count": 24,
   "id": "c0eccdf8-a61b-4511-94b9-0a94b65243e5",
   "metadata": {},
   "source": [
    "plt.plot(X[:, 0], X[:, 1])"
   ],
   "outputs": []
  },
  {
   "cell_type": "code",
   "execution_count": 27,
   "id": "157e6986-4be9-42d5-a4b8-39b840ebf737",
   "metadata": {},
   "source": [
    "photometry, photometry_mask, spectra, metadata, label = train2[i]\n",
    "plt.plot(photometry[:, 0], photometry[:, 1], '.')"
   ],
   "outputs": []
  },
  {
   "cell_type": "code",
   "execution_count": null,
   "id": "9c21c709-b4f4-49c6-abb8-480ec974a164",
   "metadata": {},
   "source": [],
   "outputs": []
  },
  {
   "cell_type": "code",
   "execution_count": null,
   "id": "25964a5f-2850-44ea-9a2d-120e1b6e1dd5",
   "metadata": {},
   "source": [],
   "outputs": []
  },
  {
   "cell_type": "code",
   "execution_count": null,
   "id": "e296c19f-5bea-4e6b-9e87-b6a547e0c7a6",
   "metadata": {},
   "source": [],
   "outputs": []
  },
  {
   "cell_type": "code",
   "execution_count": null,
   "id": "3e0bec50-508b-406b-8608-2eb4abeb679d",
   "metadata": {},
   "source": [],
   "outputs": []
  },
  {
   "cell_type": "code",
   "execution_count": null,
   "id": "ca8c993d-b7ff-443b-a65d-6fdd953a99ba",
   "metadata": {},
   "source": [],
   "outputs": []
  },
  {
   "cell_type": "code",
   "execution_count": null,
   "id": "5a7be9ae-c627-48c2-ae96-4c90c8449ddc",
   "metadata": {},
   "source": [],
   "outputs": []
  },
  {
   "cell_type": "code",
   "execution_count": 12,
   "id": "03b6708b-be47-40f5-9581-8d3502430290",
   "metadata": {},
   "source": [
    "X = photometry.copy()\n",
    "\n",
    "sorted_indices = np.argsort(X[:, 0])\n",
    "X = X[sorted_indices]\n",
    "\n",
    "period = el['period']\n",
    "X = np.vstack(((X[:, 0] % period) / period, X[:, 1], X[:, 2])).T"
   ],
   "outputs": []
  },
  {
   "cell_type": "code",
   "execution_count": 28,
   "id": "1dae4305-72f7-4240-8266-6509455d4da4",
   "metadata": {},
   "source": [
    "plt.plot(X[:, 0], X[:, 1])"
   ],
   "outputs": []
  },
  {
   "cell_type": "code",
   "execution_count": null,
   "id": "c7f6f90a-b9bb-4780-af10-732751aaddeb",
   "metadata": {},
   "source": [],
   "outputs": []
  },
  {
   "cell_type": "code",
   "execution_count": 24,
   "id": "256872b4-3435-42f9-b87d-fb7b1f265cc3",
   "metadata": {},
   "source": [
    "period"
   ],
   "outputs": []
  },
  {
   "cell_type": "code",
   "execution_count": 25,
   "id": "e03ba347-ee92-47a7-b013-9943814e5c92",
   "metadata": {},
   "source": [
    "real_period = 0.369614\n",
    "X2 = np.vstack(((X[:, 0] % real_period) / real_period, X[:, 1], X[:, 2])).T"
   ],
   "outputs": []
  },
  {
   "cell_type": "code",
   "execution_count": 27,
   "id": "3460b09a-a5cb-45d3-a4e8-26d6d9724293",
   "metadata": {},
   "source": [
    "plt.plot(X2[:, 0], X2[:, 1])"
   ],
   "outputs": []
  },
  {
   "cell_type": "code",
   "execution_count": null,
   "id": "b6d0fb1a-ce1b-4ed9-8fa3-ebd6a202bae2",
   "metadata": {},
   "source": [],
   "outputs": []
  },
  {
   "cell_type": "code",
   "execution_count": null,
   "id": "89e87310-8ff6-4ad6-bb59-fb73885b6d6c",
   "metadata": {},
   "source": [],
   "outputs": []
  },
  {
   "cell_type": "code",
   "execution_count": null,
   "id": "db2a0d1e-08d8-4d0d-9a60-c46c8f62b504",
   "metadata": {},
   "source": [],
   "outputs": []
  },
  {
   "cell_type": "code",
   "execution_count": null,
   "id": "0c5ddde5-912a-4424-abea-659e6769e2e6",
   "metadata": {},
   "source": [],
   "outputs": []
  },
  {
   "cell_type": "code",
   "execution_count": null,
   "id": "a2424bb3-4790-44ef-a90e-cdc987887a12",
   "metadata": {},
   "source": [],
   "outputs": []
  },
  {
   "cell_type": "code",
   "execution_count": null,
   "id": "5ac010d1-9466-43e2-a1c9-a87e998ed383",
   "metadata": {},
   "source": [],
   "outputs": []
  },
  {
   "cell_type": "code",
   "execution_count": null,
   "id": "ea306222-1887-4997-bba2-2f61086c8ebf",
   "metadata": {},
   "source": [],
   "outputs": []
  },
  {
   "cell_type": "code",
   "execution_count": 15,
   "id": "bd78458f-aecb-4055-9e2a-da591bacf87f",
   "metadata": {},
   "source": [
    "old_model = ModelV1(config)"
   ],
   "outputs": []
  },
  {
   "cell_type": "code",
   "execution_count": 16,
   "id": "6036fa66-c06f-47d1-97b7-384fd281e17d",
   "metadata": {},
   "source": [
    "old_model.spectra_encoder"
   ],
   "outputs": []
  },
  {
   "cell_type": "code",
   "execution_count": 196,
   "id": "b1f4664b-8f76-4e4d-948a-3520e0f2c2c0",
   "metadata": {},
   "source": [
    "config['num_classes'] = 10\n",
    "config['s_use_classification'] = True\n",
    "config['s_conv_channels'] = [1, 64, 64, 32, 32]\n",
    "config['s_kernel_size'] = 3\n",
    "config['s_mp_kernel_size'] = 4"
   ],
   "outputs": []
  },
  {
   "cell_type": "code",
   "execution_count": 197,
   "id": "c4f3903d-98d4-42ed-a42e-a8d79eafebbb",
   "metadata": {},
   "source": [
    "s_model = GalSpecNet(config)"
   ],
   "outputs": []
  },
  {
   "cell_type": "code",
   "execution_count": 198,
   "id": "6b767898-408c-4516-9764-0a36b1c0890e",
   "metadata": {},
   "source": [
    "s_model"
   ],
   "outputs": []
  },
  {
   "cell_type": "code",
   "execution_count": null,
   "id": "fe6fae4f-7b96-4bff-afe5-0fef6f5c0ffa",
   "metadata": {},
   "source": [],
   "outputs": []
  },
  {
   "cell_type": "code",
   "execution_count": 206,
   "id": "7bbb72d3-d401-42e9-b4dd-98c6200311c3",
   "metadata": {},
   "source": [
    "config['batch_size'] = 512"
   ],
   "outputs": []
  },
  {
   "cell_type": "code",
   "execution_count": 207,
   "id": "1494c637-0905-4b9f-8268-9def2deab3f6",
   "metadata": {},
   "source": [
    "train_dataloader = DataLoader(train2, batch_size=config['batch_size'], shuffle=False)"
   ],
   "outputs": []
  },
  {
   "cell_type": "code",
   "execution_count": 208,
   "id": "ad932f7f-9c28-4bef-96d2-773f4729dcf3",
   "metadata": {},
   "source": [
    "photometry, photometry_mask, spectra, metadata, label = next(iter(train_dataloader))"
   ],
   "outputs": []
  },
  {
   "cell_type": "code",
   "execution_count": 209,
   "id": "dccc244a-794b-427e-b8c0-1cb75591d365",
   "metadata": {},
   "source": [
    "spectra.shape"
   ],
   "outputs": []
  },
  {
   "cell_type": "code",
   "execution_count": 210,
   "id": "e3b6f763-f00f-4642-898c-2d1e899eda6b",
   "metadata": {},
   "source": [
    "for layer in s_model.layers:\n",
    "    spectra = layer(spectra)\n",
    "    print(layer, spectra.shape)"
   ],
   "outputs": []
  },
  {
   "cell_type": "code",
   "execution_count": 211,
   "id": "0e6f4d9b-de38-4a91-8dcc-6364d0e581ce",
   "metadata": {},
   "source": [
    "spectra = spectra.view(spectra.shape[0], -1)\n",
    "spectra.shape"
   ],
   "outputs": []
  },
  {
   "cell_type": "code",
   "execution_count": null,
   "id": "68aa5572-3b5d-4b91-a904-662da515dee5",
   "metadata": {},
   "source": [],
   "outputs": []
  },
  {
   "cell_type": "code",
   "execution_count": 20,
   "id": "ace19fd9-e0dc-44b5-9bbf-fb3a0aa83efd",
   "metadata": {},
   "source": [
    "config['m_use_classification'] = True"
   ],
   "outputs": []
  },
  {
   "cell_type": "code",
   "execution_count": 21,
   "id": "5b396180-5791-44ce-a750-0523df6f6f6c",
   "metadata": {},
   "source": [
    "m_model = MetaModel(config)"
   ],
   "outputs": []
  },
  {
   "cell_type": "code",
   "execution_count": 22,
   "id": "04d65d51-f245-4eeb-8896-e0f5cba2dc59",
   "metadata": {},
   "source": [
    "m_model"
   ],
   "outputs": []
  },
  {
   "cell_type": "code",
   "execution_count": 23,
   "id": "36d353f7-4abf-43a4-8cb3-17712b7edce0",
   "metadata": {},
   "source": [
    "old_model.metadata_encoder"
   ],
   "outputs": []
  },
  {
   "cell_type": "code",
   "execution_count": 28,
   "id": "daed80ae-dbfe-4791-92c5-d529544e715b",
   "metadata": {},
   "source": [
    "config['p_enc_in'] = 7    # feature size\n",
    "config['p_d_model'] = 128\n",
    "config['p_dropout'] = 0.2\n",
    "config['p_factor'] = 1\n",
    "config['p_output_attention'] = False\n",
    "config['p_n_heads'] = 4\n",
    "config['p_d_ff'] = 512\n",
    "config['p_activation'] = 'gelu'\n",
    "config['p_e_layers'] = 8"
   ],
   "outputs": []
  },
  {
   "cell_type": "code",
   "execution_count": 6,
   "id": "27855d62-3e9d-42b9-aace-f2a419f128f1",
   "metadata": {},
   "source": [
    "p_model = Informer(config)"
   ],
   "outputs": []
  },
  {
   "cell_type": "code",
   "execution_count": 33,
   "id": "4c4b862f-1eaf-4644-9575-3a81516e134d",
   "metadata": {},
   "source": [
    "str(p_model) == str(old_model.photometry_encoder)"
   ],
   "outputs": []
  },
  {
   "cell_type": "code",
   "execution_count": 171,
   "id": "b257ed6d-9fb1-440e-867d-b33a332de71f",
   "metadata": {},
   "source": [
    "lr_lambda = lambda epoch: epoch / base_lr * (base_lr - warmup_lr) / warmup_epochs"
   ],
   "outputs": []
  },
  {
   "cell_type": "code",
   "execution_count": 176,
   "id": "57550c42-c516-419c-ab99-656a78f524f3",
   "metadata": {},
   "source": [
    "base_lr = 1e-3\n",
    "warmup_lr = 1e-5\n",
    "warmup_epochs = 5\n",
    "\n",
    "optimizer = Adam(s_model.parameters(), lr=base_lr)\n",
    "scheduler1 = LambdaLR(optimizer, lr_lambda=lr_lambda)\n",
    "scheduler2 = ExponentialLR(optimizer, gamma=0.9)\n",
    "scheduler = SequentialLR(optimizer, schedulers=[scheduler1, scheduler2], milestones=[warmup_epochs])"
   ],
   "outputs": []
  },
  {
   "cell_type": "code",
   "execution_count": 177,
   "id": "bddd0f85-3af6-471b-98d0-c41deda36fda",
   "metadata": {},
   "source": [
    "lrs = []\n",
    "\n",
    "for i in range(30):\n",
    "    scheduler.step()\n",
    "    lrs.append(scheduler.get_last_lr()[0])"
   ],
   "outputs": []
  },
  {
   "cell_type": "code",
   "execution_count": 178,
   "id": "25ed4061-90cf-46d2-810f-e81db819d7b0",
   "metadata": {},
   "source": [
    "lrs[:8]"
   ],
   "outputs": []
  },
  {
   "cell_type": "code",
   "execution_count": 179,
   "id": "6468a805-8810-4696-950f-3c04e205e2cd",
   "metadata": {},
   "source": [
    "plt.plot(lrs)"
   ],
   "outputs": []
  },
  {
   "cell_type": "code",
   "execution_count": null,
   "id": "163a70b9-0662-4d89-98ee-ee961ff0b2ca",
   "metadata": {},
   "source": [
    "scheduler1 = ConstantLR(optimizer, factor=0.1, total_iters=2)\n",
    "scheduler2 = ExponentialLR(optimizer, gamma=0.9)\n",
    "scheduler = SequentialLR(optimizer, schedulers=[scheduler1, scheduler2], milestones=[2])\n",
    "\n",
    "for epoch in range(100):\n",
    "    scheduler.step()"
   ],
   "outputs": []
  },
  {
   "cell_type": "code",
   "execution_count": 184,
   "id": "f3d88be8-c1ff-4843-a4e8-9376bc4e588e",
   "metadata": {},
   "source": [
    "base_lr = 1e-3\n",
    "warmup_lr = 1e-5\n",
    "warmup_epochs = 5\n",
    "\n",
    "optimizer = Adam(s_model.parameters(), lr=warmup_lr)\n",
    "scheduler1 = StepLR(optimizer, step_size=1, gamma=1.5)\n",
    "scheduler2 = ExponentialLR(optimizer, gamma=0.9)\n",
    "scheduler = SequentialLR(optimizer, schedulers=[scheduler1, scheduler2], milestones=[warmup_epochs])"
   ],
   "outputs": []
  },
  {
   "cell_type": "code",
   "execution_count": 185,
   "id": "7e255098-3e6a-4704-abeb-3d89ec1a2cdb",
   "metadata": {},
   "source": [
    "lrs = []\n",
    "\n",
    "for i in range(30):\n",
    "    scheduler.step()\n",
    "    lrs.append(scheduler.get_last_lr()[0])\n",
    "\n",
    "plt.plot(lrs)"
   ],
   "outputs": []
  },
  {
   "cell_type": "code",
   "execution_count": null,
   "id": "c9530181-db2c-4545-9fab-fb0e429a59c7",
   "metadata": {},
   "source": [],
   "outputs": []
  },
  {
   "cell_type": "code",
   "execution_count": null,
   "id": "b9537b99-d7d9-4e1c-887b-2b2e6dc12987",
   "metadata": {},
   "source": [],
   "outputs": []
  },
  {
   "cell_type": "code",
   "execution_count": null,
   "id": "b30f5687-fb89-49ac-b314-3684d0dcca8e",
   "metadata": {},
   "source": [],
   "outputs": []
  },
  {
   "cell_type": "code",
   "execution_count": null,
   "id": "d956c407-cdb2-42e9-a9af-37f55362f69e",
   "metadata": {},
   "source": [],
   "outputs": []
  },
  {
   "cell_type": "code",
   "execution_count": null,
   "id": "43ac11a7-6243-4b22-96cd-f88201aeca7a",
   "metadata": {},
   "source": [],
   "outputs": []
  },
  {
   "cell_type": "code",
   "execution_count": null,
   "id": "ce0ed521-5d59-490e-b5c5-ad5f3f0ae2fe",
   "metadata": {},
   "source": [],
   "outputs": []
  }
 ],
 "metadata": {
  "kernelspec": {
   "display_name": "Python 3 (ipykernel)",
   "language": "python",
   "name": "python3"
  },
  "language_info": {
   "codemirror_mode": {
    "name": "ipython",
    "version": 3
   },
   "file_extension": ".py",
   "mimetype": "text/x-python",
   "name": "python",
   "nbconvert_exporter": "python",
   "pygments_lexer": "ipython3",
   "version": "3.10.14"
  }
 },
 "nbformat": 4,
 "nbformat_minor": 5
}

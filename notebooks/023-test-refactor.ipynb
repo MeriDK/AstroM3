{
 "cells": [
  {
   "cell_type": "code",
   "execution_count": 15,
   "id": "512bc775-0b28-4503-aeb2-17f7e7c07ed1",
   "metadata": {},
   "source": [
    "import sys\n",
    "sys.path.insert(0, '..')\n",
    "\n",
    "import torch\n",
    "import os\n",
    "import wandb\n",
    "import random\n",
    "import numpy as np\n",
    "import torch\n",
    "from torch import nn\n",
    "from torch.optim import Adam\n",
    "from torch.optim.lr_scheduler import ExponentialLR, CosineAnnealingLR, StepLR, SequentialLR\n",
    "from torch.utils.data import DataLoader\n",
    "from datetime import datetime\n",
    "import matplotlib.pyplot as plt\n",
    "\n",
    "from core.final.dataset import PSMDataset\n",
    "from core.final.model import GalSpecNet, MetaModel, Informer\n",
    "\n",
    "from core.multimodal.dataset2 import VPSMDatasetV2\n",
    "from core.multimodal.model import ModelV1\n",
    "\n",
    "from core.data.utils import preprocess_spectra, readLRSFits, preprocess_lc, get_vlc, add_noise, aug_metadata\n",
    "\n",
    "# from core.metadata.model import MetaClassifier\n",
    "# from models.Informer import Informer"
   ],
   "outputs": []
  },
  {
   "cell_type": "code",
   "execution_count": null,
   "id": "8cd43320-9f94-4371-8772-019ec56d34ad",
   "metadata": {},
   "source": [],
   "outputs": []
  },
  {
   "cell_type": "code",
   "execution_count": null,
   "id": "8fdc6652-7e61-4bdc-8cdd-5bd68201b9cd",
   "metadata": {},
   "source": [],
   "outputs": []
  },
  {
   "cell_type": "code",
   "execution_count": null,
   "id": "52690e78-d6d8-4efe-ae9a-bc31eaae1687",
   "metadata": {},
   "source": [],
   "outputs": []
  },
  {
   "cell_type": "code",
   "execution_count": null,
   "id": "aa898649-08f9-4e6e-9332-31a9d2a33275",
   "metadata": {},
   "source": [],
   "outputs": []
  },
  {
   "cell_type": "code",
   "execution_count": null,
   "id": "548a75ee-b5b3-45dc-b3f9-15531d675297",
   "metadata": {},
   "source": [],
   "outputs": []
  },
  {
   "cell_type": "code",
   "execution_count": null,
   "id": "93f0b60b-98fa-48f2-b936-6a7f26b999d1",
   "metadata": {},
   "source": [],
   "outputs": []
  },
  {
   "cell_type": "code",
   "execution_count": null,
   "id": "1a69c7d2-17c8-4ffa-97bb-5837e96fa579",
   "metadata": {},
   "source": [],
   "outputs": []
  },
  {
   "cell_type": "code",
   "execution_count": 3,
   "id": "d7160330-5503-43e9-a2fb-922fcdcde683",
   "metadata": {},
   "source": [
    "CLASSES = ['EW', 'SR', 'EA', 'RRAB', 'EB', 'ROT', 'RRC', 'HADS', 'M', 'DSCT']\n",
    "METADATA_COLS = [\n",
    "    'mean_vmag', 'amplitude', 'period', 'phot_g_mean_mag', 'e_phot_g_mean_mag', 'lksl_statistic',\n",
    "    'rfr_score', 'phot_bp_mean_mag', 'e_phot_bp_mean_mag', 'phot_rp_mean_mag', 'e_phot_rp_mean_mag',\n",
    "    'bp_rp', 'parallax', 'parallax_error', 'parallax_over_error', 'pmra', 'pmra_error', 'pmdec',\n",
    "    'pmdec_error', 'j_mag', 'e_j_mag', 'h_mag', 'e_h_mag', 'k_mag', 'e_k_mag', 'w1_mag', 'e_w1_mag',\n",
    "    'w2_mag', 'e_w2_mag', 'w3_mag', 'w4_mag', 'j_k', 'w1_w2', 'w3_w4', 'pm', 'ruwe'\n",
    "]"
   ],
   "outputs": []
  },
  {
   "cell_type": "code",
   "execution_count": 4,
   "id": "cde51737-8542-4670-b350-438203e57819",
   "metadata": {},
   "source": [
    "def get_config(random_seed):\n",
    "    config = {\n",
    "        'project': 'AstroCLIP',     # 'AstroCLIP', 'AstroCLIPResults'\n",
    "        'training_mode': 'clip',      # 'clip', 'classification'\n",
    "        'model': 'ModelV1',  # 'ModelV0' or 'ModelV1'\n",
    "        'random_seed': random_seed,\n",
    "        'use_wandb': True,\n",
    "        'save_weights': True,\n",
    "        'weights_path': f'/home/mariia/AstroML/weights/{datetime.now().strftime(\"%Y-%m-%d-%H-%M\")}',\n",
    "        # 'use_pretrain': '/home/mariia/AstroML/weights/2024-07-25-14-18-es6hl0nb/weights-41.pth',\n",
    "        'use_pretrain': None,\n",
    "        'freeze': False,\n",
    "        'fusion': 'avg',    # 'avg', 'concat'\n",
    "\n",
    "        # Data General\n",
    "        'dataset': 'VPSMDatasetV2',     # 'VPSMDataset' or 'VPSMDatasetV2'\n",
    "        'data_root': '/home/mariia/AstroML/data/asassn/',\n",
    "        'file': 'preprocessed_data/full/spectra_and_v',\n",
    "        'classes': CLASSES,\n",
    "        'min_samples': None,\n",
    "        'max_samples': None,\n",
    "        'noise': False,  # for train data only\n",
    "        'noise_coef': 2,\n",
    "\n",
    "        # Photometry\n",
    "        'v_zip': 'asassnvarlc_vband_complete.zip',\n",
    "        'v_prefix': 'vardb_files',\n",
    "        'seq_len': 200,\n",
    "        'phased': True,\n",
    "        'clip': False,\n",
    "        'aux': True,\n",
    "\n",
    "        # Spectra\n",
    "        'lamost_spec_dir': 'Spectra/v2',\n",
    "        'spectra_v_file': 'spectra_v_merged.csv',\n",
    "        'z_corr': False,\n",
    "\n",
    "        # Photometry Model\n",
    "        'p_encoder_layers': 8,\n",
    "        'p_d_model': 128,\n",
    "        'p_dropout': 0.2,\n",
    "        'p_feature_size': 3,\n",
    "        'p_n_heads': 4,\n",
    "        'p_d_ff': 512,\n",
    "\n",
    "        # Spectra Model\n",
    "        's_hidden_dim': 512,\n",
    "        's_dropout': 0.2,\n",
    "\n",
    "        # Metadata Model\n",
    "        'm_hidden_dim': 512,\n",
    "        'm_dropout': 0.2,\n",
    "\n",
    "        # MultiModal Model\n",
    "        'hidden_dim': 1024,\n",
    "        'ps_coef': 1,\n",
    "        'mp_coef': 1,\n",
    "        'sm_coef': 1,\n",
    "\n",
    "        # Training\n",
    "        'batch_size': 64,\n",
    "        'lr': 1e-3,\n",
    "        'weight_decay': 1e-3,\n",
    "        'epochs': 100,\n",
    "        'optimizer': 'AdamW',\n",
    "        'early_stopping_patience': 10,\n",
    "\n",
    "        # Learning Rate Scheduler\n",
    "        'factor': 0.3,\n",
    "        'patience': 5,\n",
    "    }\n",
    "\n",
    "    if config['aux']:\n",
    "        config['p_feature_size'] += 4\n",
    "\n",
    "    return config"
   ],
   "outputs": []
  },
  {
   "cell_type": "code",
   "execution_count": 5,
   "id": "eaaae55c-9836-43fc-9a38-fafdf569e211",
   "metadata": {},
   "source": [
    "config = get_config(42)"
   ],
   "outputs": []
  },
  {
   "cell_type": "code",
   "execution_count": 5,
   "id": "a186abee-ade3-4aa3-bbec-fff97a8a2b8a",
   "metadata": {},
   "source": [
    "train1 = VPSMDatasetV2(\n",
    "    split='train', data_root=config['data_root'], file=config['file'], v_zip=config['v_zip'],\n",
    "    v_prefix=config['v_prefix'], lamost_spec_dir=config['lamost_spec_dir'], min_samples=config['min_samples'],\n",
    "    max_samples=config['max_samples'], classes=config['classes'], seq_len=config['seq_len'],\n",
    "    phased=config['phased'], clip=config['clip'], aux=config['aux'], z_corr=config['z_corr'],\n",
    "    random_seed=config['random_seed'], noise=config['noise'], noise_coef=config['noise_coef'],\n",
    ")\n",
    "val1 = VPSMDatasetV2(\n",
    "    split='val', data_root=config['data_root'], file=config['file'], v_zip=config['v_zip'],\n",
    "    v_prefix=config['v_prefix'], lamost_spec_dir=config['lamost_spec_dir'], min_samples=config['min_samples'],\n",
    "    max_samples=config['max_samples'], classes=config['classes'], seq_len=config['seq_len'],\n",
    "    phased=config['phased'], clip=config['clip'], aux=config['aux'], z_corr=config['z_corr'],\n",
    "    random_seed=config['random_seed'], noise=False,\n",
    ")"
   ],
   "outputs": []
  },
  {
   "cell_type": "code",
   "execution_count": 7,
   "id": "37e70988-2e72-45f5-9f77-b3d5ffd29f78",
   "metadata": {},
   "source": [
    "config['meta_cols'] = METADATA_COLS\n",
    "config['mode'] = 'all'"
   ],
   "outputs": []
  },
  {
   "cell_type": "code",
   "execution_count": 7,
   "id": "3af90e1d-de19-447d-94f0-f2f068d538ce",
   "metadata": {},
   "source": [
    "train2 = PSMDataset(config, split='train')\n",
    "val2 = PSMDataset(config, split='val')"
   ],
   "outputs": []
  },
  {
   "cell_type": "code",
   "execution_count": 8,
   "id": "949f60bd-bed4-4107-b887-93173ec765e7",
   "metadata": {},
   "source": [
    "len(train1) == len(train2), len(val1) == len(val2)"
   ],
   "outputs": []
  },
  {
   "cell_type": "code",
   "execution_count": 9,
   "id": "9e73e49b-e851-4655-a503-9c3f8abb88b6",
   "metadata": {},
   "source": [
    "idx = 100\n",
    "photometry1, photometry_mask1, spectra1, metadata1, label1 = val1[idx]\n",
    "photometry2, photometry_mask2, spectra2, metadata2, label2 = val2[idx]"
   ],
   "outputs": []
  },
  {
   "cell_type": "code",
   "execution_count": 10,
   "id": "06795fa8-6b2d-4b0b-a63d-053d60d70eea",
   "metadata": {},
   "source": [
    "np.array_equal(photometry1, photometry2)"
   ],
   "outputs": []
  },
  {
   "cell_type": "code",
   "execution_count": 11,
   "id": "52f9e457-ae82-4508-9e9b-3746f7a5d72f",
   "metadata": {},
   "source": [
    "np.array_equal(photometry_mask1, photometry_mask2)"
   ],
   "outputs": []
  },
  {
   "cell_type": "code",
   "execution_count": 12,
   "id": "bf1cf03d-7a34-4098-bbfb-6b49aa1b42a3",
   "metadata": {},
   "source": [
    "np.array_equal(spectra1, spectra2)"
   ],
   "outputs": []
  },
  {
   "cell_type": "code",
   "execution_count": 13,
   "id": "4ba07a6b-feb1-4291-b2d0-deb8f140d89a",
   "metadata": {},
   "source": [
    "np.array_equal(metadata1, metadata2)"
   ],
   "outputs": []
  },
  {
   "cell_type": "code",
   "execution_count": 14,
   "id": "793d8246-a713-4593-9ad1-0907ceb3d7c1",
   "metadata": {},
   "source": [
    "np.array_equal(label1, label2)"
   ],
   "outputs": []
  },
  {
   "cell_type": "code",
   "execution_count": null,
   "id": "9285d9fe-4ee0-42e9-9c17-2a003880260c",
   "metadata": {},
   "source": [],
   "outputs": []
  },
  {
   "cell_type": "code",
   "execution_count": null,
   "id": "7dcf3c71-1687-42c0-99f7-97731a2d1fe9",
   "metadata": {},
   "source": [],
   "outputs": []
  },
  {
   "cell_type": "code",
   "execution_count": 15,
   "id": "bd78458f-aecb-4055-9e2a-da591bacf87f",
   "metadata": {},
   "source": [
    "old_model = ModelV1(config)"
   ],
   "outputs": []
  },
  {
   "cell_type": "code",
   "execution_count": 16,
   "id": "6036fa66-c06f-47d1-97b7-384fd281e17d",
   "metadata": {},
   "source": [
    "old_model.spectra_encoder"
   ],
   "outputs": []
  },
  {
   "cell_type": "code",
   "execution_count": 9,
   "id": "b1f4664b-8f76-4e4d-948a-3520e0f2c2c0",
   "metadata": {},
   "source": [
    "config['num_classes'] = 10\n",
    "config['s_use_classification'] = True\n",
    "config['s_conv_channels'] = [1, 64, 64, 32, 32]\n",
    "config['s_kernel_size'] = 3\n",
    "config['s_mp_kernel_size'] = 4"
   ],
   "outputs": []
  },
  {
   "cell_type": "code",
   "execution_count": 10,
   "id": "c4f3903d-98d4-42ed-a42e-a8d79eafebbb",
   "metadata": {},
   "source": [
    "s_model = GalSpecNet(config)"
   ],
   "outputs": []
  },
  {
   "cell_type": "code",
   "execution_count": 11,
   "id": "6b767898-408c-4516-9764-0a36b1c0890e",
   "metadata": {},
   "source": [
    "s_model"
   ],
   "outputs": []
  },
  {
   "cell_type": "code",
   "execution_count": 20,
   "id": "ace19fd9-e0dc-44b5-9bbf-fb3a0aa83efd",
   "metadata": {},
   "source": [
    "config['m_use_classification'] = True"
   ],
   "outputs": []
  },
  {
   "cell_type": "code",
   "execution_count": 21,
   "id": "5b396180-5791-44ce-a750-0523df6f6f6c",
   "metadata": {},
   "source": [
    "m_model = MetaModel(config)"
   ],
   "outputs": []
  },
  {
   "cell_type": "code",
   "execution_count": 22,
   "id": "04d65d51-f245-4eeb-8896-e0f5cba2dc59",
   "metadata": {},
   "source": [
    "m_model"
   ],
   "outputs": []
  },
  {
   "cell_type": "code",
   "execution_count": 23,
   "id": "36d353f7-4abf-43a4-8cb3-17712b7edce0",
   "metadata": {},
   "source": [
    "old_model.metadata_encoder"
   ],
   "outputs": []
  },
  {
   "cell_type": "code",
   "execution_count": 28,
   "id": "daed80ae-dbfe-4791-92c5-d529544e715b",
   "metadata": {},
   "source": [
    "config['p_enc_in'] = 7    # feature size\n",
    "config['p_d_model'] = 128\n",
    "config['p_dropout'] = 0.2\n",
    "config['p_factor'] = 1\n",
    "config['p_output_attention'] = False\n",
    "config['p_n_heads'] = 4\n",
    "config['p_d_ff'] = 512\n",
    "config['p_activation'] = 'gelu'\n",
    "config['p_e_layers'] = 8"
   ],
   "outputs": []
  },
  {
   "cell_type": "code",
   "execution_count": 6,
   "id": "27855d62-3e9d-42b9-aace-f2a419f128f1",
   "metadata": {},
   "source": [
    "p_model = Informer(config)"
   ],
   "outputs": []
  },
  {
   "cell_type": "code",
   "execution_count": 33,
   "id": "4c4b862f-1eaf-4644-9575-3a81516e134d",
   "metadata": {},
   "source": [
    "str(p_model) == str(old_model.photometry_encoder)"
   ],
   "outputs": []
  },
  {
   "cell_type": "code",
   "execution_count": null,
   "id": "b257ed6d-9fb1-440e-867d-b33a332de71f",
   "metadata": {},
   "source": [],
   "outputs": []
  },
  {
   "cell_type": "code",
   "execution_count": null,
   "id": "d17efcb3-a371-4f60-830e-3a26f4441fec",
   "metadata": {},
   "source": [],
   "outputs": []
  },
  {
   "cell_type": "code",
   "execution_count": null,
   "id": "68c15e1e-a374-4019-89e4-2c3d0cf54b2a",
   "metadata": {},
   "source": [],
   "outputs": []
  },
  {
   "cell_type": "code",
   "execution_count": 76,
   "id": "57550c42-c516-419c-ab99-656a78f524f3",
   "metadata": {},
   "source": [
    "optimizer = Adam(s_model.parameters(), lr=1e-4)\n",
    "scheduler1 = StepLR(optimizer, step_size=1, gamma=2)\n",
    "scheduler2 = ExponentialLR(optimizer, gamma=0.9)\n",
    "scheduler = SequentialLR(optimizer, schedulers=[scheduler1, scheduler2], milestones=[5])"
   ],
   "outputs": []
  },
  {
   "cell_type": "code",
   "execution_count": 79,
   "id": "bddd0f85-3af6-471b-98d0-c41deda36fda",
   "metadata": {},
   "source": [
    "lrs = []\n",
    "\n",
    "for i in range(30):\n",
    "    scheduler.step()\n",
    "    lrs.append(scheduler.get_last_lr()[0])\n",
    "\n",
    "    if i == 4:\n",
    "        for param_group in optimizer.param_groups:\n",
    "            param_group['lr'] = 1e-3"
   ],
   "outputs": []
  },
  {
   "cell_type": "code",
   "execution_count": 80,
   "id": "6468a805-8810-4696-950f-3c04e205e2cd",
   "metadata": {},
   "source": [
    "plt.plot(lrs)"
   ],
   "outputs": []
  },
  {
   "cell_type": "code",
   "execution_count": null,
   "id": "163a70b9-0662-4d89-98ee-ee961ff0b2ca",
   "metadata": {},
   "source": [
    "scheduler1 = ConstantLR(optimizer, factor=0.1, total_iters=2)\n",
    "scheduler2 = ExponentialLR(optimizer, gamma=0.9)\n",
    "scheduler = SequentialLR(optimizer, schedulers=[scheduler1, scheduler2], milestones=[2])\n",
    "\n",
    "for epoch in range(100):\n",
    "    scheduler.step()"
   ],
   "outputs": []
  },
  {
   "cell_type": "code",
   "execution_count": null,
   "id": "f3d88be8-c1ff-4843-a4e8-9376bc4e588e",
   "metadata": {},
   "source": [],
   "outputs": []
  },
  {
   "cell_type": "code",
   "execution_count": null,
   "id": "7e255098-3e6a-4704-abeb-3d89ec1a2cdb",
   "metadata": {},
   "source": [],
   "outputs": []
  },
  {
   "cell_type": "code",
   "execution_count": null,
   "id": "c9530181-db2c-4545-9fab-fb0e429a59c7",
   "metadata": {},
   "source": [],
   "outputs": []
  },
  {
   "cell_type": "code",
   "execution_count": null,
   "id": "b9537b99-d7d9-4e1c-887b-2b2e6dc12987",
   "metadata": {},
   "source": [],
   "outputs": []
  },
  {
   "cell_type": "code",
   "execution_count": null,
   "id": "b30f5687-fb89-49ac-b314-3684d0dcca8e",
   "metadata": {},
   "source": [],
   "outputs": []
  },
  {
   "cell_type": "code",
   "execution_count": null,
   "id": "d956c407-cdb2-42e9-a9af-37f55362f69e",
   "metadata": {},
   "source": [],
   "outputs": []
  },
  {
   "cell_type": "code",
   "execution_count": null,
   "id": "43ac11a7-6243-4b22-96cd-f88201aeca7a",
   "metadata": {},
   "source": [],
   "outputs": []
  },
  {
   "cell_type": "code",
   "execution_count": null,
   "id": "ce0ed521-5d59-490e-b5c5-ad5f3f0ae2fe",
   "metadata": {},
   "source": [],
   "outputs": []
  }
 ],
 "metadata": {
  "kernelspec": {
   "display_name": "Python 3 (ipykernel)",
   "language": "python",
   "name": "python3"
  },
  "language_info": {
   "codemirror_mode": {
    "name": "ipython",
    "version": 3
   },
   "file_extension": ".py",
   "mimetype": "text/x-python",
   "name": "python",
   "nbconvert_exporter": "python",
   "pygments_lexer": "ipython3",
   "version": "3.10.14"
  }
 },
 "nbformat": 4,
 "nbformat_minor": 5
}

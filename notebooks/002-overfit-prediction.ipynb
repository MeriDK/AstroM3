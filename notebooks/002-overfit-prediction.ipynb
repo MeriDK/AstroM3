{
 "cells": [
  {
   "cell_type": "code",
   "execution_count": 1,
   "id": "87cab634-ddca-4a78-b1da-33d41bb88bd9",
   "metadata": {},
   "source": [
    "import sys\n",
    "\n",
    "sys.path.insert(0, '..')"
   ],
   "outputs": []
  },
  {
   "cell_type": "code",
   "execution_count": 9,
   "id": "0f769193-a46e-4aad-be7a-1136e00895f9",
   "metadata": {},
   "source": [
    "import os\n",
    "import numpy as np\n",
    "import random\n",
    "import torch\n",
    "import torch.nn as nn\n",
    "from torch.optim import AdamW\n",
    "from torch.utils.data import DataLoader\n",
    "from transformers import TimeSeriesTransformerConfig, TimeSeriesTransformerForPrediction, TimeSeriesTransformerModel\n",
    "import matplotlib.pyplot as plt\n",
    "from torch.optim.lr_scheduler import ReduceLROnPlateau\n",
    "from scipy import stats\n",
    "\n",
    "from core.dataset import MachoDataset\n",
    "from core.trainer import PredictionTrainer, ClassificationTrainer\n",
    "from core.model import ClassificationModel"
   ],
   "outputs": []
  },
  {
   "cell_type": "code",
   "execution_count": 3,
   "id": "2f8c8ef0-e287-4859-af8c-d6a57d25d623",
   "metadata": {},
   "source": [
    "random_seed = 42\n",
    "torch.manual_seed(random_seed)\n",
    "np.random.seed(random_seed)\n",
    "random.seed(random_seed)\n",
    "torch.backends.cudnn.deterministic = True"
   ],
   "outputs": []
  },
  {
   "cell_type": "code",
   "execution_count": 4,
   "id": "996eef5d-4bb7-4b41-b965-d31f39761d14",
   "metadata": {},
   "source": [
    "config = {\n",
    "    'random_seed': random_seed,\n",
    "    'data_root': '/home/mrizhko/AML/contra_periodic/data/macho/',\n",
    "    'balanced_data_root': '/home/mrizhko/AML/AstroML/data/macho-balanced/',\n",
    "    'weights_path': '/home/mrizhko/AML/AstroML/weights/',\n",
    "\n",
    "    # Time Series Transformer\n",
    "    'lags': None,  # ?\n",
    "    'distribution_output': 'normal',\n",
    "    'num_static_real_features': 0,  # if 0 we don't use real features\n",
    "    'num_time_features': 1,\n",
    "    'd_model': 256,\n",
    "    'decoder_layers': 4,\n",
    "    'encoder_layers': 4,\n",
    "    'dropout': 0,\n",
    "    'encoder_layerdrop': 0,\n",
    "    'decoder_layerdrop': 0,\n",
    "    'attention_dropout': 0,\n",
    "    'activation_dropout': 0,\n",
    "\n",
    "    # Data\n",
    "    'window_length': 200,\n",
    "    'prediction_length': 10,  # 1 5 10 25 50\n",
    "\n",
    "    # Training\n",
    "    'batch_size': 512,\n",
    "    'lr': 0.0001,\n",
    "    'weight_decay': 0,\n",
    "    'epochs_pre_training': 1000,\n",
    "    'epochs_fine_tuning': 100,\n",
    "    \n",
    "    # Learning Rate Scheduler\n",
    "    'factor': 0.3,\n",
    "    'patience': 10,\n",
    "\n",
    "    'mode': 'pre-training',  # 'pre-training' 'fine-tuning' 'both'\n",
    "    'save_weights': False,\n",
    "    'config_from_run': None,  # 'MeriDK/AstroML/qtun67bq'\n",
    "}"
   ],
   "outputs": []
  },
  {
   "cell_type": "code",
   "execution_count": 5,
   "id": "1a141b8a-f28d-4ea1-9521-07a0ed661b1b",
   "metadata": {},
   "source": [
    "device = torch.device('cuda:1' if torch.cuda.is_available() else 'cpu')\n",
    "print('Using', device)"
   ],
   "outputs": []
  },
  {
   "cell_type": "code",
   "execution_count": 6,
   "id": "2a95483e-e179-487d-8e5b-022f051898ed",
   "metadata": {},
   "source": [
    "train_dataset = MachoDataset(config['balanced_data_root'], config['prediction_length'], mode='train')\n",
    "train_dataloader = DataLoader(train_dataset, batch_size=config['batch_size'], shuffle=True)"
   ],
   "outputs": []
  },
  {
   "cell_type": "code",
   "execution_count": 7,
   "id": "d4d3f251-1ccb-46cd-93d1-3a39513e5403",
   "metadata": {},
   "source": [
    "transformer_config = TimeSeriesTransformerConfig(\n",
    "    prediction_length=config['prediction_length'],\n",
    "    context_length=config['window_length'] - config['prediction_length'] - 7,  # 7 is max(lags) for default lags\n",
    "    num_time_features=config['num_time_features'],\n",
    "    num_static_real_features=config['num_static_real_features'],\n",
    "    encoder_layers=config['encoder_layers'],\n",
    "    decoder_layers=config['decoder_layers'],\n",
    "    d_model=config['d_model'],\n",
    "    distribution_output='normal',\n",
    "    scaling=None,\n",
    "    dropout=config['dropout'],\n",
    "    encoder_layerdrop=config['encoder_layerdrop'],\n",
    "    decoder_layerdrop=config['decoder_layerdrop'],\n",
    "    attention_dropout=config['attention_dropout'],\n",
    "    activation_dropout=config['activation_dropout']\n",
    ")"
   ],
   "outputs": []
  },
  {
   "cell_type": "code",
   "execution_count": 12,
   "id": "316604b6-a925-4846-be68-0fcfb2a9557c",
   "metadata": {},
   "source": [
    "model = TimeSeriesTransformerForPrediction(transformer_config)\n",
    "model = model.to(device)\n",
    "\n",
    "optimizer = AdamW(model.parameters(), lr=config['lr'], weight_decay=config['weight_decay'])\n",
    "scheduler = ReduceLROnPlateau(optimizer, mode='min', factor=config['factor'], patience=config['patience'], verbose=True)\n",
    "\n",
    "trainer = PredictionTrainer(model=model, optimizer=optimizer, scheduler=scheduler, device=device)"
   ],
   "outputs": []
  },
  {
   "cell_type": "code",
   "execution_count": 13,
   "id": "4212bdc7-442d-4a8f-8bc9-ad6588d069c1",
   "metadata": {},
   "source": [
    "trainer.train(train_dataloader, train_dataloader, epochs=1000)"
   ],
   "outputs": []
  },
  {
   "cell_type": "code",
   "execution_count": 17,
   "id": "559fde93-eb09-4529-bbce-2af73901cffe",
   "metadata": {},
   "source": [
    "val_dataset = MachoDataset(config['balanced_data_root'], config['prediction_length'], mode='val')\n",
    "val_dataloader = DataLoader(val_dataset, batch_size=4, shuffle=False)"
   ],
   "outputs": []
  },
  {
   "cell_type": "code",
   "execution_count": 18,
   "id": "c2ed4104-12fc-4f7f-b0e9-a3421cad1f08",
   "metadata": {},
   "source": [
    "trainer.evaluate(val_dataloader, val_dataset)"
   ],
   "outputs": []
  },
  {
   "cell_type": "code",
   "execution_count": 19,
   "id": "3e037aa3-5509-4b4b-9088-77e37b85367c",
   "metadata": {},
   "source": [
    "trainer.val_epoch(val_dataloader)"
   ],
   "outputs": []
  },
  {
   "cell_type": "code",
   "execution_count": 21,
   "id": "b489dbd7-5531-4b2a-99f3-2aeada396516",
   "metadata": {},
   "source": [
    "trainer.val_epoch(train_dataloader)"
   ],
   "outputs": []
  },
  {
   "cell_type": "code",
   "execution_count": null,
   "id": "92ce40e6-e30c-447c-8f3c-9d83bdc47909",
   "metadata": {},
   "source": [],
   "outputs": []
  }
 ],
 "metadata": {
  "kernelspec": {
   "display_name": "Python 3 (ipykernel)",
   "language": "python",
   "name": "python3"
  },
  "language_info": {
   "codemirror_mode": {
    "name": "ipython",
    "version": 3
   },
   "file_extension": ".py",
   "mimetype": "text/x-python",
   "name": "python",
   "nbconvert_exporter": "python",
   "pygments_lexer": "ipython3",
   "version": "3.9.18"
  }
 },
 "nbformat": 4,
 "nbformat_minor": 5
}

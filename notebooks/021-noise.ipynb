{
 "cells": [
  {
   "cell_type": "code",
   "execution_count": 1,
   "id": "initial_id",
   "metadata": {},
   "source": [
    "import sys\n",
    "sys.path.insert(0, '..')\n",
    "\n",
    "import os\n",
    "import numpy as np\n",
    "import torch\n",
    "import torch.nn as nn\n",
    "import torch.nn.functional as F\n",
    "from torch.optim import Adam\n",
    "from torch.utils.data import DataLoader\n",
    "from datetime import datetime\n",
    "from tqdm import tqdm\n",
    "import umap\n",
    "from sklearn.manifold import TSNE\n",
    "from sklearn.decomposition import PCA\n",
    "from sklearn.metrics import confusion_matrix\n",
    "import matplotlib.colors as mcolors\n",
    "import matplotlib.pyplot as plt\n",
    "import seaborn as sns\n",
    "\n",
    "from core.multimodal.dataset2 import VPSMDatasetV2\n",
    "from core.multimodal.model import ModelV1\n",
    "from util.parallelzipfile import ParallelZipFile as ZipFile\n",
    "from core.data.utils import preprocess_spectra, readLRSFits, preprocess_lc, get_vlc"
   ],
   "outputs": []
  },
  {
   "cell_type": "code",
   "execution_count": 2,
   "id": "24d41947-1208-41d3-b8ca-6547232ee007",
   "metadata": {},
   "source": [
    "METADATA_COLS = [\n",
    "    'mean_vmag', 'amplitude', 'period', 'phot_g_mean_mag', 'e_phot_g_mean_mag', 'lksl_statistic',\n",
    "    'rfr_score', 'phot_bp_mean_mag', 'e_phot_bp_mean_mag', 'phot_rp_mean_mag', 'e_phot_rp_mean_mag',\n",
    "    'bp_rp', 'parallax', 'parallax_error', 'parallax_over_error', 'pmra', 'pmra_error', 'pmdec',\n",
    "    'pmdec_error', 'j_mag', 'e_j_mag', 'h_mag', 'e_h_mag', 'k_mag', 'e_k_mag', 'w1_mag', 'e_w1_mag',\n",
    "    'w2_mag', 'e_w2_mag', 'w3_mag', 'w4_mag', 'j_k', 'w1_w2', 'w3_w4', 'pm', 'ruwe'\n",
    "]\n",
    "\n",
    "CLASSES = ['CWA', 'CWB', 'DCEP', 'DCEPS', 'DSCT', 'EA', 'EB', 'EW',\n",
    "           'HADS', 'M', 'ROT', 'RRAB', 'RRC', 'RRD', 'RVA', 'SR']"
   ],
   "outputs": []
  },
  {
   "cell_type": "code",
   "execution_count": 3,
   "id": "1be21d69-71fc-421b-94bc-add6edcd993e",
   "metadata": {},
   "source": [
    "train_dataset = VPSMDatasetV2(split='train', classes=CLASSES)"
   ],
   "outputs": []
  },
  {
   "cell_type": "code",
   "execution_count": 4,
   "id": "e9749911-d443-47d7-b897-21aeeb9c4f0e",
   "metadata": {},
   "source": [
    "idx = 0\n",
    "el = train_dataset.df.iloc[idx]\n",
    "label = train_dataset.target2id[el['target']]"
   ],
   "outputs": []
  },
  {
   "cell_type": "code",
   "execution_count": 13,
   "id": "9687dfb6-4263-4aa0-aa5d-7e9daf001b40",
   "metadata": {},
   "source": [
    "crop = 'random' if train_dataset.split == 'train' else 'center'\n",
    "photometry = get_vlc(el['name'], train_dataset.v_prefix, train_dataset.reader_v)"
   ],
   "outputs": []
  },
  {
   "cell_type": "code",
   "execution_count": 14,
   "id": "1896646c-a8d5-47c6-a2df-7249d3793d73",
   "metadata": {},
   "source": [
    "spectra = readLRSFits(os.path.join(train_dataset.lamost_spec_dir, el['spec_filename']), train_dataset.z_corr)"
   ],
   "outputs": []
  },
  {
   "cell_type": "code",
   "execution_count": 15,
   "id": "fa15400b-eedc-490d-a143-2a05ebc22b7b",
   "metadata": {},
   "source": [
    "photometry.shape"
   ],
   "outputs": []
  },
  {
   "cell_type": "code",
   "execution_count": 16,
   "id": "fe451ee1-f138-4b3b-a964-8e9ddbfeaa97",
   "metadata": {},
   "source": [
    "spectra.shape"
   ],
   "outputs": []
  },
  {
   "cell_type": "code",
   "execution_count": 23,
   "id": "bb65e41d-fdaf-4074-acbe-c8380311d3f4",
   "metadata": {},
   "source": [
    "def add_noise(X):\n",
    "    time, flux, flux_err = X[:, 0], X[:, 1], X[:, 2]\n",
    "    \n",
    "    # Sample noise from a normal distribution using flux_err\n",
    "    noise = np.random.normal(0, flux_err)\n",
    "    \n",
    "    # Add the noise to the flux\n",
    "    flux_noisy = flux + noise\n",
    "    \n",
    "    # Combine time, noisy flux, and flux_err back into the original shape\n",
    "    X_noisy = np.column_stack((time, flux_noisy, flux_err))\n",
    "    \n",
    "    return X_noisy"
   ],
   "outputs": []
  },
  {
   "cell_type": "code",
   "execution_count": 24,
   "id": "778b06f1-abe2-438e-8c32-90bd91c06331",
   "metadata": {},
   "source": [
    "noisy_photometry = add_noise(photometry)\n",
    "noisy_spectra = add_noise(spectra)"
   ],
   "outputs": []
  },
  {
   "cell_type": "code",
   "execution_count": 27,
   "id": "2e3bca61-3453-4b50-9348-505012c6b8d1",
   "metadata": {},
   "source": [
    "plt.figure(figsize=(14, 6))\n",
    "\n",
    "plt.subplot(1, 2, 1)\n",
    "plt.plot(photometry[:, 0], photometry[:, 1], '.', label='Original Photometry', color='blue')\n",
    "plt.xlabel('Time')\n",
    "plt.ylabel('Flux')\n",
    "plt.title('Original Photometry')\n",
    "plt.legend()\n",
    "\n",
    "plt.subplot(1, 2, 2)\n",
    "plt.plot(noisy_photometry[:, 0], noisy_photometry[:, 1], '.', label='Noisy Photometry', color='red')\n",
    "plt.xlabel('Time')\n",
    "plt.ylabel('Flux')\n",
    "plt.title('Noisy Photometry')\n",
    "plt.legend()\n",
    "\n",
    "plt.tight_layout()\n",
    "plt.show()"
   ],
   "outputs": []
  },
  {
   "cell_type": "code",
   "execution_count": 28,
   "id": "d09bd518-9d34-4660-a1e7-f7de0f3d87e3",
   "metadata": {},
   "source": [
    "plt.figure(figsize=(14, 6))\n",
    "\n",
    "plt.subplot(1, 2, 1)\n",
    "plt.plot(spectra[:, 0], spectra[:, 1], '.', label='Original Spectra', color='blue')\n",
    "plt.xlabel('Time')\n",
    "plt.ylabel('Flux')\n",
    "plt.title('Original Spectra')\n",
    "plt.legend()\n",
    "\n",
    "plt.subplot(1, 2, 2)\n",
    "plt.plot(noisy_spectra[:, 0], noisy_spectra[:, 1], '.', label='Noisy Spectra', color='red')\n",
    "plt.xlabel('Time')\n",
    "plt.ylabel('Flux')\n",
    "plt.title('Noisy Spectra')\n",
    "plt.legend()\n",
    "\n",
    "plt.tight_layout()\n",
    "plt.show()"
   ],
   "outputs": []
  },
  {
   "cell_type": "code",
   "execution_count": 62,
   "id": "f2f2f8d9-feaf-4188-bb81-3a0641efdafc",
   "metadata": {},
   "source": [
    "photometry.dtype, noisy_photometry.dtype"
   ],
   "outputs": []
  },
  {
   "cell_type": "code",
   "execution_count": 55,
   "id": "f2936089-a1fa-4a2a-aa2b-eda264c1ef4b",
   "metadata": {},
   "source": [
    "metadata = el[train_dataset.metadata_cols].values.astype(np.float32)"
   ],
   "outputs": []
  },
  {
   "cell_type": "code",
   "execution_count": 56,
   "id": "a2ca4249-c035-4862-80c3-f153b72b15f1",
   "metadata": {},
   "source": [
    "metadata.dtype"
   ],
   "outputs": []
  },
  {
   "cell_type": "code",
   "execution_count": 57,
   "id": "8cdec161-2ea2-4521-9618-7839ef2831ba",
   "metadata": {},
   "source": [
    "metadata"
   ],
   "outputs": []
  },
  {
   "cell_type": "code",
   "execution_count": 63,
   "id": "322ca3d7-7f59-4075-8798-c23810343f40",
   "metadata": {},
   "source": [
    "def augment_metadata(metadata, noise_level=0.01):\n",
    "    # Generate Gaussian noise\n",
    "-    \n",
    "    # Add noise to metadata\n",
    "    augmented_metadata = metadata + noise\n",
    "        \n",
    "    return augmented_metadata"
   ],
   "outputs": []
  },
  {
   "cell_type": "code",
   "execution_count": 64,
   "id": "34f704ea-4338-432f-a61e-d86ea55f934f",
   "metadata": {},
   "source": [
    "noisy_metadata = augment_metadata(metadata, noise_level=0.01)"
   ],
   "outputs": []
  },
  {
   "cell_type": "code",
   "execution_count": 65,
   "id": "f81a18f1-b0f6-40d4-ba10-7c10f0c35264",
   "metadata": {},
   "source": [
    "noisy_metadata.dtype"
   ],
   "outputs": []
  },
  {
   "cell_type": "code",
   "execution_count": 42,
   "id": "c5dc19fe-7dc5-4ba9-9ee0-5792219d5203",
   "metadata": {},
   "source": [
    "for i in range(len(metadata)):\n",
    "    print(metadata[i], noisy_metadata[i])"
   ],
   "outputs": []
  },
  {
   "cell_type": "code",
   "execution_count": null,
   "id": "2fe3cd64-76f1-4d2f-892b-d944f7c9ebde",
   "metadata": {},
   "source": [],
   "outputs": []
  },
  {
   "cell_type": "code",
   "execution_count": null,
   "id": "8529b573-7563-4336-9ba5-9bbe4aabfa36",
   "metadata": {},
   "source": [],
   "outputs": []
  },
  {
   "cell_type": "code",
   "execution_count": null,
   "id": "6091810b-56bf-4902-a1bb-29559524a65a",
   "metadata": {},
   "source": [],
   "outputs": []
  }
 ],
 "metadata": {
  "kernelspec": {
   "display_name": "Python 3 (ipykernel)",
   "language": "python",
   "name": "python3"
  },
  "language_info": {
   "codemirror_mode": {
    "name": "ipython",
    "version": 3
   },
   "file_extension": ".py",
   "mimetype": "text/x-python",
   "name": "python",
   "nbconvert_exporter": "python",
   "pygments_lexer": "ipython3",
   "version": "3.10.14"
  }
 },
 "nbformat": 4,
 "nbformat_minor": 5
}

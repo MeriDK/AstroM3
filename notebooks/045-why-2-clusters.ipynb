{
 "cells": [
  {
   "cell_type": "code",
   "execution_count": 23,
   "id": "3389b519-0a33-42f6-a338-3c96b59a4a2d",
   "metadata": {},
   "source": [
    "import sys\n",
    "sys.path.insert(0, '..')\n",
    "\n",
    "import torch\n",
    "import os\n",
    "import wandb\n",
    "import random\n",
    "import numpy as np\n",
    "import torch\n",
    "from torch import nn\n",
    "from torch.optim import Adam\n",
    "from ignite.handlers.param_scheduler import create_lr_scheduler_with_warmup\n",
    "from torch.utils.data import DataLoader\n",
    "from datetime import datetime\n",
    "import matplotlib.pyplot as plt\n",
    "import pandas as pd\n",
    "from scipy import stats\n",
    "from tqdm import tqdm\n",
    "from matplotlib import cm\n",
    "import seaborn as sns\n",
    "import matplotlib.lines as mlines\n",
    "from sklearn.decomposition import PCA\n",
    "from openTSNE import TSNE\n",
    "from PIL import Image\n",
    "import umap\n",
    "import torch.nn.functional as F\n",
    "from scipy.spatial.distance import cdist\n",
    "import umap.plot\n",
    "import math\n",
    "from scipy.stats import norm\n",
    "import joblib\n",
    "import matplotlib.colors as mcolors\n",
    "import matplotlib.patches as mpatches\n",
    "from sklearn.tree import DecisionTreeClassifier\n",
    "from sklearn.tree import plot_tree\n",
    "\n",
    "from core.final.dataset import PSMDataset\n",
    "from core.final.model import GalSpecNet, MetaModel, Informer, AstroModel\n",
    "from core.final.trainer import Trainer"
   ],
   "outputs": []
  },
  {
   "cell_type": "code",
   "execution_count": 24,
   "id": "b2be89eb-f886-44eb-b918-d1c2d0146644",
   "metadata": {},
   "source": [
    "def get_model(config):\n",
    "    if config['mode'] == 'photo':\n",
    "        model = Informer(config)\n",
    "    elif config['mode'] == 'spectra':\n",
    "        model = GalSpecNet(config)\n",
    "    elif config['mode'] == 'meta':\n",
    "        model = MetaModel(config)\n",
    "    else:\n",
    "        model = AstroModel(config)\n",
    "\n",
    "    return model\n",
    "\n",
    "def get_embs(dataloader):\n",
    "    all_p_emb, all_s_emb, all_m_emb = [], [], []\n",
    "    all_labels = []\n",
    "    \n",
    "    for photometry, photometry_mask, spectra, metadata, labels in tqdm(dataloader):\n",
    "        photometry, photometry_mask = photometry.to(device), photometry_mask.to(device)\n",
    "        spectra, metadata = spectra.to(device), metadata.to(device)\n",
    "    \n",
    "        with torch.no_grad():\n",
    "            p_emb, s_emb, m_emb = model.get_embeddings(photometry, photometry_mask, spectra, metadata)\n",
    "    \n",
    "            all_p_emb.append(p_emb.cpu())\n",
    "            all_s_emb.append(s_emb.cpu())\n",
    "            all_m_emb.append(m_emb.cpu())\n",
    "            all_labels.append(labels)\n",
    "    \n",
    "    all_p_emb = torch.vstack(all_p_emb)\n",
    "    all_s_emb = torch.vstack(all_s_emb)\n",
    "    all_m_emb = torch.vstack(all_m_emb)\n",
    "    all_labels = torch.hstack(all_labels)\n",
    "\n",
    "    return all_p_emb, all_s_emb, all_m_emb, all_labels\n",
    "\n",
    "def get_centers(p_emb, s_emb, m_emb, train_labels):\n",
    "    p_centers, s_centers, m_centers, all_centers = [], [], [], []\n",
    "\n",
    "    for i in range(10):\n",
    "        ind = train_labels == i\n",
    "    \n",
    "        p_center = p_emb[ind].mean(axis=0)\n",
    "        p_center = p_center / p_center.norm()\n",
    "        p_centers.append(p_center)\n",
    "    \n",
    "        s_center = s_emb[ind].mean(axis=0)\n",
    "        s_center = s_center / s_center.norm()\n",
    "        s_centers.append(s_center)\n",
    "    \n",
    "        m_center = m_emb[ind].mean(axis=0)\n",
    "        m_center = m_center / m_center.norm()\n",
    "        m_centers.append(m_center)\n",
    "\n",
    "        all_emb = (p_emb + s_emb + m_emb) / 3\n",
    "        all_center = all_emb[ind].mean(axis=0)\n",
    "        all_center = all_center / all_center.norm()\n",
    "        all_centers.append(all_center)\n",
    "    \n",
    "    p_centers = torch.stack(p_centers)\n",
    "    s_centers = torch.stack(s_centers)\n",
    "    m_centers = torch.stack(m_centers)\n",
    "    all_centers = torch.stack(all_centers)\n",
    "\n",
    "    return p_centers, s_centers, m_centers, all_centers\n",
    "\n",
    "def plot_obj_umap(dataset, idx, embeddings, targets):\n",
    "    el = dataset.df.iloc[idx]\n",
    "    label = target2id[el['target']]\n",
    "    period = el['org_period']\n",
    "    l, b = id2lb[el['id']]\n",
    "    \n",
    "    photometry = dataset.get_vlc(el['name'])\n",
    "    photometry = np.vstack(((photometry[:, 0] % period) / period, photometry[:, 1], photometry[:, 2])).T    # fold\n",
    "    spectra = dataset.readLRSFits(os.path.join(dataset.lamost_spec_dir, el['spec_filename']))\n",
    "\n",
    "    obj_embedding = embeddings[idx]\n",
    "    \n",
    "    fig, axs = plt.subplots(1, 3, figsize=(24, 8))\n",
    "    axs[0].plot(photometry[:, 0], photometry[:, 1], '.', label='Photometry')\n",
    "    axs[1].plot(spectra[:, 0], spectra[:, 1], label='Spectra')\n",
    "    \n",
    "    for class_name in sorted_classes:\n",
    "        class_id = target2id[class_name]\n",
    "        class_mask = targets == class_id\n",
    "        axs[2].scatter(embeddings[class_mask, 0], embeddings[class_mask, 1], \n",
    "                       color=palette[class_id], label=class_name, alpha=1.0, s=marker_size)\n",
    "\n",
    "    axs[2].scatter(obj_embedding[0], obj_embedding[1], color=palette[targets[idx]], edgecolors='black', alpha=1.0, s=5 * marker_size)\n",
    "    handles_colors = [mlines.Line2D([], [], color=palette[target2id[class_name]], marker='o', linestyle='None', markersize=8, \n",
    "                      label=class_name) for class_name in sorted_classes]\n",
    "    axs[2].legend(handles=handles_colors, loc='upper right', bbox_to_anchor=(1.15, 1), fontsize=10, title=\"Classes\")\n",
    "    \n",
    "    \n",
    "    plt.suptitle(f'period = {period}    label = {id2target[label]}     idx {idx}    L = {l}    B = {b}    id {el[\"id\"]}')\n",
    "    plt.tight_layout()\n",
    "    plt.show()\n",
    "\n",
    "\n",
    "def plot_one_embs_period(embeddings, periods):\n",
    "    plt.figure(figsize=(10, 8))\n",
    "    sc = plt.scatter(embeddings[:, 0], embeddings[:, 1], c=periods, cmap='viridis', s=marker_size, alpha=1.0)\n",
    "    plt.colorbar(sc, label='Period')\n",
    "    plt.xlabel(\"UMAP Dimension 1\")\n",
    "    plt.ylabel(\"UMAP Dimension 2\")\n",
    "    plt.show()"
   ],
   "outputs": []
  },
  {
   "cell_type": "code",
   "execution_count": 25,
   "id": "5dd9ec07-efe0-44ab-9fa4-99e94d4ec472",
   "metadata": {},
   "source": [
    "org_train = pd.read_csv('/home/mariia/AstroML/data/asassn/preprocessed_data/full_lb/spectra_and_v_train.csv')\n",
    "org_val = pd.read_csv('/home/mariia/AstroML/data/asassn/preprocessed_data/full_lb/spectra_and_v_val.csv')\n",
    "org_test = pd.read_csv('/home/mariia/AstroML/data/asassn/preprocessed_data/full_lb/spectra_and_v_test.csv')\n",
    "\n",
    "org_train = org_train[['id', 'l', 'b']]\n",
    "org_val = org_val[['id', 'l', 'b']]\n",
    "org_test = org_test[['id', 'l', 'b']]\n",
    "\n",
    "combined_df = pd.concat([org_train, org_val, org_test])\n",
    "id2lb = combined_df.set_index('id')[['l', 'b']].T.to_dict('list')\n",
    "\n",
    "run_id = 'MeriDK/AstroCLIPResults3/2wz4ysvn'\n",
    "api = wandb.Api()\n",
    "run = api.run(run_id)\n",
    "config = run.config\n",
    "config['use_wandb'] = False\n",
    "\n",
    "model = get_model(config)\n",
    "device = torch.device('cuda:2' if torch.cuda.is_available() else 'cpu')\n",
    "model = model.to(device)\n",
    "model.eval()\n",
    "\n",
    "weights_path = os.path.join(config['weights_path'] + '-' + run_id.split('/')[-1], f'weights-best.pth')\n",
    "model.load_state_dict(torch.load(weights_path, weights_only=False))"
   ],
   "outputs": []
  },
  {
   "cell_type": "code",
   "execution_count": 26,
   "id": "8a9cd04a-48d8-4b07-aaf8-21e796982da7",
   "metadata": {},
   "source": [
    "config['file'] = 'preprocessed_data/sub50_lb/spectra_and_v'\n",
    "\n",
    "train_dataset = PSMDataset(config, split='train')\n",
    "train_dataloader = DataLoader(train_dataset, batch_size=config['batch_size'], shuffle=False)\n",
    "\n",
    "val_dataset = PSMDataset(config, split='val')\n",
    "val_dataloader = DataLoader(val_dataset, batch_size=config['batch_size'], shuffle=False)\n",
    "\n",
    "test_dataset = PSMDataset(config, split='test')\n",
    "test_dataloader = DataLoader(test_dataset, batch_size=config['batch_size'], shuffle=False)\n",
    "\n",
    "train_p_emb, train_s_emb, train_m_emb, train_labels = get_embs(train_dataloader)\n",
    "val_p_emb, val_s_emb, val_m_emb, val_labels = get_embs(val_dataloader)\n",
    "test_p_emb, test_s_emb, test_m_emb, test_labels = get_embs(test_dataloader)\n",
    "\n",
    "p_centers, s_centers, m_centers, all_centers = get_centers(train_p_emb, train_s_emb, train_m_emb, train_labels)\n",
    "\n",
    "train_emb = (train_p_emb + train_s_emb + train_m_emb) / 3\n",
    "val_emb = (val_p_emb + val_s_emb + val_m_emb) / 3\n",
    "test_emb = (test_p_emb + test_s_emb + test_m_emb) / 3\n",
    "\n",
    "umap = joblib.load('umap.pkl')\n",
    "train_umap = umap.transform(train_emb)\n",
    "val_umap = umap.transform(val_emb)\n",
    "test_umap = umap.transform(test_emb)"
   ],
   "outputs": []
  },
  {
   "cell_type": "code",
   "execution_count": 27,
   "id": "5d19c016-c42b-451f-b1a3-b77ed2efa8b5",
   "metadata": {},
   "source": [
    "id2target = test_dataset.id2target\n",
    "target2id = test_dataset.target2id\n",
    "\n",
    "palette = sns.color_palette(\"Spectral\", len(id2target))\n",
    "palette[3], palette[-4] = palette[-4], palette[3] \n",
    "palette[1], palette[-2] = palette[-2], palette[1] "
   ],
   "outputs": []
  },
  {
   "cell_type": "code",
   "execution_count": null,
   "id": "3a8c8c2b-990c-4cce-99a2-019e96d6456d",
   "metadata": {},
   "source": [],
   "outputs": []
  },
  {
   "cell_type": "code",
   "execution_count": null,
   "id": "00115c56-aa74-4609-a620-f2c9190bbd8c",
   "metadata": {},
   "source": [],
   "outputs": []
  },
  {
   "cell_type": "code",
   "execution_count": null,
   "id": "a2dfdd95-b57d-45b8-a56b-c167d5901d60",
   "metadata": {},
   "source": [],
   "outputs": []
  },
  {
   "cell_type": "code",
   "execution_count": null,
   "id": "d6291680-05eb-4067-81a6-5491b0e96b25",
   "metadata": {},
   "source": [],
   "outputs": []
  },
  {
   "cell_type": "code",
   "execution_count": 28,
   "id": "4594b38e-f7ba-4067-92fd-9450a523d892",
   "metadata": {},
   "source": [
    "train_period = np.array(train_dataset.df['org_period'])"
   ],
   "outputs": []
  },
  {
   "cell_type": "code",
   "execution_count": 29,
   "id": "1c29942c-b682-4c01-9942-737636235250",
   "metadata": {},
   "source": [
    "cls = joblib.load('rot-classes.pkl')\n",
    "ids = train_dataset.df[train_dataset.df['target'] == 'ROT'][['id']]\n",
    "ids['gaia_label'] = 'no-label'\n",
    "\n",
    "for idx, label in cls.items():\n",
    "    ids.loc[ids['id'] == 'EDR3 ' + idx, 'gaia_label'] = label\n",
    "\n",
    "gaia_labels = np.array(ids['gaia_label'])\n",
    "unique_labels = np.unique(gaia_labels)\n",
    "num_labels = len(unique_labels)\n",
    "\n",
    "gaia_id2target = {i: unique_labels[i] for i in range(len(unique_labels))}\n",
    "gaia_target2id = {unique_labels[i]: i for i in range(len(unique_labels))}\n",
    "\n",
    "rot_umap = train_umap[train_labels == target2id['ROT']]\n",
    "rot_palette = sns.color_palette(\"Spectral\", len(unique_labels))"
   ],
   "outputs": []
  },
  {
   "cell_type": "code",
   "execution_count": 30,
   "id": "afd09d8d-10a9-46ad-b69e-5d42adb9ad1e",
   "metadata": {},
   "source": [
    "num_cols = (num_labels + 1) // 2\n",
    "fig, axes = plt.subplots(2, num_cols, figsize=(15, 8))\n",
    "fig.suptitle('Scatter Plots for Each Class')\n",
    "\n",
    "x_min, x_max = rot_umap[:, 0].min() - 1, rot_umap[:, 0].max() + 1\n",
    "y_min, y_max = rot_umap[:, 1].min() - 1, rot_umap[:, 1].max() + 1\n",
    "axes = axes.flatten()\n",
    "\n",
    "for ax, class_name in zip(axes, unique_labels):\n",
    "    ind = gaia_labels == class_name\n",
    "    other_ind = ~ind\n",
    "\n",
    "    ax.scatter(rot_umap[other_ind, 0], rot_umap[other_ind, 1], color='gray', alpha=0.2, s=marker_size)\n",
    "    ax.scatter(rot_umap[ind, 0], rot_umap[ind, 1], color=rot_palette[gaia_target2id[class_name]], label=class_name, alpha=1.0, s=marker_size, edgecolors='black', linewidth=0.5)\n",
    "    ax.set_title(f'Class: {class_name}')\n",
    "    ax.set_xlim(x_min, x_max)\n",
    "    ax.set_ylim(y_min, y_max)\n",
    "    ax.legend()\n",
    "\n",
    "for ax in axes[len(unique_labels):]:\n",
    "    ax.axis('off')\n",
    "\n",
    "plt.tight_layout()\n",
    "plt.show()"
   ],
   "outputs": []
  },
  {
   "cell_type": "code",
   "execution_count": 31,
   "id": "194de107-0e1e-42f7-9461-370cf2c0adc6",
   "metadata": {},
   "source": [
    "rot_periods = np.array(train_dataset.df[train_dataset.df['target'] == 'ROT'][['org_period']])"
   ],
   "outputs": []
  },
  {
   "cell_type": "code",
   "execution_count": 32,
   "id": "c803dab1-03d7-4307-afb6-acb57f57d846",
   "metadata": {},
   "source": [
    "ind = gaia_labels == 'RS'\n",
    "other_ind = ~ind\n",
    "\n",
    "plt.scatter(rot_umap[other_ind, 0], rot_umap[other_ind, 1], color='gray', alpha=0.2, s=marker_size)\n",
    "sc = plt.scatter(rot_umap[ind, 0], rot_umap[ind, 1], c=rot_periods[ind], cmap='viridis', alpha=1.0, s=marker_size)\n",
    "plt.colorbar(sc, label='Period')"
   ],
   "outputs": []
  },
  {
   "cell_type": "code",
   "execution_count": 33,
   "id": "48c4c983-156d-4470-92bf-265f1a6b71f3",
   "metadata": {},
   "source": [
    "sc = plt.scatter(rot_umap[:, 0], rot_umap[:, 1], c=rot_periods, cmap='viridis', alpha=1.0, s=marker_size)\n",
    "plt.colorbar(sc, label='Period')"
   ],
   "outputs": []
  },
  {
   "cell_type": "code",
   "execution_count": 34,
   "id": "1e001b53-a295-4e71-89c1-9c3ce932555d",
   "metadata": {},
   "source": [
    "train_labels == target2id['ROT']"
   ],
   "outputs": []
  },
  {
   "cell_type": "code",
   "execution_count": 35,
   "id": "26fbdb9a-bcb6-43c3-909c-222bfb8a5bfa",
   "metadata": {},
   "source": [
    "rot_indices = np.where(train_labels == target2id['ROT'])[0]\n",
    "rs_indices = rot_indices[np.where(gaia_labels == 'RS')[0]]"
   ],
   "outputs": []
  },
  {
   "cell_type": "code",
   "execution_count": 36,
   "id": "d45c884e-6ec9-4244-8804-60ec93878083",
   "metadata": {},
   "source": [
    "rs_indices.shape"
   ],
   "outputs": []
  },
  {
   "cell_type": "code",
   "execution_count": 37,
   "id": "78035494-dcc0-4f5a-81d5-2d60395dc458",
   "metadata": {},
   "source": [
    "rs_umap = train_umap[rs_indices]\n",
    "rs_bin = np.where(rs_umap[:, 0] < 2.6, 1, 0)"
   ],
   "outputs": []
  },
  {
   "cell_type": "code",
   "execution_count": 38,
   "id": "82dfb286-c665-4869-ae7c-23c3788a0c84",
   "metadata": {},
   "source": [
    "plt.scatter(rs_umap[:, 0], rs_umap[:, 1], c=rs_bin)"
   ],
   "outputs": []
  },
  {
   "cell_type": "code",
   "execution_count": 39,
   "id": "30410f67-dd16-40b0-bdb2-50b993fe62e4",
   "metadata": {},
   "source": [
    "umap = joblib.load('umap.pkl')\n",
    "p_umap = umap.transform(train_p_emb[rs_indices])\n",
    "s_umap = umap.transform(train_s_emb[rs_indices])\n",
    "m_umap = umap.transform(train_m_emb[rs_indices])"
   ],
   "outputs": []
  },
  {
   "cell_type": "code",
   "execution_count": 40,
   "id": "a01da566-872c-4f55-9e9c-b47a73db5607",
   "metadata": {},
   "source": [
    "plt.scatter(p_umap[:, 0], p_umap[:, 1], c=rs_bin)"
   ],
   "outputs": []
  },
  {
   "cell_type": "code",
   "execution_count": 41,
   "id": "16b23822-11bf-443f-9de5-6a71e98ed5e0",
   "metadata": {},
   "source": [
    "plt.scatter(s_umap[:, 0], s_umap[:, 1], c=rs_bin)"
   ],
   "outputs": []
  },
  {
   "cell_type": "code",
   "execution_count": 42,
   "id": "8b2911bb-d655-44fb-a822-ab4f2f1ec53a",
   "metadata": {},
   "source": [
    "plt.scatter(m_umap[:, 0], m_umap[:, 1], c=rs_bin)"
   ],
   "outputs": []
  },
  {
   "cell_type": "code",
   "execution_count": 43,
   "id": "4e8c9441-621b-4b07-953b-1310212459b2",
   "metadata": {},
   "source": [
    "rs_umap = train_umap[rs_indices]\n",
    "rs_bin_period = np.where(train_dataset.df.loc[rs_indices, 'org_period'] > 10, 1, 0)"
   ],
   "outputs": []
  },
  {
   "cell_type": "code",
   "execution_count": 44,
   "id": "cb23598f-5c97-4bc7-8f01-2807e878f6c8",
   "metadata": {},
   "source": [
    "plt.scatter(rs_umap[:, 0], rs_umap[:, 1], c=rs_bin_period)"
   ],
   "outputs": []
  },
  {
   "cell_type": "code",
   "execution_count": null,
   "id": "0aea40a4-db2b-4f2b-a210-e6ec3fac0258",
   "metadata": {},
   "source": [],
   "outputs": []
  },
  {
   "cell_type": "code",
   "execution_count": null,
   "id": "70c6a6fd-3e0c-457a-8b31-9ec9e4c0dbe4",
   "metadata": {},
   "source": [],
   "outputs": []
  },
  {
   "cell_type": "code",
   "execution_count": null,
   "id": "cdc4c788-a4d6-42a3-bd2d-3b8ce598d43f",
   "metadata": {},
   "source": [],
   "outputs": []
  },
  {
   "cell_type": "code",
   "execution_count": null,
   "id": "5edeee95-3277-4113-a8b6-ab4d0122f7e2",
   "metadata": {},
   "source": [],
   "outputs": []
  },
  {
   "cell_type": "code",
   "execution_count": 63,
   "id": "fe77fc90-ba3d-4c7d-8a50-cd6529ab1d55",
   "metadata": {},
   "source": [
    "rot_indices = np.where(train_labels == target2id['ROT'])[0]\n",
    "rot_umap = train_umap[rot_indices]\n",
    "rot_bin = np.where(rot_umap[:, 0] < 2.5, 1, 0)\n",
    "plt.scatter(rot_umap[:, 0], rot_umap[:, 1], c=rot_bin)"
   ],
   "outputs": []
  },
  {
   "cell_type": "code",
   "execution_count": 46,
   "id": "04ba72bc-a67a-44dc-9088-0cb822ae4006",
   "metadata": {},
   "source": [
    "df = pd.read_csv('/home/mariia/AstroML/data/asassn/preprocessed_data/full_lb/spectra_and_v_train.csv')"
   ],
   "outputs": []
  },
  {
   "cell_type": "code",
   "execution_count": 65,
   "id": "222f9d3a-46fd-416c-b67c-696bb3f1a18f",
   "metadata": {},
   "source": [
    "rot_df = df[df['id'].isin(train_dataset.df.iloc[rot_indices]['id'])]\n",
    "rot_df = rot_df[train_dataset.meta_cols]\n",
    "\n",
    "g_mag = rot_df['phot_g_mean_mag']  # Apparent magnitude in G band\n",
    "bp_mag = rot_df['phot_bp_mean_mag']  # Apparent magnitude in BP band\n",
    "rp_mag = rot_df['phot_rp_mean_mag']  # Apparent magnitude in RP band\n",
    "parallax = rot_df['parallax']  # Parallax in milliarcseconds (mas)\n",
    "\n",
    "# Convert parallax to distance in parsecs\n",
    "distance_pc = 1000 / parallax  # Distance in parsecs\n",
    "\n",
    "# Calculate absolute magnitude M_G\n",
    "M_G = g_mag - 5 * np.log10(distance_pc) + 5\n",
    "\n",
    "# Calculate color index G_BP - G_RP\n",
    "color_index = bp_mag - rp_mag\n",
    "\n",
    "plt.figure(figsize=(8, 6))\n",
    "plt.scatter(color_index, M_G, c=rot_bin, marker='o', alpha=0.7)\n",
    "plt.gca().invert_yaxis()  # Invert y-axis since brighter stars have lower magnitudes\n",
    "plt.xlabel(r'Color Index $G_{BP} - G_{RP}$', fontsize=12)\n",
    "plt.ylabel(r'Absolute Magnitude $M_G$', fontsize=12)\n",
    "plt.title('Color-Magnitude Diagram (CMD)', fontsize=14)\n",
    "plt.grid(True)\n",
    "plt.tight_layout()\n",
    "plt.show()"
   ],
   "outputs": []
  },
  {
   "cell_type": "code",
   "execution_count": 47,
   "id": "4234eddb-21b8-41be-9337-6c0a8a46b9d2",
   "metadata": {},
   "source": [
    "rs_df = df[df['id'].isin(train_dataset.df.iloc[rs_indices]['id'])]"
   ],
   "outputs": []
  },
  {
   "cell_type": "code",
   "execution_count": 48,
   "id": "9eb51677-26f9-4358-9bd5-b0ef7398f2bc",
   "metadata": {},
   "source": [
    "rs_df = rs_df[train_dataset.meta_cols]"
   ],
   "outputs": []
  },
  {
   "cell_type": "code",
   "execution_count": 52,
   "id": "8610a5c3-85bc-45eb-a394-342310117477",
   "metadata": {},
   "source": [
    "g_mag = rs_df['phot_g_mean_mag']  # Apparent magnitude in G band\n",
    "bp_mag = rs_df['phot_bp_mean_mag']  # Apparent magnitude in BP band\n",
    "rp_mag = rs_df['phot_rp_mean_mag']  # Apparent magnitude in RP band\n",
    "parallax = rs_df['parallax']  # Parallax in milliarcseconds (mas)\n",
    "\n",
    "# Convert parallax to distance in parsecs\n",
    "distance_pc = 1000 / parallax  # Distance in parsecs\n",
    "\n",
    "# Calculate absolute magnitude M_G\n",
    "M_G = g_mag - 5 * np.log10(distance_pc) + 5\n",
    "\n",
    "# Calculate color index G_BP - G_RP\n",
    "color_index = bp_mag - rp_mag"
   ],
   "outputs": []
  },
  {
   "cell_type": "code",
   "execution_count": 60,
   "id": "cb278a39-f244-43bb-abda-de6fdff85d2b",
   "metadata": {},
   "source": [
    "plt.figure(figsize=(8, 6))\n",
    "plt.scatter(color_index, M_G, c=rs_bin, marker='o', alpha=0.7)\n",
    "plt.gca().invert_yaxis()  # Invert y-axis since brighter stars have lower magnitudes\n",
    "plt.xlabel(r'Color Index $G_{BP} - G_{RP}$', fontsize=12)\n",
    "plt.ylabel(r'Absolute Magnitude $M_G$', fontsize=12)\n",
    "plt.title('Color-Magnitude Diagram (CMD)', fontsize=14)\n",
    "plt.grid(True)\n",
    "plt.tight_layout()\n",
    "plt.show()"
   ],
   "outputs": []
  },
  {
   "cell_type": "code",
   "execution_count": 58,
   "id": "042636e1-191d-48d2-ad94-b22f5893db57",
   "metadata": {},
   "source": [
    "plt.scatter(color_index, M_G, c=rs_bin)"
   ],
   "outputs": []
  },
  {
   "cell_type": "code",
   "execution_count": null,
   "id": "24884b94-dc6b-463d-a3d3-9940e3d01096",
   "metadata": {},
   "source": [],
   "outputs": []
  },
  {
   "cell_type": "code",
   "execution_count": null,
   "id": "b733649b-c2e6-4855-a918-1bfed4dad178",
   "metadata": {},
   "source": [],
   "outputs": []
  },
  {
   "cell_type": "code",
   "execution_count": null,
   "id": "9cb7417f-be4a-4443-b663-f6d8f5869ec9",
   "metadata": {},
   "source": [],
   "outputs": []
  },
  {
   "cell_type": "code",
   "execution_count": null,
   "id": "03c4a47a-ae6e-49d9-b28a-eeb00ad14baf",
   "metadata": {},
   "source": [],
   "outputs": []
  },
  {
   "cell_type": "code",
   "execution_count": null,
   "id": "b6215ded-39a9-4f56-8d80-591e9f765078",
   "metadata": {},
   "source": [],
   "outputs": []
  },
  {
   "cell_type": "code",
   "execution_count": null,
   "id": "85dbe24b-2011-4426-b441-7a1106129da5",
   "metadata": {},
   "source": [],
   "outputs": []
  },
  {
   "cell_type": "code",
   "execution_count": null,
   "id": "53544d46-69f9-4028-aae5-57f46532c83f",
   "metadata": {},
   "source": [],
   "outputs": []
  },
  {
   "cell_type": "code",
   "execution_count": null,
   "id": "7b875d82-1f3d-4bea-831b-b1757214e20a",
   "metadata": {},
   "source": [],
   "outputs": []
  },
  {
   "cell_type": "code",
   "execution_count": null,
   "id": "b713c3a6-bb9e-436a-9feb-36fe241519f4",
   "metadata": {},
   "source": [],
   "outputs": []
  },
  {
   "cell_type": "code",
   "execution_count": null,
   "id": "416ad782-0d86-4dc9-a5df-d2508454abbb",
   "metadata": {},
   "source": [],
   "outputs": []
  },
  {
   "cell_type": "code",
   "execution_count": null,
   "id": "24f2a778-ff6c-4826-9af3-5f82e9a145b7",
   "metadata": {},
   "source": [],
   "outputs": []
  },
  {
   "cell_type": "code",
   "execution_count": null,
   "id": "7201e4c0-b6d7-4953-a3d6-9775653b9fd2",
   "metadata": {},
   "source": [],
   "outputs": []
  },
  {
   "cell_type": "code",
   "execution_count": null,
   "id": "59ca1f2c-4aeb-4708-b3ae-5c7f3882814c",
   "metadata": {},
   "source": [],
   "outputs": []
  },
  {
   "cell_type": "code",
   "execution_count": null,
   "id": "581a70bc-f995-4601-bb95-02feecac958a",
   "metadata": {},
   "source": [],
   "outputs": []
  },
  {
   "cell_type": "code",
   "execution_count": 337,
   "id": "5ff1d31f-06cd-44ff-b7da-40381aa69805",
   "metadata": {},
   "source": [
    "for el in train_dataset.df.loc[rs_indices[rs_bin == 0], 'name']:\n",
    "    print(f\"'{el[len('ASASSN-V'):]}',\", end=\"\")"
   ],
   "outputs": []
  },
  {
   "cell_type": "code",
   "execution_count": null,
   "id": "debe3f26-26ba-476c-9e6d-86a4657b2c7b",
   "metadata": {},
   "source": [],
   "outputs": []
  },
  {
   "cell_type": "code",
   "execution_count": 220,
   "id": "a98d9297-b877-40fa-9c66-29170b968cd9",
   "metadata": {},
   "source": [
    "clf = DecisionTreeClassifier(random_state=42)\n",
    "clf.fit(rs_df, rs_bin)"
   ],
   "outputs": []
  },
  {
   "cell_type": "code",
   "execution_count": 221,
   "id": "04a1c870-1912-4632-9ffb-af0ec8ae78f3",
   "metadata": {},
   "source": [
    "y_pred = clf.predict(rs_df)"
   ],
   "outputs": []
  },
  {
   "cell_type": "code",
   "execution_count": 224,
   "id": "95e0b955-0eff-4463-a76e-530ece02ac4a",
   "metadata": {},
   "source": [
    "(y_pred == rs_bin).sum() / len(rs_bin)"
   ],
   "outputs": []
  },
  {
   "cell_type": "code",
   "execution_count": 228,
   "id": "af081576-d075-419d-ae73-40637e9fda3c",
   "metadata": {},
   "source": [
    "plt.figure(figsize=(15, 10))\n",
    "plot_tree(clf, filled=True, feature_names=rs_df.columns, class_names=[\"0\", \"1\"])"
   ],
   "outputs": []
  },
  {
   "cell_type": "code",
   "execution_count": null,
   "id": "f1cfb143-6933-4a4a-8c57-741ee71aea7b",
   "metadata": {},
   "source": [],
   "outputs": []
  },
  {
   "cell_type": "code",
   "execution_count": null,
   "id": "b67db4f5-d5de-4cf9-be76-b30686a8999a",
   "metadata": {},
   "source": [],
   "outputs": []
  },
  {
   "cell_type": "code",
   "execution_count": 432,
   "id": "d2becb26-7960-436c-95c5-4554bc625071",
   "metadata": {},
   "source": [
    "\"\"\"\n",
    "Ca II H & K Lines (3968.5 Å & 3933.7 Å):\n",
    "Indicators of chromospheric activity.\n",
    "Emission reversals or filled-in absorption cores suggest high activity.\n",
    "H-alpha Line (6562.8 Å):\n",
    "Emission or filled-in absorption indicative of active chromospheres.\n",
    "Ca II Infrared Triplet (8498 Å, 8542 Å, 8662 Å\n",
    "\"\"\"\n",
    "def plot_spectra_rs(dataset, idx):\n",
    "    el = dataset.df.iloc[idx]\n",
    "    label = target2id[el['target']]\n",
    "    period = el['org_period']\n",
    "    l, b = id2lb[el['id']]\n",
    "\n",
    "    fig, ax = plt.subplots(1, 1, figsize=(12, 5))\n",
    "    spectra = dataset.readLRSFits(os.path.join(dataset.lamost_spec_dir, el['spec_filename']))\n",
    "    ax.plot(spectra[:, 0], spectra[:, 1], label='Spectra')\n",
    "\n",
    "    # ax.axvspan(3933.7-1, 3933.7+1, color='red', alpha=1.0, label='Ca II H & K Lines (3968.5 Å & 3933.7 Å)')\n",
    "    # ax.axvspan(3968.5-1, 3968.5+1, color='red', alpha=1.0, label='Ca II H & K Lines (3968.5 Å & 3933.7 Å)')\n",
    "    \n",
    "    # ax.axvspan(4101.7-1, 4101.7+1, color='cyan', alpha=1.0, label='Hδ 4101.7 Å')\n",
    "    # ax.axvspan(4340.5-1, 4340.5+1, color='cyan', alpha=1.0, label='Hγ 4340.5 Å')\n",
    "    # ax.axvspan(4861.3-1, 4861.3+1, color='cyan', alpha=1.0, label='Hβ 4861.3 Å')\n",
    "    # ax.axvspan(6562.8-1, 6562.8+1, color='cyan', alpha=1.0, label='Hα 6562.8 Å')\n",
    "\n",
    "    # ax.axvspan(4383-1, 4383+1, color='magenta', alpha=1.0, label='Fe I 4383 Å')\n",
    "    # ax.axvspan(4957-1, 4957+1, color='magenta', alpha=1.0, label='Fe I 4957 Å')\n",
    "    # ax.axvspan(5167-1, 5167+1, color='magenta', alpha=1.0, label='Fe I 5167 Å')\n",
    "    # ax.axvspan(5328-1, 5328+1, color='magenta', alpha=1.0, label='Fe I 5328 Å')\n",
    "\n",
    "    # ax.axvspan(4736, 4738, color='purple', alpha=1.0, label='C-type C2 Swan band 4737 Å')\n",
    "    # ax.axvspan(5164, 5166, color='purple', alpha=1.0, label='C-type C2 Swan band 5165 Å')\n",
    "\n",
    "    # ax.axvspan(5896-1, 5896+1, color='brown', alpha=1.0, label='Na I D1 5896 Å')\n",
    "\n",
    "    ax.legend(loc='upper left', bbox_to_anchor=(1.05, 1), fontsize=10)\n",
    "    ax.grid(True)\n",
    "\n",
    "    plt.suptitle(f'period = {period}    label = {id2target[label]}     idx {idx}    L = {l}    B = {b}    id {el[\"id\"]}')\n",
    "    plt.tight_layout()\n",
    "    plt.show()"
   ],
   "outputs": []
  },
  {
   "cell_type": "code",
   "execution_count": 413,
   "id": "f3fe8037-2436-44e7-9e97-fae167d36999",
   "metadata": {},
   "source": [
    "rs_indices[rs_bin == 0][:5], rs_indices[rs_bin == 1][:5]"
   ],
   "outputs": []
  },
  {
   "cell_type": "code",
   "execution_count": 431,
   "id": "acebb3fa-312a-4816-a97a-29aef6d73e9c",
   "metadata": {},
   "source": [
    "train_dataset.df.loc[rs_indices[rs_bin == 0], 'id']"
   ],
   "outputs": []
  },
  {
   "cell_type": "code",
   "execution_count": 433,
   "id": "1c5c404d-9e87-4b92-8ab6-4489bc3486a1",
   "metadata": {},
   "source": [
    "for i in range(5):\n",
    "    plot_spectra_rs(train_dataset, rs_indices[rs_bin == 0][i])"
   ],
   "outputs": []
  },
  {
   "cell_type": "code",
   "execution_count": 434,
   "id": "b2e55922-20ef-463b-af5f-20c431f4975d",
   "metadata": {},
   "source": [
    "for i in range(5):\n",
    "    plot_spectra_rs(train_dataset, rs_indices[rs_bin == 1][i])"
   ],
   "outputs": []
  },
  {
   "cell_type": "code",
   "execution_count": null,
   "id": "f834118b-a3f2-4b7a-9a89-f046eaccb045",
   "metadata": {},
   "source": [],
   "outputs": []
  },
  {
   "cell_type": "code",
   "execution_count": null,
   "id": "85b8a267-f47f-4c3f-9c50-3fec5fb4f152",
   "metadata": {},
   "source": [],
   "outputs": []
  },
  {
   "cell_type": "code",
   "execution_count": null,
   "id": "8714e1a4-cc7c-4213-92e0-bec4471abf10",
   "metadata": {},
   "source": [],
   "outputs": []
  },
  {
   "cell_type": "code",
   "execution_count": null,
   "id": "18a71dbc-1b40-4e79-8f0e-2c60103067b8",
   "metadata": {},
   "source": [],
   "outputs": []
  },
  {
   "cell_type": "code",
   "execution_count": null,
   "id": "ecfce62f-39e4-46ac-99d0-0e8c0c37db42",
   "metadata": {},
   "source": [],
   "outputs": []
  },
  {
   "cell_type": "code",
   "execution_count": null,
   "id": "619efcc3-1b0b-493d-8ed0-980a9f64ecbd",
   "metadata": {},
   "source": [],
   "outputs": []
  },
  {
   "cell_type": "code",
   "execution_count": null,
   "id": "8d3a97e0-8e35-4b96-9651-3dccc7479245",
   "metadata": {},
   "source": [],
   "outputs": []
  },
  {
   "cell_type": "code",
   "execution_count": null,
   "id": "7a0f4173-4e6d-4e64-86b5-86df26a35a8e",
   "metadata": {},
   "source": [],
   "outputs": []
  },
  {
   "cell_type": "code",
   "execution_count": null,
   "id": "6b14b78a-552b-48ef-9d10-b19f6f99016f",
   "metadata": {},
   "source": [],
   "outputs": []
  },
  {
   "cell_type": "code",
   "execution_count": null,
   "id": "b5022b81-dce2-4338-809c-cced709f8167",
   "metadata": {},
   "source": [],
   "outputs": []
  },
  {
   "cell_type": "code",
   "execution_count": null,
   "id": "13f70f43-898d-48ca-a1a2-5d62ddf87cf2",
   "metadata": {},
   "source": [],
   "outputs": []
  },
  {
   "cell_type": "code",
   "execution_count": null,
   "id": "41cc64f2-0db5-4c0c-8225-05e368a568fe",
   "metadata": {},
   "source": [],
   "outputs": []
  },
  {
   "cell_type": "code",
   "execution_count": null,
   "id": "08170752-6195-47d3-89ce-c7940235b506",
   "metadata": {},
   "source": [],
   "outputs": []
  },
  {
   "cell_type": "code",
   "execution_count": 149,
   "id": "5c11e8d6-093e-4f50-b182-3f1d68892a4a",
   "metadata": {},
   "source": [
    "ind = train_labels == target2id['M']\n",
    "m_ind = np.arange(len(ind))[ind]\n",
    "m_umap = train_umap[m_ind]\n",
    "m_bin = np.where(m_umap[:, 1] > 2.3, 1, 0)"
   ],
   "outputs": []
  },
  {
   "cell_type": "code",
   "execution_count": 144,
   "id": "cd07860f-288f-43fb-a1b9-2582dcadf1e9",
   "metadata": {},
   "source": [
    "plt.scatter(m_umap[:, 0], m_umap[:, 1], c=m_bin)"
   ],
   "outputs": []
  },
  {
   "cell_type": "code",
   "execution_count": 330,
   "id": "906cc846-726d-4d2c-8d0f-fa41e9174be6",
   "metadata": {},
   "source": [
    "len(m_ind[m_bin == 0])"
   ],
   "outputs": []
  },
  {
   "cell_type": "code",
   "execution_count": 322,
   "id": "b673bb82-6cfe-4d1c-a811-c9b8c9adf77c",
   "metadata": {},
   "source": [
    "for el in train_dataset.df.loc[m_ind[m_bin == 1], 'id']:\n",
    "    print(el)"
   ],
   "outputs": []
  },
  {
   "cell_type": "code",
   "execution_count": 329,
   "id": "4a17c469-d7ef-4b41-8bdb-b154dfe47051",
   "metadata": {},
   "source": [
    "for el in train_dataset.df.loc[m_ind[m_bin == 0]]['name']:\n",
    "    print(f\"'{el.split('-')[-1][1:]}', \", end='')"
   ],
   "outputs": []
  },
  {
   "cell_type": "code",
   "execution_count": null,
   "id": "5f043e9f-1f5c-4a1c-8ec3-7766e882979e",
   "metadata": {},
   "source": [
    "J054342.21+290935.5"
   ],
   "outputs": []
  },
  {
   "cell_type": "code",
   "execution_count": null,
   "id": "1663485e-a222-41d2-aed0-f987ea641acb",
   "metadata": {},
   "source": [
    "2137, 4590, 4605, 4610, 7444, 7758 = C"
   ],
   "outputs": []
  },
  {
   "cell_type": "code",
   "execution_count": null,
   "id": "2f5af866-1fa1-42c7-a7f3-8eb8529884d3",
   "metadata": {},
   "source": [],
   "outputs": []
  },
  {
   "cell_type": "code",
   "execution_count": null,
   "id": "9d675d07-76a9-4641-973d-6f55f4ae89af",
   "metadata": {},
   "source": [],
   "outputs": []
  },
  {
   "cell_type": "code",
   "execution_count": 175,
   "id": "ac9c9289-4fea-4a2f-9058-308e79b2cfd3",
   "metadata": {},
   "source": [
    "umap = joblib.load('umap.pkl')\n",
    "p_umap = umap.transform(train_p_emb[m_ind])\n",
    "s_umap = umap.transform(train_s_emb[m_ind])\n",
    "m_umap = umap.transform(train_m_emb[m_ind])"
   ],
   "outputs": []
  },
  {
   "cell_type": "code",
   "execution_count": 176,
   "id": "ee7596cf-3909-4148-8fce-df881897ea80",
   "metadata": {},
   "source": [
    "plt.scatter(p_umap[:, 0], p_umap[:, 1], c=m_bin)"
   ],
   "outputs": []
  },
  {
   "cell_type": "code",
   "execution_count": 177,
   "id": "e5e9cc03-5a97-4e98-8f01-75108f371d15",
   "metadata": {},
   "source": [
    "plt.scatter(s_umap[:, 0], s_umap[:, 1], c=m_bin)"
   ],
   "outputs": []
  },
  {
   "cell_type": "code",
   "execution_count": 178,
   "id": "3d2de4cb-c4c6-4b30-9de4-b7d330d2d683",
   "metadata": {},
   "source": [
    "plt.scatter(m_umap[:, 0], m_umap[:, 1], c=m_bin)"
   ],
   "outputs": []
  },
  {
   "cell_type": "code",
   "execution_count": 241,
   "id": "a01ad8ab-410e-40b1-9866-e67170a61f64",
   "metadata": {},
   "source": [
    "train_dataset.meta_cols"
   ],
   "outputs": []
  },
  {
   "cell_type": "code",
   "execution_count": 243,
   "id": "7b0ab3bc-441b-4ecc-8e00-e612f735f80f",
   "metadata": {},
   "source": [
    "cols = train_dataset.meta_cols\n",
    "# cols.remove('pmdec_error')\n",
    "# cols.remove('e_w1_mag')\n",
    "# cols.remove('e_w2_mag')\n",
    "# cols.remove('e_w3_mag')"
   ],
   "outputs": []
  },
  {
   "cell_type": "code",
   "execution_count": 244,
   "id": "8e8774e3-0ddd-4100-b802-e5b4d4ea6c2a",
   "metadata": {},
   "source": [
    "cols"
   ],
   "outputs": []
  },
  {
   "cell_type": "code",
   "execution_count": 245,
   "id": "12c1a336-8243-4d4e-9480-94a26c507a01",
   "metadata": {},
   "source": [
    "df = pd.read_csv('/home/mariia/AstroML/data/asassn/preprocessed_data/full_lb/spectra_and_v_train.csv')\n",
    "m_df = df[df['id'].isin(train_dataset.df.iloc[m_ind]['id'])]\n",
    "m_df = m_df[cols]\n",
    "\n",
    "clf = DecisionTreeClassifier(random_state=42)\n",
    "clf.fit(m_df, m_bin)\n",
    "\n",
    "y_pred = clf.predict(m_df)\n",
    "print((y_pred == m_bin).sum() / len(m_bin))\n",
    "\n",
    "plt.figure(figsize=(15, 10))\n",
    "plot_tree(clf, filled=True, feature_names=m_df.columns, class_names=[\"0\", \"1\"])"
   ],
   "outputs": []
  },
  {
   "cell_type": "code",
   "execution_count": null,
   "id": "ba9ebcdd-1af5-43eb-ae94-a557df29c6f5",
   "metadata": {},
   "source": [
    "\"\"\"\n",
    "Spectral     𝐽−𝐾     \t   BP-RP \n",
    "M-type\t     1.2 – 1.6\t   2.5 – 3.5\n",
    "S-type\t     1.6 – 2.2\t   3.5 – 5.0\n",
    "C-type\t     2.0 – 3.0\t   5.0 – 7.0\n",
    "\n",
    "8 objs: j_k >= 2.088 => C-Type or S-Type\n",
    "6 objs: 1.434 <= j_k <= 2.088 && bp_rp <= 2.995 => S-Type?\n",
    "+2 objs\n",
    "\"\"\""
   ],
   "outputs": []
  },
  {
   "cell_type": "code",
   "execution_count": null,
   "id": "97359583-fa3c-43ea-930a-1eb583c6dbb7",
   "metadata": {},
   "source": [],
   "outputs": []
  },
  {
   "cell_type": "code",
   "execution_count": null,
   "id": "8540a2cb-10b5-460f-9241-7a9791c13d5e",
   "metadata": {},
   "source": [],
   "outputs": []
  },
  {
   "cell_type": "code",
   "execution_count": null,
   "id": "f76f081f-0603-4b30-b9f0-74b1fb431f0b",
   "metadata": {},
   "source": [],
   "outputs": []
  },
  {
   "cell_type": "code",
   "execution_count": null,
   "id": "9790139f-ee6c-440e-bd62-19b22119156a",
   "metadata": {},
   "source": [],
   "outputs": []
  },
  {
   "cell_type": "code",
   "execution_count": null,
   "id": "6198cc41-b0b1-47b2-9dbb-909504fc2c47",
   "metadata": {},
   "source": [],
   "outputs": []
  },
  {
   "cell_type": "code",
   "execution_count": null,
   "id": "79043f49-d146-431b-8d80-e5039afb7f65",
   "metadata": {},
   "source": [],
   "outputs": []
  },
  {
   "cell_type": "code",
   "execution_count": null,
   "id": "6dcad9bc-49bd-48e4-91e2-a7e9eab0d0bd",
   "metadata": {},
   "source": [],
   "outputs": []
  },
  {
   "cell_type": "code",
   "execution_count": null,
   "id": "3aa96c10-02c5-4351-aa55-098df67dc19f",
   "metadata": {},
   "source": [],
   "outputs": []
  },
  {
   "cell_type": "code",
   "execution_count": null,
   "id": "b124db8d-8347-4a3e-8379-a8d2028d0bf3",
   "metadata": {},
   "source": [],
   "outputs": []
  },
  {
   "cell_type": "code",
   "execution_count": null,
   "id": "dfc2370e-c2fe-4e49-aa25-7165a89f4ca2",
   "metadata": {},
   "source": [],
   "outputs": []
  },
  {
   "cell_type": "code",
   "execution_count": null,
   "id": "498adf26-143e-406a-9e55-2737b46dcba8",
   "metadata": {},
   "source": [],
   "outputs": []
  },
  {
   "cell_type": "code",
   "execution_count": null,
   "id": "724d4554-f82b-48f5-a5e1-8faa61049d1d",
   "metadata": {},
   "source": [],
   "outputs": []
  },
  {
   "cell_type": "code",
   "execution_count": null,
   "id": "c50ba8e3-528d-469a-b2b7-2adc3efeb051",
   "metadata": {},
   "source": [],
   "outputs": []
  },
  {
   "cell_type": "code",
   "execution_count": null,
   "id": "371ed979-b26a-485f-b375-597e6cec51dc",
   "metadata": {},
   "source": [],
   "outputs": []
  },
  {
   "cell_type": "code",
   "execution_count": null,
   "id": "a833102f-7216-4f12-a257-a99114d086fa",
   "metadata": {},
   "source": [],
   "outputs": []
  },
  {
   "cell_type": "code",
   "execution_count": null,
   "id": "b7cdca94-7106-4f5a-a179-140cd1e45c9d",
   "metadata": {},
   "source": [],
   "outputs": []
  },
  {
   "cell_type": "code",
   "execution_count": null,
   "id": "d61c8244-0524-423e-9a27-a7e14f6e7983",
   "metadata": {},
   "source": [],
   "outputs": []
  },
  {
   "cell_type": "code",
   "execution_count": null,
   "id": "abaee09c-e61b-4402-990a-0815268c7976",
   "metadata": {},
   "source": [],
   "outputs": []
  },
  {
   "cell_type": "code",
   "execution_count": null,
   "id": "04f37709-b3c3-4c6b-82d1-81280d5b86e4",
   "metadata": {},
   "source": [],
   "outputs": []
  },
  {
   "cell_type": "code",
   "execution_count": null,
   "id": "93346204-4a9f-4da0-baf3-7b753b127296",
   "metadata": {},
   "source": [],
   "outputs": []
  },
  {
   "cell_type": "code",
   "execution_count": null,
   "id": "097721eb-9caa-412c-91c6-e05e91c418b2",
   "metadata": {},
   "source": [],
   "outputs": []
  },
  {
   "cell_type": "code",
   "execution_count": null,
   "id": "36f906e9-1891-41bd-9e59-4ac9ef6dfd8b",
   "metadata": {},
   "source": [
    "for el in rs_indices[rs_bin == 0]:\n",
    "    plot_obj_umap(train_dataset, el, train_umap, train_labels)"
   ],
   "outputs": []
  },
  {
   "cell_type": "code",
   "execution_count": null,
   "id": "a9057623-3845-4cba-8f2e-21ad91d9ac90",
   "metadata": {},
   "source": [],
   "outputs": []
  },
  {
   "cell_type": "code",
   "execution_count": null,
   "id": "a0f4d2cc-969d-49bc-b014-9b1892679386",
   "metadata": {},
   "source": [],
   "outputs": []
  },
  {
   "cell_type": "code",
   "execution_count": null,
   "id": "9e518bd6-0a80-4822-ad7b-4db7334dff97",
   "metadata": {},
   "source": [],
   "outputs": []
  },
  {
   "cell_type": "code",
   "execution_count": null,
   "id": "1cebee0a-f787-4f00-852f-033c0a42872a",
   "metadata": {},
   "source": [],
   "outputs": []
  },
  {
   "cell_type": "code",
   "execution_count": null,
   "id": "332608d0-bac8-4223-a811-5c6cede1cd41",
   "metadata": {},
   "source": [],
   "outputs": []
  },
  {
   "cell_type": "code",
   "execution_count": null,
   "id": "787e33fb-7853-48c2-baca-111458e4aef8",
   "metadata": {},
   "source": [],
   "outputs": []
  },
  {
   "cell_type": "code",
   "execution_count": null,
   "id": "c0a620fd-0a12-43da-a143-80df82faa8cc",
   "metadata": {},
   "source": [],
   "outputs": []
  },
  {
   "cell_type": "code",
   "execution_count": null,
   "id": "6144588f-5739-4029-9a7e-eaca7201b003",
   "metadata": {},
   "source": [],
   "outputs": []
  },
  {
   "cell_type": "code",
   "execution_count": null,
   "id": "fd273922-7126-4869-a281-de015c23a051",
   "metadata": {},
   "source": [],
   "outputs": []
  },
  {
   "cell_type": "code",
   "execution_count": null,
   "id": "91562aa0-274b-416d-9816-c564be574993",
   "metadata": {},
   "source": [
    "\n"
   ],
   "outputs": []
  },
  {
   "cell_type": "code",
   "execution_count": null,
   "id": "48cb4be0-eb53-4120-a086-4573d345d333",
   "metadata": {},
   "source": [],
   "outputs": []
  },
  {
   "cell_type": "markdown",
   "id": "a67a494a-7ef4-4d16-b53d-d9a9e25235b0",
   "metadata": {},
   "source": [
    "# MIRAS FROM THE SMALL CLUSTER"
   ]
  },
  {
   "cell_type": "code",
   "execution_count": 260,
   "id": "bbf3d407-680a-4a2e-a09a-97d18ca67252",
   "metadata": {},
   "source": [
    "plot_spectra(train_dataset, 681)"
   ],
   "outputs": []
  },
  {
   "cell_type": "code",
   "execution_count": 367,
   "id": "7eedf8c0-c037-41a7-a8c1-1ed747ffa0e2",
   "metadata": {},
   "source": [
    "def plot_spectra(dataset, idx, mtype='m'):\n",
    "    el = dataset.df.iloc[idx]\n",
    "    label = target2id[el['target']]\n",
    "    period = el['org_period']\n",
    "    l, b = id2lb[el['id']]\n",
    "\n",
    "    fig, ax = plt.subplots(1, 1, figsize=(12, 5))\n",
    "\n",
    "    if mtype == 'm':\n",
    "         \n",
    "        ax.axvspan(6562.8-1, 6562.8+1, color='cyan', alpha=1.0, label='M-type Hα 6562.8 Å')\n",
    "        ax.axvspan(4861.3-1, 4861.3+1, color='cyan', alpha=1.0, label='M-type Hβ 4861.3 Å')\n",
    "        ax.axvspan(4340.5-1, 4340.5+1, color='cyan', alpha=1.0, label='M-type Hγ 4340.5 Å')\n",
    "        ax.axvspan(4101.7-1, 4101.7+1, color='cyan', alpha=1.0, label='M-type Hδ 4101.7 Å')\n",
    "        \n",
    "        # ax.axvspan(7149, 7151, color='purple', alpha=1.0, label='M-type TiO band 7150 Å')\n",
    "        # ax.axvspan(7599, 7601, color='brown', alpha=1.0, label='M-type TiO band 7600 Å')\n",
    "        # ax.axvspan(8499, 8501, color='pink', alpha=1.0, label='M-type TiO band 8500 Å')\n",
    "        # ax.axvspan(4300, 4600, color='red', alpha=0.3, label='M-type TiO (4300-4600 Å)')\n",
    "        # ax.axvspan(4800, 5200, color='orange', alpha=0.3, label='M-type TiO (4800-5200 Å)')\n",
    "        # ax.axvspan(6150, 6300, color='yellow', alpha=0.3, label='M-type TiO (6150-6300 Å)')\n",
    "        ax.axvspan(7050, 7300, color='green', alpha=0.3, label='M-type TiO (7050-7350 Å)')\n",
    "        # ax.axvspan(7600, 8200, color='blue', alpha=0.3, label='M-type TiO (7600-8200 Å)')\n",
    "    elif mtype == 's':\n",
    "        ax.axvspan(4600, 4900, color='purple', alpha=0.3, label='S-type ZrO (4600-4900 Å)')\n",
    "        ax.axvspan(5700, 6200, color='pink', alpha=0.3, label='S-type ZrO (5700-6200 Å)')\n",
    "        ax.axvspan(7400, 7800, color='brown', alpha=0.3, label='S-type ZrO (7400-7800 Å)')\n",
    "    else:\n",
    "        ax.axvspan(4214, 4216, color='yellow', alpha=1.0, label='C-type CN band 4215 Å')\n",
    "        ax.axvspan(4736, 4738, color='purple', alpha=1.0, label='C-type C2 Swan band 4737 Å')\n",
    "        ax.axvspan(5164, 5166, color='brown', alpha=1.0, label='C-type C2 Swan band 5165 Å')\n",
    "        # ax.axvspan(4300, 4700, color='cyan', alpha=0.3, label='C-type C2 (4300-4700 Å)')\n",
    "        # ax.axvspan(5600, 6200, color='magenta', alpha=0.3, label='C-type CN (5600-6200 Å)')\n",
    "        # ax.axvspan(7000, 9000, color='gray', alpha=0.3, label='C-type CN (7000-9000 Å)')\n",
    "\n",
    "    spectra = dataset.readLRSFits(os.path.join(dataset.lamost_spec_dir, el['spec_filename']))\n",
    "    ax.plot(spectra[:, 0], spectra[:, 1], label='Spectra')\n",
    "    \n",
    "    ax.legend(loc='upper left', bbox_to_anchor=(1.05, 1), fontsize=10)\n",
    "    ax.grid(True)\n",
    "\n",
    "    plt.suptitle(f'period = {period}    label = {id2target[label]}     idx {idx}    L = {l}    B = {b}    id {el[\"id\"]}')\n",
    "    plt.tight_layout()\n",
    "    plt.show()"
   ],
   "outputs": []
  },
  {
   "cell_type": "code",
   "execution_count": 66,
   "id": "5421ede0-b46a-49b1-8df9-683cdc3afb5a",
   "metadata": {},
   "source": [
    "len(m_ind[m_bin == 0])"
   ],
   "outputs": []
  },
  {
   "cell_type": "code",
   "execution_count": 368,
   "id": "ac962d91-ca51-4cc3-aea4-9235e8735e81",
   "metadata": {},
   "source": [
    "for i in range(20):\n",
    "    plot_spectra(train_dataset, m_ind[m_bin == 0][i], mtype='m')"
   ],
   "outputs": []
  },
  {
   "cell_type": "code",
   "execution_count": 348,
   "id": "005b77b7-7db2-4307-acf0-5643beaa6184",
   "metadata": {},
   "source": [
    "for el in m_ind[m_bin == 1]:\n",
    "    plot_spectra(train_dataset, el, mtype='c')"
   ],
   "outputs": []
  },
  {
   "cell_type": "code",
   "execution_count": null,
   "id": "2729618e-122f-4495-8fe1-c666e5fdd06f",
   "metadata": {},
   "source": [
    "for el in m_ind[m_bin == 1]:\n",
    "    plot_obj_umap(train_dataset, el, train_umap, train_labels)"
   ],
   "outputs": []
  },
  {
   "cell_type": "markdown",
   "id": "a71a4788-aca2-4042-a24f-7e47ec1a8ffa",
   "metadata": {},
   "source": [
    "# MIRAS FROM THE BIG CLUSTER"
   ]
  },
  {
   "cell_type": "code",
   "execution_count": null,
   "id": "b58fb9ca-73bd-421d-bbc3-0025aa7f8b80",
   "metadata": {},
   "source": [
    "for el in m_ind[m_bin == 0]:\n",
    "    plot_obj_umap(train_dataset, el, train_umap, train_labels)"
   ],
   "outputs": []
  },
  {
   "cell_type": "markdown",
   "id": "ffeebe89-e0a7-481c-89a0-2bf4d9e93feb",
   "metadata": {},
   "source": [
    "# RS BIG CLUSTER"
   ]
  },
  {
   "cell_type": "code",
   "execution_count": null,
   "id": "ffa84b52-0278-46ca-b0e2-85825bc45560",
   "metadata": {},
   "source": [
    "for el in rs_indices[rs_bin == 0]:\n",
    "    plot_obj_umap(train_dataset, el, train_umap, train_labels)"
   ],
   "outputs": []
  },
  {
   "cell_type": "markdown",
   "id": "06ab3819-7fe7-4809-8d5e-5220054df909",
   "metadata": {},
   "source": [
    "# RS SMALL CLUSTER"
   ]
  },
  {
   "cell_type": "code",
   "execution_count": null,
   "id": "0cba7406-4f8e-4374-af81-19172af1c0e4",
   "metadata": {},
   "source": [
    "for el in rs_indices[rs_bin == 1]:\n",
    "    plot_obj_umap(train_dataset, el, train_umap, train_labels)"
   ],
   "outputs": []
  },
  {
   "cell_type": "code",
   "execution_count": null,
   "id": "8becb25d-126a-4964-9770-33eefb6d0aea",
   "metadata": {},
   "source": [],
   "outputs": []
  },
  {
   "cell_type": "code",
   "execution_count": null,
   "id": "303f0a4f-1930-4491-b74b-a17aa590a8d2",
   "metadata": {},
   "source": [],
   "outputs": []
  },
  {
   "cell_type": "code",
   "execution_count": null,
   "id": "d407201c-bc48-4de8-a9da-fa9b6003cdce",
   "metadata": {},
   "source": [],
   "outputs": []
  },
  {
   "cell_type": "code",
   "execution_count": null,
   "id": "23a8bb04-8b2a-4ba8-9313-eb2843f35eb8",
   "metadata": {},
   "source": [],
   "outputs": []
  },
  {
   "cell_type": "code",
   "execution_count": null,
   "id": "d9c1d6a0-6f5e-4945-ab8e-c6d00ffedfb8",
   "metadata": {},
   "source": [],
   "outputs": []
  },
  {
   "cell_type": "code",
   "execution_count": null,
   "id": "f0be7582-5a54-4cf7-986f-505130d62528",
   "metadata": {},
   "source": [],
   "outputs": []
  },
  {
   "cell_type": "code",
   "execution_count": null,
   "id": "8bc5166d-5913-450e-8b95-f63d4bc71dd7",
   "metadata": {},
   "source": [],
   "outputs": []
  },
  {
   "cell_type": "code",
   "execution_count": null,
   "id": "ccbb6ebf-d3dc-48f8-9618-71c34f60a95e",
   "metadata": {},
   "source": [],
   "outputs": []
  }
 ],
 "metadata": {
  "kernelspec": {
   "display_name": "Python 3 (ipykernel)",
   "language": "python",
   "name": "python3"
  },
  "language_info": {
   "codemirror_mode": {
    "name": "ipython",
    "version": 3
   },
   "file_extension": ".py",
   "mimetype": "text/x-python",
   "name": "python",
   "nbconvert_exporter": "python",
   "pygments_lexer": "ipython3",
   "version": "3.10.14"
  }
 },
 "nbformat": 4,
 "nbformat_minor": 5
}

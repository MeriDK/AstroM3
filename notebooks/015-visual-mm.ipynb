{
 "cells": [
  {
   "cell_type": "code",
   "execution_count": 183,
   "id": "65ba0d02-1e0c-4d7c-908d-716dc5f52eae",
   "metadata": {},
   "source": [
    "import sys\n",
    "sys.path.insert(0, '..')\n",
    "\n",
    "import pandas as pd\n",
    "from torch.utils.data import Dataset, DataLoader\n",
    "from astropy.io import fits\n",
    "import json\n",
    "import os\n",
    "from io import BytesIO\n",
    "from scipy import stats\n",
    "import joblib\n",
    "import numpy as np\n",
    "import pandas as pd\n",
    "import seaborn as sns\n",
    "import matplotlib.pyplot as plt\n",
    "from sklearn.model_selection import train_test_split\n",
    "from sklearn.preprocessing import StandardScaler\n",
    "from sklearn.metrics import confusion_matrix\n",
    "from torch.utils.data import Dataset\n",
    "import torch\n",
    "import torch.nn as nn\n",
    "from torch.optim import AdamW\n",
    "import torch.nn.functional as F\n",
    "from torch.nn.functional import sigmoid\n",
    "from datetime import datetime\n",
    "import random\n",
    "from tqdm import tqdm\n",
    "import umap\n",
    "from sklearn.preprocessing import LabelEncoder\n",
    "\n",
    "from util.parallelzipfile import ParallelZipFile as ZipFile\n",
    "from util.preprocess_data import clip_outliers\n",
    "from models.Informer import DataEmbedding, EncoderLayer, AttentionLayer, ProbAttention, Encoder\n",
    "from core.multimodal.model import ModelV0\n",
    "from core.multimodal.dataset import VPSMDataset"
   ],
   "outputs": []
  },
  {
   "cell_type": "code",
   "execution_count": 184,
   "id": "001eea03-fa2e-4847-b659-6c80eec81c22",
   "metadata": {},
   "source": [
    "def set_random_seeds(random_seed):\n",
    "    torch.manual_seed(random_seed)\n",
    "    np.random.seed(random_seed)\n",
    "    random.seed(random_seed)\n",
    "    torch.backends.cudnn.deterministic = True\n",
    "\n",
    "\n",
    "def get_config(random_seed):\n",
    "    config = {\n",
    "        'project': 'multimodal-contrastive',\n",
    "        'random_seed': random_seed,\n",
    "        'use_wandb': False,\n",
    "        'save_weights': True,\n",
    "        'weights_path': f'/home/mariia/AstroML/weights/{datetime.now().strftime(\"%Y-%m-%d-%H-%M\")}',\n",
    "        'use_pretrain': None,\n",
    "\n",
    "        # Data General\n",
    "        'data_root': '/home/mariia/AstroML/data/asassn/',\n",
    "        'file': 'spectra_v_merged_fixed.csv',\n",
    "        'classes': None,\n",
    "        'min_samples': 200,\n",
    "        'max_samples': None,\n",
    "\n",
    "        # Photometry\n",
    "        'v_zip': 'asassnvarlc_vband_complete.zip',\n",
    "        'v_prefix': 'vardb_files',\n",
    "        'seq_len': 200,\n",
    "        'phased': True,\n",
    "        'clip': False,\n",
    "        'aux': True,\n",
    "\n",
    "        # Spectra\n",
    "        'lamost_spec_dir': 'Spectra/v2',\n",
    "        'spectra_v_file': 'spectra_v_merged.csv',\n",
    "        'z_corr': False,\n",
    "\n",
    "        # Photometry Model\n",
    "        'p_encoder_layers': 8,\n",
    "        'p_d_model': 128,\n",
    "        'p_dropout': 0,\n",
    "        'p_feature_size': 3,\n",
    "        'p_n_heads': 4,\n",
    "        'p_d_ff': 512,\n",
    "\n",
    "        # Spectra Model\n",
    "        's_hidden_dim': 512,\n",
    "        's_dropout': 0,\n",
    "\n",
    "        # Metadata Model\n",
    "        'm_hidden_dim': 512,\n",
    "        'm_dropout': 0,\n",
    "\n",
    "        # MultiModal Model\n",
    "        'hidden_dim': 256,\n",
    "\n",
    "        # Training\n",
    "        'batch_size': 32,\n",
    "        'lr': 1e-3,\n",
    "        'weight_decay': 0,\n",
    "        'epochs': 50,\n",
    "        'optimizer': 'AdamW',\n",
    "        'early_stopping_patience': 10,\n",
    "\n",
    "        # Learning Rate Scheduler\n",
    "        'factor': 0.3,\n",
    "        'patience': 5,\n",
    "    }\n",
    "\n",
    "    config['p_feature_size'] += 4\n",
    "\n",
    "    return config"
   ],
   "outputs": []
  },
  {
   "cell_type": "code",
   "execution_count": 20,
   "id": "242e26b2-b28b-49ca-9ad6-8219787c2d06",
   "metadata": {},
   "source": [
    "random_seed = 66\n",
    "set_random_seeds(random_seed)\n",
    "config = get_config(random_seed)"
   ],
   "outputs": []
  },
  {
   "cell_type": "code",
   "execution_count": 21,
   "id": "c91a8bc5-5c44-4e94-b33c-bb4f993e5bab",
   "metadata": {},
   "source": [
    "train_dataset = VPSMDataset(\n",
    "    data_root=config['data_root'], file=config['file'], split='train', min_samples=config['min_samples'],\n",
    "    max_samples=config['max_samples'], classes=config['classes'], random_seed=config['random_seed'], verbose=True,\n",
    "    v_zip=config['v_zip'], v_prefix=config['v_prefix'], seq_len=config['seq_len'], phased=config['phased'],\n",
    "    clip=config['clip'], aux=config['aux'], lamost_spec_dir=config['lamost_spec_dir'],\n",
    "    spectra_v_file=config['spectra_v_file'], z_corr=config['z_corr']\n",
    ")\n",
    "val_dataset = VPSMDataset(\n",
    "    data_root=config['data_root'], file=config['file'], split='val', min_samples=config['min_samples'],\n",
    "    max_samples=config['max_samples'], classes=config['classes'], random_seed=config['random_seed'], verbose=True,\n",
    "    v_zip=config['v_zip'], v_prefix=config['v_prefix'], seq_len=config['seq_len'], phased=config['phased'],\n",
    "    clip=config['clip'], aux=config['aux'], lamost_spec_dir=config['lamost_spec_dir'],\n",
    "    spectra_v_file=config['spectra_v_file'], z_corr=config['z_corr']\n",
    ")"
   ],
   "outputs": []
  },
  {
   "cell_type": "code",
   "execution_count": 22,
   "id": "df4fa589-2d9f-481e-a3c7-e371908d9149",
   "metadata": {},
   "source": [
    "train_dataloader = DataLoader(train_dataset, batch_size=config['batch_size'], shuffle=True, num_workers=4)\n",
    "val_dataloader = DataLoader(val_dataset, batch_size=config['batch_size'], shuffle=False)"
   ],
   "outputs": []
  },
  {
   "cell_type": "code",
   "execution_count": 72,
   "id": "0c8f6d30-d38e-49b8-8617-80d1048faba8",
   "metadata": {},
   "source": [
    "model = ModelV0(config)\n",
    "device = torch.device('cuda' if torch.cuda.is_available() else 'cpu')\n",
    "model = model.to(device)\n",
    "model.eval()\n",
    "criterion = nn.BCEWithLogitsLoss()"
   ],
   "outputs": []
  },
  {
   "cell_type": "code",
   "execution_count": 73,
   "id": "08b7b82e-51d9-43af-84bf-1c8115f88d8b",
   "metadata": {},
   "source": [
    "model.load_state_dict(torch.load('/home/mariia/AstroML/weights/2024-05-31-19-07-v1zquk8u/weights-33.pth'))"
   ],
   "outputs": []
  },
  {
   "cell_type": "code",
   "execution_count": 38,
   "id": "2d2bf1a0-33e9-463c-ac39-ad97f16466eb",
   "metadata": {},
   "source": [
    "def get_embeddings(photometry, photometry_mask, spectra, metadata):\n",
    "    p_emb = model.photometry_proj(model.photometry_encoder(photometry, photometry_mask))\n",
    "    s_emb = model.spectra_proj(model.spectra_encoder(spectra))\n",
    "    m_emb = model.metadata_proj(model.metadata_encoder(metadata))\n",
    "    \n",
    "    return p_emb, s_emb, m_emb\n",
    "        \n",
    "def step(el1, el2):\n",
    "    p, p_mask, s, m = el1\n",
    "    p2, p_mask2, s2, m2 = el2\n",
    "\n",
    "    p, p_mask, s, m = p.to(device), p_mask.to(device), s.to(device), m.to(device)\n",
    "    p2, p_mask2, s2, m2 = p2.to(device), p_mask2.to(device), s2.to(device), m2.to(device)\n",
    "\n",
    "    ps_sim, mp_sim, sm_sim = model((p, p_mask, s, m), (p2, p_mask2, s2, m2))\n",
    "\n",
    "    return ps_sim, mp_sim, sm_sim"
   ],
   "outputs": []
  },
  {
   "cell_type": "code",
   "execution_count": 88,
   "id": "920bc395-e485-455d-aa81-b82ce4ed8afc",
   "metadata": {},
   "source": [
    "train_dataset.df['variable_type'].value_counts()"
   ],
   "outputs": []
  },
  {
   "cell_type": "code",
   "execution_count": 90,
   "id": "e700b1fb-d20b-43de-93c6-b8bc151d545d",
   "metadata": {},
   "source": [
    "(photometry, photometry_mask, spectra, metadata), (photometry2, photometry_mask2, spectra2, metadata2), y = train_dataset[0]"
   ],
   "outputs": []
  },
  {
   "cell_type": "code",
   "execution_count": null,
   "id": "f6fc80eb-8580-43a2-8818-0ced6cf83034",
   "metadata": {},
   "source": [],
   "outputs": []
  },
  {
   "cell_type": "code",
   "execution_count": null,
   "id": "1b83ac4f-f310-4fd7-ac7e-b200d60b4771",
   "metadata": {},
   "source": [],
   "outputs": []
  },
  {
   "cell_type": "code",
   "execution_count": 109,
   "id": "6fb613b2-5f2b-4e00-b6f0-e812a5152a93",
   "metadata": {},
   "source": [
    "el1, el2, y = next(iter(train_dataloader))"
   ],
   "outputs": []
  },
  {
   "cell_type": "code",
   "execution_count": 122,
   "id": "d0ec0292-af57-497b-91d8-c6f98e3f6ce0",
   "metadata": {},
   "source": [
    "y = y.to(device)"
   ],
   "outputs": []
  },
  {
   "cell_type": "code",
   "execution_count": 111,
   "id": "9c4369dc-ba05-4716-a340-06d8e530f0e1",
   "metadata": {},
   "source": [
    "photometry1, photometry_mask1, spectra1, metadata1 = el1\n",
    "photometry1, photometry_mask1, spectra1, metadata1 = photometry1.to(device), photometry_mask1.to(device), spectra1.to(device), metadata1.to(device)\n",
    "p_emb1, s_emb1, m_emb1 = get_embeddings(photometry1, photometry_mask1, spectra1, metadata1)\n",
    "\n",
    "photometry2, photometry_mask2, spectra2, metadata2 = el2\n",
    "photometry2, photometry_mask2, spectra2, metadata2 = photometry2.to(device), photometry_mask2.to(device), spectra2.to(device), metadata2.to(device)\n",
    "p_emb2, s_emb2, m_emb2 = get_embeddings(photometry2, photometry_mask2, spectra2, metadata2)"
   ],
   "outputs": []
  },
  {
   "cell_type": "code",
   "execution_count": 112,
   "id": "4541534d-6612-4a25-aae2-ecbebd1ac433",
   "metadata": {},
   "source": [
    "cos = nn.CosineSimilarity(dim=-1)"
   ],
   "outputs": []
  },
  {
   "cell_type": "code",
   "execution_count": 113,
   "id": "96437fb9-6d11-4019-9781-a719e4d069e6",
   "metadata": {},
   "source": [
    "cos(p_emb1, p_emb2)"
   ],
   "outputs": []
  },
  {
   "cell_type": "code",
   "execution_count": 114,
   "id": "dd1d14df-744e-4b22-a983-6d15712968e4",
   "metadata": {},
   "source": [
    "sigmoid(cos(p_emb1, p_emb2))"
   ],
   "outputs": []
  },
  {
   "cell_type": "code",
   "execution_count": 115,
   "id": "2b00aef6-26d1-4b17-9fa2-392d356ea060",
   "metadata": {},
   "source": [
    "sigmoid(cos(s_emb1, s_emb2))"
   ],
   "outputs": []
  },
  {
   "cell_type": "code",
   "execution_count": 116,
   "id": "e3acafb0-586d-47a7-9eed-571d5090c9c2",
   "metadata": {},
   "source": [
    "sigmoid(cos(m_emb1, m_emb2))"
   ],
   "outputs": []
  },
  {
   "cell_type": "code",
   "execution_count": 128,
   "id": "78a08167-f8bc-417f-b738-76a87310c5c6",
   "metadata": {},
   "source": [
    "((sigmoid(cos(p_emb1, p_emb2)) + sigmoid(cos(s_emb1, s_emb2)) + sigmoid(cos(m_emb1, m_emb2))) / 3 > 0.5).float()"
   ],
   "outputs": []
  },
  {
   "cell_type": "code",
   "execution_count": 129,
   "id": "c2423b06-5917-4d2e-b276-fd2602df243b",
   "metadata": {},
   "source": [
    "y"
   ],
   "outputs": []
  },
  {
   "cell_type": "code",
   "execution_count": null,
   "id": "6d8fbb53-3f35-4fff-bf97-d6f24c7d18e5",
   "metadata": {},
   "source": [],
   "outputs": []
  },
  {
   "cell_type": "code",
   "execution_count": 133,
   "id": "4b086a05-f3f7-4e51-a100-251fbd9b4b4f",
   "metadata": {},
   "source": [
    "model.eval()\n",
    "\n",
    "all_true_labels = []\n",
    "all_predicted_labels = []\n",
    "p_embs1, p_embs2, s_embs1, s_embs2, m_embs1, m_embs2 = [], [], [], [], [], []\n",
    "\n",
    "for el1, el2, y in tqdm(val_dataloader):\n",
    "    with torch.no_grad():\n",
    "        photometry1, photometry_mask1, spectra1, metadata1 = el1\n",
    "        photometry1, photometry_mask1, spectra1, metadata1 = photometry1.to(device), photometry_mask1.to(device), spectra1.to(device), metadata1.to(device)\n",
    "        p_emb1, s_emb1, m_emb1 = get_embeddings(photometry1, photometry_mask1, spectra1, metadata1)\n",
    "        \n",
    "        photometry2, photometry_mask2, spectra2, metadata2 = el2\n",
    "        photometry2, photometry_mask2, spectra2, metadata2 = photometry2.to(device), photometry_mask2.to(device), spectra2.to(device), metadata2.to(device)\n",
    "        p_emb2, s_emb2, m_emb2 = get_embeddings(photometry2, photometry_mask2, spectra2, metadata2)\n",
    "\n",
    "        probabilities = (sigmoid(cos(p_emb1, p_emb2)) + sigmoid(cos(s_emb1, s_emb2)) + sigmoid(cos(m_emb1, m_emb2))) / 3\n",
    "        predicted_labels = (probabilities >= 0.5).float()\n",
    "\n",
    "        all_true_labels.extend(y.numpy())\n",
    "        all_predicted_labels.extend(predicted_labels.cpu().numpy())\n",
    "\n",
    "        p_embs1.append(p_emb1)\n",
    "        p_embs2.append(p_emb2)\n",
    "        s_embs1.append(s_emb1)\n",
    "        s_embs2.append(s_emb2)\n",
    "        m_embs1.append(m_emb1)\n",
    "        m_embs2.append(m_emb2)"
   ],
   "outputs": []
  },
  {
   "cell_type": "code",
   "execution_count": 143,
   "id": "bef37cbf-d9fe-4004-b7b5-ffb082f030d0",
   "metadata": {},
   "source": [
    "# Calculate confusion matrix\n",
    "conf_matrix = confusion_matrix(all_true_labels, all_predicted_labels)\n",
    "\n",
    "# Calculate percentage values for confusion matrix\n",
    "conf_matrix_percent = 100 * conf_matrix / conf_matrix.sum(axis=1)[:, np.newaxis]\n",
    "\n",
    "# Plot both confusion matrices side by side\n",
    "fig, axes = plt.subplots(nrows=1, ncols=2, figsize=(10, 4))\n",
    "\n",
    "# Plot absolute values confusion matrix\n",
    "sns.heatmap(conf_matrix, annot=True, fmt='d', cmap='Blues', ax=axes[0])\n",
    "axes[0].set_xlabel('Predicted')\n",
    "axes[0].set_ylabel('True')\n",
    "axes[0].set_title('Confusion Matrix - Absolute Values')\n",
    "\n",
    "# Plot percentage values confusion matrix\n",
    "sns.heatmap(conf_matrix_percent, annot=True, fmt='.0f', cmap='Blues', ax=axes[1])\n",
    "axes[1].set_xlabel('Predicted')\n",
    "axes[1].set_ylabel('True')\n",
    "axes[1].set_title('Confusion Matrix - Percentages')"
   ],
   "outputs": []
  },
  {
   "cell_type": "code",
   "execution_count": null,
   "id": "825b77ef-7dcb-4cc2-bd05-88ba47ea89e8",
   "metadata": {},
   "source": [],
   "outputs": []
  },
  {
   "cell_type": "code",
   "execution_count": 146,
   "id": "a1baadbd-5e25-41f9-951d-232da4f7c2a8",
   "metadata": {},
   "source": [
    "photometry, photometry_mask, spectra, metadata, label = train_dataset.get_el(0)"
   ],
   "outputs": []
  },
  {
   "cell_type": "code",
   "execution_count": 155,
   "id": "8ebe8fc3-3aed-487a-9981-dddbafb82e35",
   "metadata": {},
   "source": [
    "p_emb, s_emb, m_emb = get_embeddings(torch.tensor(photometry).to(device).unsqueeze(0), torch.tensor(photometry_mask).to(device).unsqueeze(0), \n",
    "                                     torch.tensor(spectra).to(device).unsqueeze(0), torch.tensor(metadata).to(device).unsqueeze(0))"
   ],
   "outputs": []
  },
  {
   "cell_type": "code",
   "execution_count": 156,
   "id": "078d05d3-34d2-41b4-bfb9-9f8bb4394a7e",
   "metadata": {},
   "source": [
    "p_emb.shape, s_emb.shape, m_emb.shape"
   ],
   "outputs": []
  },
  {
   "cell_type": "code",
   "execution_count": 214,
   "id": "33e36adf-4d49-47f3-8a2e-302c86e9a0df",
   "metadata": {},
   "source": [
    "p_embeddings, s_embeddings, m_embeddings, labels = [], [], [], []\n",
    "labels = []\n",
    "\n",
    "for i in tqdm(range(len(val_dataset))):\n",
    "    photometry, photometry_mask, spectra, metadata, label = val_dataset.get_el(i)\n",
    "    p_emb, s_emb, m_emb = get_embeddings(torch.tensor(photometry).to(device).unsqueeze(0), \n",
    "                                         torch.tensor(photometry_mask).to(device).unsqueeze(0), \n",
    "                                         torch.tensor(spectra).to(device).unsqueeze(0), \n",
    "                                         torch.tensor(metadata).to(device).unsqueeze(0))\n",
    "    p_embeddings.append(p_emb.cpu().detach().numpy())\n",
    "    s_embeddings.append(s_emb.cpu().detach().numpy())\n",
    "    m_embeddings.append(m_emb.cpu().detach().numpy())\n",
    "    labels.append(label)"
   ],
   "outputs": []
  },
  {
   "cell_type": "code",
   "execution_count": 215,
   "id": "4ee7a7f1-11c5-4501-80d1-3be19909817c",
   "metadata": {},
   "source": [
    "p_embeddings = np.array(p_embeddings)[:, 0]\n",
    "s_embeddings = np.array(s_embeddings)[:, 0]\n",
    "m_embeddings = np.array(m_embeddings)[:, 0]\n",
    "\n",
    "embeddings = np.concatenate([p_embeddings, s_embeddings, m_embeddings], axis=0)"
   ],
   "outputs": []
  },
  {
   "cell_type": "code",
   "execution_count": 216,
   "id": "0594a99f-902a-416b-869d-33e0746ab922",
   "metadata": {},
   "source": [
    "modality_labels = np.array([f'{val_dataset.id2target[label]}_photometry' for label in labels] +\n",
    "                           [f'{val_dataset.id2target[label]}_spectra' for label in labels] +\n",
    "                           [f'{val_dataset.id2target[label]}_metadata' for label in labels])"
   ],
   "outputs": []
  },
  {
   "cell_type": "code",
   "execution_count": 193,
   "id": "110d6b4f-5a37-439c-8e6f-ba097b867267",
   "metadata": {},
   "source": [
    "umap_emb = umap.UMAP(n_neighbors=15, min_dist=0.1, metric='cosine').fit_transform(embeddings)"
   ],
   "outputs": []
  },
  {
   "cell_type": "code",
   "execution_count": 194,
   "id": "5b042b36-2ed8-40ee-8d7b-55c38bef0a85",
   "metadata": {},
   "source": [
    "umap_emb.shape"
   ],
   "outputs": []
  },
  {
   "cell_type": "code",
   "execution_count": 200,
   "id": "a626f59b-b063-43c0-907d-d55ddc38d52f",
   "metadata": {},
   "source": [
    "plt.figure(figsize=(10, 8))\n",
    "scatter = plt.scatter(umap_emb[:, 0], umap_emb[:, 1], c=numeric_labels, cmap='tab20', s=5)\n",
    "plt.clim(-0.5, len(le.classes_)-0.5)\n",
    "plt.title('UMAP projection of combined dataset embeddings')\n",
    "plt.show()"
   ],
   "outputs": []
  },
  {
   "cell_type": "code",
   "execution_count": 202,
   "id": "2126ad0c-fb03-4e5e-9092-aac6a4d53f61",
   "metadata": {},
   "source": [
    "p_umap_emb = umap.UMAP(n_neighbors=15, min_dist=0.1, metric='cosine').fit_transform(p_embeddings)"
   ],
   "outputs": []
  },
  {
   "cell_type": "code",
   "execution_count": 210,
   "id": "c5c921f6-65e8-4a0f-827a-345f2095b8e0",
   "metadata": {},
   "source": [
    "p_umap_emb.shape"
   ],
   "outputs": []
  },
  {
   "cell_type": "code",
   "execution_count": 228,
   "id": "c1a1cf1a-a468-4e87-9c65-67a094f5cdcc",
   "metadata": {},
   "source": [
    "plt.figure(figsize=(10, 8))\n",
    "scatter = plt.scatter(p_umap_emb[:, 0], p_umap_emb[:, 1], c=labels, cmap='tab10')\n",
    "plt.title('UMAP projection of combined dataset embeddings')\n",
    "cbar = plt.colorbar(scatter, ticks=range(val_dataset.num_classes))\n",
    "cbar.ax.set_yticklabels(val_dataset.target2id.keys())\n",
    "plt.show()"
   ],
   "outputs": []
  },
  {
   "cell_type": "code",
   "execution_count": 229,
   "id": "058d8c4d-fc2e-443a-a2ec-5dc020fff499",
   "metadata": {},
   "source": [
    "p_umap_emb = umap.UMAP(n_neighbors=15, min_dist=0.1).fit_transform(p_embeddings)\n",
    "plt.figure(figsize=(10, 8))\n",
    "scatter = plt.scatter(p_umap_emb[:, 0], p_umap_emb[:, 1], c=labels, cmap='tab10')\n",
    "plt.title('UMAP projection of combined dataset embeddings')\n",
    "cbar = plt.colorbar(scatter, ticks=range(val_dataset.num_classes))\n",
    "cbar.ax.set_yticklabels(val_dataset.target2id.keys())\n",
    "plt.show()"
   ],
   "outputs": []
  },
  {
   "cell_type": "code",
   "execution_count": 230,
   "id": "b264f74a-b38b-4415-9d25-1f266814fccc",
   "metadata": {},
   "source": [
    "s_umap_emb = umap.UMAP(n_neighbors=15, min_dist=0.1).fit_transform(s_embeddings)\n",
    "plt.figure(figsize=(10, 8))\n",
    "scatter = plt.scatter(s_umap_emb[:, 0], s_umap_emb[:, 1], c=labels, cmap='tab10')\n",
    "plt.title('UMAP projection of combined dataset embeddings')\n",
    "cbar = plt.colorbar(scatter, ticks=range(val_dataset.num_classes))\n",
    "cbar.ax.set_yticklabels(val_dataset.target2id.keys())\n",
    "plt.show()"
   ],
   "outputs": []
  },
  {
   "cell_type": "code",
   "execution_count": 232,
   "id": "de8e7ddc-f27f-4c79-8dcf-e1c3843807da",
   "metadata": {},
   "source": [
    "s_umap_emb = umap.UMAP(n_neighbors=15, min_dist=0.1, metric='cosine').fit_transform(s_embeddings)\n",
    "plt.figure(figsize=(10, 8))\n",
    "scatter = plt.scatter(s_umap_emb[:, 0], s_umap_emb[:, 1], c=labels, cmap='tab10')\n",
    "plt.title('UMAP projection of combined dataset embeddings')\n",
    "cbar = plt.colorbar(scatter, ticks=range(val_dataset.num_classes))\n",
    "cbar.ax.set_yticklabels(val_dataset.target2id.keys())\n",
    "plt.show()"
   ],
   "outputs": []
  },
  {
   "cell_type": "code",
   "execution_count": 231,
   "id": "8bead05f-ed23-418e-ab0d-5c0a16755e5d",
   "metadata": {},
   "source": [
    "m_umap_emb = umap.UMAP(n_neighbors=15, min_dist=0.1).fit_transform(m_embeddings)\n",
    "plt.figure(figsize=(10, 8))\n",
    "scatter = plt.scatter(m_umap_emb[:, 0], m_umap_emb[:, 1], c=labels, cmap='tab10')\n",
    "plt.title('UMAP projection of combined dataset embeddings')\n",
    "cbar = plt.colorbar(scatter, ticks=range(val_dataset.num_classes))\n",
    "cbar.ax.set_yticklabels(val_dataset.target2id.keys())\n",
    "plt.show()"
   ],
   "outputs": []
  },
  {
   "cell_type": "code",
   "execution_count": 233,
   "id": "ea6e3a8b-eb78-41fc-94c8-c444d37068c7",
   "metadata": {},
   "source": [
    "m_umap_emb = umap.UMAP(n_neighbors=15, min_dist=0.1, metric='cosine').fit_transform(m_embeddings)\n",
    "plt.figure(figsize=(10, 8))\n",
    "scatter = plt.scatter(m_umap_emb[:, 0], m_umap_emb[:, 1], c=labels, cmap='tab10')\n",
    "plt.title('UMAP projection of combined dataset embeddings')\n",
    "cbar = plt.colorbar(scatter, ticks=range(val_dataset.num_classes))\n",
    "cbar.ax.set_yticklabels(val_dataset.target2id.keys())\n",
    "plt.show()"
   ],
   "outputs": []
  },
  {
   "cell_type": "code",
   "execution_count": null,
   "id": "1884ca1c-e6a2-46a6-bab4-5037c01afe18",
   "metadata": {},
   "source": [],
   "outputs": []
  },
  {
   "cell_type": "code",
   "execution_count": null,
   "id": "abc4d2d3-d900-4b58-9f62-2d556cb98ebe",
   "metadata": {},
   "source": [],
   "outputs": []
  },
  {
   "cell_type": "code",
   "execution_count": null,
   "id": "653bbd00-c220-4ba7-834c-7d2d6886aff5",
   "metadata": {},
   "source": [],
   "outputs": []
  },
  {
   "cell_type": "code",
   "execution_count": null,
   "id": "c90fdb6a-8ccf-4ff4-9bd6-0af7032e46ed",
   "metadata": {},
   "source": [],
   "outputs": []
  },
  {
   "cell_type": "code",
   "execution_count": null,
   "id": "a5cfd898-be3d-4ace-b02a-db2f0e66f747",
   "metadata": {},
   "source": [],
   "outputs": []
  },
  {
   "cell_type": "code",
   "execution_count": null,
   "id": "8c5d315b-f817-4b0b-99da-aafea6931a50",
   "metadata": {},
   "source": [],
   "outputs": []
  },
  {
   "cell_type": "code",
   "execution_count": null,
   "id": "015fb30f-b0c6-4b15-ba94-d7726ad3ce20",
   "metadata": {},
   "source": [],
   "outputs": []
  },
  {
   "cell_type": "code",
   "execution_count": null,
   "id": "568c2047-d078-490d-898c-0747121e34ba",
   "metadata": {},
   "source": [],
   "outputs": []
  },
  {
   "cell_type": "code",
   "execution_count": null,
   "id": "950d3db2-add1-48b1-a3fa-9038989bb45c",
   "metadata": {},
   "source": [],
   "outputs": []
  },
  {
   "cell_type": "code",
   "execution_count": null,
   "id": "e6bdc980-31c1-497a-9810-11b277a5e175",
   "metadata": {},
   "source": [],
   "outputs": []
  },
  {
   "cell_type": "code",
   "execution_count": null,
   "id": "8b4d6e0e-33fe-4bb2-8941-67fbf8768392",
   "metadata": {},
   "source": [],
   "outputs": []
  },
  {
   "cell_type": "code",
   "execution_count": null,
   "id": "ca53506d-a0ca-467c-b5da-3fd3a3924356",
   "metadata": {},
   "source": [],
   "outputs": []
  }
 ],
 "metadata": {
  "kernelspec": {
   "display_name": "Python 3 (ipykernel)",
   "language": "python",
   "name": "python3"
  },
  "language_info": {
   "codemirror_mode": {
    "name": "ipython",
    "version": 3
   },
   "file_extension": ".py",
   "mimetype": "text/x-python",
   "name": "python",
   "nbconvert_exporter": "python",
   "pygments_lexer": "ipython3",
   "version": "3.10.14"
  }
 },
 "nbformat": 4,
 "nbformat_minor": 5
}

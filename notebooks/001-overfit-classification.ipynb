{
 "cells": [
  {
   "cell_type": "code",
   "execution_count": 1,
   "id": "0d8f3d03-1b17-48f5-9000-3c382cea8430",
   "metadata": {},
   "source": [
    "import sys\n",
    "\n",
    "sys.path.insert(0, '..')"
   ],
   "outputs": []
  },
  {
   "cell_type": "code",
   "execution_count": 2,
   "id": "080ddaa4-32f2-4d32-848e-43b87b62900a",
   "metadata": {},
   "source": [
    "import os\n",
    "import numpy as np\n",
    "import random\n",
    "import torch\n",
    "import torch.nn as nn\n",
    "from torch.optim import AdamW\n",
    "from torch.utils.data import DataLoader\n",
    "from transformers import TimeSeriesTransformerConfig, TimeSeriesTransformerForPrediction, TimeSeriesTransformerModel\n",
    "import matplotlib.pyplot as plt\n",
    "from torch.optim.lr_scheduler import ReduceLROnPlateau\n",
    "from scipy import stats\n",
    "\n",
    "from core.dataset import MachoDataset\n",
    "from core.trainer import PredictionTrainer, ClassificationTrainer\n",
    "from core.model import ClassificationModel"
   ],
   "outputs": []
  },
  {
   "cell_type": "code",
   "execution_count": 3,
   "id": "682dcce7-0d6a-4a14-92df-1f3afeef73fa",
   "metadata": {},
   "source": [
    "random_seed = 42\n",
    "torch.manual_seed(random_seed)\n",
    "np.random.seed(random_seed)\n",
    "random.seed(random_seed)\n",
    "torch.backends.cudnn.deterministic = True"
   ],
   "outputs": []
  },
  {
   "cell_type": "code",
   "execution_count": 5,
   "id": "644a1228-d7eb-487c-b8ef-9dc39dd699b1",
   "metadata": {},
   "source": [
    "config = {\n",
    "    'random_seed': random_seed,\n",
    "    'data_root': '/home/mrizhko/AML/contra_periodic/data/macho/',\n",
    "    'balanced_data_root': '/home/mrizhko/AML/AstroML/data/macho-balanced/',\n",
    "    'weights_path': '/home/mrizhko/AML/AstroML/weights/',\n",
    "\n",
    "    # Time Series Transformer\n",
    "    'lags': None,  # ?\n",
    "    'distribution_output': 'normal',\n",
    "    'num_static_real_features': 0,  # if 0 we don't use real features\n",
    "    'num_time_features': 1,\n",
    "    'd_model': 256,\n",
    "    'decoder_layers': 4,\n",
    "    'encoder_layers': 4,\n",
    "    'dropout': 0,\n",
    "    'encoder_layerdrop': 0,\n",
    "    'decoder_layerdrop': 0,\n",
    "    'attention_dropout': 0,\n",
    "    'activation_dropout': 0,\n",
    "\n",
    "    # Data\n",
    "    'window_length': 200,\n",
    "    'prediction_length': 10,  # 1 5 10 25 50\n",
    "\n",
    "    # Training\n",
    "    'batch_size': 512,\n",
    "    'lr': 0.0001,\n",
    "    'weight_decay': 0,\n",
    "    'epochs_pre_training': 1000,\n",
    "    'epochs_fine_tuning': 100,\n",
    "    \n",
    "    # Learning Rate Scheduler\n",
    "    'factor': 0.3,\n",
    "    'patience': 10,\n",
    "\n",
    "    'mode': 'fine-tuning',  # 'pre-training' 'fine-tuning' 'both'\n",
    "    'save_weights': False,\n",
    "    'config_from_run': None,  # 'MeriDK/AstroML/qtun67bq'\n",
    "}"
   ],
   "outputs": []
  },
  {
   "cell_type": "code",
   "execution_count": 6,
   "id": "dbbaa67d-01f0-40f1-8cf4-05d0b16e8d70",
   "metadata": {},
   "source": [
    "device = torch.device('cuda' if torch.cuda.is_available() else 'cpu')\n",
    "print('Using', device)"
   ],
   "outputs": []
  },
  {
   "cell_type": "code",
   "execution_count": 7,
   "id": "e617d060-2454-469a-8660-3c405b423909",
   "metadata": {},
   "source": [
    "train_dataset = MachoDataset(config['balanced_data_root'], config['prediction_length'], mode='train')\n",
    "train_dataloader = DataLoader(train_dataset, batch_size=config['batch_size'], shuffle=True)"
   ],
   "outputs": []
  },
  {
   "cell_type": "code",
   "execution_count": 17,
   "id": "0974759c-e2e6-4674-82ee-71b2a07fb28b",
   "metadata": {},
   "source": [
    "transformer_config = TimeSeriesTransformerConfig(\n",
    "    prediction_length=config['prediction_length'],\n",
    "    context_length=config['window_length'] - config['prediction_length'] - 7,  # 7 is max(lags) for default lags\n",
    "    num_time_features=config['num_time_features'],\n",
    "    num_static_real_features=config['num_static_real_features'],\n",
    "    encoder_layers=config['encoder_layers'],\n",
    "    decoder_layers=config['decoder_layers'],\n",
    "    d_model=config['d_model'],\n",
    "    distribution_output='normal',\n",
    "    scaling=None,\n",
    "    dropout=config['dropout'],\n",
    "    encoder_layerdrop=config['encoder_layerdrop'],\n",
    "    decoder_layerdrop=config['decoder_layerdrop'],\n",
    "    attention_dropout=config['attention_dropout'],\n",
    "    activation_dropout=config['activation_dropout']\n",
    ")"
   ],
   "outputs": []
  },
  {
   "cell_type": "code",
   "execution_count": 18,
   "id": "faf3d3eb-c684-49a0-9cf1-4c68ebbe75b8",
   "metadata": {},
   "source": [
    "embedder = TimeSeriesTransformerModel(transformer_config)"
   ],
   "outputs": []
  },
  {
   "cell_type": "code",
   "execution_count": 19,
   "id": "1a431e89-e718-4b1a-bc52-b6061b0f336b",
   "metadata": {},
   "source": [
    "model = ClassificationModel(pretrained_model=embedder, device=device)\n",
    "optimizer = AdamW(model.parameters(), lr=config['lr'], weight_decay=config['weight_decay'])\n",
    "scheduler = ReduceLROnPlateau(optimizer, mode='min', factor=config['factor'], patience=config['patience'], verbose=True)\n",
    "criterion = nn.CrossEntropyLoss()"
   ],
   "outputs": []
  },
  {
   "cell_type": "code",
   "execution_count": 20,
   "id": "ebbee950-1bfb-4f3c-97f6-8dfb922d3e44",
   "metadata": {},
   "source": [
    "trainer = ClassificationTrainer(model=model, optimizer=optimizer, scheduler=scheduler, \n",
    "                                criterion=criterion, device=device)"
   ],
   "outputs": []
  },
  {
   "cell_type": "code",
   "execution_count": 21,
   "id": "b271efcb-e702-464b-ae5a-f4583c280649",
   "metadata": {},
   "source": [
    "trainer.train(train_dataloader, train_dataloader, epochs=1000)"
   ],
   "outputs": []
  },
  {
   "cell_type": "code",
   "execution_count": 22,
   "id": "2512d05e-29aa-4310-a319-4a6e27c89301",
   "metadata": {},
   "source": [
    "val_dataset = MachoDataset(config['balanced_data_root'], config['prediction_length'], mode='val')\n",
    "val_dataloader = DataLoader(val_dataset, batch_size=config['batch_size'], shuffle=False)"
   ],
   "outputs": []
  },
  {
   "cell_type": "code",
   "execution_count": 23,
   "id": "e66b5412-7e1b-4678-8403-64a1a8e9671b",
   "metadata": {},
   "source": [
    "print(trainer.val_epoch(val_dataloader))\n",
    "trainer.evaluate(val_dataloader)"
   ],
   "outputs": []
  },
  {
   "cell_type": "code",
   "execution_count": 24,
   "id": "dc8aeaab-00eb-41bd-8e88-f4d70b9f1634",
   "metadata": {},
   "source": [
    "print(trainer.val_epoch(train_dataloader))\n",
    "trainer.evaluate(train_dataloader)"
   ],
   "outputs": []
  },
  {
   "cell_type": "code",
   "execution_count": null,
   "id": "69274e37-3957-46d5-a77d-a0c27a2ebbe8",
   "metadata": {},
   "source": [],
   "outputs": []
  },
  {
   "cell_type": "code",
   "execution_count": null,
   "id": "214a7042-b6db-48a5-88a2-b657b5cf17a0",
   "metadata": {},
   "source": [],
   "outputs": []
  },
  {
   "cell_type": "code",
   "execution_count": null,
   "id": "39a6e19b-7d62-46ae-acee-87557a1add28",
   "metadata": {},
   "source": [],
   "outputs": []
  }
 ],
 "metadata": {
  "kernelspec": {
   "display_name": "Python 3 (ipykernel)",
   "language": "python",
   "name": "python3"
  },
  "language_info": {
   "codemirror_mode": {
    "name": "ipython",
    "version": 3
   },
   "file_extension": ".py",
   "mimetype": "text/x-python",
   "name": "python",
   "nbconvert_exporter": "python",
   "pygments_lexer": "ipython3",
   "version": "3.10.12"
  }
 },
 "nbformat": 4,
 "nbformat_minor": 5
}

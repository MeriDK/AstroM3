{
 "cells": [
  {
   "cell_type": "code",
   "execution_count": 1,
   "id": "4d37823d-08c0-45cd-940d-fbd15c06b320",
   "metadata": {},
   "source": [
    "import pandas as pd"
   ],
   "outputs": []
  },
  {
   "cell_type": "code",
   "execution_count": 4,
   "id": "40114da9-bda6-45ec-bc77-aa9da2786e23",
   "metadata": {},
   "source": [
    "full = pd.read_csv('/home/mariia/AstroML/data/asassn/asassn_catalog_full.csv')"
   ],
   "outputs": []
  },
  {
   "cell_type": "code",
   "execution_count": 5,
   "id": "89521ccb-49e1-4283-a253-3f796c3368db",
   "metadata": {},
   "source": [
    "train = pd.read_csv('/home/mariia/AstroML/data/asassn/preprocessed_data/full/spectra_and_v_train.csv')\n",
    "val = pd.read_csv('/home/mariia/AstroML/data/asassn/preprocessed_data/full/spectra_and_v_val.csv')\n",
    "test = pd.read_csv('/home/mariia/AstroML/data/asassn/preprocessed_data/full/spectra_and_v_test.csv')"
   ],
   "outputs": []
  },
  {
   "cell_type": "code",
   "execution_count": 32,
   "id": "45ed2481-7699-4e3e-9adf-dfed81b28e6b",
   "metadata": {},
   "source": [
    "sub = full[['edr3_source_id', 'l', 'b']].groupby('edr3_source_id', as_index=False).agg({'l': 'mean', 'b': 'mean'})"
   ],
   "outputs": []
  },
  {
   "cell_type": "code",
   "execution_count": 34,
   "id": "7d45e946-d1a4-46c7-9643-bde9396a31c9",
   "metadata": {},
   "source": [
    "sub = sub.set_index('edr3_source_id')[['l', 'b']]"
   ],
   "outputs": []
  },
  {
   "cell_type": "code",
   "execution_count": 36,
   "id": "abdeca85-6a81-48b3-88c7-68e90ca4a9e5",
   "metadata": {},
   "source": [
    "train['l'] = train['id'].map(sub['l'])\n",
    "train['b'] = train['id'].map(sub['b'])"
   ],
   "outputs": []
  },
  {
   "cell_type": "code",
   "execution_count": 37,
   "id": "79a66683-de8e-4cc7-af50-bb0a018ebf77",
   "metadata": {},
   "source": [
    "val['l'] = val['id'].map(sub['l'])\n",
    "val['b'] = val['id'].map(sub['b'])"
   ],
   "outputs": []
  },
  {
   "cell_type": "code",
   "execution_count": 38,
   "id": "18ad879b-48e6-4a7b-9291-3431cfbe7289",
   "metadata": {},
   "source": [
    "test['l'] = test['id'].map(sub['l'])\n",
    "test['b'] = test['id'].map(sub['b'])"
   ],
   "outputs": []
  },
  {
   "cell_type": "code",
   "execution_count": 40,
   "id": "e720aa8d-e85a-4571-9ca8-88cc5e7928dd",
   "metadata": {},
   "source": [
    "train.to_csv('/home/mariia/AstroML/data/asassn/preprocessed_data/full_lb/spectra_and_v_train.csv', index=False)\n",
    "val.to_csv('/home/mariia/AstroML/data/asassn/preprocessed_data/full_lb/spectra_and_v_val.csv', index=False)\n",
    "test.to_csv('/home/mariia/AstroML/data/asassn/preprocessed_data/full_lb/spectra_and_v_test.csv', index=False)"
   ],
   "outputs": []
  },
  {
   "cell_type": "code",
   "execution_count": null,
   "id": "3a2f6395-8cb4-456f-a09b-e47b55dc61c6",
   "metadata": {},
   "source": [],
   "outputs": []
  },
  {
   "cell_type": "code",
   "execution_count": 42,
   "id": "9276caae-e3d8-4bef-9ee4-d2db32040c69",
   "metadata": {},
   "source": [
    "train"
   ],
   "outputs": []
  },
  {
   "cell_type": "code",
   "execution_count": null,
   "id": "77b042af-0350-4a95-a4fa-166c1d866480",
   "metadata": {},
   "source": [],
   "outputs": []
  },
  {
   "cell_type": "code",
   "execution_count": null,
   "id": "1fe94bff-0492-4038-9aa9-6bddd86b4ccd",
   "metadata": {},
   "source": [],
   "outputs": []
  },
  {
   "cell_type": "code",
   "execution_count": null,
   "id": "ec34aedd-e8a9-44cb-a40e-62a07197b227",
   "metadata": {},
   "source": [],
   "outputs": []
  }
 ],
 "metadata": {
  "kernelspec": {
   "display_name": "Python 3 (ipykernel)",
   "language": "python",
   "name": "python3"
  },
  "language_info": {
   "codemirror_mode": {
    "name": "ipython",
    "version": 3
   },
   "file_extension": ".py",
   "mimetype": "text/x-python",
   "name": "python",
   "nbconvert_exporter": "python",
   "pygments_lexer": "ipython3",
   "version": "3.10.14"
  }
 },
 "nbformat": 4,
 "nbformat_minor": 5
}

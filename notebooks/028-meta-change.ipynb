{
 "cells": [
  {
   "cell_type": "code",
   "execution_count": 1,
   "id": "88253bb6-de21-4166-a901-1272dfae1045",
   "metadata": {},
   "source": [
    "import sys\n",
    "sys.path.insert(0, '..')\n",
    "\n",
    "import pandas as pd\n",
    "import numpy as np\n",
    "from sklearn.preprocessing import StandardScaler\n",
    "import joblib\n",
    "from datetime import datetime\n",
    "import os\n",
    "import matplotlib.pyplot as plt\n",
    "from scipy import stats\n",
    "from tqdm import tqdm\n",
    "\n",
    "from core.final.dataset import PSMDataset"
   ],
   "outputs": []
  },
  {
   "cell_type": "code",
   "execution_count": 72,
   "id": "03564bab-615e-46ae-9ec8-1b9ed861303f",
   "metadata": {},
   "source": [
    "\"\"\"\n",
    "ts aux\n",
    "period\n",
    "lksl_statistic\n",
    "rfr_score\n",
    "amplitude\n",
    "+\n",
    "+ delta t t max - t min / 365\n",
    "std\n",
    "skew\n",
    "kurtosis\n",
    "etc\n",
    "\n",
    "no mean min max\n",
    "\n",
    "meta\n",
    "+ l\n",
    "+ b\n",
    "\n",
    "\n",
    "spectra norm = (s - weighted med) / (med abs dev)\n",
    " + spectra flux error\n",
    " + aux mad only\n",
    "  \n",
    "results:\n",
    "clip vs no clip classification on:\n",
    "- photo\n",
    "- spectra\n",
    "- meta\n",
    "- all\n",
    "\n",
    "+ same on 10/25/50 split\n",
    "+ plot embeddings\n",
    "+ [future] gif with embeddings changing during training for each epoch for modalities AND classes\n",
    "+ [future] outlier detection\n",
    "\n",
    "\"\"\""
   ],
   "outputs": []
  },
  {
   "cell_type": "code",
   "execution_count": 2,
   "id": "86f9ddb4-0666-4cd5-b17c-b416940c4ccf",
   "metadata": {},
   "source": [
    "METADATA_COLS = [\n",
    "    'mean_vmag',  'phot_g_mean_mag', 'e_phot_g_mean_mag', 'phot_bp_mean_mag', 'e_phot_bp_mean_mag', 'phot_rp_mean_mag', 'e_phot_rp_mean_mag',\n",
    "    'bp_rp', 'parallax', 'parallax_error', 'parallax_over_error', 'pmra', 'pmra_error', 'pmdec',\n",
    "    'pmdec_error', 'j_mag', 'e_j_mag', 'h_mag', 'e_h_mag', 'k_mag', 'e_k_mag', 'w1_mag', 'e_w1_mag',\n",
    "    'w2_mag', 'e_w2_mag', 'w3_mag', 'w4_mag', 'j_k', 'w1_w2', 'w3_w4', 'pm', 'ruwe', 'l', 'b'\n",
    "]\n",
    "\n",
    "PHOTO_COLS = ['amplitude', 'period', 'lksl_statistic', 'rfr_score']\n",
    "\n",
    "METADATA_FUNC = {\n",
    "    \"abs\": [\n",
    "        \"mean_vmag\",\n",
    "        \"phot_g_mean_mag\",\n",
    "        \"phot_bp_mean_mag\",\n",
    "        \"phot_rp_mean_mag\",\n",
    "        \"j_mag\",\n",
    "        \"h_mag\",\n",
    "        \"k_mag\",\n",
    "        \"w1_mag\",\n",
    "        \"w2_mag\",\n",
    "        \"w3_mag\",\n",
    "        \"w4_mag\",\n",
    "    ],\n",
    "    \"cos\": [\"l\"],\n",
    "    \"sin\": [\"b\"],\n",
    "    \"log\": [\"period\"]\n",
    "}"
   ],
   "outputs": []
  },
  {
   "cell_type": "code",
   "execution_count": 47,
   "id": "31bc8567-ea92-48b1-b15c-1a47eb50e2bd",
   "metadata": {},
   "source": [
    "def normalize_metadata(df_train, df_val, df_test, cols):\n",
    "    scaler = StandardScaler()\n",
    "    scaler.fit(df_train[cols])\n",
    "    \n",
    "    df_train.loc[:, cols] = scaler.transform(df_train[cols])\n",
    "    df_val.loc[:, cols] = scaler.transform(df_val[cols])\n",
    "    df_test.loc[:, cols] = scaler.transform(df_test[cols])\n",
    "\n",
    "    return scaler"
   ],
   "outputs": []
  },
  {
   "cell_type": "code",
   "execution_count": 48,
   "id": "047941ba-38b5-4e3a-8660-f64cdaf430fe",
   "metadata": {},
   "source": [
    "def transform(df):\n",
    "    for transformation_type, value in METADATA_FUNC.items():\n",
    "        if transformation_type == \"abs\":\n",
    "            for col in value:\n",
    "                df[col] = (\n",
    "                    df[col] - 10 + 5 * np.log10(np.where(df[\"parallax\"] <= 0, 1, df[\"parallax\"]))\n",
    "                )\n",
    "        elif transformation_type == \"cos\":\n",
    "            for col in value:\n",
    "                df[col] = np.cos(np.radians(df[col]))\n",
    "        elif transformation_type == \"sin\":\n",
    "            for col in value:\n",
    "                df[col] = np.sin(np.radians(df[col]))\n",
    "        elif transformation_type == \"log\":\n",
    "            for col in value:\n",
    "                df[col] = np.log10(df[col])"
   ],
   "outputs": []
  },
  {
   "cell_type": "code",
   "execution_count": 62,
   "id": "1c7789db-d90a-4a4c-bae6-ad8f81a4e988",
   "metadata": {},
   "source": [
    "train = pd.read_csv('/home/mariia/AstroML/data/asassn/preprocessed_data/full_lb/spectra_and_v_train.csv')\n",
    "val = pd.read_csv('/home/mariia/AstroML/data/asassn/preprocessed_data/full_lb/spectra_and_v_val.csv')\n",
    "test = pd.read_csv('/home/mariia/AstroML/data/asassn/preprocessed_data/full_lb/spectra_and_v_test.csv')"
   ],
   "outputs": []
  },
  {
   "cell_type": "code",
   "execution_count": 63,
   "id": "330d8a9c-a7a1-43ba-8506-e74d9f21ee6f",
   "metadata": {},
   "source": [
    "train['org_period'] = train['period']\n",
    "val['org_period'] = val['period']\n",
    "test['org_period'] = test['period']"
   ],
   "outputs": []
  },
  {
   "cell_type": "code",
   "execution_count": 64,
   "id": "c2350f73-0d5e-4ec2-9661-9340159b6b18",
   "metadata": {},
   "source": [
    "train.head(3)"
   ],
   "outputs": []
  },
  {
   "cell_type": "code",
   "execution_count": 65,
   "id": "adbb8bcb-7164-4e17-a3f0-936f7ca7ac39",
   "metadata": {},
   "source": [
    "transform(train)\n",
    "transform(val)\n",
    "transform(test)"
   ],
   "outputs": []
  },
  {
   "cell_type": "code",
   "execution_count": 66,
   "id": "d4a4ff92-7425-4dfe-a770-56c980d08014",
   "metadata": {},
   "source": [
    "train.head(3)"
   ],
   "outputs": []
  },
  {
   "cell_type": "code",
   "execution_count": 67,
   "id": "f3da743f-1f8b-4a27-b98e-eb4c8141eb2a",
   "metadata": {},
   "source": [
    "scaler = normalize_metadata(train, val, test, cols=METADATA_COLS+PHOTO_COLS)"
   ],
   "outputs": []
  },
  {
   "cell_type": "code",
   "execution_count": 68,
   "id": "45cc324a-25fa-466f-b3ef-eba4155f47b9",
   "metadata": {},
   "source": [
    "train.head(3)"
   ],
   "outputs": []
  },
  {
   "cell_type": "code",
   "execution_count": 69,
   "id": "7c983d9f-86b7-4bc0-9726-63d5b50b1da3",
   "metadata": {},
   "source": [
    "train.to_csv('/home/mariia/AstroML/data/asassn/preprocessed_data/full_lb/spectra_and_v_train_norm.csv', index=False)\n",
    "val.to_csv('/home/mariia/AstroML/data/asassn/preprocessed_data/full_lb/spectra_and_v_val_norm.csv', index=False)\n",
    "test.to_csv('/home/mariia/AstroML/data/asassn/preprocessed_data/full_lb/spectra_and_v_test_norm.csv', index=False)"
   ],
   "outputs": []
  },
  {
   "cell_type": "code",
   "execution_count": 73,
   "id": "775d400d-a837-4502-b43b-98bfe6341454",
   "metadata": {},
   "source": [
    "joblib.dump(scaler, '/home/mariia/AstroML/data/asassn/preprocessed_data/full_lb/scaler.pkl')"
   ],
   "outputs": []
  },
  {
   "cell_type": "code",
   "execution_count": null,
   "id": "5ecd0ac8-3719-48d6-8626-bd4d24cd4cf9",
   "metadata": {},
   "source": [],
   "outputs": []
  },
  {
   "cell_type": "markdown",
   "id": "c3c42986-fa27-4c6c-b694-77e771b0dbd4",
   "metadata": {},
   "source": [
    "# Test"
   ]
  },
  {
   "cell_type": "code",
   "execution_count": 3,
   "id": "7e0d9cfc-a73e-40e8-a638-eda4a190b0ce",
   "metadata": {},
   "source": [
    "CLASSES = ['EW', 'SR', 'EA', 'RRAB', 'EB', 'ROT', 'RRC', 'HADS', 'M', 'DSCT']"
   ],
   "outputs": []
  },
  {
   "cell_type": "code",
   "execution_count": 4,
   "id": "0f78d627-49b0-4af4-a8b6-f4af10dc4311",
   "metadata": {},
   "source": [
    "def get_config():\n",
    "    config = {\n",
    "        'project': 'AstroCLIPResults',\n",
    "        'mode': 'meta',    # 'clip' 'photo' 'spectra' 'meta' 'all'\n",
    "        'config_from': None,    # 'meridk/AstroCLIPResults/zgfcm56p',\n",
    "        'random_seed': 42,  # 42, 66, 0, 12, 123\n",
    "        'use_wandb': True,\n",
    "        'save_weights': True,\n",
    "        'weights_path': f'/home/mariia/AstroML/weights/{datetime.now().strftime(\"%Y-%m-%d-%H-%M\")}',\n",
    "        # 'use_pretrain': 'CLIP/home/mariia/AstroML/weights/2024-08-14-14-05-zmjau1cu/weights-51.pth',\n",
    "        'use_pretrain': None,\n",
    "        'freeze': False,\n",
    "\n",
    "        # Data General\n",
    "        'data_root': '/home/mariia/AstroML/data/asassn/',\n",
    "        'file': 'preprocessed_data/full_lb/spectra_and_v',\n",
    "        'classes': CLASSES,\n",
    "        'num_classes': len(CLASSES),\n",
    "        'meta_cols': METADATA_COLS,\n",
    "        'photo_cols': PHOTO_COLS,\n",
    "        'min_samples': None,\n",
    "        'max_samples': None,\n",
    "\n",
    "        # Photometry\n",
    "        'v_zip': 'asassnvarlc_vband_complete.zip',\n",
    "        'v_prefix': 'vardb_files',\n",
    "        'seq_len': 200,\n",
    "        'phased': False,\n",
    "        'p_aux': True,\n",
    "\n",
    "        # Spectra\n",
    "        'lamost_spec_dir': 'Spectra/v2',\n",
    "        's_aux': True,\n",
    "        's_err': True,\n",
    "\n",
    "        # Photometry Model\n",
    "        'p_enc_in': 3,\n",
    "        'p_d_model': 128,\n",
    "        'p_dropout': 0.2,\n",
    "        'p_factor': 1,\n",
    "        'p_output_attention': False,\n",
    "        'p_n_heads': 4,\n",
    "        'p_d_ff': 512,\n",
    "        'p_activation': 'gelu',\n",
    "        'p_e_layers': 8,\n",
    "\n",
    "        # Spectra Model\n",
    "        's_dropout': 0.2,\n",
    "        's_conv_channels': [1, 64, 64, 32, 32],\n",
    "        's_kernel_size': 3,\n",
    "        's_mp_kernel_size': 4,\n",
    "\n",
    "        # Metadata Model\n",
    "        'm_hidden_dim': 512,\n",
    "        'm_dropout': 0.2,\n",
    "\n",
    "        # MultiModal Model\n",
    "        'hidden_dim': 512,\n",
    "        'fusion': 'avg',  # 'avg', 'concat'\n",
    "\n",
    "        # Training\n",
    "        'batch_size': 512,\n",
    "        'lr': 0.001,\n",
    "        'beta1': 0.9,\n",
    "        'beta2': 0.999,\n",
    "        'weight_decay': 0.01,\n",
    "        'epochs': 100,\n",
    "        'early_stopping_patience': 6,\n",
    "        'scheduler': 'ReduceLROnPlateau',  # 'ExponentialLR', 'ReduceLROnPlateau'\n",
    "        'gamma': 0.9,  # for ExponentialLR scheduler\n",
    "        'factor': 0.3,  # for ReduceLROnPlateau scheduler\n",
    "        'patience': 3,  # for ReduceLROnPlateau scheduler\n",
    "        'warmup': True,\n",
    "        'warmup_epochs': 10,\n",
    "        'clip_grad': True,\n",
    "        'clip_value': 45\n",
    "    }\n",
    "\n",
    "    if config['p_aux']:\n",
    "        config['p_enc_in'] += len(config['photo_cols']) + 2     # +2 for mad and delta t\n",
    "\n",
    "    if config['s_aux']:\n",
    "        config['s_conv_channels'][0] += 1\n",
    "\n",
    "    if config['s_err']:\n",
    "        config['s_conv_channels'][0] += 1\n",
    "\n",
    "    if config['config_from']:\n",
    "        print(f\"Copying params from the {config['config_from']} run\")\n",
    "        old_config = wandb.Api().run(config['config_from']).config\n",
    "\n",
    "        for el in old_config:\n",
    "            if el in [\n",
    "                'p_dropout', 's_dropout', 'm_dropout', 'lr', 'beta1', 'weight_decay', 'epochs',\n",
    "                'early_stopping_patience', 'factor', 'patience', 'warmup', 'warmup_epochs', 'clip_grad', 'clip_value',\n",
    "                'use_pretrain', 'freeze', 'phased', 'p_aux', 'p_enc_in', 's_aux', 's_err', 's_conv_channels'\n",
    "            ]:\n",
    "                config[el] = old_config[el]\n",
    "\n",
    "    return config"
   ],
   "outputs": []
  },
  {
   "cell_type": "code",
   "execution_count": 5,
   "id": "5d74315e-8b6f-49a8-a1ff-7218311611eb",
   "metadata": {},
   "source": [
    "config = get_config()"
   ],
   "outputs": []
  },
  {
   "cell_type": "code",
   "execution_count": 6,
   "id": "3911850c-3d90-4eb9-8227-6d1e4abff41e",
   "metadata": {},
   "source": [
    "train_dataset = PSMDataset(config, split='train')"
   ],
   "outputs": []
  },
  {
   "cell_type": "code",
   "execution_count": 8,
   "id": "4d1b188d-ce82-4e32-82f1-a576904b7738",
   "metadata": {},
   "source": [
    "p, p_m, s, m, l = train_dataset[0]"
   ],
   "outputs": []
  },
  {
   "cell_type": "code",
   "execution_count": 22,
   "id": "ba07ceb8-8519-4e7b-8cb5-866d47ee0373",
   "metadata": {},
   "source": [
    "fig, axs = plt.subplots(1, 3, figsize=(15, 4))\n",
    "\n",
    "axs[0].plot(s[:, 0])\n",
    "axs[1].plot(s[:, 1])\n",
    "axs[2].plot(s[:, 2])"
   ],
   "outputs": []
  },
  {
   "cell_type": "code",
   "execution_count": 23,
   "id": "509183a2-d071-4ac3-b1bf-9ae6a4b9074c",
   "metadata": {},
   "source": [
    "m.shape"
   ],
   "outputs": []
  },
  {
   "cell_type": "code",
   "execution_count": 24,
   "id": "a44e0d1f-b310-4f6e-9d7e-7c634699bd67",
   "metadata": {},
   "source": [
    "m"
   ],
   "outputs": []
  },
  {
   "cell_type": "code",
   "execution_count": 25,
   "id": "58a553c0-3ce1-40ca-9301-59f760d2e2f2",
   "metadata": {},
   "source": [
    "train_dataset.meta_cols"
   ],
   "outputs": []
  },
  {
   "cell_type": "code",
   "execution_count": 27,
   "id": "d47ccb11-373e-4878-b1a8-2f7ec679d451",
   "metadata": {},
   "source": [
    "p.shape"
   ],
   "outputs": []
  },
  {
   "cell_type": "code",
   "execution_count": 28,
   "id": "53e80847-a6c0-4152-bcc2-afd03c569825",
   "metadata": {},
   "source": [
    "p[:3, :]"
   ],
   "outputs": []
  },
  {
   "cell_type": "code",
   "execution_count": 34,
   "id": "0de22c23-70db-4bdd-b56d-b19f2d5adb04",
   "metadata": {},
   "source": [],
   "outputs": []
  },
  {
   "cell_type": "code",
   "execution_count": 60,
   "id": "24f8efee-aa72-47f5-9ac0-8998c22f4521",
   "metadata": {},
   "source": [
    "for i in tqdm(range(len(train_dataset))):\n",
    "    el = train_dataset.df.iloc[i]\n",
    "    spectra = train_dataset.readLRSFits(os.path.join(train_dataset.lamost_spec_dir, el['spec_filename'])) \n",
    "    \n",
    "    wavelengths = spectra[:, 0]\n",
    "    flux = spectra[:, 1]\n",
    "    \n",
    "    new_wavelengths = np.arange(3850, 9000, 2)\n",
    "    flux = np.interp(new_wavelengths, wavelengths, flux)\n",
    "    \n",
    "    mad = stats.median_abs_deviation(flux[flux != 0])\n",
    "    \n",
    "    if mad < 1:\n",
    "        print(i, mad)"
   ],
   "outputs": []
  },
  {
   "cell_type": "code",
   "execution_count": 41,
   "id": "d8ac2bf5-1e44-42a3-b266-c43dcfa23fda",
   "metadata": {},
   "source": [
    "stds = []\n",
    "\n",
    "for i in tqdm(range(100)):\n",
    "    el = train_dataset.df.iloc[i]\n",
    "    spectra = train_dataset.readLRSFits(os.path.join(train_dataset.lamost_spec_dir, el['spec_filename'])) \n",
    "    \n",
    "    wavelengths = spectra[:, 0]\n",
    "    flux = spectra[:, 1]\n",
    "    \n",
    "    new_wavelengths = np.arange(3850, 9000, 2)\n",
    "    flux = np.interp(new_wavelengths, wavelengths, flux)\n",
    "    stds.append(np.std(flux))"
   ],
   "outputs": []
  },
  {
   "cell_type": "code",
   "execution_count": 47,
   "id": "65d86b17-bcbc-49b0-9959-89891784e36d",
   "metadata": {},
   "source": [
    "np.mean(stds), np.mean([np.log10(el) for el in stds]), np.min([np.log10(el) for el in stds]), np.max([np.log10(el) for el in stds])"
   ],
   "outputs": []
  },
  {
   "cell_type": "code",
   "execution_count": null,
   "id": "89a0b1a6-f5a3-4cf2-9d87-7514b7617703",
   "metadata": {},
   "source": [],
   "outputs": []
  },
  {
   "cell_type": "code",
   "execution_count": 26,
   "id": "c176270c-7c66-402f-8968-3b063adf3a76",
   "metadata": {},
   "source": [
    "el = train_dataset.df.iloc[333]\n",
    "spectra = train_dataset.readLRSFits(os.path.join(train_dataset.lamost_spec_dir, el['spec_filename'])) \n",
    "\n",
    "wavelengths = spectra[:, 0]\n",
    "flux = spectra[:, 1]\n",
    "\n",
    "new_wavelengths = np.arange(3850, 9000, 2)\n",
    "flux = np.interp(new_wavelengths, wavelengths, flux)\n",
    "\n",
    "mean = np.mean(flux)\n",
    "mad = stats.median_abs_deviation(flux[flux != 0])\n",
    "std = np.std(flux)\n",
    "\n",
    "flux_mad = (flux - mean) / mad\n",
    "flux_mad_scaled = (flux - mean) / (mad * 1.5)\n",
    "flux_std = (flux - mean) / std\n",
    "flux_max_std = (flux - mean) / (0.5 * mad + 0.5 * std)\n",
    "\n",
    "print(mad, std)"
   ],
   "outputs": []
  },
  {
   "cell_type": "code",
   "execution_count": 40,
   "id": "ef0e837b-85d1-4d85-a570-b8ec290c5e08",
   "metadata": {},
   "source": [
    "np.log10(std)"
   ],
   "outputs": []
  },
  {
   "cell_type": "code",
   "execution_count": 39,
   "id": "a3e4ef23-381b-4215-86c0-4ea618ed2bc3",
   "metadata": {},
   "source": [
    "y_min = min(flux_mad.min(), flux_mad_scaled.min(), flux_std.min(), flux_max_std.min()) - 1\n",
    "y_max = max(flux_mad.max(), flux_mad_scaled.max(), flux_std.max(), flux_max_std.max()) + 1\n",
    "\n",
    "plt.figure(figsize=(16, 4))\n",
    "\n",
    "plt.subplot(1, 4, 1)\n",
    "plt.plot(new_wavelengths, flux_mad, label=\"MAD Normalized\", alpha=0.8)\n",
    "plt.ylim(y_min, y_max)\n",
    "plt.xlabel('Wavelength')\n",
    "plt.ylabel('Normalized Flux')\n",
    "plt.title('MAD Normalized')\n",
    "plt.grid(True)\n",
    "\n",
    "plt.subplot(1, 4, 2)\n",
    "plt.plot(new_wavelengths, flux_mad_scaled, label=\"MAD Scaled (MAD*1.5)\", alpha=0.8)\n",
    "plt.ylim(y_min, y_max)\n",
    "plt.xlabel('Wavelength')\n",
    "plt.ylabel('Normalized Flux')\n",
    "plt.title('MAD Scaled (MAD*1.5)')\n",
    "plt.grid(True)\n",
    "\n",
    "plt.subplot(1, 4, 3)\n",
    "plt.plot(new_wavelengths, flux_std, label=\"STD Normalized\", alpha=0.8)\n",
    "plt.ylim(y_min, y_max)\n",
    "plt.xlabel('Wavelength')\n",
    "plt.ylabel('Normalized Flux')\n",
    "plt.title('STD Normalized')\n",
    "plt.grid(True)\n",
    "\n",
    "plt.subplot(1, 4, 4)\n",
    "plt.plot(new_wavelengths, flux_max_std, label=\"Mixed MAD-STD\", alpha=0.8)\n",
    "plt.ylim(y_min, y_max)\n",
    "plt.xlabel('Wavelength')\n",
    "plt.ylabel('Normalized Flux')\n",
    "plt.title('Mixed MAD-STD')\n",
    "plt.grid(True)\n",
    "\n",
    "plt.tight_layout()\n",
    "plt.show()"
   ],
   "outputs": []
  },
  {
   "cell_type": "code",
   "execution_count": null,
   "id": "b02e11f2-e610-48f0-8785-6e52e8c6e5a2",
   "metadata": {},
   "source": [],
   "outputs": []
  },
  {
   "cell_type": "code",
   "execution_count": 25,
   "id": "f5da6941-4520-4c12-81f4-b8249e3cd936",
   "metadata": {},
   "source": [
    "plt.plot(flux_norm_scaled)"
   ],
   "outputs": []
  },
  {
   "cell_type": "code",
   "execution_count": 23,
   "id": "e143358e-47a8-4507-aa4b-c18d23dfda39",
   "metadata": {},
   "source": [
    "plt.plot(flux_std_norm)"
   ],
   "outputs": []
  },
  {
   "cell_type": "code",
   "execution_count": 59,
   "id": "a6b7597e-6bd9-4dce-9be5-56999d6a5710",
   "metadata": {},
   "source": [
    "plt.plot(flux_norm)"
   ],
   "outputs": []
  },
  {
   "cell_type": "code",
   "execution_count": null,
   "id": "d97d8c18-c998-4e9f-8a5d-33ab1a8f9106",
   "metadata": {},
   "source": [],
   "outputs": []
  },
  {
   "cell_type": "code",
   "execution_count": null,
   "id": "125fe032-1250-4aae-abfa-646bc119d412",
   "metadata": {},
   "source": [],
   "outputs": []
  },
  {
   "cell_type": "code",
   "execution_count": 9,
   "id": "3cee18eb-7d1f-4020-aee6-68387f46214a",
   "metadata": {},
   "source": [
    "def plot_spectra(i):\n",
    "    p, p_m, s, m, l = train_dataset[i]\n",
    "    fig, axs = plt.subplots(1, 3, figsize=(15, 4))\n",
    "    \n",
    "    axs[0].plot(s[0, :])\n",
    "    axs[1].plot(s[1, :])\n",
    "    axs[2].plot(s[2, :])"
   ],
   "outputs": []
  },
  {
   "cell_type": "code",
   "execution_count": 11,
   "id": "5d1dc745-0f7e-45c9-853d-2b8c495a37e7",
   "metadata": {},
   "source": [
    "plot_spectra(0)"
   ],
   "outputs": []
  },
  {
   "cell_type": "code",
   "execution_count": 12,
   "id": "32d59980-186f-4c96-ae28-491e196dc6d8",
   "metadata": {},
   "source": [
    "plot_spectra(10)"
   ],
   "outputs": []
  },
  {
   "cell_type": "code",
   "execution_count": 13,
   "id": "0bc9ba26-b13f-49d7-9469-79e2da7ad007",
   "metadata": {},
   "source": [
    "plot_spectra(100)"
   ],
   "outputs": []
  },
  {
   "cell_type": "code",
   "execution_count": 14,
   "id": "3b6d544d-7f39-4c51-b214-bb6a1af9eb5b",
   "metadata": {},
   "source": [
    "plot_spectra(7958)"
   ],
   "outputs": []
  },
  {
   "cell_type": "code",
   "execution_count": 15,
   "id": "d4d80aad-fb23-470e-b583-c8d4256b7c25",
   "metadata": {},
   "source": [
    "plot_spectra(222)"
   ],
   "outputs": []
  },
  {
   "cell_type": "code",
   "execution_count": 16,
   "id": "145e7d92-5781-4608-ba63-cf4deb8e167d",
   "metadata": {},
   "source": [
    "plot_spectra(333)"
   ],
   "outputs": []
  },
  {
   "cell_type": "code",
   "execution_count": null,
   "id": "783dccb9-3559-4df5-a40f-9ce6b241b196",
   "metadata": {},
   "source": [],
   "outputs": []
  },
  {
   "cell_type": "code",
   "execution_count": null,
   "id": "f7950900-9967-4615-8eed-fc5fc103f66b",
   "metadata": {},
   "source": [],
   "outputs": []
  },
  {
   "cell_type": "code",
   "execution_count": null,
   "id": "9a9fff77-2155-4a32-a066-83e13bea637f",
   "metadata": {},
   "source": [],
   "outputs": []
  },
  {
   "cell_type": "code",
   "execution_count": null,
   "id": "7bf0ae35-58f0-41c6-8faf-54df71a30d9f",
   "metadata": {},
   "source": [],
   "outputs": []
  },
  {
   "cell_type": "code",
   "execution_count": null,
   "id": "296d760f-3444-48c6-97a1-2d923dc156a5",
   "metadata": {},
   "source": [],
   "outputs": []
  },
  {
   "cell_type": "code",
   "execution_count": null,
   "id": "ed4bfa73-e15d-4ea9-a590-b73580f47a97",
   "metadata": {},
   "source": [],
   "outputs": []
  },
  {
   "cell_type": "code",
   "execution_count": null,
   "id": "d7434a4c-1ea5-4dcf-9d64-8788c49f5a47",
   "metadata": {},
   "source": [],
   "outputs": []
  },
  {
   "cell_type": "code",
   "execution_count": null,
   "id": "599877f3-8e31-4f2a-93aa-7476e86570ce",
   "metadata": {},
   "source": [],
   "outputs": []
  },
  {
   "cell_type": "code",
   "execution_count": null,
   "id": "989d5f9a-0e5b-4339-b746-9b18fbc745ac",
   "metadata": {},
   "source": [],
   "outputs": []
  },
  {
   "cell_type": "code",
   "execution_count": null,
   "id": "c652bcb6-cefc-41cf-ac4a-a61e6fcebc28",
   "metadata": {},
   "source": [],
   "outputs": []
  },
  {
   "cell_type": "code",
   "execution_count": null,
   "id": "e8e7d0d8-140a-4de6-bbfb-61ed30be674f",
   "metadata": {},
   "source": [],
   "outputs": []
  },
  {
   "cell_type": "code",
   "execution_count": null,
   "id": "f5e16e95-8d25-4d5a-bca2-f05cd4e97a88",
   "metadata": {},
   "source": [],
   "outputs": []
  },
  {
   "cell_type": "code",
   "execution_count": null,
   "id": "b5126070-98e1-4d9d-9fc0-b6b247202446",
   "metadata": {},
   "source": [],
   "outputs": []
  }
 ],
 "metadata": {
  "kernelspec": {
   "display_name": "Python 3 (ipykernel)",
   "language": "python",
   "name": "python3"
  },
  "language_info": {
   "codemirror_mode": {
    "name": "ipython",
    "version": 3
   },
   "file_extension": ".py",
   "mimetype": "text/x-python",
   "name": "python",
   "nbconvert_exporter": "python",
   "pygments_lexer": "ipython3",
   "version": "3.10.14"
  }
 },
 "nbformat": 4,
 "nbformat_minor": 5
}

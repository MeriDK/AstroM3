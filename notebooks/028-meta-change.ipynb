{
 "cells": [
  {
   "cell_type": "code",
   "execution_count": 1,
   "id": "88253bb6-de21-4166-a901-1272dfae1045",
   "metadata": {},
   "outputs": [],
   "source": [
    "import sys\n",
    "sys.path.insert(0, '..')\n",
    "\n",
    "import pandas as pd\n",
    "import numpy as np\n",
    "from sklearn.preprocessing import StandardScaler\n",
    "import joblib\n",
    "from datetime import datetime\n",
    "import os\n",
    "import matplotlib.pyplot as plt\n",
    "from scipy import stats\n",
    "from tqdm import tqdm\n",
    "\n",
    "from core.final.dataset import PSMDataset"
   ]
  },
  {
   "cell_type": "code",
   "execution_count": 72,
   "id": "03564bab-615e-46ae-9ec8-1b9ed861303f",
   "metadata": {},
   "outputs": [
    {
     "data": {
      "text/plain": [
       "'\\nts aux\\nperiod\\nlksl_statistic\\nrfr_score\\namplitude\\n+\\n+ delta t t max - t min / 365\\nstd\\nskew\\nkurtosis\\netc\\n\\nno mean min max\\n\\nmeta\\n+ l\\n+ b\\n\\n\\nspectra norm = (s - weighted med) / (med abs dev)\\n + spectra flux error\\n + aux mad only\\n  \\nresults:\\nclip vs no clip classification on:\\n- photo\\n- spectra\\n- meta\\n- all\\n\\n+ same on 10/25/50 split\\n+ plot embeddings\\n+ [future] gif with embeddings changing during training for each epoch for modalities AND classes\\n+ [future] outlier detection\\n\\n'"
      ]
     },
     "execution_count": 72,
     "metadata": {},
     "output_type": "execute_result"
    }
   ],
   "source": [
    "\"\"\"\n",
    "ts aux\n",
    "period\n",
    "lksl_statistic\n",
    "rfr_score\n",
    "amplitude\n",
    "+\n",
    "+ delta t t max - t min / 365\n",
    "std\n",
    "skew\n",
    "kurtosis\n",
    "etc\n",
    "\n",
    "no mean min max\n",
    "\n",
    "meta\n",
    "+ l\n",
    "+ b\n",
    "\n",
    "\n",
    "spectra norm = (s - weighted med) / (med abs dev)\n",
    " + spectra flux error\n",
    " + aux mad only\n",
    "  \n",
    "results:\n",
    "clip vs no clip classification on:\n",
    "- photo\n",
    "- spectra\n",
    "- meta\n",
    "- all\n",
    "\n",
    "+ same on 10/25/50 split\n",
    "+ plot embeddings\n",
    "+ [future] gif with embeddings changing during training for each epoch for modalities AND classes\n",
    "+ [future] outlier detection\n",
    "\n",
    "\"\"\""
   ]
  },
  {
   "cell_type": "code",
   "execution_count": 2,
   "id": "86f9ddb4-0666-4cd5-b17c-b416940c4ccf",
   "metadata": {},
   "outputs": [],
   "source": [
    "METADATA_COLS = [\n",
    "    'mean_vmag',  'phot_g_mean_mag', 'e_phot_g_mean_mag', 'phot_bp_mean_mag', 'e_phot_bp_mean_mag', 'phot_rp_mean_mag', 'e_phot_rp_mean_mag',\n",
    "    'bp_rp', 'parallax', 'parallax_error', 'parallax_over_error', 'pmra', 'pmra_error', 'pmdec',\n",
    "    'pmdec_error', 'j_mag', 'e_j_mag', 'h_mag', 'e_h_mag', 'k_mag', 'e_k_mag', 'w1_mag', 'e_w1_mag',\n",
    "    'w2_mag', 'e_w2_mag', 'w3_mag', 'w4_mag', 'j_k', 'w1_w2', 'w3_w4', 'pm', 'ruwe', 'l', 'b'\n",
    "]\n",
    "\n",
    "PHOTO_COLS = ['amplitude', 'period', 'lksl_statistic', 'rfr_score']\n",
    "\n",
    "METADATA_FUNC = {\n",
    "    \"abs\": [\n",
    "        \"mean_vmag\",\n",
    "        \"phot_g_mean_mag\",\n",
    "        \"phot_bp_mean_mag\",\n",
    "        \"phot_rp_mean_mag\",\n",
    "        \"j_mag\",\n",
    "        \"h_mag\",\n",
    "        \"k_mag\",\n",
    "        \"w1_mag\",\n",
    "        \"w2_mag\",\n",
    "        \"w3_mag\",\n",
    "        \"w4_mag\",\n",
    "    ],\n",
    "    \"cos\": [\"l\"],\n",
    "    \"sin\": [\"b\"],\n",
    "    \"log\": [\"period\"]\n",
    "}"
   ]
  },
  {
   "cell_type": "code",
   "execution_count": 47,
   "id": "31bc8567-ea92-48b1-b15c-1a47eb50e2bd",
   "metadata": {},
   "outputs": [],
   "source": [
    "def normalize_metadata(df_train, df_val, df_test, cols):\n",
    "    scaler = StandardScaler()\n",
    "    scaler.fit(df_train[cols])\n",
    "    \n",
    "    df_train.loc[:, cols] = scaler.transform(df_train[cols])\n",
    "    df_val.loc[:, cols] = scaler.transform(df_val[cols])\n",
    "    df_test.loc[:, cols] = scaler.transform(df_test[cols])\n",
    "\n",
    "    return scaler"
   ]
  },
  {
   "cell_type": "code",
   "execution_count": 48,
   "id": "047941ba-38b5-4e3a-8660-f64cdaf430fe",
   "metadata": {},
   "outputs": [],
   "source": [
    "def transform(df):\n",
    "    for transformation_type, value in METADATA_FUNC.items():\n",
    "        if transformation_type == \"abs\":\n",
    "            for col in value:\n",
    "                df[col] = (\n",
    "                    df[col] - 10 + 5 * np.log10(np.where(df[\"parallax\"] <= 0, 1, df[\"parallax\"]))\n",
    "                )\n",
    "        elif transformation_type == \"cos\":\n",
    "            for col in value:\n",
    "                df[col] = np.cos(np.radians(df[col]))\n",
    "        elif transformation_type == \"sin\":\n",
    "            for col in value:\n",
    "                df[col] = np.sin(np.radians(df[col]))\n",
    "        elif transformation_type == \"log\":\n",
    "            for col in value:\n",
    "                df[col] = np.log10(df[col])"
   ]
  },
  {
   "cell_type": "code",
   "execution_count": 62,
   "id": "1c7789db-d90a-4a4c-bae6-ad8f81a4e988",
   "metadata": {},
   "outputs": [],
   "source": [
    "train = pd.read_csv('/home/mariia/AstroML/data/asassn/preprocessed_data/full_lb/spectra_and_v_train.csv')\n",
    "val = pd.read_csv('/home/mariia/AstroML/data/asassn/preprocessed_data/full_lb/spectra_and_v_val.csv')\n",
    "test = pd.read_csv('/home/mariia/AstroML/data/asassn/preprocessed_data/full_lb/spectra_and_v_test.csv')"
   ]
  },
  {
   "cell_type": "code",
   "execution_count": 63,
   "id": "330d8a9c-a7a1-43ba-8506-e74d9f21ee6f",
   "metadata": {},
   "outputs": [],
   "source": [
    "train['org_period'] = train['period']\n",
    "val['org_period'] = val['period']\n",
    "test['org_period'] = test['period']"
   ]
  },
  {
   "cell_type": "code",
   "execution_count": 64,
   "id": "c2350f73-0d5e-4ec2-9661-9340159b6b18",
   "metadata": {},
   "outputs": [
    {
     "data": {
      "text/html": [
       "<div>\n",
       "<style scoped>\n",
       "    .dataframe tbody tr th:only-of-type {\n",
       "        vertical-align: middle;\n",
       "    }\n",
       "\n",
       "    .dataframe tbody tr th {\n",
       "        vertical-align: top;\n",
       "    }\n",
       "\n",
       "    .dataframe thead th {\n",
       "        text-align: right;\n",
       "    }\n",
       "</style>\n",
       "<table border=\"1\" class=\"dataframe\">\n",
       "  <thead>\n",
       "    <tr style=\"text-align: right;\">\n",
       "      <th></th>\n",
       "      <th>mean_vmag</th>\n",
       "      <th>amplitude</th>\n",
       "      <th>period</th>\n",
       "      <th>phot_g_mean_mag</th>\n",
       "      <th>e_phot_g_mean_mag</th>\n",
       "      <th>lksl_statistic</th>\n",
       "      <th>rfr_score</th>\n",
       "      <th>phot_bp_mean_mag</th>\n",
       "      <th>e_phot_bp_mean_mag</th>\n",
       "      <th>phot_rp_mean_mag</th>\n",
       "      <th>...</th>\n",
       "      <th>w3_w4</th>\n",
       "      <th>pm</th>\n",
       "      <th>ruwe</th>\n",
       "      <th>id</th>\n",
       "      <th>target</th>\n",
       "      <th>name</th>\n",
       "      <th>spec_filename</th>\n",
       "      <th>l</th>\n",
       "      <th>b</th>\n",
       "      <th>org_period</th>\n",
       "    </tr>\n",
       "  </thead>\n",
       "  <tbody>\n",
       "    <tr>\n",
       "      <th>0</th>\n",
       "      <td>14.25</td>\n",
       "      <td>0.43</td>\n",
       "      <td>0.369614</td>\n",
       "      <td>14.200958</td>\n",
       "      <td>0.008666</td>\n",
       "      <td>0.03</td>\n",
       "      <td>0.98</td>\n",
       "      <td>14.513055</td>\n",
       "      <td>0.026188</td>\n",
       "      <td>13.729204</td>\n",
       "      <td>...</td>\n",
       "      <td>3.193</td>\n",
       "      <td>3.727</td>\n",
       "      <td>1.075</td>\n",
       "      <td>EDR3 2117581746386552576</td>\n",
       "      <td>EW</td>\n",
       "      <td>ASASSN-VJ184120.05+445439.3</td>\n",
       "      <td>spec-57516-HD184435N434959B01_sp15-016.fits.gz</td>\n",
       "      <td>73.88900</td>\n",
       "      <td>20.46931</td>\n",
       "      <td>0.369614</td>\n",
       "    </tr>\n",
       "    <tr>\n",
       "      <th>1</th>\n",
       "      <td>13.18</td>\n",
       "      <td>0.36</td>\n",
       "      <td>0.412779</td>\n",
       "      <td>13.016400</td>\n",
       "      <td>0.006397</td>\n",
       "      <td>0.04</td>\n",
       "      <td>0.98</td>\n",
       "      <td>13.386993</td>\n",
       "      <td>0.018453</td>\n",
       "      <td>12.487576</td>\n",
       "      <td>...</td>\n",
       "      <td>2.322</td>\n",
       "      <td>3.993</td>\n",
       "      <td>6.687</td>\n",
       "      <td>EDR3 2827427930745553152</td>\n",
       "      <td>EW</td>\n",
       "      <td>ASASSN-VJ233021.18+214240.3</td>\n",
       "      <td>spec-56967-EG232823N195308V01_sp11-063.fits.gz</td>\n",
       "      <td>99.03928</td>\n",
       "      <td>-37.36992</td>\n",
       "      <td>0.412779</td>\n",
       "    </tr>\n",
       "    <tr>\n",
       "      <th>2</th>\n",
       "      <td>12.97</td>\n",
       "      <td>0.36</td>\n",
       "      <td>0.450261</td>\n",
       "      <td>12.832680</td>\n",
       "      <td>0.008542</td>\n",
       "      <td>0.02</td>\n",
       "      <td>0.99</td>\n",
       "      <td>13.101369</td>\n",
       "      <td>0.024287</td>\n",
       "      <td>12.416662</td>\n",
       "      <td>...</td>\n",
       "      <td>2.970</td>\n",
       "      <td>15.718</td>\n",
       "      <td>1.217</td>\n",
       "      <td>EDR3 925880840326498432</td>\n",
       "      <td>EW</td>\n",
       "      <td>ASASSN-VJ074727.40+433956.1</td>\n",
       "      <td>spec-57410-HD075322N454428V02_sp02-117.fits.gz</td>\n",
       "      <td>175.63313</td>\n",
       "      <td>28.07546</td>\n",
       "      <td>0.450261</td>\n",
       "    </tr>\n",
       "  </tbody>\n",
       "</table>\n",
       "<p>3 rows × 43 columns</p>\n",
       "</div>"
      ],
      "text/plain": [
       "   mean_vmag  amplitude    period  phot_g_mean_mag  e_phot_g_mean_mag  \\\n",
       "0      14.25       0.43  0.369614        14.200958           0.008666   \n",
       "1      13.18       0.36  0.412779        13.016400           0.006397   \n",
       "2      12.97       0.36  0.450261        12.832680           0.008542   \n",
       "\n",
       "   lksl_statistic  rfr_score  phot_bp_mean_mag  e_phot_bp_mean_mag  \\\n",
       "0            0.03       0.98         14.513055            0.026188   \n",
       "1            0.04       0.98         13.386993            0.018453   \n",
       "2            0.02       0.99         13.101369            0.024287   \n",
       "\n",
       "   phot_rp_mean_mag  ...  w3_w4      pm   ruwe                        id  \\\n",
       "0         13.729204  ...  3.193   3.727  1.075  EDR3 2117581746386552576   \n",
       "1         12.487576  ...  2.322   3.993  6.687  EDR3 2827427930745553152   \n",
       "2         12.416662  ...  2.970  15.718  1.217   EDR3 925880840326498432   \n",
       "\n",
       "   target                         name  \\\n",
       "0      EW  ASASSN-VJ184120.05+445439.3   \n",
       "1      EW  ASASSN-VJ233021.18+214240.3   \n",
       "2      EW  ASASSN-VJ074727.40+433956.1   \n",
       "\n",
       "                                    spec_filename          l         b  \\\n",
       "0  spec-57516-HD184435N434959B01_sp15-016.fits.gz   73.88900  20.46931   \n",
       "1  spec-56967-EG232823N195308V01_sp11-063.fits.gz   99.03928 -37.36992   \n",
       "2  spec-57410-HD075322N454428V02_sp02-117.fits.gz  175.63313  28.07546   \n",
       "\n",
       "   org_period  \n",
       "0    0.369614  \n",
       "1    0.412779  \n",
       "2    0.450261  \n",
       "\n",
       "[3 rows x 43 columns]"
      ]
     },
     "execution_count": 64,
     "metadata": {},
     "output_type": "execute_result"
    }
   ],
   "source": [
    "train.head(3)"
   ]
  },
  {
   "cell_type": "code",
   "execution_count": 65,
   "id": "adbb8bcb-7164-4e17-a3f0-936f7ca7ac39",
   "metadata": {},
   "outputs": [],
   "source": [
    "transform(train)\n",
    "transform(val)\n",
    "transform(test)"
   ]
  },
  {
   "cell_type": "code",
   "execution_count": 66,
   "id": "d4a4ff92-7425-4dfe-a770-56c980d08014",
   "metadata": {},
   "outputs": [
    {
     "data": {
      "text/html": [
       "<div>\n",
       "<style scoped>\n",
       "    .dataframe tbody tr th:only-of-type {\n",
       "        vertical-align: middle;\n",
       "    }\n",
       "\n",
       "    .dataframe tbody tr th {\n",
       "        vertical-align: top;\n",
       "    }\n",
       "\n",
       "    .dataframe thead th {\n",
       "        text-align: right;\n",
       "    }\n",
       "</style>\n",
       "<table border=\"1\" class=\"dataframe\">\n",
       "  <thead>\n",
       "    <tr style=\"text-align: right;\">\n",
       "      <th></th>\n",
       "      <th>mean_vmag</th>\n",
       "      <th>amplitude</th>\n",
       "      <th>period</th>\n",
       "      <th>phot_g_mean_mag</th>\n",
       "      <th>e_phot_g_mean_mag</th>\n",
       "      <th>lksl_statistic</th>\n",
       "      <th>rfr_score</th>\n",
       "      <th>phot_bp_mean_mag</th>\n",
       "      <th>e_phot_bp_mean_mag</th>\n",
       "      <th>phot_rp_mean_mag</th>\n",
       "      <th>...</th>\n",
       "      <th>w3_w4</th>\n",
       "      <th>pm</th>\n",
       "      <th>ruwe</th>\n",
       "      <th>id</th>\n",
       "      <th>target</th>\n",
       "      <th>name</th>\n",
       "      <th>spec_filename</th>\n",
       "      <th>l</th>\n",
       "      <th>b</th>\n",
       "      <th>org_period</th>\n",
       "    </tr>\n",
       "  </thead>\n",
       "  <tbody>\n",
       "    <tr>\n",
       "      <th>0</th>\n",
       "      <td>3.642896</td>\n",
       "      <td>0.43</td>\n",
       "      <td>-0.432251</td>\n",
       "      <td>3.593854</td>\n",
       "      <td>0.008666</td>\n",
       "      <td>0.03</td>\n",
       "      <td>0.98</td>\n",
       "      <td>3.905951</td>\n",
       "      <td>0.026188</td>\n",
       "      <td>3.122100</td>\n",
       "      <td>...</td>\n",
       "      <td>3.193</td>\n",
       "      <td>3.727</td>\n",
       "      <td>1.075</td>\n",
       "      <td>EDR3 2117581746386552576</td>\n",
       "      <td>EW</td>\n",
       "      <td>ASASSN-VJ184120.05+445439.3</td>\n",
       "      <td>spec-57516-HD184435N434959B01_sp15-016.fits.gz</td>\n",
       "      <td>0.277499</td>\n",
       "      <td>0.349706</td>\n",
       "      <td>0.369614</td>\n",
       "    </tr>\n",
       "    <tr>\n",
       "      <th>1</th>\n",
       "      <td>3.417348</td>\n",
       "      <td>0.36</td>\n",
       "      <td>-0.384283</td>\n",
       "      <td>3.253748</td>\n",
       "      <td>0.006397</td>\n",
       "      <td>0.04</td>\n",
       "      <td>0.98</td>\n",
       "      <td>3.624341</td>\n",
       "      <td>0.018453</td>\n",
       "      <td>2.724924</td>\n",
       "      <td>...</td>\n",
       "      <td>2.322</td>\n",
       "      <td>3.993</td>\n",
       "      <td>6.687</td>\n",
       "      <td>EDR3 2827427930745553152</td>\n",
       "      <td>EW</td>\n",
       "      <td>ASASSN-VJ233021.18+214240.3</td>\n",
       "      <td>spec-56967-EG232823N195308V01_sp11-063.fits.gz</td>\n",
       "      <td>-0.157112</td>\n",
       "      <td>-0.606959</td>\n",
       "      <td>0.412779</td>\n",
       "    </tr>\n",
       "    <tr>\n",
       "      <th>2</th>\n",
       "      <td>3.271222</td>\n",
       "      <td>0.36</td>\n",
       "      <td>-0.346536</td>\n",
       "      <td>3.133902</td>\n",
       "      <td>0.008542</td>\n",
       "      <td>0.02</td>\n",
       "      <td>0.99</td>\n",
       "      <td>3.402591</td>\n",
       "      <td>0.024287</td>\n",
       "      <td>2.717884</td>\n",
       "      <td>...</td>\n",
       "      <td>2.970</td>\n",
       "      <td>15.718</td>\n",
       "      <td>1.217</td>\n",
       "      <td>EDR3 925880840326498432</td>\n",
       "      <td>EW</td>\n",
       "      <td>ASASSN-VJ074727.40+433956.1</td>\n",
       "      <td>spec-57410-HD075322N454428V02_sp02-117.fits.gz</td>\n",
       "      <td>-0.997097</td>\n",
       "      <td>0.470634</td>\n",
       "      <td>0.450261</td>\n",
       "    </tr>\n",
       "  </tbody>\n",
       "</table>\n",
       "<p>3 rows × 43 columns</p>\n",
       "</div>"
      ],
      "text/plain": [
       "   mean_vmag  amplitude    period  phot_g_mean_mag  e_phot_g_mean_mag  \\\n",
       "0   3.642896       0.43 -0.432251         3.593854           0.008666   \n",
       "1   3.417348       0.36 -0.384283         3.253748           0.006397   \n",
       "2   3.271222       0.36 -0.346536         3.133902           0.008542   \n",
       "\n",
       "   lksl_statistic  rfr_score  phot_bp_mean_mag  e_phot_bp_mean_mag  \\\n",
       "0            0.03       0.98          3.905951            0.026188   \n",
       "1            0.04       0.98          3.624341            0.018453   \n",
       "2            0.02       0.99          3.402591            0.024287   \n",
       "\n",
       "   phot_rp_mean_mag  ...  w3_w4      pm   ruwe                        id  \\\n",
       "0          3.122100  ...  3.193   3.727  1.075  EDR3 2117581746386552576   \n",
       "1          2.724924  ...  2.322   3.993  6.687  EDR3 2827427930745553152   \n",
       "2          2.717884  ...  2.970  15.718  1.217   EDR3 925880840326498432   \n",
       "\n",
       "   target                         name  \\\n",
       "0      EW  ASASSN-VJ184120.05+445439.3   \n",
       "1      EW  ASASSN-VJ233021.18+214240.3   \n",
       "2      EW  ASASSN-VJ074727.40+433956.1   \n",
       "\n",
       "                                    spec_filename         l         b  \\\n",
       "0  spec-57516-HD184435N434959B01_sp15-016.fits.gz  0.277499  0.349706   \n",
       "1  spec-56967-EG232823N195308V01_sp11-063.fits.gz -0.157112 -0.606959   \n",
       "2  spec-57410-HD075322N454428V02_sp02-117.fits.gz -0.997097  0.470634   \n",
       "\n",
       "   org_period  \n",
       "0    0.369614  \n",
       "1    0.412779  \n",
       "2    0.450261  \n",
       "\n",
       "[3 rows x 43 columns]"
      ]
     },
     "execution_count": 66,
     "metadata": {},
     "output_type": "execute_result"
    }
   ],
   "source": [
    "train.head(3)"
   ]
  },
  {
   "cell_type": "code",
   "execution_count": 67,
   "id": "f3da743f-1f8b-4a27-b98e-eb4c8141eb2a",
   "metadata": {},
   "outputs": [],
   "source": [
    "scaler = normalize_metadata(train, val, test, cols=METADATA_COLS+PHOTO_COLS)"
   ]
  },
  {
   "cell_type": "code",
   "execution_count": 68,
   "id": "45cc324a-25fa-466f-b3ef-eba4155f47b9",
   "metadata": {},
   "outputs": [
    {
     "data": {
      "text/html": [
       "<div>\n",
       "<style scoped>\n",
       "    .dataframe tbody tr th:only-of-type {\n",
       "        vertical-align: middle;\n",
       "    }\n",
       "\n",
       "    .dataframe tbody tr th {\n",
       "        vertical-align: top;\n",
       "    }\n",
       "\n",
       "    .dataframe thead th {\n",
       "        text-align: right;\n",
       "    }\n",
       "</style>\n",
       "<table border=\"1\" class=\"dataframe\">\n",
       "  <thead>\n",
       "    <tr style=\"text-align: right;\">\n",
       "      <th></th>\n",
       "      <th>mean_vmag</th>\n",
       "      <th>amplitude</th>\n",
       "      <th>period</th>\n",
       "      <th>phot_g_mean_mag</th>\n",
       "      <th>e_phot_g_mean_mag</th>\n",
       "      <th>lksl_statistic</th>\n",
       "      <th>rfr_score</th>\n",
       "      <th>phot_bp_mean_mag</th>\n",
       "      <th>e_phot_bp_mean_mag</th>\n",
       "      <th>phot_rp_mean_mag</th>\n",
       "      <th>...</th>\n",
       "      <th>w3_w4</th>\n",
       "      <th>pm</th>\n",
       "      <th>ruwe</th>\n",
       "      <th>id</th>\n",
       "      <th>target</th>\n",
       "      <th>name</th>\n",
       "      <th>spec_filename</th>\n",
       "      <th>l</th>\n",
       "      <th>b</th>\n",
       "      <th>org_period</th>\n",
       "    </tr>\n",
       "  </thead>\n",
       "  <tbody>\n",
       "    <tr>\n",
       "      <th>0</th>\n",
       "      <td>0.468452</td>\n",
       "      <td>-0.123730</td>\n",
       "      <td>-0.750512</td>\n",
       "      <td>0.577753</td>\n",
       "      <td>0.337026</td>\n",
       "      <td>-1.109518</td>\n",
       "      <td>1.036339</td>\n",
       "      <td>0.480426</td>\n",
       "      <td>0.077119</td>\n",
       "      <td>0.622243</td>\n",
       "      <td>...</td>\n",
       "      <td>0.682490</td>\n",
       "      <td>-0.451806</td>\n",
       "      <td>-0.180783</td>\n",
       "      <td>EDR3 2117581746386552576</td>\n",
       "      <td>EW</td>\n",
       "      <td>ASASSN-VJ184120.05+445439.3</td>\n",
       "      <td>spec-57516-HD184435N434959B01_sp15-016.fits.gz</td>\n",
       "      <td>1.003911</td>\n",
       "      <td>0.444250</td>\n",
       "      <td>0.369614</td>\n",
       "    </tr>\n",
       "    <tr>\n",
       "      <th>1</th>\n",
       "      <td>0.377716</td>\n",
       "      <td>-0.273548</td>\n",
       "      <td>-0.705325</td>\n",
       "      <td>0.455826</td>\n",
       "      <td>-0.124239</td>\n",
       "      <td>-1.072690</td>\n",
       "      <td>1.036339</td>\n",
       "      <td>0.367259</td>\n",
       "      <td>-0.178151</td>\n",
       "      <td>0.488187</td>\n",
       "      <td>...</td>\n",
       "      <td>0.006407</td>\n",
       "      <td>-0.425981</td>\n",
       "      <td>1.996158</td>\n",
       "      <td>EDR3 2827427930745553152</td>\n",
       "      <td>EW</td>\n",
       "      <td>ASASSN-VJ233021.18+214240.3</td>\n",
       "      <td>spec-56967-EG232823N195308V01_sp11-063.fits.gz</td>\n",
       "      <td>0.356090</td>\n",
       "      <td>-1.547098</td>\n",
       "      <td>0.412779</td>\n",
       "    </tr>\n",
       "    <tr>\n",
       "      <th>2</th>\n",
       "      <td>0.318932</td>\n",
       "      <td>-0.273548</td>\n",
       "      <td>-0.669766</td>\n",
       "      <td>0.412862</td>\n",
       "      <td>0.311818</td>\n",
       "      <td>-1.146347</td>\n",
       "      <td>1.108638</td>\n",
       "      <td>0.278147</td>\n",
       "      <td>0.014382</td>\n",
       "      <td>0.485811</td>\n",
       "      <td>...</td>\n",
       "      <td>0.509394</td>\n",
       "      <td>0.712358</td>\n",
       "      <td>-0.125700</td>\n",
       "      <td>EDR3 925880840326498432</td>\n",
       "      <td>EW</td>\n",
       "      <td>ASASSN-VJ074727.40+433956.1</td>\n",
       "      <td>spec-57410-HD075322N454428V02_sp02-117.fits.gz</td>\n",
       "      <td>-0.895975</td>\n",
       "      <td>0.695969</td>\n",
       "      <td>0.450261</td>\n",
       "    </tr>\n",
       "  </tbody>\n",
       "</table>\n",
       "<p>3 rows × 43 columns</p>\n",
       "</div>"
      ],
      "text/plain": [
       "   mean_vmag  amplitude    period  phot_g_mean_mag  e_phot_g_mean_mag  \\\n",
       "0   0.468452  -0.123730 -0.750512         0.577753           0.337026   \n",
       "1   0.377716  -0.273548 -0.705325         0.455826          -0.124239   \n",
       "2   0.318932  -0.273548 -0.669766         0.412862           0.311818   \n",
       "\n",
       "   lksl_statistic  rfr_score  phot_bp_mean_mag  e_phot_bp_mean_mag  \\\n",
       "0       -1.109518   1.036339          0.480426            0.077119   \n",
       "1       -1.072690   1.036339          0.367259           -0.178151   \n",
       "2       -1.146347   1.108638          0.278147            0.014382   \n",
       "\n",
       "   phot_rp_mean_mag  ...     w3_w4        pm      ruwe  \\\n",
       "0          0.622243  ...  0.682490 -0.451806 -0.180783   \n",
       "1          0.488187  ...  0.006407 -0.425981  1.996158   \n",
       "2          0.485811  ...  0.509394  0.712358 -0.125700   \n",
       "\n",
       "                         id  target                         name  \\\n",
       "0  EDR3 2117581746386552576      EW  ASASSN-VJ184120.05+445439.3   \n",
       "1  EDR3 2827427930745553152      EW  ASASSN-VJ233021.18+214240.3   \n",
       "2   EDR3 925880840326498432      EW  ASASSN-VJ074727.40+433956.1   \n",
       "\n",
       "                                    spec_filename         l         b  \\\n",
       "0  spec-57516-HD184435N434959B01_sp15-016.fits.gz  1.003911  0.444250   \n",
       "1  spec-56967-EG232823N195308V01_sp11-063.fits.gz  0.356090 -1.547098   \n",
       "2  spec-57410-HD075322N454428V02_sp02-117.fits.gz -0.895975  0.695969   \n",
       "\n",
       "   org_period  \n",
       "0    0.369614  \n",
       "1    0.412779  \n",
       "2    0.450261  \n",
       "\n",
       "[3 rows x 43 columns]"
      ]
     },
     "execution_count": 68,
     "metadata": {},
     "output_type": "execute_result"
    }
   ],
   "source": [
    "train.head(3)"
   ]
  },
  {
   "cell_type": "code",
   "execution_count": 69,
   "id": "7c983d9f-86b7-4bc0-9726-63d5b50b1da3",
   "metadata": {},
   "outputs": [],
   "source": [
    "train.to_csv('/home/mariia/AstroML/data/asassn/preprocessed_data/full_lb/spectra_and_v_train_norm.csv', index=False)\n",
    "val.to_csv('/home/mariia/AstroML/data/asassn/preprocessed_data/full_lb/spectra_and_v_val_norm.csv', index=False)\n",
    "test.to_csv('/home/mariia/AstroML/data/asassn/preprocessed_data/full_lb/spectra_and_v_test_norm.csv', index=False)"
   ]
  },
  {
   "cell_type": "code",
   "execution_count": 73,
   "id": "775d400d-a837-4502-b43b-98bfe6341454",
   "metadata": {},
   "outputs": [
    {
     "data": {
      "text/plain": [
       "['/home/mariia/AstroML/data/asassn/preprocessed_data/full_lb/scaler.pkl']"
      ]
     },
     "execution_count": 73,
     "metadata": {},
     "output_type": "execute_result"
    }
   ],
   "source": [
    "joblib.dump(scaler, '/home/mariia/AstroML/data/asassn/preprocessed_data/full_lb/scaler.pkl')"
   ]
  },
  {
   "cell_type": "code",
   "execution_count": null,
   "id": "5ecd0ac8-3719-48d6-8626-bd4d24cd4cf9",
   "metadata": {},
   "outputs": [],
   "source": []
  },
  {
   "cell_type": "markdown",
   "id": "c3c42986-fa27-4c6c-b694-77e771b0dbd4",
   "metadata": {},
   "source": [
    "# Test"
   ]
  },
  {
   "cell_type": "code",
   "execution_count": 3,
   "id": "7e0d9cfc-a73e-40e8-a638-eda4a190b0ce",
   "metadata": {},
   "outputs": [],
   "source": [
    "CLASSES = ['EW', 'SR', 'EA', 'RRAB', 'EB', 'ROT', 'RRC', 'HADS', 'M', 'DSCT']"
   ]
  },
  {
   "cell_type": "code",
   "execution_count": 4,
   "id": "0f78d627-49b0-4af4-a8b6-f4af10dc4311",
   "metadata": {},
   "outputs": [],
   "source": [
    "def get_config():\n",
    "    config = {\n",
    "        'project': 'AstroCLIPResults',\n",
    "        'mode': 'meta',    # 'clip' 'photo' 'spectra' 'meta' 'all'\n",
    "        'config_from': None,    # 'meridk/AstroCLIPResults/zgfcm56p',\n",
    "        'random_seed': 42,  # 42, 66, 0, 12, 123\n",
    "        'use_wandb': True,\n",
    "        'save_weights': True,\n",
    "        'weights_path': f'/home/mariia/AstroML/weights/{datetime.now().strftime(\"%Y-%m-%d-%H-%M\")}',\n",
    "        # 'use_pretrain': 'CLIP/home/mariia/AstroML/weights/2024-08-14-14-05-zmjau1cu/weights-51.pth',\n",
    "        'use_pretrain': None,\n",
    "        'freeze': False,\n",
    "\n",
    "        # Data General\n",
    "        'data_root': '/home/mariia/AstroML/data/asassn/',\n",
    "        'file': 'preprocessed_data/full_lb/spectra_and_v',\n",
    "        'classes': CLASSES,\n",
    "        'num_classes': len(CLASSES),\n",
    "        'meta_cols': METADATA_COLS,\n",
    "        'photo_cols': PHOTO_COLS,\n",
    "        'min_samples': None,\n",
    "        'max_samples': None,\n",
    "\n",
    "        # Photometry\n",
    "        'v_zip': 'asassnvarlc_vband_complete.zip',\n",
    "        'v_prefix': 'vardb_files',\n",
    "        'seq_len': 200,\n",
    "        'phased': False,\n",
    "        'p_aux': True,\n",
    "\n",
    "        # Spectra\n",
    "        'lamost_spec_dir': 'Spectra/v2',\n",
    "        's_aux': True,\n",
    "        's_err': True,\n",
    "\n",
    "        # Photometry Model\n",
    "        'p_enc_in': 3,\n",
    "        'p_d_model': 128,\n",
    "        'p_dropout': 0.2,\n",
    "        'p_factor': 1,\n",
    "        'p_output_attention': False,\n",
    "        'p_n_heads': 4,\n",
    "        'p_d_ff': 512,\n",
    "        'p_activation': 'gelu',\n",
    "        'p_e_layers': 8,\n",
    "\n",
    "        # Spectra Model\n",
    "        's_dropout': 0.2,\n",
    "        's_conv_channels': [1, 64, 64, 32, 32],\n",
    "        's_kernel_size': 3,\n",
    "        's_mp_kernel_size': 4,\n",
    "\n",
    "        # Metadata Model\n",
    "        'm_hidden_dim': 512,\n",
    "        'm_dropout': 0.2,\n",
    "\n",
    "        # MultiModal Model\n",
    "        'hidden_dim': 512,\n",
    "        'fusion': 'avg',  # 'avg', 'concat'\n",
    "\n",
    "        # Training\n",
    "        'batch_size': 512,\n",
    "        'lr': 0.001,\n",
    "        'beta1': 0.9,\n",
    "        'beta2': 0.999,\n",
    "        'weight_decay': 0.01,\n",
    "        'epochs': 100,\n",
    "        'early_stopping_patience': 6,\n",
    "        'scheduler': 'ReduceLROnPlateau',  # 'ExponentialLR', 'ReduceLROnPlateau'\n",
    "        'gamma': 0.9,  # for ExponentialLR scheduler\n",
    "        'factor': 0.3,  # for ReduceLROnPlateau scheduler\n",
    "        'patience': 3,  # for ReduceLROnPlateau scheduler\n",
    "        'warmup': True,\n",
    "        'warmup_epochs': 10,\n",
    "        'clip_grad': True,\n",
    "        'clip_value': 45\n",
    "    }\n",
    "\n",
    "    if config['p_aux']:\n",
    "        config['p_enc_in'] += len(config['photo_cols']) + 2     # +2 for mad and delta t\n",
    "\n",
    "    if config['s_aux']:\n",
    "        config['s_conv_channels'][0] += 1\n",
    "\n",
    "    if config['s_err']:\n",
    "        config['s_conv_channels'][0] += 1\n",
    "\n",
    "    if config['config_from']:\n",
    "        print(f\"Copying params from the {config['config_from']} run\")\n",
    "        old_config = wandb.Api().run(config['config_from']).config\n",
    "\n",
    "        for el in old_config:\n",
    "            if el in [\n",
    "                'p_dropout', 's_dropout', 'm_dropout', 'lr', 'beta1', 'weight_decay', 'epochs',\n",
    "                'early_stopping_patience', 'factor', 'patience', 'warmup', 'warmup_epochs', 'clip_grad', 'clip_value',\n",
    "                'use_pretrain', 'freeze', 'phased', 'p_aux', 'p_enc_in', 's_aux', 's_err', 's_conv_channels'\n",
    "            ]:\n",
    "                config[el] = old_config[el]\n",
    "\n",
    "    return config"
   ]
  },
  {
   "cell_type": "code",
   "execution_count": 5,
   "id": "5d74315e-8b6f-49a8-a1ff-7218311611eb",
   "metadata": {},
   "outputs": [],
   "source": [
    "config = get_config()"
   ]
  },
  {
   "cell_type": "code",
   "execution_count": 6,
   "id": "3911850c-3d90-4eb9-8227-6d1e4abff41e",
   "metadata": {},
   "outputs": [],
   "source": [
    "train_dataset = PSMDataset(config, split='train')"
   ]
  },
  {
   "cell_type": "code",
   "execution_count": 8,
   "id": "4d1b188d-ce82-4e32-82f1-a576904b7738",
   "metadata": {},
   "outputs": [],
   "source": [
    "p, p_m, s, m, l = train_dataset[0]"
   ]
  },
  {
   "cell_type": "code",
   "execution_count": 22,
   "id": "ba07ceb8-8519-4e7b-8cb5-866d47ee0373",
   "metadata": {},
   "outputs": [
    {
     "data": {
      "text/plain": [
       "[<matplotlib.lines.Line2D at 0x7f9aa924ada0>]"
      ]
     },
     "execution_count": 22,
     "metadata": {},
     "output_type": "execute_result"
    },
    {
     "data": {
      "image/png": "[encoded data removed]",
      "text/plain": [
       "<Figure size 1500x400 with 3 Axes>"
      ]
     },
     "metadata": {},
     "output_type": "display_data"
    }
   ],
   "source": [
    "fig, axs = plt.subplots(1, 3, figsize=(15, 4))\n",
    "\n",
    "axs[0].plot(s[:, 0])\n",
    "axs[1].plot(s[:, 1])\n",
    "axs[2].plot(s[:, 2])"
   ]
  },
  {
   "cell_type": "code",
   "execution_count": 23,
   "id": "509183a2-d071-4ac3-b1bf-9ae6a4b9074c",
   "metadata": {},
   "outputs": [
    {
     "data": {
      "text/plain": [
       "(34,)"
      ]
     },
     "execution_count": 23,
     "metadata": {},
     "output_type": "execute_result"
    }
   ],
   "source": [
    "m.shape"
   ]
  },
  {
   "cell_type": "code",
   "execution_count": 24,
   "id": "a44e0d1f-b310-4f6e-9d7e-7c634699bd67",
   "metadata": {},
   "outputs": [
    {
     "data": {
      "text/plain": [
       "array([ 0.46845165,  0.5777532 ,  0.33702573,  0.48042554,  0.07711897,\n",
       "        0.6222429 ,  0.5225165 , -0.5712912 , -0.08947697, -0.4166497 ,\n",
       "        0.12132795,  0.13869835, -0.38648468,  0.1050081 , -0.29492944,\n",
       "        0.6661094 ,  0.574305  ,  0.709537  ,  0.02201757,  0.7009008 ,\n",
       "       -0.05441045,  0.66980654, -0.36477575,  0.6715334 , -0.34695286,\n",
       "        0.8064633 ,  0.6847023 , -0.77802926, -0.22493474,  0.68248993,\n",
       "       -0.45180646, -0.18078335,  1.0039113 ,  0.44424993], dtype=float32)"
      ]
     },
     "execution_count": 24,
     "metadata": {},
     "output_type": "execute_result"
    }
   ],
   "source": [
    "m"
   ]
  },
  {
   "cell_type": "code",
   "execution_count": 25,
   "id": "58a553c0-3ce1-40ca-9301-59f760d2e2f2",
   "metadata": {},
   "outputs": [
    {
     "data": {
      "text/plain": [
       "['mean_vmag',\n",
       " 'phot_g_mean_mag',\n",
       " 'e_phot_g_mean_mag',\n",
       " 'phot_bp_mean_mag',\n",
       " 'e_phot_bp_mean_mag',\n",
       " 'phot_rp_mean_mag',\n",
       " 'e_phot_rp_mean_mag',\n",
       " 'bp_rp',\n",
       " 'parallax',\n",
       " 'parallax_error',\n",
       " 'parallax_over_error',\n",
       " 'pmra',\n",
       " 'pmra_error',\n",
       " 'pmdec',\n",
       " 'pmdec_error',\n",
       " 'j_mag',\n",
       " 'e_j_mag',\n",
       " 'h_mag',\n",
       " 'e_h_mag',\n",
       " 'k_mag',\n",
       " 'e_k_mag',\n",
       " 'w1_mag',\n",
       " 'e_w1_mag',\n",
       " 'w2_mag',\n",
       " 'e_w2_mag',\n",
       " 'w3_mag',\n",
       " 'w4_mag',\n",
       " 'j_k',\n",
       " 'w1_w2',\n",
       " 'w3_w4',\n",
       " 'pm',\n",
       " 'ruwe',\n",
       " 'l',\n",
       " 'b']"
      ]
     },
     "execution_count": 25,
     "metadata": {},
     "output_type": "execute_result"
    }
   ],
   "source": [
    "train_dataset.meta_cols"
   ]
  },
  {
   "cell_type": "code",
   "execution_count": 27,
   "id": "d47ccb11-373e-4878-b1a8-2f7ec679d451",
   "metadata": {},
   "outputs": [
    {
     "data": {
      "text/plain": [
       "(200, 9)"
      ]
     },
     "execution_count": 27,
     "metadata": {},
     "output_type": "execute_result"
    }
   ],
   "source": [
    "p.shape"
   ]
  },
  {
   "cell_type": "code",
   "execution_count": 28,
   "id": "53e80847-a6c0-4152-bcc2-afd03c569825",
   "metadata": {},
   "outputs": [
    {
     "data": {
      "text/plain": [
       "array([[ 0.00000000e+00,  1.57550907e+00,  2.60645151e-01,\n",
       "        -1.23729676e-01, -7.50512242e-01, -1.10951817e+00,\n",
       "         1.03633916e+00, -1.10698298e-01,  2.93458486e+00],\n",
       "       [ 9.33067000e-04, -3.26426387e-01,  2.36129031e-01,\n",
       "        -1.23729676e-01, -7.50512242e-01, -1.10951817e+00,\n",
       "         1.03633916e+00, -1.10698298e-01,  2.93458486e+00],\n",
       "       [ 1.86934567e-03,  1.74218774e-01,  2.42580652e-01,\n",
       "        -1.23729676e-01, -7.50512242e-01, -1.10951817e+00,\n",
       "         1.03633916e+00, -1.10698298e-01,  2.93458486e+00]], dtype=float32)"
      ]
     },
     "execution_count": 28,
     "metadata": {},
     "output_type": "execute_result"
    }
   ],
   "source": [
    "p[:3, :]"
   ]
  },
  {
   "cell_type": "code",
   "execution_count": 34,
   "id": "0de22c23-70db-4bdd-b56d-b19f2d5adb04",
   "metadata": {},
   "outputs": [],
   "source": []
  },
  {
   "cell_type": "code",
   "execution_count": 60,
   "id": "24f8efee-aa72-47f5-9ac0-8998c22f4521",
   "metadata": {},
   "outputs": [
    {
     "name": "stderr",
     "output_type": "stream",
     "text": [
      "  0%|▎                                                                              | 80/17275 [00:01<03:51, 74.36it/s]"
     ]
    },
    {
     "name": "stdout",
     "output_type": "stream",
     "text": [
      "64 0.46285699110724954\n"
     ]
    },
    {
     "name": "stderr",
     "output_type": "stream",
     "text": [
      "  1%|▌                                                                             | 125/17275 [00:01<03:31, 80.90it/s]"
     ]
    },
    {
     "name": "stdout",
     "output_type": "stream",
     "text": [
      "110 0.5609253963675846\n"
     ]
    },
    {
     "name": "stderr",
     "output_type": "stream",
     "text": [
      "  2%|█▏                                                                            | 273/17275 [00:03<03:17, 85.88it/s]"
     ]
    },
    {
     "name": "stdout",
     "output_type": "stream",
     "text": [
      "260 0.04108158807117304\n"
     ]
    },
    {
     "name": "stderr",
     "output_type": "stream",
     "text": [
      "  3%|██▍                                                                           | 546/17275 [00:07<03:48, 73.26it/s]"
     ]
    },
    {
     "name": "stdout",
     "output_type": "stream",
     "text": [
      "530 0.6651917778121099\n",
      "532 0.7981359602913027\n"
     ]
    },
    {
     "name": "stderr",
     "output_type": "stream",
     "text": [
      "  3%|██▌                                                                           | 571/17275 [00:07<03:52, 71.80it/s]"
     ]
    },
    {
     "name": "stdout",
     "output_type": "stream",
     "text": [
      "563 0.06897711589985991\n"
     ]
    },
    {
     "name": "stderr",
     "output_type": "stream",
     "text": [
      "  4%|██▊                                                                           | 623/17275 [00:08<03:45, 73.81it/s]"
     ]
    },
    {
     "name": "stdout",
     "output_type": "stream",
     "text": [
      "615 0.5485547160626307\n"
     ]
    },
    {
     "name": "stderr",
     "output_type": "stream",
     "text": [
      "  4%|███▍                                                                          | 749/17275 [00:09<03:36, 76.50it/s]"
     ]
    },
    {
     "name": "stdout",
     "output_type": "stream",
     "text": [
      "734 0.1307119385803558\n"
     ]
    },
    {
     "name": "stderr",
     "output_type": "stream",
     "text": [
      "  6%|████▎                                                                         | 968/17275 [00:12<03:13, 84.38it/s]"
     ]
    },
    {
     "name": "stdout",
     "output_type": "stream",
     "text": [
      "953 0.4990572184005464\n"
     ]
    },
    {
     "name": "stderr",
     "output_type": "stream",
     "text": [
      "  8%|█████▉                                                                       | 1334/17275 [00:17<03:42, 71.58it/s]"
     ]
    },
    {
     "name": "stdout",
     "output_type": "stream",
     "text": [
      "1325 0.4919639906689113\n",
      "1332 0.6963656427387654\n"
     ]
    },
    {
     "name": "stderr",
     "output_type": "stream",
     "text": [
      "  9%|███████                                                                      | 1581/17275 [00:20<03:07, 83.87it/s]"
     ]
    },
    {
     "name": "stdout",
     "output_type": "stream",
     "text": [
      "1563 0.5620792228682108\n"
     ]
    },
    {
     "name": "stderr",
     "output_type": "stream",
     "text": [
      "  9%|███████▏                                                                     | 1626/17275 [00:21<03:22, 77.30it/s]"
     ]
    },
    {
     "name": "stdout",
     "output_type": "stream",
     "text": [
      "1618 0.8426101130518231\n"
     ]
    },
    {
     "name": "stderr",
     "output_type": "stream",
     "text": [
      " 10%|███████▎                                                                     | 1645/17275 [00:21<03:20, 77.93it/s]"
     ]
    },
    {
     "name": "stdout",
     "output_type": "stream",
     "text": [
      "1636 0.498484806634758\n"
     ]
    },
    {
     "name": "stderr",
     "output_type": "stream",
     "text": [
      " 11%|████████                                                                     | 1816/17275 [00:23<02:54, 88.59it/s]"
     ]
    },
    {
     "name": "stdout",
     "output_type": "stream",
     "text": [
      "1799 0.32695238986158187\n"
     ]
    },
    {
     "name": "stderr",
     "output_type": "stream",
     "text": [
      " 12%|████████▊                                                                    | 1987/17275 [00:25<02:58, 85.72it/s]"
     ]
    },
    {
     "name": "stdout",
     "output_type": "stream",
     "text": [
      "1971 0.9439516804174963\n"
     ]
    },
    {
     "name": "stderr",
     "output_type": "stream",
     "text": [
      " 12%|█████████                                                                    | 2033/17275 [00:26<03:12, 79.04it/s]"
     ]
    },
    {
     "name": "stdout",
     "output_type": "stream",
     "text": [
      "2020 0.5886702684652292\n"
     ]
    },
    {
     "name": "stderr",
     "output_type": "stream",
     "text": [
      " 12%|█████████▏                                                                   | 2061/17275 [00:26<03:07, 81.22it/s]"
     ]
    },
    {
     "name": "stdout",
     "output_type": "stream",
     "text": [
      "2051 0.40062405917336186\n"
     ]
    },
    {
     "name": "stderr",
     "output_type": "stream",
     "text": [
      " 12%|█████████▎                                                                   | 2087/17275 [00:26<03:11, 79.47it/s]"
     ]
    },
    {
     "name": "stdout",
     "output_type": "stream",
     "text": [
      "2072 0.2881770288750731\n",
      "2077 0.2864420338279323\n"
     ]
    },
    {
     "name": "stderr",
     "output_type": "stream",
     "text": [
      " 13%|█████████▊                                                                   | 2194/17275 [00:28<02:37, 95.51it/s]"
     ]
    },
    {
     "name": "stdout",
     "output_type": "stream",
     "text": [
      "2179 0.5165127641893537\n",
      "2185 0.22025843956578794\n"
     ]
    },
    {
     "name": "stderr",
     "output_type": "stream",
     "text": [
      " 13%|█████████▊                                                                   | 2214/17275 [00:28<02:58, 84.15it/s]"
     ]
    },
    {
     "name": "stdout",
     "output_type": "stream",
     "text": [
      "2205 0.30358039122743596\n",
      "2207 0.5606373888773866\n"
     ]
    },
    {
     "name": "stderr",
     "output_type": "stream",
     "text": [
      " 13%|██████████                                                                   | 2253/17275 [00:28<02:47, 89.73it/s]"
     ]
    },
    {
     "name": "stdout",
     "output_type": "stream",
     "text": [
      "2237 0.8234644669745994\n"
     ]
    },
    {
     "name": "stderr",
     "output_type": "stream",
     "text": [
      " 14%|██████████▌                                                                  | 2376/17275 [00:30<02:46, 89.74it/s]"
     ]
    },
    {
     "name": "stdout",
     "output_type": "stream",
     "text": [
      "2366 0.14868487954487386\n"
     ]
    },
    {
     "name": "stderr",
     "output_type": "stream",
     "text": [
      " 15%|███████████▋                                                                 | 2619/17275 [00:32<02:40, 91.25it/s]"
     ]
    },
    {
     "name": "stdout",
     "output_type": "stream",
     "text": [
      "2603 0.5526154963598096\n"
     ]
    },
    {
     "name": "stderr",
     "output_type": "stream",
     "text": [
      " 16%|████████████                                                                 | 2705/17275 [00:33<02:54, 83.53it/s]"
     ]
    },
    {
     "name": "stdout",
     "output_type": "stream",
     "text": [
      "2696 0.7245464525769933\n",
      "2713 0.6684155862601067\n"
     ]
    },
    {
     "name": "stderr",
     "output_type": "stream",
     "text": [
      " 16%|████████████▎                                                                | 2765/17275 [00:34<02:57, 81.86it/s]"
     ]
    },
    {
     "name": "stdout",
     "output_type": "stream",
     "text": [
      "2749 0.6480191739597223\n",
      "2751 0.8863754863978142\n"
     ]
    },
    {
     "name": "stderr",
     "output_type": "stream",
     "text": [
      " 16%|████████████▋                                                                | 2844/17275 [00:35<02:41, 89.09it/s]"
     ]
    },
    {
     "name": "stdout",
     "output_type": "stream",
     "text": [
      "2827 0.2488559530885719\n"
     ]
    },
    {
     "name": "stderr",
     "output_type": "stream",
     "text": [
      " 17%|████████████▉                                                                | 2903/17275 [00:36<02:46, 86.26it/s]"
     ]
    },
    {
     "name": "stdout",
     "output_type": "stream",
     "text": [
      "2887 0.950443994028257\n",
      "2900 0.5867893719547865\n"
     ]
    },
    {
     "name": "stderr",
     "output_type": "stream",
     "text": [
      " 17%|█████████████▏                                                               | 2949/17275 [00:36<02:44, 87.35it/s]"
     ]
    },
    {
     "name": "stdout",
     "output_type": "stream",
     "text": [
      "2931 0.4844298338067674\n"
     ]
    },
    {
     "name": "stderr",
     "output_type": "stream",
     "text": [
      " 17%|█████████████▎                                                               | 2982/17275 [00:36<02:26, 97.85it/s]"
     ]
    },
    {
     "name": "stdout",
     "output_type": "stream",
     "text": [
      "2965 0.4732710062705001\n",
      "2982 0.1718570824667457\n"
     ]
    },
    {
     "name": "stderr",
     "output_type": "stream",
     "text": [
      " 17%|█████████████▍                                                               | 3011/17275 [00:37<02:49, 84.09it/s]"
     ]
    },
    {
     "name": "stdout",
     "output_type": "stream",
     "text": [
      "2996 0.42679929227801594\n",
      "2999 0.5729351226726251\n",
      "3006 0.6353462825471055\n"
     ]
    },
    {
     "name": "stderr",
     "output_type": "stream",
     "text": [
      " 18%|█████████████▋                                                               | 3066/17275 [00:37<02:48, 84.24it/s]"
     ]
    },
    {
     "name": "stdout",
     "output_type": "stream",
     "text": [
      "3052 0.39976531991914227\n",
      "3055 0.9278226645764489\n"
     ]
    },
    {
     "name": "stderr",
     "output_type": "stream",
     "text": [
      " 18%|█████████████▉                                                               | 3139/17275 [00:38<02:46, 85.08it/s]"
     ]
    },
    {
     "name": "stdout",
     "output_type": "stream",
     "text": [
      "3128 0.5802504071941077\n"
     ]
    },
    {
     "name": "stderr",
     "output_type": "stream",
     "text": [
      " 18%|██████████████▏                                                              | 3180/17275 [00:39<02:36, 90.25it/s]"
     ]
    },
    {
     "name": "stdout",
     "output_type": "stream",
     "text": [
      "3168 0.8698207062415726\n",
      "3183 0.8853818202241683\n"
     ]
    },
    {
     "name": "stderr",
     "output_type": "stream",
     "text": [
      " 19%|██████████████▍                                                              | 3234/17275 [00:39<02:26, 95.93it/s]"
     ]
    },
    {
     "name": "stdout",
     "output_type": "stream",
     "text": [
      "3222 0.9442983564531207\n",
      "3236 0.11043198403195564\n"
     ]
    },
    {
     "name": "stderr",
     "output_type": "stream",
     "text": [
      " 19%|██████████████▋                                                              | 3307/17275 [00:40<02:32, 91.52it/s]"
     ]
    },
    {
     "name": "stdout",
     "output_type": "stream",
     "text": [
      "3291 0.5003986799860416\n",
      "3302 0.5646869208665057\n",
      "3303 0.7758628843090762\n"
     ]
    },
    {
     "name": "stderr",
     "output_type": "stream",
     "text": [
      " 20%|███████████████                                                              | 3379/17275 [00:41<02:27, 94.18it/s]"
     ]
    },
    {
     "name": "stdout",
     "output_type": "stream",
     "text": [
      "3360 0.18011297092780698\n"
     ]
    },
    {
     "name": "stderr",
     "output_type": "stream",
     "text": [
      " 20%|███████████████▎                                                             | 3429/17275 [00:41<02:27, 94.05it/s]"
     ]
    },
    {
     "name": "stdout",
     "output_type": "stream",
     "text": [
      "3417 0.285639335972398\n",
      "3422 0.17859460890586742\n"
     ]
    },
    {
     "name": "stderr",
     "output_type": "stream",
     "text": [
      " 20%|███████████████▌                                                             | 3490/17275 [00:42<02:39, 86.32it/s]"
     ]
    },
    {
     "name": "stdout",
     "output_type": "stream",
     "text": [
      "3479 0.4515896417941552\n"
     ]
    },
    {
     "name": "stderr",
     "output_type": "stream",
     "text": [
      " 20%|███████████████▊                                                             | 3541/17275 [00:43<02:26, 93.46it/s]"
     ]
    },
    {
     "name": "stdout",
     "output_type": "stream",
     "text": [
      "3528 0.07420176830646258\n"
     ]
    },
    {
     "name": "stderr",
     "output_type": "stream",
     "text": [
      " 21%|████████████████▏                                                            | 3621/17275 [00:44<02:32, 89.71it/s]"
     ]
    },
    {
     "name": "stdout",
     "output_type": "stream",
     "text": [
      "3608 0.5072610318148794\n",
      "3617 0.4363329998806369\n",
      "3620 0.2672061691519829\n",
      "3626 0.8564499202779494\n",
      "3627 0.5671080671020299\n"
     ]
    },
    {
     "name": "stderr",
     "output_type": "stream",
     "text": [
      " 22%|████████████████▌                                                            | 3723/17275 [00:45<02:19, 96.93it/s]"
     ]
    },
    {
     "name": "stdout",
     "output_type": "stream",
     "text": [
      "3711 0.2322417541175626\n"
     ]
    },
    {
     "name": "stderr",
     "output_type": "stream",
     "text": [
      " 23%|█████████████████▋                                                           | 3975/17275 [00:47<02:42, 81.98it/s]"
     ]
    },
    {
     "name": "stdout",
     "output_type": "stream",
     "text": [
      "3959 0.07571348007869316\n"
     ]
    },
    {
     "name": "stderr",
     "output_type": "stream",
     "text": [
      " 23%|█████████████████▍                                                         | 4004/17275 [01:19<3:15:29,  1.13it/s]"
     ]
    },
    {
     "name": "stdout",
     "output_type": "stream",
     "text": [
      "3995 0.4029256617064263\n"
     ]
    },
    {
     "name": "stderr",
     "output_type": "stream",
     "text": [
      " 23%|█████████████████▍                                                         | 4029/17275 [01:19<1:04:52,  3.40it/s]"
     ]
    },
    {
     "name": "stdout",
     "output_type": "stream",
     "text": [
      "4014 0.3001924736897741\n",
      "4020 0.5437670540715003\n"
     ]
    },
    {
     "name": "stderr",
     "output_type": "stream",
     "text": [
      " 25%|███████████████████▌                                                         | 4376/17275 [01:24<02:57, 72.65it/s]"
     ]
    },
    {
     "name": "stdout",
     "output_type": "stream",
     "text": [
      "4364 0.3439353999398278\n"
     ]
    },
    {
     "name": "stderr",
     "output_type": "stream",
     "text": [
      " 27%|████████████████████▍                                                        | 4579/17275 [01:27<02:40, 79.33it/s]"
     ]
    },
    {
     "name": "stdout",
     "output_type": "stream",
     "text": [
      "4566 0.9007105158121185\n"
     ]
    },
    {
     "name": "stderr",
     "output_type": "stream",
     "text": [
      " 27%|████████████████████▊                                                        | 4677/17275 [01:28<02:59, 70.22it/s]"
     ]
    },
    {
     "name": "stdout",
     "output_type": "stream",
     "text": [
      "4667 0.6592457019720617\n"
     ]
    },
    {
     "name": "stderr",
     "output_type": "stream",
     "text": [
      " 29%|██████████████████████                                                       | 4945/17275 [01:32<03:18, 62.13it/s]"
     ]
    },
    {
     "name": "stdout",
     "output_type": "stream",
     "text": [
      "4937 0.6668485230658137\n"
     ]
    },
    {
     "name": "stderr",
     "output_type": "stream",
     "text": [
      " 29%|██████████████████████▍                                                      | 5038/17275 [01:33<02:33, 79.80it/s]"
     ]
    },
    {
     "name": "stdout",
     "output_type": "stream",
     "text": [
      "5028 0.30442504979864826\n"
     ]
    },
    {
     "name": "stderr",
     "output_type": "stream",
     "text": [
      " 29%|██████████████████████▌                                                      | 5072/17275 [01:34<02:42, 75.26it/s]"
     ]
    },
    {
     "name": "stdout",
     "output_type": "stream",
     "text": [
      "5063 0.26572627976708896\n"
     ]
    },
    {
     "name": "stderr",
     "output_type": "stream",
     "text": [
      " 29%|██████████████████████▋                                                      | 5096/17275 [01:34<02:51, 71.06it/s]"
     ]
    },
    {
     "name": "stdout",
     "output_type": "stream",
     "text": [
      "5082 0.12956243813472668\n"
     ]
    },
    {
     "name": "stderr",
     "output_type": "stream",
     "text": [
      " 30%|██████████████████████▊                                                      | 5128/17275 [01:35<02:50, 71.17it/s]"
     ]
    },
    {
     "name": "stdout",
     "output_type": "stream",
     "text": [
      "5114 0.5498811608937437\n"
     ]
    },
    {
     "name": "stderr",
     "output_type": "stream",
     "text": [
      " 30%|███████████████████████                                                      | 5178/17275 [01:35<03:00, 67.11it/s]"
     ]
    },
    {
     "name": "stdout",
     "output_type": "stream",
     "text": [
      "5168 0.4152839416452405\n",
      "5176 0.20006143536409626\n"
     ]
    },
    {
     "name": "stderr",
     "output_type": "stream",
     "text": [
      " 31%|███████████████████████▋                                                     | 5320/17275 [01:37<02:55, 68.03it/s]"
     ]
    },
    {
     "name": "stdout",
     "output_type": "stream",
     "text": [
      "5309 0.3088960383194488\n"
     ]
    },
    {
     "name": "stderr",
     "output_type": "stream",
     "text": [
      " 31%|███████████████████████▊                                                     | 5353/17275 [01:38<02:45, 71.88it/s]"
     ]
    },
    {
     "name": "stdout",
     "output_type": "stream",
     "text": [
      "5342 0.2733231047519271\n"
     ]
    },
    {
     "name": "stderr",
     "output_type": "stream",
     "text": [
      " 31%|████████████████████████                                                     | 5403/17275 [01:39<02:42, 73.03it/s]"
     ]
    },
    {
     "name": "stdout",
     "output_type": "stream",
     "text": [
      "5390 0.8874719698015845\n",
      "5404 0.3437137981842986\n"
     ]
    },
    {
     "name": "stderr",
     "output_type": "stream",
     "text": [
      " 32%|████████████████████████▎                                                    | 5442/17275 [01:39<02:57, 66.50it/s]"
     ]
    },
    {
     "name": "stdout",
     "output_type": "stream",
     "text": [
      "5434 0.24521824585119756\n",
      "5438 0.3490114713250918\n"
     ]
    },
    {
     "name": "stderr",
     "output_type": "stream",
     "text": [
      " 32%|████████████████████████▍                                                    | 5471/17275 [01:40<03:20, 58.77it/s]"
     ]
    },
    {
     "name": "stdout",
     "output_type": "stream",
     "text": [
      "5465 0.2917929991060899\n"
     ]
    },
    {
     "name": "stderr",
     "output_type": "stream",
     "text": [
      " 32%|████████████████████████▋                                                    | 5548/17275 [01:41<03:13, 60.53it/s]"
     ]
    },
    {
     "name": "stdout",
     "output_type": "stream",
     "text": [
      "5538 0.3251720494952135\n"
     ]
    },
    {
     "name": "stderr",
     "output_type": "stream",
     "text": [
      " 34%|██████████████████████████▎                                                  | 5901/17275 [01:46<02:45, 68.78it/s]"
     ]
    },
    {
     "name": "stdout",
     "output_type": "stream",
     "text": [
      "5894 0.3255584528539135\n"
     ]
    },
    {
     "name": "stderr",
     "output_type": "stream",
     "text": [
      " 35%|███████████████████████████                                                  | 6066/17275 [01:49<02:34, 72.47it/s]"
     ]
    },
    {
     "name": "stdout",
     "output_type": "stream",
     "text": [
      "6051 0.8090343716063555\n"
     ]
    },
    {
     "name": "stderr",
     "output_type": "stream",
     "text": [
      " 35%|███████████████████████████                                                  | 6082/17275 [01:49<02:45, 67.77it/s]"
     ]
    },
    {
     "name": "stdout",
     "output_type": "stream",
     "text": [
      "6069 0.1394816202913495\n"
     ]
    },
    {
     "name": "stderr",
     "output_type": "stream",
     "text": [
      " 36%|███████████████████████████▋                                                 | 6206/17275 [01:51<02:54, 63.34it/s]"
     ]
    },
    {
     "name": "stdout",
     "output_type": "stream",
     "text": [
      "6195 0.10211782572415484\n"
     ]
    },
    {
     "name": "stderr",
     "output_type": "stream",
     "text": [
      " 36%|███████████████████████████▊                                                 | 6235/17275 [01:51<02:49, 65.31it/s]"
     ]
    },
    {
     "name": "stdout",
     "output_type": "stream",
     "text": [
      "6227 0.24325498689980396\n"
     ]
    },
    {
     "name": "stderr",
     "output_type": "stream",
     "text": [
      " 37%|████████████████████████████▍                                                | 6375/17275 [01:53<02:44, 66.41it/s]"
     ]
    },
    {
     "name": "stdout",
     "output_type": "stream",
     "text": [
      "6364 0.2573211684496144\n"
     ]
    },
    {
     "name": "stderr",
     "output_type": "stream",
     "text": [
      " 37%|████████████████████████████▋                                                | 6431/17275 [01:54<02:26, 73.78it/s]"
     ]
    },
    {
     "name": "stdout",
     "output_type": "stream",
     "text": [
      "6417 0.10423687070333354\n"
     ]
    },
    {
     "name": "stderr",
     "output_type": "stream",
     "text": [
      " 42%|████████████████████████████████▍                                            | 7275/17275 [02:07<02:22, 70.28it/s]"
     ]
    },
    {
     "name": "stdout",
     "output_type": "stream",
     "text": [
      "7260 0.4855332589767756\n"
     ]
    },
    {
     "name": "stderr",
     "output_type": "stream",
     "text": [
      " 43%|█████████████████████████████████▎                                           | 7466/17275 [02:10<02:39, 61.52it/s]"
     ]
    },
    {
     "name": "stdout",
     "output_type": "stream",
     "text": [
      "7458 0.3779053842365565\n"
     ]
    },
    {
     "name": "stderr",
     "output_type": "stream",
     "text": [
      " 44%|█████████████████████████████████▌                                           | 7537/17275 [02:11<02:19, 70.04it/s]"
     ]
    },
    {
     "name": "stdout",
     "output_type": "stream",
     "text": [
      "7523 0.6469794943139564\n"
     ]
    },
    {
     "name": "stderr",
     "output_type": "stream",
     "text": [
      " 45%|██████████████████████████████████▋                                          | 7785/17275 [02:15<02:09, 73.45it/s]"
     ]
    },
    {
     "name": "stdout",
     "output_type": "stream",
     "text": [
      "7770 0.4153151040018379\n"
     ]
    },
    {
     "name": "stderr",
     "output_type": "stream",
     "text": [
      " 45%|██████████████████████████████████▊                                          | 7800/17275 [02:15<02:22, 66.64it/s]"
     ]
    },
    {
     "name": "stdout",
     "output_type": "stream",
     "text": [
      "7791 0.37470236969546455\n"
     ]
    },
    {
     "name": "stderr",
     "output_type": "stream",
     "text": [
      " 53%|████████████████████████████████████████▊                                    | 9159/17275 [02:34<01:58, 68.32it/s]"
     ]
    },
    {
     "name": "stdout",
     "output_type": "stream",
     "text": [
      "9149 0.9840385748263345\n",
      "9157 0.9310942606182082\n"
     ]
    },
    {
     "name": "stderr",
     "output_type": "stream",
     "text": [
      " 57%|███████████████████████████████████████████▌                                 | 9772/17275 [02:43<01:47, 69.56it/s]"
     ]
    },
    {
     "name": "stdout",
     "output_type": "stream",
     "text": [
      "9760 0.7529928780506141\n"
     ]
    },
    {
     "name": "stderr",
     "output_type": "stream",
     "text": [
      " 60%|█████████████████████████████████████████████▏                              | 10280/17275 [02:50<01:25, 81.59it/s]"
     ]
    },
    {
     "name": "stdout",
     "output_type": "stream",
     "text": [
      "10269 0.4238805012035082\n"
     ]
    },
    {
     "name": "stderr",
     "output_type": "stream",
     "text": [
      " 60%|█████████████████████████████████████████████▍                              | 10317/17275 [02:51<01:26, 80.47it/s]"
     ]
    },
    {
     "name": "stdout",
     "output_type": "stream",
     "text": [
      "10309 0.09717977852912107\n",
      "10321 0.1168113928694221\n"
     ]
    },
    {
     "name": "stderr",
     "output_type": "stream",
     "text": [
      " 63%|███████████████████████████████████████████████▌                            | 10823/17275 [02:56<01:09, 93.32it/s]"
     ]
    },
    {
     "name": "stdout",
     "output_type": "stream",
     "text": [
      "10808 0.3403975751406263\n",
      "10826 0.5189919795754068\n"
     ]
    },
    {
     "name": "stderr",
     "output_type": "stream",
     "text": [
      " 63%|███████████████████████████████████████████████                            | 10845/17275 [02:57<01:03, 101.02it/s]"
     ]
    },
    {
     "name": "stdout",
     "output_type": "stream",
     "text": [
      "10828 0.15919518018938583\n"
     ]
    },
    {
     "name": "stderr",
     "output_type": "stream",
     "text": [
      " 64%|████████████████████████████████████████████████▍                           | 10998/17275 [02:58<01:11, 87.41it/s]"
     ]
    },
    {
     "name": "stdout",
     "output_type": "stream",
     "text": [
      "10983 0.2661793167280171\n"
     ]
    },
    {
     "name": "stderr",
     "output_type": "stream",
     "text": [
      " 64%|████████████████████████████████████████████████▌                           | 11037/17275 [02:59<01:09, 89.55it/s]"
     ]
    },
    {
     "name": "stdout",
     "output_type": "stream",
     "text": [
      "11022 0.7617746442042161\n"
     ]
    },
    {
     "name": "stderr",
     "output_type": "stream",
     "text": [
      " 64%|████████████████████████████████████████████████▉                           | 11120/17275 [03:00<01:02, 98.02it/s]"
     ]
    },
    {
     "name": "stdout",
     "output_type": "stream",
     "text": [
      "11106 0.42597665968102705\n"
     ]
    },
    {
     "name": "stderr",
     "output_type": "stream",
     "text": [
      " 65%|█████████████████████████████████████████████████▍                          | 11235/17275 [03:01<01:00, 99.93it/s]"
     ]
    },
    {
     "name": "stdout",
     "output_type": "stream",
     "text": [
      "11218 0.9781887872236377\n"
     ]
    },
    {
     "name": "stderr",
     "output_type": "stream",
     "text": [
      " 66%|██████████████████████████████████████████████████▍                         | 11475/17275 [03:03<00:58, 99.61it/s]"
     ]
    },
    {
     "name": "stdout",
     "output_type": "stream",
     "text": [
      "11455 0.8195302258448898\n"
     ]
    },
    {
     "name": "stderr",
     "output_type": "stream",
     "text": [
      " 69%|████████████████████████████████████████████████████▊                       | 12000/17275 [03:09<00:57, 91.04it/s]"
     ]
    },
    {
     "name": "stdout",
     "output_type": "stream",
     "text": [
      "11983 0.21040550329806618\n"
     ]
    },
    {
     "name": "stderr",
     "output_type": "stream",
     "text": [
      " 73%|██████████████████████████████████████████████████████▌                    | 12556/17275 [03:15<00:45, 103.85it/s]"
     ]
    },
    {
     "name": "stdout",
     "output_type": "stream",
     "text": [
      "12537 0.1497471840325797\n"
     ]
    },
    {
     "name": "stderr",
     "output_type": "stream",
     "text": [
      " 73%|███████████████████████████████████████████████████████▍                    | 12598/17275 [03:15<00:57, 81.86it/s]"
     ]
    },
    {
     "name": "stdout",
     "output_type": "stream",
     "text": [
      "12592 0.7456292781733054\n"
     ]
    },
    {
     "name": "stderr",
     "output_type": "stream",
     "text": [
      " 73%|███████████████████████████████████████████████████████▊                    | 12679/17275 [03:16<00:47, 97.33it/s]"
     ]
    },
    {
     "name": "stdout",
     "output_type": "stream",
     "text": [
      "12661 0.08920189297019321\n"
     ]
    },
    {
     "name": "stderr",
     "output_type": "stream",
     "text": [
      " 75%|████████████████████████████████████████████████████████▋                   | 12896/17275 [03:19<00:48, 91.06it/s]"
     ]
    },
    {
     "name": "stdout",
     "output_type": "stream",
     "text": [
      "12883 0.4759994839867795\n"
     ]
    },
    {
     "name": "stderr",
     "output_type": "stream",
     "text": [
      " 76%|█████████████████████████████████████████████████████████▍                  | 13054/17275 [03:20<00:46, 91.43it/s]"
     ]
    },
    {
     "name": "stdout",
     "output_type": "stream",
     "text": [
      "13039 0.8771154703776172\n"
     ]
    },
    {
     "name": "stderr",
     "output_type": "stream",
     "text": [
      " 76%|█████████████████████████████████████████████████████████▊                  | 13138/17275 [03:21<00:44, 93.74it/s]"
     ]
    },
    {
     "name": "stdout",
     "output_type": "stream",
     "text": [
      "13125 0.22231358536617485\n"
     ]
    },
    {
     "name": "stderr",
     "output_type": "stream",
     "text": [
      " 77%|██████████████████████████████████████████████████████████▌                 | 13302/17275 [03:23<00:48, 81.73it/s]"
     ]
    },
    {
     "name": "stdout",
     "output_type": "stream",
     "text": [
      "13287 0.7946784592419123\n"
     ]
    },
    {
     "name": "stderr",
     "output_type": "stream",
     "text": [
      " 77%|██████████████████████████████████████████████████████████▋                 | 13344/17275 [03:23<00:40, 96.01it/s]"
     ]
    },
    {
     "name": "stdout",
     "output_type": "stream",
     "text": [
      "13335 0.9897695347705426\n"
     ]
    },
    {
     "name": "stderr",
     "output_type": "stream",
     "text": [
      " 78%|███████████████████████████████████████████████████████████▎                | 13491/17275 [03:25<00:45, 83.60it/s]"
     ]
    },
    {
     "name": "stdout",
     "output_type": "stream",
     "text": [
      "13482 0.2743204862090258\n"
     ]
    },
    {
     "name": "stderr",
     "output_type": "stream",
     "text": [
      " 82%|██████████████████████████████████████████████████████████████▌             | 14225/17275 [03:34<00:49, 61.51it/s]"
     ]
    },
    {
     "name": "stdout",
     "output_type": "stream",
     "text": [
      "14217 0.2606104191078509\n"
     ]
    },
    {
     "name": "stderr",
     "output_type": "stream",
     "text": [
      " 83%|██████████████████████████████████████████████████████████████▊             | 14285/17275 [03:35<00:37, 78.76it/s]"
     ]
    },
    {
     "name": "stdout",
     "output_type": "stream",
     "text": [
      "14274 0.3086695763802445\n"
     ]
    },
    {
     "name": "stderr",
     "output_type": "stream",
     "text": [
      " 84%|███████████████████████████████████████████████████████████████▊            | 14504/17275 [03:38<00:39, 69.35it/s]"
     ]
    },
    {
     "name": "stdout",
     "output_type": "stream",
     "text": [
      "14489 0.11141759627946857\n"
     ]
    },
    {
     "name": "stderr",
     "output_type": "stream",
     "text": [
      " 86%|█████████████████████████████████████████████████████████████████▌          | 14899/17275 [03:44<00:31, 75.39it/s]"
     ]
    },
    {
     "name": "stdout",
     "output_type": "stream",
     "text": [
      "14890 0.23583265912013052\n"
     ]
    },
    {
     "name": "stderr",
     "output_type": "stream",
     "text": [
      " 87%|██████████████████████████████████████████████████████████████████          | 15012/17275 [03:46<00:32, 70.65it/s]"
     ]
    },
    {
     "name": "stdout",
     "output_type": "stream",
     "text": [
      "15003 0.8850064024102088\n"
     ]
    },
    {
     "name": "stderr",
     "output_type": "stream",
     "text": [
      " 88%|██████████████████████████████████████████████████████████████████▋         | 15167/17275 [03:48<00:34, 60.94it/s]"
     ]
    },
    {
     "name": "stdout",
     "output_type": "stream",
     "text": [
      "15158 0.01018542238358132\n"
     ]
    },
    {
     "name": "stderr",
     "output_type": "stream",
     "text": [
      " 89%|███████████████████████████████████████████████████████████████████▎        | 15299/17275 [03:50<00:28, 70.27it/s]"
     ]
    },
    {
     "name": "stdout",
     "output_type": "stream",
     "text": [
      "15286 0.5625740323265549\n"
     ]
    },
    {
     "name": "stderr",
     "output_type": "stream",
     "text": [
      " 89%|███████████████████████████████████████████████████████████████████▌        | 15344/17275 [03:50<00:27, 69.53it/s]"
     ]
    },
    {
     "name": "stdout",
     "output_type": "stream",
     "text": [
      "15335 0.30231394232719566\n"
     ]
    },
    {
     "name": "stderr",
     "output_type": "stream",
     "text": [
      " 89%|███████████████████████████████████████████████████████████████████▊        | 15417/17275 [03:51<00:25, 71.78it/s]"
     ]
    },
    {
     "name": "stdout",
     "output_type": "stream",
     "text": [
      "15411 0.6845193140395001\n"
     ]
    },
    {
     "name": "stderr",
     "output_type": "stream",
     "text": [
      " 89%|███████████████████████████████████████████████████████████████████▉        | 15442/17275 [03:52<00:25, 71.78it/s]"
     ]
    },
    {
     "name": "stdout",
     "output_type": "stream",
     "text": [
      "15427 0.3439723646974504\n"
     ]
    },
    {
     "name": "stderr",
     "output_type": "stream",
     "text": [
      " 90%|████████████████████████████████████████████████████████████████████▌       | 15594/17275 [03:54<00:23, 71.30it/s]"
     ]
    },
    {
     "name": "stdout",
     "output_type": "stream",
     "text": [
      "15582 0.8839313286165948\n"
     ]
    },
    {
     "name": "stderr",
     "output_type": "stream",
     "text": [
      " 91%|█████████████████████████████████████████████████████████████████████       | 15700/17275 [03:56<00:22, 70.95it/s]"
     ]
    },
    {
     "name": "stdout",
     "output_type": "stream",
     "text": [
      "15691 0.651270462656723\n"
     ]
    },
    {
     "name": "stderr",
     "output_type": "stream",
     "text": [
      " 91%|█████████████████████████████████████████████████████████████████████▍      | 15790/17275 [03:57<00:19, 74.40it/s]"
     ]
    },
    {
     "name": "stdout",
     "output_type": "stream",
     "text": [
      "15779 0.24825581714386358\n"
     ]
    },
    {
     "name": "stderr",
     "output_type": "stream",
     "text": [
      " 92%|█████████████████████████████████████████████████████████████████████▋      | 15844/17275 [03:58<00:20, 71.16it/s]"
     ]
    },
    {
     "name": "stdout",
     "output_type": "stream",
     "text": [
      "15830 0.7949647278082956\n"
     ]
    },
    {
     "name": "stderr",
     "output_type": "stream",
     "text": [
      " 93%|██████████████████████████████████████████████████████████████████████▎     | 15981/17275 [04:00<00:22, 57.68it/s]"
     ]
    },
    {
     "name": "stdout",
     "output_type": "stream",
     "text": [
      "15970 0.19227784950247395\n"
     ]
    },
    {
     "name": "stderr",
     "output_type": "stream",
     "text": [
      " 93%|██████████████████████████████████████████████████████████████████████▋     | 16059/17275 [04:01<00:18, 65.42it/s]"
     ]
    },
    {
     "name": "stdout",
     "output_type": "stream",
     "text": [
      "16045 0.7224051030108631\n"
     ]
    },
    {
     "name": "stderr",
     "output_type": "stream",
     "text": [
      " 95%|████████████████████████████████████████████████████████████████████████    | 16385/17275 [04:06<00:12, 70.70it/s]"
     ]
    },
    {
     "name": "stdout",
     "output_type": "stream",
     "text": [
      "16373 0.8231175431005138\n"
     ]
    },
    {
     "name": "stderr",
     "output_type": "stream",
     "text": [
      " 95%|████████████████████████████████████████████████████████████████████████▍   | 16467/17275 [04:07<00:12, 65.73it/s]"
     ]
    },
    {
     "name": "stdout",
     "output_type": "stream",
     "text": [
      "16460 0.7677096163830184\n"
     ]
    },
    {
     "name": "stderr",
     "output_type": "stream",
     "text": [
      " 96%|████████████████████████████████████████████████████████████████████████▋   | 16525/17275 [04:08<00:10, 68.49it/s]"
     ]
    },
    {
     "name": "stdout",
     "output_type": "stream",
     "text": [
      "16512 0.30879315559911724\n"
     ]
    },
    {
     "name": "stderr",
     "output_type": "stream",
     "text": [
      " 96%|█████████████████████████████████████████████████████████████████████████   | 16619/17275 [04:09<00:09, 69.01it/s]"
     ]
    },
    {
     "name": "stdout",
     "output_type": "stream",
     "text": [
      "16605 0.8767905537563605\n"
     ]
    },
    {
     "name": "stderr",
     "output_type": "stream",
     "text": [
      " 96%|█████████████████████████████████████████████████████████████████████████▏  | 16641/17275 [04:10<00:09, 69.19it/s]"
     ]
    },
    {
     "name": "stdout",
     "output_type": "stream",
     "text": [
      "16629 0.30531002188402034\n"
     ]
    },
    {
     "name": "stderr",
     "output_type": "stream",
     "text": [
      "100%|██████████████████████████████████████████████████████████████████████████▋| 17200/17275 [04:16<00:00, 101.25it/s]"
     ]
    },
    {
     "name": "stdout",
     "output_type": "stream",
     "text": [
      "17187 0.12879931971271785\n"
     ]
    },
    {
     "name": "stderr",
     "output_type": "stream",
     "text": [
      "100%|████████████████████████████████████████████████████████████████████████████| 17275/17275 [04:17<00:00, 67.01it/s]"
     ]
    },
    {
     "name": "stdout",
     "output_type": "stream",
     "text": [
      "17259 0.24384961691664087\n"
     ]
    },
    {
     "name": "stderr",
     "output_type": "stream",
     "text": [
      "\n"
     ]
    }
   ],
   "source": [
    "for i in tqdm(range(len(train_dataset))):\n",
    "    el = train_dataset.df.iloc[i]\n",
    "    spectra = train_dataset.readLRSFits(os.path.join(train_dataset.lamost_spec_dir, el['spec_filename'])) \n",
    "    \n",
    "    wavelengths = spectra[:, 0]\n",
    "    flux = spectra[:, 1]\n",
    "    \n",
    "    new_wavelengths = np.arange(3850, 9000, 2)\n",
    "    flux = np.interp(new_wavelengths, wavelengths, flux)\n",
    "    \n",
    "    mad = stats.median_abs_deviation(flux[flux != 0])\n",
    "    \n",
    "    if mad < 1:\n",
    "        print(i, mad)"
   ]
  },
  {
   "cell_type": "code",
   "execution_count": 41,
   "id": "d8ac2bf5-1e44-42a3-b266-c43dcfa23fda",
   "metadata": {},
   "outputs": [
    {
     "name": "stderr",
     "output_type": "stream",
     "text": [
      "100%|████████████████████████████████████████████████████████████████████████████████| 100/100 [00:01<00:00, 60.33it/s]\n"
     ]
    }
   ],
   "source": [
    "stds = []\n",
    "\n",
    "for i in tqdm(range(100)):\n",
    "    el = train_dataset.df.iloc[i]\n",
    "    spectra = train_dataset.readLRSFits(os.path.join(train_dataset.lamost_spec_dir, el['spec_filename'])) \n",
    "    \n",
    "    wavelengths = spectra[:, 0]\n",
    "    flux = spectra[:, 1]\n",
    "    \n",
    "    new_wavelengths = np.arange(3850, 9000, 2)\n",
    "    flux = np.interp(new_wavelengths, wavelengths, flux)\n",
    "    stds.append(np.std(flux))"
   ]
  },
  {
   "cell_type": "code",
   "execution_count": 47,
   "id": "65d86b17-bcbc-49b0-9959-89891784e36d",
   "metadata": {},
   "outputs": [
    {
     "data": {
      "text/plain": [
       "(587.2713384487996, 2.181350423034199, -0.16861374035436197, 4.154715670123909)"
      ]
     },
     "execution_count": 47,
     "metadata": {},
     "output_type": "execute_result"
    }
   ],
   "source": [
    "np.mean(stds), np.mean([np.log10(el) for el in stds]), np.min([np.log10(el) for el in stds]), np.max([np.log10(el) for el in stds])"
   ]
  },
  {
   "cell_type": "code",
   "execution_count": null,
   "id": "89a0b1a6-f5a3-4cf2-9d87-7514b7617703",
   "metadata": {},
   "outputs": [],
   "source": []
  },
  {
   "cell_type": "code",
   "execution_count": 26,
   "id": "c176270c-7c66-402f-8968-3b063adf3a76",
   "metadata": {},
   "outputs": [
    {
     "name": "stdout",
     "output_type": "stream",
     "text": [
      "85.1247910831828 290.9591462733794\n"
     ]
    }
   ],
   "source": [
    "el = train_dataset.df.iloc[333]\n",
    "spectra = train_dataset.readLRSFits(os.path.join(train_dataset.lamost_spec_dir, el['spec_filename'])) \n",
    "\n",
    "wavelengths = spectra[:, 0]\n",
    "flux = spectra[:, 1]\n",
    "\n",
    "new_wavelengths = np.arange(3850, 9000, 2)\n",
    "flux = np.interp(new_wavelengths, wavelengths, flux)\n",
    "\n",
    "mean = np.mean(flux)\n",
    "mad = stats.median_abs_deviation(flux[flux != 0])\n",
    "std = np.std(flux)\n",
    "\n",
    "flux_mad = (flux - mean) / mad\n",
    "flux_mad_scaled = (flux - mean) / (mad * 1.5)\n",
    "flux_std = (flux - mean) / std\n",
    "flux_max_std = (flux - mean) / (0.5 * mad + 0.5 * std)\n",
    "\n",
    "print(mad, std)"
   ]
  },
  {
   "cell_type": "code",
   "execution_count": 40,
   "id": "ef0e837b-85d1-4d85-a570-b8ec290c5e08",
   "metadata": {},
   "outputs": [
    {
     "data": {
      "text/plain": [
       "2.463832013750174"
      ]
     },
     "execution_count": 40,
     "metadata": {},
     "output_type": "execute_result"
    }
   ],
   "source": [
    "np.log10(std)"
   ]
  },
  {
   "cell_type": "code",
   "execution_count": 39,
   "id": "a3e4ef23-381b-4215-86c0-4ea618ed2bc3",
   "metadata": {},
   "outputs": [
    {
     "data": {
      "image/png": "[encoded data removed]",
      "text/plain": [
       "<Figure size 1600x400 with 4 Axes>"
      ]
     },
     "metadata": {},
     "output_type": "display_data"
    }
   ],
   "source": [
    "y_min = min(flux_mad.min(), flux_mad_scaled.min(), flux_std.min(), flux_max_std.min()) - 1\n",
    "y_max = max(flux_mad.max(), flux_mad_scaled.max(), flux_std.max(), flux_max_std.max()) + 1\n",
    "\n",
    "plt.figure(figsize=(16, 4))\n",
    "\n",
    "plt.subplot(1, 4, 1)\n",
    "plt.plot(new_wavelengths, flux_mad, label=\"MAD Normalized\", alpha=0.8)\n",
    "plt.ylim(y_min, y_max)\n",
    "plt.xlabel('Wavelength')\n",
    "plt.ylabel('Normalized Flux')\n",
    "plt.title('MAD Normalized')\n",
    "plt.grid(True)\n",
    "\n",
    "plt.subplot(1, 4, 2)\n",
    "plt.plot(new_wavelengths, flux_mad_scaled, label=\"MAD Scaled (MAD*1.5)\", alpha=0.8)\n",
    "plt.ylim(y_min, y_max)\n",
    "plt.xlabel('Wavelength')\n",
    "plt.ylabel('Normalized Flux')\n",
    "plt.title('MAD Scaled (MAD*1.5)')\n",
    "plt.grid(True)\n",
    "\n",
    "plt.subplot(1, 4, 3)\n",
    "plt.plot(new_wavelengths, flux_std, label=\"STD Normalized\", alpha=0.8)\n",
    "plt.ylim(y_min, y_max)\n",
    "plt.xlabel('Wavelength')\n",
    "plt.ylabel('Normalized Flux')\n",
    "plt.title('STD Normalized')\n",
    "plt.grid(True)\n",
    "\n",
    "plt.subplot(1, 4, 4)\n",
    "plt.plot(new_wavelengths, flux_max_std, label=\"Mixed MAD-STD\", alpha=0.8)\n",
    "plt.ylim(y_min, y_max)\n",
    "plt.xlabel('Wavelength')\n",
    "plt.ylabel('Normalized Flux')\n",
    "plt.title('Mixed MAD-STD')\n",
    "plt.grid(True)\n",
    "\n",
    "plt.tight_layout()\n",
    "plt.show()"
   ]
  },
  {
   "cell_type": "code",
   "execution_count": null,
   "id": "b02e11f2-e610-48f0-8785-6e52e8c6e5a2",
   "metadata": {},
   "outputs": [],
   "source": []
  },
  {
   "cell_type": "code",
   "execution_count": 25,
   "id": "f5da6941-4520-4c12-81f4-b8249e3cd936",
   "metadata": {},
   "outputs": [
    {
     "data": {
      "text/plain": [
       "[<matplotlib.lines.Line2D at 0x7f6fa0aa6ef0>]"
      ]
     },
     "execution_count": 25,
     "metadata": {},
     "output_type": "execute_result"
    },
    {
     "data": {
      "image/png": "[encoded data removed]",
      "text/plain": [
       "<Figure size 640x480 with 1 Axes>"
      ]
     },
     "metadata": {},
     "output_type": "display_data"
    }
   ],
   "source": [
    "plt.plot(flux_norm_scaled)"
   ]
  },
  {
   "cell_type": "code",
   "execution_count": 23,
   "id": "e143358e-47a8-4507-aa4b-c18d23dfda39",
   "metadata": {},
   "outputs": [
    {
     "data": {
      "text/plain": [
       "[<matplotlib.lines.Line2D at 0x7f6fa0bf8340>]"
      ]
     },
     "execution_count": 23,
     "metadata": {},
     "output_type": "execute_result"
    },
    {
     "data": {
      "image/png": "[encoded data removed]",
      "text/plain": [
       "<Figure size 640x480 with 1 Axes>"
      ]
     },
     "metadata": {},
     "output_type": "display_data"
    }
   ],
   "source": [
    "plt.plot(flux_std_norm)"
   ]
  },
  {
   "cell_type": "code",
   "execution_count": 59,
   "id": "a6b7597e-6bd9-4dce-9be5-56999d6a5710",
   "metadata": {},
   "outputs": [
    {
     "data": {
      "text/plain": [
       "[<matplotlib.lines.Line2D at 0x7f9aa815df30>]"
      ]
     },
     "execution_count": 59,
     "metadata": {},
     "output_type": "execute_result"
    },
    {
     "data": {
      "image/png": "[encoded data removed]",
      "text/plain": [
       "<Figure size 640x480 with 1 Axes>"
      ]
     },
     "metadata": {},
     "output_type": "display_data"
    }
   ],
   "source": [
    "plt.plot(flux_norm)"
   ]
  },
  {
   "cell_type": "code",
   "execution_count": null,
   "id": "d97d8c18-c998-4e9f-8a5d-33ab1a8f9106",
   "metadata": {},
   "outputs": [],
   "source": []
  },
  {
   "cell_type": "code",
   "execution_count": null,
   "id": "125fe032-1250-4aae-abfa-646bc119d412",
   "metadata": {},
   "outputs": [],
   "source": []
  },
  {
   "cell_type": "code",
   "execution_count": 9,
   "id": "3cee18eb-7d1f-4020-aee6-68387f46214a",
   "metadata": {},
   "outputs": [],
   "source": [
    "def plot_spectra(i):\n",
    "    p, p_m, s, m, l = train_dataset[i]\n",
    "    fig, axs = plt.subplots(1, 3, figsize=(15, 4))\n",
    "    \n",
    "    axs[0].plot(s[0, :])\n",
    "    axs[1].plot(s[1, :])\n",
    "    axs[2].plot(s[2, :])"
   ]
  },
  {
   "cell_type": "code",
   "execution_count": 11,
   "id": "5d1dc745-0f7e-45c9-853d-2b8c495a37e7",
   "metadata": {},
   "outputs": [
    {
     "data": {
      "image/png": "[encoded data removed]",
      "text/plain": [
       "<Figure size 1500x400 with 3 Axes>"
      ]
     },
     "metadata": {},
     "output_type": "display_data"
    }
   ],
   "source": [
    "plot_spectra(0)"
   ]
  },
  {
   "cell_type": "code",
   "execution_count": 12,
   "id": "32d59980-186f-4c96-ae28-491e196dc6d8",
   "metadata": {},
   "outputs": [
    {
     "data": {
      "image/png": "[encoded data removed]",
      "text/plain": [
       "<Figure size 1500x400 with 3 Axes>"
      ]
     },
     "metadata": {},
     "output_type": "display_data"
    }
   ],
   "source": [
    "plot_spectra(10)"
   ]
  },
  {
   "cell_type": "code",
   "execution_count": 13,
   "id": "0bc9ba26-b13f-49d7-9469-79e2da7ad007",
   "metadata": {},
   "outputs": [
    {
     "data": {
      "image/png": "[encoded data removed]",
      "text/plain": [
       "<Figure size 1500x400 with 3 Axes>"
      ]
     },
     "metadata": {},
     "output_type": "display_data"
    }
   ],
   "source": [
    "plot_spectra(100)"
   ]
  },
  {
   "cell_type": "code",
   "execution_count": 14,
   "id": "3b6d544d-7f39-4c51-b214-bb6a1af9eb5b",
   "metadata": {},
   "outputs": [
    {
     "data": {
      "image/png": "[encoded data removed]",
      "text/plain": [
       "<Figure size 1500x400 with 3 Axes>"
      ]
     },
     "metadata": {},
     "output_type": "display_data"
    }
   ],
   "source": [
    "plot_spectra(7958)"
   ]
  },
  {
   "cell_type": "code",
   "execution_count": 15,
   "id": "d4d80aad-fb23-470e-b583-c8d4256b7c25",
   "metadata": {},
   "outputs": [
    {
     "data": {
      "image/png": "[encoded data removed]",
      "text/plain": [
       "<Figure size 1500x400 with 3 Axes>"
      ]
     },
     "metadata": {},
     "output_type": "display_data"
    }
   ],
   "source": [
    "plot_spectra(222)"
   ]
  },
  {
   "cell_type": "code",
   "execution_count": 16,
   "id": "145e7d92-5781-4608-ba63-cf4deb8e167d",
   "metadata": {},
   "outputs": [
    {
     "data": {
      "image/png": "[encoded data removed]",
      "text/plain": [
       "<Figure size 1500x400 with 3 Axes>"
      ]
     },
     "metadata": {},
     "output_type": "display_data"
    }
   ],
   "source": [
    "plot_spectra(333)"
   ]
  },
  {
   "cell_type": "code",
   "execution_count": null,
   "id": "783dccb9-3559-4df5-a40f-9ce6b241b196",
   "metadata": {},
   "outputs": [],
   "source": []
  },
  {
   "cell_type": "code",
   "execution_count": null,
   "id": "f7950900-9967-4615-8eed-fc5fc103f66b",
   "metadata": {},
   "outputs": [],
   "source": []
  },
  {
   "cell_type": "code",
   "execution_count": null,
   "id": "9a9fff77-2155-4a32-a066-83e13bea637f",
   "metadata": {},
   "outputs": [],
   "source": []
  },
  {
   "cell_type": "code",
   "execution_count": null,
   "id": "7bf0ae35-58f0-41c6-8faf-54df71a30d9f",
   "metadata": {},
   "outputs": [],
   "source": []
  },
  {
   "cell_type": "code",
   "execution_count": null,
   "id": "296d760f-3444-48c6-97a1-2d923dc156a5",
   "metadata": {},
   "outputs": [],
   "source": []
  },
  {
   "cell_type": "code",
   "execution_count": null,
   "id": "ed4bfa73-e15d-4ea9-a590-b73580f47a97",
   "metadata": {},
   "outputs": [],
   "source": []
  },
  {
   "cell_type": "code",
   "execution_count": null,
   "id": "d7434a4c-1ea5-4dcf-9d64-8788c49f5a47",
   "metadata": {},
   "outputs": [],
   "source": []
  },
  {
   "cell_type": "code",
   "execution_count": null,
   "id": "599877f3-8e31-4f2a-93aa-7476e86570ce",
   "metadata": {},
   "outputs": [],
   "source": []
  },
  {
   "cell_type": "code",
   "execution_count": null,
   "id": "989d5f9a-0e5b-4339-b746-9b18fbc745ac",
   "metadata": {},
   "outputs": [],
   "source": []
  },
  {
   "cell_type": "code",
   "execution_count": null,
   "id": "c652bcb6-cefc-41cf-ac4a-a61e6fcebc28",
   "metadata": {},
   "outputs": [],
   "source": []
  },
  {
   "cell_type": "code",
   "execution_count": null,
   "id": "e8e7d0d8-140a-4de6-bbfb-61ed30be674f",
   "metadata": {},
   "outputs": [],
   "source": []
  },
  {
   "cell_type": "code",
   "execution_count": null,
   "id": "f5e16e95-8d25-4d5a-bca2-f05cd4e97a88",
   "metadata": {},
   "outputs": [],
   "source": []
  },
  {
   "cell_type": "code",
   "execution_count": null,
   "id": "b5126070-98e1-4d9d-9fc0-b6b247202446",
   "metadata": {},
   "outputs": [],
   "source": []
  }
 ],
 "metadata": {
  "kernelspec": {
   "display_name": "Python 3 (ipykernel)",
   "language": "python",
   "name": "python3"
  },
  "language_info": {
   "codemirror_mode": {
    "name": "ipython",
    "version": 3
   },
   "file_extension": ".py",
   "mimetype": "text/x-python",
   "name": "python",
   "nbconvert_exporter": "python",
   "pygments_lexer": "ipython3",
   "version": "3.10.14"
  }
 },
 "nbformat": 4,
 "nbformat_minor": 5
}

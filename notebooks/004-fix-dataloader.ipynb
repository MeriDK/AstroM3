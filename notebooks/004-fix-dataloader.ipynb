{
 "cells": [
  {
   "cell_type": "code",
   "execution_count": 1,
   "id": "2f9ace4e-f769-4afc-9d54-f9264d3dc039",
   "metadata": {},
   "source": [
    "import sys\n",
    "\n",
    "sys.path.insert(0, '..')"
   ],
   "outputs": []
  },
  {
   "cell_type": "code",
   "execution_count": 2,
   "id": "7f2e73e9-f27b-4fa5-8130-38d064a0f805",
   "metadata": {},
   "source": [
    "import torch\n",
    "import torch.nn as nn\n",
    "import torch.nn.functional as F\n",
    "import torch.fft\n",
    "\n",
    "from pathlib import Path\n",
    "import numpy as np\n",
    "from torch.utils.data import DataLoader\n",
    "from core.dataset_multimodal import collate_fn, ASASSNVarStarDataset\n",
    "from functools import partial\n",
    "import matplotlib.pyplot as plt\n",
    "import time\n",
    "from tqdm import tqdm\n",
    "import random\n",
    "import numpy as np\n",
    "import json\n",
    "import os"
   ],
   "outputs": []
  },
  {
   "cell_type": "code",
   "execution_count": 234,
   "id": "24233b76-ed68-4cda-92b5-e006c44536bb",
   "metadata": {},
   "source": [
    "datapath = Path('../data/asaasn')\n",
    "ds = ASASSNVarStarDataset(datapath, mode='train', verbose=True, only_periodic=True,\n",
    "                          merge_type='inner', recalc_period=False, prime=True, use_bands=['v', 'g'],\n",
    "                          only_sources_with_spectra=True, return_phased=False, fill_value=0)\n",
    "\n",
    "fig, axs = plt.subplots(nrows=5, ncols=2, figsize=(10, 20))\n",
    "\n",
    "for i in range(5):\n",
    "    v, g = ds[i]['lcs'][0]\n",
    "    time_v, flux_v, flux_error_v = v[:, 0], v[:, 1], v[:, 2]\n",
    "    time_g, flux_g, flux_error_g = g[:, 0], g[:, 1], g[:, 2]\n",
    "  \n",
    "    axs[i, 0].errorbar(time_v, flux_v, yerr=flux_error_v, fmt='.')\n",
    "    axs[i, 0].set_title(f'Entry {i} - V Band')\n",
    "\n",
    "    axs[i, 1].errorbar(time_g, flux_g, yerr=flux_error_g, fmt='.')\n",
    "    axs[i, 1].set_title(f'Entry {i} - G Band')\n",
    "\n",
    "plt.show()"
   ],
   "outputs": []
  },
  {
   "cell_type": "code",
   "execution_count": 235,
   "id": "0d2a92cd-0b27-4bb5-96e0-6af5f0d7ed74",
   "metadata": {},
   "source": [
    "fig, axs = plt.subplots(nrows=5, ncols=2, figsize=(10, 20))\n",
    "\n",
    "for i in range(5):\n",
    "    v, g = ds[i]['lcs'][0]\n",
    "    time_v, flux_v, flux_error_v = v[:, 0], v[:, 1], v[:, 2]\n",
    "    time_g, flux_g, flux_error_g = g[:, 0], g[:, 1], g[:, 2]\n",
    "  \n",
    "    axs[i, 0].plot(flux_v, '.')\n",
    "    axs[i, 0].set_title(f'Entry {i} - V Band')\n",
    "\n",
    "    axs[i, 1].plot(flux_g, '.')\n",
    "    axs[i, 1].set_title(f'Entry {i} - G Band')\n",
    "\n",
    "plt.show()"
   ],
   "outputs": []
  },
  {
   "cell_type": "code",
   "execution_count": 236,
   "id": "33b6320b-0c2c-48e4-ab4a-be5264e3134b",
   "metadata": {},
   "source": [
    "ds[0]['lcs'][0][0][:, 0]"
   ],
   "outputs": []
  },
  {
   "cell_type": "code",
   "execution_count": 237,
   "id": "616cd470-ebe7-4113-85f3-796cc5f99f57",
   "metadata": {},
   "source": [
    "no_spectra_data_keys = ['lcs', 'metadata', 'classes']\n",
    "no_spectra_collate_fn = partial(collate_fn, data_keys=no_spectra_data_keys, fill_value=0)\n",
    "\n",
    "train_dataloader = DataLoader(ds, batch_size=2, shuffle=False, collate_fn=no_spectra_collate_fn)"
   ],
   "outputs": []
  },
  {
   "cell_type": "code",
   "execution_count": 238,
   "id": "39c960ba-a9e6-4511-8219-290196fac7f1",
   "metadata": {},
   "source": [
    "batch, masks = next(iter(train_dataloader))\n",
    "lcs, metadata, classes = batch"
   ],
   "outputs": []
  },
  {
   "cell_type": "code",
   "execution_count": 239,
   "id": "6b7aff79-31ef-433b-a68d-65b4e18dfb46",
   "metadata": {},
   "source": [
    "lcs.shape"
   ],
   "outputs": []
  },
  {
   "cell_type": "code",
   "execution_count": 257,
   "id": "d495d044-ceea-4b4d-b034-349923b28ce3",
   "metadata": {},
   "source": [
    "fluxes = lcs[:, :, 1, :]\n",
    "times = lcs[:, :, 0, :]"
   ],
   "outputs": []
  },
  {
   "cell_type": "code",
   "execution_count": 258,
   "id": "b6fe9117-befc-4c72-b8e2-360ace8c7971",
   "metadata": {},
   "source": [
    "fig, axs = plt.subplots(nrows=2, ncols=2, figsize=(10, 10))\n",
    "\n",
    "for i in range(B):\n",
    "    flux_v, flux_g = fluxes[i, 0, :], fluxes[i, 1, :]\n",
    "    time_v, time_g = times[i, 0, :], times[i, 1, :]\n",
    "\n",
    "    flux_v = flux_v[flux_v != 0]\n",
    "    flux_g = flux_g[flux_g != 0]\n",
    "    time_v = time_v[time_v != 0]\n",
    "    time_g = time_g[time_g != 0]\n",
    "  \n",
    "    axs[i, 0].plot(time_v, flux_v)\n",
    "    axs[i, 0].set_title(f'Entry {i} - V Band')\n",
    "\n",
    "    axs[i, 1].plot(time_g, flux_g)\n",
    "    axs[i, 1].set_title(f'Entry {i} - G Band')\n",
    "    \n",
    "plt.show()"
   ],
   "outputs": []
  },
  {
   "cell_type": "code",
   "execution_count": null,
   "id": "7869fecd-8631-45ca-8c73-433b1c23f871",
   "metadata": {},
   "source": [],
   "outputs": []
  },
  {
   "cell_type": "code",
   "execution_count": null,
   "id": "5fdf0c40-ab48-489a-804d-e27a93874235",
   "metadata": {},
   "source": [],
   "outputs": []
  },
  {
   "cell_type": "code",
   "execution_count": 242,
   "id": "bd3704a9-10df-4b01-bb3c-2643e65f0f7e",
   "metadata": {},
   "source": [
    "# Sorting along the last dimension and getting the indices\n",
    "sorted_values, indices = torch.sort(lcs[:, :, 0, :], dim=-1)\n",
    "\n",
    "# Using the indices to sort the other corresponding slices\n",
    "sorted_lcs_1 = torch.gather(lcs[:, :, 1, :], -1, indices)\n",
    "sorted_lcs_2 = torch.gather(lcs[:, :, 2, :], -1, indices)\n",
    "\n",
    "# Reconstructing the sorted version of the original tensor\n",
    "sorted_lcs = torch.stack([sorted_values, sorted_lcs_1, sorted_lcs_2], dim=2)"
   ],
   "outputs": []
  },
  {
   "cell_type": "code",
   "execution_count": 256,
   "id": "b3126edb-d8f8-4284-b293-dc9a074706de",
   "metadata": {},
   "source": [
    "sorted_fluxes = sorted_lcs[:, :, 1, :]\n",
    "sorted_times = sorted_lcs[:, :, 0, :]\n",
    "\n",
    "fig, axs = plt.subplots(nrows=2, ncols=2, figsize=(10, 10))\n",
    "\n",
    "for i in range(B):\n",
    "    sorted_flux_v, sorted_flux_g = sorted_fluxes[i, 0, :], sorted_fluxes[i, 1, :]\n",
    "    sorted_time_v, sorted_time_g = sorted_times[i, 0, :], sorted_times[i, 1, :]\n",
    "\n",
    "    sorted_flux_v = sorted_flux_v[sorted_flux_v != 0]\n",
    "    sorted_flux_g = sorted_flux_g[sorted_flux_g != 0]\n",
    "    sorted_time_v = sorted_time_v[sorted_time_v != 0]\n",
    "    sorted_time_g = sorted_time_g[sorted_time_g != 0]\n",
    "    \n",
    "    axs[i, 0].plot(sorted_time_v, sorted_flux_v)\n",
    "    axs[i, 0].set_title(f'Entry {i} - V Band')\n",
    "\n",
    "    axs[i, 1].plot(sorted_time_g, sorted_flux_g)\n",
    "    axs[i, 1].set_title(f'Entry {i} - G Band')\n",
    "\n",
    "plt.show()"
   ],
   "outputs": []
  },
  {
   "cell_type": "code",
   "execution_count": 261,
   "id": "ef6a367f-3e3f-4d65-bd83-2fc62bebc3d0",
   "metadata": {},
   "source": [
    "def FFT_for_Period(x, k=2):\n",
    "    # [B, T, C]\n",
    "    xf = torch.fft.rfft(x, dim=1)\n",
    "    # find period by amplitudes\n",
    "    frequency_list = abs(xf).mean(0).mean(-1)\n",
    "    frequency_list[0] = 0\n",
    "    _, top_list = torch.topk(frequency_list, k)\n",
    "    top_list = top_list.detach().cpu().numpy()\n",
    "    period = x.shape[1] // top_list\n",
    "    return period, abs(xf).mean(-1)[:, top_list]"
   ],
   "outputs": []
  },
  {
   "cell_type": "code",
   "execution_count": 262,
   "id": "44a9ca36-275b-4b57-99ff-5ee3252eff44",
   "metadata": {},
   "source": [
    "sorted_fluxes.shape"
   ],
   "outputs": []
  },
  {
   "cell_type": "code",
   "execution_count": 263,
   "id": "e59e3286-75cd-46f7-8258-523ffb549f33",
   "metadata": {},
   "source": [
    "sorted_fluxes = sorted_fluxes.transpose(1, 2)\n",
    "sorted_fluxes.shape"
   ],
   "outputs": []
  },
  {
   "cell_type": "code",
   "execution_count": 266,
   "id": "16c34e03-f2b1-48dc-904a-5e18673d2e72",
   "metadata": {},
   "source": [
    "period_list, period_weight = FFT_for_Period(sorted_fluxes, k=5)"
   ],
   "outputs": []
  },
  {
   "cell_type": "code",
   "execution_count": 267,
   "id": "5017da95-feed-4d02-b752-2616bb554405",
   "metadata": {},
   "source": [
    "period_list, period_weight"
   ],
   "outputs": []
  },
  {
   "cell_type": "code",
   "execution_count": 197,
   "id": "89e6f7f3-adb8-476e-a918-aea16cb20d15",
   "metadata": {},
   "source": [
    "period = period_list[0]"
   ],
   "outputs": []
  },
  {
   "cell_type": "code",
   "execution_count": 192,
   "id": "d63f344a-d491-472e-8c0d-eb1168c51296",
   "metadata": {},
   "source": [
    "B, T, N = fluxes.shape"
   ],
   "outputs": []
  },
  {
   "cell_type": "code",
   "execution_count": 200,
   "id": "c483c6eb-5350-4f38-a991-4edcb7732eb0",
   "metadata": {},
   "source": [
    "out = fluxes.reshape(B, T // period, period, N).permute(0, 3, 1, 2).contiguous()"
   ],
   "outputs": []
  },
  {
   "cell_type": "code",
   "execution_count": 201,
   "id": "243f06c0-7b90-4da4-8c44-be136c660765",
   "metadata": {},
   "source": [
    "out.shape"
   ],
   "outputs": []
  },
  {
   "cell_type": "code",
   "execution_count": null,
   "id": "49f19f7f-763f-4d27-bfa8-fb4f9694f610",
   "metadata": {},
   "source": [],
   "outputs": []
  },
  {
   "cell_type": "code",
   "execution_count": null,
   "id": "e69a0844-2dc5-41dd-b422-86cd2f8f87c1",
   "metadata": {},
   "source": [],
   "outputs": []
  },
  {
   "cell_type": "code",
   "execution_count": null,
   "id": "43bc1f9e-3aad-43b5-bfb0-f8ed9d487a6d",
   "metadata": {},
   "source": [],
   "outputs": []
  },
  {
   "cell_type": "code",
   "execution_count": null,
   "id": "0d0e0224-47f5-4d3b-957b-91e8cae2e570",
   "metadata": {},
   "source": [],
   "outputs": []
  },
  {
   "cell_type": "code",
   "execution_count": null,
   "id": "ed54cb19-8b79-4721-81e2-ea83e0895e16",
   "metadata": {},
   "source": [],
   "outputs": []
  }
 ],
 "metadata": {
  "kernelspec": {
   "display_name": "Python 3 (ipykernel)",
   "language": "python",
   "name": "python3"
  },
  "language_info": {
   "codemirror_mode": {
    "name": "ipython",
    "version": 3
   },
   "file_extension": ".py",
   "mimetype": "text/x-python",
   "name": "python",
   "nbconvert_exporter": "python",
   "pygments_lexer": "ipython3",
   "version": "3.10.12"
  }
 },
 "nbformat": 4,
 "nbformat_minor": 5
}

{
 "cells": [
  {
   "cell_type": "code",
   "execution_count": 1,
   "id": "e40995e1-3282-4517-9e87-1a92208bbfcb",
   "metadata": {},
   "source": [
    "import sys\n",
    "sys.path.insert(0, '..')\n",
    "\n",
    "import numpy as np\n",
    "import torch\n",
    "import torch.nn as nn\n",
    "import torch.nn.functional as F\n",
    "from torch.optim import Adam\n",
    "from torch.utils.data import DataLoader\n",
    "from datetime import datetime\n",
    "from tqdm import tqdm\n",
    "import umap\n",
    "from sklearn.manifold import TSNE\n",
    "from sklearn.decomposition import PCA\n",
    "from sklearn.metrics import confusion_matrix\n",
    "import matplotlib.colors as mcolors\n",
    "import matplotlib.pyplot as plt\n",
    "import seaborn as sns\n",
    "\n",
    "from core.multimodal.dataset2 import VPSMDatasetV2\n",
    "from core.multimodal.model import ModelV1"
   ],
   "outputs": []
  },
  {
   "cell_type": "code",
   "execution_count": 2,
   "id": "4841b976-9113-439e-955a-e13a950c2918",
   "metadata": {},
   "source": [
    "def get_config(random_seed):\n",
    "    config = {\n",
    "        'project': 'multimodal-contrastive',\n",
    "        'random_seed': random_seed,\n",
    "        'use_wandb': True,\n",
    "        'save_weights': True,\n",
    "        'weights_path': f'/home/mariia/AstroML/weights/{datetime.now().strftime(\"%Y-%m-%d-%H-%M\")}',\n",
    "        'use_pretrain': None,\n",
    "\n",
    "        # Data General\n",
    "        'dataset': 'VPSMDatasetV2',     # 'VPSMDataset' or 'VPSMDatasetV2'\n",
    "        'data_root': '/home/mariia/AstroML/data/asassn/',\n",
    "        'file': 'preprocessed_data/full/spectra_and_v',\n",
    "        'classes': None,\n",
    "        'min_samples': 200,\n",
    "        'max_samples': None,\n",
    "\n",
    "        # Photometry\n",
    "        'v_zip': 'asassnvarlc_vband_complete.zip',\n",
    "        'v_prefix': 'vardb_files',\n",
    "        'seq_len': 200,\n",
    "        'phased': True,\n",
    "        'clip': False,\n",
    "        'aux': True,\n",
    "\n",
    "        # Spectra\n",
    "        'lamost_spec_dir': 'Spectra/v2',\n",
    "        'spectra_v_file': 'spectra_v_merged.csv',\n",
    "        'z_corr': False,\n",
    "\n",
    "        # Photometry Model\n",
    "        'p_encoder_layers': 8,\n",
    "        'p_d_model': 128,\n",
    "        'p_dropout': 0,\n",
    "        'p_feature_size': 3,\n",
    "        'p_n_heads': 4,\n",
    "        'p_d_ff': 512,\n",
    "\n",
    "        # Spectra Model\n",
    "        's_hidden_dim': 512,\n",
    "        's_dropout': 0,\n",
    "\n",
    "        # Metadata Model\n",
    "        'm_hidden_dim': 512,\n",
    "        'm_dropout': 0,\n",
    "\n",
    "        # MultiModal Model\n",
    "        'model': 'ModelV1',     # 'ModelV0' or 'ModelV1'\n",
    "        'hidden_dim': 256,\n",
    "\n",
    "        # Training\n",
    "        'batch_size': 32,\n",
    "        'lr': 1e-3,\n",
    "        'weight_decay': 0,\n",
    "        'epochs': 50,\n",
    "        'optimizer': 'AdamW',\n",
    "        'early_stopping_patience': 100,\n",
    "\n",
    "        # Learning Rate Scheduler\n",
    "        'factor': 0.3,\n",
    "        'patience': 50,\n",
    "    }\n",
    "\n",
    "    config['p_feature_size'] += 4\n",
    "\n",
    "    return config"
   ],
   "outputs": []
  },
  {
   "cell_type": "code",
   "execution_count": 3,
   "id": "b074ffd9-b748-4dab-b985-7f5e45da1d10",
   "metadata": {},
   "source": [
    "config = get_config(42)\n",
    "CLASSES = ['EW', 'SR', 'EA', 'RRAB', 'EB', 'ROT', 'RRC', 'HADS', 'M', 'DSCT']\n",
    "device = torch.device('cuda' if torch.cuda.is_available() else 'cpu')"
   ],
   "outputs": []
  },
  {
   "cell_type": "code",
   "execution_count": 4,
   "id": "ef420e56-28d9-4be4-abcf-3dabdefff3ee",
   "metadata": {},
   "source": [
    "train_dataset = VPSMDatasetV2(split='train', classes=CLASSES, seq_len=200, phased=True, clip=False, aux=True, z_corr=False, random_seed=42)\n",
    "val_dataset = VPSMDatasetV2(split='val', classes=CLASSES, seq_len=200, phased=True, clip=False, aux=True, z_corr=False, random_seed=42)\n",
    "test_dataset = VPSMDatasetV2(split='test', classes=CLASSES, seq_len=200, phased=True, clip=False, aux=True, z_corr=False, random_seed=42)"
   ],
   "outputs": []
  },
  {
   "cell_type": "code",
   "execution_count": 43,
   "id": "4dbf6801-9870-45b4-910b-69a42c23ffa7",
   "metadata": {},
   "source": [
    "train_dataloader = DataLoader(train_dataset, batch_size=config['batch_size'], shuffle=True, num_workers=4)\n",
    "val_dataloader = DataLoader(val_dataset, batch_size=config['batch_size'], shuffle=False)\n",
    "test_dataloader = DataLoader(test_dataset, batch_size=config['batch_size'], shuffle=False)"
   ],
   "outputs": []
  },
  {
   "cell_type": "code",
   "execution_count": 19,
   "id": "2bdf8384-3f1d-4c1d-ab24-abb14dc24113",
   "metadata": {},
   "source": [
    "class ClassificationModelv0(nn.Module):\n",
    "    def __init__(self, config, num_classes, freeze=False, weights_path=None):\n",
    "        super(ClassificationModelv0, self).__init__()\n",
    "\n",
    "        self.encoder = ModelV1(config)\n",
    "        self.encoder = self.encoder.to(device)\n",
    "\n",
    "        if freeze:\n",
    "            for param in self.encoder.parameters():\n",
    "                param.requires_grad = False\n",
    "\n",
    "        if weights_path:\n",
    "            self.encoder.load_state_dict(torch.load(weights_path))\n",
    "\n",
    "        self.fc = nn.Linear(768, num_classes)\n",
    "\n",
    "    def forward(self, photometry, photometry_mask, spectra, metadata):\n",
    "        p_emb, s_emb, m_emb = self.encoder.get_embeddings(photometry, photometry_mask, spectra, metadata)\n",
    "        emb = torch.cat((p_emb, s_emb, m_emb), dim=1)\n",
    "        logits = self.fc(emb)\n",
    "\n",
    "        return logits"
   ],
   "outputs": []
  },
  {
   "cell_type": "code",
   "execution_count": 24,
   "id": "1edf4998-e9d5-4190-bb9e-bb3adf1c0f8a",
   "metadata": {},
   "source": [
    "class ClassificationModelv1(nn.Module):\n",
    "    def __init__(self, config, num_classes, freeze=False, weights_path=None):\n",
    "        super(ClassificationModelv1, self).__init__()\n",
    "\n",
    "        self.encoder = ModelV1(config)\n",
    "        self.encoder = self.encoder.to(device)\n",
    "\n",
    "        if freeze:\n",
    "            for param in self.encoder.parameters():\n",
    "                param.requires_grad = False\n",
    "\n",
    "        if weights_path:\n",
    "            self.encoder.load_state_dict(torch.load(weights_path))\n",
    "\n",
    "        self.mlp = nn.Sequential(\n",
    "            nn.Linear(768, 128),\n",
    "            nn.ReLU(),\n",
    "            nn.Linear(128, num_classes)\n",
    "        )\n",
    "\n",
    "    def forward(self, photometry, photometry_mask, spectra, metadata):\n",
    "        p_emb, s_emb, m_emb = self.encoder.get_embeddings(photometry, photometry_mask, spectra, metadata)\n",
    "        emb = torch.cat((p_emb, s_emb, m_emb), dim=1)\n",
    "        logits = self.mlp(emb)\n",
    "\n",
    "        return logits"
   ],
   "outputs": []
  },
  {
   "cell_type": "code",
   "execution_count": 77,
   "id": "22373c36-2655-4140-874b-b9644c8a8617",
   "metadata": {},
   "source": [
    "class ClassificationModelv2(nn.Module):\n",
    "    def __init__(self, config, num_classes, freeze=False, weights_path=None):\n",
    "        super(ClassificationModelv2, self).__init__()\n",
    "\n",
    "        self.encoder = ModelV1(config)\n",
    "        self.encoder = self.encoder.to(device)\n",
    "\n",
    "        if freeze:\n",
    "            for param in self.encoder.parameters():\n",
    "                param.requires_grad = False\n",
    "\n",
    "        if weights_path:\n",
    "            self.encoder.load_state_dict(torch.load(weights_path))\n",
    "\n",
    "        self.mlp = nn.Sequential(\n",
    "            nn.Linear(768, 256),\n",
    "            nn.ReLU(),\n",
    "            nn.Linear(256, 64),\n",
    "            nn.ReLU(),\n",
    "            nn.Linear(64, num_classes)\n",
    "        )\n",
    "\n",
    "    def forward(self, photometry, photometry_mask, spectra, metadata):\n",
    "        p_emb, s_emb, m_emb = self.encoder.get_embeddings(photometry, photometry_mask, spectra, metadata)\n",
    "        emb = torch.cat((p_emb, s_emb, m_emb), dim=1)\n",
    "        logits = self.mlp(emb)\n",
    "\n",
    "        return logits"
   ],
   "outputs": []
  },
  {
   "cell_type": "code",
   "execution_count": null,
   "id": "caf8a677-4ec5-4b31-9afe-4dec808b0d6f",
   "metadata": {},
   "source": [
    "def train_epoch(model):\n",
    "    model.train()\n",
    "    total_loss = []\n",
    "    total_correct_predictions = 0\n",
    "    total_predictions = 0\n",
    "\n",
    "    for photometry, photometry_mask, spectra, metadata, y in tqdm(train_dataloader):\n",
    "        photometry, photometry_mask = photometry.to(device), photometry_mask.to(device)\n",
    "        spectra, metadata, y = spectra.to(device), metadata.to(device), y.to(device)\n",
    "\n",
    "        optimizer.zero_grad()\n",
    "        logits = model(photometry, photometry_mask, spectra, metadata)\n",
    "        loss = criterion(logits, y)\n",
    "        total_loss.append(loss.item())\n",
    "\n",
    "        probabilities = torch.nn.functional.softmax(logits, dim=1)\n",
    "        _, predicted_labels = torch.max(probabilities, dim=1)\n",
    "        correct_predictions = (predicted_labels == y).sum().item()\n",
    "\n",
    "        total_correct_predictions += correct_predictions\n",
    "        total_predictions += y.size(0)\n",
    "\n",
    "        loss.backward()\n",
    "        optimizer.step()\n",
    "        \n",
    "    print(f'Train Loss: {sum(total_loss) / len(total_loss)} Acc: {total_correct_predictions / total_predictions}')"
   ],
   "outputs": []
  },
  {
   "cell_type": "code",
   "execution_count": null,
   "id": "e023cf43-e56f-475e-8bcd-10c344fa0d6b",
   "metadata": {},
   "source": [
    "def val_epoch(model):\n",
    "    model.eval()\n",
    "    total_loss = []\n",
    "    total_correct_predictions = 0\n",
    "    total_predictions = 0\n",
    "\n",
    "    for photometry, photometry_mask, spectra, metadata, y in tqdm(val_dataloader):\n",
    "        photometry, photometry_mask = photometry.to(device), photometry_mask.to(device)\n",
    "        spectra, metadata, y = spectra.to(device), metadata.to(device), y.to(device)\n",
    "\n",
    "        with torch.no_grad():\n",
    "            logits = model(photometry, photometry_mask, spectra, metadata)\n",
    "            loss = criterion(logits, y)\n",
    "            total_loss.append(loss.item())\n",
    "\n",
    "        probabilities = torch.nn.functional.softmax(logits, dim=1)\n",
    "        _, predicted_labels = torch.max(probabilities, dim=1)\n",
    "        correct_predictions = (predicted_labels == y).sum().item()\n",
    "\n",
    "        total_correct_predictions += correct_predictions\n",
    "        total_predictions += y.size(0)\n",
    "\n",
    "    print(f'Val Loss: {sum(total_loss) / len(total_loss)} Acc: {total_correct_predictions / total_predictions}')"
   ],
   "outputs": []
  },
  {
   "cell_type": "code",
   "execution_count": 68,
   "id": "44daa6c2-3092-423d-8489-c28412797ec7",
   "metadata": {},
   "source": [
    "def evaluate(model, val_dataloader):\n",
    "    model.eval()\n",
    "    all_true_labels = []\n",
    "    all_predicted_labels = []\n",
    "\n",
    "    for photometry, photometry_mask, spectra, metadata, y in tqdm(val_dataloader):\n",
    "        photometry, photometry_mask = photometry.to(device), photometry_mask.to(device)\n",
    "        spectra, metadata = spectra.to(device), metadata.to(device)\n",
    "\n",
    "        with torch.no_grad():\n",
    "            logits = model(photometry, photometry_mask, spectra, metadata)\n",
    "            probabilities = torch.nn.functional.softmax(logits, dim=1)\n",
    "            _, predicted_labels = torch.max(probabilities, dim=1)\n",
    "\n",
    "            all_true_labels.extend(y.numpy())\n",
    "            all_predicted_labels.extend(predicted_labels.cpu().numpy())\n",
    "\n",
    "    acc = sum([1 if all_true_labels[i] == all_predicted_labels[i] else 0 for i in range(len(all_true_labels))]) / len(all_true_labels)\n",
    "    print(f'Total Accuracy: {round(acc * 100, 2)}%')\n",
    "\n",
    "    conf_matrix = confusion_matrix(all_true_labels, all_predicted_labels)\n",
    "    conf_matrix_percent = 100 * conf_matrix / conf_matrix.sum(axis=1)[:, np.newaxis]\n",
    "\n",
    "    avg_acc = sum([conf_matrix_percent[i][i] for i in range(len(conf_matrix_percent))]) / len(conf_matrix_percent)\n",
    "    print(f'Avarage Accuracy: {round(avg_acc, 2)}%')\n",
    "    \n",
    "    labels = [val_dataset.id2target[i] for i in range(len(conf_matrix))]\n",
    "    fig, axes = plt.subplots(nrows=1, ncols=2, figsize=(20, 7))\n",
    "    \n",
    "    sns.heatmap(conf_matrix, annot=True, fmt='d', cmap='Blues', xticklabels=labels, yticklabels=labels, ax=axes[0])\n",
    "    axes[0].set_xlabel('Predicted')\n",
    "    axes[0].set_ylabel('True')\n",
    "    axes[0].set_title('Confusion Matrix - Absolute Values')\n",
    "\n",
    "    sns.heatmap(conf_matrix_percent, annot=True, fmt='.0f', cmap='Blues', xticklabels=labels, yticklabels=labels,\n",
    "                ax=axes[1])\n",
    "    axes[1].set_xlabel('Predicted')\n",
    "    axes[1].set_ylabel('True')\n",
    "    axes[1].set_title('Confusion Matrix - Percentages')"
   ],
   "outputs": []
  },
  {
   "cell_type": "code",
   "execution_count": 14,
   "id": "67a000db-9971-42bf-8a05-16775e8c2612",
   "metadata": {},
   "source": [
    "model2 = ClassificationModelv0(config, train_dataset.num_classes, freeze=False, weights_path=None)\n",
    "model2 = model2.to(device)\n",
    "optimizer = Adam(model2.parameters(), lr=1e-3, weight_decay=0)\n",
    "criterion = nn.CrossEntropyLoss()\n",
    "\n",
    "for i in range(5):\n",
    "    print(f'Epoch {i}')\n",
    "    train_epoch(model2)\n",
    "    val_epoch(model2)"
   ],
   "outputs": []
  },
  {
   "cell_type": "code",
   "execution_count": 21,
   "id": "eb45e4a1-1545-4e4e-8b28-b3f099bf6997",
   "metadata": {},
   "source": [
    "model3 = ClassificationModelv0(config, train_dataset.num_classes, freeze=False, weights_path='/home/mariia/AstroML/weights/2024-06-13-18-41-lwvpa5fm/weights-49.pth')\n",
    "model3 = model3.to(device)\n",
    "optimizer = Adam(model3.parameters(), lr=1e-3, weight_decay=0)\n",
    "criterion = nn.CrossEntropyLoss()\n",
    "\n",
    "for i in range(5):\n",
    "    print(f'Epoch {i}')\n",
    "    train_epoch(model3)\n",
    "    val_epoch(model3)"
   ],
   "outputs": []
  },
  {
   "cell_type": "code",
   "execution_count": 22,
   "id": "70710d52-6b38-40b5-ac20-9ca41ac241fa",
   "metadata": {},
   "source": [
    "model4 = ClassificationModelv0(config, train_dataset.num_classes, freeze=True, weights_path='/home/mariia/AstroML/weights/2024-06-13-18-41-lwvpa5fm/weights-49.pth')\n",
    "model4 = model4.to(device)\n",
    "optimizer = Adam(model4.parameters(), lr=1e-3, weight_decay=0)\n",
    "criterion = nn.CrossEntropyLoss()\n",
    "\n",
    "for i in range(5):\n",
    "    print(f'Epoch {i}')\n",
    "    train_epoch(model4)\n",
    "    val_epoch(model4)"
   ],
   "outputs": []
  },
  {
   "cell_type": "code",
   "execution_count": 25,
   "id": "490807dc-c29e-4c99-9567-0804c3bf698e",
   "metadata": {},
   "source": [
    "model5 = ClassificationModelv1(config, train_dataset.num_classes, freeze=False, weights_path=None)\n",
    "model5 = model5.to(device)\n",
    "optimizer = Adam(model5.parameters(), lr=1e-3, weight_decay=0)\n",
    "criterion = nn.CrossEntropyLoss()\n",
    "\n",
    "for i in range(5):\n",
    "    print(f'Epoch {i}')\n",
    "    train_epoch(model5)\n",
    "    val_epoch(model5)"
   ],
   "outputs": []
  },
  {
   "cell_type": "code",
   "execution_count": 35,
   "id": "7017b3bf-c71d-4da1-8855-230acfee82c7",
   "metadata": {},
   "source": [
    "model6 = ClassificationModelv1(config, train_dataset.num_classes, freeze=False, weights_path='/home/mariia/AstroML/weights/2024-06-13-18-41-lwvpa5fm/weights-49.pth')\n",
    "model6 = model6.to(device)\n",
    "optimizer = Adam(model6.parameters(), lr=1e-3, weight_decay=0)\n",
    "criterion = nn.CrossEntropyLoss()\n",
    "\n",
    "for i in range(5):\n",
    "    print(f'Epoch {i}')\n",
    "    train_epoch(model6)\n",
    "    val_epoch(model6)"
   ],
   "outputs": []
  },
  {
   "cell_type": "code",
   "execution_count": 36,
   "id": "bb7577db-a012-4372-b8a5-7067cad5cb5a",
   "metadata": {},
   "source": [
    "model7 = ClassificationModelv1(config, train_dataset.num_classes, freeze=True, weights_path='/home/mariia/AstroML/weights/2024-06-13-18-41-lwvpa5fm/weights-49.pth')\n",
    "model7 = model7.to(device)\n",
    "optimizer = Adam(model7.parameters(), lr=1e-3, weight_decay=0)\n",
    "criterion = nn.CrossEntropyLoss()\n",
    "\n",
    "for i in range(5):\n",
    "    print(f'Epoch {i}')\n",
    "    train_epoch(model7)\n",
    "    val_epoch(model7)"
   ],
   "outputs": []
  },
  {
   "cell_type": "code",
   "execution_count": 78,
   "id": "fd2b2474-aade-4603-9066-7068acccbd76",
   "metadata": {},
   "source": [
    "model8 = ClassificationModelv2(config, train_dataset.num_classes, freeze=False, weights_path=None)\n",
    "model8 = model8.to(device)\n",
    "optimizer = Adam(model8.parameters(), lr=1e-3, weight_decay=0)\n",
    "criterion = nn.CrossEntropyLoss()\n",
    "\n",
    "for i in range(5):\n",
    "    print(f'Epoch {i}')\n",
    "    train_epoch(model8)\n",
    "    val_epoch(model8)"
   ],
   "outputs": []
  },
  {
   "cell_type": "code",
   "execution_count": 79,
   "id": "f0d1abb6-455d-4a74-bfd1-b322a432b8e4",
   "metadata": {},
   "source": [
    "model9 = ClassificationModelv2(config, train_dataset.num_classes, freeze=False, weights_path='/home/mariia/AstroML/weights/2024-06-13-18-41-lwvpa5fm/weights-49.pth')\n",
    "model9 = model9.to(device)\n",
    "optimizer = Adam(model9.parameters(), lr=1e-3, weight_decay=0)\n",
    "criterion = nn.CrossEntropyLoss()\n",
    "\n",
    "for i in range(5):\n",
    "    print(f'Epoch {i}')\n",
    "    train_epoch(model9)\n",
    "    val_epoch(model9)"
   ],
   "outputs": []
  },
  {
   "cell_type": "code",
   "execution_count": 80,
   "id": "c42a840f-44b4-495a-8470-eabd4b992553",
   "metadata": {},
   "source": [
    "model10 = ClassificationModelv2(config, train_dataset.num_classes, freeze=True, weights_path='/home/mariia/AstroML/weights/2024-06-13-18-41-lwvpa5fm/weights-49.pth')\n",
    "model10 = model10.to(device)\n",
    "optimizer = Adam(model10.parameters(), lr=1e-3, weight_decay=0)\n",
    "criterion = nn.CrossEntropyLoss()\n",
    "\n",
    "for i in range(5):\n",
    "    print(f'Epoch {i}')\n",
    "    train_epoch(model10)\n",
    "    val_epoch(model10)"
   ],
   "outputs": []
  },
  {
   "cell_type": "code",
   "execution_count": 37,
   "id": "9b9566a4-5f92-4121-9d14-d5f247a3de1a",
   "metadata": {},
   "source": [
    "evaluate(model2, val_dataloader)"
   ],
   "outputs": []
  },
  {
   "cell_type": "code",
   "execution_count": 38,
   "id": "d9f1bf4b-72dc-458d-87ae-158c2955e890",
   "metadata": {},
   "source": [
    "evaluate(model3, val_dataloader)"
   ],
   "outputs": []
  },
  {
   "cell_type": "code",
   "execution_count": 39,
   "id": "c80272d8-7689-4fa4-b5ef-1a1f50aa8587",
   "metadata": {},
   "source": [
    "evaluate(model4, val_dataloader)"
   ],
   "outputs": []
  },
  {
   "cell_type": "code",
   "execution_count": 40,
   "id": "b43ffaa5-c8be-47ba-b8d2-c4dc5ea57432",
   "metadata": {},
   "source": [
    "evaluate(model5, val_dataloader)"
   ],
   "outputs": []
  },
  {
   "cell_type": "code",
   "execution_count": 41,
   "id": "3738d143-22bd-4632-ac41-f74847602bc0",
   "metadata": {},
   "source": [
    "evaluate(model6, val_dataloader)"
   ],
   "outputs": []
  },
  {
   "cell_type": "code",
   "execution_count": 42,
   "id": "da7d9761-1c1f-4a48-80a2-d4b2c6a00c05",
   "metadata": {},
   "source": [
    "evaluate(model7, val_dataloader)"
   ],
   "outputs": []
  },
  {
   "cell_type": "code",
   "execution_count": 81,
   "id": "1fb8de42-c11d-45f1-9f39-7081ba4bc605",
   "metadata": {},
   "source": [
    "evaluate(model8, val_dataloader)"
   ],
   "outputs": []
  },
  {
   "cell_type": "code",
   "execution_count": 82,
   "id": "7e910139-52df-4d3d-815c-2dbde4f1f93c",
   "metadata": {},
   "source": [
    "evaluate(model9, val_dataloader)"
   ],
   "outputs": []
  },
  {
   "cell_type": "code",
   "execution_count": 83,
   "id": "d85614ea-8f88-41b7-a762-bb30879cc5a5",
   "metadata": {},
   "source": [
    "evaluate(model10, val_dataloader)"
   ],
   "outputs": []
  },
  {
   "cell_type": "code",
   "execution_count": 69,
   "id": "6859d6ba-0ba8-4f6b-afc3-90d41f3306b2",
   "metadata": {},
   "source": [
    "evaluate(model2, test_dataloader)"
   ],
   "outputs": []
  },
  {
   "cell_type": "code",
   "execution_count": 70,
   "id": "700b216e-7605-4ed9-babc-a36fc2deff68",
   "metadata": {},
   "source": [
    "evaluate(model3, test_dataloader)"
   ],
   "outputs": []
  },
  {
   "cell_type": "code",
   "execution_count": 71,
   "id": "dbc10999-8d0d-441b-b52e-f52a28d71c89",
   "metadata": {},
   "source": [
    "evaluate(model4, test_dataloader)"
   ],
   "outputs": []
  },
  {
   "cell_type": "code",
   "execution_count": 72,
   "id": "4104c69c-6736-40e9-a499-4bedfda217f2",
   "metadata": {},
   "source": [
    "evaluate(model5, test_dataloader)"
   ],
   "outputs": []
  },
  {
   "cell_type": "code",
   "execution_count": 73,
   "id": "3752fead-ccc9-46b0-8d44-b7cdf1674c1b",
   "metadata": {},
   "source": [
    "evaluate(model6, test_dataloader)"
   ],
   "outputs": []
  },
  {
   "cell_type": "code",
   "execution_count": 74,
   "id": "d3893fe4-8579-4863-b9b3-5c3e458a51d0",
   "metadata": {},
   "source": [
    "evaluate(model7, test_dataloader)"
   ],
   "outputs": []
  },
  {
   "cell_type": "code",
   "execution_count": 84,
   "id": "b8e6b9b0-ce29-4cfe-b8a6-7b1af65a4e93",
   "metadata": {},
   "source": [
    "evaluate(model8, test_dataloader)"
   ],
   "outputs": []
  },
  {
   "cell_type": "code",
   "execution_count": 85,
   "id": "b2f7bb87-1d18-4909-a279-046297ffe7dd",
   "metadata": {},
   "source": [
    "evaluate(model9, test_dataloader)"
   ],
   "outputs": []
  },
  {
   "cell_type": "code",
   "execution_count": 86,
   "id": "58c8183d-c1fa-4579-bd8d-6cb554f4cef2",
   "metadata": {},
   "source": [
    "evaluate(model10, test_dataloader)"
   ],
   "outputs": []
  },
  {
   "cell_type": "code",
   "execution_count": null,
   "id": "7a8b184f-a175-4b79-9f59-b74da6f3dba7",
   "metadata": {},
   "source": [],
   "outputs": []
  },
  {
   "cell_type": "code",
   "execution_count": null,
   "id": "98a20671-cd3a-46f0-adb1-84ddb084a733",
   "metadata": {},
   "source": [],
   "outputs": []
  },
  {
   "cell_type": "code",
   "execution_count": null,
   "id": "53afbf15-155a-43e1-8fb0-25d48a568bf8",
   "metadata": {},
   "source": [],
   "outputs": []
  },
  {
   "cell_type": "code",
   "execution_count": null,
   "id": "84fd2f44-d480-4865-aaf0-a3dccb8a746f",
   "metadata": {},
   "source": [],
   "outputs": []
  },
  {
   "cell_type": "code",
   "execution_count": null,
   "id": "3b7c3017-88ef-4dbd-940d-8a9ee497e30a",
   "metadata": {},
   "source": [],
   "outputs": []
  },
  {
   "cell_type": "code",
   "execution_count": 85,
   "id": "c2b871b9-0fee-4159-81c3-96ff2ef1d37a",
   "metadata": {},
   "source": [
    "model = ClassificationModelv0(config, train_dataset.num_classes, freeze=False, \n",
    "                              weights_path='/home/mariia/AstroML/weights/2024-06-13-18-41-lwvpa5fm/weights-49.pth')\n",
    "model = model.to(device)\n",
    "optimizer = Adam(model.parameters(), lr=config['lr'], weight_decay=config['weight_decay'])\n",
    "criterion = nn.CrossEntropyLoss()"
   ],
   "outputs": []
  },
  {
   "cell_type": "code",
   "execution_count": 89,
   "id": "ccb621fe-0932-4c08-b4c2-3a6ad590d78a",
   "metadata": {},
   "source": [
    "for i in range(10):\n",
    "    print(f'Epoch {i}')\n",
    "    train_epoch()\n",
    "    val_epoch()"
   ],
   "outputs": []
  },
  {
   "cell_type": "code",
   "execution_count": 86,
   "id": "991e3579-5b04-46ff-8092-362caeeca560",
   "metadata": {},
   "source": [
    "optimizer = Adam(model.parameters(), lr=config['lr'], weight_decay=config['weight_decay'])\n",
    "criterion = nn.CrossEntropyLoss()"
   ],
   "outputs": []
  },
  {
   "cell_type": "code",
   "execution_count": null,
   "id": "05120eef-8b23-4b74-bf1f-ecc99a0ce235",
   "metadata": {},
   "source": [],
   "outputs": []
  },
  {
   "cell_type": "code",
   "execution_count": null,
   "id": "70e4e34c-3a0a-4d92-8ac1-072c25f3cada",
   "metadata": {},
   "source": [],
   "outputs": []
  },
  {
   "cell_type": "code",
   "execution_count": null,
   "id": "d88e7953-24bc-438e-b4b3-d989c23afdcf",
   "metadata": {},
   "source": [],
   "outputs": []
  },
  {
   "cell_type": "code",
   "execution_count": null,
   "id": "bf81f4c8-d019-4fe0-a624-90af14ac2f63",
   "metadata": {},
   "source": [],
   "outputs": []
  },
  {
   "cell_type": "code",
   "execution_count": null,
   "id": "6bcf1f8c-b7bf-4e02-83fc-b8e1e2810b12",
   "metadata": {},
   "source": [],
   "outputs": []
  },
  {
   "cell_type": "code",
   "execution_count": 74,
   "id": "747a4dfa-db2c-4e8d-9bd9-bc870b1bf6d2",
   "metadata": {},
   "source": [
    "for i in range(10):\n",
    "    print(f'Epoch {i}')\n",
    "    train_epoch()\n",
    "    val_epoch()"
   ],
   "outputs": []
  },
  {
   "cell_type": "code",
   "execution_count": null,
   "id": "e92e14be-0137-45e4-9e95-f2be8fad9109",
   "metadata": {},
   "source": [],
   "outputs": []
  },
  {
   "cell_type": "code",
   "execution_count": null,
   "id": "b8404b53-b8cc-4a0a-81a4-614044fd5fe9",
   "metadata": {},
   "source": [],
   "outputs": []
  },
  {
   "cell_type": "code",
   "execution_count": null,
   "id": "e576bad6-b05d-4081-95d8-f8844f93ad33",
   "metadata": {},
   "source": [],
   "outputs": []
  },
  {
   "cell_type": "code",
   "execution_count": null,
   "id": "0cb45e4f-1122-4341-b296-7130eab0bbb0",
   "metadata": {},
   "source": [],
   "outputs": []
  },
  {
   "cell_type": "code",
   "execution_count": null,
   "id": "35af16df-b20b-4626-9c8a-fdd3b03d5675",
   "metadata": {},
   "source": [],
   "outputs": []
  },
  {
   "cell_type": "code",
   "execution_count": 39,
   "id": "d26fc0f4-0675-4d90-9043-46cf8b357ce1",
   "metadata": {},
   "source": [
    "train_epoch()"
   ],
   "outputs": []
  },
  {
   "cell_type": "code",
   "execution_count": 40,
   "id": "75aae0e9-8170-4737-a1f8-8b56c9ba5f95",
   "metadata": {},
   "source": [
    "val_epoch()"
   ],
   "outputs": []
  },
  {
   "cell_type": "code",
   "execution_count": 41,
   "id": "d55693ce-d8df-4d00-9b0c-3b9f2f66b667",
   "metadata": {},
   "source": [
    "for i in range(1, 10):\n",
    "    print(f'Epoch {i}')\n",
    "    train_epoch()"
   ],
   "outputs": []
  },
  {
   "cell_type": "code",
   "execution_count": 53,
   "id": "14224f55-f450-40f5-90b5-c60635af3bcb",
   "metadata": {},
   "source": [
    "for i in range(10, 50):\n",
    "    print(f'Epoch {i}')\n",
    "    train_epoch()\n",
    "    val_epoch()"
   ],
   "outputs": []
  },
  {
   "cell_type": "code",
   "execution_count": 45,
   "id": "057fd2ea-f86c-49b8-b047-7679d1334942",
   "metadata": {},
   "source": [
    "evaluate()"
   ],
   "outputs": []
  },
  {
   "cell_type": "code",
   "execution_count": null,
   "id": "940fe841-af8f-45f6-a96c-96e0a0cd4286",
   "metadata": {},
   "source": [],
   "outputs": []
  },
  {
   "cell_type": "code",
   "execution_count": null,
   "id": "eefa76b5-2883-4bf4-b3f6-828e81c04f59",
   "metadata": {},
   "source": [],
   "outputs": []
  },
  {
   "cell_type": "code",
   "execution_count": null,
   "id": "2e60f101-1a93-44ed-b244-4061b3ce80a3",
   "metadata": {},
   "source": [],
   "outputs": []
  },
  {
   "cell_type": "code",
   "execution_count": null,
   "id": "b42348fb-0940-49b9-b44f-2fa684f42232",
   "metadata": {},
   "source": [],
   "outputs": []
  },
  {
   "cell_type": "code",
   "execution_count": null,
   "id": "153cf499-7001-4899-9b7e-1a5efeab6f9a",
   "metadata": {},
   "source": [],
   "outputs": []
  },
  {
   "cell_type": "code",
   "execution_count": null,
   "id": "d994b375-d618-4e3d-b03a-ab0cac175761",
   "metadata": {},
   "source": [],
   "outputs": []
  },
  {
   "cell_type": "code",
   "execution_count": null,
   "id": "d51cdb8f-8def-40f8-8765-caad3e4b6a16",
   "metadata": {},
   "source": [],
   "outputs": []
  },
  {
   "cell_type": "code",
   "execution_count": null,
   "id": "1d47a664-3b2c-4ad4-9ece-a9e08840dd9c",
   "metadata": {},
   "source": [],
   "outputs": []
  },
  {
   "cell_type": "code",
   "execution_count": null,
   "id": "058652c6-2429-497a-9636-e4ee85bd846a",
   "metadata": {},
   "source": [],
   "outputs": []
  },
  {
   "cell_type": "code",
   "execution_count": null,
   "id": "76076e79-9ecb-415c-8f70-e6e22e05ffa6",
   "metadata": {},
   "source": [],
   "outputs": []
  },
  {
   "cell_type": "code",
   "execution_count": null,
   "id": "a259ffa2-7a6f-4e6a-8d26-dea6aa1d4df9",
   "metadata": {},
   "source": [],
   "outputs": []
  }
 ],
 "metadata": {
  "kernelspec": {
   "display_name": "Python 3 (ipykernel)",
   "language": "python",
   "name": "python3"
  },
  "language_info": {
   "codemirror_mode": {
    "name": "ipython",
    "version": 3
   },
   "file_extension": ".py",
   "mimetype": "text/x-python",
   "name": "python",
   "nbconvert_exporter": "python",
   "pygments_lexer": "ipython3",
   "version": "3.10.14"
  }
 },
 "nbformat": 4,
 "nbformat_minor": 5
}

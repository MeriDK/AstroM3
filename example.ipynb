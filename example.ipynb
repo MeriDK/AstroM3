{
 "cells": [
  {
   "cell_type": "code",
   "execution_count": 11,
   "id": "b63dab43-0daa-4b1e-8397-f00c453edd69",
   "metadata": {},
   "outputs": [],
   "source": [
    "import torch\n",
    "import torch.nn as nn\n",
    "from torch.optim import AdamW\n",
    "from torch.utils.data import DataLoader\n",
    "from transformers import TimeSeriesTransformerConfig, TimeSeriesTransformerForPrediction\n",
    "\n",
    "from core.dataset import MachoDataset\n",
    "from core.trainer import PredictionTrainer, ClassificationTrainer\n",
    "from core.model import ClassificationModel"
   ]
  },
  {
   "cell_type": "markdown",
   "id": "856c2a49-ab93-407e-b3a3-3a5d77ca4109",
   "metadata": {},
   "source": [
    "### Data setup"
   ]
  },
  {
   "cell_type": "code",
   "execution_count": 2,
   "id": "cbc969b9-942f-42a5-b306-86e8e07c59ff",
   "metadata": {},
   "outputs": [],
   "source": [
    "data_root = '/home/mrizhko/AML/AstroML/data/macho/'\n",
    "weights_path = 'weights/model.ckpt'\n",
    "window_length = 200\n",
    "prediction_length = 20"
   ]
  },
  {
   "cell_type": "code",
   "execution_count": 3,
   "id": "5dd46198-2ccf-405d-a67b-e38906f012ef",
   "metadata": {},
   "outputs": [
    {
     "data": {
      "text/plain": [
       "device(type='cuda')"
      ]
     },
     "execution_count": 3,
     "metadata": {},
     "output_type": "execute_result"
    }
   ],
   "source": [
    "device = torch.device('cuda' if torch.cuda.is_available() else 'cpu')\n",
    "device"
   ]
  },
  {
   "cell_type": "code",
   "execution_count": 4,
   "id": "7db26532-44b2-4865-87ec-943fc91efe05",
   "metadata": {},
   "outputs": [],
   "source": [
    "train_dataset = MachoDataset(data_root, prediction_length, mode='train')\n",
    "val_dataset = MachoDataset(data_root, prediction_length, mode='val')\n",
    "test_dataset = MachoDataset(data_root, prediction_length, mode='test')"
   ]
  },
  {
   "cell_type": "code",
   "execution_count": 5,
   "id": "f090303d-c498-49c4-b7e1-90022e51edf2",
   "metadata": {},
   "outputs": [],
   "source": [
    "train_dataloader = DataLoader(train_dataset, batch_size=256, shuffle=True)\n",
    "val_dataloader = DataLoader(val_dataset, batch_size=256, shuffle=False)\n",
    "test_dataloader = DataLoader(test_dataset, batch_size=256, shuffle=False)"
   ]
  },
  {
   "cell_type": "markdown",
   "id": "b22b226e-18fb-4d69-9464-3aa24f73fae1",
   "metadata": {},
   "source": [
    "### Train prediction model"
   ]
  },
  {
   "cell_type": "code",
   "execution_count": 37,
   "id": "7715c187-c8a1-4773-b76e-531659fdc4b2",
   "metadata": {},
   "outputs": [],
   "source": [
    "config = TimeSeriesTransformerConfig(\n",
    "    prediction_length=prediction_length,\n",
    "    context_length=window_length - prediction_length - 7,  # 7 is max(lags) for default lags\n",
    "    num_time_features=1,\n",
    "    encoder_layers=2,\n",
    "    decoder_layers=2,\n",
    "    d_model=64,\n",
    ")"
   ]
  },
  {
   "cell_type": "code",
   "execution_count": 38,
   "id": "60485086-4a6e-47a2-b62e-7da37902abe7",
   "metadata": {},
   "outputs": [],
   "source": [
    "model = TimeSeriesTransformerForPrediction(config)\n",
    "model = model.to(device)"
   ]
  },
  {
   "cell_type": "code",
   "execution_count": 39,
   "id": "f1bbb7bd-718e-4bdb-90a5-4e042d8f2284",
   "metadata": {},
   "outputs": [],
   "source": [
    "optimizer = AdamW(model.parameters(), lr=6e-4, betas=(0.9, 0.95), weight_decay=1e-1)"
   ]
  },
  {
   "cell_type": "code",
   "execution_count": 40,
   "id": "0218b7f6-cd84-4bb8-a3ba-213b3d3669dc",
   "metadata": {},
   "outputs": [],
   "source": [
    "prediction_trainer = PredictionTrainer(model=model, optimizer=optimizer, device=device)"
   ]
  },
  {
   "cell_type": "code",
   "execution_count": 41,
   "id": "b5912168-fd33-46b6-b306-5b42af07794f",
   "metadata": {},
   "outputs": [
    {
     "name": "stdout",
     "output_type": "stream",
     "text": [
      "Epoch 0: Train Loss 1.6141 Val Loss 1.4726\n",
      "Epoch 1: Train Loss 1.4761 Val Loss 1.4228\n",
      "Epoch 2: Train Loss 1.437 Val Loss 1.3871\n",
      "Epoch 3: Train Loss 1.4152 Val Loss 1.3864\n",
      "Epoch 4: Train Loss 1.3994 Val Loss 1.3647\n",
      "Epoch 5: Train Loss 1.3831 Val Loss 1.3433\n",
      "Epoch 6: Train Loss 1.3784 Val Loss 1.3359\n",
      "Epoch 7: Train Loss 1.3667 Val Loss 1.3334\n",
      "Epoch 8: Train Loss 1.357 Val Loss 1.3292\n",
      "Epoch 9: Train Loss 1.3515 Val Loss 1.3101\n",
      "Epoch 10: Train Loss 1.345 Val Loss 1.303\n",
      "Epoch 11: Train Loss 1.3328 Val Loss 1.2966\n",
      "Epoch 12: Train Loss 1.3404 Val Loss 1.2885\n",
      "Epoch 13: Train Loss 1.321 Val Loss 1.2835\n",
      "Epoch 14: Train Loss 1.3192 Val Loss 1.2918\n",
      "Epoch 15: Train Loss 1.3171 Val Loss 1.2864\n",
      "Epoch 16: Train Loss 1.311 Val Loss 1.2894\n",
      "Epoch 17: Train Loss 1.3057 Val Loss 1.2847\n",
      "Epoch 18: Train Loss 1.3083 Val Loss 1.2809\n",
      "Epoch 19: Train Loss 1.3112 Val Loss 1.2664\n"
     ]
    }
   ],
   "source": [
    "prediction_trainer.train(train_dataloader, val_dataloader, epochs=20)"
   ]
  },
  {
   "cell_type": "code",
   "execution_count": 43,
   "id": "ed58a7fb-430e-4694-acfa-88b18a2e557c",
   "metadata": {},
   "outputs": [],
   "source": [
    "prediction_trainer.model.save_pretrained(weights_path)"
   ]
  },
  {
   "cell_type": "markdown",
   "id": "79ef3175-d1fc-42b0-831c-834109d35c83",
   "metadata": {},
   "source": [
    "### Evaluate the pretrained model"
   ]
  },
  {
   "cell_type": "code",
   "execution_count": 6,
   "id": "3e29169f-e893-4d5e-9018-7a5546300300",
   "metadata": {},
   "outputs": [],
   "source": [
    "model = TimeSeriesTransformerForPrediction.from_pretrained(weights_path)\n",
    "model = model.to(device)"
   ]
  },
  {
   "cell_type": "code",
   "execution_count": 7,
   "id": "92940c10-01f0-48c2-94de-bcc1c57274e1",
   "metadata": {},
   "outputs": [],
   "source": [
    "prediction_trainer = PredictionTrainer(model=model, optimizer=None, device=device)"
   ]
  },
  {
   "cell_type": "code",
   "execution_count": 8,
   "id": "a60e4b7e-6557-4bc3-8b7a-82be35b253f9",
   "metadata": {},
   "outputs": [],
   "source": [
    "val_dataloader = DataLoader(val_dataset, batch_size=124, shuffle=False)"
   ]
  },
  {
   "cell_type": "code",
   "execution_count": 9,
   "id": "eef5c187-a212-4f50-a7c1-df151c6e6c9f",
   "metadata": {},
   "outputs": [
    {
     "name": "stderr",
     "output_type": "stream",
     "text": [
      "100%|█████████████████████████████████████████| 130/130 [02:25<00:00,  1.12s/it]\n",
      "100%|█████████████████████████████████████| 16028/16028 [06:27<00:00, 41.40it/s]"
     ]
    },
    {
     "name": "stdout",
     "output_type": "stream",
     "text": [
      "MASE: 0.8835637644970156 sMAPE: 0.8496397286677474\n"
     ]
    },
    {
     "name": "stderr",
     "output_type": "stream",
     "text": [
      "\n"
     ]
    }
   ],
   "source": [
    "prediction_trainer.evaluate(val_dataloader, val_dataset)"
   ]
  },
  {
   "cell_type": "markdown",
   "id": "63c8e24c-73f2-46df-bb3b-b683be52f457",
   "metadata": {},
   "source": [
    "### Classification training"
   ]
  },
  {
   "cell_type": "code",
   "execution_count": 12,
   "id": "5a300289-8f93-4470-9226-818833b25360",
   "metadata": {},
   "outputs": [],
   "source": [
    "cl_model = ClassificationModel(pretrained_model_path=weights_path, device=device)\n",
    "cl_optimizer = AdamW(cl_model.parameters(), lr=6e-4, betas=(0.9, 0.95), weight_decay=1e-1)\n",
    "cl_criterion = nn.CrossEntropyLoss()"
   ]
  },
  {
   "cell_type": "code",
   "execution_count": 13,
   "id": "54365524-9b08-40dc-af87-da7ecda1c389",
   "metadata": {},
   "outputs": [],
   "source": [
    "cl_trainer = ClassificationTrainer(model=cl_model, optimizer=cl_optimizer, criterion=cl_criterion, device=device)"
   ]
  },
  {
   "cell_type": "code",
   "execution_count": 14,
   "id": "eae87fa0-01ec-497d-ac66-4c8697756a31",
   "metadata": {},
   "outputs": [
    {
     "name": "stdout",
     "output_type": "stream",
     "text": [
      "Epoch 0: Train Loss 1.27 \t Val Loss 1.0408 \t                     Train Acc 0.5421 \t Val Acc 0.6186\n",
      "Epoch 1: Train Loss 1.076 \t Val Loss 0.9685 \t                     Train Acc 0.5974 \t Val Acc 0.6432\n",
      "Epoch 2: Train Loss 1.0213 \t Val Loss 0.9385 \t                     Train Acc 0.6211 \t Val Acc 0.6562\n",
      "Epoch 3: Train Loss 0.9797 \t Val Loss 0.8865 \t                     Train Acc 0.6414 \t Val Acc 0.6792\n",
      "Epoch 4: Train Loss 0.9495 \t Val Loss 0.8672 \t                     Train Acc 0.6532 \t Val Acc 0.6957\n",
      "Epoch 5: Train Loss 0.9471 \t Val Loss 0.8581 \t                     Train Acc 0.6537 \t Val Acc 0.6962\n",
      "Epoch 6: Train Loss 0.9214 \t Val Loss 0.8444 \t                     Train Acc 0.6664 \t Val Acc 0.7088\n",
      "Epoch 7: Train Loss 0.9157 \t Val Loss 0.8263 \t                     Train Acc 0.6695 \t Val Acc 0.7125\n",
      "Epoch 8: Train Loss 0.9181 \t Val Loss 0.8219 \t                     Train Acc 0.6692 \t Val Acc 0.7131\n",
      "Epoch 9: Train Loss 0.8828 \t Val Loss 0.7955 \t                     Train Acc 0.6826 \t Val Acc 0.7286\n",
      "Epoch 10: Train Loss 0.8957 \t Val Loss 0.7912 \t                     Train Acc 0.6767 \t Val Acc 0.724\n",
      "Epoch 11: Train Loss 0.8729 \t Val Loss 0.7846 \t                     Train Acc 0.6881 \t Val Acc 0.7297\n",
      "Epoch 12: Train Loss 0.8494 \t Val Loss 0.7739 \t                     Train Acc 0.6969 \t Val Acc 0.7333\n",
      "Epoch 13: Train Loss 0.8398 \t Val Loss 0.7781 \t                     Train Acc 0.7027 \t Val Acc 0.7324\n",
      "Epoch 14: Train Loss 0.8497 \t Val Loss 0.7684 \t                     Train Acc 0.697 \t Val Acc 0.7342\n",
      "Epoch 15: Train Loss 0.8468 \t Val Loss 0.7592 \t                     Train Acc 0.6988 \t Val Acc 0.7424\n",
      "Epoch 16: Train Loss 0.8587 \t Val Loss 0.7611 \t                     Train Acc 0.692 \t Val Acc 0.7355\n",
      "Epoch 17: Train Loss 0.8366 \t Val Loss 0.7491 \t                     Train Acc 0.7009 \t Val Acc 0.7434\n",
      "Epoch 18: Train Loss 0.8256 \t Val Loss 0.7461 \t                     Train Acc 0.7058 \t Val Acc 0.7438\n",
      "Epoch 19: Train Loss 0.8218 \t Val Loss 0.7402 \t                     Train Acc 0.7085 \t Val Acc 0.7479\n"
     ]
    }
   ],
   "source": [
    "cl_trainer.train(train_dataloader, val_dataloader, epochs=20)"
   ]
  },
  {
   "cell_type": "code",
   "execution_count": 15,
   "id": "7d59e27e-4991-4bcb-8b79-1689ea65a50b",
   "metadata": {},
   "outputs": [
    {
     "data": {
      "image/png": "[encoded data removed]",
      "text/plain": [
       "<Figure size 1000x700 with 2 Axes>"
      ]
     },
     "metadata": {},
     "output_type": "display_data"
    }
   ],
   "source": [
    "cl_trainer.evaluate(val_dataloader)"
   ]
  },
  {
   "cell_type": "code",
   "execution_count": null,
   "id": "227bb6dd-c3e3-4a91-a474-d5f5e3e936e0",
   "metadata": {},
   "outputs": [],
   "source": []
  },
  {
   "cell_type": "code",
   "execution_count": null,
   "id": "e7813e4e-df88-499e-982c-60a77c7b9581",
   "metadata": {},
   "outputs": [],
   "source": []
  },
  {
   "cell_type": "code",
   "execution_count": null,
   "id": "3cabd6db-78bf-4f05-8b6b-e5c28562fd5c",
   "metadata": {},
   "outputs": [],
   "source": []
  },
  {
   "cell_type": "code",
   "execution_count": null,
   "id": "1f4ce308-b1dd-402d-be63-ec5012d7a68a",
   "metadata": {},
   "outputs": [],
   "source": []
  },
  {
   "cell_type": "code",
   "execution_count": null,
   "id": "c56527a9-eee5-47af-b797-68888af85a9f",
   "metadata": {},
   "outputs": [],
   "source": []
  },
  {
   "cell_type": "code",
   "execution_count": null,
   "id": "343fb4f9-4c2f-40da-a822-35d2bb5dceb5",
   "metadata": {},
   "outputs": [],
   "source": []
  },
  {
   "cell_type": "code",
   "execution_count": null,
   "id": "d56df2fb-96f1-477a-8936-925737dd82c3",
   "metadata": {},
   "outputs": [],
   "source": []
  }
 ],
 "metadata": {
  "kernelspec": {
   "display_name": "Python 3 (ipykernel)",
   "language": "python",
   "name": "python3"
  },
  "language_info": {
   "codemirror_mode": {
    "name": "ipython",
    "version": 3
   },
   "file_extension": ".py",
   "mimetype": "text/x-python",
   "name": "python",
   "nbconvert_exporter": "python",
   "pygments_lexer": "ipython3",
   "version": "3.10.12"
  }
 },
 "nbformat": 4,
 "nbformat_minor": 5
}
